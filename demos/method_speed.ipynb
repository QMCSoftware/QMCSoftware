{
 "cells": [
  {
   "cell_type": "code",
   "execution_count": 2,
   "metadata": {},
   "outputs": [],
   "source": [
    "import qmcpy as qp\n",
    "import numpy as np\n",
    "from numpy import *\n",
    "import pandas as pd\n",
    "import time\n",
    "import matplotlib.pyplot as plt\n",
    "import concurrent.futures\n",
    "import cProfile\n",
    "import pstats\n",
    "from functools import partial\n"
   ]
  },
  {
   "cell_type": "code",
   "execution_count": 3,
   "metadata": {},
   "outputs": [],
   "source": [
    "def gen_point(i, n, gen_vec):\n",
    "    try:\n",
    "        result = ((i * gen_vec) % n) / float(n)\n",
    "        return result\n",
    "    except Exception as e:\n",
    "        print(f\"Exception in worker process: {e}\")\n",
    "        return None\n",
    "def gen_block_points(m, gen_vec):\n",
    "        \"\"\" Generate a block of points. \"\"\"\n",
    "        n = 2 ** m\n",
    "        return [gen_point(i, n, gen_vec) for i in np.arange(1, n + 1, 2)]\n",
    "def improved_gen_block(m, gen_vec):\n",
    "        n = 2 ** m\n",
    "        i = [i  for i in np.arange(1, n + 1, 2)]\n",
    "        n = [n] * (len(i))\n",
    "        vec = [gen_vec] * (len(i))\n",
    "        with concurrent.futures.ProcessPoolExecutor() as executor:                              \n",
    "                results = list(executor.map(gen_point, zip(i, n, vec)))\n",
    "        return results\n"
   ]
  },
  {
   "cell_type": "code",
   "execution_count": 4,
   "metadata": {},
   "outputs": [
    {
     "name": "stdout",
     "output_type": "stream",
     "text": [
      "8\n",
      "1.0\n",
      "4.0\n"
     ]
    },
    {
     "data": {
      "text/plain": [
       "array([0])"
      ]
     },
     "execution_count": 4,
     "metadata": {},
     "output_type": "execute_result"
    }
   ],
   "source": [
    "x = qp.Lattice(1,order=\"linear\",generating_vector=24).gen(2,16)\n",
    "print(len(x))\n",
    "print(np.floor(np.log2(2)))\n",
    "print(np.ceil(np.log2(16)))\n",
    "arange(1, )\n",
    "\n"
   ]
  },
  {
   "cell_type": "code",
   "execution_count": 5,
   "metadata": {},
   "outputs": [],
   "source": [
    "def calculate_y( m_low, m_high, y):\n",
    "    for m in range(m_low, m_high):\n",
    "        n = 2 ** m\n",
    "        y_next = np.arange(1 / n, 1, 2 / n).reshape((int(n / 2), 1))\n",
    "        temp = zeros((n, 1))\n",
    "        temp[0::2] = y\n",
    "        temp[1::2] = y_next\n",
    "        y = temp\n",
    "    return y"
   ]
  },
  {
   "cell_type": "code",
   "execution_count": 16,
   "metadata": {},
   "outputs": [
    {
     "name": "stdout",
     "output_type": "stream",
     "text": [
      "[[0.    0.   ]\n",
      " [0.5   0.5  ]\n",
      " [0.25  0.75 ]\n",
      " [0.75  0.25 ]\n",
      " [0.125 0.375]]\n",
      "[[0.    0.   ]\n",
      " [0.5   0.5  ]\n",
      " [0.25  0.75 ]\n",
      " [0.75  0.25 ]\n",
      " [0.125 0.375]]\n"
     ]
    }
   ],
   "source": [
    "x = qp.Lattice(2,randomize=False).gen_samples(5)\n",
    "y = qp.Lattice(2,randomize=False).gen_samples(5)\n",
    "print(x)\n",
    "\n",
    "print(y)"
   ]
  },
  {
   "cell_type": "code",
   "execution_count": null,
   "metadata": {},
   "outputs": [],
   "source": []
  }
 ],
 "metadata": {
  "kernelspec": {
   "display_name": "qmcpy",
   "language": "python",
   "name": "python3"
  },
  "language_info": {
   "codemirror_mode": {
    "name": "ipython",
    "version": 3
   },
   "file_extension": ".py",
   "mimetype": "text/x-python",
   "name": "python",
   "nbconvert_exporter": "python",
   "pygments_lexer": "ipython3",
   "version": "3.9.13"
  }
 },
 "nbformat": 4,
 "nbformat_minor": 2
}
