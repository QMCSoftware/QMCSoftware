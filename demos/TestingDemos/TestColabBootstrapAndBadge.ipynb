{
 "cells": [
  {
   "cell_type": "markdown",
   "id": "8bf40480-7b46-4d61-b6e5-30d7333f5668",
   "metadata": {},
   "source": [
    "# Test Colab Bootstrap and Badge\n",
    "This demos some code to facilitate running notebooks in Colab rather than a conda environment"
   ]
  },
  {
   "cell_type": "code",
   "execution_count": 1,
   "id": "3a03824c",
   "metadata": {
    "execution": {
     "iopub.execute_input": "2025-08-09T19:23:29.072545Z",
     "iopub.status.busy": "2025-08-09T19:23:29.072045Z",
     "iopub.status.idle": "2025-08-09T19:23:29.144576Z",
     "shell.execute_reply": "2025-08-09T19:23:29.144172Z",
     "shell.execute_reply.started": "2025-08-09T19:23:29.072516Z"
    }
   },
   "outputs": [],
   "source": [
    "# --- One first cell for VS Code, JupyterLab Desktop, and Colab ---\n",
    "import os, sys, subprocess, importlib, pathlib, re\n",
    "\n",
    "# 0) Notebook path (keeps badge correct) — relative to repo root\n",
    "os.environ[\"NB_PATH\"] = \"demos/TestingDemos/TestColabBootstrapAndBadge.ipynb\"\n",
    "os.environ[\"NOTEBOOK_HEADER_AUTORUN\"] = \"0\"  # we call main() explicitly\n",
    "\n",
    "# Helper: parse org/repo from a git remote URL\n",
    "def _parse_org_repo(url: str):\n",
    "    m = re.search(r\"[:/](?P<org>[^/]+)/(?P<repo>[^/\\\\.]+)(?:\\\\.git)?$\", url or \"\")\n",
    "    return (m.group(\"org\"), m.group(\"repo\")) if m else (None, None)\n",
    "\n",
    "# 1) Try to detect org/repo from local git (works in VS Code + JupyterLab Desktop)\n",
    "ORG = os.environ.get(\"BOOT_ORG\")\n",
    "REPO = os.environ.get(\"BOOT_REPO\")\n",
    "if not (ORG and REPO):\n",
    "    try:\n",
    "        remote = subprocess.check_output(\n",
    "            [\"git\", \"config\", \"--get\", \"remote.origin.url\"], text=True\n",
    "        ).strip()\n",
    "        ORG, REPO = _parse_org_repo(remote)\n",
    "    except Exception:\n",
    "        ORG = REPO = None\n",
    "\n",
    "# 2) If we're in Colab and still don't know org/repo, try to infer; else fall back\n",
    "IN_COLAB = (\"COLAB_RELEASE_TAG\" in os.environ) or (\"COLAB_GPU\" in os.environ)\n",
    "if IN_COLAB and not (ORG and REPO):\n",
    "    # Try a few heuristics; if none work, default to QMCSoftware/QMCSoftware.\n",
    "    # You can always override by setting BOOT_ORG/BOOT_REPO above.\n",
    "    # Heuristic A: sometimes Colab exposes the notebook URL\n",
    "    ORG = ORG or os.environ.get(\"COLAB_GITHUB_ORG\")\n",
    "    REPO = REPO or os.environ.get(\"COLAB_GITHUB_REPO\")\n",
    "    if not (ORG and REPO):\n",
    "        ORG, REPO = \"QMCSoftware\", \"QMCSoftware\"\n",
    "\n",
    "# 3) Colab: clone if needed; Local: use repo_root\n",
    "if IN_COLAB:\n",
    "    repo_dir = f\"/content/{REPO}\"\n",
    "    if not pathlib.Path(repo_dir).exists():\n",
    "        branch = os.environ.get(\"BOOT_BRANCH\", \"bootstrap_colab\")\n",
    "        subprocess.check_call([\n",
    "            \"git\", \"clone\", \"--depth\", \"1\", \"--recurse-submodules\",\n",
    "            \"-b\", branch, f\"https://github.com/{ORG}/{REPO}.git\", repo_dir\n",
    "        ])\n",
    "    sys.path.insert(0, os.path.join(repo_dir, \"utils\"))\n",
    "    try: os.chdir(repo_dir)\n",
    "    except Exception: pass\n",
    "else:\n",
    "    repo_root = subprocess.check_output(\n",
    "        [\"git\", \"rev-parse\", \"--show-toplevel\"], text=True\n",
    "    ).strip()\n",
    "    sys.path.insert(0, os.path.join(repo_root, \"utils\"))\n",
    "\n",
    "# 4) Import the header and run (quiet by default)\n",
    "import notebook_header\n",
    "importlib.reload(notebook_header)\n",
    "notebook_header.main(force=True)  # quiet=True is the default"
   ]
  },
  {
   "cell_type": "code",
   "execution_count": 2,
   "id": "be7d5252",
   "metadata": {
    "execution": {
     "iopub.execute_input": "2025-08-09T19:23:29.145593Z",
     "iopub.status.busy": "2025-08-09T19:23:29.145471Z",
     "iopub.status.idle": "2025-08-09T19:23:29.147861Z",
     "shell.execute_reply": "2025-08-09T19:23:29.147489Z",
     "shell.execute_reply.started": "2025-08-09T19:23:29.145581Z"
    }
   },
   "outputs": [],
   "source": [
    "# Optional: turn LaTeX on before running the header in Colab\n",
    "# %env USE_TEX=1\n",
    "# (Re-run the first cell afterwards to apply it)"
   ]
  },
  {
   "cell_type": "code",
   "execution_count": 3,
   "id": "c03dbd41",
   "metadata": {
    "execution": {
     "iopub.execute_input": "2025-08-09T19:23:29.148675Z",
     "iopub.status.busy": "2025-08-09T19:23:29.148383Z",
     "iopub.status.idle": "2025-08-09T19:23:30.775357Z",
     "shell.execute_reply": "2025-08-09T19:23:30.775058Z",
     "shell.execute_reply.started": "2025-08-09T19:23:29.148661Z"
    }
   },
   "outputs": [
    {
     "name": "stdout",
     "output_type": "stream",
     "text": [
      "usetex? False\n",
      "[[0.76667656 0.24678593 0.7016462 ]\n",
      " [0.44981837 0.77509081 0.08821289]\n",
      " [0.71823006 0.63537437 0.47070815]\n",
      " [0.00290376 0.35899163 0.86539263]\n",
      " [0.88535014 0.95662251 0.9773147 ]\n",
      " [0.3350515  0.05328677 0.37199788]\n",
      " [0.56737187 0.41185852 0.19210877]\n",
      " [0.14985523 0.56321016 0.57867439]]\n"
     ]
    }
   ],
   "source": [
    "# ---- Sanity check: matplotlib mode ----\n",
    "import matplotlib as mpl\n",
    "print(\"usetex?\", mpl.rcParams.get(\"text.usetex\"))\n",
    "\n",
    "# ---- Sanity check: qmcpy ----\n",
    "import qmcpy as qp\n",
    "print(qp.Sobol(3).gen_samples(8))"
   ]
  },
  {
   "cell_type": "code",
   "execution_count": null,
   "id": "13cd38c2",
   "metadata": {},
   "outputs": [],
   "source": []
  }
 ],
 "metadata": {
  "kernelspec": {
   "display_name": "qmcpy",
   "language": "python",
   "name": "python3"
  },
  "language_info": {
   "codemirror_mode": {
    "name": "ipython",
    "version": 3
   },
   "file_extension": ".py",
   "mimetype": "text/x-python",
   "name": "python",
   "nbconvert_exporter": "python",
   "pygments_lexer": "ipython3",
   "version": "3.9.13"
  }
 },
 "nbformat": 4,
 "nbformat_minor": 5
}
