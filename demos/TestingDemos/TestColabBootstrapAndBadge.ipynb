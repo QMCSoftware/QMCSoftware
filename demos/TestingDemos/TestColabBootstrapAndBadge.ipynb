{
 "cells": [
  {
   "cell_type": "markdown",
   "id": "8bf40480-7b46-4d61-b6e5-30d7333f5668",
   "metadata": {},
   "source": [
    "# Test Colab Bootstrap and Badge\n",
    "This demos some code to facilitate running notebooks in Colab rather than a conda environment.\n",
    "\n",
    "Run the next two cells for set up."
   ]
  },
  {
   "cell_type": "code",
   "execution_count": 2,
   "id": "b19a6f71",
   "metadata": {},
   "outputs": [
    {
     "data": {
      "text/html": [
       "If you are not running this notebook in the <code>conda qmcpy</code> environment, <a target=\"_blank\" href=\"https://colab.research.google.com/github/QMCSoftware/QMCSoftware/blob/bootstrap_colab/demos/TestingDemos/TestColabBootstrapAndBadge.ipynb\"><img src=\"https://colab.research.google.com/assets/colab-badge.svg\" alt=\"Open In Colab\"/></a>, otherwise continue to the next cell for setup."
      ],
      "text/plain": [
       "<IPython.core.display.HTML object>"
      ]
     },
     "metadata": {},
     "output_type": "display_data"
    }
   ],
   "source": [
    "# Compact unified first cell (local + Colab) — no double badge\n",
    "import os, sys, subprocess, pathlib\n",
    "\n",
    "# Notebook path (relative to repo root)\n",
    "os.environ[\"NB_PATH\"] = \"demos/TestingDemos/TestColabBootstrapAndBadge.ipynb\"\n",
    "# Disable autorun so we control when the badge is rendered\n",
    "os.environ[\"NOTEBOOK_HEADER_AUTORUN\"] = \"0\"\n",
    "\n",
    "IN_COLAB = (\"COLAB_RELEASE_TAG\" in os.environ) or (\"COLAB_GPU\" in os.environ)\n",
    "\n",
    "if IN_COLAB:\n",
    "    ORG  = os.environ.get(\"BOOT_ORG\",  \"QMCSoftware\")\n",
    "    REPO = os.environ.get(\"BOOT_REPO\", \"QMCSoftware\")\n",
    "    BRANCH = os.environ.get(\"BOOT_BRANCH\", \"bootstrap_colab\")\n",
    "    repo_dir = pathlib.Path(f\"/content/{REPO}\")\n",
    "    if not repo_dir.exists():\n",
    "        subprocess.check_call([\n",
    "            \"git\",\"clone\",\"--depth\",\"1\",\"--recurse-submodules\",\n",
    "            \"-b\", BRANCH, f\"https://github.com/{ORG}/{REPO}.git\", str(repo_dir)\n",
    "        ])\n",
    "    sys.path.insert(0, str(repo_dir / \"utils\"))\n",
    "    try: os.chdir(repo_dir)\n",
    "    except Exception: pass\n",
    "else:\n",
    "    repo_root = subprocess.check_output(\n",
    "        [\"git\",\"rev-parse\",\"--show-toplevel\"], text=True\n",
    "    ).strip()\n",
    "    sys.path.insert(0, repo_root + \"/utils\")\n",
    "\n",
    "import notebook_header\n",
    "notebook_header.main()  # one badge per run; re-renders on re-run"
   ]
  },
  {
   "cell_type": "code",
   "execution_count": 2,
   "id": "be7d5252",
   "metadata": {
    "execution": {
     "iopub.execute_input": "2025-08-09T20:35:05.163005Z",
     "iopub.status.busy": "2025-08-09T20:35:05.162818Z",
     "iopub.status.idle": "2025-08-09T20:35:05.164867Z",
     "shell.execute_reply": "2025-08-09T20:35:05.164617Z",
     "shell.execute_reply.started": "2025-08-09T20:35:05.162988Z"
    }
   },
   "outputs": [],
   "source": [
    "# Optional: turn LaTeX on before running the header in Colab\n",
    "# %env USE_TEX=1\n",
    "# (Re-run the first cell afterwards to apply it)"
   ]
  },
  {
   "cell_type": "code",
   "execution_count": 3,
   "id": "c03dbd41",
   "metadata": {
    "execution": {
     "iopub.execute_input": "2025-08-09T20:35:05.165264Z",
     "iopub.status.busy": "2025-08-09T20:35:05.165175Z",
     "iopub.status.idle": "2025-08-09T20:35:06.870235Z",
     "shell.execute_reply": "2025-08-09T20:35:06.869890Z",
     "shell.execute_reply.started": "2025-08-09T20:35:05.165254Z"
    }
   },
   "outputs": [
    {
     "name": "stdout",
     "output_type": "stream",
     "text": [
      "usetex? False\n",
      "[[0.20274731 0.75603777 0.42146013]\n",
      " [0.87379103 0.46270154 0.93759324]\n",
      " [0.43722866 0.23909574 0.74654417]\n",
      " [0.51455379 0.54219505 0.14452119]\n",
      " [0.049777   0.33732887 0.03952367]\n",
      " [0.87856798 0.88139367 0.57026546]\n",
      " [0.31529473 0.66757199 0.8707191 ]\n",
      " [0.73780609 0.1137364  0.26961719]]\n"
     ]
    }
   ],
   "source": [
    "# ---- Sanity check: matplotlib mode ----\n",
    "import matplotlib as mpl\n",
    "print(\"usetex?\", mpl.rcParams.get(\"text.usetex\"))\n",
    "\n",
    "# ---- Sanity check: qmcpy ----\n",
    "import qmcpy as qp\n",
    "print(qp.Sobol(3).gen_samples(8))"
   ]
  },
  {
   "cell_type": "code",
   "execution_count": null,
   "id": "13cd38c2",
   "metadata": {},
   "outputs": [],
   "source": []
  }
 ],
 "metadata": {
  "kernelspec": {
   "display_name": "Python 3 (ipykernel)",
   "language": "python",
   "name": "python3"
  },
  "language_info": {
   "codemirror_mode": {
    "name": "ipython",
    "version": 3
   },
   "file_extension": ".py",
   "mimetype": "text/x-python",
   "name": "python",
   "nbconvert_exporter": "python",
   "pygments_lexer": "ipython3",
   "version": "3.9.13"
  }
 },
 "nbformat": 4,
 "nbformat_minor": 5
}
