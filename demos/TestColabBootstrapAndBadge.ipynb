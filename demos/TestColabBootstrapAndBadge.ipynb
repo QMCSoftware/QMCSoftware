{
 "cells": [
  {
   "cell_type": "markdown",
   "id": "8bf40480-7b46-4d61-b6e5-30d7333f5668",
   "metadata": {},
   "source": [
    "# Test Colab Bootstrap and Badge\n",
    "This demos some code to facilitate running notebooks in Colab rather than a conda environment"
   ]
  },
  {
   "cell_type": "code",
   "execution_count": 12,
   "id": "3a03824c",
   "metadata": {},
   "outputs": [
    {
     "data": {
      "text/html": [
       "\n",
       "    <div style=\"margin:1em 0\">\n",
       "      <a href=\"https://colab.research.google.com/github/QMCSoftware/QMCSoftware/blob/bootstrap_colab/demos/TestColabBootstrapAndBadge.ipynb\">\n",
       "        <img src=\"https://colab.research.google.com/assets/colab-badge.svg\" alt=\"Open in Colab\">\n",
       "      </a>\n",
       "      <div style=\"font-size:0.9em;color:#666;margin-top:0.3em\">Not in a conda env — click to run this notebook on Colab.</div>\n",
       "    </div>"
      ],
      "text/plain": [
       "<IPython.core.display.HTML object>"
      ]
     },
     "metadata": {},
     "output_type": "display_data"
    }
   ],
   "source": [
    "# Path to THIS notebook, relative to the repo root:\n",
    "NB_PATH = \"demos/TestColabBootstrapAndBadge.ipynb\"\n",
    "\n",
    "# Spoof \"not in conda\", then run header in current namespace\n",
    "import os\n",
    "os.environ.pop(\"CONDA_PREFIX\", None)\n",
    "os.environ.pop(\"CONDA_DEFAULT_ENV\", None)\n",
    "\n",
    "\n",
    "try:\n",
    "    %run -i ../utils/notebook_header.py\n",
    "except Exception:\n",
    "    %run -i https://raw.githubusercontent.com/QMCSoftware/QMCSoftware/bootstrap_colab/utils/notebook_header.py"
   ]
  },
  {
   "cell_type": "code",
   "execution_count": 10,
   "id": "be7d5252",
   "metadata": {},
   "outputs": [],
   "source": [
    "# Optional: turn LaTeX on before running the header in Colab\n",
    "# %env USE_TEX=1\n",
    "# (Re-run the first cell afterwards to apply it)"
   ]
  },
  {
   "cell_type": "code",
   "execution_count": 4,
   "id": "c03dbd41",
   "metadata": {},
   "outputs": [
    {
     "name": "stdout",
     "output_type": "stream",
     "text": [
      "usetex? False\n",
      "[[0.2936279  0.28545624 0.26743173]\n",
      " [0.99635639 0.75106168 0.61090542]\n",
      " [0.13210916 0.65646137 0.79654073]\n",
      " [0.5856306  0.13030855 0.07800651]\n",
      " [0.43448756 0.91105824 0.22196142]\n",
      " [0.85547777 0.37666512 0.87793525]\n",
      " [0.02246516 0.03182114 0.71603432]\n",
      " [0.69522489 0.50566595 0.43500027]]\n"
     ]
    }
   ],
   "source": [
    "# ---- Sanity check: matplotlib mode ----\n",
    "import matplotlib as mpl\n",
    "print(\"usetex?\", mpl.rcParams.get(\"text.usetex\"))\n",
    "\n",
    "# ---- Sanity check: qmcpy ----\n",
    "import qmcpy as qp\n",
    "print(qp.Sobol(3).gen_samples(8))"
   ]
  },
  {
   "cell_type": "code",
   "execution_count": null,
   "id": "13cd38c2",
   "metadata": {},
   "outputs": [],
   "source": []
  }
 ],
 "metadata": {
  "kernelspec": {
   "display_name": "qmcpy",
   "language": "python",
   "name": "python3"
  },
  "language_info": {
   "codemirror_mode": {
    "name": "ipython",
    "version": 3
   },
   "file_extension": ".py",
   "mimetype": "text/x-python",
   "name": "python",
   "nbconvert_exporter": "python",
   "pygments_lexer": "ipython3",
   "version": "3.9.13"
  }
 },
 "nbformat": 4,
 "nbformat_minor": 5
}
