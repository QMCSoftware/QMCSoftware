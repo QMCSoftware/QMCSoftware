{
 "cells": [
  {
   "cell_type": "markdown",
   "id": "8bf40480-7b46-4d61-b6e5-30d7333f5668",
   "metadata": {},
   "source": [
    "# Test Colab Bootstrap and Badge\n",
    "This demos some code to facilitate running notebooks in Colab rather than a conda environment"
   ]
  },
  {
   "cell_type": "code",
   "execution_count": null,
   "id": "d49a8366",
   "metadata": {},
   "outputs": [
    {
     "data": {
      "text/html": [
       "\n",
       "    <div style=\"margin:1em 0\">\n",
       "      <a href=\"https://colab.research.google.com/github/QMCSoftware/QMCSoftware/blob/bootstrap_colab/demos/TestColabBootstrapAndBadge.ipynb\" target=\"_blank\" rel=\"noopener\">\n",
       "        <img src=\"https://colab.research.google.com/assets/colab-badge.svg\" alt=\"Open in Colab\">\n",
       "      </a>\n",
       "      <div style=\"font-size:0.9em;color:#666;margin-top:0.3em\">Not in a conda env — click to run this notebook on Colab.</div>\n",
       "    </div>"
      ],
      "text/plain": [
       "<IPython.core.display.HTML object>"
      ]
     },
     "metadata": {},
     "output_type": "display_data"
    }
   ],
   "source": [
    "#This cell puts in the open Colab button\n",
    "import os\n",
    "os.environ.pop(\"CONDA_PREFIX\", None); os.environ.pop(\"CONDA_DEFAULT_ENV\", None)\n",
    "from utils.colab_button import show\n",
    "show(\"QMCSoftware\", \"QMCSoftware\", \"bootstrap_colab\", \"demos/TestColabBootstrapAndBadge.ipynb\") #change to develop branch later"
   ]
  },
  {
   "cell_type": "code",
   "execution_count": null,
   "id": "f7f3b996",
   "metadata": {},
   "outputs": [],
   "source": [
    "# Optional: Turn LaTeX on via env var before running the bootstrap\n",
    "# %env USE_TEX=1\n",
    "\n",
    "# Run shared bootstrap from the repo\n",
    "%run https://raw.githubusercontent.com/QMCSoftware/QMCSoftware/bootstrap_colab/bootstrap_colab.py\n",
    "\n",
    "# Show a conditional Colab button if not in Colab AND not in conda\n",
    "from utils.colab_button import show\n",
    "show(\"QMCSoftware\", \"QMCSoftware\", \"bootstrap_colab\", \"path/to/this_notebook.ipynb\") #change to develop branch later\n",
    "\n",
    "# Quick confirm of matplotlib mode\n",
    "import matplotlib as mpl\n",
    "print(\"usetex?\", mpl.rcParams.get(\"text.usetex\"))"
   ]
  },
  {
   "cell_type": "code",
   "execution_count": 2,
   "id": "c03dbd41",
   "metadata": {},
   "outputs": [
    {
     "name": "stdout",
     "output_type": "stream",
     "text": [
      "[[0.91573091 0.84586634 0.4997253 ]\n",
      " [0.03309284 0.25843633 0.6381323 ]\n",
      " [0.55586204 0.19060411 0.8652396 ]\n",
      " [0.42323946 0.66566838 0.00465464]\n",
      " [0.83626018 0.40624457 0.17898195]\n",
      " [0.20313592 0.9897149  0.94288056]\n",
      " [0.6961143  0.56150012 0.56146874]\n",
      " [0.31300505 0.08246092 0.32442034]]\n"
     ]
    }
   ],
   "source": [
    "import qmcpy as qp\n",
    "x = qp.Sobol(3).gen_samples(8)\n",
    "print(x)"
   ]
  },
  {
   "cell_type": "code",
   "execution_count": null,
   "id": "13cd38c2",
   "metadata": {},
   "outputs": [],
   "source": []
  }
 ],
 "metadata": {
  "kernelspec": {
   "display_name": "qmcpy",
   "language": "python",
   "name": "python3"
  },
  "language_info": {
   "codemirror_mode": {
    "name": "ipython",
    "version": 3
   },
   "file_extension": ".py",
   "mimetype": "text/x-python",
   "name": "python",
   "nbconvert_exporter": "python",
   "pygments_lexer": "ipython3",
   "version": "3.9.13"
  }
 },
 "nbformat": 4,
 "nbformat_minor": 5
}
