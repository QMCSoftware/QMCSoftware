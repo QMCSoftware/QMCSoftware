{
 "cells": [
  {
   "cell_type": "markdown",
   "id": "8bf40480-7b46-4d61-b6e5-30d7333f5668",
   "metadata": {},
   "source": [
    "# Test Colab Bootstrap and Badge\n",
    "This demos some code to facilitate running notebooks in Colab rather than a conda environment"
   ]
  },
  {
   "cell_type": "code",
   "execution_count": 2,
   "id": "3a03824c",
   "metadata": {},
   "outputs": [
    {
     "name": "stdout",
     "output_type": "stream",
     "text": [
      "[notebook_header] Could not determine NB_PATH automatically.\n",
      "  Tip: set an explicit path at the very top of the notebook, then re-run:\n",
      "    NB_PATH = \"relative/path/to/this_notebook.ipynb\"\n",
      "  (from the repo root)\n"
     ]
    }
   ],
   "source": [
    "# --- Test Colab Bootstrap and Badge ---\n",
    "\n",
    "%run ../utils/notebook_header.py"
   ]
  },
  {
   "cell_type": "code",
   "execution_count": 3,
   "id": "be7d5252",
   "metadata": {},
   "outputs": [],
   "source": [
    "# Optional: turn LaTeX on before running the header in Colab\n",
    "# %env USE_TEX=1\n",
    "# (Re-run the first cell afterwards to apply it)"
   ]
  },
  {
   "cell_type": "code",
   "execution_count": 4,
   "id": "c03dbd41",
   "metadata": {},
   "outputs": [
    {
     "name": "stdout",
     "output_type": "stream",
     "text": [
      "usetex? False\n",
      "[[0.70106167 0.72211321 0.09572703]\n",
      " [0.00121576 0.17293052 0.65755281]\n",
      " [0.87539773 0.39860613 0.75029053]\n",
      " [0.32491272 0.94754461 0.44055145]\n",
      " [0.50570708 0.10311833 0.29067093]\n",
      " [0.19631093 0.55854344 0.97945549]\n",
      " [0.82063025 0.76834979 0.57415697]\n",
      " [0.37945134 0.31316899 0.13352986]]\n"
     ]
    }
   ],
   "source": [
    "# ---- Sanity check: matplotlib mode ----\n",
    "import matplotlib as mpl\n",
    "print(\"usetex?\", mpl.rcParams.get(\"text.usetex\"))\n",
    "\n",
    "# ---- Sanity check: qmcpy ----\n",
    "import qmcpy as qp\n",
    "print(qp.Sobol(3).gen_samples(8))"
   ]
  },
  {
   "cell_type": "code",
   "execution_count": null,
   "id": "13cd38c2",
   "metadata": {},
   "outputs": [],
   "source": []
  }
 ],
 "metadata": {
  "kernelspec": {
   "display_name": "qmcpy",
   "language": "python",
   "name": "python3"
  },
  "language_info": {
   "codemirror_mode": {
    "name": "ipython",
    "version": 3
   },
   "file_extension": ".py",
   "mimetype": "text/x-python",
   "name": "python",
   "nbconvert_exporter": "python",
   "pygments_lexer": "ipython3",
   "version": "3.9.13"
  }
 },
 "nbformat": 4,
 "nbformat_minor": 5
}
