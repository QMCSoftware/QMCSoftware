{
 "cells": [
  {
   "cell_type": "markdown",
   "id": "8bf40480-7b46-4d61-b6e5-30d7333f5668",
   "metadata": {},
   "source": [
    "# Test Colab Bootstrap and Badge\n",
    "This demos some code to facilitate running notebooks in Colab rather than a conda environment"
   ]
  },
  {
   "cell_type": "code",
   "execution_count": null,
   "id": "3a03824c",
   "metadata": {},
   "outputs": [],
   "source": [
    "# --- Test Colab Bootstrap and Badge ---\n",
    "\n",
    "%run utils/notebook_header.py"
   ]
  },
  {
   "cell_type": "code",
   "execution_count": null,
   "id": "be7d5252",
   "metadata": {},
   "outputs": [],
   "source": [
    "# Optional: turn LaTeX on before running the header in Colab\n",
    "# %env USE_TEX=1\n",
    "# (Re-run the first cell afterwards to apply it)"
   ]
  },
  {
   "cell_type": "code",
   "execution_count": null,
   "id": "c03dbd41",
   "metadata": {},
   "outputs": [
    {
     "name": "stdout",
     "output_type": "stream",
     "text": [
      "[[0.91573091 0.84586634 0.4997253 ]\n",
      " [0.03309284 0.25843633 0.6381323 ]\n",
      " [0.55586204 0.19060411 0.8652396 ]\n",
      " [0.42323946 0.66566838 0.00465464]\n",
      " [0.83626018 0.40624457 0.17898195]\n",
      " [0.20313592 0.9897149  0.94288056]\n",
      " [0.6961143  0.56150012 0.56146874]\n",
      " [0.31300505 0.08246092 0.32442034]]\n"
     ]
    }
   ],
   "source": [
    "# ---- Sanity check: matplotlib mode ----\n",
    "import matplotlib as mpl\n",
    "print(\"usetex?\", mpl.rcParams.get(\"text.usetex\"))\n",
    "\n",
    "# ---- Sanity check: qmcpy ----\n",
    "import qmcpy as qp\n",
    "print(qp.Sobol(3).gen_samples(8))"
   ]
  },
  {
   "cell_type": "code",
   "execution_count": null,
   "id": "13cd38c2",
   "metadata": {},
   "outputs": [],
   "source": []
  }
 ],
 "metadata": {
  "kernelspec": {
   "display_name": "qmcpy",
   "language": "python",
   "name": "python3"
  },
  "language_info": {
   "codemirror_mode": {
    "name": "ipython",
    "version": 3
   },
   "file_extension": ".py",
   "mimetype": "text/x-python",
   "name": "python",
   "nbconvert_exporter": "python",
   "pygments_lexer": "ipython3",
   "version": "3.9.13"
  }
 },
 "nbformat": 4,
 "nbformat_minor": 5
}
