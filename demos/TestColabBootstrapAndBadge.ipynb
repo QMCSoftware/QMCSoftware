{
 "cells": [
  {
   "cell_type": "markdown",
   "id": "8bf40480-7b46-4d61-b6e5-30d7333f5668",
   "metadata": {},
   "source": [
    "# Test Colab Bootstrap and Badge\n",
    "This demos some code to facilitate running notebooks in Colab rather than a conda environment"
   ]
  },
  {
   "cell_type": "code",
   "execution_count": null,
   "id": "f7f3b996",
   "metadata": {
    "vscode": {
     "languageId": "plaintext"
    }
   },
   "outputs": [],
   "source": [
    "# Optional: Turn LaTeX on via env var before running the bootstrap\n",
    "# %env USE_TEX=1\n",
    "\n",
    "# Run shared bootstrap from the repo\n",
    "%run https://raw.githubusercontent.com/QMCSoftware/QMCSoftware/develop/bootstrap_colab.py\n",
    "\n",
    "# Show a conditional Colab button if not in Colab AND not in conda\n",
    "from utils.colab_button import show\n",
    "show(\"QMCSoftware\", \"QMCSoftware\", \"develop\", \"path/to/this_notebook.ipynb\")\n",
    "\n",
    "# Quick confirm of matplotlib mode\n",
    "import matplotlib as mpl\n",
    "print(\"usetex?\", mpl.rcParams.get(\"text.usetex\"))"
   ]
  },
  {
   "cell_type": "markdown",
   "id": "470362c6",
   "metadata": {},
   "source": [
    "# Optional: Turn LaTeX on via env var before running the bootstrap\n",
    "# %env USE_TEX=1\n",
    "\n",
    "# Run shared bootstrap from the repo\n",
    "%run https://raw.githubusercontent.com/QMCSoftware/QMCSoftware/develop/bootstrap_colab.py\n",
    "\n",
    "# Show a conditional Colab button if not in Colab AND not in conda\n",
    "from utils.colab_button import show\n",
    "show(\"QMCSoftware\", \"QMCSoftware\", \"develop\", \"path/to/this_notebook.ipynb\")\n",
    "\n",
    "# Quick confirm of matplotlib mode\n",
    "import matplotlib as mpl\n",
    "print(\"usetex?\", mpl.rcParams.get(\"text.usetex\"))"
   ]
  }
 ],
 "metadata": {
  "kernelspec": {
   "display_name": "Python 3 (ipykernel)",
   "language": "python",
   "name": "python3"
  },
  "language_info": {
   "codemirror_mode": {
    "name": "ipython",
    "version": 3
   },
   "file_extension": ".py",
   "mimetype": "text/x-python",
   "name": "python",
   "nbconvert_exporter": "python",
   "pygments_lexer": "ipython3",
   "version": "3.9.13"
  }
 },
 "nbformat": 4,
 "nbformat_minor": 5
}
