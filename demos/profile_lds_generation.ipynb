{
 "cells": [
  {
   "cell_type": "markdown",
   "id": "e700ab90",
   "metadata": {},
   "source": [
    "The purpose of this notebook is to showcase some of the most popular profiling tools for Python code and apply it to the lattice point generation in QMCPy."
   ]
  },
  {
   "cell_type": "markdown",
   "id": "b0ef0d37",
   "metadata": {},
   "source": [
    "Author: Sou-Cheng Choi and Joey Coco\n",
    "\n",
    "Date: Aug 26, 2023"
   ]
  },
  {
   "cell_type": "code",
   "execution_count": 1,
   "id": "2314f012",
   "metadata": {},
   "outputs": [],
   "source": [
    "import qmcpy as qp\n",
    "import numpy as np\n",
    "import pandas as pd\n",
    "import time\n",
    "import matplotlib.pyplot as plt"
   ]
  },
  {
   "cell_type": "code",
   "execution_count": 2,
   "id": "49172a34-44a7-466c-aff5-f3bb9721d1de",
   "metadata": {},
   "outputs": [
    {
     "data": {
      "text/plain": [
       "'/Users/terrya/Documents/ProgramData/QMCSoftware/demos'"
      ]
     },
     "execution_count": 2,
     "metadata": {},
     "output_type": "execute_result"
    }
   ],
   "source": [
    "import os\n",
    "cwd = os. getcwd()\n",
    "cwd"
   ]
  },
  {
   "cell_type": "markdown",
   "id": "0b9ef29c-f968-4aa5-8313-96290bf08069",
   "metadata": {},
   "source": [
    "## Define Functions"
   ]
  },
  {
   "cell_type": "code",
   "execution_count": 3,
   "id": "9d9dd2fe-d09d-4ed3-9769-841f7315615a",
   "metadata": {},
   "outputs": [],
   "source": [
    "def gen_points_iid(n, num_ports, seed=None):\n",
    "    \"\"\" generating i.i.d. points \"\"\"\n",
    "    np.random.seed(seed)\n",
    "    # Generate all points randomly from continuous uniform distribution in [0,1)\n",
    "    points = np.random.random((num_ports, n))\n",
    "    return points\n",
    "\n",
    "def gen_points_sobol(n, num_ports, seed=None):\n",
    "    \"\"\" generating randomized Sobol points \"\"\"\n",
    "    ld = qp.Sobol(n, seed=seed)  # define the generator\n",
    "    points = ld.gen_samples(num_ports)  # generate points\n",
    "    return points\n",
    "    \n",
    "def gen_points_lattice(n, num_ports, seed=None):\n",
    "    \"\"\" generating randomized lattice points in serial fashion \"\"\"\n",
    "    l = qp.Lattice(dimension=n, seed=seed, is_parallel=False)\n",
    "    points = l.gen_samples(num_ports) \n",
    "    return points\n",
    "    \n",
    "def gen_points_lattice_parallel(n, num_ports, seed=None):\n",
    "    \"\"\" generating randomized lattice points in parallel fashion \"\"\"\n",
    "    l = qp.Lattice(dimension=n, seed=seed, order='mps', is_parallel=True)\n",
    "    points = l.gen_samples(num_ports)  \n",
    "    return points"
   ]
  },
  {
   "cell_type": "markdown",
   "id": "a9246021",
   "metadata": {},
   "source": [
    "## Using time or timeit magic"
   ]
  },
  {
   "cell_type": "markdown",
   "id": "93a8b16a",
   "metadata": {},
   "source": [
    "`%timeit`: line-magic \n",
    "\n",
    "`%%timeit`: cell-magic \n",
    "\n",
    "`%time`: magic function"
   ]
  },
  {
   "cell_type": "code",
   "execution_count": 4,
   "id": "ad9ceda7-186d-41b7-8205-aee9c3888f73",
   "metadata": {},
   "outputs": [
    {
     "name": "stdout",
     "output_type": "stream",
     "text": [
      "38.4 ms ± 578 µs per loop (mean ± std. dev. of 7 runs, 10 loops each)\n"
     ]
    }
   ],
   "source": [
    "%timeit _ = gen_points_lattice(50, 2 ** 14) "
   ]
  },
  {
   "cell_type": "code",
   "execution_count": 5,
   "id": "9e370320",
   "metadata": {},
   "outputs": [
    {
     "name": "stdout",
     "output_type": "stream",
     "text": [
      "CPU times: user 70.7 ms, sys: 28.8 ms, total: 99.5 ms\n",
      "Wall time: 80.4 ms\n"
     ]
    }
   ],
   "source": [
    "%time _ = gen_points_lattice_parallel(50, 2 ** 14) "
   ]
  },
  {
   "cell_type": "markdown",
   "id": "181d6420",
   "metadata": {},
   "source": [
    "## Using cprofile"
   ]
  },
  {
   "cell_type": "markdown",
   "id": "0d15bc98",
   "metadata": {},
   "source": [
    "The following prints long outputs"
   ]
  },
  {
   "cell_type": "markdown",
   "id": "363b7b20",
   "metadata": {},
   "source": [
    "The following -o captures output in .prof file, but does not work with the decorator @profile "
   ]
  },
  {
   "cell_type": "raw",
   "id": "292d1b49-3bfa-45df-9436-6f02057e787f",
   "metadata": {
    "scrolled": true
   },
   "source": [
    "!python -m cProfile -o profile_lds_generation.prof  ../workouts/integration_examples/asian_option_multi_level.py "
   ]
  },
  {
   "cell_type": "markdown",
   "id": "9fda5522",
   "metadata": {},
   "source": [
    "The following is a magic command that gives same outputs in a pop-up window."
   ]
  },
  {
   "cell_type": "code",
   "execution_count": 6,
   "id": "c553067f-2552-4581-a9a7-252c56570cbc",
   "metadata": {},
   "outputs": [
    {
     "name": "stdout",
     "output_type": "stream",
     "text": [
      " "
     ]
    },
    {
     "data": {
      "text/plain": [
       "         1285 function calls (1276 primitive calls) in 0.081 seconds\n",
       "\n",
       "   Ordered by: internal time\n",
       "\n",
       "   ncalls  tottime  percall  cumtime  percall filename:lineno(function)\n",
       "       64    0.068    0.001    0.068    0.001 {method 'acquire' of '_thread.lock' objects}\n",
       "        1    0.009    0.009    0.080    0.080 lattice.py:276(gen_samples)\n",
       "       15    0.002    0.000    0.002    0.000 {built-in method numpy.asanyarray}\n",
       "      5/3    0.001    0.000    0.003    0.001 {built-in method numpy.core._multiarray_umath.implement_array_function}\n",
       "        1    0.000    0.000    0.000    0.000 {built-in method io.open}\n",
       "        1    0.000    0.000    0.000    0.000 {built-in method numpy.fromfile}\n",
       "        6    0.000    0.000    0.000    0.000 {built-in method _thread.start_new_thread}\n",
       "        1    0.000    0.000    0.000    0.000 {built-in method posix.stat}\n",
       "        1    0.000    0.000    0.081    0.081 2452960284.py:20(gen_points_lattice_parallel)\n",
       "        1    0.000    0.000    0.081    0.081 <string>:1(<module>)\n",
       "       17    0.000    0.000    0.068    0.004 threading.py:280(wait)\n",
       "       22    0.000    0.000    0.000    0.000 threading.py:228(__init__)\n",
       "       15    0.000    0.000    0.004    0.000 thread.py:180(_adjust_thread_count)\n",
       "        1    0.000    0.000    0.000    0.000 _discrete_distribution.py:7(__init__)\n",
       "       15    0.000    0.000    0.005    0.000 thread.py:161(submit)\n",
       "       20    0.000    0.000    0.000    0.000 tokenize.py:429(_tokenize)\n",
       "       15    0.000    0.000    0.064    0.004 _base.py:418(result)\n",
       "        6    0.000    0.000    0.000    0.000 threading.py:802(__init__)\n",
       "        2    0.000    0.000    0.000    0.000 {method 'reduce' of 'numpy.ufunc' objects}\n",
       "       15    0.000    0.000    0.000    0.000 threading.py:411(acquire)\n",
       "        1    0.000    0.000    0.000    0.000 {built-in method builtins.compile}\n",
       "        1    0.000    0.000    0.071    0.071 lattice.py:174(_mps)\n",
       "        1    0.000    0.000    0.001    0.001 lattice.py:105(__init__)\n",
       "        1    0.000    0.000    0.081    0.081 {built-in method builtins.exec}\n",
       "       18    0.000    0.000    0.000    0.000 {method 'match' of 're.Pattern' objects}\n",
       "        1    0.000    0.000    0.000    0.000 {function SeedSequence.generate_state at 0x104474a60}\n",
       "        1    0.000    0.000    0.000    0.000 tokenize.py:183(untokenize)\n",
       "        1    0.000    0.000    0.001    0.001 npyio.py:254(load)\n",
       "       15    0.000    0.000    0.000    0.000 _base.py:318(__init__)\n",
       "        1    0.000    0.000    0.000    0.000 format.py:568(_read_array_header)\n",
       "       36    0.000    0.000    0.000    0.000 threading.py:256(__enter__)\n",
       "        6    0.000    0.000    0.004    0.001 threading.py:880(start)\n",
       "        1    0.000    0.000    0.002    0.002 shape_base.py:81(atleast_2d)\n",
       "        1    0.000    0.000    0.000    0.000 format.py:533(_filter_header)\n",
       "       16    0.000    0.000    0.000    0.000 {method 'put' of '_queue.SimpleQueue' objects}\n",
       "       36    0.000    0.000    0.000    0.000 threading.py:259(__exit__)\n",
       "        1    0.000    0.000    0.000    0.000 {method 'uniform' of 'numpy.random._generator.Generator' objects}\n",
       "        6    0.000    0.000    0.000    0.000 threading.py:992(_stop)\n",
       "        1    0.000    0.000    0.000    0.000 {built-in method posix.urandom}\n",
       "        6    0.000    0.000    0.004    0.001 threading.py:563(wait)\n",
       "        4    0.000    0.000    0.000    0.000 {method 'read' of '_io.BufferedReader' objects}\n",
       "        1    0.000    0.000    0.000    0.000 format.py:697(read_array)\n",
       "        6    0.000    0.000    0.000    0.000 weakref.py:428(__setitem__)\n",
       "       18    0.000    0.000    0.000    0.000 re.py:289(_compile)\n",
       "        5    0.000    0.000    0.000    0.000 {method '_acquire_restore' of '_thread.RLock' objects}\n",
       "        1    0.000    0.000    0.000    0.000 contextlib.py:489(__exit__)\n",
       "        6    0.000    0.000    0.000    0.000 threading.py:1028(join)\n",
       "        1    0.000    0.000    0.064    0.064 lattice.py:195(<listcomp>)\n",
       "      8/1    0.000    0.000    0.000    0.000 ast.py:79(_convert)\n",
       "        1    0.000    0.000    0.005    0.005 lattice.py:193(<listcomp>)\n",
       "        1    0.000    0.000    0.000    0.000 thread.py:123(__init__)\n",
       "        1    0.000    0.000    0.000    0.000 thread.py:216(shutdown)\n",
       "       15    0.000    0.000    0.000    0.000 threading.py:82(RLock)\n",
       "       18    0.000    0.000    0.000    0.000 tokenize.py:170(add_whitespace)\n",
       "       25    0.000    0.000    0.000    0.000 {built-in method _thread.allocate_lock}\n",
       "       12    0.000    0.000    0.000    0.000 threading.py:1358(current_thread)\n",
       "        6    0.000    0.000    0.000    0.000 threading.py:775(_maintain_shutdown_locks)\n",
       "        1    0.000    0.000    0.000    0.000 posixpath.py:334(normpath)\n",
       "       58    0.000    0.000    0.000    0.000 {method '__exit__' of '_thread.lock' objects}\n",
       "        1    0.000    0.000    0.003    0.003 shape_base.py:222(vstack)\n",
       "        2    0.000    0.000    0.000    0.000 _ufunc_config.py:32(seterr)\n",
       "       15    0.000    0.000    0.000    0.000 thread.py:47(__init__)\n",
       "        6    0.000    0.000    0.000    0.000 threading.py:1066(_wait_for_tstate_lock)\n",
       "        6    0.000    0.000    0.000    0.000 _weakrefset.py:86(add)\n",
       "       12    0.000    0.000    0.000    0.000 threading.py:268(_acquire_restore)\n",
       "        6    0.000    0.000    0.000    0.000 _weakrefset.py:39(_remove)\n",
       "       18    0.000    0.000    0.000    0.000 types.py:171(__get__)\n",
       "        1    0.000    0.000    0.000    0.000 {built-in method posix.cpu_count}\n",
       "       18    0.000    0.000    0.000    0.000 tokenize.py:98(_compile)\n",
       "       19    0.000    0.000    0.000    0.000 <string>:1(<lambda>)\n",
       "        1    0.000    0.000    0.000    0.000 contextlib.py:76(inner)\n",
       "       15    0.000    0.000    0.000    0.000 {method '__enter__' of '_thread.RLock' objects}\n",
       "        6    0.000    0.000    0.000    0.000 threading.py:528(__init__)\n",
       "        1    0.000    0.000    0.000    0.000 format.py:282(descr_to_dtype)\n",
       "        5    0.000    0.000    0.000    0.000 {method '_release_save' of '_thread.RLock' objects}\n",
       "       52    0.000    0.000    0.000    0.000 {built-in method builtins.isinstance}\n",
       "        6    0.000    0.000    0.000    0.000 weakref.py:370(remove)\n",
       "        3    0.000    0.000    0.000    0.000 format.py:891(_read_bytes)\n",
       "        1    0.000    0.000    0.000    0.000 {built-in method numpy.arange}\n",
       "        6    0.000    0.000    0.000    0.000 threading.py:1229(_make_invoke_excepthook)\n",
       "        1    0.000    0.000    0.000    0.000 random.py:791(getrandbits)\n",
       "       68    0.000    0.000    0.000    0.000 {method 'append' of 'list' objects}\n",
       "       12    0.000    0.000    0.000    0.000 threading.py:271(_is_owned)\n",
       "       12    0.000    0.000    0.000    0.000 {method 'add' of 'set' objects}\n",
       "       12    0.000    0.000    0.000    0.000 threading.py:265(_release_save)\n",
       "        1    0.000    0.000    0.000    0.000 {method 'astype' of 'numpy.ndarray' objects}\n",
       "       21    0.000    0.000    0.000    0.000 {method '__enter__' of '_thread.lock' objects}\n",
       "        1    0.000    0.000    0.000    0.000 genericpath.py:27(isfile)\n",
       "        2    0.000    0.000    0.000    0.000 _ufunc_config.py:131(geterr)\n",
       "       18    0.000    0.000    0.000    0.000 re.py:250(compile)\n",
       "        1    0.000    0.000    0.000    0.000 ast.py:54(literal_eval)\n",
       "        6    0.000    0.000    0.000    0.000 threading.py:785(<listcomp>)\n",
       "        1    0.000    0.000    0.000    0.000 posixpath.py:373(abspath)\n",
       "        1    0.000    0.000    0.000    0.000 fromnumeric.py:69(_wrapreduction)\n",
       "       19    0.000    0.000    0.000    0.000 {built-in method __new__ of type object at 0x1004532b8}\n",
       "       21    0.000    0.000    0.000    0.000 {method '__exit__' of '_thread.RLock' objects}\n",
       "        1    0.000    0.000    0.000    0.000 posixpath.py:150(dirname)\n",
       "       46    0.000    0.000    0.000    0.000 {built-in method builtins.len}\n",
       "        2    0.000    0.000    0.000    0.000 <__array_function__ internals>:177(concatenate)\n",
       "       15    0.000    0.000    0.000    0.000 _base.py:388(__get_result)\n",
       "       12    0.000    0.000    0.000    0.000 threading.py:1147(daemon)\n",
       "        1    0.000    0.000    0.000    0.000 shape_base.py:207(_arrays_for_stack_dispatcher)\n",
       "        1    0.000    0.000    0.000    0.000 contextlib.py:438(enter_context)\n",
       "        1    0.000    0.000    0.003    0.003 <__array_function__ internals>:177(vstack)\n",
       "       18    0.000    0.000    0.000    0.000 {method 'append' of 'collections.deque' objects}\n",
       "        1    0.000    0.000    0.000    0.000 _ufunc_config.py:429(__enter__)\n",
       "        1    0.000    0.000    0.000    0.000 utils.py:967(safe_eval)\n",
       "        1    0.000    0.000    0.000    0.000 <__array_function__ internals>:177(any)\n",
       "        6    0.000    0.000    0.000    0.000 {method 'difference_update' of 'set' objects}\n",
       "        1    0.000    0.000    0.000    0.000 fromnumeric.py:2307(any)\n",
       "       18    0.000    0.000    0.000    0.000 {method 'release' of '_thread.lock' objects}\n",
       "        2    0.000    0.000    0.000    0.000 {built-in method _abc._abc_instancecheck}\n",
       "        1    0.000    0.000    0.000    0.000 threading.py:405(__init__)\n",
       "        1    0.000    0.000    0.000    0.000 _base.py:636(__exit__)\n",
       "       12    0.000    0.000    0.000    0.000 {built-in method _thread.get_ident}\n",
       "       18    0.000    0.000    0.000    0.000 enum.py:792(value)\n",
       "        2    0.000    0.000    0.000    0.000 {method 'split' of 'str' objects}\n",
       "       12    0.000    0.000    0.000    0.000 threading.py:536(is_set)\n",
       "        1    0.000    0.000    0.000    0.000 format.py:217(read_magic)\n",
       "       18    0.000    0.000    0.000    0.000 {method 'span' of 're.Match' objects}\n",
       "        1    0.000    0.000    0.000    0.000 {built-in method sys.exc_info}\n",
       "        1    0.000    0.000    0.000    0.000 tokenize.py:257(untokenize)\n",
       "       12    0.000    0.000    0.000    0.000 {built-in method time.monotonic}\n",
       "        2    0.000    0.000    0.000    0.000 {built-in method numpy.seterrobj}\n",
       "        1    0.000    0.000    0.000    0.000 contextlib.py:465(_push_cm_exit)\n",
       "        6    0.000    0.000    0.000    0.000 {built-in method builtins.hasattr}\n",
       "        1    0.000    0.000    0.000    0.000 posixpath.py:60(isabs)\n",
       "        2    0.000    0.000    0.000    0.000 abc.py:117(__instancecheck__)\n",
       "        6    0.000    0.000    0.000    0.000 {method 'discard' of 'set' objects}\n",
       "       18    0.000    0.000    0.000    0.000 {method 'locked' of '_thread.lock' objects}\n",
       "        1    0.000    0.000    0.000    0.000 fromnumeric.py:70(<dictcomp>)\n",
       "        1    0.000    0.000    0.000    0.000 ast.py:33(parse)\n",
       "        2    0.000    0.000    0.000    0.000 {method 'startswith' of 'bytes' objects}\n",
       "        1    0.000    0.000    0.002    0.002 <__array_function__ internals>:177(atleast_2d)\n",
       "        1    0.000    0.000    0.000    0.000 _ufunc_config.py:434(__exit__)\n",
       "        2    0.000    0.000    0.000    0.000 {built-in method builtins.min}\n",
       "        5    0.000    0.000    0.000    0.000 {method '_is_owned' of '_thread.RLock' objects}\n",
       "        1    0.000    0.000    0.000    0.000 {method '__enter__' of '_io._IOBase' objects}\n",
       "        1    0.000    0.000    0.000    0.000 contextlib.py:470(_push_exit_callback)\n",
       "        1    0.000    0.000    0.000    0.000 shape_base.py:218(_vhstack_dispatcher)\n",
       "       12    0.000    0.000    0.000    0.000 {method 'isidentifier' of 'str' objects}\n",
       "        6    0.000    0.000    0.000    0.000 {method 'remove' of 'collections.deque' objects}\n",
       "        2    0.000    0.000    0.000    0.000 {method 'join' of 'str' objects}\n",
       "        1    0.000    0.000    0.000    0.000 {built-in method _struct.calcsize}\n",
       "        1    0.000    0.000    0.000    0.000 tokenize.py:164(__init__)\n",
       "        1    0.000    0.000    0.000    0.000 py3k.py:49(isfileobj)\n",
       "        1    0.000    0.000    0.000    0.000 {built-in method from_bytes}\n",
       "        1    0.000    0.000    0.000    0.000 contextlib.py:408(__init__)\n",
       "        4    0.000    0.000    0.000    0.000 {built-in method numpy.geterrobj}\n",
       "        1    0.000    0.000    0.000    0.000 {method 'seek' of '_io.BufferedReader' objects}\n",
       "        2    0.000    0.000    0.000    0.000 posixpath.py:41(_get_sep)\n",
       "        2    0.000    0.000    0.000    0.000 {method 'readline' of '_io.StringIO' objects}\n",
       "        1    0.000    0.000    0.000    0.000 {method 'decode' of 'bytes' objects}\n",
       "        5    0.000    0.000    0.000    0.000 {built-in method posix.fspath}\n",
       "        3    0.000    0.000    0.000    0.000 {method 'startswith' of 'str' objects}\n",
       "        1    0.000    0.000    0.000    0.000 {built-in method builtins.all}\n",
       "        1    0.000    0.000    0.000    0.000 {built-in method _struct.unpack}\n",
       "        1    0.000    0.000    0.000    0.000 {method 'disable' of '_lsprof.Profiler' objects}\n",
       "        2    0.000    0.000    0.000    0.000 format.py:611(<genexpr>)\n",
       "        1    0.000    0.000    0.000    0.000 {method 'get' of 'dict' objects}\n",
       "        1    0.000    0.000    0.000    0.000 {method 'keys' of 'dict' objects}\n",
       "        1    0.000    0.000    0.000    0.000 contextlib.py:398(_create_exit_wrapper)\n",
       "        1    0.000    0.000    0.000    0.000 {method 'lower' of 'str' objects}\n",
       "        1    0.000    0.000    0.000    0.000 tokenize.py:612(generate_tokens)\n",
       "        1    0.000    0.000    0.000    0.000 {method 'items' of 'dict' objects}\n",
       "        1    0.000    0.000    0.000    0.000 {method 'rfind' of 'str' objects}\n",
       "        1    0.000    0.000    0.000    0.000 format.py:190(_check_version)\n",
       "        1    0.000    0.000    0.000    0.000 {built-in method _stat.S_ISREG}\n",
       "        1    0.000    0.000    0.000    0.000 contextlib.py:63(_recreate_cm)\n",
       "        2    0.000    0.000    0.000    0.000 multiarray.py:148(concatenate)\n",
       "        1    0.000    0.000    0.000    0.000 {method 'rstrip' of 'str' objects}\n",
       "        1    0.000    0.000    0.000    0.000 fromnumeric.py:2302(_any_dispatcher)\n",
       "        1    0.000    0.000    0.000    0.000 {method 'pop' of 'collections.deque' objects}\n",
       "        1    0.000    0.000    0.000    0.000 shape_base.py:77(_atleast_2d_dispatcher)\n",
       "        1    0.000    0.000    0.000    0.000 contextlib.py:486(__enter__)\n",
       "        1    0.000    0.000    0.000    0.000 _base.py:633(__enter__)\n",
       "        1    0.000    0.000    0.000    0.000 {built-in method builtins.iter}"
      ]
     },
     "metadata": {},
     "output_type": "display_data"
    }
   ],
   "source": [
    "%prun gen_points_lattice_parallel(50, 2 ** 14) "
   ]
  },
  {
   "cell_type": "markdown",
   "id": "ea4c8272",
   "metadata": {},
   "source": [
    "## Snakeviz (https://jiffyclub.github.io/snakeviz/)"
   ]
  },
  {
   "cell_type": "code",
   "execution_count": 7,
   "id": "9bcd5403-d8ea-423e-9bfa-eb5a4d5223af",
   "metadata": {},
   "outputs": [
    {
     "name": "stdout",
     "output_type": "stream",
     "text": [
      "Requirement already satisfied: snakeviz in /Users/terrya/miniconda3/envs/qmcpy/lib/python3.9/site-packages (2.2.0)\n",
      "Requirement already satisfied: tornado>=2.0 in /Users/terrya/miniconda3/envs/qmcpy/lib/python3.9/site-packages (from snakeviz) (6.3.2)\n"
     ]
    }
   ],
   "source": [
    "!pip install snakeviz"
   ]
  },
  {
   "cell_type": "markdown",
   "id": "18fcf041",
   "metadata": {},
   "source": [
    "The following generates an HTML page in a new browser tab and it is very readable:\n",
    "http://127.0.0.1:8080/snakeviz/%2FUsers%2Fterrya%2FDocuments%2FProgramData%2FQMCSoftware%2Fworkouts%2Fintegration_examples%2Fout%2Fasian_option_multi_level.prof"
   ]
  },
  {
   "cell_type": "markdown",
   "id": "b0e9bd25",
   "metadata": {},
   "source": [
    "To exit the following command, press stop button."
   ]
  },
  {
   "cell_type": "raw",
   "id": "ed748243-5d7e-499c-b077-caf617b96d80",
   "metadata": {},
   "source": [
    "!snakeviz ../workouts/integration_examples/out/asian_option_multi_level.prof "
   ]
  },
  {
   "cell_type": "code",
   "execution_count": 8,
   "id": "5d197c81-148f-4d4a-9a09-82c46040eec9",
   "metadata": {},
   "outputs": [],
   "source": [
    "%load_ext snakeviz"
   ]
  },
  {
   "cell_type": "code",
   "execution_count": 9,
   "id": "28a13e72-7cf1-4a65-9645-7652fff4bff8",
   "metadata": {
    "scrolled": true
   },
   "outputs": [
    {
     "name": "stdout",
     "output_type": "stream",
     "text": [
      " \n",
      "*** Profile stats marshalled to file '/var/folders/l3/wz4prc5d4kv118mgp30jj3_m0000gn/T/tmparsyczqe'.\n",
      "Embedding SnakeViz in this document...\n",
      "<function display at 0x1029b50d0>\n"
     ]
    },
    {
     "data": {
      "text/html": [
       "\n",
       "<iframe id='snakeviz-b5b05fc2-4420-11ee-9cea-2e575aae1ca9' frameborder=0 seamless width='100%' height='1000'></iframe>\n",
       "<script>document.getElementById(\"snakeviz-b5b05fc2-4420-11ee-9cea-2e575aae1ca9\").setAttribute(\"src\", \"http://\" + document.location.hostname + \":8080/snakeviz/%2Fvar%2Ffolders%2Fl3%2Fwz4prc5d4kv118mgp30jj3_m0000gn%2FT%2Ftmparsyczqe\")</script>\n"
      ],
      "text/plain": [
       "<IPython.core.display.HTML object>"
      ]
     },
     "metadata": {},
     "output_type": "display_data"
    }
   ],
   "source": [
    "%%snakeviz\n",
    "gen_points_lattice_parallel(50, 2 ** 14) "
   ]
  },
  {
   "cell_type": "markdown",
   "id": "11da0b0e",
   "metadata": {},
   "source": [
    "## Tuna\n",
    "\n",
    "Another alternative for visualizing cprofile outputs"
   ]
  },
  {
   "cell_type": "code",
   "execution_count": 10,
   "id": "1451adbf-3309-4cef-9482-0142062c1bd7",
   "metadata": {},
   "outputs": [
    {
     "name": "stdout",
     "output_type": "stream",
     "text": [
      "Requirement already satisfied: tuna in /Users/terrya/miniconda3/envs/qmcpy/lib/python3.9/site-packages (0.5.11)\n"
     ]
    }
   ],
   "source": [
    "!pip install tuna"
   ]
  },
  {
   "cell_type": "raw",
   "id": "2e99478c-18e5-43b5-8531-e7740e6e0adf",
   "metadata": {},
   "source": [
    "import tuna"
   ]
  },
  {
   "cell_type": "markdown",
   "id": "8f14a377",
   "metadata": {},
   "source": [
    "The following gives a visual report in a separate tab"
   ]
  },
  {
   "cell_type": "raw",
   "id": "49f186b2-45f2-4a79-a2a7-df08dcbea0a8",
   "metadata": {
    "scrolled": true
   },
   "source": [
    "!tuna ../workouts/integration_examples/out/asian_option_multi_level.prof"
   ]
  },
  {
   "cell_type": "markdown",
   "id": "d019b360",
   "metadata": {},
   "source": [
    "## Line-by-line profiling of time and memory"
   ]
  },
  {
   "cell_type": "markdown",
   "id": "66493536",
   "metadata": {},
   "source": [
    "First install `line_profiler` 3.4.0 (`https://github.com/rkern/line_profiler`) "
   ]
  },
  {
   "cell_type": "markdown",
   "id": "10254edc",
   "metadata": {},
   "source": [
    "Need to first put `@profile` before each function that we want to do line or memory profiling."
   ]
  },
  {
   "cell_type": "code",
   "execution_count": 11,
   "id": "af769993-00e8-43f5-a582-fe616a2c6ad7",
   "metadata": {},
   "outputs": [
    {
     "name": "stdout",
     "output_type": "stream",
     "text": [
      "Requirement already satisfied: line_profiler in /Users/terrya/miniconda3/envs/qmcpy/lib/python3.9/site-packages (4.1.1)\n",
      "Requirement already satisfied: memory_profiler in /Users/terrya/miniconda3/envs/qmcpy/lib/python3.9/site-packages (0.61.0)\n",
      "Requirement already satisfied: psutil in /Users/terrya/miniconda3/envs/qmcpy/lib/python3.9/site-packages (from memory_profiler) (5.9.5)\n"
     ]
    }
   ],
   "source": [
    "!pip install line_profiler\n",
    "!pip install -U memory_profiler"
   ]
  },
  {
   "cell_type": "markdown",
   "id": "07fa2cdc",
   "metadata": {},
   "source": [
    "The following two commands would need @decorator written to code."
   ]
  },
  {
   "cell_type": "raw",
   "id": "ae223bd1",
   "metadata": {},
   "source": [
    "!kernprof -l -v ../workouts/integration_examples/asian_option_multi_level.py"
   ]
  },
  {
   "cell_type": "raw",
   "id": "48cf8439",
   "metadata": {},
   "source": [
    "# alternative\n",
    "!python -m line_profiler asian_option_multi_level.py.lprof"
   ]
  },
  {
   "cell_type": "code",
   "execution_count": 12,
   "id": "8fa05724-5a96-4277-a71e-6e4c205ae342",
   "metadata": {},
   "outputs": [],
   "source": [
    "%load_ext line_profiler"
   ]
  },
  {
   "cell_type": "code",
   "execution_count": 13,
   "id": "b7b7d96f-227a-4c5e-9a22-1123b996cb9a",
   "metadata": {
    "scrolled": true
   },
   "outputs": [
    {
     "data": {
      "text/plain": [
       "Timer unit: 1e-09 s"
      ]
     },
     "metadata": {},
     "output_type": "display_data"
    }
   ],
   "source": [
    "%lprun gen_points_lattice_parallel(50, 2 ** 14) "
   ]
  },
  {
   "cell_type": "raw",
   "id": "c2003dd0",
   "metadata": {},
   "source": [
    "After running the above,  a pop-up with the following outputs will apear in the browser."
   ]
  },
  {
   "cell_type": "raw",
   "id": "bdb9021c",
   "metadata": {},
   "source": []
  },
  {
   "cell_type": "raw",
   "id": "eb84770e",
   "metadata": {},
   "source": [
    "The above shows that `CubMCCLT(integrand, abs_tol=abs_tol).integrate()` took most of the time. We can profile the function by the following:"
   ]
  },
  {
   "cell_type": "raw",
   "id": "ad4919cc-8279-48b3-ac0d-27f609399abc",
   "metadata": {},
   "source": [
    "%lprun -f CubMCCLT.integrate asian_option_multi_level(abs_tol=.01)"
   ]
  },
  {
   "cell_type": "markdown",
   "id": "2d837e75",
   "metadata": {},
   "source": [
    "We will see the following pop-up results:"
   ]
  },
  {
   "cell_type": "raw",
   "id": "b948b704",
   "metadata": {},
   "source": []
  },
  {
   "cell_type": "markdown",
   "id": "201a8e96",
   "metadata": {},
   "source": [
    "`data.update_data()` takes up 99.8% of the time. So line profile it now:"
   ]
  },
  {
   "cell_type": "raw",
   "id": "fe73669a-cc1e-4203-89aa-a7ded24f11e8",
   "metadata": {
    "scrolled": true
   },
   "source": [
    "%lprun -f update_data asian_option_multi_level(abs_tol=.01) "
   ]
  },
  {
   "cell_type": "markdown",
   "id": "0eb128ab",
   "metadata": {},
   "source": [
    "## Using memory_profiler"
   ]
  },
  {
   "cell_type": "markdown",
   "id": "db9296d8",
   "metadata": {},
   "source": [
    "Install `memory_profiler` 0.60.0 from `https://pypi.org/project/memory-profiler/`"
   ]
  },
  {
   "cell_type": "code",
   "execution_count": 14,
   "id": "1260c6a8-6ab3-4c69-ac98-85580f79464d",
   "metadata": {},
   "outputs": [],
   "source": [
    "%load_ext memory_profiler"
   ]
  },
  {
   "cell_type": "markdown",
   "id": "eac521b0",
   "metadata": {},
   "source": [
    "`%memit`: line magic similar to `%timeit`\n",
    "`%%memit`: cell magic like `%%timeit`"
   ]
  },
  {
   "cell_type": "code",
   "execution_count": 15,
   "id": "9a515510-7358-4e18-a5db-7550b05fb842",
   "metadata": {},
   "outputs": [
    {
     "name": "stdout",
     "output_type": "stream",
     "text": [
      "peak memory: 360.69 MiB, increment: 2.47 MiB\n"
     ]
    }
   ],
   "source": [
    "%memit gen_points_lattice_parallel(50, 2 ** 14) "
   ]
  },
  {
   "cell_type": "raw",
   "id": "534250a6-fef3-44ff-98e9-c0a2d00ac5d9",
   "metadata": {},
   "source": [
    "%mprun gen_points_lattice_parallel(50, 2 ** 14) "
   ]
  },
  {
   "cell_type": "markdown",
   "id": "e6e49b88",
   "metadata": {},
   "source": [
    "After running the above memory profiler, we get a pop up again:"
   ]
  },
  {
   "cell_type": "raw",
   "id": "df4264c7",
   "metadata": {},
   "source": [
    " "
   ]
  },
  {
   "cell_type": "markdown",
   "id": "cf557b05",
   "metadata": {},
   "source": [
    "The following needs @profile in the function to be profiled"
   ]
  },
  {
   "cell_type": "raw",
   "id": "54644901",
   "metadata": {},
   "source": [
    "!python -m memory_profiler ../workouts/integration_examples/asian_option_multi_level.py -o ../workouts/integration_examples/asian_option_multi_level.py.mprof"
   ]
  },
  {
   "cell_type": "markdown",
   "id": "ce67c0c8",
   "metadata": {},
   "source": [
    "The following tries to save output"
   ]
  },
  {
   "cell_type": "code",
   "execution_count": 16,
   "id": "e665ea07-9dbc-4e37-aba9-5ecc2ef7b60d",
   "metadata": {},
   "outputs": [
    {
     "data": {
      "text/plain": []
     },
     "metadata": {},
     "output_type": "display_data"
    }
   ],
   "source": [
    "from memory_profiler import LogFile\n",
    "import sys\n",
    "sys.stdout = LogFile('memory_profile_log', reportIncrementFlag=False)\n",
    "%mprun gen_points_lattice_parallel(50, 2 ** 14) "
   ]
  },
  {
   "cell_type": "code",
   "execution_count": 17,
   "id": "62588e7e-e40e-4a49-8edb-94c3b90c6210",
   "metadata": {},
   "outputs": [
    {
     "data": {
      "text/plain": []
     },
     "metadata": {},
     "output_type": "display_data"
    }
   ],
   "source": [
    "%mprun gen_points_lattice_parallel(50, 2 ** 14) "
   ]
  },
  {
   "cell_type": "raw",
   "id": "6e56e04a",
   "metadata": {},
   "source": [
    " "
   ]
  },
  {
   "cell_type": "markdown",
   "id": "09ca36f9",
   "metadata": {},
   "source": [
    "To plot memory usage against time, run the following in a command window."
   ]
  },
  {
   "cell_type": "raw",
   "id": "2d4d531e",
   "metadata": {},
   "source": [
    "mprof run ../workouts/integration_examples/asian_option_multi_level.py\n",
    "mprof plot \n",
    "mprof plot --flame"
   ]
  }
 ],
 "metadata": {
  "kernelspec": {
   "display_name": "qmcpy",
   "language": "python",
   "name": "qmcpy"
  },
  "language_info": {
   "codemirror_mode": {
    "name": "ipython",
    "version": 3
   },
   "file_extension": ".py",
   "mimetype": "text/x-python",
   "name": "python",
   "nbconvert_exporter": "python",
   "pygments_lexer": "ipython3",
   "version": "3.9.13"
  }
 },
 "nbformat": 4,
 "nbformat_minor": 5
}
