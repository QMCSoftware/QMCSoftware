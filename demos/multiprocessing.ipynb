{
 "cells": [
  {
   "cell_type": "code",
   "execution_count": 2,
   "metadata": {},
   "outputs": [],
   "source": [
    "import qmcpy as qp\n",
    "import numpy as np\n",
    "import pandas as pd\n",
    "import time\n",
    "import matplotlib.pyplot as plt\n",
    "import cProfile\n",
    "import pstats"
   ]
  },
  {
   "cell_type": "code",
   "execution_count": 3,
   "metadata": {},
   "outputs": [],
   "source": [
    "%matplotlib inline"
   ]
  },
  {
   "cell_type": "code",
   "execution_count": 4,
   "metadata": {},
   "outputs": [],
   "source": [
    "def lattice(n, num_ports, seed=None):\n",
    "    l = qp.Lattice(dimension=n, seed=seed,order=\"natural\" ,is_parallel=True)\n",
    "    points = l.gen_samples(num_ports) \n",
    "    return points\n",
    "def lattice_process(n, num_ports, seed=None):\n",
    "    l = qp.Lattice(dimension=n, seed=seed,order=\"natural_process\")\n",
    "    points = l.gen_samples(num_ports) \n",
    "    return points"
   ]
  },
  {
   "cell_type": "code",
   "execution_count": 12,
   "metadata": {},
   "outputs": [
    {
     "name": "stdout",
     "output_type": "stream",
     "text": [
      "{50: 0.015239600000000006, 100: 0.021601499999999996, 200: 0.03274850000000003, 300: 0.03845650000000001}\n",
      "{50: 2.9136015000000004, 100: 2.7939316999999995, 200: 2.9488424000000006, 300: 2.9508294000000004}\n"
     ]
    }
   ],
   "source": [
    "trials = 2\n",
    "d_list = [50, 100, 200, 300]\n",
    "n = 10\n",
    "lattice_d = {}\n",
    "lattice_p_d = {}\n",
    "\n",
    "run_list = [(lattice, \"lattice\"),(lattice_process,\"lattice process\")]\n",
    "for method,method_name in run_list:\n",
    "    \n",
    "    for d in d_list:\n",
    "        profiler = cProfile.Profile()\n",
    "        profiler.enable()\n",
    "        for _ in range(trials):\n",
    "            _ = method(d, 2 ** n)\n",
    "        profiler.disable()\n",
    "        \n",
    "        stats = pstats.Stats(profiler)\n",
    "            \n",
    "        process_time = stats.total_tt\n",
    "\n",
    "\n",
    "        if method_name == \"lattice\":\n",
    "            lattice_d.update({d:process_time})\n",
    "        elif method_name == \"lattice process\":\n",
    "            lattice_p_d.update({d:process_time})\n",
    "\n",
    "print(lattice_d)\n",
    "print(lattice_p_d)\n"
   ]
  },
  {
   "cell_type": "code",
   "execution_count": null,
   "metadata": {},
   "outputs": [],
   "source": []
  }
 ],
 "metadata": {
  "kernelspec": {
   "display_name": "venv",
   "language": "python",
   "name": "python3"
  },
  "language_info": {
   "codemirror_mode": {
    "name": "ipython",
    "version": 3
   },
   "file_extension": ".py",
   "mimetype": "text/x-python",
   "name": "python",
   "nbconvert_exporter": "python",
   "pygments_lexer": "ipython3",
   "version": "3.9.13"
  },
  "orig_nbformat": 4
 },
 "nbformat": 4,
 "nbformat_minor": 2
}
