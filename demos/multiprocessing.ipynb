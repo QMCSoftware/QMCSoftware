{
 "cells": [
  {
   "cell_type": "code",
   "execution_count": 94,
   "metadata": {},
   "outputs": [],
   "source": [
    "import qmcpy as qp\n",
    "import numpy as np\n",
    "import pandas as pd\n",
    "import time\n",
    "import matplotlib.pyplot as plt\n",
    "import cProfile\n",
    "import pstats"
   ]
  },
  {
   "cell_type": "code",
   "execution_count": 95,
   "metadata": {},
   "outputs": [],
   "source": [
    "%matplotlib inline"
   ]
  },
  {
   "cell_type": "code",
   "execution_count": 96,
   "metadata": {},
   "outputs": [],
   "source": [
    "def natural(n, num_ports, seed=None):\n",
    "    l = qp.Lattice(dimension=n, seed=seed,order=\"natural\" ,is_parallel=True)\n",
    "    points = l.gen_samples(num_ports) \n",
    "    return points\n",
    "def natural_process(n, num_ports, seed=None):\n",
    "    l = qp.Lattice(dimension=n, seed=seed,order=\"natural_process\")\n",
    "    points = l.gen_samples(num_ports) \n",
    "    return points\n",
    "def mps(n, num_ports, seed=None):\n",
    "    l = qp.Lattice(dimension=n, seed=seed,order=\"mps\" ,is_parallel=True)\n",
    "    points = l.gen_samples(num_ports) \n",
    "    return points\n",
    "def mps_process(n, num_ports, seed=None):\n",
    "    l = qp.Lattice(dimension=n, seed=seed,order=\"mps_process\",is_parallel=True)\n",
    "    points = l.gen_samples(num_ports) \n",
    "    return points\n",
    "def linear(n, num_ports, seed=None):\n",
    "    l = qp.Lattice(dimension=n, seed=seed,order=\"linear\" ,is_parallel=True)\n",
    "    points = l.gen_samples(num_ports) \n",
    "    return points\n",
    "def linear_process(n, num_ports, seed=None):\n",
    "    l = qp.Lattice(dimension=n, seed=seed,order=\"linear_process\")\n",
    "    points = l.gen_samples(num_ports) \n",
    "    return points"
   ]
  },
  {
   "cell_type": "code",
   "execution_count": 97,
   "metadata": {},
   "outputs": [
    {
     "name": "stdout",
     "output_type": "stream",
     "text": [
      "Process time 0.005693400000000001 method name natural\n",
      "Process time 0.009024599999999999 method name natural\n",
      "Process time 1.2059715999999998 method name natural process\n",
      "Process time 1.1976691000000002 method name natural process\n",
      "Process time 0.0024163999999999995 method name linear\n",
      "Process time 0.006711799999999997 method name linear\n",
      "Process time 0.0022827999999999998 method name linear process\n",
      "Process time 0.006927100000000001 method name linear process\n"
     ]
    }
   ],
   "source": [
    "trials = 1\n",
    "d_list = [25, 100]\n",
    "n = 10\n",
    "data = {'index':d_list}\n",
    "frame = pd.DataFrame(data)\n",
    "frame = frame.set_index('index')\n",
    "names = set()\n",
    "\n",
    "run_list = [(natural, \"natural\"),(natural_process,\"natural process\"),(linear,\"linear\"),(linear_process,\"linear process\")]\n",
    "for method,method_name in run_list:\n",
    "\n",
    "    name = method_name.split(\" \")\n",
    "\n",
    "    names.add(name[0])\n",
    "\n",
    "    times = []\n",
    "    \n",
    "    for d in d_list:\n",
    "        profiler = cProfile.Profile()\n",
    "        profiler.enable()\n",
    "        for _ in range(trials):\n",
    "            _ =method(d, 2 ** n)\n",
    "        profiler.disable()\n",
    "        \n",
    "        stats = pstats.Stats(profiler)\n",
    "            \n",
    "        process_time = stats.total_tt\n",
    "\n",
    "        print(f'Process time {process_time} method name {method_name}')\n",
    "        times.append(process_time)\n",
    "    frame[method_name] = times        \n",
    "\n",
    "\n",
    "names = list(names)        \n"
   ]
  },
  {
   "cell_type": "code",
   "execution_count": 98,
   "metadata": {},
   "outputs": [],
   "source": [
    "def speed_up(data_frame, element_list, dimensions):\n",
    "    speed_factor = []\n",
    "    A = []\n",
    "    B = []\n",
    "    for i in element_list:\n",
    "        for x in dimensions:\n",
    "            A.append(data_frame[i][x])\n",
    "            B.append(data_frame[i + \" process\"][x])\n",
    "    for a,b in zip(A, B):\n",
    "        speed_factor.append(a/b)\n",
    "    order = []\n",
    "    for i in element_list:\n",
    "        for x in dimensions:\n",
    "            order.append((i + \" factor\",x))\n",
    "    return list(zip(order,speed_factor))\n",
    "\n",
    "\n",
    "            \n",
    "\n",
    "        \n",
    "\n"
   ]
  },
  {
   "cell_type": "code",
   "execution_count": 103,
   "metadata": {},
   "outputs": [
    {
     "name": "stdout",
     "output_type": "stream",
     "text": [
      "[(('linear factor', 25), 1.0585246188890836), (('linear factor', 100), 0.9689191725252986), (('natural factor', 25), 0.004721006697006797)]\n",
      "[(('natural factor', 25), 0.004721006697006797), (('natural factor', 100), 0.007535136374479393)]\n"
     ]
    }
   ],
   "source": [
    "z = speed_up(frame, names, d_list)\n",
    "a = int((len(z)/2))\n",
    "x = z[0:a + 1]\n",
    "y = z[a:(len(z)+1)]\n",
    "print(x)\n",
    "print(y)"
   ]
  },
  {
   "cell_type": "code",
   "execution_count": 100,
   "metadata": {},
   "outputs": [
    {
     "name": "stdout",
     "output_type": "stream",
     "text": [
      "['linear factor', 'natural factor']\n",
      "[1.0585246188890836, 0.9689191725252986, 0.004721006697006797]\n",
      "[0.004721006697006797, 0.007535136374479393]\n"
     ]
    }
   ],
   "source": [
    "factors  = list(set([factor[0][0] for factor in z]))\n",
    "time1 = [p[1] for p in x]\n",
    "time2 = [p[1] for p in y]\n",
    "print(factors)\n",
    "print(time1)\n",
    "print(time2)"
   ]
  },
  {
   "cell_type": "code",
   "execution_count": 102,
   "metadata": {},
   "outputs": [
    {
     "ename": "ValueError",
     "evalue": "shape mismatch: objects cannot be broadcast to a single shape.  Mismatch is between arg 0 with shape (2,) and arg 1 with shape (3,).",
     "output_type": "error",
     "traceback": [
      "\u001b[1;31m---------------------------------------------------------------------------\u001b[0m",
      "\u001b[1;31mValueError\u001b[0m                                Traceback (most recent call last)",
      "\u001b[1;32mc:\\Users\\Baron\\Documents\\QMCpy\\QMCSoftware\\demos\\multiprocessing.ipynb Cell 8\u001b[0m line \u001b[0;36m2\n\u001b[0;32m      <a href='vscode-notebook-cell:/c%3A/Users/Baron/Documents/QMCpy/QMCSoftware/demos/multiprocessing.ipynb#X11sZmlsZQ%3D%3D?line=0'>1</a>\u001b[0m \u001b[39m#Graph 1\u001b[39;00m\n\u001b[1;32m----> <a href='vscode-notebook-cell:/c%3A/Users/Baron/Documents/QMCpy/QMCSoftware/demos/multiprocessing.ipynb#X11sZmlsZQ%3D%3D?line=1'>2</a>\u001b[0m plt\u001b[39m.\u001b[39;49mbar(d_list, time1)\n\u001b[0;32m      <a href='vscode-notebook-cell:/c%3A/Users/Baron/Documents/QMCpy/QMCSoftware/demos/multiprocessing.ipynb#X11sZmlsZQ%3D%3D?line=2'>3</a>\u001b[0m plt\u001b[39m.\u001b[39mxlabel(\u001b[39m'\u001b[39m\u001b[39mDimension\u001b[39m\u001b[39m'\u001b[39m)\n\u001b[0;32m      <a href='vscode-notebook-cell:/c%3A/Users/Baron/Documents/QMCpy/QMCSoftware/demos/multiprocessing.ipynb#X11sZmlsZQ%3D%3D?line=3'>4</a>\u001b[0m plt\u001b[39m.\u001b[39mylabel(\u001b[39m'\u001b[39m\u001b[39mSpeed up factor\u001b[39m\u001b[39m'\u001b[39m)\n",
      "File \u001b[1;32mc:\\Users\\Baron\\miniconda3\\envs\\qmcpy\\lib\\site-packages\\matplotlib\\pyplot.py:2399\u001b[0m, in \u001b[0;36mbar\u001b[1;34m(x, height, width, bottom, align, data, **kwargs)\u001b[0m\n\u001b[0;32m   2395\u001b[0m \u001b[39m@_copy_docstring_and_deprecators\u001b[39m(Axes\u001b[39m.\u001b[39mbar)\n\u001b[0;32m   2396\u001b[0m \u001b[39mdef\u001b[39;00m \u001b[39mbar\u001b[39m(\n\u001b[0;32m   2397\u001b[0m         x, height, width\u001b[39m=\u001b[39m\u001b[39m0.8\u001b[39m, bottom\u001b[39m=\u001b[39m\u001b[39mNone\u001b[39;00m, \u001b[39m*\u001b[39m, align\u001b[39m=\u001b[39m\u001b[39m'\u001b[39m\u001b[39mcenter\u001b[39m\u001b[39m'\u001b[39m,\n\u001b[0;32m   2398\u001b[0m         data\u001b[39m=\u001b[39m\u001b[39mNone\u001b[39;00m, \u001b[39m*\u001b[39m\u001b[39m*\u001b[39mkwargs):\n\u001b[1;32m-> 2399\u001b[0m     \u001b[39mreturn\u001b[39;00m gca()\u001b[39m.\u001b[39mbar(\n\u001b[0;32m   2400\u001b[0m         x, height, width\u001b[39m=\u001b[39mwidth, bottom\u001b[39m=\u001b[39mbottom, align\u001b[39m=\u001b[39malign,\n\u001b[0;32m   2401\u001b[0m         \u001b[39m*\u001b[39m\u001b[39m*\u001b[39m({\u001b[39m\"\u001b[39m\u001b[39mdata\u001b[39m\u001b[39m\"\u001b[39m: data} \u001b[39mif\u001b[39;00m data \u001b[39mis\u001b[39;00m \u001b[39mnot\u001b[39;00m \u001b[39mNone\u001b[39;00m \u001b[39melse\u001b[39;00m {}), \u001b[39m*\u001b[39m\u001b[39m*\u001b[39mkwargs)\n",
      "File \u001b[1;32mc:\\Users\\Baron\\miniconda3\\envs\\qmcpy\\lib\\site-packages\\matplotlib\\__init__.py:1412\u001b[0m, in \u001b[0;36m_preprocess_data.<locals>.inner\u001b[1;34m(ax, data, *args, **kwargs)\u001b[0m\n\u001b[0;32m   1409\u001b[0m \u001b[39m@functools\u001b[39m\u001b[39m.\u001b[39mwraps(func)\n\u001b[0;32m   1410\u001b[0m \u001b[39mdef\u001b[39;00m \u001b[39minner\u001b[39m(ax, \u001b[39m*\u001b[39margs, data\u001b[39m=\u001b[39m\u001b[39mNone\u001b[39;00m, \u001b[39m*\u001b[39m\u001b[39m*\u001b[39mkwargs):\n\u001b[0;32m   1411\u001b[0m     \u001b[39mif\u001b[39;00m data \u001b[39mis\u001b[39;00m \u001b[39mNone\u001b[39;00m:\n\u001b[1;32m-> 1412\u001b[0m         \u001b[39mreturn\u001b[39;00m func(ax, \u001b[39m*\u001b[39m\u001b[39mmap\u001b[39m(sanitize_sequence, args), \u001b[39m*\u001b[39m\u001b[39m*\u001b[39mkwargs)\n\u001b[0;32m   1414\u001b[0m     bound \u001b[39m=\u001b[39m new_sig\u001b[39m.\u001b[39mbind(ax, \u001b[39m*\u001b[39margs, \u001b[39m*\u001b[39m\u001b[39m*\u001b[39mkwargs)\n\u001b[0;32m   1415\u001b[0m     auto_label \u001b[39m=\u001b[39m (bound\u001b[39m.\u001b[39marguments\u001b[39m.\u001b[39mget(label_namer)\n\u001b[0;32m   1416\u001b[0m                   \u001b[39mor\u001b[39;00m bound\u001b[39m.\u001b[39mkwargs\u001b[39m.\u001b[39mget(label_namer))\n",
      "File \u001b[1;32mc:\\Users\\Baron\\miniconda3\\envs\\qmcpy\\lib\\site-packages\\matplotlib\\axes\\_axes.py:2342\u001b[0m, in \u001b[0;36mAxes.bar\u001b[1;34m(self, x, height, width, bottom, align, **kwargs)\u001b[0m\n\u001b[0;32m   2339\u001b[0m     \u001b[39mif\u001b[39;00m yerr \u001b[39mis\u001b[39;00m \u001b[39mnot\u001b[39;00m \u001b[39mNone\u001b[39;00m:\n\u001b[0;32m   2340\u001b[0m         yerr \u001b[39m=\u001b[39m \u001b[39mself\u001b[39m\u001b[39m.\u001b[39m_convert_dx(yerr, y0, y, \u001b[39mself\u001b[39m\u001b[39m.\u001b[39mconvert_yunits)\n\u001b[1;32m-> 2342\u001b[0m x, height, width, y, linewidth, hatch \u001b[39m=\u001b[39m np\u001b[39m.\u001b[39;49mbroadcast_arrays(\n\u001b[0;32m   2343\u001b[0m     \u001b[39m# Make args iterable too.\u001b[39;49;00m\n\u001b[0;32m   2344\u001b[0m     np\u001b[39m.\u001b[39;49matleast_1d(x), height, width, y, linewidth, hatch)\n\u001b[0;32m   2346\u001b[0m \u001b[39m# Now that units have been converted, set the tick locations.\u001b[39;00m\n\u001b[0;32m   2347\u001b[0m \u001b[39mif\u001b[39;00m orientation \u001b[39m==\u001b[39m \u001b[39m'\u001b[39m\u001b[39mvertical\u001b[39m\u001b[39m'\u001b[39m:\n",
      "File \u001b[1;32m<__array_function__ internals>:180\u001b[0m, in \u001b[0;36mbroadcast_arrays\u001b[1;34m(*args, **kwargs)\u001b[0m\n",
      "File \u001b[1;32mc:\\Users\\Baron\\miniconda3\\envs\\qmcpy\\lib\\site-packages\\numpy\\lib\\stride_tricks.py:540\u001b[0m, in \u001b[0;36mbroadcast_arrays\u001b[1;34m(subok, *args)\u001b[0m\n\u001b[0;32m    533\u001b[0m \u001b[39m# nditer is not used here to avoid the limit of 32 arrays.\u001b[39;00m\n\u001b[0;32m    534\u001b[0m \u001b[39m# Otherwise, something like the following one-liner would suffice:\u001b[39;00m\n\u001b[0;32m    535\u001b[0m \u001b[39m# return np.nditer(args, flags=['multi_index', 'zerosize_ok'],\u001b[39;00m\n\u001b[0;32m    536\u001b[0m \u001b[39m#                  order='C').itviews\u001b[39;00m\n\u001b[0;32m    538\u001b[0m args \u001b[39m=\u001b[39m [np\u001b[39m.\u001b[39marray(_m, copy\u001b[39m=\u001b[39m\u001b[39mFalse\u001b[39;00m, subok\u001b[39m=\u001b[39msubok) \u001b[39mfor\u001b[39;00m _m \u001b[39min\u001b[39;00m args]\n\u001b[1;32m--> 540\u001b[0m shape \u001b[39m=\u001b[39m _broadcast_shape(\u001b[39m*\u001b[39;49margs)\n\u001b[0;32m    542\u001b[0m \u001b[39mif\u001b[39;00m \u001b[39mall\u001b[39m(array\u001b[39m.\u001b[39mshape \u001b[39m==\u001b[39m shape \u001b[39mfor\u001b[39;00m array \u001b[39min\u001b[39;00m args):\n\u001b[0;32m    543\u001b[0m     \u001b[39m# Common case where nothing needs to be broadcasted.\u001b[39;00m\n\u001b[0;32m    544\u001b[0m     \u001b[39mreturn\u001b[39;00m args\n",
      "File \u001b[1;32mc:\\Users\\Baron\\miniconda3\\envs\\qmcpy\\lib\\site-packages\\numpy\\lib\\stride_tricks.py:422\u001b[0m, in \u001b[0;36m_broadcast_shape\u001b[1;34m(*args)\u001b[0m\n\u001b[0;32m    417\u001b[0m \u001b[39m\"\"\"Returns the shape of the arrays that would result from broadcasting the\u001b[39;00m\n\u001b[0;32m    418\u001b[0m \u001b[39msupplied arrays against each other.\u001b[39;00m\n\u001b[0;32m    419\u001b[0m \u001b[39m\"\"\"\u001b[39;00m\n\u001b[0;32m    420\u001b[0m \u001b[39m# use the old-iterator because np.nditer does not handle size 0 arrays\u001b[39;00m\n\u001b[0;32m    421\u001b[0m \u001b[39m# consistently\u001b[39;00m\n\u001b[1;32m--> 422\u001b[0m b \u001b[39m=\u001b[39m np\u001b[39m.\u001b[39;49mbroadcast(\u001b[39m*\u001b[39;49margs[:\u001b[39m32\u001b[39;49m])\n\u001b[0;32m    423\u001b[0m \u001b[39m# unfortunately, it cannot handle 32 or more arguments directly\u001b[39;00m\n\u001b[0;32m    424\u001b[0m \u001b[39mfor\u001b[39;00m pos \u001b[39min\u001b[39;00m \u001b[39mrange\u001b[39m(\u001b[39m32\u001b[39m, \u001b[39mlen\u001b[39m(args), \u001b[39m31\u001b[39m):\n\u001b[0;32m    425\u001b[0m     \u001b[39m# ironically, np.broadcast does not properly handle np.broadcast\u001b[39;00m\n\u001b[0;32m    426\u001b[0m     \u001b[39m# objects (it treats them as scalars)\u001b[39;00m\n\u001b[0;32m    427\u001b[0m     \u001b[39m# use broadcasting to avoid allocating the full array\u001b[39;00m\n",
      "\u001b[1;31mValueError\u001b[0m: shape mismatch: objects cannot be broadcast to a single shape.  Mismatch is between arg 0 with shape (2,) and arg 1 with shape (3,)."
     ]
    },
    {
     "data": {
      "image/png": "[encoded data removed]",
      "text/plain": [
       "<Figure size 640x480 with 1 Axes>"
      ]
     },
     "metadata": {},
     "output_type": "display_data"
    }
   ],
   "source": [
    "#Graph 1\n",
    "plt.bar(d_list, time1)\n",
    "plt.xlabel('Dimension')\n",
    "plt.ylabel('Speed up factor')\n",
    "plt.title(factors[0])\n",
    "plt.show()"
   ]
  },
  {
   "cell_type": "code",
   "execution_count": null,
   "metadata": {},
   "outputs": [
    {
     "data": {
      "image/png": "[encoded data removed]",
      "text/plain": [
       "<Figure size 640x480 with 1 Axes>"
      ]
     },
     "metadata": {},
     "output_type": "display_data"
    }
   ],
   "source": [
    "\n",
    "plt.bar(d_list, time2)\n",
    "plt.xlabel('Dimension')\n",
    "plt.ylabel('Speed up factor')\n",
    "plt.title(factors[1])\n",
    "plt.show()"
   ]
  },
  {
   "cell_type": "code",
   "execution_count": null,
   "metadata": {},
   "outputs": [],
   "source": []
  }
 ],
 "metadata": {
  "kernelspec": {
   "display_name": "venv",
   "language": "python",
   "name": "python3"
  },
  "language_info": {
   "codemirror_mode": {
    "name": "ipython",
    "version": 3
   },
   "file_extension": ".py",
   "mimetype": "text/x-python",
   "name": "python",
   "nbconvert_exporter": "python",
   "pygments_lexer": "ipython3",
   "version": "3.9.13"
  },
  "orig_nbformat": 4
 },
 "nbformat": 4,
 "nbformat_minor": 2
}
