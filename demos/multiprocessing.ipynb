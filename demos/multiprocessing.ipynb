{
 "cells": [
  {
   "cell_type": "code",
   "execution_count": 2,
   "metadata": {},
   "outputs": [],
   "source": [
    "import qmcpy as qp\n",
    "import numpy as np\n",
    "import pandas as pd\n",
    "import time\n",
    "import matplotlib.pyplot as plt\n",
    "import cProfile\n",
    "import pstats"
   ]
  },
  {
   "cell_type": "code",
   "execution_count": 3,
   "metadata": {},
   "outputs": [],
   "source": [
    "%matplotlib inline"
   ]
  },
  {
   "cell_type": "code",
   "execution_count": 4,
   "metadata": {},
   "outputs": [],
   "source": [
    "def natural(n, num_ports, seed=None):\n",
    "    l = qp.Lattice(dimension=n, seed=seed,order=\"natural\" ,is_parallel=True)\n",
    "    points = l.gen_samples(num_ports) \n",
    "    return points\n",
    "def natural_process(n, num_ports, seed=None):\n",
    "    l = qp.Lattice(dimension=n, seed=seed,order=\"natural_process\")\n",
    "    points = l.gen_samples(num_ports) \n",
    "    return points\n",
    "def mps(n, num_ports, seed=None):\n",
    "    l = qp.Lattice(dimension=n, seed=seed,order=\"mps\" ,is_parallel=True)\n",
    "    points = l.gen_samples(num_ports) \n",
    "    return points\n",
    "def mps_process(n, num_ports, seed=None):\n",
    "    l = qp.Lattice(dimension=n, seed=seed,order=\"mps_process\",is_parallel=True)\n",
    "    points = l.gen_samples(num_ports) \n",
    "    return points\n",
    "def linear(n, num_ports, seed=None):\n",
    "    l = qp.Lattice(dimension=n, seed=seed,order=\"linear\" ,is_parallel=True)\n",
    "    points = l.gen_samples(num_ports) \n",
    "    return points\n",
    "def linear_process(n, num_ports, seed=None):\n",
    "    l = qp.Lattice(dimension=n, seed=seed,order=\"linear_process\")\n",
    "    points = l.gen_samples(num_ports) \n",
    "    return points"
   ]
  },
  {
   "cell_type": "code",
   "execution_count": 35,
   "metadata": {},
   "outputs": [
    {
     "name": "stdout",
     "output_type": "stream",
     "text": [
      "Process time 0.007599200000000002 method name natural\n",
      "Process time 0.011052199999999998 method name natural\n",
      "Process time 1.3595032999999999 method name natural process\n",
      "Process time 1.2624995999999997 method name natural process\n",
      "Process time 0.004101699999999999 method name linear\n",
      "Process time 0.0071664999999999975 method name linear\n",
      "Process time 0.0035678000000000007 method name linear process\n",
      "Process time 0.007100699999999998 method name linear process\n"
     ]
    }
   ],
   "source": [
    "trials = 1\n",
    "d_list = [50, 100]\n",
    "n = 10\n",
    "data = {'index':d_list}\n",
    "frame = pd.DataFrame(data)\n",
    "frame = frame.set_index('index')\n",
    "names = set()\n",
    "\n",
    "run_list = [(natural, \"natural\"),(natural_process,\"natural process\"),(linear,\"linear\"),(linear_process,\"linear process\")]\n",
    "for method,method_name in run_list:\n",
    "\n",
    "    name = method_name.split(\" \")\n",
    "\n",
    "    names.add(name[0])\n",
    "\n",
    "    times = []\n",
    "    \n",
    "    for d in d_list:\n",
    "        profiler = cProfile.Profile()\n",
    "        profiler.enable()\n",
    "        for _ in range(trials):\n",
    "            _ =method(d, 2 ** n)\n",
    "        profiler.disable()\n",
    "        \n",
    "        stats = pstats.Stats(profiler)\n",
    "            \n",
    "        process_time = stats.total_tt\n",
    "\n",
    "        print(f'Process time {process_time} method name {method_name}')\n",
    "        times.append(process_time)\n",
    "    frame[method_name] = times        \n",
    "\n",
    "\n",
    "names = list(names)        \n"
   ]
  },
  {
   "cell_type": "code",
   "execution_count": 67,
   "metadata": {},
   "outputs": [],
   "source": [
    "def speed_up(data_frame, element_list, dimensions):\n",
    "    speed_factor = []\n",
    "    A = []\n",
    "    B = []\n",
    "    for i in element_list:\n",
    "        for x in dimensions:\n",
    "            A.append(data_frame[i][x])\n",
    "            B.append(data_frame[i + \" process\"][x])\n",
    "    for a,b in zip(A, B):\n",
    "        speed_factor.append(b/a)\n",
    "    order = []\n",
    "    for i in element_list:\n",
    "        for x in dimensions:\n",
    "            order.append((i,x))\n",
    "    return list(zip(order,speed_factor))\n",
    "\n",
    "\n",
    "            \n",
    "\n",
    "        \n",
    "\n"
   ]
  },
  {
   "cell_type": "code",
   "execution_count": 68,
   "metadata": {},
   "outputs": [
    {
     "name": "stdout",
     "output_type": "stream",
     "text": [
      "[0.8698344588829027, 0.9908183911253751, 178.90084482577106, 114.23061471924142]\n",
      "[('linear', 50), ('linear', 100), ('natural', 50), ('natural', 100)]\n",
      "[(('linear', 50), 0.8698344588829027), (('linear', 100), 0.9908183911253751), (('natural', 50), 178.90084482577106), (('natural', 100), 114.23061471924142)]\n"
     ]
    }
   ],
   "source": [
    "speed_up(frame, names, d_list)"
   ]
  },
  {
   "cell_type": "code",
   "execution_count": 43,
   "metadata": {},
   "outputs": [
    {
     "name": "stdout",
     "output_type": "stream",
     "text": [
      "        natural  natural process    linear  linear process\n",
      "index                                                     \n",
      "50     0.007599         1.359503  0.004102        0.003568\n",
      "100    0.011052         1.262500  0.007166        0.007101\n"
     ]
    }
   ],
   "source": [
    "print(frame)"
   ]
  },
  {
   "cell_type": "code",
   "execution_count": null,
   "metadata": {},
   "outputs": [],
   "source": []
  }
 ],
 "metadata": {
  "kernelspec": {
   "display_name": "venv",
   "language": "python",
   "name": "python3"
  },
  "language_info": {
   "codemirror_mode": {
    "name": "ipython",
    "version": 3
   },
   "file_extension": ".py",
   "mimetype": "text/x-python",
   "name": "python",
   "nbconvert_exporter": "python",
   "pygments_lexer": "ipython3",
   "version": "3.9.13"
  },
  "orig_nbformat": 4
 },
 "nbformat": 4,
 "nbformat_minor": 2
}
