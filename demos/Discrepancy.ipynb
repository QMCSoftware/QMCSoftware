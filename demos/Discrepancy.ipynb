{
 "cells": [
  {
   "cell_type": "code",
   "execution_count": 1,
   "id": "152d078c-41ee-48a6-8b06-06d615210418",
   "metadata": {},
   "outputs": [
    {
     "name": "stdout",
     "output_type": "stream",
     "text": [
      "ok\n"
     ]
    }
   ],
   "source": [
    "import qmcpy as qp\n",
    "import numpy as np\n",
    "import scipy.stats\n",
    "#import pandas as pd\n",
    "import time\n",
    "#from matplotlib import pyplot\n",
    "#pyplot.style.use('../qmcpy/qmcpy.mplstyle')\n",
    "#colors = pyplot.rcParams['axes.prop_cycle'].by_key()['color']\n",
    "print(\"ok\")"
   ]
  },
  {
   "cell_type": "markdown",
   "id": "543d1a46-61b9-4d76-abb3-f38ab1256327",
   "metadata": {},
   "source": [
    "## Add some Latex macros\n",
    "$\n",
    "\\newcommand{\\vx}{\\boldsymbol{x}}\n",
    "$"
   ]
  },
  {
   "cell_type": "code",
   "execution_count": 7,
   "id": "1a6ca48f-bdce-43da-9cba-54ad5ee13561",
   "metadata": {},
   "outputs": [],
   "source": [
    "iid = qp.IIDStdUniform(dimension=10)\n",
    "x = iid.gen_samples(n=4)"
   ]
  },
  {
   "cell_type": "markdown",
   "id": "13ff1cd8-fafa-40f2-8200-2581552f366a",
   "metadata": {},
   "source": [
    "We generated our points in $d \\in \\mathbb{N}$ dimensions and generated $n \\in \\mathbb{N}$ samples. Assuming that $\\boldsymbol{x}_1, \\boldsymbol{x}_2, \\boldsymbol{x}_3, ..., \\boldsymbol{x}_n \\in [0, 1]^d$, to find our discrepancy in L2-star discrepancy we must calculate\n",
    "$$\n",
    "D^2(\\{\\vx_i \\}_1^n) = \\int_{[0,1]^d} \\int_{[0,1]^d} K(x,y)~dx~dy - \\frac{2}{n} \\sum_{i=1}^n \\int_{[0,1]^d} K(x, x_i) ~dx + \\frac{1}{n^2} \\sum_{i,j = 1}^n K(x_i, x_j)\n",
    "$$\n",
    "Note, $K(x_i,x_j) = \\prod_{k=1}^d [2 - \\max(x_{i_k}, x_{j_k})]$. Also, $\\int_{[0,1]^d} \\int_{[0,1]^d} K(x,y)~dx~dy = (\\frac{4}{3})^d$ and $\\frac{2}{n} \\sum_{i=1}^n \\int_{[0,1]^d} K(x, x_i) ~dx = \\prod_{k=1}^d (\\frac{3 - x_{i_k}^2}{2})$."
   ]
  },
  {
   "cell_type": "code",
   "execution_count": 209,
   "id": "3ee3d735-5a37-4789-814f-567f674c3353",
   "metadata": {},
   "outputs": [],
   "source": [
    "n, d = x.shape"
   ]
  },
  {
   "cell_type": "markdown",
   "id": "0f173773-0c98-4432-adea-2af5af240364",
   "metadata": {},
   "source": [
    "We have our $d$ dimensions and $n$ samples. Now we have to find $\\int_{[0,1]^d} \\int_{[0,1]^d} K(x,y)~dx~dy$, which is $(\\frac{4}{3})^d$. Let $A = \\int_{[0,1]^d} \\int_{[0,1]^d} K(x,y)~dx~dy$. We calculate,"
   ]
  },
  {
   "cell_type": "code",
   "execution_count": 210,
   "id": "e0a783de-dad5-4638-ab54-696a1c936dfc",
   "metadata": {},
   "outputs": [],
   "source": [
    "A = (4/3)**d"
   ]
  },
  {
   "cell_type": "markdown",
   "id": "677d7d5d-9baf-4c0a-a43e-07a60c8cefb7",
   "metadata": {},
   "source": [
    "We have our $A$. Now, we must find our $\\frac{2}{n} \\sum_{i=1}^n \\int_{[0,1]^d} K(x, x_i)~dx$, which is $\\prod_{k=1}^d (\\frac{3 - x_k^2}{2})$. Let $B = \\frac{2}{n} \\sum_{i=1}^n \\int_{[0,1]^d} K(x, x_i)~dx$. We calculate,"
   ]
  },
  {
   "cell_type": "code",
   "execution_count": 211,
   "id": "686dc3e3-e7fa-4d1f-9a0a-a7d022d15a81",
   "metadata": {},
   "outputs": [],
   "source": [
    "b_1 = (3 - x**2)/2\n",
    "b_2 = b_1.prod(axis=1)\n",
    "B = 2*np.mean(b_2)"
   ]
  },
  {
   "cell_type": "markdown",
   "id": "0396d977-4ab2-444f-94e8-d475cc151e06",
   "metadata": {},
   "source": [
    "We finally have our $B$. Now for the final piece of this equation, we need to find $\\frac{1}{n^2} \\sum_{i, j = 1}^n K(x_i, x_j)$. Let $C = \\frac{1}{n^2} \\sum_{i, j = 1}^n K(x_i, x_j)$. We calculate,"
   ]
  },
  {
   "cell_type": "code",
   "execution_count": 212,
   "id": "f1056f73-3e6f-4d00-af50-5af059406f1b",
   "metadata": {},
   "outputs": [
    {
     "name": "stdout",
     "output_type": "stream",
     "text": [
      "17.898584147741673\n"
     ]
    }
   ],
   "source": [
    "#start = time.time()\n",
    "total = 0\n",
    "#Maybe by making a 3d matrix we can pull this off\n",
    "for i in range(n):\n",
    "    c_1 = 2- np.maximum(x,x[i])\n",
    "    c_2 = c_1.prod(axis=1)\n",
    "    c_3 = np.mean(c_2)\n",
    "    total = total + c_3\n",
    "C = total / n\n",
    "#end = time.time()\n",
    "#print(\"runtime: \" + str(end - start))\n",
    "print(C)"
   ]
  },
  {
   "cell_type": "markdown",
   "id": "a5fba120-88ad-4e3b-a312-3526cdf94cc9",
   "metadata": {},
   "source": [
    "Now all we have to do is find $D(\\{x_i\\}_1^n)$. In order to find it, we must calculate, $\\sqrt{A-B+C}$, since $D(\\{x_i \\}_1^n)^2 = A-B+C$. We calculate,"
   ]
  },
  {
   "cell_type": "code",
   "execution_count": 213,
   "id": "99ed1a33-ee48-4174-9d5e-a7cf1d1398a7",
   "metadata": {},
   "outputs": [
    {
     "name": "stdout",
     "output_type": "stream",
     "text": [
      "0.19481376675187773\n"
     ]
    }
   ],
   "source": [
    "disc = (A - B + C)**.5\n",
    "print(disc)"
   ]
  },
  {
   "cell_type": "code",
   "execution_count": 1,
   "id": "6db757f3-3757-46cf-9253-aa1fe300e1f9",
   "metadata": {},
   "outputs": [
    {
     "ename": "NameError",
     "evalue": "name 'np' is not defined",
     "output_type": "error",
     "traceback": [
      "\u001b[1;31m---------------------------------------------------------------------------\u001b[0m",
      "\u001b[1;31mNameError\u001b[0m                                 Traceback (most recent call last)",
      "Cell \u001b[1;32mIn[1], line 1\u001b[0m\n\u001b[1;32m----> 1\u001b[0m \u001b[38;5;28mprint\u001b[39m(\u001b[43mnp\u001b[49m\u001b[38;5;241m.\u001b[39mzeros((\u001b[38;5;241m2\u001b[39m,\u001b[38;5;241m3\u001b[39m,\u001b[38;5;241m4\u001b[39m)))\n",
      "\u001b[1;31mNameError\u001b[0m: name 'np' is not defined"
     ]
    }
   ],
   "source": [
    "print(np.zeros((2,3,4)))"
   ]
  },
  {
   "cell_type": "code",
   "execution_count": null,
   "id": "038eabc3-9088-4815-b8d3-cb18f52d157d",
   "metadata": {},
   "outputs": [],
   "source": []
  }
 ],
 "metadata": {
  "kernelspec": {
   "display_name": "Python 3 (ipykernel)",
   "language": "python",
   "name": "python3"
  },
  "language_info": {
   "codemirror_mode": {
    "name": "ipython",
    "version": 3
   },
   "file_extension": ".py",
   "mimetype": "text/x-python",
   "name": "python",
   "nbconvert_exporter": "python",
   "pygments_lexer": "ipython3",
   "version": "3.9.13"
  }
 },
 "nbformat": 4,
 "nbformat_minor": 5
}
