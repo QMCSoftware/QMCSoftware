{
 "cells": [
  {
   "cell_type": "code",
   "execution_count": 1,
   "id": "152d078c-41ee-48a6-8b06-06d615210418",
   "metadata": {},
   "outputs": [
    {
     "name": "stdout",
     "output_type": "stream",
     "text": [
      "ok\n"
     ]
    }
   ],
   "source": [
    "import qmcpy as qp\n",
    "import numpy as np\n",
    "import scipy.stats\n",
    "#import pandas as pd\n",
    "import time\n",
    "#from matplotlib import pyplot\n",
    "#pyplot.style.use('../qmcpy/qmcpy.mplstyle')\n",
    "#colors = pyplot.rcParams['axes.prop_cycle'].by_key()['color']\n",
    "print(\"ok\")"
   ]
  },
  {
   "cell_type": "markdown",
   "id": "9df13683-be5f-4558-9dc3-0450656cdbb6",
   "metadata": {},
   "source": [
    "We generated our points in $d$ dimensions and generated $n$ samples such that $\\boldsymbol{x}_i \\in [0,1]^d$ for $i = 1, 2, 3, ..., n$. Let matrix $\\boldsymbol{X}$ be a $n \\times d$ matrix such that\n",
    "$$\n",
    "\\boldsymbol{X} = \n",
    "\\begin{bmatrix}\n",
    "\\boldsymbol{x}_1\\\\\n",
    "\\boldsymbol{x}_2\\\\\n",
    "\\boldsymbol{x}_3\\\\\n",
    "...\\\\\n",
    "\\boldsymbol{x}_n\\\\\n",
    "\\end{bmatrix}\n",
    "$$\n",
    "which can be rewritten as\n",
    "$$\n",
    "\\boldsymbol{X} = \n",
    "\\begin{bmatrix}\n",
    "\\boldsymbol{x}_{(1,1)} & \\boldsymbol{x}_{(1,2)} & \\boldsymbol{x}_{(1,3)} & ... & \\boldsymbol{x}_{(1,d)}\\\\\n",
    "\\boldsymbol{x}_{(2,1)} & \\boldsymbol{x}_{(2,2)} & \\boldsymbol{x}_{(2,3)} & ... & \\boldsymbol{x}_{(2,d)}\\\\\n",
    "\\boldsymbol{x}_{(3,1)} & \\boldsymbol{x}_{(3,2)} & \\boldsymbol{x}_{(3,3)} & ... & \\boldsymbol{x}_{(3,d)}\\\\\n",
    "... & ... & ... & ... & ...\\\\\n",
    "\\boldsymbol{x}_{(n,1)} & \\boldsymbol{x}_{(n,2)} & \\boldsymbol{x}_{(n,3)} & ... & \\boldsymbol{x}_{(n,d)}\\\\\n",
    "\\end{bmatrix}\n",
    "$$"
   ]
  },
  {
   "cell_type": "markdown",
   "id": "c04db98e-8b84-435e-afe1-b910131e04fc",
   "metadata": {},
   "source": [
    "We want to find our discrepancy in star discrepancy we must calculate\n",
    "$$\n",
    "[D(\\boldsymbol{X}) ]^2= \\int_{[0,1]^d} \\int_{[0,1]^d} K(x,y)~dx~dy - \\frac{2}{n} \\sum_{i=1}^n \\int_{[0,1]^d} K(x, \\boldsymbol{x}_i) ~dx + \\frac{1}{n^2} \\sum_{i,j = 1}^n K(\\boldsymbol{x}_i, \\boldsymbol{x}_j)\n",
    "$$\n",
    "Note, the kernel for star discrepancy is $K(\\boldsymbol{x}_i,\\boldsymbol{x}_j) = \\prod_{k=1}^d [2 - \\max(\\boldsymbol{x}_{i_k}, \\boldsymbol{x}_{j_k})]$. Also, $\\int_{[0,1]^d} \\int_{[0,1]^d} K(x,y)~dx~dy = (\\frac{4}{3})^d$ and $\\frac{2}{n} \\sum_{i=1}^n \\int_{[0,1]^d} K(x, \\boldsymbol{x}_i) ~dx = \\prod_{k=1}^d (\\frac{3 - \\boldsymbol{x}_{i_k}^2}{2})$. For the sake of program let,\n",
    "$$\n",
    "A = \\int_{[0,1]^d} \\int_{[0,1]^d} K(x,y)~dx~dy = (\\frac{4}{3})^d\n",
    "$$\n",
    "$$\n",
    "B = \\frac{2}{n} \\sum_{i=1}^n \\int_{[0,1]^d} K(x, \\boldsymbol{x}_i) ~dx = \\prod_{k=1}^d (\\frac{3 - \\boldsymbol{x}_{i_k}^2}{2})\n",
    "$$\n",
    "$$\n",
    "C = \\frac{1}{n^2} \\sum_{i,j = 1}^n \\prod_{k=1}^d [2 - \\max(\\boldsymbol{x}_{i_k}, \\boldsymbol{x}_{j_k})]\n",
    "$$\n",
    "So, $D(\\boldsymbol{X}) = \\sqrt{A - B + C}$. We calculate"
   ]
  },
  {
   "cell_type": "code",
   "execution_count": 2,
   "id": "90695ac7-744e-4563-a825-d616971074ed",
   "metadata": {},
   "outputs": [],
   "source": [
    "def star_disc(x):\n",
    "    n, d = x.shape\n",
    "\n",
    "    A = (4/3)**d\n",
    "\n",
    "    b_1 = (3-x**2)/2\n",
    "    b_2 = b_1.prod(axis=1)\n",
    "    B = 2*np.mean(b_2)\n",
    "\n",
    "    c_1 = np.zeros((n,n,d)) + x\n",
    "    y = np.resize(x, (n, 1, d))\n",
    "    c_2 = 2 - np.maximum(c_1, y)\n",
    "    c_3 = c_2.prod(axis=2)\n",
    "    c_4 = np.mean(c_3)\n",
    "    C = np.mean(c_4)\n",
    "\n",
    "    disc = (A - B + C)**.5\n",
    "    return disc"
   ]
  },
  {
   "cell_type": "markdown",
   "id": "8581ae0c-10b5-4f27-b331-35f0a87ce55a",
   "metadata": {},
   "source": [
    "We want to find our discrepancy in L2star discrepancy. The equation to find the discrepancy is the same except we choose a different equation for the kernel. Which our kernel is $K(x,y) = \\prod_{k=1}^d (1 - \\max(x_k,y_k))$. And so to get our discrepancy we must calculate\n",
    "$$\n",
    "[D(\\boldsymbol{X}) ]^2= \\int_{[0,1]^d} \\int_{[0,1]^d} K(x,y)~dx~dy - \\frac{2}{n} \\sum_{i=1}^n \\int_{[0,1]^d} K(x, \\boldsymbol{x}_i) ~dx + \\frac{1}{n^2} \\sum_{i,j = 1}^n K(\\boldsymbol{x}_i, \\boldsymbol{x}_j)\n",
    "$$\n",
    "$$\n",
    "[D(\\boldsymbol{X}) ]^2= (1/3)^d - \\frac{2}{n} \\sum_{i=1}^n \\prod_{k=1}^d (\\frac{1 - \\boldsymbol{x}_{i_k}^2}{2}) + \\frac{1}{n^2} \\sum_{i,j = 1}^n \\prod_{k=1}^d (1 - \\max(\\boldsymbol{x}_{i_k}, \\boldsymbol{x}_{j_k}))\n",
    "$$\n",
    "$$\n",
    "D(\\boldsymbol{X}) = \\sqrt{(1/3)^d - \\frac{2}{n} \\sum_{i=1}^n \\prod_{k=1}^d (\\frac{1 - \\boldsymbol{x}_{i_k}^2}{2}) + \\frac{1}{n^2} \\sum_{i,j = 1}^n \\prod_{k=1}^d (1 - \\max(\\boldsymbol{x}_{i_k}, \\boldsymbol{x}_{j_k}))}\n",
    "$$\n",
    "So now let A, B, and C be calculated as\n",
    "\n",
    "$$\n",
    "A = \\int_{[0,1]^d} \\int_{[0,1]^d} K(x,y)~dx~dy = (\\frac{1}{3})^d\n",
    "$$\n",
    "$$\n",
    "B = \\frac{2}{n} \\sum_{i=1}^n \\int_{[0,1]^d} K(x, \\boldsymbol{x}_i) ~dx = \\prod_{k=1}^d (\\frac{1 - \\boldsymbol{x}_{i_k}^2}{2})\n",
    "$$\n",
    "$$\n",
    "C = \\frac{1}{n^2} \\sum_{i,j = 1}^n \\prod_{k=1}^d (1 - \\max(x_k,y_k))\n",
    "$$\n",
    "So, $D(\\boldsymbol{X}) = \\sqrt{A - B + C}$. We calculate"
   ]
  },
  {
   "cell_type": "code",
   "execution_count": 3,
   "id": "71a8ca4b-4c9e-4283-affd-47bc81a84084",
   "metadata": {},
   "outputs": [],
   "source": [
    "def L2star_disc(x):\n",
    "    n, d = x.shape\n",
    "\n",
    "    A = (1/3)**d\n",
    "\n",
    "    b_1 = (1 - x**2)/2\n",
    "    b_2 = b_1.prod(axis=1)\n",
    "    B = 2*np.mean(b_2)\n",
    "\n",
    "    c_1 = np.zeros((n,n,d)) + x\n",
    "    y = np.resize(x, (n, 1, d))\n",
    "    c_2 = 1 - np.maximum(c_1, y)\n",
    "    c_3 = c_2.prod(axis=2)\n",
    "    c_4 = np.mean(c_3)\n",
    "    C = np.mean(c_4)\n",
    "\n",
    "    disc = (A - B + C)**.5\n",
    "    return disc"
   ]
  },
  {
   "cell_type": "markdown",
   "id": "fef57896-151a-49ed-89ec-45170ad43623",
   "metadata": {},
   "source": [
    "We want to find our discrepancy in centered discrepancy. We will choose our kernel to be $K(x,y) = \\prod_{k=1}^d (1 + .5|\\boldsymbol{x}_k - .5| + .5|\\boldsymbol{y}_k - .5| - .5 |\\boldsymbol{x}_k - \\boldsymbol{y}_k|)$. And so to get our discrepancy we must calculate\n",
    "$$\n",
    "[D(\\boldsymbol{X}) ]^2= \\int_{[0,1]^d} \\int_{[0,1]^d} K(x,y)~dx~dy - \\frac{2}{n} \\sum_{i=1}^n \\int_{[0,1]^d} K(x, \\boldsymbol{x}_i) ~dx + \\frac{1}{n^2} \\sum_{i,j = 1}^n K(\\boldsymbol{x}_i, \\boldsymbol{x}_j)\n",
    "$$\n",
    "$$\n",
    "[D(\\boldsymbol{X}) ]^2= (13/12)^d - \\frac{2}{n} \\sum_{i=1}^n \\prod_{k=1}^d (1 + .5|\\boldsymbol{x}_{i_k} - .5| - .5 (\\boldsymbol{x}_{i_k} -.5)^2) + \\frac{1}{n^2} \\sum_{i,j = 1}^n \\prod_{k=1}^d (1 + .5|\\boldsymbol{x}_{i_k} - .5| + .5|\\boldsymbol{x}_{j_k} - .5| - .5 |\\boldsymbol{x}_{i_k} - \\boldsymbol{x}_{j_k}|)\n",
    "$$\n",
    "$$\n",
    "D(\\boldsymbol{X}) = \\sqrt{(13/12)^d - \\frac{2}{n} \\sum_{i=1}^n \\prod_{k=1}^d (1 + .5|\\boldsymbol{x}_{i_k} - .5| - .5 (\\boldsymbol{x}_{i_k} -.5)^2) + \\frac{1}{n^2} \\sum_{i,j = 1}^n \\prod_{k=1}^d (1 + .5|\\boldsymbol{x}_{i_k} - .5| + .5|\\boldsymbol{x}_{j_k} - .5| - .5 |\\boldsymbol{x}_{i_k} - \\boldsymbol{x}_{j_k}|)}\n",
    "$$\n",
    "Let A, B, and C be calculated as\n",
    "\n",
    "$$\n",
    "A = \\int_{[0,1]^d} \\int_{[0,1]^d} K(x,y)~dx~dy = (\\frac{13}{12})^d\n",
    "$$\n",
    "$$\n",
    "B = \\frac{2}{n} \\sum_{i=1}^n \\int_{[0,1]^d} K(x, \\boldsymbol{x}_i) ~dx = \\frac{2}{n} \\sum_{i=1}^n \\prod_{k=1}^d (1 + .5|\\boldsymbol{x}_{i_k} - .5| - .5 (\\boldsymbol{x}_{i_k} -.5)^2)\n",
    "$$\n",
    "$$\n",
    "C = \\frac{1}{n^2} \\sum_{i,j = 1}^n \\prod_{k=1}^d (1 + .5|\\boldsymbol{x}_{i_k} - .5| + .5|\\boldsymbol{x}_{j_k} - .5| - .5 |\\boldsymbol{x}_{i_k} - \\boldsymbol{x}_{j_k}|)\n",
    "$$\n",
    "Of course $D(\\boldsymbol{X}) = \\sqrt{A - B + C}$. So now we calculate,"
   ]
  },
  {
   "cell_type": "code",
   "execution_count": 4,
   "id": "5c1209fc-130d-4da1-929f-5e6f56015175",
   "metadata": {},
   "outputs": [],
   "source": [
    "def center_disc(x):\n",
    "    n, d = x.shape\n",
    "\n",
    "    A = (13/12)**d\n",
    "\n",
    "    b_1 = 1 + (.5*abs(x - .5)) - (.5*((x -.5)**2))\n",
    "    b_2 = b_1.prod(axis=1)\n",
    "    B = 2*np.mean(b_2)\n",
    "\n",
    "    c_1 = np.zeros((n,n,d)) + x\n",
    "    y = np.resize(x, (n, 1, d))\n",
    "    c_2 = 1 + (.5*abs(c_1 - .5)) + (.5*abs(y - .5)) - (.5*abs(c_1 - y))\n",
    "    c_3 = c_2.prod(axis=2)\n",
    "    c_4 = np.mean(c_3)\n",
    "    C = np.mean(c_4)\n",
    "\n",
    "    disc = (A - B + C)**.5\n",
    "    return disc"
   ]
  },
  {
   "cell_type": "markdown",
   "id": "80e6ac2b-be87-4b51-a037-d9553cb98d47",
   "metadata": {},
   "source": [
    "We want to find our discrepancy in symmetric discrepancy. We will choose our kernel to be $K(x,y) = \\prod_{k=1}^d (2 - 2|\\boldsymbol{x}_k - \\boldsymbol{y}_k|)$. And so to get our discrepancy we must calculate\n",
    "$$\n",
    "[D(\\boldsymbol{X}) ]^2= \\int_{[0,1]^d} \\int_{[0,1]^d} K(x,y)~dx~dy - \\frac{2}{n} \\sum_{i=1}^n \\int_{[0,1]^d} K(x, \\boldsymbol{x}_i) ~dx + \\frac{1}{n^2} \\sum_{i,j = 1}^n K(\\boldsymbol{x}_i, \\boldsymbol{x}_j)\n",
    "$$\n",
    "$$\n",
    "[D(\\boldsymbol{X}) ]^2= (4/3)^d - \\frac{2}{n} \\sum_{i=1}^n \\prod_{k=1}^d (1 + 2\\boldsymbol{x}_{i_k} - 2 \\boldsymbol{x}_{i_k}^2) + \\frac{1}{n^2} \\sum_{i,j = 1}^n \\prod_{k=1}^d (2 - 2|\\boldsymbol{x}_{i_k} - \\boldsymbol{x}_{j_k}|)\n",
    "$$\n",
    "$$\n",
    "D(\\boldsymbol{X}) = \\sqrt{(4/3)^d - \\frac{2}{n} \\sum_{i=1}^n \\prod_{k=1}^d (1 + 2\\boldsymbol{x}_{i_k} - 2 \\boldsymbol{x}_{i_k}^2) + \\frac{1}{n^2} \\sum_{i,j = 1}^n \\prod_{k=1}^d (2 - 2|\\boldsymbol{x}_{i_k} - \\boldsymbol{x}_{j_k}|)}\n",
    "$$\n",
    "Let A, B, and C be calculated as\n",
    "\n",
    "$$\n",
    "A = \\int_{[0,1]^d} \\int_{[0,1]^d} K(x,y)~dx~dy = (\\frac{4}{3})^d\n",
    "$$\n",
    "$$\n",
    "B = \\frac{2}{n} \\sum_{i=1}^n \\int_{[0,1]^d} K(x, \\boldsymbol{x}_i) ~dx = \\frac{2}{n} \\sum_{i=1}^n \\prod_{k=1}^d (1 + 2\\boldsymbol{x}_{i_k} - 2 \\boldsymbol{x}_{i_k}^2)\n",
    "$$\n",
    "$$\n",
    "C = \\frac{1}{n^2} \\sum_{i,j = 1}^n \\prod_{k=1}^d (2 - 2|\\boldsymbol{x}_{i_k} - \\boldsymbol{x}_{j_k}|)\n",
    "$$\n",
    "Of course $D(\\boldsymbol{X}) = \\sqrt{A - B + C}$. So now we calculate,"
   ]
  },
  {
   "cell_type": "code",
   "execution_count": 5,
   "id": "3323eba8-4cb2-4e75-9fb3-6a0ef132d2b1",
   "metadata": {},
   "outputs": [],
   "source": [
    "def symmetric_disc(x):\n",
    "    n, d = x.shape\n",
    "\n",
    "    A = (4/3)**d\n",
    "\n",
    "    b_1 = 1 + 2*x - (2*(x**2))\n",
    "    b_2 = b_1.prod(axis=1)\n",
    "    B = 2*np.mean(b_2)\n",
    "\n",
    "    c_1 = np.zeros((n,n,d)) + x\n",
    "    y = np.resize(x, (n, 1, d))\n",
    "    c_2 = 2 - (2*abs(c_1 - y))\n",
    "    c_3 = c_2.prod(axis=2)\n",
    "    c_4 = np.mean(c_3)\n",
    "    C = np.mean(c_4)\n",
    "\n",
    "    disc = (A - B + C)**.5\n",
    "    return disc"
   ]
  },
  {
   "cell_type": "markdown",
   "id": "cd87bd89-d4dd-4976-bfba-4df7054aed1d",
   "metadata": {},
   "source": [
    "This and next cell are play cells. So the L2-star discrepancy works just as accurately as the scipy discrepancy; however, confused on the centered discrepancy because in my code I square root to get $D(\\boldsymbol{X})$. However in scipy that doesn't seem to be the case. To prove it. I printed out the following outputs. So for the centered discrepancy, this would mean that either I was not suppose to square root or scipy forgot to square root."
   ]
  },
  {
   "cell_type": "code",
   "execution_count": 6,
   "id": "0f0d0bd8-d42f-4a07-a45f-9b79e0f70578",
   "metadata": {},
   "outputs": [
    {
     "name": "stdout",
     "output_type": "stream",
     "text": [
      "[1.         0.25       0.11111111]\n",
      "0.8255213507650992\n",
      "0.6814855005690337\n",
      "0.825521350765099\n"
     ]
    }
   ],
   "source": [
    "#L2-star discrepancy\n",
    "#Fix the bug in this program\n",
    "d = 3\n",
    "A = qp.IIDStdUniform(dimension=d)\n",
    "X = A.gen_samples(n=2)\n",
    "#X = np.array([[.5, .5]])\n",
    "def SY(x):\n",
    "    n, d = x.shape\n",
    "\n",
    "    A = (4/3)**d\n",
    "\n",
    "    b_1 = 1 + 2*x - (2*(x**2))\n",
    "    B = b_1.prod(axis=1)\n",
    "\n",
    "    c_1 = np.zeros((n,n,d)) + x\n",
    "    y = np.resize(x, (n, 1, d))\n",
    "    c_2 = 2 - (2*abs(c_1 - y))\n",
    "    C = c_2.prod(axis=2)\n",
    "    return A, B, C\n",
    "\n",
    "weight = np.arange(1, d+1, dtype=float)**(-2)\n",
    "\n",
    "print(weight)\n",
    "\n",
    "#weight = np.array([3, 2, 1])\n",
    "#print(qp.discrepancy(SY, X))\n",
    "#print(qp.discrepancy('Sy', X))\n",
    "\n",
    "#print(qp.discrepancy('S', X))\n",
    "#print(qp.discrepancy('S', X, 1))\n",
    "d_1 = 3\n",
    "#print(qp.discrepancy('S', X, weight))\n",
    "#print(X[:, :d_1])\n",
    "#print(weight[:d_1])\n",
    "print(qp.discrepancy('WA', X))\n",
    "print(scipy.stats.qmc.discrepancy(X, method='WD'))\n",
    "print(np.sqrt(scipy.stats.qmc.discrepancy(X, method='WD')))"
   ]
  },
  {
   "cell_type": "code",
   "execution_count": 18,
   "id": "f0786562-9037-4d98-904a-8bd3c72d98c4",
   "metadata": {},
   "outputs": [
    {
     "name": "stdout",
     "output_type": "stream",
     "text": [
      "[1.         0.25       0.11111111]\n",
      "0.34255410831526484\n",
      "0.34255410831526484\n",
      "0.6581248777604833\n",
      "0.6581248777604837\n"
     ]
    }
   ],
   "source": [
    "d = 3\n",
    "A = qp.IIDStdUniform(dimension=d)\n",
    "X = A.gen_samples(n=2)\n",
    "\n",
    "weight = np.arange(1, d+1, dtype=float)**(-2)\n",
    "print(weight)\n",
    "\n",
    "def L2(x,weight):\n",
    "    n, d = x.shape\n",
    "    Y = np.resize(x, (n, 1, d))\n",
    "    X_expanded = np.resize(x, (1, n, d))\n",
    "    \n",
    "    A = (1 + (weight/3)).prod(axis=0)\n",
    "\n",
    "    B = ((1 + (weight*(1 - x**2)/2))).prod(axis=1)\n",
    "\n",
    "    C = (1 + weight*(1 - np.maximum(X_expanded, Y))).prod(axis=2)\n",
    "    return A, B, C\n",
    "\n",
    "def L(x):\n",
    "    n, d = x.shape\n",
    "    Y = np.resize(x, (n, 1, d))\n",
    "    X_expanded = np.resize(x, (1, n, d))\n",
    "    \n",
    "    A = (4/3)**d\n",
    "\n",
    "    B = (1 + ((1 - x**2)/2)).prod(axis=1)\n",
    "\n",
    "    C = (2 - np.maximum(X_expanded, Y)).prod(axis=2)\n",
    "    return A, B, C\n",
    "\n",
    "\n",
    "print(qp.discrepancy(L2, X, weight))\n",
    "print(qp.discrepancy('S', X, weight))\n",
    "print(qp.discrepancy(L, X))\n",
    "print(qp.discrepancy('S', X))"
   ]
  },
  {
   "cell_type": "code",
   "execution_count": null,
   "id": "a0653ca4-9cbe-4b27-8e73-78cc4a0813ab",
   "metadata": {},
   "outputs": [],
   "source": []
  },
  {
   "cell_type": "code",
   "execution_count": 16,
   "id": "f9c05aa5-a8eb-43e8-861e-15a7244e687e",
   "metadata": {},
   "outputs": [
    {
     "name": "stdout",
     "output_type": "stream",
     "text": [
      "wrap around\n",
      "QMCSoftware:          0.6477286434405766\n",
      "Square root of Scipy: 0.6477286434405762\n",
      "Scipy:                0.4195523955333691\n",
      "centered\n",
      "QMCSoftware:          0.5696302657109088\n",
      "Square root of Scipy: 0.5696302657109088\n",
      "Scipy:                0.32447863961388057\n",
      "mixture\n",
      "QMCSoftware:          0.7566786568383785\n",
      "Square root of Scipy: 0.7566786568383785\n",
      "Scipy:                0.5725625897147326\n"
     ]
    }
   ],
   "source": [
    "d = 3\n",
    "A = qp.IIDStdUniform(dimension=d)\n",
    "X = A.gen_samples(n=2)\n",
    "print('wrap around')\n",
    "print('QMCSoftware:          ' + str(qp.discrepancy('WA', X)))\n",
    "print('Square root of Scipy: ' + str(np.sqrt(scipy.stats.qmc.discrepancy(X, method='WD'))))\n",
    "print('Scipy:                ' + str(scipy.stats.qmc.discrepancy(X, method='WD')))\n",
    "\n",
    "print('centered')\n",
    "print('QMCSoftware:          ' + str(qp.discrepancy('C', X)))\n",
    "print('Square root of Scipy: ' + str(np.sqrt(scipy.stats.qmc.discrepancy(X, method='CD'))))\n",
    "print('Scipy:                ' + str(scipy.stats.qmc.discrepancy(X, method='CD')))\n",
    "\n",
    "print('mixture')\n",
    "print('QMCSoftware:          ' + str(qp.discrepancy('M', X)))\n",
    "print('Square root of Scipy: ' + str(np.sqrt(scipy.stats.qmc.discrepancy(X, method='MD'))))\n",
    "print('Scipy:                ' + str(scipy.stats.qmc.discrepancy(X, method='MD')))"
   ]
  },
  {
   "cell_type": "code",
   "execution_count": null,
   "id": "ba79ddeb-d7e3-4829-9488-61628610c553",
   "metadata": {},
   "outputs": [],
   "source": []
  },
  {
   "cell_type": "code",
   "execution_count": 9,
   "id": "328b9d82-1b64-45cc-a0e6-0365dd46b177",
   "metadata": {},
   "outputs": [
    {
     "name": "stdout",
     "output_type": "stream",
     "text": [
      "[[0.40898697 0.54669356 0.1618548 ]\n",
      " [0.50089173 0.90893622 0.23370881]\n",
      " [0.80956436 0.29776616 0.38910199]\n",
      " [0.45827124 0.17344588 0.86071439]]\n",
      "[[[0.40898697 0.54669356 0.1618548 ]\n",
      "  [0.50089173 0.90893622 0.23370881]\n",
      "  [0.80956436 0.29776616 0.38910199]\n",
      "  [0.45827124 0.17344588 0.86071439]]\n",
      "\n",
      " [[0.40898697 0.54669356 0.1618548 ]\n",
      "  [0.50089173 0.90893622 0.23370881]\n",
      "  [0.80956436 0.29776616 0.38910199]\n",
      "  [0.45827124 0.17344588 0.86071439]]\n",
      "\n",
      " [[0.40898697 0.54669356 0.1618548 ]\n",
      "  [0.50089173 0.90893622 0.23370881]\n",
      "  [0.80956436 0.29776616 0.38910199]\n",
      "  [0.45827124 0.17344588 0.86071439]]\n",
      "\n",
      " [[0.40898697 0.54669356 0.1618548 ]\n",
      "  [0.50089173 0.90893622 0.23370881]\n",
      "  [0.80956436 0.29776616 0.38910199]\n",
      "  [0.45827124 0.17344588 0.86071439]]]\n",
      "0.23370880692199503\n",
      "(4, 4, 3)\n",
      "[[[0. 0. 0.]\n",
      "  [0. 0. 0.]\n",
      "  [0. 0. 0.]\n",
      "  [0. 0. 0.]]\n",
      "\n",
      " [[0. 0. 0.]\n",
      "  [0. 0. 0.]\n",
      "  [0. 0. 0.]\n",
      "  [0. 0. 0.]]\n",
      "\n",
      " [[0. 0. 0.]\n",
      "  [0. 0. 0.]\n",
      "  [0. 0. 0.]\n",
      "  [0. 0. 0.]]\n",
      "\n",
      " [[0. 0. 0.]\n",
      "  [0. 0. 0.]\n",
      "  [0. 0. 0.]\n",
      "  [0. 0. 0.]]]\n"
     ]
    }
   ],
   "source": [
    "A = qp.IIDStdUniform(dimension=3)\n",
    "X = A.gen_samples(n=4)\n",
    "#print(np.repeat(3, 4))\n",
    "#x = np.array([[1,2],[3,4]])\n",
    "#print(np.repeat(x, 2))\n",
    "#print(np.repeat(x, 3, axis=1))\n",
    "#print(np.repeat(x, [1, 2], axis=0))\n",
    "n, d = X.shape\n",
    "print(X)\n",
    "X_expanded = np.repeat(X[np.newaxis, :, :], n, axis= 0)\n",
    "print(X_expanded)\n",
    "print(X_expanded[1, 1, 2])\n",
    "print(X_expanded.shape)\n",
    "Y_expanded = np.zeros((n,n,d)) + X\n",
    "print(Y_expanded - X_expanded)"
   ]
  },
  {
   "cell_type": "code",
   "execution_count": 9,
   "id": "6d58280d-c794-4957-9d9b-8d9b63d9a871",
   "metadata": {},
   "outputs": [
    {
     "name": "stdout",
     "output_type": "stream",
     "text": [
      "[1 2 3]\n"
     ]
    }
   ],
   "source": [
    "weight = np.array([1, 2, 3])\n",
    "weight2 = np.array([1, 1, 1])\n",
    "print(weight*weight2)"
   ]
  },
  {
   "cell_type": "code",
   "execution_count": 11,
   "id": "ee2c1953-3372-463d-ba41-f8ed7c85d414",
   "metadata": {},
   "outputs": [],
   "source": [
    "y = np.ones(3)"
   ]
  },
  {
   "cell_type": "code",
   "execution_count": 10,
   "id": "f3819ac7-5556-4d96-a635-30d6c1779d9a",
   "metadata": {},
   "outputs": [
    {
     "name": "stdout",
     "output_type": "stream",
     "text": [
      "[[1 2 3]\n",
      " [2 2 3]\n",
      " [3 3 3]]\n"
     ]
    }
   ],
   "source": [
    "x = np.array([1, 2, 3])\n",
    "y = np.array([[1], [2], [3]])\n",
    "print(np.maximum(x,y))\n"
   ]
  },
  {
   "cell_type": "code",
   "execution_count": 10,
   "id": "354ab394-da6e-4607-bcfc-d160548fd853",
   "metadata": {},
   "outputs": [
    {
     "data": {
      "text/plain": [
       "0.2825970826302195"
      ]
     },
     "execution_count": 10,
     "metadata": {},
     "output_type": "execute_result"
    }
   ],
   "source": [
    "np.sqrt((1/3)**2 - (2*9/64) + .25)"
   ]
  },
  {
   "cell_type": "code",
   "execution_count": null,
   "id": "50b30481-87e5-4acf-b5fb-429eb3250b60",
   "metadata": {},
   "outputs": [],
   "source": [
    "print(scipy.stats.qmc.discrepancy(X, method='L2-star'))"
   ]
  }
 ],
 "metadata": {
  "kernelspec": {
   "display_name": "Python 3 (ipykernel)",
   "language": "python",
   "name": "python3"
  },
  "language_info": {
   "codemirror_mode": {
    "name": "ipython",
    "version": 3
   },
   "file_extension": ".py",
   "mimetype": "text/x-python",
   "name": "python",
   "nbconvert_exporter": "python",
   "pygments_lexer": "ipython3",
   "version": "3.9.13"
  }
 },
 "nbformat": 4,
 "nbformat_minor": 5
}
