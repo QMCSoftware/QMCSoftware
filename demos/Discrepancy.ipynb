{
 "cells": [
  {
   "cell_type": "code",
   "execution_count": 2,
   "id": "152d078c-41ee-48a6-8b06-06d615210418",
   "metadata": {},
   "outputs": [
    {
     "name": "stdout",
     "output_type": "stream",
     "text": [
      "ok\n"
     ]
    }
   ],
   "source": [
    "import qmcpy as qp\n",
    "import numpy as np\n",
    "import scipy.stats\n",
    "#import pandas as pd\n",
    "import time\n",
    "#from matplotlib import pyplot\n",
    "#pyplot.style.use('../qmcpy/qmcpy.mplstyle')\n",
    "#colors = pyplot.rcParams['axes.prop_cycle'].by_key()['color']\n",
    "print(\"ok\")"
   ]
  },
  {
   "cell_type": "markdown",
   "id": "9df13683-be5f-4558-9dc3-0450656cdbb6",
   "metadata": {},
   "source": [
    "We generated our points in $d$ dimensions and generated $n$ samples such that $\\boldsymbol{x}_i \\in [0,1]^d$ for $i = 1, 2, 3, ..., n$. Let matrix $\\boldsymbol{X}$ be a $n \\times d$ matrix such that\n",
    "$$\n",
    "\\boldsymbol{X} = \n",
    "\\begin{bmatrix}\n",
    "\\boldsymbol{x}_1\\\\\n",
    "\\boldsymbol{x}_2\\\\\n",
    "\\boldsymbol{x}_3\\\\\n",
    "...\\\\\n",
    "\\boldsymbol{x}_n\\\\\n",
    "\\end{bmatrix}\n",
    "$$\n",
    "which can be rewritten as\n",
    "$$\n",
    "\\boldsymbol{X} = \n",
    "\\begin{bmatrix}\n",
    "\\boldsymbol{x}_{(1,1)} & \\boldsymbol{x}_{(1,2)} & \\boldsymbol{x}_{(1,3)} & ... & \\boldsymbol{x}_{(1,d)}\\\\\n",
    "\\boldsymbol{x}_{(2,1)} & \\boldsymbol{x}_{(2,2)} & \\boldsymbol{x}_{(2,3)} & ... & \\boldsymbol{x}_{(2,d)}\\\\\n",
    "\\boldsymbol{x}_{(3,1)} & \\boldsymbol{x}_{(3,2)} & \\boldsymbol{x}_{(3,3)} & ... & \\boldsymbol{x}_{(3,d)}\\\\\n",
    "... & ... & ... & ... & ...\\\\\n",
    "\\boldsymbol{x}_{(n,1)} & \\boldsymbol{x}_{(n,2)} & \\boldsymbol{x}_{(n,3)} & ... & \\boldsymbol{x}_{(n,d)}\\\\\n",
    "\\end{bmatrix}\n",
    "$$"
   ]
  },
  {
   "cell_type": "markdown",
   "id": "c04db98e-8b84-435e-afe1-b910131e04fc",
   "metadata": {},
   "source": [
    "We want to find our discrepancy in star discrepancy we must calculate\n",
    "$$\n",
    "[D(\\boldsymbol{X}) ]^2= \\int_{[0,1]^d} \\int_{[0,1]^d} K(x,y)~dx~dy - \\frac{2}{n} \\sum_{i=1}^n \\int_{[0,1]^d} K(x, \\boldsymbol{x}_i) ~dx + \\frac{1}{n^2} \\sum_{i,j = 1}^n K(\\boldsymbol{x}_i, \\boldsymbol{x}_j)\n",
    "$$\n",
    "Note, the kernel for star discrepancy is $K(\\boldsymbol{x}_i,\\boldsymbol{x}_j) = \\prod_{k=1}^d [2 - \\max(\\boldsymbol{x}_{i_k}, \\boldsymbol{x}_{j_k})]$. Also, $\\int_{[0,1]^d} \\int_{[0,1]^d} K(x,y)~dx~dy = (\\frac{4}{3})^d$ and $\\frac{2}{n} \\sum_{i=1}^n \\int_{[0,1]^d} K(x, \\boldsymbol{x}_i) ~dx = \\prod_{k=1}^d (\\frac{3 - \\boldsymbol{x}_{i_k}^2}{2})$. For the sake of program let,\n",
    "$$\n",
    "A = \\int_{[0,1]^d} \\int_{[0,1]^d} K(x,y)~dx~dy = (\\frac{4}{3})^d\n",
    "$$\n",
    "$$\n",
    "B = \\frac{2}{n} \\sum_{i=1}^n \\int_{[0,1]^d} K(x, \\boldsymbol{x}_i) ~dx = \\prod_{k=1}^d (\\frac{3 - \\boldsymbol{x}_{i_k}^2}{2})\n",
    "$$\n",
    "$$\n",
    "C = \\frac{1}{n^2} \\sum_{i,j = 1}^n \\prod_{k=1}^d [2 - \\max(\\boldsymbol{x}_{i_k}, \\boldsymbol{x}_{j_k})]\n",
    "$$\n",
    "So, $D(\\boldsymbol{X}) = \\sqrt{A - B + C}$. We calculate"
   ]
  },
  {
   "cell_type": "code",
   "execution_count": 3,
   "id": "90695ac7-744e-4563-a825-d616971074ed",
   "metadata": {},
   "outputs": [],
   "source": [
    "def star_disc(x):\n",
    "    n, d = x.shape\n",
    "\n",
    "    A = (4/3)**d\n",
    "\n",
    "    b_1 = (3-x**2)/2\n",
    "    b_2 = b_1.prod(axis=1)\n",
    "    B = 2*np.mean(b_2)\n",
    "\n",
    "    c_1 = np.zeros((n,n,d)) + x\n",
    "    y = np.resize(x, (n, 1, d))\n",
    "    c_2 = 2 - np.maximum(c_1, y)\n",
    "    c_3 = c_2.prod(axis=2)\n",
    "    c_4 = np.mean(c_3)\n",
    "    C = np.mean(c_4)\n",
    "\n",
    "    disc = (A - B + C)**.5\n",
    "    return disc"
   ]
  },
  {
   "cell_type": "markdown",
   "id": "8581ae0c-10b5-4f27-b331-35f0a87ce55a",
   "metadata": {},
   "source": [
    "We want to find our discrepancy in L2star discrepancy. The equation to find the discrepancy is the same except we choose a different equation for the kernel. Which our kernel is $K(x,y) = \\prod_{k=1}^d (1 - \\max(x_k,y_k))$. And so to get our discrepancy we must calculate\n",
    "$$\n",
    "[D(\\boldsymbol{X}) ]^2= \\int_{[0,1]^d} \\int_{[0,1]^d} K(x,y)~dx~dy - \\frac{2}{n} \\sum_{i=1}^n \\int_{[0,1]^d} K(x, \\boldsymbol{x}_i) ~dx + \\frac{1}{n^2} \\sum_{i,j = 1}^n K(\\boldsymbol{x}_i, \\boldsymbol{x}_j)\n",
    "$$\n",
    "$$\n",
    "[D(\\boldsymbol{X}) ]^2= (1/3)^d - \\frac{2}{n} \\sum_{i=1}^n \\prod_{k=1}^d (\\frac{1 - \\boldsymbol{x}_{i_k}^2}{2}) + \\frac{1}{n^2} \\sum_{i,j = 1}^n \\prod_{k=1}^d (1 - \\max(\\boldsymbol{x}_{i_k}, \\boldsymbol{x}_{j_k}))\n",
    "$$\n",
    "$$\n",
    "D(\\boldsymbol{X}) = \\sqrt{(1/3)^d - \\frac{2}{n} \\sum_{i=1}^n \\prod_{k=1}^d (\\frac{1 - \\boldsymbol{x}_{i_k}^2}{2}) + \\frac{1}{n^2} \\sum_{i,j = 1}^n \\prod_{k=1}^d (1 - \\max(\\boldsymbol{x}_{i_k}, \\boldsymbol{x}_{j_k}))}\n",
    "$$\n",
    "So now let A, B, and C be calculated as\n",
    "\n",
    "$$\n",
    "A = \\int_{[0,1]^d} \\int_{[0,1]^d} K(x,y)~dx~dy = (\\frac{1}{3})^d\n",
    "$$\n",
    "$$\n",
    "B = \\frac{2}{n} \\sum_{i=1}^n \\int_{[0,1]^d} K(x, \\boldsymbol{x}_i) ~dx = \\prod_{k=1}^d (\\frac{1 - \\boldsymbol{x}_{i_k}^2}{2})\n",
    "$$\n",
    "$$\n",
    "C = \\frac{1}{n^2} \\sum_{i,j = 1}^n \\prod_{k=1}^d (1 - \\max(x_k,y_k))\n",
    "$$\n",
    "So, $D(\\boldsymbol{X}) = \\sqrt{A - B + C}$. We calculate"
   ]
  },
  {
   "cell_type": "code",
   "execution_count": 4,
   "id": "71a8ca4b-4c9e-4283-affd-47bc81a84084",
   "metadata": {},
   "outputs": [],
   "source": [
    "def L2star_disc(x):\n",
    "    n, d = x.shape\n",
    "\n",
    "    A = (1/3)**d\n",
    "\n",
    "    b_1 = (1 - x**2)/2\n",
    "    b_2 = b_1.prod(axis=1)\n",
    "    B = 2*np.mean(b_2)\n",
    "\n",
    "    c_1 = np.zeros((n,n,d)) + x\n",
    "    y = np.resize(x, (n, 1, d))\n",
    "    c_2 = 1 - np.maximum(c_1, y)\n",
    "    c_3 = c_2.prod(axis=2)\n",
    "    c_4 = np.mean(c_3)\n",
    "    C = np.mean(c_4)\n",
    "\n",
    "    disc = (A - B + C)**.5\n",
    "    return disc"
   ]
  },
  {
   "cell_type": "markdown",
   "id": "fef57896-151a-49ed-89ec-45170ad43623",
   "metadata": {},
   "source": [
    "We want to find our discrepancy in centered discrepancy. We will choose our kernel to be $K(x,y) = \\prod_{k=1}^d (1 + .5|\\boldsymbol{x}_k - .5| + .5|\\boldsymbol{y}_k - .5| - .5 |\\boldsymbol{x}_k - \\boldsymbol{y}_k|)$. And so to get our discrepancy we must calculate\n",
    "$$\n",
    "[D(\\boldsymbol{X}) ]^2= \\int_{[0,1]^d} \\int_{[0,1]^d} K(x,y)~dx~dy - \\frac{2}{n} \\sum_{i=1}^n \\int_{[0,1]^d} K(x, \\boldsymbol{x}_i) ~dx + \\frac{1}{n^2} \\sum_{i,j = 1}^n K(\\boldsymbol{x}_i, \\boldsymbol{x}_j)\n",
    "$$\n",
    "$$\n",
    "[D(\\boldsymbol{X}) ]^2= (13/12)^d - \\frac{2}{n} \\sum_{i=1}^n \\prod_{k=1}^d (1 + .5|\\boldsymbol{x}_{i_k} - .5| - .5 (\\boldsymbol{x}_{i_k} -.5)^2) + \\frac{1}{n^2} \\sum_{i,j = 1}^n \\prod_{k=1}^d (1 + .5|\\boldsymbol{x}_{i_k} - .5| + .5|\\boldsymbol{x}_{j_k} - .5| - .5 |\\boldsymbol{x}_{i_k} - \\boldsymbol{x}_{j_k}|)\n",
    "$$\n",
    "$$\n",
    "D(\\boldsymbol{X}) = \\sqrt{(13/12)^d - \\frac{2}{n} \\sum_{i=1}^n \\prod_{k=1}^d (1 + .5|\\boldsymbol{x}_{i_k} - .5| - .5 (\\boldsymbol{x}_{i_k} -.5)^2) + \\frac{1}{n^2} \\sum_{i,j = 1}^n \\prod_{k=1}^d (1 + .5|\\boldsymbol{x}_{i_k} - .5| + .5|\\boldsymbol{x}_{j_k} - .5| - .5 |\\boldsymbol{x}_{i_k} - \\boldsymbol{x}_{j_k}|)}\n",
    "$$\n",
    "Let A, B, and C be calculated as\n",
    "\n",
    "$$\n",
    "A = \\int_{[0,1]^d} \\int_{[0,1]^d} K(x,y)~dx~dy = (\\frac{13}{12})^d\n",
    "$$\n",
    "$$\n",
    "B = \\frac{2}{n} \\sum_{i=1}^n \\int_{[0,1]^d} K(x, \\boldsymbol{x}_i) ~dx = \\frac{2}{n} \\sum_{i=1}^n \\prod_{k=1}^d (1 + .5|\\boldsymbol{x}_{i_k} - .5| - .5 (\\boldsymbol{x}_{i_k} -.5)^2)\n",
    "$$\n",
    "$$\n",
    "C = \\frac{1}{n^2} \\sum_{i,j = 1}^n \\prod_{k=1}^d (1 + .5|\\boldsymbol{x}_{i_k} - .5| + .5|\\boldsymbol{x}_{j_k} - .5| - .5 |\\boldsymbol{x}_{i_k} - \\boldsymbol{x}_{j_k}|)\n",
    "$$\n",
    "Of course $D(\\boldsymbol{X}) = \\sqrt{A - B + C}$. So now we calculate,"
   ]
  },
  {
   "cell_type": "code",
   "execution_count": 5,
   "id": "5c1209fc-130d-4da1-929f-5e6f56015175",
   "metadata": {},
   "outputs": [],
   "source": [
    "def center_disc(x):\n",
    "    n, d = x.shape\n",
    "\n",
    "    A = (13/12)**d\n",
    "\n",
    "    b_1 = 1 + (.5*abs(x - .5)) - (.5*((x -.5)**2))\n",
    "    b_2 = b_1.prod(axis=1)\n",
    "    B = 2*np.mean(b_2)\n",
    "\n",
    "    c_1 = np.zeros((n,n,d)) + x\n",
    "    y = np.resize(x, (n, 1, d))\n",
    "    c_2 = 1 + (.5*abs(c_1 - .5)) + (.5*abs(y - .5)) - (.5*abs(c_1 - y))\n",
    "    c_3 = c_2.prod(axis=2)\n",
    "    c_4 = np.mean(c_3)\n",
    "    C = np.mean(c_4)\n",
    "\n",
    "    disc = (A - B + C)**.5\n",
    "    return disc"
   ]
  },
  {
   "cell_type": "markdown",
   "id": "80e6ac2b-be87-4b51-a037-d9553cb98d47",
   "metadata": {},
   "source": [
    "We want to find our discrepancy in symmetric discrepancy. We will choose our kernel to be $K(x,y) = \\prod_{k=1}^d (2 - 2|\\boldsymbol{x}_k - \\boldsymbol{y}_k|)$. And so to get our discrepancy we must calculate\n",
    "$$\n",
    "[D(\\boldsymbol{X}) ]^2= \\int_{[0,1]^d} \\int_{[0,1]^d} K(x,y)~dx~dy - \\frac{2}{n} \\sum_{i=1}^n \\int_{[0,1]^d} K(x, \\boldsymbol{x}_i) ~dx + \\frac{1}{n^2} \\sum_{i,j = 1}^n K(\\boldsymbol{x}_i, \\boldsymbol{x}_j)\n",
    "$$\n",
    "$$\n",
    "[D(\\boldsymbol{X}) ]^2= (4/3)^d - \\frac{2}{n} \\sum_{i=1}^n \\prod_{k=1}^d (1 + 2\\boldsymbol{x}_{i_k} - 2 \\boldsymbol{x}_{i_k}^2) + \\frac{1}{n^2} \\sum_{i,j = 1}^n \\prod_{k=1}^d (2 - 2|\\boldsymbol{x}_{i_k} - \\boldsymbol{x}_{j_k}|)\n",
    "$$\n",
    "$$\n",
    "D(\\boldsymbol{X}) = \\sqrt{(4/3)^d - \\frac{2}{n} \\sum_{i=1}^n \\prod_{k=1}^d (1 + 2\\boldsymbol{x}_{i_k} - 2 \\boldsymbol{x}_{i_k}^2) + \\frac{1}{n^2} \\sum_{i,j = 1}^n \\prod_{k=1}^d (2 - 2|\\boldsymbol{x}_{i_k} - \\boldsymbol{x}_{j_k}|)}\n",
    "$$\n",
    "Let A, B, and C be calculated as\n",
    "\n",
    "$$\n",
    "A = \\int_{[0,1]^d} \\int_{[0,1]^d} K(x,y)~dx~dy = (\\frac{4}{3})^d\n",
    "$$\n",
    "$$\n",
    "B = \\frac{2}{n} \\sum_{i=1}^n \\int_{[0,1]^d} K(x, \\boldsymbol{x}_i) ~dx = \\frac{2}{n} \\sum_{i=1}^n \\prod_{k=1}^d (1 + 2\\boldsymbol{x}_{i_k} - 2 \\boldsymbol{x}_{i_k}^2)\n",
    "$$\n",
    "$$\n",
    "C = \\frac{1}{n^2} \\sum_{i,j = 1}^n \\prod_{k=1}^d (2 - 2|\\boldsymbol{x}_{i_k} - \\boldsymbol{x}_{j_k}|)\n",
    "$$\n",
    "Of course $D(\\boldsymbol{X}) = \\sqrt{A - B + C}$. So now we calculate,"
   ]
  },
  {
   "cell_type": "code",
   "execution_count": 6,
   "id": "3323eba8-4cb2-4e75-9fb3-6a0ef132d2b1",
   "metadata": {},
   "outputs": [],
   "source": [
    "def symmetric_disc(x):\n",
    "    n, d = x.shape\n",
    "\n",
    "    A = (4/3)**d\n",
    "\n",
    "    b_1 = 1 + 2*x - (2*(x**2))\n",
    "    b_2 = b_1.prod(axis=1)\n",
    "    B = 2*np.mean(b_2)\n",
    "\n",
    "    c_1 = np.zeros((n,n,d)) + x\n",
    "    y = np.resize(x, (n, 1, d))\n",
    "    c_2 = 2 - (2*abs(c_1 - y))\n",
    "    c_3 = c_2.prod(axis=2)\n",
    "    c_4 = np.mean(c_3)\n",
    "    C = np.mean(c_4)\n",
    "\n",
    "    disc = (A - B + C)**.5\n",
    "    return disc"
   ]
  },
  {
   "cell_type": "markdown",
   "id": "cd87bd89-d4dd-4976-bfba-4df7054aed1d",
   "metadata": {},
   "source": [
    "This and next cell are play cells. So the L2-star discrepancy works just as accurately as the scipy discrepancy; however, confused on the centered discrepancy because in my code I square root to get $D(\\boldsymbol{X})$. However in scipy that doesn't seem to be the case. To prove it. I printed out the following outputs. So for the centered discrepancy, this would mean that either I was not suppose to square root or scipy forgot to square root."
   ]
  },
  {
   "cell_type": "code",
   "execution_count": 34,
   "id": "0f0d0bd8-d42f-4a07-a45f-9b79e0f70578",
   "metadata": {},
   "outputs": [
    {
     "name": "stdout",
     "output_type": "stream",
     "text": [
      "0.007718971341304397\n",
      "0.007718971341300802\n",
      "symmetric\n",
      "0.06587810944246257\n"
     ]
    }
   ],
   "source": [
    "#L2-star discrepancy\n",
    "A = qp.IIDStdUniform(dimension=3)\n",
    "X = A.gen_samples(n=1024)\n",
    "def SY(x):\n",
    "    n, d = x.shape\n",
    "\n",
    "    A = (4/3)**d\n",
    "\n",
    "    b_1 = 1 + 2*x - (2*(x**2))\n",
    "    B = b_1.prod(axis=1)\n",
    "\n",
    "    c_1 = np.zeros((n,n,d)) + x\n",
    "    y = np.resize(x, (n, 1, d))\n",
    "    c_2 = 2 - (2*abs(c_1 - y))\n",
    "    C = c_2.prod(axis=2)\n",
    "    return A, B, C\n",
    "#print(qp.discrepancy(SY, X))\n",
    "#print(qp.discrepancy('Sy', X))\n",
    "print(qp.discrepancy('L2', X))\n",
    "print(scipy.stats.qmc.discrepancy(X, method='L2-star'))\n",
    "print(\"symmetric\")\n",
    "print(symmetric_disc(X))"
   ]
  },
  {
   "cell_type": "code",
   "execution_count": 10,
   "id": "f0786562-9037-4d98-904a-8bd3c72d98c4",
   "metadata": {},
   "outputs": [
    {
     "name": "stdout",
     "output_type": "stream",
     "text": [
      "[[1 2 3]\n",
      " [4 5 6]]\n"
     ]
    }
   ],
   "source": [
    "a = np.array([1, 2, 3])\n",
    "b = np.array([4, 5, 6])\n",
    "# Stacking 2 1-d arrays\n",
    "c = np.stack((a, b),axis=0)\n",
    "print(c)"
   ]
  },
  {
   "cell_type": "code",
   "execution_count": 29,
   "id": "328b9d82-1b64-45cc-a0e6-0365dd46b177",
   "metadata": {},
   "outputs": [
    {
     "name": "stdout",
     "output_type": "stream",
     "text": [
      "[[0.68102616 0.01422612 0.55449789]\n",
      " [0.97211304 0.58789959 0.20441936]\n",
      " [0.45921496 0.44525294 0.58294856]\n",
      " [0.76007396 0.19434441 0.84834015]]\n",
      "[[[0.68102616 0.01422612 0.55449789]\n",
      "  [0.97211304 0.58789959 0.20441936]\n",
      "  [0.45921496 0.44525294 0.58294856]\n",
      "  [0.76007396 0.19434441 0.84834015]]\n",
      "\n",
      " [[0.68102616 0.01422612 0.55449789]\n",
      "  [0.97211304 0.58789959 0.20441936]\n",
      "  [0.45921496 0.44525294 0.58294856]\n",
      "  [0.76007396 0.19434441 0.84834015]]\n",
      "\n",
      " [[0.68102616 0.01422612 0.55449789]\n",
      "  [0.97211304 0.58789959 0.20441936]\n",
      "  [0.45921496 0.44525294 0.58294856]\n",
      "  [0.76007396 0.19434441 0.84834015]]\n",
      "\n",
      " [[0.68102616 0.01422612 0.55449789]\n",
      "  [0.97211304 0.58789959 0.20441936]\n",
      "  [0.45921496 0.44525294 0.58294856]\n",
      "  [0.76007396 0.19434441 0.84834015]]]\n",
      "0.20441936173325836\n",
      "(4, 4, 3)\n",
      "[[[0. 0. 0.]\n",
      "  [0. 0. 0.]\n",
      "  [0. 0. 0.]\n",
      "  [0. 0. 0.]]\n",
      "\n",
      " [[0. 0. 0.]\n",
      "  [0. 0. 0.]\n",
      "  [0. 0. 0.]\n",
      "  [0. 0. 0.]]\n",
      "\n",
      " [[0. 0. 0.]\n",
      "  [0. 0. 0.]\n",
      "  [0. 0. 0.]\n",
      "  [0. 0. 0.]]\n",
      "\n",
      " [[0. 0. 0.]\n",
      "  [0. 0. 0.]\n",
      "  [0. 0. 0.]\n",
      "  [0. 0. 0.]]]\n"
     ]
    }
   ],
   "source": [
    "A = qp.IIDStdUniform(dimension=3)\n",
    "X = A.gen_samples(n=4)\n",
    "#print(np.repeat(3, 4))\n",
    "#x = np.array([[1,2],[3,4]])\n",
    "#print(np.repeat(x, 2))\n",
    "#print(np.repeat(x, 3, axis=1))\n",
    "#print(np.repeat(x, [1, 2], axis=0))\n",
    "n, d = X.shape\n",
    "print(X)\n",
    "X_expanded = np.repeat(X[np.newaxis, :, :], n, axis= 0)\n",
    "print(X_expanded)\n",
    "print(X_expanded[1, 1, 2])\n",
    "print(X_expanded.shape)\n",
    "Y_expanded = np.zeros((n,n,d)) + X\n",
    "print(Y_expanded - X_expanded)"
   ]
  },
  {
   "cell_type": "code",
   "execution_count": null,
   "id": "ae06e0c4-c1b9-40f0-b7ce-b63bddc9d890",
   "metadata": {},
   "outputs": [],
   "source": []
  }
 ],
 "metadata": {
  "kernelspec": {
   "display_name": "Python 3 (ipykernel)",
   "language": "python",
   "name": "python3"
  },
  "language_info": {
   "codemirror_mode": {
    "name": "ipython",
    "version": 3
   },
   "file_extension": ".py",
   "mimetype": "text/x-python",
   "name": "python",
   "nbconvert_exporter": "python",
   "pygments_lexer": "ipython3",
   "version": "3.9.5"
  }
 },
 "nbformat": 4,
 "nbformat_minor": 5
}
