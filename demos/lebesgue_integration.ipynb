{
 "cells": [
  {
   "cell_type": "markdown",
   "metadata": {},
   "source": [
    "# QMCPy for Lebesgue Integration\n",
    "This notebook will give examples of how to use QMCPy for integration problems that are not defined in terms of a standard measure. i.e., uniform or Gaussian. "
   ]
  },
  {
   "cell_type": "markdown",
   "metadata": {},
   "source": [
    "[![Open In Colab](https://colab.research.google.com/assets/colab-badge.svg)](https://colab.research.google.com/github/QMCSoftware/QMCSoftware/blob/develop/demos/lebesgue_integration.ipynb)"
   ]
  },
  {
   "cell_type": "code",
   "execution_count": 1,
   "metadata": {},
   "outputs": [],
   "source": [
    "from qmcpy import *\n",
    "from numpy import *"
   ]
  },
  {
   "cell_type": "markdown",
   "metadata": {},
   "source": [
    "## Sample Problem 1\n",
    "\n",
    "$y  = \\int_{[0,2]} x^2 dx, \\:\\: \\mbox{Lebesgue Measure}$\n",
    "\n",
    "$\\phantom{y} = 2\\int_{[0,2]} \\frac{x^2}{2} dx, \\:\\: \\mbox{Uniform Measure}$"
   ]
  },
  {
   "cell_type": "code",
   "execution_count": 2,
   "metadata": {},
   "outputs": [],
   "source": [
    "abs_tol = .01\n",
    "dim = 1\n",
    "a = 0\n",
    "b = 2\n",
    "true_value = 8./3"
   ]
  },
  {
   "cell_type": "code",
   "execution_count": 3,
   "metadata": {},
   "outputs": [
    {
     "name": "stdout",
     "output_type": "stream",
     "text": [
      "y = 2.667\n"
     ]
    }
   ],
   "source": [
    "# Lebesgue Measure\n",
    "integrand = CustomFun(\n",
    "    true_measure = Lebesgue(Uniform(Halton(dim, seed=7),lower_bound=a, upper_bound=b)),\n",
    "    g = lambda x: (x**2).sum(1))\n",
    "solution,data = CubQMCCLT(integrand, abs_tol=abs_tol).integrate()\n",
    "print('y = %.3f'%solution)\n",
    "error = abs((solution-true_value))\n",
    "if error>abs_tol:\n",
    "    raise Exception(\"Not within error tolerance\")"
   ]
  },
  {
   "cell_type": "code",
   "execution_count": 4,
   "metadata": {},
   "outputs": [
    {
     "name": "stdout",
     "output_type": "stream",
     "text": [
      "y = 2.666\n"
     ]
    }
   ],
   "source": [
    "# Uniform Measure\n",
    "integrand = CustomFun(\n",
    "    true_measure = Uniform(IIDStdUniform(dim, seed=7), lower_bound=a, upper_bound=b),\n",
    "    g = lambda x: (2*(x**2)).sum(1))\n",
    "solution,data = CubMCCLT(integrand, abs_tol=abs_tol).integrate()\n",
    "print('y = %.3f'%solution)\n",
    "error = abs((solution-true_value))\n",
    "if error>abs_tol:\n",
    "    raise Exception(\"Not within error tolerance\")"
   ]
  },
  {
   "cell_type": "markdown",
   "metadata": {},
   "source": [
    "## Sample Problem 2\n",
    "\n",
    "$y = \\int_{[a,b]^d} ||x||_2^2 dx, \\:\\: \\mbox{Lebesgue Measure}$\n",
    "\n",
    "$\\phantom{y} = \\Pi_{i=1}^d (b_i-a_i)\\int_{[a,b]^d} ||x||_2^2 \\; [ \\Pi_{i=1}^d (b_i-a_i)]^{-1} dx, \\:\\: \\mbox{Uniform Measure}$"
   ]
  },
  {
   "cell_type": "code",
   "execution_count": 5,
   "metadata": {},
   "outputs": [
    {
     "name": "stdout",
     "output_type": "stream",
     "text": [
      "Answer = 23.33333\n"
     ]
    }
   ],
   "source": [
    "abs_tol = .001\n",
    "dim = 2\n",
    "a = array([1.,2.])\n",
    "b = array([2.,4.])\n",
    "true_value = ((a[0]**3-b[0]**3)*(a[1]-b[1])+(a[0]-b[0])*(a[1]**3-b[1]**3))/3\n",
    "print('Answer = %.5f'%true_value)"
   ]
  },
  {
   "cell_type": "code",
   "execution_count": 6,
   "metadata": {},
   "outputs": [
    {
     "name": "stdout",
     "output_type": "stream",
     "text": [
      "y = 23.33329\n"
     ]
    }
   ],
   "source": [
    "# Lebesgue Measure\n",
    "integrand = CustomFun(\n",
    "    true_measure = Lebesgue(Uniform(DigitalNetB2(dim, seed=7), lower_bound=a, upper_bound=b)), \n",
    "    g = lambda x: (x**2).sum(1))\n",
    "solution,data = CubQMCCLT(integrand, abs_tol=abs_tol).integrate()\n",
    "print('y = %.5f'%solution)\n",
    "error = abs((solution-true_value))\n",
    "if error>abs_tol:\n",
    "    raise Exception(\"Not within error tolerance\")"
   ]
  },
  {
   "cell_type": "code",
   "execution_count": 7,
   "metadata": {},
   "outputs": [
    {
     "name": "stdout",
     "output_type": "stream",
     "text": [
      "y = 23.33308\n"
     ]
    }
   ],
   "source": [
    "# Uniform Measure\n",
    "integrand = CustomFun(\n",
    "    true_measure = Uniform(DigitalNetB2(dim, seed=17), lower_bound=a, upper_bound=b),\n",
    "    g = lambda x: (b-a).prod()*(x**2).sum(1))\n",
    "solution,data = CubQMCCLT(integrand, abs_tol=abs_tol).integrate()\n",
    "print('y = %.5f'%solution)\n",
    "error = abs((solution-true_value))\n",
    "if error>abs_tol:\n",
    "    raise Exception(\"Not within error tolerance\")"
   ]
  },
  {
   "cell_type": "markdown",
   "metadata": {},
   "source": [
    "## Sample Problem 3\n",
    "Integral that cannot be done in terms of any standard mathematical functions<br>\n",
    "$$y = \\int_{[a,b]} \\frac{\\sin{x}}{\\log{x}} dx, \\:\\: \\mbox{Lebesgue Measure}$$\n",
    "\n",
    "Mathematica Code: `Integrate[Sin[x]/Log[x], {x,a,b}]`\n"
   ]
  },
  {
   "cell_type": "code",
   "execution_count": 8,
   "metadata": {},
   "outputs": [],
   "source": [
    "abs_tol = .0001\n",
    "dim = 1\n",
    "a = 3\n",
    "b = 5\n",
    "true_value = -0.87961 "
   ]
  },
  {
   "cell_type": "code",
   "execution_count": 9,
   "metadata": {},
   "outputs": [
    {
     "name": "stdout",
     "output_type": "stream",
     "text": [
      "y = -0.880\n"
     ]
    }
   ],
   "source": [
    "# Lebesgue Measure\n",
    "integrand = CustomFun(\n",
    "    true_measure = Lebesgue(Uniform(Lattice(dim, randomize=True, seed=7),a,b)), \n",
    "    g = lambda x: (sin(x)/log(x)).sum(1))\n",
    "solution,data = CubQMCLatticeG(integrand, abs_tol=abs_tol).integrate()\n",
    "print('y = %.3f'%solution)\n",
    "error = abs((solution-true_value))\n",
    "if error>abs_tol:\n",
    "    raise Exception(\"Not within error tolerance\")"
   ]
  },
  {
   "cell_type": "markdown",
   "metadata": {},
   "source": [
    "## Sample Problem 4\n",
    "Integral over $\\mathbb{R}^d$\n",
    "$$y = \\int_{\\mathbb{R}^2} e^{-||x||_2^2} dx$$"
   ]
  },
  {
   "cell_type": "code",
   "execution_count": 10,
   "metadata": {},
   "outputs": [],
   "source": [
    "abs_tol = .1\n",
    "dim = 2\n",
    "true_value = pi"
   ]
  },
  {
   "cell_type": "code",
   "execution_count": 11,
   "metadata": {},
   "outputs": [
    {
     "name": "stdout",
     "output_type": "stream",
     "text": [
      "y = 3.142\n"
     ]
    }
   ],
   "source": [
    "integrand = CustomFun(\n",
    "    true_measure = Lebesgue(Gaussian(Lattice(dim,seed=7))),\n",
    "    g = lambda x: exp(-x**2).prod(1))\n",
    "solution,data = CubQMCLatticeG(integrand,abs_tol=abs_tol).integrate()\n",
    "print('y = %.3f'%solution)\n",
    "error = abs((solution-true_value))\n",
    "if error>abs_tol:\n",
    "    raise Exception(\"Not within error tolerance\")"
   ]
  },
  {
   "cell_type": "code",
   "execution_count": null,
   "metadata": {},
   "outputs": [],
   "source": []
  }
 ],
 "metadata": {
  "kernelspec": {
   "display_name": "Python 3 (ipykernel)",
   "language": "python",
   "name": "python3"
  },
  "language_info": {
   "codemirror_mode": {
    "name": "ipython",
    "version": 3
   },
   "file_extension": ".py",
   "mimetype": "text/x-python",
   "name": "python",
   "nbconvert_exporter": "python",
   "pygments_lexer": "ipython3",
   "version": "3.9.13"
  }
 },
 "nbformat": 4,
 "nbformat_minor": 2
}
