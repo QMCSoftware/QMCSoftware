{
 "cells": [
  {
   "cell_type": "markdown",
   "metadata": {},
   "source": [
    "# QMCPy for Lebesgue Integration\n",
    "This notebook will give examples of how to use QMCPy for integration problems that not are defined in terms of a standard measure. i.e. Uniform or Gaussian. "
   ]
  },
  {
   "cell_type": "code",
   "execution_count": 1,
   "metadata": {},
   "outputs": [],
   "source": [
    "from qmcpy import *\n",
    "from numpy import *"
   ]
  },
  {
   "cell_type": "markdown",
   "metadata": {},
   "source": [
    "## Sample Problem 1\n",
    "\n",
    "$y  = \\int_{[0,2]} x^2 dx, \\:\\: \\mbox{Lebesgue Measure}$\n",
    "\n",
    "$\\phantom{y} = 2\\int_{[0,2]} \\frac{x^2}{2} dx, \\:\\: \\mbox{Uniform Measure}$"
   ]
  },
  {
   "cell_type": "code",
   "execution_count": 2,
   "metadata": {},
   "outputs": [],
   "source": [
    "abs_tol = .01\n",
    "dim = 1\n",
    "a = 0\n",
    "b = 2\n",
    "true_value = 8/3"
   ]
  },
  {
   "cell_type": "code",
   "execution_count": 3,
   "metadata": {},
   "outputs": [
    {
     "name": "stdout",
     "output_type": "stream",
     "text": [
      "y = 2.665\n",
      "Within tolerance: True\n"
     ]
    }
   ],
   "source": [
    "# Lebesgue Measure\n",
    "distribution = IIDStdUniform(dim, seed=7)\n",
    "measure = Lebesgue(distribution, lower_bound=a, upper_bound=b)\n",
    "integrand = QuickConstruct(measure, lambda x: x**2)\n",
    "solution,data = CLT(integrand, abs_tol=abs_tol).integrate()\n",
    "print('y = %.3f'%solution)\n",
    "print('Within tolerance:',abs((solution-true_value))<abs_tol)"
   ]
  },
  {
   "cell_type": "code",
   "execution_count": 4,
   "metadata": {},
   "outputs": [
    {
     "name": "stdout",
     "output_type": "stream",
     "text": [
      "y = 2.665\n",
      "Within tolerance: True\n"
     ]
    }
   ],
   "source": [
    "# Uniform Measure\n",
    "distribution = IIDStdUniform(dim, seed=7)\n",
    "measure = Uniform(distribution, lower_bound=a, upper_bound=b)\n",
    "integrand = QuickConstruct(measure, lambda x: 2*(x**2))\n",
    "solution,data = CLT(integrand, abs_tol=abs_tol).integrate()\n",
    "print('y = %.3f'%solution)\n",
    "print('Within tolerance:',abs((solution-true_value))<abs_tol)"
   ]
  },
  {
   "cell_type": "markdown",
   "metadata": {},
   "source": [
    "## Sample Problem 2\n",
    "\n",
    "$y = \\int_{[a,b]^d} ||x||_2^2 dx, \\:\\: \\mbox{Lebesgue Measure}$\n",
    "\n",
    "$\\phantom{y} = \\Pi_{i=1}^d (b_i-a_i)\\int_{[a,b]^d} ||x||_2^2 \\; [ \\Pi_{i=1}^d (b_i-a_i)]^{-1} dx, \\:\\: \\mbox{Uniform Measure}$"
   ]
  },
  {
   "cell_type": "code",
   "execution_count": 5,
   "metadata": {},
   "outputs": [
    {
     "name": "stdout",
     "output_type": "stream",
     "text": [
      "Answer = 23.33333\n"
     ]
    }
   ],
   "source": [
    "abs_tol = .001\n",
    "dim = 2\n",
    "a = array([1,2])\n",
    "b = array([2,4])\n",
    "true_value = ((a[0]**3-b[0]**3)*(a[1]-b[1])+(a[0]-b[0])*(a[1]**3-b[1]**3))/3\n",
    "print('Answer = %.5f'%true_value)"
   ]
  },
  {
   "cell_type": "code",
   "execution_count": 6,
   "metadata": {},
   "outputs": [
    {
     "name": "stdout",
     "output_type": "stream",
     "text": [
      "y = 23.33343\n",
      "Within tolerance: True\n"
     ]
    }
   ],
   "source": [
    "# Lebesgue Measure\n",
    "distribution = Sobol(dim, scramble=True, seed=7, backend='QRNG')\n",
    "measure = Lebesgue(distribution, lower_bound=a, upper_bound=b)\n",
    "integrand = QuickConstruct(measure, lambda x: (x**2).sum(1))\n",
    "solution,data = CLTRep(integrand, abs_tol=abs_tol).integrate()\n",
    "print('y = %.5f'%solution)\n",
    "print('Within tolerance:',abs((solution-true_value))<abs_tol)"
   ]
  },
  {
   "cell_type": "code",
   "execution_count": 7,
   "metadata": {},
   "outputs": [
    {
     "name": "stdout",
     "output_type": "stream",
     "text": [
      "y = 23.33343\n",
      "Within tolerance: True\n"
     ]
    }
   ],
   "source": [
    "# Uniform Measure\n",
    "distribution = Sobol(dim, scramble=True, seed=7, backend='QRNG')\n",
    "measure = Uniform(distribution, lower_bound=a, upper_bound=b)\n",
    "integrand = QuickConstruct(measure, lambda x: (b-a).prod()*(x**2).sum(1))\n",
    "solution,data = CLTRep(integrand, abs_tol=abs_tol).integrate()\n",
    "print('y = %.5f'%solution)\n",
    "print('Within tolerance:',abs((solution-true_value))<abs_tol)"
   ]
  },
  {
   "cell_type": "markdown",
   "metadata": {},
   "source": [
    "## Sample Problem 3\n",
    "Integral that cannot be done in terms of any standard mathematical functions [(WOLFRAM)](https://reference.wolfram.com/language/tutorial/IntegralsThatCanAndCannotBeDone.html)<br>\n",
    "$$y = \\int_{[a,b]} \\frac{\\sin{x}}{\\log{x}} dx, \\:\\: \\mbox{Lebesgue Measure}$$\n",
    "\n",
    "Mathematica Code: `Integrate[Sin[x]/Log[x], {x,a,b}]`\n"
   ]
  },
  {
   "cell_type": "code",
   "execution_count": 8,
   "metadata": {},
   "outputs": [],
   "source": [
    "abs_tol = .0001\n",
    "dim = 1\n",
    "a = 3\n",
    "b = 5\n",
    "true_value = -0.87961 "
   ]
  },
  {
   "cell_type": "code",
   "execution_count": 9,
   "metadata": {},
   "outputs": [
    {
     "name": "stdout",
     "output_type": "stream",
     "text": [
      "y = -0.880\n",
      "Within tolerance: True\n"
     ]
    }
   ],
   "source": [
    "# Lebesgue Measure\n",
    "distribution = Lattice(dim, scramble=True, seed=7, backend='GAIL')\n",
    "measure = Lebesgue(distribution, lower_bound=a, upper_bound=b)\n",
    "integrand = QuickConstruct(measure, lambda x: sin(x)/log(x))\n",
    "solution,data = CubLattice_g(integrand, abs_tol=abs_tol).integrate()\n",
    "print('y = %.3f'%solution)\n",
    "print('Within tolerance:',abs((solution-true_value))<abs_tol)"
   ]
  },
  {
   "cell_type": "markdown",
   "metadata": {},
   "source": [
    "## Sample Problem 4\n",
    "Integral over all real numbers\n",
    "$$y = \\int_{\\mathbb{R}^2} e^{-||x||_2^2} dx$$"
   ]
  },
  {
   "cell_type": "code",
   "execution_count": 10,
   "metadata": {},
   "outputs": [],
   "source": [
    "abs_tol = .1\n",
    "dim = 2\n",
    "true_value = pi"
   ]
  },
  {
   "cell_type": "code",
   "execution_count": 11,
   "metadata": {},
   "outputs": [
    {
     "name": "stdout",
     "output_type": "stream",
     "text": [
      "y = 3.142\n",
      "Within tolerance: True\n"
     ]
    }
   ],
   "source": [
    "distribution = Sobol(dim)\n",
    "measure = Lebesgue(distribution, lower_bound=-inf, upper_bound=inf)\n",
    "integrand = QuickConstruct(measure, lambda x: exp(-x**2).prod(1))\n",
    "solution,data = CubSobol_g(integrand,abs_tol=abs_tol).integrate()\n",
    "print('y = %.3f'%solution)\n",
    "print('Within tolerance:',abs((solution-true_value))<abs_tol)"
   ]
  },
  {
   "cell_type": "code",
   "execution_count": null,
   "metadata": {},
   "outputs": [],
   "source": []
  }
 ],
 "metadata": {
  "kernelspec": {
   "display_name": "Python 3.6.9 64-bit ('qmcpy': virtualenv)",
   "language": "python",
   "name": "python36964bitqmcpyvirtualenva83e6d2f1717432999066fecf731c68c"
  },
  "language_info": {
   "codemirror_mode": {
    "name": "ipython",
    "version": 3
   },
   "file_extension": ".py",
   "mimetype": "text/x-python",
   "name": "python",
   "nbconvert_exporter": "python",
   "pygments_lexer": "ipython3",
   "version": "3.6.9"
  }
 },
 "nbformat": 4,
 "nbformat_minor": 2
}
