{
 "cells": [
  {
   "cell_type": "markdown",
   "id": "a26222f9-53c7-4939-bfa8-e58de84fd6d9",
   "metadata": {},
   "source": [
    "# Discrepancy Example from Zhou et al. (2013)"
   ]
  },
  {
   "cell_type": "markdown",
   "id": "f094a2bd-6dfe-483a-a116-3350dbcad72d",
   "metadata": {},
   "source": [
    "We have compared the computations between QMCPy and Scipy for the article Zhou, Y.-D., Fang, K.-T., & Ning, J.-H. (2013). Mixture discrepancy for quasi-random point sets. Journal of Complexity, 29(3–4), 283–301. https://doi.org/10.1016/j.jco.2012.11.006. We have found that\n",
    "\n",
    "* The computations in example 1 are correct for QMCPy and incorrect for Scipy. This is because Scipy neglects to take the square root in computing discrepancy.\n",
    "* Scipy matches the compuations in Example 3, because the paper shows the squared discrepancy rather than the discrepancy itself. Hence, there is a typo in the paper."
   ]
  },
  {
   "cell_type": "code",
   "execution_count": 1,
   "id": "55152548-9a96-4e72-a91e-fa3fc13130a0",
   "metadata": {},
   "outputs": [],
   "source": [
    "import qmcpy as qp\n",
    "import numpy as np\n",
    "import scipy.stats\n",
    "from tabulate import tabulate\n",
    "import pandas as pd\n",
    "import time"
   ]
  },
  {
   "cell_type": "markdown",
   "id": "e3706ef7-fca3-47aa-8121-2de67e95b606",
   "metadata": {},
   "source": [
    "## Example 1"
   ]
  },
  {
   "cell_type": "code",
   "execution_count": 3,
   "id": "7dc1859b-bdf2-4872-a57e-0d632fdc28a7",
   "metadata": {},
   "outputs": [
    {
     "name": "stdout",
     "output_type": "stream",
     "text": [
      "QMCPy's calculated discrepancy squared\n",
      "+----+----------+----------+\n",
      "|    | P_1      | P_2      |\n",
      "+----+----------+----------+\n",
      "| CD | 0.032779 | 0.032586 |\n",
      "+----+----------+----------+\n",
      "| WD | 0.100852 | 0.101738 |\n",
      "+----+----------+----------+\n",
      " \n",
      "Scipy's calculated discrepancy\n",
      "+----+----------+----------+\n",
      "|    | P_1      | P_2      |\n",
      "+----+----------+----------+\n",
      "| CD | 0.032779 | 0.032586 |\n",
      "+----+----------+----------+\n",
      "| WD | 0.100852 | 0.101738 |\n",
      "+----+----------+----------+\n"
     ]
    }
   ],
   "source": [
    "#P_1 and P_2 were given in Fang's paper\n",
    "P_1 = np.array([[1, 1, 1, 1, 1, 1, 1, 1, 2, 2, 2, 2, 2, 2, 2, 2, 3, 3, 3, 3, 3, 3, 3, 3],\n",
    "               [1, 1, 2, 2, 2, 3, 3, 3, 1, 1, 1, 2, 2, 2, 3, 3, 1, 1, 1, 2, 2, 3, 3, 3],\n",
    "               [1, 3, 1, 2, 3, 1, 2, 3, 1, 2, 3, 1, 2, 3, 1, 2, 1, 2, 3, 2, 3, 1, 2, 3]]).T / 3 -(1/6)\n",
    "\n",
    "                \n",
    "P_2 = np.array([[1, 1, 1, 1, 1, 1, 1, 1, 2, 2, 2, 2 ,2, 2, 2, 2, 3, 3, 3, 3, 3, 3, 3, 3],\n",
    "               [1, 1, 1, 2, 2, 3, 3, 3, 1, 1, 2, 2, 2, 2, 3, 3, 1, 1, 1, 2, 2, 3, 3, 3],\n",
    "               [1, 2, 3, 1, 3, 1, 2, 3, 1, 3, 2, 2, 2, 2, 1, 3, 1, 2, 3, 1, 3, 1, 2, 3]]).T / 3 - (1/6)\n",
    "\n",
    "#List out your discrepancies, which from Fang for example 1 used, Centered and Wrap Around Discrepancy\n",
    "Discrepancies = ['CD', 'WD']\n",
    "#List of the different arrays we have to compute the discrepancy\n",
    "P = [P_1, P_2]\n",
    "\n",
    "#My data is used so that we can create a table\n",
    "mydata = [[' ', 'P_1', 'P_2']]\n",
    "\n",
    "#QMC being our QMCPy code, and Sci being Scipy's values\n",
    "QMC = mydata\n",
    "Sci = mydata\n",
    "\n",
    "#I created 2 for-loops, 1 for discrepancy and the other for P\n",
    "for i in range(2):\n",
    "    #Start off with the discrepancy we want to calculate for both QMCPy and Scipy as these are lists so that we can create a table\n",
    "    QMCPy = [Discrepancies[i]]\n",
    "    Scipy = [Discrepancies[i]]\n",
    "    #Now for both P_1 and P_2\n",
    "    for j in range(2):\n",
    "        #Calculate the discrepancy given either Centered or Wrap Around and use Scipy and QMCPy to calculate discrepancy but square QMCPy\n",
    "        #We want to find discrepancy^2 given the table in Example 1 and show that Scipy actually calculates discrepancy^2\n",
    "\n",
    "        ###Make this coding a bit more readable. And look into panda\n",
    "        QMCPy = QMCPy + [round(qp.discrepancy(Discrepancies[i], P[j])**2,6)]\n",
    "        Scipy = Scipy + [round(scipy.stats.qmc.discrepancy(P[j], method = Discrepancies[i]),6)]\n",
    "    #And then add the list to QMC and Sci respectively so that we can create our table\n",
    "    QMC = QMC + [QMCPy]\n",
    "    Sci = Sci + [Scipy]\n",
    "#Now print QMCPy and Scipy tables\n",
    "print(\"QMCPy's calculated discrepancy squared\")\n",
    "print(tabulate(QMC, tablefmt=\"grid\"))\n",
    "print(' ')\n",
    "print(\"Scipy's calculated discrepancy\")\n",
    "print(tabulate(Sci, tablefmt=\"grid\"))"
   ]
  },
  {
   "cell_type": "markdown",
   "id": "5126a53c-4a31-4bd2-be08-6977d5e2d4b3",
   "metadata": {},
   "source": [
    "The mission of Zhou's paper in Example 1 is to calculate the discrepancy squared of Centered and Wrap Around for $P_1$ and $P_2$ given in the example. \n",
    "The tables above matches with the data given by Zhou's paper. And we see that Scipy is actually calculating discrepancy squared, because notice that for QMCPy when we square those values we are getting the exact same values."
   ]
  },
  {
   "cell_type": "markdown",
   "id": "ff6d020d-0a5f-4f0b-b0b8-a106a641059b",
   "metadata": {},
   "source": [
    "## Example 3"
   ]
  },
  {
   "cell_type": "code",
   "execution_count": 11,
   "id": "4503b2cd-ae36-49f8-96c7-2d86a439acff",
   "metadata": {},
   "outputs": [
    {
     "name": "stdout",
     "output_type": "stream",
     "text": [
      "[[0.012414, 0.012482, 0.012414, 0.012482], [0.007847, 0.005824, 0.006181, 0.005824], [0.011648, 0.010921, 0.011232, 0.010921]]\n",
      "QMCPy's calculated squared discrepancy\n"
     ]
    },
    {
     "name": "stderr",
     "output_type": "stream",
     "text": [
      "C:\\Users\\cdhjr\\AppData\\Local\\Temp\\ipykernel_22236\\315918987.py:32\n",
      "\tUserWarning: Pandas doesn't allow columns to be created via a new attribute name - see https://pandas.pydata.org/pandas-docs/stable/indexing.html#attribute-access\n"
     ]
    },
    {
     "ename": "KeyError",
     "evalue": "\"None of ['No.'] are in the columns\"",
     "output_type": "error",
     "traceback": [
      "\u001b[1;31m---------------------------------------------------------------------------\u001b[0m",
      "\u001b[1;31mKeyError\u001b[0m                                  Traceback (most recent call last)",
      "\u001b[1;32m~\\AppData\\Local\\Temp\\ipykernel_22236\\315918987.py\u001b[0m in \u001b[0;36m?\u001b[1;34m()\u001b[0m\n\u001b[1;32m---> 34\u001b[1;33m \u001b[1;31m#We was given P1_star, P2_star, P3_star, and P4_star in Fang's paper in Example 3 so we will punch it into the code\u001b[0m\u001b[1;33m\u001b[0m\u001b[1;33m\u001b[0m\u001b[0m\n\u001b[0m\u001b[0;32m     35\u001b[0m \u001b[0mP1_star\u001b[0m \u001b[1;33m=\u001b[0m \u001b[0mnp\u001b[0m\u001b[1;33m.\u001b[0m\u001b[0marray\u001b[0m\u001b[1;33m(\u001b[0m\u001b[1;33m[\u001b[0m\u001b[1;33m[\u001b[0m\u001b[1;36m1\u001b[0m\u001b[1;33m/\u001b[0m\u001b[1;36m7\u001b[0m\u001b[1;33m,\u001b[0m \u001b[1;36m4\u001b[0m\u001b[1;33m/\u001b[0m\u001b[1;36m7\u001b[0m\u001b[1;33m]\u001b[0m\u001b[1;33m,\u001b[0m \u001b[1;33m[\u001b[0m\u001b[1;36m2\u001b[0m\u001b[1;33m/\u001b[0m\u001b[1;36m7\u001b[0m\u001b[1;33m,\u001b[0m \u001b[1;36m1\u001b[0m\u001b[1;33m/\u001b[0m\u001b[1;36m7\u001b[0m\u001b[1;33m]\u001b[0m\u001b[1;33m,\u001b[0m \u001b[1;33m[\u001b[0m\u001b[1;36m3\u001b[0m\u001b[1;33m/\u001b[0m\u001b[1;36m7\u001b[0m\u001b[1;33m,\u001b[0m \u001b[1;36m5\u001b[0m\u001b[1;33m/\u001b[0m\u001b[1;36m7\u001b[0m\u001b[1;33m]\u001b[0m\u001b[1;33m,\u001b[0m \u001b[1;33m[\u001b[0m\u001b[1;36m4\u001b[0m\u001b[1;33m/\u001b[0m\u001b[1;36m7\u001b[0m\u001b[1;33m,\u001b[0m \u001b[1;36m2\u001b[0m\u001b[1;33m/\u001b[0m\u001b[1;36m7\u001b[0m\u001b[1;33m]\u001b[0m\u001b[1;33m,\u001b[0m \u001b[1;33m[\u001b[0m\u001b[1;36m5\u001b[0m\u001b[1;33m/\u001b[0m\u001b[1;36m7\u001b[0m\u001b[1;33m,\u001b[0m \u001b[1;36m6\u001b[0m\u001b[1;33m/\u001b[0m\u001b[1;36m7\u001b[0m\u001b[1;33m]\u001b[0m\u001b[1;33m,\u001b[0m \u001b[1;33m[\u001b[0m\u001b[1;36m6\u001b[0m\u001b[1;33m/\u001b[0m\u001b[1;36m7\u001b[0m\u001b[1;33m,\u001b[0m \u001b[1;36m3\u001b[0m\u001b[1;33m/\u001b[0m\u001b[1;36m7\u001b[0m\u001b[1;33m]\u001b[0m\u001b[1;33m,\u001b[0m \u001b[1;33m[\u001b[0m\u001b[1;36m1\u001b[0m\u001b[1;33m,\u001b[0m \u001b[1;36m1\u001b[0m\u001b[1;33m]\u001b[0m\u001b[1;33m]\u001b[0m\u001b[1;33m)\u001b[0m \u001b[1;33m-\u001b[0m \u001b[1;33m(\u001b[0m\u001b[1;36m1\u001b[0m\u001b[1;33m/\u001b[0m\u001b[1;36m14\u001b[0m\u001b[1;33m)\u001b[0m\u001b[1;33m\u001b[0m\u001b[1;33m\u001b[0m\u001b[0m\n\u001b[0;32m     36\u001b[0m \u001b[0mP2_star\u001b[0m \u001b[1;33m=\u001b[0m \u001b[0mnp\u001b[0m\u001b[1;33m.\u001b[0m\u001b[0marray\u001b[0m\u001b[1;33m(\u001b[0m\u001b[1;33m[\u001b[0m\u001b[1;33m[\u001b[0m\u001b[1;36m1\u001b[0m\u001b[1;33m/\u001b[0m\u001b[1;36m7\u001b[0m\u001b[1;33m,\u001b[0m \u001b[1;36m5\u001b[0m\u001b[1;33m/\u001b[0m\u001b[1;36m7\u001b[0m\u001b[1;33m]\u001b[0m\u001b[1;33m,\u001b[0m \u001b[1;33m[\u001b[0m\u001b[1;36m2\u001b[0m\u001b[1;33m/\u001b[0m\u001b[1;36m7\u001b[0m\u001b[1;33m,\u001b[0m \u001b[1;36m2\u001b[0m\u001b[1;33m/\u001b[0m\u001b[1;36m7\u001b[0m\u001b[1;33m]\u001b[0m\u001b[1;33m,\u001b[0m \u001b[1;33m[\u001b[0m\u001b[1;36m3\u001b[0m\u001b[1;33m/\u001b[0m\u001b[1;36m7\u001b[0m\u001b[1;33m,\u001b[0m \u001b[1;36m1\u001b[0m\u001b[1;33m]\u001b[0m\u001b[1;33m,\u001b[0m \u001b[1;33m[\u001b[0m\u001b[1;36m4\u001b[0m\u001b[1;33m/\u001b[0m\u001b[1;36m7\u001b[0m\u001b[1;33m,\u001b[0m \u001b[1;36m4\u001b[0m\u001b[1;33m/\u001b[0m\u001b[1;36m7\u001b[0m\u001b[1;33m]\u001b[0m\u001b[1;33m,\u001b[0m \u001b[1;33m[\u001b[0m\u001b[1;36m5\u001b[0m\u001b[1;33m/\u001b[0m\u001b[1;36m7\u001b[0m\u001b[1;33m,\u001b[0m \u001b[1;36m1\u001b[0m\u001b[1;33m/\u001b[0m\u001b[1;36m7\u001b[0m\u001b[1;33m]\u001b[0m\u001b[1;33m,\u001b[0m \u001b[1;33m[\u001b[0m\u001b[1;36m6\u001b[0m\u001b[1;33m/\u001b[0m\u001b[1;36m7\u001b[0m\u001b[1;33m,\u001b[0m \u001b[1;36m6\u001b[0m\u001b[1;33m/\u001b[0m\u001b[1;36m7\u001b[0m\u001b[1;33m]\u001b[0m\u001b[1;33m,\u001b[0m \u001b[1;33m[\u001b[0m\u001b[1;36m1\u001b[0m\u001b[1;33m,\u001b[0m \u001b[1;36m3\u001b[0m\u001b[1;33m/\u001b[0m\u001b[1;36m7\u001b[0m\u001b[1;33m]\u001b[0m\u001b[1;33m]\u001b[0m\u001b[1;33m)\u001b[0m \u001b[1;33m-\u001b[0m \u001b[1;33m(\u001b[0m\u001b[1;36m1\u001b[0m\u001b[1;33m/\u001b[0m\u001b[1;36m14\u001b[0m\u001b[1;33m)\u001b[0m\u001b[1;33m\u001b[0m\u001b[1;33m\u001b[0m\u001b[0m\n\u001b[0;32m     37\u001b[0m \u001b[0mP3_star\u001b[0m \u001b[1;33m=\u001b[0m \u001b[0mnp\u001b[0m\u001b[1;33m.\u001b[0m\u001b[0marray\u001b[0m\u001b[1;33m(\u001b[0m\u001b[1;33m[\u001b[0m\u001b[1;33m[\u001b[0m\u001b[1;36m1\u001b[0m\u001b[1;33m/\u001b[0m\u001b[1;36m7\u001b[0m\u001b[1;33m,\u001b[0m \u001b[1;36m6\u001b[0m\u001b[1;33m/\u001b[0m\u001b[1;36m7\u001b[0m\u001b[1;33m]\u001b[0m\u001b[1;33m,\u001b[0m \u001b[1;33m[\u001b[0m\u001b[1;36m2\u001b[0m\u001b[1;33m/\u001b[0m\u001b[1;36m7\u001b[0m\u001b[1;33m,\u001b[0m \u001b[1;36m1\u001b[0m\u001b[1;33m/\u001b[0m\u001b[1;36m7\u001b[0m\u001b[1;33m]\u001b[0m\u001b[1;33m,\u001b[0m \u001b[1;33m[\u001b[0m\u001b[1;36m3\u001b[0m\u001b[1;33m/\u001b[0m\u001b[1;36m7\u001b[0m\u001b[1;33m,\u001b[0m \u001b[1;36m3\u001b[0m\u001b[1;33m/\u001b[0m\u001b[1;36m7\u001b[0m\u001b[1;33m]\u001b[0m\u001b[1;33m,\u001b[0m \u001b[1;33m[\u001b[0m\u001b[1;36m4\u001b[0m\u001b[1;33m/\u001b[0m\u001b[1;36m7\u001b[0m\u001b[1;33m,\u001b[0m \u001b[1;36m5\u001b[0m\u001b[1;33m/\u001b[0m\u001b[1;36m7\u001b[0m\u001b[1;33m]\u001b[0m\u001b[1;33m,\u001b[0m \u001b[1;33m[\u001b[0m\u001b[1;36m5\u001b[0m\u001b[1;33m/\u001b[0m\u001b[1;36m7\u001b[0m\u001b[1;33m,\u001b[0m \u001b[1;36m1\u001b[0m\u001b[1;33m]\u001b[0m\u001b[1;33m,\u001b[0m \u001b[1;33m[\u001b[0m\u001b[1;36m6\u001b[0m\u001b[1;33m/\u001b[0m\u001b[1;36m7\u001b[0m\u001b[1;33m,\u001b[0m \u001b[1;36m2\u001b[0m\u001b[1;33m/\u001b[0m\u001b[1;36m7\u001b[0m\u001b[1;33m]\u001b[0m\u001b[1;33m,\u001b[0m \u001b[1;33m[\u001b[0m\u001b[1;36m1\u001b[0m\u001b[1;33m,\u001b[0m \u001b[1;36m4\u001b[0m\u001b[1;33m/\u001b[0m\u001b[1;36m7\u001b[0m\u001b[1;33m]\u001b[0m\u001b[1;33m]\u001b[0m\u001b[1;33m)\u001b[0m \u001b[1;33m-\u001b[0m \u001b[1;33m(\u001b[0m\u001b[1;36m1\u001b[0m\u001b[1;33m/\u001b[0m\u001b[1;36m14\u001b[0m\u001b[1;33m)\u001b[0m\u001b[1;33m\u001b[0m\u001b[1;33m\u001b[0m\u001b[0m\n",
      "\u001b[1;32m~\\miniconda3\\envs\\qmcpy\\lib\\site-packages\\pandas\\util\\_decorators.py\u001b[0m in \u001b[0;36m?\u001b[1;34m(*args, **kwargs)\u001b[0m\n\u001b[0;32m    307\u001b[0m                     \u001b[0mmsg\u001b[0m\u001b[1;33m.\u001b[0m\u001b[0mformat\u001b[0m\u001b[1;33m(\u001b[0m\u001b[0marguments\u001b[0m\u001b[1;33m=\u001b[0m\u001b[0marguments\u001b[0m\u001b[1;33m)\u001b[0m\u001b[1;33m,\u001b[0m\u001b[1;33m\u001b[0m\u001b[1;33m\u001b[0m\u001b[0m\n\u001b[0;32m    308\u001b[0m                     \u001b[0mFutureWarning\u001b[0m\u001b[1;33m,\u001b[0m\u001b[1;33m\u001b[0m\u001b[1;33m\u001b[0m\u001b[0m\n\u001b[0;32m    309\u001b[0m                     \u001b[0mstacklevel\u001b[0m\u001b[1;33m=\u001b[0m\u001b[0mstacklevel\u001b[0m\u001b[1;33m,\u001b[0m\u001b[1;33m\u001b[0m\u001b[1;33m\u001b[0m\u001b[0m\n\u001b[0;32m    310\u001b[0m                 )\n\u001b[1;32m--> 311\u001b[1;33m             \u001b[1;32mreturn\u001b[0m \u001b[0mfunc\u001b[0m\u001b[1;33m(\u001b[0m\u001b[1;33m*\u001b[0m\u001b[0margs\u001b[0m\u001b[1;33m,\u001b[0m \u001b[1;33m**\u001b[0m\u001b[0mkwargs\u001b[0m\u001b[1;33m)\u001b[0m\u001b[1;33m\u001b[0m\u001b[1;33m\u001b[0m\u001b[0m\n\u001b[0m",
      "\u001b[1;32m~\\miniconda3\\envs\\qmcpy\\lib\\site-packages\\pandas\\core\\frame.py\u001b[0m in \u001b[0;36m?\u001b[1;34m(self, keys, drop, append, inplace, verify_integrity)\u001b[0m\n\u001b[0;32m   5496\u001b[0m                     \u001b[1;32mif\u001b[0m \u001b[1;32mnot\u001b[0m \u001b[0mfound\u001b[0m\u001b[1;33m:\u001b[0m\u001b[1;33m\u001b[0m\u001b[1;33m\u001b[0m\u001b[0m\n\u001b[0;32m   5497\u001b[0m                         \u001b[0mmissing\u001b[0m\u001b[1;33m.\u001b[0m\u001b[0mappend\u001b[0m\u001b[1;33m(\u001b[0m\u001b[0mcol\u001b[0m\u001b[1;33m)\u001b[0m\u001b[1;33m\u001b[0m\u001b[1;33m\u001b[0m\u001b[0m\n\u001b[0;32m   5498\u001b[0m \u001b[1;33m\u001b[0m\u001b[0m\n\u001b[0;32m   5499\u001b[0m         \u001b[1;32mif\u001b[0m \u001b[0mmissing\u001b[0m\u001b[1;33m:\u001b[0m\u001b[1;33m\u001b[0m\u001b[1;33m\u001b[0m\u001b[0m\n\u001b[1;32m-> 5500\u001b[1;33m             \u001b[1;32mraise\u001b[0m \u001b[0mKeyError\u001b[0m\u001b[1;33m(\u001b[0m\u001b[1;34mf\"None of {missing} are in the columns\"\u001b[0m\u001b[1;33m)\u001b[0m\u001b[1;33m\u001b[0m\u001b[1;33m\u001b[0m\u001b[0m\n\u001b[0m\u001b[0;32m   5501\u001b[0m \u001b[1;33m\u001b[0m\u001b[0m\n\u001b[0;32m   5502\u001b[0m         \u001b[1;32mif\u001b[0m \u001b[0minplace\u001b[0m\u001b[1;33m:\u001b[0m\u001b[1;33m\u001b[0m\u001b[1;33m\u001b[0m\u001b[0m\n\u001b[0;32m   5503\u001b[0m             \u001b[0mframe\u001b[0m \u001b[1;33m=\u001b[0m \u001b[0mself\u001b[0m\u001b[1;33m\u001b[0m\u001b[1;33m\u001b[0m\u001b[0m\n",
      "\u001b[1;31mKeyError\u001b[0m: \"None of ['No.'] are in the columns\""
     ]
    }
   ],
   "source": [
    "#We was given P1_star, P2_star, P3_star, and P4_star in Fang's paper in Example 3 so we will punch it into the code\n",
    "P1_star = np.array([[1/7, 4/7], [2/7, 1/7], [3/7, 5/7], [4/7, 2/7], [5/7, 6/7], [6/7, 3/7], [1, 1]]) - (1/14)\n",
    "P2_star = np.array([[1/7, 5/7], [2/7, 2/7], [3/7, 1], [4/7, 4/7], [5/7, 1/7], [6/7, 6/7], [1, 3/7]]) - (1/14)\n",
    "P3_star = np.array([[1/7, 6/7], [2/7, 1/7], [3/7, 3/7], [4/7, 5/7], [5/7, 1], [6/7, 2/7], [1, 4/7]]) - (1/14)\n",
    "P4_star = np.array([[1/7, 3/7], [2/7, 6/7], [3/7, 1/7], [4/7, 4/7], [5/7, 1], [6/7, 2/7], [1, 5/7]]) - (1/14)\n",
    "\n",
    "#Like in Example 1, list out the discrepancies you want to use, which is Wrap Around,\n",
    "#Centered, and Mixture discrepancy.\n",
    "Discrepancies = ['WD', 'CD', 'MD']\n",
    "P = [P1_star, P2_star, P3_star, P4_star]\n",
    "\n",
    "QMC = []\n",
    "\n",
    "#For each discrepancy\n",
    "\n",
    "for i in range(3): \n",
    "    #Discrepancy^2 because we want to calculate it and show that there is a typo in Fang's paper\n",
    "    QMCPy = []\n",
    "    for j in range(4):\n",
    "        #Now calculate discrepancy for QMCPy squared and use Scipy respectively.\n",
    "        QMCPy = QMCPy + [round(qp.discrepancy(Discrepancies[i], P[j])**2,6)]\n",
    "        Scipy = Scipy + [round(scipy.stats.qmc.discrepancy(P[j], method = Discrepancies[i]),6)]\n",
    "    #Now add another row to the lists QMC and Sci table\n",
    "    QMC = QMC + [QMCPy]\n",
    "    Sci = Sci + [Scipy]\n",
    "\n",
    "#Now show the tables for QMCPy and Scipy\n",
    "print(QMC)\n",
    "print(\"QMCPy's calculated squared discrepancy\")\n",
    "df = pd.DataFrame(QMC)\n",
    "df\n",
    "df.column = ['P_1^*', 'P_2^*', 'P_3^*', 'P_4^*']\n",
    "df.index = ['WD^2', 'CD^2', 'MD^2']\n",
    "df.set_index('No.')\n",
    "\n",
    "df\n",
    "print(' ')\n",
    "print(\"Scipy's calculated discrepancy\")\n",
    "df = pd.DataFrame(Sci)  \n",
    "print(df)"
   ]
  },
  {
   "cell_type": "markdown",
   "id": "a4568246-eebe-4aeb-a6d2-b1aec502b2a1",
   "metadata": {},
   "source": [
    "Notice that the values for both are the same, as we've shown in Example 1. But there is a bit of a typo, because for discrepancy we sqaured the values and in Zhou's paper there is a typo as Zhou is actually reporting $WD^2$, $CD^2$, and $MD^2$. Another approach would be to take the square root of the values to get $WD$, $CD$, and $MD$ accordingly. \n",
    "\n",
    "To conclude Scipy, needs to take the square root for Wrap Around, Centered, and Mixture discrepancy. And Zhou's paper has a typo in Example 3."
   ]
  }
 ],
 "metadata": {
  "kernelspec": {
   "display_name": "Python 3 (ipykernel)",
   "language": "python",
   "name": "python3"
  },
  "language_info": {
   "codemirror_mode": {
    "name": "ipython",
    "version": 3
   },
   "file_extension": ".py",
   "mimetype": "text/x-python",
   "name": "python",
   "nbconvert_exporter": "python",
   "pygments_lexer": "ipython3",
   "version": "3.9.13"
  }
 },
 "nbformat": 4,
 "nbformat_minor": 5
}
