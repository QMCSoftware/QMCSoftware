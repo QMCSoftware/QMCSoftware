{
 "cells": [
  {
   "cell_type": "markdown",
   "id": "a26222f9-53c7-4939-bfa8-e58de84fd6d9",
   "metadata": {},
   "source": [
    "# Discrepancy Example from Zhou et al. (2013)"
   ]
  },
  {
   "cell_type": "markdown",
   "id": "f094a2bd-6dfe-483a-a116-3350dbcad72d",
   "metadata": {},
   "source": [
    "We have compared the computations between QMCPy and Scipy for the article Zhou, Y.-D., Fang, K.-T., & Ning, J.-H. (2013). Mixture discrepancy for quasi-random point sets. Journal of Complexity, 29(3–4), 283–301. https://doi.org/10.1016/j.jco.2012.11.006. We have found that\n",
    "\n",
    "* The computations in example 1 are correct for QMCPy and incorrect for Scipy. This is because Scipy neglects to take the square root in computing discrepancy.\n",
    "* Scipy matches the compuations in Example 3, because the paper shows the squared discrepancy rather than the discrepancy itself. Hence, there is a typo in the paper."
   ]
  },
  {
   "cell_type": "code",
   "execution_count": 1,
   "id": "55152548-9a96-4e72-a91e-fa3fc13130a0",
   "metadata": {},
   "outputs": [],
   "source": [
    "import qmcpy as qp\n",
    "import numpy as np\n",
    "import scipy.stats\n",
    "from tabulate import tabulate\n",
    "import pandas as pd\n",
    "import time"
   ]
  },
  {
   "cell_type": "markdown",
   "id": "e3706ef7-fca3-47aa-8121-2de67e95b606",
   "metadata": {},
   "source": [
    "## Example 1"
   ]
  },
  {
   "cell_type": "code",
   "execution_count": 3,
   "id": "7dc1859b-bdf2-4872-a57e-0d632fdc28a7",
   "metadata": {},
   "outputs": [
    {
     "ename": "AttributeError",
     "evalue": "'int' object has no attribute 'sum'",
     "output_type": "error",
     "traceback": [
      "\u001b[1;31m---------------------------------------------------------------------------\u001b[0m",
      "\u001b[1;31mAttributeError\u001b[0m                            Traceback (most recent call last)",
      "Cell \u001b[1;32mIn[3], line 13\u001b[0m\n\u001b[0;32m      7\u001b[0m P_2 \u001b[38;5;241m=\u001b[39m np\u001b[38;5;241m.\u001b[39marray([[\u001b[38;5;241m1\u001b[39m, \u001b[38;5;241m1\u001b[39m, \u001b[38;5;241m1\u001b[39m, \u001b[38;5;241m1\u001b[39m, \u001b[38;5;241m1\u001b[39m, \u001b[38;5;241m1\u001b[39m, \u001b[38;5;241m1\u001b[39m, \u001b[38;5;241m1\u001b[39m, \u001b[38;5;241m2\u001b[39m, \u001b[38;5;241m2\u001b[39m, \u001b[38;5;241m2\u001b[39m, \u001b[38;5;241m2\u001b[39m ,\u001b[38;5;241m2\u001b[39m, \u001b[38;5;241m2\u001b[39m, \u001b[38;5;241m2\u001b[39m, \u001b[38;5;241m2\u001b[39m, \u001b[38;5;241m3\u001b[39m, \u001b[38;5;241m3\u001b[39m, \u001b[38;5;241m3\u001b[39m, \u001b[38;5;241m3\u001b[39m, \u001b[38;5;241m3\u001b[39m, \u001b[38;5;241m3\u001b[39m, \u001b[38;5;241m3\u001b[39m, \u001b[38;5;241m3\u001b[39m],\n\u001b[0;32m      8\u001b[0m                [\u001b[38;5;241m1\u001b[39m, \u001b[38;5;241m1\u001b[39m, \u001b[38;5;241m1\u001b[39m, \u001b[38;5;241m2\u001b[39m, \u001b[38;5;241m2\u001b[39m, \u001b[38;5;241m3\u001b[39m, \u001b[38;5;241m3\u001b[39m, \u001b[38;5;241m3\u001b[39m, \u001b[38;5;241m1\u001b[39m, \u001b[38;5;241m1\u001b[39m, \u001b[38;5;241m2\u001b[39m, \u001b[38;5;241m2\u001b[39m, \u001b[38;5;241m2\u001b[39m, \u001b[38;5;241m2\u001b[39m, \u001b[38;5;241m3\u001b[39m, \u001b[38;5;241m3\u001b[39m, \u001b[38;5;241m1\u001b[39m, \u001b[38;5;241m1\u001b[39m, \u001b[38;5;241m1\u001b[39m, \u001b[38;5;241m2\u001b[39m, \u001b[38;5;241m2\u001b[39m, \u001b[38;5;241m3\u001b[39m, \u001b[38;5;241m3\u001b[39m, \u001b[38;5;241m3\u001b[39m],\n\u001b[0;32m      9\u001b[0m                [\u001b[38;5;241m1\u001b[39m, \u001b[38;5;241m2\u001b[39m, \u001b[38;5;241m3\u001b[39m, \u001b[38;5;241m1\u001b[39m, \u001b[38;5;241m3\u001b[39m, \u001b[38;5;241m1\u001b[39m, \u001b[38;5;241m2\u001b[39m, \u001b[38;5;241m3\u001b[39m, \u001b[38;5;241m1\u001b[39m, \u001b[38;5;241m3\u001b[39m, \u001b[38;5;241m2\u001b[39m, \u001b[38;5;241m2\u001b[39m, \u001b[38;5;241m2\u001b[39m, \u001b[38;5;241m2\u001b[39m, \u001b[38;5;241m1\u001b[39m, \u001b[38;5;241m3\u001b[39m, \u001b[38;5;241m1\u001b[39m, \u001b[38;5;241m2\u001b[39m, \u001b[38;5;241m3\u001b[39m, \u001b[38;5;241m1\u001b[39m, \u001b[38;5;241m3\u001b[39m, \u001b[38;5;241m1\u001b[39m, \u001b[38;5;241m2\u001b[39m, \u001b[38;5;241m3\u001b[39m]])\u001b[38;5;241m.\u001b[39mT \u001b[38;5;241m/\u001b[39m \u001b[38;5;241m3\u001b[39m \u001b[38;5;241m-\u001b[39m (\u001b[38;5;241m1\u001b[39m\u001b[38;5;241m/\u001b[39m\u001b[38;5;241m6\u001b[39m)\n\u001b[0;32m     11\u001b[0m \u001b[38;5;66;03m#Go ahead and calculate the discrepancy based on centered and wrap around discrepancy on P_1 and P_2\u001b[39;00m\n\u001b[0;32m     12\u001b[0m QMCPy \u001b[38;5;241m=\u001b[39m np\u001b[38;5;241m.\u001b[39marray([[\u001b[38;5;28mround\u001b[39m(qp\u001b[38;5;241m.\u001b[39mdiscrepancy(P_1, \u001b[38;5;124m'\u001b[39m\u001b[38;5;124mCD\u001b[39m\u001b[38;5;124m'\u001b[39m)\u001b[38;5;241m*\u001b[39m\u001b[38;5;241m*\u001b[39m\u001b[38;5;241m2\u001b[39m,\u001b[38;5;241m6\u001b[39m), \u001b[38;5;28mround\u001b[39m(qp\u001b[38;5;241m.\u001b[39mdiscrepancy(P_2, \u001b[38;5;124m'\u001b[39m\u001b[38;5;124mCD\u001b[39m\u001b[38;5;124m'\u001b[39m)\u001b[38;5;241m*\u001b[39m\u001b[38;5;241m*\u001b[39m\u001b[38;5;241m2\u001b[39m,\u001b[38;5;241m6\u001b[39m)],\n\u001b[1;32m---> 13\u001b[0m                 [\u001b[38;5;28mround\u001b[39m(\u001b[43mqp\u001b[49m\u001b[38;5;241;43m.\u001b[39;49m\u001b[43mdiscrepancy\u001b[49m\u001b[43m(\u001b[49m\u001b[43mP_1\u001b[49m\u001b[43m,\u001b[49m\u001b[43m \u001b[49m\u001b[38;5;124;43m'\u001b[39;49m\u001b[38;5;124;43mWD\u001b[39;49m\u001b[38;5;124;43m'\u001b[39;49m\u001b[43m)\u001b[49m\u001b[38;5;241m*\u001b[39m\u001b[38;5;241m*\u001b[39m\u001b[38;5;241m2\u001b[39m,\u001b[38;5;241m6\u001b[39m), \u001b[38;5;28mround\u001b[39m(qp\u001b[38;5;241m.\u001b[39mdiscrepancy(P_2, \u001b[38;5;124m'\u001b[39m\u001b[38;5;124mWD\u001b[39m\u001b[38;5;124m'\u001b[39m)\u001b[38;5;241m*\u001b[39m\u001b[38;5;241m*\u001b[39m\u001b[38;5;241m2\u001b[39m,\u001b[38;5;241m6\u001b[39m)]])\n\u001b[0;32m     15\u001b[0m SciPy \u001b[38;5;241m=\u001b[39m np\u001b[38;5;241m.\u001b[39marray([[\u001b[38;5;28mround\u001b[39m(scipy\u001b[38;5;241m.\u001b[39mstats\u001b[38;5;241m.\u001b[39mqmc\u001b[38;5;241m.\u001b[39mdiscrepancy(P_1, method \u001b[38;5;241m=\u001b[39m \u001b[38;5;124m'\u001b[39m\u001b[38;5;124mCD\u001b[39m\u001b[38;5;124m'\u001b[39m),\u001b[38;5;241m6\u001b[39m), \u001b[38;5;28mround\u001b[39m(scipy\u001b[38;5;241m.\u001b[39mstats\u001b[38;5;241m.\u001b[39mqmc\u001b[38;5;241m.\u001b[39mdiscrepancy(P_2, method \u001b[38;5;241m=\u001b[39m \u001b[38;5;124m'\u001b[39m\u001b[38;5;124mCD\u001b[39m\u001b[38;5;124m'\u001b[39m),\u001b[38;5;241m6\u001b[39m)],\n\u001b[0;32m     16\u001b[0m                   [\u001b[38;5;28mround\u001b[39m(scipy\u001b[38;5;241m.\u001b[39mstats\u001b[38;5;241m.\u001b[39mqmc\u001b[38;5;241m.\u001b[39mdiscrepancy(P_1, method \u001b[38;5;241m=\u001b[39m \u001b[38;5;124m'\u001b[39m\u001b[38;5;124mWD\u001b[39m\u001b[38;5;124m'\u001b[39m),\u001b[38;5;241m6\u001b[39m), \u001b[38;5;28mround\u001b[39m(scipy\u001b[38;5;241m.\u001b[39mstats\u001b[38;5;241m.\u001b[39mqmc\u001b[38;5;241m.\u001b[39mdiscrepancy(P_2, method \u001b[38;5;241m=\u001b[39m \u001b[38;5;124m'\u001b[39m\u001b[38;5;124mWD\u001b[39m\u001b[38;5;124m'\u001b[39m),\u001b[38;5;241m6\u001b[39m)]])\n\u001b[0;32m     18\u001b[0m \u001b[38;5;66;03m#Using panda to create the following tables with centered and wrap as our rows and P_1 and P_2 as our columns\u001b[39;00m\n",
      "File \u001b[1;32mc:\\users\\cdhjr\\onedrive\\desktop\\qmcsoftware\\qmcpy\\kernels\\discrepancy.py:89\u001b[0m, in \u001b[0;36mdiscrepancy\u001b[1;34m(x, method, weight, limiter, Time)\u001b[0m\n\u001b[0;32m     86\u001b[0m x_chunk \u001b[38;5;241m=\u001b[39m x[n_ii_start:n_ii_end,:]\n\u001b[0;32m     87\u001b[0m \u001b[38;5;66;03m# Go ahead and calculate the single_integral for those samples and add them up\u001b[39;00m\n\u001b[0;32m     88\u001b[0m \u001b[38;5;66;03m# to single_integral_sum\u001b[39;00m\n\u001b[1;32m---> 89\u001b[0m single_integral_sum  \u001b[38;5;241m+\u001b[39m\u001b[38;5;241m=\u001b[39m \u001b[43msingle_integral\u001b[49m\u001b[43m(\u001b[49m\u001b[43mx_chunk\u001b[49m\u001b[43m,\u001b[49m\u001b[43mweight\u001b[49m\u001b[43m)\u001b[49m\u001b[38;5;241;43m.\u001b[39;49m\u001b[43msum\u001b[49m(axis \u001b[38;5;241m=\u001b[39m \u001b[38;5;241m0\u001b[39m)\n\u001b[0;32m     90\u001b[0m \u001b[38;5;66;03m# We have to reshape the matrix x such that we get an iteration.\u001b[39;00m\n\u001b[0;32m     91\u001b[0m x_chunk \u001b[38;5;241m=\u001b[39m x_chunk\u001b[38;5;241m.\u001b[39mreshape(n_ii_batch,\u001b[38;5;241m1\u001b[39m,d)\n",
      "\u001b[1;31mAttributeError\u001b[0m: 'int' object has no attribute 'sum'"
     ]
    }
   ],
   "source": [
    "#P_1 and P_2 were given in Fang's paper\n",
    "P_1 = np.array([[1, 1, 1, 1, 1, 1, 1, 1, 2, 2, 2, 2, 2, 2, 2, 2, 3, 3, 3, 3, 3, 3, 3, 3],\n",
    "               [1, 1, 2, 2, 2, 3, 3, 3, 1, 1, 1, 2, 2, 2, 3, 3, 1, 1, 1, 2, 2, 3, 3, 3],\n",
    "               [1, 3, 1, 2, 3, 1, 2, 3, 1, 2, 3, 1, 2, 3, 1, 2, 1, 2, 3, 2, 3, 1, 2, 3]]).T / 3 -(1/6)\n",
    "\n",
    "                \n",
    "P_2 = np.array([[1, 1, 1, 1, 1, 1, 1, 1, 2, 2, 2, 2 ,2, 2, 2, 2, 3, 3, 3, 3, 3, 3, 3, 3],\n",
    "               [1, 1, 1, 2, 2, 3, 3, 3, 1, 1, 2, 2, 2, 2, 3, 3, 1, 1, 1, 2, 2, 3, 3, 3],\n",
    "               [1, 2, 3, 1, 3, 1, 2, 3, 1, 3, 2, 2, 2, 2, 1, 3, 1, 2, 3, 1, 3, 1, 2, 3]]).T / 3 - (1/6)\n",
    "\n",
    "#Go ahead and calculate the discrepancy based on centered and wrap around discrepancy on P_1 and P_2\n",
    "QMCPy = np.array([[round(qp.discrepancy(P_1, 'CD')**2,6), round(qp.discrepancy(P_2, 'CD')**2,6)],\n",
    "                [round(qp.discrepancy(P_1, 'WD')**2,6), round(qp.discrepancy(P_2, 'WD')**2,6)]])\n",
    "\n",
    "SciPy = np.array([[round(scipy.stats.qmc.discrepancy(P_1, method = 'CD'),6), round(scipy.stats.qmc.discrepancy(P_2, method = 'CD'),6)],\n",
    "                  [round(scipy.stats.qmc.discrepancy(P_1, method = 'WD'),6), round(scipy.stats.qmc.discrepancy(P_2, method = 'WD'),6)]])\n",
    "\n",
    "#Using panda to create the following tables with centered and wrap as our rows and P_1 and P_2 as our columns\n",
    "print(\"QMCPy's calculated discrepancy SQUARED\")\n",
    "Q = pd.DataFrame(QMCPy, ['CD^2', 'WD^2'], ['P_1', 'P_2'])\n",
    "print(' ')\n",
    "print(Q)\n",
    "print(' ')\n",
    "print(\"Scipy's calculated discrepancy\")\n",
    "S = pd.DataFrame(SciPy, ['CD^2', 'WD^2'], ['P_1', 'P_2'])\n",
    "print(' ')\n",
    "print(S)\n"
   ]
  },
  {
   "cell_type": "markdown",
   "id": "5126a53c-4a31-4bd2-be08-6977d5e2d4b3",
   "metadata": {},
   "source": [
    "The mission of Zhou's paper in Example 1 is to calculate the discrepancy squared of Centered and Wrap Around for $P_1$ and $P_2$ given in the example. \n",
    "The tables above match with the data given by Zhou's paper. And we see that Scipy is actually calculating discrepancy SQUARED, not the discrepancy, because notice that for QMCPy when we square those values we are getting the exact same values."
   ]
  },
  {
   "cell_type": "markdown",
   "id": "ff6d020d-0a5f-4f0b-b0b8-a106a641059b",
   "metadata": {},
   "source": [
    "## Example 3"
   ]
  },
  {
   "cell_type": "code",
   "execution_count": 29,
   "id": "4503b2cd-ae36-49f8-96c7-2d86a439acff",
   "metadata": {},
   "outputs": [
    {
     "name": "stdout",
     "output_type": "stream",
     "text": [
      "QMCPy's calculated discrepancy\n",
      " \n",
      "     P1_star   P2_star   P3_star   P4_star\n",
      "WD  0.012414  0.012482  0.012414  0.012482\n",
      "CD  0.007847  0.005824  0.006181  0.005824\n",
      "MD  0.011648  0.010921  0.011232  0.010921\n",
      " \n",
      "Scipy's calculated discrepancy\n",
      " \n",
      "     P1_star   P2_star   P3_star   P4_star\n",
      "WD  0.012414  0.012482  0.012414  0.012482\n",
      "CD  0.007847  0.005824  0.006181  0.005824\n",
      "MD  0.011648  0.010921  0.011648  0.010921\n"
     ]
    }
   ],
   "source": [
    "#We was given P1_star, P2_star, P3_star, and P4_star in Fang's paper in Example 3 so we will punch it into the code\n",
    "P1_star = np.array([[1/7, 4/7], [2/7, 1/7], [3/7, 5/7], [4/7, 2/7], [5/7, 6/7], [6/7, 3/7], [1, 1]]) - (1/14)\n",
    "P2_star = np.array([[1/7, 5/7], [2/7, 2/7], [3/7, 1], [4/7, 4/7], [5/7, 1/7], [6/7, 6/7], [1, 3/7]]) - (1/14)\n",
    "P3_star = np.array([[1/7, 6/7], [2/7, 1/7], [3/7, 3/7], [4/7, 5/7], [5/7, 1], [6/7, 2/7], [1, 4/7]]) - (1/14)\n",
    "P4_star = np.array([[1/7, 3/7], [2/7, 6/7], [3/7, 1/7], [4/7, 4/7], [5/7, 1], [6/7, 2/7], [1, 5/7]]) - (1/14)\n",
    "\n",
    "#Like in Example 1, list out the discrepancies you want to use, which is Wrap Around,\n",
    "#Centered, and Mixture discrepancy.\n",
    "Discrepancies = ['WD', 'CD', 'MD']\n",
    "\n",
    "#Go ahead and calculate the discrepancy based on centered and wrap around discrepancy on P_1 and P_2\n",
    "QMCPy = np.array([[round(qp.discrepancy('WD', P1_star)**2,6), round(qp.discrepancy('WD', P2_star)**2,6), round(qp.discrepancy('WD', P3_star)**2,6), round(qp.discrepancy('WD', P4_star)**2,6)],\n",
    "                [round(qp.discrepancy('CD', P1_star)**2,6), round(qp.discrepancy('CD', P2_star)**2,6), round(qp.discrepancy('CD', P3_star)**2,6), round(qp.discrepancy('CD', P4_star)**2,6)],\n",
    "                [round(qp.discrepancy('MD', P1_star)**2,6), round(qp.discrepancy('MD', P2_star)**2,6), round(qp.discrepancy('MD', P3_star)**2,6), round(qp.discrepancy('MD', P4_star)**2,6)]])\n",
    "\n",
    "SciPy = np.array([[round(scipy.stats.qmc.discrepancy(P1_star, method = 'WD'),6), round(scipy.stats.qmc.discrepancy(P2_star, method = 'WD'),6), round(scipy.stats.qmc.discrepancy(P3_star, method = 'WD'),6), round(scipy.stats.qmc.discrepancy(P4_star, method = 'WD'),6)],\n",
    "                  [round(scipy.stats.qmc.discrepancy(P1_star, method = 'CD'),6), round(scipy.stats.qmc.discrepancy(P2_star, method = 'CD'),6), round(scipy.stats.qmc.discrepancy(P3_star, method = 'CD'),6), round(scipy.stats.qmc.discrepancy(P4_star, method = 'CD'),6)],\n",
    "                  [round(scipy.stats.qmc.discrepancy(P1_star, method = 'MD'),6), round(scipy.stats.qmc.discrepancy(P2_star, method = 'MD'),6), round(scipy.stats.qmc.discrepancy(P1_star, method = 'MD'),6), round(scipy.stats.qmc.discrepancy(P2_star, method = 'MD'),6)]])\n",
    "\n",
    "#Using panda to create the following tables with centered and wrap as our rows and P_1 and P_2 as our columns\n",
    "print(\"QMCPy's calculated discrepancy SQUARED\")\n",
    "Q = pd.DataFrame(QMCPy, ['WD', 'CD', 'MD'], ['P1_star', 'P2_star', 'P3_star', 'P4_star'])\n",
    "print(' ')\n",
    "print(Q)\n",
    "print(' ')\n",
    "print(\"Scipy's calculated discrepancy\")\n",
    "S = pd.DataFrame(SciPy, ['WD', 'CD', 'MD'], ['P1_star', 'P2_star', 'P3_star', 'P4_star'])\n",
    "print(' ')\n",
    "print(S)\n",
    "\n",
    "\n"
   ]
  },
  {
   "cell_type": "markdown",
   "id": "a4568246-eebe-4aeb-a6d2-b1aec502b2a1",
   "metadata": {},
   "source": [
    "Notice that the values for both are the same, as we've shown in Example 1. But there is a bit of a typo, because for discrepancy we sqaured the values and in Zhou's paper there is a typo as Zhou is actually reporting $WD^2$, $CD^2$, and $MD^2$. \n",
    "\n",
    "To conclude Scipy, needs to take the square root for Wrap Around, Centered, and Mixture discrepancy. And Zhou's paper has a typo in Example 3."
   ]
  },
  {
   "cell_type": "code",
   "execution_count": 39,
   "id": "4a725a3d-fc5d-4963-bf6b-3aae11962fe5",
   "metadata": {},
   "outputs": [
    {
     "name": "stdout",
     "output_type": "stream",
     "text": [
      "1.9.3 1.23.4 sys.version_info(major=3, minor=9, micro=13, releaselevel='final', serial=0)\n",
      "blas_mkl_info:\n",
      "  NOT AVAILABLE\n",
      "blis_info:\n",
      "  NOT AVAILABLE\n",
      "openblas_info:\n",
      "    library_dirs = ['D:\\\\a\\\\1\\\\s\\\\numpy\\\\build\\\\openblas_info']\n",
      "    libraries = ['openblas_info']\n",
      "    language = f77\n",
      "    define_macros = [('HAVE_CBLAS', None)]\n",
      "blas_opt_info:\n",
      "    library_dirs = ['D:\\\\a\\\\1\\\\s\\\\numpy\\\\build\\\\openblas_info']\n",
      "    libraries = ['openblas_info']\n",
      "    language = f77\n",
      "    define_macros = [('HAVE_CBLAS', None)]\n",
      "lapack_mkl_info:\n",
      "  NOT AVAILABLE\n",
      "openblas_lapack_info:\n",
      "    library_dirs = ['D:\\\\a\\\\1\\\\s\\\\numpy\\\\build\\\\openblas_lapack_info']\n",
      "    libraries = ['openblas_lapack_info']\n",
      "    language = f77\n",
      "    define_macros = [('HAVE_CBLAS', None)]\n",
      "lapack_opt_info:\n",
      "    library_dirs = ['D:\\\\a\\\\1\\\\s\\\\numpy\\\\build\\\\openblas_lapack_info']\n",
      "    libraries = ['openblas_lapack_info']\n",
      "    language = f77\n",
      "    define_macros = [('HAVE_CBLAS', None)]\n"
     ]
    }
   ],
   "source": [
    "import sys, scipy, numpy\n",
    "print(scipy.__version__, numpy.__version__, sys.version_info)\n",
    "scipy.show_config()"
   ]
  },
  {
   "cell_type": "code",
   "execution_count": null,
   "id": "c3666234-2bbc-4b26-af6d-883d51e39047",
   "metadata": {},
   "outputs": [],
   "source": []
  }
 ],
 "metadata": {
  "kernelspec": {
   "display_name": "Python 3 (ipykernel)",
   "language": "python",
   "name": "python3"
  },
  "language_info": {
   "codemirror_mode": {
    "name": "ipython",
    "version": 3
   },
   "file_extension": ".py",
   "mimetype": "text/x-python",
   "name": "python",
   "nbconvert_exporter": "python",
   "pygments_lexer": "ipython3",
   "version": "3.9.13"
  }
 },
 "nbformat": 4,
 "nbformat_minor": 5
}
