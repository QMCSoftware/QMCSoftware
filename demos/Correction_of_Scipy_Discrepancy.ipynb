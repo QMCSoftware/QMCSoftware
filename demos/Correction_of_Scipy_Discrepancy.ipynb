{
 "cells": [
  {
   "cell_type": "markdown",
   "id": "a26222f9-53c7-4939-bfa8-e58de84fd6d9",
   "metadata": {},
   "source": [
    "# Discrepancy Example from Zhou et al. (2013)"
   ]
  },
  {
   "cell_type": "markdown",
   "id": "f094a2bd-6dfe-483a-a116-3350dbcad72d",
   "metadata": {},
   "source": [
    "We have compared the computations between QMCPy and Scipy for the article Zhou, Y.-D., Fang, K.-T., & Ning, J.-H. (2013). Mixture discrepancy for quasi-random point sets. Journal of Complexity, 29(3–4), 283–301. https://doi.org/10.1016/j.jco.2012.11.006. We have found that\n",
    "\n",
    "* The computations in example 1 are correct for QMCPy and incorrect for Scipy. This is because Scipy neglects to take the square root in computing discrepancy.\n",
    "* Scipy matches the compuations in Example 3, because the paper shows the squared discrepancy rather than the discrepancy itself. Hence, there is a typo in the paper."
   ]
  },
  {
   "cell_type": "code",
   "execution_count": 3,
   "id": "55152548-9a96-4e72-a91e-fa3fc13130a0",
   "metadata": {},
   "outputs": [],
   "source": [
    "import qmcpy as qp\n",
    "import numpy as np\n",
    "import scipy.stats\n",
    "from tabulate import tabulate\n",
    "import pandas as pd\n",
    "import time"
   ]
  },
  {
   "cell_type": "markdown",
   "id": "e3706ef7-fca3-47aa-8121-2de67e95b606",
   "metadata": {},
   "source": [
    "## Example 1"
   ]
  },
  {
   "cell_type": "code",
   "execution_count": 4,
   "id": "7dc1859b-bdf2-4872-a57e-0d632fdc28a7",
   "metadata": {},
   "outputs": [
    {
     "ename": "TypeError",
     "evalue": "list indices must be integers or slices, not tuple",
     "output_type": "error",
     "traceback": [
      "\u001b[1;31m---------------------------------------------------------------------------\u001b[0m",
      "\u001b[1;31mTypeError\u001b[0m                                 Traceback (most recent call last)",
      "Cell \u001b[1;32mIn[4], line 34\u001b[0m\n\u001b[0;32m     28\u001b[0m \u001b[38;5;66;03m#Now for both P_1 and P_2\u001b[39;00m\n\u001b[0;32m     29\u001b[0m \u001b[38;5;28;01mfor\u001b[39;00m j \u001b[38;5;129;01min\u001b[39;00m \u001b[38;5;28mrange\u001b[39m(\u001b[38;5;241m2\u001b[39m):\n\u001b[0;32m     30\u001b[0m     \u001b[38;5;66;03m#Calculate the discrepancy given either Centered or Wrap Around and use Scipy and QMCPy to calculate discrepancy but square QMCPy\u001b[39;00m\n\u001b[0;32m     31\u001b[0m     \u001b[38;5;66;03m#We want to find discrepancy^2 given the table in Example 1 and show that Scipy actually calculates discrepancy^2\u001b[39;00m\n\u001b[0;32m     32\u001b[0m \n\u001b[0;32m     33\u001b[0m     \u001b[38;5;66;03m###Make this coding a bit more readable. And look into panda\u001b[39;00m\n\u001b[1;32m---> 34\u001b[0m     QMCPy \u001b[38;5;241m=\u001b[39m QMCPy \u001b[38;5;241m+\u001b[39m [\u001b[38;5;28mround\u001b[39m(\u001b[43mqp\u001b[49m\u001b[38;5;241;43m.\u001b[39;49m\u001b[43mdiscrepancy\u001b[49m\u001b[43m(\u001b[49m\u001b[43mDiscrepancies\u001b[49m\u001b[43m[\u001b[49m\u001b[43mi\u001b[49m\u001b[43m]\u001b[49m\u001b[43m,\u001b[49m\u001b[43m \u001b[49m\u001b[43mP\u001b[49m\u001b[43m[\u001b[49m\u001b[43mj\u001b[49m\u001b[43m]\u001b[49m\u001b[43m)\u001b[49m\u001b[38;5;241m*\u001b[39m\u001b[38;5;241m*\u001b[39m\u001b[38;5;241m2\u001b[39m,\u001b[38;5;241m6\u001b[39m)]\n\u001b[0;32m     35\u001b[0m     Scipy \u001b[38;5;241m=\u001b[39m Scipy \u001b[38;5;241m+\u001b[39m [\u001b[38;5;28mround\u001b[39m(scipy\u001b[38;5;241m.\u001b[39mstats\u001b[38;5;241m.\u001b[39mqmc\u001b[38;5;241m.\u001b[39mdiscrepancy(P[j], method \u001b[38;5;241m=\u001b[39m Discrepancies[i]),\u001b[38;5;241m6\u001b[39m)]\n\u001b[0;32m     36\u001b[0m \u001b[38;5;66;03m#And then add the list to QMC and Sci respectively so that we can create our table\u001b[39;00m\n",
      "File \u001b[1;32mc:\\users\\cdhjr\\onedrive\\desktop\\qmcsoftware\\qmcpy\\kernels\\discrepancy.py:34\u001b[0m, in \u001b[0;36mdiscrepancy\u001b[1;34m(method, x, weight, limiter)\u001b[0m\n\u001b[0;32m     32\u001b[0m Y \u001b[38;5;241m=\u001b[39m []\n\u001b[0;32m     33\u001b[0m \u001b[38;5;28;01mfor\u001b[39;00m i_2 \u001b[38;5;129;01min\u001b[39;00m \u001b[38;5;28mrange\u001b[39m(\u001b[38;5;28mint\u001b[39m(n\u001b[38;5;241m/\u001b[39mlimiter)\u001b[38;5;241m+\u001b[39m\u001b[38;5;241m1\u001b[39m):\n\u001b[1;32m---> 34\u001b[0m     A \u001b[38;5;241m=\u001b[39m \u001b[43mX\u001b[49m\u001b[43m[\u001b[49m\u001b[43mi_2\u001b[49m\u001b[38;5;241;43m*\u001b[39;49m\u001b[43mlimiter\u001b[49m\u001b[43m:\u001b[49m\u001b[43m(\u001b[49m\u001b[43mi_2\u001b[49m\u001b[38;5;241;43m+\u001b[39;49m\u001b[38;5;241;43m1\u001b[39;49m\u001b[43m)\u001b[49m\u001b[38;5;241;43m*\u001b[39;49m\u001b[43mlimiter\u001b[49m\u001b[43m,\u001b[49m\u001b[43m \u001b[49m\u001b[43m:\u001b[49m\u001b[43m]\u001b[49m\n\u001b[0;32m     35\u001b[0m     c, f \u001b[38;5;241m=\u001b[39m A\u001b[38;5;241m.\u001b[39mshape\n\u001b[0;32m     36\u001b[0m     X_expanded \u001b[38;5;241m=\u001b[39m X_expanded \u001b[38;5;241m+\u001b[39m [np\u001b[38;5;241m.\u001b[39mresize(A, (\u001b[38;5;241m1\u001b[39m, c, f))]\n",
      "\u001b[1;31mTypeError\u001b[0m: list indices must be integers or slices, not tuple"
     ]
    }
   ],
   "source": [
    "#P_1 and P_2 were given in Fang's paper\n",
    "P_1 = np.array([[1, 1, 1, 1, 1, 1, 1, 1, 2, 2, 2, 2, 2, 2, 2, 2, 3, 3, 3, 3, 3, 3, 3, 3],\n",
    "               [1, 1, 2, 2, 2, 3, 3, 3, 1, 1, 1, 2, 2, 2, 3, 3, 1, 1, 1, 2, 2, 3, 3, 3],\n",
    "               [1, 3, 1, 2, 3, 1, 2, 3, 1, 2, 3, 1, 2, 3, 1, 2, 1, 2, 3, 2, 3, 1, 2, 3]]).T / 3 -(1/6)\n",
    "\n",
    "                \n",
    "P_2 = np.array([[1, 1, 1, 1, 1, 1, 1, 1, 2, 2, 2, 2 ,2, 2, 2, 2, 3, 3, 3, 3, 3, 3, 3, 3],\n",
    "               [1, 1, 1, 2, 2, 3, 3, 3, 1, 1, 2, 2, 2, 2, 3, 3, 1, 1, 1, 2, 2, 3, 3, 3],\n",
    "               [1, 2, 3, 1, 3, 1, 2, 3, 1, 3, 2, 2, 2, 2, 1, 3, 1, 2, 3, 1, 3, 1, 2, 3]]).T / 3 - (1/6)\n",
    "\n",
    "#List out your discrepancies, which from Fang for example 1 used, Centered and Wrap Around Discrepancy\n",
    "Discrepancies = ['CD', 'WD']\n",
    "#List of the different arrays we have to compute the discrepancy\n",
    "P = [P_1, P_2]\n",
    "\n",
    "#My data is used so that we can create a table\n",
    "mydata = [[' ', 'P_1', 'P_2']]\n",
    "\n",
    "#QMC being our QMCPy code, and Sci being Scipy's values\n",
    "QMC = mydata\n",
    "Sci = mydata\n",
    "\n",
    "#I created 2 for-loops, 1 for discrepancy and the other for P\n",
    "for i in range(2):\n",
    "    #Start off with the discrepancy we want to calculate for both QMCPy and Scipy as these are lists so that we can create a table\n",
    "    QMCPy = [Discrepancies[i]]\n",
    "    Scipy = [Discrepancies[i]]\n",
    "    #Now for both P_1 and P_2\n",
    "    for j in range(2):\n",
    "        #Calculate the discrepancy given either Centered or Wrap Around and use Scipy and QMCPy to calculate discrepancy but square QMCPy\n",
    "        #We want to find discrepancy^2 given the table in Example 1 and show that Scipy actually calculates discrepancy^2\n",
    "\n",
    "        ###Make this coding a bit more readable. And look into panda\n",
    "        QMCPy = QMCPy + [round(qp.discrepancy(Discrepancies[i], P[j])**2,6)]\n",
    "        Scipy = Scipy + [round(scipy.stats.qmc.discrepancy(P[j], method = Discrepancies[i]),6)]\n",
    "    #And then add the list to QMC and Sci respectively so that we can create our table\n",
    "    QMC = QMC + [QMCPy]\n",
    "    Sci = Sci + [Scipy]\n",
    "#Now print QMCPy and Scipy tables\n",
    "print(\"QMCPy's calculated discrepancy squared\")\n",
    "print(tabulate(QMC, tablefmt=\"grid\"))\n",
    "print(' ')\n",
    "print(\"Scipy's calculated discrepancy\")\n",
    "print(tabulate(Sci, tablefmt=\"grid\"))"
   ]
  },
  {
   "cell_type": "markdown",
   "id": "5126a53c-4a31-4bd2-be08-6977d5e2d4b3",
   "metadata": {},
   "source": [
    "The mission of Zhou's paper in Example 1 is to calculate the discrepancy squared of Centered and Wrap Around for $P_1$ and $P_2$ given in the example. \n",
    "The tables above matches with the data given by Zhou's paper. And we see that Scipy is actually calculating discrepancy squared, because notice that for QMCPy when we square those values we are getting the exact same values."
   ]
  },
  {
   "cell_type": "markdown",
   "id": "ff6d020d-0a5f-4f0b-b0b8-a106a641059b",
   "metadata": {},
   "source": [
    "## Example 3"
   ]
  },
  {
   "cell_type": "code",
   "execution_count": 5,
   "id": "4503b2cd-ae36-49f8-96c7-2d86a439acff",
   "metadata": {},
   "outputs": [
    {
     "ename": "TypeError",
     "evalue": "list indices must be integers or slices, not tuple",
     "output_type": "error",
     "traceback": [
      "\u001b[1;31m---------------------------------------------------------------------------\u001b[0m",
      "\u001b[1;31mTypeError\u001b[0m                                 Traceback (most recent call last)",
      "Cell \u001b[1;32mIn[5], line 30\u001b[0m\n\u001b[0;32m     27\u001b[0m Scipy \u001b[38;5;241m=\u001b[39m [Discrepancies[i]]\n\u001b[0;32m     28\u001b[0m \u001b[38;5;28;01mfor\u001b[39;00m j \u001b[38;5;129;01min\u001b[39;00m \u001b[38;5;28mrange\u001b[39m(\u001b[38;5;241m4\u001b[39m):\n\u001b[0;32m     29\u001b[0m     \u001b[38;5;66;03m#Now calculate discrepancy for QMCPy squared and use Scipy respectively.\u001b[39;00m\n\u001b[1;32m---> 30\u001b[0m     QMCPy \u001b[38;5;241m=\u001b[39m QMCPy \u001b[38;5;241m+\u001b[39m [\u001b[38;5;28mround\u001b[39m(\u001b[43mqp\u001b[49m\u001b[38;5;241;43m.\u001b[39;49m\u001b[43mdiscrepancy\u001b[49m\u001b[43m(\u001b[49m\u001b[43mDiscrepancies\u001b[49m\u001b[43m[\u001b[49m\u001b[43mi\u001b[49m\u001b[43m]\u001b[49m\u001b[43m,\u001b[49m\u001b[43m \u001b[49m\u001b[43mP\u001b[49m\u001b[43m[\u001b[49m\u001b[43mj\u001b[49m\u001b[43m]\u001b[49m\u001b[43m)\u001b[49m\u001b[38;5;241m*\u001b[39m\u001b[38;5;241m*\u001b[39m\u001b[38;5;241m2\u001b[39m,\u001b[38;5;241m6\u001b[39m)]\n\u001b[0;32m     31\u001b[0m     Scipy \u001b[38;5;241m=\u001b[39m Scipy \u001b[38;5;241m+\u001b[39m [\u001b[38;5;28mround\u001b[39m(scipy\u001b[38;5;241m.\u001b[39mstats\u001b[38;5;241m.\u001b[39mqmc\u001b[38;5;241m.\u001b[39mdiscrepancy(P[j], method \u001b[38;5;241m=\u001b[39m Discrepancies[i]),\u001b[38;5;241m6\u001b[39m)]\n\u001b[0;32m     32\u001b[0m \u001b[38;5;66;03m#Now add another row to the lists QMC and Sci table\u001b[39;00m\n",
      "File \u001b[1;32mc:\\users\\cdhjr\\onedrive\\desktop\\qmcsoftware\\qmcpy\\kernels\\discrepancy.py:34\u001b[0m, in \u001b[0;36mdiscrepancy\u001b[1;34m(method, x, weight, limiter)\u001b[0m\n\u001b[0;32m     32\u001b[0m Y \u001b[38;5;241m=\u001b[39m []\n\u001b[0;32m     33\u001b[0m \u001b[38;5;28;01mfor\u001b[39;00m i_2 \u001b[38;5;129;01min\u001b[39;00m \u001b[38;5;28mrange\u001b[39m(\u001b[38;5;28mint\u001b[39m(n\u001b[38;5;241m/\u001b[39mlimiter)\u001b[38;5;241m+\u001b[39m\u001b[38;5;241m1\u001b[39m):\n\u001b[1;32m---> 34\u001b[0m     A \u001b[38;5;241m=\u001b[39m \u001b[43mX\u001b[49m\u001b[43m[\u001b[49m\u001b[43mi_2\u001b[49m\u001b[38;5;241;43m*\u001b[39;49m\u001b[43mlimiter\u001b[49m\u001b[43m:\u001b[49m\u001b[43m(\u001b[49m\u001b[43mi_2\u001b[49m\u001b[38;5;241;43m+\u001b[39;49m\u001b[38;5;241;43m1\u001b[39;49m\u001b[43m)\u001b[49m\u001b[38;5;241;43m*\u001b[39;49m\u001b[43mlimiter\u001b[49m\u001b[43m,\u001b[49m\u001b[43m \u001b[49m\u001b[43m:\u001b[49m\u001b[43m]\u001b[49m\n\u001b[0;32m     35\u001b[0m     c, f \u001b[38;5;241m=\u001b[39m A\u001b[38;5;241m.\u001b[39mshape\n\u001b[0;32m     36\u001b[0m     X_expanded \u001b[38;5;241m=\u001b[39m X_expanded \u001b[38;5;241m+\u001b[39m [np\u001b[38;5;241m.\u001b[39mresize(A, (\u001b[38;5;241m1\u001b[39m, c, f))]\n",
      "\u001b[1;31mTypeError\u001b[0m: list indices must be integers or slices, not tuple"
     ]
    }
   ],
   "source": [
    "#We was given P1_star, P2_star, P3_star, and P4_star in Fang's paper in Example 3 so we will punch it into the code\n",
    "P1_star = np.array([[1/7, 4/7], [2/7, 1/7], [3/7, 5/7], [4/7, 2/7], [5/7, 6/7], [6/7, 3/7], [1, 1]]) - (1/14)\n",
    "P2_star = np.array([[1/7, 5/7], [2/7, 2/7], [3/7, 1], [4/7, 4/7], [5/7, 1/7], [6/7, 6/7], [1, 3/7]]) - (1/14)\n",
    "P3_star = np.array([[1/7, 6/7], [2/7, 1/7], [3/7, 3/7], [4/7, 5/7], [5/7, 1], [6/7, 2/7], [1, 4/7]]) - (1/14)\n",
    "P4_star = np.array([[1/7, 3/7], [2/7, 6/7], [3/7, 1/7], [4/7, 4/7], [5/7, 1], [6/7, 2/7], [1, 5/7]]) - (1/14)\n",
    "\n",
    "#Like in Example 1, list out the discrepancies you want to use, which is Wrap Around,\n",
    "#Centered, and Mixture discrepancy.\n",
    "Discrepancies = ['WD', 'CD', 'MD']\n",
    "\n",
    "#Create a list for all P stars\n",
    "P = [P1_star, P2_star, P3_star, P4_star]\n",
    "\n",
    "\n",
    "#Let mydata be the top row for the table, we are about to create\n",
    "mydata = [['No.', 'P_1^*', 'P_2^*', 'P_3^*', 'P_4^*']]\n",
    "\n",
    "#Initialize QMC with mydata and now make a table using the P_i^*'s and the 3 discrepancies\n",
    "QMC = mydata\n",
    "Sci = mydata\n",
    "\n",
    "#For each discrepancy\n",
    "\n",
    "for i in range(3): \n",
    "    #Discrepancy^2 because we want to calculate it and show that there is a typo in Fang's paper\n",
    "    QMCPy = [Discrepancies[i] + '^2']\n",
    "    Scipy = [Discrepancies[i]]\n",
    "    for j in range(4):\n",
    "        #Now calculate discrepancy for QMCPy squared and use Scipy respectively.\n",
    "        QMCPy = QMCPy + [round(qp.discrepancy(Discrepancies[i], P[j])**2,6)]\n",
    "        Scipy = Scipy + [round(scipy.stats.qmc.discrepancy(P[j], method = Discrepancies[i]),6)]\n",
    "    #Now add another row to the lists QMC and Sci table\n",
    "    QMC = QMC + [QMCPy]\n",
    "    Sci = Sci + [Scipy]\n",
    "\n",
    "#Now show the tables for QMCPy and Scipy\n",
    "print(\"QMCPy's calculated squared discrepancy\")\n",
    "print(tabulate(QMC, tablefmt=\"grid\"))\n",
    "print(' ')\n",
    "print(\"Scipy's calculated discrepancy\")\n",
    "print(tabulate(Sci, tablefmt=\"grid\"))\n",
    "\n",
    "df = pd.DataFrame()  \n",
    "print(df) \n",
    "  \n",
    "# list of strings  \n",
    "lst = ['Geeks', 'For', 'Geeks', 'is', 'portal', 'for', 'Geeks']  \n",
    "    \n",
    "# Calling DataFrame constructor on list  \n",
    "df = pd.DataFrame(lst)  \n",
    "print(df)"
   ]
  },
  {
   "cell_type": "markdown",
   "id": "a4568246-eebe-4aeb-a6d2-b1aec502b2a1",
   "metadata": {},
   "source": [
    "Notice that the values for both are the same, as we've shown in Example 1. But there is a bit of a typo, because for discrepancy we sqaured the values and in Zhou's paper there is a typo as Zhou is actually reporting $WD^2$, $CD^2$, and $MD^2$. Another approach would be to take the square root of the values to get $WD$, $CD$, and $MD$ accordingly. \n",
    "\n",
    "To conclude Scipy, needs to take the square root for Wrap Around, Centered, and Mixture discrepancy. And Zhou's paper has a typo in Example 3."
   ]
  },
  {
   "cell_type": "code",
   "execution_count": null,
   "id": "13dd5433-6f2c-4f05-9f80-1aab5b90e49c",
   "metadata": {},
   "outputs": [],
   "source": []
  }
 ],
 "metadata": {
  "kernelspec": {
   "display_name": "Python 3 (ipykernel)",
   "language": "python",
   "name": "python3"
  },
  "language_info": {
   "codemirror_mode": {
    "name": "ipython",
    "version": 3
   },
   "file_extension": ".py",
   "mimetype": "text/x-python",
   "name": "python",
   "nbconvert_exporter": "python",
   "pygments_lexer": "ipython3",
   "version": "3.9.13"
  }
 },
 "nbformat": 4,
 "nbformat_minor": 5
}
