{
 "cells": [
  {
   "cell_type": "markdown",
   "id": "0f34126f-5fb6-4ae0-9dcf-f6efb72c045c",
   "metadata": {},
   "source": [
    "# MWE of sympy problem"
   ]
  },
  {
   "cell_type": "code",
   "execution_count": 1,
   "id": "41eddbbb-8d63-4ea7-ad5c-db555342391a",
   "metadata": {},
   "outputs": [],
   "source": [
    "import sympy as sy"
   ]
  },
  {
   "cell_type": "code",
   "execution_count": 7,
   "id": "dda1075e-714f-4bbe-8523-23ae1afc3e04",
   "metadata": {},
   "outputs": [],
   "source": [
    "def addtwo(y = sy.symbols('y', real = True), h = sy.symbols('h', positive = True)):\n",
    "    '''\n",
    "    give a function that adds two to the input expression\n",
    "    '''\n",
    "    return y + h + 2"
   ]
  },
  {
   "cell_type": "code",
   "execution_count": 8,
   "id": "e637edd8-266e-4412-a15c-515e9921ab58",
   "metadata": {},
   "outputs": [
    {
     "name": "stdout",
     "output_type": "stream",
     "text": [
      "h + y + 2\n",
      "h + y + 2\n"
     ]
    }
   ],
   "source": [
    "y = sy.symbols('y') #not the same as the default 'y', and so the result is not what is desired\n",
    "x = addtwo()\n",
    "print(x)\n",
    "print(x.subs(y,1))"
   ]
  },
  {
   "cell_type": "code",
   "execution_count": 9,
   "id": "fcf39f0b-1b9f-45b7-a09a-45a846557240",
   "metadata": {},
   "outputs": [
    {
     "name": "stdout",
     "output_type": "stream",
     "text": [
      "h + y + 2\n",
      "h + 3\n"
     ]
    }
   ],
   "source": [
    "y = sy.symbols('y', real = True) #this works fine since what is defined is the same as the default 'y'\n",
    "x = addtwo()\n",
    "print(x)\n",
    "print(y)\n",
    "print(x.subs(y,1))"
   ]
  },
  {
   "cell_type": "code",
   "execution_count": 10,
   "id": "e7636437-e878-4a68-b681-de5175a077dd",
   "metadata": {},
   "outputs": [
    {
     "name": "stdout",
     "output_type": "stream",
     "text": [
      "h + y + 2\n",
      "h + 3\n"
     ]
    }
   ],
   "source": [
    "y = sy.symbols('y')\n",
    "x = addtwo(y)[0]\n",
    "print(x)\n",
    "print(x.subs(y,1))"
   ]
  },
  {
   "cell_type": "code",
   "execution_count": 18,
   "id": "6b698bb8-4639-40ca-b29c-48aefa8698a4",
   "metadata": {},
   "outputs": [
    {
     "name": "stdout",
     "output_type": "stream",
     "text": [
      "{y, h}\n",
      "y\n",
      "h + y + 2\n",
      "h + 3\n"
     ]
    }
   ],
   "source": [
    "x = addtwo()\n",
    "# .free_symbols returns a set of symbols contained in the symbolic expression\n",
    "my_y = x.free_symbols.pop()\n",
    "print(x.free_symbols)\n",
    "print(my_y)\n",
    "print(x)\n",
    "print(x.subs(my_y,1))"
   ]
  },
  {
   "cell_type": "code",
   "execution_count": null,
   "id": "24d0ec98-e2e5-4c27-92d9-ad59d88b89d3",
   "metadata": {},
   "outputs": [],
   "source": []
  },
  {
   "cell_type": "code",
   "execution_count": null,
   "id": "b4dd114e-70da-40ff-b9ec-7c3acb4588c0",
   "metadata": {},
   "outputs": [],
   "source": []
  }
 ],
 "metadata": {
  "kernelspec": {
   "display_name": "Python 3 (ipykernel)",
   "language": "python",
   "name": "python3"
  },
  "language_info": {
   "codemirror_mode": {
    "name": "ipython",
    "version": 3
   },
   "file_extension": ".py",
   "mimetype": "text/x-python",
   "name": "python",
   "nbconvert_exporter": "python",
   "pygments_lexer": "ipython3",
   "version": "3.9.13"
  }
 },
 "nbformat": 4,
 "nbformat_minor": 5
}
