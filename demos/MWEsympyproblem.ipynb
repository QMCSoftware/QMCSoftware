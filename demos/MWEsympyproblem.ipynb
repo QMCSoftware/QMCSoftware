{
 "cells": [
  {
   "cell_type": "markdown",
   "id": "0f34126f-5fb6-4ae0-9dcf-f6efb72c045c",
   "metadata": {},
   "source": [
    "# MWE of sympy problem"
   ]
  },
  {
   "cell_type": "code",
   "execution_count": 1,
   "id": "41eddbbb-8d63-4ea7-ad5c-db555342391a",
   "metadata": {},
   "outputs": [],
   "source": [
    "import sympy as sy"
   ]
  },
  {
   "cell_type": "code",
   "execution_count": 3,
   "id": "dda1075e-714f-4bbe-8523-23ae1afc3e04",
   "metadata": {},
   "outputs": [],
   "source": [
    "#def addtwo(y = sy.symbols('y', reals = True)):\n",
    "def addtwo(y = 1, reals = True):\n",
    "    '''\n",
    "    give a function that adds two to the input expression\n",
    "    '''\n",
    "    return y + 2"
   ]
  },
  {
   "cell_type": "code",
   "execution_count": 4,
   "id": "e637edd8-266e-4412-a15c-515e9921ab58",
   "metadata": {},
   "outputs": [
    {
     "name": "stdout",
     "output_type": "stream",
     "text": [
      "<class 'int'>\n",
      "3\n"
     ]
    },
    {
     "ename": "AttributeError",
     "evalue": "'int' object has no attribute 'subs'",
     "output_type": "error",
     "traceback": [
      "\u001b[0;31m---------------------------------------------------------------------------\u001b[0m",
      "\u001b[0;31mAttributeError\u001b[0m                            Traceback (most recent call last)",
      "Cell \u001b[0;32mIn[4], line 5\u001b[0m\n\u001b[1;32m      3\u001b[0m \u001b[38;5;28mprint\u001b[39m(\u001b[38;5;28mtype\u001b[39m(x))\n\u001b[1;32m      4\u001b[0m \u001b[38;5;28mprint\u001b[39m(x)\n\u001b[0;32m----> 5\u001b[0m \u001b[38;5;28mprint\u001b[39m(\u001b[43mx\u001b[49m\u001b[38;5;241;43m.\u001b[39;49m\u001b[43msubs\u001b[49m(y,\u001b[38;5;241m1\u001b[39m))\n",
      "\u001b[0;31mAttributeError\u001b[0m: 'int' object has no attribute 'subs'"
     ]
    }
   ],
   "source": [
    "y = sy.symbols('y')\n",
    "x = addtwo()\n",
    "print(type(x))\n",
    "print(x)\n",
    "print(x.subs(y,1))"
   ]
  },
  {
   "cell_type": "code",
   "execution_count": null,
   "id": "e7636437-e878-4a68-b681-de5175a077dd",
   "metadata": {},
   "outputs": [],
   "source": [
    "y = sy.symbols('y')\n",
    "x = addtwo(y)\n",
    "print(x)\n",
    "print(x.subs(y,1))"
   ]
  }
 ],
 "metadata": {
  "kernelspec": {
   "display_name": "Python 3 (ipykernel)",
   "language": "python",
   "name": "python3"
  },
  "language_info": {
   "codemirror_mode": {
    "name": "ipython",
    "version": 3
   },
   "file_extension": ".py",
   "mimetype": "text/x-python",
   "name": "python",
   "nbconvert_exporter": "python",
   "pygments_lexer": "ipython3",
   "version": "3.9.13"
  }
 },
 "nbformat": 4,
 "nbformat_minor": 5
}
