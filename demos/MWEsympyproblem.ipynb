{
 "cells": [
  {
   "cell_type": "markdown",
   "id": "0f34126f-5fb6-4ae0-9dcf-f6efb72c045c",
   "metadata": {},
   "source": [
    "# MWE of sympy problem"
   ]
  },
  {
   "cell_type": "code",
   "execution_count": 7,
   "id": "41eddbbb-8d63-4ea7-ad5c-db555342391a",
   "metadata": {},
   "outputs": [],
   "source": [
    "import sympy as sy"
   ]
  },
  {
   "cell_type": "code",
   "execution_count": 8,
   "id": "dda1075e-714f-4bbe-8523-23ae1afc3e04",
   "metadata": {},
   "outputs": [],
   "source": [
    "def addtwo(y = sy.symbols('y', reals = True)):\n",
    "#def addtwo(y = 1, reals = True):\n",
    "    '''\n",
    "    give a function that adds two to the input expression\n",
    "    '''\n",
    "    return y + 2, y"
   ]
  },
  {
   "cell_type": "code",
   "execution_count": 9,
   "id": "e637edd8-266e-4412-a15c-515e9921ab58",
   "metadata": {},
   "outputs": [
    {
     "ename": "NameError",
     "evalue": "name 'sig' is not defined",
     "output_type": "error",
     "traceback": [
      "\u001b[0;31m---------------------------------------------------------------------------\u001b[0m",
      "\u001b[0;31mNameError\u001b[0m                                 Traceback (most recent call last)",
      "Cell \u001b[0;32mIn[9], line 2\u001b[0m\n\u001b[1;32m      1\u001b[0m y \u001b[38;5;241m=\u001b[39m sy\u001b[38;5;241m.\u001b[39msymbols(\u001b[38;5;124m'\u001b[39m\u001b[38;5;124my\u001b[39m\u001b[38;5;124m'\u001b[39m)\n\u001b[0;32m----> 2\u001b[0m (x,y) \u001b[38;5;241m=\u001b[39m \u001b[43maddtwo\u001b[49m\u001b[43m(\u001b[49m\u001b[43m)\u001b[49m\n\u001b[1;32m      3\u001b[0m \u001b[38;5;28mprint\u001b[39m(\u001b[38;5;28mtype\u001b[39m(x))\n\u001b[1;32m      4\u001b[0m \u001b[38;5;28mprint\u001b[39m(x)\n",
      "Cell \u001b[0;32mIn[8], line 6\u001b[0m, in \u001b[0;36maddtwo\u001b[0;34m(y)\u001b[0m\n\u001b[1;32m      1\u001b[0m \u001b[38;5;28;01mdef\u001b[39;00m \u001b[38;5;21maddtwo\u001b[39m(y \u001b[38;5;241m=\u001b[39m sy\u001b[38;5;241m.\u001b[39msymbols(\u001b[38;5;124m'\u001b[39m\u001b[38;5;124my\u001b[39m\u001b[38;5;124m'\u001b[39m, reals \u001b[38;5;241m=\u001b[39m \u001b[38;5;28;01mTrue\u001b[39;00m)):\n\u001b[1;32m      2\u001b[0m \u001b[38;5;66;03m#def addtwo(y = 1, reals = True):\u001b[39;00m\n\u001b[1;32m      3\u001b[0m \u001b[38;5;250m    \u001b[39m\u001b[38;5;124;03m'''\u001b[39;00m\n\u001b[1;32m      4\u001b[0m \u001b[38;5;124;03m    give a function that adds two to the input expression\u001b[39;00m\n\u001b[1;32m      5\u001b[0m \u001b[38;5;124;03m    '''\u001b[39;00m\n\u001b[0;32m----> 6\u001b[0m     \u001b[38;5;28mprint\u001b[39m(\u001b[38;5;28mlen\u001b[39m(\u001b[43msig\u001b[49m\u001b[38;5;241m.\u001b[39mparameters))\n\u001b[1;32m      7\u001b[0m     \u001b[38;5;28;01mreturn\u001b[39;00m y \u001b[38;5;241m+\u001b[39m \u001b[38;5;241m2\u001b[39m, y\n",
      "\u001b[0;31mNameError\u001b[0m: name 'sig' is not defined"
     ]
    }
   ],
   "source": [
    "y = sy.symbols('y')\n",
    "x,y = addtwo()\n",
    "print(type(x))\n",
    "print(x)\n",
    "print(x.subs(y,1))"
   ]
  },
  {
   "cell_type": "code",
   "execution_count": 4,
   "id": "e7636437-e878-4a68-b681-de5175a077dd",
   "metadata": {},
   "outputs": [
    {
     "name": "stdout",
     "output_type": "stream",
     "text": [
      "y + 2\n",
      "3\n"
     ]
    }
   ],
   "source": [
    "y = sy.symbols('y')\n",
    "x = addtwo(y)[0]\n",
    "print(x)\n",
    "print(x.subs(y,1))"
   ]
  },
  {
   "cell_type": "code",
   "execution_count": null,
   "id": "0260b9a9-cc14-4335-b71a-a22f1e8043d9",
   "metadata": {},
   "outputs": [],
   "source": []
  }
 ],
 "metadata": {
  "kernelspec": {
   "display_name": "Python 3 (ipykernel)",
   "language": "python",
   "name": "python3"
  },
  "language_info": {
   "codemirror_mode": {
    "name": "ipython",
    "version": 3
   },
   "file_extension": ".py",
   "mimetype": "text/x-python",
   "name": "python",
   "nbconvert_exporter": "python",
   "pygments_lexer": "ipython3",
   "version": "3.9.13"
  }
 },
 "nbformat": 4,
 "nbformat_minor": 5
}
