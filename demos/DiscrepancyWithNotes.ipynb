{
 "cells": [
  {
   "cell_type": "code",
   "execution_count": 1,
   "id": "152d078c-41ee-48a6-8b06-06d615210418",
   "metadata": {},
   "outputs": [
    {
     "name": "stdout",
     "output_type": "stream",
     "text": [
      "ok\n"
     ]
    }
   ],
   "source": [
    "import qmcpy as qp\n",
    "import numpy as np\n",
    "import scipy.stats\n",
    "import math\n",
    "#import pandas as pd\n",
    "import time\n",
    "#from matplotlib import pyplot\n",
    "#pyplot.style.use('../qmcpy/qmcpy.mplstyle')\n",
    "#colors = pyplot.rcParams['axes.prop_cycle'].by_key()['color']\n",
    "print('ok')"
   ]
  },
  {
   "cell_type": "markdown",
   "id": "9df13683-be5f-4558-9dc3-0450656cdbb6",
   "metadata": {},
   "source": [
    "We generated our points in $d$ dimensions and generated $n$ samples such that $\\boldsymbol{x}_i \\in [0,1]^d$ for $i = 1, 2, 3, ..., n$. Let matrix $\\boldsymbol{X}$ be a $n \\times d$ matrix such that\n",
    "$$\n",
    "\\boldsymbol{X} = \n",
    "\\begin{bmatrix}\n",
    "\\boldsymbol{x}_1\\\\\n",
    "\\boldsymbol{x}_2\\\\\n",
    "\\boldsymbol{x}_3\\\\\n",
    "...\\\\\n",
    "\\boldsymbol{x}_n\\\\\n",
    "\\end{bmatrix}\n",
    "$$\n",
    "which can be rewritten as\n",
    "$$\n",
    "\\boldsymbol{X} = \n",
    "\\begin{bmatrix}\n",
    "\\boldsymbol{x}_{1_1} & \\boldsymbol{x}_{1_2} & \\boldsymbol{x}_{1_3} & ... & \\boldsymbol{x}_{1_d}\\\\\n",
    "\\boldsymbol{x}_{2_1} & \\boldsymbol{x}_{2_2} & \\boldsymbol{x}_{2_3} & ... & \\boldsymbol{x}_{2_d}\\\\\n",
    "\\boldsymbol{x}_{3_1} & \\boldsymbol{x}_{3_2} & \\boldsymbol{x}_{3_3} & ... & \\boldsymbol{x}_{3_d}\\\\\n",
    "... & ... & ... & ... & ...\\\\\n",
    "\\boldsymbol{x}_{n_1} & \\boldsymbol{x}_{n_2} & \\boldsymbol{x}_{n_3} & ... & \\boldsymbol{x}_{n_d}\\\\\n",
    "\\end{bmatrix}\n",
    "$$"
   ]
  },
  {
   "cell_type": "markdown",
   "id": "c04db98e-8b84-435e-afe1-b910131e04fc",
   "metadata": {},
   "source": [
    "We want to find our discrepancy in star discrepancy we must calculate\n",
    "$$\n",
    "[D(\\boldsymbol{X}) ]^2= \\underbrace{\\int_{[0,1]^d} \\int_{[0,1]^d} K(x,y)~dx~dy}_{A} - \\frac{2}{n} \\sum_{i=1}^n \\underbrace{\\int_{[0,1]^d} K(x, \\boldsymbol{x}_i) ~dx}_{B(\\boldsymbol{x}_i)} + \\frac{1}{n^2} \\sum_{i,j = 1}^n K(\\boldsymbol{x}_i, \\boldsymbol{x}_j)\n",
    "$$\n",
    "Note, the kernel for star discrepancy is $K(\\boldsymbol{x}_i,\\boldsymbol{x}_j) = \\prod_{k=1}^d [2 - \\max(\\boldsymbol{x}_{i_k}, \\boldsymbol{x}_{j_k})]$. Also, $\\int_{[0,1]^d} \\int_{[0,1]^d} K(x,y)~dx~dy = (\\frac{4}{3})^d$ and $\\frac{2}{n} \\sum_{i=1}^n \\int_{[0,1]^d} K(x, \\boldsymbol{x}_i) ~dx = \\prod_{k=1}^d (\\frac{3 - \\boldsymbol{x}_{i_k}^2}{2})$. For the sake of program let,\n",
    "$$\n",
    "A = \\int_{[0,1]^d} \\int_{[0,1]^d} K(x,y)~dx~dy = (\\frac{4}{3})^d\n",
    "$$\n",
    "$$\n",
    "B = \\frac{2}{n} \\sum_{i=1}^n \\int_{[0,1]^d} K(x, \\boldsymbol{x}_i) ~dx = \\prod_{k=1}^d (\\frac{3 - \\boldsymbol{x}_{i_k}^2}{2})\n",
    "$$\n",
    "$$\n",
    "C = \\frac{1}{n^2} \\sum_{i,j = 1}^n \\prod_{k=1}^d [2 - \\max(\\boldsymbol{x}_{i_k}, \\boldsymbol{x}_{j_k})]\n",
    "$$\n",
    "So, $D(\\boldsymbol{X}) = \\sqrt{A - B + C}$. We calculate"
   ]
  },
  {
   "cell_type": "code",
   "execution_count": 2,
   "id": "90695ac7-744e-4563-a825-d616971074ed",
   "metadata": {},
   "outputs": [],
   "source": [
    "def star_disc(x):\n",
    "    n, d = x.shape\n",
    "\n",
    "    A = (4/3)**d\n",
    "\n",
    "    b_1 = (3-x**2)/2\n",
    "    b_2 = b_1.prod(axis=1)\n",
    "    B = 2*np.mean(b_2)\n",
    "\n",
    "    c_1 = np.zeros((n,n,d)) + x\n",
    "    y = np.resize(x, (n, 1, d))\n",
    "    c_2 = 2 - np.maximum(c_1, y)\n",
    "    c_3 = c_2.prod(axis=2)\n",
    "    c_4 = np.mean(c_3)\n",
    "    C = np.mean(c_4)\n",
    "\n",
    "    disc = (A - B + C)**.5\n",
    "    return disc"
   ]
  },
  {
   "cell_type": "markdown",
   "id": "8581ae0c-10b5-4f27-b331-35f0a87ce55a",
   "metadata": {},
   "source": [
    "We want to find our discrepancy in L2star discrepancy. The equation to find the discrepancy is the same except we choose a different equation for the kernel. Which our kernel is $K(x,y) = \\prod_{k=1}^d (1 - \\max(x_k,y_k))$. And so to get our discrepancy we must calculate\n",
    "$$\n",
    "[D(\\boldsymbol{X}) ]^2= \\int_{[0,1]^d} \\int_{[0,1]^d} K(x,y)~dx~dy - \\frac{2}{n} \\sum_{i=1}^n \\int_{[0,1]^d} K(x, \\boldsymbol{x}_i) ~dx + \\frac{1}{n^2} \\sum_{i,j = 1}^n K(\\boldsymbol{x}_i, \\boldsymbol{x}_j)\n",
    "$$\n",
    "$$\n",
    "[D(\\boldsymbol{X}) ]^2= (1/3)^d - \\frac{2}{n} \\sum_{i=1}^n \\prod_{k=1}^d (\\frac{1 - \\boldsymbol{x}_{i_k}^2}{2}) + \\frac{1}{n^2} \\sum_{i,j = 1}^n \\prod_{k=1}^d (1 - \\max(\\boldsymbol{x}_{i_k}, \\boldsymbol{x}_{j_k}))\n",
    "$$\n",
    "$$\n",
    "D(\\boldsymbol{X}) = \\sqrt{(1/3)^d - \\frac{2}{n} \\sum_{i=1}^n \\prod_{k=1}^d (\\frac{1 - \\boldsymbol{x}_{i_k}^2}{2}) + \\frac{1}{n^2} \\sum_{i,j = 1}^n \\prod_{k=1}^d (1 - \\max(\\boldsymbol{x}_{i_k}, \\boldsymbol{x}_{j_k}))}\n",
    "$$\n",
    "So now let A, B, and C be calculated as\n",
    "\n",
    "$$\n",
    "A = \\int_{[0,1]^d} \\int_{[0,1]^d} K(x,y)~dx~dy = (\\frac{1}{3})^d\n",
    "$$\n",
    "$$\n",
    "B = \\frac{2}{n} \\sum_{i=1}^n \\int_{[0,1]^d} K(x, \\boldsymbol{x}_i) ~dx = \\prod_{k=1}^d (\\frac{1 - \\boldsymbol{x}_{i_k}^2}{2})\n",
    "$$\n",
    "$$\n",
    "C = \\frac{1}{n^2} \\sum_{i,j = 1}^n \\prod_{k=1}^d (1 - \\max(x_k,y_k))\n",
    "$$\n",
    "So, $D(\\boldsymbol{X}) = \\sqrt{A - B + C}$. We calculate"
   ]
  },
  {
   "cell_type": "code",
   "execution_count": 3,
   "id": "71a8ca4b-4c9e-4283-affd-47bc81a84084",
   "metadata": {},
   "outputs": [],
   "source": [
    "def L2star_disc(x):\n",
    "    n, d = x.shape\n",
    "\n",
    "    A = (1/3)**d\n",
    "\n",
    "    b_1 = (1 - x**2)/2\n",
    "    b_2 = b_1.prod(axis=1)\n",
    "    B = 2*np.mean(b_2)\n",
    "    print(B)\n",
    "    c_1 = np.zeros((n,n,d)) + x\n",
    "    y = np.resize(x, (n, 1, d))\n",
    "    c_2 = 1 - np.maximum(c_1, y)\n",
    "    c_3 = c_2.prod(axis=2)\n",
    "    c_4 = np.mean(c_3)\n",
    "    C = np.mean(c_4)\n",
    "\n",
    "    disc = (A - B + C)**.5\n",
    "    return disc"
   ]
  },
  {
   "cell_type": "markdown",
   "id": "fef57896-151a-49ed-89ec-45170ad43623",
   "metadata": {},
   "source": [
    "We want to find our discrepancy in centered discrepancy. We will choose our kernel to be $K(x,y) = \\prod_{k=1}^d (1 + .5|\\boldsymbol{x}_k - .5| + .5|\\boldsymbol{y}_k - .5| - .5 |\\boldsymbol{x}_k - \\boldsymbol{y}_k|)$. And so to get our discrepancy we must calculate\n",
    "$$\n",
    "[D(\\boldsymbol{X}) ]^2= \\int_{[0,1]^d} \\int_{[0,1]^d} K(x,y)~dx~dy - \\frac{2}{n} \\sum_{i=1}^n \\int_{[0,1]^d} K(x, \\boldsymbol{x}_i) ~dx + \\frac{1}{n^2} \\sum_{i,j = 1}^n K(\\boldsymbol{x}_i, \\boldsymbol{x}_j)\n",
    "$$\n",
    "$$\n",
    "[D(\\boldsymbol{X}) ]^2= (13/12)^d - \\frac{2}{n} \\sum_{i=1}^n \\prod_{k=1}^d (1 + .5|\\boldsymbol{x}_{i_k} - .5| - .5 (\\boldsymbol{x}_{i_k} -.5)^2) + \\frac{1}{n^2} \\sum_{i,j = 1}^n \\prod_{k=1}^d (1 + .5|\\boldsymbol{x}_{i_k} - .5| + .5|\\boldsymbol{x}_{j_k} - .5| - .5 |\\boldsymbol{x}_{i_k} - \\boldsymbol{x}_{j_k}|)\n",
    "$$\n",
    "$$\n",
    "D(\\boldsymbol{X}) = \\sqrt{(13/12)^d - \\frac{2}{n} \\sum_{i=1}^n \\prod_{k=1}^d (1 + .5|\\boldsymbol{x}_{i_k} - .5| - .5 (\\boldsymbol{x}_{i_k} -.5)^2) + \\frac{1}{n^2} \\sum_{i,j = 1}^n \\prod_{k=1}^d (1 + .5|\\boldsymbol{x}_{i_k} - .5| + .5|\\boldsymbol{x}_{j_k} - .5| - .5 |\\boldsymbol{x}_{i_k} - \\boldsymbol{x}_{j_k}|)}\n",
    "$$\n",
    "Let A, B, and C be calculated as\n",
    "\n",
    "$$\n",
    "A = \\int_{[0,1]^d} \\int_{[0,1]^d} K(x,y)~dx~dy = (\\frac{13}{12})^d\n",
    "$$\n",
    "$$\n",
    "B = \\frac{2}{n} \\sum_{i=1}^n \\int_{[0,1]^d} K(x, \\boldsymbol{x}_i) ~dx = \\frac{2}{n} \\sum_{i=1}^n \\prod_{k=1}^d (1 + .5|\\boldsymbol{x}_{i_k} - .5| - .5 (\\boldsymbol{x}_{i_k} -.5)^2)\n",
    "$$\n",
    "$$\n",
    "C = \\frac{1}{n^2} \\sum_{i,j = 1}^n \\prod_{k=1}^d (1 + .5|\\boldsymbol{x}_{i_k} - .5| + .5|\\boldsymbol{x}_{j_k} - .5| - .5 |\\boldsymbol{x}_{i_k} - \\boldsymbol{x}_{j_k}|)\n",
    "$$\n",
    "Of course $D(\\boldsymbol{X}) = \\sqrt{A - B + C}$. So now we calculate,"
   ]
  },
  {
   "cell_type": "code",
   "execution_count": 4,
   "id": "5c1209fc-130d-4da1-929f-5e6f56015175",
   "metadata": {},
   "outputs": [],
   "source": [
    "def center_disc(x):\n",
    "    n, d = x.shape\n",
    "\n",
    "    A = (13/12)**d\n",
    "\n",
    "    b_1 = 1 + (.5*abs(x - .5)) - (.5*((x -.5)**2))\n",
    "    b_2 = b_1.prod(axis=1)\n",
    "    B = 2*np.mean(b_2)\n",
    "\n",
    "    c_1 = np.zeros((n,n,d)) + x\n",
    "    y = np.resize(x, (n, 1, d))\n",
    "    c_2 = 1 + (.5*abs(c_1 - .5)) + (.5*abs(y - .5)) - (.5*abs(c_1 - y))\n",
    "    c_3 = c_2.prod(axis=2)\n",
    "    c_4 = np.mean(c_3)\n",
    "    C = np.mean(c_4)\n",
    "    print(C)\n",
    "\n",
    "    disc = (A - B + C)**.5\n",
    "    return disc"
   ]
  },
  {
   "cell_type": "markdown",
   "id": "80e6ac2b-be87-4b51-a037-d9553cb98d47",
   "metadata": {},
   "source": [
    "We want to find our discrepancy in symmetric discrepancy. We will choose our kernel to be $K(x,y) = \\prod_{k=1}^d (2 - 2|\\boldsymbol{x}_k - \\boldsymbol{y}_k|)$. And so to get our discrepancy we must calculate\n",
    "$$\n",
    "[D(\\boldsymbol{X}) ]^2= \\int_{[0,1]^d} \\int_{[0,1]^d} K(x,y)~dx~dy - \\frac{2}{n} \\sum_{i=1}^n \\int_{[0,1]^d} K(x, \\boldsymbol{x}_i) ~dx + \\frac{1}{n^2} \\sum_{i,j = 1}^n K(\\boldsymbol{x}_i, \\boldsymbol{x}_j)\n",
    "$$\n",
    "$$\n",
    "[D(\\boldsymbol{X}) ]^2= (4/3)^d - \\frac{2}{n} \\sum_{i=1}^n \\prod_{k=1}^d (1 + 2\\boldsymbol{x}_{i_k} - 2 \\boldsymbol{x}_{i_k}^2) + \\frac{1}{n^2} \\sum_{i,j = 1}^n \\prod_{k=1}^d (2 - 2|\\boldsymbol{x}_{i_k} - \\boldsymbol{x}_{j_k}|)\n",
    "$$\n",
    "$$\n",
    "D(\\boldsymbol{X}) = \\sqrt{(4/3)^d - \\frac{2}{n} \\sum_{i=1}^n \\prod_{k=1}^d (1 + 2\\boldsymbol{x}_{i_k} - 2 \\boldsymbol{x}_{i_k}^2) + \\frac{1}{n^2} \\sum_{i,j = 1}^n \\prod_{k=1}^d (2 - 2|\\boldsymbol{x}_{i_k} - \\boldsymbol{x}_{j_k}|)}\n",
    "$$\n",
    "Let A, B, and C be calculated as\n",
    "\n",
    "$$\n",
    "A = \\int_{[0,1]^d} \\int_{[0,1]^d} K(x,y)~dx~dy = (\\frac{4}{3})^d\n",
    "$$\n",
    "$$\n",
    "B = \\frac{2}{n} \\sum_{i=1}^n \\int_{[0,1]^d} K(x, \\boldsymbol{x}_i) ~dx = \\frac{2}{n} \\sum_{i=1}^n \\prod_{k=1}^d (1 + 2\\boldsymbol{x}_{i_k} - 2 \\boldsymbol{x}_{i_k}^2)\n",
    "$$\n",
    "$$\n",
    "C = \\frac{1}{n^2} \\sum_{i,j = 1}^n \\prod_{k=1}^d (2 - 2|\\boldsymbol{x}_{i_k} - \\boldsymbol{x}_{j_k}|)\n",
    "$$\n",
    "Of course $D(\\boldsymbol{X}) = \\sqrt{A - B + C}$. So now we calculate,"
   ]
  },
  {
   "cell_type": "code",
   "execution_count": 5,
   "id": "3323eba8-4cb2-4e75-9fb3-6a0ef132d2b1",
   "metadata": {},
   "outputs": [],
   "source": [
    "def symmetric_disc(x):\n",
    "    n, d = x.shape\n",
    "\n",
    "    A = (4/3)**d\n",
    "\n",
    "    b_1 = 1 + 2*x - (2*(x**2))\n",
    "    b_2 = b_1.prod(axis=1)\n",
    "    B = 2*np.mean(b_2)\n",
    "\n",
    "    c_1 = np.zeros((n,n,d)) + x\n",
    "    y = np.resize(x, (n, 1, d))\n",
    "    c_2 = 2 - (2*abs(c_1 - y))\n",
    "    c_3 = c_2.prod(axis=2)\n",
    "    c_4 = np.mean(c_3)\n",
    "    C = np.mean(c_4)\n",
    "\n",
    "    disc = (A - B + C)**.5\n",
    "    return disc"
   ]
  },
  {
   "cell_type": "markdown",
   "id": "659ac204-ae4c-42e4-88e7-bbed86700ac0",
   "metadata": {},
   "source": [
    "Now we want to do our wrap around discrepancy. Of course, to calculate it we have\n",
    "$$\n",
    "D(\\boldsymbol{X}) = \\sqrt{ -(4/3)^d + \\frac{1}{n^2} \\sum_{i,j = 1}^n \\prod_{k=1}^d (\\frac{3}{2} - |\\boldsymbol{x}_{i_k} - \\boldsymbol{x}_{j_k}|(1 - |\\boldsymbol{x}_{i_k} - \\boldsymbol{x}_{j_k}|))}\n",
    "$$\n",
    "Since there are only 2 parts, let\n",
    "$$\n",
    "A = -(\\frac{4}{3})^d\n",
    "$$\n",
    "$$\n",
    "B = \\frac{1}{n^2} \\sum_{i,j = 1}^n \\prod_{k=1}^d (\\frac{3}{2} - |\\boldsymbol{x}_{i_k} - \\boldsymbol{x}_{j_k}|(1 - |\\boldsymbol{x}_{i_k} - \\boldsymbol{x}_{j_k}|))\n",
    "$$\n",
    "So the equation becomes $D(\\boldsymbol{X}) = \\sqrt{A+B}$. We calculate"
   ]
  },
  {
   "cell_type": "code",
   "execution_count": 6,
   "id": "90778240-37f9-4b8c-a692-ecaf73dac730",
   "metadata": {},
   "outputs": [],
   "source": [
    "def wrap_around_disc(x):\n",
    "    n, d = x.shape\n",
    "\n",
    "    A = -(4/3)**d\n",
    "    \n",
    "    b_1 = np.zeros((n,n,d)) + x\n",
    "    y = np.resize(x, (n, 1, d))\n",
    "    b_2 = 1.5 - (abs(b_1 - y)*(1 - abs(b_1 - y)))\n",
    "    b_3 = b_2.prod(axis=2)\n",
    "    b_4 = np.mean(b_3)\n",
    "    B = np.mean(b_4)\n",
    "\n",
    "    disc = (A + B)**.5\n",
    "    return disc"
   ]
  },
  {
   "cell_type": "markdown",
   "id": "cd87bd89-d4dd-4976-bfba-4df7054aed1d",
   "metadata": {},
   "source": [
    "This and next cell are play cells. So the L2-star discrepancy works just as accurately as the scipy discrepancy; however, confused on the centered discrepancy because in my code I square root to get $D(\\boldsymbol{X})$. However in scipy that doesn't seem to be the case. To prove it. I printed out the following outputs. So for the centered discrepancy, this would mean that either I was not suppose to square root or scipy forgot to square root."
   ]
  },
  {
   "cell_type": "code",
   "execution_count": 7,
   "id": "0f0d0bd8-d42f-4a07-a45f-9b79e0f70578",
   "metadata": {
    "scrolled": true
   },
   "outputs": [
    {
     "name": "stdout",
     "output_type": "stream",
     "text": [
      "L2-star\n",
      "0.06978446468392499\n",
      "0.013688258677075517\n",
      "0.013688258677078052\n",
      "centered\n",
      "1.275170907918265\n",
      "0.030614156605518576\n",
      "0.0009372265845271066\n",
      "0.030614156603230254\n",
      "wrap around\n",
      "0.031135718966590613\n",
      "0.0009694329955762804\n",
      "0.031135718966747505\n"
     ]
    }
   ],
   "source": [
    "A = qp.IIDStdUniform(dimension=3)\n",
    "X = A.gen_samples(n=1024)\n",
    "print(\"L2-star\")\n",
    "print(L2star_disc(X))\n",
    "print(scipy.stats.qmc.discrepancy(X, method='L2-star'))\n",
    "print(\"centered\")\n",
    "print(center_disc(X))\n",
    "print(scipy.stats.qmc.discrepancy(X, method='CD'))\n",
    "print(scipy.stats.qmc.discrepancy(X, method='CD')**.5)\n",
    "print(\"wrap around\")\n",
    "print(wrap_around_disc(X))\n",
    "print(scipy.stats.qmc.discrepancy(X, method='WD'))\n",
    "print(scipy.stats.qmc.discrepancy(X, method='WD')**.5)"
   ]
  },
  {
   "cell_type": "code",
   "execution_count": 8,
   "id": "bf8f637d-615d-49d3-8da6-60208385ecb5",
   "metadata": {},
   "outputs": [
    {
     "ename": "NameError",
     "evalue": "name 'weight' is not defined",
     "output_type": "error",
     "traceback": [
      "\u001b[1;31m---------------------------------------------------------------------------\u001b[0m",
      "\u001b[1;31mNameError\u001b[0m                                 Traceback (most recent call last)",
      "Cell \u001b[1;32mIn[8], line 24\u001b[0m\n\u001b[0;32m     21\u001b[0m     iterated_X_expanded \u001b[38;5;241m=\u001b[39m iterated_X_expanded[\u001b[38;5;241m0\u001b[39m:\u001b[38;5;28mlen\u001b[39m(iterated_X_expanded)\u001b[38;5;241m-\u001b[39m\u001b[38;5;241m1\u001b[39m]\n\u001b[0;32m     22\u001b[0m     iterated_Y \u001b[38;5;241m=\u001b[39m iterated_Y[\u001b[38;5;241m0\u001b[39m:\u001b[38;5;28mlen\u001b[39m(iterated_Y)\u001b[38;5;241m-\u001b[39m\u001b[38;5;241m1\u001b[39m]\n\u001b[1;32m---> 24\u001b[0m DI \u001b[38;5;241m=\u001b[39m (\u001b[38;5;241m1\u001b[39m \u001b[38;5;241m+\u001b[39m (\u001b[43mweight\u001b[49m\u001b[38;5;241m/\u001b[39m\u001b[38;5;241m3\u001b[39m))\u001b[38;5;241m.\u001b[39mprod(axis\u001b[38;5;241m=\u001b[39m\u001b[38;5;241m0\u001b[39m)\n\u001b[0;32m     26\u001b[0m B \u001b[38;5;241m=\u001b[39m \u001b[38;5;241m0\u001b[39m\n\u001b[0;32m     27\u001b[0m \u001b[38;5;28;01mfor\u001b[39;00m j \u001b[38;5;129;01min\u001b[39;00m \u001b[38;5;28mrange\u001b[39m(\u001b[38;5;28mlen\u001b[39m(iterated_X)):\n",
      "\u001b[1;31mNameError\u001b[0m: name 'weight' is not defined"
     ]
    }
   ],
   "source": [
    "A = qp.IIDStdUniform(dimension=3)\n",
    "X = A.gen_samples(n=1024)\n",
    "star_disc(X)\n",
    "limiter = 1024\n",
    "n, d = X.shape  #initialize the list as empty\n",
    "\n",
    "X_expanded = np.resize(X, (1, n, d))\n",
    "Y = np.resize(X, (n, 1, d))\n",
    "iterated_X = []\n",
    "iterated_X_expanded = []\n",
    "iterated_Y = []\n",
    "\n",
    "for i_1 in range(int(n/limiter)+1):               #These 4 lines are used to make these lists into chunks\n",
    "    iterated_X = iterated_X + [X[i_1*limiter: (i_1+1)*limiter, :]]\n",
    "    iterated_X_expanded = iterated_X_expanded + [X_expanded[:, i_1*limiter: (i_1+1)*limiter, :]]\n",
    "    iterated_Y = iterated_Y + [Y[i_1*limiter: (i_1+1)*limiter, :, :]]\n",
    "\n",
    "\n",
    "if n%limiter == 0:\n",
    "    iterated_X = iterated_X[0: len(iterated_X) - 1]\n",
    "    iterated_X_expanded = iterated_X_expanded[0:len(iterated_X_expanded)-1]\n",
    "    iterated_Y = iterated_Y[0:len(iterated_Y)-1]\n",
    "\n",
    "DI = (1 + (weight/3)).prod(axis=0)\n",
    "\n",
    "B = 0\n",
    "for j in range(len(iterated_X)):\n",
    "    x = iterated_X[j]\n",
    "    single_integral = ((1 + (weight*(1 - x**2)/2))).prod(axis=1)\n",
    "    B = B + np.sum(single_integral)\n",
    "\n",
    "SI = B*2/n\n",
    "\n",
    "C = 0\n",
    "for j in range(len(iterated_X_expanded)):\n",
    "    for i in range(len(iterated_Y)):\n",
    "        x = iterated_X_expanded[j]\n",
    "        y = iterated_Y[i]\n",
    "        kernel = (1 + weight*(1 - np.maximum(X_expanded, Y))).prod(axis=2)\n",
    "        C = C + np.sum(np.sum(kernel))\n",
    "\n",
    "K = C/(n**2)"
   ]
  },
  {
   "cell_type": "code",
   "execution_count": null,
   "id": "516220fd-9fff-4ecc-9568-f41775075c47",
   "metadata": {},
   "outputs": [],
   "source": [
    "A = qp.IIDStdUniform(dimension=3)\n",
    "X = A.gen_samples(n=1024)\n",
    "print(qp.discrepancy2('l2star', X, limiter = 2**14, Time = False))\n",
    "print(qp.discrepancy('l2star', X))\n",
    "start = time.time()\n",
    "print(star_disc(X))\n",
    "end = time.time()\n",
    "print(end - start)\n",
    "\n",
    "def A(d, weight):\n",
    "    return (1 + (weight/3)).prod(axis=0)\n",
    "def B(x, weight):\n",
    "    return ((1 + (weight*(1 - x**2)/2))).prod(axis=1)\n",
    "def C(x, y, weight):\n",
    "    return (1 + weight*(1 - np.maximum(x, y))).prod(axis=2)\n",
    "print(qp.discrepancy2((A, B, C), X, limiter = 2**14, Time = True))"
   ]
  },
  {
   "cell_type": "code",
   "execution_count": 9,
   "id": "7c6a6dbb-e18d-4e18-bcc2-0502733637c1",
   "metadata": {},
   "outputs": [
    {
     "name": "stdout",
     "output_type": "stream",
     "text": [
      "10\n",
      "11\n"
     ]
    },
    {
     "ename": "KeyboardInterrupt",
     "evalue": "",
     "output_type": "error",
     "traceback": [
      "\u001b[1;31m---------------------------------------------------------------------------\u001b[0m",
      "\u001b[1;31mKeyboardInterrupt\u001b[0m                         Traceback (most recent call last)",
      "Cell \u001b[1;32mIn[9], line 17\u001b[0m\n\u001b[0;32m     15\u001b[0m samples \u001b[38;5;241m=\u001b[39m []\n\u001b[0;32m     16\u001b[0m \u001b[38;5;28;01mfor\u001b[39;00m k \u001b[38;5;129;01min\u001b[39;00m \u001b[38;5;28mrange\u001b[39m(\u001b[38;5;241m20\u001b[39m):\n\u001b[1;32m---> 17\u001b[0m     sol, t \u001b[38;5;241m=\u001b[39m \u001b[43mqp\u001b[49m\u001b[38;5;241;43m.\u001b[39;49m\u001b[43mdiscrepancy2\u001b[49m\u001b[43m(\u001b[49m\u001b[38;5;124;43m'\u001b[39;49m\u001b[38;5;124;43ml2star\u001b[39;49m\u001b[38;5;124;43m'\u001b[39;49m\u001b[43m,\u001b[49m\u001b[43m \u001b[49m\u001b[43mX\u001b[49m\u001b[43m,\u001b[49m\u001b[43m \u001b[49m\u001b[43mlimiter\u001b[49m\u001b[43m \u001b[49m\u001b[38;5;241;43m=\u001b[39;49m\u001b[43m \u001b[49m\u001b[38;5;241;43m2\u001b[39;49m\u001b[38;5;241;43m*\u001b[39;49m\u001b[38;5;241;43m*\u001b[39;49m\u001b[43mj\u001b[49m\u001b[43m,\u001b[49m\u001b[43m \u001b[49m\u001b[43mTime\u001b[49m\u001b[43m \u001b[49m\u001b[38;5;241;43m=\u001b[39;49m\u001b[43m \u001b[49m\u001b[38;5;28;43;01mTrue\u001b[39;49;00m\u001b[43m)\u001b[49m\n\u001b[0;32m     18\u001b[0m     samples \u001b[38;5;241m=\u001b[39m samples \u001b[38;5;241m+\u001b[39m [t]\n\u001b[0;32m     19\u001b[0m min_x \u001b[38;5;241m=\u001b[39m min_x \u001b[38;5;241m+\u001b[39m [j]\n",
      "File \u001b[1;32mc:\\users\\cdhjr\\onedrive\\desktop\\qmcsoftware\\qmcpy\\kernels\\discrepancy.py:228\u001b[0m, in \u001b[0;36mdiscrepancy2\u001b[1;34m(method, x, weight, limiter, Time)\u001b[0m\n\u001b[0;32m    226\u001b[0m \u001b[38;5;28;01mfor\u001b[39;00m j \u001b[38;5;129;01min\u001b[39;00m \u001b[38;5;28mrange\u001b[39m(\u001b[38;5;28mlen\u001b[39m(iterated_X_expanded)):                                                       \u001b[38;5;66;03m#[For each iteration of\u001b[39;00m\n\u001b[0;32m    227\u001b[0m     \u001b[38;5;28;01mfor\u001b[39;00m i \u001b[38;5;129;01min\u001b[39;00m \u001b[38;5;28mrange\u001b[39m(\u001b[38;5;28mlen\u001b[39m(iterated_Y)):                                                            \u001b[38;5;66;03m#[iterated_X_expanded & iterated_Y\u001b[39;00m\n\u001b[1;32m--> 228\u001b[0m         C \u001b[38;5;241m=\u001b[39m C \u001b[38;5;241m+\u001b[39m np\u001b[38;5;241m.\u001b[39msum(np\u001b[38;5;241m.\u001b[39msum(\u001b[43mkernel\u001b[49m\u001b[43m(\u001b[49m\u001b[43mmethod3\u001b[49m\u001b[43m,\u001b[49m\u001b[43m \u001b[49m\u001b[43mweight\u001b[49m\u001b[43m,\u001b[49m\u001b[43m \u001b[49m\u001b[43miterated_X_expanded\u001b[49m\u001b[43m[\u001b[49m\u001b[43mj\u001b[49m\u001b[43m]\u001b[49m\u001b[43m,\u001b[49m\u001b[43m \u001b[49m\u001b[43miterated_Y\u001b[49m\u001b[43m[\u001b[49m\u001b[43mi\u001b[49m\u001b[43m]\u001b[49m\u001b[43m)\u001b[49m))  \u001b[38;5;66;03m#[Adds up all the values for kernel\u001b[39;00m\n\u001b[0;32m    230\u001b[0m K \u001b[38;5;241m=\u001b[39m C\u001b[38;5;241m/\u001b[39m(n\u001b[38;5;241m*\u001b[39m\u001b[38;5;241m*\u001b[39m\u001b[38;5;241m2\u001b[39m) \u001b[38;5;66;03m#Finds the average for the kernels\u001b[39;00m\n\u001b[0;32m    232\u001b[0m \u001b[38;5;28;01mif\u001b[39;00m Time \u001b[38;5;241m==\u001b[39m \u001b[38;5;28;01mTrue\u001b[39;00m:\n\u001b[0;32m    233\u001b[0m     \u001b[38;5;66;03m#If Time is true\u001b[39;00m\n",
      "File \u001b[1;32mc:\\users\\cdhjr\\onedrive\\desktop\\qmcsoftware\\qmcpy\\kernels\\discrepancy.py:91\u001b[0m, in \u001b[0;36mkernel\u001b[1;34m(method, weight, x, y)\u001b[0m\n\u001b[0;32m     88\u001b[0m \u001b[38;5;28;01melse\u001b[39;00m:\n\u001b[0;32m     89\u001b[0m     \u001b[38;5;28;01mif\u001b[39;00m method\u001b[38;5;241m.\u001b[39mlower() \u001b[38;5;241m==\u001b[39m \u001b[38;5;124m\"\u001b[39m\u001b[38;5;124ml2\u001b[39m\u001b[38;5;124m\"\u001b[39m \u001b[38;5;129;01mor\u001b[39;00m method\u001b[38;5;241m.\u001b[39mlower() \u001b[38;5;241m==\u001b[39m \u001b[38;5;124m\"\u001b[39m\u001b[38;5;124ml2star\u001b[39m\u001b[38;5;124m\"\u001b[39m:\n\u001b[0;32m     90\u001b[0m         \u001b[38;5;66;03m# ^^^ function for l2star kernel\u001b[39;00m\n\u001b[1;32m---> 91\u001b[0m         \u001b[38;5;28;01mreturn\u001b[39;00m (\u001b[38;5;241m1\u001b[39m \u001b[38;5;241m+\u001b[39m weight\u001b[38;5;241m*\u001b[39m(\u001b[38;5;241;43m1\u001b[39;49m\u001b[43m \u001b[49m\u001b[38;5;241;43m-\u001b[39;49m\u001b[43m \u001b[49m\u001b[43mnp\u001b[49m\u001b[38;5;241;43m.\u001b[39;49m\u001b[43mmaximum\u001b[49m\u001b[43m(\u001b[49m\u001b[43mx\u001b[49m\u001b[43m,\u001b[49m\u001b[43m \u001b[49m\u001b[43my\u001b[49m\u001b[43m)\u001b[49m))\u001b[38;5;241m.\u001b[39mprod(axis\u001b[38;5;241m=\u001b[39m\u001b[38;5;241m2\u001b[39m)\n\u001b[0;32m     92\u001b[0m     \u001b[38;5;28;01melif\u001b[39;00m method\u001b[38;5;241m.\u001b[39mlower() \u001b[38;5;241m==\u001b[39m \u001b[38;5;124m\"\u001b[39m\u001b[38;5;124mc\u001b[39m\u001b[38;5;124m\"\u001b[39m \u001b[38;5;129;01mor\u001b[39;00m method\u001b[38;5;241m.\u001b[39mlower() \u001b[38;5;241m==\u001b[39m \u001b[38;5;124m\"\u001b[39m\u001b[38;5;124mcentered\u001b[39m\u001b[38;5;124m\"\u001b[39m \u001b[38;5;129;01mor\u001b[39;00m method\u001b[38;5;241m.\u001b[39mlower() \u001b[38;5;241m==\u001b[39m \u001b[38;5;124m'\u001b[39m\u001b[38;5;124mcd\u001b[39m\u001b[38;5;124m'\u001b[39m:\n\u001b[0;32m     93\u001b[0m         \u001b[38;5;66;03m# ^^^ function for centered kernel\u001b[39;00m\n\u001b[0;32m     94\u001b[0m         \u001b[38;5;28;01mreturn\u001b[39;00m (\u001b[38;5;241m1\u001b[39m \u001b[38;5;241m+\u001b[39m (\u001b[38;5;241m.5\u001b[39m\u001b[38;5;241m*\u001b[39m\u001b[38;5;28mabs\u001b[39m(x \u001b[38;5;241m-\u001b[39m \u001b[38;5;241m.5\u001b[39m)) \u001b[38;5;241m+\u001b[39m (\u001b[38;5;241m.5\u001b[39m\u001b[38;5;241m*\u001b[39m\u001b[38;5;28mabs\u001b[39m(y \u001b[38;5;241m-\u001b[39m \u001b[38;5;241m.5\u001b[39m)) \u001b[38;5;241m-\u001b[39m (\u001b[38;5;241m.5\u001b[39m\u001b[38;5;241m*\u001b[39m\u001b[38;5;28mabs\u001b[39m(x \u001b[38;5;241m-\u001b[39m y)))\u001b[38;5;241m.\u001b[39mprod(axis\u001b[38;5;241m=\u001b[39m\u001b[38;5;241m2\u001b[39m)\n",
      "\u001b[1;31mKeyboardInterrupt\u001b[0m: "
     ]
    }
   ],
   "source": [
    "import matplotlib.pyplot as plt\n",
    "\n",
    "#Go add notes to this code\n",
    "for i in range(1, 9):\n",
    "    A = qp.IIDStdUniform(dimension=i)\n",
    "    X = A.gen_samples(n=2**12)\n",
    "    min_x = []\n",
    "    min_y = []\n",
    "    max_x = []\n",
    "    max_y = []\n",
    "    mean_x = []\n",
    "    mean_y = []\n",
    "    for j in range(10, 25):\n",
    "        print(j)\n",
    "        samples = []\n",
    "        for k in range(20):\n",
    "            sol, t = qp.discrepancy2('l2star', X, limiter = 2**j, Time = True)\n",
    "            samples = samples + [t]\n",
    "        min_x = min_x + [j]\n",
    "        min_y = min_y + [min(samples)]\n",
    "        max_x = max_x + [j]\n",
    "        max_y = max_y + [max(samples)]\n",
    "        mean_x = mean_x + [j]\n",
    "        mean_y = mean_y + [np.mean(samples)]\n",
    "        \n",
    "    plt.plot(min_x, min_y, label = 'Minimum Runtime', color = 'b')\n",
    "    plt.plot(max_x, max_y, label = 'Maximum Runtime', color = 'r')\n",
    "    plt.plot(mean_x, mean_y, label = 'Mean Runtime', color = 'k')\n",
    "    plt.xlabel(\"limiter in powers of 2\")\n",
    "    plt.ylabel(\"Runtime\")\n",
    "    plt.title(\"Runtime with dimensions of \" + str(i) + ' with n = 2048 samples')\n",
    "    plt.grid(True)  # Add grid lines\n",
    "    plt.legend()\n",
    "    plt.show()   "
   ]
  },
  {
   "cell_type": "code",
   "execution_count": 11,
   "id": "ba74b8fd-69c5-4e38-b0f9-dd2ba37bc8d1",
   "metadata": {},
   "outputs": [
    {
     "name": "stdout",
     "output_type": "stream",
     "text": [
      "0.012602953296288728\n"
     ]
    },
    {
     "ename": "AttributeError",
     "evalue": "'float' object has no attribute 'prod'",
     "output_type": "error",
     "traceback": [
      "\u001b[1;31m---------------------------------------------------------------------------\u001b[0m",
      "\u001b[1;31mAttributeError\u001b[0m                            Traceback (most recent call last)",
      "Cell \u001b[1;32mIn[11], line 4\u001b[0m\n\u001b[0;32m      2\u001b[0m X \u001b[38;5;241m=\u001b[39m A\u001b[38;5;241m.\u001b[39mgen_samples(n\u001b[38;5;241m=\u001b[39m\u001b[38;5;241m2\u001b[39m\u001b[38;5;241m*\u001b[39m\u001b[38;5;241m*\u001b[39m\u001b[38;5;241m12\u001b[39m)\n\u001b[0;32m      3\u001b[0m \u001b[38;5;28mprint\u001b[39m(qp\u001b[38;5;241m.\u001b[39mdiscrepancy(\u001b[38;5;124m'\u001b[39m\u001b[38;5;124mmixture\u001b[39m\u001b[38;5;124m'\u001b[39m, X))\n\u001b[1;32m----> 4\u001b[0m \u001b[38;5;28mprint\u001b[39m(\u001b[43mqp\u001b[49m\u001b[38;5;241;43m.\u001b[39;49m\u001b[43mdiscrepancy2\u001b[49m\u001b[43m(\u001b[49m\u001b[38;5;124;43m'\u001b[39;49m\u001b[38;5;124;43mmixture\u001b[39;49m\u001b[38;5;124;43m'\u001b[39;49m\u001b[43m,\u001b[49m\u001b[43m \u001b[49m\u001b[43mX\u001b[49m\u001b[43m,\u001b[49m\u001b[43m \u001b[49m\u001b[43mTime\u001b[49m\u001b[43m \u001b[49m\u001b[38;5;241;43m=\u001b[39;49m\u001b[43m \u001b[49m\u001b[38;5;28;43;01mTrue\u001b[39;49;00m\u001b[43m)\u001b[49m)\n\u001b[0;32m      5\u001b[0m \u001b[38;5;28mprint\u001b[39m(qp\u001b[38;5;241m.\u001b[39mdiscrepancy(\u001b[38;5;124m'\u001b[39m\u001b[38;5;124mmixture\u001b[39m\u001b[38;5;124m'\u001b[39m, X))\n",
      "File \u001b[1;32mc:\\users\\cdhjr\\onedrive\\desktop\\qmcsoftware\\qmcpy\\kernels\\discrepancy.py:214\u001b[0m, in \u001b[0;36mdiscrepancy2\u001b[1;34m(method, x, weight, limiter, Time)\u001b[0m\n\u001b[0;32m    210\u001b[0m     method3 \u001b[38;5;241m=\u001b[39m method[\u001b[38;5;241m2\u001b[39m]\n\u001b[0;32m    211\u001b[0m \u001b[38;5;66;03m#method1 is the double integral, method2 is the single integral, and method3 is the kernel\u001b[39;00m\n\u001b[0;32m    212\u001b[0m \n\u001b[0;32m    213\u001b[0m \u001b[38;5;66;03m#Calculates the double integral which requires no for loops\u001b[39;00m\n\u001b[1;32m--> 214\u001b[0m DI \u001b[38;5;241m=\u001b[39m \u001b[43mdouble_integral\u001b[49m\u001b[43m(\u001b[49m\u001b[43mmethod1\u001b[49m\u001b[43m,\u001b[49m\u001b[43m \u001b[49m\u001b[43mweight\u001b[49m\u001b[43m,\u001b[49m\u001b[43m \u001b[49m\u001b[43md\u001b[49m\u001b[43m)\u001b[49m\n\u001b[0;32m    216\u001b[0m \u001b[38;5;66;03m#Calculates the single integral which would require 1 for loop\u001b[39;00m\n\u001b[0;32m    217\u001b[0m B \u001b[38;5;241m=\u001b[39m \u001b[38;5;241m0\u001b[39m                                                                   \u001b[38;5;66;03m#initializes variable B with 0\u001b[39;00m\n",
      "File \u001b[1;32mc:\\users\\cdhjr\\onedrive\\desktop\\qmcsoftware\\qmcpy\\kernels\\discrepancy.py:37\u001b[0m, in \u001b[0;36mdouble_integral\u001b[1;34m(method, weight, d)\u001b[0m\n\u001b[0;32m     34\u001b[0m     \u001b[38;5;28;01mreturn\u001b[39;00m \u001b[38;5;241m-\u001b[39m((\u001b[38;5;241m4\u001b[39m\u001b[38;5;241m/\u001b[39m\u001b[38;5;241m3\u001b[39m)\u001b[38;5;241m.\u001b[39mprod(axis\u001b[38;5;241m=\u001b[39m\u001b[38;5;241m0\u001b[39m))\n\u001b[0;32m     35\u001b[0m \u001b[38;5;28;01melif\u001b[39;00m method\u001b[38;5;241m.\u001b[39mlower() \u001b[38;5;241m==\u001b[39m \u001b[38;5;124m\"\u001b[39m\u001b[38;5;124mm\u001b[39m\u001b[38;5;124m\"\u001b[39m \u001b[38;5;129;01mor\u001b[39;00m method\u001b[38;5;241m.\u001b[39mlower() \u001b[38;5;241m==\u001b[39m \u001b[38;5;124m\"\u001b[39m\u001b[38;5;124mmixture\u001b[39m\u001b[38;5;124m\"\u001b[39m \u001b[38;5;129;01mor\u001b[39;00m method\u001b[38;5;241m.\u001b[39mlower() \u001b[38;5;241m==\u001b[39m \u001b[38;5;124m'\u001b[39m\u001b[38;5;124mmd\u001b[39m\u001b[38;5;124m'\u001b[39m:\n\u001b[0;32m     36\u001b[0m     \u001b[38;5;66;03m# ^^^ function for mixture double integral\u001b[39;00m\n\u001b[1;32m---> 37\u001b[0m     \u001b[38;5;28;01mreturn\u001b[39;00m \u001b[43m(\u001b[49m\u001b[38;5;241;43m19\u001b[39;49m\u001b[38;5;241;43m/\u001b[39;49m\u001b[38;5;241;43m12\u001b[39;49m\u001b[43m)\u001b[49m\u001b[38;5;241;43m.\u001b[39;49m\u001b[43mprod\u001b[49m(axis\u001b[38;5;241m=\u001b[39m\u001b[38;5;241m0\u001b[39m)\n\u001b[0;32m     38\u001b[0m \u001b[38;5;28;01melif\u001b[39;00m \u001b[38;5;28mtype\u001b[39m(method) \u001b[38;5;129;01mis\u001b[39;00m \u001b[38;5;28mfloat\u001b[39m \u001b[38;5;129;01mor\u001b[39;00m \u001b[38;5;28mtype\u001b[39m(method) \u001b[38;5;129;01mis\u001b[39;00m \u001b[38;5;28mint\u001b[39m:\n\u001b[0;32m     39\u001b[0m     \u001b[38;5;66;03m# ^^^ incase if user puts in fixed value.\u001b[39;00m\n\u001b[0;32m     40\u001b[0m     \u001b[38;5;28;01mreturn\u001b[39;00m method\n",
      "\u001b[1;31mAttributeError\u001b[0m: 'float' object has no attribute 'prod'"
     ]
    }
   ],
   "source": [
    "A = qp.IIDStdUniform(dimension=2)\n",
    "X = A.gen_samples(n=2**12)\n",
    "print(qp.discrepancy('mixture', X))\n",
    "print(qp.discrepancy2('mixture', X, Time = True))"
   ]
  },
  {
   "cell_type": "code",
   "execution_count": null,
   "id": "476425f3-78b8-4b51-947e-8c95e4bd8899",
   "metadata": {},
   "outputs": [],
   "source": [
    "x = [0, 1, 2, 3]\n",
    "y = [0, 1, 4, 9]\n",
    "x_1 = [0, 1, 2, 3]\n",
    "y_1 = [0, 1, 8, 27]\n",
    "\n",
    "# Create the plot\n",
    "plt.plot(x, y)\n",
    "plt.plot(x_1, y_1)\n",
    "plt.xlabel(\"X-axis\")\n",
    "plt.ylabel(\"Y-axis\")\n",
    "plt.title(\"2D Graph Example\")\n",
    "plt.grid(True)  # Add grid lines\n",
    "plt.show()"
   ]
  },
  {
   "cell_type": "code",
   "execution_count": null,
   "id": "d0e50f5f-1191-4f10-aa3e-b0e5b6859c7c",
   "metadata": {},
   "outputs": [],
   "source": []
  }
 ],
 "metadata": {
  "kernelspec": {
   "display_name": "Python 3 (ipykernel)",
   "language": "python",
   "name": "python3"
  },
  "language_info": {
   "codemirror_mode": {
    "name": "ipython",
    "version": 3
   },
   "file_extension": ".py",
   "mimetype": "text/x-python",
   "name": "python",
   "nbconvert_exporter": "python",
   "pygments_lexer": "ipython3",
   "version": "3.9.13"
  }
 },
 "nbformat": 4,
 "nbformat_minor": 5
}
