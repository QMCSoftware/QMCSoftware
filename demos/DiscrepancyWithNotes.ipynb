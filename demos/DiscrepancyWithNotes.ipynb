{
 "cells": [
  {
   "cell_type": "code",
   "execution_count": 2,
   "id": "152d078c-41ee-48a6-8b06-06d615210418",
   "metadata": {},
   "outputs": [
    {
     "name": "stdout",
     "output_type": "stream",
     "text": [
      "ok\n"
     ]
    }
   ],
   "source": [
    "import qmcpy as qp\n",
    "import numpy as np\n",
    "import scipy.stats\n",
    "import math\n",
    "#import pandas as pd\n",
    "import time\n",
    "#from matplotlib import pyplot\n",
    "#pyplot.style.use('../qmcpy/qmcpy.mplstyle')\n",
    "#colors = pyplot.rcParams['axes.prop_cycle'].by_key()['color']\n",
    "print('ok')"
   ]
  },
  {
   "cell_type": "markdown",
   "id": "9df13683-be5f-4558-9dc3-0450656cdbb6",
   "metadata": {},
   "source": [
    "We generated our points in $d$ dimensions and generated $n$ samples such that $\\boldsymbol{x}_i \\in [0,1]^d$ for $i = 1, 2, 3, ..., n$. Let matrix $\\boldsymbol{X}$ be a $n \\times d$ matrix such that\n",
    "$$\n",
    "\\boldsymbol{X} = \n",
    "\\begin{bmatrix}\n",
    "\\boldsymbol{x}_1\\\\\n",
    "\\boldsymbol{x}_2\\\\\n",
    "\\boldsymbol{x}_3\\\\\n",
    "...\\\\\n",
    "\\boldsymbol{x}_n\\\\\n",
    "\\end{bmatrix}\n",
    "$$\n",
    "which can be rewritten as\n",
    "$$\n",
    "\\boldsymbol{X} = \n",
    "\\begin{bmatrix}\n",
    "\\boldsymbol{x}_{1_1} & \\boldsymbol{x}_{1_2} & \\boldsymbol{x}_{1_3} & ... & \\boldsymbol{x}_{1_d}\\\\\n",
    "\\boldsymbol{x}_{2_1} & \\boldsymbol{x}_{2_2} & \\boldsymbol{x}_{2_3} & ... & \\boldsymbol{x}_{2_d}\\\\\n",
    "\\boldsymbol{x}_{3_1} & \\boldsymbol{x}_{3_2} & \\boldsymbol{x}_{3_3} & ... & \\boldsymbol{x}_{3_d}\\\\\n",
    "... & ... & ... & ... & ...\\\\\n",
    "\\boldsymbol{x}_{n_1} & \\boldsymbol{x}_{n_2} & \\boldsymbol{x}_{n_3} & ... & \\boldsymbol{x}_{n_d}\\\\\n",
    "\\end{bmatrix}\n",
    "$$"
   ]
  },
  {
   "cell_type": "markdown",
   "id": "c04db98e-8b84-435e-afe1-b910131e04fc",
   "metadata": {},
   "source": [
    "We want to find our discrepancy. There is a formula we can use which is\n",
    "$$\n",
    "[D(\\boldsymbol{X}) ]^2= \\underbrace{\\int_{[0,1]^d} \\int_{[0,1]^d} K(x,y)~dx~dy}_{A} - \\frac{2}{n} \\sum_{i=1}^n \\underbrace{\\int_{[0,1]^d} K(x, \\boldsymbol{x}_i) ~dx}_{B(\\boldsymbol{x}_i)} + \\frac{1}{n^2} \\sum_{i,j = 1}^n K(\\boldsymbol{x}_i, \\boldsymbol{x}_j)\n",
    "$$\n",
    "Let $A$ be the double integral, $B$ the single integral, and $C$ be the Kernel. Of course, this depends on which discrepancy method you want to use. At which there are several. We will start off with L2star."
   ]
  },
  {
   "cell_type": "code",
   "execution_count": 6,
   "id": "ba74b8fd-69c5-4e38-b0f9-dd2ba37bc8d1",
   "metadata": {},
   "outputs": [
    {
     "name": "stdout",
     "output_type": "stream",
     "text": [
      "0.01262793193917552\n"
     ]
    }
   ],
   "source": [
    "A = qp.IIDStdUniform(dimension=2)\n",
    "X = A.gen_samples(n=2**12)\n",
    "print(qp.discrepancy(X, 'l2star'))"
   ]
  },
  {
   "cell_type": "markdown",
   "id": "0fccdedd-e651-4954-9a6e-365d71eee52d",
   "metadata": {},
   "source": [
    "So, you would input your array of samples and method respectively. As for other methods for calculating discrepancy in our library, we got:\n",
    "\n",
    " symmetric\n",
    " centered\n",
    " wrap around\n",
    " mixture\n",
    "\n",
    "However, do you want to use a different method that isn't in our library. There is an easy fix to that. Unanchored Discrepancy is not in our code. We define our double_integral \"$A$\", single_integral \"$B$\", and kernel \"$C$\". We code,"
   ]
  },
  {
   "cell_type": "code",
   "execution_count": 9,
   "id": "a3b344dd-42ba-4302-a2de-2b8893f7894a",
   "metadata": {},
   "outputs": [
    {
     "name": "stdout",
     "output_type": "stream",
     "text": [
      "0.010271130302273838\n"
     ]
    }
   ],
   "source": [
    "A = lambda w: (1 + (w/12)).prod()\n",
    "B = lambda x, w: (1+ ((w*x*(1-x))/2)).prod(axis=1)\n",
    "C = lambda x, y, w: (1 + (w*(np.minimum(x, y) - (x*y)))).prod(axis=2)\n",
    "method = [A, B, C]\n",
    "print(qp.discrepancy(X, method))"
   ]
  },
  {
   "cell_type": "code",
   "execution_count": null,
   "id": "476425f3-78b8-4b51-947e-8c95e4bd8899",
   "metadata": {},
   "outputs": [],
   "source": [
    "x = [0, 1, 2, 3]\n",
    "y = [0, 1, 4, 9]\n",
    "x_1 = [0, 1, 2, 3]\n",
    "y_1 = [0, 1, 8, 27]\n",
    "\n",
    "# Create the plot\n",
    "plt.plot(x, y)\n",
    "plt.plot(x_1, y_1)\n",
    "plt.xlabel(\"X-axis\")\n",
    "plt.ylabel(\"Y-axis\")\n",
    "plt.title(\"2D Graph Example\")\n",
    "plt.grid(True)  # Add grid lines\n",
    "plt.show()"
   ]
  },
  {
   "cell_type": "code",
   "execution_count": null,
   "id": "d0e50f5f-1191-4f10-aa3e-b0e5b6859c7c",
   "metadata": {},
   "outputs": [],
   "source": []
  }
 ],
 "metadata": {
  "kernelspec": {
   "display_name": "Python 3 (ipykernel)",
   "language": "python",
   "name": "python3"
  },
  "language_info": {
   "codemirror_mode": {
    "name": "ipython",
    "version": 3
   },
   "file_extension": ".py",
   "mimetype": "text/x-python",
   "name": "python",
   "nbconvert_exporter": "python",
   "pygments_lexer": "ipython3",
   "version": "3.9.13"
  }
 },
 "nbformat": 4,
 "nbformat_minor": 5
}
