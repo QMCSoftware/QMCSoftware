{
 "cells": [
  {
   "cell_type": "code",
   "execution_count": 2,
   "id": "152d078c-41ee-48a6-8b06-06d615210418",
   "metadata": {},
   "outputs": [
    {
     "name": "stdout",
     "output_type": "stream",
     "text": [
      "ok\n"
     ]
    }
   ],
   "source": [
    "import qmcpy as qp\n",
    "import numpy as np\n",
    "import scipy.stats\n",
    "import math\n",
    "#import pandas as pd\n",
    "import time\n",
    "#from matplotlib import pyplot\n",
    "#pyplot.style.use('../qmcpy/qmcpy.mplstyle')\n",
    "#colors = pyplot.rcParams['axes.prop_cycle'].by_key()['color']\n",
    "print('ok')"
   ]
  },
  {
   "cell_type": "markdown",
   "id": "9df13683-be5f-4558-9dc3-0450656cdbb6",
   "metadata": {},
   "source": [
    "We generated our points in $d$ dimensions and generated $n$ samples such that $\\boldsymbol{x}_i \\in [0,1]^d$ for $i = 1, 2, 3, ..., n$. Let matrix $\\boldsymbol{X}$ be a $n \\times d$ matrix such that\n",
    "$$\n",
    "\\boldsymbol{X} = \n",
    "\\begin{bmatrix}\n",
    "\\boldsymbol{x}_1\\\\\n",
    "\\boldsymbol{x}_2\\\\\n",
    "\\boldsymbol{x}_3\\\\\n",
    "...\\\\\n",
    "\\boldsymbol{x}_n\\\\\n",
    "\\end{bmatrix}\n",
    "$$\n",
    "which can be rewritten as\n",
    "$$\n",
    "\\boldsymbol{X} = \n",
    "\\begin{bmatrix}\n",
    "\\boldsymbol{x}_{1_1} & \\boldsymbol{x}_{1_2} & \\boldsymbol{x}_{1_3} & ... & \\boldsymbol{x}_{1_d}\\\\\n",
    "\\boldsymbol{x}_{2_1} & \\boldsymbol{x}_{2_2} & \\boldsymbol{x}_{2_3} & ... & \\boldsymbol{x}_{2_d}\\\\\n",
    "\\boldsymbol{x}_{3_1} & \\boldsymbol{x}_{3_2} & \\boldsymbol{x}_{3_3} & ... & \\boldsymbol{x}_{3_d}\\\\\n",
    "... & ... & ... & ... & ...\\\\\n",
    "\\boldsymbol{x}_{n_1} & \\boldsymbol{x}_{n_2} & \\boldsymbol{x}_{n_3} & ... & \\boldsymbol{x}_{n_d}\\\\\n",
    "\\end{bmatrix}\n",
    "$$"
   ]
  },
  {
   "cell_type": "markdown",
   "id": "c04db98e-8b84-435e-afe1-b910131e04fc",
   "metadata": {},
   "source": [
    "We want to find our discrepancy in star discrepancy we must calculate\n",
    "$$\n",
    "[D(\\boldsymbol{X}) ]^2= \\underbrace{\\int_{[0,1]^d} \\int_{[0,1]^d} K(x,y)~dx~dy}_{A} - \\frac{2}{n} \\sum_{i=1}^n \\underbrace{\\int_{[0,1]^d} K(x, \\boldsymbol{x}_i) ~dx}_{B(\\boldsymbol{x}_i)} + \\frac{1}{n^2} \\sum_{i,j = 1}^n K(\\boldsymbol{x}_i, \\boldsymbol{x}_j)\n",
    "$$\n",
    "Note, the kernel for star discrepancy is $K(\\boldsymbol{x}_i,\\boldsymbol{x}_j) = \\prod_{k=1}^d [2 - \\max(\\boldsymbol{x}_{i_k}, \\boldsymbol{x}_{j_k})]$. Also, $\\int_{[0,1]^d} \\int_{[0,1]^d} K(x,y)~dx~dy = (\\frac{4}{3})^d$ and $\\frac{2}{n} \\sum_{i=1}^n \\int_{[0,1]^d} K(x, \\boldsymbol{x}_i) ~dx = \\prod_{k=1}^d (\\frac{3 - \\boldsymbol{x}_{i_k}^2}{2})$. For the sake of program let,\n",
    "$$\n",
    "A = \\int_{[0,1]^d} \\int_{[0,1]^d} K(x,y)~dx~dy = (\\frac{4}{3})^d\n",
    "$$\n",
    "$$\n",
    "B = \\frac{2}{n} \\sum_{i=1}^n \\int_{[0,1]^d} K(x, \\boldsymbol{x}_i) ~dx = \\prod_{k=1}^d (\\frac{3 - \\boldsymbol{x}_{i_k}^2}{2})\n",
    "$$\n",
    "$$\n",
    "C = \\frac{1}{n^2} \\sum_{i,j = 1}^n \\prod_{k=1}^d [2 - \\max(\\boldsymbol{x}_{i_k}, \\boldsymbol{x}_{j_k})]\n",
    "$$\n",
    "So, $D(\\boldsymbol{X}) = \\sqrt{A - B + C}$. We calculate"
   ]
  },
  {
   "cell_type": "code",
   "execution_count": 2,
   "id": "90695ac7-744e-4563-a825-d616971074ed",
   "metadata": {},
   "outputs": [],
   "source": [
    "def star_disc(x):\n",
    "    n, d = x.shape\n",
    "\n",
    "    A = (4/3)**d\n",
    "\n",
    "    b_1 = (3-x**2)/2\n",
    "    b_2 = b_1.prod(axis=1)\n",
    "    B = 2*np.mean(b_2)\n",
    "\n",
    "    c_1 = np.zeros((n,n,d)) + x\n",
    "    y = np.resize(x, (n, 1, d))\n",
    "    c_2 = 2 - np.maximum(c_1, y)\n",
    "    c_3 = c_2.prod(axis=2)\n",
    "    c_4 = np.mean(c_3)\n",
    "    C = np.mean(c_4)\n",
    "\n",
    "    disc = (A - B + C)**.5\n",
    "    return disc"
   ]
  },
  {
   "cell_type": "markdown",
   "id": "8581ae0c-10b5-4f27-b331-35f0a87ce55a",
   "metadata": {},
   "source": [
    "We want to find our discrepancy in L2star discrepancy. The equation to find the discrepancy is the same except we choose a different equation for the kernel. Which our kernel is $K(x,y) = \\prod_{k=1}^d (1 - \\max(x_k,y_k))$. And so to get our discrepancy we must calculate\n",
    "$$\n",
    "[D(\\boldsymbol{X}) ]^2= \\int_{[0,1]^d} \\int_{[0,1]^d} K(x,y)~dx~dy - \\frac{2}{n} \\sum_{i=1}^n \\int_{[0,1]^d} K(x, \\boldsymbol{x}_i) ~dx + \\frac{1}{n^2} \\sum_{i,j = 1}^n K(\\boldsymbol{x}_i, \\boldsymbol{x}_j)\n",
    "$$\n",
    "$$\n",
    "[D(\\boldsymbol{X}) ]^2= (1/3)^d - \\frac{2}{n} \\sum_{i=1}^n \\prod_{k=1}^d (\\frac{1 - \\boldsymbol{x}_{i_k}^2}{2}) + \\frac{1}{n^2} \\sum_{i,j = 1}^n \\prod_{k=1}^d (1 - \\max(\\boldsymbol{x}_{i_k}, \\boldsymbol{x}_{j_k}))\n",
    "$$\n",
    "$$\n",
    "D(\\boldsymbol{X}) = \\sqrt{(1/3)^d - \\frac{2}{n} \\sum_{i=1}^n \\prod_{k=1}^d (\\frac{1 - \\boldsymbol{x}_{i_k}^2}{2}) + \\frac{1}{n^2} \\sum_{i,j = 1}^n \\prod_{k=1}^d (1 - \\max(\\boldsymbol{x}_{i_k}, \\boldsymbol{x}_{j_k}))}\n",
    "$$\n",
    "So now let A, B, and C be calculated as\n",
    "\n",
    "$$\n",
    "A = \\int_{[0,1]^d} \\int_{[0,1]^d} K(x,y)~dx~dy = (\\frac{1}{3})^d\n",
    "$$\n",
    "$$\n",
    "B = \\frac{2}{n} \\sum_{i=1}^n \\int_{[0,1]^d} K(x, \\boldsymbol{x}_i) ~dx = \\prod_{k=1}^d (\\frac{1 - \\boldsymbol{x}_{i_k}^2}{2})\n",
    "$$\n",
    "$$\n",
    "C = \\frac{1}{n^2} \\sum_{i,j = 1}^n \\prod_{k=1}^d (1 - \\max(x_k,y_k))\n",
    "$$\n",
    "So, $D(\\boldsymbol{X}) = \\sqrt{A - B + C}$. We calculate"
   ]
  },
  {
   "cell_type": "code",
   "execution_count": 3,
   "id": "71a8ca4b-4c9e-4283-affd-47bc81a84084",
   "metadata": {},
   "outputs": [],
   "source": [
    "def L2star_disc(x):\n",
    "    n, d = x.shape\n",
    "\n",
    "    A = (1/3)**d\n",
    "\n",
    "    b_1 = (1 - x**2)/2\n",
    "    b_2 = b_1.prod(axis=1)\n",
    "    B = 2*np.mean(b_2)\n",
    "    print(B)\n",
    "    c_1 = np.zeros((n,n,d)) + x\n",
    "    y = np.resize(x, (n, 1, d))\n",
    "    c_2 = 1 - np.maximum(c_1, y)\n",
    "    c_3 = c_2.prod(axis=2)\n",
    "    c_4 = np.mean(c_3)\n",
    "    C = np.mean(c_4)\n",
    "\n",
    "    disc = (A - B + C)**.5\n",
    "    return disc"
   ]
  },
  {
   "cell_type": "markdown",
   "id": "fef57896-151a-49ed-89ec-45170ad43623",
   "metadata": {},
   "source": [
    "We want to find our discrepancy in centered discrepancy. We will choose our kernel to be $K(x,y) = \\prod_{k=1}^d (1 + .5|\\boldsymbol{x}_k - .5| + .5|\\boldsymbol{y}_k - .5| - .5 |\\boldsymbol{x}_k - \\boldsymbol{y}_k|)$. And so to get our discrepancy we must calculate\n",
    "$$\n",
    "[D(\\boldsymbol{X}) ]^2= \\int_{[0,1]^d} \\int_{[0,1]^d} K(x,y)~dx~dy - \\frac{2}{n} \\sum_{i=1}^n \\int_{[0,1]^d} K(x, \\boldsymbol{x}_i) ~dx + \\frac{1}{n^2} \\sum_{i,j = 1}^n K(\\boldsymbol{x}_i, \\boldsymbol{x}_j)\n",
    "$$\n",
    "$$\n",
    "[D(\\boldsymbol{X}) ]^2= (13/12)^d - \\frac{2}{n} \\sum_{i=1}^n \\prod_{k=1}^d (1 + .5|\\boldsymbol{x}_{i_k} - .5| - .5 (\\boldsymbol{x}_{i_k} -.5)^2) + \\frac{1}{n^2} \\sum_{i,j = 1}^n \\prod_{k=1}^d (1 + .5|\\boldsymbol{x}_{i_k} - .5| + .5|\\boldsymbol{x}_{j_k} - .5| - .5 |\\boldsymbol{x}_{i_k} - \\boldsymbol{x}_{j_k}|)\n",
    "$$\n",
    "$$\n",
    "D(\\boldsymbol{X}) = \\sqrt{(13/12)^d - \\frac{2}{n} \\sum_{i=1}^n \\prod_{k=1}^d (1 + .5|\\boldsymbol{x}_{i_k} - .5| - .5 (\\boldsymbol{x}_{i_k} -.5)^2) + \\frac{1}{n^2} \\sum_{i,j = 1}^n \\prod_{k=1}^d (1 + .5|\\boldsymbol{x}_{i_k} - .5| + .5|\\boldsymbol{x}_{j_k} - .5| - .5 |\\boldsymbol{x}_{i_k} - \\boldsymbol{x}_{j_k}|)}\n",
    "$$\n",
    "Let A, B, and C be calculated as\n",
    "\n",
    "$$\n",
    "A = \\int_{[0,1]^d} \\int_{[0,1]^d} K(x,y)~dx~dy = (\\frac{13}{12})^d\n",
    "$$\n",
    "$$\n",
    "B = \\frac{2}{n} \\sum_{i=1}^n \\int_{[0,1]^d} K(x, \\boldsymbol{x}_i) ~dx = \\frac{2}{n} \\sum_{i=1}^n \\prod_{k=1}^d (1 + .5|\\boldsymbol{x}_{i_k} - .5| - .5 (\\boldsymbol{x}_{i_k} -.5)^2)\n",
    "$$\n",
    "$$\n",
    "C = \\frac{1}{n^2} \\sum_{i,j = 1}^n \\prod_{k=1}^d (1 + .5|\\boldsymbol{x}_{i_k} - .5| + .5|\\boldsymbol{x}_{j_k} - .5| - .5 |\\boldsymbol{x}_{i_k} - \\boldsymbol{x}_{j_k}|)\n",
    "$$\n",
    "Of course $D(\\boldsymbol{X}) = \\sqrt{A - B + C}$. So now we calculate,"
   ]
  },
  {
   "cell_type": "code",
   "execution_count": 4,
   "id": "5c1209fc-130d-4da1-929f-5e6f56015175",
   "metadata": {},
   "outputs": [],
   "source": [
    "def center_disc(x):\n",
    "    n, d = x.shape\n",
    "\n",
    "    A = (13/12)**d\n",
    "\n",
    "    b_1 = 1 + (.5*abs(x - .5)) - (.5*((x -.5)**2))\n",
    "    b_2 = b_1.prod(axis=1)\n",
    "    B = 2*np.mean(b_2)\n",
    "\n",
    "    c_1 = np.zeros((n,n,d)) + x\n",
    "    y = np.resize(x, (n, 1, d))\n",
    "    c_2 = 1 + (.5*abs(c_1 - .5)) + (.5*abs(y - .5)) - (.5*abs(c_1 - y))\n",
    "    c_3 = c_2.prod(axis=2)\n",
    "    c_4 = np.mean(c_3)\n",
    "    C = np.mean(c_4)\n",
    "    print(C)\n",
    "\n",
    "    disc = (A - B + C)**.5\n",
    "    return disc"
   ]
  },
  {
   "cell_type": "markdown",
   "id": "80e6ac2b-be87-4b51-a037-d9553cb98d47",
   "metadata": {},
   "source": [
    "We want to find our discrepancy in symmetric discrepancy. We will choose our kernel to be $K(x,y) = \\prod_{k=1}^d (2 - 2|\\boldsymbol{x}_k - \\boldsymbol{y}_k|)$. And so to get our discrepancy we must calculate\n",
    "$$\n",
    "[D(\\boldsymbol{X}) ]^2= \\int_{[0,1]^d} \\int_{[0,1]^d} K(x,y)~dx~dy - \\frac{2}{n} \\sum_{i=1}^n \\int_{[0,1]^d} K(x, \\boldsymbol{x}_i) ~dx + \\frac{1}{n^2} \\sum_{i,j = 1}^n K(\\boldsymbol{x}_i, \\boldsymbol{x}_j)\n",
    "$$\n",
    "$$\n",
    "[D(\\boldsymbol{X}) ]^2= (4/3)^d - \\frac{2}{n} \\sum_{i=1}^n \\prod_{k=1}^d (1 + 2\\boldsymbol{x}_{i_k} - 2 \\boldsymbol{x}_{i_k}^2) + \\frac{1}{n^2} \\sum_{i,j = 1}^n \\prod_{k=1}^d (2 - 2|\\boldsymbol{x}_{i_k} - \\boldsymbol{x}_{j_k}|)\n",
    "$$\n",
    "$$\n",
    "D(\\boldsymbol{X}) = \\sqrt{(4/3)^d - \\frac{2}{n} \\sum_{i=1}^n \\prod_{k=1}^d (1 + 2\\boldsymbol{x}_{i_k} - 2 \\boldsymbol{x}_{i_k}^2) + \\frac{1}{n^2} \\sum_{i,j = 1}^n \\prod_{k=1}^d (2 - 2|\\boldsymbol{x}_{i_k} - \\boldsymbol{x}_{j_k}|)}\n",
    "$$\n",
    "Let A, B, and C be calculated as\n",
    "\n",
    "$$\n",
    "A = \\int_{[0,1]^d} \\int_{[0,1]^d} K(x,y)~dx~dy = (\\frac{4}{3})^d\n",
    "$$\n",
    "$$\n",
    "B = \\frac{2}{n} \\sum_{i=1}^n \\int_{[0,1]^d} K(x, \\boldsymbol{x}_i) ~dx = \\frac{2}{n} \\sum_{i=1}^n \\prod_{k=1}^d (1 + 2\\boldsymbol{x}_{i_k} - 2 \\boldsymbol{x}_{i_k}^2)\n",
    "$$\n",
    "$$\n",
    "C = \\frac{1}{n^2} \\sum_{i,j = 1}^n \\prod_{k=1}^d (2 - 2|\\boldsymbol{x}_{i_k} - \\boldsymbol{x}_{j_k}|)\n",
    "$$\n",
    "Of course $D(\\boldsymbol{X}) = \\sqrt{A - B + C}$. So now we calculate,"
   ]
  },
  {
   "cell_type": "code",
   "execution_count": 5,
   "id": "3323eba8-4cb2-4e75-9fb3-6a0ef132d2b1",
   "metadata": {},
   "outputs": [],
   "source": [
    "def symmetric_disc(x):\n",
    "    n, d = x.shape\n",
    "\n",
    "    A = (4/3)**d\n",
    "\n",
    "    b_1 = 1 + 2*x - (2*(x**2))\n",
    "    b_2 = b_1.prod(axis=1)\n",
    "    B = 2*np.mean(b_2)\n",
    "\n",
    "    c_1 = np.zeros((n,n,d)) + x\n",
    "    y = np.resize(x, (n, 1, d))\n",
    "    c_2 = 2 - (2*abs(c_1 - y))\n",
    "    c_3 = c_2.prod(axis=2)\n",
    "    c_4 = np.mean(c_3)\n",
    "    C = np.mean(c_4)\n",
    "\n",
    "    disc = (A - B + C)**.5\n",
    "    return disc"
   ]
  },
  {
   "cell_type": "markdown",
   "id": "659ac204-ae4c-42e4-88e7-bbed86700ac0",
   "metadata": {},
   "source": [
    "Now we want to do our wrap around discrepancy. Of course, to calculate it we have\n",
    "$$\n",
    "D(\\boldsymbol{X}) = \\sqrt{ -(4/3)^d + \\frac{1}{n^2} \\sum_{i,j = 1}^n \\prod_{k=1}^d (\\frac{3}{2} - |\\boldsymbol{x}_{i_k} - \\boldsymbol{x}_{j_k}|(1 - |\\boldsymbol{x}_{i_k} - \\boldsymbol{x}_{j_k}|))}\n",
    "$$\n",
    "Since there are only 2 parts, let\n",
    "$$\n",
    "A = -(\\frac{4}{3})^d\n",
    "$$\n",
    "$$\n",
    "B = \\frac{1}{n^2} \\sum_{i,j = 1}^n \\prod_{k=1}^d (\\frac{3}{2} - |\\boldsymbol{x}_{i_k} - \\boldsymbol{x}_{j_k}|(1 - |\\boldsymbol{x}_{i_k} - \\boldsymbol{x}_{j_k}|))\n",
    "$$\n",
    "So the equation becomes $D(\\boldsymbol{X}) = \\sqrt{A+B}$. We calculate"
   ]
  },
  {
   "cell_type": "code",
   "execution_count": 6,
   "id": "90778240-37f9-4b8c-a692-ecaf73dac730",
   "metadata": {},
   "outputs": [],
   "source": [
    "def wrap_around_disc(x):\n",
    "    n, d = x.shape\n",
    "\n",
    "    A = -(4/3)**d\n",
    "    \n",
    "    b_1 = np.zeros((n,n,d)) + x\n",
    "    y = np.resize(x, (n, 1, d))\n",
    "    b_2 = 1.5 - (abs(b_1 - y)*(1 - abs(b_1 - y)))\n",
    "    b_3 = b_2.prod(axis=2)\n",
    "    b_4 = np.mean(b_3)\n",
    "    B = np.mean(b_4)\n",
    "\n",
    "    disc = (A + B)**.5\n",
    "    return disc"
   ]
  },
  {
   "cell_type": "markdown",
   "id": "cd87bd89-d4dd-4976-bfba-4df7054aed1d",
   "metadata": {},
   "source": [
    "This and next cell are play cells. So the L2-star discrepancy works just as accurately as the scipy discrepancy; however, confused on the centered discrepancy because in my code I square root to get $D(\\boldsymbol{X})$. However in scipy that doesn't seem to be the case. To prove it. I printed out the following outputs. So for the centered discrepancy, this would mean that either I was not suppose to square root or scipy forgot to square root."
   ]
  },
  {
   "cell_type": "code",
   "execution_count": 7,
   "id": "0f0d0bd8-d42f-4a07-a45f-9b79e0f70578",
   "metadata": {
    "scrolled": true
   },
   "outputs": [
    {
     "name": "stdout",
     "output_type": "stream",
     "text": [
      "L2-star\n",
      "0.07070368563317594\n",
      "0.012489612450878623\n",
      "0.012489612450876679\n",
      "centered\n",
      "1.2740427386043995\n",
      "0.03127162634198461\n",
      "0.0009779146138633177\n",
      "0.03127162633863672\n",
      "wrap around\n",
      "0.029928880183720624\n",
      "0.0008957378690701567\n",
      "0.029928880184032225\n"
     ]
    }
   ],
   "source": [
    "A = qp.IIDStdUniform(dimension=3)\n",
    "X = A.gen_samples(n=1024)\n",
    "print(\"L2-star\")\n",
    "print(L2star_disc(X))\n",
    "print(scipy.stats.qmc.discrepancy(X, method='L2-star'))\n",
    "print(\"centered\")\n",
    "print(center_disc(X))\n",
    "print(scipy.stats.qmc.discrepancy(X, method='CD'))\n",
    "print(scipy.stats.qmc.discrepancy(X, method='CD')**.5)\n",
    "print(\"wrap around\")\n",
    "print(wrap_around_disc(X))\n",
    "print(scipy.stats.qmc.discrepancy(X, method='WD'))\n",
    "print(scipy.stats.qmc.discrepancy(X, method='WD')**.5)"
   ]
  },
  {
   "cell_type": "code",
   "execution_count": 8,
   "id": "bf8f637d-615d-49d3-8da6-60208385ecb5",
   "metadata": {},
   "outputs": [
    {
     "ename": "NameError",
     "evalue": "name 'weight' is not defined",
     "output_type": "error",
     "traceback": [
      "\u001b[1;31m---------------------------------------------------------------------------\u001b[0m",
      "\u001b[1;31mNameError\u001b[0m                                 Traceback (most recent call last)",
      "Cell \u001b[1;32mIn[8], line 24\u001b[0m\n\u001b[0;32m     21\u001b[0m     iterated_X_expanded \u001b[38;5;241m=\u001b[39m iterated_X_expanded[\u001b[38;5;241m0\u001b[39m:\u001b[38;5;28mlen\u001b[39m(iterated_X_expanded)\u001b[38;5;241m-\u001b[39m\u001b[38;5;241m1\u001b[39m]\n\u001b[0;32m     22\u001b[0m     iterated_Y \u001b[38;5;241m=\u001b[39m iterated_Y[\u001b[38;5;241m0\u001b[39m:\u001b[38;5;28mlen\u001b[39m(iterated_Y)\u001b[38;5;241m-\u001b[39m\u001b[38;5;241m1\u001b[39m]\n\u001b[1;32m---> 24\u001b[0m DI \u001b[38;5;241m=\u001b[39m (\u001b[38;5;241m1\u001b[39m \u001b[38;5;241m+\u001b[39m (\u001b[43mweight\u001b[49m\u001b[38;5;241m/\u001b[39m\u001b[38;5;241m3\u001b[39m))\u001b[38;5;241m.\u001b[39mprod(axis\u001b[38;5;241m=\u001b[39m\u001b[38;5;241m0\u001b[39m)\n\u001b[0;32m     26\u001b[0m B \u001b[38;5;241m=\u001b[39m \u001b[38;5;241m0\u001b[39m\n\u001b[0;32m     27\u001b[0m \u001b[38;5;28;01mfor\u001b[39;00m j \u001b[38;5;129;01min\u001b[39;00m \u001b[38;5;28mrange\u001b[39m(\u001b[38;5;28mlen\u001b[39m(iterated_X)):\n",
      "\u001b[1;31mNameError\u001b[0m: name 'weight' is not defined"
     ]
    }
   ],
   "source": [
    "A = qp.IIDStdUniform(dimension=3)\n",
    "X = A.gen_samples(n=1024)\n",
    "star_disc(X)\n",
    "limiter = 1024\n",
    "n, d = X.shape  #initialize the list as empty\n",
    "\n",
    "X_expanded = np.resize(X, (1, n, d))\n",
    "Y = np.resize(X, (n, 1, d))\n",
    "iterated_X = []\n",
    "iterated_X_expanded = []\n",
    "iterated_Y = []\n",
    "\n",
    "for i_1 in range(int(n/limiter)+1):               #These 4 lines are used to make these lists into chunks\n",
    "    iterated_X = iterated_X + [X[i_1*limiter: (i_1+1)*limiter, :]]\n",
    "    iterated_X_expanded = iterated_X_expanded + [X_expanded[:, i_1*limiter: (i_1+1)*limiter, :]]\n",
    "    iterated_Y = iterated_Y + [Y[i_1*limiter: (i_1+1)*limiter, :, :]]\n",
    "\n",
    "\n",
    "if n%limiter == 0:\n",
    "    iterated_X = iterated_X[0: len(iterated_X) - 1]\n",
    "    iterated_X_expanded = iterated_X_expanded[0:len(iterated_X_expanded)-1]\n",
    "    iterated_Y = iterated_Y[0:len(iterated_Y)-1]\n",
    "\n",
    "DI = (1 + (weight/3)).prod(axis=0)\n",
    "\n",
    "B = 0\n",
    "for j in range(len(iterated_X)):\n",
    "    x = iterated_X[j]\n",
    "    single_integral = ((1 + (weight*(1 - x**2)/2))).prod(axis=1)\n",
    "    B = B + np.sum(single_integral)\n",
    "\n",
    "SI = B*2/n\n",
    "\n",
    "C = 0\n",
    "for j in range(len(iterated_X_expanded)):\n",
    "    for i in range(len(iterated_Y)):\n",
    "        x = iterated_X_expanded[j]\n",
    "        y = iterated_Y[i]\n",
    "        kernel = (1 + weight*(1 - np.maximum(X_expanded, Y))).prod(axis=2)\n",
    "        C = C + np.sum(np.sum(kernel))\n",
    "\n",
    "K = C/(n**2)"
   ]
  },
  {
   "cell_type": "code",
   "execution_count": 11,
   "id": "516220fd-9fff-4ecc-9568-f41775075c47",
   "metadata": {},
   "outputs": [
    {
     "name": "stdout",
     "output_type": "stream",
     "text": [
      "0.027678734380945112\n",
      "0.027678734380921048\n",
      "0.027678734380913023\n",
      "0.18326997756958008\n",
      "(0.027678734380945112, 0.1553969383239746)\n"
     ]
    }
   ],
   "source": [
    "A = qp.IIDStdUniform(dimension=3)\n",
    "X = A.gen_samples(n=1024)\n",
    "print(qp.discrepancy2('l2star', X, limiter = 2**14, Time = False))\n",
    "print(qp.discrepancy('l2star', X))\n",
    "start = time.time()\n",
    "print(star_disc(X))\n",
    "end = time.time()\n",
    "print(end - start)\n",
    "\n",
    "def A(d, weight):\n",
    "    return (1 + (weight/3)).prod(axis=0)\n",
    "def B(x, weight):\n",
    "    return ((1 + (weight*(1 - x**2)/2))).prod(axis=1)\n",
    "def C(x, y, weight):\n",
    "    return (1 + weight*(1 - np.maximum(x, y))).prod(axis=2)\n",
    "print(qp.discrepancy2((A, B, C), X, limiter = 2**14, Time = True))"
   ]
  },
  {
   "cell_type": "code",
   "execution_count": null,
   "id": "7c6a6dbb-e18d-4e18-bcc2-0502733637c1",
   "metadata": {},
   "outputs": [],
   "source": [
    "import matplotlib.pyplot as plt\n",
    "\n",
    "#Go add notes to this code\n",
    "for i in range(1, 9):\n",
    "    A = qp.IIDStdUniform(dimension=i)\n",
    "    X = A.gen_samples(n=2**12)\n",
    "    min_x = []\n",
    "    min_y = []\n",
    "    max_x = []\n",
    "    max_y = []\n",
    "    mean_x = []\n",
    "    mean_y = []\n",
    "    for j in range(10, 25):\n",
    "        print(j)\n",
    "        samples = []\n",
    "        for k in range(20):\n",
    "            sol, t = qp.discrepancy2('l2star', X, limiter = 2**j, Time = True)\n",
    "            samples = samples + [t]\n",
    "        min_x = min_x + [j]\n",
    "        min_y = min_y + [min(samples)]\n",
    "        max_x = max_x + [j]\n",
    "        max_y = max_y + [max(samples)]\n",
    "        mean_x = mean_x + [j]\n",
    "        mean_y = mean_y + [np.mean(samples)]\n",
    "        \n",
    "    plt.plot(min_x, min_y, label = 'Minimum Runtime', color = 'b')\n",
    "    plt.plot(max_x, max_y, label = 'Maximum Runtime', color = 'r')\n",
    "    plt.plot(mean_x, mean_y, label = 'Mean Runtime', color = 'k')\n",
    "    plt.xlabel(\"limiter in powers of 2\")\n",
    "    plt.ylabel(\"Runtime\")\n",
    "    plt.title(\"Runtime with dimensions of \" + str(i) + ' with n = 2048 samples')\n",
    "    plt.grid(True)  # Add grid lines\n",
    "    plt.legend()\n",
    "    plt.show()   "
   ]
  },
  {
   "cell_type": "code",
   "execution_count": null,
   "id": "82324c97-53e8-4534-8a6b-424937dd5f79",
   "metadata": {},
   "outputs": [],
   "source": [
    "Claude(.001)"
   ]
  },
  {
   "cell_type": "code",
   "execution_count": null,
   "id": "ba74b8fd-69c5-4e38-b0f9-dd2ba37bc8d1",
   "metadata": {},
   "outputs": [],
   "source": [
    "A = qp.IIDStdUniform(dimension=2)\n",
    "X = A.gen_samples(n=2**12)\n",
    "print(qp.discrepancy2('l2star', X, Time = True))"
   ]
  },
  {
   "cell_type": "code",
   "execution_count": 45,
   "id": "097fadc4-6e1a-4236-a174-718fc0a6bd4d",
   "metadata": {},
   "outputs": [],
   "source": [
    "def Fred(x):\n",
    "    return .5 - ((x**2)/24) + ((x**4)/720)"
   ]
  },
  {
   "cell_type": "code",
   "execution_count": 46,
   "id": "5c651f2a-1bb8-4be9-ae0e-ad2c5d6a5f51",
   "metadata": {},
   "outputs": [
    {
     "data": {
      "text/plain": [
       "0.4999999583333347"
      ]
     },
     "execution_count": 46,
     "metadata": {},
     "output_type": "execute_result"
    }
   ],
   "source": [
    "Fred(.001)"
   ]
  },
  {
   "cell_type": "code",
   "execution_count": 14,
   "id": "1b7445db-bda5-4a64-87ab-6275fa3e6fe7",
   "metadata": {},
   "outputs": [
    {
     "data": {
      "text/plain": [
       "1"
      ]
     },
     "execution_count": 14,
     "metadata": {},
     "output_type": "execute_result"
    }
   ],
   "source": [
    "np.ceil(.1).astype('int')"
   ]
  },
  {
   "cell_type": "code",
   "execution_count": 21,
   "id": "476425f3-78b8-4b51-947e-8c95e4bd8899",
   "metadata": {},
   "outputs": [
    {
     "data": {
      "image/png": "[encoded data removed]",
      "text/plain": [
       "<Figure size 640x480 with 1 Axes>"
      ]
     },
     "metadata": {},
     "output_type": "display_data"
    }
   ],
   "source": [
    "x = [0, 1, 2, 3]\n",
    "y = [0, 1, 4, 9]\n",
    "x_1 = [0, 1, 2, 3]\n",
    "y_1 = [0, 1, 8, 27]\n",
    "\n",
    "# Create the plot\n",
    "plt.plot(x, y)\n",
    "plt.plot(x_1, y_1)\n",
    "plt.xlabel(\"X-axis\")\n",
    "plt.ylabel(\"Y-axis\")\n",
    "plt.title(\"2D Graph Example\")\n",
    "plt.grid(True)  # Add grid lines\n",
    "plt.show()"
   ]
  },
  {
   "cell_type": "code",
   "execution_count": 6,
   "id": "d0e50f5f-1191-4f10-aa3e-b0e5b6859c7c",
   "metadata": {},
   "outputs": [
    {
     "name": "stdout",
     "output_type": "stream",
     "text": [
      "16.0\n"
     ]
    }
   ],
   "source": [
    "a = 2 * np.ones(4)\n",
    "print(a.prod())"
   ]
  },
  {
   "cell_type": "code",
   "execution_count": 7,
   "id": "b40f7397-0995-4603-9fcb-a84c8f8c1987",
   "metadata": {},
   "outputs": [
    {
     "name": "stdout",
     "output_type": "stream",
     "text": [
      "[0 1 3]\n"
     ]
    }
   ],
   "source": [
    "a = np.array([0, 1, 3])\n",
    "print(a)"
   ]
  },
  {
   "cell_type": "code",
   "execution_count": 8,
   "id": "314a6998-74c5-4135-8ea2-34d74d9f6a1e",
   "metadata": {},
   "outputs": [
    {
     "name": "stdout",
     "output_type": "stream",
     "text": [
      "[]\n"
     ]
    }
   ],
   "source": [
    "print(np.ones(a))"
   ]
  },
  {
   "cell_type": "code",
   "execution_count": 9,
   "id": "5c93ac12-187d-4c0e-90db-836449bba36f",
   "metadata": {},
   "outputs": [
    {
     "name": "stdout",
     "output_type": "stream",
     "text": [
      "[nan  1.  1.]\n"
     ]
    },
    {
     "name": "stderr",
     "output_type": "stream",
     "text": [
      "C:\\Users\\cdhjr\\AppData\\Local\\Temp\\ipykernel_22928\\375981717.py:1\n",
      "\tRuntimeWarning: invalid value encountered in divide\n"
     ]
    }
   ],
   "source": [
    "print(a/a)"
   ]
  },
  {
   "cell_type": "code",
   "execution_count": null,
   "id": "7146b416-0e2a-4f71-87f8-004116777674",
   "metadata": {},
   "outputs": [],
   "source": []
  }
 ],
 "metadata": {
  "kernelspec": {
   "display_name": "Python 3 (ipykernel)",
   "language": "python",
   "name": "python3"
  },
  "language_info": {
   "codemirror_mode": {
    "name": "ipython",
    "version": 3
   },
   "file_extension": ".py",
   "mimetype": "text/x-python",
   "name": "python",
   "nbconvert_exporter": "python",
   "pygments_lexer": "ipython3",
   "version": "3.9.13"
  }
 },
 "nbformat": 4,
 "nbformat_minor": 5
}
