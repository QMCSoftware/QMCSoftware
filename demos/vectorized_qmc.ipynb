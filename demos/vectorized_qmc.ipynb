{
 "cells": [
  {
   "cell_type": "markdown",
   "id": "ce064a42",
   "metadata": {},
   "source": [
    "# Vectorized QMC "
   ]
  },
  {
   "cell_type": "code",
   "execution_count": 1,
   "id": "484d4c41",
   "metadata": {},
   "outputs": [],
   "source": [
    "import qmcpy as qp\n",
    "import numpy as np"
   ]
  },
  {
   "cell_type": "code",
   "execution_count": 2,
   "id": "9bf10463",
   "metadata": {},
   "outputs": [],
   "source": [
    "from matplotlib import pyplot\n",
    "pyplot.style.use('../qmcpy.mplstyle')\n",
    "%matplotlib inline\n",
    "root = '../_ags/vec_qmc_out/'"
   ]
  },
  {
   "cell_type": "markdown",
   "id": "728a1c89",
   "metadata": {},
   "source": [
    "## LD Sequence"
   ]
  },
  {
   "cell_type": "code",
   "execution_count": 3,
   "id": "fabaf64c",
   "metadata": {},
   "outputs": [
    {
     "data": {
      "image/png": "[encoded data removed]",
      "text/plain": [
       "<Figure size 576x288 with 3 Axes>"
      ]
     },
     "metadata": {
      "needs_background": "light"
     },
     "output_type": "display_data"
    }
   ],
   "source": [
    "n = 2**8\n",
    "s = 5\n",
    "fig,ax = pyplot.subplots(figsize=(8,4),nrows=1,ncols=3)\n",
    "for i,(dd,name) in enumerate(zip(\n",
    "    [qp.IIDStdUniform(2,seed=7),qp.DigitalNetB2(2,seed=7),qp.Lattice(2,seed=7)],\n",
    "    ['IID','Randomized Digital Net (LD)','Randomized Lattice (LD)'])):\n",
    "    pts = dd.gen_samples(n)\n",
    "    ax[i].scatter(pts[0:n//4,0],pts[0:n//4,1],color='cyan',s=s)\n",
    "    ax[i].scatter(pts[n//4:n//2,0],pts[n//4:n//2,1],color='magenta',s=s)\n",
    "    ax[i].scatter(pts[n//2:n,0],pts[n//2:n,1],color='xkcd:green apple',s=s)\n",
    "    ax[i].set_aspect(1)\n",
    "    ax[i].set_xlabel(r'$x_{1}$')\n",
    "    ax[i].set_ylabel(r'$x_{2}$')\n",
    "    ax[i].set_xlim([0,1])\n",
    "    ax[i].set_ylim([0,1])\n",
    "    ax[i].set_xticks([0,.25,.5,.75,1])\n",
    "    ax[i].set_xticklabels([r'$0$',r'$1/4$',r'$1/2$',r'$3/4$',r'$1$'])\n",
    "    ax[i].set_yticks([0,.25,.5,.75,1])\n",
    "    ax[i].set_yticklabels([r'$0$',r'$1/4$',r'$1/2$',r'$3/4$',r'$1$'])\n",
    "    ax[i].set_title(name)\n",
    "if root: fig.savefig(root+'ld_seqs.pdf',transparent=True)"
   ]
  },
  {
   "cell_type": "markdown",
   "id": "1aa7b935",
   "metadata": {},
   "source": [
    "## Simple Example"
   ]
  },
  {
   "cell_type": "code",
   "execution_count": 4,
   "id": "df5b8a1b",
   "metadata": {},
   "outputs": [
    {
     "name": "stdout",
     "output_type": "stream",
     "text": [
      "[15.00012468]\n"
     ]
    }
   ],
   "source": [
    "discrete_distrib = qp.Lattice(dimension=2,seed=7)\n",
    "true_measure = qp.Gaussian(\n",
    "    sampler = discrete_distrib,\n",
    "    mean = [0,1],\n",
    "    covariance = [[9,4],[4,5]])\n",
    "integrand = qp.CustomFun(\n",
    "    true_measure = true_measure,\n",
    "    g = lambda t: (t**2).sum(1))\n",
    "qmc_stop_crit = qp.CubQMCLatticeG(\n",
    "    integrand = integrand,\n",
    "    abs_tol = 1e-3,\n",
    "    rel_tol = 0)\n",
    "solution,data = qmc_stop_crit.integrate()\n",
    "print(solution)"
   ]
  },
  {
   "cell_type": "code",
   "execution_count": 5,
   "id": "9f7d9f1e",
   "metadata": {},
   "outputs": [
    {
     "name": "stdout",
     "output_type": "stream",
     "text": [
      "LDTransformData (AccumulateData Object)\n",
      "    solution        15.000\n",
      "    indv_error      7.45e-04\n",
      "    ci_low          14.999\n",
      "    ci_high         15.001\n",
      "    ci_comb_low     14.999\n",
      "    ci_comb_high    15.001\n",
      "    flags_comb      1\n",
      "    flags_indv      1\n",
      "    n_total         2^(17)\n",
      "    n               2^(17)\n",
      "    time_integrate  0.096\n",
      "CubQMCLatticeG (StoppingCriterion Object)\n",
      "    abs_tol         0.001\n",
      "    rel_tol         0\n",
      "    n_init          2^(10)\n",
      "    n_max           2^(35)\n",
      "CustomFun (Integrand Object)\n",
      "Gaussian (TrueMeasure Object)\n",
      "    mean            [0 1]\n",
      "    covariance      [[9 4]\n",
      "                    [4 5]]\n",
      "    decomp_type     PCA\n",
      "Lattice (DiscreteDistribution Object)\n",
      "    d               2^(1)\n",
      "    dvec            [0 1]\n",
      "    randomize       1\n",
      "    order           natural\n",
      "    entropy         7\n",
      "    spawn_key       ()\n"
     ]
    }
   ],
   "source": [
    "print(data)"
   ]
  },
  {
   "cell_type": "markdown",
   "id": "4573dad8",
   "metadata": {},
   "source": [
    "## BO QEI\n",
    "\n",
    "See the [QEI Demo in QMCPy](https://qmcpy.readthedocs.io/en/latest/demo_rst/qei-demo-for-blog.html) or the [BoTorch Acquision documentation](https://botorch.org/docs/acquisition) for details on Bayesian Optimization using q-Expected Improvement."
   ]
  },
  {
   "cell_type": "code",
   "execution_count": 6,
   "id": "4a88842d",
   "metadata": {},
   "outputs": [
    {
     "name": "stdout",
     "output_type": "stream",
     "text": [
      "LDTransformData (AccumulateData Object)\n",
      "    solution        [[0.06  0.079 0.072 ... 0.06  0.06  0.067]\n",
      "                    [0.079 0.064 0.067 ... 0.064 0.065 0.071]\n",
      "                    [0.072 0.067 0.032 ... 0.032 0.033 0.039]\n",
      "                    ...\n",
      "                    [0.06  0.064 0.032 ... 0.    0.001 0.007]\n",
      "                    [0.06  0.065 0.033 ... 0.    0.001 0.007]\n",
      "                    [0.066 0.07  0.039 ... 0.007 0.007 0.007]]\n",
      "    indv_error      [[1.123e-03 1.109e-03 1.206e-03 ... 1.134e-03 1.143e-03 1.273e-03]\n",
      "                    [1.064e-03 8.932e-04 9.488e-04 ... 9.227e-04 9.229e-04 1.149e-03]\n",
      "                    [1.168e-03 9.013e-04 5.111e-04 ... 5.245e-04 5.245e-04 1.020e-03]\n",
      "                    ...\n",
      "                    [1.123e-03 8.932e-04 5.135e-04 ... 0.000e+00 1.019e-04 9.700e-04]\n",
      "                    [1.123e-03 8.967e-04 5.212e-04 ... 6.962e-05 9.074e-05 9.342e-04]\n",
      "                    [1.248e-03 1.084e-03 9.571e-04 ... 9.174e-04 8.748e-04 1.026e-03]]\n",
      "    ci_low          [[0.059 0.078 0.071 ... 0.058 0.059 0.065]\n",
      "                    [0.078 0.063 0.066 ... 0.063 0.064 0.07 ]\n",
      "                    [0.071 0.066 0.032 ... 0.032 0.032 0.038]\n",
      "                    ...\n",
      "                    [0.059 0.063 0.032 ... 0.    0.001 0.006]\n",
      "                    [0.059 0.064 0.032 ... 0.    0.    0.006]\n",
      "                    [0.065 0.069 0.038 ... 0.006 0.006 0.006]]\n",
      "    ci_high         [[0.061 0.08  0.073 ... 0.061 0.061 0.068]\n",
      "                    [0.08  0.065 0.068 ... 0.065 0.066 0.072]\n",
      "                    [0.073 0.068 0.033 ... 0.033 0.033 0.04 ]\n",
      "                    ...\n",
      "                    [0.061 0.065 0.033 ... 0.    0.001 0.008]\n",
      "                    [0.061 0.065 0.033 ... 0.001 0.001 0.008]\n",
      "                    [0.067 0.072 0.04  ... 0.008 0.008 0.008]]\n",
      "    ci_comb_low     [[0.059 0.078 0.071 ... 0.058 0.059 0.065]\n",
      "                    [0.078 0.063 0.066 ... 0.063 0.064 0.07 ]\n",
      "                    [0.071 0.066 0.032 ... 0.032 0.032 0.038]\n",
      "                    ...\n",
      "                    [0.059 0.063 0.032 ... 0.    0.001 0.006]\n",
      "                    [0.059 0.064 0.032 ... 0.    0.    0.006]\n",
      "                    [0.065 0.069 0.038 ... 0.006 0.006 0.006]]\n",
      "    ci_comb_high    [[0.061 0.08  0.073 ... 0.061 0.061 0.068]\n",
      "                    [0.08  0.065 0.068 ... 0.065 0.066 0.072]\n",
      "                    [0.073 0.068 0.033 ... 0.033 0.033 0.04 ]\n",
      "                    ...\n",
      "                    [0.061 0.065 0.033 ... 0.    0.001 0.008]\n",
      "                    [0.061 0.065 0.033 ... 0.001 0.001 0.008]\n",
      "                    [0.067 0.072 0.04  ... 0.008 0.008 0.008]]\n",
      "    flags_comb      [[ True  True  True ...  True  True  True]\n",
      "                    [ True  True  True ...  True  True  True]\n",
      "                    [ True  True  True ...  True  True  True]\n",
      "                    ...\n",
      "                    [ True  True  True ...  True  True  True]\n",
      "                    [ True  True  True ...  True  True  True]\n",
      "                    [ True  True  True ...  True  True  True]]\n",
      "    flags_indv      [[ True  True  True ...  True  True  True]\n",
      "                    [ True  True  True ...  True  True  True]\n",
      "                    [ True  True  True ...  True  True  True]\n",
      "                    ...\n",
      "                    [ True  True  True ...  True  True  True]\n",
      "                    [ True  True  True ...  True  True  True]\n",
      "                    [ True  True  True ...  True  True  True]]\n",
      "    n_total         2^(10)\n",
      "    n               [[1024. 1024. 1024. ... 1024. 1024. 1024.]\n",
      "                    [1024. 1024. 1024. ... 1024. 1024. 1024.]\n",
      "                    [1024. 1024. 1024. ... 1024. 1024. 1024.]\n",
      "                    ...\n",
      "                    [1024. 1024. 1024. ... 1024. 1024. 1024.]\n",
      "                    [1024. 1024. 1024. ... 1024. 1024. 1024.]\n",
      "                    [1024. 1024. 1024. ... 1024. 1024. 1024.]]\n",
      "    time_integrate  6.373\n",
      "CubQMCNetG (StoppingCriterion Object)\n",
      "    abs_tol         0.025\n",
      "    rel_tol         0\n",
      "    n_init          2^(10)\n",
      "    n_max           2^(35)\n",
      "CustomFun (Integrand Object)\n",
      "Uniform (TrueMeasure Object)\n",
      "    lower_bound     0\n",
      "    upper_bound     1\n",
      "DigitalNetB2 (DiscreteDistribution Object)\n",
      "    d               2^(1)\n",
      "    dvec            [0 1]\n",
      "    randomize       LMS_DS\n",
      "    graycode        0\n",
      "    entropy         7\n",
      "    spawn_key       ()\n"
     ]
    }
   ],
   "source": [
    "import scipy\n",
    "from sklearn.gaussian_process import GaussianProcessRegressor,kernels\n",
    "\n",
    "f = lambda x: np.cos(10*x)*np.exp(.2*x)+np.exp(-5*(x-.4)**2)\n",
    "xplt = np.linspace(0,1,100)\n",
    "yplt = f(xplt)\n",
    "x = np.array([.1, .2, .4, .7, .9])\n",
    "y = f(x)\n",
    "ymax = y.max()\n",
    "\n",
    "gp = GaussianProcessRegressor(kernel=kernels.RBF(length_scale=1.0,length_scale_bounds=(1e-2, 1e2)),\n",
    "    n_restarts_optimizer = 16).fit(x[:,None],y)\n",
    "yhatplt,stdhatplt = gp.predict(xplt[:,None],return_std=True)\n",
    "\n",
    "tpax = 32\n",
    "x0mesh,x1mesh = np.meshgrid(np.linspace(0,1,tpax),np.linspace(0,1,tpax))\n",
    "post_mus = np.zeros((tpax,tpax,2),dtype=float)\n",
    "post_sqrtcovs = np.zeros((tpax,tpax,2,2),dtype=float)\n",
    "for j0 in range(tpax):\n",
    "    for j1 in range(tpax):\n",
    "        candidate = np.array([[x0mesh[j0,j1]],[x1mesh[j0,j1]]])\n",
    "        post_mus[j0,j1],post_cov = gp.predict(candidate,return_cov=True)\n",
    "        evals,evecs = scipy.linalg.eig(post_cov)\n",
    "        post_sqrtcovs[j0,j1] = np.sqrt(np.maximum(evals.real,0))*evecs\n",
    "\n",
    "def qei_acq_vec(x,compute_flags):\n",
    "    xgauss = scipy.stats.norm.ppf(x)\n",
    "    n = len(x)\n",
    "    qei_vals = np.zeros((n,tpax,tpax),dtype=float)\n",
    "    for j0 in range(tpax):\n",
    "        for j1 in range(tpax):\n",
    "            if compute_flags[j0,j1]==False: continue\n",
    "            sqrt_cov = post_sqrtcovs[j0,j1]\n",
    "            mu_post = post_mus[j0,j1]\n",
    "            for i in range(len(x)):\n",
    "                yij = sqrt_cov@xgauss[i]+mu_post\n",
    "                qei_vals[i,j0,j1] = max((yij-ymax).max(),0)\n",
    "    return qei_vals\n",
    "\n",
    "qei_acq_vec_qmcpy = qp.CustomFun(\n",
    "    true_measure = qp.Uniform(qp.DigitalNetB2(2,seed=7)),\n",
    "    g = qei_acq_vec,\n",
    "    rho = (tpax,tpax),\n",
    "    parallel=False)\n",
    "qei_vals,qei_data = qp.CubQMCNetG(qei_acq_vec_qmcpy,abs_tol=.025,rel_tol=0).integrate() # .0005\n",
    "print(qei_data)\n",
    "\n",
    "a = np.unravel_index(np.argmax(qei_vals,axis=None),qei_vals.shape)\n",
    "xnext = np.array([x0mesh[a[0],a[1]],x1mesh[a[0],a[1]]])\n",
    "fnext = f(xnext)"
   ]
  },
  {
   "cell_type": "code",
   "execution_count": 7,
   "id": "a5938bf4",
   "metadata": {},
   "outputs": [
    {
     "data": {
      "image/png": "[encoded data removed]",
      "text/plain": [
       "<Figure size 576x288 with 2 Axes>"
      ]
     },
     "metadata": {
      "needs_background": "light"
     },
     "output_type": "display_data"
    }
   ],
   "source": [
    "fig,ax = pyplot.subplots(nrows=1,ncols=2,figsize=(8,4))\n",
    "ax[0].scatter(x,y,color='c',label='Query Points')\n",
    "ax[0].plot(xplt,yplt,color='c',label='True function',linewidth=1)\n",
    "ax[0].plot(xplt,yhatplt,color='xkcd:green apple',label='GP Mean',linewidth=1)\n",
    "ax[0].fill_between(xplt,yhatplt-1.96*stdhatplt,yhatplt+1.96*stdhatplt,color='xkcd:green apple',alpha=.25,label='95% CI')\n",
    "ax[0].scatter(xnext,fnext,color='m')\n",
    "ax[0].set_xlim([0,1])\n",
    "ax[0].set_xticks([0,1])\n",
    "ax[0].set_xlabel(r'$x$')\n",
    "ax[0].set_ylabel(r'$y$')\n",
    "fig.legend(labels=['data','true function','posterior mean',r'95\\% CI','next points by QEI'],loc='lower center',bbox_to_anchor=(.5,-.05),ncol=5)\n",
    "contour = ax[1].contourf(x0mesh,x1mesh,qei_vals)\n",
    "ax[1].scatter([xnext[0]],[xnext[1]],color='m')\n",
    "#fig.colorbar(contour,ax=None,shrink=0.5,aspect=5)\n",
    "#ax[1].scatter(x0mesh.flatten(),x1mesh.flatten(),color='m',alpha=.25,s=1)\n",
    "ax[1].set_xlim([0,1])\n",
    "ax[1].set_xticks([0,1])\n",
    "ax[1].set_ylim([0,1])\n",
    "ax[1].set_yticks([0,1])\n",
    "ax[1].set_xlabel(r'$x_1$')\n",
    "ax[1].set_ylabel(r'$x_2$')\n",
    "if root: fig.savefig(root+'gp.pdf',transparent=True)"
   ]
  },
  {
   "cell_type": "markdown",
   "id": "537cf7f0",
   "metadata": {},
   "source": [
    "## Bayesian Logistic Regression"
   ]
  },
  {
   "cell_type": "code",
   "execution_count": 8,
   "id": "2c109b39",
   "metadata": {
    "scrolled": false
   },
   "outputs": [],
   "source": [
    "import pandas as pd\n",
    "from sklearn.model_selection import train_test_split\n",
    "df = pd.read_csv('https://archive.ics.uci.edu/ml/machine-learning-databases/haberman/haberman.data',header=None)\n",
    "df.columns = ['Age','1900 Year','Axillary Nodes','Survival Status']\n",
    "df.loc[df['Survival Status']==2,'Survival Status'] = 0\n",
    "x,y = df[['Age','1900 Year','Axillary Nodes']],df['Survival Status']\n",
    "xt,xv,yt,yv = train_test_split(x,y,test_size=.33,random_state=7)"
   ]
  },
  {
   "cell_type": "code",
   "execution_count": 9,
   "id": "c7372124",
   "metadata": {},
   "outputs": [
    {
     "name": "stdout",
     "output_type": "stream",
     "text": [
      "   Age  1900 Year  Axillary Nodes  Survival Status\n",
      "0   30         64               1                1\n",
      "1   30         62               3                1\n",
      "2   30         65               0                1\n",
      "3   31         59               2                1\n",
      "4   31         65               4                1 \n",
      "\n",
      "              Age   1900 Year  Axillary Nodes\n",
      "count  306.000000  306.000000      306.000000\n",
      "mean    52.457516   62.852941        4.026144\n",
      "std     10.803452    3.249405        7.189654\n",
      "min     30.000000   58.000000        0.000000\n",
      "25%     44.000000   60.000000        0.000000\n",
      "50%     52.000000   63.000000        1.000000\n",
      "75%     60.750000   65.750000        4.000000\n",
      "max     83.000000   69.000000       52.000000 \n",
      "\n",
      "count     306\n",
      "unique      2\n",
      "top         1\n",
      "freq      225\n",
      "Name: Survival Status, dtype: object\n",
      "\n",
      "train samples: 205 test samples: 101\n",
      "\n",
      "train positives 151   train negatives: 54\n",
      " test positives 74    test negatives: 27\n"
     ]
    }
   ],
   "source": [
    "print(df.head(),'\\n')\n",
    "print(df[['Age','1900 Year','Axillary Nodes']].describe(),'\\n')\n",
    "print(df['Survival Status'].astype(str).describe())\n",
    "print('\\ntrain samples: %d test samples: %d\\n'%(len(xt),len(xv)))\n",
    "print('train positives %d   train negatives: %d'%(np.sum(yt==1),np.sum(yt==0)))\n",
    "print(' test positives %d    test negatives: %d'%(np.sum(yv==1),np.sum(yv==0)))"
   ]
  },
  {
   "cell_type": "code",
   "execution_count": 10,
   "id": "2cc71af8",
   "metadata": {},
   "outputs": [
    {
     "name": "stdout",
     "output_type": "stream",
     "text": [
      "LDTransformData (AccumulateData Object)\n",
      "    solution        [-0.004  0.13  -0.157  0.008]\n",
      "    indv_error      [[4.165e-166 1.126e-164 3.129e-061 9.375e-099]\n",
      "                    [8.956e-164 8.956e-164 2.094e-060 1.038e-096]]\n",
      "    ci_low          [[-3.082e-165  6.079e-164 -2.316e-060  5.063e-098]\n",
      "                    [ 4.836e-163  4.836e-163  1.131e-059  5.608e-096]]\n",
      "    ci_high         [[-2.249e-165  8.331e-164 -1.690e-060  6.938e-098]\n",
      "                    [ 6.628e-163  6.628e-163  1.550e-059  7.684e-096]]\n",
      "    ci_comb_low     [-0.006  0.092 -0.205  0.007]\n",
      "    ci_comb_high    [-0.003  0.172 -0.109  0.012]\n",
      "    flags_comb      [ True  True  True  True]\n",
      "    flags_indv      [[ True  True  True  True]\n",
      "                    [ True  True  True  True]]\n",
      "    n_total         2^(18)\n",
      "    n               [[  1024.   1024. 262144.   2048.]\n",
      "                    [  1024.   1024. 262144.   2048.]]\n",
      "    time_integrate  2.099\n",
      "CubQMCNetG (StoppingCriterion Object)\n",
      "    abs_tol         0.050\n",
      "    rel_tol         2^(-1)\n",
      "    n_init          2^(10)\n",
      "    n_max           2^(19)\n",
      "BayesianLRCoeffs (Integrand Object)\n",
      "Gaussian (TrueMeasure Object)\n",
      "    mean            0\n",
      "    covariance      5\n",
      "    decomp_type     PCA\n",
      "DigitalNetB2 (DiscreteDistribution Object)\n",
      "    d               2^(2)\n",
      "    dvec            [0 1 2 3]\n",
      "    randomize       LMS_DS\n",
      "    graycode        0\n",
      "    entropy         7\n",
      "    spawn_key       ()\n"
     ]
    }
   ],
   "source": [
    "blr = qp.BayesianLRCoeffs(\n",
    "    sampler = qp.DigitalNetB2(4,seed=7),\n",
    "    feature_array = xt,\n",
    "    response_vector = yt,\n",
    "    prior_mean = 0,\n",
    "    prior_covariance = 5)\n",
    "qmc_sc = qp.CubQMCNetG(blr,\n",
    "    abs_tol = .05,\n",
    "    rel_tol = .5,\n",
    "    error_fun = lambda s,abs_tol,rel_tol: np.minimum(abs_tol,abs(s)*rel_tol),\n",
    "    n_max = 2**19)\n",
    "blr_coefs,blr_data = qmc_sc.integrate()\n",
    "print(blr_data)\n",
    "# LDTransformData (AccumulateData Object)\n",
    "#     solution        [-0.004  0.13  -0.157  0.008]\n",
    "#     indv_error      [[4.165e-166 1.126e-164 3.129e-061 9.375e-099]\n",
    "#                     [8.956e-164 8.956e-164 2.094e-060 1.038e-096]]\n",
    "#     ci_low          [[-3.082e-165  6.079e-164 -2.316e-060  5.063e-098]\n",
    "#                     [ 4.836e-163  4.836e-163  1.131e-059  5.608e-096]]\n",
    "#     ci_high         [[-2.249e-165  8.331e-164 -1.690e-060  6.938e-098]\n",
    "#                     [ 6.628e-163  6.628e-163  1.550e-059  7.684e-096]]\n",
    "#     ci_comb_low     [-0.006  0.092 -0.205  0.007]\n",
    "#     ci_comb_high    [-0.003  0.172 -0.109  0.012]\n",
    "#     flags_comb      [ True  True  True  True]\n",
    "#     flags_indv      [[ True  True  True  True]\n",
    "#                     [ True  True  True  True]]\n",
    "#     n_total         2^(18)\n",
    "#     n               [[  1024.   1024. 262144.   2048.]\n",
    "#                     [  1024.   1024. 262144.   2048.]]\n",
    "#     time_integrate  2.239"
   ]
  },
  {
   "cell_type": "code",
   "execution_count": 11,
   "id": "9aeee8bf",
   "metadata": {},
   "outputs": [
    {
     "name": "stdout",
     "output_type": "stream",
     "text": [
      "                              Age  1900 Year  Axillary Nodes  Intercept  \\\n",
      "method                                                                    \n",
      "Elastic-Net \\lambda=0.0 -0.012279   0.034401       -0.115153   0.001990   \n",
      "Elastic-Net \\lambda=0.5 -0.012041   0.034170       -0.114770   0.002025   \n",
      "Elastic-Net \\lambda=1.0 -0.011803   0.033940       -0.114387   0.002061   \n",
      "Bayesian                -0.004138   0.129921       -0.156901   0.008034   \n",
      "\n",
      "                         Accuracy  Precision    Recall  \n",
      "method                                                  \n",
      "Elastic-Net \\lambda=0.0  0.742574   0.766667  0.932432  \n",
      "Elastic-Net \\lambda=0.5  0.742574   0.766667  0.932432  \n",
      "Elastic-Net \\lambda=1.0  0.742574   0.766667  0.932432  \n",
      "Bayesian                 0.742574   0.740000  1.000000  \n"
     ]
    }
   ],
   "source": [
    "from sklearn.linear_model import LogisticRegression\n",
    "def metrics(y,yhat):\n",
    "    y,yhat = np.array(y),np.array(yhat)\n",
    "    tp = np.sum((y==1)*(yhat==1))\n",
    "    tn = np.sum((y==0)*(yhat==0))\n",
    "    fp = np.sum((y==0)*(yhat==1))\n",
    "    fn = np.sum((y==1)*(yhat==0))\n",
    "    accuracy = (tp+tn)/(len(y))\n",
    "    precision = tp/(tp+fp)\n",
    "    recall = tp/(tp+fn)\n",
    "    return [accuracy,precision,recall]\n",
    "\n",
    "results = pd.DataFrame({name:[] for name in ['method','Age','1900 Year','Axillary Nodes','Intercept','Accuracy','Precision','Recall']})\n",
    "for i,l1_ratio in enumerate([0,.5,1]):\n",
    "    lr = LogisticRegression(random_state=7,penalty=\"elasticnet\",solver='saga',l1_ratio=l1_ratio).fit(xt,yt)\n",
    "    results.loc[i] = [r'Elastic-Net \\lambda=%.1f'%l1_ratio]+lr.coef_.squeeze().tolist()+[lr.intercept_.item()]+metrics(yv,lr.predict(xv))\n",
    "\n",
    "blr_predict = lambda x: 1/(1+np.exp(-np.array(x)@blr_coefs[:-1]-blr_coefs[-1]))>=.5\n",
    "blr_train_accuracy = np.mean(blr_predict(xt)==yt)\n",
    "blr_test_accuracy = np.mean(blr_predict(xv)==yv)\n",
    "results.loc[len(results)] = ['Bayesian']+blr_coefs.squeeze().tolist()+metrics(yv,blr_predict(xv))\n",
    "\n",
    "import warnings\n",
    "warnings.simplefilter('ignore',FutureWarning)\n",
    "results.set_index('method',inplace=True)\n",
    "print(results.head())\n",
    "root: results.to_latex(root+'lr_table.tex',formatters={'%s'%tt:lambda v:'%.1f'%(100*v) for tt in ['accuracy','precision','recall']},float_format=\"%.2e\")"
   ]
  },
  {
   "cell_type": "markdown",
   "id": "d1002afa",
   "metadata": {},
   "source": [
    "## Sensitivity Indices"
   ]
  },
  {
   "cell_type": "markdown",
   "id": "0c871796",
   "metadata": {},
   "source": [
    "### Ishigami Function"
   ]
  },
  {
   "cell_type": "code",
   "execution_count": 12,
   "id": "d8e52264",
   "metadata": {},
   "outputs": [
    {
     "name": "stdout",
     "output_type": "stream",
     "text": [
      "LDTransformData (AccumulateData Object)\n",
      "    solution        [[0.316 0.443 0.    0.758 0.559 0.443]\n",
      "                    [0.562 0.436 0.239 0.99  0.557 0.684]]\n",
      "    indv_error      [[0.097 0.047 0.132 0.067 0.107 0.124]\n",
      "                    [0.086 0.014 0.072 0.156 0.063 0.066]\n",
      "                    [0.003 0.003 0.011 0.001 0.003 0.003]\n",
      "                    [0.003 0.011 0.011 0.003 0.003 0.003]\n",
      "                    [0.121 0.121 0.221 0.041 0.121 0.121]\n",
      "                    [0.121 0.221 0.221 0.121 0.121 0.121]]\n",
      "    ci_low          [[ 4.294  6.103 -0.417 10.424  7.647  6.026]\n",
      "                    [ 7.711  6.111  3.279 13.756  7.673  9.423]\n",
      "                    [ 3.497  3.497  3.489  3.499  3.497  3.497]\n",
      "                    [ 3.497  3.489  3.489  3.497  3.497  3.497]\n",
      "                    [26.01  26.01  26.089 26.055 26.01  26.01 ]\n",
      "                    [26.01  26.089 26.089 26.01  26.01  26.01 ]]\n",
      "    ci_high         [[ 4.489  6.196 -0.153 10.559  7.861  6.273]\n",
      "                    [ 7.884  6.138  3.423 14.069  7.8    9.555]\n",
      "                    [ 3.504  3.504  3.511  3.501  3.504  3.504]\n",
      "                    [ 3.504  3.511  3.511  3.504  3.504  3.504]\n",
      "                    [26.251 26.251 26.53  26.136 26.251 26.251]\n",
      "                    [26.251 26.53  26.53  26.251 26.251 26.251]]\n",
      "    ci_comb_low     [[0.306 0.435 0.    0.75  0.545 0.43 ]\n",
      "                    [0.55  0.426 0.228 0.981 0.547 0.672]]\n",
      "    ci_comb_high    [[0.327 0.451 0.    0.765 0.572 0.457]\n",
      "                    [0.574 0.446 0.249 1.    0.568 0.696]]\n",
      "    flags_comb      [[ True  True  True  True  True  True]\n",
      "                    [ True  True  True  True  True  True]]\n",
      "    flags_indv      [[ True  True  True  True  True  True]\n",
      "                    [ True  True  True  True  True  True]\n",
      "                    [ True  True  True  True  True  True]\n",
      "                    [ True  True  True  True  True  True]\n",
      "                    [ True  True  True  True  True  True]\n",
      "                    [ True  True  True  True  True  True]]\n",
      "    n_total         2^(12)\n",
      "    n               [[2048. 2048. 1024. 4096. 2048. 2048.]\n",
      "                    [2048. 1024. 1024. 2048. 2048. 2048.]\n",
      "                    [2048. 2048. 1024. 4096. 2048. 2048.]\n",
      "                    [2048. 1024. 1024. 2048. 2048. 2048.]\n",
      "                    [2048. 2048. 1024. 4096. 2048. 2048.]\n",
      "                    [2048. 1024. 1024. 2048. 2048. 2048.]]\n",
      "    time_integrate  0.055\n",
      "CubQMCNetG (StoppingCriterion Object)\n",
      "    abs_tol         0.015\n",
      "    rel_tol         0\n",
      "    n_init          2^(10)\n",
      "    n_max           2^(35)\n",
      "SensitivityIndices (Integrand Object)\n",
      "    indices         [[0], [1], [2], [0, 1], [0, 2], [1, 2]]\n",
      "    n_multiplier    6\n",
      "Uniform (TrueMeasure Object)\n",
      "    lower_bound     -3.142\n",
      "    upper_bound     3.142\n",
      "DigitalNetB2 (DiscreteDistribution Object)\n",
      "    d               6\n",
      "    dvec            [0 1 2 3 4 5]\n",
      "    randomize       LMS_DS\n",
      "    graycode        0\n",
      "    entropy         7\n",
      "    spawn_key       (0,)\n",
      "\n",
      "Approx took 0.1 sec and n = 2^(12)\n",
      "\t si_closed: [0.31647742 0.44311666 0.         0.75781502 0.55879049 0.44318272]\n",
      "\t si_total: [0.56187279 0.43583295 0.23855184 0.99038658 0.55747593 0.68375404]\n",
      "\t ci_comb_low_closed: [0.30614776 0.43513496 0.         0.75035592 0.5452501  0.42963664]\n",
      "\t ci_comb_high_closed: [0.32680708 0.45109836 0.         0.76527412 0.57233089 0.4567288 ]\n",
      "\t ci_comb_low_total: [0.54977373 0.42560848 0.22838115 0.98077316 0.54708234 0.6718476 ]\n",
      "\t ci_comb_high_total: [0.57397185 0.44605742 0.24872253 1.         0.56786952 0.69566048]\n"
     ]
    }
   ],
   "source": [
    "a,b = 7,0.1\n",
    "dnb2 = qp.DigitalNetB2(3,seed=7)\n",
    "ishigami = qp.Ishigami(dnb2,a,b)\n",
    "idxs =[[0], [1], [2], [0,1], [0,2], [1,2]]\n",
    "ishigami_si = qp.SensitivityIndices(ishigami,idxs)\n",
    "qmc_algo = qp.CubQMCNetG(ishigami_si,abs_tol=.015)\n",
    "solution,data = qmc_algo.integrate()\n",
    "print(data)\n",
    "si_closed = solution[0].squeeze()\n",
    "si_total = solution[1].squeeze()\n",
    "ci_comb_low_closed = data.ci_comb_low[0].squeeze()\n",
    "ci_comb_high_closed = data.ci_comb_high[0].squeeze()\n",
    "ci_comb_low_total = data.ci_comb_low[1].squeeze()\n",
    "ci_comb_high_total = data.ci_comb_high[1].squeeze()\n",
    "print(\"\\nApprox took %.1f sec and n = 2^(%d)\"%\n",
    "    (data.time_integrate,np.log2(data.n_total)))\n",
    "print('\\t si_closed:',si_closed)\n",
    "print('\\t si_total:',si_total)\n",
    "print('\\t ci_comb_low_closed:',ci_comb_low_closed)\n",
    "print('\\t ci_comb_high_closed:',ci_comb_high_closed)\n",
    "print('\\t ci_comb_low_total:',ci_comb_low_total)\n",
    "print('\\t ci_comb_high_total:',ci_comb_high_total)\n",
    "\n",
    "true_indices = qp.Ishigami._exact_sensitivity_indices(idxs,a,b)\n",
    "si_closed_true = true_indices[0]\n",
    "si_total_true = true_indices[1]"
   ]
  },
  {
   "cell_type": "code",
   "execution_count": 13,
   "id": "b2232e67",
   "metadata": {},
   "outputs": [
    {
     "data": {
      "image/png": "[encoded data removed]",
      "text/plain": [
       "<Figure size 576x288 with 1 Axes>"
      ]
     },
     "metadata": {
      "needs_background": "light"
     },
     "output_type": "display_data"
    }
   ],
   "source": [
    "fig,ax = pyplot.subplots(figsize=(8,4))\n",
    "ax.grid(False)\n",
    "for spine in ['top','left','right']: ax.spines[spine].set_visible(False)\n",
    "width = .75\n",
    "ax.errorbar(fmt='none',color='r',\n",
    "    x = 1-si_total_true,\n",
    "    y = np.arange(len(si_closed)),\n",
    "    xerr = 0,\n",
    "    yerr = width/2,\n",
    "    alpha = .75)\n",
    "bar_closed = ax.barh(np.arange(len(si_closed)),np.flip(si_closed),width,label='Closed SI',color='c',alpha=.5)\n",
    "ax.errorbar(fmt='none',color='c',\n",
    "    x = si_closed,\n",
    "    y = np.flip(np.arange(len(si_closed)))-width/4,\n",
    "    xerr = np.vstack((si_closed-ci_comb_low_closed,ci_comb_high_closed-si_closed)),\n",
    "    yerr = 0,\n",
    "    #elinewidth = 5,\n",
    "    alpha = 1)\n",
    "bar_total = ax.barh(np.arange(len(si_closed)),si_total,width,label='Total SI',color='m',left=1-si_total,alpha=.5)\n",
    "ax.errorbar(fmt='none',color='m',\n",
    "    x = 1-si_total,\n",
    "    y = np.arange(len(si_closed))+width/4,\n",
    "    xerr = np.vstack((si_total-ci_comb_low_total,ci_comb_high_total-si_total)),\n",
    "    yerr = 0,\n",
    "    #elinewidth = 5,\n",
    "    alpha = 1)\n",
    "closed_labels = [r'$\\underline{s}_{\\{%s\\}} = %.2f$'%(','.join([str(i+1) for i in idx]),c) for idx,c in zip(idxs[::-1],np.flip(si_closed))]\n",
    "closed_labels[3] = ''\n",
    "total_labels = [r'$\\overline{s}_{\\{%s\\}} = %.2f$'%(','.join([str(i+1) for i in idx]),t) for idx,t in zip(idxs,si_total)]\n",
    "ax.bar_label(bar_closed,label_type='center',labels=closed_labels)\n",
    "ax.bar_label(bar_total,label_type='center',labels=total_labels)\n",
    "ax.set_xlim([-.001,1.001])\n",
    "ax.axvline(x=0,ymin=0,ymax=len(si_closed),color='k',alpha=.1)\n",
    "ax.axvline(x=1,ymin=0,ymax=len(si_closed),color='k',alpha=.1)\n",
    "ax.set_yticklabels([])\n",
    "if root: fig.savefig(root+'ishigami.pdf',transparent=True)"
   ]
  },
  {
   "cell_type": "code",
   "execution_count": 14,
   "id": "8185b3d3",
   "metadata": {},
   "outputs": [
    {
     "data": {
      "image/png": "[encoded data removed]",
      "text/plain": [
       "<Figure size 576x216 with 3 Axes>"
      ]
     },
     "metadata": {
      "needs_background": "light"
     },
     "output_type": "display_data"
    }
   ],
   "source": [
    "fig,ax = pyplot.subplots(nrows=1,ncols=3,figsize=(8,3))\n",
    "x_1d = np.linspace(0,1,num=128)\n",
    "x_1d_mat = np.tile(x_1d,(3,1)).T\n",
    "y_1d = qp.Ishigami._exact_fu_functions(x_1d_mat,indices=[[0],[1],[2]],a=a,b=b)\n",
    "for i in range(2):\n",
    "    ax[i].plot(x_1d,y_1d[:,i])\n",
    "    ax[i].set_xlim([0,1])\n",
    "    ax[i].set_xticks([0,1])\n",
    "    ax[i].set_xlabel(r'$x_{%d}$'%(i+1))\n",
    "    ax[i].set_title(r'$f_{\\{%d\\}} \\in [%.1f,%.1f]$'%(i+1,y_1d[:,i].min(),y_1d[:,i].max()))\n",
    "x_mesh,y_mesh = np.meshgrid(x_1d,x_1d)\n",
    "xquery = np.zeros((x_mesh.size,3))\n",
    "for i,idx in enumerate([[1,2]]): # [[0,1],[0,2],[1,2]]\n",
    "    xquery[:,idx[0]] = x_mesh.flatten()\n",
    "    xquery[:,idx[1]] = y_mesh.flatten()\n",
    "    zquery = qp.Ishigami._exact_fu_functions(xquery,indices=[idx],a=a,b=b)\n",
    "    z_mesh = zquery.reshape(x_mesh.shape)\n",
    "    ax[2+i].contourf(x_mesh,y_mesh,z_mesh)\n",
    "    ax[2+i].set_xlabel(r'$x_{%d}$'%(idx[0]+1))\n",
    "    ax[2+i].set_ylabel(r'$x_{%d}$'%(idx[1]+1))\n",
    "    ax[2+i].set_title(r'$f_{\\{%d,%d\\}} \\in [%.1f,%.1f]$'%(tuple([i+1 for i in idx])+(z_mesh.min(),z_mesh.max())))\n",
    "    ax[2+i].set_xlim([0,1])\n",
    "    ax[2+i].set_ylim([0,1])\n",
    "    ax[2+i].set_xticks([0,1])\n",
    "    ax[2+i].set_yticks([0,1])\n",
    "if root: fig.savefig(root+'ishigami_fu.pdf')"
   ]
  },
  {
   "cell_type": "markdown",
   "id": "8fc6f6c7",
   "metadata": {},
   "source": [
    "### Neural Network"
   ]
  },
  {
   "cell_type": "code",
   "execution_count": 25,
   "id": "841067ac",
   "metadata": {
    "scrolled": false
   },
   "outputs": [
    {
     "name": "stdout",
     "output_type": "stream",
     "text": [
      "accuracy: 98.0%\n",
      "samples: 2^(15)\n",
      "time: 1.8e+00\n",
      "indices: [[0], [1], [2], [3], [0, 1], [0, 2], [0, 3], [1, 2], [1, 3], [2, 3], [0, 1, 2], [0, 1, 3], [0, 2, 3], [1, 2, 3]]\n",
      "\n",
      "Closed Indices\n",
      "             setosa  versicolor  virginica\n",
      "[0]        0.001504    0.071122   0.081736\n",
      "[1]        0.058743    0.022073   0.010373\n",
      "[2]        0.713777    0.328313   0.500059\n",
      "[3]        0.046053    0.021077   0.120233\n",
      "[0, 1]     0.059178    0.091764   0.098233\n",
      "[0, 2]     0.715117    0.460138   0.642551\n",
      "[0, 3]     0.046859    0.092322   0.207724\n",
      "[1, 2]     0.843241    0.434629   0.520469\n",
      "[1, 3]     0.108872    0.039572   0.127844\n",
      "[2, 3]     0.823394    0.582389   0.705354\n",
      "[0, 1, 2]  0.845359    0.570022   0.661100\n",
      "[0, 1, 3]  0.108503    0.106081   0.218971\n",
      "[0, 2, 3]  0.825389    0.814286   0.948331\n",
      "[1, 2, 3]  0.996483    0.738213   0.729940\n",
      "\n",
      "Total Indices\n",
      "             setosa  versicolor  virginica\n",
      "[0]        0.003199    0.259762   0.265085\n",
      "[1]        0.172391    0.183159   0.045582\n",
      "[2]        0.889677    0.896874   0.780377\n",
      "[3]        0.157794    0.433342   0.340092\n",
      "[0, 1]     0.174905    0.414246   0.289565\n",
      "[0, 2]     0.890477    0.966238   0.871992\n",
      "[0, 3]     0.159744    0.566187   0.478082\n",
      "[1, 2]     0.949190    0.907994   0.790445\n",
      "[1, 3]     0.283542    0.540486   0.355714\n",
      "[2, 3]     0.941651    0.919005   0.902203\n",
      "[0, 1, 2]  0.949431    0.980367   0.880283\n",
      "[0, 1, 3]  0.284118    0.674406   0.497364\n",
      "[0, 2, 3]  0.942185    0.986186   0.989555\n",
      "[1, 2, 3]  0.996057    0.933342   0.913711\n"
     ]
    }
   ],
   "source": [
    "import pandas as pd\n",
    "from sklearn.datasets import load_iris\n",
    "from sklearn.model_selection import train_test_split\n",
    "from sklearn.neural_network import MLPClassifier\n",
    "\n",
    "data = load_iris()\n",
    "target_names = data['target_names']\n",
    "xt,xv,yt,yv = train_test_split(data['data'],data['target'],test_size=1/3,random_state=7)\n",
    "mplc = MLPClassifier(random_state=7,max_iter=1024).fit(xt,yt)\n",
    "yhat = mplc.predict(xv)\n",
    "print('accuracy: %.1f%%'%(100*(yv==yhat).mean()))\n",
    "\n",
    "sampler = qp.DigitalNetB2(4,seed=7)\n",
    "true_measure =  qp.Uniform(sampler,lower_bound=xt.min(0),upper_bound=xt.max(0))\n",
    "fun = qp.CustomFun(\n",
    "    true_measure = true_measure,\n",
    "    g = lambda x,compute_flags: mplc.predict_proba(x),rho=(3,))\n",
    "si_fun = qp.SensitivityIndices(fun,indices='all')\n",
    "qmc_algo = qp.CubQMCNetG(si_fun,abs_tol = .005)\n",
    "nn_sis,nn_sis_data = qmc_algo.integrate()\n",
    "#print(nn_sis_data)\n",
    "\n",
    "#print(nn_sis_data.flags_indv.shape)\n",
    "#print(nn_sis_data.flags_comb.shape)\n",
    "print('samples: 2^(%d)'%np.log2(nn_sis_data.n_total))\n",
    "print('time: %.1e'%nn_sis_data.time_integrate)\n",
    "print('indices:',nn_sis_data.integrand.indices)\n",
    "\n",
    "df_closed = pd.DataFrame(nn_sis[0],columns=target_names,index=[str(idx) for idx in nn_sis_data.integrand.indices])\n",
    "print('\\nClosed Indices')\n",
    "print(df_closed)\n",
    "df_total = pd.DataFrame(nn_sis[1],columns=target_names,index=[str(idx) for idx in nn_sis_data.integrand.indices])\n",
    "print('\\nTotal Indices')\n",
    "print(df_total)\n",
    "df_closed_singletons = df_closed.T.iloc[:,:4]\n",
    "df_closed_singletons['sum singletons'] = df_closed_singletons[['[%d]'%i for i in range(4)]].sum(1)\n",
    "df_closed_singletons.columns = data['feature_names']+['sum']\n",
    "df_closed_singletons = df_closed_singletons*100\n",
    "\n",
    "import warnings\n",
    "warnings.simplefilter('ignore',FutureWarning)\n",
    "if root: df_closed_singletons.to_latex(root+'si_singletons_closed.tex',float_format='%.1f%%')"
   ]
  },
  {
   "cell_type": "code",
   "execution_count": 92,
   "id": "eeb7b84b",
   "metadata": {},
   "outputs": [
    {
     "data": {
      "image/png": "[encoded data removed]",
      "text/plain": [
       "<Figure size 648x360 with 1 Axes>"
      ]
     },
     "metadata": {
      "needs_background": "light"
     },
     "output_type": "display_data"
    }
   ],
   "source": [
    "nindices = len(nn_sis_data.integrand.indices)\n",
    "fig,ax = pyplot.subplots(figsize=(9,5))\n",
    "ticks = np.arange(nindices)\n",
    "width = .2\n",
    "for i,(color,species) in enumerate(zip(['c','m','xkcd:green apple'],data['target_names'])):\n",
    "    cvals = df_closed[species].to_numpy()\n",
    "    tvals = df_total[species].to_numpy()\n",
    "    ticks_i = ticks+i*width\n",
    "    ax.bar(ticks_i,cvals,width=width,align='edge',color=color,alpha=.9,label=species)\n",
    "    #ax.bar(ticks_i,np.flip(tvals),width=width,align='edge',bottom=1-np.flip(tvals),color=color,alpha=.1)\n",
    "ax.set_xlim([0,13+3*width])\n",
    "ax.set_xticks(ticks+1.5*width)\n",
    "\n",
    "closed_labels = [r'$\\underline{s}_{\\{%s\\}}$'%(','.join([str(i+1) for i in idx])) for idx in nn_sis_data.integrand.indices]\n",
    "ax.set_xticklabels(closed_labels)\n",
    "ax.set_ylim([0,1]); ax.set_yticks([0,1])\n",
    "ax.grid(False)\n",
    "for spine in ['top','right','bottom']: ax.spines[spine].set_visible(False)\n",
    "ax.legend(frameon=False,loc='lower center',bbox_to_anchor=(.5,-.15),ncol=3);\n",
    "if root: fig.savefig(root+'nn_si.pdf')"
   ]
  },
  {
   "cell_type": "code",
   "execution_count": null,
   "id": "303134da",
   "metadata": {},
   "outputs": [],
   "source": []
  }
 ],
 "metadata": {
  "kernelspec": {
   "display_name": "Python 3 (ipykernel)",
   "language": "python",
   "name": "python3"
  },
  "language_info": {
   "codemirror_mode": {
    "name": "ipython",
    "version": 3
   },
   "file_extension": ".py",
   "mimetype": "text/x-python",
   "name": "python",
   "nbconvert_exporter": "python",
   "pygments_lexer": "ipython3",
   "version": "3.9.13"
  }
 },
 "nbformat": 4,
 "nbformat_minor": 5
}
