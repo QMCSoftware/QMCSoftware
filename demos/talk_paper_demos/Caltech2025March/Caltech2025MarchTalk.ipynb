{
 "cells": [
  {
   "cell_type": "markdown",
   "id": "12112e9b-5c1a-4ce1-a9c2-a77f664264cd",
   "metadata": {},
   "source": [
    "# Caltech Talk 2025 March 4\n",
    "## Adaptive Algorithms for Cones of Input Functions\n",
    "### Fred J. Hickernell\n",
    "\n",
    "This demo makes use of our QMCPy software package.  See [qmcpy.org](www.qmcpy.org) for more details.\n",
    "\n",
    "### Some LaTeX macros (hidden in math mode)\n",
    "$\n",
    "\\newcommand{\\vh}{\\boldsymbol{h}}\n",
    "\\newcommand{\\vt}{\\boldsymbol{t}}\n",
    "\\newcommand{\\vx}{\\boldsymbol{x}}\n",
    "\\newcommand{\\vX}{\\boldsymbol{X}}\n",
    "\\newcommand{\\cf}{\\mathcal{F}}\n",
    "\\newcommand{\\cu}{\\mathcal{U}}\n",
    "\\newcommand{\\dif}{\\mathrm{d}}\n",
    "\\newcommand{\\Ex}{\\mathbb{E}}\n",
    "\\DeclareMathOperator{\\disc}{disc}\n",
    "\\newcommand{\\norm}[2][{}]{{\\left \\lVert #2 \\right \\rVert}_{#1}}\n",
    "$"
   ]
  },
  {
   "cell_type": "markdown",
   "id": "495b0803-818c-405b-95a4-96e268cee5cb",
   "metadata": {},
   "source": [
    "#### If are running this notebook in on colab, replace False in the next cell by True"
   ]
  },
  {
   "cell_type": "code",
   "execution_count": 1,
   "id": "6656d916-bbf8-42bf-9aed-15118b394ae4",
   "metadata": {
    "execution": {
     "iopub.execute_input": "2025-02-11T01:48:59.518761Z",
     "iopub.status.busy": "2025-02-11T01:48:59.518396Z",
     "iopub.status.idle": "2025-02-11T01:48:59.525698Z",
     "shell.execute_reply": "2025-02-11T01:48:59.524809Z",
     "shell.execute_reply.started": "2025-02-11T01:48:59.518734Z"
    }
   },
   "outputs": [],
   "source": [
    "if False:  #Running on colab?\n",
    "    !sudo apt install cm-super dvipng texlive-latex-extra texlive-latex-recommended\n",
    "    !sudo apt install cm-super\n",
    "    !pip install git+https://github.com/QMCSoftware/QMCSoftware.git@MCQMC2024"
   ]
  },
  {
   "cell_type": "markdown",
   "id": "3cffa937-a383-42bd-86ac-c246e93ffc1a",
   "metadata": {},
   "source": [
    "### Import needed packages"
   ]
  },
  {
   "cell_type": "code",
   "execution_count": 2,
   "id": "793d7beb-c82f-433b-befc-e50d98377af3",
   "metadata": {
    "execution": {
     "iopub.execute_input": "2025-02-11T01:48:59.527218Z",
     "iopub.status.busy": "2025-02-11T01:48:59.527008Z",
     "iopub.status.idle": "2025-02-11T01:49:02.089839Z",
     "shell.execute_reply": "2025-02-11T01:49:02.089542Z",
     "shell.execute_reply.started": "2025-02-11T01:48:59.527198Z"
    }
   },
   "outputs": [],
   "source": [
    "import matplotlib.pyplot as plt\n",
    "import matplotlib.patches as patches\n",
    "from matplotlib import cm\n",
    "import math\n",
    "import numpy as np\n",
    "import scipy as sp\n",
    "import qmcpy as qp\n",
    "import sympy as sy\n",
    "#from scipy import stats\n",
    "#from copy import deepcopy\n",
    "import time\n",
    "import timeit\n",
    "import pickle\n",
    "import sys\n",
    "np.seterr(divide='raise', invalid='raise') #check for divide by zeros\n",
    "\n",
    "#These are parameters needed for figures\n",
    "figpath = 'Caltech2025MarchFigures/' #this path sends the figures to the directory that you want\n",
    "savefigs = True  #save the figures on your disk if True\n",
    "imgfrmt = 'pdf' #kind of format to save figures as\n",
    "long_compute = False #redo the long computations\n",
    "font_family = \"serif\"\n",
    "plt.rcParams.update({\n",
    "    \"font.family\" : font_family,\n",
    "    \"text.usetex\" : True,  \n",
    "    \"mathtext.fontset\" : \"dejavuserif\",\n",
    "    \"axes.labelsize\" : 18,\n",
    "    \"axes.titlesize\" : 18,\n",
    "    \"xtick.labelsize\" : 14,\n",
    "    \"ytick.labelsize\" : 14\n",
    "})"
   ]
  },
  {
   "cell_type": "code",
   "execution_count": 3,
   "id": "8c8d628a-6d3d-4264-97bf-ac5ec87eb81b",
   "metadata": {
    "execution": {
     "iopub.execute_input": "2025-02-11T01:49:02.090409Z",
     "iopub.status.busy": "2025-02-11T01:49:02.090274Z",
     "iopub.status.idle": "2025-02-11T01:49:02.094433Z",
     "shell.execute_reply": "2025-02-11T01:49:02.094150Z",
     "shell.execute_reply.started": "2025-02-11T01:49:02.090398Z"
    }
   },
   "outputs": [],
   "source": [
    "import matplotlib.colors as mcolors\n",
    "\n",
    "def lighten_color(color, factor=1.5):\n",
    "    \"\"\"Lightens the given color by blending it with white. \n",
    "    Factor > 1 makes it lighter, factor < 1 makes it darker.\"\"\"\n",
    "    rgb = mcolors.to_rgb(color)  # Convert color to RGB tuple\n",
    "    lighter_rgb = tuple(min(1, c + (1 - c) * (factor - 1)) for c in rgb)  # Blend with white\n",
    "    return lighter_rgb\n",
    "\n",
    "# for plotting, here are our different symbols and their colors\n",
    "# because plots may be printed in black and white we want different colors to have different marker shapes \n",
    "color_cycle = plt.rcParams['axes.prop_cycle'].by_key()['color']  #get the color cycle\n",
    "[py_blue, py_orange, py_green, py_red, py_purple, py_brown, py_pink, py_gray, py_yellow, py_cyan] = color_cycle[0:10]\n",
    "blue_symbol = {\"color\" : py_blue,\n",
    "               \"marker\" : \".\",\n",
    "               \"markersize\" : 15,\n",
    "               \"linestyle\" : \"\"\n",
    "               }\n",
    "orange_symbol = {\"color\" : py_orange,\n",
    "               \"marker\" : \"d\",\n",
    "               \"markersize\" : 12,\n",
    "               \"linestyle\" : \"\"\n",
    "               }\n",
    "green_symbol = {\"color\" : py_green,\n",
    "               \"marker\" : \"s\",\n",
    "               \"markersize\" : 10,\n",
    "               \"linestyle\" : \"\"\n",
    "               }\n",
    "red_symbol = {\"color\" : py_red,\n",
    "               \"marker\" : \"^\",\n",
    "               \"markersize\" : 10,\n",
    "               \"linestyle\" : \"\"\n",
    "               }\n",
    "purple_symbol = {\"color\" : py_purple,\n",
    "               \"marker\" : \"v\",\n",
    "               \"markersize\" : 10,\n",
    "               \"linestyle\" : \"\"\n",
    "               }\n",
    "brown_symbol = {\"color\" : py_brown,\n",
    "               \"marker\" : \">\",\n",
    "               \"markersize\" : 10,\n",
    "               \"linestyle\" : \"\"\n",
    "               }\n",
    "pink_symbol = {\"color\" : py_pink,\n",
    "               \"marker\" : \"<\",\n",
    "               \"markersize\" : 10,\n",
    "               \"linestyle\" : \"\"\n",
    "               }\n",
    "symbol_args=[blue_symbol,orange_symbol,green_symbol,red_symbol,purple_symbol,brown_symbol,pink_symbol]\n",
    "\n",
    "#lighter or darker versions of colors\n",
    "lighter_py_blue = lighten_color(py_blue, factor=1.5)\n"
   ]
  },
  {
   "cell_type": "markdown",
   "id": "23cd702d-427e-4948-977e-132a95b4faae",
   "metadata": {},
   "source": [
    "## Bisection example\n",
    "\n",
    "Find an approximation $\\hat{x}$ to $x_* \\in [a,b]$ such that $f(x_*) = 0$."
   ]
  },
  {
   "cell_type": "markdown",
   "id": "fb67dfb3-286d-41d1-9f35-f9507125b341",
   "metadata": {},
   "source": [
    "### Show the bisection algorithm by plots"
   ]
  },
  {
   "cell_type": "code",
   "execution_count": 4,
   "id": "f32120c6-dac3-44e2-abad-4240c75ff688",
   "metadata": {
    "execution": {
     "iopub.execute_input": "2025-02-11T01:49:02.095453Z",
     "iopub.status.busy": "2025-02-11T01:49:02.095345Z",
     "iopub.status.idle": "2025-02-11T01:49:02.097082Z",
     "shell.execute_reply": "2025-02-11T01:49:02.096819Z",
     "shell.execute_reply.started": "2025-02-11T01:49:02.095443Z"
    }
   },
   "outputs": [],
   "source": [
    "#Test function\n",
    "f = lambda x : x*np.exp(-x) - 0.2"
   ]
  },
  {
   "cell_type": "code",
   "execution_count": 5,
   "id": "e1af140b-5fc5-4430-acf7-ee27328f1cd4",
   "metadata": {
    "execution": {
     "iopub.execute_input": "2025-02-11T01:49:02.097466Z",
     "iopub.status.busy": "2025-02-11T01:49:02.097376Z",
     "iopub.status.idle": "2025-02-11T01:49:02.099722Z",
     "shell.execute_reply": "2025-02-11T01:49:02.099472Z",
     "shell.execute_reply.started": "2025-02-11T01:49:02.097456Z"
    }
   },
   "outputs": [
    {
     "name": "stdout",
     "output_type": "stream",
     "text": [
      "0.02224546620451534 -0.1663102650045727\n",
      "True\n"
     ]
    }
   ],
   "source": [
    "#Parameters\n",
    "tol = 0.05 #tolerance \n",
    "a = 0.3\n",
    "b = 5\n",
    "c = (a+b)/2\n",
    "fa = f(a)\n",
    "fb = f(b)\n",
    "fc = f(c)\n",
    "print(fa,fb)\n",
    "print(np.sign(fa)*np.sign(fb) <=0)"
   ]
  },
  {
   "cell_type": "code",
   "execution_count": 6,
   "id": "5306636b-6e6e-4101-9cad-1cca0c569647",
   "metadata": {
    "execution": {
     "iopub.execute_input": "2025-02-11T01:49:02.100384Z",
     "iopub.status.busy": "2025-02-11T01:49:02.100272Z",
     "iopub.status.idle": "2025-02-11T01:49:02.106847Z",
     "shell.execute_reply": "2025-02-11T01:49:02.106477Z",
     "shell.execute_reply.started": "2025-02-11T01:49:02.100374Z"
    }
   },
   "outputs": [],
   "source": [
    "#Algorithm for carrying out the bisection method with plots\n",
    "def bisection(f,a,b,tol):  \n",
    "    fa = f(a)\n",
    "    fb = f(b)\n",
    "    xplot = np.linspace(a,b,200)\n",
    "    fplot = f(xplot)\n",
    "    pad = 0.2\n",
    "    xmin = a-pad\n",
    "    xmax = b+pad\n",
    "    ymin = -0.2\n",
    "    ymax = 0.2\n",
    "    xval = np.array([a,b])\n",
    "    yval = np.array([fa,fb])\n",
    "    aspect_ratio = 3\n",
    "    iter = 0\n",
    "    fig, ax = plt.subplots(subplot_kw={'aspect': aspect_ratio})\n",
    "    ax.plot(np.array([xmin,xmax]),np.array([0,0]),'-',color = 'k')\n",
    "    ax.scatter(xval,yval,color = py_blue)\n",
    "    ax.text(a,0,'[',color = 'k',fontsize = 18,ha='center', va='center')\n",
    "    ax.text(b,0,']',color = 'k',fontsize = 18,ha='center', va='center')\n",
    "    ax.set_xlim(xmin,xmax)\n",
    "    ax.set_ylim(ymin,ymax)\n",
    "    ax.set_axis_off()  \n",
    "    fig.savefig(figpath+f\"bisection_{iter}.\"+imgfrmt,format=imgfrmt,bbox_inches='tight')\n",
    "    c = (a+b)/2\n",
    "    fc = f(c)\n",
    "    ax.scatter(c,fc)\n",
    "    if np.sign(fa) == 0:\n",
    "        return np.array([a,a,b])\n",
    "    elif np.sign(fb) == 0:\n",
    "        return np.array([b,a,b])\n",
    "    else:\n",
    "        while np.abs(b-c) > tol:\n",
    "            iter = iter+1\n",
    "            fig, ax = plt.subplots(subplot_kw={'aspect': aspect_ratio})\n",
    "            ax.plot(np.array([xmin,xmax]),np.array([0,0]),'-',color = 'k')\n",
    "            ax.scatter(xval,yval,color = py_blue)\n",
    "            ax.text(a,0,'[',color = 'k',fontsize = 18,ha='center', va='center')\n",
    "            ax.text(b,0,']',color = 'k',fontsize = 18,ha='center', va='center')\n",
    "            ax.scatter(c,fc,color = py_orange)\n",
    "            ax.set_xlim(xmin,xmax)\n",
    "            ax.set_ylim(ymin,ymax)\n",
    "            ax.set_axis_off()         \n",
    "            fig.savefig(figpath+f\"bisection_{iter}.\"+imgfrmt,format=imgfrmt,bbox_inches='tight')\n",
    "            xval=np.append(xval,c)\n",
    "            yval=np.append(yval,fc)\n",
    "            if np.sign(fc) == 0:\n",
    "                a = c\n",
    "                fa = fc\n",
    "                b = c\n",
    "                fb = fc\n",
    "            elif np.sign(fc) == np.sign(fa):\n",
    "                a = c\n",
    "                fa = fc\n",
    "            else:\n",
    "                b = c\n",
    "                fb = fc\n",
    "            c = (a+b)/2\n",
    "            fc = f(c)\n",
    "            #print(b-c)\n",
    "        iter = iter+1\n",
    "        ax.plot(xplot,fplot,color=py_blue)\n",
    "        fig.savefig(figpath+f\"bisection_{iter}.\"+imgfrmt,format=imgfrmt,bbox_inches='tight')\n",
    "        return np.array([c,a,b])"
   ]
  },
  {
   "cell_type": "code",
   "execution_count": 7,
   "id": "8e173f61-2d08-465f-82c1-195f2ee91ab3",
   "metadata": {
    "execution": {
     "iopub.execute_input": "2025-02-11T01:49:02.107402Z",
     "iopub.status.busy": "2025-02-11T01:49:02.107286Z",
     "iopub.status.idle": "2025-02-11T01:49:02.712426Z",
     "shell.execute_reply": "2025-02-11T01:49:02.712125Z",
     "shell.execute_reply.started": "2025-02-11T01:49:02.107391Z"
    }
   },
   "outputs": [
    {
     "name": "stdout",
     "output_type": "stream",
     "text": [
      "[2.53984375 2.503125   2.5765625 ]\n"
     ]
    },
    {
     "data": {
      "image/png": "[encoded data removed]",
      "text/plain": [
       "<Figure size 640x480 with 1 Axes>"
      ]
     },
     "metadata": {},
     "output_type": "display_data"
    },
    {
     "data": {
      "image/png": "[encoded data removed]",
      "text/plain": [
       "<Figure size 640x480 with 1 Axes>"
      ]
     },
     "metadata": {},
     "output_type": "display_data"
    },
    {
     "data": {
      "image/png": "[encoded data removed]",
      "text/plain": [
       "<Figure size 640x480 with 1 Axes>"
      ]
     },
     "metadata": {},
     "output_type": "display_data"
    },
    {
     "data": {
      "image/png": "[encoded data removed]",
      "text/plain": [
       "<Figure size 640x480 with 1 Axes>"
      ]
     },
     "metadata": {},
     "output_type": "display_data"
    },
    {
     "data": {
      "image/png": "[encoded data removed]",
      "text/plain": [
       "<Figure size 640x480 with 1 Axes>"
      ]
     },
     "metadata": {},
     "output_type": "display_data"
    },
    {
     "data": {
      "image/png": "[encoded data removed]",
      "text/plain": [
       "<Figure size 640x480 with 1 Axes>"
      ]
     },
     "metadata": {},
     "output_type": "display_data"
    },
    {
     "data": {
      "image/png": "[encoded data removed]",
      "text/plain": [
       "<Figure size 640x480 with 1 Axes>"
      ]
     },
     "metadata": {},
     "output_type": "display_data"
    }
   ],
   "source": [
    "# Compute bisection\n",
    "root = bisection(f,a,b,tol)\n",
    "print(root)"
   ]
  },
  {
   "cell_type": "markdown",
   "id": "c0519602-b01b-4032-ac40-7051be637ec5",
   "metadata": {
    "execution": {
     "iopub.execute_input": "2025-01-31T23:21:58.782853Z",
     "iopub.status.busy": "2025-01-31T23:21:58.782419Z",
     "iopub.status.idle": "2025-01-31T23:21:58.987494Z",
     "shell.execute_reply": "2025-01-31T23:21:58.986748Z",
     "shell.execute_reply.started": "2025-01-31T23:21:58.782823Z"
    }
   },
   "source": [
    "## Trapezoidal rule"
   ]
  },
  {
   "cell_type": "markdown",
   "id": "f0320339-61ea-4992-996a-1893b9f02ffe",
   "metadata": {},
   "source": [
    "### Construct pathological function"
   ]
  },
  {
   "cell_type": "markdown",
   "id": "179226f6-c8b8-4b87-8087-5dce1dc9cf96",
   "metadata": {},
   "source": [
    "#### Function to compute integral and variation"
   ]
  },
  {
   "cell_type": "code",
   "execution_count": 8,
   "id": "d961273d-c63d-4f18-9824-b8b552280cfb",
   "metadata": {
    "execution": {
     "iopub.execute_input": "2025-02-11T01:49:02.713013Z",
     "iopub.status.busy": "2025-02-11T01:49:02.712873Z",
     "iopub.status.idle": "2025-02-11T01:49:02.716465Z",
     "shell.execute_reply": "2025-02-11T01:49:02.716135Z",
     "shell.execute_reply.started": "2025-02-11T01:49:02.713002Z"
    }
   },
   "outputs": [],
   "source": [
    "def int_var(f,fpp = None, xvec = None, tol = 1e-14):\n",
    "    if np.any(xvec):\n",
    "        a = xvec[0]\n",
    "        b = xvec[1]\n",
    "    else:\n",
    "        a = 0\n",
    "        b = 1\n",
    "    intf, intferr = sp.integrate.quad(f, a, b, epsabs=tol)\n",
    "    if fpp:\n",
    "        varfp, varfperr = sp.integrate.quad(lambda x : np.abs(fpp(x)), a, b, epsabs=tol)\n",
    "        if np.any(xvec):\n",
    "            n = xvec.size-1\n",
    "            varfpvec = np.zeros(n)\n",
    "            for ii in range(xvec.size-1):\n",
    "                varfpvec[ii],_ = sp.integrate.quad(lambda x : np.abs(fpp(x)), xvec[ii], xvec[ii+1], epsabs=tol)\n",
    "        else:\n",
    "            varfpvec = None\n",
    "    else:\n",
    "        varfp = None\n",
    "        varfperr = None\n",
    "        varfpvec = None\n",
    "    return intf, varfp, varfpvec, intferr, varfperr"
   ]
  },
  {
   "cell_type": "markdown",
   "id": "841b498e-0545-42c0-ba30-bb2a0cb543e9",
   "metadata": {},
   "source": [
    "#### A one hump function "
   ]
  },
  {
   "cell_type": "code",
   "execution_count": 9,
   "id": "0b2dd1fd-c479-4e9b-98d7-58a69debb188",
   "metadata": {
    "execution": {
     "iopub.execute_input": "2025-02-11T01:49:02.717001Z",
     "iopub.status.busy": "2025-02-11T01:49:02.716902Z",
     "iopub.status.idle": "2025-02-11T01:49:02.766267Z",
     "shell.execute_reply": "2025-02-11T01:49:02.765922Z",
     "shell.execute_reply.started": "2025-02-11T01:49:02.716991Z"
    }
   },
   "outputs": [
    {
     "name": "stdout",
     "output_type": "stream",
     "text": [
      "Integral of f = 1.638875915355444\n",
      "Variation of f' = 27.624750931916207\n"
     ]
    }
   ],
   "source": [
    "#Use symbolic computation to get function and its second derivative\n",
    "xx = sy.symbols('xx')\n",
    "ff = 3*sy.exp(-10*(xx-1/2)**2)  #one hump\n",
    "f = sy.lambdify(xx, ff, modules=[\"numpy\"])\n",
    "intf, intferr = sp.integrate.quad(f, 0, 1, epsabs=1e-15)\n",
    "ffpp = sy.diff(ff,xx,2)\n",
    "fpp = sy.lambdify(xx, ffpp, modules=[\"numpy\"])\n",
    "intf, varfp, _,_,_ = int_var(f,fpp)\n",
    "print(f\"Integral of f = {intf}\\nVariation of f' = {varfp}\")"
   ]
  },
  {
   "cell_type": "markdown",
   "id": "8cd0edc8-a8dd-4423-95bb-6d684c5c1f9f",
   "metadata": {},
   "source": [
    "#### Wavy function"
   ]
  },
  {
   "cell_type": "code",
   "execution_count": 10,
   "id": "49178865-0609-4360-8e09-867dcf27fa84",
   "metadata": {
    "execution": {
     "iopub.execute_input": "2025-02-11T01:49:02.768655Z",
     "iopub.status.busy": "2025-02-11T01:49:02.768505Z",
     "iopub.status.idle": "2025-02-11T01:49:02.776237Z",
     "shell.execute_reply": "2025-02-11T01:49:02.775863Z",
     "shell.execute_reply.started": "2025-02-11T01:49:02.768640Z"
    }
   },
   "outputs": [
    {
     "name": "stdout",
     "output_type": "stream",
     "text": [
      "Integral of fwave = 1.0\n",
      "Variation of fwave' = 904.7786842338604\n"
     ]
    }
   ],
   "source": [
    "#Use symbolic computation to get wavy function and its second derivative\n",
    "ncoarse = 6\n",
    "ffwave = 1 - sy.cos(2* sy.pi*ncoarse*xx)  #function that is zero at xx_i = i/ncoarse\n",
    "fwave = sy.lambdify(xx, ffwave, modules=[\"numpy\"])\n",
    "ffwavepp = sy.diff(ffwave,xx,2)\n",
    "fwavepp = sy.lambdify(xx, ffwavepp, modules=[\"numpy\"])\n",
    "intfwave, _, _,_,_ = int_var(fwave) #cubature has problems with integrating the absolute value of a wavy function\n",
    "_, varfwavep, _,_,_ = int_var(fwave,fwavepp,np.array([0,1/(4*ncoarse)]))  #so we take advantage of its periodicity\n",
    "varfwavep = 4 * ncoarse * varfwavep\n",
    "print(f\"Integral of fwave = {intfwave}\\nVariation of fwave' = {varfwavep}\")"
   ]
  },
  {
   "cell_type": "code",
   "execution_count": 11,
   "id": "36155b7e-665e-4c25-bdf7-65eefd2076a8",
   "metadata": {
    "execution": {
     "iopub.execute_input": "2025-02-11T01:49:02.776658Z",
     "iopub.status.busy": "2025-02-11T01:49:02.776572Z",
     "iopub.status.idle": "2025-02-11T01:49:02.782782Z",
     "shell.execute_reply": "2025-02-11T01:49:02.782501Z",
     "shell.execute_reply.started": "2025-02-11T01:49:02.776648Z"
    }
   },
   "outputs": [
    {
     "name": "stdout",
     "output_type": "stream",
     "text": [
      "Trapezoidal rule for f on the coarse grid = 1.6277006155168212 and on the fine grid = 1.6360391566677264\n",
      "Trapezoidal rule for fwave on the coarse grid = 0.0 and on the fine grid = 1.0\n",
      "Integral of fcombo = 1.630537374204539\n",
      "Variation of fcombo' = 28.793867681040886\n",
      "Trapezoidal rule for fcombo on the coarse grid = 1.6277006155168212 and on the fine grid = 1.6277006155168214\n",
      "Error of trapezoidal rule for fcombo on the coarse grid = 0.002836758687717822 and on the fine grid = 0.0028367586877176\n"
     ]
    }
   ],
   "source": [
    "xcoarse = np.linspace(0,1,ncoarse+1)\n",
    "nfine = 2*ncoarse\n",
    "xfine = np.linspace(0,1,nfine+1)\n",
    "\n",
    "def trapquick(x,fx):  #quick trapezoidal rule\n",
    "    heights = (fx[:-1]+fx[1:])/2\n",
    "    widths = np.diff(x)\n",
    "    T = np.sum(heights*widths)\n",
    "    return T\n",
    "\n",
    "Tfcoarse = trapquick(xcoarse,f(xcoarse))\n",
    "Tffine = trapquick(xfine,f(xfine))\n",
    "print(f\"Trapezoidal rule for f on the coarse grid = {Tfcoarse} and on the fine grid = {Tffine}\")\n",
    "\n",
    "Tfwavecoarse = trapquick(xcoarse,fwave(xcoarse))\n",
    "Tfwavefine = trapquick(xfine,fwave(xfine))\n",
    "print(f\"Trapezoidal rule for fwave on the coarse grid = {Tfwavecoarse} and on the fine grid = {Tfwavefine}\")\n",
    "\n",
    "alpha = (Tfwavefine - Tfwavecoarse)*(Tfcoarse - Tffine)  #used to make a function that has the same value of the trapezoidal rule on coarse and fine grids\n",
    "fcombo = lambda x : f(x) + alpha*fwave(x)  #the pathological function\n",
    "fcombopp = lambda x : fpp(x) + alpha*fwavepp(x)\n",
    "intfcombo, varfcombop, _,_,_ = int_var(fcombo,fcombopp)\n",
    "print(f\"Integral of fcombo = {intfcombo}\\nVariation of fcombo' = {varfcombop}\")\n",
    "\n",
    "Tfcombocoarse = trapquick(xcoarse,fcombo(xcoarse))\n",
    "Tfcombofine = trapquick(xfine,fcombo(xfine))\n",
    "Errfcombocoarse = np.abs(intfcombo - Tfcombocoarse)\n",
    "Errfcombofine = np.abs(intfcombo - Tfcombofine)\n",
    "print(f\"Trapezoidal rule for fcombo on the coarse grid = {Tfcombocoarse} and on the fine grid = {Tfcombofine}\")\n",
    "print(f\"Error of trapezoidal rule for fcombo on the coarse grid = {Errfcombocoarse} and on the fine grid = {Errfcombofine}\")"
   ]
  },
  {
   "cell_type": "markdown",
   "id": "a198db14-c66d-430b-8201-9ddda3f18121",
   "metadata": {},
   "source": [
    "### Plot of trapezoidal rule"
   ]
  },
  {
   "cell_type": "code",
   "execution_count": 12,
   "id": "d5757e1f-30e3-437f-b2c3-da7561f3306b",
   "metadata": {
    "execution": {
     "iopub.execute_input": "2025-02-11T01:49:02.783393Z",
     "iopub.status.busy": "2025-02-11T01:49:02.783286Z",
     "iopub.status.idle": "2025-02-11T01:49:02.787790Z",
     "shell.execute_reply": "2025-02-11T01:49:02.787427Z",
     "shell.execute_reply.started": "2025-02-11T01:49:02.783382Z"
    }
   },
   "outputs": [],
   "source": [
    "def plot_trap(xlist,fxlist,f = None, title = None, title_pos = 1, line_width = 0.5, edge_color = ['k','k'], aspect_ratio = 0.15, facecolors = [lighter_py_blue,py_yellow], dotcolors = [py_blue, py_orange]):\n",
    "    fig, ax = plt.subplots(subplot_kw={'aspect': aspect_ratio})\n",
    "    if not isinstance(xlist,list): #make it a list\n",
    "        xlist = [xlist]\n",
    "        fxlist = [fxlist]\n",
    "    nlist = len(xlist)\n",
    "    alpha = 0.4**(nlist-1)\n",
    "    for jj in range(nlist):\n",
    "        x = xlist[jj]\n",
    "        fx = fxlist[jj]\n",
    "        for ii in range(x.size-1):\n",
    "            trapezoid = patches.Polygon([[x[ii],0],[x[ii],fx[ii]], [x[ii+1],fx[ii+1]], [x[ii+1],0]], \\\n",
    "                                        closed = True, linewidth=line_width, edgecolor=edge_color[jj], facecolor=facecolors[jj], alpha = alpha)\n",
    "            ax.add_patch(trapezoid) \n",
    "        if jj > 0:\n",
    "            mask = np.isin(x,xlist[jj-1])\n",
    "            xadd = x[~mask]\n",
    "            fxadd = fx[~mask]\n",
    "            ax.scatter(xadd,fxadd,color = dotcolors[jj])\n",
    "        else:\n",
    "            ax.scatter(x,fx,color = dotcolors[jj])\n",
    "    \n",
    "    if f: #now plot the function, if given\n",
    "        xplot = np.linspace(0,1,501)\n",
    "        fplot = f(xplot)\n",
    "        ax.plot(xplot,fplot,color = py_blue)\n",
    "    \n",
    "    ax.set_xlabel(\"$x$\")\n",
    "    ax.set_ylabel(\"$f(x)$\")\n",
    "    if title:\n",
    "        fig.suptitle(f\"{title}\", y = title_pos)\n",
    "    return fig\n"
   ]
  },
  {
   "cell_type": "code",
   "execution_count": 13,
   "id": "5daf9ed9-7efd-4681-823f-48e6d44e65c1",
   "metadata": {
    "execution": {
     "iopub.execute_input": "2025-02-11T01:49:02.788365Z",
     "iopub.status.busy": "2025-02-11T01:49:02.788263Z",
     "iopub.status.idle": "2025-02-11T01:49:03.091262Z",
     "shell.execute_reply": "2025-02-11T01:49:03.090970Z",
     "shell.execute_reply.started": "2025-02-11T01:49:02.788353Z"
    }
   },
   "outputs": [
    {
     "data": {
      "image/png": "[encoded data removed]",
      "text/plain": [
       "<Figure size 640x480 with 1 Axes>"
      ]
     },
     "metadata": {},
     "output_type": "display_data"
    },
    {
     "data": {
      "image/png": "[encoded data removed]",
      "text/plain": [
       "<Figure size 640x480 with 1 Axes>"
      ]
     },
     "metadata": {},
     "output_type": "display_data"
    },
    {
     "data": {
      "image/png": "[encoded data removed]",
      "text/plain": [
       "<Figure size 640x480 with 1 Axes>"
      ]
     },
     "metadata": {},
     "output_type": "display_data"
    }
   ],
   "source": [
    "#ncoarse is the number of trapezoids\n",
    "xcoarse = np.linspace(0,1,ncoarse+1)\n",
    "fxcoarse = fcombo(xcoarse)\n",
    "fig = plot_trap(xcoarse,fxcoarse)\n",
    "fig.savefig(figpath+f\"trapezoidal_rule_n_{ncoarse}.\"+imgfrmt,format=imgfrmt,bbox_inches='tight')\n",
    "\n",
    "nfine = 2*ncoarse\n",
    "xfine =  np.linspace(0,1,nfine+1)\n",
    "fxfine = fcombo(xfine)\n",
    "fig = plot_trap([xcoarse,xfine],[fxcoarse,fxfine])\n",
    "fig.savefig(figpath+f\"trapezoidal_rule_n_{nfine}.\"+imgfrmt,format=imgfrmt,bbox_inches='tight')\n",
    "\n",
    "fig = plot_trap([xcoarse,xfine],[fxcoarse,fxfine],f)\n",
    "fig.savefig(figpath+f\"function_trapezoidal_rule_n_{nfine}.\"+imgfrmt,format=imgfrmt,bbox_inches='tight')"
   ]
  },
  {
   "cell_type": "markdown",
   "id": "f127ceec-2a99-4f8a-8712-735695762930",
   "metadata": {},
   "source": [
    "### Adaptive sample size"
   ]
  },
  {
   "cell_type": "markdown",
   "id": "9ba6409d-d184-4c17-af4a-09cc5ba095d4",
   "metadata": {},
   "source": [
    "#### Parmaters for our experiments"
   ]
  },
  {
   "cell_type": "code",
   "execution_count": 14,
   "id": "455e3bb2-5240-44f6-ae36-d67a3ce98627",
   "metadata": {
    "execution": {
     "iopub.execute_input": "2025-02-11T01:49:03.091939Z",
     "iopub.status.busy": "2025-02-11T01:49:03.091824Z",
     "iopub.status.idle": "2025-02-11T01:49:03.094042Z",
     "shell.execute_reply": "2025-02-11T01:49:03.093804Z",
     "shell.execute_reply.started": "2025-02-11T01:49:03.091926Z"
    }
   },
   "outputs": [],
   "source": [
    "nmin = 5\n",
    "fdg_0 = 2\n",
    "err_tol = 1e-2"
   ]
  },
  {
   "cell_type": "markdown",
   "id": "aeec38b4-aabe-4ee8-b5be-954ab6e8a92b",
   "metadata": {},
   "source": [
    "#### Functions for adaptive sample size"
   ]
  },
  {
   "cell_type": "code",
   "execution_count": 15,
   "id": "4ebc8af1-cbe3-486d-8533-cf048e70d89d",
   "metadata": {
    "execution": {
     "iopub.execute_input": "2025-02-11T01:49:03.094501Z",
     "iopub.status.busy": "2025-02-11T01:49:03.094411Z",
     "iopub.status.idle": "2025-02-11T01:49:03.099568Z",
     "shell.execute_reply": "2025-02-11T01:49:03.099286Z",
     "shell.execute_reply.started": "2025-02-11T01:49:03.094491Z"
    }
   },
   "outputs": [],
   "source": [
    "def fudge(h,nmin = 10,fdg_0 = 2):  #inflation factor\n",
    "    return fdg_0/np.clip(1 - h*nmin,0,None) #make sure that it is positive\n",
    "\n",
    "def varfpest(fvec,xvec):  #esitmate the variance of f' from values\n",
    "    if np.array([xvec]).size == 1: #equally spaced\n",
    "        varfp = np.sum(np.abs(np.diff(fvec,n=2))/xvec)\n",
    "    else:\n",
    "        varfp = np.sum(np.abs(np.diff(np.diff(fvec,n=1)/xvec,n=1)))\n",
    "    return varfp\n",
    "    \n",
    "\n",
    "def trapadaptn(f,tol = 1e-3, nmin = 10, fdg_0 = 2):  #trapezoidal rule for equal-width trapezoids\n",
    "    n = 2*nmin\n",
    "    x = np.linspace(0,1,n+1)\n",
    "    fx = f(x)\n",
    "    fdd = np.diff(fx,n=2)\n",
    "    fppappx = fudge(1/n,nmin = nmin, fdg_0 = fdg_0)*sum(fdd)*(n**2/(n-1))\n",
    "    errbd = np.abs(fppappx/(8*n**2))\n",
    "    while errbd > tol:\n",
    "        xadd = x[:-1]+(x[1]-x[0])/2\n",
    "        fadd = f(xadd)\n",
    "        new = np.empty((2*n+1,), dtype = x.dtype)\n",
    "        new[0::2] = x\n",
    "        new[1:-1:2] = xadd\n",
    "        x = new\n",
    "        #print(\"x=\",x)\n",
    "        fnew = np.empty((2*n+1,), dtype = x.dtype)\n",
    "        fnew[0::2] = fx\n",
    "        fnew[1:-1:2] = fadd\n",
    "        #print(\"x=\",x)\n",
    "        fx = fnew\n",
    "        #print(\"fx=\",fx)\n",
    "        n = 2*n\n",
    "        fppappx = fudge(1/n,nmin = nmin, fdg_0 = fdg_0)*varfpest(fx,1/n)\n",
    "        errbd = np.abs(fppappx/(8*n**2))\n",
    "    T = (fx[0]+ 2*np.sum(fx[1:-1]) + fx[-1])/(2*n)\n",
    "    rule_name = \"adaptive samples size trapezoidal rule\"\n",
    "    return T, n, errbd, x, fx, rule_name\n",
    "\n",
    "def print_trap_out(rule_name,T,n,errbd,intf,frmt = \"0.5f\"):\n",
    "    print(f'The {rule_name} outputs \\n \\\n",
    "    T_{n} = {T}, with an errorbound of {errbd:{frmt}},\\n \\\n",
    "    which is less than the error tolerance of {err_tol:{frmt}},\\n \\\n",
    "    and should be no less than the true error of {np.abs(intf-T):{frmt}}')"
   ]
  },
  {
   "cell_type": "markdown",
   "id": "0818c553-dc58-4ebc-a0d8-fb3190e16d84",
   "metadata": {},
   "source": [
    "#### Run the adaptive sample size algorithm"
   ]
  },
  {
   "cell_type": "code",
   "execution_count": 16,
   "id": "156d037f-6c62-4619-a98b-176da2f72884",
   "metadata": {
    "execution": {
     "iopub.execute_input": "2025-02-11T01:49:03.100100Z",
     "iopub.status.busy": "2025-02-11T01:49:03.100005Z",
     "iopub.status.idle": "2025-02-11T01:49:03.102822Z",
     "shell.execute_reply": "2025-02-11T01:49:03.102502Z",
     "shell.execute_reply.started": "2025-02-11T01:49:03.100089Z"
    }
   },
   "outputs": [
    {
     "name": "stdout",
     "output_type": "stream",
     "text": [
      "The adaptive samples size trapezoidal rule outputs \n",
      "     T_40 = 1.6302809656244968, with an errorbound of 0.00508,\n",
      "     which is less than the error tolerance of 0.01000,\n",
      "     and should be no less than the true error of 0.00026\n"
     ]
    }
   ],
   "source": [
    "T, n, errbd, x, fx, rule_name = trapadaptn(fcombo, tol = err_tol, nmin = nmin, fdg_0 = fdg_0)\n",
    "print_trap_out(rule_name,T,n,errbd,intfcombo)\n",
    "#print(f'T_{n} = {T}, with an errorbound of {errbd:0.5f},\\n which is less than the error tolerance of {err_tol:0.5f},\\n and should be no less than the true error of {np.abs(intfcombo-T):0.5f}')"
   ]
  },
  {
   "cell_type": "markdown",
   "id": "b1090599-5d73-42a8-a588-24afa92ab5f2",
   "metadata": {},
   "source": [
    "#### Plot the adaptive sample size algorithm"
   ]
  },
  {
   "cell_type": "code",
   "execution_count": 17,
   "id": "445850d1-86c5-4731-ad8c-e6551eefdfa6",
   "metadata": {
    "execution": {
     "iopub.execute_input": "2025-02-11T01:49:03.103488Z",
     "iopub.status.busy": "2025-02-11T01:49:03.103389Z",
     "iopub.status.idle": "2025-02-11T01:49:03.209721Z",
     "shell.execute_reply": "2025-02-11T01:49:03.209412Z",
     "shell.execute_reply.started": "2025-02-11T01:49:03.103477Z"
    }
   },
   "outputs": [
    {
     "data": {
      "image/png": "[encoded data removed]",
      "text/plain": [
       "<Figure size 640x480 with 1 Axes>"
      ]
     },
     "metadata": {},
     "output_type": "display_data"
    }
   ],
   "source": [
    "fig = plot_trap(x,fx,fcombo)\n",
    "fig.savefig(figpath+f\"adapt_n_trapezoidal_rule_n_{n}.\"+imgfrmt,format=imgfrmt,bbox_inches='tight')"
   ]
  },
  {
   "cell_type": "markdown",
   "id": "80bb318b-40f6-4c46-94ec-eb7ac2e6e1ff",
   "metadata": {},
   "source": [
    "#### Checking whether our functions are in the cone"
   ]
  },
  {
   "cell_type": "code",
   "execution_count": 18,
   "id": "c47db14d-ef23-44f7-8c40-d679efaa007d",
   "metadata": {
    "execution": {
     "iopub.execute_input": "2025-02-11T01:49:03.210224Z",
     "iopub.status.busy": "2025-02-11T01:49:03.210134Z",
     "iopub.status.idle": "2025-02-11T01:49:03.215686Z",
     "shell.execute_reply": "2025-02-11T01:49:03.215316Z",
     "shell.execute_reply.started": "2025-02-11T01:49:03.210214Z"
    }
   },
   "outputs": [
    {
     "name": "stdout",
     "output_type": "stream",
     "text": [
      "variation of f' = 28.793867681040886, the upper bound is 74.83863598274944, so is the function in the cone? True\n",
      "variation of f' = 27.624750931916207, the upper bound is 71.19385684096741, so is the function in the cone? True\n",
      "variation of f' = 904.7786842338604, the upper bound is 0.0, so is the function in the cone? False\n"
     ]
    }
   ],
   "source": [
    "def check_in_cone(f,varfp,nmin,fdg_0, nn = 14):\n",
    "    nvec = nmin+1 + np.arange(nn)\n",
    "    inout = np.full_like(nvec, fill_value=\"in\", dtype=\"U3\")\n",
    "    varuppbd = np.inf\n",
    "    for ii,n in enumerate(nvec):\n",
    "        x = np.linspace(0,1,n+1)\n",
    "        fx = f(x)    \n",
    "        varuppbd_n = fudge(1/n,nmin = nmin, fdg_0 = fdg_0)*varfpest(fx,1/n)\n",
    "        #print(varuppbd_n)\n",
    "        if varuppbd_n < varfp:\n",
    "            inout[ii] = \"out\"\n",
    "        varuppbd = np.min([varuppbd, varuppbd_n])\n",
    "    return varuppbd, varuppbd > varfp, inout\n",
    "\n",
    "fcomboout = check_in_cone(fcombo,varfcombop,nmin,fdg_0)\n",
    "print(f\"variation of f' = {varfcombop}, the upper bound is {fcomboout[0]}, so is the function in the cone? {fcomboout[1]}\")\n",
    "fout = check_in_cone(f,varfp,nmin,fdg_0)\n",
    "print(f\"variation of f' = {varfp}, the upper bound is {fout[0]}, so is the function in the cone? {fout[1]}\")\n",
    "fwaveout = check_in_cone(fwave,varfwavep,nmin,fdg_0)\n",
    "print(f\"variation of f' = {varfwavep}, the upper bound is {fwaveout[0]}, so is the function in the cone? {fwaveout[1]}\")"
   ]
  },
  {
   "cell_type": "markdown",
   "id": "3ced4f88-82fd-4188-861b-e80c2fd65b3a",
   "metadata": {},
   "source": [
    "### Adaptive node selection"
   ]
  },
  {
   "cell_type": "code",
   "execution_count": 19,
   "id": "92124e4e-6f8d-4294-a413-7af8a28f90e4",
   "metadata": {
    "execution": {
     "iopub.execute_input": "2025-02-11T01:49:03.216202Z",
     "iopub.status.busy": "2025-02-11T01:49:03.216111Z",
     "iopub.status.idle": "2025-02-11T01:49:03.218997Z",
     "shell.execute_reply": "2025-02-11T01:49:03.218732Z",
     "shell.execute_reply.started": "2025-02-11T01:49:03.216192Z"
    }
   },
   "outputs": [],
   "source": [
    "def errbd_interval(fvec,xvec,fudge,nmin,fdg_0):\n",
    "    diff_x = np.diff(xvec,n=1)\n",
    "    fpappx = np.diff(fvec,n=1)/diff_x #first order divided differences, derivatives somewhere \n",
    "    dfpappx = np.diff(fpappx)  #difference of the derivatives\n",
    "    diff_2x = xvec[2:] - xvec[0:-2] #widths of two adjacent intervals\n",
    "    varfpbd = np.array([fudge(diff_2x[0],nmin,fdg_0)*np.abs(dfpappx[0]), \\\n",
    "                        *np.max([fudge(diff_2x[:-1],nmin,fdg_0)*np.abs(dfpappx[:-1]), fudge(diff_2x[1:],nmin,fdg_0)*np.abs(dfpappx[1:])],axis = 0, keepdims = False), \\\n",
    "                        fudge(diff_2x[-1],nmin,fdg_0)*np.abs(dfpappx[-1])])  \n",
    "    errbdinterval = varfpbd * (diff_x**2)/8  #error bound on each interval\n",
    "    errbd = sum(errbdinterval)  #total error bound\n",
    "    return errbd, errbdinterval, varfpbd"
   ]
  },
  {
   "cell_type": "code",
   "execution_count": 20,
   "id": "e1e45c1d-cfba-4c90-ba96-91d0bd6e1dce",
   "metadata": {
    "execution": {
     "iopub.execute_input": "2025-02-11T01:49:03.219426Z",
     "iopub.status.busy": "2025-02-11T01:49:03.219344Z",
     "iopub.status.idle": "2025-02-11T01:49:03.222376Z",
     "shell.execute_reply": "2025-02-11T01:49:03.222118Z",
     "shell.execute_reply.started": "2025-02-11T01:49:03.219416Z"
    }
   },
   "outputs": [],
   "source": [
    "def trapadaptx(f,tol = 1e-3, nmin = 10, fdg_0 = 2):\n",
    "    n = 3*nmin\n",
    "    x = np.linspace(0,1,n+1)\n",
    "    #print(f\"x ={x}\")\n",
    "    fx = f(x)\n",
    "    errbd, errbdvec, _ = errbd_interval(fx,x,fudge,nmin,fdg_0)\n",
    "    while errbd > tol:\n",
    "        which_split = np.argmax(errbdvec)\n",
    "        xadd = (x[which_split]+x[which_split+1])/2\n",
    "        #print(\"xadd = \", xadd)\n",
    "        fadd = f(xadd)\n",
    "        x = np.insert(x,which_split+1,xadd)\n",
    "        fx = np.insert(fx,which_split+1,fadd)\n",
    "        n = n + 1\n",
    "        errbd, errbdvec, _ = errbd_interval(fx,x,fudge,nmin,fdg_0)\n",
    "        #print(\"err=\",err)\n",
    "    #print(\"x=\",x)\n",
    "    #print(\"fx=\",fx)\n",
    "    #print(np.diff(x))\n",
    "    #print(f(x))\n",
    "    T = np.sum(((fx[:-1]+fx[1:])/2)*np.diff(x))\n",
    "    rule_name = \"adaptive node placement trapezoidal rule\"\n",
    "    return T, n, errbd, x, fx, rule_name"
   ]
  },
  {
   "cell_type": "code",
   "execution_count": 21,
   "id": "6c4ba9ca-0a3e-4560-9714-2af224e74e6a",
   "metadata": {
    "execution": {
     "iopub.execute_input": "2025-02-11T01:49:03.222845Z",
     "iopub.status.busy": "2025-02-11T01:49:03.222752Z",
     "iopub.status.idle": "2025-02-11T01:49:03.446372Z",
     "shell.execute_reply": "2025-02-11T01:49:03.446015Z",
     "shell.execute_reply.started": "2025-02-11T01:49:03.222835Z"
    }
   },
   "outputs": [
    {
     "name": "stdout",
     "output_type": "stream",
     "text": [
      "The adaptive samples size trapezoidal rule outputs \n",
      "     T_40 = 1.6302809656244968, with an errorbound of 0.00508,\n",
      "     which is less than the error tolerance of 0.01000,\n",
      "     and should be no less than the true error of 0.00026\n",
      "The adaptive node placement trapezoidal rule outputs \n",
      "     T_36 = 1.6308051868101725, with an errorbound of 0.00963,\n",
      "     which is less than the error tolerance of 0.01000,\n",
      "     and should be no less than the true error of 0.00027\n"
     ]
    },
    {
     "data": {
      "image/png": "[encoded data removed]",
      "text/plain": [
       "<Figure size 640x480 with 1 Axes>"
      ]
     },
     "metadata": {},
     "output_type": "display_data"
    },
    {
     "data": {
      "image/png": "[encoded data removed]",
      "text/plain": [
       "<Figure size 640x480 with 1 Axes>"
      ]
     },
     "metadata": {},
     "output_type": "display_data"
    }
   ],
   "source": [
    "T, n, errbd, x, fx, rule_name = trapadaptn(fcombo,tol = err_tol, nmin = nmin, fdg_0 = fdg_0)\n",
    "print_trap_out(rule_name,T,n,errbd,intfcombo)\n",
    "fig = plot_trap(x,fx,fcombo,edge_color = [lighter_py_blue])\n",
    "fig.savefig(figpath+f\"fcombo_adapt_n_trapezoidal_rule_n_{n}.\"+imgfrmt,format=imgfrmt,bbox_inches='tight')\n",
    "\n",
    "T, n, errbd, x, fx, rule_name = trapadaptx(fcombo,tol = err_tol, nmin = nmin, fdg_0 = fdg_0)\n",
    "print_trap_out(rule_name,T,n,errbd,intfcombo)\n",
    "fig = plot_trap(x,fx,fcombo,edge_color = [lighter_py_blue])\n",
    "fig.savefig(figpath+f\"fcombo_adapt_x_trapezoidal_rule_n_{n}.\"+imgfrmt,format=imgfrmt,bbox_inches='tight')\n"
   ]
  },
  {
   "cell_type": "markdown",
   "id": "2cf7ac64-f3b7-4388-86b0-7c3ba826d704",
   "metadata": {},
   "source": [
    "#### Find a function where adaptive node selection makes a difference"
   ]
  },
  {
   "cell_type": "code",
   "execution_count": 22,
   "id": "66aa0002-0378-4f04-beb4-f2cc8fae0e93",
   "metadata": {
    "execution": {
     "iopub.execute_input": "2025-02-11T01:49:03.447104Z",
     "iopub.status.busy": "2025-02-11T01:49:03.446993Z",
     "iopub.status.idle": "2025-02-11T01:49:03.468406Z",
     "shell.execute_reply": "2025-02-11T01:49:03.468081Z",
     "shell.execute_reply.started": "2025-02-11T01:49:03.447092Z"
    }
   },
   "outputs": [
    {
     "name": "stdout",
     "output_type": "stream",
     "text": [
      "Integral of f = 1.0634723023453962\n",
      "Variation of f' = 823.4531140895541\n"
     ]
    }
   ],
   "source": [
    "#Use symbolic computation to get function and its second derivative\n",
    "xx = sy.symbols('xx')\n",
    "ffpeak = 12*sy.exp(-400*(xx-0.2)**2)  #one hump\n",
    "fpeak = sy.lambdify(xx, ffpeak, modules=[\"numpy\"])\n",
    "ffpeakpp = sy.diff(ffpeak,xx,2)\n",
    "fpeakpp = sy.lambdify(xx, ffpeakpp, modules=[\"numpy\"])\n",
    "intfpeak, varfpeakp, _,_,_ = int_var(fpeak,fpeakpp)\n",
    "print(f\"Integral of f = {intfpeak}\\nVariation of f' = {varfpeakp}\")"
   ]
  },
  {
   "cell_type": "code",
   "execution_count": 23,
   "id": "1d64db87-248a-42ba-9aea-4ff3ade76cd6",
   "metadata": {
    "execution": {
     "iopub.execute_input": "2025-02-11T01:49:03.469103Z",
     "iopub.status.busy": "2025-02-11T01:49:03.468922Z",
     "iopub.status.idle": "2025-02-11T01:49:03.935601Z",
     "shell.execute_reply": "2025-02-11T01:49:03.935332Z",
     "shell.execute_reply.started": "2025-02-11T01:49:03.469089Z"
    }
   },
   "outputs": [
    {
     "name": "stdout",
     "output_type": "stream",
     "text": [
      "The adaptive samples size trapezoidal rule outputs \n",
      "     T_320 = 1.0634723021702208, with an errorbound of 0.00204,\n",
      "     which is less than the error tolerance of 0.00500,\n",
      "     and should be no less than the true error of 0.00000\n",
      "The adaptive node placement trapezoidal rule outputs \n",
      "     T_70 = 1.0637524266502139, with an errorbound of 0.00499,\n",
      "     which is less than the error tolerance of 0.00500,\n",
      "     and should be no less than the true error of 0.00028\n"
     ]
    },
    {
     "data": {
      "image/png": "[encoded data removed]",
      "text/plain": [
       "<Figure size 640x480 with 1 Axes>"
      ]
     },
     "metadata": {},
     "output_type": "display_data"
    },
    {
     "data": {
      "image/png": "[encoded data removed]",
      "text/plain": [
       "<Figure size 640x480 with 1 Axes>"
      ]
     },
     "metadata": {},
     "output_type": "display_data"
    }
   ],
   "source": [
    "err_tol = 5e-3\n",
    "T, n, errbd, x, fx, rule_name = trapadaptn(fpeak,tol = err_tol, nmin = nmin, fdg_0 = fdg_0)\n",
    "print_trap_out(rule_name,T,n,errbd,intfpeak)\n",
    "fig = plot_trap(x,fx,fpeak,edge_color = [lighter_py_blue], title = f\"{n} Trapezoids\", title_pos = 0.92, aspect_ratio = 0.07)\n",
    "fig.savefig(figpath+f\"fpeak_adapt_n_trapezoidal_rule_n_{n}.\"+imgfrmt,format=imgfrmt,bbox_inches='tight')\n",
    "\n",
    "T, n, errbd, x, fx, rule_name = trapadaptx(fpeak,tol = err_tol, nmin = nmin, fdg_0 = fdg_0)\n",
    "print_trap_out(rule_name,T,n,errbd,intfpeak)\n",
    "fig = plot_trap(x,fx,fpeak,edge_color = [lighter_py_blue], title = f\"{n} Trapezoids\", title_pos = 0.92, aspect_ratio = 0.07)\n",
    "fig.savefig(figpath+f\"fpeak_adapt_x_trapezoidal_rule_n_{n}.\"+imgfrmt,format=imgfrmt,bbox_inches='tight')\n"
   ]
  },
  {
   "cell_type": "markdown",
   "id": "7f99ebcb-2c83-4484-99c5-19639db852f9",
   "metadata": {},
   "source": [
    "### Compare adaptive sample size and adaptive node selection"
   ]
  },
  {
   "cell_type": "code",
   "execution_count": 24,
   "id": "9b7ba877-2316-421f-9532-03c3f97e3350",
   "metadata": {
    "execution": {
     "iopub.execute_input": "2025-02-11T01:49:03.936152Z",
     "iopub.status.busy": "2025-02-11T01:49:03.936062Z",
     "iopub.status.idle": "2025-02-11T01:51:13.485147Z",
     "shell.execute_reply": "2025-02-11T01:51:13.484781Z",
     "shell.execute_reply.started": "2025-02-11T01:49:03.936142Z"
    }
   },
   "outputs": [],
   "source": [
    "tol_vec = np.geomspace(1e-2, 1e-8,20)\n",
    "adapt_n_cost = np.zeros_like(tol_vec)\n",
    "adapt_x_cost = np.zeros_like(tol_vec)\n",
    "\n",
    "for ii, tol in enumerate(tol_vec):\n",
    "    _, adapt_n_cost[ii], _, _, _, _ = trapadaptn(fpeak, tol = tol, nmin = nmin, fdg_0 = fdg_0)\n",
    "    _, adapt_x_cost[ii], _, _, _, _ = trapadaptx(fpeak, tol = tol, nmin = nmin, fdg_0 = fdg_0)\n"
   ]
  },
  {
   "cell_type": "code",
   "execution_count": 25,
   "id": "f6af75d3-ee1d-4dab-ac2f-dce25ae5024f",
   "metadata": {
    "execution": {
     "iopub.execute_input": "2025-02-11T01:51:13.485861Z",
     "iopub.status.busy": "2025-02-11T01:51:13.485746Z",
     "iopub.status.idle": "2025-02-11T01:51:13.993987Z",
     "shell.execute_reply": "2025-02-11T01:51:13.993683Z",
     "shell.execute_reply.started": "2025-02-11T01:51:13.485844Z"
    }
   },
   "outputs": [
    {
     "data": {
      "image/png": "[encoded data removed]",
      "text/plain": [
       "<Figure size 640x480 with 1 Axes>"
      ]
     },
     "metadata": {},
     "output_type": "display_data"
    }
   ],
   "source": [
    "aspect_ratio = 1\n",
    "fig, ax = plt.subplots()\n",
    "ax.plot(tol_vec,adapt_n_cost, '.', markersize = 15, label = \"adaptive $n$\")\n",
    "ax.plot(tol_vec,adapt_x_cost, '.', markersize = 15, label = \"adaptive $x_i$\")\n",
    "ax.plot([tol_vec[0], tol_vec[-1]],np.sqrt(varfpeakp/(8*(np.array([tol_vec[0], tol_vec[-1]])))), '-', linewidth = 2, label = \"$\\\\sqrt{\\\\mathrm{Var}(f')/(8*\\\\varepsilon)}$\")\n",
    "ax.set_xscale(\"log\")\n",
    "ax.set_yscale(\"log\")\n",
    "ax.set_xlabel(\"$\\\\varepsilon$\")\n",
    "ax.set_ylabel(\"n\")\n",
    "ax.legend(frameon = False, fontsize=14)\n",
    "\n",
    "fig.savefig(figpath+f\"fpeak_cost_trapezoidal_rule_n_{n}.\"+imgfrmt,format=imgfrmt,bbox_inches='tight')"
   ]
  },
  {
   "cell_type": "markdown",
   "id": "7d40ff83-5f10-477b-b031-1507c1e1426a",
   "metadata": {},
   "source": [
    "# BREAK HERE"
   ]
  },
  {
   "cell_type": "code",
   "execution_count": 26,
   "id": "a98f6b5e-4819-4246-92f0-e44048dd573d",
   "metadata": {
    "execution": {
     "iopub.execute_input": "2025-02-11T01:51:13.994518Z",
     "iopub.status.busy": "2025-02-11T01:51:13.994422Z",
     "iopub.status.idle": "2025-02-11T01:51:14.000070Z",
     "shell.execute_reply": "2025-02-11T01:51:13.997750Z",
     "shell.execute_reply.started": "2025-02-11T01:51:13.994507Z"
    }
   },
   "outputs": [
    {
     "ename": "SystemExit",
     "evalue": "Stopping execution",
     "output_type": "error",
     "traceback": [
      "An exception has occurred, use %tb to see the full traceback.\n",
      "\u001b[0;31mSystemExit\u001b[0m\u001b[0;31m:\u001b[0m Stopping execution\n"
     ]
    },
    {
     "name": "stderr",
     "output_type": "stream",
     "text": [
      "/Users/fredhickernell/miniconda3/envs/qmcpy/lib/python3.9/site-packages/IPython/core/interactiveshell.py:3558\n",
      "\tUserWarning: To exit: use 'exit', 'quit', or Ctrl-D.\n"
     ]
    }
   ],
   "source": [
    "sys.exit(\"Stopping execution\")"
   ]
  },
  {
   "cell_type": "markdown",
   "id": "8c42c4ca-84d1-4e36-b830-6ea6ac2df9c9",
   "metadata": {},
   "source": [
    "### Plot the errors of the three methods"
   ]
  },
  {
   "cell_type": "code",
   "execution_count": null,
   "id": "feac019c-0164-4f9d-8eed-2f8bacef4f0d",
   "metadata": {
    "execution": {
     "iopub.status.busy": "2025-02-11T01:51:14.000316Z",
     "iopub.status.idle": "2025-02-11T01:51:14.000455Z",
     "shell.execute_reply": "2025-02-11T01:51:14.000382Z",
     "shell.execute_reply.started": "2025-02-11T01:51:14.000376Z"
    }
   },
   "outputs": [],
   "source": [
    "#Load the output for plotting\n",
    "out_filename = f'Keister_d_{d}_n_max_{n_max}_n_rep_{n_rep}.pkl'\n",
    "with open(figpath+out_filename,'rb') as myfile: \n",
    "    d,m_max,n_rep,n_max,n_grid,n_mc,n_qmc,err_grid,err_mc,err_qmc,err_mc_avg,err_qmc_avg = pickle.load(myfile) #load in all the data\n",
    "\n",
    "\n",
    "#Plot the errors and trend lines\n",
    "keister_plt_lines_args = {\"linewidth\" : 3,\n",
    "                         \"markersize\" : 10}\n",
    "plt.loglog(n_grid, err_grid, **blue_symbol, alpha = 1, label = \"grid\") #grid sampling errors\n",
    "plt.loglog([n_grid[0],n_grid[-1]],[err_grid[0],err_grid[0]*(n_grid[-1]/n_grid[0])**(-1./(d-1))], ':', \\\n",
    "           **keister_plt_lines_args, color = py_blue, label = \"$\\mathcal{O}(n^{-1/5})$\") #trend of grid errors\n",
    "al_scat = 1/np.sqrt(n_rep) #opacity of symbols\n",
    "plt.loglog(n_mc, err_mc[:,0], **orange_symbol, alpha = al_scat, label = \"IID\")  #Monte Carlo errors\n",
    "plt.loglog(n_mc, err_mc[:,1:], **orange_symbol, alpha = al_scat)  #Monte Carlo errors\n",
    "plt.loglog(n_mc, err_mc_avg, '--', **keister_plt_lines_args, color = py_orange, label = \"IID avg\") #average of MC errors\n",
    "#plt.loglog([n_mc[0],n_mc[-1]],[err_qmc_avg[0],err_qmc_avg[0]*(n_mc[-1]/n_mc[0])**(-1./2)], \\\n",
    "#           '-', **keister_plt_lines_args, color = py_orange, label = \"$\\mathcal{O}(n^{-1/2})$\")\n",
    "plt.loglog(n_qmc, err_qmc[:,0], **green_symbol, alpha = al_scat, label = \"LD\") #quasi-Monte Carlo errors\n",
    "plt.loglog(n_qmc, err_qmc[:,1:], **green_symbol, alpha = al_scat) #quasi-Monte Carlo errors\n",
    "plt.loglog(n_qmc, err_qmc_avg, '-.', **keister_plt_lines_args, color = py_green, label = \"LD avg\")  #average of quasi-Monte Carlo errors\n",
    "plt.loglog([n_qmc[0],n_qmc[-1]],[err_qmc_avg[0],err_qmc_avg[0]*(n_mc[-1]/n_mc[0])**(-1.)], \\\n",
    "           '-', **keister_plt_lines_args, color = py_green, label = \"$\\mathcal{O}(n^{-1})$\")  #trend of qMC errors\n",
    "plt.xlabel(\"Sample Size, $n$\")\n",
    "plt.ylabel(\"Relative Error, $|(\\mu - \\hat{\\mu}_n)/\\mu |$\")\n",
    "plt.grid(False)\n",
    "legend = plt.legend(loc = \"lower left\", handlelength=5, frameon=False)\n",
    "for legend_handle in legend.legendHandles:\n",
    "    legend_handle.set_alpha(1)  # Set legend symbol opacity\n",
    "#plt.show()\n",
    "\n",
    "if savefigs:\n",
    "    plt.savefig(figpath+f\"n_is_{n_max}_d_is_{d}_n_rep_is_{n_rep}_KeisterErrors.\"+imgfrmt,format=imgfrmt,bbox_inches='tight')"
   ]
  },
  {
   "cell_type": "markdown",
   "id": "7c9b56cb-2fb6-4599-b72b-dfe262e6a771",
   "metadata": {},
   "source": [
    "## ise"
   ]
  },
  {
   "cell_type": "markdown",
   "id": "5f62afc0-84bc-474e-9205-d93d2ac871c8",
   "metadata": {},
   "source": [
    "## Examples of ways to spread points on a hypercube"
   ]
  },
  {
   "cell_type": "markdown",
   "id": "e043435e-dd37-4047-8d74-1e7d92f34449",
   "metadata": {},
   "source": [
    "### Evenly spaced points in one dimension $(d=1)$\n",
    "In one dimension it is easy to spread points evenly"
   ]
  },
  {
   "cell_type": "code",
   "execution_count": null,
   "id": "7151d691-c156-4d2f-b79f-eb2443db7502",
   "metadata": {
    "execution": {
     "iopub.status.busy": "2025-02-11T01:51:14.000955Z",
     "iopub.status.idle": "2025-02-11T01:51:14.001074Z",
     "shell.execute_reply": "2025-02-11T01:51:14.001012Z",
     "shell.execute_reply.started": "2025-02-11T01:51:14.001007Z"
    }
   },
   "outputs": [],
   "source": [
    "n = 64\n",
    "xpts = np.linspace(1/(2*n), 1-1/(2*n), n) #equally spaced points between 0 and 1\n",
    "fig, ax = plt.subplots()\n",
    "ax.plot(xpts, np.zeros_like(xpts), **blue_symbol, zorder=10, clip_on=False) \n",
    "ax.set_ylim([0, 3e-2])\n",
    "ax.set_title(f\"{n:.0f} Equally Spaced Points for $d=1$\")\n",
    "ax.set_xlabel(\"$x_i$\")\n",
    "ax.set_aspect(1)\n",
    "ax.axes.get_yaxis().set_visible(False)  #turn off the tics on the vertical axis\n",
    "ax.spines[['top','right','left']].set_visible(False)  #turn off the bounding box on the top and sides\n",
    "if savefigs:\n",
    "    fig.savefig(figpath+f\"{n:.0f}equallyspacedpts.\"+imgfrmt,format=imgfrmt)"
   ]
  },
  {
   "cell_type": "markdown",
   "id": "2a1c80bd-ae01-4757-93d5-36908c3ff10d",
   "metadata": {},
   "source": [
    "### Grids in dimension $d$\n",
    "Our natural thought for higher dimensions is to use rectangular grids, but as the dimension, $d$, increases, the number of different values per coordinate decreases drastically."
   ]
  },
  {
   "cell_type": "code",
   "execution_count": null,
   "id": "b84c59d4-1e5c-48ae-9ddf-900ede70cf20",
   "metadata": {
    "execution": {
     "iopub.status.busy": "2025-02-11T01:51:14.001564Z",
     "iopub.status.idle": "2025-02-11T01:51:14.001686Z",
     "shell.execute_reply": "2025-02-11T01:51:14.001623Z",
     "shell.execute_reply.started": "2025-02-11T01:51:14.001617Z"
    }
   },
   "outputs": [],
   "source": [
    "plt.rcParams.update({\n",
    "    \"font.family\" : font_family,\n",
    "    \"mathtext.fontset\" : \"dejavuserif\",\n",
    "    \"axes.labelsize\" : 18,\n",
    "    \"axes.titlesize\" : 18,\n",
    "    \"xtick.labelsize\" : 14,\n",
    "    \"ytick.labelsize\" : 14\n",
    "})\n",
    "def plot_grid(xgrid, coord_to_plot = [0, 1], savefig = True, figpath = ''):\n",
    "    n = xgrid.shape[0]\n",
    "    d = xgrid.shape[1]\n",
    "    coord_to_plot = np.minimum(coord_to_plot,[d,d]), #ensure that they are no more than d\n",
    "    coord_to_plot = coord_to_plot[0]\n",
    "    coord_to_plot = np.maximum(coord_to_plot,[1,1]), #ensure that they are no less than 1\n",
    "    coord_to_plot = coord_to_plot[0]\n",
    "    fig, ax = plt.subplots(figsize=(4.5,4.5))\n",
    "    ax.plot(xgrid[:,coord_to_plot[0]-1], xgrid[:,coord_to_plot[1]-1], **blue_symbol, zorder=10, clip_on=False) \n",
    "    ax.set_title(f\"{n:.0f} Grid Points for $d = ${d:.0f}\",fontsize=20)\n",
    "    ax.set_xlim([0,1])\n",
    "    ax.set_ylim([0,1])\n",
    "    ax.set_xlabel(r'$x_{i%d}$'%(coord_to_plot[0]),fontsize=20)#,fontname=\"dejavuserif\",font_familiy=\"serif\")\n",
    "    ax.set_ylabel(r'$x_{i%d}$'%(coord_to_plot[1]),fontsize=20)#,fontname=\"dejavuserif\")\n",
    "    ax.set_aspect(1)\n",
    "    ax.grid(False)\n",
    "    if savefigs:\n",
    "        fig.savefig(figpath+f\"{n:.0f}gridpts_d{d:.0f}.\"+imgfrmt,format=imgfrmt, bbox_inches='tight')\n"
   ]
  },
  {
   "cell_type": "code",
   "execution_count": null,
   "id": "3584c076-1f96-4011-89d1-33b4a0ebcd8d",
   "metadata": {
    "execution": {
     "iopub.status.busy": "2025-02-11T01:51:14.002332Z",
     "iopub.status.idle": "2025-02-11T01:51:14.002456Z",
     "shell.execute_reply": "2025-02-11T01:51:14.002387Z",
     "shell.execute_reply.started": "2025-02-11T01:51:14.002382Z"
    }
   },
   "outputs": [],
   "source": [
    "plot_grid(make_grid(2,8), [1,2], savefigs, figpath)\n",
    "plot_grid(make_grid(3,4), [1,2], savefigs, figpath)\n",
    "plot_grid(make_grid(6,2), [1,2], savefigs, figpath)"
   ]
  },
  {
   "cell_type": "markdown",
   "id": "ceb45fe1-b8f7-4c6c-a952-07997e0b4255",
   "metadata": {},
   "source": [
    "### Independent and identically distributed (IID) points\n",
    "Since grids are bad, we can use IID points instead.  Note how they fill space better."
   ]
  },
  {
   "cell_type": "code",
   "execution_count": null,
   "id": "13066cc1-51c5-4fbd-912b-143223293d14",
   "metadata": {
    "execution": {
     "iopub.status.busy": "2025-02-11T01:51:14.003312Z",
     "iopub.status.idle": "2025-02-11T01:51:14.003520Z",
     "shell.execute_reply": "2025-02-11T01:51:14.003447Z",
     "shell.execute_reply.started": "2025-02-11T01:51:14.003441Z"
    }
   },
   "outputs": [],
   "source": [
    "#Parameter values used here and below\n",
    "d = 6  #the dimension used for these examples\n",
    "n = 64  #the sample size used for these examples\n",
    "dot_size = 20  #size of dot in some plots\n",
    "line_width = 2.5"
   ]
  },
  {
   "cell_type": "code",
   "execution_count": null,
   "id": "03d6f102-ffed-44b5-83b1-5820d187122a",
   "metadata": {
    "execution": {
     "iopub.status.busy": "2025-02-11T01:51:14.004001Z",
     "iopub.status.idle": "2025-02-11T01:51:14.004114Z",
     "shell.execute_reply": "2025-02-11T01:51:14.004053Z",
     "shell.execute_reply.started": "2025-02-11T01:51:14.004048Z"
    }
   },
   "outputs": [],
   "source": [
    "plot_proj_args = {\"figfac\" : 11,\n",
    "                  \"axis_pad\" : 0.05,\n",
    "                  \"marker_size\" : dot_size,\n",
    "                  \"font_family\" : font_family,\n",
    "                  \"want_grid\" : False,\n",
    "                  \"where_title\" : 0.527}\n",
    "fig,ax = qp.plot_proj(qp.IIDStdUniform(d), n, d_horizontal = 1, d_vertical = np.arange(2,6), **plot_proj_args, \\\n",
    "                      fig_title = f\"{n} Independent and Identically Distributed (IID) points ($d = $ {d})\")\n",
    "if savefigs:\n",
    "        fig.savefig(figpath+f\"{n:.0f}iidpts_d{d:.0f}.\"+imgfrmt,format=imgfrmt, bbox_inches='tight')"
   ]
  },
  {
   "cell_type": "markdown",
   "id": "181d79a9-e81d-4e18-acad-a11f0ddfae58",
   "metadata": {},
   "source": [
    "### Low disrepancy points\n",
    "There are several kinds of low discrepancy points, includng Sobol', lattice, and Halton.  Below we display one kind."
   ]
  },
  {
   "cell_type": "code",
   "execution_count": null,
   "id": "398bbe81-d040-4b1b-b934-7994c0aa3ed8",
   "metadata": {
    "execution": {
     "iopub.status.busy": "2025-02-11T01:51:14.004787Z",
     "iopub.status.idle": "2025-02-11T01:51:14.004920Z",
     "shell.execute_reply": "2025-02-11T01:51:14.004865Z",
     "shell.execute_reply.started": "2025-02-11T01:51:14.004860Z"
    }
   },
   "outputs": [],
   "source": [
    "fig,ax = qp.plot_proj(qp.Sobol(d), n, d_horizontal = 1, d_vertical = np.arange(2,6), **plot_proj_args, \\\n",
    "                      fig_title = f\"{n} Low Discrepancy (LD) Points ($d = $ {d})\")\n",
    "    #d_horizontal and d_vertical are the tuples of coordinates to plot\n",
    "if savefigs:\n",
    "        fig.savefig(figpath+f\"{n:.0f}sobolpts_d{d:.0f}.\"+imgfrmt,format=imgfrmt,bbox_inches='tight')"
   ]
  },
  {
   "cell_type": "markdown",
   "id": "c4468e25-b10b-4f3a-91f6-6d51b3554e01",
   "metadata": {},
   "source": [
    "### Integration Lattices"
   ]
  },
  {
   "cell_type": "markdown",
   "id": "61eab1d4-6a5c-47d7-bd01-d10b8c053610",
   "metadata": {},
   "source": [
    "#### Constructing an integration lattice\n",
    "$$\n",
    "\\vx_i = i \\vh / n \\ \\pmod{1}, \\qquad i = 0, \\ldots, n-1\n",
    "$$"
   ]
  },
  {
   "cell_type": "code",
   "execution_count": null,
   "id": "62caf380-f19b-4893-9d09-ab9801909bb1",
   "metadata": {
    "execution": {
     "iopub.status.busy": "2025-02-11T01:51:14.005546Z",
     "iopub.status.idle": "2025-02-11T01:51:14.005813Z",
     "shell.execute_reply": "2025-02-11T01:51:14.005728Z",
     "shell.execute_reply.started": "2025-02-11T01:51:14.005723Z"
    }
   },
   "outputs": [],
   "source": [
    "h_gen = np.array([1, 11])\n",
    "n = 16\n",
    "d = h_gen.size\n",
    "x_lat = np.mod(np.arange(0,n).reshape(n,1)*h_gen.reshape(1,d)/n,1)\n",
    "#x_lat = qp.Lattice(d,randomize = False).gen_samples(n)\n",
    "\n",
    "al_fade = 0.3\n",
    "x_off = 0.05\n",
    "an_ft = 15\n",
    "arrow_style = {\"color\" : py_green, \"head_width\" : 0.03, \"length_includes_head\" : True, \"linewidth\" : line_width}\n",
    "n_plt = 4\n",
    "fig, ax = plt.subplots(1,n_plt,figsize = (13,13/3))\n",
    "for ii in range(n_plt):\n",
    "    ax[ii].set_xlim([-0.1, 1.2])\n",
    "    ax[ii].set_ylim([-0.1, 1.5])\n",
    "    ax[ii].set_aspect(1) \n",
    "    ax[ii].grid(False)\n",
    "    ax[ii].plot([0,0,1,1,0],[0,1,1,0,0], linewidth = 0.5, color = \"gray\")\n",
    "    ax[ii].set_xlabel(\"$x_{i1}$\")\n",
    "    ax[ii].set_ylabel(\"$x_{i2}$\")\n",
    "\n",
    "    \n",
    "ax[0].plot(x_lat[0,0],x_lat[0,1], **blue_symbol)\n",
    "ax[0].plot(x_lat[1,0],x_lat[1,1], **orange_symbol)\n",
    "ax[0].arrow(x_lat[0,0],x_lat[0,1],h_gen[0]/n,h_gen[1]/n,**arrow_style)\n",
    "ax[0].annotate(f\"$\\\\boldsymbol{{x}}_1$\",(x_lat[1,0]+x_off,x_lat[1,1]))\n",
    "\n",
    "\n",
    "for jj in range(1,4):  #next three plots\n",
    "    over_ctr = 0  #how many times higher than one\n",
    "    ax[jj].plot(x_lat[0,0],x_lat[0,1],**blue_symbol) #plot the origin\n",
    "    x_next_vert = x_lat[0,1]+h_gen[1]/n  #how high the next point may go\n",
    "    kk = 1  #next is the first point\n",
    "    cond = (over_ctr < jj)  or ((jj == 3) & (kk < n))\n",
    "    #print(\"jj = \",jj,\"kk = \",kk,\"cond =\",cond)\n",
    "    while cond :\n",
    "        while x_next_vert < 1:  #as long as the next point does not go to high\n",
    "            ax[jj].plot(x_lat[kk,0],x_lat[kk,1],**blue_symbol)  #plot next point\n",
    "            ax[jj].arrow(x_lat[kk-1,0],x_lat[kk-1,1],h_gen[0]/n,h_gen[1]/n,alpha = al_fade,**arrow_style)  #plot arrow to nexgt point\n",
    "            x_next_vert = x_lat[kk,1]+h_gen[1]/n  #how high does the next point go\n",
    "            kk += 1  #increment next point\n",
    "        over_ctr +=1  #this next point will go over the vertical axis\n",
    "        #print(\"over_ctr =\",over_ctr)\n",
    "        cond = (over_ctr < jj)  or ((jj == 3) & (kk < n-1)) #is this the last jump or the last figure\n",
    "        #print(\"jj = \",jj,\"kk = \",kk,\"n =\",n,\"cond =\",cond)\n",
    "        xcross = x_lat[kk-1,0]+(1.-x_lat[kk-1,1])*h_gen[0]/h_gen[1]  #determine the crosssing point \n",
    "        if cond:  #if not over more than allowed number of times \n",
    "            ax[jj].plot([x_lat[kk-1,0],xcross],[x_lat[kk-1,1],1],'-',color = py_green, alpha = al_fade, linewidth = line_width)  #plot the bottom part of the arrow\n",
    "            ax[jj].arrow(xcross,1,x_lat[kk,0]-xcross,x_lat[kk,1],alpha = al_fade,**arrow_style)  #plot the top part of the arrow\n",
    "            ax[jj].arrow(xcross,0,x_lat[kk,0]-xcross,x_lat[kk,1],alpha = al_fade,**arrow_style)  #plot the top part of the wrapped around arrow\n",
    "            ax[jj].plot(x_lat[kk,0],x_lat[kk,1],**blue_symbol)  #plot the new point\n",
    "        else:\n",
    "            #print(\"jj = \",jj,\"kk = \",kk,\"n =\",n,\"cond =\",cond)\n",
    "            ax[jj].plot([x_lat[kk-1,0],xcross],[x_lat[kk-1,1],1],'-',color = py_green,linewidth = line_width)\n",
    "            ax[jj].arrow(xcross,1,x_lat[kk,0]-xcross,x_lat[kk,1],alpha = al_fade,**arrow_style)\n",
    "            ax[jj].arrow(xcross,0,x_lat[kk,0]-xcross,x_lat[kk,1],**arrow_style)\n",
    "            ax[jj].annotate(f\"$\\\\boldsymbol{{x}}_{{{kk}}}$\",(x_lat[kk,0]+x_off,x_lat[kk,1]))\n",
    "            ax[jj].plot(x_lat[kk,0],x_lat[kk,1],**orange_symbol)  #plot the new point\n",
    "        ax[jj].plot(x_lat[kk,0],1 + x_lat[kk,1],**blue_symbol, alpha = al_fade)  #plot the new point before wrap around\n",
    "        x_next_vert = x_lat[kk,1]+h_gen[1]/n\n",
    "        kk += 1\n",
    "        cond = (over_ctr < jj)  or ((jj == 3) & (kk < n))\n",
    "        #print(\"jj = \",jj,\"kk = \",kk,\"n =\",n,\"cond =\",cond)\n",
    "\n",
    "ax[3].plot(1.,1. , **blue_symbol, alpha = al_fade)\n",
    "ax[3].plot(1.,1. , **blue_symbol, alpha = al_fade)\n",
    "ax[3].arrow(x_lat[-1,0],x_lat[-1,1],h_gen[0]/n,h_gen[1]/n,alpha = al_fade,**arrow_style)\n",
    "        \n",
    "fig.suptitle(f\"Lattice $\\\\boldsymbol{{x}}^{{\\mathrm{{lat}}}}_i = i ({h_gen[0]},{h_gen[1]})/{n} \\\\pmod{{\\\\boldsymbol{{1}}}}, \\\\quad i = 0, \\\\ldots, {n-1}$\", \\\n",
    "             ha = 'center', va = 'center', y = .92, fontsize=22)\n",
    "fig.tight_layout()\n",
    "if savefigs:\n",
    "        fig.savefig(figpath+f\"{n:.0f}_lattice_construct_d{d:.0f}.\"+imgfrmt,format=imgfrmt,bbox_inches='tight')"
   ]
  },
  {
   "cell_type": "code",
   "execution_count": null,
   "id": "42e9f938-bd74-45f2-9332-a77a2538260a",
   "metadata": {
    "execution": {
     "iopub.status.busy": "2025-02-11T01:51:14.006148Z",
     "iopub.status.idle": "2025-02-11T01:51:14.006284Z",
     "shell.execute_reply": "2025-02-11T01:51:14.006199Z",
     "shell.execute_reply.started": "2025-02-11T01:51:14.006194Z"
    }
   },
   "outputs": [],
   "source": [
    "x_lat = x_lat[:,0:2]\n",
    "n_plt = 4\n",
    "fig, ax = plt.subplots(1,n_plt,figsize = (13,13/3))\n",
    "for ii in range(n_plt):\n",
    "    ax[ii].set_xlim([-0.1, 1.2])\n",
    "    ax[ii].set_ylim([-0.1, 1.4])\n",
    "    ax[ii].set_aspect(1) \n",
    "    ax[ii].grid(False)\n",
    "    ax[ii].plot([0,0,1,1,0],[0,1,1,0,0], linewidth = 0.5, color = \"gray\")\n",
    "    ax[ii].set_xlabel(\"$x_{i1}$\")\n",
    "    ax[ii].set_ylabel(\"$x_{i2}$\")\n",
    "\n",
    "shift = np.array([[1/5,1/3],[3/5,1/5],[2/7,5/7]])\n",
    "    \n",
    "ax[0].plot(x_lat[:,0],x_lat[:,1],**blue_symbol)\n",
    "\n",
    "for ii in range(1,4):\n",
    "    x_shlat = x_lat + shift[ii-1,:]\n",
    "    x_shlatmod = np.mod(x_shlat,1)\n",
    "    ax[ii].plot(x_shlat[:,0],x_shlat[:,1],**blue_symbol)\n",
    "    ax[ii].plot(x_shlatmod[:,0],x_shlatmod[:,1],**orange_symbol)\n",
    "    ax[ii].arrow(0,0,x_shlat[0,0],x_shlat[0,1],**arrow_style)\n",
    "    ax[ii].annotate(f\"$\\\\boldsymbol{{x}}_{{0}} = \\\\boldsymbol{{\\\\Delta}}$\",(x_shlat[0,0]+x_off,x_shlat[0,1]), fontsize = an_ft)\n",
    "\n",
    "fig.suptitle(f\"Lattice $\\\\boldsymbol{{x}}_i = i ({h_gen[0]},{h_gen[1]})/{n} + \\\\boldsymbol{{\\\\Delta}} \\\\pmod{{\\\\boldsymbol{{1}}}}, \\\\quad i = 0, \\\\ldots, {n-1}$\", \\\n",
    "             ha = 'center', va = 'center', fontsize = 22, y=0.90)\n",
    "if savefigs:\n",
    "        fig.savefig(figpath+f\"{n:.0f}_shifted_lattice_construct_d{d:.0f}.\"+imgfrmt,format=imgfrmt,bbox_inches='tight')"
   ]
  },
  {
   "cell_type": "markdown",
   "id": "afb35fe0-92d9-49e1-8f19-d3a3e4fd605c",
   "metadata": {},
   "source": [
    "#### Constructing a __shifted__ integration lattice\n",
    "$$\n",
    "\\vx_i = i \\vh / n + \\boldsymbol{\\Delta} \\ \\pmod{1}, \\qquad i = 0, \\ldots, n-1\n",
    "$$"
   ]
  },
  {
   "cell_type": "markdown",
   "id": "1310b252-07c1-4482-b30f-eb8245c70f47",
   "metadata": {},
   "source": [
    "#### van der Corput sequence, an extensible 1-D even sequence"
   ]
  },
  {
   "cell_type": "code",
   "execution_count": null,
   "id": "46fb7f21-952f-477b-b85e-18e763e747b3",
   "metadata": {
    "execution": {
     "iopub.status.busy": "2025-02-11T01:51:14.006915Z",
     "iopub.status.idle": "2025-02-11T01:51:14.007175Z",
     "shell.execute_reply": "2025-02-11T01:51:14.007105Z",
     "shell.execute_reply.started": "2025-02-11T01:51:14.007099Z"
    }
   },
   "outputs": [],
   "source": [
    "n = 16\n",
    "xoff = -0.01\n",
    "yoff = 0.01\n",
    "xpts = qp.Sobol(1,randomize =  False).gen_samples(n) #equally spaced points between 0 and 1\n",
    "fig, ax = plt.subplots()\n",
    "ax.plot(xpts, np.zeros_like(xpts), zorder=10, clip_on=False, **blue_symbol)\n",
    "ax.set_ylim([0, 3e-2])\n",
    "ax.set_title(f\"{n:.0f} points of a van der Corput squence\")\n",
    "#ax.set_xlabel(\"$x_i$\")\n",
    "ax.set_aspect(1)\n",
    "ax.axes.get_yaxis().set_visible(False)  #turn off the tics on the vertical axis\n",
    "ax.grid(False)\n",
    "ax.set_xticks([0, 0.25, 0.5, 0.75, 1])\n",
    "ax.spines[['top','right','left']].set_visible(False)  #turn off the bounding box on the top and sides\n",
    "for ii in range(6):\n",
    "    ax.annotate(f\"$x_{{{ii}}}$\",(xpts[ii] + xoff, yoff), fontsize = an_ft)\n",
    "if savefigs:\n",
    "    fig.savefig(figpath+f\"{n:.0f}vandercorputpts.\"+imgfrmt,format=imgfrmt)\n"
   ]
  },
  {
   "cell_type": "markdown",
   "id": "a491014f-f97b-4358-a90c-7ccad0a8f3d5",
   "metadata": {},
   "source": [
    "#### Constructing an __extensible__ integration lattice\n",
    "$$\n",
    "\\vx_i = i \\vh / n \\ \\pmod{1}, \\qquad i = 0, \\ldots, n-1\n",
    "$$"
   ]
  },
  {
   "cell_type": "code",
   "execution_count": null,
   "id": "2fdf51fb-b5b3-4d16-bf08-e99b52396182",
   "metadata": {
    "execution": {
     "iopub.status.busy": "2025-02-11T01:51:14.007792Z",
     "iopub.status.idle": "2025-02-11T01:51:14.007984Z",
     "shell.execute_reply": "2025-02-11T01:51:14.007885Z",
     "shell.execute_reply.started": "2025-02-11T01:51:14.007869Z"
    }
   },
   "outputs": [],
   "source": [
    "m = 4\n",
    "n =  2**m\n",
    "#h_gen = np.array([1,11])\n",
    "vdc = qp.Sobol(1,randomize =  False).gen_samples(n) #equally spaced points between 0 and 1\n",
    "x_lat = np.mod(vdc*h_gen,1)\n",
    "#print(x_lat)\n",
    "n_plt = 3\n",
    "fig, ax = plt.subplots(1,n_plt,figsize = (13,13/3))\n",
    "\n",
    "for ii in range(n_plt):\n",
    "    jj = ii+m-n_plt\n",
    "    ax[ii].set_xlim([-0.1, 1.1])\n",
    "    ax[ii].set_ylim([-0.1, 1.1])\n",
    "    ax[ii].set_aspect(1) \n",
    "    ax[ii].grid(False)\n",
    "    ax[ii].set_xlabel(\"$x_{i1}$\")\n",
    "    ax[ii].set_ylabel(\"$x_{i2}$\")\n",
    "    nstart = 0\n",
    "    ax[ii].plot(x_lat[0:2**jj,0],x_lat[0:2**jj,1],**blue_symbol)\n",
    "    ax[ii].plot(x_lat[2**jj:2**(jj+1),0],x_lat[2**jj:2**(jj+1),1],**orange_symbol)\n",
    "\n",
    "fig.suptitle(f\"Lattice $\\\\boldsymbol{{x}}_i = \\\\phi_2(i) ({h_gen[0]},{h_gen[1]}) \\\\pmod{{\\\\boldsymbol{1}}}, \\\\quad i = 0, \\\\ldots, 2^m - 1, \\\\quad m = 2, 3, 4$\", \\\n",
    "             ha = 'center', va = 'center', fontsize = 20, y = 0.92)\n",
    "if savefigs:\n",
    "        fig.savefig(figpath+f\"{n:.0f}_extensible_lattice_construct_d{d:.0f}.\"+imgfrmt,format=imgfrmt,bbox_inches='tight')"
   ]
  },
  {
   "cell_type": "markdown",
   "id": "9cc1754a-7235-4a09-9426-1dfc332672de",
   "metadata": {},
   "source": [
    "#### Constructing an __extensible__ and __shifted__ integration lattice\n",
    "$$\n",
    "\\vx_i = i \\vh / n + \\boldsymbol{\\Delta} \\ \\pmod{1}, \\qquad i = 0, \\ldots, n-1\n",
    "$$"
   ]
  },
  {
   "cell_type": "code",
   "execution_count": null,
   "id": "e49f225c-7255-4f30-8323-8ba9e4528844",
   "metadata": {
    "execution": {
     "iopub.status.busy": "2025-02-11T01:51:14.008436Z",
     "iopub.status.idle": "2025-02-11T01:51:14.008553Z",
     "shell.execute_reply": "2025-02-11T01:51:14.008493Z",
     "shell.execute_reply.started": "2025-02-11T01:51:14.008488Z"
    }
   },
   "outputs": [],
   "source": [
    "n =  16\n",
    "x_lat = qp.Lattice(2, seed = 47).gen_samples(n)\n",
    "n_plt = 4\n",
    "fig, ax = plt.subplots(1,n_plt,figsize = (13,13/3))\n",
    "\n",
    "for ii in range(n_plt):\n",
    "    ax[ii].set_xlim([-0.1, 1.1])\n",
    "    ax[ii].set_ylim([-0.1, 1.1])\n",
    "    ax[ii].set_aspect(1) \n",
    "    ax[ii].grid(False)\n",
    "    ax[ii].set_xlabel(\"$x_{i1}$\")\n",
    "    ax[ii].set_ylabel(\"$x_{i2}$\")\n",
    "    nstart = 0\n",
    "    ax[ii].plot(x_lat[0:2**ii,0],x_lat[0:2**ii,1],**blue_symbol)\n",
    "    ax[ii].plot(x_lat[2**ii:2**(ii+1),0],x_lat[2**ii:2**(ii+1),1],**orange_symbol)\n",
    "\n",
    "#fig.text(0.55,0.95,f\"Lattice $\\\\boldsymbol{{x}}_i = i ({h_gen[0]},{h_gen[1]})/{n} + \\\\boldsymbol{{\\\\Delta}} \\\\pmod{{1}}, \\\\quad i = 0, \\\\ldots, {n-1}$\", ha = 'center', va = 'center', fontsize = 20)\n",
    "if savefigs:\n",
    "        fig.savefig(figpath+f\"{n:.0f}_extensible_shifted_lattice_construct_d{d:.0f}.\"+imgfrmt,format=imgfrmt)"
   ]
  },
  {
   "cell_type": "markdown",
   "id": "d376f2a8-132d-4b7f-a748-96147017fedf",
   "metadata": {
    "execution": {
     "iopub.execute_input": "2024-08-06T15:20:32.929527Z",
     "iopub.status.busy": "2024-08-06T15:20:32.929168Z",
     "iopub.status.idle": "2024-08-06T15:20:32.931938Z",
     "shell.execute_reply": "2024-08-06T15:20:32.931659Z",
     "shell.execute_reply.started": "2024-08-06T15:20:32.929506Z"
    }
   },
   "source": [
    "### Digital sequences"
   ]
  },
  {
   "cell_type": "markdown",
   "id": "eaa185e1-d044-4990-ae11-606849a1df3d",
   "metadata": {},
   "source": [
    "#### Digital sequences cover tiles"
   ]
  },
  {
   "cell_type": "code",
   "execution_count": null,
   "id": "0090d695-3952-4f2b-9471-9d80873923db",
   "metadata": {
    "execution": {
     "iopub.status.busy": "2025-02-11T01:51:14.009009Z",
     "iopub.status.idle": "2025-02-11T01:51:14.009139Z",
     "shell.execute_reply": "2025-02-11T01:51:14.009069Z",
     "shell.execute_reply.started": "2025-02-11T01:51:14.009064Z"
    }
   },
   "outputs": [],
   "source": [
    "n_plt = 4\n",
    "n = 2**(n_plt-1)\n",
    "d = 3\n",
    "x_sob = qp.Sobol(d, randomize = False).gen_samples(n)\n",
    "print(x_sob)\n",
    "\n",
    "\n",
    "coord = np.array([[0,1],[0,2]])\n",
    "print(coord.shape[0])\n",
    "\n",
    "for iii in range(coord.shape[0]):\n",
    "    fig, ax = plt.subplots(1,n_plt,figsize = (13,13/3))\n",
    "    for ii in range(n_plt):\n",
    "        ax[ii].set_xlim([-0.1, 1.1])\n",
    "        ax[ii].set_ylim([-0.1, 1.1])\n",
    "        xticklabels = [0]\n",
    "        for jj in range(2**ii-1):\n",
    "            xticklabels.append(\"\")\n",
    "        xticklabels.append(1)\n",
    "        ax[ii].set_xticks(np.linspace(0,1,2**ii+1),xticklabels)\n",
    "        yticklabels = [0]\n",
    "        for jj in range(2**(n_plt-ii-1)-1):\n",
    "            yticklabels.append(\"\")\n",
    "        yticklabels.append(1)\n",
    "        ax[ii].set_yticks(np.linspace(0,1,2**(n_plt-ii-1)+1),yticklabels)\n",
    "        ax[ii].set_aspect(1) \n",
    "        ax[ii].set_xlabel(f\"$x_{{i{coord[iii,0]+1}}}$\",fontsize = 22)\n",
    "        ax[ii].set_ylabel(f\"$x_{{i{coord[iii,1]+1}}}$\",fontsize = 22)\n",
    "        #ax[ii].grid(False)\n",
    "        ax[ii].plot(x_sob[:,coord[iii,0]],x_sob[:,coord[iii,1]],**blue_symbol)\n",
    "    \n",
    "    #fig.text(0.55,0.95,f\"Sobol $\\\\boldsymbol{{x}}_i = i ({h_gen[0]},{h_gen[1]})/{n} + \\\\boldsymbol{{\\\\Delta}} \\\\pmod{{1}}, \\\\quad i = 0, \\\\ldots, {n-1}$\", ha = 'center', va = 'center', fontsize = 20)\n",
    "    if savefigs:\n",
    "        fig.savefig(figpath+f\"{n:.0f}_sobol_sequence_elementary_intervals_d{d:.0f}_coord_({coord[iii,0]+1},{coord[iii,1]+1}).\"+imgfrmt,format=imgfrmt)"
   ]
  },
  {
   "cell_type": "markdown",
   "id": "ca44548e-1ef1-40bd-9b62-cfe01e677936",
   "metadata": {},
   "source": [
    "#### __Randomly Shifted__ digital sequences still cover tiles"
   ]
  },
  {
   "cell_type": "code",
   "execution_count": null,
   "id": "747384d1-fe2b-4bc5-917f-3f2d8dddb180",
   "metadata": {
    "execution": {
     "iopub.status.busy": "2025-02-11T01:51:14.009528Z",
     "iopub.status.idle": "2025-02-11T01:51:14.009668Z",
     "shell.execute_reply": "2025-02-11T01:51:14.009602Z",
     "shell.execute_reply.started": "2025-02-11T01:51:14.009596Z"
    }
   },
   "outputs": [],
   "source": [
    "n_plt = 4\n",
    "d = 2\n",
    "n = 2**(n_plt-1)\n",
    "fig, ax = plt.subplots(1,n_plt,figsize = (13,13/3))\n",
    "n_scr = 3\n",
    "for kk in range(n_scr):\n",
    "    x_sob = qp.Sobol(d, randomize = \"DS\").gen_samples(n)  #just a digital shift applied\n",
    "    for ii in range(n_plt):\n",
    "        if kk == 0:\n",
    "            ax[ii].set_xlim([-0.1, 1.1])\n",
    "            ax[ii].set_ylim([-0.1, 1.1])\n",
    "            ax[ii].set_xlabel(\"$x_{i1}$\",fontsize=22)\n",
    "            ax[ii].set_ylabel(\"$x_{i2}$\",fontsize=22)\n",
    "            xticklabels = [0]\n",
    "            for jj in range(2**ii-1):\n",
    "                xticklabels.append(\"\")\n",
    "            xticklabels.append(1)\n",
    "            ax[ii].set_xticks(np.linspace(0,1,2**ii+1),xticklabels)\n",
    "            yticklabels = [0]\n",
    "            for jj in range(2**(n_plt-ii-1)-1):\n",
    "                yticklabels.append(\"\")\n",
    "            yticklabels.append(1)\n",
    "            ax[ii].set_yticks(np.linspace(0,1,2**(n_plt-ii-1)+1),yticklabels)\n",
    "            ax[ii].set_aspect(1) \n",
    "            #ax[ii].grid(False)\n",
    "        ax[ii].plot(x_sob[:,0],x_sob[:,1],**symbol_args[kk])\n",
    "\n",
    "fig.suptitle(f\"{n_scr} digital shifts of a digital net with {n} points\", ha = 'center', va = 'center', fontsize = 20, y=0.83)\n",
    "if savefigs:\n",
    "        fig.savefig(figpath+f\"n_{n:}_n_sh_{n_scr}_shifted_sobol_sequence_d{d}.\"+imgfrmt,format=imgfrmt)"
   ]
  },
  {
   "cell_type": "markdown",
   "id": "87106f6a-7df4-402e-b509-a9c4b8479205",
   "metadata": {},
   "source": [
    "#### __Randomly Scrambled__ digital sequences still cover tiles"
   ]
  },
  {
   "cell_type": "code",
   "execution_count": null,
   "id": "e04da50a-bda1-4311-bc6d-185d042501d5",
   "metadata": {
    "execution": {
     "iopub.status.busy": "2025-02-11T01:51:14.010008Z",
     "iopub.status.idle": "2025-02-11T01:51:14.010214Z",
     "shell.execute_reply": "2025-02-11T01:51:14.010150Z",
     "shell.execute_reply.started": "2025-02-11T01:51:14.010144Z"
    }
   },
   "outputs": [],
   "source": [
    "fig, ax = plt.subplots(1,n_plt,figsize = (13,13/3))\n",
    "n_scr = 3\n",
    "for kk in range(n_scr):\n",
    "    x_sob = qp.Sobol(d).gen_samples(n)\n",
    "    for ii in range(n_plt):\n",
    "        if kk == 0:\n",
    "            ax[ii].set_xlim([-0.1, 1.1])\n",
    "            ax[ii].set_ylim([-0.1, 1.1])\n",
    "            ax[ii].set_xlabel(\"$x_{i1}$\",fontsize=22)\n",
    "            ax[ii].set_ylabel(\"$x_{i2}$\",fontsize=22)\n",
    "            xticklabels = [0]\n",
    "            for jj in range(2**ii-1):\n",
    "                xticklabels.append(\"\")\n",
    "            xticklabels.append(1)\n",
    "            ax[ii].set_xticks(np.linspace(0,1,2**ii+1),xticklabels)\n",
    "            yticklabels = [0]\n",
    "            for jj in range(2**(n_plt-ii-1)-1):\n",
    "                yticklabels.append(\"\")\n",
    "            yticklabels.append(1)\n",
    "            ax[ii].set_yticks(np.linspace(0,1,2**(n_plt-ii-1)+1),yticklabels)\n",
    "            ax[ii].set_aspect(1) \n",
    "            #ax[ii].grid(False)\n",
    "        ax[ii].plot(x_sob[:,0],x_sob[:,1],**symbol_args[kk])\n",
    "\n",
    "fig.suptitle(f\"{n_scr} scrambles of a digital net with {n} points\", ha = 'center', va = 'center', fontsize = 20, y = 0.83)\n",
    "if savefigs:\n",
    "        fig.savefig(figpath+f\"n_{n:}_n_scr_{n_scr}_scrambled_sobol_sequence_d{d}.\"+imgfrmt,format=imgfrmt)"
   ]
  },
  {
   "cell_type": "markdown",
   "id": "95c78e83-09b5-4bb6-9d4b-0f0f38ed232d",
   "metadata": {},
   "source": [
    "#### Digital nets are extensbile"
   ]
  },
  {
   "cell_type": "code",
   "execution_count": null,
   "id": "4afb5d4d-51f5-4cb4-a1e0-12260de8d821",
   "metadata": {
    "execution": {
     "iopub.status.busy": "2025-02-11T01:51:14.011070Z",
     "iopub.status.idle": "2025-02-11T01:51:14.011197Z",
     "shell.execute_reply": "2025-02-11T01:51:14.011127Z",
     "shell.execute_reply.started": "2025-02-11T01:51:14.011121Z"
    }
   },
   "outputs": [],
   "source": [
    "d = 2\n",
    "n_list = np.array([16, 32, 64, 128, 256])\n",
    "n_plt = len(n_list)-1\n",
    "x_sob = qp.Sobol(2, seed = 29).gen_samples(n_list[-1])\n",
    "               \n",
    "fig, ax = plt.subplots(1,n_plt,figsize = (13,13/3))\n",
    "n_scr = 3\n",
    "for ii, nn in enumerate(n_list[:n_plt]):\n",
    "    ax[ii].set_xlim([-0.1, 1.1])\n",
    "    ax[ii].set_ylim([-0.1, 1.1])\n",
    "    ax[ii].plot(x_sob[:n_list[ii],0],x_sob[:n_list[ii],1], **blue_symbol)\n",
    "    ax[ii].plot(x_sob[n_list[ii]:n_list[ii+1],0],x_sob[n_list[ii]:n_list[ii+1],1], **orange_symbol)\n",
    "    ax[ii].set_aspect(1) \n",
    "    ax[ii].grid(False)\n",
    "    ax[ii].set_xlabel(\"$x_{i1}$\",fontsize=22)\n",
    "    ax[ii].set_ylabel(\"$x_{i2}$\",fontsize=22)\n",
    "\n",
    "\n",
    "fig.suptitle(f\"Digital nets are extensible as sequences\", ha = 'center', va = 'center', fontsize = 20, y = 0.83)\n",
    "if savefigs:\n",
    "        fig.savefig(figpath+f\"extensible_scrambled_sobol_sequence_d{d:.0f}.\"+imgfrmt,format=imgfrmt)"
   ]
  },
  {
   "cell_type": "markdown",
   "id": "7750694d-4468-4294-8143-855403c648ea",
   "metadata": {},
   "source": [
    "### Halton sequences"
   ]
  },
  {
   "cell_type": "code",
   "execution_count": null,
   "id": "a69ada77-7ee1-4945-9028-aef05b9456d3",
   "metadata": {
    "execution": {
     "iopub.status.busy": "2025-02-11T01:51:14.011552Z",
     "iopub.status.idle": "2025-02-11T01:51:14.011669Z",
     "shell.execute_reply": "2025-02-11T01:51:14.011605Z",
     "shell.execute_reply.started": "2025-02-11T01:51:14.011600Z"
    }
   },
   "outputs": [],
   "source": [
    "n = 64\n",
    "d = 6\n",
    "fig,ax = qp.plot_proj(qp.Halton(d, randomize = False), n, d_horizontal = 1, d_vertical = np.arange(2,6), \\\n",
    "                      **plot_proj_args, fig_title = f\"{n} Halton (LD) Points ($d = $ {d})\")\n",
    "    #d_horizontal and d_vertical are the tuples of coordinates to plot\n",
    "if savefigs:\n",
    "        fig.savefig(figpath+f\"{n:.0f}Halton_pts_d{d:.0f}.\"+imgfrmt,format=imgfrmt,bbox_inches='tight')"
   ]
  },
  {
   "cell_type": "markdown",
   "id": "7276e66c-62bd-4071-a4d7-96440461ac80",
   "metadata": {},
   "source": [
    "## Discrepancy"
   ]
  },
  {
   "cell_type": "markdown",
   "id": "fc0b62ed-a666-4230-937f-aa3f352c3590",
   "metadata": {},
   "source": [
    "### Plot kernel"
   ]
  },
  {
   "cell_type": "code",
   "execution_count": null,
   "id": "37085652-a980-4577-a073-1e79150b11af",
   "metadata": {
    "execution": {
     "iopub.status.busy": "2025-02-11T01:51:14.012180Z",
     "iopub.status.idle": "2025-02-11T01:51:14.012312Z",
     "shell.execute_reply": "2025-02-11T01:51:14.012237Z",
     "shell.execute_reply.started": "2025-02-11T01:51:14.012232Z"
    }
   },
   "outputs": [],
   "source": [
    "gram_fun = lambda x, y, weights : (1 + (0.5*weights)*(abs(x - .5) + abs(y - .5) - abs(x - y))).prod(axis=2)\n",
    "n = 500\n",
    "x = np.linspace(0,1,n)\n",
    "y = np.linspace(0,1,n)\n",
    "xmesh,ymesh = np.meshgrid(x,y)\n",
    "kernel_val = gram_fun(x.reshape(n,1,1),y.reshape(1,n,1),1)\n",
    "fig, ax = plt.subplots()\n",
    "kernel_contour = ax.contourf(xmesh,ymesh,kernel_val,cmap = 'viridis', vmin=1, vmax=1.5, levels = 10)\n",
    "ax.set_xlabel(\"$t$\")\n",
    "ax.set_ylabel(\"$x$\")\n",
    "ax.invert_yaxis(); ax.xaxis.set_label_position('top');  ax.xaxis.tick_top()\n",
    "fig.suptitle(\"$K(t,x)$ for the Centered Discrepancy\", y=0.95)\n",
    "cbar = plt.colorbar(kernel_contour)\n",
    "\n",
    "if savefigs:\n",
    "        fig.savefig(figpath+f\"centered_discrepancy_kernel.\"+imgfrmt,format=imgfrmt)"
   ]
  },
  {
   "cell_type": "markdown",
   "id": "d64c7dd6-f199-4eaa-9287-89ef3a1f098e",
   "metadata": {
    "execution": {
     "iopub.execute_input": "2024-08-08T02:02:56.307795Z",
     "iopub.status.busy": "2024-08-08T02:02:56.307440Z",
     "iopub.status.idle": "2024-08-08T02:02:56.312592Z",
     "shell.execute_reply": "2024-08-08T02:02:56.311759Z",
     "shell.execute_reply.started": "2024-08-08T02:02:56.307767Z"
    }
   },
   "source": [
    "### Compute the discrepancy"
   ]
  },
  {
   "cell_type": "markdown",
   "id": "9dd484b3-e9b7-48a3-9fb6-0e7569efdcf5",
   "metadata": {},
   "source": [
    "#### Function to compute the discrepancy"
   ]
  },
  {
   "cell_type": "code",
   "execution_count": null,
   "id": "d0831baf-020b-4a7b-ba98-50ec2476a67d",
   "metadata": {
    "execution": {
     "iopub.status.busy": "2025-02-11T01:51:14.012615Z",
     "iopub.status.idle": "2025-02-11T01:51:14.012740Z",
     "shell.execute_reply": "2025-02-11T01:51:14.012671Z",
     "shell.execute_reply.started": "2025-02-11T01:51:14.012665Z"
    }
   },
   "outputs": [],
   "source": [
    "def discrep(x, weights = 1, disc_kind = \"C\", domain = np.array([0,1]), measure_time = False, mem_limit = 2**25, IID_Flag = False):\n",
    "    '''\n",
    "        x = n x d numpy array of points that you want to evaluate the discrepancy of\n",
    "        weighs = coordinate weights\n",
    "        disc_kind = flavor of discrepancy, default is centered\n",
    "        domain = domain on which the discrepancy is defined\n",
    "        mem_limit = number of floating point numbers that can be easily handled in memory to avoid for loops\n",
    "        IID_Flag = True if you want to compute the root mean squared discrepancy of IID points\n",
    "    '''\n",
    "    \n",
    "    if measure_time:\n",
    "        start_time = time.time()\n",
    "    if x.ndim == 1:  #ensure that x is a two dimensional array, get n and d\n",
    "        x = x.reshape(x.size,1)\n",
    "        d = 1\n",
    "        n = x.size\n",
    "    else:\n",
    "        n, d = x.shape\n",
    "\n",
    "    #print(\"n =\", n, \"d = \", d)\n",
    "    \n",
    "    weights = np.array(weights).reshape(-1)  #turn the weights into a one-dimensional array\n",
    "    if len(weights) >= d:  #use the first d weights\n",
    "        weights = weights[:d]\n",
    "    else:  #or just propagate the first one\n",
    "        weights = weights[0] * np.ones(d)\n",
    "\n",
    "    if disc_kind.lower().startswith(\"c\"):\n",
    "        dbl_integ_fun = lambda weights : (1 + (weights/12)).prod()\n",
    "        sngl_integ_fun = lambda x, weights : (1 + (0.5*weights)*(abs(x - .5)*(1 - abs(x -.5)))).prod(axis=1)\n",
    "        gram_fun = lambda x, y, weights : (1 + (0.5*weights)*(abs(x - .5) + abs(y - .5) - abs(x - y))).prod(axis=2)\n",
    "        diag_integ_fun = lambda weights : (1 + (weights/4)).prod()\n",
    " \n",
    "    if IID_Flag:  #root mean square discrepancy of IID points\n",
    "        out = np.sqrt((diag_integ_fun(weights) - dbl_integ_fun(weights))/n)\n",
    "    else:  #discrepancy of actual points input\n",
    "        #compute the double integral\n",
    "        dbl_integ = dbl_integ_fun(weights)\n",
    "\n",
    "        #compute the sum of the single integral and the double sum\n",
    "        sngl_integ_sum = 0\n",
    "        dbl_sum = 0\n",
    "        if x[0,0] != None:  #the discrepancy of some points\n",
    "            len_chunk = np.floor(np.sqrt(mem_limit/d)).astype('int')\n",
    "            n_chunk = np.ceil(n/len_chunk).astype('int')\n",
    "            for ii in range(n_chunk):\n",
    "                n_ii_start = ii*len_chunk\n",
    "                n_ii_end = np.array([n,(ii+1)*len_chunk]).min()\n",
    "                n_ii_batch = n_ii_end - n_ii_start\n",
    "                if n_ii_batch > 0:\n",
    "                    x_chunk = x[n_ii_start:n_ii_end,:]\n",
    "                    sngl_integ_sum  += sngl_integ_fun(x_chunk,weights).sum(axis = 0)\n",
    "                    x_chunk = x_chunk.reshape(n_ii_batch,1,d)\n",
    "                    y_chunk = x_chunk.reshape(1,n_ii_batch,d)\n",
    "                    dbl_sum += gram_fun(x_chunk,y_chunk,weights).sum()\n",
    "                    for jj in range(ii+1,n_chunk):\n",
    "                        n_jj_start = jj*len_chunk\n",
    "                        n_jj_end = np.array([n,(jj+1)*len_chunk]).min()\n",
    "                        n_jj_batch = n_jj_end - n_jj_start\n",
    "                        if n_jj_batch > 0:\n",
    "                            y_chunk = x[n_jj_start:n_jj_end,:].reshape(1,n_jj_batch,d)\n",
    "                            dbl_sum += 2*gram_fun(x_chunk,y_chunk,weights).sum()\n",
    "            sngl_integ_sum  *= (2/n)\n",
    "            dbl_sum *= (1/(n**2)) \n",
    "        # print(dbl_integ,sngl_integ_sum,dbl_sum)\n",
    "        out = np.sqrt(dbl_integ -  sngl_integ_sum + dbl_sum)\n",
    "\n",
    "    if measure_time:  #if we are measuring time\n",
    "        total_time = time.time() - start_time\n",
    "        out = [out, total_time]\n",
    "    return out"
   ]
  },
  {
   "cell_type": "code",
   "execution_count": null,
   "id": "c496bc2c-447b-465e-ae38-7268b0b3631f",
   "metadata": {
    "execution": {
     "iopub.status.busy": "2025-02-11T01:51:14.013063Z",
     "iopub.status.idle": "2025-02-11T01:51:14.013239Z",
     "shell.execute_reply": "2025-02-11T01:51:14.013174Z",
     "shell.execute_reply.started": "2025-02-11T01:51:14.013168Z"
    }
   },
   "outputs": [],
   "source": [
    "# Comparing Claude's and Fred's discrepancy functions for accuracy and compute time\n",
    "n = 2**14  #number of points\n",
    "d = 20  #dimension\n",
    "mem_size = 2**12\n",
    "xpts = qp.Sobol(d, seed = 29).gen_samples(n)\n",
    "discClaude, timeClaude = qp.discrepancy2(xpts, \"c\",limiter = mem_size,Time = True)\n",
    "discFred, timeFred = discrep(xpts,mem_limit = mem_size,measure_time = True)\n",
    "print(\"discrepancy[Claude,Fred] =\",discClaude,discFred,\"time[Claude,Fred] =\", timeClaude, timeFred)"
   ]
  },
  {
   "cell_type": "markdown",
   "id": "fa23bc56-a1b2-4bb1-8b15-52e190c12bde",
   "metadata": {},
   "source": [
    "#### Discrepancy experiment"
   ]
  },
  {
   "cell_type": "code",
   "execution_count": null,
   "id": "440d9f66-0b85-4927-8d9d-f25081904f06",
   "metadata": {
    "execution": {
     "iopub.status.busy": "2025-02-11T01:51:14.013542Z",
     "iopub.status.idle": "2025-02-11T01:51:14.013661Z",
     "shell.execute_reply": "2025-02-11T01:51:14.013597Z",
     "shell.execute_reply.started": "2025-02-11T01:51:14.013592Z"
    }
   },
   "outputs": [],
   "source": [
    "n_vec = 2**np.arange(14)\n",
    "d_vec = [1, 2, 3, 4, 8, 16, 64]\n",
    "n_max = np.max(n_vec)\n",
    "d_max = np.max(d_vec)\n",
    "xpts = qp.Sobol(d_max, seed = 29).gen_samples(n_max)\n",
    "x_null = np.array([[None for ii in range(d_max)]])\n",
    "un_disc = np.zeros((len(n_vec),len(d_vec)))\n",
    "wt_disc = np.zeros((len(n_vec),len(d_vec)))\n",
    "iid_un_disc = np.zeros((len(n_vec),len(d_vec)))\n",
    "iid_wt_disc = np.zeros((len(n_vec),len(d_vec)))\n",
    "wts = (np.arange(d_max)+1.)**-2.\n",
    "null_un_disc = np.zeros(len(d_vec))\n",
    "null_wt_disc = np.zeros(len(d_vec))\n",
    "for ii, d in enumerate(d_vec):\n",
    "    null_un_disc[ii] = discrep(x_null[:,:d], 1, 'centered')\n",
    "    null_wt_disc[ii] = discrep(x_null[:,:d], wts, 'centered')\n",
    "    for jj, n in enumerate(n_vec):\n",
    "        if (jj == 0) or (n == n_max):\n",
    "            print(\"Starting d =\",d,\", n=\",n)\n",
    "        un_disc[jj,ii] = discrep(xpts[:n,:d],1, 'centered')\n",
    "        wt_disc[jj,ii] = discrep(xpts[:n,:d], wts, 'centered')\n",
    "        iid_un_disc[jj,ii] = discrep(xpts[:n,:d], 1, 'centered', IID_Flag = True)\n",
    "        iid_wt_disc[jj,ii] = discrep(xpts[:n,:d], wts, 'centered', IID_Flag = True)\n",
    "\n",
    "out_filename = f'CtrDisc_dmax_{d_max}_nmax_{n_max}.pkl'\n",
    "stored_vars  = [un_disc,wt_disc,iid_un_disc,iid_wt_disc,null_un_disc,null_wt_disc,d_vec,n_vec]\n",
    "with open(figpath+out_filename,'wb') as myfile: \n",
    "    pickle.dump(stored_vars,myfile)  #save numerical output as a pickle file\n",
    "print(\"Finished\")"
   ]
  },
  {
   "cell_type": "markdown",
   "id": "2ca7ccc3-4e1b-49e5-bfa5-f02fc76b600e",
   "metadata": {},
   "source": [
    "### Plot discrepancy"
   ]
  },
  {
   "cell_type": "markdown",
   "id": "9351f43f-174f-445b-a09f-5d10f554da61",
   "metadata": {},
   "source": [
    "#### Input data for plotting"
   ]
  },
  {
   "cell_type": "code",
   "execution_count": null,
   "id": "a741c070-3933-4b82-b281-df5a7caba7ce",
   "metadata": {
    "execution": {
     "iopub.status.busy": "2025-02-11T01:51:14.014171Z",
     "iopub.status.idle": "2025-02-11T01:51:14.014299Z",
     "shell.execute_reply": "2025-02-11T01:51:14.014224Z",
     "shell.execute_reply.started": "2025-02-11T01:51:14.014219Z"
    }
   },
   "outputs": [],
   "source": [
    "n_max = 2**13\n",
    "d_max = 64\n",
    "out_filename = f'CtrDisc_dmax_{d_max}_nmax_{n_max}.pkl'\n",
    "with open(figpath+out_filename,'rb') as myfile: \n",
    "    un_disc,wt_disc,iid_un_disc,iid_wt_disc,null_un_disc,null_wt_disc,d_vec,n_vec = pickle.load(myfile) #load in all the data"
   ]
  },
  {
   "cell_type": "markdown",
   "id": "19e3c122-8433-4df5-8578-f9434b996f03",
   "metadata": {},
   "source": [
    "#### Draw the plots"
   ]
  },
  {
   "cell_type": "code",
   "execution_count": null,
   "id": "efb98c97-d696-421c-a479-03f06a9f772f",
   "metadata": {
    "execution": {
     "iopub.status.busy": "2025-02-11T01:51:14.014837Z",
     "iopub.status.idle": "2025-02-11T01:51:14.014974Z",
     "shell.execute_reply": "2025-02-11T01:51:14.014903Z",
     "shell.execute_reply.started": "2025-02-11T01:51:14.014897Z"
    }
   },
   "outputs": [],
   "source": [
    "sc_un_disc = un_disc/null_un_disc\n",
    "sc_iid_un_disc = iid_un_disc/null_un_disc\n",
    "\n",
    "which_dim=[[0, 1, 2, 3, 4], range(len(d_vec))]\n",
    "for iii, d_list in enumerate(which_dim):\n",
    "    d_last = d_vec[d_list[-1]]\n",
    "\n",
    "    #plot raw discrepancy\n",
    "    fig, ax = plt.subplots(figsize=(7,5))\n",
    "    for ii, wh_d in enumerate(d_list):\n",
    "        d = d_vec[wh_d]\n",
    "        ax.loglog(n_vec,un_disc[:,wh_d], label = f\"$d = {{{d}}}$\", **symbol_args[ii])\n",
    "    ax.loglog(n_vec[[0,-1]], un_disc[0,0]*np.array([1., n_vec[0]/n_vec[-1]]),'-', color = py_blue, label = f\"$\\\\mathcal{{O}}(n^{{-1}})$\")\n",
    "    ax.loglog(n_vec[[0,-1]], un_disc[0,d_list[-1]]*np.array([1., np.sqrt(n_vec[0]/n_vec[-1])]),'-', color = color_cycle[d_list[-1]], label = f\"$\\\\mathcal{{O}}(n^{{-1/2}})$\")\n",
    "    ax.set_xlabel(f\"${{n}}$\",fontsize=20)\n",
    "    ax.set_ylabel(f\"Centered Discrepancy of Sobol' Nodes\",fontsize=14)\n",
    "    ax.set_ylim([1e-5,1e4])\n",
    "    ax.legend(loc='upper right', ncol = 3, frameon = False)\n",
    "    ax.grid(False)\n",
    "    plt.subplots_adjust(top=0.95,right = 0.95)\n",
    "    if savefigs:\n",
    "            fig.savefig(figpath+f\"SobolCtrDisc_n_{n_max}_d{d_last}.\"+imgfrmt,format=imgfrmt)\n",
    "    \n",
    "    #plot scaled discrepancy\n",
    "    fig, ax = plt.subplots(figsize=(7,5))\n",
    "    for ii, wh_d in enumerate(d_list):\n",
    "        d = d_vec[wh_d]\n",
    "        ax.loglog(n_vec,sc_un_disc[:,wh_d], label = f\"$d = {{{d}}}$\", **symbol_args[ii])\n",
    "    ax.loglog(n_vec[[0,-1]], sc_un_disc[0,0]*np.array([1., n_vec[0]/n_vec[-1]]),'-', color = py_blue, label = f\"$\\\\mathcal{{O}}(n^{{-1}})$\")\n",
    "    ax.loglog(n_vec[[0,-1]], sc_un_disc[0,d_list[-1]]*np.array([1., np.sqrt(n_vec[0]/n_vec[-1])]),'-', color = color_cycle[d_list[-1]], label = f\"$\\\\mathcal{{O}}(n^{{-1/2}})$\")\n",
    "    ax.loglog([0.7,1e4], [1.,1], '-', color = 'black')\n",
    "    ax.set_xlabel(f\"${{n}}$\",fontsize=20)\n",
    "    ax.set_ylabel(f\"Scaled Centered Discrepancy of Sobol' Nodes\",fontsize=14)\n",
    "    ax.set_ylim([1e-5,1e4])\n",
    "    ax.grid(False)\n",
    "    ax.legend(loc='upper right', ncol = 4, frameon = False)\n",
    "    plt.subplots_adjust(top=0.95,right = 0.95)\n",
    "    \n",
    "    if savefigs:\n",
    "            fig.savefig(figpath+f\"SobolScaledCtrDisc_n_{n_max}_d{d_last}.\"+imgfrmt,format=imgfrmt)\n",
    "    \n",
    "    for ii, wh_d in enumerate(d_list):  #Add IID scaled discrepancy\n",
    "        ax.loglog(n_vec[[0,-1]], sc_iid_un_disc[0,wh_d]*np.array([1., np.sqrt(n_vec[0]/n_vec[-1])]),'--', color = color_cycle[wh_d], label = f\"RMS IID\")\n",
    "    ax.grid(False)\n",
    "    ax.legend(loc='upper right', ncol = 4, frameon = False)\n",
    "    \n",
    "    plt.show()\n",
    "    if savefigs:\n",
    "            fig.savefig(figpath+f\"IIDSobolScaledCtrDisc_n_{n_max}_d{d_last}.\"+imgfrmt,format=imgfrmt)\n",
    "    print(\"Finished Plot\",iii)\n"
   ]
  },
  {
   "cell_type": "code",
   "execution_count": null,
   "id": "f3217fbd-3223-4917-be74-ec0b4c76f82c",
   "metadata": {
    "execution": {
     "iopub.status.busy": "2025-02-11T01:51:14.015253Z",
     "iopub.status.idle": "2025-02-11T01:51:14.015367Z",
     "shell.execute_reply": "2025-02-11T01:51:14.015306Z",
     "shell.execute_reply.started": "2025-02-11T01:51:14.015300Z"
    }
   },
   "outputs": [],
   "source": [
    "which_dim=[[0, 1, 2, 3, 4], range(len(d_vec))]\n",
    "sc_wt_disc = wt_disc/null_wt_disc\n",
    "sc_iid_wt_disc = iid_wt_disc/null_wt_disc\n",
    "\n",
    "for iii, d_list in enumerate(which_dim):\n",
    "    d_last = d_vec[d_list[-1]]\n",
    "    \n",
    "    #plot raw weighted discrepancy\n",
    "    fig, ax = plt.subplots(figsize=(7,5))\n",
    "    for ii, d in enumerate(d_vec):\n",
    "        ax.loglog(n_vec,wt_disc[:,ii], label = f\"$d = {{{d}}}$\", **symbol_args[ii])\n",
    "    ax.loglog(n_vec[[0,-1]], wt_disc[0,0]*np.array([1., n_vec[0]/n_vec[-1]]),'-', color = py_blue, label = f\"$\\\\mathcal{{O}}(n^{{-1}})$\")\n",
    "    ax.loglog(n_vec[[0,-1]], wt_disc[0,-1]*np.array([1., np.sqrt(n_vec[0]/n_vec[-1])]),'-', color = color_cycle[ii], label = f\"$\\\\mathcal{{O}}(n^{{-1/2}})$\")\n",
    "    ax.set_xlabel(f\"${{n}}$\",fontsize=20)\n",
    "    ax.set_ylabel(f\"Centered Discrepancy of Sobol' Nodes \\n with Coordinate Weights $\\gamma_\\ell = 1/\\ell$\",fontsize=11)\n",
    "    ax.set_ylim([1e-5,1e1])\n",
    "    ax.legend(loc='upper right', ncol = 3, frameon = False)\n",
    "    ax.grid(False)\n",
    "    plt.subplots_adjust(top=0.95, right=0.95, left = 0.15)\n",
    "    if savefigs:\n",
    "            fig.savefig(figpath+f\"SobolWtCtrDisc_n_{n_max}_d{d_max}.\"+imgfrmt,format=imgfrmt)\n",
    "\n",
    "    #plot scaled discrepancy\n",
    "    fig, ax = plt.subplots(figsize=(7,5))\n",
    "    for ii, d in enumerate(d_vec):\n",
    "        ax.loglog(n_vec,sc_wt_disc[:,ii], label = f\"$d = {{{d}}}$\", **symbol_args[ii])\n",
    "    ax.loglog(n_vec[[0,-1]], sc_wt_disc[0,0]*np.array([1., n_vec[0]/n_vec[-1]]),'-', color = py_blue, label = f\"$\\\\mathcal{{O}}(n^{{-1}})$\")\n",
    "    #ax.loglog(n_vec[[0,-1]], sc_wt_disc[0,-1]*np.array([1., np.sqrt(n_vec[0]/n_vec[-1])]),'-', color = color_cycle[ii], label = f\"$\\\\mathcal{{O}}(n^{{-1/2}})$\")\n",
    "    #ax.loglog([0.7,1e4], [1.,1], '-', color = 'black')\n",
    "    ax.set_xlabel(f\"${{n}}$\",fontsize=20)\n",
    "    ax.set_ylabel(f\"Scaled Centered Discrepancy of Sobol' Nodes \\n with Coordinate Weights $\\gamma_\\ell = 1/\\ell$\",fontsize=14)\n",
    "    ax.set_ylim([1e-5,1e1])\n",
    "    ax.grid(False)\n",
    "    ax.legend(loc='upper right', ncol = 4, frameon = False)\n",
    "    plt.subplots_adjust(top=0.95, right=0.95, left = 0.15)\n",
    "    \n",
    "    if savefigs:\n",
    "            fig.savefig(figpath+f\"SobolScaledWtCtrDisc_n_{n_max}_d{d_max}.\"+imgfrmt,format=imgfrmt)\n",
    "    \n",
    "    for ii, d in enumerate(d_vec):  #Add IID scaled discrepancy\n",
    "        ax.loglog(n_vec[[0,-1]], sc_iid_wt_disc[0,ii]*np.array([1., np.sqrt(n_vec[0]/n_vec[-1])]),'--', color = color_cycle[ii], label = f\"RMS IID\")\n",
    "    ax.grid(False)\n",
    "    ax.legend(loc='upper right', ncol = 4, frameon = False)\n",
    "    \n",
    "    plt.show()\n",
    "    if savefigs:\n",
    "            fig.savefig(figpath+f\"IIDSobolScaledWtCtrDisc_n_{n_max}_d{d_max}.\"+imgfrmt,format=imgfrmt)\n",
    "\n"
   ]
  },
  {
   "cell_type": "markdown",
   "id": "7ee48aa8-d2cb-40e8-8f2c-1b26c209c658",
   "metadata": {},
   "source": [
    "### Pathological example"
   ]
  },
  {
   "cell_type": "code",
   "execution_count": null,
   "id": "a213ae3a-7ff5-4a94-a6d4-2304a9da277d",
   "metadata": {
    "execution": {
     "iopub.status.busy": "2025-02-11T01:51:14.015610Z",
     "iopub.status.idle": "2025-02-11T01:51:14.015729Z",
     "shell.execute_reply": "2025-02-11T01:51:14.015668Z",
     "shell.execute_reply.started": "2025-02-11T01:51:14.015663Z"
    }
   },
   "outputs": [],
   "source": [
    "patho = lambda x : np.prod(x-1/2, axis = 1)\n",
    "d = 10\n",
    "n = 1024\n",
    "xIID = qp.IIDStdUniform(d).gen_samples(n)\n",
    "xNet = qp.DigitalNetB2(d).gen_samples(n)\n",
    "y = patho(xIID)\n",
    "muhatIID = np.mean(y)\n",
    "print(muhatIID)\n",
    "print(patho(xNet).mean())"
   ]
  },
  {
   "cell_type": "markdown",
   "id": "92613f82-023e-4d9b-b30b-cd8202befbbd",
   "metadata": {},
   "source": [
    "## Variable Transformations"
   ]
  },
  {
   "cell_type": "markdown",
   "id": "ac894f42-994f-4a26-9198-4d6a9fcf4dec",
   "metadata": {},
   "source": [
    "### Asian Option Example"
   ]
  },
  {
   "cell_type": "markdown",
   "id": "2f7c9916-db94-4775-932c-dfa71c4508d8",
   "metadata": {},
   "source": [
    "#### Set up option paramters"
   ]
  },
  {
   "cell_type": "code",
   "execution_count": null,
   "id": "f9d0de29-6d51-4252-bad3-695967ca5d8f",
   "metadata": {
    "execution": {
     "iopub.status.busy": "2025-02-11T01:51:14.016244Z",
     "iopub.status.idle": "2025-02-11T01:51:14.016399Z",
     "shell.execute_reply": "2025-02-11T01:51:14.016342Z",
     "shell.execute_reply.started": "2025-02-11T01:51:14.016336Z"
    }
   },
   "outputs": [],
   "source": [
    "option_param = {\"call_put\" : 'call',\n",
    "                \"start_price\" : 100, \n",
    "                \"strike_price\" : 125,\n",
    "                \"volatility\" : .45,\n",
    "                \"interest_rate\" : .05,\n",
    "                \"t_final\" : 1\n",
    "               }\n",
    "d = 52 \n",
    "tol_list = np.array([0.1, 0.05, 0.02, 0.01, 0.005, 0.002, 0.001])"
   ]
  },
  {
   "cell_type": "markdown",
   "id": "1737880c-3a65-40b3-88b7-82b0c085e692",
   "metadata": {},
   "source": [
    "#### Compute option price for different error tolerances and record execution times"
   ]
  },
  {
   "cell_type": "code",
   "execution_count": null,
   "id": "5f8c5168-f0c2-4732-833f-3786b4f29b21",
   "metadata": {
    "execution": {
     "iopub.status.busy": "2025-02-11T01:51:14.016712Z",
     "iopub.status.idle": "2025-02-11T01:51:14.016831Z",
     "shell.execute_reply": "2025-02-11T01:51:14.016771Z",
     "shell.execute_reply.started": "2025-02-11T01:51:14.016765Z"
    }
   },
   "outputs": [],
   "source": [
    "asian_call_PCA_IID = qp.AsianOption(qp.IIDStdUniform(d), decomp_type = 'PCA', **option_param)\n",
    "exec_time_PCA_IID = np.zeros_like(tol_list)\n",
    "n_PCA_IID = np.zeros_like(tol_list)\n",
    "asian_call_PCA = qp.AsianOption(qp.DigitalNetB2(d), decomp_type = 'PCA', **option_param)\n",
    "exec_time_PCA = np.zeros_like(tol_list)\n",
    "n_PCA = np.zeros_like(tol_list)\n",
    "asian_call_Chol = qp.AsianOption(qp.DigitalNetB2(d),decomp_type = 'Cholesky', **option_param)\n",
    "exec_time_Chol = np.zeros_like(tol_list)\n",
    "n_Chol = np.zeros_like(tol_list)\n",
    "for ii, tol in enumerate(tol_list):\n",
    "    print(\"abs_tol =\",tol)\n",
    "    if tol >= 0.01:\n",
    "        price_PCA_IID, data_PCA_IID = qp.CubMCG(asian_call_PCA_IID, abs_tol = tol).integrate()\n",
    "        exec_time_PCA_IID[ii] = data_PCA_IID.time_integrate\n",
    "        n_PCA_IID[ii] = data_PCA_IID.n_total\n",
    "\n",
    "for ii, tol in enumerate(tol_list):\n",
    "    print(\"abs_tol =\",tol)\n",
    "    price_PCA, data_PCA = qp.CubQMCNetG(asian_call_PCA, abs_tol = tol).integrate()\n",
    "    exec_time_PCA[ii] = data_PCA.time_integrate\n",
    "    n_PCA[ii] = data_PCA.n_total\n",
    "\n",
    "print(\"option price =\", price_PCA)\n",
    "\n",
    "for ii, tol in enumerate(tol_list):\n",
    "    print(\"abs_tol =\",tol)\n",
    "    price_Chol, data_Chol = qp.CubQMCNetG(asian_call_Chol, abs_tol = tol).integrate()\n",
    "    exec_time_Chol[ii] = data_Chol.time_integrate\n",
    "    n_Chol[ii] = data_Chol.n_total\n",
    "\n",
    "out_filename = f'AsianOption_d_{d}_eps_{tol_list[-1]}.pkl'\n",
    "stored_vars  = [tol_list,exec_time_PCA,exec_time_Chol,exec_time_PCA_IID,n_PCA,n_Chol,n_PCA_IID,option_param]\n",
    "with open(figpath+out_filename,'wb') as myfile: \n",
    "    pickle.dump(stored_vars,myfile)  #save numerical output as a pickle file\n",
    "print(\"Finished\")"
   ]
  },
  {
   "cell_type": "markdown",
   "id": "3de82274-1fc8-46df-8024-6d8bdb555c0a",
   "metadata": {},
   "source": [
    "#### Plot Asian option execution times"
   ]
  },
  {
   "cell_type": "markdown",
   "id": "f57d6ee1-2953-4120-b81b-5fd0ae8042fc",
   "metadata": {},
   "source": [
    "##### Load the data"
   ]
  },
  {
   "cell_type": "code",
   "execution_count": null,
   "id": "8b5db748-71eb-42fa-b9fb-b6a0918f9a2c",
   "metadata": {
    "execution": {
     "iopub.status.busy": "2025-02-11T01:51:14.017641Z",
     "iopub.status.idle": "2025-02-11T01:51:14.017752Z",
     "shell.execute_reply": "2025-02-11T01:51:14.017694Z",
     "shell.execute_reply.started": "2025-02-11T01:51:14.017689Z"
    }
   },
   "outputs": [],
   "source": [
    "d = 52\n",
    "tol = 0.001\n",
    "out_filename = f'AsianOption_d_{d}_eps_{tol_list[-1]}.pkl'\n",
    "with open(figpath+out_filename,'rb') as myfile: \n",
    "    tol_list,exec_time_PCA,exec_time_Chol,exec_time_PCA_IID,n_PCA,n_Chol,n_PCA_IID,option_param = pickle.load(myfile) #load in all the data"
   ]
  },
  {
   "cell_type": "markdown",
   "id": "d2406810-6c8e-4db2-b441-53320103e169",
   "metadata": {},
   "source": [
    "##### Draw the plots"
   ]
  },
  {
   "cell_type": "code",
   "execution_count": null,
   "id": "d1ebeda8-ab90-4b94-ad61-669768cc661c",
   "metadata": {
    "execution": {
     "iopub.status.busy": "2025-02-11T01:51:14.018078Z",
     "iopub.status.idle": "2025-02-11T01:51:14.018223Z",
     "shell.execute_reply": "2025-02-11T01:51:14.018141Z",
     "shell.execute_reply.started": "2025-02-11T01:51:14.018136Z"
    }
   },
   "outputs": [],
   "source": [
    "#plot execution times vs tolerance\n",
    "fig, ax = plt.subplots(figsize=(8,8))\n",
    "ax.loglog(tol_list,exec_time_PCA_IID, label = f\"IID, PCA\", **symbol_args[0])\n",
    "ax.loglog(tol_list,exec_time_Chol, label = f\"Sobol, Cholesky\", **symbol_args[1])\n",
    "ax.loglog(tol_list,exec_time_PCA, label = f\"Sobol, PCA\", **symbol_args[2])\n",
    "ax.set_xlabel(f\"$\\\\varepsilon$\",fontsize=20)\n",
    "ax.set_ylabel(f\"Execution Time (s)\",fontsize=20)\n",
    "#ax.set_ylim([0.001,1e1])\n",
    "ax.legend(loc='lower left', ncol = 3, frameon = False,fontsize=16)\n",
    "ax.grid(False)\n",
    "plt.subplots_adjust(top=0.95, right=0.95)\n",
    "#fig.tight_layout()\n",
    "if savefigs:\n",
    "        fig.savefig(figpath+f\"Times_Asian_Option_tol_{tol_list[-1]}_d{d}.\"+imgfrmt,format=imgfrmt)\n",
    "\n",
    "#plot number of samples\n",
    "fig, ax = plt.subplots(figsize=(8,8))\n",
    "ax.loglog(tol_list,n_PCA_IID, label = f\"IID, PCA\", **symbol_args[0])\n",
    "ax.loglog(tol_list,n_Chol, label = f\"Sobol, Cholesky\", **symbol_args[1])\n",
    "ax.loglog(tol_list,n_PCA, label = f\"Sobol, PCA\", **symbol_args[2])\n",
    "ax.set_xlabel(f\"$\\\\varepsilon$\",fontsize=20)\n",
    "ax.set_ylabel(f\"Sample Size\",fontsize=20)\n",
    "#ax.set_ylim([0.001,1e1])\n",
    "ax.legend(loc='lower left', ncol = 3, frameon = False,fontsize=16)\n",
    "ax.grid(False)\n",
    "plt.subplots_adjust(top=0.95, right=0.95)\n",
    "#fig.tight_layout()\n",
    "if savefigs:\n",
    "        fig.savefig(figpath+f\"NumSamples_Asian_Option_tol_{tol_list[-1]}_d{d}.\"+imgfrmt,format=imgfrmt)\n"
   ]
  },
  {
   "cell_type": "code",
   "execution_count": null,
   "id": "f0e04c07-d7a3-4852-9448-c47c40d22a65",
   "metadata": {},
   "outputs": [],
   "source": []
  }
 ],
 "metadata": {
  "kernelspec": {
   "display_name": "Python 3 (ipykernel)",
   "language": "python",
   "name": "python3"
  },
  "language_info": {
   "codemirror_mode": {
    "name": "ipython",
    "version": 3
   },
   "file_extension": ".py",
   "mimetype": "text/x-python",
   "name": "python",
   "nbconvert_exporter": "python",
   "pygments_lexer": "ipython3",
   "version": "3.9.13"
  }
 },
 "nbformat": 4,
 "nbformat_minor": 5
}
