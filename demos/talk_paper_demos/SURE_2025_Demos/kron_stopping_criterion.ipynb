{
 "cells": [
  {
   "cell_type": "markdown",
   "id": "547e5e5c",
   "metadata": {},
   "source": [
    "Implement CubQMCCLT stopping criterion for Kronecker points.  This should only involve changing a few parameters.  Make a notebook to show  how well it works on some examples such as Keister or Asian option"
   ]
  },
  {
   "cell_type": "code",
   "execution_count": 2,
   "id": "9e4d8e5d",
   "metadata": {},
   "outputs": [],
   "source": [
    "# Import necessary packages\n",
    "import qmcpy as qp\n",
    "import numpy as np\n",
    "import matplotlib.pyplot as plt"
   ]
  },
  {
   "cell_type": "code",
   "execution_count": 6,
   "id": "60f28067",
   "metadata": {},
   "outputs": [
    {
     "data": {
      "text/plain": [
       "array([0.37454012])"
      ]
     },
     "execution_count": 6,
     "metadata": {},
     "output_type": "execute_result"
    }
   ],
   "source": [
    "np.random.seed(42)\n",
    "alpha = np.random.rand(1)\n",
    "alpha"
   ]
  },
  {
   "cell_type": "code",
   "execution_count": null,
   "id": "31f19b65",
   "metadata": {},
   "outputs": [
    {
     "data": {
      "text/plain": [
       "MeanVarDataRep (AccumulateData Object)\n",
       "    solution        1.489\n",
       "    comb_bound_low  1.458\n",
       "    comb_bound_high 1.520\n",
       "    comb_flags      1\n",
       "    n_total         2^(13)\n",
       "    n               2^(13)\n",
       "    n_rep           2^(9)\n",
       "    time_integrate  0.006\n",
       "CubQMCCLT (StoppingCriterion Object)\n",
       "    inflate         1.200\n",
       "    alpha           0.010\n",
       "    abs_tol         0.050\n",
       "    rel_tol         0\n",
       "    n_init          2^(8)\n",
       "    n_max           2^(30)\n",
       "    replications    2^(4)\n",
       "AsianOption (Integrand Object)\n",
       "    volatility      2^(-1)\n",
       "    call_put        call\n",
       "    start_price     30\n",
       "    strike_price    35\n",
       "    interest_rate   0\n",
       "    mean_type       arithmetic\n",
       "    dim_frac        0\n",
       "BrownianMotion (TrueMeasure Object)\n",
       "    time_vec        1\n",
       "    drift           0\n",
       "    mean            0\n",
       "    covariance      1\n",
       "    decomp_type     PCA\n",
       "Lattice (DiscreteDistribution Object)\n",
       "    d               1\n",
       "    dvec            0\n",
       "    randomize       SHIFT\n",
       "    order           NATURAL\n",
       "    gen_vec         1\n",
       "    entropy         7\n",
       "    spawn_key       ()"
      ]
     },
     "execution_count": 26,
     "metadata": {},
     "output_type": "execute_result"
    }
   ],
   "source": [
    "k = qp.AsianOption(qp.Lattice(seed=7))\n",
    "sc = qp.CubQMCCLT(k,abs_tol=.05)\n",
    "solution,data = sc.integrate()\n",
    "solution\n",
    "data"
   ]
  },
  {
   "cell_type": "code",
   "execution_count": 23,
   "id": "50900a39",
   "metadata": {},
   "outputs": [
    {
     "data": {
      "text/plain": [
       "MeanVarDataRep (AccumulateData Object)\n",
       "    solution        1.487\n",
       "    comb_bound_low  1.463\n",
       "    comb_bound_high 1.512\n",
       "    comb_flags      1\n",
       "    n_total         2^(16)\n",
       "    n               2^(16)\n",
       "    n_rep           2^(12)\n",
       "    time_integrate  0.013\n",
       "CubQMCCLT (StoppingCriterion Object)\n",
       "    inflate         1.200\n",
       "    alpha           0.010\n",
       "    abs_tol         0.050\n",
       "    rel_tol         0\n",
       "    n_init          2^(8)\n",
       "    n_max           2^(30)\n",
       "    replications    2^(4)\n",
       "AsianOption (Integrand Object)\n",
       "    volatility      2^(-1)\n",
       "    call_put        call\n",
       "    start_price     30\n",
       "    strike_price    35\n",
       "    interest_rate   0\n",
       "    mean_type       arithmetic\n",
       "    dim_frac        0\n",
       "BrownianMotion (TrueMeasure Object)\n",
       "    time_vec        1\n",
       "    drift           0\n",
       "    mean            0\n",
       "    covariance      1\n",
       "    decomp_type     PCA\n",
       "Kronecker (DiscreteDistribution Object)\n",
       "    d               1\n",
       "    entropy         7\n",
       "    spawn_key       ()"
      ]
     },
     "execution_count": 23,
     "metadata": {},
     "output_type": "execute_result"
    }
   ],
   "source": [
    "asian_kron = qp.AsianOption(qp.Kronecker(alpha=alpha, randomize=True, seed=7))\n",
    "sc = qp.CubQMCCLT(asian_kron, abs_tol=.05)\n",
    "solution,data = sc.integrate()\n",
    "data"
   ]
  },
  {
   "cell_type": "code",
   "execution_count": 26,
   "id": "0e8fabaf",
   "metadata": {},
   "outputs": [
    {
     "data": {
      "text/plain": [
       "MeanVarDataRep (AccumulateData Object)\n",
       "    solution        1.380\n",
       "    comb_bound_low  1.380\n",
       "    comb_bound_high 1.381\n",
       "    comb_flags      1\n",
       "    n_total         2^(12)\n",
       "    n               2^(12)\n",
       "    n_rep           2^(8)\n",
       "    time_integrate  0.006\n",
       "CubQMCCLT (StoppingCriterion Object)\n",
       "    inflate         1.200\n",
       "    alpha           0.010\n",
       "    abs_tol         0.050\n",
       "    rel_tol         0\n",
       "    n_init          2^(8)\n",
       "    n_max           2^(30)\n",
       "    replications    2^(4)\n",
       "Keister (Integrand Object)\n",
       "Gaussian (TrueMeasure Object)\n",
       "    mean            0\n",
       "    covariance      2^(-1)\n",
       "    decomp_type     PCA\n",
       "Lattice (DiscreteDistribution Object)\n",
       "    d               1\n",
       "    dvec            0\n",
       "    randomize       SHIFT\n",
       "    order           NATURAL\n",
       "    gen_vec         1\n",
       "    entropy         7\n",
       "    spawn_key       ()"
      ]
     },
     "execution_count": 26,
     "metadata": {},
     "output_type": "execute_result"
    }
   ],
   "source": [
    "kesiter_lattice = qp.Keister(qp.Lattice(seed=7))\n",
    "clt_lattice = qp.CubQMCCLT(kesiter_lattice,abs_tol=.05)\n",
    "solution1,data1 = clt_lattice.integrate()\n",
    "solution1\n",
    "data1"
   ]
  },
  {
   "cell_type": "code",
   "execution_count": 16,
   "id": "3633b9cd",
   "metadata": {},
   "outputs": [
    {
     "data": {
      "text/plain": [
       "MeanVarDataRep (AccumulateData Object)\n",
       "    solution        1.379\n",
       "    comb_bound_low  1.369\n",
       "    comb_bound_high 1.389\n",
       "    comb_flags      1\n",
       "    n_total         2^(12)\n",
       "    n               2^(12)\n",
       "    n_rep           2^(8)\n",
       "    time_integrate  0.003\n",
       "CubQMCCLT (StoppingCriterion Object)\n",
       "    inflate         1.200\n",
       "    alpha           0.010\n",
       "    abs_tol         0.050\n",
       "    rel_tol         0\n",
       "    n_init          2^(8)\n",
       "    n_max           2^(30)\n",
       "    replications    2^(4)\n",
       "Keister (Integrand Object)\n",
       "Gaussian (TrueMeasure Object)\n",
       "    mean            0\n",
       "    covariance      2^(-1)\n",
       "    decomp_type     PCA\n",
       "Kronecker (DiscreteDistribution Object)\n",
       "    d               1\n",
       "    entropy         7\n",
       "    spawn_key       ()"
      ]
     },
     "execution_count": 16,
     "metadata": {},
     "output_type": "execute_result"
    }
   ],
   "source": [
    "kesiter_kron = qp.Keister(qp.Kronecker(seed=7, randomize=True, alpha=alpha))\n",
    "clt_kron = qp.CubQMCCLT(kesiter_kron,abs_tol=.05)\n",
    "solution2,data2 = clt_kron.integrate()\n",
    "solution2\n",
    "data2"
   ]
  },
  {
   "cell_type": "code",
   "execution_count": null,
   "id": "64c146d0",
   "metadata": {},
   "outputs": [],
   "source": []
  }
 ],
 "metadata": {
  "kernelspec": {
   "display_name": "Python 3 (ipykernel)",
   "language": "python",
   "name": "python3"
  },
  "language_info": {
   "codemirror_mode": {
    "name": "ipython",
    "version": 3
   },
   "file_extension": ".py",
   "mimetype": "text/x-python",
   "name": "python",
   "nbconvert_exporter": "python",
   "pygments_lexer": "ipython3",
   "version": "3.9.13"
  }
 },
 "nbformat": 4,
 "nbformat_minor": 5
}
