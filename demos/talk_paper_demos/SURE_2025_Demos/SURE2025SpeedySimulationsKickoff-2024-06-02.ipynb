{
 "cells": [
  {
   "cell_type": "markdown",
   "id": "12112e9b-5c1a-4ce1-a9c2-a77f664264cd",
   "metadata": {},
   "source": [
    "# SURE 2025 Speedy Simulations Kickoff\n",
    "## Better Low Discrepancy Sequences"
   ]
  },
  {
   "cell_type": "markdown",
   "id": "661d17ee-a5a7-4e23-a042-f099822b9ac7",
   "metadata": {},
   "source": [
    "This demo makes use of our QMCPy software package.  See [qmcpy.org](www.qmcpy.org) for more details.\n",
    "\n",
    "This notebook has been viewed (and perhaps modified) by\n",
    "* Fred Hickernell"
   ]
  },
  {
   "cell_type": "markdown",
   "id": "e2566cb3-7883-4e1e-bc07-6b36b364f74c",
   "metadata": {},
   "source": [
    "## Preliminaries"
   ]
  },
  {
   "cell_type": "markdown",
   "id": "495b0803-818c-405b-95a4-96e268cee5cb",
   "metadata": {},
   "source": [
    "### If you running this in Jupyter notebook and you have the environment set up, ignore the cell below\n",
    "### If are running this notebook in on Google colab, replace False in the next cell by True"
   ]
  },
  {
   "cell_type": "code",
   "execution_count": 1,
   "id": "b0865f94-889f-4a28-9744-d204ab79f3c4",
   "metadata": {
    "execution": {
     "iopub.execute_input": "2025-06-05T00:11:20.131460Z",
     "iopub.status.busy": "2025-06-05T00:11:20.131231Z",
     "iopub.status.idle": "2025-06-05T00:11:20.134847Z",
     "shell.execute_reply": "2025-06-05T00:11:20.134461Z",
     "shell.execute_reply.started": "2025-06-05T00:11:20.131444Z"
    }
   },
   "outputs": [],
   "source": [
    "if False:  #Running on colab? # If you are running this on colab\n",
    "    !sudo apt install cm-super dvipng texlive-latex-extra texlive-latex-recommended\n",
    "    !sudo apt install cm-super\n",
    "    !pip install git+https://github.com/QMCSoftware/QMCSoftware.git@SURE2025"
   ]
  },
  {
   "cell_type": "markdown",
   "id": "3cffa937-a383-42bd-86ac-c246e93ffc1a",
   "metadata": {},
   "source": [
    "### Import needed packages"
   ]
  },
  {
   "cell_type": "code",
   "execution_count": 2,
   "id": "793d7beb-c82f-433b-befc-e50d98377af3",
   "metadata": {
    "execution": {
     "iopub.execute_input": "2025-06-05T00:11:20.135735Z",
     "iopub.status.busy": "2025-06-05T00:11:20.135634Z",
     "iopub.status.idle": "2025-06-05T00:11:21.958985Z",
     "shell.execute_reply": "2025-06-05T00:11:21.958681Z",
     "shell.execute_reply.started": "2025-06-05T00:11:20.135725Z"
    }
   },
   "outputs": [],
   "source": [
    "import matplotlib.pyplot as plt\n",
    "import math\n",
    "import numpy as np\n",
    "import scipy as sp\n",
    "import qmcpy as qp\n",
    "from scipy import stats\n",
    "from copy import deepcopy\n",
    "import sympy as sy\n",
    "import sympy.stats\n",
    "figpath = '' #this path sends the figures to the directory that you want\n",
    "savefigs = True\n",
    "imgfrmt = 'pdf' #kind of format to save figures as"
   ]
  },
  {
   "cell_type": "markdown",
   "id": "359617b6-437b-4c73-af7b-2ccc9d52dafe",
   "metadata": {},
   "source": [
    "### Some LaTeX macros (hidden in math mode)\n",
    "$\n",
    "\\newcommand{\\vt}{\\boldsymbol{t}}\n",
    "\\newcommand{\\vx}{\\boldsymbol{x}}\n",
    "\\newcommand{\\vX}{\\boldsymbol{X}}\n",
    "\\newcommand{\\cf}{\\mathcal{F}}\n",
    "\\newcommand{\\cu}{\\mathcal{U}}\n",
    "\\newcommand{\\dif}{\\mathrm{d}}\n",
    "\\newcommand{\\Ex}{\\mathbb{E}}\n",
    "\\DeclareMathOperator{\\disc}{disc}\n",
    "\\newcommand{\\norm}[2][{}]{{\\left \\lVert #2 \\right \\rVert}_{#1}}\n",
    "$"
   ]
  },
  {
   "cell_type": "markdown",
   "id": "4cc5110b-b9e9-43af-ae6a-c56510e89bc1",
   "metadata": {},
   "source": [
    "## Traditional grids"
   ]
  },
  {
   "cell_type": "markdown",
   "id": "e043435e-dd37-4047-8d74-1e7d92f34449",
   "metadata": {},
   "source": [
    "### Evenly spaced points in one dimension $(d=1)$\n",
    "In one dimension it is easy to spread points evenly\n",
    "$$\n",
    "x_i = i/n, \\qquad i = 0, \\ldots, n-1.\n",
    "$$\n",
    "These are leaning towards the left, but one may add a shift to center them,\n",
    "$$\n",
    "x_i = (i+1/2)/n, \\qquad i = 0, \\ldots, n-1.\n",
    "$$\n",
    "Unfortunately, it is not easy to **extend** the sequence of points by increasing $n$.  One must in general throw out the old points."
   ]
  },
  {
   "cell_type": "code",
   "execution_count": 3,
   "id": "7151d691-c156-4d2f-b79f-eb2443db7502",
   "metadata": {
    "execution": {
     "iopub.execute_input": "2025-06-05T00:11:21.959561Z",
     "iopub.status.busy": "2025-06-05T00:11:21.959423Z",
     "iopub.status.idle": "2025-06-05T00:11:22.082707Z",
     "shell.execute_reply": "2025-06-05T00:11:22.082421Z",
     "shell.execute_reply.started": "2025-06-05T00:11:21.959547Z"
    }
   },
   "outputs": [
    {
     "data": {
      "image/png": "[encoded data removed]",
      "text/plain": [
       "<Figure size 640x480 with 1 Axes>"
      ]
     },
     "metadata": {},
     "output_type": "display_data"
    }
   ],
   "source": [
    "n_list = [6, 29, 64]  #the sample size used for these examples\n",
    "xpts = np.linspace(0, 1-1./n_list[-1], n_list[-1]) #equally spaced points between 0 and 1\n",
    "plt.style.use('default')\n",
    "fig, ax = plt.subplots()\n",
    "for ii,n in enumerate(n_list):\n",
    "    n_start = 0 if ii == 0 else n_list[ii-1]\n",
    "    ax.plot(xpts[n_start:n], np.zeros_like(xpts[n_start:n]), '.', markersize = 10, zorder=10, clip_on=False) \n",
    "ax.set_ylim([0, 3e-2])\n",
    "#ax.set_title(f\"{n:.0f} Equally Spaced Points for $d=1$\")\n",
    "#ax.set_xlabel(\"$x_i$, \")\n",
    "ax.set_xlabel(f\"First {n_list} points\")\n",
    "ax.set_aspect(1)\n",
    "ax.axes.get_yaxis().set_visible(False)  #turn off the tics on the vertical axis\n",
    "ax.tick_params(axis='both', which='major', length=5, width=1)\n",
    "ax.spines[['top','right','left']].set_visible(False)  #turn off the bounding box on the top and sides\n",
    "if savefigs:\n",
    "    fig.savefig(figpath+f\"{n:.0f}equallyspacedpts.\"+imgfrmt,format=imgfrmt,bbox_inches='tight')"
   ]
  },
  {
   "cell_type": "markdown",
   "id": "2a1c80bd-ae01-4757-93d5-36908c3ff10d",
   "metadata": {},
   "source": [
    "### Grids in dimension $d > 1$\n",
    "Our natural thought for higher dimensions is to use rectangular grids, but as the dimension, $d$, increases, the number of different values per coordinate decreases drastically.\n",
    "\n",
    "The plots below show this effect.  Unfortunately, these grids are not "
   ]
  },
  {
   "cell_type": "code",
   "execution_count": 4,
   "id": "b84c59d4-1e5c-48ae-9ddf-900ede70cf20",
   "metadata": {
    "execution": {
     "iopub.execute_input": "2025-06-05T00:11:22.083263Z",
     "iopub.status.busy": "2025-06-05T00:11:22.083135Z",
     "iopub.status.idle": "2025-06-05T00:11:22.087523Z",
     "shell.execute_reply": "2025-06-05T00:11:22.087279Z",
     "shell.execute_reply.started": "2025-06-05T00:11:22.083253Z"
    }
   },
   "outputs": [],
   "source": [
    "def make_grid(d=3,nper=2):  #this function creates a nper^d x d matrix of grid points\n",
    "    xpts = np.linspace(0, 1.0-1/nper, nper)  #array of coordinate values\n",
    "    xgrid = xpts  #initial grid\n",
    "    n = nper  #initial length of grid\n",
    "    for ii in range(1,d):\n",
    "        xgrid0 = xgrid  #store the old grid\n",
    "        xgrid = np.vstack((xgrid0,xpts[0]*np.ones((1,n))))  #stack the next coordinate\n",
    "        for jj in range(1,nper):\n",
    "            xgrid = np.hstack((xgrid,np.vstack((xgrid0,xpts[jj]*np.ones((1,n))))))\n",
    "        n = n*nper  #update the length of the grid\n",
    "    return xgrid.T  #take the transpose to that coordinates are columns\n",
    "\n",
    "axis_pad = 0.05\n",
    "def plot_grid(xgrid, coord_to_plot = [0, 1], savefig = True, figpath = '', axis_pad = axis_pad, imgfrmt = 'pdf'):\n",
    "    n = xgrid.shape[0]\n",
    "    d = xgrid.shape[1]\n",
    "    coord_to_plot = np.minimum(coord_to_plot,[d,d]), #ensure that they are no more than d\n",
    "    coord_to_plot = coord_to_plot[0]\n",
    "    coord_to_plot = np.maximum(coord_to_plot,[1,1]), #ensure that they are no less than 1\n",
    "    coord_to_plot = coord_to_plot[0]\n",
    "    fig, ax = plt.subplots()\n",
    "    ax.plot(xgrid[:,coord_to_plot[0]-1], xgrid[:,coord_to_plot[1]-1], 'b.', markersize = 10, zorder=10, clip_on=False) \n",
    "    ax.set_title(f\"{n:.0f} Grid Points for $d = ${d:.0f}\")\n",
    "    ax.set_xlim([0-axis_pad,1+axis_pad])\n",
    "    ax.set_ylim([0-axis_pad,1+axis_pad])\n",
    "    ax.set_xlabel(r'$x_{i%d}$'%(coord_to_plot[0]),fontsize=14)\n",
    "    ax.set_ylabel(r'$x_{i%d}$'%(coord_to_plot[1]),fontsize=14)\n",
    "    ax.set_aspect(1)\n",
    "    if savefigs:\n",
    "        fig.savefig(figpath+f\"{n:.0f}gridpts_d{d:.0f}.\"+imgfrmt,format=imgfrmt)\n"
   ]
  },
  {
   "cell_type": "code",
   "execution_count": 5,
   "id": "3584c076-1f96-4011-89d1-33b4a0ebcd8d",
   "metadata": {
    "execution": {
     "iopub.execute_input": "2025-06-05T00:11:22.088793Z",
     "iopub.status.busy": "2025-06-05T00:11:22.088682Z",
     "iopub.status.idle": "2025-06-05T00:11:22.440137Z",
     "shell.execute_reply": "2025-06-05T00:11:22.439857Z",
     "shell.execute_reply.started": "2025-06-05T00:11:22.088783Z"
    }
   },
   "outputs": [
    {
     "data": {
      "image/png": "[encoded data removed]",
      "text/plain": [
       "<Figure size 640x480 with 1 Axes>"
      ]
     },
     "metadata": {},
     "output_type": "display_data"
    },
    {
     "data": {
      "image/png": "[encoded data removed]",
      "text/plain": [
       "<Figure size 640x480 with 1 Axes>"
      ]
     },
     "metadata": {},
     "output_type": "display_data"
    },
    {
     "data": {
      "image/png": "[encoded data removed]",
      "text/plain": [
       "<Figure size 640x480 with 1 Axes>"
      ]
     },
     "metadata": {},
     "output_type": "display_data"
    }
   ],
   "source": [
    "plot_grid(make_grid(2,8), [1,2], savefigs, figpath)\n",
    "plot_grid(make_grid(3,4), [2,3], savefigs, figpath)\n",
    "plot_grid(make_grid(6,2), [4,6], savefigs, figpath)"
   ]
  },
  {
   "cell_type": "markdown",
   "id": "ceb45fe1-b8f7-4c6c-a952-07997e0b4255",
   "metadata": {},
   "source": [
    "## Independent and identically distributed (IID) points\n",
    "Since grids are bad, we can use IID points instead.  Note how they fill space better."
   ]
  },
  {
   "cell_type": "code",
   "execution_count": 6,
   "id": "b61def7d-b6d0-42b0-ba27-8228b95437f6",
   "metadata": {
    "execution": {
     "iopub.execute_input": "2025-06-05T00:11:22.440620Z",
     "iopub.status.busy": "2025-06-05T00:11:22.440532Z",
     "iopub.status.idle": "2025-06-05T00:11:22.442697Z",
     "shell.execute_reply": "2025-06-05T00:11:22.442350Z",
     "shell.execute_reply.started": "2025-06-05T00:11:22.440610Z"
    }
   },
   "outputs": [],
   "source": [
    "d = 6  #the dimension used for these examples\n",
    "d_horiz = np.array([1])\n",
    "d_vert = np.arange(2,5)\n",
    "ms = 15"
   ]
  },
  {
   "cell_type": "code",
   "execution_count": 7,
   "id": "13066cc1-51c5-4fbd-912b-143223293d14",
   "metadata": {
    "execution": {
     "iopub.execute_input": "2025-06-05T00:11:22.443124Z",
     "iopub.status.busy": "2025-06-05T00:11:22.443038Z",
     "iopub.status.idle": "2025-06-05T00:11:22.947442Z",
     "shell.execute_reply": "2025-06-05T00:11:22.947023Z",
     "shell.execute_reply.started": "2025-06-05T00:11:22.443114Z"
    }
   },
   "outputs": [
    {
     "data": {
      "image/png": "[encoded data removed]",
      "text/plain": [
       "<Figure size 1000x3000 with 3 Axes>"
      ]
     },
     "metadata": {},
     "output_type": "display_data"
    }
   ],
   "source": [
    "fig,ax = qp.plot_proj(qp.IIDStdUniform(d), n_list, d_horizontal = d_horiz, d_vertical = d_vert, figfac = 10, axis_pad = axis_pad, marker_size = ms, where_title = 0.55,fig_title = '')\n",
    "if savefigs:\n",
    "        fig.savefig(figpath+f\"{n:.0f}iidpts_d{d:.0f}.\"+imgfrmt,format=imgfrmt)"
   ]
  },
  {
   "cell_type": "markdown",
   "id": "181d79a9-e81d-4e18-acad-a11f0ddfae58",
   "metadata": {},
   "source": [
    "## Low disrepancy sequences\n",
    "There are several kinds of low discrepancy points, includng Sobol', lattice, Halton, and Kronecker."
   ]
  },
  {
   "cell_type": "markdown",
   "id": "f0bcf564",
   "metadata": {},
   "source": [
    "### 1-dimensional low disrepancy sequences\n",
    "We start with a one dimensional **extensible** sequence:\n",
    "\\begin{equation*}\n",
    "\\begin{aligned}\n",
    "\\textsf{van der Corput sequence} \\quad & \\phi_b((\\cdots i_2 i_1 i_0)_b) = {}_b (0. i_0 i_1 i_2 \\cdots) \\\\\n",
    "\\textsf{e.g. } & \\phi_2(6) = \\phi_2(110_2) = {}_2 0. 011 = 3/8\n",
    "\\end{aligned}\n",
    "\\end{equation*}\n",
    "We and add a shift as well:\n",
    "\\begin{equation*}\n",
    "x_i = \\phi_b(i) + \\Delta \\bmod 1, \\qquad i = 0, 1, 2, \\ldots\n",
    "\\end{equation*}\n",
    "\n",
    "Below we display one kind."
   ]
  },
  {
   "cell_type": "code",
   "execution_count": 8,
   "id": "0f63a6c5",
   "metadata": {
    "execution": {
     "iopub.execute_input": "2025-06-05T00:11:22.948273Z",
     "iopub.status.busy": "2025-06-05T00:11:22.948089Z",
     "iopub.status.idle": "2025-06-05T00:11:22.995468Z",
     "shell.execute_reply": "2025-06-05T00:11:22.995031Z",
     "shell.execute_reply.started": "2025-06-05T00:11:22.948255Z"
    }
   },
   "outputs": [
    {
     "data": {
      "image/png": "[encoded data removed]",
      "text/plain": [
       "<Figure size 640x480 with 1 Axes>"
      ]
     },
     "metadata": {},
     "output_type": "display_data"
    }
   ],
   "source": [
    "delta = 0.05  #the spacing between the points\n",
    "xpts = np.mod(qp.DigitalNetB2(dimension=1,randomize=False).gen_samples(n_max=n_list[-1],warn=False) + delta,1) #generate a van de Corput sequence and add a shift\n",
    "plt.style.use('default')\n",
    "fig, ax = plt.subplots(1)\n",
    "for ii,n in enumerate(n_list):\n",
    "    n_start = 0 if ii == 0 else n_list[ii-1]\n",
    "    ax.plot(xpts[n_start:n], np.zeros_like(xpts[n_start:n]), '.', markersize = 10, zorder=10, clip_on=False) \n",
    "ax.set_ylim([0, 3e-2])\n",
    "ax.set_aspect(1)\n",
    "ax.set_xlabel(f\"First {n_list} points\")\n",
    "ax.axes.get_yaxis().set_visible(False)  #turn off the tics on the vertical axis\n",
    "ax.tick_params(axis='both', which='major', length=5, width=1)\n",
    "ax.spines[['top','right','left']].set_visible(False)  #turn off the bounding box on the top and sides\n",
    "if savefigs:\n",
    "    fig.savefig(figpath+f\"{n:.0f}VDCpts.\"+imgfrmt,format=imgfrmt,bbox_inches='tight')"
   ]
  },
  {
   "cell_type": "markdown",
   "id": "c07653fe",
   "metadata": {},
   "source": [
    "### $d$-Dimensional integration lattices with a shift\n",
    "\n",
    "\\begin{equation*}\n",
    "\\boldsymbol{x}_i = \\phi_b(i) \\boldsymbol{h} + \\boldsymbol{\\Delta} \\bmod \\boldsymbol{1}, \\qquad i = 0, 1, 2, \\ldots\n",
    "\\end{equation*}\n"
   ]
  },
  {
   "cell_type": "code",
   "execution_count": 9,
   "id": "398bbe81-d040-4b1b-b934-7994c0aa3ed8",
   "metadata": {
    "execution": {
     "iopub.execute_input": "2025-06-05T00:11:22.995983Z",
     "iopub.status.busy": "2025-06-05T00:11:22.995879Z",
     "iopub.status.idle": "2025-06-05T00:11:23.239924Z",
     "shell.execute_reply": "2025-06-05T00:11:23.239551Z",
     "shell.execute_reply.started": "2025-06-05T00:11:22.995973Z"
    }
   },
   "outputs": [
    {
     "data": {
      "image/png": "[encoded data removed]",
      "text/plain": [
       "<Figure size 1000x3000 with 3 Axes>"
      ]
     },
     "metadata": {},
     "output_type": "display_data"
    }
   ],
   "source": [
    "fig,ax = qp.plot_proj(qp.Lattice(d), n=n_list, d_horizontal = d_horiz, d_vertical = d_vert, figfac = 10, axis_pad = axis_pad, where_title = 0.55,marker_size=ms,fig_title = '')\n",
    "    #d_horizontal and d_vertical are the tuples of coordinates to plot\n",
    "if savefigs:\n",
    "        fig.savefig(figpath+f\"{n:.0f}lattice_pts_d{d:.0f}.\"+imgfrmt,format=imgfrmt)"
   ]
  },
  {
   "cell_type": "markdown",
   "id": "b50a15b7",
   "metadata": {},
   "source": [
    "### $d$-Dimensional Kronecker sequence with a shift\n",
    "\n",
    "\\begin{equation*}\n",
    "\\boldsymbol{x}_i = i \\boldsymbol{\\alpha} + \\boldsymbol{\\Delta} \\bmod \\boldsymbol{1}, \\qquad i = 0, 1, 2, \\ldots\n",
    "\\end{equation*}"
   ]
  },
  {
   "cell_type": "code",
   "execution_count": 10,
   "id": "7c770663-f5e0-4ed2-8c15-2d7b7162a1da",
   "metadata": {
    "execution": {
     "iopub.execute_input": "2025-06-05T00:11:23.240398Z",
     "iopub.status.busy": "2025-06-05T00:11:23.240304Z",
     "iopub.status.idle": "2025-06-05T00:11:23.394602Z",
     "shell.execute_reply": "2025-06-05T00:11:23.394087Z",
     "shell.execute_reply.started": "2025-06-05T00:11:23.240387Z"
    }
   },
   "outputs": [
    {
     "ename": "AttributeError",
     "evalue": "'NoneType' object has no attribute 'gen_samples'",
     "output_type": "error",
     "traceback": [
      "\u001b[0;31m---------------------------------------------------------------------------\u001b[0m",
      "\u001b[0;31mAttributeError\u001b[0m                            Traceback (most recent call last)",
      "Cell \u001b[0;32mIn[10], line 1\u001b[0m\n\u001b[0;32m----> 1\u001b[0m fig,ax \u001b[38;5;241m=\u001b[39m \u001b[43mqp\u001b[49m\u001b[38;5;241;43m.\u001b[39;49m\u001b[43mplot_proj\u001b[49m\u001b[43m(\u001b[49m\u001b[43mqp\u001b[49m\u001b[38;5;241;43m.\u001b[39;49m\u001b[43mkronecker\u001b[49m\u001b[43m(\u001b[49m\u001b[43md\u001b[49m\u001b[43m,\u001b[49m\u001b[43malpha\u001b[49m\u001b[43m \u001b[49m\u001b[38;5;241;43m=\u001b[39;49m\u001b[43m \u001b[49m\u001b[43mnp\u001b[49m\u001b[38;5;241;43m.\u001b[39;49m\u001b[43mrandom\u001b[49m\u001b[38;5;241;43m.\u001b[39;49m\u001b[43mrand\u001b[49m\u001b[43m(\u001b[49m\u001b[43md\u001b[49m\u001b[43m)\u001b[49m\u001b[43m)\u001b[49m\u001b[43m,\u001b[49m\u001b[43m \u001b[49m\u001b[43mn\u001b[49m\u001b[38;5;241;43m=\u001b[39;49m\u001b[43mn_list\u001b[49m\u001b[43m,\u001b[49m\u001b[43m \u001b[49m\u001b[43md_horizontal\u001b[49m\u001b[43m \u001b[49m\u001b[38;5;241;43m=\u001b[39;49m\u001b[43m \u001b[49m\u001b[43md_horiz\u001b[49m\u001b[43m,\u001b[49m\u001b[43m \u001b[49m\u001b[43md_vertical\u001b[49m\u001b[43m \u001b[49m\u001b[38;5;241;43m=\u001b[39;49m\u001b[43m \u001b[49m\u001b[43md_vert\u001b[49m\u001b[43m,\u001b[49m\u001b[43m \u001b[49m\u001b[43mfigfac\u001b[49m\u001b[43m \u001b[49m\u001b[38;5;241;43m=\u001b[39;49m\u001b[43m \u001b[49m\u001b[38;5;241;43m10\u001b[39;49m\u001b[43m,\u001b[49m\u001b[43m \u001b[49m\u001b[43maxis_pad\u001b[49m\u001b[43m \u001b[49m\u001b[38;5;241;43m=\u001b[39;49m\u001b[43m \u001b[49m\u001b[43maxis_pad\u001b[49m\u001b[43m,\u001b[49m\u001b[43m \u001b[49m\u001b[43mwhere_title\u001b[49m\u001b[43m \u001b[49m\u001b[38;5;241;43m=\u001b[39;49m\u001b[43m \u001b[49m\u001b[38;5;241;43m0.55\u001b[39;49m\u001b[43m,\u001b[49m\u001b[43mmarker_size\u001b[49m\u001b[38;5;241;43m=\u001b[39;49m\u001b[43mms\u001b[49m\u001b[43m,\u001b[49m\u001b[43mfig_title\u001b[49m\u001b[43m \u001b[49m\u001b[38;5;241;43m=\u001b[39;49m\u001b[43m \u001b[49m\u001b[38;5;124;43m'\u001b[39;49m\u001b[38;5;124;43m'\u001b[39;49m\u001b[43m)\u001b[49m\n\u001b[1;32m      2\u001b[0m     \u001b[38;5;66;03m#d_horizontal and d_vertical are the tuples of coordinates to plot\u001b[39;00m\n\u001b[1;32m      3\u001b[0m \u001b[38;5;28;01mif\u001b[39;00m savefigs:\n",
      "File \u001b[0;32m~/SoftwareRepositories/QMCSoftware/qmcpy/util/plot_functions.py:40\u001b[0m, in \u001b[0;36mplot_proj\u001b[0;34m(sampler, n, d_horizontal, d_vertical, math_ind, marker_size, figfac, fig_title, axis_pad, want_grid, font_family, where_title, **kwargs)\u001b[0m\n\u001b[1;32m     38\u001b[0m d_horizontal \u001b[38;5;241m=\u001b[39m atleast_1d(d_horizontal)\n\u001b[1;32m     39\u001b[0m d_vertical \u001b[38;5;241m=\u001b[39m atleast_1d(d_vertical)\n\u001b[0;32m---> 40\u001b[0m samples \u001b[38;5;241m=\u001b[39m \u001b[43msampler\u001b[49m\u001b[38;5;241;43m.\u001b[39;49m\u001b[43mgen_samples\u001b[49m(n[n\u001b[38;5;241m.\u001b[39msize \u001b[38;5;241m-\u001b[39m \u001b[38;5;241m1\u001b[39m])    \n\u001b[1;32m     41\u001b[0m d \u001b[38;5;241m=\u001b[39m samples\u001b[38;5;241m.\u001b[39mshape[\u001b[38;5;241m1\u001b[39m]\n\u001b[1;32m     42\u001b[0m fig, ax \u001b[38;5;241m=\u001b[39m plt\u001b[38;5;241m.\u001b[39msubplots(nrows\u001b[38;5;241m=\u001b[39md_horizontal\u001b[38;5;241m.\u001b[39msize, ncols\u001b[38;5;241m=\u001b[39md_vertical\u001b[38;5;241m.\u001b[39msize, figsize\u001b[38;5;241m=\u001b[39m(figfac\u001b[38;5;241m*\u001b[39md_horizontal\u001b[38;5;241m.\u001b[39msize, figfac\u001b[38;5;241m*\u001b[39md_vertical\u001b[38;5;241m.\u001b[39msize),squeeze\u001b[38;5;241m=\u001b[39m\u001b[38;5;28;01mFalse\u001b[39;00m)                    \n",
      "\u001b[0;31mAttributeError\u001b[0m: 'NoneType' object has no attribute 'gen_samples'"
     ]
    }
   ],
   "source": [
    "fig,ax = qp.plot_proj(qp.kronecker(d,alpha = np.random.rand(d)), n=n_list, d_horizontal = d_horiz, d_vertical = d_vert, figfac = 10, axis_pad = axis_pad, where_title = 0.55,marker_size=ms,fig_title = '')\n",
    "    #d_horizontal and d_vertical are the tuples of coordinates to plot\n",
    "if savefigs:\n",
    "        fig.savefig(figpath+f\"{n:.0f}kronecker_pts_d{d:.0f}.\"+imgfrmt,format=imgfrmt)"
   ]
  },
  {
   "cell_type": "code",
   "execution_count": null,
   "id": "37a4032b",
   "metadata": {
    "execution": {
     "iopub.status.busy": "2025-06-05T00:11:23.394797Z",
     "iopub.status.idle": "2025-06-05T00:11:23.394916Z",
     "shell.execute_reply": "2025-06-05T00:11:23.394854Z",
     "shell.execute_reply.started": "2025-06-05T00:11:23.394848Z"
    }
   },
   "outputs": [],
   "source": [
    "np.random.seed(47)\n",
    "x_kronecker = qp.kronecker(n, d, alpha = np.random.rand(d), delta = np.random.rand(d))  #generate the samples\n",
    "figfac = 10\n",
    "fig,ax = plt.subplots(nrows=d_horiz.size, ncols=d_vert.size, figsize=(figfac*d_horiz.size, figfac*d_vert.size),squeeze=False) \n",
    "colors = plt.rcParams['axes.prop_cycle'].by_key()['color']\n",
    "for i, d_h in enumerate(d_horiz):         \n",
    "    for j, d_v in enumerate(d_vert):\n",
    "        for m,n in enumerate(n_list):\n",
    "            n_start = 0 if m == 0 else n_list[m-1]  #the starting index for the samples                   \n",
    "            ax[i,j].set_xlim([0-axis_pad,1+axis_pad])\n",
    "            ax[i,j].set_ylim([0-axis_pad,1+axis_pad])\n",
    "            ax[i,j].set_xticks([0,1/4,1/2,3/4,1])\n",
    "            ax[i,j].set_yticks([0,1/4,1/2,3/4,1])\n",
    "            ax[i,j].set_aspect(1)\n",
    "            x_label = r'$x_{i%d}$'%(d_h)\n",
    "            y_label = r'$x_{i%d}$'%(d_v)\n",
    "            ax[i,j].set_xlabel(x_label,fontsize = 15)\n",
    "            ax[i,j].set_ylabel(y_label,fontsize = 15)\n",
    "            ax[i,j].scatter(x_kronecker[n_start:n,d_h-1],x_kronecker[n_start:n,d_v-1],s=ms,color=colors[m])   \n",
    "#plt.suptitle(f\"Kronecker Sequence\", y = 0.55)\n",
    "if savefigs:\n",
    "        fig.savefig(figpath+f\"{n:.0f}kronecker_pts_d{d:.0f}.\"+imgfrmt,format=imgfrmt)"
   ]
  },
  {
   "cell_type": "markdown",
   "id": "70b4e8a6-b2a1-4822-aa10-bab0f4905930",
   "metadata": {},
   "source": [
    "### $d$-Dimensional Halton sequence\n",
    "\n",
    "\\begin{equation*}\n",
    "\\boldsymbol{x}_i = \\bigl(\\phi_{b_1}(i), \\ldots, \\phi_{b_d}(i) \\bigr), \\qquad i = 0, 1, 2, \\ldots, \\quad b_1 = 2, b_2 = 3, b_3 = 5, b_4 = 7, \\ldots\n",
    "\\end{equation*}"
   ]
  },
  {
   "cell_type": "code",
   "execution_count": null,
   "id": "00b64760",
   "metadata": {
    "execution": {
     "iopub.status.busy": "2025-06-05T00:11:23.395549Z",
     "iopub.status.idle": "2025-06-05T00:11:23.395727Z",
     "shell.execute_reply": "2025-06-05T00:11:23.395647Z",
     "shell.execute_reply.started": "2025-06-05T00:11:23.395641Z"
    }
   },
   "outputs": [],
   "source": [
    "fig,ax = qp.plot_proj(qp.Halton(d, randomize = \"FALSE\"), n = n_list, d_horizontal = 1, d_vertical = np.arange(2,5), figfac = 10, axis_pad = axis_pad, marker_size=ms, where_title = 0.55, fig_title = \"\")\n",
    "    #d_horizontal and d_vertical are the tuples of coordinates to plot\n",
    "if savefigs:\n",
    "        fig.savefig(figpath+f\"{n:.0f}haltonpts_d{d:.0f}.\"+imgfrmt,format=imgfrmt)"
   ]
  },
  {
   "cell_type": "markdown",
   "id": "438e35ff-94e6-428e-af65-305f7da27f67",
   "metadata": {},
   "source": [
    "### $d$-Dimensional Sobol' sequence\n",
    "\n",
    "Scramble the digits of the $b=2$ van der Corput sequence for each coordinate"
   ]
  },
  {
   "cell_type": "code",
   "execution_count": null,
   "id": "36136d91-1822-4d30-a188-ce10c0efaf74",
   "metadata": {
    "execution": {
     "iopub.status.busy": "2025-06-05T00:11:23.396266Z",
     "iopub.status.idle": "2025-06-05T00:11:23.396417Z",
     "shell.execute_reply": "2025-06-05T00:11:23.396343Z",
     "shell.execute_reply.started": "2025-06-05T00:11:23.396337Z"
    }
   },
   "outputs": [],
   "source": [
    "fig,ax = qp.plot_proj(qp.Sobol(d), n = n_list, d_horizontal = 1, d_vertical = np.arange(2,5), figfac = 10, axis_pad = axis_pad, marker_size = ms, where_title = 0.55, fig_title = \"\")\n",
    "    #d_horizontal and d_vertical are the tuples of coordinates to plot\n",
    "if savefigs:\n",
    "        fig.savefig(figpath+f\"{n:.0f}sobolpts_d{d:.0f}.\"+imgfrmt,format=imgfrmt)"
   ]
  },
  {
   "cell_type": "markdown",
   "id": "cd6fa632-a15e-452b-9363-dc829fdfcfa5",
   "metadata": {},
   "source": [
    "## Research Questions\n",
    "<ul style=\"font-size:20px;\">\n",
    "<li>How well do Kronecker and lattice perform for non-preferred sample sizes?</li>\n",
    "<li>How do we find a good generator $\\boldsymbol{\\alpha}$ for Kronecker?</li>\n",
    "<li>Is there some generalization of Kronecker and lattice sequences that includes both?</li>\n",
    "</ul>"
   ]
  },
  {
   "cell_type": "markdown",
   "id": "284f40b5-c140-4269-943e-4972b6824264",
   "metadata": {},
   "source": [
    "## Kernel based discrepancies and random shifts leading to periodic kernels"
   ]
  },
  {
   "cell_type": "markdown",
   "id": "d46e0a46-d084-4ae1-88c4-2e41b3a54bca",
   "metadata": {},
   "source": [
    "One definition of discrepancy starts with a symmetric, positive definite kernel, $K:[0,1]^d\\times [0,1]^d \\to \\mathbb{R}$, i.e.,\n",
    "\\begin{gather*}\n",
    "K(\\boldsymbol{t},\\boldsymbol{x}) = K(\\boldsymbol{x},\\boldsymbol{t}) \\qquad \\forall \\boldsymbol{t}, \\boldsymbol{x} \\in [0,1]^d \\\\\n",
    "\\sum_{i,j = 1}^{n} c_i K(\\boldsymbol{x}_i,\\boldsymbol{x}_j ) \\boldsymbol{c}_j > 0 \\qquad \\forall \\boldsymbol{c} \\ne \\boldsymbol{0}, \\ \\boldsymbol{x}_1, \\ldots, \\boldsymbol{x}_n \\text{ distinct and } \\in [0,1]^d\n",
    "\\end{gather*}\n",
    "The discrepancy, $D(\\{\\boldsymbol{x}\\}_{i=1}^n)$ is defined in terms of the kernel as\n",
    "$$\n",
    "[D(\\{\\boldsymbol{x}_i\\}_{i=1}^n,K)]^2= \\int_{[0,1]^d} \\int_{[0,1]^d} K(\\boldsymbol{t},\\boldsymbol{x}) \\, \\mathrm{d}\\boldsymbol{t} \\mathrm{d}\\boldsymbol{x}\n",
    "- \\frac{2}{n} \\sum_{i=1}^n \\int_{[0,1]^d} K(\\boldsymbol{t}, \\boldsymbol{x}_i) \\, \\mathrm{d}\\boldsymbol{t}\n",
    "+ \\frac{1}{n^2} \\sum_{i,j = 1}^n K(\\boldsymbol{x}_i, \\boldsymbol{x}_j)\n",
    "$$\n",
    "The discrepancy requires $\\mathcal{O}(dn^2)$ operations to compute, assuming one evaluation of the kernel requires $d$ operations to compute.\n",
    "\n",
    "Now suppose that we take a set of nodes, $\\{\\boldsymbol{x}\\}_{i=1}^n$, and we add the same random shift, $\\boldsymbol{\\Delta}$, modulo $\\boldsymbol{1}$ to each node.  The root mean squared discrepancy is\n",
    "$$\n",
    "\\begin{aligned}\n",
    "\\mathbb{E}\\{[D(\\{\\boldsymbol{x}_i + \\boldsymbol{\\Delta} \\bmod \\boldsymbol{1}\\}_{i=1}^n,K)]^2\\}\n",
    "& = \\int_{[0,1]^d} \\int_{[0,1]^d} K(\\boldsymbol{t},\\boldsymbol{x}) \\, \\mathrm{d}\\boldsymbol{t} \\mathrm{d}\\boldsymbol{x}  - \\frac{2}{n} \\sum_{i=1}^n \\int_{[0,1]^d} \\int_{[0,1]^d} K(\\boldsymbol{t}, \\boldsymbol{x}_i + \\boldsymbol{z} \\bmod \\boldsymbol{1}) \\, \\mathrm{d}\\boldsymbol{t} \\mathrm{d}\\boldsymbol{z} \\\\\n",
    "& \\qquad + \\frac{1}{n^2} \\sum_{i,j = 1}^n \\int_{[0,1]^d} K(\\boldsymbol{x}_i + \\boldsymbol{z} \\bmod \\boldsymbol{1}, \\boldsymbol{x}_j + \\boldsymbol{z} \\bmod \\boldsymbol{1}) \\, \\mathrm{d}\\boldsymbol{z} \\\\\n",
    "& = - \\int_{[0,1]^d} \\int_{[0,1]^d} K(\\boldsymbol{t},\\boldsymbol{x}) \\, \\mathrm{d}\\boldsymbol{t} \\mathrm{d}\\boldsymbol{x} + \\frac{1}{n^2} \\sum_{i,j = 1}^n \\int_{[0,1]^d} K(\\boldsymbol{x}_i - \\boldsymbol{x}_j + \\boldsymbol{z} \\bmod \\boldsymbol{1},\\boldsymbol{z} ) \\, \\mathrm{d}\\boldsymbol{z} \\\\\n",
    "& = - \\int_{[0,1]^d} \\widetilde{K}(\\boldsymbol{t}) \\, \\mathrm{d}\\boldsymbol{t} + \\frac{1}{n^2} \\sum_{i,j = 1}^n \\int_{[0,1]^d} \\widetilde{K}(\\boldsymbol{x}_i - \\boldsymbol{x}_j \\bmod \\boldsymbol{1}), \\qquad \\text{where }  \\, \\widetilde{K}(\\boldsymbol{t}) : = \\int_{[0,1]^d} K(\\boldsymbol{x}) \\, \\mathrm{d}\\boldsymbol{x} \\\\\n",
    "&= D(\\{\\boldsymbol{x}_i\\}_{i=1}^n,\\widehat{K})]^2 \\qquad \\text{for } \\widehat{K} : = ??\n",
    "\\end{aligned}\n",
    "$$\n",
    "This has the same cost to compute but a somewhat simpler form.\n"
   ]
  },
  {
   "cell_type": "markdown",
   "id": "587c44ba-c7a8-4a69-856c-4c919c120006",
   "metadata": {},
   "source": [
    "### Periodic kernels for Kronecker and lattice sequences"
   ]
  },
  {
   "cell_type": "markdown",
   "id": "de8d98a2-586c-4f37-8e20-2910ab2b5d7c",
   "metadata": {},
   "source": [
    "Now, let's evaluate the formula for the discrepancy for a randomly shifted Kronecker and lattice sequence:\n",
    "\\begin{equation*}\n",
    "\\begin{aligned}\n",
    "\\text{Kronecker: } \\mathbb{E}\\{[D(\\{i\\boldsymbol{\\alpha} + \\boldsymbol{\\Delta} \\bmod \\boldsymbol{1}\\}_{i=1}^n,K)]^2\\}\n",
    "& = - \\int_{[0,1]^d} \\widetilde{K}(\\boldsymbol{t}) \\, \\mathrm{d}\\boldsymbol{t} + \\frac{1}{n^2} \\sum_{i,j = 1}^n \\int_{[0,1]^d} \\widetilde{K}((i - j)\\boldsymbol{\\alpha} \\bmod \\boldsymbol{1}) \\\\\n",
    "&=  - \\int_{[0,1]^d} \\widetilde{K}(\\boldsymbol{t}) \\, \\mathrm{d}\\boldsymbol{t} \n",
    "+ \\frac 1{n^2} \\sum_{k=1-n}^{n-1}  (n -  \\lvert k \\rvert)\\widetilde{K}(k \\boldsymbol{\\alpha} \\bmod \\boldsymbol{1}) \\\\\n",
    "& = - \\int_{[0,1]^d} \\widetilde{K}(\\boldsymbol{t}) \\, \\mathrm{d}\\boldsymbol{t}\n",
    "+ \\frac 1{n^2} \\biggl[n \\widetilde{K}(\\boldsymbol{0}) +  2\\sum_{k=1}^{n-1}  (n - k)\\widetilde{K} (k \\boldsymbol{\\alpha} \\bmod \\boldsymbol{1}) \\biggr] \\\\\n",
    "\\text{lattice: } \\mathbb{E}\\{[D(\\{\\phi_b(i)\\boldsymbol{h} + \\boldsymbol{\\Delta} \\bmod \\boldsymbol{1}\\}_{i=1}^n,K)]^2\\}\n",
    "& = ??\n",
    "\\end{aligned}\n",
    "\\end{equation*}"
   ]
  },
  {
   "cell_type": "markdown",
   "id": "9f62bb33-b8a9-4814-a929-5f011fe3bcb3",
   "metadata": {},
   "source": [
    "### Weighted Sum of Squares of Discrepancy"
   ]
  },
  {
   "cell_type": "code",
   "execution_count": null,
   "id": "70a2da44-d6d6-4f25-9c22-0f9efad9e9b9",
   "metadata": {},
   "outputs": [],
   "source": []
  }
 ],
 "metadata": {
  "kernelspec": {
   "display_name": "Python 3 (ipykernel)",
   "language": "python",
   "name": "python3"
  },
  "language_info": {
   "codemirror_mode": {
    "name": "ipython",
    "version": 3
   },
   "file_extension": ".py",
   "mimetype": "text/x-python",
   "name": "python",
   "nbconvert_exporter": "python",
   "pygments_lexer": "ipython3",
   "version": "3.9.13"
  }
 },
 "nbformat": 4,
 "nbformat_minor": 5
}
