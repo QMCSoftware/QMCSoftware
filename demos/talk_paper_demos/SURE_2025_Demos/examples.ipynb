{
 "cells": [
  {
   "cell_type": "markdown",
   "id": "2cf14821",
   "metadata": {},
   "source": [
    "# Examples Comparing Monte Carlo and QMC Techniques\n",
    "## (Using Kronecker Sequences)"
   ]
  },
  {
   "cell_type": "code",
   "execution_count": 41,
   "id": "61b2aa4b",
   "metadata": {},
   "outputs": [],
   "source": [
    "import matplotlib.pyplot as plt\n",
    "import math\n",
    "import numpy as np\n",
    "import scipy as sp\n",
    "import qmcpy as qp\n",
    "from scipy import stats\n",
    "from copy import deepcopy\n",
    "import sympy as sy\n",
    "import sympy.stats\n",
    "figpath = '' #this path sends the figures to the directory that you want\n",
    "savefigs = True\n",
    "imgfrmt = 'pdf' #kind of format to save figures as"
   ]
  },
  {
   "cell_type": "markdown",
   "id": "a481f81c",
   "metadata": {},
   "source": [
    "# 1 Dimensional Case\n",
    "\n",
    "Consider the integral $$\\int_{[0,1]}^{} x \\,dx = 1/3$$\n",
    "\n",
    "Using Monte-Carlo Techniques, let us sample iid points from the interval $[0,1]$."
   ]
  },
  {
   "cell_type": "code",
   "execution_count": 144,
   "id": "05b2e012",
   "metadata": {},
   "outputs": [
    {
     "name": "stdout",
     "output_type": "stream",
     "text": [
      "Using Monte Carlo integration (num sample points: value, error):\n",
      "5 : 0.2046, 0.3862\n",
      "20 : 0.2993, 0.1022\n",
      "80 : 0.3140, 0.0580\n",
      "320 : 0.3355, 0.0066\n",
      "640 : 0.3415, 0.0246\n",
      "1280 : 0.3281, 0.0158\n",
      "2560 : 0.3284, 0.0148\n",
      "5120 : 0.3289, 0.0133\n",
      "10240 : 0.3311, 0.0067\n"
     ]
    }
   ],
   "source": [
    "def mc_integrate(n):\n",
    "    return sum(qp.IIDStdUniform(1, seed=43).gen_samples(n) ** 2)[0] / n\n",
    "\n",
    "def calculate_error(true, estimate):\n",
    "    return abs(estimate- true) / true\n",
    "\n",
    "print('Using Monte Carlo integration (num sample points: value, error):')\n",
    "for i in [5, 20, 80, 320, 640, 1280, 2560, 5120, 10240]:\n",
    "    value = mc_integrate(i)\n",
    "    print(f'{i} : {value:.04f}, {calculate_error(1/3, value):.04f}')"
   ]
  },
  {
   "cell_type": "code",
   "execution_count": 142,
   "id": "e2109cad",
   "metadata": {},
   "outputs": [
    {
     "name": "stdout",
     "output_type": "stream",
     "text": [
      "Using QMC integration (num sample points: value, error):\n",
      "5 : 0.3438, 0.0313\n",
      "20 : 0.2926, 0.1223\n",
      "80 : 0.3737, 0.1212\n",
      "320 : 0.3321, 0.0038\n",
      "640 : 0.3312, 0.0065\n",
      "1280 : 0.3306, 0.0081\n",
      "2560 : 0.3337, 0.0012\n",
      "5120 : 0.3329, 0.0013\n",
      "10240 : 0.3331, 0.0006\n"
     ]
    }
   ],
   "source": [
    "def qmc_integrate(n):\n",
    "    return sum(qp.Kronecker(alpha = np.random.rand()).gen_samples(n) ** 2)[0] / n\n",
    "\n",
    "print('Using QMC integration (num sample points: value, error):')\n",
    "for i in [5, 20, 80, 320, 640, 1280, 2560, 5120, 10240]:\n",
    "    value = qmc_integrate(i)\n",
    "    print(f'{i} : {value:.04f}, {calculate_error(1/3, value):.04f}')"
   ]
  },
  {
   "cell_type": "markdown",
   "id": "83a54ae0",
   "metadata": {},
   "source": [
    "# 2 Dimensional Case\n",
    "\n",
    "Consider the integral $$\\int_{[0,1]}^{} x^2 \\,dx = \\frac{1}{3}$$\n",
    "\n",
    "Using Monte-Carlo Techniques, let us sample iid points from the interval $[0,1]$."
   ]
  }
 ],
 "metadata": {
  "kernelspec": {
   "display_name": "qmcpy",
   "language": "python",
   "name": "python3"
  },
  "language_info": {
   "codemirror_mode": {
    "name": "ipython",
    "version": 3
   },
   "file_extension": ".py",
   "mimetype": "text/x-python",
   "name": "python",
   "nbconvert_exporter": "python",
   "pygments_lexer": "ipython3",
   "version": "3.9.13"
  }
 },
 "nbformat": 4,
 "nbformat_minor": 5
}
