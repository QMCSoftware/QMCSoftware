{
 "cells": [
  {
   "cell_type": "markdown",
   "source": [
    "# Benchmark tests"
   ],
   "metadata": {
    "collapsed": false
   }
  },
  {
   "cell_type": "markdown",
   "source": [
    "We compare different ways to evaluate various operations used by the Kronecker class and in searches for generating vectors."
   ],
   "metadata": {
    "collapsed": false
   }
  },
  {
   "cell_type": "code",
   "execution_count": 1,
   "outputs": [],
   "source": [
    "import numpy as np\n",
    "import timeit\n",
    "import matplotlib.pyplot as plt"
   ],
   "metadata": {
    "collapsed": false
   }
  },
  {
   "cell_type": "code",
   "execution_count": 2,
   "outputs": [],
   "source": [
    "def calculate_choices(n_alpha_array, n_alpha, double_n_alpha, choices):\n",
    "    np.add(n_alpha_array, np.random.rand(n_alpha), out = choices)\n",
    "    np.divide(choices, double_n_alpha, out = choices)\n",
    "\n",
    "def calculate_points(choice, i, points):\n",
    "    np.multiply(i, choice, out = points)\n",
    "    np.subtract(points, np.floor(points), out = points)\n",
    "    # np.mod(points, 1, out = points)\n",
    "\n",
    "def calculate_k_tilde_terms(points, coord_wt, previous_k_tilde, results):\n",
    "    np.subtract(points, 1, out = results)\n",
    "    np.multiply(points, results, out = results)\n",
    "    np.add(1/6, results, out = results)\n",
    "    np.multiply(coord_wt, results, out = results)\n",
    "    np.add(1, results, out = results)\n",
    "    np.multiply(previous_k_tilde, results, out = results)"
   ],
   "metadata": {
    "collapsed": false
   }
  },
  {
   "cell_type": "code",
   "execution_count": 3,
   "outputs": [],
   "source": [
    "# 'Chain' versions\n",
    "\n",
    "def chain_choices(n_alpha_array, n_alpha, double_n_alpha):\n",
    "    return (n_alpha_array + np.random.rand(n_alpha)) / double_n_alpha\n",
    "\n",
    "\n",
    "def mod_points(choice, i, points):\n",
    "    np.multiply(i, choice, out = points)\n",
    "    # np.subtract(points, np.floor(points), out = points)\n",
    "    np.mod(points, 1, out = points)\n",
    "\n",
    "def calculate_k_tilde_terms(points, coord_wt, previous_k_tilde, results):\n",
    "    np.subtract(points, 1, out = results)\n",
    "    np.multiply(points, results, out = results)\n",
    "    np.add(1/6, results, out = results)\n",
    "    np.multiply(coord_wt, results, out = results)\n",
    "    np.add(1, results, out = results)\n",
    "    np.multiply(previous_k_tilde, results, out = results)"
   ],
   "metadata": {
    "collapsed": false
   }
  },
  {
   "cell_type": "code",
   "execution_count": 4,
   "outputs": [],
   "source": [
    "n = int(1e6)\n",
    "n_alpha = int(1e4)\n",
    "\n",
    "previous_k_tilde = np.ones(n, dtype = np.float64)\n",
    "\n",
    "# calculates choices\n",
    "choices = np.empty(n_alpha, dtype = np.float64)\n",
    "n_alpha_array = np.arange(n_alpha, dtype = np.float64)\n",
    "double_n_alpha = 2 * n_alpha\n",
    "\n",
    "# used to calculate sample points x_i\n",
    "points = np.empty(n, dtype = np.float64)\n",
    "i = np.arange(n)\n",
    "\n",
    "k_tilde_terms = np.empty(n, dtype = np.float64)\n",
    "best_k_tilde = np.empty(n, dtype = np.float64)\n",
    "\n",
    "# used to calculate squared discrepancy\n",
    "n_array = np.arange(1, n + 1)"
   ],
   "metadata": {
    "collapsed": false
   }
  },
  {
   "cell_type": "markdown",
   "source": [
    "## Calculation of Choices"
   ],
   "metadata": {
    "collapsed": false
   }
  },
  {
   "cell_type": "code",
   "execution_count": 5,
   "outputs": [
    {
     "data": {
      "text/plain": "4.205033457999999e-05"
     },
     "execution_count": 5,
     "metadata": {},
     "output_type": "execute_result"
    }
   ],
   "source": [
    "timeit.timeit(lambda: calculate_choices(n_alpha_array, n_alpha, double_n_alpha, choices), number = 100000) / 100000"
   ],
   "metadata": {
    "collapsed": false
   }
  },
  {
   "cell_type": "code",
   "execution_count": 6,
   "outputs": [
    {
     "data": {
      "text/plain": "4.0274988749999994e-05"
     },
     "execution_count": 6,
     "metadata": {},
     "output_type": "execute_result"
    }
   ],
   "source": [
    "timeit.timeit(lambda: chain_choices(n_alpha_array, n_alpha, double_n_alpha), number = 100000) / 100000"
   ],
   "metadata": {
    "collapsed": false
   }
  },
  {
   "cell_type": "markdown",
   "source": [
    "## Calculation of Sample Points"
   ],
   "metadata": {
    "collapsed": false
   }
  },
  {
   "cell_type": "code",
   "execution_count": 6,
   "outputs": [],
   "source": [
    "choice = 4.224371872086318813e-01"
   ],
   "metadata": {
    "collapsed": false
   }
  },
  {
   "cell_type": "code",
   "execution_count": 8,
   "outputs": [
    {
     "data": {
      "text/plain": "17.66835925"
     },
     "execution_count": 8,
     "metadata": {},
     "output_type": "execute_result"
    }
   ],
   "source": [
    "timeit.timeit(lambda: calculate_points(choice, i, points), number = int(5e4)) / 5"
   ],
   "metadata": {
    "collapsed": false
   }
  },
  {
   "cell_type": "code",
   "execution_count": 9,
   "outputs": [
    {
     "data": {
      "text/plain": "235.8023532832"
     },
     "execution_count": 9,
     "metadata": {},
     "output_type": "execute_result"
    }
   ],
   "source": [
    "timeit.timeit(lambda: mod_points(choice, i, points), number = int(5e4)) / 5"
   ],
   "metadata": {
    "collapsed": false
   }
  },
  {
   "cell_type": "code",
   "execution_count": 9,
   "outputs": [
    {
     "data": {
      "text/plain": "259.6974156"
     },
     "execution_count": 9,
     "metadata": {},
     "output_type": "execute_result"
    }
   ],
   "source": [
    "timeit.timeit(lambda: (choice * i) % 1, number = int(5e4)) / 5"
   ],
   "metadata": {
    "collapsed": false
   }
  }
 ],
 "metadata": {
  "kernelspec": {
   "display_name": "Python 3",
   "language": "python",
   "name": "python3"
  },
  "language_info": {
   "codemirror_mode": {
    "name": "ipython",
    "version": 2
   },
   "file_extension": ".py",
   "mimetype": "text/x-python",
   "name": "python",
   "nbconvert_exporter": "python",
   "pygments_lexer": "ipython2",
   "version": "2.7.6"
  }
 },
 "nbformat": 4,
 "nbformat_minor": 0
}
