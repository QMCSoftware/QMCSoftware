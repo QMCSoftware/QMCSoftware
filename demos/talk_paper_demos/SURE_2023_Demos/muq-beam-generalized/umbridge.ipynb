{
 "cells": [
  {
   "cell_type": "markdown",
   "id": "9b09667a",
   "metadata": {},
   "source": [
    "# UM-Bridge with QMCPy\n",
    "\n",
    "Using QMCPy to evaluate the [UM-Bridge Cantilever Beam Function](https://um-bridge-benchmarks.readthedocs.io/en/docs/forward-benchmarks/muq-beam-propagation.html) and approximate the expectation with respect to a uniform random variable. "
   ]
  },
  {
   "cell_type": "markdown",
   "id": "b0e7ef4d",
   "metadata": {},
   "source": [
    "## Imports"
   ]
  },
  {
   "cell_type": "code",
   "execution_count": 1,
   "id": "16a1dbd2",
   "metadata": {
    "tags": []
   },
   "outputs": [],
   "source": [
    "import umbridge\n",
    "import qmcpy as qp\n",
    "import numpy as np\n",
    "import time"
   ]
  },
  {
   "cell_type": "markdown",
   "id": "5c6b10d3",
   "metadata": {},
   "source": [
    "## Start Docker Container\n",
    "\n",
    "See the [UM-Bridge Documentation](https://um-bridge-benchmarks.readthedocs.io/en/docs/index.html) for image options. "
   ]
  },
  {
   "cell_type": "code",
   "execution_count": 2,
   "id": "65ea4b9e",
   "metadata": {
    "tags": []
   },
   "outputs": [
    {
     "name": "stdout",
     "output_type": "stream",
     "text": [
      "muqbq_new\n",
      "adbd1925587dd887efc89f14a90f9c8e93554bc29fdd134222179c0141390ddc\n"
     ]
    }
   ],
   "source": [
    "!docker rm -f muqbq_new\n",
    "!docker run --name muqbq_new -it -d -p 4242:4242 linusseelinger/model-muq-beam:latest\n",
    "#!docker run --name muqbp_new -d -p 4242:4242 my-build\n",
    "#https://stackoverflow.com/questions/43099116/error-the-input-device-is-not-a-tty\n",
    "#running locally"
   ]
  },
  {
   "cell_type": "markdown",
   "id": "49ae9a2e",
   "metadata": {},
   "source": [
    "## Problem Setup"
   ]
  },
  {
   "cell_type": "markdown",
   "id": "f2f49293",
   "metadata": {},
   "source": [
    "Initialize a QMCPy sampler and distribution."
   ]
  },
  {
   "cell_type": "code",
   "execution_count": 12,
   "id": "a90b8ab5",
   "metadata": {
    "tags": []
   },
   "outputs": [],
   "source": [
    "sampler = qp.DigitalNetB2(dimension=31,seed=7) # DISCRETE DISTRIBUTION, default = 3\n",
    "distribution = qp.Uniform(sampler,lower_bound=1,upper_bound=1.05) # TRUE MEASURE"
   ]
  },
  {
   "cell_type": "markdown",
   "id": "12525f56",
   "metadata": {},
   "source": [
    "Initialize a UM-Bridge model and wrap it into a QMCPy compatible Integrand"
   ]
  },
  {
   "cell_type": "code",
   "execution_count": 4,
   "id": "2b35f5f4",
   "metadata": {
    "tags": []
   },
   "outputs": [
    {
     "name": "stdout",
     "output_type": "stream",
     "text": [
      "{}\n",
      "[31]\n",
      "[31]\n",
      "7\n"
     ]
    }
   ],
   "source": [
    "model = umbridge.HTTPModel('http://localhost:4242', 'forward')\n",
    "output_dimension = 31\n",
    "umbridge_config = {}\n",
    "#DEBUG\n",
    "print(umbridge_config)\n",
    "print(model.get_input_sizes(umbridge_config))\n",
    "print(model.get_output_sizes(umbridge_config))\n",
    "print(distribution.d)\n",
    "\n",
    "def lump(t):\n",
    "    tnp = np.array(t[0])\n",
    "    \"\"\"\n",
    "    #Model 1: fill with ones\n",
    "    tnewnp = np.ones(output_dimension)\n",
    "    tnewnp[:len(tnp)] = tnp\n",
    "    \"\"\"\n",
    "    #Model 2: duplicating values\n",
    "    tnewnp = np.ones(output_dimension)\n",
    "    if len(tnp) < output_dimension:\n",
    "        root = output_dimension // len(tnp)\n",
    "        for i in range(root + output_dimension % len(tnp)):\n",
    "            tnewnp[i] = tnp[0]\n",
    "        #len(tnp) * root + output_dimension % len(tnp) = len(tnp)\n",
    "        for j in range(1, len(tnp)):\n",
    "            for i in range(j * root + output_dimension % len(tnp), (j+1) * root + output_dimension % len(tnp)):\n",
    "                tnewnp[i] = tnp[j]\n",
    "    #Model 3: approximating/smushing\n",
    "    #else:\n",
    "        #print(\"not exact\")\n",
    "    \n",
    "    #print(tnewnp.tolist())\n",
    "    return [tnewnp.tolist()]\n",
    "\n",
    "integrand = qp.UMBridgeWrapper(distribution, model, umbridge_config, parallel=False, tf_input_to_umbridge_input = lump) # INTEGRAND"
   ]
  },
  {
   "cell_type": "markdown",
   "id": "ca82b29b",
   "metadata": {},
   "source": [
    "## Model Evaluation"
   ]
  },
  {
   "cell_type": "code",
   "execution_count": 5,
   "id": "9b5e06c5",
   "metadata": {
    "tags": []
   },
   "outputs": [
    {
     "name": "stdout",
     "output_type": "stream",
     "text": [
      "(16, 7)\n",
      "(16, 31)\n",
      "<class 'numpy.ndarray'>\n",
      "float64\n",
      "[[    0.            49.84860078   192.8757297    422.77840176\n",
      "    733.47025198  1119.0809094   1573.95527232  2092.65276867\n",
      "   2671.15454901  3304.50609776  3987.96931568  4717.02419088\n",
      "   5486.6585852   6292.7047894   7131.21760624  7998.47711572\n",
      "   8890.66537501  9804.47400554 10736.82676324 11684.88067438\n",
      "  12646.38008488 13618.99609866 14600.63442342 15589.43307752\n",
      "  16583.62582776 17581.76883965 18582.63984698 19585.2364002\n",
      "  20588.81368178 21592.82521938 22596.94485758]\n",
      " [    0.            49.66672609   192.32738728   421.86044503\n",
      "    732.36328086  1118.15156373  1573.7585175   2093.93417352\n",
      "   2672.68056059  3305.07430482  3986.4034505   4712.16909258\n",
      "   5477.37829951  6277.87272361  7109.71131874  7969.17304081\n",
      "   8853.42475063  9759.2543611  10683.68471248 11623.97472187\n",
      "  12577.2968091  13541.3129002  14513.9123675  15493.2098065\n",
      "  16477.74202731 17466.11246121 18457.15008545 19449.90764019\n",
      "  20443.61684461 21437.74742932 22431.98290945]\n",
      " [    0.            49.8283213    192.77718567   422.52350872\n",
      "    732.95814126  1118.1852511   1572.52160715  2090.49584913\n",
      "   2666.43851158  3295.26040501  3972.08068896  4692.2284808\n",
      "   5451.92894002  6246.9914859   7073.44659215  7927.54853407\n",
      "   8806.32841055  9706.55193044 10625.22276851 11559.58372988\n",
      "  12507.12651845 13465.5721964  14432.87704663 15407.2302736\n",
      "  16386.85922612 17370.35333305 18356.52232401 19344.3944878\n",
      "  20333.22517529 21322.4802868  22311.84105141]\n",
      " [    0.            49.70383809   192.49413391   422.27027613\n",
      "    733.15321331  1119.48481374  1575.82712403  2096.9616127\n",
      "   2676.63120084  3309.90756242  3992.07540017  4718.63409046\n",
      "   5486.16807661  6290.6688136   7128.35464562  7995.67362575\n",
      "   8888.01805528  9802.0501382  10734.66149092 11682.97426473\n",
      "  12644.62566162 13617.23982833 14598.67171851 15587.00483664\n",
      "  16580.69633468 17578.31493191 18578.65626335 19580.74108578\n",
      "  20583.79942385 21587.28882423 22590.88553019]\n",
      " [    0.            48.84324211   188.90672037   413.93837483\n",
      "    717.90125876  1094.972917    1539.54466625  2046.22086057\n",
      "   2610.07872405  3226.16785244  3889.74957325  4596.29858069\n",
      "   5342.38646169  6123.98004414  6937.27188337  7778.6830675\n",
      "   8644.30242153  9530.92575093 10435.58234155 11355.53610206\n",
      "  12288.45278697 13232.09039638 14184.44012286 15143.72407206\n",
      "  16108.19088796 17076.45552483 18047.35094842 19019.9264125\n",
      "  19993.44345739 20967.37742418 21941.41517654]\n",
      " [    0.            49.7787728    192.66309961   422.41748744\n",
      "    733.02387691  1118.68101399  1573.80372241  2093.02216138\n",
      "   2672.45534295  3307.21996875  3992.65018106  4724.29924182\n",
      "   5496.48884404  6304.99398286  7145.80979198  8015.15427942\n",
      "   8909.95843549  9826.94486488 10763.07247242 11715.53761934\n",
      "  12681.44126226 13658.3837478  14644.19419015 15636.92823496\n",
      "  16635.08455791 17637.21378571 18642.0938343  19648.72811195\n",
      "  20656.34748326 21664.40304352 22672.56718554]\n",
      " [    0.            48.79791233   188.75395388   413.64198084\n",
      "    717.4483148   1094.37112876  1538.81973622  2045.41386581\n",
      "   2611.02401864  3230.73353229  3899.84106435  4613.862255\n",
      "   5367.339835    6156.05334105  6976.00134059  7823.40415382\n",
      "   8695.67752259  9589.56274995 10502.04070568 11430.33299844\n",
      "  12371.90823073 13324.46886339 14285.95410648 15254.53760515\n",
      "  16228.43750236 17206.23231811 18186.72249392 19168.92863844\n",
      "  20152.10070329 21135.70046733 22119.40669977]\n",
      " [    0.            49.62471796   192.21986744   421.72553541\n",
      "    732.3018464   1118.32832669  1574.40316808  2095.34247664\n",
      "   2674.40504008  3306.60880412  3987.18164182  4711.56297447\n",
      "   5476.36737497  6277.52403536  7111.18627962  7973.73434916\n",
      "   8861.07982012  9769.94838152 10697.29661687 11640.31313387\n",
      "  12596.50649196 13563.54255302 14539.31655473 15521.9508686\n",
      "  16509.86809654 17501.65686265 18496.12893524 19492.31746271\n",
      "  20489.46576388 21487.03904258 22484.71811215]\n",
      " [    0.            49.96586383   193.46510022   424.31511093\n",
      "    736.54998639  1124.4198796   1582.39028101  2105.1412788\n",
      "   2686.74762979  3322.23031989  4006.82007058  4735.95895836\n",
      "   5505.0474129   6309.92874966  7146.66404974  8011.53486607\n",
      "   8901.12499881  9812.17685468 10741.66324752 11686.78852579\n",
      "  12645.02743354 13614.05250098 14591.76443257 15576.28987668\n",
      "  16566.07438793 17559.71318597 18556.02413871 19554.04600217\n",
      "  20553.02333392 21552.42373682 22551.92945603]\n",
      " [    0.            50.45341747   195.2481505    428.03741068\n",
      "    742.6940853   1133.31010251  1594.19569633  2119.87865663\n",
      "   2704.86396791  3344.09119394  4032.71442069  4766.10391271\n",
      "   5539.72654014  6349.37927428  7191.08248987  8061.08274146\n",
      "   8956.23872278  9873.30053979 10809.25724207 11761.33799199\n",
      "  12726.74727247 13703.13946626 14688.40118241 15680.64898625\n",
      "  16678.23822225 17679.74107935 18683.95353781 19689.89360002\n",
      "  20696.80407318 21704.14423392 22711.59135804]\n",
      " [    0.            48.80539803   188.74677904   413.56257191\n",
      "    717.20536842  1093.84130445  1537.84934331  2043.82054466\n",
      "   2608.83304227  3227.93347591  3896.38640059  4609.67596924\n",
      "   5363.46899933  6153.6925254   6976.50093772  7828.27880776\n",
      "   8705.09626139  9603.72107284 10521.15644531 11454.64216297\n",
      "  12401.49858808 13359.40742354 14326.28070152 15300.25853209\n",
      "  16279.60864795 17262.89213737 18248.88867746 19236.59480603\n",
      "  20225.27846443 21214.39496256 22203.61920875]\n",
      " [    0.            50.38851329   195.16142943   428.14767532\n",
      "    743.39868532  1135.18775837  1598.00931337  2126.57812958\n",
      "   2714.22121779  3355.88977271  4046.74787561  4782.17413804\n",
      "   5557.69098706  6369.10582576  7212.44799737  8083.97154343\n",
      "   8979.96070822  9897.10016671 10832.30713038 11782.73248501\n",
      "  12746.25224215 13720.54517655 14703.52743957 15693.35023892\n",
      "  16688.38594795 17687.24532795 18688.7671465  19692.01637489\n",
      "  20696.2142858  21700.83226317 22705.55480889]\n",
      " [    0.            49.4898848    191.49776451   419.77647338\n",
      "    728.29438157  1111.23477227  1562.99512053  2078.18635739\n",
      "   2652.49937535  3281.02132059  3959.05352542  4682.11316217\n",
      "   5445.39583913  6244.79207231  7076.4133894   7936.59507641\n",
      "   8821.71917198  9728.55328881 10654.09676573 11595.5818016\n",
      "  12550.32862817 13516.00599325 14490.50949387 15471.95935896\n",
      "  16458.74023386 17449.42543972 18442.80788776 19437.89834331\n",
      "  20433.95788559 21430.44652909 22427.04199   ]\n",
      " [    0.            49.96632737   193.45389289   424.26886323\n",
      "    736.43592807  1124.19766865  1582.01382655  2104.56055766\n",
      "   2685.06257806  3318.41004908  3999.70194002  4724.24764044\n",
      "   5489.13373888  6290.15655835  7123.33864944  7984.93160181\n",
      "   8871.61751377  9780.1399318  10707.48277081 11650.87149021\n",
      "  12607.50827127 13575.04632504 14551.37245472 15534.60477248\n",
      "  16523.13618348 17515.55205357 18510.66399845 19507.50809507\n",
      "  20505.31513697 21503.54856073 22501.88812496]\n",
      " [    0.            49.22408845   190.34569247   417.02627133\n",
      "    723.14032103  1102.77475879  1550.22821009  2060.01028144\n",
      "   2627.38075932  3247.30840149  3914.97259859  4625.76500052\n",
      "   5376.2675516   6162.36543802  6980.1688878   7826.0159676\n",
      "   8696.42236532  9588.184898   10498.33737128 11424.15173907\n",
      "  12362.98096699 13312.54140521 14270.78118718 15235.8779641\n",
      "  16206.1735151  17180.27955164 18157.02876077 19135.47305827\n",
      "  20114.86194496 21094.66908565 22074.58034351]\n",
      " [    0.            50.74275291   196.49578155   431.00422906\n",
      "    748.23456353  1142.37393851  1607.82945242  2139.22739291\n",
      "   2731.20223579  3378.79881354  4077.27820125  4822.11938628\n",
      "   5607.68184403  6429.68572247  7284.07063571  8166.99839138\n",
      "   9075.16174747 10005.21185612 10954.03393289 11918.74840203\n",
      "  12897.02454223 13886.49681888 14885.0355716  15890.74470867\n",
      "  16901.89236198 17917.02344436 18934.90771209 19954.53798734\n",
      "  20975.1566975  21996.21307607 23017.37840469]]\n",
      "0.12624049186706543\n"
     ]
    }
   ],
   "source": [
    "start_time = time.time()\n",
    "x = sampler(16) # same as sampler.gen_samples(16)\n",
    "print(x.shape)\n",
    "y = integrand.f(x)\n",
    "print(y.shape)\n",
    "print(type(y))\n",
    "print(y.dtype)\n",
    "print(y)\n",
    "end_time = time.time()\n",
    "print(end_time - start_time)"
   ]
  },
  {
   "cell_type": "markdown",
   "id": "eee7c1a0",
   "metadata": {},
   "source": [
    "## Automatically Approximate the Expectation"
   ]
  },
  {
   "cell_type": "code",
   "execution_count": 6,
   "id": "5de294a4",
   "metadata": {},
   "outputs": [
    {
     "name": "stdout",
     "output_type": "stream",
     "text": [
      "LDTransformData (AccumulateData Object)\n",
      "    solution        [    0.       49.644   192.137 ... 20443.802 21439.713 22435.731]\n",
      "    comb_bound_low  [    0.       49.64    192.121 ... 20442.428 21438.278 22434.235]\n",
      "    comb_bound_high [    0.       49.648   192.153 ... 20445.176 21441.148 22437.227]\n",
      "    comb_flags      [ True  True  True ...  True  True  True]\n",
      "    n_total         2^(10)\n",
      "    n               [1024. 1024. 1024. ... 1024. 1024. 1024.]\n",
      "    time_integrate  4.510\n",
      "CubQMCNetG (StoppingCriterion Object)\n",
      "    abs_tol         10\n",
      "    rel_tol         0\n",
      "    n_init          2^(10)\n",
      "    n_max           2^(35)\n",
      "UMBridgeWrapper (Integrand Object)\n",
      "Uniform (TrueMeasure Object)\n",
      "    lower_bound     1\n",
      "    upper_bound     1.050\n",
      "DigitalNetB2 (DiscreteDistribution Object)\n",
      "    d               7\n",
      "    dvec            [0 1 2 3 4 5 6]\n",
      "    randomize       LMS_DS\n",
      "    graycode        0\n",
      "    entropy         7\n",
      "    spawn_key       ()\n"
     ]
    }
   ],
   "source": [
    "qmc_stop_crit = qp.CubQMCNetG(integrand,abs_tol=10) # QMC STOPPING CRITERION\n",
    "#takes ~6 seconds when error tol >= 0.25, ~12 seconds at tol=0.025\n",
    "solution,data = qmc_stop_crit.integrate()\n",
    "print(data)"
   ]
  },
  {
   "cell_type": "code",
   "execution_count": 7,
   "id": "8f3a5e78",
   "metadata": {},
   "outputs": [
    {
     "data": {
      "image/png": "[encoded data removed]",
      "text/plain": [
       "<Figure size 600x300 with 1 Axes>"
      ]
     },
     "metadata": {},
     "output_type": "display_data"
    }
   ],
   "source": [
    "from matplotlib import pyplot\n",
    "pyplot.style.use('../../../../qmcpy.mplstyle')\n",
    "fig,ax = pyplot.subplots(figsize=(6,3))\n",
    "ax.plot(solution,'-o')\n",
    "ax.set_xlim([0,len(solution)-1]); ax.set_xlabel(r'$x$')\n",
    "ax.set_ylim([30000,-10]);  ax.set_ylabel(r'$u(x)$');"
   ]
  },
  {
   "cell_type": "markdown",
   "id": "80a0b560",
   "metadata": {},
   "source": [
    "## Parallel Evaluation"
   ]
  },
  {
   "cell_type": "markdown",
   "id": "041ce829",
   "metadata": {},
   "source": [
    "QMCPy can automatically multi-threaded requests to the model by setting `parallel=p` where `p` is the number of processors used by [multiprocessing.pool.ThreadPool](https://docs.python.org/3/library/multiprocessing.html#multiprocessing.pool.ThreadPool). Setting `parallel=True` is equivalent to setting `paralle=os.cpu_count()`."
   ]
  },
  {
   "cell_type": "code",
   "execution_count": 8,
   "id": "ec0b7fce",
   "metadata": {},
   "outputs": [
    {
     "name": "stdout",
     "output_type": "stream",
     "text": [
      "Available CPUs: 8\n"
     ]
    }
   ],
   "source": [
    "import os\n",
    "print('Available CPUs: %d'%os.cpu_count())"
   ]
  },
  {
   "cell_type": "code",
   "execution_count": 17,
   "id": "355a7dbf",
   "metadata": {},
   "outputs": [
    {
     "data": {
      "text/plain": [
       "LDTransformData (AccumulateData Object)\n",
       "    solution        [    0.       47.403   183.785 ... 19837.561 20807.189 21776.923]\n",
       "    comb_bound_low  [    0.       47.393   183.746 ... 19835.922 20805.478 21775.14 ]\n",
       "    comb_bound_high [    0.       47.413   183.824 ... 19839.199 20808.9   21778.707]\n",
       "    comb_flags      [ True  True  True ...  True  True  True]\n",
       "    n_total         2^(11)\n",
       "    n               [1024. 1024. 1024. ... 2048. 2048. 2048.]\n",
       "    time_integrate  5.615\n",
       "CubQMCNetG (StoppingCriterion Object)\n",
       "    abs_tol         2.500\n",
       "    rel_tol         0\n",
       "    n_init          2^(10)\n",
       "    n_max           2^(35)\n",
       "UMBridgeWrapper (Integrand Object)\n",
       "Uniform (TrueMeasure Object)\n",
       "    lower_bound     1\n",
       "    upper_bound     1.050\n",
       "DigitalNetB2 (DiscreteDistribution Object)\n",
       "    d               31\n",
       "    dvec            [ 0  1  2 ... 28 29 30]\n",
       "    randomize       LMS_DS\n",
       "    graycode        0\n",
       "    entropy         7\n",
       "    spawn_key       ()"
      ]
     },
     "execution_count": 17,
     "metadata": {},
     "output_type": "execute_result"
    }
   ],
   "source": [
    "integrand = qp.UMBridgeWrapper(distribution,model,umbridge_config,parallel=8)\n",
    "solution,data = qp.CubQMCNetG(integrand,abs_tol=2.5).integrate()\n",
    "data"
   ]
  },
  {
   "cell_type": "markdown",
   "id": "d9154d0f",
   "metadata": {},
   "source": [
    "## Shut Down Docker Image"
   ]
  },
  {
   "cell_type": "code",
   "execution_count": 67,
   "id": "3ff8373a",
   "metadata": {},
   "outputs": [
    {
     "name": "stdout",
     "output_type": "stream",
     "text": [
      "muqbp_new\n"
     ]
    }
   ],
   "source": [
    "!docker rm -f muqbp_new"
   ]
  },
  {
   "cell_type": "markdown",
   "id": "142e61cb",
   "metadata": {},
   "source": []
  }
 ],
 "metadata": {
  "kernelspec": {
   "display_name": "Python 3 (ipykernel)",
   "language": "python",
   "name": "python3"
  },
  "language_info": {
   "codemirror_mode": {
    "name": "ipython",
    "version": 3
   },
   "file_extension": ".py",
   "mimetype": "text/x-python",
   "name": "python",
   "nbconvert_exporter": "python",
   "pygments_lexer": "ipython3",
   "version": "3.10.10"
  }
 },
 "nbformat": 4,
 "nbformat_minor": 5
}
