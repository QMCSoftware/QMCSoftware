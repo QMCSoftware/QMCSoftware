{
 "cells": [
  {
   "cell_type": "markdown",
   "id": "9b09667a",
   "metadata": {},
   "source": [
    "# UM-Bridge with QMCPy\n",
    "\n",
    "Using QMCPy to evaluate the [UM-Bridge Cantilever Beam Function](https://um-bridge-benchmarks.readthedocs.io/en/docs/forward-benchmarks/muq-beam-propagation.html) and approximate the expectation with respect to a uniform random variable. "
   ]
  },
  {
   "cell_type": "markdown",
   "id": "b0e7ef4d",
   "metadata": {},
   "source": [
    "## Imports"
   ]
  },
  {
   "cell_type": "code",
   "execution_count": 9,
   "id": "16a1dbd2",
   "metadata": {
    "tags": []
   },
   "outputs": [],
   "source": [
    "import umbridge\n",
    "import qmcpy as qp\n",
    "import numpy as np\n",
    "import time\n",
    "import docker"
   ]
  },
  {
   "cell_type": "markdown",
   "id": "5c6b10d3",
   "metadata": {},
   "source": [
    "## Start Docker Container\n",
    "\n",
    "See the [UM-Bridge Documentation](https://um-bridge-benchmarks.readthedocs.io/en/docs/index.html) for image options. "
   ]
  },
  {
   "cell_type": "code",
   "execution_count": 2,
   "id": "65ea4b9e",
   "metadata": {
    "tags": []
   },
   "outputs": [
    {
     "name": "stdout",
     "output_type": "stream",
     "text": [
      "2b485b5472f0425f503d9047d354104ebb75579bb2ebcb27dded67a139ebf7f1\n",
      "docker: Error response from daemon: driver failed programming external connectivity on endpoint crazy_keldysh (27390a44f98d9517a346bb5be4bc6b8dd5032ab298c2a295eb5444eaf7ffe4fe): Bind for 0.0.0.0:4242 failed: port is already allocated.\n"
     ]
    }
   ],
   "source": [
    "!docker run -it -d -p 4242:4242 linusseelinger/model-muq-beam:latest\n",
    "#!docker run --name muqbp_new -d -p 4242:4242 my-build\n",
    "#https://stackoverflow.com/questions/43099116/error-the-input-device-is-not-a-tty\n",
    "#running locally"
   ]
  },
  {
   "cell_type": "markdown",
   "id": "49ae9a2e",
   "metadata": {},
   "source": [
    "## Problem Setup"
   ]
  },
  {
   "cell_type": "markdown",
   "id": "f2f49293",
   "metadata": {},
   "source": [
    "Initialize a QMCPy sampler and distribution."
   ]
  },
  {
   "cell_type": "code",
   "execution_count": 3,
   "id": "a90b8ab5",
   "metadata": {
    "tags": []
   },
   "outputs": [],
   "source": [
    "sampler = qp.DigitalNetB2(dimension=3,seed=7) # DISCRETE DISTRIBUTION, default = 3\n",
    "distribution = qp.Uniform(sampler,lower_bound=1,upper_bound=1.05) # TRUE MEASURE"
   ]
  },
  {
   "cell_type": "markdown",
   "id": "12525f56",
   "metadata": {},
   "source": [
    "Initialize a UM-Bridge model and wrap it into a QMCPy compatible Integrand"
   ]
  },
  {
   "cell_type": "code",
   "execution_count": 14,
   "id": "2b35f5f4",
   "metadata": {
    "tags": []
   },
   "outputs": [
    {
     "name": "stdout",
     "output_type": "stream",
     "text": [
      "{}\n",
      "[31]\n",
      "[31]\n",
      "3\n"
     ]
    }
   ],
   "source": [
    "model = umbridge.HTTPModel('http://localhost:4242', 'forward')\n",
    "output_dimension = 31\n",
    "umbridge_config = {}\n",
    "#DEBUG\n",
    "print(umbridge_config)\n",
    "print(model.get_input_sizes(umbridge_config))\n",
    "print(model.get_output_sizes(umbridge_config))\n",
    "print(distribution.d)\n",
    "\n",
    "def lump(t):\n",
    "    tnp = np.array(t[0])\n",
    "    tnewnp = np.ones(output_dimension)\n",
    "    tnewnp[:len(tnp)] = tnp\n",
    "    return [tnewnp.tolist()]\n",
    "\n",
    "integrand = qp.UMBridgeWrapper(distribution, model, umbridge_config, parallel=False,tf_input_to_umbridge_input = lump) # INTEGRAND"
   ]
  },
  {
   "cell_type": "markdown",
   "id": "ca82b29b",
   "metadata": {},
   "source": [
    "## Model Evaluation"
   ]
  },
  {
   "cell_type": "code",
   "execution_count": 15,
   "id": "9b5e06c5",
   "metadata": {
    "tags": []
   },
   "outputs": [
    {
     "name": "stdout",
     "output_type": "stream",
     "text": [
      "(16, 3)\n",
      "(16, 31)\n",
      "<class 'numpy.ndarray'>\n",
      "float64\n",
      "[[    0.            50.23109959   196.14982498   429.86148257\n",
      "    747.13504682  1141.91833427  1608.38048717  2140.91121316\n",
      "   2734.12086877  3382.83893902  4082.11320566  4827.21143275\n",
      "   5613.62362872  6437.06523665  7293.47965238  8179.04105745\n",
      "   9090.15752336 10023.47516267 10975.88059814 11944.50213951\n",
      "  12926.70953056 13920.11268465 14922.55909892 15932.13153207\n",
      "  16947.14526357 17966.14605169 18987.90823201 20011.43291039\n",
      "  21035.94612281 22060.89704752 23085.95693322]\n",
      " [    0.            50.6636738    194.81163715   424.69989056\n",
      "    738.15005062  1129.10993389  1591.74868262  2120.45600442\n",
      "   2709.84225585  3354.73692192  4050.18778438  4791.46260729\n",
      "   5574.05139909  6393.66960284  7246.26061439  8127.99861528\n",
      "   9035.291677    9964.78591214 10913.36794342 11878.16608062\n",
      "  12856.55006749 13846.12981739 14844.75282749 15850.50185645\n",
      "  16861.69218378 17876.86956772 18894.80834385 19914.50961806\n",
      "  20935.1994263  21956.32694683 22977.56342835]\n",
      " [    0.            49.86787202   192.0875086    421.53562218\n",
      "    734.54564241  1125.06538584  1587.26399474  2115.53117671\n",
      "   2704.47728831  3348.93181454  4043.94253717  4784.77722025\n",
      "   5566.92587221  6386.10393613  7238.25480785  8119.55266891\n",
      "   9026.4055908   9955.4596861  10903.60157756 11867.95957492\n",
      "  12845.90342196 13835.04303203 14833.22590229 15838.53479143\n",
      "  16849.28497892 17864.02222303 18881.52085933 19900.78199371\n",
      "  20921.03166212 21941.71904282 22962.5153845 ]\n",
      " [    0.            51.38567691   196.95312647   431.96502905\n",
      "    750.53883828  1146.62237072  1614.38476862  2148.21573958\n",
      "   2742.72564018  3392.74395542  4093.31846704  4839.71693912\n",
      "   5627.42938008  6452.17123299  7309.88589371  8196.74754376\n",
      "   9109.16425465 10043.78213895 10997.4878194  11967.40960575\n",
      "  12950.91724179 13945.62064085 14949.36730011 15960.23997824\n",
      "  16976.55395473 17996.85498783 19019.91741313 20044.7423365\n",
      "  21070.5557939  22096.80696359 23123.16709427]\n",
      " [    0.            50.05377164   193.79585834   426.55032895\n",
      "    742.86670622  1136.69280669  1602.19777262  2133.77131163\n",
      "   2726.02378026  3373.78466353  4072.10174319  4816.2427833\n",
      "   5601.6977923   6424.18221325  7279.639442    8164.2436601\n",
      "   9074.40293902 10006.76339136 10958.21163984 11925.87599424\n",
      "  12907.12619831 13899.57216541 14901.06139271 15909.67663887\n",
      "  16923.7331834  17941.77678454 18962.58177788 19985.14926928\n",
      "  21008.70529472 22032.69903245 23056.80173117]\n",
      " [    0.            50.21171082   196.4420732    429.5424086\n",
      "    746.20465065  1140.37661591  1606.22744662  2138.14685041\n",
      "   2730.74518383  3378.85193189  4077.51487634  4822.00178123\n",
      "   5607.80265502  6430.63294075  7286.43603429  8171.38611717\n",
      "   9081.89126088 10014.59757799 10966.39169127 11934.40191044\n",
      "  12915.9979793  13908.78981119 14910.62490327 15919.58601422\n",
      "  16933.98842353 17952.37788945 18973.52874757 19996.44210376\n",
      "  21020.34399399 22044.6835965  23069.13216   ]\n",
      " [    0.            49.15049384   193.4355136    424.15286744\n",
      "    738.43212794  1130.22111164  1593.6889608   2123.22538304\n",
      "   2713.4407349   3359.16450141  4055.4444643   4797.54838764\n",
      "   5580.96627988  6401.41358406  7254.83369605  8137.40079737\n",
      "   9045.52295953  9975.8462951  10925.25742682 11890.88466445\n",
      "  12870.09775175 13860.50660209 14859.95871262 15866.53684202\n",
      "  16878.55626978 17894.56275415 18913.33063072 19933.86100536\n",
      "  20955.37991404 21977.336535   22999.40211695]\n",
      " [    0.            51.13803083   195.25454336   427.78272303\n",
      "    743.87280935  1137.47261888  1602.75129387  2134.09854192\n",
      "   2726.12471961  3373.65931194  4071.75010066  4815.66484982\n",
      "   5600.89356788  6423.15169788  7278.38263569  8162.76056283\n",
      "   9072.69355081 10004.8277122  10956.04966974 11923.48773319\n",
      "  12904.51164631 13896.73132247 14897.99425882 15906.38321404\n",
      "  16920.21346762 17938.03077781 18958.60948021 19980.95068067\n",
      "  21004.28041516 22028.04786195 23051.92426971]\n",
      " [    0.            50.29181528   193.41811581   422.47149978\n",
      "    735.0867904   1125.21180423  1587.01568351  2114.88813587\n",
      "   2703.43951786  3347.49931449  4042.1153075   4782.55526097\n",
      "   5564.30918333  6383.09251763  7234.84865974  8115.75179119\n",
      "   9022.20998347  9950.86934916 10898.616511   11862.57977875\n",
      "  12840.12889618 13828.87377664 14826.66191729 15831.57607681\n",
      "  16841.9315347  17856.27404919 18873.37795588 19892.24436065\n",
      "  20912.09929944 21932.39195053 22952.7935626 ]\n",
      " [    0.            51.0115164    196.94651286   431.01603038\n",
      "    748.64745456  1143.78860193  1610.60861477  2143.49720068\n",
      "   2737.06471622  3386.1406464   4085.77277297  4831.22885999\n",
      "   5617.99891589  6441.79838375  7298.57065941  8184.48992441\n",
      "   9095.96425024 10029.63974948 10982.40304487 11951.38244618\n",
      "  12933.94769715 13927.70871116 14930.51298537 15940.44327844\n",
      "  16955.81486987 17975.17351791 18997.29355816 20021.17609647\n",
      "  21046.04716882 22071.35595345 23096.77369907]\n",
      " [    0.            49.63356921   195.47378815   430.93072179\n",
      "    749.94956208  1146.47812558  1614.68555454  2148.96155658\n",
      "   2743.91648824  3394.37983454  4095.39937723  4842.24288037\n",
      "   5630.4003524   6455.58723638  7313.74692816  8201.05360928\n",
      "   9113.91535124 10048.97826661 11003.12897812 11973.49579555\n",
      "  12957.44846265 13952.59689278 14956.78858311 15968.10629231\n",
      "  16984.86529986 18005.61136403 19029.1188204  20054.38877484\n",
      "  21080.64726331 22107.34346407 23134.14862581]\n",
      " [    0.            51.62262681   197.49782454   430.94537918\n",
      "    747.95484048  1142.47402498  1608.67207494  2140.93869798\n",
      "   2733.88425064  3382.33821794  4081.34838164  4826.18250578\n",
      "   5612.33059881  6435.5081038   7291.65841658  8176.95571871\n",
      "   9087.80808167 10020.86161803 10973.00295056 11941.36038899\n",
      "  12923.30367709 13916.44272823 14918.62503956 15927.93336976\n",
      "  16942.68299832 17961.41968349 18982.91776086 20006.17833631\n",
      "  21030.42744578 22055.11426755 23079.91005029]\n",
      " [    0.            50.04487427   194.85577839   426.87849939\n",
      "    742.46312706  1135.55747793  1600.33069425  2131.17248365\n",
      "   2722.69320268  3369.72233635  4067.30766641  4810.71695692\n",
      "   5595.44021631  6417.19288766  7271.91836681  8155.7908353\n",
      "   9065.21836463  9996.84706736 10947.56356624 11914.49617104\n",
      "  12895.0146255  13886.72884301 14887.4863207  15895.36981727\n",
      "  16908.69461219 17926.00646373 18946.07970746 19967.91544927\n",
      "  20990.73972511 22014.00171324 23037.37266235]\n",
      " [    0.            50.72222145   193.82881072   426.13432227\n",
      "    742.00174047  1135.37888187  1600.43488874  2131.55946867\n",
      "   2723.36297824  3370.67490245  4068.54302304  4812.23510409\n",
      "   5597.24115402  6419.27661591  7274.28488559  8158.44014462\n",
      "   9068.15046448 10000.06195775 10951.06124717 11918.2766425\n",
      "  12899.07788751 13891.07489555 14892.11516378 15900.28145088\n",
      "  16913.88903634 17931.48367842 18951.83971269 19973.95824504\n",
      "  20997.06531141 22020.61009008 23044.26382973]\n",
      " [    0.            49.6246805    192.4965549    424.12372134\n",
      "    739.31279444  1132.01159074  1596.3892525   2126.83548734\n",
      "   2717.9606518   3364.5942309   4061.78400639  4804.79774233\n",
      "   5589.12544716  6410.48256394  7264.81248852  8148.28940244\n",
      "   9057.3213772   9988.55452536 10938.87546968 11905.4125199\n",
      "  12885.5354198  13876.85408274 14877.21600586 15884.70394786\n",
      "  16897.63318821 17914.54948518 18934.22717435 19955.66736158\n",
      "  20978.09608285 22000.96251641 23023.93791096]\n",
      " [    0.            51.09850897   197.71577496   430.93789174\n",
      "    747.72191517  1142.01566181  1607.98827391  2140.02945908\n",
      "   2732.74957388  3380.97810332  4079.76282915  4824.37151542\n",
      "   5610.29417059  6433.24623771  7289.17111263  8174.24297689\n",
      "   9084.86990198 10017.69800048 10969.61389513 11937.7458957\n",
      "  12919.46374593 13912.3773592  14914.33423267 15923.417125\n",
      "  16937.94131569 17956.452563   18977.7252025  20000.76034007\n",
      "  21024.78401168 22049.24539558 23073.81574046]]\n",
      "0.09845685958862305\n"
     ]
    }
   ],
   "source": [
    "start_time = time.time()\n",
    "x = sampler(16) # same as sampler.gen_samples(16)\n",
    "print(x.shape)\n",
    "y = integrand.f(x)\n",
    "print(y.shape)\n",
    "print(type(y))\n",
    "print(y.dtype)\n",
    "print(y)\n",
    "end_time = time.time()\n",
    "print(end_time - start_time)"
   ]
  },
  {
   "cell_type": "markdown",
   "id": "eee7c1a0",
   "metadata": {},
   "source": [
    "## Automatically Approximate the Expectation"
   ]
  },
  {
   "cell_type": "code",
   "execution_count": 42,
   "id": "5de294a4",
   "metadata": {},
   "outputs": [
    {
     "name": "stdout",
     "output_type": "stream",
     "text": [
      "LDTransformData (AccumulateData Object)\n",
      "    solution        [    0.       47.403   183.785 ... 19837.438 20807.061 21776.79 ]\n",
      "    comb_bound_low  [    0.       47.393   183.746 ... 19834.606 20804.111 21773.722]\n",
      "    comb_bound_high [    0.       47.413   183.824 ... 19840.269 20810.01  21779.858]\n",
      "    comb_flags      [ True  True  True ...  True  True  True]\n",
      "    n_total         2^(10)\n",
      "    n               [1024. 1024. 1024. ... 1024. 1024. 1024.]\n",
      "    time_integrate  49.228\n",
      "CubQMCNetG (StoppingCriterion Object)\n",
      "    abs_tol         10\n",
      "    rel_tol         0\n",
      "    n_init          2^(10)\n",
      "    n_max           2^(35)\n",
      "UMBridgeWrapper (Integrand Object)\n",
      "Uniform (TrueMeasure Object)\n",
      "    lower_bound     1\n",
      "    upper_bound     1.050\n",
      "DigitalNetB2 (DiscreteDistribution Object)\n",
      "    d               31\n",
      "    dvec            [ 0  1  2 ... 28 29 30]\n",
      "    randomize       LMS_DS\n",
      "    graycode        0\n",
      "    entropy         7\n",
      "    spawn_key       ()\n"
     ]
    }
   ],
   "source": [
    "qmc_stop_crit = qp.CubQMCNetG(integrand,abs_tol=10) # QMC STOPPING CRITERION\n",
    "#takes ~6 seconds when error tol >= 0.25, ~12 seconds at tol=0.025\n",
    "solution,data = qmc_stop_crit.integrate()\n",
    "print(data)"
   ]
  },
  {
   "cell_type": "code",
   "execution_count": 44,
   "id": "8f3a5e78",
   "metadata": {},
   "outputs": [
    {
     "data": {
      "image/png": "[encoded data removed]",
      "text/plain": [
       "<Figure size 600x300 with 1 Axes>"
      ]
     },
     "metadata": {},
     "output_type": "display_data"
    }
   ],
   "source": [
    "from matplotlib import pyplot\n",
    "pyplot.style.use('../qmcpy.mplstyle')\n",
    "fig,ax = pyplot.subplots(figsize=(6,3))\n",
    "ax.plot(solution,'-o')\n",
    "ax.set_xlim([0,len(solution)-1]); ax.set_xlabel(r'$x$')\n",
    "ax.set_ylim([10000,-10]);  ax.set_ylabel(r'$u(x)$');"
   ]
  },
  {
   "cell_type": "markdown",
   "id": "80a0b560",
   "metadata": {},
   "source": [
    "## Parallel Evaluation"
   ]
  },
  {
   "cell_type": "markdown",
   "id": "041ce829",
   "metadata": {},
   "source": [
    "QMCPy can automatically multi-threaded requests to the model by setting `parallel=p` where `p` is the number of processors used by [multiprocessing.pool.ThreadPool](https://docs.python.org/3/library/multiprocessing.html#multiprocessing.pool.ThreadPool). Setting `parallel=True` is equivalent to setting `paralle=os.cpu_count()`."
   ]
  },
  {
   "cell_type": "code",
   "execution_count": 28,
   "id": "ec0b7fce",
   "metadata": {},
   "outputs": [
    {
     "name": "stdout",
     "output_type": "stream",
     "text": [
      "Available CPUs: 8\n"
     ]
    }
   ],
   "source": [
    "import os\n",
    "print('Available CPUs: %d'%os.cpu_count())"
   ]
  },
  {
   "cell_type": "code",
   "execution_count": 47,
   "id": "355a7dbf",
   "metadata": {},
   "outputs": [
    {
     "data": {
      "text/plain": [
       "LDTransformData (AccumulateData Object)\n",
       "    solution        2.050\n",
       "    comb_bound_low  2.050\n",
       "    comb_bound_high 2.050\n",
       "    comb_flags      1\n",
       "    n_total         2^(10)\n",
       "    n               2^(10)\n",
       "    time_integrate  5.043\n",
       "CubQMCNetG (StoppingCriterion Object)\n",
       "    abs_tol         0.025\n",
       "    rel_tol         0\n",
       "    n_init          2^(10)\n",
       "    n_max           2^(35)\n",
       "UMBridgeWrapper (Integrand Object)\n",
       "Uniform (TrueMeasure Object)\n",
       "    lower_bound     1\n",
       "    upper_bound     1.050\n",
       "DigitalNetB2 (DiscreteDistribution Object)\n",
       "    d               2^(2)\n",
       "    dvec            [0 1 2 3]\n",
       "    randomize       LMS_DS\n",
       "    graycode        0\n",
       "    entropy         7\n",
       "    spawn_key       ()"
      ]
     },
     "execution_count": 47,
     "metadata": {},
     "output_type": "execute_result"
    }
   ],
   "source": [
    "integrand = qp.UMBridgeWrapper(distribution,model,umbridge_config,parallel=8)\n",
    "solution,data = qp.CubQMCNetG(integrand,abs_tol=2.5e-2).integrate()\n",
    "data"
   ]
  },
  {
   "cell_type": "markdown",
   "id": "d9154d0f",
   "metadata": {},
   "source": [
    "## Shut Down Docker Image"
   ]
  },
  {
   "cell_type": "code",
   "execution_count": 67,
   "id": "3ff8373a",
   "metadata": {},
   "outputs": [
    {
     "name": "stdout",
     "output_type": "stream",
     "text": [
      "muqbp_new\n"
     ]
    }
   ],
   "source": [
    "!docker rm -f muqbp_new"
   ]
  },
  {
   "cell_type": "markdown",
   "id": "142e61cb",
   "metadata": {},
   "source": []
  }
 ],
 "metadata": {
  "kernelspec": {
   "display_name": "Python 3 (ipykernel)",
   "language": "python",
   "name": "python3"
  },
  "language_info": {
   "codemirror_mode": {
    "name": "ipython",
    "version": 3
   },
   "file_extension": ".py",
   "mimetype": "text/x-python",
   "name": "python",
   "nbconvert_exporter": "python",
   "pygments_lexer": "ipython3",
   "version": "3.9.13"
  }
 },
 "nbformat": 4,
 "nbformat_minor": 5
}
