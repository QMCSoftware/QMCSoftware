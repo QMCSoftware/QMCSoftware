{
 "cells": [
  {
   "cell_type": "markdown",
   "id": "9b09667a",
   "metadata": {},
   "source": [
    "# UM-Bridge with QMCPy\n",
    "\n",
    "Using QMCPy to evaluate the [UM-Bridge Cantilever Beam Function](https://um-bridge-benchmarks.readthedocs.io/en/docs/forward-benchmarks/muq-beam-propagation.html) and approximate the expectation with respect to a uniform random variable. "
   ]
  },
  {
   "cell_type": "markdown",
   "id": "b0e7ef4d",
   "metadata": {},
   "source": [
    "## Imports"
   ]
  },
  {
   "cell_type": "code",
   "execution_count": 33,
   "id": "16a1dbd2",
   "metadata": {
    "tags": []
   },
   "outputs": [],
   "source": [
    "import umbridge\n",
    "import numpy as np\n",
    "import time\n",
    "import docker\n",
    "\n",
    "#the module needs to be local if any changes have been made locally\n",
    "#uncomment line below to make local qmcpy the import (only need to be done once per session and can be commented out\n",
    "#import sys\n",
    "#sys.path.insert(0, '../../../../..') #may need to be changed to find correct path to QMCSoftware folder\n",
    "\n",
    "#prints paths available on local system\n",
    "#for p in sys.path:\n",
    "#    print(p)\n",
    "\n",
    "#import qmcpy as qp #non local module import\n",
    "from QMCSoftware import qmcpy as qp #local module import"
   ]
  },
  {
   "cell_type": "markdown",
   "id": "5c6b10d3",
   "metadata": {},
   "source": [
    "## Start Docker Container\n",
    "\n",
    "See the [UM-Bridge Documentation](https://um-bridge-benchmarks.readthedocs.io/en/docs/index.html) for image options. "
   ]
  },
  {
   "cell_type": "code",
   "execution_count": 20,
   "id": "65ea4b9e",
   "metadata": {
    "tags": []
   },
   "outputs": [
    {
     "name": "stdout",
     "output_type": "stream",
     "text": [
      "09b8dba0ca9de78cdee17d3ab0c0057b27ca0dac3d2378e2296a1abf7375a025\n"
     ]
    }
   ],
   "source": [
    "!docker run --name muqbp_new -it -d -p 4242:4242 linusseelinger/model-muq-beam:latest\n",
    "#!docker run --name muqbp_new -d -p 4242:4242 my-build\n",
    "#https://stackoverflow.com/questions/43099116/error-the-input-device-is-not-a-tty\n",
    "#running locally"
   ]
  },
  {
   "cell_type": "markdown",
   "id": "49ae9a2e",
   "metadata": {},
   "source": [
    "## Problem Setup"
   ]
  },
  {
   "cell_type": "markdown",
   "id": "f2f49293",
   "metadata": {},
   "source": [
    "Initialize a QMCPy sampler and distribution."
   ]
  },
  {
   "cell_type": "code",
   "execution_count": 21,
   "id": "a90b8ab5",
   "metadata": {
    "tags": []
   },
   "outputs": [],
   "source": [
    "sampler = qp.DigitalNetB2(dimension=31,seed=7) # DISCRETE DISTRIBUTION, default = 3\n",
    "distribution = qp.Uniform(sampler,lower_bound=1,upper_bound=1.05) # TRUE MEASURE"
   ]
  },
  {
   "cell_type": "markdown",
   "id": "12525f56",
   "metadata": {},
   "source": [
    "Initialize a UM-Bridge model and wrap it into a QMCPy compatible Integrand"
   ]
  },
  {
   "cell_type": "code",
   "execution_count": 22,
   "id": "2b35f5f4",
   "metadata": {
    "tags": []
   },
   "outputs": [
    {
     "name": "stdout",
     "output_type": "stream",
     "text": [
      "{}\n",
      "[31]\n",
      "[31]\n",
      "31\n"
     ]
    }
   ],
   "source": [
    "model = umbridge.HTTPModel('http://localhost:4242', 'forward')\n",
    "output_dimension = 31\n",
    "umbridge_config = {}\n",
    "#DEBUG\n",
    "print(umbridge_config)\n",
    "print(model.get_input_sizes(umbridge_config))\n",
    "print(model.get_output_sizes(umbridge_config))\n",
    "print(distribution.d)\n",
    "\n",
    "def lump(t):\n",
    "    tnp = np.array(t[0])\n",
    "    tnewnp = np.ones(output_dimension)\n",
    "    tnewnp[:len(tnp)] = tnp\n",
    "    return [tnewnp.tolist()]\n",
    "    \n",
    "integrand = qp.UMBridgeWrapper(distribution, model, umbridge_config, parallel=False, tf_input_to_umbridge_input = lump) # INTEGRAND"
   ]
  },
  {
   "cell_type": "markdown",
   "id": "ca82b29b",
   "metadata": {},
   "source": [
    "## Model Evaluation"
   ]
  },
  {
   "cell_type": "code",
   "execution_count": 23,
   "id": "9b5e06c5",
   "metadata": {
    "tags": []
   },
   "outputs": [
    {
     "name": "stdout",
     "output_type": "stream",
     "text": [
      "(16, 31)\n",
      "(16, 31)\n",
      "<class 'numpy.ndarray'>\n",
      "float64\n",
      "[[    0.            45.28744946   177.28452401   389.31920581\n",
      "    675.25978978  1031.68613802  1452.45177877  1934.28124156\n",
      "   2471.05909915  3057.50663189  3691.30912283  4368.13843853\n",
      "   5082.93852311  5832.33576389  6612.96502022  7420.66136796\n",
      "   8253.23034285  9106.7134449   9978.87699583 10866.34562162\n",
      "  11767.08378789 12678.48452213 13598.53214184 14525.40890403\n",
      "  15457.544686   16393.59835989 17332.35041153 18272.83146202\n",
      "  19214.2772277  20156.15036061 21098.13060333]\n",
      " [    0.            47.77108158   184.01638612   401.77323321\n",
      "    697.53399216  1064.4985957   1499.6192002   1996.26929726\n",
      "   2550.82187875  3158.25137635  3813.55162783  4511.67065067\n",
      "   5249.53188728  6022.39004881  6826.34714545  7659.06832178\n",
      "   8516.44936452  9395.55599968 10293.18286824 11206.78844622\n",
      "  12133.44286403 13071.10551243 14017.67198424 14971.21426338\n",
      "  15930.02530387 16892.6979796  17857.9975933  18825.0112221\n",
      "  19792.97862233 20761.36854255 21729.86278775]\n",
      " [    0.            47.90564438   184.84637071   406.23307573\n",
      "    708.01825641  1084.79353998  1529.27833134  2036.60925234\n",
      "   2601.04944443  3218.15567517  3884.020053    4594.15578069\n",
      "   5343.24324767  6127.85012069  6944.05964406  7788.11161469\n",
      "   8656.40460667  9545.83300522 10453.37409925 11376.38476819\n",
      "  12312.46050144 13259.63897552 14215.46192123 15178.08690277\n",
      "  16145.98403063 17117.63326675 18091.98978495 19068.06632651\n",
      "  20045.09287577 21022.54737848 22000.10816776]\n",
      " [    0.            48.76300502   187.4834047    412.28176447\n",
      "    714.04028678  1088.4557664   1531.65360937  2037.91990911\n",
      "   2602.45869726  3220.58818019  3885.93078744  4594.3064852\n",
      "   5342.44631012  6126.64591679  6942.92923221  7787.09138065\n",
      "   8655.97865561  9546.65101893 10455.73089635 11380.72742384\n",
      "  12318.98019597 13267.91831658 14225.80026588 15190.76749628\n",
      "  16161.10033598 17135.42432565 18112.47944471 19091.24251966\n",
      "  20070.99288089 21051.17418693 22031.46320894]\n",
      " [    0.            45.80975285   177.87166904   392.44040754\n",
      "    682.60888493  1043.99941979  1469.59169514  1954.30448046\n",
      "   2494.99813865  3087.45579233  3725.96155027  4406.40262359\n",
      "   5125.22850516  5878.20504938  6662.63665804  7474.09098642\n",
      "   8310.2505843   9167.13385249 10042.66225838 10933.86655563\n",
      "  11838.00773198 12753.04351565 13676.63557825 14606.99038713\n",
      "  15542.63624943 16482.15961738 17424.25656878 18368.03781553\n",
      "  19312.77235253 20257.92853141 21203.18916256]\n",
      " [    0.            47.42983869   185.84955212   406.90544999\n",
      "    706.38847235  1077.34870451  1516.73780959  2019.63814367\n",
      "   2579.70215086  3191.41571173  3851.26435042  4555.50990809\n",
      "   5299.47566683  6079.04605516  6890.17214106  7729.84156001\n",
      "   8593.97187314  9479.76779117 10383.9120742  11303.54532804\n",
      "  12236.39429648 13179.91175685 14132.34902614 15091.84148137\n",
      "  16056.5613838  17025.17743189 17996.53695543 18969.62482133\n",
      "  19943.68770027 20918.17822424 21892.77556104]\n",
      " [    0.            45.45541819   179.195205     393.47151245\n",
      "    685.68029422  1050.61441829  1481.33933972  1973.2455142\n",
      "   2522.93931261  3125.83789579  3776.04597715  4469.52607477\n",
      "   5201.67224236  5969.69032892  6768.81948079  7595.81242408\n",
      "   8446.72240885  9318.89840278 10209.00064597 11114.97455905\n",
      "  12034.345613   12964.55808961 13903.47689413 14849.47111119\n",
      "  15800.78096036 16755.96153411 17713.85086457 18673.45968781\n",
      "  19634.05115459 20595.07538042 21556.20844682]\n",
      " [    0.            49.08043427   187.77773306   412.11532811\n",
      "    714.3426816   1089.2001194   1532.03250837  2037.26838609\n",
      "   2598.98891832  3213.32079199  3876.77565018  4584.45815345\n",
      "   5332.68087151  6116.09597952  6931.18486828  7774.59608807\n",
      "   8642.71290078  9532.55135658 10441.03813777 11365.19442897\n",
      "  12302.33211763 13250.43568849 14207.43343071 15171.22564134\n",
      "  16140.35312272 17113.35388506 18089.08544858 19066.5527589\n",
      "  20044.9634677  21023.79997054 22002.74152932]\n",
      " [    0.            47.04257983   181.01392217   395.55937928\n",
      "    685.22165529  1044.73301961  1469.84320496  1955.07361883\n",
      "   2495.39251226  3086.50204423  3724.26814539  4405.4154011\n",
      "   5125.19825597  5880.73597366  6666.95136014  7481.23556723\n",
      "   8319.72526066  9180.01076477 10058.38162045 10952.23140231\n",
      "  11858.94188248 12776.71333384 13703.48454974 14637.15702651\n",
      "  15576.12072776 16519.02797954 17464.59896764 18411.8698664\n",
      "  19360.11340029 20308.78253991 21257.55760277]\n",
      " [    0.            48.14983237   186.14223954   407.82576497\n",
      "    708.62681601  1081.80906529  1522.14004695  2024.67069442\n",
      "   2585.25768379  3199.25301277  3862.55731399  4568.81219036\n",
      "   5314.8158677   6096.20544357  6909.50747821  7750.62082413\n",
      "   8616.46422355  9503.55506851 10409.18607685 11330.72316203\n",
      "  12265.85124357 13211.79856961 14166.41183622 15127.97405646\n",
      "  16094.86449592 17065.56292504 18038.94906377 19014.08896709\n",
      "  19990.18991816 20966.72423424 21943.36664203]\n",
      " [    0.            46.8702886    185.13806004   409.11826898\n",
      "    711.80229919  1087.09559275  1528.81649131  2034.08394756\n",
      "   2596.6565072   3211.09377096  3873.05242937  4578.98231679\n",
      "   5323.85712729  6103.37168999  6915.21120967  7755.48888821\n",
      "   8620.97724118  9508.28720938 10414.69113367 11336.6763913\n",
      "  12272.03430704 13218.27769309 14173.39622603 15135.67708071\n",
      "  16103.44234941 17075.14175045 18049.57852058 19025.75862606\n",
      "  20002.91478673 20980.50317215 21958.198956  ]\n",
      " [    0.            48.27164002   185.11389852   404.74021418\n",
      "    701.13587486  1071.51556042  1510.72427953  2011.22695091\n",
      "   2569.64724616  3180.82672693  3840.63187488  4543.87043462\n",
      "   5287.41442565  6066.80163219  6877.7126658   7716.12086533\n",
      "   8579.11272048  9462.99428402 10365.05914136 11282.72543416\n",
      "  12213.30920001 13154.6312071  14104.5819455  15061.26242232\n",
      "  16023.03381037 16988.66381062 17956.98918694 18927.00044556\n",
      "  19897.96292957 20869.34329208 21840.82770723]\n",
      " [    0.            47.74409914   186.13797231   408.21903553\n",
      "    707.70421637  1078.3072003   1515.02632192  2013.99068393\n",
      "   2571.13464019  3181.91933264  3840.8787445   4542.7163948\n",
      "   5283.57752999  6059.51662518  6866.81181832  7702.21646832\n",
      "   8561.73511163  9443.14740918 10342.78008302 11258.51811832\n",
      "  12187.64749259 13127.70447426 14076.68631389 15032.74850077\n",
      "  15994.11730551 16959.42651002 17927.46091175 18897.27340806\n",
      "  19868.04917998 20839.2605642  21810.58040821]\n",
      " [    0.            47.70472418   182.68763504   402.37912747\n",
      "    701.84298009  1074.48864259  1515.61958083  2019.19254755\n",
      "   2579.00084151  3191.3202728   3850.61833123  4554.45809902\n",
      "   5297.98294023  6077.39008504  6889.07782254  7728.65038863\n",
      "   8592.86898089  9478.2805015  10382.13201604 11301.5767961\n",
      "  12234.05484288 13177.41811395 14129.44679223 15088.34999112\n",
      "  16052.56876477 17020.60846844 17991.28050395 18963.6395559\n",
      "  19936.95801189 20910.69941312 21884.54622754]\n",
      " [    0.            46.62495239   181.12788801   399.57250944\n",
      "    696.13960231  1064.59435733  1498.97334891  1993.35131786\n",
      "   2544.03234799  3146.54619013  3796.80378437  4489.56877438\n",
      "   5220.01179954  5985.26049272  6781.27141338  7605.08765782\n",
      "   8453.18043503  9322.17578984 10209.38823192 11112.16416572\n",
      "  12027.54809425 12953.75140905 13888.78035665 14830.50950715\n",
      "  15777.58949327 16728.50868198 17682.17312061 18637.53703347\n",
      "  19593.86479692 20550.61386053 21507.467651  ]\n",
      " [    0.            48.21732719   186.78534148   407.51727584\n",
      "    705.62849656  1077.24090337  1516.53220897  2019.61902521\n",
      "   2579.96238439  3192.03372305  3851.51777414  4554.97750364\n",
      "   5298.68045872  6077.352901    6887.18632726  7724.61419863\n",
      "   8586.41859561  9469.29461524 10370.54677127 11287.24734896\n",
      "  12217.41118159 13158.2652029  14107.76892329 15064.31577993\n",
      "  16026.06591416 16991.75786762 17960.107018   18930.17017648\n",
      "  19901.20600933 20872.66992254 21844.24036293]]\n",
      "0.10248112678527832\n"
     ]
    }
   ],
   "source": [
    "start_time = time.time()\n",
    "x = sampler(16) # same as sampler.gen_samples(16)\n",
    "\n",
    "print(x.shape) #prints (# of beams, input)\n",
    "\n",
    "y = integrand.f(x)\n",
    "print(y.shape) #prints (# of beams, output)\n",
    "print(type(y))\n",
    "print(y.dtype)\n",
    "print(y)\n",
    "\n",
    "#time in seconds\n",
    "end_time = time.time()\n",
    "print(end_time - start_time)"
   ]
  },
  {
   "cell_type": "markdown",
   "id": "eee7c1a0",
   "metadata": {},
   "source": [
    "## Automatically Approximate the Expectation"
   ]
  },
  {
   "cell_type": "code",
   "execution_count": 24,
   "id": "5de294a4",
   "metadata": {},
   "outputs": [
    {
     "name": "stdout",
     "output_type": "stream",
     "text": [
      "LDTransformData (AccumulateData Object)\n",
      "    solution        [    0.       47.403   183.785 ... 19837.438 20807.061 21776.79 ]\n",
      "    comb_bound_low  [    0.       47.393   183.746 ... 19834.606 20804.111 21773.722]\n",
      "    comb_bound_high [    0.       47.413   183.824 ... 19840.269 20810.01  21779.858]\n",
      "    comb_flags      [ True  True  True ...  True  True  True]\n",
      "    n_total         2^(10)\n",
      "    n               [1024. 1024. 1024. ... 1024. 1024. 1024.]\n",
      "    time_integrate  5.816\n",
      "CubQMCNetG (StoppingCriterion Object)\n",
      "    abs_tol         10\n",
      "    rel_tol         0\n",
      "    n_init          2^(10)\n",
      "    n_max           2^(35)\n",
      "UMBridgeWrapper (Integrand Object)\n",
      "Uniform (TrueMeasure Object)\n",
      "    lower_bound     1\n",
      "    upper_bound     1.050\n",
      "DigitalNetB2 (DiscreteDistribution Object)\n",
      "    d               31\n",
      "    dvec            [ 0  1  2 ... 28 29 30]\n",
      "    randomize       LMS_DS\n",
      "    graycode        0\n",
      "    entropy         7\n",
      "    spawn_key       ()\n"
     ]
    }
   ],
   "source": [
    "qmc_stop_crit = qp.CubQMCNetG(integrand,abs_tol=10) # QMC STOPPING CRITERION\n",
    "#takes ~6 seconds when error tol >= 0.25, ~12 seconds at tol=0.025\n",
    "solution,data = qmc_stop_crit.integrate()\n",
    "print(data)"
   ]
  },
  {
   "cell_type": "code",
   "execution_count": 25,
   "id": "8f3a5e78",
   "metadata": {},
   "outputs": [
    {
     "data": {
      "image/png": "[encoded data removed]",
      "text/plain": [
       "<Figure size 600x300 with 1 Axes>"
      ]
     },
     "metadata": {},
     "output_type": "display_data"
    }
   ],
   "source": [
    "from matplotlib import pyplot\n",
    "pyplot.style.use('../../../../qmcpy.mplstyle') #may need to be changed to find path to document in QMCSoftware folder\n",
    "fig,ax = pyplot.subplots(figsize=(6,3))\n",
    "ax.plot(solution,'-o')\n",
    "ax.set_xlim([0,len(solution)-1]); ax.set_xlabel(r'$x$')\n",
    "ax.set_ylim([10000,-10]);  ax.set_ylabel(r'$u(x)$');"
   ]
  },
  {
   "cell_type": "markdown",
   "id": "80a0b560",
   "metadata": {},
   "source": [
    "## Parallel Evaluation"
   ]
  },
  {
   "cell_type": "markdown",
   "id": "041ce829",
   "metadata": {},
   "source": [
    "QMCPy can automatically multi-threaded requests to the model by setting `parallel=p` where `p` is the number of processors used by [multiprocessing.pool.ThreadPool](https://docs.python.org/3/library/multiprocessing.html#multiprocessing.pool.ThreadPool). Setting `parallel=True` is equivalent to setting `paralle=os.cpu_count()`."
   ]
  },
  {
   "cell_type": "code",
   "execution_count": 26,
   "id": "ec0b7fce",
   "metadata": {},
   "outputs": [
    {
     "name": "stdout",
     "output_type": "stream",
     "text": [
      "Available CPUs: 8\n"
     ]
    }
   ],
   "source": [
    "import os\n",
    "print('Available CPUs: %d'%os.cpu_count())"
   ]
  },
  {
   "cell_type": "code",
   "execution_count": 32,
   "id": "355a7dbf",
   "metadata": {},
   "outputs": [
    {
     "data": {
      "text/plain": [
       "LDTransformData (AccumulateData Object)\n",
       "    solution        [    0.       47.403   183.785 ... 19837.438 20807.061 21776.79 ]\n",
       "    comb_bound_low  [    0.       47.393   183.746 ... 19834.606 20804.111 21773.722]\n",
       "    comb_bound_high [    0.       47.413   183.824 ... 19840.269 20810.01  21779.858]\n",
       "    comb_flags      [ True  True  True ...  True  True  True]\n",
       "    n_total         2^(10)\n",
       "    n               [1024. 1024. 1024. ... 1024. 1024. 1024.]\n",
       "    time_integrate  3.276\n",
       "CubQMCNetG (StoppingCriterion Object)\n",
       "    abs_tol         10\n",
       "    rel_tol         0\n",
       "    n_init          2^(10)\n",
       "    n_max           2^(35)\n",
       "UMBridgeWrapper (Integrand Object)\n",
       "Uniform (TrueMeasure Object)\n",
       "    lower_bound     1\n",
       "    upper_bound     1.050\n",
       "DigitalNetB2 (DiscreteDistribution Object)\n",
       "    d               31\n",
       "    dvec            [ 0  1  2 ... 28 29 30]\n",
       "    randomize       LMS_DS\n",
       "    graycode        0\n",
       "    entropy         7\n",
       "    spawn_key       ()"
      ]
     },
     "execution_count": 32,
     "metadata": {},
     "output_type": "execute_result"
    }
   ],
   "source": [
    "integrand = qp.UMBridgeWrapper(distribution,model,umbridge_config,parallel=8)\n",
    "solution,data = qp.CubQMCNetG(integrand,abs_tol=10).integrate()\n",
    "data"
   ]
  },
  {
   "cell_type": "markdown",
   "id": "d9154d0f",
   "metadata": {},
   "source": [
    "## Shut Down Docker Image"
   ]
  },
  {
   "cell_type": "code",
   "execution_count": null,
   "id": "3ff8373a",
   "metadata": {},
   "outputs": [],
   "source": [
    "!docker rm -f muqbp_new"
   ]
  },
  {
   "cell_type": "markdown",
   "id": "142e61cb",
   "metadata": {},
   "source": []
  },
  {
   "cell_type": "code",
   "execution_count": null,
   "id": "50990183-02ab-44bc-9aa2-2fa4aa97f492",
   "metadata": {},
   "outputs": [],
   "source": []
  }
 ],
 "metadata": {
  "kernelspec": {
   "display_name": "Python 3 (ipykernel)",
   "language": "python",
   "name": "python3"
  },
  "language_info": {
   "codemirror_mode": {
    "name": "ipython",
    "version": 3
   },
   "file_extension": ".py",
   "mimetype": "text/x-python",
   "name": "python",
   "nbconvert_exporter": "python",
   "pygments_lexer": "ipython3",
   "version": "3.9.13"
  }
 },
 "nbformat": 4,
 "nbformat_minor": 5
}
