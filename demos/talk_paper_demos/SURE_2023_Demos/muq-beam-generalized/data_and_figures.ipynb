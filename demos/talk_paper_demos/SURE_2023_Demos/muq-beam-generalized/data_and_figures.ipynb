{
 "cells": [
  {
   "cell_type": "code",
   "execution_count": 74,
   "id": "84271a50-7eca-47cd-98f0-146b26a1a5cc",
   "metadata": {},
   "outputs": [],
   "source": [
    "import numpy as np\n",
    "import matplotlib.pyplot as plt"
   ]
  },
  {
   "cell_type": "code",
   "execution_count": 76,
   "id": "18df2f9a-d652-4461-8a87-eb7458ea0e2e",
   "metadata": {},
   "outputs": [],
   "source": [
    "f = open('workfile', 'r', encoding=\"utf-8\")"
   ]
  },
  {
   "cell_type": "code",
   "execution_count": 110,
   "id": "cd5a0a10-2fe6-4cbf-91d9-bedaf8acd430",
   "metadata": {},
   "outputs": [
    {
     "data": {
      "text/plain": [
       "0"
      ]
     },
     "execution_count": 110,
     "metadata": {},
     "output_type": "execute_result"
    }
   ],
   "source": [
    "f.seek(0)"
   ]
  },
  {
   "cell_type": "code",
   "execution_count": 111,
   "id": "cb69025c-f83e-4459-91c3-de8e01ba9461",
   "metadata": {},
   "outputs": [
    {
     "name": "stdout",
     "output_type": "stream",
     "text": [
      "[5.65236688, 5.80454493, 5.58369803, 6.02792978, 5.98924088, 6.49736905, 6.0127449, 6.67047405, 6.25457001, 6.13394713, 6.067734, 6.33721089, 6.29214001, 6.09591413, 5.86405897, 6.28523421, 6.36550522, 5.95825124, 6.02391768, 6.09627914, 6.53811026, 6.62328196, 6.02035189, 6.17695284, 5.91911817, 6.12757206, 7.82394385, 6.26095104, 6.49377799, 6.71439505, 6.54946995, 6.14482617, 5.96545529, 6.16771507, 5.96746898, 5.93270087, 6.08236217, 6.06165504, 6.14424777, 5.97329688, 5.99034476, 5.99951196, 6.04179788, 6.0017159, 5.96494508, 5.91368389, 6.16672301, 6.01746488, 5.9245429, 6.06344295]\n"
     ]
    }
   ],
   "source": [
    "times_DN_N_3 = []\n",
    "DN_N_3=f.readline()\n",
    "for i in range(9):\n",
    "    line = f.readline()\n",
    "    for word in line.split():\n",
    "        times_DN_N_3.append(float(word))\n",
    "\n",
    "print(times_DN_N_3)"
   ]
  },
  {
   "cell_type": "code",
   "execution_count": 112,
   "id": "35aa6867-8950-4ec6-93ae-dce11153cb1a",
   "metadata": {},
   "outputs": [
    {
     "name": "stdout",
     "output_type": "stream",
     "text": [
      "[6.03611493, 6.17584491, 5.68128204, 5.72248816, 5.52724576, 5.73833513, 6.20431995, 6.54777813, 6.00179887, 5.91087794, 6.05999494, 5.85838008, 5.90449023, 5.88886285, 5.92902207, 5.97852278, 5.99019194, 5.91567802, 6.0053041, 5.91360617, 5.99533701, 5.98137093, 6.05415392, 5.91986108, 6.05360723, 5.89622331, 5.9763279, 6.04395294, 6.24877596, 6.11271191, 5.90740776, 5.96434808, 5.89229798, 6.07203507, 5.88338113, 6.03712201, 5.92614603, 6.12147307, 5.90385318, 6.00775385, 5.9571178, 6.12431288, 6.041502, 6.08116722, 5.93752503, 6.00508714, 5.97448182, 6.05873108, 5.89733291, 6.02346182]\n"
     ]
    }
   ],
   "source": [
    "for i in range(8):\n",
    "    f.readline()\n",
    "    \n",
    "times_DN_N_6 = []\n",
    "DN_N_6=f.readline()\n",
    "for i in range(9):\n",
    "    line = f.readline()\n",
    "    for word in line.split():\n",
    "        times_DN_N_6.append(float(word))\n",
    "\n",
    "print(times_DN_N_6)"
   ]
  },
  {
   "cell_type": "code",
   "execution_count": 113,
   "id": "a84ceff4-8b74-4366-909b-aeae990e2d69",
   "metadata": {},
   "outputs": [
    {
     "name": "stdout",
     "output_type": "stream",
     "text": [
      "[6.15029502, 7.3244381, 6.09612298, 5.76933932, 6.07632709, 6.30889106, 5.98840284, 6.02869606, 6.79874897, 6.62510991, 6.13735986, 6.55110312, 6.5708859, 6.27620792, 6.52588987, 6.30391479, 6.54182005, 6.07095003, 6.39204788, 6.12767482, 6.26727009, 6.8557899, 6.31788087, 6.37768579, 6.53315187, 6.21708512, 6.00523973, 5.89092994, 5.94259691, 5.89186406, 7.26558614, 7.11006713, 6.60279012, 6.32630396, 6.24267793, 6.15965796, 6.17047811, 6.15399313, 6.40896726, 6.23624611, 6.45251894, 6.44151878, 6.59053802, 6.63851714, 6.33298421, 6.67418766, 5.86198187, 5.8763299, 5.92912698, 5.9975369]\n"
     ]
    }
   ],
   "source": [
    "for i in range(8):\n",
    "    f.readline()\n",
    "    \n",
    "times_DN_N_15 = []\n",
    "DN_N_15=f.readline()\n",
    "for i in range(9):\n",
    "    line = f.readline()\n",
    "    for word in line.split():\n",
    "        times_DN_N_15.append(float(word))\n",
    "\n",
    "print(times_DN_N_15)"
   ]
  },
  {
   "cell_type": "code",
   "execution_count": 114,
   "id": "c83eff98-eda0-45c0-8b0e-52f00ab6895a",
   "metadata": {},
   "outputs": [
    {
     "name": "stdout",
     "output_type": "stream",
     "text": [
      "[5.98383617, 6.18529201, 5.84678292, 5.82834625, 5.99581099, 5.77424574, 6.31157708, 6.69169617, 6.27849412, 6.01239705, 6.15724802, 6.41094112, 5.99396992, 6.26136804, 6.21722507, 6.22654796, 5.93424368, 6.29427195, 6.09522986, 6.06484008, 6.3801682, 6.17325211, 6.48241305, 5.94899297, 6.00159121, 6.04150701, 5.9906981, 6.11912775, 6.21486473, 6.5119772, 6.16233397, 6.08427, 6.0601058, 6.06787086, 6.17891479, 6.11295581, 6.08352518, 6.114923, 6.28850007, 6.09098887, 6.7225039, 6.63600588, 6.24644184, 6.13408208, 6.08057189, 6.12933183, 6.15419102, 6.20565605, 6.1360569, 6.1642909]\n"
     ]
    }
   ],
   "source": [
    "for i in range(8):\n",
    "    f.readline()\n",
    "    \n",
    "times_DN_N_30 = []\n",
    "DN_N_30=f.readline()\n",
    "for i in range(9):\n",
    "    line = f.readline()\n",
    "    for word in line.split():\n",
    "        times_DN_N_30.append(float(word))\n",
    "\n",
    "print(times_DN_N_30)"
   ]
  },
  {
   "cell_type": "code",
   "execution_count": 115,
   "id": "7f333467-3a06-4f5c-92fc-117b4fe62194",
   "metadata": {},
   "outputs": [
    {
     "name": "stdout",
     "output_type": "stream",
     "text": [
      "[24.24895287, 24.09385395, 24.68237019, 24.79071784, 25.33946395, 24.76455283, 25.3011601, 24.69732618, 24.8987608, 25.05301785, 24.99824786, 24.91077399, 24.26624107, 24.86969805, 24.3387928, 24.56694198, 24.8119812, 24.42591, 24.72536516, 25.16904807, 25.05066919, 24.53340983, 24.44655418, 24.89875317, 25.41073799, 25.64134288, 26.52717495, 24.1116631, 24.23929381, 24.23814416, 25.39418292, 24.70448589, 24.21548891, 24.48362303, 24.7726469, 24.91526675, 25.05714607, 24.89627576, 24.91206384, 24.77849412, 25.43505621, 25.07672596, 25.13943791, 25.10008502, 24.89980102, 25.09216309, 24.642205, 24.61702085, 25.29938293, 24.80984497]\n"
     ]
    }
   ],
   "source": [
    "for i in range(8):\n",
    "    f.readline()\n",
    "    \n",
    "times_DN_CLT_3 = []\n",
    "DN_CLT_3=f.readline()\n",
    "for i in range(9):\n",
    "    line = f.readline()\n",
    "    for word in line.split():\n",
    "        times_DN_CLT_3.append(float(word))\n",
    "\n",
    "print(times_DN_CLT_3)"
   ]
  },
  {
   "cell_type": "code",
   "execution_count": 116,
   "id": "f9af0986-110a-4ebd-8e45-d24ceacafe00",
   "metadata": {},
   "outputs": [
    {
     "name": "stdout",
     "output_type": "stream",
     "text": [
      "[23.09436417, 23.53773904, 24.0910809, 24.22545886, 24.42305398, 24.39580488, 24.20930004, 24.34960914, 24.32657313, 24.40829206, 24.31635475, 24.29514027, 24.48972201, 24.33381224, 26.065238, 24.11518884, 24.4919219, 24.40110803, 24.53937101, 24.35472202, 24.35613012, 24.33825183, 24.22916079, 24.65192699, 24.34847593, 24.33915806, 24.44918108, 24.42763495, 24.42903709, 24.32447195, 24.65365577, 24.34796286, 24.31022382, 24.28447986, 24.46901107, 24.3373313, 24.52330899, 24.54806805, 24.89245796, 24.54740024, 25.32226515, 24.64502215, 24.86058402, 24.52875996, 24.34681201, 24.34894204, 25.28948975, 24.58144188, 24.52672195, 24.66530085]\n"
     ]
    }
   ],
   "source": [
    "for i in range(8):\n",
    "    f.readline()\n",
    "    \n",
    "times_DN_CLT_6 = []\n",
    "DN_CLT_6=f.readline()\n",
    "for i in range(9):\n",
    "    line = f.readline()\n",
    "    for word in line.split():\n",
    "        times_DN_CLT_6.append(float(word))\n",
    "\n",
    "print(times_DN_CLT_6)"
   ]
  },
  {
   "cell_type": "code",
   "execution_count": 117,
   "id": "4dfccebd-a70f-4b6e-8cbc-9ea710f1742d",
   "metadata": {},
   "outputs": [
    {
     "name": "stdout",
     "output_type": "stream",
     "text": [
      "[23.19935727, 24.8119669, 24.70297074, 24.90281487, 24.74796534, 24.93122315, 25.43611979, 25.02094793, 25.04881001, 24.79308891, 24.48885512, 25.15342903, 26.23868489, 24.57511973, 25.81044483, 25.91036487, 25.44310975, 25.62117982, 24.53442311, 25.08700109, 24.57127881, 24.57254386, 25.10381508, 25.12123895, 25.80217314, 25.24564409, 25.45107484, 26.75427103, 24.99611807, 25.61374807, 25.14843917, 25.06990814, 24.98781681, 25.39911604, 29.79427981, 25.78735399, 25.66364717, 25.95794201, 24.93843699, 24.42549825, 24.33105183, 24.19312811, 24.09477091, 24.36009502, 23.37913108, 23.5834403, 23.5032661, 23.51751685, 23.60766315, 23.81077719]\n"
     ]
    }
   ],
   "source": [
    "for i in range(8):\n",
    "    f.readline()\n",
    "    \n",
    "times_DN_CLT_15 = []\n",
    "DN_CLT_15=f.readline()\n",
    "for i in range(9):\n",
    "    line = f.readline()\n",
    "    for word in line.split():\n",
    "        times_DN_CLT_15.append(float(word))\n",
    "\n",
    "print(times_DN_CLT_15)"
   ]
  },
  {
   "cell_type": "code",
   "execution_count": 118,
   "id": "b316649a-f367-4ce1-bae9-88e371bf2c7c",
   "metadata": {},
   "outputs": [
    {
     "name": "stdout",
     "output_type": "stream",
     "text": [
      "[22.67400098, 24.53055215, 24.94365692, 25.17311215, 25.56511807, 24.5908401, 25.06932521, 25.6076088, 25.96464014, 25.67131519, 31.07109904, 24.63339376, 27.8040278, 25.45311308, 25.52692699, 25.22654295, 26.29451418, 24.60019612, 25.42168713, 25.34992909, 24.0438652, 25.16339469, 25.07201695, 27.23386025, 25.95655394, 31.27936101, 24.69361925, 28.89637899, 26.67728305, 25.254848, 27.43649602, 28.59519482, 28.55086708, 26.11217117, 26.14823318, 27.81085801, 25.13208389, 25.56137323, 25.02097511, 25.21612883, 26.86389399, 25.0392313, 24.36385012, 24.6333251, 24.66086912, 24.5549612, 24.47431302, 24.61782598, 25.01306486, 24.46162987]\n"
     ]
    }
   ],
   "source": [
    "for i in range(8):\n",
    "    f.readline()\n",
    "    \n",
    "times_DN_CLT_30 = []\n",
    "DN_CLT_30=f.readline()\n",
    "for i in range(9):\n",
    "    line = f.readline()\n",
    "    for word in line.split():\n",
    "        times_DN_CLT_30.append(float(word))\n",
    "\n",
    "print(times_DN_CLT_30)"
   ]
  },
  {
   "cell_type": "code",
   "execution_count": 119,
   "id": "1aa0a269-65e6-486a-b3cd-36a6e44dc46a",
   "metadata": {},
   "outputs": [
    {
     "name": "stdout",
     "output_type": "stream",
     "text": [
      "[5.78719378, 5.62790298, 5.52103019, 5.49325538, 5.52393413, 5.96150303, 6.09268498, 6.11032009, 5.87422419, 6.0396893, 5.92823386, 5.99413872, 5.92845607, 6.1181891, 6.09547305, 6.03753805, 6.14283681, 6.76814508, 6.10034919, 6.16105318, 6.15894413, 6.10442185, 6.18648195, 5.97386718, 6.16718197, 5.92853403, 6.16269302, 6.33959126, 6.61673594, 6.03000093, 6.13835073, 6.07174826, 6.01962209, 6.04431009, 6.05941725, 6.19965219, 6.20273066, 6.3340919, 6.3274827, 6.01981592, 6.31636095, 6.27292204, 6.03683972, 6.43625498, 6.22824025, 5.95822287, 6.31984496, 6.14719319, 6.36450005, 6.42394376]\n"
     ]
    }
   ],
   "source": [
    "for i in range(8):\n",
    "    f.readline()\n",
    "    \n",
    "times_L_L_3 = []\n",
    "L_L_3=f.readline()\n",
    "for i in range(9):\n",
    "    line = f.readline()\n",
    "    for word in line.split():\n",
    "        times_L_L_3.append(float(word))\n",
    "\n",
    "print(times_L_L_3)"
   ]
  },
  {
   "cell_type": "code",
   "execution_count": 120,
   "id": "2b63423c-3746-4bc6-94b7-091a54c2958b",
   "metadata": {},
   "outputs": [
    {
     "name": "stdout",
     "output_type": "stream",
     "text": [
      "[6.78093386, 5.88873506, 5.79909396, 5.78350472, 5.79567575, 6.08468413, 5.95557499, 5.73908424, 6.03265405, 5.86564493, 5.94854307, 5.81808424, 5.91867995, 5.81007433, 5.94136381, 5.83857942, 5.92315698, 5.80439711, 5.78171992, 5.97845101, 5.84995103, 5.90446806, 5.86890006, 5.99033499, 5.83008099, 5.91186881, 5.81580186, 5.84957504, 5.97213912, 5.86532807, 5.9801321, 5.91796207, 5.97108006, 5.843503, 5.88989019, 5.88929296, 5.91322494, 5.92004085, 5.82972503, 5.92505097, 5.83078408, 6.02724719, 5.93762112, 6.06540108, 5.87057304, 5.98659492, 5.8319149, 5.93326807, 5.87246394, 5.93416882]\n"
     ]
    }
   ],
   "source": [
    "for i in range(8):\n",
    "    f.readline()\n",
    "    \n",
    "times_L_L_6 = []\n",
    "L_L_6=f.readline()\n",
    "for i in range(9):\n",
    "    line = f.readline()\n",
    "    for word in line.split():\n",
    "        times_L_L_6.append(float(word))\n",
    "\n",
    "print(times_L_L_6)"
   ]
  },
  {
   "cell_type": "code",
   "execution_count": 121,
   "id": "0d9e40a6-47b9-4ddc-ae44-2337d967aad0",
   "metadata": {},
   "outputs": [
    {
     "name": "stdout",
     "output_type": "stream",
     "text": [
      "[5.72899103, 5.46336412, 5.92175794, 5.63198709, 5.64699316, 6.92757607, 7.81509995, 6.79430914, 6.84391809, 6.62317085, 6.34895706, 6.13334513, 6.43748188, 6.49835396, 6.69146919, 5.98235202, 6.01498008, 6.37176085, 6.18234825, 5.97422099, 6.14611125, 6.20947576, 6.32484603, 7.01120114, 6.62629795, 6.59422898, 6.43220377, 6.53212214, 6.38668108, 6.648772, 6.62967324, 7.59992814, 6.38556719, 6.35575485, 7.041991, 6.33037901, 6.18455791, 6.40412092, 7.11185169, 6.003968, 5.93323994, 6.20517397, 6.45050645, 6.40432978, 6.56834388, 5.99317718, 5.868325, 6.34252501, 6.0671103, 6.03604198]\n"
     ]
    }
   ],
   "source": [
    "for i in range(8):\n",
    "    f.readline()\n",
    "    \n",
    "times_L_L_15 = []\n",
    "L_L_15=f.readline()\n",
    "for i in range(9):\n",
    "    line = f.readline()\n",
    "    for word in line.split():\n",
    "        times_L_L_15.append(float(word))\n",
    "\n",
    "print(times_L_L_15)"
   ]
  },
  {
   "cell_type": "code",
   "execution_count": 122,
   "id": "264a6d46-9ec3-4f91-93d3-9f340d0040ce",
   "metadata": {},
   "outputs": [
    {
     "name": "stdout",
     "output_type": "stream",
     "text": [
      "[6.00011921, 5.47161603, 5.56369925, 5.62624216, 5.4496758, 5.70887709, 6.11690688, 6.11291504, 6.03394699, 6.3369689, 5.95824575, 5.96634388, 5.98023319, 5.85336399, 6.07373118, 5.99717712, 6.10141087, 5.914186, 5.98071694, 5.97113585, 5.98512173, 6.15393782, 5.94224, 6.09593606, 6.06677914, 6.150594, 6.02087331, 6.04074502, 6.26359105, 5.99856114, 6.02537107, 5.88298702, 6.03435898, 6.30618715, 6.05361581, 6.12074184, 6.23604798, 6.22276998, 5.86199594, 6.0335238, 6.16730905, 5.95937824, 6.00966907, 6.04699683, 5.99092889, 6.06048107, 5.99991488, 6.05528378, 6.11635685, 6.56188011]\n"
     ]
    }
   ],
   "source": [
    "for i in range(8):\n",
    "    f.readline()\n",
    "    \n",
    "times_L_L_30 = []\n",
    "L_L_30=f.readline()\n",
    "for i in range(9):\n",
    "    line = f.readline()\n",
    "    for word in line.split():\n",
    "        times_L_L_30.append(float(word))\n",
    "\n",
    "print(times_L_L_30)"
   ]
  },
  {
   "cell_type": "code",
   "execution_count": 123,
   "id": "b0d060e3-4089-4995-900b-b6a9897c0f66",
   "metadata": {},
   "outputs": [
    {
     "name": "stdout",
     "output_type": "stream",
     "text": [
      "[25.18622613, 23.87530971, 23.61271405, 25.00933886, 24.56845474, 24.75526524, 25.16871214, 25.00174999, 24.5113039, 23.94176888, 24.08568525, 25.26277208, 24.61507893, 23.83193493, 24.03700399, 23.88438201, 23.96615601, 23.83324194, 24.22135305, 25.31301928, 23.10770416, 24.8831799, 24.19526768, 24.21782994, 24.87330985, 24.69081712, 25.86444521, 25.54671788, 25.15300775, 25.87301707, 26.00084424, 25.97815776, 26.20736098, 25.35145664, 28.12480688, 24.72441816, 25.8612299, 25.83513284, 24.93056107, 24.24185205, 23.900846, 24.73788619, 25.88840699, 25.47636199, 25.01886797, 26.33716893, 25.14420891, 24.5402329, 25.39515805, 25.20507002]\n"
     ]
    }
   ],
   "source": [
    "for i in range(8):\n",
    "    f.readline()\n",
    "    \n",
    "times_L_CLT_3 = []\n",
    "L_CLT_3=f.readline()\n",
    "for i in range(10):\n",
    "    line = f.readline()\n",
    "    for word in line.split():\n",
    "        times_L_CLT_3.append(float(word))\n",
    "\n",
    "print(times_L_CLT_3)"
   ]
  },
  {
   "cell_type": "code",
   "execution_count": 124,
   "id": "0c048a10-41f8-4811-b4fa-df8889bbdff0",
   "metadata": {},
   "outputs": [
    {
     "name": "stdout",
     "output_type": "stream",
     "text": [
      "[22.06476474, 22.98170805, 23.3234098, 23.62642908, 24.29044819, 25.04950929, 25.68671679, 21.64686728, 22.96427011, 23.2591629, 23.41018772, 23.73684001, 23.2002821, 22.0572412, 23.76269507, 24.34099984, 23.83623409, 25.06592298, 25.40772104, 30.58734179, 28.17859721, 27.77145696, 26.1045897, 25.62357712, 25.87034917, 25.05001187, 25.03782678, 24.61575913, 26.39437103, 25.7476728, 25.07370186, 24.75788593, 25.93080974, 23.71075416, 26.97473717, 26.17680526, 25.13133788, 24.44671297, 25.52197194, 24.92736697, 25.0816431, 25.33901787, 24.61235118, 27.00924087, 24.53446102, 31.69928193, 25.90000296, 29.30193686, 24.78663921, 24.59230018]\n"
     ]
    }
   ],
   "source": [
    "for i in range(8):\n",
    "    f.readline()\n",
    "    \n",
    "times_L_CLT_6 = []\n",
    "L_CLT_6=f.readline()\n",
    "for i in range(10):\n",
    "    line = f.readline()\n",
    "    for word in line.split():\n",
    "        times_L_CLT_6.append(float(word))\n",
    "\n",
    "print(times_L_CLT_6)"
   ]
  },
  {
   "cell_type": "code",
   "execution_count": 125,
   "id": "89d55f0e-2db7-4b7b-b312-973e08c92103",
   "metadata": {},
   "outputs": [
    {
     "name": "stdout",
     "output_type": "stream",
     "text": [
      "[24.41539097, 25.23868275, 25.35879707, 23.83074212, 23.93389893, 23.93638301, 23.80824375, 24.65032172, 26.26194882, 23.87628531, 25.07931423, 25.52666903, 25.47279406, 26.19940305, 24.35143018, 24.79007006, 24.57642603, 25.11813188, 25.06908584, 25.95015502, 24.56885195, 26.50846601, 23.90462995, 24.35619593, 25.18492007, 24.53204823, 24.4804821, 24.54149199, 25.914819, 26.14524078, 25.01246905, 24.18048072, 23.84568501, 28.1085577, 26.78008413, 24.38812399, 24.58894682, 24.23180103, 24.27644587, 24.1494379, 23.98480511, 23.97532535, 24.10618997, 24.18203092, 24.20670891, 26.10892916, 24.81575584, 24.22161794, 24.07360196, 23.97130084]\n"
     ]
    }
   ],
   "source": [
    "for i in range(8):\n",
    "    f.readline()\n",
    "    \n",
    "times_H_CLT_3 = []\n",
    "H_CLT_3=f.readline()\n",
    "for i in range(9):\n",
    "    line = f.readline()\n",
    "    for word in line.split():\n",
    "        times_H_CLT_3.append(float(word))\n",
    "\n",
    "print(times_H_CLT_3)"
   ]
  },
  {
   "cell_type": "code",
   "execution_count": 126,
   "id": "743d6171-c5bb-46b7-87af-f9f537bb7530",
   "metadata": {},
   "outputs": [
    {
     "name": "stdout",
     "output_type": "stream",
     "text": [
      "[21.68569398, 23.61764193, 24.03278279, 24.02377486, 24.25590301, 26.264184, 26.28048086, 24.83764815, 25.54238105, 25.47548866, 24.53951597, 24.04135394, 24.8772912, 24.4081409, 25.79571104, 31.19008493, 29.85063505, 25.78962994, 24.06393313, 26.31978106, 27.12389302, 23.58437681, 24.49598193, 24.57470512, 24.52611208, 24.3994348, 24.91950583, 26.07422781, 26.65741992, 25.25953102, 24.79434705, 24.57263112, 24.52760386, 25.70700598, 24.04891706, 25.53622603, 24.5254643, 25.07634211, 25.85649109, 26.05106497, 25.04273486, 24.4157939, 25.23901176, 25.43347287, 24.2905488, 25.24249387, 24.73703718, 25.13205504, 23.28020597, 23.61624074]\n"
     ]
    }
   ],
   "source": [
    "for i in range(8):\n",
    "    f.readline()\n",
    "    \n",
    "times_H_CLT_6 = []\n",
    "H_CLT_6=f.readline()\n",
    "for i in range(9):\n",
    "    line = f.readline()\n",
    "    for word in line.split():\n",
    "        times_H_CLT_6.append(float(word))\n",
    "\n",
    "print(times_H_CLT_6)"
   ]
  },
  {
   "cell_type": "code",
   "execution_count": 129,
   "id": "79464882-2c78-4ed5-928c-259ece5f8e62",
   "metadata": {},
   "outputs": [
    {
     "data": {
      "image/png": "[encoded data removed]",
      "text/plain": [
       "<Figure size 640x480 with 1 Axes>"
      ]
     },
     "metadata": {},
     "output_type": "display_data"
    }
   ],
   "source": [
    "x = np.arange(50)\n",
    "\n",
    "plt.scatter(x, times_DN_N_3, color='r')\n",
    "plt.scatter(x, times_DN_CLT_3, color=\"blue\")\n",
    "plt.scatter(x, times_L_L_3, color=\"g\")\n",
    "plt.scatter(x, times_L_CLT_3, color='orange')\n",
    "plt.scatter(x, times_H_CLT_3, color='pink')\n",
    "\n",
    "plt.xlabel(\"Iterations\")\n",
    "plt.ylabel(\"Run Time\")\n",
    "plt.show()"
   ]
  },
  {
   "cell_type": "code",
   "execution_count": 139,
   "id": "8621a748-9185-4bd3-9ab7-a1e479b20585",
   "metadata": {},
   "outputs": [
    {
     "data": {
      "image/png": "[encoded data removed]",
      "text/plain": [
       "<Figure size 500x500 with 1 Axes>"
      ]
     },
     "metadata": {},
     "output_type": "display_data"
    }
   ],
   "source": [
    "data = [times_DN_N_3, times_DN_CLT_3, times_L_L_3, times_L_CLT_3,times_H_CLT_3] \n",
    "fig = plt.figure(figsize =(5, 5))\n",
    "ax = fig.add_axes([0, 0, 1, 1])\n",
    "bp = ax.boxplot(data)\n",
    "plt.show()"
   ]
  },
  {
   "cell_type": "code",
   "execution_count": 142,
   "id": "7176de9a-00b0-4ce3-adf1-5ee3df3f4150",
   "metadata": {},
   "outputs": [],
   "source": [
    "from statistics import mean\n",
    "m_DN_N_3 = mean(times_DN_N_3)\n",
    "m_DN_N_6 = mean(times_DN_N_6)\n",
    "m_DN_N_15 = mean(times_DN_N_15)\n",
    "m_DN_N_30 = mean(times_DN_N_30)"
   ]
  },
  {
   "cell_type": "code",
   "execution_count": 151,
   "id": "db2f6404-2f4d-412a-8bb4-c6ce777af27b",
   "metadata": {},
   "outputs": [
    {
     "data": {
      "image/png": "[encoded data removed]",
      "text/plain": [
       "<Figure size 640x480 with 1 Axes>"
      ]
     },
     "metadata": {},
     "output_type": "display_data"
    }
   ],
   "source": [
    "x = [3,6,15,30]\n",
    "y = [m_DN_N_3, m_DN_N_6, m_DN_N_15, m_DN_N_30]\n",
    "plt.scatter(x, y, color=\"blue\")\n",
    "plt.xlabel(\"Tolerances\")\n",
    "plt.ylabel(\"Average Run Time\")\n",
    "plt.show()"
   ]
  },
  {
   "cell_type": "code",
   "execution_count": null,
   "id": "3414001d-6efa-413d-ba5a-323cd133a468",
   "metadata": {},
   "outputs": [],
   "source": []
  }
 ],
 "metadata": {
  "kernelspec": {
   "display_name": "Python 3 (ipykernel)",
   "language": "python",
   "name": "python3"
  },
  "language_info": {
   "codemirror_mode": {
    "name": "ipython",
    "version": 3
   },
   "file_extension": ".py",
   "mimetype": "text/x-python",
   "name": "python",
   "nbconvert_exporter": "python",
   "pygments_lexer": "ipython3",
   "version": "3.9.13"
  }
 },
 "nbformat": 4,
 "nbformat_minor": 5
}
