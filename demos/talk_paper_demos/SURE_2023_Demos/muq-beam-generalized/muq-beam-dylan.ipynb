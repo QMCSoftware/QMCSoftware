{
 "cells": [
  {
   "cell_type": "markdown",
   "id": "9b09667a",
   "metadata": {},
   "source": [
    "# UM-Bridge with QMCPy\n",
    "\n",
    "Using QMCPy to evaluate the [UM-Bridge Cantilever Beam Function](https://um-bridge-benchmarks.readthedocs.io/en/docs/forward-benchmarks/muq-beam-propagation.html) and approximate the expectation with respect to a uniform random variable. "
   ]
  },
  {
   "cell_type": "markdown",
   "id": "b0e7ef4d",
   "metadata": {},
   "source": [
    "## Imports"
   ]
  },
  {
   "cell_type": "code",
   "execution_count": 2,
   "id": "16a1dbd2",
   "metadata": {
    "tags": []
   },
   "outputs": [],
   "source": [
    "import umbridge\n",
    "import numpy as np\n",
    "import time\n",
    "#import docker\n",
    "\n",
    "#the module needs to be local if any changes have been made locally\n",
    "#uncomment line below to make local qmcpy the import (only need to be done once per session and can be commented out\n",
    "#import sys\n",
    "#sys.path.insert(0, '../../../../..') #may need to be changed to find correct path to QMCSoftware folder\n",
    "\n",
    "#prints paths available on local system\n",
    "#for p in sys.path:\n",
    "#    print(p)\n",
    "\n",
    "import qmcpy as qp #non local module import\n",
    "#from QMCSoftware import qmcpy as qp #local module import"
   ]
  },
  {
   "cell_type": "markdown",
   "id": "5c6b10d3",
   "metadata": {},
   "source": [
    "## Start Docker Container\n",
    "\n",
    "See the [UM-Bridge Documentation](https://um-bridge-benchmarks.readthedocs.io/en/docs/index.html) for image options. "
   ]
  },
  {
   "cell_type": "code",
   "execution_count": 238,
   "id": "65ea4b9e",
   "metadata": {
    "tags": []
   },
   "outputs": [
    {
     "name": "stdout",
     "output_type": "stream",
     "text": [
      "muqbp_new\n",
      "df496f568915fe667b657e7f1f6aa7f7b281e55a4f27e59d751077be6ee82419\n"
     ]
    }
   ],
   "source": [
    "!docker rm -f muqbp_new\n",
    "!docker run --name muqbp_new -it -d -p 4242:4242 linusseelinger/model-muq-beam:latest\n",
    "#!docker run --name muqbp_new -d -p 4242:4242 my-build\n",
    "#https://stackoverflow.com/questions/43099116/error-the-input-device-is-not-a-tty\n",
    "#running locally"
   ]
  },
  {
   "cell_type": "markdown",
   "id": "49ae9a2e",
   "metadata": {},
   "source": [
    "## Problem Setup"
   ]
  },
  {
   "cell_type": "markdown",
   "id": "f2f49293",
   "metadata": {},
   "source": [
    "Initialize a QMCPy sampler and distribution."
   ]
  },
  {
   "cell_type": "code",
   "execution_count": 228,
   "id": "a90b8ab5",
   "metadata": {
    "tags": []
   },
   "outputs": [],
   "source": [
    "sampler_d = 3\n",
    "sampler = qp.DigitalNetB2(dimension = sampler_d,seed=7) # DISCRETE DISTRIBUTION, default = 3\n",
    "distribution = qp.Uniform(sampler,lower_bound=1,upper_bound=1.1) # TRUE MEASURE"
   ]
  },
  {
   "cell_type": "markdown",
   "id": "12525f56",
   "metadata": {},
   "source": [
    "Initialize a UM-Bridge model and wrap it into a QMCPy compatible Integrand"
   ]
  },
  {
   "cell_type": "code",
   "execution_count": 229,
   "id": "2b35f5f4",
   "metadata": {
    "tags": []
   },
   "outputs": [],
   "source": [
    "model = umbridge.HTTPModel('http://localhost:4242', 'forward')\n",
    "output_dimension = 31 #can't find where 31 is in um-bridge so I'm setting it here\n",
    "beam_length = 1\n",
    "umbridge_config = {}\n",
    "\"\"\"DEBUG\n",
    "print(umbridge_config)\n",
    "print(model.get_input_sizes(umbridge_config))\n",
    "print(model.get_output_sizes(umbridge_config))\n",
    "print(distribution.d)\n",
    "\"\"\"\n",
    "\n",
    "import math\n",
    "from sklearn import gaussian_process as gp\n",
    "kernel = gp.kernels.Matern(length_scale = 0.5, nu=2.5)\n",
    "#nu controls smoothness, most efficient when in [0.5, 1.5, 2.5, inf]\n",
    "#0.5 = absolute exponential, 1.5 = once differentiable, 2.5 = twice, ~inf = RBF\n",
    "#length_scale controls \"peakiness\"/frequency, or correlation between points farther from each other\n",
    "\n",
    "def lump(t):\n",
    "    \"\"\" Model 1: fill with ones \"\"\"\n",
    "    tnp = np.array(t[0])\n",
    "    tnewnp = np.ones(output_dimension)\n",
    "    tnewnp[:len(tnp)] = tnp\n",
    "    #print(tnewnp.tolist())\n",
    "    return [tnewnp.tolist()]\n",
    "\n",
    "def lump_2(t):\n",
    "    \"\"\" Model 2: duplicating values \"\"\"\n",
    "    tnp = np.array(t[0])\n",
    "    tnewnp = np.ones(output_dimension)\n",
    "    if len(tnp) < output_dimension:\n",
    "        root = output_dimension // len(tnp)\n",
    "        for i in range(root + output_dimension % len(tnp)):\n",
    "            tnewnp[i] = tnp[0]\n",
    "        #len(tnp) * root + output_dimension % len(tnp) = len(tnp)\n",
    "        for j in range(1, len(tnp)):\n",
    "            for i in range(j * root + output_dimension % len(tnp), (j+1) * root + output_dimension % len(tnp)):\n",
    "                tnewnp[i] = tnp[j]\n",
    "    #print(tnewnp.tolist())\n",
    "    return [tnewnp.tolist()]\n",
    "\n",
    "E_variance = 0.01\n",
    "x_values = np.arange(float(output_dimension)) * beam_length/float(output_dimension - 1)\n",
    "def E_generator(*args):\n",
    "    \"\"\"Model 3: approximating/smushing continuous by returning distribution w/ multivariate, \n",
    "    Gaussian and Matern kernel\"\"\"\n",
    "    tnp = np.array([x_values]).T\n",
    "    #print(tnp)\n",
    "    covariances = kernel.__call__(tnp) #takes array of size (# samples) x (# data points)\n",
    "    #print(covariances)\n",
    "    average = np.full(output_dimension, (distribution.upper_bound + distribution.lower_bound) / 2)\n",
    "    #print(average)\n",
    "    sampler_out = sampler.spawn(1, [output_dimension])[0] #new version of sampler with 31 dimensions\n",
    "    return qp.Gaussian(sampler_out, average, E_variance * covariances, decomp_type = \"Cholesky\"), sampler_out\n",
    "\n",
    "weight_decay = 6\n",
    "dist_counter = 0\n",
    "def E_generator_2(t):\n",
    "    \"\"\"Model 4: Karhunen-Loeve approximation using Chebyshev polynomials\"\"\"\n",
    "    tnp = np.array(t[0])\n",
    "    tnewnp = np.zeros(output_dimension) #Y(t) = (X_1 ... X_d) W (\\phi_1(t) ... \\phi_d(t))^T\n",
    "    d = sampler_d #input dimension\n",
    "\n",
    "    for j in range(output_dimension): #t = x_values[j]\n",
    "        X = tnp #uniform iid from \"distribution\" sampled d times\n",
    "        W = np.zeros((d, d))\n",
    "        phi = np.zeros(d)\n",
    "        for i in range(1, d+1):\n",
    "            W[i-1][i-1] = 1.0 / (i ** weight_decay)\n",
    "            phi[i-1] = math.cos(i * x_values[j]) #Chebyshev polynomials\n",
    "        phi = np.array([phi]).T #transpose\n",
    "        tnewnp[j] = np.matmul(np.matmul(X, W), phi)\n",
    "    #print(tnewnp.tolist())\n",
    "    return [tnewnp.tolist()]\n",
    "\n",
    "#distribution_mul, sampler = E_generator() \n",
    "# ^ comment out if you don't want multivariate w/ Matern covariance (and set tf_input_to_umbridge_input = identity)\n",
    "integrand = qp.UMBridgeWrapper(distribution, model, umbridge_config, parallel=False, tf_input_to_umbridge_input = E_generator_2) # INTEGRAND"
   ]
  },
  {
   "cell_type": "code",
   "execution_count": 225,
   "id": "0a69d486-2849-4045-bd8f-eac96bdee9a7",
   "metadata": {},
   "outputs": [
    {
     "data": {
      "text/plain": [
       "[[1.0778328617969821,\n",
       "  1.0772004554838255,\n",
       "  1.0753041238730268,\n",
       "  1.0721465267928894,\n",
       "  1.0677320901093288,\n",
       "  1.0620669949927954,\n",
       "  1.0551591629692758,\n",
       "  1.0470182368319592,\n",
       "  1.037655557511025,\n",
       "  1.0270841370191108,\n",
       "  1.015318627609232,\n",
       "  1.0023752873000733,\n",
       "  0.9882719419405496,\n",
       "  0.973027944001176,\n",
       "  0.9566641282940364,\n",
       "  0.939202764835829,\n",
       "  0.9206675090795753,\n",
       "  0.9010833497499744,\n",
       "  0.8804765545250538,\n",
       "  0.8588746138126451,\n",
       "  0.836306182874272,\n",
       "  0.8128010225512823,\n",
       "  0.788389938848464,\n",
       "  0.7631047216290222,\n",
       "  0.7369780826716282,\n",
       "  0.7100435933354131,\n",
       "  0.6823356220722648,\n",
       "  0.6538892720177213,\n",
       "  0.6247403188822024,\n",
       "  0.59492514935341,\n",
       "  0.5644807002085526]]"
      ]
     },
     "execution_count": 225,
     "metadata": {},
     "output_type": "execute_result"
    }
   ],
   "source": [
    " #debug\n",
    "from sklearn import datasets as ds\n",
    "\"\"\"\n",
    "X, y = ds.load_iris(return_X_y=True)\n",
    "print(X)\n",
    "print(y)\n",
    "kernel.__call__(X)\n",
    "\"\"\"\n",
    "#kernel.__call__([[1.05], [1.02], [1.06], [1.04]])\n",
    "#E_generator([np.arange(31.0) * beam_length/31.0])\n",
    "#distribution.gen_samples(1)[0]\n",
    "#np.matmul([3, 2, 4], [[1], [2], [1]])\n",
    "E_generator_2([[1.06, 1.05, 1.04]])"
   ]
  },
  {
   "cell_type": "markdown",
   "id": "ca82b29b",
   "metadata": {},
   "source": [
    "## Model Evaluation"
   ]
  },
  {
   "cell_type": "code",
   "execution_count": 230,
   "id": "9b5e06c5",
   "metadata": {
    "tags": []
   },
   "outputs": [
    {
     "name": "stdout",
     "output_type": "stream",
     "text": [
      "(16, 3)\n",
      "(16, 31)\n",
      "<class 'numpy.ndarray'>\n",
      "float64\n",
      "[[    0.            72.18808031   279.34135007   612.41370675\n",
      "   1062.71452135  1621.89838665  2281.95540104  3035.20206546\n",
      "   3874.27360896  4792.11541536  5781.97573209  6837.40146996\n",
      "   7952.2352689   9120.61422663 10336.96873405 11596.02244098\n",
      "  12892.793363   14222.59702129 15581.04876444 16964.06565658\n",
      "  18367.86773955 19788.97909949 21224.22833101 22670.75027903\n",
      "  24125.98827817 25587.69837764 27053.95497074 28523.15789356\n",
      "  29994.04095425 31465.68218039 32937.51705819]\n",
      " [    0.            73.71069312   285.23277307   625.32909576\n",
      "   1085.12573699  1656.10148494  2330.07788077  3099.20988656\n",
      "   3955.97801266  4893.17953103  5903.92099914  6981.61393943\n",
      "   8119.97181359  9313.00869682 10555.03806497 11840.67273912\n",
      "  13164.82599867 14522.7147733  15909.86200542 17322.09857501\n",
      "  18755.56459095 20206.71048739 21672.29751034 23149.39951296\n",
      "  24635.40526364 26128.02278603 27625.28513835 29125.55769858\n",
      "  30627.54691661 32130.31082746 33633.27262773]\n",
      " [    0.            70.47169308   272.69937082   597.85196851\n",
      "   1037.44556436  1583.33335108  2227.69613116  2963.03341154\n",
      "   3782.15589319  4678.17708544  5644.50617254  6674.84389711\n",
      "   7763.17968046  8903.7903671  10091.23907544 11320.37515353\n",
      "  12586.33525033 13884.54637303 15210.72814897 16560.89466687\n",
      "  17931.35571017 19318.71780199 20719.88466513 22132.05893156\n",
      "  23552.74434048 24979.74987743 26411.19528783 27845.51802831\n",
      "  29281.48161881 30718.18567643 32155.0788757 ]\n",
      " [    0.            75.47431183   292.05747116   640.29144123\n",
      "   1111.09006237  1695.72829697  2385.83203579  3173.36854683\n",
      "   4050.63841828  5010.26656554  6045.19457989  7148.67630797\n",
      "   8314.27475669  9535.86073827 10807.61163056 12124.01132195\n",
      "  13479.85135228 14870.23418183 16290.5756106  17736.60674908\n",
      "  19204.37533999 20690.24688021 22190.9051181  23703.35389066\n",
      "  25224.91948581 26753.25508519 28286.34668092 29822.52053462\n",
      "  31360.4521389  32899.17698283 34438.10445483]\n",
      " [    0.            71.21681274   275.58289152   604.17388588\n",
      "   1048.41617684  1600.07675535  2251.25362955  2994.36683736\n",
      "   3822.15086857  4727.6462011   5704.19210239  6745.4224796\n",
      "   7845.26297919  8997.92972708 10197.9281749  11440.05306182\n",
      "  12719.38950275 14031.31608243 15371.50714391 16735.93465026\n",
      "  18120.86943007 19522.88223112 20938.84418112 22365.92850993\n",
      "  23801.61276401 25243.68298101 26690.23925164 28139.702733\n",
      "  29590.8240754  31042.6935468  32494.75411193]\n",
      " [    0.            72.72024763   281.40056392   616.92810409\n",
      "   1070.54813816  1633.85372087  2298.77590116  3057.57454925\n",
      "   3902.83062292  4827.43752846  5824.59377341  6887.79873301\n",
      "   8010.8496923   9187.84056353 10413.16071145 11681.49491751\n",
      "  12987.8244939  14327.43044584 15695.89581016 17089.10755733\n",
      "  18503.25786317 19934.8451838  21380.674724   22837.86019275\n",
      "  24303.82606019 25776.31181487 27253.37763592 28733.41154533\n",
      "  30215.13800142 31697.62822281 33180.31352622]\n",
      " [    0.            69.53702337   269.08287087   589.92370143\n",
      "   1023.68801864  1562.33680763  2198.15418746  2923.73865369\n",
      "   3731.99569678  4616.12955353  5569.63619307  6586.29928059\n",
      "   7660.18736     8785.65263775  9957.32986835 11170.13632779\n",
      "  12419.2728851  13700.22703138 15008.77511911 16340.98418192\n",
      "  17693.21314976 19062.11387398 20444.63157055 21838.00649258\n",
      "  23239.77608061 24647.77902393 26060.16067323 27475.37986641\n",
      "  28892.21713042 30309.78453552 31727.53842858]\n",
      " [    0.            74.45256167   288.10357115   631.6229871\n",
      "   1096.04766439  1672.77073603  2353.53154921  3130.40623538\n",
      "   3995.79975448  4942.43701659  5963.35532754  7051.90002129\n",
      "   8201.72140027  9406.77339283 10661.31232512 11959.89686226\n",
      "  13297.38913006 14668.95793663 16070.08115702 17496.54767667\n",
      "  18944.45869569 20410.22883725 21890.58664094 23382.57637871\n",
      "  24883.56038997 26391.22346995 27903.57871337 29418.97488071\n",
      "  30936.10524804 32454.01823801 33972.13114776]\n",
      " [    0.            72.24467268   279.55992265   612.89237978\n",
      "   1063.54463367  1623.16494048  2283.73746685  3037.57314869\n",
      "   3877.30198007  4795.86440596  5786.50399919  6842.76323022\n",
      "   7958.48050567  9127.7888726  10345.11483298 11605.17829202\n",
      "  12902.99365135 14233.87293917 15593.42812671 16977.57301517\n",
      "  18382.52450084 19804.80364877 21241.23616804 22688.95416923\n",
      "  24145.39842395 25608.32261547 27075.79899944 28546.22554004\n",
      "  30018.33448342 31491.20265648 32964.26476752]\n",
      " [    0.            74.205035     287.14594949   629.52378358\n",
      "   1092.40512558  1667.21155062  2345.70961064  3120.00145548\n",
      "   3982.51692291  4926.00470688  5943.52484465  7028.44438069\n",
      "   8174.43433312  9375.46837064 10625.82160143 11920.07052587\n",
      "  13253.09416405 14620.07727487 16016.51273762 17438.20349094\n",
      "  18881.2638316  20342.12051522 21817.51324092 23304.49645183\n",
      "  24800.44164999 26303.04175505 27810.31691013 29320.62180139\n",
      "  30832.65445238 32345.46678873 33858.47828385]\n",
      " [    0.            70.60097807   273.20018964   598.9505881\n",
      "   1039.35263851  1586.24431401  2231.79161546  2968.47969006\n",
      "   3789.10534674  4686.76869025  5654.86600862  6687.08568349\n",
      "   7777.40533756  8920.09060705 10109.69401624 11341.05495568\n",
      "  12609.3007743  13909.84985814 15238.41390573 16590.99977624\n",
      "  17963.9107225  19353.74742978 20757.40846273 22172.09195937\n",
      "  23595.29780932 25024.83177137 26458.81096204 27895.67077813\n",
      "  29334.17321537 30773.41686372 32212.84982476]\n",
      " [    0.            76.1260158    294.57910065   645.81942109\n",
      "   1120.68231275  1710.36742043  2406.42840457  3200.76329612\n",
      "   4085.60635855  5053.51900695  6097.38208081  7210.3913755\n",
      "   8386.05451139  9618.1895589  10900.92378106 12228.69357183\n",
      "  13596.24560204 14998.6401127  16431.25335294 17889.77956716\n",
      "  19370.23232899 20868.94567519 22382.57461087 23908.09696725\n",
      "  25442.81579024 26984.3638286  28530.70950995 30080.16447351\n",
      "  31631.39261953 33183.42097953 34735.65375256]\n",
      " [    0.            71.48971903   276.6388901    606.48890262\n",
      "   1052.43321178  1606.20718086  2259.87845417  3005.83793736\n",
      "   3836.79219252  4745.75494375  5726.03985255  6771.25635413\n",
      "   7875.30674782  9032.38493439 10236.97525969 11483.85247808\n",
      "  12768.08284625 14085.02723085 15430.34340672 16799.98792629\n",
      "  18190.21736986 19597.58940279 21018.96323689 22451.50135756\n",
      "  23892.6717444  25340.25205874 26792.33522283 28247.33645494\n",
      "  29704.00172206 31161.41789499 32619.02586765]\n",
      " [    0.            73.44301117   284.19710377   623.05881882\n",
      "   1081.18657916  1650.09022114  2321.62107279  3087.96265727\n",
      "   3941.62285038  4875.42512765  5882.50111706  6956.28629534\n",
      "   8090.51697415  9279.22897962 10516.75644429 11797.73175189\n",
      "  13117.08664612 14470.05541038 15852.17722106 17259.29806492\n",
      "  18687.57202526 20133.46237423 21593.74205776 23065.49548477\n",
      "  24546.12082776 26033.33434864 27525.17615939 29020.01748433\n",
      "  30516.56938537 32013.89324371 33511.414296  ]\n",
      " [    0.            69.89702555   270.47587422   592.97761663\n",
      "   1028.98752205  1570.42512956  2209.53483821  2938.877091\n",
      "   3751.32094223  4640.03575492  5598.48413974  6620.4178863\n",
      "   7699.87512038  8831.17907104 10008.9369414  11228.03987387\n",
      "  12483.66402033 13771.2735808  15086.62305055 16425.75904766\n",
      "  17785.02153518 19161.04485422 20550.75817458 21951.38718283\n",
      "  23360.45625293 24775.79254016 26195.53143586 27618.12344607\n",
      "  29042.34245678 30467.29566431 31892.43640487]\n",
      " [    0.            75.31731751   291.44991087   638.95932874\n",
      "   1108.7781936   1692.1994757   2380.86632671  3166.76255392\n",
      "   4042.20458552  4999.83250079  6032.60239915  7133.78199379\n",
      "   8296.94752786  9515.98242722 10785.07606752 12098.72372318\n",
      "  13451.72770945 14839.20064793 16256.56788302 17699.56944965\n",
      "  19164.26139214 20647.01688259 22144.52671455 23653.80113275\n",
      "  25172.17218543 26697.29815145 28227.16943647 29760.11600599\n",
      "  31294.81631527 32830.30803632 34366.00191222]]\n",
      "0.19849681854248047\n"
     ]
    }
   ],
   "source": [
    "start_time = time.time()\n",
    "x = sampler(16) # same as sampler.gen_samples(1024)\n",
    "#as sample size gets larger, since beams are i.i.d, Y should resemble a Gaussian process by the CLT\n",
    "print(x.shape) #prints (# of beams, input)\n",
    "\n",
    "y = integrand.f(x)\n",
    "print(y.shape) #prints (# of beams, output)\n",
    "print(type(y))\n",
    "print(y.dtype)\n",
    "print(y)\n",
    "\n",
    "#time in seconds\n",
    "end_time = time.time()\n",
    "print(end_time - start_time)"
   ]
  },
  {
   "cell_type": "markdown",
   "id": "eee7c1a0",
   "metadata": {},
   "source": [
    "## Automatically Approximate the Expectation"
   ]
  },
  {
   "cell_type": "code",
   "execution_count": 231,
   "id": "5de294a4",
   "metadata": {},
   "outputs": [
    {
     "name": "stdout",
     "output_type": "stream",
     "text": [
      "[17.89504385]\n",
      "LDTransformData (AccumulateData Object)\n",
      "    solution        [    0.       72.68    281.244 ... 30198.851 31680.562 33162.467]\n",
      "    comb_bound_low  [    0.       72.68    281.243 ... 30198.784 31680.492 33162.394]\n",
      "    comb_bound_high [    0.       72.68    281.245 ... 30198.917 31680.631 33162.54 ]\n",
      "    comb_flags      [ True  True  True ...  True  True  True]\n",
      "    n_total         2^(10)\n",
      "    n               [1024. 1024. 1024. ... 1024. 1024. 1024.]\n",
      "    time_integrate  17.886\n",
      "CubQMCNetG (StoppingCriterion Object)\n",
      "    abs_tol         10\n",
      "    rel_tol         0\n",
      "    n_init          2^(10)\n",
      "    n_max           2^(35)\n",
      "UMBridgeWrapper (Integrand Object)\n",
      "Uniform (TrueMeasure Object)\n",
      "    lower_bound     1\n",
      "    upper_bound     1.100\n",
      "DigitalNetB2 (DiscreteDistribution Object)\n",
      "    d               3\n",
      "    dvec            [0 1 2]\n",
      "    randomize       LMS_DS\n",
      "    graycode        0\n",
      "    entropy         7\n",
      "    spawn_key       ()\n"
     ]
    },
    {
     "data": {
      "text/plain": [
       "33162.394244948715"
      ]
     },
     "execution_count": 231,
     "metadata": {},
     "output_type": "execute_result"
    }
   ],
   "source": [
    "runs = 1\n",
    "times = np.zeros(runs)\n",
    "for i in range(runs):\n",
    "    start_time = time.time()\n",
    "    qmc_stop_crit = qp.CubQMCNetG(integrand,abs_tol = 10) # QMC STOPPING CRITERION\n",
    "    #relevant adjustable criteria: tolerance, ptransform (when stopping criteria = lattice)\n",
    "    #takes ~6 seconds when abs tol >= 0.25, ~12 seconds at tol=0.025\n",
    "    solution,data = qmc_stop_crit.integrate()\n",
    "    end_time = time.time()\n",
    "    times[i] = end_time - start_time\n",
    "    \n",
    "#print(end_time - start_time)\n",
    "print(times)\n",
    "print(data)\n",
    "data.comb_bound_low[-1]"
   ]
  },
  {
   "cell_type": "code",
   "execution_count": 232,
   "id": "8f3a5e78",
   "metadata": {},
   "outputs": [
    {
     "data": {
      "image/png": "[encoded data removed]",
      "text/plain": [
       "<Figure size 600x300 with 1 Axes>"
      ]
     },
     "metadata": {},
     "output_type": "display_data"
    }
   ],
   "source": [
    "from matplotlib import pyplot\n",
    "pyplot.style.use('../../../../qmcpy.mplstyle') #may need to be changed to find path to document in QMCSoftware folder\n",
    "fig,ax = pyplot.subplots(figsize=(6,3))\n",
    "ax.plot(x_values, solution,'-o')\n",
    "ax.plot(x_values, data.comb_bound_low,'-o')\n",
    "ax.plot(x_values, data.comb_bound_high,'-o')\n",
    "ax.set_xlim([0,1]); ax.set_xlabel(r'$x$') #[0,len(solution)-1]\n",
    "ax.set_ylim([max(solution), min(solution)]);  ax.set_ylabel(r'$u(x)$');"
   ]
  },
  {
   "cell_type": "markdown",
   "id": "80a0b560",
   "metadata": {},
   "source": [
    "## Parallel Evaluation"
   ]
  },
  {
   "cell_type": "markdown",
   "id": "041ce829",
   "metadata": {},
   "source": [
    "QMCPy can automatically multi-threaded requests to the model by setting `parallel=p` where `p` is the number of processors used by [multiprocessing.pool.ThreadPool](https://docs.python.org/3/library/multiprocessing.html#multiprocessing.pool.ThreadPool). Setting `parallel=True` is equivalent to setting `paralle=os.cpu_count()`."
   ]
  },
  {
   "cell_type": "code",
   "execution_count": 27,
   "id": "ec0b7fce",
   "metadata": {},
   "outputs": [
    {
     "name": "stdout",
     "output_type": "stream",
     "text": [
      "Available CPUs: 8\n"
     ]
    }
   ],
   "source": [
    "import os\n",
    "print('Available CPUs: %d'%os.cpu_count())"
   ]
  },
  {
   "cell_type": "code",
   "execution_count": 234,
   "id": "355a7dbf",
   "metadata": {},
   "outputs": [
    {
     "data": {
      "text/plain": [
       "LDTransformData (AccumulateData Object)\n",
       "    solution        [    0.       72.68    281.244 ... 30198.851 31680.562 33162.467]\n",
       "    comb_bound_low  [    0.       72.68    281.243 ... 30198.784 31680.492 33162.394]\n",
       "    comb_bound_high [    0.       72.68    281.245 ... 30198.917 31680.631 33162.54 ]\n",
       "    comb_flags      [ True  True  True ...  True  True  True]\n",
       "    n_total         2^(10)\n",
       "    n               [1024. 1024. 1024. ... 1024. 1024. 1024.]\n",
       "    time_integrate  10.082\n",
       "CubQMCNetG (StoppingCriterion Object)\n",
       "    abs_tol         10\n",
       "    rel_tol         0\n",
       "    n_init          2^(10)\n",
       "    n_max           2^(35)\n",
       "UMBridgeWrapper (Integrand Object)\n",
       "Uniform (TrueMeasure Object)\n",
       "    lower_bound     1\n",
       "    upper_bound     1.100\n",
       "DigitalNetB2 (DiscreteDistribution Object)\n",
       "    d               3\n",
       "    dvec            [0 1 2]\n",
       "    randomize       LMS_DS\n",
       "    graycode        0\n",
       "    entropy         7\n",
       "    spawn_key       ()"
      ]
     },
     "execution_count": 234,
     "metadata": {},
     "output_type": "execute_result"
    }
   ],
   "source": [
    "integrand = qp.UMBridgeWrapper(distribution,model,umbridge_config,parallel=8,tf_input_to_umbridge_input = E_generator_2)\n",
    "solution,data = qp.CubQMCNetG(integrand,abs_tol=10).integrate()\n",
    "data"
   ]
  },
  {
   "cell_type": "markdown",
   "id": "d9154d0f",
   "metadata": {},
   "source": [
    "## Shut Down Docker Image"
   ]
  },
  {
   "cell_type": "code",
   "execution_count": 239,
   "id": "3ff8373a",
   "metadata": {},
   "outputs": [
    {
     "name": "stdout",
     "output_type": "stream",
     "text": [
      "muqbp_new\n"
     ]
    }
   ],
   "source": [
    "!docker rm -f muqbp_new"
   ]
  },
  {
   "cell_type": "markdown",
   "id": "142e61cb",
   "metadata": {},
   "source": []
  },
  {
   "cell_type": "code",
   "execution_count": null,
   "id": "50990183-02ab-44bc-9aa2-2fa4aa97f492",
   "metadata": {},
   "outputs": [],
   "source": []
  }
 ],
 "metadata": {
  "kernelspec": {
   "display_name": "Python 3 (ipykernel)",
   "language": "python",
   "name": "python3"
  },
  "language_info": {
   "codemirror_mode": {
    "name": "ipython",
    "version": 3
   },
   "file_extension": ".py",
   "mimetype": "text/x-python",
   "name": "python",
   "nbconvert_exporter": "python",
   "pygments_lexer": "ipython3",
   "version": "3.10.10"
  }
 },
 "nbformat": 4,
 "nbformat_minor": 5
}
