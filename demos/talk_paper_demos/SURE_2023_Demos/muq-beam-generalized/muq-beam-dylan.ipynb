{
 "cells": [
  {
   "cell_type": "markdown",
   "id": "9b09667a",
   "metadata": {},
   "source": [
    "# UM-Bridge with QMCPy\n",
    "\n",
    "Using QMCPy to evaluate the [UM-Bridge Cantilever Beam Function](https://um-bridge-benchmarks.readthedocs.io/en/docs/forward-benchmarks/muq-beam-propagation.html) and approximate the expectation with respect to a uniform random variable. "
   ]
  },
  {
   "cell_type": "markdown",
   "id": "b0e7ef4d",
   "metadata": {},
   "source": [
    "## Imports"
   ]
  },
  {
   "cell_type": "code",
   "execution_count": 1,
   "id": "16a1dbd2",
   "metadata": {
    "tags": []
   },
   "outputs": [],
   "source": [
    "import umbridge\n",
    "import numpy as np\n",
    "import time\n",
    "#import docker\n",
    "\n",
    "#the module needs to be local if any changes have been made locally\n",
    "#uncomment line below to make local qmcpy the import (only need to be done once per session and can be commented out\n",
    "#import sys\n",
    "#sys.path.insert(0, '../../../../..') #may need to be changed to find correct path to QMCSoftware folder\n",
    "\n",
    "#prints paths available on local system\n",
    "#for p in sys.path:\n",
    "#    print(p)\n",
    "\n",
    "import qmcpy as qp #non local module import\n",
    "#from QMCSoftware import qmcpy as qp #local module import"
   ]
  },
  {
   "cell_type": "markdown",
   "id": "5c6b10d3",
   "metadata": {},
   "source": [
    "## Start Docker Container\n",
    "\n",
    "See the [UM-Bridge Documentation](https://um-bridge-benchmarks.readthedocs.io/en/docs/index.html) for image options. "
   ]
  },
  {
   "cell_type": "code",
   "execution_count": 35,
   "id": "65ea4b9e",
   "metadata": {
    "tags": []
   },
   "outputs": [
    {
     "name": "stdout",
     "output_type": "stream",
     "text": [
      "^C\n",
      "^C\n"
     ]
    }
   ],
   "source": [
    "!docker rm -f muqbp_new\n",
    "!docker run --name muqbp_new -it -d -p 4242:4242 linusseelinger/model-muq-beam:latest\n",
    "#!docker run --name muqbp_new -d -p 4242:4242 my-build\n",
    "#https://stackoverflow.com/questions/43099116/error-the-input-device-is-not-a-tty\n",
    "#running locally"
   ]
  },
  {
   "cell_type": "markdown",
   "id": "49ae9a2e",
   "metadata": {},
   "source": [
    "## Problem Setup"
   ]
  },
  {
   "cell_type": "markdown",
   "id": "f2f49293",
   "metadata": {},
   "source": [
    "Initialize a QMCPy sampler and distribution."
   ]
  },
  {
   "cell_type": "code",
   "execution_count": 39,
   "id": "a90b8ab5",
   "metadata": {
    "tags": []
   },
   "outputs": [],
   "source": [
    "sampler_d = 9\n",
    "sampler = qp.Lattice(dimension = sampler_d,seed=7) # DISCRETE DISTRIBUTION, default = 3\n",
    "distribution = qp.Uniform(sampler,lower_bound=1,upper_bound=1.2) # TRUE MEASURE"
   ]
  },
  {
   "cell_type": "markdown",
   "id": "12525f56",
   "metadata": {},
   "source": [
    "Initialize a UM-Bridge model and wrap it into a QMCPy compatible Integrand"
   ]
  },
  {
   "cell_type": "code",
   "execution_count": 50,
   "id": "2b35f5f4",
   "metadata": {
    "tags": []
   },
   "outputs": [],
   "source": [
    "model = umbridge.HTTPModel('http://localhost:4242', 'forward')\n",
    "output_dimension = 31 #can't find where 31 is in um-bridge so I'm setting it here\n",
    "beam_length = 1\n",
    "umbridge_config = {}\n",
    "\"\"\"DEBUG\n",
    "print(umbridge_config)\n",
    "print(model.get_input_sizes(umbridge_config))\n",
    "print(model.get_output_sizes(umbridge_config))\n",
    "print(distribution.d)\n",
    "\"\"\"\n",
    "\n",
    "import math\n",
    "from sklearn import gaussian_process as gp\n",
    "kernel = gp.kernels.Matern(length_scale = 0.5, nu=2.5)\n",
    "#nu controls smoothness, most efficient when in [0.5, 1.5, 2.5, inf]\n",
    "#0.5 = absolute exponential, 1.5 = once differentiable, 2.5 = twice, ~inf = RBF\n",
    "#length_scale controls \"peakiness\"/frequency, or correlation between points farther from each other\n",
    "\n",
    "def lump(t):\n",
    "    \"\"\" Model 1: fill with ones \"\"\"\n",
    "    tnp = np.array(t[0])\n",
    "    tnewnp = np.ones(output_dimension)\n",
    "    tnewnp[:len(tnp)] = tnp\n",
    "    #print(tnewnp.tolist())\n",
    "    return [tnewnp.tolist()]\n",
    "\n",
    "def lump_2(t):\n",
    "    \"\"\" Model 2: duplicating values \"\"\"\n",
    "    tnp = np.array(t[0])\n",
    "    tnewnp = np.ones(output_dimension)\n",
    "    if len(tnp) < output_dimension:\n",
    "        root = output_dimension // len(tnp)\n",
    "        for i in range(root + output_dimension % len(tnp)):\n",
    "            tnewnp[i] = tnp[0]\n",
    "        #len(tnp) * root + output_dimension % len(tnp) = len(tnp)\n",
    "        for j in range(1, len(tnp)):\n",
    "            for i in range(j * root + output_dimension % len(tnp), (j+1) * root + output_dimension % len(tnp)):\n",
    "                tnewnp[i] = tnp[j]\n",
    "    #print(tnewnp.tolist())\n",
    "    return [tnewnp.tolist()]\n",
    "\n",
    "E_variance = 0.01\n",
    "x_values = np.arange(float(output_dimension)) * beam_length/float(output_dimension - 1)\n",
    "def E_generator(*args):\n",
    "    \"\"\"Model 3: approximating/smushing continuous by returning distribution w/ multivariate, \n",
    "    Gaussian and Matern kernel\n",
    "    \n",
    "    Return:\n",
    "        distribution: a multivariate Gaussian distribution for output_dimension samples\n",
    "        sampler_out: a new version of sampler with 31 dimensions\"\"\"\n",
    "    tnp = np.array([x_values]).T\n",
    "    #print(tnp)\n",
    "    covariances = kernel.__call__(tnp) #takes array of size (# samples) x (# data points)\n",
    "    #print(covariances)\n",
    "    average = np.full(output_dimension, (distribution.upper_bound + distribution.lower_bound) / 2)\n",
    "    #print(average)\n",
    "    sampler_out = sampler.spawn(1, [output_dimension])[0] #new version of sampler with 31 dimensions\n",
    "    return qp.Gaussian(sampler_out, average, E_variance * covariances, decomp_type = 'PCA'), sampler_out\n",
    "\n",
    "weight_decay = 5\n",
    "wiggly_ness = 0.1 #not sure if this is the constant that I want\n",
    "def E_generator_2(t, weight_decay = 5, wiggly_ness = 0.1, output_dimension = 31):\n",
    "    \"\"\"\n",
    "    Model 4: Karhunen-Loeve approximation using Chebyshev polynomials\n",
    "    \n",
    "    Args:\n",
    "        t: n x d_i (input dimension) array of samples\n",
    "    Return:\n",
    "        tnewnp: n x d_o (output dimension) array of samples\"\"\"\n",
    "    tnp = np.array(t[0])\n",
    "    tnewnp = np.zeros(output_dimension) #Y(t) = (X_1 ... X_d) W (\\phi_1(t) ... \\phi_d(t))^T\n",
    "    d = sampler_d #input dimension\n",
    "    X = tnp #d samples, uniform iid from \"distribution\"\n",
    "    W = np.zeros((d, d))\n",
    "    for i in range(d):\n",
    "        W[i][i] = wiggly_ness / ((i+1) ** weight_decay)\n",
    "\n",
    "    for j in range(output_dimension): #t = x_values[j]\n",
    "        phi = np.zeros(d)\n",
    "        for i in range(1, d+1):\n",
    "            #ax+b where a = 2/(u-l), b = 1 - 2u/(u-l)\n",
    "            #print(2 * x_values[j] - 1)\n",
    "            phi[i-1] = math.cos(i * math.acos(2 * x_values[j] - 1)) #Chebyshev polynomials from [0, 1]\n",
    "        phi = np.array([phi]).T #transpose\n",
    "        tnewnp[j] = np.matmul(np.matmul(X, W), phi)\n",
    "        tnewnp[j] += (distribution.lower_bound + distribution.upper_bound) / 2\n",
    "    #print(tnewnp.tolist())\n",
    "    #print(sum(tnewnp)/len(tnewnp))\n",
    "    return [tnewnp.tolist()]\n",
    "\n",
    "def default(t): \n",
    "    \"\"\"For testing analytical model with constant modulus\"\"\"\n",
    "    return [np.full(output_dimension, (distribution.upper_bound + distribution.lower_bound) / 2).tolist()]\n",
    "    \n",
    "#distribution_mul, sampler = E_generator() \n",
    "# ^ comment out if you don't want multivariate w/ Matern covariance (and set tf_input_to_umbridge_input = identity)\n",
    "#integrand = qp.UMBridgeWrapper(distribution_mul, model, umbridge_config, parallel=False, tf_input_to_umbridge_input = lambda t: t) # INTEGRAND\n",
    "integrand = qp.UMBridgeWrapper(distribution, model, umbridge_config, parallel=False, tf_input_to_umbridge_input = E_generator_2) # INTEGRAND"
   ]
  },
  {
   "cell_type": "code",
   "execution_count": 51,
   "id": "0a69d486-2849-4045-bd8f-eac96bdee9a7",
   "metadata": {},
   "outputs": [
    {
     "data": {
      "text/plain": [
       "[0.9930534870356988,\n",
       " 0.9996905963479528,\n",
       " 1.006361770277187,\n",
       " 1.0130701676515668,\n",
       " 1.0198168874580802,\n",
       " 1.0266023083751326,\n",
       " 1.0334268059937457,\n",
       " 1.040291053855695,\n",
       " 1.0471960705594592,\n",
       " 1.0541431359393267,\n",
       " 1.061133664709442,\n",
       " 1.0681690959829462,\n",
       " 1.0752508317267053,\n",
       " 1.0823802364943953,\n",
       " 1.089558694694949,\n",
       " 1.0967877101995482,\n",
       " 1.104069026268486,\n",
       " 1.1114047415892938,\n",
       " 1.1187974006595784,\n",
       " 1.1262500438219853,\n",
       " 1.1337662139646503,\n",
       " 1.141349933238377,\n",
       " 1.149005684111626,\n",
       " 1.1567384546861794,\n",
       " 1.164553938430082,\n",
       " 1.1724590133501598,\n",
       " 1.1804626651240375,\n",
       " 1.1885775628411814,\n",
       " 1.1968225447640257,\n",
       " 1.2052263249137327,\n",
       " 1.213832789310576]"
      ]
     },
     "execution_count": 51,
     "metadata": {},
     "output_type": "execute_result"
    }
   ],
   "source": [
    " #debug\n",
    "from sklearn import datasets as ds\n",
    "\"\"\"\n",
    "X, y = ds.load_iris(return_X_y=True)\n",
    "print(X)\n",
    "print(y)\n",
    "kernel.__call__(X)\n",
    "\"\"\"\n",
    "#kernel.__call__([[1.05], [1.02], [1.06], [1.04]])\n",
    "#E_generator([np.arange(31.0) * beam_length/31.0])\n",
    "#distribution.gen_samples(1)[0]\n",
    "#np.matmul([3, 2, 4], [[1], [2], [1]])\n",
    "E_generator_2([np.random.rand(9) * (distribution.upper_bound - distribution.lower_bound) + distribution.lower_bound])[0]"
   ]
  },
  {
   "cell_type": "markdown",
   "id": "ca82b29b",
   "metadata": {},
   "source": [
    "## Model Evaluation"
   ]
  },
  {
   "cell_type": "code",
   "execution_count": 52,
   "id": "9b5e06c5",
   "metadata": {
    "tags": []
   },
   "outputs": [
    {
     "name": "stdout",
     "output_type": "stream",
     "text": [
      "(16, 9)\n",
      "(16, 31)\n",
      "<class 'numpy.ndarray'>\n",
      "float64\n",
      "[[    0.            45.43411828   175.6544447    384.79614711\n",
      "    667.21106191  1017.46583295  1430.34005438  1900.82443017\n",
      "   2424.11974945  2995.63431597  3610.98204463  4265.98294834\n",
      "   4956.66415279  5679.26175961  6430.22205517  7206.20298511\n",
      "   8004.07584684  8820.92790067  9654.06340789 10501.00347468\n",
      "  11359.48460091 12227.45633059 13103.077747   13984.71422728\n",
      "  14870.93385538 15760.5044682  16652.39083976 17545.75195923\n",
      "  18439.93829071 19334.48908625 20229.13030714]\n",
      " [    0.            45.3341615    175.24684746   383.86810865\n",
      "    665.5472722   1014.85091174  1426.56076642  1895.6716554\n",
      "   2417.39021116  2987.13206658  3600.51972606  4253.38285007\n",
      "   4941.75908009  5661.89572316  6410.25078848  7183.49429722\n",
      "   7978.50981654  8792.39691735  9622.47206407 10466.26831699\n",
      "  11321.53374794 12186.22896655 13058.5235018  13936.79244963\n",
      "  14819.61278705 15705.76032319 16594.20679327 17484.11705131\n",
      "  18374.8462499  19265.93707808 20157.11760827]\n",
      " [    0.            45.38020702   175.43719001   384.30535039\n",
      "    666.33664107  1016.09869101  1428.37290281  1898.15254812\n",
      "   2420.64167148  2991.2524394   3605.60315811  4259.51868721\n",
      "   4949.0313829   5670.3828908   6420.02528401  7194.62246698\n",
      "   7991.05179734  8806.40662588  9637.99726328 10483.35075422\n",
      "  11340.20935881 12206.52813923 13080.47139581 13960.40936566\n",
      "  14844.91458385 15732.75887975 16622.91051438 17514.53141432\n",
      "  18406.97439079 19299.78041512 20192.6765036 ]\n",
      " [    0.            45.25699421   174.94365473   383.19571206\n",
      "    664.36828855  1013.03383086  1423.98001998  1892.20768888\n",
      "   2412.9295638   2981.56745194  3593.75011034  4245.31352788\n",
      "   4932.30174195  5650.96850937  6397.77832191  7169.40768938\n",
      "   7962.74664171  8774.90114978  9603.19397251 10445.16431252\n",
      "  11298.56618266 12161.36588173 13031.73832584 13908.06364534\n",
      "  14788.92344909 15673.09772476 16559.56188217 17447.48389541\n",
      "  18336.22143255 19225.31904359 20114.50595566]\n",
      " [    0.            45.3980598    175.51172563   384.47776219\n",
      "    666.64980931  1016.59656464  1429.09992776  1899.15313945\n",
      "   2421.95972885  2992.93090964  3607.68364458  4262.04110443\n",
      "   4952.0336564   5673.90070245  6424.09186325  7199.26842853\n",
      "   7996.30502563  8812.29220705  9644.53746434 10490.56504792\n",
      "  11348.11449172 12215.13823987 13089.79811847 13970.46206656\n",
      "  14855.70052539 15744.28345989 16635.17751754 17527.54328062\n",
      "  18420.73249999 19314.28538194 20207.92848176]\n",
      " [    0.            45.29220783   175.08344994   383.50804986\n",
      "    664.91937658  1013.8878142   1425.19871908  1893.85038281\n",
      "   2415.05281158  2984.22494725  3596.99256311  4249.18856663\n",
      "   4936.85383505  5656.23890502  6403.80500853  7176.22537779\n",
      "   7970.38677051  8783.39191498  9612.5603829  10455.42827125\n",
      "  11309.74659474 12173.47878699 13044.79705621 13922.07900612\n",
      "  14803.90392352 15689.04970238 16576.48991131 17465.39096004\n",
      "  18355.1092539  19245.18840701 20135.35706422]\n",
      " [    0.            45.34518486   175.29754729   383.99236004\n",
      "    665.78289289  1015.23851788  1427.14276678  1896.49137614\n",
      "   2418.49113781  2988.55719262  3602.310996    4255.58068622\n",
      "   4944.40198661  5665.01996243  6413.89012649  7187.67981445\n",
      "   7983.26978125  8797.75671805  9628.45419688 10472.89242315\n",
      "  11328.81669599 12194.1849738  13067.16428939 13946.12742712\n",
      "  14829.64926221 15716.50373414 16605.66096    17496.28444385\n",
      "  18387.72827052 19279.53435509 20171.43030023]\n",
      " [    0.            45.2463406    174.89430714   383.07437892\n",
      "    664.13771402  1012.65392545  1423.40885778  1891.40238446\n",
      "   2411.84703874  2980.16509626  3591.98634709  4243.14828989\n",
      "   4929.69686746  5647.88806265  6394.18884396  7165.27838359\n",
      "   7958.0494985   8769.61101354  9597.28855481 10438.62415595\n",
      "  11291.37457998 12153.5087555  13023.204074   13898.84295706\n",
      "  14779.00909556 15662.48432805 16548.24566535 17435.46241672\n",
      "  18323.49330602 19211.8836484  20100.3631352 ]\n",
      " [    0.            45.42817096   175.62797554   384.7322331\n",
      "    667.09085154  1017.26900686  1430.04529072  1900.40984868\n",
      "   2423.56331818  2994.91421026  3610.07695529  4264.87234014\n",
      "   4955.32847587  5677.6826173   6428.38233226  7204.08694024\n",
      "   8001.6691725   8818.2177535   9651.03841194 10497.65370031\n",
      "  11355.80152178 12223.43276128 13098.70776396 13979.99307502\n",
      "  14865.85784023 15755.07084089 16646.59766854 17539.59799461\n",
      "  18433.42282317 19327.61179792 20221.89111782]\n",
      " [    0.            45.29786111   175.10889465   383.56979159\n",
      "    665.03584066  1014.07889747  1425.48534394  1894.25406572\n",
      "   2415.59525902  2984.9276919   3597.8766471   4250.2742743\n",
      "   4938.16047525  5657.78464017  6405.60672664  7178.29860261\n",
      "   7972.74560518  8786.04901545  9615.52695731 10458.71410243\n",
      "  11313.36008318 12177.42701213 13049.08585372 13926.71305979\n",
      "  14808.88686985 15694.38424656 16582.1779529  17471.4337269\n",
      "  18361.50744288 19251.94233016 20142.46680019]\n",
      " [    0.            45.37450489   175.41128035   384.24225884\n",
      "    666.21750235  1015.90326711  1428.08004535  1897.74061101\n",
      "   2420.08887954  2990.53721542  3604.70441038  4258.41605915\n",
      "   4947.70546453  5668.81539246  6418.19917254  7192.52206593\n",
      "   7988.66285309  8803.71634201  9634.9943062  10480.02523302\n",
      "  11336.55278274 12202.53335545 13076.13251037 13955.72164967\n",
      "  14839.8743669  15727.36343207 16617.15791938 17508.42043317\n",
      "  18400.50432038 19292.95094058 20185.48754566]\n",
      " [    0.            45.25145804   174.91857634   383.13467446\n",
      "    664.25295627  1012.84442088  1423.69575086  1891.8072027\n",
      "   2412.39131519  2980.87005753  3592.87265545  4244.23582954\n",
      "   4931.00456795  5649.43375446  6395.98914303  7167.34860274\n",
      "   7960.40358463  8772.26151047  9600.24659114 10441.89945705\n",
      "  11294.97550288 12157.44234472 13027.4761359  13903.45815059\n",
      "  14783.97103662 15667.79570563 16553.90836728 17441.47766325\n",
      "  18329.8617898  19218.60567981 20107.43879256]\n",
      " [    0.            45.39229513   175.48562368   384.41429543\n",
      "    666.53004738  1016.40018725  1428.80569509  1898.73931703\n",
      "   2421.40446607  2992.21257105  3606.781096    4260.9339572\n",
      "   4950.70247214  5672.32716093  6422.25889524  7197.16031549\n",
      "   7993.90746789  8809.59236164  9641.52395434 10487.22794521\n",
      "  11344.44527589 12211.1297359  13085.44441645 13965.75842606\n",
      "  14850.6432672  15738.86984713 16629.40562786 17521.41187087\n",
      "  18414.24086436 19307.43320432 20200.71568253]\n",
      " [    0.            45.28692207   175.05874917   383.44704239\n",
      "    664.80313455  1013.69600413  1424.91013663  1893.44340264\n",
      "   2414.50576651  2983.51644819  3596.10176983  4248.09541676\n",
      "   4935.53923534  5654.68488723  6401.99485133  7174.14369626\n",
      "   7968.01957485  8780.72664032  9609.58589268 10452.13483695\n",
      "  11306.12585485 12169.52368784 13040.50177708 13917.43887016\n",
      "  14798.91529611 15683.70987775 16570.79698857 17459.34371016\n",
      "  18348.7069792  19238.43079473 20128.24403529]\n",
      " [    0.            45.33991829   175.27253266   383.93029967\n",
      "    665.66452484  1015.04327386  1426.84929462  1896.07796553\n",
      "   2417.93607503  2987.8390596   3601.40892473  4254.47457598\n",
      "   4943.07268802  5663.44943056  6412.06154412  7185.57768629\n",
      "   7980.87999957  8795.06660028  9625.45249634 10469.56931439\n",
      "  11325.16373706 12190.19504781 13062.83152833 13941.44712006\n",
      "  14824.61775044 15711.11829489 16599.91968052 17490.18608713\n",
      "  18381.27213412 19272.72012414 20164.25789518]\n",
      " [    0.            45.20976426   174.75653457   382.77782604\n",
      "    663.63072466  1011.88991761  1422.34564406  1890.00161927\n",
      "   2410.07376447  2977.98736877  3589.37492798  4240.07639726\n",
      "   4926.13997594  5643.82374492  6389.5966451   7160.13972122\n",
      "   7952.34758218  8763.3307781   9590.41660151 10431.14869669\n",
      "  11283.2853802  12144.79707233 13013.8625866  13888.86568644\n",
      "  14768.39131161 15651.22244165 16536.33710379 17422.90548132\n",
      "  18310.28701131 19198.02754246 20085.85710063]]\n",
      "0.2504880428314209\n"
     ]
    }
   ],
   "source": [
    "start_time = time.time()\n",
    "x = sampler(16) # same as sampler.gen_samples(1024)\n",
    "#as sample size gets larger, since beams are i.i.d, Y should resemble a Gaussian process by the CLT\n",
    "print(x.shape) #prints (# of beams, input)\n",
    "\n",
    "y = integrand.f(x)\n",
    "print(y.shape) #prints (# of beams, output)\n",
    "print(type(y))\n",
    "print(y.dtype)\n",
    "print(y)\n",
    "\n",
    "#time in seconds\n",
    "end_time = time.time()\n",
    "print(end_time - start_time)"
   ]
  },
  {
   "cell_type": "markdown",
   "id": "eee7c1a0",
   "metadata": {},
   "source": [
    "## Automatically Approximate the Expectation"
   ]
  },
  {
   "cell_type": "code",
   "execution_count": 53,
   "id": "5de294a4",
   "metadata": {},
   "outputs": [
    {
     "name": "stdout",
     "output_type": "stream",
     "text": [
      "[11.65466118]\n",
      "LDTransformData (AccumulateData Object)\n",
      "    solution        [    0.       45.332   175.242 ... 18378.211 19269.504 20160.888]\n",
      "    comb_bound_low  [    0.       45.332   175.242 ... 18378.205 19269.499 20160.882]\n",
      "    comb_bound_high [    0.       45.332   175.242 ... 18378.216 19269.51  20160.894]\n",
      "    comb_flags      [ True  True  True ...  True  True  True]\n",
      "    n_total         2^(10)\n",
      "    n               [1024. 1024. 1024. ... 1024. 1024. 1024.]\n",
      "    time_integrate  11.654\n",
      "CubQMCLatticeG (StoppingCriterion Object)\n",
      "    abs_tol         6\n",
      "    rel_tol         0\n",
      "    n_init          2^(10)\n",
      "    n_max           2^(35)\n",
      "UMBridgeWrapper (Integrand Object)\n",
      "Uniform (TrueMeasure Object)\n",
      "    lower_bound     1\n",
      "    upper_bound     1.200\n",
      "Lattice (DiscreteDistribution Object)\n",
      "    d               9\n",
      "    dvec            [0 1 2 3 4 5 6 7 8]\n",
      "    randomize       1\n",
      "    order           natural\n",
      "    gen_vec         [     1 182667 469891 498753 110745 446247 250185 118627 245333]\n",
      "    entropy         7\n",
      "    spawn_key       ()\n",
      "[1024.]\n"
     ]
    }
   ],
   "source": [
    "runs = 1\n",
    "times = np.zeros(runs)\n",
    "last_n = np.zeros(runs)\n",
    "for i in range(runs):\n",
    "    start_time = time.time()\n",
    "    qmc_stop_crit = qp.CubQMCLatticeG(integrand,abs_tol = 6, ptransform = 'Baker') # QMC STOPPING CRITERION\n",
    "    #relevant adjustable criteria: tolerance, ptransform (when stopping criteria = lattice)\n",
    "    #takes ~6 seconds when abs tol >= 0.25, ~12 seconds at tol=0.025\n",
    "    solution,data = qmc_stop_crit.integrate()\n",
    "    end_time = time.time()\n",
    "    times[i] = end_time - start_time\n",
    "    last_n[i] = data.n[-1]\n",
    "    \n",
    "#print(end_time - start_time)\n",
    "print(times)\n",
    "print(data)\n",
    "print(last_n)\n",
    "#data.comb_bound_low[-1]"
   ]
  },
  {
   "cell_type": "code",
   "execution_count": 67,
   "id": "9ed2dcda-d447-4c7e-9aa6-b917016da436",
   "metadata": {},
   "outputs": [
    {
     "name": "stdout",
     "output_type": "stream",
     "text": [
      "LDTransformData (AccumulateData Object)\n",
      "    solution        [    0.      864.804  3467.38  ... 32382.438 33626.715 34871.028]\n",
      "    comb_bound_low  [    0.      732.775  2931.142 ... 24309.535 25247.2   26184.9  ]\n",
      "    comb_bound_high [    0.      996.834  4003.617 ... 40455.341 42006.231 43557.156]\n",
      "    comb_flags      [ True  True  True ...  True  True  True]\n",
      "    n_total         2^(12)\n",
      "    n               [1024. 1024. 1024. ... 4096. 4096. 4096.]\n",
      "    time_integrate  52.042\n",
      "CubQMCLatticeG (StoppingCriterion Object)\n",
      "    abs_tol         10000\n",
      "    rel_tol         0\n",
      "    n_init          2^(10)\n",
      "    n_max           2^(35)\n",
      "UMBridgeWrapper (Integrand Object)\n",
      "Uniform (TrueMeasure Object)\n",
      "    lower_bound     1\n",
      "    upper_bound     1.200\n",
      "Lattice (DiscreteDistribution Object)\n",
      "    d               3\n",
      "    dvec            [0 1 2]\n",
      "    randomize       1\n",
      "    order           natural\n",
      "    gen_vec         [     1 182667 469891]\n",
      "    entropy         7\n",
      "    spawn_key       ()\n"
     ]
    }
   ],
   "source": [
    "print(data)"
   ]
  },
  {
   "cell_type": "code",
   "execution_count": 73,
   "id": "8f3a5e78",
   "metadata": {},
   "outputs": [
    {
     "data": {
      "image/png": "[encoded data removed]",
      "text/plain": [
       "<Figure size 600x300 with 1 Axes>"
      ]
     },
     "metadata": {},
     "output_type": "display_data"
    }
   ],
   "source": [
    "from matplotlib import pyplot\n",
    "pyplot.style.use('../../../../qmcpy.mplstyle') #may need to be changed to find path to document in QMCSoftware folder\n",
    "fig,ax = pyplot.subplots(figsize=(6,3))\n",
    "ax.plot(x_values, solution,'-o')\n",
    "ax.plot(x_values, data.comb_bound_low,'-o')\n",
    "ax.plot(x_values, data.comb_bound_high,'-o')\n",
    "ax.set_xlim([0,len(solution)-1]); ax.set_xlabel(r'$x$') #[0,1] -- L=31 internals\n",
    "ax.set_ylim([max(solution), min(solution)]);  ax.set_ylabel(r'$u(x)$');"
   ]
  },
  {
   "cell_type": "markdown",
   "id": "80a0b560",
   "metadata": {},
   "source": [
    "## Parallel Evaluation"
   ]
  },
  {
   "cell_type": "markdown",
   "id": "041ce829",
   "metadata": {},
   "source": [
    "QMCPy can automatically multi-threaded requests to the model by setting `parallel=p` where `p` is the number of processors used by [multiprocessing.pool.ThreadPool](https://docs.python.org/3/library/multiprocessing.html#multiprocessing.pool.ThreadPool). Setting `parallel=True` is equivalent to setting `paralle=os.cpu_count()`."
   ]
  },
  {
   "cell_type": "code",
   "execution_count": 27,
   "id": "ec0b7fce",
   "metadata": {},
   "outputs": [
    {
     "name": "stdout",
     "output_type": "stream",
     "text": [
      "Available CPUs: 8\n"
     ]
    }
   ],
   "source": [
    "import os\n",
    "print('Available CPUs: %d'%os.cpu_count())"
   ]
  },
  {
   "cell_type": "code",
   "execution_count": 81,
   "id": "355a7dbf",
   "metadata": {},
   "outputs": [
    {
     "name": "stdout",
     "output_type": "stream",
     "text": [
      "3.421820640563965\n"
     ]
    },
    {
     "data": {
      "text/plain": [
       "LDTransformData (AccumulateData Object)\n",
       "    solution        [  0.      0.344   1.329 ... 140.952 147.811 154.672]\n",
       "    comb_bound_low  [  0.      0.344   1.329 ... 140.951 147.811 154.671]\n",
       "    comb_bound_high [  0.      0.344   1.329 ... 140.952 147.811 154.672]\n",
       "    comb_flags      [ True  True  True ...  True  True  True]\n",
       "    n_total         2^(10)\n",
       "    n               [1024. 1024. 1024. ... 1024. 1024. 1024.]\n",
       "    time_integrate  3.422\n",
       "CubQMCNetG (StoppingCriterion Object)\n",
       "    abs_tol         10\n",
       "    rel_tol         0\n",
       "    n_init          2^(10)\n",
       "    n_max           2^(35)\n",
       "UMBridgeWrapper (Integrand Object)\n",
       "Gaussian (TrueMeasure Object)\n",
       "    mean            [150. 150. 150. ... 150. 150. 150.]\n",
       "    covariance      [[0.01  0.01  0.01  ... 0.002 0.002 0.001]\n",
       "                    [0.01  0.01  0.01  ... 0.002 0.002 0.002]\n",
       "                    [0.01  0.01  0.01  ... 0.002 0.002 0.002]\n",
       "                    ...\n",
       "                    [0.002 0.002 0.002 ... 0.01  0.01  0.01 ]\n",
       "                    [0.002 0.002 0.002 ... 0.01  0.01  0.01 ]\n",
       "                    [0.001 0.002 0.002 ... 0.01  0.01  0.01 ]]\n",
       "    decomp_type     PCA\n",
       "DigitalNetB2 (DiscreteDistribution Object)\n",
       "    d               31\n",
       "    dvec            [ 0  1  2 ... 28 29 30]\n",
       "    randomize       LMS_DS\n",
       "    graycode        0\n",
       "    entropy         7\n",
       "    spawn_key       (0, 0)"
      ]
     },
     "execution_count": 81,
     "metadata": {},
     "output_type": "execute_result"
    }
   ],
   "source": [
    "integrand = qp.UMBridgeWrapper(distribution_mul,model,umbridge_config,parallel=8,tf_input_to_umbridge_input = lambda t: t)\n",
    "start_time = time.time()\n",
    "solution,data = qp.CubQMCNetG(integrand,abs_tol=10).integrate()\n",
    "end_time = time.time()\n",
    "print(end_time - start_time)\n",
    "data"
   ]
  },
  {
   "cell_type": "markdown",
   "id": "d9154d0f",
   "metadata": {},
   "source": [
    "## Shut Down Docker Image"
   ]
  },
  {
   "cell_type": "code",
   "execution_count": 239,
   "id": "3ff8373a",
   "metadata": {},
   "outputs": [
    {
     "name": "stdout",
     "output_type": "stream",
     "text": [
      "muqbp_new\n"
     ]
    }
   ],
   "source": [
    "!docker rm -f muqbp_new"
   ]
  },
  {
   "cell_type": "markdown",
   "id": "142e61cb",
   "metadata": {},
   "source": [
    "## Testbed"
   ]
  },
  {
   "cell_type": "code",
   "execution_count": 7,
   "id": "50990183-02ab-44bc-9aa2-2fa4aa97f492",
   "metadata": {},
   "outputs": [
    {
     "ename": "TypeError",
     "evalue": "Matern.__init__() got multiple values for argument 'length_scale'",
     "output_type": "error",
     "traceback": [
      "\u001b[1;31m---------------------------------------------------------------------------\u001b[0m",
      "\u001b[1;31mTypeError\u001b[0m                                 Traceback (most recent call last)",
      "Cell \u001b[1;32mIn[7], line 6\u001b[0m\n\u001b[0;32m      3\u001b[0m priorLength \u001b[38;5;241m=\u001b[39m \u001b[38;5;241m0.5\u001b[39m\n\u001b[0;32m      4\u001b[0m priorNu \u001b[38;5;241m=\u001b[39m \u001b[38;5;241m3.0\u001b[39m\u001b[38;5;241m/\u001b[39m\u001b[38;5;241m2.0\u001b[39m \u001b[38;5;66;03m# must take the form N+1/2 for zero or odd N (i.e., {0,1,3,5,...})\u001b[39;00m\n\u001b[1;32m----> 6\u001b[0m kern1 \u001b[38;5;241m=\u001b[39m \u001b[43mgp\u001b[49m\u001b[38;5;241;43m.\u001b[39;49m\u001b[43mkernels\u001b[49m\u001b[38;5;241;43m.\u001b[39;49m\u001b[43mMatern\u001b[49m\u001b[43m(\u001b[49m\u001b[38;5;241;43m1\u001b[39;49m\u001b[43m,\u001b[49m\u001b[43m \u001b[49m\u001b[38;5;241;43m1.0\u001b[39;49m\u001b[43m,\u001b[49m\u001b[43m \u001b[49m\u001b[43mlength_scale\u001b[49m\u001b[43m \u001b[49m\u001b[38;5;241;43m=\u001b[39;49m\u001b[43m \u001b[49m\u001b[43mpriorLength\u001b[49m\u001b[43m,\u001b[49m\u001b[43m \u001b[49m\u001b[43mnu\u001b[49m\u001b[43m \u001b[49m\u001b[38;5;241;43m=\u001b[39;49m\u001b[43m \u001b[49m\u001b[43mpriorNu\u001b[49m\u001b[43m)\u001b[49m\n\u001b[0;32m      7\u001b[0m kern2 \u001b[38;5;241m=\u001b[39m gp\u001b[38;5;241m.\u001b[39mkernels\u001b[38;5;241m.\u001b[39mConstantKernel(\u001b[38;5;241m1\u001b[39m, priorVar)\n\u001b[0;32m      8\u001b[0m kern \u001b[38;5;241m=\u001b[39m kern1 \u001b[38;5;241m+\u001b[39m kern2\n",
      "\u001b[1;31mTypeError\u001b[0m: Matern.__init__() got multiple values for argument 'length_scale'"
     ]
    }
   ],
   "source": [
    "#from http://g2s3.com/labs/notebooks/EulerBernoulliLoads.html and GenerateObservations.py\n",
    "priorVar = 10*10\n",
    "priorLength = 0.5\n",
    "priorNu = 3.0/2.0 # must take the form N+1/2 for zero or odd N (i.e., {0,1,3,5,...})\n",
    "\n",
    "kern1 = ma.MaternKernel(1, 1.0, priorLength, priorNu)\n",
    "kern2 = ma.ConstantKernel(1, priorVar)\n",
    "kern = kern1 + kern2\n",
    "\n",
    "dim =1\n",
    "coDim = 1 # The dimension of the load field at a single point\n",
    "mu = ma.ZeroMean(dim,coDim)\n",
    "\n",
    "priorGP = ma.GaussianProcess(mu,kern)\n",
    "\n",
    "plt.figure(figsize=(14,6))\n",
    "\n",
    "numSamps = 3\n",
    "for i in range(numSamps):\n",
    "    samp = priorGP.Sample(x)\n",
    "    plt.plot(x[0,:], samp[0,:], linewidth=2)\n",
    "    \n",
    "plt.xlabel('Position',fontsize=16)\n",
    "plt.ylabel('Load',fontsize=16)\n",
    "plt.show()"
   ]
  },
  {
   "cell_type": "code",
   "execution_count": null,
   "id": "1642d7aa-801c-420d-942e-c095d327b24a",
   "metadata": {},
   "outputs": [],
   "source": []
  },
  {
   "cell_type": "code",
   "execution_count": null,
   "id": "7ff7110b-75a3-4321-b32b-b43b029c6d92",
   "metadata": {},
   "outputs": [],
   "source": []
  }
 ],
 "metadata": {
  "kernelspec": {
   "display_name": "Python 3 (ipykernel)",
   "language": "python",
   "name": "python3"
  },
  "language_info": {
   "codemirror_mode": {
    "name": "ipython",
    "version": 3
   },
   "file_extension": ".py",
   "mimetype": "text/x-python",
   "name": "python",
   "nbconvert_exporter": "python",
   "pygments_lexer": "ipython3",
   "version": "3.10.10"
  }
 },
 "nbformat": 4,
 "nbformat_minor": 5
}
