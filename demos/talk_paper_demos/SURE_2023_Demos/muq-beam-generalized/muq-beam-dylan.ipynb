{
 "cells": [
  {
   "cell_type": "markdown",
   "id": "9b09667a",
   "metadata": {},
   "source": [
    "# UM-Bridge with QMCPy\n",
    "\n",
    "Using QMCPy to evaluate the [UM-Bridge Cantilever Beam Function](https://um-bridge-benchmarks.readthedocs.io/en/docs/forward-benchmarks/muq-beam-propagation.html) and approximate the expectation with respect to a uniform random variable. "
   ]
  },
  {
   "cell_type": "markdown",
   "id": "b0e7ef4d",
   "metadata": {},
   "source": [
    "## Imports"
   ]
  },
  {
   "cell_type": "code",
   "execution_count": 7,
   "id": "16a1dbd2",
   "metadata": {
    "tags": []
   },
   "outputs": [],
   "source": [
    "import umbridge\n",
    "import numpy as np\n",
    "import time\n",
    "#import docker\n",
    "\n",
    "#the module needs to be local if any changes have been made locally\n",
    "#uncomment line below to make local qmcpy the import (only need to be done once per session and can be commented out\n",
    "#import sys\n",
    "#sys.path.insert(0, '../../../../..') #may need to be changed to find correct path to QMCSoftware folder\n",
    "\n",
    "#prints paths available on local system\n",
    "#for p in sys.path:\n",
    "#    print(p)\n",
    "\n",
    "import qmcpy as qp #non local module import\n",
    "#from QMCSoftware import qmcpy as qp #local module import"
   ]
  },
  {
   "cell_type": "markdown",
   "id": "5c6b10d3",
   "metadata": {},
   "source": [
    "## Start Docker Container\n",
    "\n",
    "See the [UM-Bridge Documentation](https://um-bridge-benchmarks.readthedocs.io/en/docs/index.html) for image options. "
   ]
  },
  {
   "cell_type": "code",
   "execution_count": 2,
   "id": "65ea4b9e",
   "metadata": {
    "tags": []
   },
   "outputs": [
    {
     "name": "stdout",
     "output_type": "stream",
     "text": [
      "muqbp_new\n",
      "7211c5589e6dd68814e84eef8a53f700a85f7ee40e52d75f2d45e82228cda038\n"
     ]
    }
   ],
   "source": [
    "!docker rm -f muqbp_new\n",
    "!docker run --name muqbp_new -it -d -p 4242:4242 linusseelinger/model-muq-beam:latest\n",
    "#!docker run --name muqbp_new -d -p 4242:4242 my-build\n",
    "#https://stackoverflow.com/questions/43099116/error-the-input-device-is-not-a-tty\n",
    "#running locally"
   ]
  },
  {
   "cell_type": "markdown",
   "id": "49ae9a2e",
   "metadata": {},
   "source": [
    "## Problem Setup"
   ]
  },
  {
   "cell_type": "markdown",
   "id": "f2f49293",
   "metadata": {},
   "source": [
    "Initialize a QMCPy sampler and distribution."
   ]
  },
  {
   "cell_type": "code",
   "execution_count": 8,
   "id": "a90b8ab5",
   "metadata": {
    "tags": []
   },
   "outputs": [],
   "source": [
    "sampler_d = 9\n",
    "sampler = qp.Lattice(dimension = sampler_d,seed=7) # DISCRETE DISTRIBUTION, default = 3\n",
    "distribution = qp.Uniform(sampler,lower_bound=1,upper_bound=1.2) # TRUE MEASURE"
   ]
  },
  {
   "cell_type": "markdown",
   "id": "12525f56",
   "metadata": {},
   "source": [
    "Initialize a UM-Bridge model and wrap it into a QMCPy compatible Integrand"
   ]
  },
  {
   "cell_type": "code",
   "execution_count": 10,
   "id": "2b35f5f4",
   "metadata": {
    "tags": []
   },
   "outputs": [],
   "source": [
    "model = umbridge.HTTPModel('http://localhost:4242', 'forward')\n",
    "output_dimension = 31 #can't find where 31 is in um-bridge so I'm setting it here\n",
    "beam_length = 1\n",
    "umbridge_config = {}\n",
    "\"\"\"DEBUG\n",
    "print(umbridge_config)\n",
    "print(model.get_input_sizes(umbridge_config))\n",
    "print(model.get_output_sizes(umbridge_config))\n",
    "print(distribution.d)\n",
    "\"\"\"\n",
    "\n",
    "import math\n",
    "from sklearn import gaussian_process as gp\n",
    "kernel = gp.kernels.Matern(length_scale = 0.5, nu=2.5)\n",
    "#nu controls smoothness, most efficient when in [0.5, 1.5, 2.5, inf]\n",
    "#0.5 = absolute exponential, 1.5 = once differentiable, 2.5 = twice, ~inf = RBF\n",
    "#length_scale controls \"peakiness\"/frequency, or correlation between points farther from each other\n",
    "\n",
    "def lump(t):\n",
    "    \"\"\" Model 1: fill with ones \"\"\"\n",
    "    tnp = np.array(t[0])\n",
    "    tnewnp = np.ones(output_dimension)\n",
    "    tnewnp[:len(tnp)] = tnp\n",
    "    #print(tnewnp.tolist())\n",
    "    return [tnewnp.tolist()]\n",
    "\n",
    "def lump_2(t):\n",
    "    \"\"\" Model 2: duplicating values \"\"\"\n",
    "    tnp = np.array(t[0])\n",
    "    tnewnp = np.ones(output_dimension)\n",
    "    if len(tnp) < output_dimension:\n",
    "        root = output_dimension // len(tnp)\n",
    "        for i in range(root + output_dimension % len(tnp)):\n",
    "            tnewnp[i] = tnp[0]\n",
    "        #len(tnp) * root + output_dimension % len(tnp) = len(tnp)\n",
    "        for j in range(1, len(tnp)):\n",
    "            for i in range(j * root + output_dimension % len(tnp), (j+1) * root + output_dimension % len(tnp)):\n",
    "                tnewnp[i] = tnp[j]\n",
    "    #print(tnewnp.tolist())\n",
    "    return [tnewnp.tolist()]\n",
    "\n",
    "E_variance = 0.01 \n",
    "#randomness in E(x) values -- experiment with this, since we want to model *some* uncertainty\n",
    "#is there a phase change?\n",
    "x_values = np.arange(float(output_dimension)) * beam_length/float(output_dimension - 1)\n",
    "def E_generator(sampler = sampler):\n",
    "    \"\"\"Model 3: approximating/smushing continuous by returning distribution w/ multivariate, \n",
    "    Gaussian and Matern kernel\n",
    "    \n",
    "    Return:\n",
    "        distribution: a multivariate Gaussian distribution for output_dimension samples\n",
    "        sampler_out: a new version of sampler with 31 dimensions\"\"\"\n",
    "    tnp = np.array([x_values]).T\n",
    "    #print(tnp)\n",
    "    covariances = kernel.__call__(tnp) #takes array of size (# samples) x (# data points)\n",
    "    #print(covariances)\n",
    "    average = np.full(output_dimension, (distribution.upper_bound + distribution.lower_bound) / 2)\n",
    "    #print(average)\n",
    "    sampler_out = sampler.spawn(1, [output_dimension])[0] #new version of sampler with 31 dimensions\n",
    "    return qp.Gaussian(sampler_out, average, E_variance * covariances, decomp_type = 'PCA'), sampler_out\n",
    "\n",
    "weight_decay = 5\n",
    "wiggly_ness = 0.1 #not sure if this is the constant that I want\n",
    "def E_generator_2(t, weight_decay = 5, wiggly_ness = 0.1, output_dimension = 31):\n",
    "    \"\"\"\n",
    "    Model 4: Karhunen-Loeve approximation using Chebyshev polynomials\n",
    "    \n",
    "    Args:\n",
    "        t: n x d_i (input dimension) array of samples\n",
    "    Return:\n",
    "        tnewnp: n x d_o (output dimension) array of samples\"\"\"\n",
    "    tnp = np.array(t[0])\n",
    "    tnewnp = np.zeros(output_dimension) #Y(t) = (X_1 ... X_d) W (\\phi_1(t) ... \\phi_d(t))^T\n",
    "    d = sampler_d #input dimension\n",
    "    X = tnp #d samples, uniform iid from \"distribution\"\n",
    "    W = np.zeros((d, d))\n",
    "    for i in range(d):\n",
    "        W[i][i] = wiggly_ness / ((i+1) ** weight_decay)\n",
    "\n",
    "    for j in range(output_dimension): #t = x_values[j]\n",
    "        phi = np.zeros(d)\n",
    "        for i in range(1, d+1):\n",
    "            #ax+b where a = 2/(u-l), b = 1 - 2u/(u-l)\n",
    "            #print(2 * x_values[j] - 1)\n",
    "            phi[i-1] = math.cos(i * math.acos(2 * x_values[j] - 1)) #Chebyshev polynomials from [0, 1]\n",
    "        phi = np.array([phi]).T #transpose\n",
    "        tnewnp[j] = np.matmul(np.matmul(X, W), phi)\n",
    "        tnewnp[j] += (distribution.lower_bound + distribution.upper_bound) / 2\n",
    "    #print(tnewnp.tolist())\n",
    "    #print(sum(tnewnp)/len(tnewnp))\n",
    "    return [tnewnp.tolist()]\n",
    "\n",
    "def default(t): \n",
    "    \"\"\"For testing analytical model with constant modulus\"\"\"\n",
    "    return [np.full(output_dimension, (distribution.upper_bound + distribution.lower_bound) / 2).tolist()]\n",
    "    \n",
    "distribution_mul, sampler = E_generator() \n",
    "# ^ comment out if you don't want multivariate w/ Matern covariance (and set tf_input_to_umbridge_input = identity)\n",
    "integrand = qp.UMBridgeWrapper(distribution_mul, model, umbridge_config, parallel=False, tf_input_to_umbridge_input = lambda t: t) # INTEGRAND\n",
    "#integrand = qp.UMBridgeWrapper(distribution, model, umbridge_config, parallel=False, tf_input_to_umbridge_input = default) # INTEGRAND"
   ]
  },
  {
   "cell_type": "code",
   "execution_count": 51,
   "id": "0a69d486-2849-4045-bd8f-eac96bdee9a7",
   "metadata": {},
   "outputs": [
    {
     "data": {
      "text/plain": [
       "[0.9930534870356988,\n",
       " 0.9996905963479528,\n",
       " 1.006361770277187,\n",
       " 1.0130701676515668,\n",
       " 1.0198168874580802,\n",
       " 1.0266023083751326,\n",
       " 1.0334268059937457,\n",
       " 1.040291053855695,\n",
       " 1.0471960705594592,\n",
       " 1.0541431359393267,\n",
       " 1.061133664709442,\n",
       " 1.0681690959829462,\n",
       " 1.0752508317267053,\n",
       " 1.0823802364943953,\n",
       " 1.089558694694949,\n",
       " 1.0967877101995482,\n",
       " 1.104069026268486,\n",
       " 1.1114047415892938,\n",
       " 1.1187974006595784,\n",
       " 1.1262500438219853,\n",
       " 1.1337662139646503,\n",
       " 1.141349933238377,\n",
       " 1.149005684111626,\n",
       " 1.1567384546861794,\n",
       " 1.164553938430082,\n",
       " 1.1724590133501598,\n",
       " 1.1804626651240375,\n",
       " 1.1885775628411814,\n",
       " 1.1968225447640257,\n",
       " 1.2052263249137327,\n",
       " 1.213832789310576]"
      ]
     },
     "execution_count": 51,
     "metadata": {},
     "output_type": "execute_result"
    }
   ],
   "source": [
    " #debug\n",
    "from sklearn import datasets as ds\n",
    "\"\"\"\n",
    "X, y = ds.load_iris(return_X_y=True)\n",
    "print(X)\n",
    "print(y)\n",
    "kernel.__call__(X)\n",
    "\"\"\"\n",
    "#kernel.__call__([[1.05], [1.02], [1.06], [1.04]])\n",
    "#E_generator([np.arange(31.0) * beam_length/31.0])\n",
    "#distribution.gen_samples(1)[0]\n",
    "#np.matmul([3, 2, 4], [[1], [2], [1]])\n",
    "E_generator_2([np.random.rand(9) * (distribution.upper_bound - distribution.lower_bound) + distribution.lower_bound])[0]"
   ]
  },
  {
   "cell_type": "markdown",
   "id": "ca82b29b",
   "metadata": {},
   "source": [
    "## Model Evaluation"
   ]
  },
  {
   "cell_type": "code",
   "execution_count": 11,
   "id": "9b5e06c5",
   "metadata": {
    "scrolled": true,
    "tags": []
   },
   "outputs": [
    {
     "name": "stdout",
     "output_type": "stream",
     "text": [
      "(16, 31)\n",
      "(16, 31)\n",
      "<class 'numpy.ndarray'>\n",
      "float64\n",
      "[[    0.            49.78791585   192.7621196    422.59148572\n",
      "    733.1279495   1118.46604199  1572.98660861  2091.39778135\n",
      "   2668.78844848  3300.56678034  3982.38181613  4710.00189528\n",
      "   5479.36187821  6286.56913688  7127.74451887  7999.06025447\n",
      "   8896.84121071  9817.60752099 10758.11177321 11715.35208059\n",
      "  12686.5789386  13669.31431611 14661.33113406 15660.64875728\n",
      "  16665.53741127 17674.5087855  18686.30789248 19699.91294442\n",
      "  20714.5317456  21729.59947379 22744.77883379]\n",
      " [    0.            46.00040414   178.10619829   390.58189566\n",
      "    677.90117526  1034.69372959  1455.71537895  1935.93524914\n",
      "   2470.51040516  3054.75297564  3684.12602644  4354.29035962\n",
      "   5061.11076878  5800.60791421  6569.05041728  7363.0052848\n",
      "   8179.30988074  9015.03570035  9867.46307607 10734.06868632\n",
      "  11612.54718141 12500.8138134  13396.98882102 14299.39461094\n",
      "  15206.56213693 16117.2235893  17030.30820559 17944.9402461\n",
      "  18860.44028277 19776.32497194 20692.30557886]\n",
      " [    0.            44.24535628   170.55955662   372.88096007\n",
      "    645.58261741   983.51432302  1381.84958171  1836.00446093\n",
      "   2341.59948792  2894.38544899  3490.24925564  4125.20701204\n",
      "   4795.37136475  5497.00714118  6226.5980754   6980.88486351\n",
      "   7756.84065047  8551.64881983  9362.67692168 10187.48738361\n",
      "  11023.84961095 11869.73676279 12723.32381892 13582.98824231\n",
      "  14447.29972483 15315.02036663 16185.10518964 17056.70104633\n",
      "  17929.14553884 18801.96665976 19674.88185688]\n",
      " [    0.            41.14668859   159.18928086   349.17128725\n",
      "    606.52502162   926.83090702  1305.58446846  1738.29099853\n",
      "   2220.49636966  2747.94832394  3316.59709345  3922.58108024\n",
      "   4562.21063072  5231.9621354   5928.50402792  6648.68022289\n",
      "   7389.54031022  8148.33999812  8922.55856141  9709.88453452\n",
      "  10508.18563161 11315.50161314 12130.05619818 12950.2757055\n",
      "  13774.79108662 14602.43389294 15432.22905687 16263.3887791\n",
      "  17095.30909968 17927.5640878  18759.90189756]\n",
      " [    0.            54.83711571   213.15391816   468.76623221\n",
      "    815.26764459  1246.3592882   1755.95203673  2338.18557948\n",
      "   2987.33703318  3697.81688277  4464.22846036  5281.4128963\n",
      "   6144.49652535  7048.82867727  7989.93830071  8963.55205595\n",
      "   9965.58876068 10992.23660729 12039.95635769 13105.46814325\n",
      "  14185.77968657 15278.22879236 16380.45084206 17490.34609438\n",
      "  18606.08645691 19726.10744941 20849.09569172 21973.97984549\n",
      "  23099.92756178 24226.34567429 25352.880641  ]\n",
      " [    0.            47.14966684   182.25623901   399.35398108\n",
      "    692.85551855  1057.42531485  1487.84007848  1978.89680273\n",
      "   2525.46422238  3122.61162477  3765.66580377  4450.23367901\n",
      "   5172.19789184  5927.6830566   6713.04933808  7524.84855227\n",
      "   8359.81445097  9214.88493953 10087.23014158 10974.26116277\n",
      "  11873.62681503 12783.18698949 13701.00585765 14625.35073114\n",
      "  15554.6852599  16487.6747779  17423.19275679 18360.32215479\n",
      "  19298.35384986 20236.78465969 21175.31482546]\n",
      " [    0.            45.54745131   175.91451134   385.09385785\n",
      "    667.4125208   1017.42855129  1429.94344184  1900.02664546\n",
      "   2423.06872708  2994.70371461  3610.78506653  4267.33403135\n",
      "   4960.48482794  5686.49787091  6441.815093    7223.07169331\n",
      "   8027.13365301  8851.06578796  9692.13504058 10547.8134818\n",
      "  11415.77066957 12293.87234768 13180.18514289 14072.97605139\n",
      "  14970.71870127 15872.09220288 16775.97978523 17681.47105476\n",
      "  18587.86103694 19494.64893889 20401.53593384]\n",
      " [    0.            50.77639351   196.2982687    429.78529809\n",
      "    744.51705743  1133.9495179   1591.87001471  2112.35650377\n",
      "   2689.72895773  3318.58914713  3993.86418733  4710.86644901\n",
      "   5465.35329425  6253.45855554  7071.62375953  7916.55018269\n",
      "   8785.13905681  9674.46683061 10581.74666578 11504.35360836\n",
      "  12439.84089463 13385.94712398 14340.62030554 15302.03074483\n",
      "  16268.57159697 17238.8581625  18211.73080209 19186.25168038\n",
      "  20161.69719744 21137.55230966 22113.50948032]\n",
      " [    0.            47.0587014    182.23397644   399.91812942\n",
      "    694.82765354  1061.94941179  1496.44588682  1993.64397441\n",
      "   2548.89930499  3157.67291908  3815.51391312  4518.07648792\n",
      "   5261.13981711  6040.6445933   6852.69182882  7693.56938909\n",
      "   8559.7184849   9447.78994868 10354.70069889 11277.60457286\n",
      "  12213.88210403 13161.15269125 14117.2855855  15080.38391221\n",
      "  16048.78332155 17021.05371622 17995.99818624 18972.64509801\n",
      "  19950.24420375 20928.26374852 21906.38777849]\n",
      " [    0.            50.88414422   196.5598467    430.17692037\n",
      "    745.06066681  1134.77207829  1593.24632734  2114.79959377\n",
      "   2694.16785104  3326.44108204  4006.98372394  4731.35267905\n",
      "   5495.27995981  6294.75862872  7126.02594383  7985.53087492\n",
      "   8869.94746521  9776.14797436 10701.17227082 11642.22863161\n",
      "  12596.72768209 13562.30378945 14536.83114868 15518.42577934\n",
      "  16505.43634428 17496.43125837 18490.19506602 19485.72938999\n",
      "  20482.25740402 21479.2254385  22476.3028258 ]\n",
      " [    0.            41.2911251    160.65204064   353.54579157\n",
      "    615.387265     941.58366725  1327.63066346  1769.05484327\n",
      "   2261.39468132  2800.26584399  3381.42464517  4000.82465619\n",
      "   4654.59395157  5339.01955912  6050.63458403  6786.22338217\n",
      "   7542.78563167  8317.5527947   9107.94447084  9911.5908274\n",
      "  10726.33081348 11550.21513049 12381.49268371 13218.60397825\n",
      "  14060.17283722 14905.0029838  15752.08698128 16600.60718144\n",
      "  17449.93212473 18299.61334289 19149.38326062]\n",
      " [    0.            52.28563058   201.99147658   442.08572586\n",
      "    765.77840394  1166.56355322  1638.18102971  2174.69101079\n",
      "   2770.55190258  3420.52920324  4119.62659651  4863.12039692\n",
      "   5646.53532079  6465.62514985  7316.37053016  8195.01839868\n",
      "   9098.10579734 10022.44869689 10965.12972007 11923.47246917\n",
      "  12895.01119715 13877.47653291 14868.79645803 15867.10029519\n",
      "  16870.73652082 17878.27984217 18888.52882623 19900.50427028\n",
      "  20913.44767647 21926.81929146 22940.29727972]\n",
      " [    0.            44.28092105   171.44471103   376.14853654\n",
      "    653.22401596   997.58980277  1404.29427018  1868.53863253\n",
      "   2385.65686053  2951.15647769  3560.68243563  4210.0177887\n",
      "   4895.14348337  5612.28161408  6357.86604557  7128.55456903\n",
      "   7921.23531308  8733.03675734  9561.32849169 10403.69115485\n",
      "  11257.88986868 12121.86487135 12993.75102753 13871.88424314\n",
      "  14754.7961904  15641.22087579 16530.08929862 17420.52465592\n",
      "  18311.84198086 19203.55093158 20095.35775154]\n",
      " [    0.            45.88485091   177.48161565   388.91581354\n",
      "    674.46683614  1028.59270408  1445.94511542  1921.3502431\n",
      "   2449.82792329  3026.65247185  3647.43569607  4308.08773662\n",
      "   5004.8043558   5734.01302308  6492.30669178  7276.40315136\n",
      "   8083.16752321  8909.63132316  9753.00472661 10610.70001884\n",
      "  11480.35581916 12359.85042104 13247.27694332 14140.93638065\n",
      "  15039.34450402 15941.22458659 16845.50270031 17751.30751972\n",
      "  18657.96629212 19565.00192696 20472.1309582 ]\n",
      " [    0.            49.34989564   190.6025336    417.06794252\n",
      "    722.24182574  1099.88957469  1544.14164196  2049.51556417\n",
      "   2610.86133599  3223.27969071  3882.15982985  4583.17055711\n",
      "   5322.18943608  6095.30417456  6898.82829769  7729.28961807\n",
      "   8583.40482399  9458.06186184 10350.34760502 11257.56899228\n",
      "  12177.27069738 13107.24628221 14045.53025452 14990.38328626\n",
      "  15940.27968488 16893.88780943 17850.07620385 18807.91705061\n",
      "  19766.68800012 20725.87224787 21685.15974452]\n",
      " [    0.            44.43163396   172.66367292   379.88589081\n",
      "    661.39147875  1012.47583763  1428.37933281  1904.41142526\n",
      "   2436.09617284  3019.11346074  3649.21769537  4322.27577489\n",
      "   5034.26979713  5781.29171078  6559.50743243  7365.17005591\n",
      "   8194.7474111   9044.95155262  9912.76541347 10795.47632647\n",
      "  11690.64171944 12596.05569364 13509.73776553 14429.9304337\n",
      "  15355.09007107 16283.88787181 17215.20377933 18148.1254679\n",
      "  19081.94830442 20016.17093318 20950.4934986 ]]\n",
      "0.38051819801330566\n"
     ]
    }
   ],
   "source": [
    "start_time = time.time()\n",
    "x = sampler(16) # same as sampler.gen_samples(1024)\n",
    "#as sample size gets larger, since beams are i.i.d, Y should resemble a Gaussian process by the CLT\n",
    "print(x.shape) #prints (# of beams, input)\n",
    "\n",
    "y = integrand.f(x)\n",
    "print(y.shape) #prints (# of beams, output)\n",
    "print(type(y))\n",
    "print(y.dtype)\n",
    "print(y)\n",
    "\n",
    "#time in seconds\n",
    "end_time = time.time()\n",
    "print(end_time - start_time)"
   ]
  },
  {
   "cell_type": "markdown",
   "id": "eee7c1a0",
   "metadata": {},
   "source": [
    "## Automatically Approximate the Expectation"
   ]
  },
  {
   "cell_type": "code",
   "execution_count": 6,
   "id": "5de294a4",
   "metadata": {},
   "outputs": [
    {
     "name": "stdout",
     "output_type": "stream",
     "text": [
      "[13.26006699]\n",
      "LDTransformData (AccumulateData Object)\n",
      "    solution        [    0.       46.99    181.86  ... 19311.522 20251.677 21191.933]\n",
      "    comb_bound_low  [    0.       46.963   181.76  ... 19301.353 20241.016 21180.778]\n",
      "    comb_bound_high [    0.       47.016   181.961 ... 19321.69  20262.339 21203.087]\n",
      "    comb_flags      [ True  True  True ...  True  True  True]\n",
      "    n_total         2^(10)\n",
      "    n               [1024. 1024. 1024. ... 1024. 1024. 1024.]\n",
      "    time_integrate  13.260\n",
      "CubQMCLatticeG (StoppingCriterion Object)\n",
      "    abs_tol         100\n",
      "    rel_tol         0\n",
      "    n_init          2^(10)\n",
      "    n_max           2^(35)\n",
      "UMBridgeWrapper (Integrand Object)\n",
      "Gaussian (TrueMeasure Object)\n",
      "    mean            [1.1 1.1 1.1 ... 1.1 1.1 1.1]\n",
      "    covariance      [[0.01  0.01  0.01  ... 0.002 0.002 0.001]\n",
      "                    [0.01  0.01  0.01  ... 0.002 0.002 0.002]\n",
      "                    [0.01  0.01  0.01  ... 0.002 0.002 0.002]\n",
      "                    ...\n",
      "                    [0.002 0.002 0.002 ... 0.01  0.01  0.01 ]\n",
      "                    [0.002 0.002 0.002 ... 0.01  0.01  0.01 ]\n",
      "                    [0.001 0.002 0.002 ... 0.01  0.01  0.01 ]]\n",
      "    decomp_type     PCA\n",
      "Lattice (DiscreteDistribution Object)\n",
      "    d               31\n",
      "    dvec            [ 0  1  2 ... 28 29 30]\n",
      "    randomize       1\n",
      "    order           natural\n",
      "    gen_vec         [     1 182667 469891 ... 410745 211325  17489]\n",
      "    entropy         7\n",
      "    spawn_key       (0,)\n",
      "[1024.]\n"
     ]
    }
   ],
   "source": [
    "runs = 1\n",
    "times = np.zeros(runs)\n",
    "last_n = np.zeros(runs)\n",
    "data_transforms = []\n",
    "for i in range(runs):\n",
    "    start_time = time.time()\n",
    "    qmc_stop_crit = qp.CubQMCLatticeG(integrand,abs_tol = 100, ptransform = 'NONE') # QMC STOPPING CRITERION\n",
    "    #relevant adjustable criteria: tolerance, ptransform (when stopping criteria = lattice)\n",
    "    solution,data = qmc_stop_crit.integrate()\n",
    "    end_time = time.time()\n",
    "    times[i] = end_time - start_time\n",
    "    last_n[i] = data.n[-1]\n",
    "    #data_transforms.append(data)\n",
    "    \n",
    "#print(end_time - start_time)\n",
    "print(times)\n",
    "print(data)\n",
    "print(last_n)\n",
    "#data.comb_bound_low[-1]"
   ]
  },
  {
   "cell_type": "code",
   "execution_count": 16,
   "id": "9ed2dcda-d447-4c7e-9aa6-b917016da436",
   "metadata": {},
   "outputs": [
    {
     "name": "stdout",
     "output_type": "stream",
     "text": [
      "[1024. 1024. 1024. 1024. 1024. 1024. 1024. 1024. 1024. 1024. 1024. 1024.\n",
      " 1024. 1024. 1024. 1024. 1024. 1024. 1024. 1024. 1024. 1024. 1024. 1024.\n",
      " 1024. 1024. 1024. 1024. 1024. 1024. 1024.]\n"
     ]
    }
   ],
   "source": [
    "print(data.n)"
   ]
  },
  {
   "cell_type": "code",
   "execution_count": 73,
   "id": "8f3a5e78",
   "metadata": {},
   "outputs": [
    {
     "data": {
      "image/png": "[encoded data removed]",
      "text/plain": [
       "<Figure size 600x300 with 1 Axes>"
      ]
     },
     "metadata": {},
     "output_type": "display_data"
    }
   ],
   "source": [
    "from matplotlib import pyplot\n",
    "pyplot.style.use('../../../../qmcpy.mplstyle') #may need to be changed to find path to document in QMCSoftware folder\n",
    "fig,ax = pyplot.subplots(figsize=(6,3))\n",
    "ax.plot(x_values, solution,'-o')\n",
    "ax.plot(x_values, data.comb_bound_low,'-o')\n",
    "ax.plot(x_values, data.comb_bound_high,'-o')\n",
    "ax.set_xlim([0,len(solution)-1]); ax.set_xlabel(r'$x$') #[0,1] -- L=31 internals\n",
    "ax.set_ylim([max(solution), min(solution)]);  ax.set_ylabel(r'$u(x)$');"
   ]
  },
  {
   "cell_type": "markdown",
   "id": "80a0b560",
   "metadata": {},
   "source": [
    "## Parallel Evaluation"
   ]
  },
  {
   "cell_type": "markdown",
   "id": "041ce829",
   "metadata": {},
   "source": [
    "QMCPy can automatically multi-threaded requests to the model by setting `parallel=p` where `p` is the number of processors used by [multiprocessing.pool.ThreadPool](https://docs.python.org/3/library/multiprocessing.html#multiprocessing.pool.ThreadPool). Setting `parallel=True` is equivalent to setting `paralle=os.cpu_count()`."
   ]
  },
  {
   "cell_type": "code",
   "execution_count": 27,
   "id": "ec0b7fce",
   "metadata": {},
   "outputs": [
    {
     "name": "stdout",
     "output_type": "stream",
     "text": [
      "Available CPUs: 8\n"
     ]
    }
   ],
   "source": [
    "import os\n",
    "print('Available CPUs: %d'%os.cpu_count())"
   ]
  },
  {
   "cell_type": "code",
   "execution_count": 81,
   "id": "355a7dbf",
   "metadata": {},
   "outputs": [
    {
     "name": "stdout",
     "output_type": "stream",
     "text": [
      "3.421820640563965\n"
     ]
    },
    {
     "data": {
      "text/plain": [
       "LDTransformData (AccumulateData Object)\n",
       "    solution        [  0.      0.344   1.329 ... 140.952 147.811 154.672]\n",
       "    comb_bound_low  [  0.      0.344   1.329 ... 140.951 147.811 154.671]\n",
       "    comb_bound_high [  0.      0.344   1.329 ... 140.952 147.811 154.672]\n",
       "    comb_flags      [ True  True  True ...  True  True  True]\n",
       "    n_total         2^(10)\n",
       "    n               [1024. 1024. 1024. ... 1024. 1024. 1024.]\n",
       "    time_integrate  3.422\n",
       "CubQMCNetG (StoppingCriterion Object)\n",
       "    abs_tol         10\n",
       "    rel_tol         0\n",
       "    n_init          2^(10)\n",
       "    n_max           2^(35)\n",
       "UMBridgeWrapper (Integrand Object)\n",
       "Gaussian (TrueMeasure Object)\n",
       "    mean            [150. 150. 150. ... 150. 150. 150.]\n",
       "    covariance      [[0.01  0.01  0.01  ... 0.002 0.002 0.001]\n",
       "                    [0.01  0.01  0.01  ... 0.002 0.002 0.002]\n",
       "                    [0.01  0.01  0.01  ... 0.002 0.002 0.002]\n",
       "                    ...\n",
       "                    [0.002 0.002 0.002 ... 0.01  0.01  0.01 ]\n",
       "                    [0.002 0.002 0.002 ... 0.01  0.01  0.01 ]\n",
       "                    [0.001 0.002 0.002 ... 0.01  0.01  0.01 ]]\n",
       "    decomp_type     PCA\n",
       "DigitalNetB2 (DiscreteDistribution Object)\n",
       "    d               31\n",
       "    dvec            [ 0  1  2 ... 28 29 30]\n",
       "    randomize       LMS_DS\n",
       "    graycode        0\n",
       "    entropy         7\n",
       "    spawn_key       (0, 0)"
      ]
     },
     "execution_count": 81,
     "metadata": {},
     "output_type": "execute_result"
    }
   ],
   "source": [
    "integrand = qp.UMBridgeWrapper(distribution_mul,model,umbridge_config,parallel=8,tf_input_to_umbridge_input = lambda t: t)\n",
    "start_time = time.time()\n",
    "solution,data = qp.CubQMCNetG(integrand,abs_tol=10).integrate()\n",
    "end_time = time.time()\n",
    "print(end_time - start_time)\n",
    "data"
   ]
  },
  {
   "cell_type": "markdown",
   "id": "d9154d0f",
   "metadata": {},
   "source": [
    "## Shut Down Docker Image"
   ]
  },
  {
   "cell_type": "code",
   "execution_count": 239,
   "id": "3ff8373a",
   "metadata": {},
   "outputs": [
    {
     "name": "stdout",
     "output_type": "stream",
     "text": [
      "muqbp_new\n"
     ]
    }
   ],
   "source": [
    "!docker rm -f muqbp_new"
   ]
  },
  {
   "cell_type": "markdown",
   "id": "142e61cb",
   "metadata": {},
   "source": [
    "## Testbed"
   ]
  },
  {
   "cell_type": "code",
   "execution_count": 7,
   "id": "50990183-02ab-44bc-9aa2-2fa4aa97f492",
   "metadata": {},
   "outputs": [
    {
     "ename": "TypeError",
     "evalue": "Matern.__init__() got multiple values for argument 'length_scale'",
     "output_type": "error",
     "traceback": [
      "\u001b[1;31m---------------------------------------------------------------------------\u001b[0m",
      "\u001b[1;31mTypeError\u001b[0m                                 Traceback (most recent call last)",
      "Cell \u001b[1;32mIn[7], line 6\u001b[0m\n\u001b[0;32m      3\u001b[0m priorLength \u001b[38;5;241m=\u001b[39m \u001b[38;5;241m0.5\u001b[39m\n\u001b[0;32m      4\u001b[0m priorNu \u001b[38;5;241m=\u001b[39m \u001b[38;5;241m3.0\u001b[39m\u001b[38;5;241m/\u001b[39m\u001b[38;5;241m2.0\u001b[39m \u001b[38;5;66;03m# must take the form N+1/2 for zero or odd N (i.e., {0,1,3,5,...})\u001b[39;00m\n\u001b[1;32m----> 6\u001b[0m kern1 \u001b[38;5;241m=\u001b[39m \u001b[43mgp\u001b[49m\u001b[38;5;241;43m.\u001b[39;49m\u001b[43mkernels\u001b[49m\u001b[38;5;241;43m.\u001b[39;49m\u001b[43mMatern\u001b[49m\u001b[43m(\u001b[49m\u001b[38;5;241;43m1\u001b[39;49m\u001b[43m,\u001b[49m\u001b[43m \u001b[49m\u001b[38;5;241;43m1.0\u001b[39;49m\u001b[43m,\u001b[49m\u001b[43m \u001b[49m\u001b[43mlength_scale\u001b[49m\u001b[43m \u001b[49m\u001b[38;5;241;43m=\u001b[39;49m\u001b[43m \u001b[49m\u001b[43mpriorLength\u001b[49m\u001b[43m,\u001b[49m\u001b[43m \u001b[49m\u001b[43mnu\u001b[49m\u001b[43m \u001b[49m\u001b[38;5;241;43m=\u001b[39;49m\u001b[43m \u001b[49m\u001b[43mpriorNu\u001b[49m\u001b[43m)\u001b[49m\n\u001b[0;32m      7\u001b[0m kern2 \u001b[38;5;241m=\u001b[39m gp\u001b[38;5;241m.\u001b[39mkernels\u001b[38;5;241m.\u001b[39mConstantKernel(\u001b[38;5;241m1\u001b[39m, priorVar)\n\u001b[0;32m      8\u001b[0m kern \u001b[38;5;241m=\u001b[39m kern1 \u001b[38;5;241m+\u001b[39m kern2\n",
      "\u001b[1;31mTypeError\u001b[0m: Matern.__init__() got multiple values for argument 'length_scale'"
     ]
    }
   ],
   "source": [
    "#from http://g2s3.com/labs/notebooks/EulerBernoulliLoads.html and GenerateObservations.py\n",
    "priorVar = 10*10\n",
    "priorLength = 0.5\n",
    "priorNu = 3.0/2.0 # must take the form N+1/2 for zero or odd N (i.e., {0,1,3,5,...})\n",
    "\n",
    "kern1 = ma.MaternKernel(1, 1.0, priorLength, priorNu)\n",
    "kern2 = ma.ConstantKernel(1, priorVar)\n",
    "kern = kern1 + kern2\n",
    "\n",
    "dim =1\n",
    "coDim = 1 # The dimension of the load field at a single point\n",
    "mu = ma.ZeroMean(dim,coDim)\n",
    "\n",
    "priorGP = ma.GaussianProcess(mu,kern)\n",
    "\n",
    "plt.figure(figsize=(14,6))\n",
    "\n",
    "numSamps = 3\n",
    "for i in range(numSamps):\n",
    "    samp = priorGP.Sample(x)\n",
    "    plt.plot(x[0,:], samp[0,:], linewidth=2)\n",
    "    \n",
    "plt.xlabel('Position',fontsize=16)\n",
    "plt.ylabel('Load',fontsize=16)\n",
    "plt.show()"
   ]
  },
  {
   "cell_type": "code",
   "execution_count": 14,
   "id": "1642d7aa-801c-420d-942e-c095d327b24a",
   "metadata": {},
   "outputs": [
    {
     "name": "stdout",
     "output_type": "stream",
     "text": [
      "LDTransformData (AccumulateData Object)\n",
      "    solution        0.478\n",
      "    comb_bound_low  0.478\n",
      "    comb_bound_high 0.478\n",
      "    comb_flags      1\n",
      "    n_total         2^(10)\n",
      "    n               2^(10)\n",
      "    time_integrate  0.022\n",
      "CubQMCLatticeG (StoppingCriterion Object)\n",
      "    abs_tol         10\n",
      "    rel_tol         0\n",
      "    n_init          2^(10)\n",
      "    n_max           2^(35)\n",
      "CustomFun (Integrand Object)\n",
      "Uniform (TrueMeasure Object)\n",
      "    lower_bound     0\n",
      "    upper_bound     1\n",
      "Lattice (DiscreteDistribution Object)\n",
      "    d               1\n",
      "    dvec            0\n",
      "    randomize       1\n",
      "    order           natural\n",
      "    gen_vec         1\n",
      "    entropy         107990309957717245066407476466898578162\n",
      "    spawn_key       ()\n"
     ]
    }
   ],
   "source": [
    "def f(x):\n",
    "    return x\n",
    "\n",
    "sampler2 = qp.Lattice(1)\n",
    "integrand2 = qp.CustomFun(qp.Uniform(sampler2), f)\n",
    "qmc_stop_crit2 = qp.CubQMCLatticeG(integrand2,abs_tol = 10, ptransform = 'C3SIN') # QMC STOPPING CRITERION\n",
    "#relevant adjustable criteria: tolerance, ptransform (when stopping criteria = lattice)\n",
    "solution2,data2 = qmc_stop_crit2.integrate()\n",
    "print(data)"
   ]
  },
  {
   "cell_type": "code",
   "execution_count": 72,
   "id": "7ff7110b-75a3-4321-b32b-b43b029c6d92",
   "metadata": {},
   "outputs": [
    {
     "name": "stdout",
     "output_type": "stream",
     "text": [
      "0.00022927775938574868\n",
      "0.0008540751535326407\n"
     ]
    }
   ],
   "source": [
    "output_dimension = 7\n",
    "sampler3 = qp.Lattice(output_dimension)\n",
    "coeff = np.zeros(output_dimension) #[1, 1, 1, 0, 0, ..., 0]\n",
    "coeff[0:4] = 1\n",
    "\n",
    "pi = np.pi\n",
    "#phi: R --> R\n",
    "C1SIN = lambda x: x - np.sin(2 * pi * x) / (2 * pi)\n",
    "C1SIN_weight = lambda x: 2 * np.sin(pi * x) ** 2\n",
    "baker = lambda x: 1 - 2 * abs(x - 1 / 2)\n",
    "baker_weight = lambda x: 1\n",
    "\n",
    "phi_funcs = np.full(output_dimension, baker)\n",
    "phi_funcs[0:2] = C1SIN\n",
    "#print(phi_funcs)\n",
    "w_funcs = np.full(output_dimension, baker_weight)\n",
    "w_funcs[0:2] = C1SIN_weight\n",
    "\n",
    "def f(x): #plain baker\n",
    "    out = 1\n",
    "    for j in range(output_dimension):\n",
    "        out = out * (1 + coeff[j] * baker(x[j]) ** 2)\n",
    "    return out\n",
    "\n",
    "def g(x): #partial C1SIN + baker\n",
    "    out = 1\n",
    "    for j in range(output_dimension):\n",
    "        out = out * (1 + coeff[j] * (phi_funcs[j](x[j])**2)) * w_funcs[j](x[j])\n",
    "    return out\n",
    "\n",
    "true_value = np.prod(1 + coeff / 3)\n",
    "\"\"\"\n",
    "distribution_mul, sampler = E_generator(sampler3)\n",
    "integrand3 = qp.CustomFun(qp.Uniform(sampler3), f)\n",
    "stop_crit3 = qp.CubQMCLatticeG(integrand3, abs_tol = 10, ptransform = 'NONE')\n",
    "integrand4 = qp.CustomFun(qp.Uniform(sampler3), g)\n",
    "stop_crit4 = qp.CubQMCLatticeG(integrand4, abs_tol = 10, ptransform = 'NONE')\n",
    "\n",
    "solution3, data3 = stop_crit3.integrate()\n",
    "solution4, data4 = stop_crit4.integrate()\n",
    "print(data3)\n",
    "print(data4)\n",
    "\"\"\"\n",
    "points = sampler3.gen_samples(1024)\n",
    "avg_f = np.mean([f(p) for p in points])\n",
    "avg_g = np.mean([g(p) for p in points])\n",
    "print(abs(true_value - avg_f)) #f error\n",
    "print(abs(true_value - avg_g)) #g error\n",
    "#it seems like as soon as we incorporate some baker into g, f has lower error than g"
   ]
  },
  {
   "cell_type": "code",
   "execution_count": 17,
   "id": "3247e144-e5eb-42cc-9851-c286500ed291",
   "metadata": {},
   "outputs": [
    {
     "data": {
      "text/plain": [
       "array([[0.04226628, 0.94062721, 0.95186367, 0.99320756, 0.89152466,\n",
       "        0.0821347 , 0.34994152, 0.51697455, 0.2437795 , 0.13495747,\n",
       "        0.87110609, 0.0300137 , 0.85843473, 0.82828949, 0.07829743,\n",
       "        0.66728596, 0.2247332 , 0.4094768 , 0.62891762, 0.25302738,\n",
       "        0.39906025, 0.22450384, 0.623328  , 0.75366584, 0.01190172,\n",
       "        0.21889945, 0.59292087, 0.83194548, 0.47449773, 0.37158266,\n",
       "        0.97638879],\n",
       "       [0.54226628, 0.44062721, 0.45186367, 0.49320756, 0.39152466,\n",
       "        0.5821347 , 0.84994152, 0.01697455, 0.7437795 , 0.63495747,\n",
       "        0.37110609, 0.5300137 , 0.35843473, 0.32828949, 0.57829743,\n",
       "        0.16728596, 0.7247332 , 0.9094768 , 0.12891762, 0.75302738,\n",
       "        0.89906025, 0.72450384, 0.123328  , 0.25366584, 0.51190172,\n",
       "        0.71889945, 0.09292087, 0.33194548, 0.97449773, 0.87158266,\n",
       "        0.47638879],\n",
       "       [0.29226628, 0.69062721, 0.70186367, 0.24320756, 0.14152466,\n",
       "        0.8321347 , 0.59994152, 0.26697455, 0.4937795 , 0.88495747,\n",
       "        0.62110609, 0.7800137 , 0.60843473, 0.57828949, 0.32829743,\n",
       "        0.41728596, 0.9747332 , 0.6594768 , 0.37891762, 0.00302738,\n",
       "        0.14906025, 0.97450384, 0.373328  , 0.00366584, 0.76190172,\n",
       "        0.46889945, 0.84292087, 0.08194548, 0.72449773, 0.62158266,\n",
       "        0.22638879],\n",
       "       [0.79226628, 0.19062721, 0.20186367, 0.74320756, 0.64152466,\n",
       "        0.3321347 , 0.09994152, 0.76697455, 0.9937795 , 0.38495747,\n",
       "        0.12110609, 0.2800137 , 0.10843473, 0.07828949, 0.82829743,\n",
       "        0.91728596, 0.4747332 , 0.1594768 , 0.87891762, 0.50302738,\n",
       "        0.64906025, 0.47450384, 0.873328  , 0.50366584, 0.26190172,\n",
       "        0.96889945, 0.34292087, 0.58194548, 0.22449773, 0.12158266,\n",
       "        0.72638879]])"
      ]
     },
     "execution_count": 17,
     "metadata": {},
     "output_type": "execute_result"
    }
   ],
   "source": [
    "sampler3.gen_samples(4)"
   ]
  },
  {
   "cell_type": "code",
   "execution_count": null,
   "id": "0c8e9f74-39ce-4d63-a2a4-b91730e9c972",
   "metadata": {},
   "outputs": [],
   "source": []
  }
 ],
 "metadata": {
  "kernelspec": {
   "display_name": "Python 3 (ipykernel)",
   "language": "python",
   "name": "python3"
  },
  "language_info": {
   "codemirror_mode": {
    "name": "ipython",
    "version": 3
   },
   "file_extension": ".py",
   "mimetype": "text/x-python",
   "name": "python",
   "nbconvert_exporter": "python",
   "pygments_lexer": "ipython3",
   "version": "3.10.10"
  }
 },
 "nbformat": 4,
 "nbformat_minor": 5
}
