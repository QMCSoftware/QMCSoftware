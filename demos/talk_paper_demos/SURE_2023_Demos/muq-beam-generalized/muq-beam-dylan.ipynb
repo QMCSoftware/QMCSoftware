{
 "cells": [
  {
   "cell_type": "markdown",
   "id": "9b09667a",
   "metadata": {},
   "source": [
    "# UM-Bridge with QMCPy\n",
    "\n",
    "Using QMCPy to evaluate the [UM-Bridge Cantilever Beam Function](https://um-bridge-benchmarks.readthedocs.io/en/docs/forward-benchmarks/muq-beam-propagation.html) and approximate the expectation with respect to a uniform random variable. "
   ]
  },
  {
   "cell_type": "markdown",
   "id": "b0e7ef4d",
   "metadata": {},
   "source": [
    "## Imports"
   ]
  },
  {
   "cell_type": "code",
   "execution_count": 1,
   "id": "16a1dbd2",
   "metadata": {
    "tags": []
   },
   "outputs": [],
   "source": [
    "import umbridge\n",
    "import numpy as np\n",
    "import time\n",
    "#import docker\n",
    "\n",
    "#the module needs to be local if any changes have been made locally\n",
    "#uncomment line below to make local qmcpy the import (only need to be done once per session and can be commented out\n",
    "import sys\n",
    "sys.path.insert(0, '../../../../..') #may need to be changed to find correct path to QMCSoftware folder\n",
    "\n",
    "#prints paths available on local system\n",
    "#for p in sys.path:\n",
    "#    print(p)\n",
    "\n",
    "#import qmcpy as qp #non local module import\n",
    "from QMCSoftware import qmcpy as qp #local module import"
   ]
  },
  {
   "cell_type": "markdown",
   "id": "5c6b10d3",
   "metadata": {},
   "source": [
    "## Start Docker Container\n",
    "\n",
    "See the [UM-Bridge Documentation](https://um-bridge-benchmarks.readthedocs.io/en/docs/index.html) for image options. "
   ]
  },
  {
   "cell_type": "code",
   "execution_count": 2,
   "id": "65ea4b9e",
   "metadata": {
    "tags": []
   },
   "outputs": [
    {
     "name": "stdout",
     "output_type": "stream",
     "text": [
      "muqbp_new\n",
      "0eb860a3a4748ca765265ab3a8210752e715b65542c36b574f42be9e670be244\n"
     ]
    }
   ],
   "source": [
    "!docker rm -f muqbp_new\n",
    "!docker run --name muqbp_new -it -d -p 4242:4242 linusseelinger/model-muq-beam:latest\n",
    "#!docker run --name muqbp_new -d -p 4242:4242 my-build\n",
    "#https://stackoverflow.com/questions/43099116/error-the-input-device-is-not-a-tty\n",
    "#running locally"
   ]
  },
  {
   "cell_type": "markdown",
   "id": "49ae9a2e",
   "metadata": {},
   "source": [
    "## Problem Setup"
   ]
  },
  {
   "cell_type": "markdown",
   "id": "f2f49293",
   "metadata": {},
   "source": [
    "Initialize a QMCPy sampler and distribution."
   ]
  },
  {
   "cell_type": "code",
   "execution_count": 2,
   "id": "a90b8ab5",
   "metadata": {
    "tags": []
   },
   "outputs": [],
   "source": [
    "sampler_d = 9\n",
    "sampler = qp.Lattice(dimension = sampler_d,seed=7) # DISCRETE DISTRIBUTION, default = 3\n",
    "distribution = qp.Uniform(sampler,lower_bound=1,upper_bound=1.2) # TRUE MEASURE"
   ]
  },
  {
   "cell_type": "markdown",
   "id": "12525f56",
   "metadata": {},
   "source": [
    "Initialize a UM-Bridge model and wrap it into a QMCPy compatible Integrand"
   ]
  },
  {
   "cell_type": "code",
   "execution_count": 3,
   "id": "2b35f5f4",
   "metadata": {
    "tags": []
   },
   "outputs": [],
   "source": [
    "model = umbridge.HTTPModel('http://localhost:4242', 'forward')\n",
    "output_dimension = 31 #can't find where 31 is in um-bridge so I'm setting it here\n",
    "beam_length = 1\n",
    "umbridge_config = {}\n",
    "\"\"\"DEBUG\n",
    "print(umbridge_config)\n",
    "print(model.get_input_sizes(umbridge_config))\n",
    "print(model.get_output_sizes(umbridge_config))\n",
    "print(distribution.d)\n",
    "\"\"\"\n",
    "\n",
    "import math\n",
    "from sklearn import gaussian_process as gp\n",
    "kernel = gp.kernels.Matern(length_scale = 0.5, nu=1.5)\n",
    "#nu controls smoothness, most efficient when in [0.5, 1.5, 2.5, inf]\n",
    "#0.5 = absolute exponential, 1.5 = once differentiable, 2.5 = twice, ~inf = RBF\n",
    "#length_scale controls \"peakiness\"/frequency, or correlation between points farther from each other\n",
    "\n",
    "def lump(t):\n",
    "    \"\"\" Model 1: fill with ones \"\"\"\n",
    "    tnp = np.array(t[0])\n",
    "    tnewnp = np.ones(output_dimension)\n",
    "    tnewnp[:len(tnp)] = tnp\n",
    "    #print(tnewnp.tolist())\n",
    "    return [tnewnp.tolist()]\n",
    "\n",
    "def lump_2(t):\n",
    "    \"\"\" Model 2: duplicating values \"\"\"\n",
    "    tnp = np.array(t[0])\n",
    "    tnewnp = np.ones(output_dimension)\n",
    "    if len(tnp) < output_dimension:\n",
    "        root = output_dimension // len(tnp)\n",
    "        for i in range(root + output_dimension % len(tnp)):\n",
    "            tnewnp[i] = tnp[0]\n",
    "        #len(tnp) * root + output_dimension % len(tnp) = len(tnp)\n",
    "        for j in range(1, len(tnp)):\n",
    "            for i in range(j * root + output_dimension % len(tnp), (j+1) * root + output_dimension % len(tnp)):\n",
    "                tnewnp[i] = tnp[j]\n",
    "    #print(tnewnp.tolist())\n",
    "    return [tnewnp.tolist()]\n",
    "\n",
    "E_variance = 0.01 \n",
    "#randomness in E(x) values -- experiment with this, since we want to model *some* uncertainty\n",
    "#is there a phase change?\n",
    "x_values = np.arange(float(output_dimension)) * beam_length/float(output_dimension - 1)\n",
    "def E_generator(sampler = sampler):\n",
    "    \"\"\"Model 3: approximating/smushing continuous by returning distribution w/ multivariate, \n",
    "    Gaussian and Matern kernel\n",
    "    \n",
    "    Return:\n",
    "        distribution: a multivariate Gaussian distribution for output_dimension samples\n",
    "        sampler_out: a new version of sampler with 31 dimensions\"\"\"\n",
    "    tnp = np.array([x_values]).T\n",
    "    #print(tnp)\n",
    "    covariances = kernel.__call__(tnp) #takes array of size (# samples) x (# data points)\n",
    "    #print(covariances)\n",
    "    average = np.full(output_dimension, (distribution.upper_bound + distribution.lower_bound) / 2)\n",
    "    #print(average)\n",
    "    sampler_out = sampler.spawn(1, [output_dimension])[0] #new version of sampler with 31 dimensions\n",
    "    return qp.Gaussian(sampler_out, average, E_variance * covariances, decomp_type = 'PCA'), sampler_out\n",
    "\n",
    "weight_decay = 5\n",
    "wiggly_ness = 0.1 #not sure if this is the constant that I want\n",
    "def E_generator_2(t, weight_decay = 5, wiggly_ness = 0.1, output_dimension = 31):\n",
    "    \"\"\"\n",
    "    Model 4: Karhunen-Loeve approximation using Chebyshev polynomials\n",
    "    \n",
    "    Args:\n",
    "        t: n x d_i (input dimension) array of samples\n",
    "    Return:\n",
    "        tnewnp: n x d_o (output dimension) array of samples\"\"\"\n",
    "    tnp = np.array(t[0])\n",
    "    tnewnp = np.zeros(output_dimension) #Y(t) = (X_1 ... X_d) W (\\phi_1(t) ... \\phi_d(t))^T\n",
    "    d = sampler_d #input dimension\n",
    "    X = tnp #d samples, uniform iid from \"distribution\"\n",
    "    W = np.zeros((d, d))\n",
    "    for i in range(d):\n",
    "        W[i][i] = wiggly_ness / ((i+1) ** weight_decay)\n",
    "\n",
    "    for j in range(output_dimension): #t = x_values[j]\n",
    "        phi = np.zeros(d)\n",
    "        for i in range(1, d+1):\n",
    "            #ax+b where a = 2/(u-l), b = 1 - 2u/(u-l)\n",
    "            #print(2 * x_values[j] - 1)\n",
    "            phi[i-1] = math.cos(i * math.acos(2 * x_values[j] - 1)) #Chebyshev polynomials from [0, 1]\n",
    "        phi = np.array([phi]).T #transpose\n",
    "        tnewnp[j] = np.matmul(np.matmul(X, W), phi)\n",
    "        tnewnp[j] += (distribution.lower_bound + distribution.upper_bound) / 2\n",
    "    #print(tnewnp.tolist())\n",
    "    #print(sum(tnewnp)/len(tnewnp))\n",
    "    return [tnewnp.tolist()]\n",
    "\n",
    "def default(t): \n",
    "    \"\"\"For testing analytical model with constant modulus\"\"\"\n",
    "    return [np.full(output_dimension, (distribution.upper_bound + distribution.lower_bound) / 2).tolist()]\n",
    "    \n",
    "distribution_mul, sampler = E_generator() \n",
    "# ^ comment out if you don't want multivariate w/ Matern covariance (and set tf_input_to_umbridge_input = identity)\n",
    "integrand = qp.UMBridgeWrapper(distribution_mul, model, umbridge_config, parallel=False, tf_input_to_umbridge_input = lambda t: t) # INTEGRAND\n",
    "#integrand = qp.UMBridgeWrapper(distribution, model, umbridge_config, parallel=False, tf_input_to_umbridge_input = default) # INTEGRAND"
   ]
  },
  {
   "cell_type": "code",
   "execution_count": 51,
   "id": "0a69d486-2849-4045-bd8f-eac96bdee9a7",
   "metadata": {},
   "outputs": [
    {
     "data": {
      "text/plain": [
       "[0.9930534870356988,\n",
       " 0.9996905963479528,\n",
       " 1.006361770277187,\n",
       " 1.0130701676515668,\n",
       " 1.0198168874580802,\n",
       " 1.0266023083751326,\n",
       " 1.0334268059937457,\n",
       " 1.040291053855695,\n",
       " 1.0471960705594592,\n",
       " 1.0541431359393267,\n",
       " 1.061133664709442,\n",
       " 1.0681690959829462,\n",
       " 1.0752508317267053,\n",
       " 1.0823802364943953,\n",
       " 1.089558694694949,\n",
       " 1.0967877101995482,\n",
       " 1.104069026268486,\n",
       " 1.1114047415892938,\n",
       " 1.1187974006595784,\n",
       " 1.1262500438219853,\n",
       " 1.1337662139646503,\n",
       " 1.141349933238377,\n",
       " 1.149005684111626,\n",
       " 1.1567384546861794,\n",
       " 1.164553938430082,\n",
       " 1.1724590133501598,\n",
       " 1.1804626651240375,\n",
       " 1.1885775628411814,\n",
       " 1.1968225447640257,\n",
       " 1.2052263249137327,\n",
       " 1.213832789310576]"
      ]
     },
     "execution_count": 51,
     "metadata": {},
     "output_type": "execute_result"
    }
   ],
   "source": [
    " #debug\n",
    "from sklearn import datasets as ds\n",
    "\"\"\"\n",
    "X, y = ds.load_iris(return_X_y=True)\n",
    "print(X)\n",
    "print(y)\n",
    "kernel.__call__(X)\n",
    "\"\"\"\n",
    "#kernel.__call__([[1.05], [1.02], [1.06], [1.04]])\n",
    "#E_generator([np.arange(31.0) * beam_length/31.0])\n",
    "#distribution.gen_samples(1)[0]\n",
    "#np.matmul([3, 2, 4], [[1], [2], [1]])\n",
    "E_generator_2([np.random.rand(9) * (distribution.upper_bound - distribution.lower_bound) + distribution.lower_bound])[0]"
   ]
  },
  {
   "cell_type": "markdown",
   "id": "ca82b29b",
   "metadata": {},
   "source": [
    "## Model Evaluation"
   ]
  },
  {
   "cell_type": "code",
   "execution_count": 11,
   "id": "9b5e06c5",
   "metadata": {
    "scrolled": true,
    "tags": []
   },
   "outputs": [
    {
     "name": "stdout",
     "output_type": "stream",
     "text": [
      "(16, 31)\n",
      "(16, 31)\n",
      "<class 'numpy.ndarray'>\n",
      "float64\n",
      "[[    0.            49.78791585   192.7621196    422.59148572\n",
      "    733.1279495   1118.46604199  1572.98660861  2091.39778135\n",
      "   2668.78844848  3300.56678034  3982.38181613  4710.00189528\n",
      "   5479.36187821  6286.56913688  7127.74451887  7999.06025447\n",
      "   8896.84121071  9817.60752099 10758.11177321 11715.35208059\n",
      "  12686.5789386  13669.31431611 14661.33113406 15660.64875728\n",
      "  16665.53741127 17674.5087855  18686.30789248 19699.91294442\n",
      "  20714.5317456  21729.59947379 22744.77883379]\n",
      " [    0.            46.00040414   178.10619829   390.58189566\n",
      "    677.90117526  1034.69372959  1455.71537895  1935.93524914\n",
      "   2470.51040516  3054.75297564  3684.12602644  4354.29035962\n",
      "   5061.11076878  5800.60791421  6569.05041728  7363.0052848\n",
      "   8179.30988074  9015.03570035  9867.46307607 10734.06868632\n",
      "  11612.54718141 12500.8138134  13396.98882102 14299.39461094\n",
      "  15206.56213693 16117.2235893  17030.30820559 17944.9402461\n",
      "  18860.44028277 19776.32497194 20692.30557886]\n",
      " [    0.            44.24535628   170.55955662   372.88096007\n",
      "    645.58261741   983.51432302  1381.84958171  1836.00446093\n",
      "   2341.59948792  2894.38544899  3490.24925564  4125.20701204\n",
      "   4795.37136475  5497.00714118  6226.5980754   6980.88486351\n",
      "   7756.84065047  8551.64881983  9362.67692168 10187.48738361\n",
      "  11023.84961095 11869.73676279 12723.32381892 13582.98824231\n",
      "  14447.29972483 15315.02036663 16185.10518964 17056.70104633\n",
      "  17929.14553884 18801.96665976 19674.88185688]\n",
      " [    0.            41.14668859   159.18928086   349.17128725\n",
      "    606.52502162   926.83090702  1305.58446846  1738.29099853\n",
      "   2220.49636966  2747.94832394  3316.59709345  3922.58108024\n",
      "   4562.21063072  5231.9621354   5928.50402792  6648.68022289\n",
      "   7389.54031022  8148.33999812  8922.55856141  9709.88453452\n",
      "  10508.18563161 11315.50161314 12130.05619818 12950.2757055\n",
      "  13774.79108662 14602.43389294 15432.22905687 16263.3887791\n",
      "  17095.30909968 17927.5640878  18759.90189756]\n",
      " [    0.            54.83711571   213.15391816   468.76623221\n",
      "    815.26764459  1246.3592882   1755.95203673  2338.18557948\n",
      "   2987.33703318  3697.81688277  4464.22846036  5281.4128963\n",
      "   6144.49652535  7048.82867727  7989.93830071  8963.55205595\n",
      "   9965.58876068 10992.23660729 12039.95635769 13105.46814325\n",
      "  14185.77968657 15278.22879236 16380.45084206 17490.34609438\n",
      "  18606.08645691 19726.10744941 20849.09569172 21973.97984549\n",
      "  23099.92756178 24226.34567429 25352.880641  ]\n",
      " [    0.            47.14966684   182.25623901   399.35398108\n",
      "    692.85551855  1057.42531485  1487.84007848  1978.89680273\n",
      "   2525.46422238  3122.61162477  3765.66580377  4450.23367901\n",
      "   5172.19789184  5927.6830566   6713.04933808  7524.84855227\n",
      "   8359.81445097  9214.88493953 10087.23014158 10974.26116277\n",
      "  11873.62681503 12783.18698949 13701.00585765 14625.35073114\n",
      "  15554.6852599  16487.6747779  17423.19275679 18360.32215479\n",
      "  19298.35384986 20236.78465969 21175.31482546]\n",
      " [    0.            45.54745131   175.91451134   385.09385785\n",
      "    667.4125208   1017.42855129  1429.94344184  1900.02664546\n",
      "   2423.06872708  2994.70371461  3610.78506653  4267.33403135\n",
      "   4960.48482794  5686.49787091  6441.815093    7223.07169331\n",
      "   8027.13365301  8851.06578796  9692.13504058 10547.8134818\n",
      "  11415.77066957 12293.87234768 13180.18514289 14072.97605139\n",
      "  14970.71870127 15872.09220288 16775.97978523 17681.47105476\n",
      "  18587.86103694 19494.64893889 20401.53593384]\n",
      " [    0.            50.77639351   196.2982687    429.78529809\n",
      "    744.51705743  1133.9495179   1591.87001471  2112.35650377\n",
      "   2689.72895773  3318.58914713  3993.86418733  4710.86644901\n",
      "   5465.35329425  6253.45855554  7071.62375953  7916.55018269\n",
      "   8785.13905681  9674.46683061 10581.74666578 11504.35360836\n",
      "  12439.84089463 13385.94712398 14340.62030554 15302.03074483\n",
      "  16268.57159697 17238.8581625  18211.73080209 19186.25168038\n",
      "  20161.69719744 21137.55230966 22113.50948032]\n",
      " [    0.            47.0587014    182.23397644   399.91812942\n",
      "    694.82765354  1061.94941179  1496.44588682  1993.64397441\n",
      "   2548.89930499  3157.67291908  3815.51391312  4518.07648792\n",
      "   5261.13981711  6040.6445933   6852.69182882  7693.56938909\n",
      "   8559.7184849   9447.78994868 10354.70069889 11277.60457286\n",
      "  12213.88210403 13161.15269125 14117.2855855  15080.38391221\n",
      "  16048.78332155 17021.05371622 17995.99818624 18972.64509801\n",
      "  19950.24420375 20928.26374852 21906.38777849]\n",
      " [    0.            50.88414422   196.5598467    430.17692037\n",
      "    745.06066681  1134.77207829  1593.24632734  2114.79959377\n",
      "   2694.16785104  3326.44108204  4006.98372394  4731.35267905\n",
      "   5495.27995981  6294.75862872  7126.02594383  7985.53087492\n",
      "   8869.94746521  9776.14797436 10701.17227082 11642.22863161\n",
      "  12596.72768209 13562.30378945 14536.83114868 15518.42577934\n",
      "  16505.43634428 17496.43125837 18490.19506602 19485.72938999\n",
      "  20482.25740402 21479.2254385  22476.3028258 ]\n",
      " [    0.            41.2911251    160.65204064   353.54579157\n",
      "    615.387265     941.58366725  1327.63066346  1769.05484327\n",
      "   2261.39468132  2800.26584399  3381.42464517  4000.82465619\n",
      "   4654.59395157  5339.01955912  6050.63458403  6786.22338217\n",
      "   7542.78563167  8317.5527947   9107.94447084  9911.5908274\n",
      "  10726.33081348 11550.21513049 12381.49268371 13218.60397825\n",
      "  14060.17283722 14905.0029838  15752.08698128 16600.60718144\n",
      "  17449.93212473 18299.61334289 19149.38326062]\n",
      " [    0.            52.28563058   201.99147658   442.08572586\n",
      "    765.77840394  1166.56355322  1638.18102971  2174.69101079\n",
      "   2770.55190258  3420.52920324  4119.62659651  4863.12039692\n",
      "   5646.53532079  6465.62514985  7316.37053016  8195.01839868\n",
      "   9098.10579734 10022.44869689 10965.12972007 11923.47246917\n",
      "  12895.01119715 13877.47653291 14868.79645803 15867.10029519\n",
      "  16870.73652082 17878.27984217 18888.52882623 19900.50427028\n",
      "  20913.44767647 21926.81929146 22940.29727972]\n",
      " [    0.            44.28092105   171.44471103   376.14853654\n",
      "    653.22401596   997.58980277  1404.29427018  1868.53863253\n",
      "   2385.65686053  2951.15647769  3560.68243563  4210.0177887\n",
      "   4895.14348337  5612.28161408  6357.86604557  7128.55456903\n",
      "   7921.23531308  8733.03675734  9561.32849169 10403.69115485\n",
      "  11257.88986868 12121.86487135 12993.75102753 13871.88424314\n",
      "  14754.7961904  15641.22087579 16530.08929862 17420.52465592\n",
      "  18311.84198086 19203.55093158 20095.35775154]\n",
      " [    0.            45.88485091   177.48161565   388.91581354\n",
      "    674.46683614  1028.59270408  1445.94511542  1921.3502431\n",
      "   2449.82792329  3026.65247185  3647.43569607  4308.08773662\n",
      "   5004.8043558   5734.01302308  6492.30669178  7276.40315136\n",
      "   8083.16752321  8909.63132316  9753.00472661 10610.70001884\n",
      "  11480.35581916 12359.85042104 13247.27694332 14140.93638065\n",
      "  15039.34450402 15941.22458659 16845.50270031 17751.30751972\n",
      "  18657.96629212 19565.00192696 20472.1309582 ]\n",
      " [    0.            49.34989564   190.6025336    417.06794252\n",
      "    722.24182574  1099.88957469  1544.14164196  2049.51556417\n",
      "   2610.86133599  3223.27969071  3882.15982985  4583.17055711\n",
      "   5322.18943608  6095.30417456  6898.82829769  7729.28961807\n",
      "   8583.40482399  9458.06186184 10350.34760502 11257.56899228\n",
      "  12177.27069738 13107.24628221 14045.53025452 14990.38328626\n",
      "  15940.27968488 16893.88780943 17850.07620385 18807.91705061\n",
      "  19766.68800012 20725.87224787 21685.15974452]\n",
      " [    0.            44.43163396   172.66367292   379.88589081\n",
      "    661.39147875  1012.47583763  1428.37933281  1904.41142526\n",
      "   2436.09617284  3019.11346074  3649.21769537  4322.27577489\n",
      "   5034.26979713  5781.29171078  6559.50743243  7365.17005591\n",
      "   8194.7474111   9044.95155262  9912.76541347 10795.47632647\n",
      "  11690.64171944 12596.05569364 13509.73776553 14429.9304337\n",
      "  15355.09007107 16283.88787181 17215.20377933 18148.1254679\n",
      "  19081.94830442 20016.17093318 20950.4934986 ]]\n",
      "0.38051819801330566\n"
     ]
    }
   ],
   "source": [
    "start_time = time.time()\n",
    "x = sampler(16) # same as sampler.gen_samples(1024)\n",
    "#as sample size gets larger, since beams are i.i.d, Y should resemble a Gaussian process by the CLT\n",
    "print(x.shape) #prints (# of beams, input)\n",
    "\n",
    "y = integrand.f(x)\n",
    "print(y.shape) #prints (# of beams, output)\n",
    "print(type(y))\n",
    "print(y.dtype)\n",
    "print(y)\n",
    "\n",
    "#time in seconds\n",
    "end_time = time.time()\n",
    "print(end_time - start_time)"
   ]
  },
  {
   "cell_type": "markdown",
   "id": "eee7c1a0",
   "metadata": {},
   "source": [
    "## Automatically Approximate the Expectation"
   ]
  },
  {
   "cell_type": "code",
   "execution_count": 6,
   "id": "5de294a4",
   "metadata": {},
   "outputs": [
    {
     "name": "stdout",
     "output_type": "stream",
     "text": [
      "[13.26006699]\n",
      "LDTransformData (AccumulateData Object)\n",
      "    solution        [    0.       46.99    181.86  ... 19311.522 20251.677 21191.933]\n",
      "    comb_bound_low  [    0.       46.963   181.76  ... 19301.353 20241.016 21180.778]\n",
      "    comb_bound_high [    0.       47.016   181.961 ... 19321.69  20262.339 21203.087]\n",
      "    comb_flags      [ True  True  True ...  True  True  True]\n",
      "    n_total         2^(10)\n",
      "    n               [1024. 1024. 1024. ... 1024. 1024. 1024.]\n",
      "    time_integrate  13.260\n",
      "CubQMCLatticeG (StoppingCriterion Object)\n",
      "    abs_tol         100\n",
      "    rel_tol         0\n",
      "    n_init          2^(10)\n",
      "    n_max           2^(35)\n",
      "UMBridgeWrapper (Integrand Object)\n",
      "Gaussian (TrueMeasure Object)\n",
      "    mean            [1.1 1.1 1.1 ... 1.1 1.1 1.1]\n",
      "    covariance      [[0.01  0.01  0.01  ... 0.002 0.002 0.001]\n",
      "                    [0.01  0.01  0.01  ... 0.002 0.002 0.002]\n",
      "                    [0.01  0.01  0.01  ... 0.002 0.002 0.002]\n",
      "                    ...\n",
      "                    [0.002 0.002 0.002 ... 0.01  0.01  0.01 ]\n",
      "                    [0.002 0.002 0.002 ... 0.01  0.01  0.01 ]\n",
      "                    [0.001 0.002 0.002 ... 0.01  0.01  0.01 ]]\n",
      "    decomp_type     PCA\n",
      "Lattice (DiscreteDistribution Object)\n",
      "    d               31\n",
      "    dvec            [ 0  1  2 ... 28 29 30]\n",
      "    randomize       1\n",
      "    order           natural\n",
      "    gen_vec         [     1 182667 469891 ... 410745 211325  17489]\n",
      "    entropy         7\n",
      "    spawn_key       (0,)\n",
      "[1024.]\n"
     ]
    }
   ],
   "source": [
    "runs = 1\n",
    "times = np.zeros(runs)\n",
    "last_n = np.zeros(runs)\n",
    "data_transforms = []\n",
    "for i in range(runs):\n",
    "    start_time = time.time()\n",
    "    qmc_stop_crit = qp.CubQMCLatticeG(integrand,abs_tol = 100, ptransform = 'NONE') # QMC STOPPING CRITERION\n",
    "    #relevant adjustable criteria: tolerance, ptransform (when stopping criteria = lattice)\n",
    "    solution,data = qmc_stop_crit.integrate()\n",
    "    end_time = time.time()\n",
    "    times[i] = end_time - start_time\n",
    "    last_n[i] = data.n[-1]\n",
    "    #data_transforms.append(data)\n",
    "    \n",
    "#print(end_time - start_time)\n",
    "print(times)\n",
    "print(data)\n",
    "print(last_n)\n",
    "#data.comb_bound_low[-1]"
   ]
  },
  {
   "cell_type": "code",
   "execution_count": 16,
   "id": "9ed2dcda-d447-4c7e-9aa6-b917016da436",
   "metadata": {},
   "outputs": [
    {
     "name": "stdout",
     "output_type": "stream",
     "text": [
      "[1024. 1024. 1024. 1024. 1024. 1024. 1024. 1024. 1024. 1024. 1024. 1024.\n",
      " 1024. 1024. 1024. 1024. 1024. 1024. 1024. 1024. 1024. 1024. 1024. 1024.\n",
      " 1024. 1024. 1024. 1024. 1024. 1024. 1024.]\n"
     ]
    }
   ],
   "source": [
    "print(data.n)"
   ]
  },
  {
   "cell_type": "code",
   "execution_count": 73,
   "id": "8f3a5e78",
   "metadata": {},
   "outputs": [
    {
     "data": {
      "image/png": "[encoded data removed]",
      "text/plain": [
       "<Figure size 600x300 with 1 Axes>"
      ]
     },
     "metadata": {},
     "output_type": "display_data"
    }
   ],
   "source": [
    "from matplotlib import pyplot\n",
    "pyplot.style.use('../../../../qmcpy.mplstyle') #may need to be changed to find path to document in QMCSoftware folder\n",
    "fig,ax = pyplot.subplots(figsize=(6,3))\n",
    "ax.plot(x_values, solution,'-o')\n",
    "ax.plot(x_values, data.comb_bound_low,'-o')\n",
    "ax.plot(x_values, data.comb_bound_high,'-o')\n",
    "ax.set_xlim([0,len(solution)-1]); ax.set_xlabel(r'$x$') #[0,1] -- L=31 internals\n",
    "ax.set_ylim([max(solution), min(solution)]);  ax.set_ylabel(r'$u(x)$');"
   ]
  },
  {
   "cell_type": "markdown",
   "id": "80a0b560",
   "metadata": {},
   "source": [
    "## Parallel Evaluation"
   ]
  },
  {
   "cell_type": "markdown",
   "id": "041ce829",
   "metadata": {},
   "source": [
    "QMCPy can automatically multi-threaded requests to the model by setting `parallel=p` where `p` is the number of processors used by [multiprocessing.pool.ThreadPool](https://docs.python.org/3/library/multiprocessing.html#multiprocessing.pool.ThreadPool). Setting `parallel=True` is equivalent to setting `paralle=os.cpu_count()`."
   ]
  },
  {
   "cell_type": "code",
   "execution_count": 27,
   "id": "ec0b7fce",
   "metadata": {},
   "outputs": [
    {
     "name": "stdout",
     "output_type": "stream",
     "text": [
      "Available CPUs: 8\n"
     ]
    }
   ],
   "source": [
    "import os\n",
    "print('Available CPUs: %d'%os.cpu_count())"
   ]
  },
  {
   "cell_type": "code",
   "execution_count": 81,
   "id": "355a7dbf",
   "metadata": {},
   "outputs": [
    {
     "name": "stdout",
     "output_type": "stream",
     "text": [
      "3.421820640563965\n"
     ]
    },
    {
     "data": {
      "text/plain": [
       "LDTransformData (AccumulateData Object)\n",
       "    solution        [  0.      0.344   1.329 ... 140.952 147.811 154.672]\n",
       "    comb_bound_low  [  0.      0.344   1.329 ... 140.951 147.811 154.671]\n",
       "    comb_bound_high [  0.      0.344   1.329 ... 140.952 147.811 154.672]\n",
       "    comb_flags      [ True  True  True ...  True  True  True]\n",
       "    n_total         2^(10)\n",
       "    n               [1024. 1024. 1024. ... 1024. 1024. 1024.]\n",
       "    time_integrate  3.422\n",
       "CubQMCNetG (StoppingCriterion Object)\n",
       "    abs_tol         10\n",
       "    rel_tol         0\n",
       "    n_init          2^(10)\n",
       "    n_max           2^(35)\n",
       "UMBridgeWrapper (Integrand Object)\n",
       "Gaussian (TrueMeasure Object)\n",
       "    mean            [150. 150. 150. ... 150. 150. 150.]\n",
       "    covariance      [[0.01  0.01  0.01  ... 0.002 0.002 0.001]\n",
       "                    [0.01  0.01  0.01  ... 0.002 0.002 0.002]\n",
       "                    [0.01  0.01  0.01  ... 0.002 0.002 0.002]\n",
       "                    ...\n",
       "                    [0.002 0.002 0.002 ... 0.01  0.01  0.01 ]\n",
       "                    [0.002 0.002 0.002 ... 0.01  0.01  0.01 ]\n",
       "                    [0.001 0.002 0.002 ... 0.01  0.01  0.01 ]]\n",
       "    decomp_type     PCA\n",
       "DigitalNetB2 (DiscreteDistribution Object)\n",
       "    d               31\n",
       "    dvec            [ 0  1  2 ... 28 29 30]\n",
       "    randomize       LMS_DS\n",
       "    graycode        0\n",
       "    entropy         7\n",
       "    spawn_key       (0, 0)"
      ]
     },
     "execution_count": 81,
     "metadata": {},
     "output_type": "execute_result"
    }
   ],
   "source": [
    "integrand = qp.UMBridgeWrapper(distribution_mul,model,umbridge_config,parallel=8,tf_input_to_umbridge_input = lambda t: t)\n",
    "start_time = time.time()\n",
    "solution,data = qp.CubQMCNetG(integrand,abs_tol=10).integrate()\n",
    "end_time = time.time()\n",
    "print(end_time - start_time)\n",
    "data"
   ]
  },
  {
   "cell_type": "markdown",
   "id": "d9154d0f",
   "metadata": {},
   "source": [
    "## Shut Down Docker Image"
   ]
  },
  {
   "cell_type": "code",
   "execution_count": 239,
   "id": "3ff8373a",
   "metadata": {},
   "outputs": [
    {
     "name": "stdout",
     "output_type": "stream",
     "text": [
      "muqbp_new\n"
     ]
    }
   ],
   "source": [
    "!docker rm -f muqbp_new"
   ]
  },
  {
   "cell_type": "markdown",
   "id": "142e61cb",
   "metadata": {},
   "source": [
    "## Testbed"
   ]
  },
  {
   "cell_type": "code",
   "execution_count": 7,
   "id": "50990183-02ab-44bc-9aa2-2fa4aa97f492",
   "metadata": {},
   "outputs": [
    {
     "ename": "TypeError",
     "evalue": "Matern.__init__() got multiple values for argument 'length_scale'",
     "output_type": "error",
     "traceback": [
      "\u001b[1;31m---------------------------------------------------------------------------\u001b[0m",
      "\u001b[1;31mTypeError\u001b[0m                                 Traceback (most recent call last)",
      "Cell \u001b[1;32mIn[7], line 6\u001b[0m\n\u001b[0;32m      3\u001b[0m priorLength \u001b[38;5;241m=\u001b[39m \u001b[38;5;241m0.5\u001b[39m\n\u001b[0;32m      4\u001b[0m priorNu \u001b[38;5;241m=\u001b[39m \u001b[38;5;241m3.0\u001b[39m\u001b[38;5;241m/\u001b[39m\u001b[38;5;241m2.0\u001b[39m \u001b[38;5;66;03m# must take the form N+1/2 for zero or odd N (i.e., {0,1,3,5,...})\u001b[39;00m\n\u001b[1;32m----> 6\u001b[0m kern1 \u001b[38;5;241m=\u001b[39m \u001b[43mgp\u001b[49m\u001b[38;5;241;43m.\u001b[39;49m\u001b[43mkernels\u001b[49m\u001b[38;5;241;43m.\u001b[39;49m\u001b[43mMatern\u001b[49m\u001b[43m(\u001b[49m\u001b[38;5;241;43m1\u001b[39;49m\u001b[43m,\u001b[49m\u001b[43m \u001b[49m\u001b[38;5;241;43m1.0\u001b[39;49m\u001b[43m,\u001b[49m\u001b[43m \u001b[49m\u001b[43mlength_scale\u001b[49m\u001b[43m \u001b[49m\u001b[38;5;241;43m=\u001b[39;49m\u001b[43m \u001b[49m\u001b[43mpriorLength\u001b[49m\u001b[43m,\u001b[49m\u001b[43m \u001b[49m\u001b[43mnu\u001b[49m\u001b[43m \u001b[49m\u001b[38;5;241;43m=\u001b[39;49m\u001b[43m \u001b[49m\u001b[43mpriorNu\u001b[49m\u001b[43m)\u001b[49m\n\u001b[0;32m      7\u001b[0m kern2 \u001b[38;5;241m=\u001b[39m gp\u001b[38;5;241m.\u001b[39mkernels\u001b[38;5;241m.\u001b[39mConstantKernel(\u001b[38;5;241m1\u001b[39m, priorVar)\n\u001b[0;32m      8\u001b[0m kern \u001b[38;5;241m=\u001b[39m kern1 \u001b[38;5;241m+\u001b[39m kern2\n",
      "\u001b[1;31mTypeError\u001b[0m: Matern.__init__() got multiple values for argument 'length_scale'"
     ]
    }
   ],
   "source": [
    "#from http://g2s3.com/labs/notebooks/EulerBernoulliLoads.html and GenerateObservations.py\n",
    "priorVar = 10*10\n",
    "priorLength = 0.5\n",
    "priorNu = 3.0/2.0 # must take the form N+1/2 for zero or odd N (i.e., {0,1,3,5,...})\n",
    "\n",
    "kern1 = ma.MaternKernel(1, 1.0, priorLength, priorNu)\n",
    "kern2 = ma.ConstantKernel(1, priorVar)\n",
    "kern = kern1 + kern2\n",
    "\n",
    "dim =1\n",
    "coDim = 1 # The dimension of the load field at a single point\n",
    "mu = ma.ZeroMean(dim,coDim)\n",
    "\n",
    "priorGP = ma.GaussianProcess(mu,kern)\n",
    "\n",
    "plt.figure(figsize=(14,6))\n",
    "\n",
    "numSamps = 3\n",
    "for i in range(numSamps):\n",
    "    samp = priorGP.Sample(x)\n",
    "    plt.plot(x[0,:], samp[0,:], linewidth=2)\n",
    "    \n",
    "plt.xlabel('Position',fontsize=16)\n",
    "plt.ylabel('Load',fontsize=16)\n",
    "plt.show()"
   ]
  },
  {
   "cell_type": "code",
   "execution_count": 14,
   "id": "1642d7aa-801c-420d-942e-c095d327b24a",
   "metadata": {},
   "outputs": [
    {
     "name": "stdout",
     "output_type": "stream",
     "text": [
      "LDTransformData (AccumulateData Object)\n",
      "    solution        0.478\n",
      "    comb_bound_low  0.478\n",
      "    comb_bound_high 0.478\n",
      "    comb_flags      1\n",
      "    n_total         2^(10)\n",
      "    n               2^(10)\n",
      "    time_integrate  0.022\n",
      "CubQMCLatticeG (StoppingCriterion Object)\n",
      "    abs_tol         10\n",
      "    rel_tol         0\n",
      "    n_init          2^(10)\n",
      "    n_max           2^(35)\n",
      "CustomFun (Integrand Object)\n",
      "Uniform (TrueMeasure Object)\n",
      "    lower_bound     0\n",
      "    upper_bound     1\n",
      "Lattice (DiscreteDistribution Object)\n",
      "    d               1\n",
      "    dvec            0\n",
      "    randomize       1\n",
      "    order           natural\n",
      "    gen_vec         1\n",
      "    entropy         107990309957717245066407476466898578162\n",
      "    spawn_key       ()\n"
     ]
    }
   ],
   "source": [
    "def f(x):\n",
    "    return x\n",
    "\n",
    "sampler2 = qp.Lattice(1)\n",
    "integrand2 = qp.CustomFun(qp.Uniform(sampler2), f)\n",
    "qmc_stop_crit2 = qp.CubQMCLatticeG(integrand2,abs_tol = 10, ptransform = 'C3SIN') # QMC STOPPING CRITERION\n",
    "#relevant adjustable criteria: tolerance, ptransform (when stopping criteria = lattice)\n",
    "solution2,data2 = qmc_stop_crit2.integrate()\n",
    "print(data)"
   ]
  },
  {
   "cell_type": "code",
   "execution_count": 72,
   "id": "7ff7110b-75a3-4321-b32b-b43b029c6d92",
   "metadata": {},
   "outputs": [
    {
     "name": "stdout",
     "output_type": "stream",
     "text": [
      "0.00022927775938574868\n",
      "0.0008540751535326407\n"
     ]
    }
   ],
   "source": [
    "output_dimension = 7\n",
    "sampler3 = qp.Lattice(output_dimension)\n",
    "coeff = np.zeros(output_dimension) #[1, 1, 1, 0, 0, ..., 0]\n",
    "coeff[0:4] = 1\n",
    "\n",
    "pi = np.pi\n",
    "#phi: R --> R\n",
    "C1SIN = lambda x: x - np.sin(2 * pi * x) / (2 * pi)\n",
    "C1SIN_weight = lambda x: 2 * np.sin(pi * x) ** 2\n",
    "baker = lambda x: 1 - 2 * abs(x - 1 / 2)\n",
    "baker_weight = lambda x: 1\n",
    "\n",
    "phi_funcs = np.full(output_dimension, baker)\n",
    "phi_funcs[0:2] = C1SIN\n",
    "#print(phi_funcs)\n",
    "w_funcs = np.full(output_dimension, baker_weight)\n",
    "w_funcs[0:2] = C1SIN_weight\n",
    "\n",
    "def f(x): #plain baker\n",
    "    out = 1\n",
    "    for j in range(output_dimension):\n",
    "        out = out * (1 + coeff[j] * baker(x[j]) ** 2)\n",
    "    return out\n",
    "\n",
    "def g(x): #partial C1SIN + baker\n",
    "    out = 1\n",
    "    for j in range(output_dimension):\n",
    "        out = out * (1 + coeff[j] * (phi_funcs[j](x[j])**2)) * w_funcs[j](x[j])\n",
    "    return out\n",
    "\n",
    "true_value = np.prod(1 + coeff / 3)\n",
    "\"\"\"\n",
    "distribution_mul, sampler = E_generator(sampler3)\n",
    "integrand3 = qp.CustomFun(qp.Uniform(sampler3), f)\n",
    "stop_crit3 = qp.CubQMCLatticeG(integrand3, abs_tol = 10, ptransform = 'NONE')\n",
    "integrand4 = qp.CustomFun(qp.Uniform(sampler3), g)\n",
    "stop_crit4 = qp.CubQMCLatticeG(integrand4, abs_tol = 10, ptransform = 'NONE')\n",
    "\n",
    "solution3, data3 = stop_crit3.integrate()\n",
    "solution4, data4 = stop_crit4.integrate()\n",
    "print(data3)\n",
    "print(data4)\n",
    "\"\"\"\n",
    "points = sampler3.gen_samples(1024)\n",
    "avg_f = np.mean([f(p) for p in points])\n",
    "avg_g = np.mean([g(p) for p in points])\n",
    "print(abs(true_value - avg_f)) #f error\n",
    "print(abs(true_value - avg_g)) #g error\n",
    "#it seems like as soon as we incorporate some baker into g, f has lower error than g"
   ]
  },
  {
   "cell_type": "code",
   "execution_count": 17,
   "id": "3247e144-e5eb-42cc-9851-c286500ed291",
   "metadata": {},
   "outputs": [
    {
     "data": {
      "text/plain": [
       "array([[0.04226628, 0.94062721, 0.95186367, 0.99320756, 0.89152466,\n",
       "        0.0821347 , 0.34994152, 0.51697455, 0.2437795 , 0.13495747,\n",
       "        0.87110609, 0.0300137 , 0.85843473, 0.82828949, 0.07829743,\n",
       "        0.66728596, 0.2247332 , 0.4094768 , 0.62891762, 0.25302738,\n",
       "        0.39906025, 0.22450384, 0.623328  , 0.75366584, 0.01190172,\n",
       "        0.21889945, 0.59292087, 0.83194548, 0.47449773, 0.37158266,\n",
       "        0.97638879],\n",
       "       [0.54226628, 0.44062721, 0.45186367, 0.49320756, 0.39152466,\n",
       "        0.5821347 , 0.84994152, 0.01697455, 0.7437795 , 0.63495747,\n",
       "        0.37110609, 0.5300137 , 0.35843473, 0.32828949, 0.57829743,\n",
       "        0.16728596, 0.7247332 , 0.9094768 , 0.12891762, 0.75302738,\n",
       "        0.89906025, 0.72450384, 0.123328  , 0.25366584, 0.51190172,\n",
       "        0.71889945, 0.09292087, 0.33194548, 0.97449773, 0.87158266,\n",
       "        0.47638879],\n",
       "       [0.29226628, 0.69062721, 0.70186367, 0.24320756, 0.14152466,\n",
       "        0.8321347 , 0.59994152, 0.26697455, 0.4937795 , 0.88495747,\n",
       "        0.62110609, 0.7800137 , 0.60843473, 0.57828949, 0.32829743,\n",
       "        0.41728596, 0.9747332 , 0.6594768 , 0.37891762, 0.00302738,\n",
       "        0.14906025, 0.97450384, 0.373328  , 0.00366584, 0.76190172,\n",
       "        0.46889945, 0.84292087, 0.08194548, 0.72449773, 0.62158266,\n",
       "        0.22638879],\n",
       "       [0.79226628, 0.19062721, 0.20186367, 0.74320756, 0.64152466,\n",
       "        0.3321347 , 0.09994152, 0.76697455, 0.9937795 , 0.38495747,\n",
       "        0.12110609, 0.2800137 , 0.10843473, 0.07828949, 0.82829743,\n",
       "        0.91728596, 0.4747332 , 0.1594768 , 0.87891762, 0.50302738,\n",
       "        0.64906025, 0.47450384, 0.873328  , 0.50366584, 0.26190172,\n",
       "        0.96889945, 0.34292087, 0.58194548, 0.22449773, 0.12158266,\n",
       "        0.72638879]])"
      ]
     },
     "execution_count": 17,
     "metadata": {},
     "output_type": "execute_result"
    }
   ],
   "source": [
    "sampler3.gen_samples(4)"
   ]
  },
  {
   "cell_type": "code",
   "execution_count": 5,
   "id": "fd75c753-1cdf-4a98-8b7f-76a8f0070d2a",
   "metadata": {},
   "outputs": [
    {
     "name": "stdout",
     "output_type": "stream",
     "text": [
      "31\n",
      "(16, 31)\n",
      "(16, 31)\n",
      "<class 'numpy.ndarray'>\n",
      "float64\n",
      "[[    0.            50.64180627   196.23113395   430.38481212\n",
      "    747.49389085  1142.03341587  1608.68792323  2142.27712172\n",
      "   2737.65535322  3389.25216148  4091.59687505  4839.60776603\n",
      "   5628.64889253  6454.42722727  7312.96592214  8200.57626123\n",
      "   9113.78652249 10049.28651871 11003.96101519 11974.99883876\n",
      "  12959.75641822 13955.77120075 14960.89843361 15973.25401567\n",
      "  16991.17842497 18013.23441124 19038.16786054 20064.94665917\n",
      "  21092.76185812 22121.03747253 23149.4277318 ]\n",
      " [    0.            50.17475932   194.59961133   426.82722333\n",
      "    740.19736841  1128.27524109  1584.71421082  2103.55205348\n",
      "   2679.44036998  3307.67591219  3984.05621218  4704.36400992\n",
      "   5464.34286312  6259.81262295  7086.98786847  7942.13335822\n",
      "   8821.91979268  9723.17755385 10642.97688499 11578.35265799\n",
      "  12526.75283009 13485.87205507 14453.6431519  15428.27139418\n",
      "  16408.14240202 17391.83083568 18378.15831333 19366.16998055\n",
      "  20355.12433038 21344.4947031  22333.96851387]\n",
      " [    0.            47.41180264   182.5432973    398.95748964\n",
      "    690.62065683  1051.77183376  1476.87071003  1960.85529288\n",
      "   2498.86978723  3086.25684075  3718.66186628  4391.89937511\n",
      "   5102.08332953  5845.64545033  6619.23500117  7419.65238643\n",
      "   8243.71447931  9088.48771236  9951.3396717  10829.82898785\n",
      "  11721.50236216 12623.97251034 13535.10298207 14453.0258213\n",
      "  15376.12419249 16303.02701433 17232.56814928 18163.79281522\n",
      "  19095.96039981 20028.54809407 20961.24136507]\n",
      " [    0.            43.96215342   170.76657167   375.06783863\n",
      "    651.46513624   994.57202438  1398.79378176  1858.45760601\n",
      "   2368.12879915  2922.83736522  3518.21916709  4150.41008243\n",
      "   4815.66399197  5510.46078085  6231.54959617  6975.80760595\n",
      "   7740.35721892  8522.45807826  9319.60974499 10129.56945033\n",
      "  10950.29525586 11780.01751884 12617.03875896 13459.75758924\n",
      "  14306.83604882 15157.10884623 16009.58974735 16863.47411333\n",
      "  17718.1434567  18573.15952042 19428.26167736]\n",
      " [    0.            44.50483917   172.59921862   379.44396054\n",
      "    660.03682096  1009.30205179  1422.6132798   1895.55832773\n",
      "   2423.51557033  3002.03229173  3626.60569179  4292.97810225\n",
      "   4997.02997347  5734.64089445  6501.82280592  7294.82095996\n",
      "   8110.23084218  8945.02947996  9796.52624804 10662.32723595\n",
      "  11540.22480018 12428.12973277 13324.13155971 14226.53692784\n",
      "  15133.82869156 16044.69541845 16958.04208613 17872.97001565\n",
      "  18788.78362321 19704.98982224 20621.29423425]\n",
      " [    0.            52.93608547   203.64089048   443.933741\n",
      "    766.78564858  1166.0998586   1636.10178648  2170.98923326\n",
      "   2765.41334932  3414.17600156  4112.95453068  4857.08793978\n",
      "   5642.09045363  6464.17386103  7319.87885819  8205.79228176\n",
      "   9118.2445124  10053.80392976 11009.39491581 11982.0090566\n",
      "  12968.90297858 13967.56472751 14975.72626007 15991.38222196\n",
      "  17012.72923474 18038.186642   19066.46798096 20096.54159134\n",
      "  21127.61506227 22159.12782752 23190.74878802]\n",
      " [    0.            48.6161249    188.3652248    413.01463825\n",
      "    715.76748344  1090.42317357  1530.68342067  2030.94298434\n",
      "   2586.04618739  3192.0127215   3844.91377076  4540.58931544\n",
      "   5274.8728515   6043.61492322  6842.71675036  7668.55458574\n",
      "   8517.84257115  9387.5054093  10274.72637048 11176.836071\n",
      "  12091.32731995 13015.9939135  13948.84054822 14888.10086635\n",
      "  15832.2490636  16779.96411004 17730.13992009 18681.88744552\n",
      "  19634.52052356 20587.54489516 21540.6661664 ]\n",
      " [    0.            42.85839642   166.36501961   365.33245555\n",
      "    634.88098023   970.03433809  1366.39895169  1819.76547495\n",
      "   2325.84365977  2880.19736648  3478.28558762  4116.23070901\n",
      "   4790.50718448  5497.48340776  6233.58013058  6995.38884177\n",
      "   7779.80941145  8583.86297417  9404.72512493 10239.85906423\n",
      "  11086.94188099 11943.82515626 12808.60727544 13679.63051301\n",
      "  14555.42336066 15434.71238969 16316.42558465 17199.6875167\n",
      "  18083.81957178 18968.3367844  19852.94991771]\n",
      " [    0.            48.20236058   186.60715186   408.41264344\n",
      "    706.99185119  1076.4135264   1511.45126635  2007.51147492\n",
      "   2559.96937648  3164.10366712  3815.57309587  4509.97924218\n",
      "   5242.92320174  6010.30618749  6808.27965652  7633.47601842\n",
      "   8482.58990666  9352.54083598 10240.43861456 11143.57235916\n",
      "  12059.40303727 12985.68621348 13920.42159318 14861.77350002\n",
      "  15808.17545274 16758.27644213 17710.95956611 18665.30035987\n",
      "  19620.57395121 20576.26089339 21532.05072366]\n",
      " [    0.            46.52673721   180.67444001   397.5842392\n",
      "    692.70082879  1061.63112258  1499.37551673  2000.40835997\n",
      "   2559.20655911  3170.20501274  3828.17210494  4528.40081138\n",
      "   5266.97917098  6040.03783988  6843.8478617   7674.72553379\n",
      "   8529.25050298  9404.3165349  10297.10649789 11204.95933085\n",
      "  12125.45057156 13056.31696624 13995.49859085 14941.198878\n",
      "  15891.84479307 16846.07702207 17802.77692486 18761.04834609\n",
      "  19720.19844405 20679.73375655 21639.36387206]\n",
      " [    0.            50.3401066    194.68737739   427.2277062\n",
      "    742.80334499  1135.72840179  1600.39223526  2130.98526042\n",
      "   2721.51380535  3366.60959555  4061.56985286  4801.75268338\n",
      "   5582.37528854  6398.79173874  7246.867701    8122.86394735\n",
      "   9023.32551075  9945.1893114  10885.49188662 11841.37233754\n",
      "  12810.18811024 13789.69916237 14777.90934333 15772.96369561\n",
      "  16773.2192404  17777.31841333 18784.0917246  19792.57405221\n",
      "  20802.01645442 21811.8833532  22821.85576676]\n",
      " [    0.            46.49014215   179.26153697   391.58466949\n",
      "    677.03877413  1029.63972356  1444.11884333  1915.83202907\n",
      "   2440.46239829  3014.09320315  3633.01568671  4293.59775341\n",
      "   4992.14254285  5725.08955658  6489.07793189  7280.69302608\n",
      "   8096.53805678  8933.27946229  9787.77110863 10657.22925475\n",
      "  11539.24752639 12431.62197733 13332.40222572 14239.85422757\n",
      "  15152.43304098 16068.77579648 16987.73251364 17908.36238474\n",
      "  18829.93272522 19751.92261245 20674.01725182]\n",
      " [    0.            43.22336745   167.03325415   366.21325765\n",
      "    635.80163377   970.70594948  1366.21066474  1817.74148195\n",
      "   2321.14834954  2872.05581269  3466.23379431  4099.65820862\n",
      "   4768.18579918  5468.33740456  6196.83443228  6950.43176345\n",
      "   7726.02913012  8520.69093669  9331.56503152 10156.0963797\n",
      "  10992.01356052 11837.27914564 12690.09830935 13548.8422652\n",
      "  14412.09788758 15278.67325198 16147.55356589 17017.89886203\n",
      "  17889.06197793 18760.58764721 19632.20376305]\n",
      " [    0.            43.89719415   169.64118513   371.37462\n",
      "    643.96289236   982.69051914  1382.92769406  1839.98048611\n",
      "   2349.31405824  2906.05453489  3505.48946875  4143.11266189\n",
      "   4814.82368262  5516.74947166  6245.22978905  6996.8916082\n",
      "   7768.78392328  8558.29043598  9363.11745286 10181.07190777\n",
      "  11010.1085899  11848.34841396 12694.05476609 13545.67383756\n",
      "  14401.79543928 15261.21400449 16122.91313741 16986.07228307\n",
      "  17850.05202252 18714.39424113 19578.82678323]\n",
      " [    0.            50.4939832    195.97804779   430.77318728\n",
      "    749.29827344  1146.14453246  1615.24803502  2150.34584121\n",
      "   2745.79269191  3396.37858286  4096.69385922  4841.92683298\n",
      "   5627.8031441   6450.14764479  7304.84109238  8188.24931117\n",
      "   9096.84739028 10027.40996869 10976.87069959 11942.4134929\n",
      "  12921.38344001 13911.34344427 14910.22632969 15916.20667452\n",
      "  16927.64938771 17943.12386054 18961.37509719 19981.38395513\n",
      "  21002.37894779 22023.8108951  23045.35137776]\n",
      " [    0.            42.15025163   162.96423918   356.78628443\n",
      "    617.99330519   941.3086896   1321.98109901  1755.7649752\n",
      "   2238.58074564  2766.76505978  3336.87251323  3945.4543922\n",
      "   4589.05787126  5264.18673158  5967.57744372  6696.03578509\n",
      "   7446.47985546  8215.91992346  9001.64611487  9801.16474454\n",
      "  10612.20182024 11432.72811377 12260.88195012 13095.02114427\n",
      "  13933.71028813 14775.72124851 15620.03039636 16465.80822663\n",
      "  17312.40964091 18159.37589879 19006.43288323]]\n"
     ]
    },
    {
     "data": {
      "text/plain": [
       "Matern (TrueMeasure Object)\n",
       "    mean            [1.1 1.1 1.1 ... 1.1 1.1 1.1]\n",
       "    covariance      [[0.01  0.01  0.01  ... 0.002 0.002 0.001]\n",
       "                    [0.01  0.01  0.01  ... 0.002 0.002 0.002]\n",
       "                    [0.01  0.01  0.01  ... 0.002 0.002 0.002]\n",
       "                    ...\n",
       "                    [0.002 0.002 0.002 ... 0.01  0.01  0.01 ]\n",
       "                    [0.002 0.002 0.002 ... 0.01  0.01  0.01 ]\n",
       "                    [0.001 0.002 0.002 ... 0.01  0.01  0.01 ]]\n",
       "    decomp_type     PCA"
      ]
     },
     "execution_count": 5,
     "metadata": {},
     "output_type": "execute_result"
    }
   ],
   "source": [
    "### testing matern.py\n",
    "\n",
    "#from ..util import DimensionError, ParameterError\n",
    "#local qmcpy import\n",
    "from QMCSoftware.qmcpy.true_measure.matern import Matern\n",
    "\n",
    "mean = np.full(output_dimension, (distribution.upper_bound + distribution.lower_bound) / 2)\n",
    "print(len(np.atleast_2d(x_values).T))\n",
    "distribution_mul = Matern(sampler, np.atleast_2d(x_values).T, length_scale = 0.5, variance = E_variance, \n",
    "                          mean = mean)\n",
    "integrand = qp.UMBridgeWrapper(distribution_mul, model, umbridge_config, parallel=False, tf_input_to_umbridge_input = lambda t: t) # INTEGRAND\n",
    "x = sampler(16) # same as sampler.gen_samples(1024)\n",
    "#as sample size gets larger, since beams are i.i.d, Y should resemble a Gaussian process by the CLT\n",
    "print(x.shape) #prints (# of beams, input)\n",
    "\n",
    "y = integrand.f(x)\n",
    "print(y.shape) #prints (# of beams, output)\n",
    "print(type(y))\n",
    "print(y.dtype)\n",
    "print(y)\n",
    "\n",
    "distribution_mul"
   ]
  },
  {
   "cell_type": "code",
   "execution_count": 7,
   "id": "88b4960a-5dd3-451b-b277-d17df7627b31",
   "metadata": {},
   "outputs": [
    {
     "ename": "DimensionError",
     "evalue": "The dimensions of the position array, sampler, and means must be equal.",
     "output_type": "error",
     "traceback": [
      "\u001b[1;31m---------------------------------------------------------------------------\u001b[0m",
      "\u001b[1;31mDimensionError\u001b[0m                            Traceback (most recent call last)",
      "Cell \u001b[1;32mIn[7], line 1\u001b[0m\n\u001b[1;32m----> 1\u001b[0m errortest \u001b[38;5;241m=\u001b[39m \u001b[43mMatern\u001b[49m\u001b[43m(\u001b[49m\u001b[43msampler\u001b[49m\u001b[43m,\u001b[49m\u001b[43m \u001b[49m\u001b[43m[\u001b[49m\u001b[38;5;241;43m1\u001b[39;49m\u001b[43m,\u001b[49m\u001b[43m \u001b[49m\u001b[38;5;241;43m1\u001b[39;49m\u001b[43m]\u001b[49m\u001b[43m,\u001b[49m\u001b[43m \u001b[49m\u001b[43mmean\u001b[49m\u001b[43m \u001b[49m\u001b[38;5;241;43m=\u001b[39;49m\u001b[43m \u001b[49m\u001b[43m[\u001b[49m\u001b[38;5;241;43m1\u001b[39;49m\u001b[43m]\u001b[49m\u001b[43m)\u001b[49m\n",
      "File \u001b[1;32m~\\QMCSoftware\\demos\\talk_paper_demos\\SURE_2023_Demos\\muq-beam-generalized\\../../../../..\\QMCSoftware\\qmcpy\\true_measure\\matern.py:78\u001b[0m, in \u001b[0;36mMatern.__init__\u001b[1;34m(self, sampler, x_values, length_scale, nu, variance, mean, decomp_type)\u001b[0m\n\u001b[0;32m     76\u001b[0m     \u001b[38;5;28;01mraise\u001b[39;00m ParameterError(\u001b[38;5;124m\"\u001b[39m\u001b[38;5;124msampler input should either be a DiscreteDistribution or TrueMeasure.\u001b[39m\u001b[38;5;124m\"\u001b[39m)\n\u001b[0;32m     77\u001b[0m \u001b[38;5;28;01mif\u001b[39;00m \u001b[38;5;129;01mnot\u001b[39;00m (\u001b[38;5;28mlen\u001b[39m(x_values) \u001b[38;5;241m==\u001b[39m \u001b[38;5;28mlen\u001b[39m(mean) \u001b[38;5;129;01mand\u001b[39;00m sampler\u001b[38;5;241m.\u001b[39md \u001b[38;5;241m==\u001b[39m \u001b[38;5;28mlen\u001b[39m(mean)):\n\u001b[1;32m---> 78\u001b[0m     \u001b[38;5;28;01mraise\u001b[39;00m DimensionError(\u001b[38;5;124m\"\u001b[39m\u001b[38;5;124mThe dimensions of the position array, sampler, and means must be equal.\u001b[39m\u001b[38;5;124m\"\u001b[39m)\n\u001b[0;32m     79\u001b[0m \u001b[38;5;28mself\u001b[39m\u001b[38;5;241m.\u001b[39mx_values \u001b[38;5;241m=\u001b[39m x_values\n\u001b[0;32m     80\u001b[0m \u001b[38;5;28mself\u001b[39m\u001b[38;5;241m.\u001b[39mlength_scale \u001b[38;5;241m=\u001b[39m length_scale\n",
      "\u001b[1;31mDimensionError\u001b[0m: The dimensions of the position array, sampler, and means must be equal."
     ]
    }
   ],
   "source": [
    "errortest = Matern(sampler, [1, 1], mean = [1])"
   ]
  },
  {
   "cell_type": "code",
   "execution_count": 8,
   "id": "0ba4614b-9d1c-463c-9486-74e334996a58",
   "metadata": {},
   "outputs": [
    {
     "data": {
      "text/plain": [
       "Matern (TrueMeasure Object)\n",
       "    mean            [1.1 1.1 1.1 ... 1.1 1.1 1.1]\n",
       "    covariance      [[0.01  0.01  0.01  ... 0.002 0.002 0.001]\n",
       "                    [0.01  0.01  0.01  ... 0.002 0.002 0.002]\n",
       "                    [0.01  0.01  0.01  ... 0.002 0.002 0.002]\n",
       "                    ...\n",
       "                    [0.002 0.002 0.002 ... 0.01  0.01  0.01 ]\n",
       "                    [0.002 0.002 0.002 ... 0.01  0.01  0.01 ]\n",
       "                    [0.001 0.002 0.002 ... 0.01  0.01  0.01 ]]\n",
       "    decomp_type     PCA"
      ]
     },
     "execution_count": 8,
     "metadata": {},
     "output_type": "execute_result"
    }
   ],
   "source": [
    "distribution_mul._spawn(qp.Lattice(dimension=31, seed=7))"
   ]
  },
  {
   "cell_type": "code",
   "execution_count": 7,
   "id": "c2abd28b-c625-4163-8a88-259dbbe47ebd",
   "metadata": {},
   "outputs": [
    {
     "name": "stdout",
     "output_type": "stream",
     "text": [
      "31\n"
     ]
    },
    {
     "data": {
      "text/plain": [
       "Matern (TrueMeasure Object)\n",
       "    mean            [1.1 1.1 1.1 ... 1.1 1.1 1.1]\n",
       "    covariance      [[0.01  0.01  0.01  ... 0.002 0.002 0.001]\n",
       "                    [0.01  0.01  0.01  ... 0.002 0.002 0.002]\n",
       "                    [0.01  0.01  0.01  ... 0.002 0.002 0.002]\n",
       "                    ...\n",
       "                    [0.002 0.002 0.002 ... 0.01  0.01  0.01 ]\n",
       "                    [0.002 0.002 0.002 ... 0.01  0.01  0.01 ]\n",
       "                    [0.001 0.002 0.002 ... 0.01  0.01  0.01 ]]\n",
       "    decomp_type     PCA"
      ]
     },
     "execution_count": 7,
     "metadata": {},
     "output_type": "execute_result"
    }
   ],
   "source": [
    "mean = np.full(31, 1.1)\n",
    "x_values = np.atleast_2d(np.arange(31.0) / 30.0).T  # [0, 1/30, ..., 1]\n",
    "print(len(x_values))\n",
    "m = Matern(qp.Lattice(dimension = 31,seed=7), points = x_values, length_scale = 0.5, variance = 0.01, mean=mean)\n",
    "m"
   ]
  },
  {
   "cell_type": "code",
   "execution_count": 8,
   "id": "d42b2b84-6cf9-41f8-ad78-790a87a1aa6c",
   "metadata": {},
   "outputs": [
    {
     "data": {
      "text/plain": [
       "array([[1.22818861, 1.22050757, 1.21522052, 1.2144905 , 1.21449756,\n",
       "        1.22499156, 1.24161076, 1.25371086, 1.26118833, 1.2718846 ,\n",
       "        1.27662595, 1.28237625, 1.28688038, 1.28466947, 1.28328019,\n",
       "        1.27822864, 1.26792407, 1.25583031, 1.25052001, 1.24470164,\n",
       "        1.2384988 , 1.2308771 , 1.22744825, 1.2275582 , 1.218964  ,\n",
       "        1.2136328 , 1.2141693 , 1.21792116, 1.21125532, 1.19532303,\n",
       "        1.17649556]])"
      ]
     },
     "execution_count": 8,
     "metadata": {},
     "output_type": "execute_result"
    }
   ],
   "source": [
    "m.gen_samples(1)"
   ]
  },
  {
   "cell_type": "code",
   "execution_count": 10,
   "id": "569d3b18-2f9a-4416-b7fd-7b9ad18116b0",
   "metadata": {},
   "outputs": [
    {
     "ename": "AttributeError",
     "evalue": "'int' object has no attribute 'd'",
     "output_type": "error",
     "traceback": [
      "\u001b[1;31m---------------------------------------------------------------------------\u001b[0m",
      "\u001b[1;31mAttributeError\u001b[0m                            Traceback (most recent call last)",
      "Cell \u001b[1;32mIn[10], line 1\u001b[0m\n\u001b[1;32m----> 1\u001b[0m errortest2 \u001b[38;5;241m=\u001b[39m \u001b[43mMatern\u001b[49m\u001b[43m(\u001b[49m\u001b[38;5;241;43m3\u001b[39;49m\u001b[43m,\u001b[49m\u001b[43m \u001b[49m\u001b[43m[\u001b[49m\u001b[38;5;241;43m1\u001b[39;49m\u001b[43m,\u001b[49m\u001b[43m \u001b[49m\u001b[38;5;241;43m1\u001b[39;49m\u001b[43m]\u001b[49m\u001b[43m,\u001b[49m\u001b[43m \u001b[49m\u001b[43mmean\u001b[49m\u001b[43m \u001b[49m\u001b[38;5;241;43m=\u001b[39;49m\u001b[43m \u001b[49m\u001b[43m[\u001b[49m\u001b[38;5;241;43m1\u001b[39;49m\u001b[43m,\u001b[49m\u001b[43m \u001b[49m\u001b[38;5;241;43m1\u001b[39;49m\u001b[43m]\u001b[49m\u001b[43m)\u001b[49m\n",
      "File \u001b[1;32m~\\QMCSoftware\\demos\\talk_paper_demos\\SURE_2023_Demos\\muq-beam-generalized\\../../../../..\\QMCSoftware\\qmcpy\\true_measure\\matern.py:74\u001b[0m, in \u001b[0;36mMatern.__init__\u001b[1;34m(self, sampler, x_values, length_scale, nu, variance, mean, decomp_type)\u001b[0m\n\u001b[0;32m     49\u001b[0m \u001b[38;5;250m\u001b[39m\u001b[38;5;124;03m\"\"\"\u001b[39;00m\n\u001b[0;32m     50\u001b[0m \u001b[38;5;124;03mMatern kernel: calculates covariance over a metric space based only on the distance between points.\u001b[39;00m\n\u001b[0;32m     51\u001b[0m \u001b[38;5;124;03mMore information can be found at [1].\u001b[39;00m\n\u001b[1;32m   (...)\u001b[0m\n\u001b[0;32m     71\u001b[0m \u001b[38;5;124;03m        \"Cholesky\" for cholesky decomposition.\u001b[39;00m\n\u001b[0;32m     72\u001b[0m \u001b[38;5;124;03m\"\"\"\u001b[39;00m\n\u001b[0;32m     73\u001b[0m \u001b[38;5;66;03m#assert len(x_values) == len(mean)\u001b[39;00m\n\u001b[1;32m---> 74\u001b[0m \u001b[38;5;28;01mif\u001b[39;00m \u001b[38;5;129;01mnot\u001b[39;00m (\u001b[38;5;28mlen\u001b[39m(x_values) \u001b[38;5;241m==\u001b[39m \u001b[38;5;28mlen\u001b[39m(mean) \u001b[38;5;129;01mand\u001b[39;00m \u001b[43msampler\u001b[49m\u001b[38;5;241;43m.\u001b[39;49m\u001b[43md\u001b[49m \u001b[38;5;241m==\u001b[39m \u001b[38;5;28mlen\u001b[39m(mean)):\n\u001b[0;32m     75\u001b[0m     \u001b[38;5;28;01mraise\u001b[39;00m DimensionError(\u001b[38;5;124m\"\u001b[39m\u001b[38;5;124mThe dimensions of the position array, sampler, and means must be equal.\u001b[39m\u001b[38;5;124m\"\u001b[39m)\n\u001b[0;32m     76\u001b[0m \u001b[38;5;28;01mif\u001b[39;00m \u001b[38;5;129;01mnot\u001b[39;00m (\u001b[38;5;28misinstance\u001b[39m(sampler, DiscreteDistribution) \u001b[38;5;129;01mor\u001b[39;00m \u001b[38;5;28misinstance\u001b[39m(sampler, TrueMeasure)):\n",
      "\u001b[1;31mAttributeError\u001b[0m: 'int' object has no attribute 'd'"
     ]
    }
   ],
   "source": [
    "errortest2 = Matern(3, [1, 1], mean = [1, 1])"
   ]
  },
  {
   "cell_type": "code",
   "execution_count": 16,
   "id": "01e6f9dd-662a-4c4d-a685-381d699162d2",
   "metadata": {},
   "outputs": [
    {
     "name": "stdout",
     "output_type": "stream",
     "text": [
      "[14.52580786]\n",
      "LDTransformData (AccumulateData Object)\n",
      "    solution        [    0.       46.735   180.914 ... 19246.34  20183.707 21121.173]\n",
      "    comb_bound_low  [    0.       46.723   180.869 ... 19242.386 20179.562 21116.836]\n",
      "    comb_bound_high [    0.       46.748   180.959 ... 19250.294 20187.852 21125.511]\n",
      "    comb_flags      [ True  True  True ...  True  True  True]\n",
      "    n_total         2^(10)\n",
      "    n               [1024. 1024. 1024. ... 1024. 1024. 1024.]\n",
      "    time_integrate  14.526\n",
      "CubQMCLatticeG (StoppingCriterion Object)\n",
      "    abs_tol         100\n",
      "    rel_tol         0\n",
      "    n_init          2^(10)\n",
      "    n_max           2^(35)\n",
      "UMBridgeWrapper (Integrand Object)\n",
      "Matern (TrueMeasure Object)\n",
      "    mean            [1.1 1.1 1.1 ... 1.1 1.1 1.1]\n",
      "    covariance      [[0.01  0.01  0.01  ... 0.002 0.002 0.001]\n",
      "                    [0.01  0.01  0.01  ... 0.002 0.002 0.002]\n",
      "                    [0.01  0.01  0.01  ... 0.002 0.002 0.002]\n",
      "                    ...\n",
      "                    [0.002 0.002 0.002 ... 0.01  0.01  0.01 ]\n",
      "                    [0.002 0.002 0.002 ... 0.01  0.01  0.01 ]\n",
      "                    [0.001 0.002 0.002 ... 0.01  0.01  0.01 ]]\n",
      "    decomp_type     PCA\n",
      "Lattice (DiscreteDistribution Object)\n",
      "    d               31\n",
      "    dvec            [ 0  1  2 ... 28 29 30]\n",
      "    randomize       1\n",
      "    order           natural\n",
      "    gen_vec         [     1 182667 469891 ... 410745 211325  17489]\n",
      "    entropy         7\n",
      "    spawn_key       (0,)\n",
      "[1024.]\n"
     ]
    }
   ],
   "source": [
    "### testing new matern with stopping criterion\n",
    "mean = np.full(output_dimension, (distribution.upper_bound + distribution.lower_bound) / 2)\n",
    "distribution_mul = Matern(sampler, x_values, length_scale = 0.5, variance = E_variance, \n",
    "                          mean = mean)\n",
    "integrand = qp.UMBridgeWrapper(distribution_mul, model, umbridge_config, parallel=False, tf_input_to_umbridge_input = lambda t: t) # INTEGRAND\n",
    "\n",
    "runs = 1\n",
    "times = np.zeros(runs)\n",
    "last_n = np.zeros(runs)\n",
    "data_transforms = []\n",
    "for i in range(runs):\n",
    "    start_time = time.time()\n",
    "    qmc_stop_crit = qp.CubQMCLatticeG(integrand,abs_tol = 100, ptransform = 'Baker') # QMC STOPPING CRITERION\n",
    "    #relevant adjustable criteria: tolerance, ptransform (when stopping criteria = lattice)\n",
    "    solution,data = qmc_stop_crit.integrate()\n",
    "    end_time = time.time()\n",
    "    times[i] = end_time - start_time\n",
    "    last_n[i] = data.n[-1]\n",
    "    #data_transforms.append(data)\n",
    "    \n",
    "#print(end_time - start_time)\n",
    "print(times)\n",
    "print(data)\n",
    "print(last_n)"
   ]
  },
  {
   "cell_type": "code",
   "execution_count": 13,
   "id": "9962b1d3-ea92-4416-b331-d3c745f2958d",
   "metadata": {},
   "outputs": [
    {
     "name": "stdout",
     "output_type": "stream",
     "text": [
      "Matern (TrueMeasure Object)\n",
      "    mean            [1.1 1.1 1.1]\n",
      "    covariance      [[0.01  0.005 0.002]\n",
      "                    [0.005 0.01  0.008]\n",
      "                    [0.002 0.008 0.01 ]]\n",
      "    decomp_type     PCA\n"
     ]
    },
    {
     "data": {
      "text/plain": [
       "array([[ True,  True,  True],\n",
       "       [ True,  True,  True],\n",
       "       [ True,  True,  True]])"
      ]
     },
     "execution_count": 13,
     "metadata": {},
     "output_type": "execute_result"
    }
   ],
   "source": [
    "points = np.array([[5, 4], [1, 2], [0, 0]])\n",
    "mean = np.full(3, 1.1)\n",
    "m2 = Matern(qp.Lattice(dimension = 3,seed=7), points = points, length_scale = 4, \n",
    "            nu = 2.5, variance = 0.01, mean=mean)\n",
    "print(m2)\n",
    "kernel2 = gp.kernels.Matern(length_scale = 4, nu=2.5)\n",
    "cov2 = 0.01 * kernel2.__call__(points)\n",
    "np.isclose(cov2, m2.covariance)"
   ]
  },
  {
   "cell_type": "code",
   "execution_count": 14,
   "id": "262f9dfa-cc3e-4b98-8844-8e696556631e",
   "metadata": {},
   "outputs": [
    {
     "data": {
      "text/plain": [
       "Matern (TrueMeasure Object)\n",
       "    mean            [1.1 1.1 1.1]\n",
       "    covariance      [[1.000e-02 1.378e-03 3.432e-05]\n",
       "                    [1.378e-03 1.000e-02 1.378e-03]\n",
       "                    [3.432e-05 1.378e-03 1.000e-02]]\n",
       "    decomp_type     CHOLESKY"
      ]
     },
     "execution_count": 14,
     "metadata": {},
     "output_type": "execute_result"
    }
   ],
   "source": [
    "x_values = np.array([0, 1, 2])\n",
    "m3 = Matern(qp.Lattice(dimension = 3,seed=7), x_values, length_scale = 0.5, nu = 3.5, variance = 0.01, mean=mean, decomp_type = 'Cholesky')\n",
    "m3"
   ]
  },
  {
   "cell_type": "code",
   "execution_count": 30,
   "id": "5d11d37f-47b3-47ad-9a3c-96345d1cb29e",
   "metadata": {},
   "outputs": [
    {
     "data": {
      "text/plain": [
       "Matern (TrueMeasure Object)\n",
       "    mean            [1.1 1.1 1.1]\n",
       "    covariance      [[0.01  0.005 0.002]\n",
       "                    [0.005 0.01  0.008]\n",
       "                    [0.002 0.008 0.01 ]]\n",
       "    decomp_type     PCA"
      ]
     },
     "execution_count": 30,
     "metadata": {},
     "output_type": "execute_result"
    }
   ],
   "source": [
    "m2._spawn(qp.Lattice(dimension = 3,seed=7))"
   ]
  },
  {
   "cell_type": "code",
   "execution_count": null,
   "id": "90b841aa-c5bc-42bb-bdf0-c77c309e5825",
   "metadata": {},
   "outputs": [],
   "source": []
  }
 ],
 "metadata": {
  "kernelspec": {
   "display_name": "Python 3 (ipykernel)",
   "language": "python",
   "name": "python3"
  },
  "language_info": {
   "codemirror_mode": {
    "name": "ipython",
    "version": 3
   },
   "file_extension": ".py",
   "mimetype": "text/x-python",
   "name": "python",
   "nbconvert_exporter": "python",
   "pygments_lexer": "ipython3",
   "version": "3.10.10"
  }
 },
 "nbformat": 4,
 "nbformat_minor": 5
}
