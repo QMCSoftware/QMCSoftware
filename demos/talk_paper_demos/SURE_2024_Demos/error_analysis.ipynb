{
 "cells": [
  {
   "cell_type": "markdown",
   "metadata": {},
   "source": [
    "# Set Up"
   ]
  },
  {
   "cell_type": "markdown",
   "metadata": {},
   "source": [
    "## Colab Installation\n",
    "\n",
    "Run the following code block if you are using this Jupyter notebook in Google Colab. Otherwise skip to importing the packages."
   ]
  },
  {
   "cell_type": "code",
   "execution_count": 2,
   "metadata": {},
   "outputs": [
    {
     "name": "stdout",
     "output_type": "stream",
     "text": [
      "Collecting git+https://github.com/QMCSoftware/QMCSoftware.git@SURE2024\n",
      "  Cloning https://github.com/QMCSoftware/QMCSoftware.git (to revision SURE2024) to c:\\users\\waine\\appdata\\local\\temp\\pip-req-build-n4_vfvra\n",
      "  Resolved https://github.com/QMCSoftware/QMCSoftware.git to commit d19070ff3ee86f69f57218b65808e72ba6741d82\n",
      "  Preparing metadata (setup.py): started\n",
      "  Preparing metadata (setup.py): finished with status 'done'\n",
      "Requirement already satisfied: numpy>=1.17.0 in c:\\users\\waine\\miniconda3\\miniconda\\envs\\qmcpy\\lib\\site-packages (from qmcpy==1.4.5) (1.23.4)\n",
      "Requirement already satisfied: scipy>=1.0.0 in c:\\users\\waine\\miniconda3\\miniconda\\envs\\qmcpy\\lib\\site-packages (from qmcpy==1.4.5) (1.9.3)\n",
      "Building wheels for collected packages: qmcpy\n",
      "  Building wheel for qmcpy (setup.py): started\n",
      "  Building wheel for qmcpy (setup.py): finished with status 'done'\n",
      "  Created wheel for qmcpy: filename=qmcpy-1.4.5-cp39-cp39-win_amd64.whl size=7695007 sha256=75d1045a48fad4d790fc2287e686b47b172df533ef825c27fbaa9090edf99a1f\n",
      "  Stored in directory: C:\\Users\\waine\\AppData\\Local\\Temp\\pip-ephem-wheel-cache-x654y6qu\\wheels\\ae\\92\\8c\\9c3620765e56b81faafbec8c64f5d2d942604061db0c3369a2\n",
      "Successfully built qmcpy\n",
      "Installing collected packages: qmcpy\n",
      "Successfully installed qmcpy-1.4.5\n"
     ]
    },
    {
     "name": "stderr",
     "output_type": "stream",
     "text": [
      "  Running command git clone --filter=blob:none --quiet https://github.com/QMCSoftware/QMCSoftware.git 'C:\\Users\\waine\\AppData\\Local\\Temp\\pip-req-build-n4_vfvra'\n",
      "  Running command git checkout -b SURE2024 --track origin/SURE2024\n",
      "  branch 'SURE2024' set up to track 'origin/SURE2024'.\n",
      "  Switched to a new branch 'SURE2024'\n"
     ]
    }
   ],
   "source": [
    "# Run these statements if you are using Google Colab. Otherwise skip this step.\n",
    "!sudo apt install cm-super dvipng texlive-latex-extra texlive-latex-recommended\n",
    "!sudo apt install cm-super\n",
    "!pip install git+https://github.com/QMCSoftware/QMCSoftware.git@SURE2024"
   ]
  },
  {
   "cell_type": "markdown",
   "metadata": {},
   "source": [
    "## Importing Packages"
   ]
  },
  {
   "cell_type": "code",
   "execution_count": 1,
   "metadata": {},
   "outputs": [],
   "source": [
    "import matplotlib.pyplot as plt\n",
    "import math\n",
    "import numpy as np\n",
    "import scipy as sp\n",
    "import qmcpy as qp\n",
    "from scipy import stats\n",
    "from copy import deepcopy\n",
    "import sympy as sy\n",
    "import sympy.stats\n",
    "# figpath = '' #this path sends the figures to the directory that you want\n",
    "# savefigs = True  #save the figures on your disk if True\n",
    "# imgfrmt = 'pdf' #kind of format to save figures as"
   ]
  },
  {
   "cell_type": "markdown",
   "metadata": {},
   "source": [
    "# Definitions of Python Functions\n",
    "\n",
    "The following functions are things that will be repeatedly used in the notebook so that there isn't duplicate code all over the place."
   ]
  },
  {
   "cell_type": "markdown",
   "metadata": {},
   "source": [
    "## Graphing Functions\n",
    "\n",
    "The following functions are to help with graphing."
   ]
  },
  {
   "cell_type": "code",
   "execution_count": 2,
   "metadata": {},
   "outputs": [],
   "source": [
    "def make_grid(d=3, nper=2):\n",
    "    \"\"\"this function creates a nper^d x d matrix of grid points\"\"\"\n",
    "    xpts = np.linspace(1/(2*nper), 1.0-1/(2*nper), nper)  # array of coordinate values\n",
    "    xgrid = xpts  # initial grid\n",
    "    n = nper  # initial length of grid\n",
    "    for ii in range(1,d):\n",
    "        xgrid0 = xgrid  # store the old grid\n",
    "        xgrid = np.vstack((xgrid0, xpts[0] * np.ones((1, n))))  # stack the next coordinate\n",
    "        for jj in range(1, nper):\n",
    "            xgrid = np.hstack((xgrid, np.vstack((xgrid0, xpts[jj] * np.ones((1, n))))))\n",
    "        n = n * nper  # update the length of the grid\n",
    "    return xgrid.T  # take the transpose to that coordinates are columns\n",
    "\n",
    "def plot_grid(xgrid, coord_to_plot=[0, 1], savefig=True, figpath=''):\n",
    "    \"\"\"Plots a dot grid.\"\"\"\n",
    "    n = xgrid.shape[0]\n",
    "    d = xgrid.shape[1]\n",
    "    coord_to_plot = np.minimum(coord_to_plot, [d, d]), # ensure that they are no more than d\n",
    "    coord_to_plot = coord_to_plot[0]\n",
    "    coord_to_plot = np.maximum(coord_to_plot, [1, 1]), # ensure that they are no less than 1\n",
    "    coord_to_plot = coord_to_plot[0]\n",
    "    fig, ax = plt.subplots()\n",
    "    ax.plot(xgrid[:,coord_to_plot[0]-1], xgrid[:,coord_to_plot[1]-1], 'b.', markersize = 10, zorder=10, clip_on=False)\n",
    "    ax.set_title(f\"{n:.0f} Grid Points for $d = ${d:.0f}\")\n",
    "    ax.set_xlim([0, 1])\n",
    "    ax.set_ylim([0, 1])\n",
    "    ax.set_xlabel(r'$x_{i%d}$'%(coord_to_plot[0]), fontsize=14)\n",
    "    ax.set_ylabel(r'$x_{i%d}$'%(coord_to_plot[1]), fontsize=14)\n",
    "    ax.set_aspect(1)\n",
    "    if savefigs:\n",
    "        fig.savefig(figpath + f\"{n:.0f}gridpts_d{d:.0f}.\" + imgfrmt, format=imgfrmt)\n"
   ]
  },
  {
   "cell_type": "code",
   "execution_count": 3,
   "metadata": {},
   "outputs": [],
   "source": [
    "def graph_kernel(bandwidths, lin_spaces, kernel, ylim_lst=[-0.05, 1.2]):\n",
    "  \"\"\"Graphs a given kernel, with given bandwidths, lin_spaces\n",
    "  bandwidths = a list of bandwidths\n",
    "  lin_spaces = a list of 3 integers: start, finish, and number of points\"\"\"\n",
    "  ypts = np.linspace(lin_spaces[0], lin_spaces[1], lin_spaces[2])\n",
    "  nband = len(bandwidths)\n",
    "  fig, ax = plt.subplots(1, 3, figsize=(5*nband, 5))\n",
    "  for ii in range(nband):\n",
    "      ax[ii].plot(ypts,kernel(ypts/bandwidths[ii]) / bandwidths[ii])\n",
    "      ax[ii].grid(False)\n",
    "      ax[ii].set_ylim(ylim_lst)\n",
    "      ax[ii].set_xlabel(r'$y$', fontsize=20)\n",
    "      ax[ii].set_ylabel(r'$h = {%0.1f}$'%bandwidths[ii], fontsize=20)\n",
    "    #   if (ii == 0):\n",
    "    #       ax[ii].set_ylabel(r'$\\widetilde{k}(y) = \\exp(-(y/h)^2)/(\\sqrt{\\pi}h), \\ h = {%0.1f}$'%bandwidths[ii], fontsize=20)\n",
    "    #   else:\n",
    "    #       ax[ii].set_ylabel(r'$h = {%0.1f}$'%bandwidths[ii], fontsize=20)"
   ]
  },
  {
   "cell_type": "code",
   "execution_count": 4,
   "metadata": {},
   "outputs": [],
   "source": [
    "def generate_sobol_iid_graph(bandwidths, lin_spaces, kde, kernel, yiid, ysob, ylim_lst=[-0.05, 1.2]):\n",
    "  \"\"\"Generates a graph using IID and Sobol sample points.\n",
    "  bandwidths = a list of bandwidths\n",
    "  lin_spaces = a list of 3 integers: start, finish, and number of points\n",
    "  kde = name of kde function\n",
    "  kernel = name of kernel function\n",
    "  yiid = set of iid points\n",
    "  ysob = set of LD points generated with sobol sequence\"\"\"\n",
    "  nband = len(bandwidths)\n",
    "  yeval = np.linspace(lin_spaces[0], lin_spaces[1], lin_spaces[2])\n",
    "  for ii in range(nband):\n",
    "      rhovaliid = kde(kernel, yiid, bandwidths[ii], yeval)\n",
    "      rhovalsob = kde(kernel, ysob, bandwidths[ii], yeval)\n",
    "      fig,ax = plt.subplots()\n",
    "      ax.plot(yeval, rhovaliid, label = \"IID\")\n",
    "      ax.plot(yeval, rhovalsob, label = \"Sobol\")\n",
    "      ax.legend()\n",
    "      ax.set_ylim(ylim_lst)\n",
    "      ax.set_title(f\"$h = {bandwidths[ii]:.2f}$\")"
   ]
  },
  {
   "cell_type": "code",
   "execution_count": 5,
   "metadata": {},
   "outputs": [],
   "source": [
    "def generate_graphs(bandwidths, lin_spaces, kde, kernel, sample_points, ylim_lst=[-0.05, 1.2]):\n",
    "  \"\"\"\n",
    "  Generate graphs involving a kde, kernel, and sample_points.\n",
    "  sample_points is a list of IID, Sobol, Lattice, DNB2, and Halton points.\n",
    "  \"\"\"\n",
    "  nband = len(bandwidths)\n",
    "  yeval = np.linspace(lin_spaces[0], lin_spaces[1], lin_spaces[2])\n",
    "  rho_list = list()\n",
    "  for ii in range(nband):\n",
    "      rhovaliid = kde(kernel, sample_points[0], bandwidths[ii], yeval)\n",
    "      rhovalsob = kde(kernel, sample_points[1], bandwidths[ii], yeval)\n",
    "      rhovallattice = kde(kernel, sample_points[2], bandwidths[ii], yeval)\n",
    "      rhovaldnetb2 = kde(kernel, sample_points[3], bandwidths[ii], yeval)\n",
    "      rhovalhalton = kde(kernel, sample_points[4], bandwidths[ii], yeval)\n",
    "      fig, ax = plt.subplots()\n",
    "      ax.plot(yeval, rhovaliid, label = \"IID\")\n",
    "      ax.plot(yeval, rhovalsob, label = \"Sobol\")\n",
    "      ax.plot(yeval, rhovallattice, label = \"Lattice\")\n",
    "      ax.plot(yeval, rhovaldnetb2, label = \"Digital Net B2\")\n",
    "      ax.plot(yeval, rhovalhalton, label = \"Halton\")\n",
    "      ax.legend()\n",
    "      ax.set_ylim(ylim_lst)\n",
    "      ax.set_title(f\"$h = {bandwidths[ii]:.2f}$\")"
   ]
  },
  {
   "cell_type": "markdown",
   "metadata": {},
   "source": [
    "## Generate Functions\n",
    "\n",
    "The following functions are used to generate different types of sample points."
   ]
  },
  {
   "cell_type": "code",
   "execution_count": 6,
   "metadata": {},
   "outputs": [],
   "source": [
    "def gen_iid_and_sobol(dimen = 3, n = 2**12):\n",
    "  \"\"\"Generate IID and Sobol sample points based on given sample size and dimensions.\"\"\"\n",
    "  coord_wts = 2.0 ** (-np.array(range(0, dimen)))\n",
    "  iidpts = qp.IIDStdUniform(dimen).gen_samples(n)\n",
    "  sobpts = qp.Sobol(dimen).gen_samples(n)\n",
    "  return (iidpts, sobpts)\n",
    "\n",
    "def gen_iid_ld_pts(dimen = 3, n = 2**12):\n",
    "  \"\"\"\n",
    "  Generate IID, Sobol, Lattic, DNB2, and Halton sample points,\n",
    "  based on dimension and smaple size.\n",
    "  \"\"\"\n",
    "  coord_wts = 2.0**(-np.array(range(0, dimen)))\n",
    "  iidpts = qp.IIDStdUniform(dimen).gen_samples(n)\n",
    "  sobpts = qp.Sobol(dimen).gen_samples(n)\n",
    "  latticepts = qp.Lattice(dimen).gen_samples(n)\n",
    "  dnetb2pts = qp.DigitalNetB2(dimen).gen_samples(n)\n",
    "  haltonpts = qp.Halton(dimen).gen_samples(n)\n",
    "  return (iidpts, sobpts, latticepts, dnetb2pts, haltonpts)"
   ]
  },
  {
   "cell_type": "markdown",
   "metadata": {},
   "source": [
    "## Generating Points\n",
    "\n",
    "Generating sequences of IID and LD points, with dimensions 1 and 3."
   ]
  },
  {
   "cell_type": "code",
   "execution_count": 7,
   "metadata": {},
   "outputs": [],
   "source": [
    "# dim = 1, n = 2**12\n",
    "iidpts1, sobpts1, latticepts1, dnetb2pts1, haltonpts1 = gen_iid_ld_pts(dimen = 1, n = 2**12)\n",
    "# print(\"iid: \", iidpts1)\n",
    "# print(\"sobol: \", sobpts1)\n",
    "# print(\"lattice: \", latticepts1)\n",
    "# print(\"digital net B2: \", dnetb2pts1)\n",
    "# print(\"halton: \", haltonpts1)"
   ]
  },
  {
   "cell_type": "code",
   "execution_count": 8,
   "metadata": {},
   "outputs": [],
   "source": [
    "# dim = 1, n = 2**10\n",
    "few_iidpts1, few_sobpts1, few_latticepts1, few_dnetb2pts1, few_haltonpts1 = gen_iid_ld_pts(dimen = 1, n = 2**10)\n",
    "# print(\"iid: \", few_iidpts1)\n",
    "# print(\"sobol: \", few_sobpts1)\n",
    "# print(\"lattice: \", few_latticepts1)\n",
    "# print(\"digital net B2: \", few_dnetb2pts1)\n",
    "# print(\"halton: \", few_haltonpts1)"
   ]
  },
  {
   "cell_type": "code",
   "execution_count": 9,
   "metadata": {},
   "outputs": [],
   "source": [
    "# dim = 1, n = 2**14\n",
    "many_iidpts1, many_sobpts1, many_latticepts1, many_dnetb2pts1, many_haltonpts1 = gen_iid_ld_pts(dimen = 1, n = 2**14)\n",
    "# print(\"iid: \", many_iidpts1)\n",
    "# print(\"sobol: \", many_sobpts1)\n",
    "# print(\"lattice: \", many_latticepts1)\n",
    "# print(\"digital net B2: \", many_dnetb2pts1)\n",
    "# print(\"halton: \", many_haltonpts1)"
   ]
  },
  {
   "cell_type": "code",
   "execution_count": 10,
   "metadata": {},
   "outputs": [],
   "source": [
    "# dim = 3, n = 2**12\n",
    "iidpts3, sobpts3, latticepts3, dnetb2pts3, haltonpts3 = gen_iid_ld_pts(dimen = 3, n = 2**12)\n",
    "# print(\"iid: \", iidpts3)\n",
    "# print(\"sobol: \", sobpts3)\n",
    "# print(\"lattice: \", latticepts3)\n",
    "# print(\"digital net B2: \", dnetb2pts3)\n",
    "# print(\"halton: \", haltonpts3)"
   ]
  },
  {
   "cell_type": "code",
   "execution_count": 11,
   "metadata": {},
   "outputs": [],
   "source": [
    "# dim = 3, n = 2**10\n",
    "few_iidpts3, few_sobpts3, few_latticepts3, few_dnetb2pts3, few_haltonpts3 = gen_iid_ld_pts(dimen = 3, n = 2**10)\n",
    "# print(\"iid: \", few_iidpts3)\n",
    "# print(\"sobol: \", few_sobpts3)\n",
    "# print(\"lattice: \", few_latticepts3)\n",
    "# print(\"digital net B2: \", few_dnetb2pts3)\n",
    "# print(\"halton: \", few_haltonpts3)"
   ]
  },
  {
   "cell_type": "code",
   "execution_count": 12,
   "metadata": {},
   "outputs": [],
   "source": [
    "# dim = 3, n = 2**14\n",
    "many_iidpts3, many_sobpts3, many_latticepts3, many_dnetb2pts3, many_haltonpts3 = gen_iid_ld_pts(dimen = 3, n = 2**14)\n",
    "# print(\"iid: \", many_iidpts3)\n",
    "# print(\"sobol: \", many_sobpts3)\n",
    "# print(\"lattice: \", many_latticepts3)\n",
    "# print(\"digital net B2: \", many_dnetb2pts3)\n",
    "# print(\"halton: \", many_haltonpts3)"
   ]
  },
  {
   "cell_type": "markdown",
   "metadata": {},
   "source": [
    "## Kernels and KDEs\n",
    "\n",
    "The following are definitions of different kernels used in the notebook. Some may be defined later, but these are ones used throughout the notebook or commonly used/known."
   ]
  },
  {
   "cell_type": "markdown",
   "metadata": {},
   "source": [
    "The gaussian kernel defined below represents the following:\n",
    "\n",
    "$$\n",
    "\\frac{e^{-y^2}}{\\sqrt{\\pi}}\n",
    "$$"
   ]
  },
  {
   "cell_type": "code",
   "execution_count": 13,
   "metadata": {},
   "outputs": [],
   "source": [
    "def kernel(y):\n",
    "    return np.exp(-y * y) / np.sqrt(np.pi)"
   ]
  },
  {
   "cell_type": "markdown",
   "metadata": {},
   "source": [
    "#### Generate some $y_i=f(x_i)$ points\n",
    "$\n",
    "f(\\mathbf{x}) = 10 \\exp(- w_1x_1 - \\cdots - w_d x_d) \\sin(w_1x_1 + \\cdots +w_d x_d)\n",
    "$"
   ]
  },
  {
   "cell_type": "code",
   "execution_count": 14,
   "metadata": {},
   "outputs": [],
   "source": [
    "def testfun1(x, coord_wts = 1): # function f(x) defines the random variable\n",
    "    wtx = np.multiply(x, coord_wts)\n",
    "    y = 10 * np.exp(-wtx.sum(1)) * np.sin(np.pi * wtx.sum(1))\n",
    "    #y = x[:,0] # if x is uniform, then y is uniform\n",
    "    return y"
   ]
  },
  {
   "cell_type": "code",
   "execution_count": 15,
   "metadata": {},
   "outputs": [],
   "source": [
    "yiid1 = testfun1(iidpts1)\n",
    "ysob1 = testfun1(sobpts1)\n",
    "\n",
    "yiid3 = testfun1(iidpts3)\n",
    "ysob3 = testfun1(sobpts3)"
   ]
  },
  {
   "cell_type": "code",
   "execution_count": 16,
   "metadata": {},
   "outputs": [],
   "source": [
    "many_yiid1 = testfun1(many_iidpts1)\n",
    "many_ysob1 = testfun1(many_sobpts1)\n",
    "\n",
    "many_yiid3 = testfun1(many_iidpts3)\n",
    "many_ysob3 = testfun1(many_sobpts3)"
   ]
  },
  {
   "cell_type": "code",
   "execution_count": 17,
   "metadata": {},
   "outputs": [],
   "source": [
    "few_yiid1 = testfun1(few_iidpts1)\n",
    "few_ysob1 = testfun1(few_sobpts1)\n",
    "\n",
    "few_yiid3 = testfun1(few_iidpts3)\n",
    "few_ysob3 = testfun1(few_sobpts3)"
   ]
  },
  {
   "cell_type": "markdown",
   "metadata": {},
   "source": [
    "The following *Kernel Density Estimator* (KDE)\n",
    "\n",
    "$$\n",
    "\\varrho() = \\frac{k\\left(\\frac{y - Y}{h}\\right)}{h}\n",
    "$$\n",
    "\n",
    "*(Still needs work.)*"
   ]
  },
  {
   "cell_type": "code",
   "execution_count": 18,
   "metadata": {},
   "outputs": [],
   "source": [
    "def kde(kernel, ypts, bandwidth, yeval):\n",
    "    neval = len(yeval)\n",
    "    rhoval = np.zeros_like(yeval) #values of density estimator\n",
    "    for ii in range(len(yeval)):\n",
    "        rhoval[ii] = np.mean(kernel((yeval[ii]-ypts) / bandwidth)) / bandwidth\n",
    "    return rhoval"
   ]
  },
  {
   "cell_type": "code",
   "execution_count": 19,
   "metadata": {},
   "outputs": [],
   "source": [
    "def kde_pt(kernel, ypts, bandwidth, yeval):\n",
    "    # neval = len(yeval)\n",
    "    # rhoval = np.zeros_like(yeval) #values of density estimator\n",
    "    # for ii in range(len(yeval)):\n",
    "    #     rhoval[ii] = np.mean(kernel((yeval[ii]-ypts) / bandwidth)) / bandwidth\n",
    "    return np.mean(kernel((yeval-ypts) / bandwidth)) / bandwidth"
   ]
  },
  {
   "cell_type": "markdown",
   "metadata": {},
   "source": [
    "# Kernel Density Estimator for Uniform Distribution"
   ]
  },
  {
   "cell_type": "code",
   "execution_count": 20,
   "metadata": {},
   "outputs": [],
   "source": [
    "def testfun_unif(x, coord_wts = 1): # function f(x) defines the random variable\n",
    "    wtx = np.multiply(x, coord_wts)\n",
    "    # y = 10*np.exp(-wtx.sum(1))*np.sin(np.pi*wtx.sum(1))\n",
    "    y = x[:,0] # if x is uniform, then y is uniform\n",
    "    return y"
   ]
  },
  {
   "cell_type": "code",
   "execution_count": 21,
   "metadata": {},
   "outputs": [],
   "source": [
    "def testfun_unif_pt(x, coord_wts = 1): # function f(x) defines the random variable\n",
    "    # wtx = np.multiply(x, coord_wts)\n",
    "    # y = 10*np.exp(-wtx.sum(1))*np.sin(np.pi*wtx.sum(1))\n",
    "    # y = x[:,0] # if x is uniform, then y is uniform?\n",
    "    return x"
   ]
  },
  {
   "cell_type": "code",
   "execution_count": 22,
   "metadata": {},
   "outputs": [],
   "source": [
    "yiid_unif1 = testfun_unif(iidpts1)\n",
    "ysob_unif1 = testfun_unif(sobpts1)\n",
    "\n",
    "yiid_unif3 = testfun_unif(iidpts3)\n",
    "ysob_unif3 = testfun_unif(sobpts3)"
   ]
  },
  {
   "cell_type": "code",
   "execution_count": 23,
   "metadata": {},
   "outputs": [],
   "source": [
    "many_yiid_unif1 = testfun_unif(many_iidpts1)\n",
    "many_ysob_unif1 = testfun_unif(many_sobpts1)\n",
    "\n",
    "many_yiid_unif3 = testfun_unif(many_iidpts3)\n",
    "many_ysob_unif3 = testfun_unif(many_sobpts3)"
   ]
  },
  {
   "cell_type": "code",
   "execution_count": 24,
   "metadata": {},
   "outputs": [],
   "source": [
    "few_yiid_unif1 = testfun_unif(few_iidpts1)\n",
    "few_ysob_unif1 = testfun_unif(few_sobpts1)\n",
    "\n",
    "few_yiid_unif3 = testfun_unif(few_iidpts3)\n",
    "few_ysob_unif3 = testfun_unif(few_sobpts3)"
   ]
  },
  {
   "cell_type": "markdown",
   "metadata": {},
   "source": [
    "# Testing different LD sequences: Sobol, Lattice, Digital Net B2, and Halton"
   ]
  },
  {
   "cell_type": "code",
   "execution_count": 25,
   "metadata": {},
   "outputs": [],
   "source": [
    "# iidpts1, sobpts1, latticepts1, dnetb2pts1, haltonpts1 = gen_iid_ld_pts()\n",
    "points1 = gen_iid_ld_pts(dimen = 1, n = 2**12) # dim = 1\n",
    "points3 = gen_iid_ld_pts(dimen = 3, n = 2**12) # dim = 3"
   ]
  },
  {
   "cell_type": "code",
   "execution_count": 26,
   "metadata": {},
   "outputs": [],
   "source": [
    "# using original function f(x)\n",
    "\n",
    "lst_points1 = list()\n",
    "lst_points3 = list()\n",
    "\n",
    "for pts in points1:\n",
    "  lst_points1.append(testfun1(pts))\n",
    "\n",
    "for pts in points3:\n",
    "  lst_points3.append(testfun1(pts))"
   ]
  },
  {
   "cell_type": "markdown",
   "metadata": {},
   "source": [
    "# Testing Different Kernels"
   ]
  },
  {
   "cell_type": "markdown",
   "metadata": {},
   "source": [
    "The following Python function definition is the expression:\n",
    "\n",
    "$$\n",
    "y=\\begin{cases}\n",
    "            \\frac{\\pi}{4}\\cos\\left(\\frac{\\pi}{2} y\\right), & |y| \\leq 1\\\\\n",
    "            0, & Otherwise\n",
    "        \\end{cases}\n",
    "$$"
   ]
  },
  {
   "cell_type": "code",
   "execution_count": 27,
   "metadata": {},
   "outputs": [],
   "source": [
    "# cosine--has best performance according to paper?\n",
    "def kernel_cos(y):\n",
    "    return np.heaviside(1-np.absolute(y), 1/2)*(math.pi/4)*np.cos((math.pi/2)*y)"
   ]
  },
  {
   "cell_type": "markdown",
   "metadata": {},
   "source": [
    "The following Python function defines the kernel:\n",
    "\n",
    "$$\n",
    "y=\\begin{cases}\n",
    "            1 - |y|, & |y| \\leq 1\\\\\n",
    "            0, & Otherwise\n",
    "        \\end{cases}\n",
    "$$"
   ]
  },
  {
   "cell_type": "code",
   "execution_count": 28,
   "metadata": {},
   "outputs": [],
   "source": [
    "# triangular kernel\n",
    "def kernel_tri(y):\n",
    "    return np.heaviside(1-np.absolute(y), 1/2)*(1 - np.absolute(y))"
   ]
  },
  {
   "cell_type": "markdown",
   "metadata": {},
   "source": [
    "The following Python function defines the kernel:\n",
    "\n",
    "$$\n",
    "y=\\begin{cases}\n",
    "            \\frac{1}{\\pi} (1-\\frac{y^2}{2}) e^-(\\frac{y^2}{2}), & |y| \\leq 1\\\\\n",
    "            0, & Otherwise\n",
    "        \\end{cases}\n",
    "$$"
   ]
  },
  {
   "cell_type": "code",
   "execution_count": 29,
   "metadata": {},
   "outputs": [],
   "source": [
    "# laplacian of Gaussian--performed poorly according to paper\n",
    "def kernel_laog(y):\n",
    "    return np.heaviside(1-np.absolute(y), 1/2)*((1/math.pi)*(1-(y**2)/2)*np.exp(-(y**2)/2))"
   ]
  },
  {
   "cell_type": "markdown",
   "metadata": {},
   "source": [
    "## Hermite Kernel\n",
    "\n",
    "The following comes from Dr. Hickernell's KDE experiment notebook.\n"
   ]
  },
  {
   "cell_type": "code",
   "execution_count": 30,
   "metadata": {},
   "outputs": [],
   "source": [
    "# Original hermite kernel function from Dr. Hickernell\n",
    "y = sy.symbols('y', real = True)\n",
    "h = sy.symbols('h', positive = True)\n",
    "def sy_hermite_kernel(y = sy.symbols('y', real = True), band_width = sy.symbols('h', positive = True), r = 1, only_coef = False):\n",
    "    '''\n",
    "    band_width = the kernel band width, often denoted h; a smaller bandwidth means a peakier kernel\n",
    "    r = number of terms in our kernel\n",
    "    '''\n",
    "    \n",
    "#    import sympy as sy\n",
    "    wt = sy.exp(-y*y) #normalizing weight for Hermite functions\n",
    "    k = sy.zeros(r,1) #initialize a vector of bases that make up the kernel\n",
    "    intk = sy.zeros(r,r) #initialize a matrix of integrals of the bases with respect to even degree polynomials\n",
    "    for ii in range(r):\n",
    "        k[ii] = sy.hermite(2*ii,y)*wt #form the bases\n",
    "        for jj in range(r):\n",
    "            intk[jj,ii] = sy.integrate(k[ii]*(y**(2*jj)),(y,-sy.oo,sy.oo)) #evaluate the integrals against even degree monomials\n",
    "            # to hardcode the above line:\n",
    "            # r = 0: intk[jj, ii] = (np.exp(-y**2))/((math.pi)**0.5)\n",
    "            # r = 1: intk[jj, ii] = ((3-2*y**2)*np.exp(-y**2))/(2*(math.pi)**0.5)\n",
    "            # r = 2: intk[jj, ii] = ((4*y**4 - 20*y**2 +15)*np.exp(-y**2))/(8*(math.pi)**0.5)\n",
    "    tot_int = sy.Matrix.vstack(sy.ones(1,1),sy.zeros(r-1,1)) #the kernel should integrate to one, \n",
    "        #and the kernel integrated against y, y^2, ..., y^r should be zero\n",
    "#    print(tot_int)\n",
    "    coef = sy.Matrix(list(sy.linsolve((intk,tot_int)))) #solve the system of equations for the coefficients of the bases\n",
    "    if only_coef:\n",
    "        return coef\n",
    "    print(coef)\n",
    "#    ktilde = coef.dot(k)\n",
    "#    integk = sy.integrate(ktilde,(y,-sy.oo,sy.oo))\n",
    "#    print('integk =',integk)\n",
    "    ktilde = coef.dot(k.subs(y,y/band_width)/band_width) #form the isotropic kernel and insert the bandwidth dependency\n",
    "#    integ = sy.integrate(ktilde,(y,-sy.oo,sy.oo))\n",
    "#    print('integ =',integ)\n",
    "#    print(band_width)\n",
    "#    print(ktilde)\n",
    "    return coef.dot(k.subs(y,y/band_width)/band_width)"
   ]
  },
  {
   "cell_type": "code",
   "execution_count": 31,
   "metadata": {},
   "outputs": [
    {
     "name": "stdout",
     "output_type": "stream",
     "text": [
      "Matrix([[1/sqrt(pi)]])\n",
      "<class 'sympy.core.mul.Mul'>\n",
      "kernel = exp(-y**2/h**2)/(sqrt(pi)*h)\n",
      "integ = 1\n",
      "Matrix([[1/sqrt(pi)]])\n",
      "Matrix([[1/sqrt(pi), -1/(4*sqrt(pi))]])\n",
      "Matrix([[1/sqrt(pi), -1/(4*sqrt(pi)), 1/(32*sqrt(pi))]])\n"
     ]
    }
   ],
   "source": [
    "# testing original hermite kernel function\n",
    "\n",
    "test_kernel_sy = sy_hermite_kernel(r=1) # r = number terms in kernel\n",
    "print(type(test_kernel_sy))\n",
    "print('kernel =',test_kernel_sy)\n",
    "integ = sy.integrate(test_kernel_sy,(y,-sy.oo,sy.oo))\n",
    "print('integ =',integ) # should be 1\n",
    "test_kernel_sy = sy_hermite_kernel(r=1,only_coef = True)\n",
    "print(test_kernel_sy)\n",
    "test_kernel_sy = sy_hermite_kernel(r=2,only_coef = True)\n",
    "print(test_kernel_sy)\n",
    "test_kernel_sy = sy_hermite_kernel(r=3,only_coef = True)\n",
    "print(test_kernel_sy)"
   ]
  },
  {
   "cell_type": "code",
   "execution_count": 32,
   "metadata": {},
   "outputs": [],
   "source": [
    "# hardcoding hermite kernel coefficients\n",
    "\n",
    "def hardcode_hermite_kernel(r):\n",
    "    '''\n",
    "    returns hermite coefficients for r = 0, 1, or 2\n",
    "    band_width = the kernel band width, often denoted h; a smaller bandwidth means a peakier kernel\n",
    "    r = number of terms in our kernel\n",
    "    '''\n",
    "    if r==0:\n",
    "        return sy.Matrix([[1/(math.pi)**0.5]])\n",
    "    elif r==1:\n",
    "        return sy.Matrix([[1/(math.pi)**0.5, -1/(4*(math.pi)**0.5)]])\n",
    "    elif r==2:\n",
    "        return sy.Matrix([[1/(math.pi)**0.5, -1/(4*(math.pi)**0.5), 1/(32*(math.pi)**0.5)]])\n",
    "    else:\n",
    "        raise ValueError(\"Invalid input. r must be 0, 1, or 2.\")\n",
    "    \n",
    "# Coefficients: \n",
    "# r = 0 (corresponds to r = 1 from original function): Matrix([[1/sqrt(pi)]])\n",
    "# r = 1 (corresponds to r = 2 from original function): Matrix([[1/sqrt(pi), -1/(4*sqrt(pi))]])\n",
    "# r = 2 (correpsonds to r = 3 from original function): Matrix([[1/sqrt(pi), -1/(4*sqrt(pi)), 1/(32*sqrt(pi))]])"
   ]
  },
  {
   "cell_type": "code",
   "execution_count": 33,
   "metadata": {},
   "outputs": [],
   "source": [
    "# hardcoding hermite kernel coefficients without sympy\n",
    "\n",
    "def hardcode_hermite_kernel_simple(r):\n",
    "    '''\n",
    "    returns hermite coefficients for r = 0, 1, or 2\n",
    "    band_width = the kernel band width, often denoted h; a smaller bandwidth means a peakier kernel\n",
    "    r = number of terms in our kernel\n",
    "    '''\n",
    "    if r==0:\n",
    "        return np.matrix([1/(math.pi)**0.5])\n",
    "    elif r==1:\n",
    "        return np.matrix([[1/(math.pi)**0.5, -1/(4*(math.pi)**0.5)]])\n",
    "    elif r==2:\n",
    "        return np.matrix([[1/(math.pi)**0.5, -1/(4*(math.pi)**0.5), 1/(32*(math.pi)**0.5)]])\n",
    "    else:\n",
    "        raise ValueError(\"Invalid input. r must be 0, 1, or 2.\")\n",
    "    \n",
    "# Coefficients: \n",
    "# r = 0 (corresponds to r = 1 from original function): Matrix([[1/sqrt(pi)]])\n",
    "# r = 1 (corresponds to r = 2 from original function): Matrix([[1/sqrt(pi), -1/(4*sqrt(pi))]])\n",
    "# r = 2 (correpsonds to r = 3 from original function): Matrix([[1/sqrt(pi), -1/(4*sqrt(pi)), 1/(32*sqrt(pi))]])"
   ]
  },
  {
   "cell_type": "code",
   "execution_count": 34,
   "metadata": {},
   "outputs": [],
   "source": [
    "# original function: define hermite kernel for r = 1 (corresopnds to r = 0 in the hardcoded case)\n",
    "def hermite_kernel(y, r = 1):\n",
    "    '''\n",
    "    r = number of terms in our kernel\n",
    "    '''\n",
    "    coef = np.array(sy.N(sy_hermite_kernel(r = r, only_coef = True)))\n",
    "    # print(coef)\n",
    "    poly = sp.special.hermite(0)\n",
    "    # print(poly)\n",
    "    k = sp.special.hermite(0)(y)*coef[0] #initialize a vector of kernel values\n",
    "    # print(k)\n",
    "    for ii in range(1,r):\n",
    "        k += sp.special.hermite(2*ii)(y)*coef[ii] #add the additional terms\n",
    "    k*=np.exp(-y*y/2) #normalizing weight for Hermite functions #form the isotropic kernel and insert the bandwidth dependency\n",
    "    return k"
   ]
  },
  {
   "cell_type": "code",
   "execution_count": 35,
   "metadata": {},
   "outputs": [],
   "source": [
    "# hardcoded: define hermite kernel for r = 0 (corresponds to r = 1 in the original case)\n",
    "def hardcode_hermite_kernel_weight(y, r = 0):\n",
    "    '''\n",
    "    r = number of terms in our kernel\n",
    "    '''\n",
    "    coef = np.array((hardcode_hermite_kernel(r = r)))\n",
    "    # print(coef)\n",
    "    # poly = sp.special.hermite(0)\n",
    "    # print(poly)\n",
    "    k = sp.special.hermite(0)(y)*coef[0][0] #initialize a vector of kernel values\n",
    "    # print(k)\n",
    "    for ii in range(0,r):\n",
    "        k += sp.special.hermite(2*ii)(y)*coef[0][ii] #add the additional terms\n",
    "    k*=np.exp(-y*y/2) #normalizing weight for Hermite functions #form the isotropic kernel and insert the bandwidth dependency\n",
    "    return k"
   ]
  },
  {
   "cell_type": "code",
   "execution_count": 36,
   "metadata": {},
   "outputs": [],
   "source": [
    "# hardcoded without scipy: define hermite kernel for r = 0 (corresponds to r = 1 in the original case)\n",
    "def simple_hardcode_hermite_kernel_weight(y, r = 0):\n",
    "    '''\n",
    "    r = number of terms in our kernel\n",
    "    '''\n",
    "    coef = np.array((hardcode_hermite_kernel(r = r)))\n",
    "    hermite_polys = [sp.poly1d([1.]), sp.poly1d([4.,  0., -2.]), sp.poly1d([ 1.6000000e+01,  0.0000000e+00, -4.8000000e+01, -8.8817842e-16,\n",
    "        1.2000000e+01])]\n",
    "    # print(coef)\n",
    "    # poly = sp.special.hermite(0)\n",
    "    # print(poly)\n",
    "    k = sp.poly1d([1.])(y)*coef[0][0] #initialize a vector of kernel values\n",
    "    # print(k)\n",
    "    for ii in range(0,r):\n",
    "        k += hermite_polys[r](y)*coef[0][ii] #add the additional terms\n",
    "    k*=np.exp(-y*y/2) #normalizing weight for Hermite functions #form the isotropic kernel and insert the bandwidth dependency\n",
    "    return k"
   ]
  },
  {
   "cell_type": "code",
   "execution_count": 37,
   "metadata": {},
   "outputs": [],
   "source": [
    "# original: define hermite kernel for r = 2 (corresopnds to r = 1 in the hardcoded case)\n",
    "def hermite_kernel_2(y, r = 2):\n",
    "    '''\n",
    "    r = number of terms in our kernel\n",
    "    '''\n",
    "    coef = np.array(sy.N(sy_hermite_kernel(r = r, only_coef = True)))\n",
    "    # print(coef)\n",
    "    poly = sp.special.hermite(0) # why use the 0th polynomial?\n",
    "    # print(poly)\n",
    "    # for i in range(len(coef[0])):\n",
    "    #     print(coef[0][i])\n",
    "    k = sp.special.hermite(0)(y)*coef[0][0] #initialize a vector of kernel values\n",
    "    # print(k)\n",
    "    for ii in range(1,r):\n",
    "        k += sp.special.hermite(2*ii)(y)*coef[0][ii] #add the additional terms\n",
    "    k*=np.exp(-y*y/2) #normalizing weight for Hermite functions #form the isotropic kernel and insert the bandwidth dependency\n",
    "    return k"
   ]
  },
  {
   "cell_type": "code",
   "execution_count": 38,
   "metadata": {},
   "outputs": [],
   "source": [
    "# hardcoded: define hermite kernel for r = 1 (corresponds to r = 2 in the original case)\n",
    "def hardcode_hermite_kernel_weight_1(y, r = 1):\n",
    "    '''\n",
    "    r = number of terms in our kernel\n",
    "    '''\n",
    "    coef = np.array((hardcode_hermite_kernel(r = r)))\n",
    "    # print(coef)\n",
    "    poly = sp.special.hermite(0)\n",
    "    # print(poly)\n",
    "    k = sp.special.hermite(0)(y)*coef[0][0] #initialize a vector of kernel values\n",
    "    # print(k)\n",
    "    for ii in range(0,r):\n",
    "        k += sp.special.hermite(2*ii)(y)*coef[0][ii] #add the additional terms\n",
    "    k*=np.exp(-y*y/2) #normalizing weight for Hermite functions #form the isotropic kernel and insert the bandwidth dependency\n",
    "    return k"
   ]
  },
  {
   "cell_type": "code",
   "execution_count": 39,
   "metadata": {},
   "outputs": [],
   "source": [
    "# hardcoded without scipy: define hermite kernel for r = 1 (corresponds to r = 2 in the original case)\n",
    "def simple_hardcode_hermite_kernel_weight_1(y, r = 1):\n",
    "    '''\n",
    "    r = number of terms in our kernel\n",
    "    '''\n",
    "    coef = np.array((hardcode_hermite_kernel(r = r)))\n",
    "    hermite_polys = [sp.poly1d([1.]), sp.poly1d([4.,  0., -2.]), sp.poly1d([ 1.6000000e+01,  0.0000000e+00, -4.8000000e+01, -8.8817842e-16,\n",
    "        1.2000000e+01])]\n",
    "    # print(coef)\n",
    "    # poly = sp.special.hermite(0)\n",
    "    # print(poly)\n",
    "    k = sp.poly1d([1.])(y)*coef[0][0] #initialize a vector of kernel values\n",
    "    # print(k)\n",
    "    for ii in range(0,r):\n",
    "        k += hermite_polys[r](y)*coef[0][ii] #add the additional terms\n",
    "    k*=np.exp(-y*y/2) #normalizing weight for Hermite functions #form the isotropic kernel and insert the bandwidth dependency\n",
    "    return k"
   ]
  },
  {
   "cell_type": "code",
   "execution_count": 40,
   "metadata": {},
   "outputs": [],
   "source": [
    "# hardcoded: define hermite kernel for r = 2 (corresponds to r = 3 in the original case)\n",
    "def hardcode_hermite_kernel_weight_2(y, r = 2):\n",
    "    '''\n",
    "    r = number of terms in our kernel\n",
    "    '''\n",
    "    coef = np.array((hardcode_hermite_kernel(r = r)))\n",
    "    # print(coef)\n",
    "    poly = sp.special.hermite(0)\n",
    "    # print(poly)\n",
    "    k = sp.special.hermite(0)(y)*coef[0][0] #initialize a vector of kernel values\n",
    "    # print(k)\n",
    "    for ii in range(0,r):\n",
    "        k += sp.special.hermite(2*ii)(y)*coef[0][ii] #add the additional terms\n",
    "    k*=np.exp(-y*y/2) #normalizing weight for Hermite functions #form the isotropic kernel and insert the bandwidth dependency\n",
    "    return k"
   ]
  },
  {
   "cell_type": "code",
   "execution_count": 41,
   "metadata": {},
   "outputs": [],
   "source": [
    "# hardcoded: define hermite kernel for r = 2 (corresponds to r = 3 in the original case)\n",
    "def simple_hardcode_hermite_kernel_weight_2(y, r = 2):\n",
    "    '''\n",
    "    r = number of terms in our kernel\n",
    "    '''\n",
    "    coef = np.array((hardcode_hermite_kernel(r = r)))\n",
    "    hermite_polys = [sp.poly1d([1.]), sp.poly1d([4.,  0., -2.]), sp.poly1d([ 1.6000000e+01,  0.0000000e+00, -4.8000000e+01, -8.8817842e-16,\n",
    "        1.2000000e+01])]\n",
    "    # print(coef)\n",
    "    # poly = sp.special.hermite(0)\n",
    "    # print(poly)\n",
    "    k = sp.poly1d([1.])(y)*coef[0][0]  #initialize a vector of kernel values\n",
    "    # print(k)\n",
    "    for ii in range(0,r):\n",
    "        k += hermite_polys[r](y)*coef[0][ii] #add the additional terms\n",
    "    k*=np.exp(-y*y/2) #normalizing weight for Hermite functions #form the isotropic kernel and insert the bandwidth dependency\n",
    "    return k"
   ]
  },
  {
   "cell_type": "code",
   "execution_count": 42,
   "metadata": {},
   "outputs": [],
   "source": [
    "# using simplified np.matrix for coefficients, instead of sympy.matrix\n",
    "def hardcode_hermite_kernel_weight_v2(y, r = 2):\n",
    "    '''\n",
    "    r = number of terms in our kernel\n",
    "    '''\n",
    "    coef = np.array((hardcode_hermite_kernel_simple(r = r)))\n",
    "    # print(coef)\n",
    "    # poly = sp.special.hermite(0)\n",
    "    # print(poly)\n",
    "    k = sp.special.hermite(0)(y) * coef[0][0] #initialize a vector of kernel values\n",
    "    # print(k)\n",
    "    for ii in range(0, r):\n",
    "        k += sp.special.hermite(2*ii)(y) * coef[0][ii] #add the additional terms\n",
    "    k *= np.exp(-y*y/2) #normalizing weight for Hermite functions #form the isotropic kernel and insert the bandwidth dependency\n",
    "    return k"
   ]
  },
  {
   "cell_type": "markdown",
   "metadata": {},
   "source": [
    "## Testing Different Functions f(x)--using Gaussian kernel in all cases."
   ]
  },
  {
   "cell_type": "markdown",
   "metadata": {},
   "source": [
    "### Exponential Distribution: \n",
    "\n",
    "If X has a standard uniform distribution, i.e., $X \\sim U(0, 1)$, then the random variable $Y = -\\lambda^{-1} ln(X)$ has an exponential distribution with rate parameter $\\lambda$."
   ]
  },
  {
   "cell_type": "code",
   "execution_count": 43,
   "metadata": {},
   "outputs": [],
   "source": [
    "# exponential, lambda = 1:\n",
    "def testfun_exp(x,coord_wts = 1): # function f(x) defines the random variable\n",
    "    wtx = np.multiply(x,coord_wts)\n",
    "    y = -np.log(wtx)\n",
    "    return y"
   ]
  },
  {
   "cell_type": "code",
   "execution_count": 44,
   "metadata": {},
   "outputs": [],
   "source": [
    "def testfun_exp_pt(x,coord_wts = 1): # function f(x) defines the random variable\n",
    "    wtx = np.multiply(x,coord_wts)\n",
    "    y = -np.log(abs(wtx))\n",
    "    return y"
   ]
  },
  {
   "cell_type": "code",
   "execution_count": 45,
   "metadata": {},
   "outputs": [],
   "source": [
    "yiid1_exp = testfun_exp(iidpts1)\n",
    "ysob1_exp = testfun_exp(sobpts1)\n",
    "\n",
    "yiid3_exp = testfun_exp(iidpts3)\n",
    "ysob3_exp = testfun_exp(sobpts3)"
   ]
  },
  {
   "cell_type": "markdown",
   "metadata": {},
   "source": [
    "### Laplace Distribution:\n",
    "\n",
    "If X and Y have a standard uniform distribution, i.e., $X, Y \\sim U(0, 1)$, then $\\log{}{\\frac{X}{Y}} \\sim \\text{Laplace}(0, 1)$. "
   ]
  },
  {
   "cell_type": "code",
   "execution_count": 46,
   "metadata": {},
   "outputs": [],
   "source": [
    "## laplace: mu = 0, b = 1\n",
    "def testfun_laplace(x1,x2,coord_wts = 1): # function f(x) defines the random variable\n",
    "    wtx1 = np.multiply(x1,coord_wts)\n",
    "    wtx2 = np.multiply(x2,coord_wts)\n",
    "    y = np.log10(wtx1/wtx2)\n",
    "    return y"
   ]
  },
  {
   "cell_type": "code",
   "execution_count": 47,
   "metadata": {},
   "outputs": [],
   "source": [
    "# making a second set of iid and sobol points\n",
    "\n",
    "iidpts1_2, sobpts1_2 = gen_iid_and_sobol(dimen = 1, n = 2**12)\n",
    "iidpts3_2, sobpts3_2 = gen_iid_and_sobol(dimen = 3, n = 2**12)"
   ]
  },
  {
   "cell_type": "code",
   "execution_count": 48,
   "metadata": {},
   "outputs": [],
   "source": [
    "yiid_laplace = testfun_laplace(iidpts1, iidpts1_2) \n",
    "ysob_laplace = testfun_laplace(sobpts1, sobpts1_2)\n",
    "\n",
    "yiid_laplace_3 = testfun_laplace(iidpts3, iidpts3_2) \n",
    "ysob_laplace_3 = testfun_laplace(sobpts3, sobpts3_2)"
   ]
  },
  {
   "cell_type": "markdown",
   "metadata": {},
   "source": [
    "## Error Analysis:"
   ]
  },
  {
   "cell_type": "code",
   "execution_count": 49,
   "metadata": {},
   "outputs": [],
   "source": [
    "# import scipy.integrate as integrate"
   ]
  },
  {
   "cell_type": "code",
   "execution_count": 50,
   "metadata": {},
   "outputs": [],
   "source": [
    "# def true_func(true_func, x):\n",
    "#     '''\n",
    "#     returns the true value of a function given an input x\n",
    "#     true_func = the function we are trying to estimate (e.g., f(x), exponential PDF, laplace PDF, etc.)\n",
    "#     x = a float\n",
    "#     '''\n",
    "#     return true_func(x)"
   ]
  },
  {
   "cell_type": "code",
   "execution_count": 51,
   "metadata": {},
   "outputs": [],
   "source": [
    "# def estimated_pts(kde_func, kernel_func, points, bw, x):\n",
    "#     '''\n",
    "#     returns the estimation of a function at a point x using the specified KDE\n",
    "#     kde_func = the function that builds the KDE\n",
    "#     kernel_func = function that defines the kernel\n",
    "#     points = an array of randomly-generated iid or ld points\n",
    "#     bw = bandwidth (a float)\n",
    "#     x = a float\n",
    "#     '''\n",
    "#     return kde_func(kernel_func, points, bw, x)"
   ]
  },
  {
   "cell_type": "code",
   "execution_count": 52,
   "metadata": {},
   "outputs": [],
   "source": [
    "# def squared_difference(true_func, estimate_func, x):\n",
    "#     '''\n",
    "#     returns the squared error between the true value and estimated value at a point x\n",
    "#     true_func = actual function that we are trying to estimate (e.g., f(x), exponential PDF, laplace PDF, etc.)\n",
    "#     estimate_func = function that returns estimation of the function at the point x\n",
    "#     x = a float\n",
    "#     '''\n",
    "#     return (true_func(x) - estimate_func(x))**2"
   ]
  },
  {
   "cell_type": "code",
   "execution_count": 53,
   "metadata": {},
   "outputs": [],
   "source": [
    "# def optimal_h(h_space, pts, kde, kernel, true_function):\n",
    "#     '''\n",
    "#     returns optimal bandwidth and lowest value of MISE\n",
    "#     h_space: a set of bandwidths to be tested (e.g., np.linspace(0.001, 3, 100))\n",
    "#     pts: set of randomly generated points (IID or LD)\n",
    "#     kde: kde function\n",
    "#     kernel: function that defines kernel\n",
    "#     true_function: function that we are trying to estimate (e.g., uniform, exponential, etc.)\n",
    "#     '''\n",
    "\n",
    "#     h_optimal = 0\n",
    "#     lowest_mise = np.inf\n",
    "\n",
    "#     for h in h_space:\n",
    "#         def estimated_pts(x):\n",
    "#             return kde(kernel, pts, h, x)\n",
    "#         def squared_difference_pts(x):\n",
    "#             return (true_function(x) - estimated_pts(x))**2\n",
    "#         mise, error = integrate.quad(squared_difference_pts, -4, 8)\n",
    "#         if mise < lowest_mise:\n",
    "#             lowest_mise = mise\n",
    "#             h_optimal = h\n",
    "\n",
    "#     return(lowest_mise, h_optimal)"
   ]
  },
  {
   "cell_type": "markdown",
   "metadata": {},
   "source": [
    "### Normal distribution"
   ]
  },
  {
   "cell_type": "code",
   "execution_count": 54,
   "metadata": {},
   "outputs": [],
   "source": [
    "from scipy.stats import norm \n",
    "import numpy as np\n",
    "\n",
    "def rmse_normal(h, n, pts, kernel, kde):\n",
    "    '''\n",
    "    returns rmse for a KDE that estimates a uniformly distributed random variable\n",
    "    h = bandwidth\n",
    "    n = number of points\n",
    "    pts = set of iid or ld points\n",
    "    kernel = kernel function\n",
    "    kde = kde function\n",
    "    '''\n",
    "\n",
    "    sum_errors = 0\n",
    "\n",
    "    normal = np.linspace(-4, 8, 500)    #1. update normal distribution \n",
    "    for i in range(len(normal)):\n",
    "       normal[i]=norm.pdf(normal[i], loc=0, scale=1)\n",
    "    \n",
    "    rhoval = kde(kernel, pts, h, np.linspace(-4, 8, 500))\n",
    "\n",
    "    for i in range(500):\n",
    "        sum_errors += (normal[i] - rhoval[i])**2\n",
    "    \n",
    "    rmse = np.sqrt((1/n)*sum_errors)\n",
    "    return rmse"
   ]
  },
  {
   "cell_type": "code",
   "execution_count": 55,
   "metadata": {},
   "outputs": [],
   "source": [
    "#2. transforming points \n",
    "import scipy.stats as stats \n",
    "\n",
    "def testfun_normal(x, coord_wts = 1):  #takign one uniform rv and transofmring into a normal \n",
    "    wtx= np.multiply(x, coord_wts)\n",
    "    normal_rv = stats.norm.pdf(wtx)\n",
    "    return normal_rv"
   ]
  },
  {
   "cell_type": "code",
   "execution_count": 56,
   "metadata": {},
   "outputs": [],
   "source": [
    "yiid1_normal=testfun_normal(iidpts1)\n",
    "yiid3_normal=testfun_normal(iidpts3)\n",
    "\n",
    "ysob1_normal=testfun_normal(sobpts1)\n",
    "ysob3_normal=testfun_normal(sobpts3)"
   ]
  },
  {
   "cell_type": "code",
   "execution_count": 57,
   "metadata": {},
   "outputs": [
    {
     "name": "stdout",
     "output_type": "stream",
     "text": [
      "0.16860338524143395\n"
     ]
    }
   ],
   "source": [
    "print(rmse_normal(0.1, 2**12, ysob3_normal, kernel, kde))"
   ]
  },
  {
   "cell_type": "code",
   "execution_count": 58,
   "metadata": {},
   "outputs": [],
   "source": [
    "h_list = np.linspace(0.001, 1, 100)\n",
    "rmse_list = []\n",
    "for i in range(len(h_list)):\n",
    "    rmse_list.append(rmse_normal(h_list[i], 2**12, ysob3_normal, kernel, kde))"
   ]
  },
  {
   "cell_type": "code",
   "execution_count": 59,
   "metadata": {},
   "outputs": [
    {
     "name": "stdout",
     "output_type": "stream",
     "text": [
      "[0.19844016915346724, 0.24886153333230573, 0.2348897675023285, 0.22277552332087722, 0.2128862098984184, 0.20422583752341053, 0.1961771419974225, 0.18848475321798844, 0.1811007410796959, 0.17405124760107363, 0.16736810522038334, 0.16106746183828058, 0.15514865495298866, 0.14959884297415513, 0.14439791088241827, 0.1395221843363416, 0.13494688551155837, 0.13064762333497007, 0.12660122612157068, 0.12278615400111752, 0.11918265459536276, 0.11577276841198988, 0.11254025102028396, 0.10947045321231715, 0.1065501838586618, 0.10376756983713252, 0.10111192103394144, 0.09857360453235396, 0.0961439297794373, 0.09381504516470127, 0.09157984568325914, 0.08943189095787782, 0.08736533271394843, 0.08537485074902489, 0.08345559645862419, 0.0816031430385107, 0.07981344156018447, 0.07808278219865332, 0.0764077599728646, 0.07478524443568127, 0.0732123528202227, 0.0716864262121202, 0.07020500837279633, 0.06876582688765803, 0.06736677635567004, 0.0660059033737884, 0.06468139310182153, 0.06339155722106297, 0.06213482312405989, 0.060909724193648096, 0.05971489104734186, 0.05854904363870087, 0.05741098412074551, 0.05629959038814625, 0.05521381022502377, 0.05415265599397901, 0.053115199809610346, 0.05210056914642927, 0.05110794283688852, 0.05013654742030628, 0.04918565380790555, 0.048254574233073624, 0.04734265945935699, 0.04644929622170411, 0.045573904879107306, 0.04471593725912045, 0.04387487467678195, 0.04305022611228917, 0.04224152653337641, 0.04144833534977481, 0.04067023498839665, 0.03990682957901158, 0.039157743741183214, 0.03842262146412559, 0.03770112507193415, 0.03699293426735606, 0.03629774524789736, 0.03561526988863185, 0.03494523498658113, 0.03428738156198952, 0.03364146421221882, 0.03300725051435019, 0.03238452047290083, 0.031773066009347414, 0.031172690490402104, 0.030583208292208473, 0.030004444397820074, 0.02943623402549332, 0.02887842228547134, 0.028330863863057526, 0.027793422725878675, 0.027265971853316775, 0.026748392986148763, 0.026240576394474153, 0.025742420662031973, 0.02525383248501107, 0.02477472648344374, 0.024305025023238502, 0.02384465804685887, 0.023393562910586654]\n"
     ]
    }
   ],
   "source": [
    "print(rmse_list)"
   ]
  },
  {
   "cell_type": "code",
   "execution_count": 60,
   "metadata": {},
   "outputs": [
    {
     "name": "stdout",
     "output_type": "stream",
     "text": [
      "Minimum rmse = 0.023393562910586654\n",
      "and corresponding bandwidth is 1.0.\n",
      "Log of bandwidth is 0.0\n"
     ]
    }
   ],
   "source": [
    "min_index = rmse_list.index(min(rmse_list))\n",
    "print(\"Minimum rmse = \" \n",
    "      + str(rmse_list[min_index]) \n",
    "      + \"\\nand corresponding bandwidth is \" \n",
    "      + str(h_list[min_index])\n",
    "      + \".\\nLog of bandwidth is \"\n",
    "      + str(np.log(h_list[min_index])))"
   ]
  },
  {
   "cell_type": "code",
   "execution_count": 61,
   "metadata": {},
   "outputs": [],
   "source": [
    "h_list_log = []\n",
    "for i in range(len(h_list)):\n",
    "    h_list_log.append(np.log(h_list[i]))"
   ]
  },
  {
   "cell_type": "code",
   "execution_count": 62,
   "metadata": {},
   "outputs": [
    {
     "data": {
      "image/png": "[encoded data removed]",
      "text/plain": [
       "<Figure size 640x480 with 1 Axes>"
      ]
     },
     "metadata": {},
     "output_type": "display_data"
    }
   ],
   "source": [
    "fix, ax = plt.subplots()\n",
    "ax.plot(h_list, rmse_list)\n",
    "ax.set_title(\"RMSE values vs. bandwidth for Sobol pts: n = 2^12, dim = 3\")\n",
    "ax.set_xlabel('Log-Scaled Bandwidth')\n",
    "ax.set_ylabel('RMSE')\n",
    "ax.set_xscale('log')"
   ]
  },
  {
   "cell_type": "code",
   "execution_count": 63,
   "metadata": {},
   "outputs": [
    {
     "data": {
      "text/plain": [
       "[0.09818569124224813,\n",
       " 0.11147142336288081,\n",
       " 0.13049812123791493,\n",
       " 0.1251808699660045,\n",
       " 0.11803718531815195,\n",
       " 0.10711970886053156,\n",
       " 0.08436735802496341,\n",
       " 0.060100145563688895,\n",
       " 0.03696699070203247,\n",
       " 0.011695171511139392]"
      ]
     },
     "execution_count": 63,
     "metadata": {},
     "output_type": "execute_result"
    }
   ],
   "source": [
    "# normal, iid, dim = 1, but with a different h_list\n",
    "h_list = [0.001, 0.002, 0.004, 0.01, 0.02, 0.04, 0.1, 0.2, 0.4, 1]\n",
    "rmse_list = []\n",
    "for i in range(len(h_list)):\n",
    "    rmse_list.append(rmse_normal(h_list[i], 2**14, yiid1_normal, kernel, kde))\n",
    "rmse_list"
   ]
  },
  {
   "cell_type": "code",
   "execution_count": 64,
   "metadata": {},
   "outputs": [
    {
     "name": "stdout",
     "output_type": "stream",
     "text": [
      "           2^10      2^11      2^12      2^13      2^14\n",
      "0.001  0.388456  0.274680  0.194228  0.137340  0.097114\n",
      "0.112  0.430038  0.304083  0.215019  0.152041  0.107510\n",
      "0.223  0.516867  0.365480  0.258434  0.182740  0.129217\n",
      "0.334  0.503252  0.355853  0.251626  0.177926  0.125813\n",
      "0.445  0.473931  0.335120  0.236966  0.167560  0.118483\n",
      "0.556  0.427733  0.302453  0.213866  0.151226  0.106933\n",
      "0.667  0.336634  0.238036  0.168317  0.119018  0.084158\n",
      "0.778  0.240186  0.169837  0.120093  0.084919  0.060047\n",
      "0.889  0.147837  0.104537  0.073919  0.052268  0.036959\n",
      "1      0.046812  0.033101  0.023406  0.016551  0.011703\n"
     ]
    }
   ],
   "source": [
    "# Import pandas library\n",
    "import pandas as pd\n",
    "\n",
    "# Initialize data to Dicts of series. uniform, iid, dim = 1\n",
    "d = {'2^10': pd.Series([0.38845585854958264, 0.4300380739483409, 0.5168673020999843, 0.5032518345210842, 0.47393103058479646, \n",
    "                        0.4277327808528639, 0.3366335105324015, 0.24018621542702634, 0.14783744404004173, 0.04681201442964332],\n",
    "                        index=['0.001', '0.112', '0.223', '0.334', '0.445', '0.556', '0.667', '0.778', '0.889', '1']),\n",
    "    '2^11': pd.Series([0.2746797717720522, 0.30408283825727384, 0.3654803742884948, 0.35585278483442895, 0.33511984554123864,\n",
    "                       0.3024527498768395, 0.23803583807209416, 0.1698373016759833, 0.10453685919400026, 0.0331010928442033],\n",
    "                      index=['0.001', '0.112', '0.223', '0.334', '0.445', '0.556', '0.667', '0.778', '0.889', '1']),\n",
    "    '2^12': pd.Series([0.19422792927479132, 0.21501903697417046, 0.25843365104999216, 0.2516259172605421, 0.23696551529239823,\n",
    "                       0.21386639042643196, 0.16831675526620074, 0.12009310771351317, 0.07391872202002087, 0.02340600721482166],\n",
    "                      index=['0.001', '0.112', '0.223', '0.334', '0.445', '0.556', '0.667', '0.778', '0.889', '1']),\n",
    "    '2^13': pd.Series([0.1373398858860261, 0.15204141912863692, 0.1827401871442474, 0.17792639241721447, 0.16755992277061932,\n",
    "                       0.15122637493841976, 0.11901791903604708, 0.08491865083799165, 0.05226842959700013, 0.01655054642210165],\n",
    "                      index=['0.001', '0.112', '0.223', '0.334', '0.445', '0.556', '0.667', '0.778', '0.889', '1']),\n",
    "    '2^14': pd.Series([0.09711396463739566, 0.10750951848708523, 0.12921682552499608, 0.12581295863027106, 0.11848275764619912,\n",
    "                       0.10693319521321598, 0.08415837763310037, 0.060046553856756585, 0.03695936101001043, 0.01170300360741083],\n",
    "                      index=['0.001', '0.112', '0.223', '0.334', '0.445', '0.556', '0.667', '0.778', '0.889', '1'])\n",
    "                      }\n",
    "\n",
    "# creates Dataframe.\n",
    "df = pd.DataFrame(d)\n",
    "\n",
    "# print the data.\n",
    "print(df)"
   ]
  },
  {
   "cell_type": "code",
   "execution_count": 65,
   "metadata": {},
   "outputs": [
    {
     "data": {
      "text/plain": [
       "Text(103.84722222222221, 0.5, 'Bandwidth')"
      ]
     },
     "execution_count": 65,
     "metadata": {},
     "output_type": "execute_result"
    },
    {
     "data": {
      "image/png": "[encoded data removed]",
      "text/plain": [
       "<Figure size 400x400 with 2 Axes>"
      ]
     },
     "metadata": {},
     "output_type": "display_data"
    }
   ],
   "source": [
    "import numpy as np\n",
    "import matplotlib.pyplot as plt\n",
    " \n",
    "fig, ax = plt.subplots(figsize=(4, 4))\n",
    "im = ax.imshow(df)\n",
    "ax.set_title(\"RMSE for Normal distribution, dim = 1\", size=10)\n",
    "fig.tight_layout()\n",
    "\n",
    "yaxis = df.index.values\n",
    "xaxis = df.columns.values\n",
    "# Add axis tick labels\n",
    "ax.set_xticks(np.arange(len(xaxis)), \n",
    "              labels=xaxis)\n",
    "ax.set_yticks(np.arange(len(yaxis)), \n",
    "              labels=yaxis)\n",
    "\n",
    "cbar = ax.figure.colorbar(im, \n",
    "                          ax = ax,\n",
    "                          shrink=0.75)\n",
    "\n",
    "# Rotate the tick labels to be more legible\n",
    "plt.setp(ax.get_xticklabels(),\n",
    "         rotation = 45,\n",
    "         ha = \"right\",\n",
    "         rotation_mode = \"anchor\")\n",
    "\n",
    "plt.xlabel(\"Sample size\") \n",
    "plt.ylabel(\"Bandwidth\") "
   ]
  },
  {
   "cell_type": "markdown",
   "metadata": {},
   "source": [
    "### Uniformly distributed random variable"
   ]
  },
  {
   "cell_type": "code",
   "execution_count": 66,
   "metadata": {},
   "outputs": [],
   "source": [
    "def rmse_unif(h, n, pts, kernel, kde):\n",
    "    '''\n",
    "    returns rmse for a KDE that estimates a uniformly distributed random variable\n",
    "    h = bandwidth\n",
    "    n = number of points\n",
    "    pts = set of iid or ld points\n",
    "    kernel = kernel function\n",
    "    kde = kde function\n",
    "    '''\n",
    "\n",
    "    sum_errors = 0\n",
    "\n",
    "    unif = np.linspace(-4, 8, 500)\n",
    "    for i in range(len(unif)):\n",
    "        if 0 < unif[i] < 1:\n",
    "            unif[i] = 1\n",
    "        else:\n",
    "            unif[i] = 0\n",
    "    \n",
    "    rhoval = kde(kernel, pts, h, np.linspace(-4, 8, 500))\n",
    "\n",
    "    for i in range(500):\n",
    "        sum_errors += (unif[i] - rhoval[i])**2\n",
    "    \n",
    "    rmse = np.sqrt((1/n)*sum_errors)\n",
    "    return rmse"
   ]
  },
  {
   "cell_type": "code",
   "execution_count": 67,
   "metadata": {},
   "outputs": [
    {
     "name": "stdout",
     "output_type": "stream",
     "text": [
      "0.018734972322296213\n"
     ]
    }
   ],
   "source": [
    "print(rmse_unif(0.1, 2**12, yiid_unif1, kernel, kde))"
   ]
  },
  {
   "cell_type": "code",
   "execution_count": 68,
   "metadata": {},
   "outputs": [],
   "source": [
    "h_list = np.linspace(0.001, 1, 100)\n",
    "rmse_list = []\n",
    "for i in range(len(h_list)):\n",
    "    rmse_list.append(rmse_unif(h_list[i], 2**12, yiid_unif3, kernel, kde))"
   ]
  },
  {
   "cell_type": "code",
   "execution_count": 69,
   "metadata": {},
   "outputs": [
    {
     "data": {
      "text/plain": [
       "[0.03747006957042851,\n",
       " 0.010000207928867955,\n",
       " 0.010011609884827096,\n",
       " 0.011118668439588393,\n",
       " 0.012439355039957564,\n",
       " 0.01367309655031809,\n",
       " 0.014800346827938054,\n",
       " 0.015850045946993834,\n",
       " 0.016841300663812286,\n",
       " 0.017783786454023356,\n",
       " 0.018683204072856067,\n",
       " 0.019543916139142158,\n",
       " 0.02036981334641809,\n",
       " 0.02116448304673758,\n",
       " 0.02193117412302482,\n",
       " 0.022672749976031425,\n",
       " 0.023391680995877077,\n",
       " 0.024090072360256464,\n",
       " 0.02476971031441757,\n",
       " 0.025432113481305575,\n",
       " 0.026078581960629725,\n",
       " 0.026710241595867656,\n",
       " 0.02732808324660091,\n",
       " 0.027932997722680597,\n",
       " 0.028525806891132443,\n",
       " 0.02910729094753327,\n",
       " 0.0296782113753503,\n",
       " 0.030239328918759807,\n",
       " 0.03079141600150424,\n",
       " 0.031335263353829856,\n",
       " 0.031871681036929625,\n",
       " 0.03240149446701233,\n",
       " 0.03292553636344506,\n",
       " 0.03344463574164307,\n",
       " 0.03395960513764968,\n",
       " 0.034471227204490966,\n",
       " 0.034980241687891954,\n",
       " 0.03548733360140642,\n",
       " 0.035993123207210806,\n",
       " 0.03649815819281651,\n",
       " 0.03700290823387927,\n",
       " 0.03750776196112342,\n",
       " 0.03801302621161159,\n",
       " 0.03851892734306735,\n",
       " 0.03902561432317032,\n",
       " 0.03953316326985665,\n",
       " 0.04004158310853378,\n",
       " 0.040550822022117114,\n",
       " 0.041060774394373806,\n",
       " 0.04157128798117497,\n",
       " 0.04208217108361025,\n",
       " 0.04259319953803678,\n",
       " 0.04310412337839308,\n",
       " 0.043614673063646754,\n",
       " 0.044124565196878886,\n",
       " 0.04463350769159771,\n",
       " 0.04514120436520789,\n",
       " 0.04564735895923952,\n",
       " 0.046151678601277404,\n",
       " 0.04665387673497085,\n",
       " 0.047153675552558685,\n",
       " 0.04765080796954532,\n",
       " 0.04814501918402512,\n",
       " 0.048636067864151464,\n",
       " 0.04912372700681185,\n",
       " 0.04960778450906759,\n",
       " 0.05008804349166063,\n",
       " 0.050564322411138486,\n",
       " 0.051036454994102615,\n",
       " 0.051504290023913046,\n",
       " 0.05196769100700369,\n",
       " 0.052426535742864815,\n",
       " 0.05288071581880301,\n",
       " 0.05333013604783014,\n",
       " 0.05377471386548905,\n",
       " 0.054214378699108515,\n",
       " 0.05464907132089248,\n",
       " 0.05507874319438619,\n",
       " 0.05550335582221456,\n",
       " 0.05592288010154058,\n",
       " 0.05633729569243278,\n",
       " 0.05674659040323938,\n",
       " 0.05715075959613154,\n",
       " 0.05754980561517904,\n",
       " 0.05794373723864585,\n",
       " 0.05833256915662594,\n",
       " 0.0587163214746652,\n",
       " 0.05909501924362622,\n",
       " 0.059468692015731794,\n",
       " 0.05983737342646775,\n",
       " 0.06020110080181885,\n",
       " 0.06055991479015237,\n",
       " 0.060913859017942815,\n",
       " 0.06126297976844064,\n",
       " 0.06160732568232491,\n",
       " 0.061946947479339924,\n",
       " 0.06228189769989271,\n",
       " 0.06261223046558133,\n",
       " 0.06293800125762908,\n",
       " 0.06325926671221355]"
      ]
     },
     "execution_count": 69,
     "metadata": {},
     "output_type": "execute_result"
    }
   ],
   "source": [
    "rmse_list"
   ]
  },
  {
   "cell_type": "code",
   "execution_count": 70,
   "metadata": {},
   "outputs": [
    {
     "name": "stdout",
     "output_type": "stream",
     "text": [
      "Minimum rmse = 0.010000207928867955\n",
      "and corresponding bandwidth is 0.011090909090909092.\n",
      "Log of bandwidth is -4.501629507047251\n"
     ]
    }
   ],
   "source": [
    "min_index = rmse_list.index(min(rmse_list))\n",
    "print(\"Minimum rmse = \" \n",
    "      + str(rmse_list[min_index]) \n",
    "      + \"\\nand corresponding bandwidth is \" \n",
    "      + str(h_list[min_index])\n",
    "      + \".\\nLog of bandwidth is \"\n",
    "      + str(np.log(h_list[min_index])))"
   ]
  },
  {
   "cell_type": "code",
   "execution_count": 71,
   "metadata": {},
   "outputs": [],
   "source": [
    "h_list_log = []\n",
    "for i in range(len(h_list)):\n",
    "    h_list_log.append(np.log(h_list[i]))"
   ]
  },
  {
   "cell_type": "code",
   "execution_count": 72,
   "metadata": {},
   "outputs": [
    {
     "data": {
      "text/plain": [
       "[-6.907755278982137,\n",
       " -4.501629507047251,\n",
       " -3.854612098214807,\n",
       " -3.4650088944071094,\n",
       " -3.1853531328295572,\n",
       " -2.9670564735773244,\n",
       " -2.7879792788682325,\n",
       " -2.6361524619226286,\n",
       " -2.504367517308887,\n",
       " -2.3879449419452023,\n",
       " -2.2836741287083475,\n",
       " -2.1892564076870427,\n",
       " -2.10298935525727,\n",
       " -2.023576893687043,\n",
       " -1.950009448806254,\n",
       " -1.8814852707384793,\n",
       " -1.8173570366210796,\n",
       " -1.7570945726106344,\n",
       " -1.700258186965573,\n",
       " -1.6464791841144493,\n",
       " -1.595445357347975,\n",
       " -1.546890007622845,\n",
       " -1.5005835075220182,\n",
       " -1.4563267337399468,\n",
       " -1.4139458924504007,\n",
       " -1.3732883974407566,\n",
       " -1.3342195540111572,\n",
       " -1.2966198667107771,\n",
       " -1.2603828351727044,\n",
       " -1.2254131355638054,\n",
       " -1.191625109423751,\n",
       " -1.158941499577189,\n",
       " -1.1272923861746715,\n",
       " -1.0966142860054366,\n",
       " -1.0668493859089583,\n",
       " -1.0379448870180819,\n",
       " -1.009852441144363,\n",
       " -0.9825276641927727,\n",
       " -0.9559297143080189,\n",
       " -0.9300209246860569,\n",
       " -0.9047664827646532,\n",
       " -0.8801341489361743,\n",
       " -0.8560940090800814,\n",
       " -0.8326182561500399,\n",
       " -0.8096809968158968,\n",
       " -0.787258079788788,\n",
       " -0.7653269429754157,\n",
       " -0.743866477036395,\n",
       " -0.7228569032803214,\n",
       " -0.7022796641232177,\n",
       " -0.6821173245929436,\n",
       " -0.6623534835685441,\n",
       " -0.6429726936222894,\n",
       " -0.6239603884828675,\n",
       " -0.6053028172664237,\n",
       " -0.5869869847315546,\n",
       " -0.5690005969080556,\n",
       " -0.5513320115296414,\n",
       " -0.5339701927701302,\n",
       " -0.5169046698423727,\n",
       " -0.5001254990709921,\n",
       " -0.48362322909492356,\n",
       " -0.46738886889485576,\n",
       " -0.451413858374765,\n",
       " -0.4356900412565548,\n",
       " -0.4202096400729221,\n",
       " -0.4049652330665133,\n",
       " -0.3899497328236046,\n",
       " -0.37515636648833084,\n",
       " -0.36057865741920575,\n",
       " -0.3462104081635774,\n",
       " -0.3320456846380016,\n",
       " -0.31807880141346134,\n",
       " -0.30430430801411507,\n",
       " -0.29071697614693487,\n",
       " -0.27731178778735943,\n",
       " -0.26408392405301084,\n",
       " -0.2510287548037454,\n",
       " -0.23814182891186708,\n",
       " -0.2254188651513452,\n",
       " -0.2128557436593685,\n",
       " -0.20044849792762953,\n",
       " -0.18819330728438077,\n",
       " -0.1760864898316126,\n",
       " -0.1641244958046846,\n",
       " -0.1523039013244451,\n",
       " -0.14062140251432792,\n",
       " -0.12907380995713388,\n",
       " -0.11765804346823246,\n",
       " -0.10637112716374972,\n",
       " -0.09521018480399153,\n",
       " -0.08417243539386884,\n",
       " -0.07325518902349351,\n",
       " -0.06245584293337758,\n",
       " -0.051771877789841395,\n",
       " -0.04120085415729281,\n",
       " -0.030740409155024722,\n",
       " -0.0203882532870656,\n",
       " -0.010142167434446589,\n",
       " 0.0]"
      ]
     },
     "execution_count": 72,
     "metadata": {},
     "output_type": "execute_result"
    }
   ],
   "source": [
    "h_list_log"
   ]
  },
  {
   "cell_type": "code",
   "execution_count": 73,
   "metadata": {},
   "outputs": [
    {
     "data": {
      "image/png": "[encoded data removed]",
      "text/plain": [
       "<Figure size 640x480 with 1 Axes>"
      ]
     },
     "metadata": {},
     "output_type": "display_data"
    }
   ],
   "source": [
    "fix, ax = plt.subplots()\n",
    "ax.plot(h_list, rmse_list)\n",
    "ax.set_title(\"RMSE values vs. bandwidth for IID pts: n = 2^12, dim = 3\")\n",
    "ax.set_xlabel('Log-Scaled Bandwidth')\n",
    "ax.set_ylabel('RMSE')\n",
    "ax.set_xscale('log')"
   ]
  },
  {
   "cell_type": "code",
   "execution_count": 74,
   "metadata": {},
   "outputs": [],
   "source": [
    "n_list = [2**10, 2**11, 2**12, 2**13, 2**14]\n",
    "bandwidth = 0.001\n",
    "rmse_list = []\n",
    "\n",
    "for n in n_list:\n",
    "    iidpts1, sobpts1, latticepts1, dnetb2pts1, haltonpts1 = gen_iid_ld_pts(dimen = 1, n = n)\n",
    "    # iidpts3, sobpts3, latticepts3, dnetb2pts3, haltonpts3 = gen_iid_ld_pts(dimen = 1, n = n)\n",
    "    # yiid_unif1 = testfun_unif(iidpts1)\n",
    "    # ysob_unif1 = testfun_unif(sobpts1)\n",
    "    # yiid_unif3 = testfun_unif(iidpts3)\n",
    "    ysob_unif3 = testfun_unif(sobpts3)\n",
    "    rmse_list.append(rmse_unif(bandwidth, n, ysob_unif3, kernel, kde))"
   ]
  },
  {
   "cell_type": "code",
   "execution_count": 75,
   "metadata": {},
   "outputs": [
    {
     "data": {
      "text/plain": [
       "Text(0, 0.5, 'RMSE')"
      ]
     },
     "execution_count": 75,
     "metadata": {},
     "output_type": "execute_result"
    },
    {
     "data": {
      "image/png": "[encoded data removed]",
      "text/plain": [
       "<Figure size 640x480 with 1 Axes>"
      ]
     },
     "metadata": {},
     "output_type": "display_data"
    }
   ],
   "source": [
    "fix, ax = plt.subplots()\n",
    "ax.plot(n_list, rmse_list)\n",
    "ax.set_title(\"RMSE values vs. n for sobol points: bandwidth = 0.001, dim = 1\")\n",
    "ax.set_xlabel('n')\n",
    "ax.set_ylabel('RMSE')"
   ]
  },
  {
   "cell_type": "code",
   "execution_count": 76,
   "metadata": {},
   "outputs": [
    {
     "data": {
      "text/plain": [
       "[0.017389892875979522,\n",
       " 0.009871685064768447,\n",
       " 0.013657803943871215,\n",
       " 0.016710867662957974,\n",
       " 0.019501791764966275,\n",
       " 0.02230751672015533,\n",
       " 0.025037104428908604,\n",
       " 0.027534385504386628,\n",
       " 0.029730752808017995,\n",
       " 0.03162700563965981]"
      ]
     },
     "execution_count": 76,
     "metadata": {},
     "output_type": "execute_result"
    }
   ],
   "source": [
    "# uniform, iid, dim = 1\n",
    "h_list = np.linspace(0.001, 1, 10)\n",
    "rmse_list = []\n",
    "for i in range(len(h_list)):\n",
    "    rmse_list.append(rmse_unif(h_list[i], 2**14, yiid_unif1, kernel, kde))\n",
    "rmse_list"
   ]
  },
  {
   "cell_type": "code",
   "execution_count": 77,
   "metadata": {},
   "outputs": [
    {
     "data": {
      "text/plain": [
       "array([0.001, 0.112, 0.223, 0.334, 0.445, 0.556, 0.667, 0.778, 0.889,\n",
       "       1.   ])"
      ]
     },
     "execution_count": 77,
     "metadata": {},
     "output_type": "execute_result"
    }
   ],
   "source": [
    "h_list"
   ]
  },
  {
   "cell_type": "code",
   "execution_count": 78,
   "metadata": {},
   "outputs": [
    {
     "name": "stdout",
     "output_type": "stream",
     "text": [
      "           2^10      2^11      2^12      2^13      2^14\n",
      "0.001  0.053166  0.037594  0.026583  0.018797  0.013292\n",
      "0.112  0.038738  0.027392  0.019369  0.013696  0.009685\n",
      "0.223  0.054769  0.038727  0.027384  0.019364  0.013692\n",
      "0.334  0.066994  0.047372  0.033497  0.023686  0.016749\n",
      "0.445  0.078095  0.055222  0.039048  0.027611  0.019524\n",
      "0.556  0.089288  0.063136  0.044644  0.031568  0.022322\n",
      "0.667  0.100187  0.070843  0.050093  0.035421  0.025047\n",
      "0.778  0.110163  0.077897  0.055082  0.038949  0.027541\n",
      "0.889  0.118941  0.084104  0.059470  0.042052  0.029735\n",
      "1      0.126520  0.089463  0.063260  0.044732  0.031630\n"
     ]
    }
   ],
   "source": [
    "# Import pandas library\n",
    "import pandas as pd\n",
    "\n",
    "# Initialize data to Dicts of series. uniform, iid, dim = 1\n",
    "d = {'2^10': pd.Series([0.05316609759686515, 0.038738075647372944, 0.05476870370890056, 0.06699400715121268, 0.07809524539969111,\n",
    "                         0.0892879912909519, 0.10018693183690204, 0.11016336094539986, 0.1189406982110262, 0.1265204767883968],\n",
    "                      index=['0.001', '0.112', '0.223', '0.334', '0.445', '0.556', '0.667', '0.778', '0.889', '1']),\n",
    "    '2^11': pd.Series([0.037594108139969155, 0.027391955980374867, 0.0387273217893604, 0.04737191675548254, 0.055221677600549114,\n",
    "                        0.06313614412035749, 0.07084285888814784, 0.0778972595627935, 0.08410377426407928, 0.08946348709603057],\n",
    "                      index=['0.001', '0.112', '0.223', '0.334', '0.445', '0.556', '0.667', '0.778', '0.889', '1']),\n",
    "    '2^12': pd.Series([0.026583048798432575, 0.019369037823686472, 0.02738435185445028, 0.03349700357560634, 0.039047622699845554,\n",
    "                       0.04464399564547595, 0.05009346591845102, 0.05508168047269993, 0.0594703491055131, 0.0632602383941984],\n",
    "                      index=['0.001', '0.112', '0.223', '0.334', '0.445', '0.556', '0.667', '0.778', '0.889', '1']),\n",
    "    '2^13': pd.Series([0.018797054069984578, 0.013695977990187434, 0.0193636608946802, 0.02368595837774127, 0.027610838800274557,\n",
    "                       0.031568072060178747, 0.03542142944407392, 0.03894862978139675, 0.04205188713203964, 0.04473174354801528],\n",
    "                      index=['0.001', '0.112', '0.223', '0.334', '0.445', '0.556', '0.667', '0.778', '0.889', '1']),\n",
    "    '2^14': pd.Series([0.013291524399216288, 0.009684518911843236, 0.01369217592722514, 0.01674850178780317, 0.019523811349922777,\n",
    "                       0.022321997822737975, 0.02504673295922551, 0.027540840236349964, 0.02973517455275655, 0.0316301191970992],\n",
    "                      index=['0.001', '0.112', '0.223', '0.334', '0.445', '0.556', '0.667', '0.778', '0.889', '1'])\n",
    "                      }\n",
    "\n",
    "# creates Dataframe.\n",
    "df = pd.DataFrame(d)\n",
    "\n",
    "# print the data.\n",
    "print(df)"
   ]
  },
  {
   "cell_type": "code",
   "execution_count": 79,
   "metadata": {},
   "outputs": [
    {
     "data": {
      "text/plain": [
       "Text(103.84722222222221, 0.5, 'Bandwidth')"
      ]
     },
     "execution_count": 79,
     "metadata": {},
     "output_type": "execute_result"
    },
    {
     "data": {
      "image/png": "[encoded data removed]",
      "text/plain": [
       "<Figure size 400x400 with 2 Axes>"
      ]
     },
     "metadata": {},
     "output_type": "display_data"
    }
   ],
   "source": [
    "import numpy as np\n",
    "import matplotlib.pyplot as plt\n",
    " \n",
    "fig, ax = plt.subplots(figsize=(4, 4))\n",
    "im = ax.imshow(df)\n",
    "ax.set_title(\"RMSE for uniform distribution, dim = 1\", size=10)\n",
    "fig.tight_layout()\n",
    "\n",
    "yaxis = df.index.values\n",
    "xaxis = df.columns.values\n",
    "# Add axis tick labels\n",
    "ax.set_xticks(np.arange(len(xaxis)), \n",
    "              labels=xaxis)\n",
    "ax.set_yticks(np.arange(len(yaxis)), \n",
    "              labels=yaxis)\n",
    "\n",
    "cbar = ax.figure.colorbar(im, \n",
    "                          ax = ax,\n",
    "                          shrink=0.75)\n",
    "\n",
    "# Rotate the tick labels to be more legible\n",
    "plt.setp(ax.get_xticklabels(),\n",
    "         rotation = 45,\n",
    "         ha = \"right\",\n",
    "         rotation_mode = \"anchor\")\n",
    "\n",
    "plt.xlabel(\"Sample size\") \n",
    "plt.ylabel(\"Bandwidth\") "
   ]
  },
  {
   "cell_type": "code",
   "execution_count": 80,
   "metadata": {},
   "outputs": [
    {
     "data": {
      "text/plain": [
       "[0.017389892875979522,\n",
       " 0.012604780724138141,\n",
       " 0.009225873859595158,\n",
       " 0.006313602842959596,\n",
       " 0.005656992114152821,\n",
       " 0.00637859306164286,\n",
       " 0.009367486161148107,\n",
       " 0.012951622854623935,\n",
       " 0.018374216451066596,\n",
       " 0.03162700563965981]"
      ]
     },
     "execution_count": 80,
     "metadata": {},
     "output_type": "execute_result"
    }
   ],
   "source": [
    "# uniform, iid, dim = 1, but with a different h_list\n",
    "h_list = [0.001, 0.002, 0.004, 0.01, 0.02, 0.04, 0.1, 0.2, 0.4, 1]\n",
    "rmse_list = []\n",
    "for i in range(len(h_list)):\n",
    "    rmse_list.append(rmse_unif(h_list[i], 2**14, yiid_unif1, kernel, kde))\n",
    "rmse_list"
   ]
  },
  {
   "cell_type": "code",
   "execution_count": 81,
   "metadata": {},
   "outputs": [
    {
     "data": {
      "text/plain": [
       "[0.001, 0.002, 0.004, 0.01, 0.02, 0.04, 0.1, 0.2, 0.4, 1]"
      ]
     },
     "execution_count": 81,
     "metadata": {},
     "output_type": "execute_result"
    }
   ],
   "source": [
    "h_list"
   ]
  },
  {
   "cell_type": "code",
   "execution_count": 82,
   "metadata": {},
   "outputs": [
    {
     "name": "stdout",
     "output_type": "stream",
     "text": [
      "           2^10      2^11      2^12      2^13      2^14\n",
      "0.001  0.071788  0.050762  0.035894  0.025381  0.017947\n",
      "0.002  0.053126  0.037566  0.026563  0.018783  0.013281\n",
      "0.004  0.036934  0.026116  0.018467  0.013058  0.009234\n",
      "0.01   0.023720  0.016773  0.011860  0.008386  0.005930\n",
      "0.02   0.021867  0.015462  0.010933  0.007731  0.005467\n",
      "0.04   0.025642  0.018132  0.012821  0.009066  0.006410\n",
      "0.1    0.038243  0.027042  0.019122  0.013521  0.009561\n",
      "0.2    0.052174  0.036892  0.026087  0.018446  0.013043\n",
      "0.4    0.073126  0.051708  0.036563  0.025854  0.018281\n",
      "1      0.126414  0.089388  0.063207  0.044694  0.031604\n"
     ]
    }
   ],
   "source": [
    "# Import pandas library\n",
    "import pandas as pd\n",
    "\n",
    "# Initialize data to Dicts of series. uniform, iid, dim = 1\n",
    "d = {'2^10': pd.Series([0.07178823191220095, 0.05312570833370878, 0.03693427380532819, 0.023720330013516668, 0.02186698160900411,\n",
    "                        0.025641932945977594, 0.038243273708295125, 0.0521736334495133, 0.07312567258146638, 0.12641420688288418],\n",
    "                      index=['0.001', '0.002', '0.004', '0.01', '0.02', '0.04', '0.1', '0.2', '0.4', '1']),\n",
    "    '2^11': pd.Series([0.0507619455945098, 0.037565548618104155, 0.026116475465948235, 0.016772806204540424, 0.01546229097980833,\n",
    "                        0.018131584668831503, 0.027042078173908687, 0.036892330011292135, 0.05170765896118206, 0.08938834292520653],\n",
    "                      index=['0.001', '0.002', '0.004', '0.01', '0.02', '0.04', '0.1', '0.2', '0.4', '1']),\n",
    "    '2^12': pd.Series([0.035894115956100474, 0.02656285416685439, 0.018467136902664095, 0.011860165006758334, 0.010933490804502056,\n",
    "                       0.012820966472988797, 0.019121636854147563, 0.02608681672475665, 0.03656283629073319, 0.06320710344144209],\n",
    "                      index=['0.001', '0.002', '0.004', '0.01', '0.02', '0.04', '0.1', '0.2', '0.4', '1']),\n",
    "    '2^13': pd.Series([0.0253809727972549, 0.018782774309052078, 0.013058237732974117, 0.008386403102270212, 0.007731145489904165,\n",
    "                       0.009065792334415752, 0.013521039086954343, 0.018446165005646067, 0.02585382948059103, 0.044694171462603266],\n",
    "                      index=['0.001', '0.002', '0.004', '0.01', '0.02', '0.04', '0.1', '0.2', '0.4', '1']),\n",
    "    '2^14': pd.Series([0.017947057978050237, 0.013281427083427194, 0.009233568451332047, 0.005930082503379167, 0.005466745402251028,\n",
    "                       0.0064104832364943985, 0.009560818427073781, 0.013043408362378325, 0.018281418145366594, 0.031603551720721046],\n",
    "                      index=['0.001', '0.002', '0.004', '0.01', '0.02', '0.04', '0.1', '0.2', '0.4', '1'])\n",
    "                      }\n",
    "\n",
    "# creates Dataframe.\n",
    "df = pd.DataFrame(d)\n",
    "\n",
    "# print the data.\n",
    "print(df)"
   ]
  },
  {
   "cell_type": "code",
   "execution_count": 83,
   "metadata": {},
   "outputs": [
    {
     "data": {
      "text/plain": [
       "Text(103.84722222222221, 0.5, 'Bandwidth')"
      ]
     },
     "execution_count": 83,
     "metadata": {},
     "output_type": "execute_result"
    },
    {
     "data": {
      "image/png": "[encoded data removed]",
      "text/plain": [
       "<Figure size 400x400 with 2 Axes>"
      ]
     },
     "metadata": {},
     "output_type": "display_data"
    }
   ],
   "source": [
    "import numpy as np\n",
    "import matplotlib.pyplot as plt\n",
    " \n",
    "fig, ax = plt.subplots(figsize=(4, 4))\n",
    "im = ax.imshow(df)\n",
    "ax.set_title(\"RMSE for uniform distribution, dim = 1\", size=10)\n",
    "fig.tight_layout()\n",
    "\n",
    "yaxis = df.index.values\n",
    "xaxis = df.columns.values\n",
    "# Add axis tick labels\n",
    "ax.set_xticks(np.arange(len(xaxis)), \n",
    "              labels=xaxis)\n",
    "ax.set_yticks(np.arange(len(yaxis)), \n",
    "              labels=yaxis)\n",
    "\n",
    "cbar = ax.figure.colorbar(im, \n",
    "                          ax = ax,\n",
    "                          shrink=0.75)\n",
    "\n",
    "# Rotate the tick labels to be more legible\n",
    "plt.setp(ax.get_xticklabels(),\n",
    "         rotation = 45,\n",
    "         ha = \"right\",\n",
    "         rotation_mode = \"anchor\")\n",
    "\n",
    "plt.xlabel(\"Sample size\") \n",
    "plt.ylabel(\"Bandwidth\") "
   ]
  },
  {
   "cell_type": "markdown",
   "metadata": {},
   "source": [
    "### Sum of 2 uniform random variables (triangular)"
   ]
  },
  {
   "cell_type": "code",
   "execution_count": 84,
   "metadata": {},
   "outputs": [],
   "source": [
    "def rmse_triangular(h, n, pts, kernel, kde):\n",
    "    '''\n",
    "    returns rmse for a KDE that estimates a uniformly distributed random variable\n",
    "    h = bandwidth\n",
    "    n = number of points\n",
    "    pts = set of iid or ld points\n",
    "    kernel = kernel function\n",
    "    kde = kde function\n",
    "    '''\n",
    "\n",
    "    sum_errors = 0\n",
    "\n",
    "    triangular = np.linspace(-4, 8, 500)\n",
    "    for i in range(len(triangular)):\n",
    "        if 0 < triangular[i] < 1:\n",
    "            triangular[i] = triangular[i]\n",
    "        elif 1 <= triangular[i] < 2:\n",
    "            triangular[i] = 2 - triangular[i]\n",
    "        else:\n",
    "            triangular[i] = 0\n",
    "    \n",
    "    rhoval = kde(kernel, pts, h, np.linspace(-4, 8, 500))\n",
    "\n",
    "    for i in range(500):\n",
    "        sum_errors += (triangular[i] - rhoval[i])**2\n",
    "    \n",
    "    rmse = np.sqrt((1/n)*sum_errors)\n",
    "    return rmse"
   ]
  },
  {
   "cell_type": "code",
   "execution_count": 85,
   "metadata": {},
   "outputs": [],
   "source": [
    "def testfun_triangular(x, coord_wts = 1):  #takign one uniform rv and transofmring into a normal \n",
    "    wtx= np.multiply(x, coord_wts)\n",
    "\n",
    "    # Parameters for the triangular distribution\n",
    "    a = 0  # lower limit\n",
    "    c = 1  # mode\n",
    "    b = 2  # upper limit\n",
    "\n",
    "    # Apply the inverse CDF method for the triangular distribution\n",
    "    def inverse_triangular_cdf(pts, a, c, b):\n",
    "        F_c = (c - a) / (b - a)\n",
    "        return np.where(pts < F_c,\n",
    "                        a + np.sqrt(pts * (b - a) * (c - a)),\n",
    "                        b - np.sqrt((1 - pts) * (b - a) * (b - c)))\n",
    "\n",
    "    triangular_rv = inverse_triangular_cdf(wtx, a, c, b)\n",
    "    return triangular_rv"
   ]
  },
  {
   "cell_type": "code",
   "execution_count": 86,
   "metadata": {},
   "outputs": [],
   "source": [
    "yiid1_triangular=testfun_triangular(iidpts1)\n",
    "yiid3_triangular=testfun_triangular(iidpts3)\n",
    "\n",
    "ysob1_triangular=testfun_triangular(sobpts1)\n",
    "ysob3_triangular=testfun_triangular(sobpts3)"
   ]
  },
  {
   "cell_type": "code",
   "execution_count": 87,
   "metadata": {},
   "outputs": [],
   "source": [
    "h_list = np.linspace(0.001, 1, 100)\n",
    "rmse_list = []\n",
    "for i in range(len(h_list)):\n",
    "    rmse_list.append(rmse_triangular(h_list[i], 2**12, ysob1_triangular, kernel, kde))"
   ]
  },
  {
   "cell_type": "code",
   "execution_count": 88,
   "metadata": {},
   "outputs": [
    {
     "name": "stdout",
     "output_type": "stream",
     "text": [
      "Minimum rmse = 7.198130926445308e-05\n",
      "and corresponding bandwidth is 0.011090909090909092.\n",
      "Log of bandwidth is -4.501629507047251\n"
     ]
    }
   ],
   "source": [
    "min_index = rmse_list.index(min(rmse_list))\n",
    "print(\"Minimum rmse = \" \n",
    "      + str(rmse_list[min_index]) \n",
    "      + \"\\nand corresponding bandwidth is \" \n",
    "      + str(h_list[min_index])\n",
    "      + \".\\nLog of bandwidth is \"\n",
    "      + str(np.log(h_list[min_index])))"
   ]
  },
  {
   "cell_type": "code",
   "execution_count": 89,
   "metadata": {},
   "outputs": [
    {
     "data": {
      "image/png": "[encoded data removed]",
      "text/plain": [
       "<Figure size 640x480 with 1 Axes>"
      ]
     },
     "metadata": {},
     "output_type": "display_data"
    }
   ],
   "source": [
    "fix, ax = plt.subplots()\n",
    "ax.plot(h_list, rmse_list)\n",
    "ax.set_title(\"RMSE values vs. bandwidth for sobol pts: n = 2^12, dim = 1\")\n",
    "ax.set_xlabel('Log-Scaled Bandwidth')\n",
    "ax.set_ylabel('RMSE')\n",
    "ax.set_xscale('log')"
   ]
  },
  {
   "cell_type": "code",
   "execution_count": 90,
   "metadata": {},
   "outputs": [
    {
     "data": {
      "text/plain": [
       "[0.007427905899023085,\n",
       " 0.005363423620877703,\n",
       " 0.003551681792104861,\n",
       " 0.00214262652959985,\n",
       " 0.0014868828163947883,\n",
       " 0.0008465971183269792,\n",
       " 0.0008774586490917363,\n",
       " 0.0022056383711207403,\n",
       " 0.006133417717350966,\n",
       " 0.019040881841674448]"
      ]
     },
     "execution_count": 90,
     "metadata": {},
     "output_type": "execute_result"
    }
   ],
   "source": [
    "# triangular (sum of 2 uniform random variables), iid, dim = 1\n",
    "h_list = [0.001, 0.002, 0.004, 0.01, 0.02, 0.04, 0.1, 0.2, 0.4, 1]\n",
    "rmse_list = []\n",
    "for i in range(len(h_list)):\n",
    "    rmse_list.append(rmse_triangular(h_list[i], 2**14, yiid1_triangular, kernel, kde))\n",
    "rmse_list"
   ]
  },
  {
   "cell_type": "code",
   "execution_count": 91,
   "metadata": {},
   "outputs": [
    {
     "name": "stdout",
     "output_type": "stream",
     "text": [
      "           2^10      2^11      2^12      2^13      2^14\n",
      "0.001  0.032735  0.023147  0.016368  0.011574  0.008184\n",
      "0.002  0.022526  0.015928  0.011263  0.007964  0.005632\n",
      "0.004  0.015143  0.010708  0.007572  0.005354  0.003786\n",
      "0.01   0.008906  0.006298  0.004453  0.003149  0.002227\n",
      "0.02   0.005695  0.004027  0.002847  0.002013  0.001424\n",
      "0.04   0.004089  0.002892  0.002045  0.001446  0.001022\n",
      "0.1    0.003660  0.002588  0.001830  0.001294  0.000915\n",
      "0.2    0.008462  0.005983  0.004231  0.002992  0.002115\n",
      "0.4    0.024164  0.017086  0.012082  0.008543  0.006041\n",
      "1      0.076080  0.053796  0.038040  0.026898  0.019020\n"
     ]
    }
   ],
   "source": [
    "# Import pandas library\n",
    "import pandas as pd\n",
    "\n",
    "# Initialize data to Dicts of series. uniform, iid, dim = 1\n",
    "d = {'2^10': pd.Series([0.032735401326171774, 0.022526171924283432, 0.015143356852798632, 0.008906048140841297, 0.005694694497837144,\n",
    "                        0.0040894047481934105, 0.0036597901923310873, 0.00846166057143792, 0.024163762362315877, 0.07607957745315179],\n",
    "                      index=['0.001', '0.002', '0.004', '0.01', '0.02', '0.04', '0.1', '0.2', '0.4', '1']),\n",
    "    '2^11': pd.Series([0.023147424262599164, 0.015928408921834836, 0.010707970320541688, 0.006297527033962726, 0.0040267570962063655,\n",
    "                       0.0028916458284640265, 0.002587862462717331, 0.00598329757016259, 0.017086360225373826, 0.0537963851269308],\n",
    "                      index=['0.001', '0.002', '0.004', '0.01', '0.02', '0.04', '0.1', '0.2', '0.4', '1']),\n",
    "    '2^12': pd.Series([0.016367700663085887, 0.011263085962141716, 0.007571678426399316, 0.004453024070420648, 0.002847347248918572,\n",
    "                       0.0020447023740967052, 0.0018298950961655436, 0.00423083028571896, 0.012081881181157939, 0.038039788726575895],\n",
    "                      index=['0.001', '0.002', '0.004', '0.01', '0.02', '0.04', '0.1', '0.2', '0.4', '1']),\n",
    "    '2^13': pd.Series([0.011573712131299582, 0.007964204460917418, 0.005353985160270844, 0.003148763516981363, 0.0020133785481031828,\n",
    "                       0.0014458229142320133, 0.0012939312313586654, 0.002991648785081295, 0.008543180112686913, 0.0268981925634654],\n",
    "                      index=['0.001', '0.002', '0.004', '0.01', '0.02', '0.04', '0.1', '0.2', '0.4', '1']),\n",
    "    '2^14': pd.Series([0.008183850331542944, 0.005631542981070858, 0.003785839213199658, 0.002226512035210324, 0.001423673624459286,\n",
    "                       0.0010223511870483526, 0.0009149475480827718, 0.00211541514285948, 0.006040940590578969, 0.019019894363287947],\n",
    "                      index=['0.001', '0.002', '0.004', '0.01', '0.02', '0.04', '0.1', '0.2', '0.4', '1'])\n",
    "                      }\n",
    "\n",
    "# creates Dataframe.\n",
    "df = pd.DataFrame(d)\n",
    "\n",
    "# print the data.\n",
    "print(df)"
   ]
  },
  {
   "cell_type": "code",
   "execution_count": 92,
   "metadata": {},
   "outputs": [
    {
     "data": {
      "text/plain": [
       "Text(103.84722222222221, 0.5, 'Bandwidth')"
      ]
     },
     "execution_count": 92,
     "metadata": {},
     "output_type": "execute_result"
    },
    {
     "data": {
      "image/png": "[encoded data removed]",
      "text/plain": [
       "<Figure size 400x400 with 2 Axes>"
      ]
     },
     "metadata": {},
     "output_type": "display_data"
    }
   ],
   "source": [
    "import numpy as np\n",
    "import matplotlib.pyplot as plt\n",
    " \n",
    "fig, ax = plt.subplots(figsize=(4, 4))\n",
    "im = ax.imshow(df)\n",
    "ax.set_title(\"RMSE for sum of 2 uniform random variables, dim = 1, IID points\", size=10)\n",
    "fig.tight_layout()\n",
    "\n",
    "yaxis = df.index.values\n",
    "xaxis = df.columns.values\n",
    "# Add axis tick labels\n",
    "ax.set_xticks(np.arange(len(xaxis)), \n",
    "              labels=xaxis)\n",
    "ax.set_yticks(np.arange(len(yaxis)), \n",
    "              labels=yaxis)\n",
    "\n",
    "cbar = ax.figure.colorbar(im, \n",
    "                          ax = ax,\n",
    "                          shrink=0.75)\n",
    "\n",
    "# Rotate the tick labels to be more legible\n",
    "plt.setp(ax.get_xticklabels(),\n",
    "         rotation = 45,\n",
    "         ha = \"right\",\n",
    "         rotation_mode = \"anchor\")\n",
    "\n",
    "plt.xlabel(\"Sample size\") \n",
    "plt.ylabel(\"Bandwidth\") "
   ]
  },
  {
   "cell_type": "markdown",
   "metadata": {},
   "source": [
    "### Exponential Distribution"
   ]
  },
  {
   "cell_type": "code",
   "execution_count": 93,
   "metadata": {},
   "outputs": [],
   "source": [
    "from scipy.stats import expon"
   ]
  },
  {
   "cell_type": "code",
   "execution_count": 94,
   "metadata": {},
   "outputs": [],
   "source": [
    "def rmse_exp(h, n, pts, kernel, kde):\n",
    "    '''\n",
    "    returns rmse for a KDE that estimates a uniformly distributed random variable\n",
    "    h = bandwidth\n",
    "    n = number of points\n",
    "    pts = set of iid or ld points\n",
    "    kernel = kernel function\n",
    "    kde = kde function\n",
    "    '''\n",
    "\n",
    "    sum_errors = 0\n",
    "\n",
    "    exp = np.linspace(-4, 8, 500)\n",
    "    for i in range(len(exp)):\n",
    "        exp[i] = expon.pdf(exp[i])\n",
    "    \n",
    "    rhoval = kde(kernel, pts, h, np.linspace(-4, 8, 500))\n",
    "\n",
    "    for i in range(500):\n",
    "        sum_errors += (exp[i] - rhoval[i])**2\n",
    "    \n",
    "    rmse = np.sqrt((1/n)*sum_errors)\n",
    "    return rmse"
   ]
  },
  {
   "cell_type": "code",
   "execution_count": 95,
   "metadata": {},
   "outputs": [],
   "source": [
    "h_list = np.linspace(0.001, 1, 100)\n",
    "rmse_list = []\n",
    "for i in range(len(h_list)):\n",
    "    rmse_list.append(rmse_unif(h_list[i], 2**12, ysob3_exp, kernel, kde))"
   ]
  },
  {
   "cell_type": "code",
   "execution_count": 96,
   "metadata": {},
   "outputs": [],
   "source": [
    "h_list_log = []\n",
    "for i in range(len(h_list)):\n",
    "    h_list_log.append(np.log(h_list[i]))"
   ]
  },
  {
   "cell_type": "code",
   "execution_count": 97,
   "metadata": {},
   "outputs": [
    {
     "name": "stdout",
     "output_type": "stream",
     "text": [
      "Minimum rmse = 0.04870827610952435\n",
      "and corresponding bandwidth is 0.011090909090909092.\n",
      "Log of bandwidth is -4.501629507047251\n"
     ]
    }
   ],
   "source": [
    "min_index = rmse_list.index(min(rmse_list))\n",
    "print(\"Minimum rmse = \" \n",
    "      + str(rmse_list[min_index]) \n",
    "      + \"\\nand corresponding bandwidth is \" \n",
    "      + str(h_list[min_index])\n",
    "      + \".\\nLog of bandwidth is \"\n",
    "      + str(np.log(h_list[min_index])))"
   ]
  },
  {
   "cell_type": "code",
   "execution_count": 98,
   "metadata": {},
   "outputs": [
    {
     "data": {
      "text/plain": [
       "Text(0, 0.5, 'RMSE')"
      ]
     },
     "execution_count": 98,
     "metadata": {},
     "output_type": "execute_result"
    },
    {
     "data": {
      "image/png": "[encoded data removed]",
      "text/plain": [
       "<Figure size 640x480 with 1 Axes>"
      ]
     },
     "metadata": {},
     "output_type": "display_data"
    }
   ],
   "source": [
    "fix, ax = plt.subplots()\n",
    "ax.plot(h_list, rmse_list)\n",
    "ax.set_title(\"RMSE values vs. bandwidth (sobol, exponential, n = 2^12, dim = 3)\")\n",
    "ax.set_xlabel('Bandwidth')\n",
    "ax.set_ylabel('RMSE')"
   ]
  },
  {
   "cell_type": "code",
   "execution_count": 99,
   "metadata": {},
   "outputs": [
    {
     "data": {
      "image/png": "[encoded data removed]",
      "text/plain": [
       "<Figure size 640x480 with 1 Axes>"
      ]
     },
     "metadata": {},
     "output_type": "display_data"
    }
   ],
   "source": [
    "fix, ax = plt.subplots()\n",
    "ax.plot(h_list, rmse_list)\n",
    "ax.set_title(\"RMSE values vs. log-scaled bandwidth (sobol, exponential, n = 2^12, dim = 3)\")\n",
    "ax.set_xlabel('Log-Scaled Bandwidth')\n",
    "ax.set_ylabel('RMSE')\n",
    "ax.set_xscale('log')"
   ]
  },
  {
   "cell_type": "code",
   "execution_count": 100,
   "metadata": {},
   "outputs": [
    {
     "data": {
      "text/plain": [
       "Text(0, 0.5, 'RMSE')"
      ]
     },
     "execution_count": 100,
     "metadata": {},
     "output_type": "execute_result"
    },
    {
     "data": {
      "image/png": "[encoded data removed]",
      "text/plain": [
       "<Figure size 640x480 with 1 Axes>"
      ]
     },
     "metadata": {},
     "output_type": "display_data"
    }
   ],
   "source": [
    "fix, ax = plt.subplots()\n",
    "ax.plot(h_list_log, rmse_list)\n",
    "ax.set_title(\"RMSE values vs. log bandwidth (sobol, exponential, n = 2^12, dim = 3)\")\n",
    "ax.set_xlabel('Bandwidth')\n",
    "ax.set_ylabel('RMSE')"
   ]
  },
  {
   "cell_type": "code",
   "execution_count": 101,
   "metadata": {},
   "outputs": [],
   "source": [
    "n_list = [2**10, 2**11, 2**12, 2**13, 2**14]\n",
    "bandwidth = 0.011090909090909092\n",
    "rmse_list = []\n",
    "\n",
    "for n in n_list:\n",
    "    # iidpts1, sobpts1, latticepts1, dnetb2pts1, haltonpts1 = gen_iid_ld_pts(dimen = 1, n = n)\n",
    "    iidpts3, sobpts3, latticepts3, dnetb2pts3, haltonpts3 = gen_iid_ld_pts(dimen = 1, n = n)\n",
    "    # yiid_exp1 = testfun_exp(iidpts1)\n",
    "    # ysob_exp1 = testfun_exp(sobpts1)\n",
    "    # yiid_exp3 = testfun_exp(iidpts3)\n",
    "    ysob_exp3 = testfun_exp(sobpts3)\n",
    "    rmse_list.append(rmse_unif(bandwidth, n, ysob_exp3, kernel, kde))"
   ]
  },
  {
   "cell_type": "code",
   "execution_count": 102,
   "metadata": {},
   "outputs": [
    {
     "data": {
      "text/plain": [
       "Text(0, 0.5, 'RMSE')"
      ]
     },
     "execution_count": 102,
     "metadata": {},
     "output_type": "execute_result"
    },
    {
     "data": {
      "image/png": "[encoded data removed]",
      "text/plain": [
       "<Figure size 640x480 with 1 Axes>"
      ]
     },
     "metadata": {},
     "output_type": "display_data"
    }
   ],
   "source": [
    "fix, ax = plt.subplots()\n",
    "ax.plot(n_list, rmse_list)\n",
    "ax.set_title(\"RMSE values vs. n for sobol points: bandwidth = 0.011, dim = 3\")\n",
    "ax.set_xlabel('n')\n",
    "ax.set_ylabel('RMSE')"
   ]
  },
  {
   "cell_type": "code",
   "execution_count": 103,
   "metadata": {},
   "outputs": [
    {
     "data": {
      "text/plain": [
       "[0.019861651563707047,\n",
       " 0.013912319412169246,\n",
       " 0.010147491672750466,\n",
       " 0.007083838051254263,\n",
       " 0.006302007590228779,\n",
       " 0.0065417014103572955,\n",
       " 0.009478098709188525,\n",
       " 0.012931882522961997,\n",
       " 0.017838626873765452,\n",
       " 0.027021096816478834]"
      ]
     },
     "execution_count": 103,
     "metadata": {},
     "output_type": "execute_result"
    }
   ],
   "source": [
    "# exponential, iid, dim = 1, but with a different h_list\n",
    "h_list = [0.001, 0.002, 0.004, 0.01, 0.02, 0.04, 0.1, 0.2, 0.4, 1]\n",
    "rmse_list = []\n",
    "for i in range(len(h_list)):\n",
    "    rmse_list.append(rmse_exp(h_list[i], 2**13, yiid1_exp, kernel, kde))\n",
    "rmse_list"
   ]
  },
  {
   "cell_type": "code",
   "execution_count": 104,
   "metadata": {},
   "outputs": [
    {
     "name": "stdout",
     "output_type": "stream",
     "text": [
      "           2^10      2^11      2^12      2^13      2^14\n",
      "0.001  0.059584  0.042132  0.029792  0.021066  0.014896\n",
      "0.002  0.040166  0.028401  0.020083  0.014201  0.010041\n",
      "0.004  0.030366  0.021472  0.015183  0.010736  0.007592\n",
      "0.01   0.020025  0.014160  0.010012  0.007080  0.005006\n",
      "0.02   0.017048  0.012055  0.008524  0.006027  0.004262\n",
      "0.04   0.018660  0.013195  0.009330  0.006597  0.004665\n",
      "0.1    0.027342  0.019334  0.013671  0.009667  0.006836\n",
      "0.2    0.037522  0.026532  0.018761  0.013266  0.009380\n",
      "0.4    0.051200  0.036204  0.025600  0.018102  0.012800\n",
      "1      0.076434  0.054047  0.038217  0.027024  0.019109\n"
     ]
    }
   ],
   "source": [
    "# Import pandas library\n",
    "import pandas as pd\n",
    "\n",
    "# Initialize data to Dicts of series. uniform, iid, dim = 1\n",
    "d = {'2^10': pd.Series([0.05958390290990867, 0.04016553645267156, 0.03036624053402649, 0.020024869691335424, 0.017047688555856012,\n",
    "                        0.01866025168269381, 0.027342419544862356, 0.037521657519024525, 0.05119957321027084, 0.0764344722742138],\n",
    "                      index=['0.001', '0.002', '0.004', '0.01', '0.02', '0.04', '0.1', '0.2', '0.4', '1']),\n",
    "    '2^11': pd.Series([0.04213218179715728, 0.028401323195679527, 0.021472174600751938, 0.014159721151120243, 0.012054536181402087,\n",
    "                       0.01319479050348048, 0.019334010274219767, 0.02653181847306145, 0.036203565410839605, 0.05404733366151172],\n",
    "                      index=['0.001', '0.002', '0.004', '0.01', '0.02', '0.04', '0.1', '0.2', '0.4', '1']),\n",
    "    '2^12': pd.Series([0.029791951454954335, 0.02008276822633578, 0.015183120267013244, 0.010012434845667712, 0.008523844277928006,\n",
    "                       0.009330125841346905, 0.013671209772431178, 0.018760828759512262, 0.02559978660513542, 0.0382172361371069],\n",
    "                      index=['0.001', '0.002', '0.004', '0.01', '0.02', '0.04', '0.1', '0.2', '0.4', '1']),\n",
    "    '2^13': pd.Series([0.02106609089857864, 0.014200661597839764, 0.010736087300375969, 0.007079860575560122, 0.006027268090701044,\n",
    "                       0.00659739525174024, 0.009667005137109884, 0.013265909236530725, 0.018101782705419803, 0.02702366683075586],\n",
    "                      index=['0.001', '0.002', '0.004', '0.01', '0.02', '0.04', '0.1', '0.2', '0.4', '1']),\n",
    "    '2^14': pd.Series([0.014895975727477168, 0.01004138411316789, 0.007591560133506622, 0.005006217422833856, 0.004261922138964003,\n",
    "                        0.004665062920673453, 0.006835604886215589, 0.009380414379756131, 0.01279989330256771, 0.01910861806855345],\n",
    "                      index=['0.001', '0.002', '0.004', '0.01', '0.02', '0.04', '0.1', '0.2', '0.4', '1'])\n",
    "                      }\n",
    "\n",
    "# creates Dataframe.\n",
    "df = pd.DataFrame(d)\n",
    "\n",
    "# print the data.\n",
    "print(df)"
   ]
  },
  {
   "cell_type": "code",
   "execution_count": 105,
   "metadata": {},
   "outputs": [
    {
     "data": {
      "text/plain": [
       "Text(103.84722222222221, 0.5, 'Bandwidth')"
      ]
     },
     "execution_count": 105,
     "metadata": {},
     "output_type": "execute_result"
    },
    {
     "data": {
      "image/png": "[encoded data removed]",
      "text/plain": [
       "<Figure size 400x400 with 2 Axes>"
      ]
     },
     "metadata": {},
     "output_type": "display_data"
    }
   ],
   "source": [
    "import numpy as np\n",
    "import matplotlib.pyplot as plt\n",
    " \n",
    "fig, ax = plt.subplots(figsize=(4, 4))\n",
    "im = ax.imshow(df)\n",
    "ax.set_title(\"RMSE for exponential distribution, dim = 1\", size=10)\n",
    "fig.tight_layout()\n",
    "\n",
    "yaxis = df.index.values\n",
    "xaxis = df.columns.values\n",
    "# Add axis tick labels\n",
    "ax.set_xticks(np.arange(len(xaxis)), \n",
    "              labels=xaxis)\n",
    "ax.set_yticks(np.arange(len(yaxis)), \n",
    "              labels=yaxis)\n",
    "\n",
    "cbar = ax.figure.colorbar(im, \n",
    "                          ax = ax,\n",
    "                          shrink=0.75)\n",
    "\n",
    "# Rotate the tick labels to be more legible\n",
    "plt.setp(ax.get_xticklabels(),\n",
    "         rotation = 45,\n",
    "         ha = \"right\",\n",
    "         rotation_mode = \"anchor\")\n",
    "\n",
    "plt.xlabel(\"Sample size\") \n",
    "plt.ylabel(\"Bandwidth\") "
   ]
  },
  {
   "cell_type": "code",
   "execution_count": null,
   "metadata": {},
   "outputs": [],
   "source": [
    "# import matplotlib.pyplot as plt\n",
    "# fig, ax = plt.subplots(1, 1)\n",
    "\n",
    "# x = np.linspace(-4, 8, 500)\n",
    "# ax.plot(x, expon.pdf(x),\n",
    "#        'r-', lw=5, alpha=0.6, label='expon pdf')"
   ]
  },
  {
   "cell_type": "code",
   "execution_count": 107,
   "metadata": {},
   "outputs": [],
   "source": [
    "# def true_function(x):\n",
    "#     return expon.pdf(x)"
   ]
  },
  {
   "cell_type": "code",
   "execution_count": 108,
   "metadata": {},
   "outputs": [],
   "source": [
    "# # bandwidth = 0.1\n",
    "# def estimated_pts(x):\n",
    "#     return kde_pt(kernel, yiid1_exp, 0.1, x)"
   ]
  },
  {
   "cell_type": "code",
   "execution_count": 109,
   "metadata": {},
   "outputs": [],
   "source": [
    "# def squared_difference_pts(x):\n",
    "#     return (true_function(x) - estimated_pts(x))**2"
   ]
  },
  {
   "cell_type": "code",
   "execution_count": 110,
   "metadata": {},
   "outputs": [],
   "source": [
    "# result = integrate.quad(squared_difference_pts, -4, 8)\n",
    "# print(result)"
   ]
  },
  {
   "cell_type": "markdown",
   "metadata": {},
   "source": [
    "### Laplace Distribution\n",
    "\n",
    "The inverse CDF of the Laplace distribution with location parameter 𝜇 and scale parameter 𝑏 is given by:\n",
    "$$\n",
    "F^{-1}(x) = \\text{𝜇} - \\text{𝑏} \\cdot \\text{sign}(x-0.5) \\cdot \\text{ln}(1-2|x-0.5|)\n",
    "$$\n",
    "\n",
    "where $x$ is a uniform random variable in the interval $[0,1]$."
   ]
  },
  {
   "cell_type": "code",
   "execution_count": 125,
   "metadata": {},
   "outputs": [],
   "source": [
    "def rmse_laplace(h, n, pts, kernel, kde):\n",
    "    '''\n",
    "    returns rmse for a KDE that estimates a uniformly distributed random variable\n",
    "    h = bandwidth\n",
    "    n = number of points\n",
    "    pts = set of iid or ld points\n",
    "    kernel = kernel function\n",
    "    kde = kde function\n",
    "    '''\n",
    "\n",
    "    sum_errors = 0\n",
    "\n",
    "    laplace = np.linspace(-4, 8, 500)\n",
    "    \n",
    "    # Define location (mean) and scale parameters\n",
    "    loc = 0\n",
    "    scale = 1.0\n",
    " \n",
    "    # Create a Laplace distribution object\n",
    "    laplace_dist = stats.laplace(loc, scale)\n",
    "\n",
    "    for i in range(len(laplace)):\n",
    "        laplace[i] = laplace_dist.pdf(laplace[i])\n",
    "    \n",
    "    rhoval = kde(kernel, pts, h, np.linspace(-4, 8, 500))\n",
    "\n",
    "    for i in range(500):\n",
    "        sum_errors += (laplace[i] - rhoval[i])**2\n",
    "    \n",
    "    rmse = np.sqrt((1/n)*sum_errors)\n",
    "    return rmse"
   ]
  },
  {
   "cell_type": "code",
   "execution_count": 126,
   "metadata": {},
   "outputs": [],
   "source": [
    "def testfun_laplace(x, coord_wts = 1):  #takign one uniform rv and transforming into a laplace \n",
    "    wtx= np.multiply(x, coord_wts)\n",
    "\n",
    "    def uniform_to_laplace(u, mu=0, b=1):\n",
    "        return mu - b * np.sign(u - 0.5) * np.log(1 - 2 * np.abs(u - 0.5))\n",
    "\n",
    "    laplace_rv = uniform_to_laplace(wtx, mu=0, b=1)\n",
    "    return laplace_rv"
   ]
  },
  {
   "cell_type": "code",
   "execution_count": 127,
   "metadata": {},
   "outputs": [],
   "source": [
    "yiid1_laplace=testfun_laplace(iidpts1)\n",
    "yiid3_laplace=testfun_laplace(iidpts3)\n",
    "\n",
    "ysob1_laplace=testfun_laplace(sobpts1)\n",
    "ysob3_laplace=testfun_laplace(sobpts3)"
   ]
  },
  {
   "cell_type": "code",
   "execution_count": 137,
   "metadata": {},
   "outputs": [],
   "source": [
    "h_list = np.linspace(0.001, 1, 100)\n",
    "rmse_list = []\n",
    "for i in range(len(h_list)):\n",
    "    rmse_list.append(rmse_laplace(h_list[i], 2**12, ysob3_laplace, kernel, kde))"
   ]
  },
  {
   "cell_type": "code",
   "execution_count": 138,
   "metadata": {},
   "outputs": [
    {
     "name": "stdout",
     "output_type": "stream",
     "text": [
      "Minimum rmse = 0.00011994468970848825\n",
      "and corresponding bandwidth is 0.03127272727272727.\n",
      "Log of bandwidth is -3.4650088944071094\n"
     ]
    }
   ],
   "source": [
    "min_index = rmse_list.index(min(rmse_list))\n",
    "print(\"Minimum rmse = \" \n",
    "      + str(rmse_list[min_index]) \n",
    "      + \"\\nand corresponding bandwidth is \" \n",
    "      + str(h_list[min_index])\n",
    "      + \".\\nLog of bandwidth is \"\n",
    "      + str(np.log(h_list[min_index])))"
   ]
  },
  {
   "cell_type": "code",
   "execution_count": 139,
   "metadata": {},
   "outputs": [
    {
     "data": {
      "image/png": "[encoded data removed]",
      "text/plain": [
       "<Figure size 640x480 with 1 Axes>"
      ]
     },
     "metadata": {},
     "output_type": "display_data"
    }
   ],
   "source": [
    "fix, ax = plt.subplots()\n",
    "ax.plot(h_list, rmse_list)\n",
    "ax.set_title(\"RMSE values vs. bandwidth for sobol pts: n = 2^12, dim = 3\")\n",
    "ax.set_xlabel('Log-Scaled Bandwidth')\n",
    "ax.set_ylabel('RMSE')\n",
    "ax.set_xscale('log')"
   ]
  },
  {
   "cell_type": "code",
   "execution_count": 144,
   "metadata": {},
   "outputs": [
    {
     "data": {
      "text/plain": [
       "[0.016265912467246575,\n",
       " 0.011364282913399418,\n",
       " 0.007868618151292677,\n",
       " 0.005034025200481427,\n",
       " 0.0034514060271846505,\n",
       " 0.002414158593176008,\n",
       " 0.0016959406974534819,\n",
       " 0.0017176856527820947,\n",
       " 0.002554831002968419,\n",
       " 0.006215308779395445]"
      ]
     },
     "execution_count": 144,
     "metadata": {},
     "output_type": "execute_result"
    }
   ],
   "source": [
    "# laplace, iid, dim = 1\n",
    "h_list = [0.001, 0.002, 0.004, 0.01, 0.02, 0.04, 0.1, 0.2, 0.4, 1]\n",
    "rmse_list = []\n",
    "for i in range(len(h_list)):\n",
    "    rmse_list.append(rmse_laplace(h_list[i], 2**14, yiid1_laplace, kernel, kde))\n",
    "rmse_list"
   ]
  },
  {
   "cell_type": "code",
   "execution_count": 145,
   "metadata": {},
   "outputs": [
    {
     "name": "stdout",
     "output_type": "stream",
     "text": [
      "           2^10      2^11      2^12      2^13      2^14\n",
      "0.001  0.065064  0.046007  0.032532  0.023003  0.016266\n",
      "0.002  0.045457  0.032143  0.022729  0.016072  0.011364\n",
      "0.004  0.031474  0.022256  0.015737  0.011128  0.007869\n",
      "0.01   0.020136  0.014238  0.010068  0.007119  0.005034\n",
      "0.02   0.013806  0.009762  0.006903  0.004881  0.003451\n",
      "0.04   0.009657  0.006828  0.004828  0.003414  0.002414\n",
      "0.1    0.006784  0.004797  0.003392  0.002398  0.001696\n",
      "0.2    0.006871  0.004858  0.003435  0.002429  0.001718\n",
      "0.4    0.010219  0.007226  0.005110  0.003613  0.002555\n",
      "1      0.024861  0.017580  0.012431  0.008790  0.006215\n"
     ]
    }
   ],
   "source": [
    "# Import pandas library\n",
    "import pandas as pd\n",
    "\n",
    "# Initialize data to Dicts of series. uniform, iid, dim = 1\n",
    "d = {'2^10': pd.Series([0.0650636498689863, 0.045457131653597674, 0.03147447260517071, 0.020136100801925707, 0.013805624108738602,\n",
    "                        0.009656634372704032, 0.006783762789813927, 0.006870742611128379, 0.010219324011873676, 0.02486123511758178],\n",
    "                      index=['0.001', '0.002', '0.004', '0.01', '0.02', '0.04', '0.1', '0.2', '0.4', '1']),\n",
    "    '2^11': pd.Series([0.046006948031107435, 0.03214304604554857,.02225581301338643, 0.014238373423697546, 0.009762050425801552,\n",
    "                       0.006828271648378123, 0.0047968446706384, 0.004858348692116243, 0.007226153307938391, 0.01757954794031521],\n",
    "                      index=['0.001', '0.002', '0.004', '0.01', '0.02', '0.04', '0.1', '0.2', '0.4', '1']),\n",
    "    '2^12': pd.Series([0.03253182493449315, 0.022728565826798837, 0.015737236302585354, 0.010068050400962853, 0.006902812054369301,\n",
    "                       0.004828317186352016, 0.0033918813949069637, 0.0034353713055641894, 0.005109662005936838, 0.01243061755879089],\n",
    "                      index=['0.001', '0.002', '0.004', '0.01', '0.02', '0.04', '0.1', '0.2', '0.4', '1']),\n",
    "    '2^13': pd.Series([0.023003474015553717, 0.016071523022774287, 0.011127906506693215, 0.007119186711848773, 0.004881025212900776,\n",
    "                       0.0034141358241890616, 0.0023984223353192, 0.0024291743460581215, 0.0036130766539691954, 0.008789773970157604],\n",
    "                      index=['0.001', '0.002', '0.004', '0.01', '0.02', '0.04', '0.1', '0.2', '0.4', '1']),\n",
    "    '2^14': pd.Series([0.016265912467246575, 0.011364282913399418, 0.007868618151292677, 0.005034025200481427, 0.0034514060271846505,\n",
    "                       0.002414158593176008, 0.0016959406974534819, 0.0017176856527820947, 0.002554831002968419, 0.006215308779395445],\n",
    "                      index=['0.001', '0.002', '0.004', '0.01', '0.02', '0.04', '0.1', '0.2', '0.4', '1'])\n",
    "                      }\n",
    "\n",
    "# creates Dataframe.\n",
    "df = pd.DataFrame(d)\n",
    "\n",
    "# print the data.\n",
    "print(df)"
   ]
  },
  {
   "cell_type": "code",
   "execution_count": 146,
   "metadata": {},
   "outputs": [
    {
     "data": {
      "text/plain": [
       "Text(103.84722222222221, 0.5, 'Bandwidth')"
      ]
     },
     "execution_count": 146,
     "metadata": {},
     "output_type": "execute_result"
    },
    {
     "data": {
      "image/png": "[encoded data removed]",
      "text/plain": [
       "<Figure size 400x400 with 2 Axes>"
      ]
     },
     "metadata": {},
     "output_type": "display_data"
    }
   ],
   "source": [
    "import numpy as np\n",
    "import matplotlib.pyplot as plt\n",
    " \n",
    "fig, ax = plt.subplots(figsize=(4, 4))\n",
    "im = ax.imshow(df)\n",
    "ax.set_title(\"RMSE for laplace distribution, dim = 1, IID points\", size=10)\n",
    "fig.tight_layout()\n",
    "\n",
    "yaxis = df.index.values\n",
    "xaxis = df.columns.values\n",
    "# Add axis tick labels\n",
    "ax.set_xticks(np.arange(len(xaxis)), \n",
    "              labels=xaxis)\n",
    "ax.set_yticks(np.arange(len(yaxis)), \n",
    "              labels=yaxis)\n",
    "\n",
    "cbar = ax.figure.colorbar(im, \n",
    "                          ax = ax,\n",
    "                          shrink=0.75)\n",
    "\n",
    "# Rotate the tick labels to be more legible\n",
    "plt.setp(ax.get_xticklabels(),\n",
    "         rotation = 45,\n",
    "         ha = \"right\",\n",
    "         rotation_mode = \"anchor\")\n",
    "\n",
    "plt.xlabel(\"Sample size\") \n",
    "plt.ylabel(\"Bandwidth\") "
   ]
  },
  {
   "cell_type": "code",
   "execution_count": 111,
   "metadata": {},
   "outputs": [],
   "source": [
    "# https://www.askpython.com/python/examples/laplace-distribution-python\n",
    "# from scipy import stats\n",
    " \n",
    "# # Define location (mean) and scale parameters\n",
    "# loc = 0\n",
    "# scale = 1.0\n",
    " \n",
    "# # Create a Laplace distribution object\n",
    "# laplace_dist = stats.laplace(loc, scale)\n",
    " \n",
    "# # Calculate the PDF for a specific value (x = 3.0)\n",
    "# x = 3.0\n",
    "# pdf_value = laplace_dist.pdf(x)\n",
    " \n",
    "# print(f\"PDF for x = {x}: {pdf_value}\")\n",
    " \n",
    "# # Alternatively, calculate the PDF for an array of values\n",
    "# x_values = np.linspace(1.0, 4.0, 10)\n",
    "# pdf_values = laplace_dist.pdf(x_values)\n",
    "# print(pdf_values)\n",
    " \n",
    "# # Plot the PDF (using matplotlib)\n",
    "# import matplotlib.pyplot as plt\n",
    " \n",
    "# plt.plot(x_values, pdf_values)\n",
    "# plt.xlabel(\"x\")\n",
    "# plt.ylabel(\"PDF(x)\")\n",
    "# plt.title(\"Laplace Distribution PDF\")\n",
    "# plt.show()"
   ]
  },
  {
   "cell_type": "code",
   "execution_count": 112,
   "metadata": {},
   "outputs": [],
   "source": [
    "# making a second set of iid and sobol points\n",
    "\n",
    "# iidpts1_2, sobpts1_2 = gen_iid_and_sobol(dimen = 1, n = 2**12)\n",
    "# iidpts3_2, sobpts3_2 = gen_iid_and_sobol(dimen = 3, n = 2**12)"
   ]
  },
  {
   "cell_type": "code",
   "execution_count": 113,
   "metadata": {},
   "outputs": [],
   "source": [
    "# yiid_laplace = testfun_laplace(iidpts1, iidpts1_2) \n",
    "# ysob_laplace = testfun_laplace(sobpts1, sobpts1_2)\n",
    "\n",
    "# yiid_laplace_3 = testfun_laplace(iidpts3, iidpts3_2) \n",
    "# ysob_laplace_3 = testfun_laplace(sobpts3, sobpts3_2)"
   ]
  },
  {
   "cell_type": "code",
   "execution_count": 114,
   "metadata": {},
   "outputs": [],
   "source": [
    "# def true_function(x):\n",
    "#     return laplace_dist.pdf(x)"
   ]
  },
  {
   "cell_type": "code",
   "execution_count": 115,
   "metadata": {},
   "outputs": [],
   "source": [
    "# bandwidth = 0.1\n",
    "# def estimated_pts(x):\n",
    "#     return kde_pt(kernel, yiid_laplace, 0.1, x)"
   ]
  },
  {
   "cell_type": "code",
   "execution_count": 116,
   "metadata": {},
   "outputs": [],
   "source": [
    "# def squared_difference_pts(x):\n",
    "#     return (true_function(x) - estimated_pts(x))**2"
   ]
  },
  {
   "cell_type": "code",
   "execution_count": 117,
   "metadata": {},
   "outputs": [],
   "source": [
    "# result = integrate.quad(squared_difference_pts, -4, 8)\n",
    "# print(result)"
   ]
  },
  {
   "cell_type": "code",
   "execution_count": 118,
   "metadata": {},
   "outputs": [],
   "source": [
    "# h_optimal = 0\n",
    "# min_mise = 100000\n",
    "\n",
    "# for h in np.linspace(0.001, 2, 100):\n",
    "#     def estimated_pts(x):\n",
    "#         return kde_pt(kernel, yiid_laplace, h, x)\n",
    "#     def squared_difference_pts(x):\n",
    "#         return (true_function(x) - estimated_pts(x))**2\n",
    "#     mise, error = integrate.quad(squared_difference_pts, -4, 8)\n",
    "#     if mise < min_mise:\n",
    "#         min_mise = mise\n",
    "#         h_optimal = h\n",
    "\n",
    "# print(h_optimal, min_mise)"
   ]
  },
  {
   "cell_type": "markdown",
   "metadata": {},
   "source": [
    "## Profiling code"
   ]
  },
  {
   "cell_type": "code",
   "execution_count": 119,
   "metadata": {},
   "outputs": [],
   "source": [
    "import matplotlib.pyplot as plt\n",
    "import math\n",
    "import numpy as np\n",
    "import scipy as sp\n",
    "import qmcpy as qp\n",
    "from scipy import stats\n",
    "from copy import deepcopy\n",
    "import sympy as sy\n",
    "import sympy.stats\n",
    "import pprofile\n",
    "import sys"
   ]
  },
  {
   "cell_type": "code",
   "execution_count": 120,
   "metadata": {},
   "outputs": [],
   "source": [
    "## defining functions\n",
    "# QMC Point Generators\n",
    "def gen_iid_ld_pts(dimen = 3, n = 2**12):\n",
    "    \"\"\"\n",
    "    Generate IID, Sobol, Lattic, DNB2, and Halton sample points,\n",
    "    based on dimension and smaple size.\n",
    "    \"\"\"\n",
    "    coord_wts = 2.0**(-np.array(range(0, dimen)))\n",
    "    iidpts = qp.IIDStdUniform(dimen).gen_samples(n)\n",
    "    sobpts = qp.Sobol(dimen).gen_samples(n)\n",
    "    latticepts = qp.Lattice(dimen).gen_samples(n)\n",
    "    dnetb2pts = qp.DigitalNetB2(dimen).gen_samples(n)\n",
    "    haltonpts = qp.Halton(dimen).gen_samples(n)\n",
    "    return (iidpts, sobpts, latticepts, dnetb2pts, haltonpts)\n",
    "\n",
    "# Kernels\n",
    "# hardcoding hermite kernel coefficients\n",
    "def hardcode_hermite_kernel(r):\n",
    "    '''\n",
    "    returns hermite coefficients for r = 0, 1, or 2\n",
    "    band_width = the kernel band width, often denoted h; a smaller bandwidth means a peakier kernel\n",
    "    r = number of terms in our kernel\n",
    "    '''\n",
    "    if r == 0:\n",
    "        return sy.Matrix([[1/(math.pi)**0.5]])\n",
    "    elif r == 1:\n",
    "        return sy.Matrix([[1/(math.pi)**0.5, -1/(4*(math.pi)**0.5)]])\n",
    "    elif r == 2:\n",
    "        return sy.Matrix([[1/(math.pi)**0.5, -1/(4*(math.pi)**0.5), 1/(32*(math.pi)**0.5)]])\n",
    "    else:\n",
    "        raise ValueError(\"Invalid input. r must be 0, 1, or 2.\")\n",
    "\n",
    "# hardcoded: define hermite kernel for r = 0 (corresponds to r = 1 in the original case)\n",
    "def hardcode_hermite_kernel_weight(y, r = 0):\n",
    "    '''\n",
    "    r = number of terms in our kernel\n",
    "    '''\n",
    "    coef = np.array((hardcode_hermite_kernel(r = r)))\n",
    "    # print(coef)\n",
    "    # poly = sp.special.hermite(0)\n",
    "    # print(poly)\n",
    "    k = sp.special.hermite(0)(y) * coef[0][0] #initialize a vector of kernel values\n",
    "    # print(k)\n",
    "    for ii in range(0, r):\n",
    "        k += sp.special.hermite(2*ii)(y) * coef[0][ii] #add the additional terms\n",
    "    k *= np.exp(-y*y/2) #normalizing weight for Hermite functions #form the isotropic kernel and insert the bandwidth dependency\n",
    "    return k\n",
    "\n",
    "# hardcoding hermite kernel coefficients without sympy\n",
    "def hardcode_hermite_kernel_simple(r):\n",
    "    '''\n",
    "    returns hermite coefficients for r = 0, 1, or 2\n",
    "    band_width = the kernel band width, often denoted h; a smaller bandwidth means a peakier kernel\n",
    "    r = number of terms in our kernel\n",
    "    '''\n",
    "    if r==0:\n",
    "        return np.matrix([[1/(math.pi)**0.5]])\n",
    "    elif r==1:\n",
    "        return np.matrix([[1/(math.pi)**0.5, -1/(4*(math.pi)**0.5)]])\n",
    "    elif r==2:\n",
    "        return np.matrix([[1/(math.pi)**0.5, -1/(4*(math.pi)**0.5), 1/(32*(math.pi)**0.5)]])\n",
    "    else:\n",
    "        raise ValueError(\"Invalid input. r must be 0, 1, or 2.\")\n",
    "    \n",
    "# using simplified np.matrix for coefficients, instead of sympy.matrix\n",
    "def hardcode_hermite_kernel_weight_v2(y, r = 0):\n",
    "    '''\n",
    "    r = number of terms in our kernel\n",
    "    '''\n",
    "    coef = np.array((hardcode_hermite_kernel_simple(r = r)))\n",
    "    # print(coef)\n",
    "    # poly = sp.special.hermite(0)\n",
    "    # print(poly)\n",
    "    k = sp.special.hermite(0)(y) * coef[0][0] #initialize a vector of kernel values\n",
    "    # print(k)\n",
    "    for ii in range(0, r):\n",
    "        k += sp.special.hermite(2*ii)(y) * coef[0][ii] #add the additional terms\n",
    "    k *= np.exp(-y*y/2) #normalizing weight for Hermite functions #form the isotropic kernel and insert the bandwidth dependency\n",
    "    return k\n",
    "    \n",
    "# hardcoded without scipy: define hermite kernel for r = 0 (corresponds to r = 1 in the original case)\n",
    "# for some reason, not returning same values as original kernel\n",
    "def simple_hardcode_hermite_kernel_weight(y, r = 0):\n",
    "    '''\n",
    "    r = number of terms in our kernel\n",
    "    '''\n",
    "    coef = np.array((hardcode_hermite_kernel(r = r)))\n",
    "    hermite_polys = [sp.poly1d([1.]), sp.poly1d([4.,  0., -2.]), sp.poly1d([ 1.6000000e+01,  0.0000000e+00, -4.8000000e+01, -8.8817842e-16,\n",
    "        1.2000000e+01])]\n",
    "    # print(coef)\n",
    "    # poly = sp.special.hermite(0)\n",
    "    # print(poly)\n",
    "    k = sp.poly1d([1.])(y)*coef[0][0] #initialize a vector of kernel values\n",
    "    # print(k)\n",
    "    for ii in range(0,r):\n",
    "        k += hermite_polys[r](y)*coef[0][ii] #add the additional terms\n",
    "    k*=np.exp(-y*y/2) #normalizing weight for Hermite functions #form the isotropic kernel and insert the bandwidth dependency\n",
    "    return k\n",
    "\n",
    "# PDFs\n",
    "# Unamed distribution\n",
    "def testfun(x):\n",
    "    return 10 * np.exp(-x) * np.sin(np.pi*x)\n",
    "\n",
    "# Guassian distribution\n",
    "def guass_distr(x, coord_wts = 1): # function f(x) defines the random variable\n",
    "    wtx = np.multiply(x, coord_wts)\n",
    "    y = 10 * np.exp(-wtx.sum(1)) * np.sin(np.pi * wtx.sum(1))\n",
    "    #y = x[:,0] # if x is uniform, then y is uniform\n",
    "    return y\n",
    "\n",
    "# KDEs\n",
    "def kde_pt(kernel, ypts, bandwidth, yeval):\n",
    "    return np.mean(kernel((yeval-ypts) / bandwidth)) / bandwidth\n",
    "\n",
    "# def estimated_pts(x):\n",
    "#     return kde_pt(hardcode_hermite_kernel_weight, pts, h, x)\n",
    "\n",
    "# def squared_difference_pts(x):\n",
    "#     return (hardcode_hermite_kernel_weight - estimated_pts(x))**2\n",
    "\n",
    "# Integration operation from SciPy\n",
    "def integration_test(h, pts, kde, kernel, true_function):\n",
    "        def estimated_pts(x):\n",
    "            return kde(kernel, pts, h, x)\n",
    "        def squared_difference_pts(x):\n",
    "            return (true_function(x) - estimated_pts(x))**2\n",
    "        mise, error = sp.integrate.quad(squared_difference_pts, -4, 8) # This seems to be taking the longest. Will investigate.\n",
    "        return (mise, error)\n",
    "\n",
    "# All operations\n",
    "def optimal_h(h_space, pts, kde, kernel, true_function):\n",
    "    '''\n",
    "    returns optimal bandwidth and lowest value of MISE\n",
    "    h_space: a set of bandwidths to be tested (e.g., np.linspace(0.001, 3, 100))\n",
    "    pts: set of randomly generated points (IID or LD)\n",
    "    kde: kde function\n",
    "    kernel: function that defines kernel\n",
    "    true_function: function that we are trying to estimate (e.g., f(x), laplace, uniform, exponential, etc.)\n",
    "    '''\n",
    "    h_optimal = 0\n",
    "    lowest_mise = np.inf\n",
    "    for h in h_space:\n",
    "        def estimated_pts(x):\n",
    "            return kde(kernel, pts, h, x)\n",
    "        def squared_difference_pts(x):\n",
    "            return (true_function(x) - estimated_pts(x))**2\n",
    "        mise, error = sp.integrate.quad(squared_difference_pts, -4, 8) # TODO: Fix this interval of integration so that it makes sense. Should probably be parameterized as well.\n",
    "        if mise < lowest_mise:\n",
    "            lowest_mise = mise\n",
    "            h_optimal = h\n",
    "\n",
    "    return(lowest_mise, h_optimal)"
   ]
  },
  {
   "cell_type": "code",
   "execution_count": null,
   "metadata": {},
   "outputs": [],
   "source": [
    "# Functions to test\n",
    "# Alternatives to SciPy's integration\n",
    "\n",
    "iidpts1, sobpts1, latticepts1, dnetb2pts1, haltonpts1 = gen_iid_ld_pts(dimen = 1, n = 2**12)\n",
    "yiid1 = guass_distr(iidpts1)\n",
    "test_option = '6'\n",
    "\n",
    "profiler = pprofile.Profile()\n",
    "with profiler:\n",
    "    if test_option in ('optimal_h' ,'0'):\n",
    "        result = optimal_h(np.linspace(0.001, 2, 2), yiid1, kde_pt, hardcode_hermite_kernel_weight, testfun)\n",
    "    elif test_option in ('kde_pt', '1'):\n",
    "        result = kde_pt(hardcode_hermite_kernel_weight, yiid1, 0.5, 2.0)\n",
    "    # elif test_option == 'hardcode_hermite_kernel_weight':\n",
    "    #     # result = hardcode_hermite_kernel_weight(y, r)\n",
    "    elif test_option in ('hardcode_hermite_kernel', '2'):\n",
    "        r_number = int(2)\n",
    "        print(hardcode_hermite_kernel(r_number))\n",
    "    elif test_option in ('hardcode_hermite_kernel', '3'):\n",
    "        r_number = int(2)\n",
    "        result = hardcode_hermite_kernel_weight(y=yiid1, r=r_number)\n",
    "    elif test_option in ('integration_test', '4'):\n",
    "        mise, error = integration_test(0.1, yiid1, kde_pt, hardcode_hermite_kernel_weight, testfun)\n",
    "    elif test_option in ('hardcode_hermite_kernel_simple', '5'):\n",
    "        print(hardcode_hermite_kernel_simple(2)) # testing when r = 2\n",
    "    elif test_option in ('simple_hardcode_hermite_kernel_weight', '6'):\n",
    "        print(simple_hardcode_hermite_kernel_weight(y=yiid1, r=2))\n",
    "    elif test_option in ('hardcode_hermite_kernel_weight_v2', '7'):\n",
    "        result = hardcode_hermite_kernel_weight_v2(y=yiid1, r=2)\n",
    "    else:\n",
    "        raise Exception\n",
    "\n",
    "profiler.print_stats()"
   ]
  },
  {
   "cell_type": "code",
   "execution_count": null,
   "metadata": {},
   "outputs": [],
   "source": [
    "#testing"
   ]
  }
 ],
 "metadata": {
  "kernelspec": {
   "display_name": "qmcpy",
   "language": "python",
   "name": "python3"
  },
  "language_info": {
   "codemirror_mode": {
    "name": "ipython",
    "version": 3
   },
   "file_extension": ".py",
   "mimetype": "text/x-python",
   "name": "python",
   "nbconvert_exporter": "python",
   "pygments_lexer": "ipython3",
   "version": "3.9.13"
  }
 },
 "nbformat": 4,
 "nbformat_minor": 2
}
