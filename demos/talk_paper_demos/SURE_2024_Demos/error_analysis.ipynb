{
 "cells": [
  {
   "cell_type": "markdown",
   "metadata": {},
   "source": [
    "# Set Up"
   ]
  },
  {
   "cell_type": "markdown",
   "metadata": {},
   "source": [
    "## Colab Installation\n",
    "\n",
    "Run the following code block if you are using this Jupyter notebook in Google Colab. Otherwise skip to importing the packages."
   ]
  },
  {
   "cell_type": "code",
   "execution_count": 2,
   "metadata": {},
   "outputs": [
    {
     "name": "stdout",
     "output_type": "stream",
     "text": [
      "Collecting git+https://github.com/QMCSoftware/QMCSoftware.git@SURE2024\n",
      "  Cloning https://github.com/QMCSoftware/QMCSoftware.git (to revision SURE2024) to c:\\users\\waine\\appdata\\local\\temp\\pip-req-build-n4_vfvra\n",
      "  Resolved https://github.com/QMCSoftware/QMCSoftware.git to commit d19070ff3ee86f69f57218b65808e72ba6741d82\n",
      "  Preparing metadata (setup.py): started\n",
      "  Preparing metadata (setup.py): finished with status 'done'\n",
      "Requirement already satisfied: numpy>=1.17.0 in c:\\users\\waine\\miniconda3\\miniconda\\envs\\qmcpy\\lib\\site-packages (from qmcpy==1.4.5) (1.23.4)\n",
      "Requirement already satisfied: scipy>=1.0.0 in c:\\users\\waine\\miniconda3\\miniconda\\envs\\qmcpy\\lib\\site-packages (from qmcpy==1.4.5) (1.9.3)\n",
      "Building wheels for collected packages: qmcpy\n",
      "  Building wheel for qmcpy (setup.py): started\n",
      "  Building wheel for qmcpy (setup.py): finished with status 'done'\n",
      "  Created wheel for qmcpy: filename=qmcpy-1.4.5-cp39-cp39-win_amd64.whl size=7695007 sha256=75d1045a48fad4d790fc2287e686b47b172df533ef825c27fbaa9090edf99a1f\n",
      "  Stored in directory: C:\\Users\\waine\\AppData\\Local\\Temp\\pip-ephem-wheel-cache-x654y6qu\\wheels\\ae\\92\\8c\\9c3620765e56b81faafbec8c64f5d2d942604061db0c3369a2\n",
      "Successfully built qmcpy\n",
      "Installing collected packages: qmcpy\n",
      "Successfully installed qmcpy-1.4.5\n"
     ]
    },
    {
     "name": "stderr",
     "output_type": "stream",
     "text": [
      "  Running command git clone --filter=blob:none --quiet https://github.com/QMCSoftware/QMCSoftware.git 'C:\\Users\\waine\\AppData\\Local\\Temp\\pip-req-build-n4_vfvra'\n",
      "  Running command git checkout -b SURE2024 --track origin/SURE2024\n",
      "  branch 'SURE2024' set up to track 'origin/SURE2024'.\n",
      "  Switched to a new branch 'SURE2024'\n"
     ]
    }
   ],
   "source": [
    "# Run these statements if you are using Google Colab. Otherwise skip this step.\n",
    "!sudo apt install cm-super dvipng texlive-latex-extra texlive-latex-recommended\n",
    "!sudo apt install cm-super\n",
    "!pip install git+https://github.com/QMCSoftware/QMCSoftware.git@SURE2024"
   ]
  },
  {
   "cell_type": "markdown",
   "metadata": {},
   "source": [
    "## Importing Packages"
   ]
  },
  {
   "cell_type": "code",
   "execution_count": 3,
   "metadata": {},
   "outputs": [],
   "source": [
    "import matplotlib.pyplot as plt\n",
    "import math\n",
    "import numpy as np\n",
    "import scipy as sp\n",
    "import qmcpy as qp\n",
    "from scipy import stats\n",
    "from copy import deepcopy\n",
    "import sympy as sy\n",
    "import sympy.stats\n",
    "# figpath = '' #this path sends the figures to the directory that you want\n",
    "# savefigs = True  #save the figures on your disk if True\n",
    "# imgfrmt = 'pdf' #kind of format to save figures as"
   ]
  },
  {
   "cell_type": "markdown",
   "metadata": {},
   "source": [
    "# Definitions of Python Functions\n",
    "\n",
    "The following functions are things that will be repeatedly used in the notebook so that there isn't duplicate code all over the place."
   ]
  },
  {
   "cell_type": "markdown",
   "metadata": {},
   "source": [
    "## Graphing Functions\n",
    "\n",
    "The following functions are to help with graphing."
   ]
  },
  {
   "cell_type": "code",
   "execution_count": 4,
   "metadata": {},
   "outputs": [],
   "source": [
    "def make_grid(d=3, nper=2):\n",
    "    \"\"\"this function creates a nper^d x d matrix of grid points\"\"\"\n",
    "    xpts = np.linspace(1/(2*nper), 1.0-1/(2*nper), nper)  # array of coordinate values\n",
    "    xgrid = xpts  # initial grid\n",
    "    n = nper  # initial length of grid\n",
    "    for ii in range(1,d):\n",
    "        xgrid0 = xgrid  # store the old grid\n",
    "        xgrid = np.vstack((xgrid0, xpts[0] * np.ones((1, n))))  # stack the next coordinate\n",
    "        for jj in range(1, nper):\n",
    "            xgrid = np.hstack((xgrid, np.vstack((xgrid0, xpts[jj] * np.ones((1, n))))))\n",
    "        n = n * nper  # update the length of the grid\n",
    "    return xgrid.T  # take the transpose to that coordinates are columns\n",
    "\n",
    "def plot_grid(xgrid, coord_to_plot=[0, 1], savefig=True, figpath=''):\n",
    "    \"\"\"Plots a dot grid.\"\"\"\n",
    "    n = xgrid.shape[0]\n",
    "    d = xgrid.shape[1]\n",
    "    coord_to_plot = np.minimum(coord_to_plot, [d, d]), # ensure that they are no more than d\n",
    "    coord_to_plot = coord_to_plot[0]\n",
    "    coord_to_plot = np.maximum(coord_to_plot, [1, 1]), # ensure that they are no less than 1\n",
    "    coord_to_plot = coord_to_plot[0]\n",
    "    fig, ax = plt.subplots()\n",
    "    ax.plot(xgrid[:,coord_to_plot[0]-1], xgrid[:,coord_to_plot[1]-1], 'b.', markersize = 10, zorder=10, clip_on=False)\n",
    "    ax.set_title(f\"{n:.0f} Grid Points for $d = ${d:.0f}\")\n",
    "    ax.set_xlim([0, 1])\n",
    "    ax.set_ylim([0, 1])\n",
    "    ax.set_xlabel(r'$x_{i%d}$'%(coord_to_plot[0]), fontsize=14)\n",
    "    ax.set_ylabel(r'$x_{i%d}$'%(coord_to_plot[1]), fontsize=14)\n",
    "    ax.set_aspect(1)\n",
    "    if savefigs:\n",
    "        fig.savefig(figpath + f\"{n:.0f}gridpts_d{d:.0f}.\" + imgfrmt, format=imgfrmt)\n"
   ]
  },
  {
   "cell_type": "code",
   "execution_count": 5,
   "metadata": {},
   "outputs": [],
   "source": [
    "def graph_kernel(bandwidths, lin_spaces, kernel, ylim_lst=[-0.05, 1.2]):\n",
    "  \"\"\"Graphs a given kernel, with given bandwidths, lin_spaces\n",
    "  bandwidths = a list of bandwidths\n",
    "  lin_spaces = a list of 3 integers: start, finish, and number of points\"\"\"\n",
    "  ypts = np.linspace(lin_spaces[0], lin_spaces[1], lin_spaces[2])\n",
    "  nband = len(bandwidths)\n",
    "  fig, ax = plt.subplots(1, 3, figsize=(5*nband, 5))\n",
    "  for ii in range(nband):\n",
    "      ax[ii].plot(ypts,kernel(ypts/bandwidths[ii]) / bandwidths[ii])\n",
    "      ax[ii].grid(False)\n",
    "      ax[ii].set_ylim(ylim_lst)\n",
    "      ax[ii].set_xlabel(r'$y$', fontsize=20)\n",
    "      ax[ii].set_ylabel(r'$h = {%0.1f}$'%bandwidths[ii], fontsize=20)\n",
    "    #   if (ii == 0):\n",
    "    #       ax[ii].set_ylabel(r'$\\widetilde{k}(y) = \\exp(-(y/h)^2)/(\\sqrt{\\pi}h), \\ h = {%0.1f}$'%bandwidths[ii], fontsize=20)\n",
    "    #   else:\n",
    "    #       ax[ii].set_ylabel(r'$h = {%0.1f}$'%bandwidths[ii], fontsize=20)"
   ]
  },
  {
   "cell_type": "code",
   "execution_count": 6,
   "metadata": {},
   "outputs": [],
   "source": [
    "def generate_sobol_iid_graph(bandwidths, lin_spaces, kde, kernel, yiid, ysob, ylim_lst=[-0.05, 1.2]):\n",
    "  \"\"\"Generates a graph using IID and Sobol sample points.\n",
    "  bandwidths = a list of bandwidths\n",
    "  lin_spaces = a list of 3 integers: start, finish, and number of points\n",
    "  kde = name of kde function\n",
    "  kernel = name of kernel function\n",
    "  yiid = set of iid points\n",
    "  ysob = set of LD points generated with sobol sequence\"\"\"\n",
    "  nband = len(bandwidths)\n",
    "  yeval = np.linspace(lin_spaces[0], lin_spaces[1], lin_spaces[2])\n",
    "  for ii in range(nband):\n",
    "      rhovaliid = kde(kernel, yiid, bandwidths[ii], yeval)\n",
    "      rhovalsob = kde(kernel, ysob, bandwidths[ii], yeval)\n",
    "      fig,ax = plt.subplots()\n",
    "      ax.plot(yeval, rhovaliid, label = \"IID\")\n",
    "      ax.plot(yeval, rhovalsob, label = \"Sobol\")\n",
    "      ax.legend()\n",
    "      ax.set_ylim(ylim_lst)\n",
    "      ax.set_title(f\"$h = {bandwidths[ii]:.2f}$\")"
   ]
  },
  {
   "cell_type": "code",
   "execution_count": 7,
   "metadata": {},
   "outputs": [],
   "source": [
    "def generate_graphs(bandwidths, lin_spaces, kde, kernel, sample_points, ylim_lst=[-0.05, 1.2]):\n",
    "  \"\"\"\n",
    "  Generate graphs involving a kde, kernel, and sample_points.\n",
    "  sample_points is a list of IID, Sobol, Lattice, DNB2, and Halton points.\n",
    "  \"\"\"\n",
    "  nband = len(bandwidths)\n",
    "  yeval = np.linspace(lin_spaces[0], lin_spaces[1], lin_spaces[2])\n",
    "  rho_list = list()\n",
    "  for ii in range(nband):\n",
    "      rhovaliid = kde(kernel, sample_points[0], bandwidths[ii], yeval)\n",
    "      rhovalsob = kde(kernel, sample_points[1], bandwidths[ii], yeval)\n",
    "      rhovallattice = kde(kernel, sample_points[2], bandwidths[ii], yeval)\n",
    "      rhovaldnetb2 = kde(kernel, sample_points[3], bandwidths[ii], yeval)\n",
    "      rhovalhalton = kde(kernel, sample_points[4], bandwidths[ii], yeval)\n",
    "      fig, ax = plt.subplots()\n",
    "      ax.plot(yeval, rhovaliid, label = \"IID\")\n",
    "      ax.plot(yeval, rhovalsob, label = \"Sobol\")\n",
    "      ax.plot(yeval, rhovallattice, label = \"Lattice\")\n",
    "      ax.plot(yeval, rhovaldnetb2, label = \"Digital Net B2\")\n",
    "      ax.plot(yeval, rhovalhalton, label = \"Halton\")\n",
    "      ax.legend()\n",
    "      ax.set_ylim(ylim_lst)\n",
    "      ax.set_title(f\"$h = {bandwidths[ii]:.2f}$\")"
   ]
  },
  {
   "cell_type": "markdown",
   "metadata": {},
   "source": [
    "## Generate Functions\n",
    "\n",
    "The following functions are used to generate different types of sample points."
   ]
  },
  {
   "cell_type": "code",
   "execution_count": 8,
   "metadata": {},
   "outputs": [],
   "source": [
    "def gen_iid_and_sobol(dimen = 3, n = 2**12):\n",
    "  \"\"\"Generate IID and Sobol sample points based on given sample size and dimensions.\"\"\"\n",
    "  coord_wts = 2.0 ** (-np.array(range(0, dimen)))\n",
    "  iidpts = qp.IIDStdUniform(dimen).gen_samples(n)\n",
    "  sobpts = qp.Sobol(dimen).gen_samples(n)\n",
    "  return (iidpts, sobpts)\n",
    "\n",
    "def gen_iid_ld_pts(dimen = 3, n = 2**12):\n",
    "  \"\"\"\n",
    "  Generate IID, Sobol, Lattic, DNB2, and Halton sample points,\n",
    "  based on dimension and smaple size.\n",
    "  \"\"\"\n",
    "  coord_wts = 2.0**(-np.array(range(0, dimen)))\n",
    "  iidpts = qp.IIDStdUniform(dimen).gen_samples(n)\n",
    "  sobpts = qp.Sobol(dimen).gen_samples(n)\n",
    "  latticepts = qp.Lattice(dimen).gen_samples(n)\n",
    "  dnetb2pts = qp.DigitalNetB2(dimen).gen_samples(n)\n",
    "  haltonpts = qp.Halton(dimen).gen_samples(n)\n",
    "  return (iidpts, sobpts, latticepts, dnetb2pts, haltonpts)"
   ]
  },
  {
   "cell_type": "markdown",
   "metadata": {},
   "source": [
    "## Generating Points\n",
    "\n",
    "Generating sequences of IID and LD points, with dimensions 1 and 3."
   ]
  },
  {
   "cell_type": "code",
   "execution_count": 81,
   "metadata": {},
   "outputs": [],
   "source": [
    "# dim = 1, n = 2**12\n",
    "iidpts1, sobpts1, latticepts1, dnetb2pts1, haltonpts1 = gen_iid_ld_pts(dimen = 1, n = 2**12)\n",
    "# print(\"iid: \", iidpts1)\n",
    "# print(\"sobol: \", sobpts1)\n",
    "# print(\"lattice: \", latticepts1)\n",
    "# print(\"digital net B2: \", dnetb2pts1)\n",
    "# print(\"halton: \", haltonpts1)"
   ]
  },
  {
   "cell_type": "code",
   "execution_count": 85,
   "metadata": {},
   "outputs": [
    {
     "data": {
      "text/plain": [
       "(4096, 1)"
      ]
     },
     "execution_count": 85,
     "metadata": {},
     "output_type": "execute_result"
    }
   ],
   "source": [
    "iidpts1.shape"
   ]
  },
  {
   "cell_type": "code",
   "execution_count": 10,
   "metadata": {},
   "outputs": [],
   "source": [
    "# dim = 1, n = 2**10\n",
    "few_iidpts1, few_sobpts1, few_latticepts1, few_dnetb2pts1, few_haltonpts1 = gen_iid_ld_pts(dimen = 1, n = 2**10)\n",
    "# print(\"iid: \", few_iidpts1)\n",
    "# print(\"sobol: \", few_sobpts1)\n",
    "# print(\"lattice: \", few_latticepts1)\n",
    "# print(\"digital net B2: \", few_dnetb2pts1)\n",
    "# print(\"halton: \", few_haltonpts1)"
   ]
  },
  {
   "cell_type": "code",
   "execution_count": 11,
   "metadata": {},
   "outputs": [],
   "source": [
    "# dim = 1, n = 2**14\n",
    "many_iidpts1, many_sobpts1, many_latticepts1, many_dnetb2pts1, many_haltonpts1 = gen_iid_ld_pts(dimen = 1, n = 2**14)\n",
    "# print(\"iid: \", many_iidpts1)\n",
    "# print(\"sobol: \", many_sobpts1)\n",
    "# print(\"lattice: \", many_latticepts1)\n",
    "# print(\"digital net B2: \", many_dnetb2pts1)\n",
    "# print(\"halton: \", many_haltonpts1)"
   ]
  },
  {
   "cell_type": "code",
   "execution_count": 83,
   "metadata": {},
   "outputs": [],
   "source": [
    "# dim = 3, n = 2**12\n",
    "iidpts3, sobpts3, latticepts3, dnetb2pts3, haltonpts3 = gen_iid_ld_pts(dimen = 3, n = 2**12)\n",
    "# print(\"iid: \", iidpts3)\n",
    "# print(\"sobol: \", sobpts3)\n",
    "# print(\"lattice: \", latticepts3)\n",
    "# print(\"digital net B2: \", dnetb2pts3)\n",
    "# print(\"halton: \", haltonpts3)"
   ]
  },
  {
   "cell_type": "code",
   "execution_count": 84,
   "metadata": {},
   "outputs": [
    {
     "data": {
      "text/plain": [
       "array([[0.85474536, 0.33731752, 0.06057647],\n",
       "       [0.24681078, 0.97656196, 0.1746158 ],\n",
       "       [0.27347406, 0.27160039, 0.57890597],\n",
       "       ...,\n",
       "       [0.12411554, 0.90804728, 0.37616507],\n",
       "       [0.97389626, 0.34016586, 0.22382876],\n",
       "       [0.30466901, 0.62602441, 0.34267511]])"
      ]
     },
     "execution_count": 84,
     "metadata": {},
     "output_type": "execute_result"
    }
   ],
   "source": [
    "iidpts3"
   ]
  },
  {
   "cell_type": "code",
   "execution_count": 13,
   "metadata": {},
   "outputs": [],
   "source": [
    "# dim = 3, n = 2**10\n",
    "few_iidpts3, few_sobpts3, few_latticepts3, few_dnetb2pts3, few_haltonpts3 = gen_iid_ld_pts(dimen = 3, n = 2**10)\n",
    "# print(\"iid: \", few_iidpts3)\n",
    "# print(\"sobol: \", few_sobpts3)\n",
    "# print(\"lattice: \", few_latticepts3)\n",
    "# print(\"digital net B2: \", few_dnetb2pts3)\n",
    "# print(\"halton: \", few_haltonpts3)"
   ]
  },
  {
   "cell_type": "code",
   "execution_count": 14,
   "metadata": {},
   "outputs": [],
   "source": [
    "# dim = 3, n = 2**14\n",
    "many_iidpts3, many_sobpts3, many_latticepts3, many_dnetb2pts3, many_haltonpts3 = gen_iid_ld_pts(dimen = 3, n = 2**14)\n",
    "# print(\"iid: \", many_iidpts3)\n",
    "# print(\"sobol: \", many_sobpts3)\n",
    "# print(\"lattice: \", many_latticepts3)\n",
    "# print(\"digital net B2: \", many_dnetb2pts3)\n",
    "# print(\"halton: \", many_haltonpts3)"
   ]
  },
  {
   "cell_type": "markdown",
   "metadata": {},
   "source": [
    "## Kernels and KDEs\n",
    "\n",
    "The following are definitions of different kernels used in the notebook. Some may be defined later, but these are ones used throughout the notebook or commonly used/known."
   ]
  },
  {
   "cell_type": "markdown",
   "metadata": {},
   "source": [
    "The gaussian kernel defined below represents the following:\n",
    "\n",
    "$$\n",
    "\\frac{e^{-y^2}}{\\sqrt{\\pi}}\n",
    "$$"
   ]
  },
  {
   "cell_type": "code",
   "execution_count": 92,
   "metadata": {},
   "outputs": [],
   "source": [
    "def kernel(y):\n",
    "    return np.exp(-y * y) / np.sqrt(np.pi)"
   ]
  },
  {
   "cell_type": "markdown",
   "metadata": {},
   "source": [
    "#### Generate some $y_i=f(x_i)$ points\n",
    "$\n",
    "f(\\mathbf{x}) = 10 \\exp(- w_1x_1 - \\cdots - w_d x_d) \\sin(w_1x_1 + \\cdots +w_d x_d)\n",
    "$"
   ]
  },
  {
   "cell_type": "code",
   "execution_count": 87,
   "metadata": {},
   "outputs": [],
   "source": [
    "def testfun1(x, coord_wts = 1): # function f(x) defines the random variable\n",
    "    wtx = np.multiply(x, coord_wts)\n",
    "    y = 10 * np.exp(-wtx.sum(1)) * np.sin(np.pi * wtx.sum(1))\n",
    "    #y = x[:,0] # if x is uniform, then y is uniform\n",
    "    return y"
   ]
  },
  {
   "cell_type": "code",
   "execution_count": 17,
   "metadata": {},
   "outputs": [],
   "source": [
    "yiid1 = testfun1(iidpts1)\n",
    "ysob1 = testfun1(sobpts1)\n",
    "\n",
    "yiid3 = testfun1(iidpts3)\n",
    "ysob3 = testfun1(sobpts3)"
   ]
  },
  {
   "cell_type": "code",
   "execution_count": 18,
   "metadata": {},
   "outputs": [],
   "source": [
    "many_yiid1 = testfun1(many_iidpts1)\n",
    "many_ysob1 = testfun1(many_sobpts1)\n",
    "\n",
    "many_yiid3 = testfun1(many_iidpts3)\n",
    "many_ysob3 = testfun1(many_sobpts3)"
   ]
  },
  {
   "cell_type": "code",
   "execution_count": 19,
   "metadata": {},
   "outputs": [],
   "source": [
    "few_yiid1 = testfun1(few_iidpts1)\n",
    "few_ysob1 = testfun1(few_sobpts1)\n",
    "\n",
    "few_yiid3 = testfun1(few_iidpts3)\n",
    "few_ysob3 = testfun1(few_sobpts3)"
   ]
  },
  {
   "cell_type": "markdown",
   "metadata": {},
   "source": [
    "The following *Kernel Density Estimator* (KDE)\n",
    "\n",
    "$$\n",
    "\\varrho() = \\frac{k\\left(\\frac{y - Y}{h}\\right)}{h}\n",
    "$$\n",
    "\n",
    "*(Still needs work.)*"
   ]
  },
  {
   "cell_type": "code",
   "execution_count": 93,
   "metadata": {},
   "outputs": [],
   "source": [
    "def kde(kernel, ypts, bandwidth, yeval):\n",
    "    neval = len(yeval)\n",
    "    rhoval = np.zeros_like(yeval) #values of density estimator\n",
    "    for ii in range(len(yeval)):\n",
    "        rhoval[ii] = np.mean(kernel((yeval[ii]-ypts) / bandwidth)) / bandwidth\n",
    "    return rhoval"
   ]
  },
  {
   "cell_type": "code",
   "execution_count": 114,
   "metadata": {},
   "outputs": [],
   "source": [
    "def kde_pt(kernel, ypts, bandwidth, yeval):\n",
    "    # neval = len(yeval)\n",
    "    # rhoval = np.zeros_like(yeval) #values of density estimator\n",
    "    # for ii in range(len(yeval)):\n",
    "    #     rhoval[ii] = np.mean(kernel((yeval[ii]-ypts) / bandwidth)) / bandwidth\n",
    "    return np.mean(kernel((yeval-ypts) / bandwidth)) / bandwidth"
   ]
  },
  {
   "cell_type": "markdown",
   "metadata": {},
   "source": [
    "# Kernel Density Estimator for Uniform Distribution"
   ]
  },
  {
   "cell_type": "code",
   "execution_count": 21,
   "metadata": {},
   "outputs": [],
   "source": [
    "def testfun_unif(x, coord_wts = 1): # function f(x) defines the random variable\n",
    "    wtx = np.multiply(x, coord_wts)\n",
    "    # y = 10*np.exp(-wtx.sum(1))*np.sin(np.pi*wtx.sum(1))\n",
    "    y = x[:,0] # if x is uniform, then y is uniform\n",
    "    return y"
   ]
  },
  {
   "cell_type": "code",
   "execution_count": 22,
   "metadata": {},
   "outputs": [],
   "source": [
    "yiid_unif1 = testfun_unif(iidpts1)\n",
    "ysob_unif1 = testfun_unif(sobpts1)\n",
    "\n",
    "yiid_unif3 = testfun_unif(iidpts3)\n",
    "ysob_unif3 = testfun_unif(sobpts3)"
   ]
  },
  {
   "cell_type": "code",
   "execution_count": 23,
   "metadata": {},
   "outputs": [],
   "source": [
    "many_yiid_unif1 = testfun_unif(many_iidpts1)\n",
    "many_ysob_unif1 = testfun_unif(many_sobpts1)\n",
    "\n",
    "many_yiid_unif3 = testfun_unif(many_iidpts3)\n",
    "many_ysob_unif3 = testfun_unif(many_sobpts3)"
   ]
  },
  {
   "cell_type": "code",
   "execution_count": 24,
   "metadata": {},
   "outputs": [],
   "source": [
    "few_yiid_unif1 = testfun_unif(few_iidpts1)\n",
    "few_ysob_unif1 = testfun_unif(few_sobpts1)\n",
    "\n",
    "few_yiid_unif3 = testfun_unif(few_iidpts3)\n",
    "few_ysob_unif3 = testfun_unif(few_sobpts3)"
   ]
  },
  {
   "cell_type": "markdown",
   "metadata": {},
   "source": [
    "# Testing different LD sequences: Sobol, Lattice, Digital Net B2, and Halton"
   ]
  },
  {
   "cell_type": "code",
   "execution_count": 25,
   "metadata": {},
   "outputs": [],
   "source": [
    "# iidpts1, sobpts1, latticepts1, dnetb2pts1, haltonpts1 = gen_iid_ld_pts()\n",
    "points1 = gen_iid_ld_pts(dimen = 1, n = 2**12) # dim = 1\n",
    "points3 = gen_iid_ld_pts(dimen = 3, n = 2**12) # dim = 3"
   ]
  },
  {
   "cell_type": "code",
   "execution_count": 26,
   "metadata": {},
   "outputs": [],
   "source": [
    "# using original function f(x)\n",
    "\n",
    "lst_points1 = list()\n",
    "lst_points3 = list()\n",
    "\n",
    "for pts in points1:\n",
    "  lst_points1.append(testfun1(pts))\n",
    "\n",
    "for pts in points3:\n",
    "  lst_points3.append(testfun1(pts))"
   ]
  },
  {
   "cell_type": "markdown",
   "metadata": {},
   "source": [
    "# Testing Different Kernels"
   ]
  },
  {
   "cell_type": "markdown",
   "metadata": {},
   "source": [
    "The following Python function definition is the expression:\n",
    "\n",
    "$$\n",
    "y=\\begin{cases}\n",
    "            \\frac{\\pi}{4}\\cos\\left(\\frac{\\pi}{2} y\\right), & |y| \\leq 1\\\\\n",
    "            0, & Otherwise\n",
    "        \\end{cases}\n",
    "$$"
   ]
  },
  {
   "cell_type": "code",
   "execution_count": 27,
   "metadata": {},
   "outputs": [],
   "source": [
    "# cosine--has best performance according to paper?\n",
    "def kernel_cos(y):\n",
    "    return np.heaviside(1-np.absolute(y), 1/2)*(math.pi/4)*np.cos((math.pi/2)*y)"
   ]
  },
  {
   "cell_type": "markdown",
   "metadata": {},
   "source": [
    "The following Python function defines the kernel:\n",
    "\n",
    "$$\n",
    "y=\\begin{cases}\n",
    "            1 - |y|, & |y| \\leq 1\\\\\n",
    "            0, & Otherwise\n",
    "        \\end{cases}\n",
    "$$"
   ]
  },
  {
   "cell_type": "code",
   "execution_count": 28,
   "metadata": {},
   "outputs": [],
   "source": [
    "# triangular kernel\n",
    "def kernel_tri(y):\n",
    "    return np.heaviside(1-np.absolute(y), 1/2)*(1 - np.absolute(y))"
   ]
  },
  {
   "cell_type": "markdown",
   "metadata": {},
   "source": [
    "The following Python function defines the kernel:\n",
    "\n",
    "$$\n",
    "y=\\begin{cases}\n",
    "            \\frac{1}{\\pi} (1-\\frac{y^2}{2}) e^-(\\frac{y^2}{2}), & |y| \\leq 1\\\\\n",
    "            0, & Otherwise\n",
    "        \\end{cases}\n",
    "$$"
   ]
  },
  {
   "cell_type": "code",
   "execution_count": 29,
   "metadata": {},
   "outputs": [],
   "source": [
    "# laplacian of Gaussian--performed poorly according to paper\n",
    "def kernel_laog(y):\n",
    "    return np.heaviside(1-np.absolute(y), 1/2)*((1/math.pi)*(1-(y**2)/2)*np.exp(-(y**2)/2))"
   ]
  },
  {
   "cell_type": "markdown",
   "metadata": {},
   "source": [
    "## Hermite Kernel\n",
    "\n",
    "The following comes from Dr. Hickernell's KDE experiment notebook.\n"
   ]
  },
  {
   "cell_type": "code",
   "execution_count": 30,
   "metadata": {},
   "outputs": [],
   "source": [
    "# Original hermite kernel function from Dr. Hickernell\n",
    "y = sy.symbols('y', real = True)\n",
    "h = sy.symbols('h', positive = True)\n",
    "def sy_hermite_kernel(y = sy.symbols('y', real = True), band_width = sy.symbols('h', positive = True), r = 1, only_coef = False):\n",
    "    '''\n",
    "    band_width = the kernel band width, often denoted h; a smaller bandwidth means a peakier kernel\n",
    "    r = number of terms in our kernel\n",
    "    '''\n",
    "    \n",
    "#    import sympy as sy\n",
    "    wt = sy.exp(-y*y) #normalizing weight for Hermite functions\n",
    "    k = sy.zeros(r,1) #initialize a vector of bases that make up the kernel\n",
    "    intk = sy.zeros(r,r) #initialize a matrix of integrals of the bases with respect to even degree polynomials\n",
    "    for ii in range(r):\n",
    "        k[ii] = sy.hermite(2*ii,y)*wt #form the bases\n",
    "        for jj in range(r):\n",
    "            intk[jj,ii] = sy.integrate(k[ii]*(y**(2*jj)),(y,-sy.oo,sy.oo)) #evaluate the integrals against even degree monomials\n",
    "            # to hardcode the above line:\n",
    "            # r = 0: intk[jj, ii] = (np.exp(-y**2))/((math.pi)**0.5)\n",
    "            # r = 1: intk[jj, ii] = ((3-2*y**2)*np.exp(-y**2))/(2*(math.pi)**0.5)\n",
    "            # r = 2: intk[jj, ii] = ((4*y**4 - 20*y**2 +15)*np.exp(-y**2))/(8*(math.pi)**0.5)\n",
    "    tot_int = sy.Matrix.vstack(sy.ones(1,1),sy.zeros(r-1,1)) #the kernel should integrate to one, \n",
    "        #and the kernel integrated against y, y^2, ..., y^r should be zero\n",
    "#    print(tot_int)\n",
    "    coef = sy.Matrix(list(sy.linsolve((intk,tot_int)))) #solve the system of equations for the coefficients of the bases\n",
    "    if only_coef:\n",
    "        return coef\n",
    "    print(coef)\n",
    "#    ktilde = coef.dot(k)\n",
    "#    integk = sy.integrate(ktilde,(y,-sy.oo,sy.oo))\n",
    "#    print('integk =',integk)\n",
    "    ktilde = coef.dot(k.subs(y,y/band_width)/band_width) #form the isotropic kernel and insert the bandwidth dependency\n",
    "#    integ = sy.integrate(ktilde,(y,-sy.oo,sy.oo))\n",
    "#    print('integ =',integ)\n",
    "#    print(band_width)\n",
    "#    print(ktilde)\n",
    "    return coef.dot(k.subs(y,y/band_width)/band_width)"
   ]
  },
  {
   "cell_type": "code",
   "execution_count": 31,
   "metadata": {},
   "outputs": [
    {
     "name": "stdout",
     "output_type": "stream",
     "text": [
      "Matrix([[1/sqrt(pi)]])\n",
      "<class 'sympy.core.mul.Mul'>\n",
      "kernel = exp(-y**2/h**2)/(sqrt(pi)*h)\n",
      "integ = 1\n",
      "Matrix([[1/sqrt(pi)]])\n",
      "Matrix([[1/sqrt(pi), -1/(4*sqrt(pi))]])\n",
      "Matrix([[1/sqrt(pi), -1/(4*sqrt(pi)), 1/(32*sqrt(pi))]])\n"
     ]
    }
   ],
   "source": [
    "# testing original hermite kernel function\n",
    "\n",
    "test_kernel_sy = sy_hermite_kernel(r=1) # r = number terms in kernel\n",
    "print(type(test_kernel_sy))\n",
    "print('kernel =',test_kernel_sy)\n",
    "integ = sy.integrate(test_kernel_sy,(y,-sy.oo,sy.oo))\n",
    "print('integ =',integ) # should be 1\n",
    "test_kernel_sy = sy_hermite_kernel(r=1,only_coef = True)\n",
    "print(test_kernel_sy)\n",
    "test_kernel_sy = sy_hermite_kernel(r=2,only_coef = True)\n",
    "print(test_kernel_sy)\n",
    "test_kernel_sy = sy_hermite_kernel(r=3,only_coef = True)\n",
    "print(test_kernel_sy)"
   ]
  },
  {
   "cell_type": "code",
   "execution_count": 32,
   "metadata": {},
   "outputs": [],
   "source": [
    "# hardcoding hermite kernel coefficients\n",
    "\n",
    "def hardcode_hermite_kernel(r):\n",
    "    '''\n",
    "    returns hermite coefficients for r = 0, 1, or 2\n",
    "    band_width = the kernel band width, often denoted h; a smaller bandwidth means a peakier kernel\n",
    "    r = number of terms in our kernel\n",
    "    '''\n",
    "    if r==0:\n",
    "        return sy.Matrix([[1/(math.pi)**0.5]])\n",
    "    elif r==1:\n",
    "        return sy.Matrix([[1/(math.pi)**0.5, -1/(4*(math.pi)**0.5)]])\n",
    "    elif r==2:\n",
    "        return sy.Matrix([[1/(math.pi)**0.5, -1/(4*(math.pi)**0.5), 1/(32*(math.pi)**0.5)]])\n",
    "    else:\n",
    "        raise ValueError(\"Invalid input. r must be 0, 1, or 2.\")\n",
    "    \n",
    "# Coefficients: \n",
    "# r = 0 (corresponds to r = 1 from original function): Matrix([[1/sqrt(pi)]])\n",
    "# r = 1 (corresponds to r = 2 from original function): Matrix([[1/sqrt(pi), -1/(4*sqrt(pi))]])\n",
    "# r = 2 (correpsonds to r = 3 from original function): Matrix([[1/sqrt(pi), -1/(4*sqrt(pi)), 1/(32*sqrt(pi))]])"
   ]
  },
  {
   "cell_type": "code",
   "execution_count": 33,
   "metadata": {},
   "outputs": [
    {
     "name": "stdout",
     "output_type": "stream",
     "text": [
      "<class 'sympy.matrices.dense.MutableDenseMatrix'>\n",
      "kernel = Matrix([[0.564189583547756]])\n",
      "Matrix([[0.564189583547756, -0.141047395886939]])\n",
      "Matrix([[0.564189583547756, -0.141047395886939, 0.0176309244858674]])\n"
     ]
    }
   ],
   "source": [
    "# testing hardcoded hermite kernel\n",
    "\n",
    "test_kernel = hardcode_hermite_kernel(r=0) # r = number terms in kernel\n",
    "print(type(test_kernel))\n",
    "print('kernel =',test_kernel)\n",
    "test_kernel = hardcode_hermite_kernel(r=1)\n",
    "print(test_kernel)\n",
    "test_kernel = hardcode_hermite_kernel(r=2)\n",
    "print(test_kernel)"
   ]
  },
  {
   "cell_type": "code",
   "execution_count": 34,
   "metadata": {},
   "outputs": [],
   "source": [
    "# original function: define hermite kernel for r = 1 (corresopnds to r = 0 in the hardcoded case)\n",
    "def hermite_kernel(y, r = 1):\n",
    "    '''\n",
    "    r = number of terms in our kernel\n",
    "    '''\n",
    "    coef = np.array(sy.N(sy_hermite_kernel(r = r, only_coef = True)))\n",
    "    # print(coef)\n",
    "    poly = sp.special.hermite(0)\n",
    "    # print(poly)\n",
    "    k = sp.special.hermite(0)(y)*coef[0] #initialize a vector of kernel values\n",
    "    # print(k)\n",
    "    for ii in range(1,r):\n",
    "        k += sp.special.hermite(2*ii)(y)*coef[ii] #add the additional terms\n",
    "    k*=np.exp(-y*y/2) #normalizing weight for Hermite functions #form the isotropic kernel and insert the bandwidth dependency\n",
    "    return k"
   ]
  },
  {
   "cell_type": "code",
   "execution_count": 35,
   "metadata": {},
   "outputs": [],
   "source": [
    "# hardcoded: define hermite kernel for r = 0 (corresponds to r = 1 in the original case)\n",
    "def hardcode_hermite_kernel_weight(y, r = 0):\n",
    "    '''\n",
    "    r = number of terms in our kernel\n",
    "    '''\n",
    "    coef = np.array((hardcode_hermite_kernel(r = r)))\n",
    "    # print(coef)\n",
    "    poly = sp.special.hermite(0)\n",
    "    # print(poly)\n",
    "    k = sp.special.hermite(0)(y)*coef[0][0] #initialize a vector of kernel values\n",
    "    # print(k)\n",
    "    for ii in range(0,r):\n",
    "        k += sp.special.hermite(2*ii)(y)*coef[0][ii] #add the additional terms\n",
    "    k*=np.exp(-y*y/2) #normalizing weight for Hermite functions #form the isotropic kernel and insert the bandwidth dependency\n",
    "    return k"
   ]
  },
  {
   "cell_type": "code",
   "execution_count": 36,
   "metadata": {},
   "outputs": [],
   "source": [
    "# original: define hermite kernel for r = 2 (corresopnds to r = 1 in the hardcoded case)\n",
    "def hermite_kernel_2(y, r = 2):\n",
    "    '''\n",
    "    r = number of terms in our kernel\n",
    "    '''\n",
    "    coef = np.array(sy.N(sy_hermite_kernel(r = r, only_coef = True)))\n",
    "    # print(coef)\n",
    "    poly = sp.special.hermite(0) # why use the 0th polynomial?\n",
    "    # print(poly)\n",
    "    # for i in range(len(coef[0])):\n",
    "    #     print(coef[0][i])\n",
    "    k = sp.special.hermite(0)(y)*coef[0][0] #initialize a vector of kernel values\n",
    "    # print(k)\n",
    "    for ii in range(1,r):\n",
    "        k += sp.special.hermite(2*ii)(y)*coef[0][ii] #add the additional terms\n",
    "    k*=np.exp(-y*y/2) #normalizing weight for Hermite functions #form the isotropic kernel and insert the bandwidth dependency\n",
    "    return k"
   ]
  },
  {
   "cell_type": "code",
   "execution_count": 37,
   "metadata": {},
   "outputs": [],
   "source": [
    "# hardcoded: define hermite kernel for r = 1 (corresponds to r = 2 in the original case)\n",
    "def hardcode_hermite_kernel_weight_1(y, r = 1):\n",
    "    '''\n",
    "    r = number of terms in our kernel\n",
    "    '''\n",
    "    coef = np.array((hardcode_hermite_kernel(r = r)))\n",
    "    # print(coef)\n",
    "    poly = sp.special.hermite(0)\n",
    "    # print(poly)\n",
    "    k = sp.special.hermite(0)(y)*coef[0][0] #initialize a vector of kernel values\n",
    "    # print(k)\n",
    "    for ii in range(0,r):\n",
    "        k += sp.special.hermite(2*ii)(y)*coef[0][ii] #add the additional terms\n",
    "    k*=np.exp(-y*y/2) #normalizing weight for Hermite functions #form the isotropic kernel and insert the bandwidth dependency\n",
    "    return k"
   ]
  },
  {
   "cell_type": "code",
   "execution_count": 38,
   "metadata": {},
   "outputs": [],
   "source": [
    "# hardcoded: define hermite kernel for r = 2 (corresponds to r = 3 in the original case)\n",
    "def hardcode_hermite_kernel_weight_2(y, r = 2):\n",
    "    '''\n",
    "    r = number of terms in our kernel\n",
    "    '''\n",
    "    coef = np.array((hardcode_hermite_kernel(r = r)))\n",
    "    # print(coef)\n",
    "    poly = sp.special.hermite(0)\n",
    "    # print(poly)\n",
    "    k = sp.special.hermite(0)(y)*coef[0][0] #initialize a vector of kernel values\n",
    "    # print(k)\n",
    "    for ii in range(0,r):\n",
    "        k += sp.special.hermite(2*ii)(y)*coef[0][ii] #add the additional terms\n",
    "    k*=np.exp(-y*y/2) #normalizing weight for Hermite functions #form the isotropic kernel and insert the bandwidth dependency\n",
    "    return k"
   ]
  },
  {
   "cell_type": "code",
   "execution_count": 39,
   "metadata": {},
   "outputs": [
    {
     "name": "stdout",
     "output_type": "stream",
     "text": [
      "y = [-1.   -0.25  0.5   1.25  2.  ]\n",
      "<class 'numpy.ndarray'>\n",
      "<class 'numpy.ndarray'>\n",
      "k = [0.342198280312217 0.546831294919853 0.497895559951388 0.258304813712196\n",
      " 0.0763547570885822]\n"
     ]
    }
   ],
   "source": [
    "# example hermite kernel\n",
    "y = np.linspace(-1,2,5)\n",
    "print('y =',y)\n",
    "print(type(y))\n",
    "k = hermite_kernel(y,r=1)\n",
    "print(type(k))\n",
    "print('k =',k)"
   ]
  },
  {
   "cell_type": "code",
   "execution_count": 40,
   "metadata": {},
   "outputs": [
    {
     "name": "stdout",
     "output_type": "stream",
     "text": [
      "y = [-1.   -0.25  0.5   1.25  2.  ]\n",
      "<class 'numpy.ndarray'>\n",
      "<class 'numpy.ndarray'>\n",
      "k = [0.342198280312217 0.546831294919853 0.497895559951388 0.258304813712196\n",
      " 0.0763547570885822]\n"
     ]
    }
   ],
   "source": [
    "# example hardcoded hermite kernel\n",
    "y = np.linspace(-1,2,5)\n",
    "print('y =',y)\n",
    "print(type(y))\n",
    "k = hardcode_hermite_kernel_weight(y,r=0) # r=0 for hardcoded kernel corresponds to r=1 for original kernel\n",
    "print(type(k))\n",
    "print('k =',k)"
   ]
  },
  {
   "cell_type": "markdown",
   "metadata": {},
   "source": [
    "## Testing Different Functions f(x)--using Gaussian kernel in all cases."
   ]
  },
  {
   "cell_type": "markdown",
   "metadata": {},
   "source": [
    "### Exponential Distribution: \n",
    "\n",
    "If X has a standard uniform distribution, i.e., $X \\sim U(0, 1)$, then the random variable $Y = -\\lambda^{-1} ln(X)$ has an exponential distribution with rate parameter $\\lambda$."
   ]
  },
  {
   "cell_type": "code",
   "execution_count": 88,
   "metadata": {},
   "outputs": [],
   "source": [
    "# exponential, lambda = 1:\n",
    "def testfun_exp(x,coord_wts = 1): # function f(x) defines the random variable\n",
    "    wtx = np.multiply(x,coord_wts)\n",
    "    y = -np.log(wtx)\n",
    "    return y"
   ]
  },
  {
   "cell_type": "code",
   "execution_count": 89,
   "metadata": {},
   "outputs": [],
   "source": [
    "yiid1_exp = testfun_exp(iidpts1)\n",
    "ysob1_exp = testfun_exp(sobpts1)\n",
    "\n",
    "yiid3_exp = testfun_exp(iidpts3)\n",
    "ysob3_exp = testfun_exp(sobpts3)"
   ]
  },
  {
   "cell_type": "code",
   "execution_count": 91,
   "metadata": {},
   "outputs": [
    {
     "data": {
      "text/plain": [
       "(4096, 1)"
      ]
     },
     "execution_count": 91,
     "metadata": {},
     "output_type": "execute_result"
    }
   ],
   "source": [
    "yiid1_exp.shape"
   ]
  },
  {
   "cell_type": "markdown",
   "metadata": {},
   "source": [
    "### Laplace Distribution:\n",
    "\n",
    "If X and Y have a standard uniform distribution, i.e., $X, Y \\sim U(0, 1)$, then $\\log{}{\\frac{X}{Y}} \\sim \\text{Laplace}(0, 1)$. "
   ]
  },
  {
   "cell_type": "code",
   "execution_count": 43,
   "metadata": {},
   "outputs": [],
   "source": [
    "## laplace: mu = 0, b = 1\n",
    "def testfun_laplace(x1,x2,coord_wts = 1): # function f(x) defines the random variable\n",
    "    wtx1 = np.multiply(x1,coord_wts)\n",
    "    wtx2 = np.multiply(x2,coord_wts)\n",
    "    y = np.log10(wtx1/wtx2)\n",
    "    return y"
   ]
  },
  {
   "cell_type": "code",
   "execution_count": 44,
   "metadata": {},
   "outputs": [],
   "source": [
    "# making a second set of iid and sobol points\n",
    "\n",
    "iidpts1_2, sobpts1_2 = gen_iid_and_sobol(dimen = 1, n = 2**12)\n",
    "iidpts3_2, sobpts3_2 = gen_iid_and_sobol(dimen = 3, n = 2**12)"
   ]
  },
  {
   "cell_type": "code",
   "execution_count": 45,
   "metadata": {},
   "outputs": [],
   "source": [
    "yiid_laplace = testfun_laplace(iidpts1, iidpts1_2) \n",
    "ysob_laplace = testfun_laplace(sobpts1, sobpts1_2)\n",
    "\n",
    "yiid_laplace_3 = testfun_laplace(iidpts3, iidpts3_2) \n",
    "ysob_laplace_3 = testfun_laplace(sobpts3, sobpts3_2)"
   ]
  },
  {
   "cell_type": "code",
   "execution_count": 46,
   "metadata": {},
   "outputs": [
    {
     "data": {
      "text/plain": [
       "array([[0.00590773],\n",
       "       [0.6092602 ],\n",
       "       [0.08083411],\n",
       "       ...,\n",
       "       [0.22725054],\n",
       "       [0.88665476],\n",
       "       [0.67020665]])"
      ]
     },
     "execution_count": 46,
     "metadata": {},
     "output_type": "execute_result"
    }
   ],
   "source": [
    "iidpts1_2"
   ]
  },
  {
   "cell_type": "code",
   "execution_count": 47,
   "metadata": {},
   "outputs": [
    {
     "data": {
      "text/plain": [
       "(4096, 1)"
      ]
     },
     "execution_count": 47,
     "metadata": {},
     "output_type": "execute_result"
    }
   ],
   "source": [
    "iidpts1_2.shape"
   ]
  },
  {
   "cell_type": "markdown",
   "metadata": {},
   "source": [
    "## Error Analysis:"
   ]
  },
  {
   "cell_type": "markdown",
   "metadata": {},
   "source": [
    "### Original function:\n",
    "$\n",
    "f(\\mathbf{x}) = 10 \\exp(- w_1x_1 - \\cdots - w_d x_d) \\sin(w_1x_1 + \\cdots +w_d x_d)\n",
    "$"
   ]
  },
  {
   "cell_type": "code",
   "execution_count": 68,
   "metadata": {},
   "outputs": [],
   "source": [
    "def testfun(x):\n",
    "    return 10*np.exp(-x)*np.sin(np.pi*x)"
   ]
  },
  {
   "cell_type": "code",
   "execution_count": 69,
   "metadata": {},
   "outputs": [
    {
     "data": {
      "text/plain": [
       "[<matplotlib.lines.Line2D at 0x1fe8e2c08e0>]"
      ]
     },
     "execution_count": 69,
     "metadata": {},
     "output_type": "execute_result"
    },
    {
     "data": {
      "image/png": "[encoded data removed]",
      "text/plain": [
       "<Figure size 640x480 with 1 Axes>"
      ]
     },
     "metadata": {},
     "output_type": "display_data"
    }
   ],
   "source": [
    "import matplotlib.pyplot as plt\n",
    "fig, ax = plt.subplots(1, 1)\n",
    "\n",
    "x = np.linspace(-4, 8, 500)\n",
    "ax.plot(x, testfun(x),\n",
    "       'r-', lw=5, alpha=0.6, label='testfun')"
   ]
  },
  {
   "cell_type": "code",
   "execution_count": 94,
   "metadata": {},
   "outputs": [],
   "source": [
    "rhovaliid = kde(kernel, yiid1, 0.1, x) # bandwidth = 0.1"
   ]
  },
  {
   "cell_type": "code",
   "execution_count": 95,
   "metadata": {},
   "outputs": [
    {
     "data": {
      "text/plain": [
       "(500,)"
      ]
     },
     "execution_count": 95,
     "metadata": {},
     "output_type": "execute_result"
    }
   ],
   "source": [
    "rhovaliid.shape"
   ]
  },
  {
   "cell_type": "code",
   "execution_count": 76,
   "metadata": {},
   "outputs": [
    {
     "data": {
      "text/plain": [
       "array([0.00000000e+000, 0.00000000e+000, 0.00000000e+000, 0.00000000e+000,\n",
       "       0.00000000e+000, 0.00000000e+000, 0.00000000e+000, 0.00000000e+000,\n",
       "       0.00000000e+000, 0.00000000e+000, 0.00000000e+000, 0.00000000e+000,\n",
       "       0.00000000e+000, 0.00000000e+000, 0.00000000e+000, 0.00000000e+000,\n",
       "       0.00000000e+000, 0.00000000e+000, 0.00000000e+000, 0.00000000e+000,\n",
       "       0.00000000e+000, 0.00000000e+000, 0.00000000e+000, 0.00000000e+000,\n",
       "       0.00000000e+000, 0.00000000e+000, 0.00000000e+000, 0.00000000e+000,\n",
       "       0.00000000e+000, 0.00000000e+000, 0.00000000e+000, 0.00000000e+000,\n",
       "       0.00000000e+000, 0.00000000e+000, 0.00000000e+000, 0.00000000e+000,\n",
       "       0.00000000e+000, 0.00000000e+000, 0.00000000e+000, 0.00000000e+000,\n",
       "       0.00000000e+000, 0.00000000e+000, 0.00000000e+000, 0.00000000e+000,\n",
       "       0.00000000e+000, 0.00000000e+000, 0.00000000e+000, 0.00000000e+000,\n",
       "       0.00000000e+000, 0.00000000e+000, 0.00000000e+000, 0.00000000e+000,\n",
       "       0.00000000e+000, 0.00000000e+000, 1.66006057e-320, 6.96605580e-315,\n",
       "       2.60609763e-309, 8.68503866e-304, 2.57828150e-298, 6.81815042e-293,\n",
       "       1.60612989e-287, 3.37033269e-282, 6.30003688e-277, 1.04903945e-271,\n",
       "       1.55603430e-266, 2.05601059e-261, 2.41997339e-256, 2.53731936e-251,\n",
       "       2.36984111e-246, 1.97171045e-241, 1.46132610e-236, 9.64787179e-232,\n",
       "       5.67409488e-227, 2.97264242e-222, 1.38729907e-217, 5.76738868e-213,\n",
       "       2.13584839e-208, 7.04602364e-204, 2.07062120e-199, 5.42051495e-195,\n",
       "       1.26404992e-190, 2.62586375e-186, 4.85920195e-182, 8.01019438e-178,\n",
       "       1.17627018e-173, 1.53871311e-169, 1.79306241e-165, 1.86131994e-161,\n",
       "       1.72121552e-157, 1.41787794e-153, 1.04047735e-149, 6.80170001e-146,\n",
       "       3.96090384e-142, 2.05477412e-138, 9.49571961e-135, 3.90919014e-131,\n",
       "       1.43364626e-127, 4.68376156e-124, 1.36315880e-120, 3.53425971e-117,\n",
       "       8.16304766e-114, 1.67961484e-110, 3.07873508e-107, 5.02738394e-104,\n",
       "       7.31342653e-101, 9.47787584e-098, 1.09424530e-094, 1.12547124e-091,\n",
       "       1.03127098e-088, 8.41846160e-086, 6.12233780e-083, 3.96670373e-080,\n",
       "       2.28967444e-077, 1.17747869e-074, 5.39475708e-072, 2.20208843e-069,\n",
       "       8.00841413e-067, 2.59485141e-064, 7.49097618e-062, 1.92677294e-059,\n",
       "       4.41566041e-057, 9.01656686e-055, 1.64049628e-052, 2.65954064e-050,\n",
       "       3.84189076e-048, 4.94539496e-046, 5.67265213e-044, 5.79846812e-042,\n",
       "       5.28197539e-040, 4.28796166e-038, 3.10237196e-036, 2.00052551e-034,\n",
       "       1.14980015e-032, 5.89049348e-031, 2.69003264e-029, 1.09513653e-027,\n",
       "       3.97479975e-026, 1.28627393e-024, 3.71160548e-023, 9.55088504e-022,\n",
       "       2.19193277e-020, 4.48710857e-019, 8.19448938e-018, 1.33524357e-016,\n",
       "       1.94159044e-015, 2.51998218e-014, 2.91994220e-013, 3.02129748e-012,\n",
       "       2.79237283e-011, 2.30593249e-010, 1.70200914e-009, 1.12327646e-008,\n",
       "       6.63146433e-008, 3.50383180e-007, 1.65779070e-006, 7.02820168e-006,\n",
       "       2.67179355e-005, 9.11531318e-005, 2.79369012e-004, 7.70069216e-004,\n",
       "       1.91177070e-003, 4.28195302e-003, 8.67114638e-003, 1.59190407e-002,\n",
       "       2.65876054e-002, 4.05822371e-002, 5.69446964e-002, 7.40147817e-002,\n",
       "       8.99475264e-002, 1.03313261e-001, 1.13428614e-001, 1.20266992e-001,\n",
       "       1.24115202e-001, 1.25294213e-001, 1.24125385e-001, 1.21060882e-001,\n",
       "       1.16771268e-001, 1.12081173e-001, 1.07814054e-001, 1.04661500e-001,\n",
       "       1.03113275e-001, 1.03404867e-001, 1.05457783e-001, 1.08857675e-001,\n",
       "       1.12927180e-001, 1.16879946e-001, 1.19979855e-001, 1.21658047e-001,\n",
       "       1.21619012e-001, 1.19973786e-001, 1.17336133e-001, 1.14729088e-001,\n",
       "       1.13220921e-001, 1.13422630e-001, 1.15144642e-001, 1.17460485e-001,\n",
       "       1.19177670e-001, 1.19451250e-001, 1.18179910e-001, 1.15959789e-001,\n",
       "       1.13650549e-001, 1.11855611e-001, 1.10666819e-001, 1.09821996e-001,\n",
       "       1.09102836e-001, 1.08611424e-001, 1.08679249e-001, 1.09499457e-001,\n",
       "       1.10834283e-001, 1.12088420e-001, 1.12704859e-001, 1.12547452e-001,\n",
       "       1.11960363e-001, 1.11496333e-001, 1.11571092e-001, 1.12286843e-001,\n",
       "       1.13447100e-001, 1.14629802e-001, 1.15240611e-001, 1.14611663e-001,\n",
       "       1.12232226e-001, 1.08054914e-001, 1.02678740e-001, 9.72391873e-002,\n",
       "       9.30227118e-002, 9.10012989e-002, 9.15157956e-002, 9.42345182e-002,\n",
       "       9.83728443e-002, 1.03051885e-001, 1.07622423e-001, 1.11800832e-001,\n",
       "       1.15570130e-001, 1.18949644e-001, 1.21824644e-001, 1.23970145e-001,\n",
       "       1.25237693e-001, 1.25737494e-001, 1.25852309e-001, 1.26050398e-001,\n",
       "       1.26611082e-001, 1.27436658e-001, 1.28073346e-001, 1.27938858e-001,\n",
       "       1.26621492e-001, 1.24060343e-001, 1.20499708e-001, 1.16289214e-001,\n",
       "       1.11719055e-001, 1.07016419e-001, 1.02449024e-001, 9.83757415e-002,\n",
       "       9.51552185e-002, 9.29801427e-002, 9.17827372e-002, 9.12947634e-002,\n",
       "       9.12199731e-002, 9.14021650e-002, 9.18943654e-002, 9.29133969e-002,\n",
       "       9.47242894e-002, 9.75046296e-002, 1.01220422e-001, 1.05548128e-001,\n",
       "       1.09893160e-001, 1.13530847e-001, 1.15821945e-001, 1.16397832e-001,\n",
       "       1.15234572e-001, 1.12616634e-001, 1.09048793e-001, 1.05166287e-001,\n",
       "       1.01650461e-001, 9.91307968e-002, 9.80623370e-002, 9.86001928e-002,\n",
       "       1.00530425e-001, 1.03326799e-001, 1.06352069e-001, 1.09120468e-001,\n",
       "       1.11462601e-001, 1.13475497e-001, 1.15299363e-001, 1.16912386e-001,\n",
       "       1.18126295e-001, 1.18786307e-001, 1.18988734e-001, 1.19106753e-001,\n",
       "       1.19578390e-001, 1.20607258e-001, 1.21987409e-001, 1.23159925e-001,\n",
       "       1.23453189e-001, 1.22375028e-001, 1.19833532e-001, 1.16203193e-001,\n",
       "       1.12189855e-001, 1.08518255e-001, 1.05588277e-001, 1.03330553e-001,\n",
       "       1.01404945e-001, 9.96303376e-002, 9.83156425e-002, 9.82025393e-002,\n",
       "       1.00025508e-001, 1.03994722e-001, 1.09563219e-001, 1.15630061e-001,\n",
       "       1.21042740e-001, 1.25096363e-001, 1.27760101e-001, 1.29543528e-001,\n",
       "       1.31128880e-001, 1.33007611e-001, 1.35299289e-001, 1.37760933e-001,\n",
       "       1.39877828e-001, 1.40962238e-001, 1.40297724e-001, 1.37391312e-001,\n",
       "       1.32280792e-001, 1.25710936e-001, 1.19000899e-001, 1.13603656e-001,\n",
       "       1.10570927e-001, 1.10207253e-001, 1.12068280e-001, 1.15244722e-001,\n",
       "       1.18745800e-001, 1.21817063e-001, 1.24114496e-001, 1.25710508e-001,\n",
       "       1.26932100e-001, 1.28090959e-001, 1.29248483e-001, 1.30164795e-001,\n",
       "       1.30455242e-001, 1.29816439e-001, 1.28147469e-001, 1.25520831e-001,\n",
       "       1.22112543e-001, 1.18211829e-001, 1.14292309e-001, 1.11004768e-001,\n",
       "       1.08993205e-001, 1.08603728e-001, 1.09679129e-001, 1.11595202e-001,\n",
       "       1.13539525e-001, 1.14884605e-001, 1.15457211e-001, 1.15572359e-001,\n",
       "       1.15841574e-001, 1.16891207e-001, 1.19145275e-001, 1.22729859e-001,\n",
       "       1.27448262e-001, 1.32772631e-001, 1.37884909e-001, 1.41848691e-001,\n",
       "       1.43918851e-001, 1.43860647e-001, 1.42088389e-001, 1.39508895e-001,\n",
       "       1.37118998e-001, 1.35559481e-001, 1.34877601e-001, 1.34646289e-001,\n",
       "       1.34366295e-001, 1.33877269e-001, 1.33484759e-001, 1.33710594e-001,\n",
       "       1.34854547e-001, 1.36701264e-001, 1.38603691e-001, 1.39898522e-001,\n",
       "       1.40366399e-001, 1.40419176e-001, 1.40896176e-001, 1.42622263e-001,\n",
       "       1.46014723e-001, 1.50937751e-001, 1.56797043e-001, 1.62732809e-001,\n",
       "       1.67805222e-001, 1.71193036e-001, 1.72473407e-001, 1.71935167e-001,\n",
       "       1.70705959e-001, 1.70457305e-001, 1.72689601e-001, 1.77938594e-001,\n",
       "       1.85391071e-001, 1.93187396e-001, 1.99260395e-001, 2.02239477e-001,\n",
       "       2.01960961e-001, 1.99414365e-001, 1.96267350e-001, 1.94245897e-001,\n",
       "       1.94599363e-001, 1.97781386e-001, 2.03410426e-001, 2.10512073e-001,\n",
       "       2.17947893e-001, 2.24840810e-001, 2.30802813e-001, 2.35891923e-001,\n",
       "       2.40399948e-001, 2.44668516e-001, 2.49066420e-001, 2.54089192e-001,\n",
       "       2.60415368e-001, 2.68786565e-001, 2.79737291e-001, 2.93345332e-001,\n",
       "       3.09186399e-001, 3.26548832e-001, 3.44790317e-001, 3.63628227e-001,\n",
       "       3.83223649e-001, 4.04100158e-001, 4.27075552e-001, 4.53318228e-001,\n",
       "       4.84353946e-001, 5.21553914e-001, 5.64695052e-001, 6.09848410e-001,\n",
       "       6.47890902e-001, 6.65485056e-001, 6.49445987e-001, 5.93036069e-001,\n",
       "       5.00572231e-001, 3.87003418e-001, 2.72209696e-001, 1.73345229e-001,\n",
       "       9.95856215e-002, 5.14784199e-002, 2.38976618e-002, 9.94836226e-003,\n",
       "       3.70959425e-003, 1.23794226e-003, 3.69465248e-004, 9.85611129e-005,\n",
       "       2.34909813e-005, 5.00034330e-006, 9.50316546e-007, 1.61211022e-007,\n",
       "       2.44053187e-008, 3.29652807e-009, 3.97230137e-010, 4.26953574e-011,\n",
       "       4.09279395e-012, 3.49875961e-013, 2.66700024e-014, 1.81263823e-015,\n",
       "       1.09836513e-016, 5.93337344e-018, 2.85726650e-019, 1.22651052e-020,\n",
       "       4.69291675e-022, 1.60046801e-023, 4.86482218e-025, 1.31791540e-026,\n",
       "       3.18196051e-028, 6.84661672e-030, 1.31286349e-031, 2.24344146e-033,\n",
       "       3.41626585e-035, 4.63576297e-037, 5.60550837e-039, 6.03983681e-041,\n",
       "       5.79888602e-043, 4.96096736e-045, 3.78167600e-047, 2.56857679e-049,\n",
       "       1.55448167e-051, 8.38220631e-054, 4.02722572e-056, 1.72394726e-058,\n",
       "       6.57518715e-061, 2.23436653e-063, 6.76486477e-066, 1.82481433e-068,\n",
       "       4.38560754e-071, 9.39051067e-074, 1.79140603e-076, 3.04467822e-079,\n",
       "       4.61029417e-082, 6.21946747e-085, 7.47502549e-088, 8.00395755e-091,\n",
       "       7.63532131e-094, 6.48900677e-097, 4.91309918e-100, 3.31403696e-103,\n",
       "       1.99150720e-106, 1.06617237e-109, 5.08501612e-113, 2.16060340e-116])"
      ]
     },
     "execution_count": 76,
     "metadata": {},
     "output_type": "execute_result"
    }
   ],
   "source": [
    "rhovaliid"
   ]
  },
  {
   "cell_type": "code",
   "execution_count": 72,
   "metadata": {},
   "outputs": [],
   "source": [
    "testfun_values = testfun(x)"
   ]
  },
  {
   "cell_type": "code",
   "execution_count": 73,
   "metadata": {},
   "outputs": [
    {
     "data": {
      "text/plain": [
       "(500,)"
      ]
     },
     "execution_count": 73,
     "metadata": {},
     "output_type": "execute_result"
    }
   ],
   "source": [
    "testfun_values.shape"
   ]
  },
  {
   "cell_type": "code",
   "execution_count": 77,
   "metadata": {},
   "outputs": [
    {
     "data": {
      "text/plain": [
       "array([ 2.67453799e-13,  4.02301201e+01,  7.83243461e+01,  1.14149304e+02,\n",
       "        1.47591803e+02,  1.78558580e+02,  2.06975940e+02,  2.32789285e+02,\n",
       "        2.55962555e+02,  2.76477576e+02,  2.94333335e+02,  3.09545176e+02,\n",
       "        3.22143944e+02,  3.32175061e+02,  3.39697568e+02,  3.44783121e+02,\n",
       "        3.47514958e+02,  3.47986849e+02,  3.46302020e+02,  3.42572083e+02,\n",
       "        3.36915949e+02,  3.29458765e+02,  3.20330847e+02,  3.09666638e+02,\n",
       "        2.97603696e+02,  2.84281695e+02,  2.69841477e+02,  2.54424126e+02,\n",
       "        2.38170098e+02,  2.21218383e+02,  2.03705726e+02,  1.85765890e+02,\n",
       "        1.67528979e+02,  1.49120808e+02,  1.30662334e+02,  1.12269146e+02,\n",
       "        9.40510016e+01,  7.61114315e+01,  5.85473964e+01,  4.14490002e+01,\n",
       "        2.48992594e+01,  8.97392694e+00, -6.25863179e+00, -2.07375111e+01,\n",
       "       -3.44092883e+01, -4.72280002e+01, -5.91550747e+01, -7.01592201e+01,\n",
       "       -8.02162757e+01, -8.93090246e+01, -9.74269733e+01, -1.04566101e+02,\n",
       "       -1.10728579e+02, -1.15922468e+02, -1.20161392e+02, -1.23464191e+02,\n",
       "       -1.25854566e+02, -1.27360699e+02, -1.28014874e+02, -1.27853083e+02,\n",
       "       -1.26914635e+02, -1.25241758e+02, -1.22879199e+02, -1.19873837e+02,\n",
       "       -1.16274292e+02, -1.12130544e+02, -1.07493566e+02, -1.02414962e+02,\n",
       "       -9.69466235e+01, -9.11403934e+01, -8.50477541e+01, -7.87195273e+01,\n",
       "       -7.22055931e+01, -6.55546286e+01, -5.88138657e+01, -5.20288691e+01,\n",
       "       -4.52433353e+01, -3.84989120e+01, -3.18350394e+01, -2.52888113e+01,\n",
       "       -1.88948580e+01, -1.26852498e+01, -6.68942009e+00, -9.34108813e-01,\n",
       "        4.55667502e+00,  9.76167246e+00,  1.46623758e+01,  1.92430131e+01,\n",
       "        2.34905162e+01,  2.73944741e+01,  3.09470720e+01,  3.41430172e+01,\n",
       "        3.69794535e+01,  3.94558638e+01,  4.15739639e+01,  4.33375867e+01,\n",
       "        4.47525596e+01,  4.58265751e+01,  4.65690557e+01,  4.69910152e+01,\n",
       "        4.71049164e+01,  4.69245263e+01,  4.64647706e+01,  4.57415881e+01,\n",
       "        4.47717847e+01,  4.35728899e+01,  4.21630155e+01,  4.05607169e+01,\n",
       "        3.87848583e+01,  3.68544831e+01,  3.47886879e+01,  3.26065034e+01,\n",
       "        3.03267805e+01,  2.79680835e+01,  2.55485889e+01,  2.30859930e+01,\n",
       "        2.05974254e+01,  1.80993706e+01,  1.56075971e+01,  1.31370947e+01,\n",
       "        1.07020186e+01,  8.31564214e+00,  5.99031650e+00,  3.73743850e+00,\n",
       "        1.56742537e+00, -5.10303155e-01, -2.48733571e+00, -4.35627360e+00,\n",
       "       -6.11072862e+00, -7.74531476e+00, -9.25563423e+00, -1.06382580e+01,\n",
       "       -1.18907013e+01, -1.30113947e+01, -1.39996504e+01, -1.48556255e+01,\n",
       "       -1.55802811e+01, -1.61753385e+01, -1.66432334e+01, -1.69870669e+01,\n",
       "       -1.72105556e+01, -1.73179798e+01, -1.73141306e+01, -1.72042569e+01,\n",
       "       -1.69940112e+01, -1.66893966e+01, -1.62967129e+01, -1.58225043e+01,\n",
       "       -1.52735079e+01, -1.46566031e+01, -1.39787630e+01, -1.32470066e+01,\n",
       "       -1.24683546e+01, -1.16497852e+01, -1.07981941e+01, -9.92035542e+00,\n",
       "       -9.02288653e+00, -8.11221428e+00, -7.19454476e+00, -6.27583554e+00,\n",
       "       -5.36177084e+00, -4.45773946e+00, -3.56881560e+00, -2.69974253e+00,\n",
       "       -1.85491901e+00, -1.03838850e+00, -2.53831042e-01,  4.95442257e-01,\n",
       "        1.20649220e+00,  1.87675209e+00,  2.50402594e+00,  3.08648458e+00,\n",
       "        3.62265961e+00,  4.11143551e+00,  4.55203987e+00,  4.94403205e+00,\n",
       "        5.28729030e+00,  5.58199748e+00,  5.82862573e+00,  6.02791990e+00,\n",
       "        6.18088022e+00,  6.28874417e+00,  6.35296775e+00,  6.37520626e+00,\n",
       "        6.35729482e+00,  6.30122866e+00,  6.20914335e+00,  6.08329514e+00,\n",
       "        5.92604141e+00,  5.73982149e+00,  5.52713787e+00,  5.29053781e+00,\n",
       "        5.03259571e+00,  4.75589595e+00,  4.46301665e+00,  4.15651408e+00,\n",
       "        3.83890807e+00,  3.51266821e+00,  3.18020110e+00,  2.84383850e+00,\n",
       "        2.50582661e+00,  2.16831624e+00,  1.83335414e+00,  1.50287531e+00,\n",
       "        1.17869640e+00,  8.62510093e-01,  5.55880571e-01,  2.60239940e-01,\n",
       "       -2.31143479e-02, -2.93021132e-01, -5.48456263e-01, -7.88532455e-01,\n",
       "       -1.01249830e+00, -1.21973648e+00, -1.40976131e+00, -1.58221546e+00,\n",
       "       -1.73686617e+00, -1.87360084e+00, -1.99242202e+00, -2.09344203e+00,\n",
       "       -2.17687714e+00, -2.24304129e+00, -2.29233964e+00, -2.32526178e+00,\n",
       "       -2.34237474e+00, -2.34431594e+00, -2.33178588e+00, -2.30554098e+00,\n",
       "       -2.26638624e+00, -2.21516805e+00, -2.15276706e+00, -2.08009117e+00,\n",
       "       -1.99806865e+00, -1.90764153e+00, -1.80975916e+00, -1.70537203e+00,\n",
       "       -1.59542591e+00, -1.48085624e+00, -1.36258291e+00, -1.24150534e+00,\n",
       "       -1.11849788e+00, -9.94405702e-01, -8.70040921e-01, -7.46179195e-01,\n",
       "       -6.23556674e-01, -5.02867335e-01, -3.84760713e-01, -2.69839996e-01,\n",
       "       -1.58660510e-01, -5.17285497e-02,  5.04994149e-02,  1.47617205e-01,\n",
       "        2.39269061e-01,  3.25149456e-01,  4.05002614e-01,  4.78621740e-01,\n",
       "        5.45847989e-01,  6.06569190e-01,  6.60718341e-01,  7.08271899e-01,\n",
       "        7.49247884e-01,  7.83703819e-01,  8.11734516e-01,  8.33469751e-01,\n",
       "        8.49071821e-01,  8.58733023e-01,  8.62673066e-01,  8.61136434e-01,\n",
       "        8.54389727e-01,  8.42718983e-01,  8.26427013e-01,  8.05830756e-01,\n",
       "        7.81258670e-01,  7.53048177e-01,  7.21543172e-01,  6.87091613e-01,\n",
       "        6.50043189e-01,  6.10747100e-01,  5.69549935e-01,  5.26793668e-01,\n",
       "        4.82813779e-01,  4.37937502e-01,  3.92482201e-01,  3.46753889e-01,\n",
       "        3.01045885e-01,  2.55637610e-01,  2.10793524e-01,  1.66762209e-01,\n",
       "        1.23775589e-01,  8.20482869e-02,  4.17771249e-02,  3.14074981e-03,\n",
       "       -3.37006079e-02, -6.86052528e-02, -1.01450023e-01, -1.32130174e-01,\n",
       "       -1.60559161e-01, -1.86668309e-01, -2.10406398e-01, -2.31739158e-01,\n",
       "       -2.50648683e-01, -2.67132771e-01, -2.81204202e-01, -2.92889955e-01,\n",
       "       -3.02230375e-01, -3.09278300e-01, -3.14098148e-01, -3.16764981e-01,\n",
       "       -3.17363540e-01, -3.15987277e-01, -3.12737366e-01, -3.07721725e-01,\n",
       "       -3.01054035e-01, -2.92852773e-01, -2.83240259e-01, -2.72341726e-01,\n",
       "       -2.60284413e-01, -2.47196696e-01, -2.33207239e-01, -2.18444199e-01,\n",
       "       -2.03034458e-01, -1.87102907e-01, -1.70771775e-01, -1.54160000e-01,\n",
       "       -1.37382657e-01, -1.20550435e-01, -1.03769158e-01, -8.71393729e-02,\n",
       "       -7.07559720e-02, -5.47078822e-02, -3.90777974e-02, -2.39419642e-02,\n",
       "       -9.37001727e-03,  4.57513767e-03,  1.78373935e-02,  3.03674668e-02,\n",
       "        4.21228794e-02,  5.30678998e-02,  6.31734453e-02,  7.24169481e-02,\n",
       "        8.07821882e-02,  8.82590943e-02,  9.48435172e-02,  1.00536977e-01,\n",
       "        1.05346387e-01,  1.09283761e-01,  1.12365894e-01,  1.14614042e-01,\n",
       "        1.16053576e-01,  1.16713636e-01,  1.16626778e-01,  1.15828607e-01,\n",
       "        1.14357420e-01,  1.12253846e-01,  1.09560484e-01,  1.06321549e-01,\n",
       "        1.02582529e-01,  9.83898416e-02,  9.37905082e-02,  8.88318366e-02,\n",
       "        8.35611170e-02,  7.80253333e-02,  7.22708889e-02,  6.63433498e-02,\n",
       "        6.02872036e-02,  5.41456381e-02,  4.79603368e-02,  4.17712944e-02,\n",
       "        3.56166501e-02,  2.95325416e-02,  2.35529767e-02,  1.77097249e-02,\n",
       "        1.20322281e-02,  6.54752857e-03,  1.28021626e-03, -3.74760704e-03,\n",
       "       -8.51634644e-03, -1.30089164e-02, -1.72107277e-02, -2.11096598e-02,\n",
       "       -2.46960191e-02, -2.79624845e-02, -3.09040410e-02, -3.35179020e-02,\n",
       "       -3.58034220e-02, -3.77619997e-02, -3.93969736e-02, -4.07135107e-02,\n",
       "       -4.17184882e-02, -4.24203718e-02, -4.28290889e-02, -4.29558987e-02,\n",
       "       -4.28132613e-02, -4.24147042e-02, -4.17746896e-02, -4.09084818e-02,\n",
       "       -3.98320157e-02, -3.85617675e-02, -3.71146287e-02, -3.55077824e-02,\n",
       "       -3.37585846e-02, -3.18844494e-02, -2.99027397e-02, -2.78306627e-02,\n",
       "       -2.56851721e-02, -2.34828758e-02, -2.12399501e-02, -1.89720611e-02,\n",
       "       -1.66942922e-02, -1.44210794e-02, -1.21661526e-02, -9.94248495e-03,\n",
       "       -7.76224858e-03, -5.63677769e-03, -3.57653829e-03, -1.59110483e-03,\n",
       "        3.10856746e-04,  2.12159941e-03,  3.83429947e-03,  5.44305505e-03,\n",
       "        6.94287903e-03,  8.32968664e-03,  9.60027818e-03,  1.07523171e-02,\n",
       "        1.17843037e-02,  1.26955451e-02,  1.34861218e-02,  1.41568505e-02,\n",
       "        1.47092447e-02,  1.51454727e-02,  1.54683137e-02,  1.56811118e-02,\n",
       "        1.57877289e-02,  1.57924972e-02,  1.57001701e-02,  1.55158731e-02,\n",
       "        1.52450557e-02,  1.48934417e-02,  1.44669820e-02,  1.39718071e-02,\n",
       "        1.34141812e-02,  1.28004573e-02,  1.21370342e-02,  1.14303152e-02,\n",
       "        1.06866685e-02,  9.91238948e-03,  9.11366616e-03,  8.29654575e-03,\n",
       "        7.46690437e-03,  6.63041903e-03,  5.79254211e-03,  4.95847854e-03,\n",
       "        4.13316540e-03,  3.32125429e-03,  2.52709615e-03,  1.75472874e-03,\n",
       "        1.00786652e-03,  2.89893100e-04, -3.96144012e-04, -1.04753631e-03,\n",
       "       -1.66191498e-03, -2.23724950e-03, -2.77184418e-03, -3.26433286e-03,\n",
       "       -3.71367180e-03, -4.11913099e-03, -4.48028381e-03, -4.79699548e-03,\n",
       "       -5.06941015e-03, -5.29793691e-03, -5.48323486e-03, -5.62619730e-03,\n",
       "       -5.72793530e-03, -5.78976060e-03, -5.81316818e-03, -5.79981846e-03,\n",
       "       -5.75151939e-03, -5.67020838e-03, -5.55793436e-03, -5.41683999e-03,\n",
       "       -5.24914408e-03, -5.05712443e-03, -4.84310109e-03, -4.60942014e-03,\n",
       "       -4.35843805e-03, -4.09250679e-03, -3.81395956e-03, -3.52509739e-03,\n",
       "       -3.22817655e-03, -2.92539677e-03, -2.61889043e-03, -2.31071265e-03,\n",
       "       -2.00283227e-03, -1.69712389e-03, -1.39536073e-03, -1.09920855e-03,\n",
       "       -8.10220481e-04, -5.29832771e-04, -2.59361469e-04, -3.28658587e-18])"
      ]
     },
     "execution_count": 77,
     "metadata": {},
     "output_type": "execute_result"
    }
   ],
   "source": [
    "testfun_values"
   ]
  },
  {
   "cell_type": "code",
   "execution_count": 74,
   "metadata": {},
   "outputs": [],
   "source": [
    "mse = (np.square(rhovaliid - testfun_values)).mean(axis=None) "
   ]
  },
  {
   "cell_type": "code",
   "execution_count": 75,
   "metadata": {},
   "outputs": [
    {
     "data": {
      "text/plain": [
       "5627.665582832121"
      ]
     },
     "execution_count": 75,
     "metadata": {},
     "output_type": "execute_result"
    }
   ],
   "source": [
    "mse"
   ]
  },
  {
   "cell_type": "code",
   "execution_count": 78,
   "metadata": {},
   "outputs": [],
   "source": [
    "rhovalsob = kde(kernel, ysob1, 0.1, x) # bandwidth = 0.1"
   ]
  },
  {
   "cell_type": "code",
   "execution_count": 79,
   "metadata": {},
   "outputs": [],
   "source": [
    "mse_sob = (np.square(rhovalsob - testfun_values)).mean(axis=None) "
   ]
  },
  {
   "cell_type": "code",
   "execution_count": 80,
   "metadata": {},
   "outputs": [
    {
     "data": {
      "text/plain": [
       "5627.664808873739"
      ]
     },
     "execution_count": 80,
     "metadata": {},
     "output_type": "execute_result"
    }
   ],
   "source": [
    "mse_sob"
   ]
  },
  {
   "cell_type": "markdown",
   "metadata": {},
   "source": [
    "### Exponential Distribution"
   ]
  },
  {
   "cell_type": "code",
   "execution_count": 101,
   "metadata": {},
   "outputs": [
    {
     "data": {
      "text/plain": [
       "array([-4.        , -3.9759519 , -3.95190381, -3.92785571, -3.90380762,\n",
       "       -3.87975952, -3.85571142, -3.83166333, -3.80761523, -3.78356713,\n",
       "       -3.75951904, -3.73547094, -3.71142285, -3.68737475, -3.66332665,\n",
       "       -3.63927856, -3.61523046, -3.59118236, -3.56713427, -3.54308617,\n",
       "       -3.51903808, -3.49498998, -3.47094188, -3.44689379, -3.42284569,\n",
       "       -3.3987976 , -3.3747495 , -3.3507014 , -3.32665331, -3.30260521,\n",
       "       -3.27855711, -3.25450902, -3.23046092, -3.20641283, -3.18236473,\n",
       "       -3.15831663, -3.13426854, -3.11022044, -3.08617234, -3.06212425,\n",
       "       -3.03807615, -3.01402806, -2.98997996, -2.96593186, -2.94188377,\n",
       "       -2.91783567, -2.89378758, -2.86973948, -2.84569138, -2.82164329,\n",
       "       -2.79759519, -2.77354709, -2.749499  , -2.7254509 , -2.70140281,\n",
       "       -2.67735471, -2.65330661, -2.62925852, -2.60521042, -2.58116232,\n",
       "       -2.55711423, -2.53306613, -2.50901804, -2.48496994, -2.46092184,\n",
       "       -2.43687375, -2.41282565, -2.38877756, -2.36472946, -2.34068136,\n",
       "       -2.31663327, -2.29258517, -2.26853707, -2.24448898, -2.22044088,\n",
       "       -2.19639279, -2.17234469, -2.14829659, -2.1242485 , -2.1002004 ,\n",
       "       -2.0761523 , -2.05210421, -2.02805611, -2.00400802, -1.97995992,\n",
       "       -1.95591182, -1.93186373, -1.90781563, -1.88376754, -1.85971944,\n",
       "       -1.83567134, -1.81162325, -1.78757515, -1.76352705, -1.73947896,\n",
       "       -1.71543086, -1.69138277, -1.66733467, -1.64328657, -1.61923848,\n",
       "       -1.59519038, -1.57114228, -1.54709419, -1.52304609, -1.498998  ,\n",
       "       -1.4749499 , -1.4509018 , -1.42685371, -1.40280561, -1.37875752,\n",
       "       -1.35470942, -1.33066132, -1.30661323, -1.28256513, -1.25851703,\n",
       "       -1.23446894, -1.21042084, -1.18637275, -1.16232465, -1.13827655,\n",
       "       -1.11422846, -1.09018036, -1.06613226, -1.04208417, -1.01803607,\n",
       "       -0.99398798, -0.96993988, -0.94589178, -0.92184369, -0.89779559,\n",
       "       -0.87374749, -0.8496994 , -0.8256513 , -0.80160321, -0.77755511,\n",
       "       -0.75350701, -0.72945892, -0.70541082, -0.68136273, -0.65731463,\n",
       "       -0.63326653, -0.60921844, -0.58517034, -0.56112224, -0.53707415,\n",
       "       -0.51302605, -0.48897796, -0.46492986, -0.44088176, -0.41683367,\n",
       "       -0.39278557, -0.36873747, -0.34468938, -0.32064128, -0.29659319,\n",
       "       -0.27254509, -0.24849699, -0.2244489 , -0.2004008 , -0.17635271,\n",
       "       -0.15230461, -0.12825651, -0.10420842, -0.08016032, -0.05611222,\n",
       "       -0.03206413, -0.00801603,  0.01603206,  0.04008016,  0.06412826,\n",
       "        0.08817635,  0.11222445,  0.13627255,  0.16032064,  0.18436874,\n",
       "        0.20841683,  0.23246493,  0.25651303,  0.28056112,  0.30460922,\n",
       "        0.32865731,  0.35270541,  0.37675351,  0.4008016 ,  0.4248497 ,\n",
       "        0.4488978 ,  0.47294589,  0.49699399,  0.52104208,  0.54509018,\n",
       "        0.56913828,  0.59318637,  0.61723447,  0.64128257,  0.66533066,\n",
       "        0.68937876,  0.71342685,  0.73747495,  0.76152305,  0.78557114,\n",
       "        0.80961924,  0.83366733,  0.85771543,  0.88176353,  0.90581162,\n",
       "        0.92985972,  0.95390782,  0.97795591,  1.00200401,  1.0260521 ,\n",
       "        1.0501002 ,  1.0741483 ,  1.09819639,  1.12224449,  1.14629259,\n",
       "        1.17034068,  1.19438878,  1.21843687,  1.24248497,  1.26653307,\n",
       "        1.29058116,  1.31462926,  1.33867735,  1.36272545,  1.38677355,\n",
       "        1.41082164,  1.43486974,  1.45891784,  1.48296593,  1.50701403,\n",
       "        1.53106212,  1.55511022,  1.57915832,  1.60320641,  1.62725451,\n",
       "        1.65130261,  1.6753507 ,  1.6993988 ,  1.72344689,  1.74749499,\n",
       "        1.77154309,  1.79559118,  1.81963928,  1.84368737,  1.86773547,\n",
       "        1.89178357,  1.91583166,  1.93987976,  1.96392786,  1.98797595,\n",
       "        2.01202405,  2.03607214,  2.06012024,  2.08416834,  2.10821643,\n",
       "        2.13226453,  2.15631263,  2.18036072,  2.20440882,  2.22845691,\n",
       "        2.25250501,  2.27655311,  2.3006012 ,  2.3246493 ,  2.34869739,\n",
       "        2.37274549,  2.39679359,  2.42084168,  2.44488978,  2.46893788,\n",
       "        2.49298597,  2.51703407,  2.54108216,  2.56513026,  2.58917836,\n",
       "        2.61322645,  2.63727455,  2.66132265,  2.68537074,  2.70941884,\n",
       "        2.73346693,  2.75751503,  2.78156313,  2.80561122,  2.82965932,\n",
       "        2.85370741,  2.87775551,  2.90180361,  2.9258517 ,  2.9498998 ,\n",
       "        2.9739479 ,  2.99799599,  3.02204409,  3.04609218,  3.07014028,\n",
       "        3.09418838,  3.11823647,  3.14228457,  3.16633267,  3.19038076,\n",
       "        3.21442886,  3.23847695,  3.26252505,  3.28657315,  3.31062124,\n",
       "        3.33466934,  3.35871743,  3.38276553,  3.40681363,  3.43086172,\n",
       "        3.45490982,  3.47895792,  3.50300601,  3.52705411,  3.5511022 ,\n",
       "        3.5751503 ,  3.5991984 ,  3.62324649,  3.64729459,  3.67134269,\n",
       "        3.69539078,  3.71943888,  3.74348697,  3.76753507,  3.79158317,\n",
       "        3.81563126,  3.83967936,  3.86372745,  3.88777555,  3.91182365,\n",
       "        3.93587174,  3.95991984,  3.98396794,  4.00801603,  4.03206413,\n",
       "        4.05611222,  4.08016032,  4.10420842,  4.12825651,  4.15230461,\n",
       "        4.17635271,  4.2004008 ,  4.2244489 ,  4.24849699,  4.27254509,\n",
       "        4.29659319,  4.32064128,  4.34468938,  4.36873747,  4.39278557,\n",
       "        4.41683367,  4.44088176,  4.46492986,  4.48897796,  4.51302605,\n",
       "        4.53707415,  4.56112224,  4.58517034,  4.60921844,  4.63326653,\n",
       "        4.65731463,  4.68136273,  4.70541082,  4.72945892,  4.75350701,\n",
       "        4.77755511,  4.80160321,  4.8256513 ,  4.8496994 ,  4.87374749,\n",
       "        4.89779559,  4.92184369,  4.94589178,  4.96993988,  4.99398798,\n",
       "        5.01803607,  5.04208417,  5.06613226,  5.09018036,  5.11422846,\n",
       "        5.13827655,  5.16232465,  5.18637275,  5.21042084,  5.23446894,\n",
       "        5.25851703,  5.28256513,  5.30661323,  5.33066132,  5.35470942,\n",
       "        5.37875752,  5.40280561,  5.42685371,  5.4509018 ,  5.4749499 ,\n",
       "        5.498998  ,  5.52304609,  5.54709419,  5.57114228,  5.59519038,\n",
       "        5.61923848,  5.64328657,  5.66733467,  5.69138277,  5.71543086,\n",
       "        5.73947896,  5.76352705,  5.78757515,  5.81162325,  5.83567134,\n",
       "        5.85971944,  5.88376754,  5.90781563,  5.93186373,  5.95591182,\n",
       "        5.97995992,  6.00400802,  6.02805611,  6.05210421,  6.0761523 ,\n",
       "        6.1002004 ,  6.1242485 ,  6.14829659,  6.17234469,  6.19639279,\n",
       "        6.22044088,  6.24448898,  6.26853707,  6.29258517,  6.31663327,\n",
       "        6.34068136,  6.36472946,  6.38877756,  6.41282565,  6.43687375,\n",
       "        6.46092184,  6.48496994,  6.50901804,  6.53306613,  6.55711423,\n",
       "        6.58116232,  6.60521042,  6.62925852,  6.65330661,  6.67735471,\n",
       "        6.70140281,  6.7254509 ,  6.749499  ,  6.77354709,  6.79759519,\n",
       "        6.82164329,  6.84569138,  6.86973948,  6.89378758,  6.91783567,\n",
       "        6.94188377,  6.96593186,  6.98997996,  7.01402806,  7.03807615,\n",
       "        7.06212425,  7.08617234,  7.11022044,  7.13426854,  7.15831663,\n",
       "        7.18236473,  7.20641283,  7.23046092,  7.25450902,  7.27855711,\n",
       "        7.30260521,  7.32665331,  7.3507014 ,  7.3747495 ,  7.3987976 ,\n",
       "        7.42284569,  7.44689379,  7.47094188,  7.49498998,  7.51903808,\n",
       "        7.54308617,  7.56713427,  7.59118236,  7.61523046,  7.63927856,\n",
       "        7.66332665,  7.68737475,  7.71142285,  7.73547094,  7.75951904,\n",
       "        7.78356713,  7.80761523,  7.83166333,  7.85571142,  7.87975952,\n",
       "        7.90380762,  7.92785571,  7.95190381,  7.9759519 ,  8.        ])"
      ]
     },
     "execution_count": 101,
     "metadata": {},
     "output_type": "execute_result"
    }
   ],
   "source": [
    "x"
   ]
  },
  {
   "cell_type": "code",
   "execution_count": 96,
   "metadata": {},
   "outputs": [
    {
     "data": {
      "text/plain": [
       "[<matplotlib.lines.Line2D at 0x1fe8e330be0>]"
      ]
     },
     "execution_count": 96,
     "metadata": {},
     "output_type": "execute_result"
    },
    {
     "data": {
      "image/png": "[encoded data removed]",
      "text/plain": [
       "<Figure size 640x480 with 1 Axes>"
      ]
     },
     "metadata": {},
     "output_type": "display_data"
    }
   ],
   "source": [
    "from scipy.stats import expon\n",
    "import matplotlib.pyplot as plt\n",
    "fig, ax = plt.subplots(1, 1)\n",
    "\n",
    "x = np.linspace(-4, 8, 500)\n",
    "ax.plot(x, expon.pdf(x),\n",
    "       'r-', lw=5, alpha=0.6, label='expon pdf')"
   ]
  },
  {
   "cell_type": "code",
   "execution_count": 118,
   "metadata": {},
   "outputs": [],
   "source": [
    "def true_function(x):\n",
    "    return expon.pdf(x)"
   ]
  },
  {
   "cell_type": "code",
   "execution_count": 132,
   "metadata": {},
   "outputs": [],
   "source": [
    "x = np.linspace(-4, 8, 500)"
   ]
  },
  {
   "cell_type": "code",
   "execution_count": 135,
   "metadata": {},
   "outputs": [],
   "source": [
    "num_samples = 10"
   ]
  },
  {
   "cell_type": "code",
   "execution_count": 134,
   "metadata": {},
   "outputs": [],
   "source": [
    "true_values = true_function(x)"
   ]
  },
  {
   "cell_type": "code",
   "execution_count": 136,
   "metadata": {},
   "outputs": [],
   "source": [
    "from scipy.integrate import simps"
   ]
  },
  {
   "cell_type": "code",
   "execution_count": 145,
   "metadata": {},
   "outputs": [],
   "source": [
    "def estimated_pts(x):\n",
    "    return kde_pt(kernel, yiid1_exp, 0.1, x) #"
   ]
  },
  {
   "cell_type": "code",
   "execution_count": 127,
   "metadata": {},
   "outputs": [],
   "source": [
    "def estimated(x):\n",
    "    return kde(kernel, yiid1_exp, 0.1, x) #"
   ]
  },
  {
   "cell_type": "code",
   "execution_count": 126,
   "metadata": {},
   "outputs": [],
   "source": [
    "def squared_difference_pts(x):\n",
    "    return (true_function(x) - estimated_pts(x))**2"
   ]
  },
  {
   "cell_type": "code",
   "execution_count": 128,
   "metadata": {},
   "outputs": [],
   "source": [
    "def squared_difference(x):\n",
    "    return (true_function(x) - estimated(x))**2"
   ]
  },
  {
   "cell_type": "code",
   "execution_count": 120,
   "metadata": {},
   "outputs": [
    {
     "data": {
      "text/plain": [
       "0.013503678401553974"
      ]
     },
     "execution_count": 120,
     "metadata": {},
     "output_type": "execute_result"
    }
   ],
   "source": [
    "squared_difference_pts(0.1)"
   ]
  },
  {
   "cell_type": "code",
   "execution_count": 138,
   "metadata": {},
   "outputs": [
    {
     "name": "stdout",
     "output_type": "stream",
     "text": [
      "(0.01830654664915409, 5.289483073767087e-09)\n"
     ]
    }
   ],
   "source": [
    "# integration: https://docs.scipy.org/doc/scipy/tutorial/integrate.html\n",
    "import scipy.integrate as integrate\n",
    "result = integrate.quad(squared_difference_pts, -4, 8) # error: integrand has to be a callable object, e.g., a function (floats/numbers aren't callable)\n",
    "print(result)"
   ]
  },
  {
   "cell_type": "code",
   "execution_count": 140,
   "metadata": {},
   "outputs": [],
   "source": [
    "# MISE:\n",
    "iidpts1_2, sobpts1, latticepts1, dnetb2pts1, haltonpts1 = gen_iid_ld_pts(dimen = 1, n = 2**12)"
   ]
  },
  {
   "cell_type": "code",
   "execution_count": 142,
   "metadata": {},
   "outputs": [],
   "source": [
    "yiid1_2 = testfun_exp(iidpts1_2)"
   ]
  },
  {
   "cell_type": "code",
   "execution_count": 144,
   "metadata": {},
   "outputs": [
    {
     "name": "stdout",
     "output_type": "stream",
     "text": [
      "(0.01784194067098632, 2.275648867261504e-09)\n"
     ]
    }
   ],
   "source": [
    "import scipy.integrate as integrate\n",
    "result = integrate.quad(squared_difference_pts, -4, 8) # error: integrand has to be a callable object, e.g., a function (floats/numbers aren't callable)\n",
    "print(result)"
   ]
  },
  {
   "cell_type": "code",
   "execution_count": 150,
   "metadata": {},
   "outputs": [
    {
     "name": "stdout",
     "output_type": "stream",
     "text": [
      "(0.018306546649198722, 1.053043069410009e-11)\n"
     ]
    }
   ],
   "source": [
    "import scipy.integrate as integrate\n",
    "result_test = integrate.quad(squared_difference_pts, -4, 8, epsabs = 0) # absolute error tolerance\n",
    "print(result_test)"
   ]
  },
  {
   "cell_type": "code",
   "execution_count": 146,
   "metadata": {},
   "outputs": [
    {
     "name": "stdout",
     "output_type": "stream",
     "text": [
      "(0.01830660291673142, 1.2378415837979128e-08)\n"
     ]
    }
   ],
   "source": [
    "from scipy.integrate import quad\n",
    "result_2 = quad(squared_difference_pts, -np.inf, np.inf) # error: integrand has to be a callable object, e.g., a function (floats/numbers aren't callable)\n",
    "print(result_2) # (integration value, estimated error)"
   ]
  },
  {
   "cell_type": "code",
   "execution_count": 148,
   "metadata": {},
   "outputs": [],
   "source": [
    "mise = (result[0] + result_2[0])/2"
   ]
  },
  {
   "cell_type": "code",
   "execution_count": 149,
   "metadata": {},
   "outputs": [
    {
     "data": {
      "text/plain": [
       "0.01807427179385887"
      ]
     },
     "execution_count": 149,
     "metadata": {},
     "output_type": "execute_result"
    }
   ],
   "source": [
    "mise"
   ]
  },
  {
   "cell_type": "code",
   "execution_count": 131,
   "metadata": {},
   "outputs": [
    {
     "name": "stdout",
     "output_type": "stream",
     "text": [
      "(0.01830660291673317, 1.1744098504471599e-08)\n"
     ]
    }
   ],
   "source": [
    "from scipy.integrate import quad\n",
    "result = quad(squared_difference_pts, -100, 100) # error: integrand has to be a callable object, e.g., a function (floats/numbers aren't callable)\n",
    "print(result) # (integration value, estimated error)"
   ]
  },
  {
   "cell_type": "code",
   "execution_count": 116,
   "metadata": {},
   "outputs": [
    {
     "data": {
      "text/plain": [
       "0.7886320894079057"
      ]
     },
     "execution_count": 116,
     "metadata": {},
     "output_type": "execute_result"
    }
   ],
   "source": [
    "estimated(0.1)"
   ]
  },
  {
   "cell_type": "code",
   "execution_count": 97,
   "metadata": {},
   "outputs": [],
   "source": [
    "exp_pdf_values = expon.pdf(x)"
   ]
  },
  {
   "cell_type": "code",
   "execution_count": 98,
   "metadata": {},
   "outputs": [
    {
     "data": {
      "text/plain": [
       "(500,)"
      ]
     },
     "execution_count": 98,
     "metadata": {},
     "output_type": "execute_result"
    }
   ],
   "source": [
    "exp_pdf_values.shape"
   ]
  },
  {
   "cell_type": "code",
   "execution_count": 51,
   "metadata": {},
   "outputs": [
    {
     "data": {
      "text/plain": [
       "array([0.00000000e+00, 0.00000000e+00, 0.00000000e+00, 0.00000000e+00,\n",
       "       0.00000000e+00, 0.00000000e+00, 0.00000000e+00, 0.00000000e+00,\n",
       "       0.00000000e+00, 0.00000000e+00, 0.00000000e+00, 0.00000000e+00,\n",
       "       0.00000000e+00, 0.00000000e+00, 0.00000000e+00, 0.00000000e+00,\n",
       "       0.00000000e+00, 0.00000000e+00, 0.00000000e+00, 0.00000000e+00,\n",
       "       0.00000000e+00, 0.00000000e+00, 0.00000000e+00, 0.00000000e+00,\n",
       "       0.00000000e+00, 0.00000000e+00, 0.00000000e+00, 0.00000000e+00,\n",
       "       0.00000000e+00, 0.00000000e+00, 0.00000000e+00, 0.00000000e+00,\n",
       "       0.00000000e+00, 0.00000000e+00, 0.00000000e+00, 0.00000000e+00,\n",
       "       0.00000000e+00, 0.00000000e+00, 0.00000000e+00, 0.00000000e+00,\n",
       "       0.00000000e+00, 0.00000000e+00, 0.00000000e+00, 0.00000000e+00,\n",
       "       0.00000000e+00, 0.00000000e+00, 0.00000000e+00, 0.00000000e+00,\n",
       "       0.00000000e+00, 0.00000000e+00, 0.00000000e+00, 0.00000000e+00,\n",
       "       0.00000000e+00, 0.00000000e+00, 0.00000000e+00, 0.00000000e+00,\n",
       "       0.00000000e+00, 0.00000000e+00, 0.00000000e+00, 0.00000000e+00,\n",
       "       0.00000000e+00, 0.00000000e+00, 0.00000000e+00, 0.00000000e+00,\n",
       "       0.00000000e+00, 0.00000000e+00, 0.00000000e+00, 0.00000000e+00,\n",
       "       0.00000000e+00, 0.00000000e+00, 0.00000000e+00, 0.00000000e+00,\n",
       "       0.00000000e+00, 0.00000000e+00, 0.00000000e+00, 0.00000000e+00,\n",
       "       0.00000000e+00, 0.00000000e+00, 0.00000000e+00, 0.00000000e+00,\n",
       "       0.00000000e+00, 0.00000000e+00, 0.00000000e+00, 0.00000000e+00,\n",
       "       0.00000000e+00, 0.00000000e+00, 0.00000000e+00, 0.00000000e+00,\n",
       "       0.00000000e+00, 0.00000000e+00, 0.00000000e+00, 0.00000000e+00,\n",
       "       0.00000000e+00, 0.00000000e+00, 0.00000000e+00, 0.00000000e+00,\n",
       "       0.00000000e+00, 0.00000000e+00, 0.00000000e+00, 0.00000000e+00,\n",
       "       0.00000000e+00, 0.00000000e+00, 0.00000000e+00, 0.00000000e+00,\n",
       "       0.00000000e+00, 0.00000000e+00, 0.00000000e+00, 0.00000000e+00,\n",
       "       0.00000000e+00, 0.00000000e+00, 0.00000000e+00, 0.00000000e+00,\n",
       "       0.00000000e+00, 0.00000000e+00, 0.00000000e+00, 0.00000000e+00,\n",
       "       0.00000000e+00, 0.00000000e+00, 0.00000000e+00, 0.00000000e+00,\n",
       "       0.00000000e+00, 0.00000000e+00, 0.00000000e+00, 0.00000000e+00,\n",
       "       0.00000000e+00, 0.00000000e+00, 0.00000000e+00, 0.00000000e+00,\n",
       "       0.00000000e+00, 0.00000000e+00, 0.00000000e+00, 0.00000000e+00,\n",
       "       0.00000000e+00, 0.00000000e+00, 0.00000000e+00, 0.00000000e+00,\n",
       "       0.00000000e+00, 0.00000000e+00, 0.00000000e+00, 0.00000000e+00,\n",
       "       0.00000000e+00, 0.00000000e+00, 0.00000000e+00, 0.00000000e+00,\n",
       "       0.00000000e+00, 0.00000000e+00, 0.00000000e+00, 0.00000000e+00,\n",
       "       0.00000000e+00, 0.00000000e+00, 0.00000000e+00, 0.00000000e+00,\n",
       "       0.00000000e+00, 0.00000000e+00, 0.00000000e+00, 0.00000000e+00,\n",
       "       0.00000000e+00, 0.00000000e+00, 0.00000000e+00, 0.00000000e+00,\n",
       "       0.00000000e+00, 0.00000000e+00, 0.00000000e+00, 0.00000000e+00,\n",
       "       0.00000000e+00, 0.00000000e+00, 0.00000000e+00, 9.84095765e-01,\n",
       "       9.60712425e-01, 9.37884702e-01, 9.15599394e-01, 8.93843613e-01,\n",
       "       8.72604776e-01, 8.51870600e-01, 8.31629094e-01, 8.11868552e-01,\n",
       "       7.92577545e-01, 7.73744916e-01, 7.55359773e-01, 7.37411485e-01,\n",
       "       7.19889670e-01, 7.02784196e-01, 6.86085168e-01, 6.69782931e-01,\n",
       "       6.53868055e-01, 6.38331336e-01, 6.23163789e-01, 6.08356641e-01,\n",
       "       5.93901330e-01, 5.79789495e-01, 5.66012975e-01, 5.52563802e-01,\n",
       "       5.39434199e-01, 5.26616571e-01, 5.14103505e-01, 5.01887766e-01,\n",
       "       4.89962288e-01, 4.78320174e-01, 4.66954692e-01, 4.55859267e-01,\n",
       "       4.45027483e-01, 4.34453076e-01, 4.24129930e-01, 4.14052075e-01,\n",
       "       4.04213683e-01, 3.94609062e-01, 3.85232660e-01, 3.76079052e-01,\n",
       "       3.67142946e-01, 3.58419173e-01, 3.49902687e-01, 3.41588564e-01,\n",
       "       3.33471994e-01, 3.25548284e-01, 3.17812852e-01, 3.10261223e-01,\n",
       "       3.02889030e-01, 2.95692010e-01, 2.88666000e-01, 2.81806936e-01,\n",
       "       2.75110853e-01, 2.68573876e-01, 2.62192227e-01, 2.55962213e-01,\n",
       "       2.49880232e-01, 2.43942767e-01, 2.38146383e-01, 2.32487729e-01,\n",
       "       2.26963531e-01, 2.21570595e-01, 2.16305802e-01, 2.11166107e-01,\n",
       "       2.06148537e-01, 2.01250191e-01, 1.96468236e-01, 1.91799906e-01,\n",
       "       1.87242502e-01, 1.82793387e-01, 1.78449988e-01, 1.74209795e-01,\n",
       "       1.70070353e-01, 1.66029270e-01, 1.62084208e-01, 1.58232885e-01,\n",
       "       1.54473075e-01, 1.50802602e-01, 1.47219345e-01, 1.43721230e-01,\n",
       "       1.40306235e-01, 1.36972384e-01, 1.33717749e-01, 1.30540449e-01,\n",
       "       1.27438646e-01, 1.24410545e-01, 1.21454395e-01, 1.18568488e-01,\n",
       "       1.15751153e-01, 1.13000761e-01, 1.10315723e-01, 1.07694484e-01,\n",
       "       1.05135529e-01, 1.02637378e-01, 1.00198586e-01, 9.78177429e-02,\n",
       "       9.54934715e-02, 9.32244278e-02, 9.10092993e-02, 8.88468051e-02,\n",
       "       8.67356944e-02, 8.46747464e-02, 8.26627690e-02, 8.06985987e-02,\n",
       "       7.87810995e-02, 7.69091626e-02, 7.50817051e-02, 7.32976704e-02,\n",
       "       7.15560265e-02, 6.98557662e-02, 6.81959063e-02, 6.65754866e-02,\n",
       "       6.49935702e-02, 6.34492421e-02, 6.19416091e-02, 6.04697994e-02,\n",
       "       5.90329617e-02, 5.76302650e-02, 5.62608982e-02, 5.49240692e-02,\n",
       "       5.36190050e-02, 5.23449507e-02, 5.11011695e-02, 4.98869421e-02,\n",
       "       4.87015663e-02, 4.75443564e-02, 4.64146433e-02, 4.53117736e-02,\n",
       "       4.42351095e-02, 4.31840282e-02, 4.21579220e-02, 4.11561973e-02,\n",
       "       4.01782748e-02, 3.92235890e-02, 3.82915877e-02, 3.73817319e-02,\n",
       "       3.64934954e-02, 3.56263645e-02, 3.47798378e-02, 3.39534255e-02,\n",
       "       3.31466499e-02, 3.23590442e-02, 3.15901530e-02, 3.08395317e-02,\n",
       "       3.01067460e-02, 2.93913723e-02, 2.86929967e-02, 2.80112154e-02,\n",
       "       2.73456340e-02, 2.66958677e-02, 2.60615407e-02, 2.54422860e-02,\n",
       "       2.48377456e-02, 2.42475699e-02, 2.36714174e-02, 2.31089551e-02,\n",
       "       2.25598576e-02, 2.20238073e-02, 2.15004942e-02, 2.09896157e-02,\n",
       "       2.04908763e-02, 2.00039876e-02, 1.95286679e-02, 1.90646425e-02,\n",
       "       1.86116428e-02, 1.81694070e-02, 1.77376793e-02, 1.73162100e-02,\n",
       "       1.69047553e-02, 1.65030772e-02, 1.61109436e-02, 1.57281275e-02,\n",
       "       1.53544076e-02, 1.49895678e-02, 1.46333970e-02, 1.42856893e-02,\n",
       "       1.39462435e-02, 1.36148634e-02, 1.32913573e-02, 1.29755381e-02,\n",
       "       1.26672232e-02, 1.23662342e-02, 1.20723971e-02, 1.17855419e-02,\n",
       "       1.15055027e-02, 1.12321177e-02, 1.09652286e-02, 1.07046811e-02,\n",
       "       1.04503245e-02, 1.02020118e-02, 9.95959932e-03, 9.72294685e-03,\n",
       "       9.49191753e-03, 9.26637775e-03, 9.04619708e-03, 8.83124818e-03,\n",
       "       8.62140673e-03, 8.41655137e-03, 8.21656364e-03, 8.02132786e-03,\n",
       "       7.83073112e-03, 7.64466320e-03, 7.46301649e-03, 7.28568593e-03,\n",
       "       7.11256896e-03, 6.94356547e-03, 6.77857771e-03, 6.61751027e-03,\n",
       "       6.46026999e-03, 6.30676593e-03, 6.15690932e-03, 6.01061349e-03,\n",
       "       5.86779383e-03, 5.72836775e-03, 5.59225460e-03, 5.45937567e-03,\n",
       "       5.32965411e-03, 5.20301489e-03, 5.07938478e-03, 4.95869228e-03,\n",
       "       4.84086758e-03, 4.72584254e-03, 4.61355064e-03, 4.50392693e-03,\n",
       "       4.39690802e-03, 4.29243201e-03, 4.19043849e-03, 4.09086845e-03,\n",
       "       3.99366433e-03, 3.89876989e-03, 3.80613026e-03, 3.71569187e-03,\n",
       "       3.62740241e-03, 3.54121081e-03, 3.45706723e-03, 3.37492301e-03,\n",
       "       3.29473064e-03, 3.21644374e-03, 3.14001703e-03, 3.06540632e-03,\n",
       "       2.99256845e-03, 2.92146130e-03, 2.85204374e-03, 2.78427563e-03,\n",
       "       2.71811778e-03, 2.65353192e-03, 2.59048070e-03, 2.52892765e-03,\n",
       "       2.46883718e-03, 2.41017454e-03, 2.35290579e-03, 2.29699782e-03,\n",
       "       2.24241829e-03, 2.18913564e-03, 2.13711905e-03, 2.08633845e-03,\n",
       "       2.03676445e-03, 1.98836839e-03, 1.94112228e-03, 1.89499880e-03,\n",
       "       1.84997127e-03, 1.80601365e-03, 1.76310052e-03, 1.72120705e-03,\n",
       "       1.68030903e-03, 1.64038280e-03, 1.60140526e-03, 1.56335388e-03,\n",
       "       1.52620664e-03, 1.48994207e-03, 1.45453920e-03, 1.41997753e-03,\n",
       "       1.38623710e-03, 1.35329838e-03, 1.32114233e-03, 1.28975034e-03,\n",
       "       1.25910427e-03, 1.22918638e-03, 1.19997938e-03, 1.17146638e-03,\n",
       "       1.14363088e-03, 1.11645679e-03, 1.08992839e-03, 1.06403033e-03,\n",
       "       1.03874764e-03, 1.01406571e-03, 9.89970245e-04, 9.66447319e-04,\n",
       "       9.43483328e-04, 9.21064990e-04, 8.99179339e-04, 8.77813719e-04,\n",
       "       8.56955772e-04, 8.36593436e-04, 8.16714935e-04, 7.97308771e-04,\n",
       "       7.78363723e-04, 7.59868832e-04, 7.41813402e-04, 7.24186993e-04,\n",
       "       7.06979408e-04, 6.90180697e-04, 6.73781145e-04, 6.57771266e-04,\n",
       "       6.42141802e-04, 6.26883714e-04, 6.11988176e-04, 5.97446576e-04,\n",
       "       5.83250501e-04, 5.69391743e-04, 5.55862287e-04, 5.42654307e-04,\n",
       "       5.29760165e-04, 5.17172404e-04, 5.04883744e-04, 4.92887078e-04,\n",
       "       4.81175467e-04, 4.69742139e-04, 4.58580482e-04, 4.47684038e-04,\n",
       "       4.37046508e-04, 4.26661739e-04, 4.16523725e-04, 4.06626603e-04,\n",
       "       3.96964649e-04, 3.87532275e-04, 3.78324026e-04, 3.69334576e-04,\n",
       "       3.60558727e-04, 3.51991402e-04, 3.43627649e-04, 3.35462628e-04])"
      ]
     },
     "execution_count": 51,
     "metadata": {},
     "output_type": "execute_result"
    }
   ],
   "source": [
    "exp_pdf_values"
   ]
  },
  {
   "cell_type": "code",
   "execution_count": 99,
   "metadata": {},
   "outputs": [],
   "source": [
    "rhovaliid = kde(kernel, yiid1_exp, 0.1, x) # bandwidth = 0.1"
   ]
  },
  {
   "cell_type": "code",
   "execution_count": 100,
   "metadata": {},
   "outputs": [
    {
     "data": {
      "text/plain": [
       "(500,)"
      ]
     },
     "execution_count": 100,
     "metadata": {},
     "output_type": "execute_result"
    }
   ],
   "source": [
    "rhovaliid.shape"
   ]
  },
  {
   "cell_type": "code",
   "execution_count": 54,
   "metadata": {},
   "outputs": [
    {
     "data": {
      "text/plain": [
       "array([0.00000000e+000, 0.00000000e+000, 0.00000000e+000, 0.00000000e+000,\n",
       "       0.00000000e+000, 0.00000000e+000, 0.00000000e+000, 0.00000000e+000,\n",
       "       0.00000000e+000, 0.00000000e+000, 0.00000000e+000, 0.00000000e+000,\n",
       "       0.00000000e+000, 0.00000000e+000, 0.00000000e+000, 0.00000000e+000,\n",
       "       0.00000000e+000, 0.00000000e+000, 0.00000000e+000, 0.00000000e+000,\n",
       "       0.00000000e+000, 0.00000000e+000, 0.00000000e+000, 0.00000000e+000,\n",
       "       0.00000000e+000, 0.00000000e+000, 0.00000000e+000, 0.00000000e+000,\n",
       "       0.00000000e+000, 0.00000000e+000, 0.00000000e+000, 0.00000000e+000,\n",
       "       0.00000000e+000, 0.00000000e+000, 0.00000000e+000, 0.00000000e+000,\n",
       "       0.00000000e+000, 0.00000000e+000, 0.00000000e+000, 0.00000000e+000,\n",
       "       0.00000000e+000, 0.00000000e+000, 0.00000000e+000, 0.00000000e+000,\n",
       "       0.00000000e+000, 0.00000000e+000, 0.00000000e+000, 0.00000000e+000,\n",
       "       0.00000000e+000, 0.00000000e+000, 0.00000000e+000, 0.00000000e+000,\n",
       "       0.00000000e+000, 0.00000000e+000, 1.17587624e-319, 4.91959874e-314,\n",
       "       1.83349479e-308, 6.08744883e-303, 1.80051701e-297, 4.74423323e-292,\n",
       "       1.11363374e-286, 2.32877190e-281, 4.33830851e-276, 7.19985149e-271,\n",
       "       1.06447876e-265, 1.40204380e-260, 1.64512179e-255, 1.71967837e-250,\n",
       "       1.60143727e-245, 1.32857790e-240, 9.81927428e-236, 6.46528903e-231,\n",
       "       3.79239558e-226, 1.98178907e-221, 9.22614649e-217, 3.82651507e-212,\n",
       "       1.41386439e-207, 4.65408648e-203, 1.36484919e-198, 3.56582157e-194,\n",
       "       8.29966411e-190, 1.72103096e-185, 3.17940201e-181, 5.23277650e-177,\n",
       "       7.67273759e-173, 1.00230851e-168, 1.16650593e-164, 1.20950748e-160,\n",
       "       1.11729514e-156, 9.19531779e-153, 6.74228130e-149, 4.40443458e-145,\n",
       "       2.56341301e-141, 1.32921174e-137, 6.14071624e-134, 2.52752452e-130,\n",
       "       9.26884264e-127, 3.02839013e-123, 8.81570018e-120, 2.28645723e-116,\n",
       "       5.28364163e-113, 1.08785361e-109, 1.99561776e-106, 3.26179865e-103,\n",
       "       4.75021274e-100, 6.16379903e-097, 7.12634617e-094, 7.34128513e-091,\n",
       "       6.73857201e-088, 5.51135410e-085, 4.01649905e-082, 2.60819700e-079,\n",
       "       1.50918043e-076, 7.78134907e-074, 3.57508818e-071, 1.46366664e-068,\n",
       "       5.33982300e-066, 1.73598850e-063, 5.02931077e-061, 1.29842973e-058,\n",
       "       2.98733455e-056, 6.12508622e-054, 1.11920960e-051, 1.82259406e-049,\n",
       "       2.64518915e-047, 3.42153752e-045, 3.94451702e-043, 4.05307997e-041,\n",
       "       3.71199124e-039, 3.03020220e-037, 2.20491868e-035, 1.43015889e-033,\n",
       "       8.26917836e-032, 4.26229697e-030, 1.95860434e-028, 8.02400936e-027,\n",
       "       2.93089168e-025, 9.54543655e-024, 2.77208153e-022, 7.17892906e-021,\n",
       "       1.65801809e-019, 3.41531673e-018, 6.27516679e-017, 1.02853136e-015,\n",
       "       1.50403859e-014, 1.96249044e-013, 2.28522599e-012, 2.37519384e-011,\n",
       "       2.20395945e-010, 1.82617454e-009, 1.35154443e-008, 8.93720624e-008,\n",
       "       5.28218245e-007, 2.79157580e-006, 1.31985917e-005, 5.58607375e-005,\n",
       "       2.11785387e-004, 7.19892574e-004, 2.19620207e-003, 6.02086464e-003,\n",
       "       1.48559689e-002, 3.30544713e-002, 6.64781326e-002, 1.21208514e-001,\n",
       "       2.01093565e-001, 3.04979652e-001, 4.25220446e-001, 5.48802533e-001,\n",
       "       6.61011765e-001, 7.49929158e-001, 8.09531046e-001, 8.40192783e-001,\n",
       "       8.47021815e-001, 8.37369828e-001, 8.18668308e-001, 7.96999069e-001,\n",
       "       7.76320314e-001, 7.58231911e-001, 7.42292761e-001, 7.26881039e-001,\n",
       "       7.10362483e-001, 6.92096439e-001, 6.72814309e-001, 6.54229857e-001,\n",
       "       6.38182187e-001, 6.25837159e-001, 6.17329579e-001, 6.11883148e-001,\n",
       "       6.08191981e-001, 6.04827290e-001, 6.00556320e-001, 5.94560244e-001,\n",
       "       5.86541398e-001, 5.76681116e-001, 5.65440394e-001, 5.53285766e-001,\n",
       "       5.40477524e-001, 5.27012575e-001, 5.12716409e-001, 4.97413806e-001,\n",
       "       4.81095668e-001, 4.64006594e-001, 4.46601982e-001, 4.29394530e-001,\n",
       "       4.12806719e-001, 3.97172670e-001, 3.82916876e-001, 3.70740421e-001,\n",
       "       3.61549554e-001, 3.56010710e-001, 3.53941364e-001, 3.53973801e-001,\n",
       "       3.53819966e-001, 3.51069898e-001, 3.44090534e-001, 3.32545382e-001,\n",
       "       3.17336215e-001, 3.00126873e-001, 2.82779129e-001, 2.66935364e-001,\n",
       "       2.53768014e-001, 2.43799820e-001, 2.36770810e-001, 2.31666925e-001,\n",
       "       2.27034390e-001, 2.21530938e-001, 2.14465772e-001, 2.06047390e-001,\n",
       "       1.97220442e-001, 1.89193151e-001, 1.82893099e-001, 1.78595625e-001,\n",
       "       1.75870301e-001, 1.73835712e-001, 1.71570915e-001, 1.68477305e-001,\n",
       "       1.64442103e-001, 1.59776827e-001, 1.55010234e-001, 1.50651923e-001,\n",
       "       1.47014857e-001, 1.44140731e-001, 1.41848643e-001, 1.39904953e-001,\n",
       "       1.38245386e-001, 1.37092391e-001, 1.36814994e-001, 1.37552658e-001,\n",
       "       1.38865090e-001, 1.39739008e-001, 1.39054920e-001, 1.36249987e-001,\n",
       "       1.31723725e-001, 1.26691557e-001, 1.22567983e-001, 1.20265101e-001,\n",
       "       1.19817953e-001, 1.20504766e-001, 1.21303653e-001, 1.21348064e-001,\n",
       "       1.20128221e-001, 1.17442092e-001, 1.13291987e-001, 1.07886863e-001,\n",
       "       1.01713511e-001, 9.55078784e-002, 9.00330370e-002, 8.57655629e-002,\n",
       "       8.26989331e-002, 8.03923266e-002, 7.82226634e-002, 7.56927831e-002,\n",
       "       7.26576856e-002, 6.93919905e-002, 6.64796601e-002, 6.45651604e-002,\n",
       "       6.40684969e-002, 6.49943075e-002, 6.69177900e-002, 6.91342638e-002,\n",
       "       7.08878133e-002, 7.15876118e-002, 7.09530713e-002, 6.90591185e-002,\n",
       "       6.62720253e-002, 6.30900103e-002, 5.99380146e-002, 5.70000564e-002,\n",
       "       5.41794310e-002, 5.12286922e-002, 4.79902481e-002, 4.45970214e-002,\n",
       "       4.14864984e-002, 3.91991785e-002, 3.80807586e-002, 3.80739125e-002,\n",
       "       3.87261039e-002, 3.94034444e-002, 3.95808326e-002, 3.90487081e-002,\n",
       "       3.79452958e-002, 3.66315549e-002, 3.54973397e-002, 3.47911723e-002,\n",
       "       3.45315624e-002, 3.45228165e-002, 3.44664081e-002, 3.41192708e-002,\n",
       "       3.34185896e-002, 3.25033949e-002, 3.16225217e-002, 3.09872552e-002,\n",
       "       3.06578256e-002, 3.05291673e-002, 3.04201108e-002, 3.02060959e-002,\n",
       "       2.99072155e-002, 2.96735624e-002, 2.96803676e-002, 3.00023556e-002,\n",
       "       3.05385798e-002, 3.10176283e-002, 3.10732610e-002, 3.03642328e-002,\n",
       "       2.87036667e-002, 2.61497281e-002, 2.30087308e-002, 1.97377230e-002,\n",
       "       1.67931881e-002, 1.45078634e-002, 1.30524592e-002, 1.24702365e-002,\n",
       "       1.27214909e-002, 1.36898575e-002, 1.51653903e-002, 1.68613436e-002,\n",
       "       1.84940732e-002, 1.98848559e-002, 2.10037205e-002, 2.19129772e-002,\n",
       "       2.26492499e-002, 2.31324408e-002, 2.31670348e-002, 2.25333011e-002,\n",
       "       2.11122257e-002, 1.89786920e-002, 1.64197699e-002, 1.38658587e-002,\n",
       "       1.17540195e-002, 1.03736229e-002, 9.76226826e-003, 9.70704204e-003,\n",
       "       9.85873965e-003, 9.90593199e-003, 9.71913035e-003, 9.39059513e-003,\n",
       "       9.15593560e-003, 9.24953007e-003, 9.77467090e-003, 1.06491327e-002,\n",
       "       1.16392926e-002, 1.24534738e-002, 1.28472446e-002, 1.26998347e-002,\n",
       "       1.20404955e-002, 1.10252032e-002, 9.88055019e-003, 8.83929299e-003,\n",
       "       8.08922814e-003, 7.74541431e-003, 7.84143503e-003, 8.32819581e-003,\n",
       "       9.07548966e-003, 9.88670299e-003, 1.05419109e-002, 1.08652944e-002,\n",
       "       1.07828432e-002, 1.03308358e-002, 9.61071106e-003, 8.73074932e-003,\n",
       "       7.78110752e-003, 6.84800272e-003, 6.02959051e-003, 5.41705067e-003,\n",
       "       5.04689981e-003, 4.86826570e-003, 4.76267362e-003, 4.61013966e-003,\n",
       "       4.35585056e-003, 4.03184634e-003, 3.72537067e-003, 3.52498347e-003,\n",
       "       3.48384227e-003, 3.61465527e-003, 3.90034019e-003, 4.29737386e-003,\n",
       "       4.72880517e-003, 5.08758559e-003, 5.27046016e-003, 5.23342583e-003,\n",
       "       5.02877402e-003, 4.78640911e-003, 4.64346989e-003, 4.66972541e-003,\n",
       "       4.83988383e-003, 5.06549590e-003, 5.25585854e-003, 5.36421580e-003,\n",
       "       5.39427113e-003, 5.37102989e-003, 5.30058827e-003, 5.14829795e-003,\n",
       "       4.85231661e-003, 4.36515506e-003, 3.69519373e-003, 2.92000091e-003,\n",
       "       2.16408085e-003, 1.55726417e-003, 1.19743264e-003, 1.13062578e-003,\n",
       "       1.34671263e-003, 1.78366403e-003, 2.33876011e-003, 2.89019133e-003,\n",
       "       3.32884914e-003, 3.59067821e-003, 3.67483156e-003, 3.63721870e-003,\n",
       "       3.55944861e-003, 3.50444982e-003, 3.47932922e-003, 3.42813851e-003,\n",
       "       3.26431553e-003, 2.92649605e-003, 2.42150586e-003, 1.82547937e-003,\n",
       "       1.24521283e-003, 7.69751095e-004, 4.43549034e-004, 2.70829980e-004,\n",
       "       2.38039646e-004, 3.33915749e-004, 5.54163367e-004, 8.90475499e-004,\n",
       "       1.31369712e-003, 1.76446977e-003, 2.16058203e-003, 2.42063332e-003,\n",
       "       2.49409479e-003, 2.38368130e-003, 2.14825213e-003, 1.88161206e-003,\n",
       "       1.67322017e-003, 1.56817438e-003, 1.54878056e-003, 1.55110967e-003,\n",
       "       1.50908839e-003, 1.39982082e-003, 1.26219561e-003, 1.17817892e-003,\n",
       "       1.22883595e-003, 1.44931015e-003, 1.80437649e-003, 2.19502745e-003,\n",
       "       2.49360857e-003, 2.59319525e-003, 2.44935152e-003, 2.09450013e-003,\n",
       "       1.61875325e-003, 1.12918417e-003, 7.09984463e-004, 4.01817147e-004,\n",
       "       2.04407516e-004, 9.33405887e-005, 3.82129240e-005, 1.40098693e-005,\n",
       "       4.59539289e-006, 1.34746966e-006, 3.52959154e-007, 8.25453372e-008,\n",
       "       1.72274937e-008, 3.20737925e-009, 5.32532780e-010, 7.88325545e-011,\n",
       "       1.04026700e-011, 1.22348306e-012, 1.28236824e-013, 1.19769967e-014,\n",
       "       9.96714932e-016, 7.39020077e-017, 4.88184066e-018, 2.87301055e-019,\n",
       "       1.50627637e-020, 7.03519530e-022, 2.92714374e-023, 1.08493869e-024,\n",
       "       3.61077836e-026, 1.11943593e-026, 3.20230130e-025, 9.00631723e-024])"
      ]
     },
     "execution_count": 54,
     "metadata": {},
     "output_type": "execute_result"
    }
   ],
   "source": [
    "rhovaliid"
   ]
  },
  {
   "cell_type": "code",
   "execution_count": 102,
   "metadata": {},
   "outputs": [],
   "source": [
    "mse = (np.square(rhovaliid - exp_pdf_values)).mean(axis=None) "
   ]
  },
  {
   "cell_type": "code",
   "execution_count": 103,
   "metadata": {},
   "outputs": [
    {
     "data": {
      "text/plain": [
       "0.0014723762138870251"
      ]
     },
     "execution_count": 103,
     "metadata": {},
     "output_type": "execute_result"
    }
   ],
   "source": [
    "mse"
   ]
  },
  {
   "cell_type": "code",
   "execution_count": 104,
   "metadata": {},
   "outputs": [],
   "source": [
    "squared_error = (rhovaliid - exp_pdf_values)**2"
   ]
  },
  {
   "cell_type": "code",
   "execution_count": 106,
   "metadata": {},
   "outputs": [
    {
     "data": {
      "text/plain": [
       "(500,)"
      ]
     },
     "execution_count": 106,
     "metadata": {},
     "output_type": "execute_result"
    }
   ],
   "source": [
    "squared_error.shape"
   ]
  },
  {
   "cell_type": "code",
   "execution_count": 108,
   "metadata": {},
   "outputs": [
    {
     "data": {
      "text/plain": [
       "0.0014723761013558138"
      ]
     },
     "execution_count": 108,
     "metadata": {},
     "output_type": "execute_result"
    }
   ],
   "source": [
    "np.trapz(squared_error)/500"
   ]
  },
  {
   "cell_type": "markdown",
   "metadata": {},
   "source": [
    "### Laplace Distribution"
   ]
  },
  {
   "cell_type": "code",
   "execution_count": 57,
   "metadata": {},
   "outputs": [
    {
     "name": "stdout",
     "output_type": "stream",
     "text": [
      "PDF for x = 3.0: 0.024893534183931972\n",
      "[0.18393972 0.13179857 0.0944378  0.06766764 0.04848598 0.03474173\n",
      " 0.02489353 0.017837   0.01278077 0.00915782]\n"
     ]
    },
    {
     "data": {
      "image/png": "[encoded data removed]",
      "text/plain": [
       "<Figure size 640x480 with 1 Axes>"
      ]
     },
     "metadata": {},
     "output_type": "display_data"
    }
   ],
   "source": [
    "# https://www.askpython.com/python/examples/laplace-distribution-python\n",
    "from scipy import stats\n",
    " \n",
    "# Define location (mean) and scale parameters\n",
    "loc = 0\n",
    "scale = 1.0\n",
    " \n",
    "# Create a Laplace distribution object\n",
    "laplace_dist = stats.laplace(loc, scale)\n",
    " \n",
    "# Calculate the PDF for a specific value (x = 3.0)\n",
    "x = 3.0\n",
    "pdf_value = laplace_dist.pdf(x)\n",
    " \n",
    "print(f\"PDF for x = {x}: {pdf_value}\")\n",
    " \n",
    "# Alternatively, calculate the PDF for an array of values\n",
    "x_values = np.linspace(1.0, 4.0, 10)\n",
    "pdf_values = laplace_dist.pdf(x_values)\n",
    "print(pdf_values)\n",
    " \n",
    "# Plot the PDF (using matplotlib)\n",
    "import matplotlib.pyplot as plt\n",
    " \n",
    "plt.plot(x_values, pdf_values)\n",
    "plt.xlabel(\"x\")\n",
    "plt.ylabel(\"PDF(x)\")\n",
    "plt.title(\"Laplace Distribution PDF\")\n",
    "plt.show()"
   ]
  },
  {
   "cell_type": "code",
   "execution_count": 58,
   "metadata": {},
   "outputs": [
    {
     "name": "stdout",
     "output_type": "stream",
     "text": [
      "[9.15781944e-03 9.38071696e-03 9.60903970e-03 9.84291972e-03\n",
      " 1.00824923e-02 1.03278960e-02 1.05792726e-02 1.08367677e-02\n",
      " 1.11005301e-02 1.13707124e-02 1.16474708e-02 1.19309654e-02\n",
      " 1.22213601e-02 1.25188230e-02 1.28235259e-02 1.31356452e-02\n",
      " 1.34553613e-02 1.37828592e-02 1.41183283e-02 1.44619625e-02\n",
      " 1.48139606e-02 1.51745263e-02 1.55438679e-02 1.59221992e-02\n",
      " 1.63097389e-02 1.67067111e-02 1.71133455e-02 1.75298772e-02\n",
      " 1.79565471e-02 1.83936020e-02 1.88412946e-02 1.92998839e-02\n",
      " 1.97696350e-02 2.02508197e-02 2.07437162e-02 2.12486097e-02\n",
      " 2.17657920e-02 2.22955623e-02 2.28382270e-02 2.33940999e-02\n",
      " 2.39635026e-02 2.45467642e-02 2.51442222e-02 2.57562221e-02\n",
      " 2.63831179e-02 2.70252720e-02 2.76830558e-02 2.83568499e-02\n",
      " 2.90470438e-02 2.97540367e-02 3.04782376e-02 3.12200652e-02\n",
      " 3.19799486e-02 3.27583272e-02 3.35556513e-02 3.43723819e-02\n",
      " 3.52089913e-02 3.60659635e-02 3.69437940e-02 3.78429906e-02\n",
      " 3.87640732e-02 3.97075746e-02 4.06740405e-02 4.16640297e-02\n",
      " 4.26781148e-02 4.37168823e-02 4.47809330e-02 4.58708823e-02\n",
      " 4.69873605e-02 4.81310133e-02 4.93025021e-02 5.05025044e-02\n",
      " 5.17317144e-02 5.29908428e-02 5.42806178e-02 5.56017854e-02\n",
      " 5.69551097e-02 5.83413734e-02 5.97613781e-02 6.12159452e-02\n",
      " 6.27059158e-02 6.42321517e-02 6.57955355e-02 6.73969714e-02\n",
      " 6.90373856e-02 7.07177268e-02 7.24389669e-02 7.42021012e-02\n",
      " 7.60081494e-02 7.78581561e-02 7.97531912e-02 8.16943506e-02\n",
      " 8.36827571e-02 8.57195606e-02 8.78059390e-02 8.99430990e-02\n",
      " 9.21322765e-02 9.43747378e-02 9.66717796e-02 9.90247305e-02\n",
      " 1.01434951e-01 1.03903836e-01 1.06432812e-01 1.09023342e-01\n",
      " 1.11676925e-01 1.14395095e-01 1.17179424e-01 1.20031522e-01\n",
      " 1.22953039e-01 1.25945665e-01 1.29011130e-01 1.32151207e-01\n",
      " 1.35367713e-01 1.38662506e-01 1.42037494e-01 1.45494627e-01\n",
      " 1.49035906e-01 1.52663378e-01 1.56379141e-01 1.60185344e-01\n",
      " 1.64084189e-01 1.68077929e-01 1.72168876e-01 1.76359395e-01\n",
      " 1.80651909e-01 1.85048901e-01 1.89552915e-01 1.94166554e-01\n",
      " 1.98892487e-01 2.03733447e-01 2.08692234e-01 2.13771716e-01\n",
      " 2.18974831e-01 2.24304587e-01 2.29764067e-01 2.35356429e-01\n",
      " 2.41084907e-01 2.46952813e-01 2.52963541e-01 2.59120569e-01\n",
      " 2.65427455e-01 2.71887849e-01 2.78505486e-01 2.85284194e-01\n",
      " 2.92227892e-01 2.99340597e-01 3.06626423e-01 3.14089582e-01\n",
      " 3.21734392e-01 3.29565273e-01 3.37586754e-01 3.45803475e-01\n",
      " 3.54220188e-01 3.62841760e-01 3.71673177e-01 3.80719547e-01\n",
      " 3.89986103e-01 3.99478202e-01 4.09201335e-01 4.19161125e-01\n",
      " 4.29363332e-01 4.39813857e-01 4.50518743e-01 4.61484182e-01\n",
      " 4.72716515e-01 4.84222238e-01 4.96008005e-01 4.92047883e-01\n",
      " 4.80356213e-01 4.68942351e-01 4.57799697e-01 4.46921806e-01\n",
      " 4.36302388e-01 4.25935300e-01 4.15814547e-01 4.05934276e-01\n",
      " 3.96288772e-01 3.86872458e-01 3.77679887e-01 3.68705742e-01\n",
      " 3.59944835e-01 3.51392098e-01 3.43042584e-01 3.34891465e-01\n",
      " 3.26934027e-01 3.19165668e-01 3.11581894e-01 3.04178321e-01\n",
      " 2.96950665e-01 2.89894748e-01 2.83006488e-01 2.76281901e-01\n",
      " 2.69717099e-01 2.63308285e-01 2.57051753e-01 2.50943883e-01\n",
      " 2.44981144e-01 2.39160087e-01 2.33477346e-01 2.27929633e-01\n",
      " 2.22513742e-01 2.17226538e-01 2.12064965e-01 2.07026038e-01\n",
      " 2.02106841e-01 1.97304531e-01 1.92616330e-01 1.88039526e-01\n",
      " 1.83571473e-01 1.79209586e-01 1.74951343e-01 1.70794282e-01\n",
      " 1.66735997e-01 1.62774142e-01 1.58906426e-01 1.55130612e-01\n",
      " 1.51444515e-01 1.47846005e-01 1.44333000e-01 1.40903468e-01\n",
      " 1.37555426e-01 1.34286938e-01 1.31096113e-01 1.27981106e-01\n",
      " 1.24940116e-01 1.21971383e-01 1.19073192e-01 1.16243864e-01\n",
      " 1.13481765e-01 1.10785297e-01 1.08152901e-01 1.05583053e-01\n",
      " 1.03074268e-01 1.00625096e-01 9.82341181e-02 9.58999531e-02\n",
      " 9.36212509e-02 9.13966934e-02 8.92249942e-02 8.71048973e-02\n",
      " 8.50351765e-02 8.30146349e-02 8.10421038e-02 7.91164426e-02\n",
      " 7.72365374e-02 7.54013011e-02 7.36096724e-02 7.18606149e-02\n",
      " 7.01531173e-02 6.84861919e-02 6.68588747e-02 6.52702246e-02\n",
      " 6.37193228e-02 6.22052724e-02 6.07271977e-02 5.92842439e-02\n",
      " 5.78755765e-02 5.65003807e-02 5.51578614e-02 5.38472419e-02\n",
      " 5.25677644e-02 5.13186889e-02 5.00992930e-02 4.89088714e-02\n",
      " 4.77467358e-02 4.66122139e-02 4.55046497e-02 4.44234026e-02\n",
      " 4.33678472e-02 4.23373732e-02 4.13313845e-02 4.03492994e-02\n",
      " 3.93905498e-02 3.84545813e-02 3.75408526e-02 3.66488352e-02\n",
      " 3.57780132e-02 3.49278831e-02 3.40979531e-02 3.32877433e-02\n",
      " 3.24967851e-02 3.17246210e-02 3.09708046e-02 3.02348997e-02\n",
      " 2.95164808e-02 2.88151325e-02 2.81304491e-02 2.74620346e-02\n",
      " 2.68095025e-02 2.61724753e-02 2.55505847e-02 2.49434710e-02\n",
      " 2.43507831e-02 2.37721782e-02 2.32073217e-02 2.26558868e-02\n",
      " 2.21175547e-02 2.15920141e-02 2.10789610e-02 2.05780986e-02\n",
      " 2.00891374e-02 1.96117945e-02 1.91457938e-02 1.86908659e-02\n",
      " 1.82467477e-02 1.78131823e-02 1.73899189e-02 1.69767128e-02\n",
      " 1.65733249e-02 1.61795221e-02 1.57950765e-02 1.54197658e-02\n",
      " 1.50533730e-02 1.46956861e-02 1.43464983e-02 1.40056077e-02\n",
      " 1.36728170e-02 1.33479339e-02 1.30307703e-02 1.27211430e-02\n",
      " 1.24188728e-02 1.21237849e-02 1.18357087e-02 1.15544775e-02\n",
      " 1.12799288e-02 1.10119036e-02 1.07502471e-02 1.04948078e-02\n",
      " 1.02454381e-02 1.00019938e-02 9.76433396e-03 9.53232123e-03\n",
      " 9.30582141e-03 9.08470351e-03 8.86883965e-03 8.65810498e-03\n",
      " 8.45237763e-03 8.25153861e-03 8.05547179e-03 7.86406375e-03\n",
      " 7.67720381e-03 7.49478389e-03 7.31669849e-03 7.14284463e-03\n",
      " 6.97312175e-03 6.80743170e-03 6.64567865e-03 6.48776905e-03\n",
      " 6.33361158e-03 6.18311709e-03 6.03619853e-03 5.89277094e-03\n",
      " 5.75275137e-03 5.61605883e-03 5.48261428e-03 5.35234054e-03\n",
      " 5.22516227e-03 5.10100591e-03 4.97979966e-03 4.86147342e-03\n",
      " 4.74595876e-03 4.63318888e-03 4.52309854e-03 4.41562409e-03\n",
      " 4.31070336e-03 4.20827569e-03 4.10828182e-03 4.01066393e-03\n",
      " 3.91536556e-03 3.82233160e-03 3.73150825e-03 3.64284296e-03\n",
      " 3.55628448e-03 3.47178274e-03 3.38928886e-03 3.30875513e-03\n",
      " 3.23013499e-03 3.15338297e-03 3.07845466e-03 3.00530675e-03\n",
      " 2.93389692e-03 2.86418387e-03 2.79612730e-03 2.72968784e-03\n",
      " 2.66482705e-03 2.60150745e-03 2.53969239e-03 2.47934614e-03\n",
      " 2.42043379e-03 2.36292127e-03 2.30677532e-03 2.25196347e-03\n",
      " 2.19845401e-03 2.14621601e-03 2.09521924e-03 2.04543423e-03\n",
      " 1.99683216e-03 1.94938495e-03 1.90306513e-03 1.85784594e-03\n",
      " 1.81370120e-03 1.77060541e-03 1.72853362e-03 1.68746151e-03\n",
      " 1.64736532e-03 1.60822187e-03 1.57000852e-03 1.53270316e-03\n",
      " 1.49628423e-03 1.46073065e-03 1.42602187e-03 1.39213782e-03\n",
      " 1.35905889e-03 1.32676596e-03 1.29524035e-03 1.26446383e-03\n",
      " 1.23441859e-03 1.20508727e-03 1.17645289e-03 1.14849891e-03\n",
      " 1.12120915e-03 1.09456782e-03 1.06855953e-03 1.04316922e-03\n",
      " 1.01838222e-03 9.94184194e-04 9.70561140e-04 9.47499400e-04\n",
      " 9.24985634e-04 9.03006824e-04 8.81550258e-04 8.60603527e-04\n",
      " 8.40154516e-04 8.20191399e-04 8.00702630e-04 7.81676939e-04\n",
      " 7.63103322e-04 7.44971037e-04 7.27269598e-04 7.09988767e-04\n",
      " 6.93118550e-04 6.76649191e-04 6.60571164e-04 6.44875171e-04\n",
      " 6.29552134e-04 6.14593192e-04 5.99989692e-04 5.85733190e-04\n",
      " 5.71815441e-04 5.58228394e-04 5.44964193e-04 5.32015165e-04\n",
      " 5.19373822e-04 5.07032854e-04 4.94985122e-04 4.83223660e-04\n",
      " 4.71741664e-04 4.60532495e-04 4.49589670e-04 4.38906859e-04\n",
      " 4.28477886e-04 4.18296718e-04 4.08357467e-04 3.98654386e-04\n",
      " 3.89181861e-04 3.79934416e-04 3.70906701e-04 3.62093496e-04\n",
      " 3.53489704e-04 3.45090349e-04 3.36890573e-04 3.28885633e-04\n",
      " 3.21070901e-04 3.13441857e-04 3.05994088e-04 2.98723288e-04\n",
      " 2.91625251e-04 2.84695872e-04 2.77931143e-04 2.71327153e-04\n",
      " 2.64880083e-04 2.58586202e-04 2.52441872e-04 2.46443539e-04\n",
      " 2.40587734e-04 2.34871070e-04 2.29290241e-04 2.23842019e-04\n",
      " 2.18523254e-04 2.13330870e-04 2.08261863e-04 2.03313302e-04\n",
      " 1.98482324e-04 1.93766137e-04 1.89162013e-04 1.84667288e-04\n",
      " 1.80279363e-04 1.75995701e-04 1.71813824e-04 1.67731314e-04]\n"
     ]
    }
   ],
   "source": [
    "x_values = np.linspace(-4, 8, 500)\n",
    "pdf_values = laplace_dist.pdf(x_values)\n",
    "print(pdf_values)"
   ]
  },
  {
   "cell_type": "code",
   "execution_count": 59,
   "metadata": {},
   "outputs": [
    {
     "name": "stdout",
     "output_type": "stream",
     "text": [
      "(500,)\n"
     ]
    }
   ],
   "source": [
    "print(pdf_values.shape)"
   ]
  },
  {
   "cell_type": "code",
   "execution_count": 60,
   "metadata": {},
   "outputs": [
    {
     "data": {
      "text/plain": [
       "array([[ 1.93156123],\n",
       "       [-0.01538267],\n",
       "       [ 1.0563332 ],\n",
       "       ...,\n",
       "       [ 0.46202867],\n",
       "       [-0.71624633],\n",
       "       [-0.5607951 ]])"
      ]
     },
     "execution_count": 60,
     "metadata": {},
     "output_type": "execute_result"
    }
   ],
   "source": [
    "yiid_laplace"
   ]
  },
  {
   "cell_type": "code",
   "execution_count": 61,
   "metadata": {},
   "outputs": [],
   "source": [
    "rhovaliid = kde(kernel, yiid_laplace, 0.1, x_values)"
   ]
  },
  {
   "cell_type": "code",
   "execution_count": 62,
   "metadata": {},
   "outputs": [
    {
     "data": {
      "text/plain": [
       "array([2.04222668e-004, 9.91758493e-005, 4.29021596e-005, 1.65334807e-005,\n",
       "       5.68480530e-006, 1.78606852e-006, 6.96550648e-007, 9.89829186e-007,\n",
       "       3.07062222e-006, 9.44722763e-006, 2.60762043e-005, 6.41424938e-005,\n",
       "       1.40549026e-004, 2.74333684e-004, 4.76978746e-004, 7.38732954e-004,\n",
       "       1.01916493e-003, 1.25247774e-003, 1.37108417e-003, 1.33698571e-003,\n",
       "       1.16133620e-003, 8.98582001e-004, 6.19335564e-004, 3.80244469e-004,\n",
       "       2.07954704e-004, 1.01309110e-004, 4.39711067e-005, 1.70367081e-005,\n",
       "       6.04611798e-006, 2.58601892e-006, 3.36521318e-006, 9.45381158e-006,\n",
       "       2.71209214e-005, 7.03472384e-005, 1.63422754e-004, 3.39999037e-004,\n",
       "       6.34059835e-004, 1.06135906e-003, 1.59799146e-003, 2.17105243e-003,\n",
       "       2.67509049e-003, 3.01226621e-003, 3.13361650e-003, 3.05364955e-003,\n",
       "       2.83016765e-003, 2.52976497e-003, 2.20867170e-003, 1.91878270e-003,\n",
       "       1.72053736e-003, 1.67663468e-003, 1.82022955e-003, 2.11886171e-003,\n",
       "       2.46625662e-003, 2.71896482e-003, 2.76419201e-003, 2.58127574e-003,\n",
       "       2.26043804e-003, 1.96834665e-003, 1.88067923e-003, 2.11568905e-003,\n",
       "       2.69535581e-003, 3.54356102e-003, 4.51532156e-003, 5.44153039e-003,\n",
       "       6.17196431e-003, 6.60684605e-003, 6.71766815e-003, 6.55942572e-003,\n",
       "       6.26702440e-003, 6.02313021e-003, 5.99742941e-003, 6.28187133e-003,\n",
       "       6.85939792e-003, 7.62788317e-003, 8.46446861e-003, 9.28652969e-003,\n",
       "       1.00691322e-002, 1.08137108e-002, 1.15006944e-002, 1.20697482e-002,\n",
       "       1.24487822e-002, 1.26158691e-002, 1.26521055e-002, 1.27432104e-002,\n",
       "       1.31136426e-002, 1.39170497e-002, 1.51398410e-002, 1.65785863e-002,\n",
       "       1.79174975e-002, 1.88751135e-002, 1.93457102e-002, 1.94610666e-002,\n",
       "       1.95397116e-002, 1.99448434e-002, 2.09138109e-002, 2.24419375e-002,\n",
       "       2.42906203e-002, 2.61303685e-002, 2.77415413e-002, 2.91442432e-002,\n",
       "       3.05729672e-002, 3.23277602e-002, 3.46207414e-002, 3.75157928e-002,\n",
       "       4.09586893e-002, 4.48191636e-002, 4.88843952e-002, 5.28256896e-002,\n",
       "       5.62206514e-002, 5.86913798e-002, 6.01232045e-002, 6.08297655e-002,\n",
       "       6.15217827e-002, 6.30537179e-002, 6.60812133e-002, 7.08193862e-002,\n",
       "       7.69990631e-002, 8.39826776e-002, 9.09551479e-002, 9.71426070e-002,\n",
       "       1.02026848e-001, 1.05482126e-001, 1.07755236e-001, 1.09306149e-001,\n",
       "       1.10639745e-001, 1.12249993e-001, 1.14664944e-001, 1.18473112e-001,\n",
       "       1.24241494e-001, 1.32350701e-001, 1.42846158e-001, 1.55388244e-001,\n",
       "       1.69325128e-001, 1.83857636e-001, 1.98228635e-001, 2.11864650e-001,\n",
       "       2.24438387e-001, 2.35873417e-001, 2.46318043e-001, 2.56082878e-001,\n",
       "       2.65545368e-001, 2.75095852e-001, 2.85222905e-001, 2.96704467e-001,\n",
       "       3.10677920e-001, 3.28356079e-001, 3.50445546e-001, 3.76672290e-001,\n",
       "       4.05842570e-001, 4.36470696e-001, 4.67540809e-001, 4.98880319e-001,\n",
       "       5.30966581e-001, 5.64410803e-001, 5.99508566e-001, 6.36090410e-001,\n",
       "       6.73666826e-001, 7.11713251e-001, 7.49903597e-001, 7.88148781e-001,\n",
       "       8.26418397e-001, 8.64453666e-001, 9.01497971e-001, 9.36075760e-001,\n",
       "       9.65831451e-001, 9.87610807e-001, 9.98088921e-001, 9.94966922e-001,\n",
       "       9.78165093e-001, 9.50146861e-001, 9.14983136e-001, 8.76700566e-001,\n",
       "       8.37995036e-001, 8.00011324e-001, 7.62962349e-001, 7.26781913e-001,\n",
       "       6.91275191e-001, 6.55957629e-001, 6.20127992e-001, 5.83365936e-001,\n",
       "       5.46061833e-001, 5.09464320e-001, 4.75167886e-001, 4.44439005e-001,\n",
       "       4.17827244e-001, 3.95193419e-001, 3.75991814e-001, 3.59576456e-001,\n",
       "       3.45381421e-001, 3.32927073e-001, 3.21705775e-001, 3.11079389e-001,\n",
       "       3.00297228e-001, 2.88616138e-001, 2.75421438e-001, 2.60317032e-001,\n",
       "       2.43259509e-001, 2.24756311e-001, 2.05955851e-001, 1.88392245e-001,\n",
       "       1.73378399e-001, 1.61389259e-001, 1.51880412e-001, 1.43696002e-001,\n",
       "       1.35771949e-001, 1.27635995e-001, 1.19420556e-001, 1.11522403e-001,\n",
       "       1.04274113e-001, 9.78565471e-002, 9.23739861e-002, 8.78760126e-002,\n",
       "       8.42596834e-002, 8.12060060e-002, 7.83138092e-002, 7.53731056e-002,\n",
       "       7.25292447e-002, 7.01590280e-002, 6.85455025e-002, 6.76213784e-002,\n",
       "       6.69757427e-002, 6.60832501e-002, 6.45543159e-002, 6.22412724e-002,\n",
       "       5.91902180e-002, 5.55400930e-002, 5.14603286e-002, 4.71389386e-002,\n",
       "       4.27823917e-002, 3.86016454e-002, 3.47921839e-002, 3.15221163e-002,\n",
       "       2.89242275e-002, 2.70781386e-002, 2.59821955e-002, 2.55350412e-002,\n",
       "       2.55489021e-002, 2.57931167e-002, 2.60389077e-002, 2.60778599e-002,\n",
       "       2.57219450e-002, 2.48224277e-002, 2.33264621e-002, 2.13366312e-002,\n",
       "       1.91108470e-002, 1.69755835e-002, 1.51937765e-002, 1.38660507e-002,\n",
       "       1.29203003e-002, 1.21858736e-002, 1.15014011e-002, 1.07956390e-002,\n",
       "       1.01047332e-002, 9.52798120e-003, 9.15610515e-003, 9.01468483e-003,\n",
       "       9.04824686e-003, 9.14305161e-003, 9.16919679e-003, 9.02181992e-003,\n",
       "       8.64840133e-003, 8.05580403e-003, 7.29686446e-003, 6.44456081e-003,\n",
       "       5.56867901e-003, 4.72846566e-003, 3.98285526e-003, 3.40452349e-003,\n",
       "       3.07751192e-003, 3.06852570e-003, 3.38441148e-003, 3.94536203e-003,\n",
       "       4.59817470e-003, 5.16740280e-003, 5.51637477e-003, 5.58772075e-003,\n",
       "       5.41337752e-003, 5.10264303e-003, 4.81503176e-003, 4.71324661e-003,\n",
       "       4.89656002e-003, 5.34048184e-003, 5.88582680e-003, 6.30013068e-003,\n",
       "       6.38596509e-003, 6.07597469e-003, 5.46339502e-003, 4.75747082e-003,\n",
       "       4.19050157e-003, 3.91792360e-003, 3.95103982e-003, 4.15215279e-003,\n",
       "       4.29981816e-003, 4.19648968e-003, 3.76185560e-003, 3.06056796e-003,\n",
       "       2.25551424e-003, 1.52477631e-003, 9.94463974e-004, 7.14796759e-004,\n",
       "       6.70973128e-004, 8.04298132e-004, 1.02884190e-003, 1.24665141e-003,\n",
       "       1.36987589e-003, 1.34755506e-003, 1.18242959e-003, 9.24563046e-004,\n",
       "       6.44038214e-004, 3.99639003e-004, 2.20900221e-004, 1.08766202e-004,\n",
       "       4.77046374e-005, 1.86378523e-005, 6.48633989e-006, 2.01081491e-006,\n",
       "       5.55281295e-007, 1.36591144e-007, 2.99295779e-008, 5.84180684e-009,\n",
       "       1.01569273e-009, 1.57306275e-010, 2.17019270e-011, 2.66697597e-012,\n",
       "       2.91949985e-013, 2.84686165e-014, 2.47282179e-015, 1.91332094e-016,\n",
       "       1.31871633e-017, 8.09624219e-019, 4.42776079e-020, 2.15701597e-021,\n",
       "       9.36032917e-023, 3.61824052e-024, 1.24586876e-025, 3.82134026e-027,\n",
       "       1.04406533e-028, 2.54102062e-030, 5.50880316e-032, 1.06383646e-033,\n",
       "       1.83004192e-035, 2.80424372e-037, 3.82770999e-039, 4.65404787e-041,\n",
       "       5.04070424e-043, 4.86317769e-045, 4.17943534e-047, 3.19951119e-049,\n",
       "       2.18181643e-051, 1.32532177e-053, 7.17121937e-056, 3.45647352e-058,\n",
       "       1.48402771e-060, 5.67569879e-063, 1.93359368e-065, 5.86785871e-068,\n",
       "       1.58621710e-070, 3.81956724e-073, 8.19283563e-076, 1.56539115e-078,\n",
       "       2.66428119e-081, 4.03929706e-084, 5.45506687e-087, 6.56240326e-090,\n",
       "       7.03225000e-093, 6.71265365e-096, 5.70772089e-099, 4.32314465e-102,\n",
       "       2.91679131e-105, 1.75299024e-108, 9.38473882e-112, 4.47541624e-115,\n",
       "       1.90113618e-118, 7.19385320e-122, 2.42481420e-125, 7.28054536e-129,\n",
       "       1.94723295e-132, 4.63917181e-136, 9.84535895e-140, 1.86119212e-143,\n",
       "       3.13414730e-147, 4.70128040e-151, 6.28176169e-155, 7.47679217e-159,\n",
       "       7.92716161e-163, 7.48666958e-167, 6.29837002e-171, 4.71993727e-175,\n",
       "       3.15074194e-179, 1.87351852e-183, 9.92365595e-188, 4.68224309e-192,\n",
       "       1.96790789e-196, 7.36756758e-201, 2.45703894e-205, 7.29908636e-210,\n",
       "       1.93149467e-214, 4.55288917e-219, 9.55980851e-224, 1.78805082e-228,\n",
       "       2.97905880e-233, 4.42126801e-238, 5.84498176e-243, 6.88316260e-248,\n",
       "       7.22040317e-253, 6.74688672e-258, 5.61582984e-263, 4.16383021e-268,\n",
       "       2.75005028e-273, 1.61791912e-278, 8.47893943e-284, 3.95817333e-289,\n",
       "       1.64594998e-294, 6.09687107e-300, 2.01171261e-305, 5.91280310e-311,\n",
       "       1.54806577e-316, 3.45845952e-322, 0.00000000e+000, 0.00000000e+000,\n",
       "       0.00000000e+000, 0.00000000e+000, 0.00000000e+000, 0.00000000e+000,\n",
       "       0.00000000e+000, 0.00000000e+000, 0.00000000e+000, 0.00000000e+000,\n",
       "       0.00000000e+000, 0.00000000e+000, 0.00000000e+000, 0.00000000e+000,\n",
       "       0.00000000e+000, 0.00000000e+000, 0.00000000e+000, 0.00000000e+000,\n",
       "       0.00000000e+000, 0.00000000e+000, 0.00000000e+000, 0.00000000e+000,\n",
       "       0.00000000e+000, 0.00000000e+000, 0.00000000e+000, 0.00000000e+000,\n",
       "       0.00000000e+000, 0.00000000e+000, 0.00000000e+000, 0.00000000e+000,\n",
       "       0.00000000e+000, 0.00000000e+000, 0.00000000e+000, 0.00000000e+000,\n",
       "       0.00000000e+000, 0.00000000e+000, 0.00000000e+000, 0.00000000e+000,\n",
       "       0.00000000e+000, 0.00000000e+000, 0.00000000e+000, 0.00000000e+000,\n",
       "       0.00000000e+000, 0.00000000e+000, 0.00000000e+000, 0.00000000e+000,\n",
       "       0.00000000e+000, 0.00000000e+000, 0.00000000e+000, 0.00000000e+000,\n",
       "       0.00000000e+000, 0.00000000e+000, 0.00000000e+000, 0.00000000e+000,\n",
       "       0.00000000e+000, 0.00000000e+000, 0.00000000e+000, 0.00000000e+000,\n",
       "       0.00000000e+000, 0.00000000e+000, 0.00000000e+000, 0.00000000e+000,\n",
       "       0.00000000e+000, 0.00000000e+000, 0.00000000e+000, 0.00000000e+000,\n",
       "       0.00000000e+000, 0.00000000e+000, 0.00000000e+000, 0.00000000e+000,\n",
       "       0.00000000e+000, 0.00000000e+000, 0.00000000e+000, 0.00000000e+000,\n",
       "       0.00000000e+000, 0.00000000e+000, 0.00000000e+000, 0.00000000e+000,\n",
       "       0.00000000e+000, 0.00000000e+000, 0.00000000e+000, 0.00000000e+000])"
      ]
     },
     "execution_count": 62,
     "metadata": {},
     "output_type": "execute_result"
    }
   ],
   "source": [
    "rhovaliid"
   ]
  },
  {
   "cell_type": "code",
   "execution_count": 63,
   "metadata": {},
   "outputs": [
    {
     "name": "stdout",
     "output_type": "stream",
     "text": [
      "(500,)\n"
     ]
    }
   ],
   "source": [
    "print(rhovaliid.shape)"
   ]
  },
  {
   "cell_type": "code",
   "execution_count": 64,
   "metadata": {},
   "outputs": [
    {
     "data": {
      "text/plain": [
       "array([[-1.93135701, -1.93146206, -1.93151833, ..., -1.93156123,\n",
       "        -1.93156123, -1.93156123],\n",
       "       [ 0.0155869 ,  0.01548185,  0.01542558, ...,  0.01538267,\n",
       "         0.01538267,  0.01538267],\n",
       "       [-1.05612898, -1.05623403, -1.0562903 , ..., -1.0563332 ,\n",
       "        -1.0563332 , -1.0563332 ],\n",
       "       ...,\n",
       "       [-0.46182445, -0.4619295 , -0.46198577, ..., -0.46202867,\n",
       "        -0.46202867, -0.46202867],\n",
       "       [ 0.71645055,  0.7163455 ,  0.71628923, ...,  0.71624633,\n",
       "         0.71624633,  0.71624633],\n",
       "       [ 0.56099933,  0.56089428,  0.56083801, ...,  0.5607951 ,\n",
       "         0.5607951 ,  0.5607951 ]])"
      ]
     },
     "execution_count": 64,
     "metadata": {},
     "output_type": "execute_result"
    }
   ],
   "source": [
    "rhovaliid-yiid_laplace"
   ]
  },
  {
   "cell_type": "code",
   "execution_count": 65,
   "metadata": {},
   "outputs": [],
   "source": [
    "# another way: using MSE\n",
    "mse = (np.square(rhovaliid - pdf_values)).mean(axis=None) \n",
    "# with omitting the ax parameter (or setting it to ax=None) the average is performed element-wise along the array, returning a scalar value\n",
    "# https://stackoverflow.com/questions/16774849/mean-squared-error-in-numpy"
   ]
  },
  {
   "cell_type": "code",
   "execution_count": 66,
   "metadata": {},
   "outputs": [
    {
     "name": "stdout",
     "output_type": "stream",
     "text": [
      "0.009690273416961461\n"
     ]
    }
   ],
   "source": [
    "print(mse)"
   ]
  },
  {
   "cell_type": "code",
   "execution_count": 121,
   "metadata": {},
   "outputs": [
    {
     "name": "stdout",
     "output_type": "stream",
     "text": [
      "(0.01830660291673317, 1.1744098504471599e-08)\n"
     ]
    }
   ],
   "source": [
    "# integration: https://docs.scipy.org/doc/scipy/tutorial/integrate.html\n",
    "import scipy.integrate as integrate\n",
    "result = integrate.quad(squared_difference_pts, -100, 100) # error: integrand has to be a callable object, e.g., a function (floats/numbers aren't callable)\n",
    "print(result)"
   ]
  },
  {
   "cell_type": "code",
   "execution_count": 110,
   "metadata": {},
   "outputs": [
    {
     "ename": "ValueError",
     "evalue": "invalid callable given",
     "output_type": "error",
     "traceback": [
      "\u001b[1;31m---------------------------------------------------------------------------\u001b[0m",
      "\u001b[1;31mValueError\u001b[0m                                Traceback (most recent call last)",
      "Cell \u001b[1;32mIn[110], line 2\u001b[0m\n\u001b[0;32m      1\u001b[0m \u001b[38;5;28;01mfrom\u001b[39;00m \u001b[38;5;21;01mscipy\u001b[39;00m\u001b[38;5;21;01m.\u001b[39;00m\u001b[38;5;21;01mintegrate\u001b[39;00m \u001b[38;5;28;01mimport\u001b[39;00m quad\n\u001b[1;32m----> 2\u001b[0m result \u001b[38;5;241m=\u001b[39m \u001b[43mquad\u001b[49m\u001b[43m(\u001b[49m\u001b[43mmse\u001b[49m\u001b[43m,\u001b[49m\u001b[43m \u001b[49m\u001b[38;5;241;43m-\u001b[39;49m\u001b[38;5;241;43m100\u001b[39;49m\u001b[43m,\u001b[49m\u001b[43m \u001b[49m\u001b[38;5;241;43m100\u001b[39;49m\u001b[43m)\u001b[49m \u001b[38;5;66;03m# error: integrand has to be a callable object, e.g., a function (floats/numbers aren't callable)\u001b[39;00m\n\u001b[0;32m      3\u001b[0m \u001b[38;5;28mprint\u001b[39m(result)\n",
      "File \u001b[1;32mc:\\Users\\waine\\miniconda3\\miniconda\\envs\\qmcpy\\lib\\site-packages\\scipy\\integrate\\_quadpack_py.py:411\u001b[0m, in \u001b[0;36mquad\u001b[1;34m(func, a, b, args, full_output, epsabs, epsrel, limit, points, weight, wvar, wopts, maxp1, limlst)\u001b[0m\n\u001b[0;32m    408\u001b[0m flip, a, b \u001b[38;5;241m=\u001b[39m b \u001b[38;5;241m<\u001b[39m a, \u001b[38;5;28mmin\u001b[39m(a, b), \u001b[38;5;28mmax\u001b[39m(a, b)\n\u001b[0;32m    410\u001b[0m \u001b[38;5;28;01mif\u001b[39;00m weight \u001b[38;5;129;01mis\u001b[39;00m \u001b[38;5;28;01mNone\u001b[39;00m:\n\u001b[1;32m--> 411\u001b[0m     retval \u001b[38;5;241m=\u001b[39m \u001b[43m_quad\u001b[49m\u001b[43m(\u001b[49m\u001b[43mfunc\u001b[49m\u001b[43m,\u001b[49m\u001b[43m \u001b[49m\u001b[43ma\u001b[49m\u001b[43m,\u001b[49m\u001b[43m \u001b[49m\u001b[43mb\u001b[49m\u001b[43m,\u001b[49m\u001b[43m \u001b[49m\u001b[43margs\u001b[49m\u001b[43m,\u001b[49m\u001b[43m \u001b[49m\u001b[43mfull_output\u001b[49m\u001b[43m,\u001b[49m\u001b[43m \u001b[49m\u001b[43mepsabs\u001b[49m\u001b[43m,\u001b[49m\u001b[43m \u001b[49m\u001b[43mepsrel\u001b[49m\u001b[43m,\u001b[49m\u001b[43m \u001b[49m\u001b[43mlimit\u001b[49m\u001b[43m,\u001b[49m\n\u001b[0;32m    412\u001b[0m \u001b[43m                   \u001b[49m\u001b[43mpoints\u001b[49m\u001b[43m)\u001b[49m\n\u001b[0;32m    413\u001b[0m \u001b[38;5;28;01melse\u001b[39;00m:\n\u001b[0;32m    414\u001b[0m     \u001b[38;5;28;01mif\u001b[39;00m points \u001b[38;5;129;01mis\u001b[39;00m \u001b[38;5;129;01mnot\u001b[39;00m \u001b[38;5;28;01mNone\u001b[39;00m:\n",
      "File \u001b[1;32mc:\\Users\\waine\\miniconda3\\miniconda\\envs\\qmcpy\\lib\\site-packages\\scipy\\integrate\\_quadpack_py.py:523\u001b[0m, in \u001b[0;36m_quad\u001b[1;34m(func, a, b, args, full_output, epsabs, epsrel, limit, points)\u001b[0m\n\u001b[0;32m    521\u001b[0m \u001b[38;5;28;01mif\u001b[39;00m points \u001b[38;5;129;01mis\u001b[39;00m \u001b[38;5;28;01mNone\u001b[39;00m:\n\u001b[0;32m    522\u001b[0m     \u001b[38;5;28;01mif\u001b[39;00m infbounds \u001b[38;5;241m==\u001b[39m \u001b[38;5;241m0\u001b[39m:\n\u001b[1;32m--> 523\u001b[0m         \u001b[38;5;28;01mreturn\u001b[39;00m \u001b[43m_quadpack\u001b[49m\u001b[38;5;241;43m.\u001b[39;49m\u001b[43m_qagse\u001b[49m\u001b[43m(\u001b[49m\u001b[43mfunc\u001b[49m\u001b[43m,\u001b[49m\u001b[43ma\u001b[49m\u001b[43m,\u001b[49m\u001b[43mb\u001b[49m\u001b[43m,\u001b[49m\u001b[43margs\u001b[49m\u001b[43m,\u001b[49m\u001b[43mfull_output\u001b[49m\u001b[43m,\u001b[49m\u001b[43mepsabs\u001b[49m\u001b[43m,\u001b[49m\u001b[43mepsrel\u001b[49m\u001b[43m,\u001b[49m\u001b[43mlimit\u001b[49m\u001b[43m)\u001b[49m\n\u001b[0;32m    524\u001b[0m     \u001b[38;5;28;01melse\u001b[39;00m:\n\u001b[0;32m    525\u001b[0m         \u001b[38;5;28;01mreturn\u001b[39;00m _quadpack\u001b[38;5;241m.\u001b[39m_qagie(func,bound,infbounds,args,full_output,epsabs,epsrel,limit)\n",
      "\u001b[1;31mValueError\u001b[0m: invalid callable given"
     ]
    }
   ],
   "source": [
    "from scipy.integrate import quad\n",
    "result = quad(mse, -100, 100) # error: integrand has to be a callable object, e.g., a function (floats/numbers aren't callable)\n",
    "print(result)"
   ]
  },
  {
   "cell_type": "code",
   "execution_count": null,
   "metadata": {},
   "outputs": [
    {
     "ename": "ValueError",
     "evalue": "invalid callable given",
     "output_type": "error",
     "traceback": [
      "\u001b[1;31m---------------------------------------------------------------------------\u001b[0m",
      "\u001b[1;31mValueError\u001b[0m                                Traceback (most recent call last)",
      "Cell \u001b[1;32mIn[60], line 1\u001b[0m\n\u001b[1;32m----> 1\u001b[0m result \u001b[38;5;241m=\u001b[39m \u001b[43mintegrate\u001b[49m\u001b[38;5;241;43m.\u001b[39;49m\u001b[43mquad\u001b[49m\u001b[43m(\u001b[49m\u001b[38;5;241;43m1\u001b[39;49m\u001b[43m,\u001b[49m\u001b[43m \u001b[49m\u001b[38;5;241;43m-\u001b[39;49m\u001b[43mnp\u001b[49m\u001b[38;5;241;43m.\u001b[39;49m\u001b[43minf\u001b[49m\u001b[43m,\u001b[49m\u001b[43m \u001b[49m\u001b[43mnp\u001b[49m\u001b[38;5;241;43m.\u001b[39;49m\u001b[43minf\u001b[49m\u001b[43m)\u001b[49m\n\u001b[0;32m      2\u001b[0m \u001b[38;5;28mprint\u001b[39m(result)\n",
      "File \u001b[1;32mc:\\Users\\waine\\miniconda3\\miniconda\\envs\\qmcpy\\lib\\site-packages\\scipy\\integrate\\_quadpack_py.py:411\u001b[0m, in \u001b[0;36mquad\u001b[1;34m(func, a, b, args, full_output, epsabs, epsrel, limit, points, weight, wvar, wopts, maxp1, limlst)\u001b[0m\n\u001b[0;32m    408\u001b[0m flip, a, b \u001b[38;5;241m=\u001b[39m b \u001b[38;5;241m<\u001b[39m a, \u001b[38;5;28mmin\u001b[39m(a, b), \u001b[38;5;28mmax\u001b[39m(a, b)\n\u001b[0;32m    410\u001b[0m \u001b[38;5;28;01mif\u001b[39;00m weight \u001b[38;5;129;01mis\u001b[39;00m \u001b[38;5;28;01mNone\u001b[39;00m:\n\u001b[1;32m--> 411\u001b[0m     retval \u001b[38;5;241m=\u001b[39m \u001b[43m_quad\u001b[49m\u001b[43m(\u001b[49m\u001b[43mfunc\u001b[49m\u001b[43m,\u001b[49m\u001b[43m \u001b[49m\u001b[43ma\u001b[49m\u001b[43m,\u001b[49m\u001b[43m \u001b[49m\u001b[43mb\u001b[49m\u001b[43m,\u001b[49m\u001b[43m \u001b[49m\u001b[43margs\u001b[49m\u001b[43m,\u001b[49m\u001b[43m \u001b[49m\u001b[43mfull_output\u001b[49m\u001b[43m,\u001b[49m\u001b[43m \u001b[49m\u001b[43mepsabs\u001b[49m\u001b[43m,\u001b[49m\u001b[43m \u001b[49m\u001b[43mepsrel\u001b[49m\u001b[43m,\u001b[49m\u001b[43m \u001b[49m\u001b[43mlimit\u001b[49m\u001b[43m,\u001b[49m\n\u001b[0;32m    412\u001b[0m \u001b[43m                   \u001b[49m\u001b[43mpoints\u001b[49m\u001b[43m)\u001b[49m\n\u001b[0;32m    413\u001b[0m \u001b[38;5;28;01melse\u001b[39;00m:\n\u001b[0;32m    414\u001b[0m     \u001b[38;5;28;01mif\u001b[39;00m points \u001b[38;5;129;01mis\u001b[39;00m \u001b[38;5;129;01mnot\u001b[39;00m \u001b[38;5;28;01mNone\u001b[39;00m:\n",
      "File \u001b[1;32mc:\\Users\\waine\\miniconda3\\miniconda\\envs\\qmcpy\\lib\\site-packages\\scipy\\integrate\\_quadpack_py.py:525\u001b[0m, in \u001b[0;36m_quad\u001b[1;34m(func, a, b, args, full_output, epsabs, epsrel, limit, points)\u001b[0m\n\u001b[0;32m    523\u001b[0m         \u001b[38;5;28;01mreturn\u001b[39;00m _quadpack\u001b[38;5;241m.\u001b[39m_qagse(func,a,b,args,full_output,epsabs,epsrel,limit)\n\u001b[0;32m    524\u001b[0m     \u001b[38;5;28;01melse\u001b[39;00m:\n\u001b[1;32m--> 525\u001b[0m         \u001b[38;5;28;01mreturn\u001b[39;00m \u001b[43m_quadpack\u001b[49m\u001b[38;5;241;43m.\u001b[39;49m\u001b[43m_qagie\u001b[49m\u001b[43m(\u001b[49m\u001b[43mfunc\u001b[49m\u001b[43m,\u001b[49m\u001b[43mbound\u001b[49m\u001b[43m,\u001b[49m\u001b[43minfbounds\u001b[49m\u001b[43m,\u001b[49m\u001b[43margs\u001b[49m\u001b[43m,\u001b[49m\u001b[43mfull_output\u001b[49m\u001b[43m,\u001b[49m\u001b[43mepsabs\u001b[49m\u001b[43m,\u001b[49m\u001b[43mepsrel\u001b[49m\u001b[43m,\u001b[49m\u001b[43mlimit\u001b[49m\u001b[43m)\u001b[49m\n\u001b[0;32m    526\u001b[0m \u001b[38;5;28;01melse\u001b[39;00m:\n\u001b[0;32m    527\u001b[0m     \u001b[38;5;28;01mif\u001b[39;00m infbounds \u001b[38;5;241m!=\u001b[39m \u001b[38;5;241m0\u001b[39m:\n",
      "\u001b[1;31mValueError\u001b[0m: invalid callable given"
     ]
    }
   ],
   "source": [
    "result = integrate.quad(1, -np.inf, np.inf)\n",
    "print(result)"
   ]
  }
 ],
 "metadata": {
  "kernelspec": {
   "display_name": "qmcpy",
   "language": "python",
   "name": "python3"
  },
  "language_info": {
   "codemirror_mode": {
    "name": "ipython",
    "version": 3
   },
   "file_extension": ".py",
   "mimetype": "text/x-python",
   "name": "python",
   "nbconvert_exporter": "python",
   "pygments_lexer": "ipython3",
   "version": "3.9.13"
  }
 },
 "nbformat": 4,
 "nbformat_minor": 2
}
