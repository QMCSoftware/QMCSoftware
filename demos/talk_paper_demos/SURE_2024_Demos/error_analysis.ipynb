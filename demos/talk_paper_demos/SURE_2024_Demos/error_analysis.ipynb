{
 "cells": [
  {
   "cell_type": "markdown",
   "metadata": {},
   "source": [
    "# Set Up"
   ]
  },
  {
   "cell_type": "markdown",
   "metadata": {},
   "source": [
    "## Colab Installation\n",
    "\n",
    "Run the following code block if you are using this Jupyter notebook in Google Colab. Otherwise skip to importing the packages."
   ]
  },
  {
   "cell_type": "code",
   "execution_count": null,
   "metadata": {},
   "outputs": [],
   "source": [
    "# Run these statements if you are using Google Colab. Otherwise skip this step.\n",
    "!sudo apt install cm-super dvipng texlive-latex-extra texlive-latex-recommended\n",
    "!sudo apt install cm-super\n",
    "!pip install git+https://github.com/QMCSoftware/QMCSoftware.git@SURE2024"
   ]
  },
  {
   "cell_type": "markdown",
   "metadata": {},
   "source": [
    "## Importing Packages"
   ]
  },
  {
   "cell_type": "code",
   "execution_count": 1,
   "metadata": {},
   "outputs": [],
   "source": [
    "import matplotlib.pyplot as plt\n",
    "import math\n",
    "import numpy as np\n",
    "import scipy as sp\n",
    "import qmcpy as qp\n",
    "from scipy import stats\n",
    "from copy import deepcopy\n",
    "import sympy as sy\n",
    "import sympy.stats\n",
    "# figpath = '' #this path sends the figures to the directory that you want\n",
    "# savefigs = True  #save the figures on your disk if True\n",
    "# imgfrmt = 'pdf' #kind of format to save figures as"
   ]
  },
  {
   "cell_type": "markdown",
   "metadata": {},
   "source": [
    "# Definitions of Python Functions\n",
    "\n",
    "The following functions are things that will be repeatedly used in the notebook so that there isn't duplicate code all over the place."
   ]
  },
  {
   "cell_type": "markdown",
   "metadata": {},
   "source": [
    "## Graphing Functions\n",
    "\n",
    "The following functions are to help with graphing."
   ]
  },
  {
   "cell_type": "code",
   "execution_count": 2,
   "metadata": {},
   "outputs": [],
   "source": [
    "def make_grid(d=3, nper=2):\n",
    "    \"\"\"this function creates a nper^d x d matrix of grid points\"\"\"\n",
    "    xpts = np.linspace(1/(2*nper), 1.0-1/(2*nper), nper)  # array of coordinate values\n",
    "    xgrid = xpts  # initial grid\n",
    "    n = nper  # initial length of grid\n",
    "    for ii in range(1,d):\n",
    "        xgrid0 = xgrid  # store the old grid\n",
    "        xgrid = np.vstack((xgrid0, xpts[0] * np.ones((1, n))))  # stack the next coordinate\n",
    "        for jj in range(1, nper):\n",
    "            xgrid = np.hstack((xgrid, np.vstack((xgrid0, xpts[jj] * np.ones((1, n))))))\n",
    "        n = n * nper  # update the length of the grid\n",
    "    return xgrid.T  # take the transpose to that coordinates are columns\n",
    "\n",
    "def plot_grid(xgrid, coord_to_plot=[0, 1], savefig=True, figpath=''):\n",
    "    \"\"\"Plots a dot grid.\"\"\"\n",
    "    n = xgrid.shape[0]\n",
    "    d = xgrid.shape[1]\n",
    "    coord_to_plot = np.minimum(coord_to_plot, [d, d]), # ensure that they are no more than d\n",
    "    coord_to_plot = coord_to_plot[0]\n",
    "    coord_to_plot = np.maximum(coord_to_plot, [1, 1]), # ensure that they are no less than 1\n",
    "    coord_to_plot = coord_to_plot[0]\n",
    "    fig, ax = plt.subplots()\n",
    "    ax.plot(xgrid[:,coord_to_plot[0]-1], xgrid[:,coord_to_plot[1]-1], 'b.', markersize = 10, zorder=10, clip_on=False)\n",
    "    ax.set_title(f\"{n:.0f} Grid Points for $d = ${d:.0f}\")\n",
    "    ax.set_xlim([0, 1])\n",
    "    ax.set_ylim([0, 1])\n",
    "    ax.set_xlabel(r'$x_{i%d}$'%(coord_to_plot[0]), fontsize=14)\n",
    "    ax.set_ylabel(r'$x_{i%d}$'%(coord_to_plot[1]), fontsize=14)\n",
    "    ax.set_aspect(1)\n",
    "    if savefigs:\n",
    "        fig.savefig(figpath + f\"{n:.0f}gridpts_d{d:.0f}.\" + imgfrmt, format=imgfrmt)\n"
   ]
  },
  {
   "cell_type": "code",
   "execution_count": 3,
   "metadata": {},
   "outputs": [],
   "source": [
    "def graph_kernel(bandwidths, lin_spaces, kernel, ylim_lst=[-0.05, 1.2]):\n",
    "  \"\"\"Graphs a given kernel, with given bandwidths, lin_spaces\n",
    "  bandwidths = a list of bandwidths\n",
    "  lin_spaces = a list of 3 integers: start, finish, and number of points\"\"\"\n",
    "  ypts = np.linspace(lin_spaces[0], lin_spaces[1], lin_spaces[2])\n",
    "  nband = len(bandwidths)\n",
    "  fig, ax = plt.subplots(1, 3, figsize=(5*nband, 5))\n",
    "  for ii in range(nband):\n",
    "      ax[ii].plot(ypts,kernel(ypts/bandwidths[ii]) / bandwidths[ii])\n",
    "      ax[ii].grid(False)\n",
    "      ax[ii].set_ylim(ylim_lst)\n",
    "      ax[ii].set_xlabel(r'$y$', fontsize=20)\n",
    "      ax[ii].set_ylabel(r'$h = {%0.1f}$'%bandwidths[ii], fontsize=20)\n",
    "    #   if (ii == 0):\n",
    "    #       ax[ii].set_ylabel(r'$\\widetilde{k}(y) = \\exp(-(y/h)^2)/(\\sqrt{\\pi}h), \\ h = {%0.1f}$'%bandwidths[ii], fontsize=20)\n",
    "    #   else:\n",
    "    #       ax[ii].set_ylabel(r'$h = {%0.1f}$'%bandwidths[ii], fontsize=20)"
   ]
  },
  {
   "cell_type": "code",
   "execution_count": 4,
   "metadata": {},
   "outputs": [],
   "source": [
    "def generate_sobol_iid_graph(bandwidths, lin_spaces, kde, kernel, yiid, ysob, ylim_lst=[-0.05, 1.2]):\n",
    "  \"\"\"Generates a graph using IID and Sobol sample points.\n",
    "  bandwidths = a list of bandwidths\n",
    "  lin_spaces = a list of 3 integers: start, finish, and number of points\n",
    "  kde = name of kde function\n",
    "  kernel = name of kernel function\n",
    "  yiid = set of iid points\n",
    "  ysob = set of LD points generated with sobol sequence\"\"\"\n",
    "  nband = len(bandwidths)\n",
    "  yeval = np.linspace(lin_spaces[0], lin_spaces[1], lin_spaces[2])\n",
    "  for ii in range(nband):\n",
    "      rhovaliid = kde(kernel, yiid, bandwidths[ii], yeval)\n",
    "      rhovalsob = kde(kernel, ysob, bandwidths[ii], yeval)\n",
    "      fig,ax = plt.subplots()\n",
    "      ax.plot(yeval, rhovaliid, label = \"IID\")\n",
    "      ax.plot(yeval, rhovalsob, label = \"Sobol\")\n",
    "      ax.legend()\n",
    "      ax.set_ylim(ylim_lst)\n",
    "      ax.set_title(f\"$h = {bandwidths[ii]:.2f}$\")"
   ]
  },
  {
   "cell_type": "code",
   "execution_count": 5,
   "metadata": {},
   "outputs": [],
   "source": [
    "def generate_graphs(bandwidths, lin_spaces, kde, kernel, sample_points, ylim_lst=[-0.05, 1.2]):\n",
    "  \"\"\"\n",
    "  Generate graphs involving a kde, kernel, and sample_points.\n",
    "  sample_points is a list of IID, Sobol, Lattice, DNB2, and Halton points.\n",
    "  \"\"\"\n",
    "  nband = len(bandwidths)\n",
    "  yeval = np.linspace(lin_spaces[0], lin_spaces[1], lin_spaces[2])\n",
    "  rho_list = list()\n",
    "  for ii in range(nband):\n",
    "      rhovaliid = kde(kernel, sample_points[0], bandwidths[ii], yeval)\n",
    "      rhovalsob = kde(kernel, sample_points[1], bandwidths[ii], yeval)\n",
    "      rhovallattice = kde(kernel, sample_points[2], bandwidths[ii], yeval)\n",
    "      rhovaldnetb2 = kde(kernel, sample_points[3], bandwidths[ii], yeval)\n",
    "      rhovalhalton = kde(kernel, sample_points[4], bandwidths[ii], yeval)\n",
    "      fig, ax = plt.subplots()\n",
    "      ax.plot(yeval, rhovaliid, label = \"IID\")\n",
    "      ax.plot(yeval, rhovalsob, label = \"Sobol\")\n",
    "      ax.plot(yeval, rhovallattice, label = \"Lattice\")\n",
    "      ax.plot(yeval, rhovaldnetb2, label = \"Digital Net B2\")\n",
    "      ax.plot(yeval, rhovalhalton, label = \"Halton\")\n",
    "      ax.legend()\n",
    "      ax.set_ylim(ylim_lst)\n",
    "      ax.set_title(f\"$h = {bandwidths[ii]:.2f}$\")"
   ]
  },
  {
   "cell_type": "markdown",
   "metadata": {},
   "source": [
    "## Generate Functions\n",
    "\n",
    "The following functions are used to generate different types of sample points."
   ]
  },
  {
   "cell_type": "code",
   "execution_count": 6,
   "metadata": {},
   "outputs": [],
   "source": [
    "def gen_iid_and_sobol(dimen = 3, n = 2**12):\n",
    "  \"\"\"Generate IID and Sobol sample points based on given sample size and dimensions.\"\"\"\n",
    "  coord_wts = 2.0 ** (-np.array(range(0, dimen)))\n",
    "  iidpts = qp.IIDStdUniform(dimen).gen_samples(n)\n",
    "  sobpts = qp.Sobol(dimen).gen_samples(n)\n",
    "  return (iidpts, sobpts)\n",
    "\n",
    "def gen_iid_ld_pts(dimen = 3, n = 2**12):\n",
    "  \"\"\"\n",
    "  Generate IID, Sobol, Lattic, DNB2, and Halton sample points,\n",
    "  based on dimension and smaple size.\n",
    "  \"\"\"\n",
    "  coord_wts = 2.0**(-np.array(range(0, dimen)))\n",
    "  iidpts = qp.IIDStdUniform(dimen).gen_samples(n)\n",
    "  sobpts = qp.Sobol(dimen).gen_samples(n)\n",
    "  latticepts = qp.Lattice(dimen).gen_samples(n)\n",
    "  dnetb2pts = qp.DigitalNetB2(dimen).gen_samples(n)\n",
    "  haltonpts = qp.Halton(dimen).gen_samples(n)\n",
    "  return (iidpts, sobpts, latticepts, dnetb2pts, haltonpts)"
   ]
  },
  {
   "cell_type": "markdown",
   "metadata": {},
   "source": [
    "## Generating Points\n",
    "\n",
    "Generating sequences of IID and LD points, with dimensions 1 and 3."
   ]
  },
  {
   "cell_type": "code",
   "execution_count": 7,
   "metadata": {},
   "outputs": [],
   "source": [
    "# dim = 1, n = 2**12\n",
    "iidpts1, sobpts1, latticepts1, dnetb2pts1, haltonpts1 = gen_iid_ld_pts(dimen = 1, n = 2**12)\n",
    "# print(\"iid: \", iidpts1)\n",
    "# print(\"sobol: \", sobpts1)\n",
    "# print(\"lattice: \", latticepts1)\n",
    "# print(\"digital net B2: \", dnetb2pts1)\n",
    "# print(\"halton: \", haltonpts1)"
   ]
  },
  {
   "cell_type": "code",
   "execution_count": 8,
   "metadata": {},
   "outputs": [],
   "source": [
    "# dim = 1, n = 2**10\n",
    "few_iidpts1, few_sobpts1, few_latticepts1, few_dnetb2pts1, few_haltonpts1 = gen_iid_ld_pts(dimen = 1, n = 2**10)\n",
    "# print(\"iid: \", few_iidpts1)\n",
    "# print(\"sobol: \", few_sobpts1)\n",
    "# print(\"lattice: \", few_latticepts1)\n",
    "# print(\"digital net B2: \", few_dnetb2pts1)\n",
    "# print(\"halton: \", few_haltonpts1)"
   ]
  },
  {
   "cell_type": "code",
   "execution_count": 9,
   "metadata": {},
   "outputs": [],
   "source": [
    "# dim = 1, n = 2**14\n",
    "many_iidpts1, many_sobpts1, many_latticepts1, many_dnetb2pts1, many_haltonpts1 = gen_iid_ld_pts(dimen = 1, n = 2**14)\n",
    "# print(\"iid: \", many_iidpts1)\n",
    "# print(\"sobol: \", many_sobpts1)\n",
    "# print(\"lattice: \", many_latticepts1)\n",
    "# print(\"digital net B2: \", many_dnetb2pts1)\n",
    "# print(\"halton: \", many_haltonpts1)"
   ]
  },
  {
   "cell_type": "code",
   "execution_count": 10,
   "metadata": {},
   "outputs": [],
   "source": [
    "# dim = 3, n = 2**12\n",
    "iidpts3, sobpts3, latticepts3, dnetb2pts3, haltonpts3 = gen_iid_ld_pts(dimen = 3, n = 2**12)\n",
    "# print(\"iid: \", iidpts3)\n",
    "# print(\"sobol: \", sobpts3)\n",
    "# print(\"lattice: \", latticepts3)\n",
    "# print(\"digital net B2: \", dnetb2pts3)\n",
    "# print(\"halton: \", haltonpts3)"
   ]
  },
  {
   "cell_type": "code",
   "execution_count": 11,
   "metadata": {},
   "outputs": [],
   "source": [
    "# dim = 3, n = 2**10\n",
    "few_iidpts3, few_sobpts3, few_latticepts3, few_dnetb2pts3, few_haltonpts3 = gen_iid_ld_pts(dimen = 3, n = 2**10)\n",
    "# print(\"iid: \", few_iidpts3)\n",
    "# print(\"sobol: \", few_sobpts3)\n",
    "# print(\"lattice: \", few_latticepts3)\n",
    "# print(\"digital net B2: \", few_dnetb2pts3)\n",
    "# print(\"halton: \", few_haltonpts3)"
   ]
  },
  {
   "cell_type": "code",
   "execution_count": 12,
   "metadata": {},
   "outputs": [],
   "source": [
    "# dim = 3, n = 2**14\n",
    "many_iidpts3, many_sobpts3, many_latticepts3, many_dnetb2pts3, many_haltonpts3 = gen_iid_ld_pts(dimen = 3, n = 2**14)\n",
    "# print(\"iid: \", many_iidpts3)\n",
    "# print(\"sobol: \", many_sobpts3)\n",
    "# print(\"lattice: \", many_latticepts3)\n",
    "# print(\"digital net B2: \", many_dnetb2pts3)\n",
    "# print(\"halton: \", many_haltonpts3)"
   ]
  },
  {
   "cell_type": "markdown",
   "metadata": {},
   "source": [
    "## Kernels and KDEs\n",
    "\n",
    "The following are definitions of different kernels used in the notebook. Some may be defined later, but these are ones used throughout the notebook or commonly used/known."
   ]
  },
  {
   "cell_type": "markdown",
   "metadata": {},
   "source": [
    "The gaussian kernel defined below represents the following:\n",
    "\n",
    "$$\n",
    "\\frac{e^{-y^2}}{\\sqrt{\\pi}}\n",
    "$$"
   ]
  },
  {
   "cell_type": "code",
   "execution_count": 13,
   "metadata": {},
   "outputs": [],
   "source": [
    "def kernel(y):\n",
    "    return np.exp(-y * y) / np.sqrt(np.pi)"
   ]
  },
  {
   "cell_type": "markdown",
   "metadata": {},
   "source": [
    "#### Generate some $y_i=f(x_i)$ points\n",
    "$\n",
    "f(\\mathbf{x}) = 10 \\exp(- w_1x_1 - \\cdots - w_d x_d) \\sin(w_1x_1 + \\cdots +w_d x_d)\n",
    "$"
   ]
  },
  {
   "cell_type": "code",
   "execution_count": 14,
   "metadata": {},
   "outputs": [],
   "source": [
    "def testfun1(x, coord_wts = 1): # function f(x) defines the random variable\n",
    "    wtx = np.multiply(x, coord_wts)\n",
    "    y = 10 * np.exp(-wtx.sum(1)) * np.sin(np.pi * wtx.sum(1))\n",
    "    #y = x[:,0] # if x is uniform, then y is uniform\n",
    "    return y"
   ]
  },
  {
   "cell_type": "code",
   "execution_count": 15,
   "metadata": {},
   "outputs": [],
   "source": [
    "yiid1 = testfun1(iidpts1)\n",
    "ysob1 = testfun1(sobpts1)\n",
    "\n",
    "yiid3 = testfun1(iidpts3)\n",
    "ysob3 = testfun1(sobpts3)"
   ]
  },
  {
   "cell_type": "code",
   "execution_count": 16,
   "metadata": {},
   "outputs": [],
   "source": [
    "many_yiid1 = testfun1(many_iidpts1)\n",
    "many_ysob1 = testfun1(many_sobpts1)\n",
    "\n",
    "many_yiid3 = testfun1(many_iidpts3)\n",
    "many_ysob3 = testfun1(many_sobpts3)"
   ]
  },
  {
   "cell_type": "code",
   "execution_count": 17,
   "metadata": {},
   "outputs": [],
   "source": [
    "few_yiid1 = testfun1(few_iidpts1)\n",
    "few_ysob1 = testfun1(few_sobpts1)\n",
    "\n",
    "few_yiid3 = testfun1(few_iidpts3)\n",
    "few_ysob3 = testfun1(few_sobpts3)"
   ]
  },
  {
   "cell_type": "markdown",
   "metadata": {},
   "source": [
    "The following *Kernel Density Estimator* (KDE)\n",
    "\n",
    "$$\n",
    "\\varrho() = \\frac{k\\left(\\frac{y - Y}{h}\\right)}{h}\n",
    "$$\n",
    "\n",
    "*(Still needs work.)*"
   ]
  },
  {
   "cell_type": "code",
   "execution_count": 18,
   "metadata": {},
   "outputs": [],
   "source": [
    "def kde(kernel, ypts, bandwidth, yeval):\n",
    "    neval = len(yeval)\n",
    "    rhoval = np.zeros_like(yeval) #values of density estimator\n",
    "    for ii in range(len(yeval)):\n",
    "        rhoval[ii] = np.mean(kernel((yeval[ii]-ypts) / bandwidth)) / bandwidth\n",
    "    return rhoval"
   ]
  },
  {
   "cell_type": "markdown",
   "metadata": {},
   "source": [
    "# Kernel Density Estimator for Uniform Distribution"
   ]
  },
  {
   "cell_type": "code",
   "execution_count": 19,
   "metadata": {},
   "outputs": [],
   "source": [
    "def testfun_unif(x, coord_wts = 1): # function f(x) defines the random variable\n",
    "    wtx = np.multiply(x, coord_wts)\n",
    "    # y = 10*np.exp(-wtx.sum(1))*np.sin(np.pi*wtx.sum(1))\n",
    "    y = x[:,0] # if x is uniform, then y is uniform\n",
    "    return y"
   ]
  },
  {
   "cell_type": "code",
   "execution_count": 20,
   "metadata": {},
   "outputs": [],
   "source": [
    "yiid_unif1 = testfun_unif(iidpts1)\n",
    "ysob_unif1 = testfun_unif(sobpts1)\n",
    "\n",
    "yiid_unif3 = testfun_unif(iidpts3)\n",
    "ysob_unif3 = testfun_unif(sobpts3)"
   ]
  },
  {
   "cell_type": "code",
   "execution_count": 21,
   "metadata": {},
   "outputs": [],
   "source": [
    "many_yiid_unif1 = testfun_unif(many_iidpts1)\n",
    "many_ysob_unif1 = testfun_unif(many_sobpts1)\n",
    "\n",
    "many_yiid_unif3 = testfun_unif(many_iidpts3)\n",
    "many_ysob_unif3 = testfun_unif(many_sobpts3)"
   ]
  },
  {
   "cell_type": "code",
   "execution_count": 22,
   "metadata": {},
   "outputs": [],
   "source": [
    "few_yiid_unif1 = testfun_unif(few_iidpts1)\n",
    "few_ysob_unif1 = testfun_unif(few_sobpts1)\n",
    "\n",
    "few_yiid_unif3 = testfun_unif(few_iidpts3)\n",
    "few_ysob_unif3 = testfun_unif(few_sobpts3)"
   ]
  },
  {
   "cell_type": "markdown",
   "metadata": {},
   "source": [
    "# Testing different LD sequences: Sobol, Lattice, Digital Net B2, and Halton"
   ]
  },
  {
   "cell_type": "code",
   "execution_count": 23,
   "metadata": {},
   "outputs": [],
   "source": [
    "# iidpts1, sobpts1, latticepts1, dnetb2pts1, haltonpts1 = gen_iid_ld_pts()\n",
    "points1 = gen_iid_ld_pts(dimen = 1, n = 2**12) # dim = 1\n",
    "points3 = gen_iid_ld_pts(dimen = 3, n = 2**12) # dim = 3"
   ]
  },
  {
   "cell_type": "code",
   "execution_count": 24,
   "metadata": {},
   "outputs": [],
   "source": [
    "# using original function f(x)\n",
    "\n",
    "lst_points1 = list()\n",
    "lst_points3 = list()\n",
    "\n",
    "for pts in points1:\n",
    "  lst_points1.append(testfun1(pts))\n",
    "\n",
    "for pts in points3:\n",
    "  lst_points3.append(testfun1(pts))"
   ]
  },
  {
   "cell_type": "markdown",
   "metadata": {},
   "source": [
    "# Testing Different Kernels"
   ]
  },
  {
   "cell_type": "markdown",
   "metadata": {},
   "source": [
    "The following Python function definition is the expression:\n",
    "\n",
    "$$\n",
    "y=\\begin{cases}\n",
    "            \\frac{\\pi}{4}\\cos\\left(\\frac{\\pi}{2} y\\right), & |y| \\leq 1\\\\\n",
    "            0, & Otherwise\n",
    "        \\end{cases}\n",
    "$$"
   ]
  },
  {
   "cell_type": "code",
   "execution_count": 25,
   "metadata": {},
   "outputs": [],
   "source": [
    "# cosine--has best performance according to paper?\n",
    "def kernel_cos(y):\n",
    "    return np.heaviside(1-np.absolute(y), 1/2)*(math.pi/4)*np.cos((math.pi/2)*y)"
   ]
  },
  {
   "cell_type": "markdown",
   "metadata": {},
   "source": [
    "The following Python function defines the kernel:\n",
    "\n",
    "$$\n",
    "y=\\begin{cases}\n",
    "            1 - |y|, & |y| \\leq 1\\\\\n",
    "            0, & Otherwise\n",
    "        \\end{cases}\n",
    "$$"
   ]
  },
  {
   "cell_type": "code",
   "execution_count": 26,
   "metadata": {},
   "outputs": [],
   "source": [
    "# triangular kernel\n",
    "def kernel_tri(y):\n",
    "    return np.heaviside(1-np.absolute(y), 1/2)*(1 - np.absolute(y))"
   ]
  },
  {
   "cell_type": "markdown",
   "metadata": {},
   "source": [
    "The following Python function defines the kernel:\n",
    "\n",
    "$$\n",
    "y=\\begin{cases}\n",
    "            \\frac{1}{\\pi} (1-\\frac{y^2}{2}) e^-(\\frac{y^2}{2}), & |y| \\leq 1\\\\\n",
    "            0, & Otherwise\n",
    "        \\end{cases}\n",
    "$$"
   ]
  },
  {
   "cell_type": "code",
   "execution_count": 27,
   "metadata": {},
   "outputs": [],
   "source": [
    "# laplacian of Gaussian--performed poorly according to paper\n",
    "def kernel_laog(y):\n",
    "    return np.heaviside(1-np.absolute(y), 1/2)*((1/math.pi)*(1-(y**2)/2)*np.exp(-(y**2)/2))"
   ]
  },
  {
   "cell_type": "markdown",
   "metadata": {},
   "source": [
    "## Hermite Kernel\n",
    "\n",
    "The following comes from Dr. Hickernell's KDE experiment notebook.\n"
   ]
  },
  {
   "cell_type": "code",
   "execution_count": 28,
   "metadata": {},
   "outputs": [],
   "source": [
    "# Original hermite kernel function from Dr. Hickernell\n",
    "y = sy.symbols('y', real = True)\n",
    "h = sy.symbols('h', positive = True)\n",
    "def sy_hermite_kernel(y = sy.symbols('y', real = True), band_width = sy.symbols('h', positive = True), r = 1, only_coef = False):\n",
    "    '''\n",
    "    band_width = the kernel band width, often denoted h; a smaller bandwidth means a peakier kernel\n",
    "    r = number of terms in our kernel\n",
    "    '''\n",
    "    \n",
    "#    import sympy as sy\n",
    "    wt = sy.exp(-y*y) #normalizing weight for Hermite functions\n",
    "    k = sy.zeros(r,1) #initialize a vector of bases that make up the kernel\n",
    "    intk = sy.zeros(r,r) #initialize a matrix of integrals of the bases with respect to even degree polynomials\n",
    "    for ii in range(r):\n",
    "        k[ii] = sy.hermite(2*ii,y)*wt #form the bases\n",
    "        for jj in range(r):\n",
    "            intk[jj,ii] = sy.integrate(k[ii]*(y**(2*jj)),(y,-sy.oo,sy.oo)) #evaluate the integrals against even degree monomials\n",
    "            # to hardcode the above line:\n",
    "            # r = 0: intk[jj, ii] = (np.exp(-y**2))/((math.pi)**0.5)\n",
    "            # r = 1: intk[jj, ii] = ((3-2*y**2)*np.exp(-y**2))/(2*(math.pi)**0.5)\n",
    "            # r = 2: intk[jj, ii] = ((4*y**4 - 20*y**2 +15)*np.exp(-y**2))/(8*(math.pi)**0.5)\n",
    "    tot_int = sy.Matrix.vstack(sy.ones(1,1),sy.zeros(r-1,1)) #the kernel should integrate to one, \n",
    "        #and the kernel integrated against y, y^2, ..., y^r should be zero\n",
    "#    print(tot_int)\n",
    "    coef = sy.Matrix(list(sy.linsolve((intk,tot_int)))) #solve the system of equations for the coefficients of the bases\n",
    "    if only_coef:\n",
    "        return coef\n",
    "    print(coef)\n",
    "#    ktilde = coef.dot(k)\n",
    "#    integk = sy.integrate(ktilde,(y,-sy.oo,sy.oo))\n",
    "#    print('integk =',integk)\n",
    "    ktilde = coef.dot(k.subs(y,y/band_width)/band_width) #form the isotropic kernel and insert the bandwidth dependency\n",
    "#    integ = sy.integrate(ktilde,(y,-sy.oo,sy.oo))\n",
    "#    print('integ =',integ)\n",
    "#    print(band_width)\n",
    "#    print(ktilde)\n",
    "    return coef.dot(k.subs(y,y/band_width)/band_width)"
   ]
  },
  {
   "cell_type": "code",
   "execution_count": 29,
   "metadata": {},
   "outputs": [
    {
     "name": "stdout",
     "output_type": "stream",
     "text": [
      "Matrix([[1/sqrt(pi)]])\n",
      "<class 'sympy.core.mul.Mul'>\n",
      "kernel = exp(-y**2/h**2)/(sqrt(pi)*h)\n",
      "integ = 1\n",
      "Matrix([[1/sqrt(pi)]])\n",
      "Matrix([[1/sqrt(pi), -1/(4*sqrt(pi))]])\n",
      "Matrix([[1/sqrt(pi), -1/(4*sqrt(pi)), 1/(32*sqrt(pi))]])\n"
     ]
    }
   ],
   "source": [
    "# testing original hermite kernel function\n",
    "\n",
    "test_kernel_sy = sy_hermite_kernel(r=1) # r = number terms in kernel\n",
    "print(type(test_kernel_sy))\n",
    "print('kernel =',test_kernel_sy)\n",
    "integ = sy.integrate(test_kernel_sy,(y,-sy.oo,sy.oo))\n",
    "print('integ =',integ) # should be 1\n",
    "test_kernel_sy = sy_hermite_kernel(r=1,only_coef = True)\n",
    "print(test_kernel_sy)\n",
    "test_kernel_sy = sy_hermite_kernel(r=2,only_coef = True)\n",
    "print(test_kernel_sy)\n",
    "test_kernel_sy = sy_hermite_kernel(r=3,only_coef = True)\n",
    "print(test_kernel_sy)"
   ]
  },
  {
   "cell_type": "code",
   "execution_count": 30,
   "metadata": {},
   "outputs": [],
   "source": [
    "# hardcoding hermite kernel coefficients\n",
    "\n",
    "def hardcode_hermite_kernel(r):\n",
    "    '''\n",
    "    returns hermite coefficients for r = 0, 1, or 2\n",
    "    band_width = the kernel band width, often denoted h; a smaller bandwidth means a peakier kernel\n",
    "    r = number of terms in our kernel\n",
    "    '''\n",
    "    if r==0:\n",
    "        return sy.Matrix([[1/(math.pi)**0.5]])\n",
    "    elif r==1:\n",
    "        return sy.Matrix([[1/(math.pi)**0.5, -1/(4*(math.pi)**0.5)]])\n",
    "    elif r==2:\n",
    "        return sy.Matrix([[1/(math.pi)**0.5, -1/(4*(math.pi)**0.5), 1/(32*(math.pi)**0.5)]])\n",
    "    else:\n",
    "        raise ValueError(\"Invalid input. r must be 0, 1, or 2.\")\n",
    "    \n",
    "# Coefficients: \n",
    "# r = 0 (corresponds to r = 1 from original function): Matrix([[1/sqrt(pi)]])\n",
    "# r = 1 (corresponds to r = 2 from original function): Matrix([[1/sqrt(pi), -1/(4*sqrt(pi))]])\n",
    "# r = 2 (correpsonds to r = 3 from original function): Matrix([[1/sqrt(pi), -1/(4*sqrt(pi)), 1/(32*sqrt(pi))]])"
   ]
  },
  {
   "cell_type": "code",
   "execution_count": 31,
   "metadata": {},
   "outputs": [
    {
     "name": "stdout",
     "output_type": "stream",
     "text": [
      "<class 'sympy.matrices.dense.MutableDenseMatrix'>\n",
      "kernel = Matrix([[0.564189583547756]])\n",
      "Matrix([[0.564189583547756, -0.141047395886939]])\n",
      "Matrix([[0.564189583547756, -0.141047395886939, 0.0176309244858674]])\n"
     ]
    }
   ],
   "source": [
    "# testing hardcoded hermite kernel\n",
    "\n",
    "test_kernel = hardcode_hermite_kernel(r=0) # r = number terms in kernel\n",
    "print(type(test_kernel))\n",
    "print('kernel =',test_kernel)\n",
    "test_kernel = hardcode_hermite_kernel(r=1)\n",
    "print(test_kernel)\n",
    "test_kernel = hardcode_hermite_kernel(r=2)\n",
    "print(test_kernel)"
   ]
  },
  {
   "cell_type": "code",
   "execution_count": 32,
   "metadata": {},
   "outputs": [],
   "source": [
    "# original function: define hermite kernel for r = 1 (corresopnds to r = 0 in the hardcoded case)\n",
    "def hermite_kernel(y, r = 1):\n",
    "    '''\n",
    "    r = number of terms in our kernel\n",
    "    '''\n",
    "    coef = np.array(sy.N(sy_hermite_kernel(r = r, only_coef = True)))\n",
    "    # print(coef)\n",
    "    poly = sp.special.hermite(0)\n",
    "    # print(poly)\n",
    "    k = sp.special.hermite(0)(y)*coef[0] #initialize a vector of kernel values\n",
    "    # print(k)\n",
    "    for ii in range(1,r):\n",
    "        k += sp.special.hermite(2*ii)(y)*coef[ii] #add the additional terms\n",
    "    k*=np.exp(-y*y/2) #normalizing weight for Hermite functions #form the isotropic kernel and insert the bandwidth dependency\n",
    "    return k"
   ]
  },
  {
   "cell_type": "code",
   "execution_count": 33,
   "metadata": {},
   "outputs": [],
   "source": [
    "# hardcoded: define hermite kernel for r = 0 (corresponds to r = 1 in the original case)\n",
    "def hardcode_hermite_kernel_weight(y, r = 0):\n",
    "    '''\n",
    "    r = number of terms in our kernel\n",
    "    '''\n",
    "    coef = np.array((hardcode_hermite_kernel(r = r)))\n",
    "    # print(coef)\n",
    "    poly = sp.special.hermite(0)\n",
    "    # print(poly)\n",
    "    k = sp.special.hermite(0)(y)*coef[0][0] #initialize a vector of kernel values\n",
    "    # print(k)\n",
    "    for ii in range(0,r):\n",
    "        k += sp.special.hermite(2*ii)(y)*coef[0][ii] #add the additional terms\n",
    "    k*=np.exp(-y*y/2) #normalizing weight for Hermite functions #form the isotropic kernel and insert the bandwidth dependency\n",
    "    return k"
   ]
  },
  {
   "cell_type": "code",
   "execution_count": 34,
   "metadata": {},
   "outputs": [],
   "source": [
    "# original: define hermite kernel for r = 2 (corresopnds to r = 1 in the hardcoded case)\n",
    "def hermite_kernel_2(y, r = 2):\n",
    "    '''\n",
    "    r = number of terms in our kernel\n",
    "    '''\n",
    "    coef = np.array(sy.N(sy_hermite_kernel(r = r, only_coef = True)))\n",
    "    # print(coef)\n",
    "    poly = sp.special.hermite(0) # why use the 0th polynomial?\n",
    "    # print(poly)\n",
    "    # for i in range(len(coef[0])):\n",
    "    #     print(coef[0][i])\n",
    "    k = sp.special.hermite(0)(y)*coef[0][0] #initialize a vector of kernel values\n",
    "    # print(k)\n",
    "    for ii in range(1,r):\n",
    "        k += sp.special.hermite(2*ii)(y)*coef[0][ii] #add the additional terms\n",
    "    k*=np.exp(-y*y/2) #normalizing weight for Hermite functions #form the isotropic kernel and insert the bandwidth dependency\n",
    "    return k"
   ]
  },
  {
   "cell_type": "code",
   "execution_count": 35,
   "metadata": {},
   "outputs": [],
   "source": [
    "# hardcoded: define hermite kernel for r = 1 (corresponds to r = 2 in the original case)\n",
    "def hardcode_hermite_kernel_weight_1(y, r = 1):\n",
    "    '''\n",
    "    r = number of terms in our kernel\n",
    "    '''\n",
    "    coef = np.array((hardcode_hermite_kernel(r = r)))\n",
    "    # print(coef)\n",
    "    poly = sp.special.hermite(0)\n",
    "    # print(poly)\n",
    "    k = sp.special.hermite(0)(y)*coef[0][0] #initialize a vector of kernel values\n",
    "    # print(k)\n",
    "    for ii in range(0,r):\n",
    "        k += sp.special.hermite(2*ii)(y)*coef[0][ii] #add the additional terms\n",
    "    k*=np.exp(-y*y/2) #normalizing weight for Hermite functions #form the isotropic kernel and insert the bandwidth dependency\n",
    "    return k"
   ]
  },
  {
   "cell_type": "code",
   "execution_count": 36,
   "metadata": {},
   "outputs": [],
   "source": [
    "# hardcoded: define hermite kernel for r = 2 (corresponds to r = 3 in the original case)\n",
    "def hardcode_hermite_kernel_weight_2(y, r = 2):\n",
    "    '''\n",
    "    r = number of terms in our kernel\n",
    "    '''\n",
    "    coef = np.array((hardcode_hermite_kernel(r = r)))\n",
    "    # print(coef)\n",
    "    poly = sp.special.hermite(0)\n",
    "    # print(poly)\n",
    "    k = sp.special.hermite(0)(y)*coef[0][0] #initialize a vector of kernel values\n",
    "    # print(k)\n",
    "    for ii in range(0,r):\n",
    "        k += sp.special.hermite(2*ii)(y)*coef[0][ii] #add the additional terms\n",
    "    k*=np.exp(-y*y/2) #normalizing weight for Hermite functions #form the isotropic kernel and insert the bandwidth dependency\n",
    "    return k"
   ]
  },
  {
   "cell_type": "code",
   "execution_count": 37,
   "metadata": {},
   "outputs": [
    {
     "name": "stdout",
     "output_type": "stream",
     "text": [
      "y = [-1.   -0.25  0.5   1.25  2.  ]\n",
      "<class 'numpy.ndarray'>\n",
      "<class 'numpy.ndarray'>\n",
      "k = [0.342198280312217 0.546831294919853 0.497895559951388 0.258304813712196\n",
      " 0.0763547570885822]\n"
     ]
    }
   ],
   "source": [
    "# example hermite kernel\n",
    "y = np.linspace(-1,2,5)\n",
    "print('y =',y)\n",
    "print(type(y))\n",
    "k = hermite_kernel(y,r=1)\n",
    "print(type(k))\n",
    "print('k =',k)"
   ]
  },
  {
   "cell_type": "code",
   "execution_count": 38,
   "metadata": {},
   "outputs": [
    {
     "name": "stdout",
     "output_type": "stream",
     "text": [
      "y = [-1.   -0.25  0.5   1.25  2.  ]\n",
      "<class 'numpy.ndarray'>\n",
      "<class 'numpy.ndarray'>\n",
      "k = [0.342198280312217 0.546831294919853 0.497895559951388 0.258304813712196\n",
      " 0.0763547570885822]\n"
     ]
    }
   ],
   "source": [
    "# example hardcoded hermite kernel\n",
    "y = np.linspace(-1,2,5)\n",
    "print('y =',y)\n",
    "print(type(y))\n",
    "k = hardcode_hermite_kernel_weight(y,r=0) # r=0 for hardcoded kernel corresponds to r=1 for original kernel\n",
    "print(type(k))\n",
    "print('k =',k)"
   ]
  },
  {
   "cell_type": "markdown",
   "metadata": {},
   "source": [
    "## Testing Different Functions f(x)--using Gaussian kernel in all cases."
   ]
  },
  {
   "cell_type": "markdown",
   "metadata": {},
   "source": [
    "### Exponential Distribution: \n",
    "\n",
    "If X has a standard uniform distribution, i.e., $X \\sim U(0, 1)$, then the random variable $Y = -\\lambda^{-1} ln(X)$ has an exponential distribution with rate parameter $\\lambda$."
   ]
  },
  {
   "cell_type": "code",
   "execution_count": 39,
   "metadata": {},
   "outputs": [],
   "source": [
    "# exponential, lambda = 1:\n",
    "def testfun_exp(x,coord_wts = 1): # function f(x) defines the random variable\n",
    "    wtx = np.multiply(x,coord_wts)\n",
    "    y = -np.log(wtx)\n",
    "    return y"
   ]
  },
  {
   "cell_type": "code",
   "execution_count": 40,
   "metadata": {},
   "outputs": [],
   "source": [
    "yiid1_exp = testfun_exp(iidpts1)\n",
    "ysob1_exp = testfun_exp(sobpts1)\n",
    "\n",
    "yiid3_exp = testfun_exp(iidpts3)\n",
    "ysob3_exp = testfun_exp(sobpts3)"
   ]
  },
  {
   "cell_type": "markdown",
   "metadata": {},
   "source": [
    "### Laplace Distribution:\n",
    "\n",
    "If X and Y have a standard uniform distribution, i.e., $X, Y \\sim U(0, 1)$, then $\\log{}{\\frac{X}{Y}} \\sim \\text{Laplace}(0, 1)$. "
   ]
  },
  {
   "cell_type": "code",
   "execution_count": 41,
   "metadata": {},
   "outputs": [],
   "source": [
    "## laplace: mu = 0, b = 1\n",
    "def testfun_laplace(x1,x2,coord_wts = 1): # function f(x) defines the random variable\n",
    "    wtx1 = np.multiply(x1,coord_wts)\n",
    "    wtx2 = np.multiply(x2,coord_wts)\n",
    "    y = np.log10(wtx1/wtx2)\n",
    "    return y"
   ]
  },
  {
   "cell_type": "code",
   "execution_count": 42,
   "metadata": {},
   "outputs": [],
   "source": [
    "# making a second set of iid and sobol points\n",
    "\n",
    "iidpts1_2, sobpts1_2 = gen_iid_and_sobol(dimen = 1, n = 2**12)\n",
    "iidpts3_2, sobpts3_2 = gen_iid_and_sobol(dimen = 3, n = 2**12)"
   ]
  },
  {
   "cell_type": "code",
   "execution_count": 43,
   "metadata": {},
   "outputs": [],
   "source": [
    "yiid_laplace = testfun_laplace(iidpts1, iidpts1_2) \n",
    "ysob_laplace = testfun_laplace(sobpts1, sobpts1_2)\n",
    "\n",
    "yiid_laplace_3 = testfun_laplace(iidpts3, iidpts3_2) \n",
    "ysob_laplace_3 = testfun_laplace(sobpts3, sobpts3_2)"
   ]
  },
  {
   "cell_type": "code",
   "execution_count": 44,
   "metadata": {},
   "outputs": [
    {
     "data": {
      "text/plain": [
       "array([[0.02620679],\n",
       "       [0.01133937],\n",
       "       [0.44408455],\n",
       "       ...,\n",
       "       [0.23970907],\n",
       "       [0.03077559],\n",
       "       [0.2491792 ]])"
      ]
     },
     "execution_count": 44,
     "metadata": {},
     "output_type": "execute_result"
    }
   ],
   "source": [
    "iidpts1_2"
   ]
  },
  {
   "cell_type": "code",
   "execution_count": 45,
   "metadata": {},
   "outputs": [
    {
     "data": {
      "text/plain": [
       "(4096, 1)"
      ]
     },
     "execution_count": 45,
     "metadata": {},
     "output_type": "execute_result"
    }
   ],
   "source": [
    "iidpts1_2.shape"
   ]
  },
  {
   "cell_type": "markdown",
   "metadata": {},
   "source": [
    "## Error Analysis:"
   ]
  },
  {
   "cell_type": "markdown",
   "metadata": {},
   "source": [
    "### Exponential Distribution"
   ]
  },
  {
   "cell_type": "code",
   "execution_count": 75,
   "metadata": {},
   "outputs": [
    {
     "data": {
      "text/plain": [
       "[<matplotlib.lines.Line2D at 0x17ba27ed8e0>]"
      ]
     },
     "execution_count": 75,
     "metadata": {},
     "output_type": "execute_result"
    },
    {
     "data": {
      "image/png": "[encoded data removed]",
      "text/plain": [
       "<Figure size 640x480 with 1 Axes>"
      ]
     },
     "metadata": {},
     "output_type": "display_data"
    }
   ],
   "source": [
    "from scipy.stats import expon\n",
    "import matplotlib.pyplot as plt\n",
    "fig, ax = plt.subplots(1, 1)\n",
    "\n",
    "x = np.linspace(-4, 8, 500)\n",
    "ax.plot(x, expon.pdf(x),\n",
    "       'r-', lw=5, alpha=0.6, label='expon pdf')"
   ]
  },
  {
   "cell_type": "code",
   "execution_count": 76,
   "metadata": {},
   "outputs": [],
   "source": [
    "exp_pdf_values = expon.pdf(x)"
   ]
  },
  {
   "cell_type": "code",
   "execution_count": 78,
   "metadata": {},
   "outputs": [
    {
     "data": {
      "text/plain": [
       "(500,)"
      ]
     },
     "execution_count": 78,
     "metadata": {},
     "output_type": "execute_result"
    }
   ],
   "source": [
    "exp_pdf_values.shape"
   ]
  },
  {
   "cell_type": "code",
   "execution_count": 82,
   "metadata": {},
   "outputs": [
    {
     "data": {
      "text/plain": [
       "array([0.00000000e+00, 0.00000000e+00, 0.00000000e+00, 0.00000000e+00,\n",
       "       0.00000000e+00, 0.00000000e+00, 0.00000000e+00, 0.00000000e+00,\n",
       "       0.00000000e+00, 0.00000000e+00, 0.00000000e+00, 0.00000000e+00,\n",
       "       0.00000000e+00, 0.00000000e+00, 0.00000000e+00, 0.00000000e+00,\n",
       "       0.00000000e+00, 0.00000000e+00, 0.00000000e+00, 0.00000000e+00,\n",
       "       0.00000000e+00, 0.00000000e+00, 0.00000000e+00, 0.00000000e+00,\n",
       "       0.00000000e+00, 0.00000000e+00, 0.00000000e+00, 0.00000000e+00,\n",
       "       0.00000000e+00, 0.00000000e+00, 0.00000000e+00, 0.00000000e+00,\n",
       "       0.00000000e+00, 0.00000000e+00, 0.00000000e+00, 0.00000000e+00,\n",
       "       0.00000000e+00, 0.00000000e+00, 0.00000000e+00, 0.00000000e+00,\n",
       "       0.00000000e+00, 0.00000000e+00, 0.00000000e+00, 0.00000000e+00,\n",
       "       0.00000000e+00, 0.00000000e+00, 0.00000000e+00, 0.00000000e+00,\n",
       "       0.00000000e+00, 0.00000000e+00, 0.00000000e+00, 0.00000000e+00,\n",
       "       0.00000000e+00, 0.00000000e+00, 0.00000000e+00, 0.00000000e+00,\n",
       "       0.00000000e+00, 0.00000000e+00, 0.00000000e+00, 0.00000000e+00,\n",
       "       0.00000000e+00, 0.00000000e+00, 0.00000000e+00, 0.00000000e+00,\n",
       "       0.00000000e+00, 0.00000000e+00, 0.00000000e+00, 0.00000000e+00,\n",
       "       0.00000000e+00, 0.00000000e+00, 0.00000000e+00, 0.00000000e+00,\n",
       "       0.00000000e+00, 0.00000000e+00, 0.00000000e+00, 0.00000000e+00,\n",
       "       0.00000000e+00, 0.00000000e+00, 0.00000000e+00, 0.00000000e+00,\n",
       "       0.00000000e+00, 0.00000000e+00, 0.00000000e+00, 0.00000000e+00,\n",
       "       0.00000000e+00, 0.00000000e+00, 0.00000000e+00, 0.00000000e+00,\n",
       "       0.00000000e+00, 0.00000000e+00, 0.00000000e+00, 0.00000000e+00,\n",
       "       0.00000000e+00, 0.00000000e+00, 0.00000000e+00, 0.00000000e+00,\n",
       "       0.00000000e+00, 0.00000000e+00, 0.00000000e+00, 0.00000000e+00,\n",
       "       0.00000000e+00, 0.00000000e+00, 0.00000000e+00, 0.00000000e+00,\n",
       "       0.00000000e+00, 0.00000000e+00, 0.00000000e+00, 0.00000000e+00,\n",
       "       0.00000000e+00, 0.00000000e+00, 0.00000000e+00, 0.00000000e+00,\n",
       "       0.00000000e+00, 0.00000000e+00, 0.00000000e+00, 0.00000000e+00,\n",
       "       0.00000000e+00, 0.00000000e+00, 0.00000000e+00, 0.00000000e+00,\n",
       "       0.00000000e+00, 0.00000000e+00, 0.00000000e+00, 0.00000000e+00,\n",
       "       0.00000000e+00, 0.00000000e+00, 0.00000000e+00, 0.00000000e+00,\n",
       "       0.00000000e+00, 0.00000000e+00, 0.00000000e+00, 0.00000000e+00,\n",
       "       0.00000000e+00, 0.00000000e+00, 0.00000000e+00, 0.00000000e+00,\n",
       "       0.00000000e+00, 0.00000000e+00, 0.00000000e+00, 0.00000000e+00,\n",
       "       0.00000000e+00, 0.00000000e+00, 0.00000000e+00, 0.00000000e+00,\n",
       "       0.00000000e+00, 0.00000000e+00, 0.00000000e+00, 0.00000000e+00,\n",
       "       0.00000000e+00, 0.00000000e+00, 0.00000000e+00, 0.00000000e+00,\n",
       "       0.00000000e+00, 0.00000000e+00, 0.00000000e+00, 0.00000000e+00,\n",
       "       0.00000000e+00, 0.00000000e+00, 0.00000000e+00, 0.00000000e+00,\n",
       "       0.00000000e+00, 0.00000000e+00, 0.00000000e+00, 0.00000000e+00,\n",
       "       0.00000000e+00, 0.00000000e+00, 0.00000000e+00, 9.84095765e-01,\n",
       "       9.60712425e-01, 9.37884702e-01, 9.15599394e-01, 8.93843613e-01,\n",
       "       8.72604776e-01, 8.51870600e-01, 8.31629094e-01, 8.11868552e-01,\n",
       "       7.92577545e-01, 7.73744916e-01, 7.55359773e-01, 7.37411485e-01,\n",
       "       7.19889670e-01, 7.02784196e-01, 6.86085168e-01, 6.69782931e-01,\n",
       "       6.53868055e-01, 6.38331336e-01, 6.23163789e-01, 6.08356641e-01,\n",
       "       5.93901330e-01, 5.79789495e-01, 5.66012975e-01, 5.52563802e-01,\n",
       "       5.39434199e-01, 5.26616571e-01, 5.14103505e-01, 5.01887766e-01,\n",
       "       4.89962288e-01, 4.78320174e-01, 4.66954692e-01, 4.55859267e-01,\n",
       "       4.45027483e-01, 4.34453076e-01, 4.24129930e-01, 4.14052075e-01,\n",
       "       4.04213683e-01, 3.94609062e-01, 3.85232660e-01, 3.76079052e-01,\n",
       "       3.67142946e-01, 3.58419173e-01, 3.49902687e-01, 3.41588564e-01,\n",
       "       3.33471994e-01, 3.25548284e-01, 3.17812852e-01, 3.10261223e-01,\n",
       "       3.02889030e-01, 2.95692010e-01, 2.88666000e-01, 2.81806936e-01,\n",
       "       2.75110853e-01, 2.68573876e-01, 2.62192227e-01, 2.55962213e-01,\n",
       "       2.49880232e-01, 2.43942767e-01, 2.38146383e-01, 2.32487729e-01,\n",
       "       2.26963531e-01, 2.21570595e-01, 2.16305802e-01, 2.11166107e-01,\n",
       "       2.06148537e-01, 2.01250191e-01, 1.96468236e-01, 1.91799906e-01,\n",
       "       1.87242502e-01, 1.82793387e-01, 1.78449988e-01, 1.74209795e-01,\n",
       "       1.70070353e-01, 1.66029270e-01, 1.62084208e-01, 1.58232885e-01,\n",
       "       1.54473075e-01, 1.50802602e-01, 1.47219345e-01, 1.43721230e-01,\n",
       "       1.40306235e-01, 1.36972384e-01, 1.33717749e-01, 1.30540449e-01,\n",
       "       1.27438646e-01, 1.24410545e-01, 1.21454395e-01, 1.18568488e-01,\n",
       "       1.15751153e-01, 1.13000761e-01, 1.10315723e-01, 1.07694484e-01,\n",
       "       1.05135529e-01, 1.02637378e-01, 1.00198586e-01, 9.78177429e-02,\n",
       "       9.54934715e-02, 9.32244278e-02, 9.10092993e-02, 8.88468051e-02,\n",
       "       8.67356944e-02, 8.46747464e-02, 8.26627690e-02, 8.06985987e-02,\n",
       "       7.87810995e-02, 7.69091626e-02, 7.50817051e-02, 7.32976704e-02,\n",
       "       7.15560265e-02, 6.98557662e-02, 6.81959063e-02, 6.65754866e-02,\n",
       "       6.49935702e-02, 6.34492421e-02, 6.19416091e-02, 6.04697994e-02,\n",
       "       5.90329617e-02, 5.76302650e-02, 5.62608982e-02, 5.49240692e-02,\n",
       "       5.36190050e-02, 5.23449507e-02, 5.11011695e-02, 4.98869421e-02,\n",
       "       4.87015663e-02, 4.75443564e-02, 4.64146433e-02, 4.53117736e-02,\n",
       "       4.42351095e-02, 4.31840282e-02, 4.21579220e-02, 4.11561973e-02,\n",
       "       4.01782748e-02, 3.92235890e-02, 3.82915877e-02, 3.73817319e-02,\n",
       "       3.64934954e-02, 3.56263645e-02, 3.47798378e-02, 3.39534255e-02,\n",
       "       3.31466499e-02, 3.23590442e-02, 3.15901530e-02, 3.08395317e-02,\n",
       "       3.01067460e-02, 2.93913723e-02, 2.86929967e-02, 2.80112154e-02,\n",
       "       2.73456340e-02, 2.66958677e-02, 2.60615407e-02, 2.54422860e-02,\n",
       "       2.48377456e-02, 2.42475699e-02, 2.36714174e-02, 2.31089551e-02,\n",
       "       2.25598576e-02, 2.20238073e-02, 2.15004942e-02, 2.09896157e-02,\n",
       "       2.04908763e-02, 2.00039876e-02, 1.95286679e-02, 1.90646425e-02,\n",
       "       1.86116428e-02, 1.81694070e-02, 1.77376793e-02, 1.73162100e-02,\n",
       "       1.69047553e-02, 1.65030772e-02, 1.61109436e-02, 1.57281275e-02,\n",
       "       1.53544076e-02, 1.49895678e-02, 1.46333970e-02, 1.42856893e-02,\n",
       "       1.39462435e-02, 1.36148634e-02, 1.32913573e-02, 1.29755381e-02,\n",
       "       1.26672232e-02, 1.23662342e-02, 1.20723971e-02, 1.17855419e-02,\n",
       "       1.15055027e-02, 1.12321177e-02, 1.09652286e-02, 1.07046811e-02,\n",
       "       1.04503245e-02, 1.02020118e-02, 9.95959932e-03, 9.72294685e-03,\n",
       "       9.49191753e-03, 9.26637775e-03, 9.04619708e-03, 8.83124818e-03,\n",
       "       8.62140673e-03, 8.41655137e-03, 8.21656364e-03, 8.02132786e-03,\n",
       "       7.83073112e-03, 7.64466320e-03, 7.46301649e-03, 7.28568593e-03,\n",
       "       7.11256896e-03, 6.94356547e-03, 6.77857771e-03, 6.61751027e-03,\n",
       "       6.46026999e-03, 6.30676593e-03, 6.15690932e-03, 6.01061349e-03,\n",
       "       5.86779383e-03, 5.72836775e-03, 5.59225460e-03, 5.45937567e-03,\n",
       "       5.32965411e-03, 5.20301489e-03, 5.07938478e-03, 4.95869228e-03,\n",
       "       4.84086758e-03, 4.72584254e-03, 4.61355064e-03, 4.50392693e-03,\n",
       "       4.39690802e-03, 4.29243201e-03, 4.19043849e-03, 4.09086845e-03,\n",
       "       3.99366433e-03, 3.89876989e-03, 3.80613026e-03, 3.71569187e-03,\n",
       "       3.62740241e-03, 3.54121081e-03, 3.45706723e-03, 3.37492301e-03,\n",
       "       3.29473064e-03, 3.21644374e-03, 3.14001703e-03, 3.06540632e-03,\n",
       "       2.99256845e-03, 2.92146130e-03, 2.85204374e-03, 2.78427563e-03,\n",
       "       2.71811778e-03, 2.65353192e-03, 2.59048070e-03, 2.52892765e-03,\n",
       "       2.46883718e-03, 2.41017454e-03, 2.35290579e-03, 2.29699782e-03,\n",
       "       2.24241829e-03, 2.18913564e-03, 2.13711905e-03, 2.08633845e-03,\n",
       "       2.03676445e-03, 1.98836839e-03, 1.94112228e-03, 1.89499880e-03,\n",
       "       1.84997127e-03, 1.80601365e-03, 1.76310052e-03, 1.72120705e-03,\n",
       "       1.68030903e-03, 1.64038280e-03, 1.60140526e-03, 1.56335388e-03,\n",
       "       1.52620664e-03, 1.48994207e-03, 1.45453920e-03, 1.41997753e-03,\n",
       "       1.38623710e-03, 1.35329838e-03, 1.32114233e-03, 1.28975034e-03,\n",
       "       1.25910427e-03, 1.22918638e-03, 1.19997938e-03, 1.17146638e-03,\n",
       "       1.14363088e-03, 1.11645679e-03, 1.08992839e-03, 1.06403033e-03,\n",
       "       1.03874764e-03, 1.01406571e-03, 9.89970245e-04, 9.66447319e-04,\n",
       "       9.43483328e-04, 9.21064990e-04, 8.99179339e-04, 8.77813719e-04,\n",
       "       8.56955772e-04, 8.36593436e-04, 8.16714935e-04, 7.97308771e-04,\n",
       "       7.78363723e-04, 7.59868832e-04, 7.41813402e-04, 7.24186993e-04,\n",
       "       7.06979408e-04, 6.90180697e-04, 6.73781145e-04, 6.57771266e-04,\n",
       "       6.42141802e-04, 6.26883714e-04, 6.11988176e-04, 5.97446576e-04,\n",
       "       5.83250501e-04, 5.69391743e-04, 5.55862287e-04, 5.42654307e-04,\n",
       "       5.29760165e-04, 5.17172404e-04, 5.04883744e-04, 4.92887078e-04,\n",
       "       4.81175467e-04, 4.69742139e-04, 4.58580482e-04, 4.47684038e-04,\n",
       "       4.37046508e-04, 4.26661739e-04, 4.16523725e-04, 4.06626603e-04,\n",
       "       3.96964649e-04, 3.87532275e-04, 3.78324026e-04, 3.69334576e-04,\n",
       "       3.60558727e-04, 3.51991402e-04, 3.43627649e-04, 3.35462628e-04])"
      ]
     },
     "execution_count": 82,
     "metadata": {},
     "output_type": "execute_result"
    }
   ],
   "source": [
    "exp_pdf_values"
   ]
  },
  {
   "cell_type": "code",
   "execution_count": 80,
   "metadata": {},
   "outputs": [],
   "source": [
    "rhovaliid = kde(kernel, yiid1_exp, 0.1, x) # bandwidth = 0.1"
   ]
  },
  {
   "cell_type": "code",
   "execution_count": 81,
   "metadata": {},
   "outputs": [
    {
     "data": {
      "text/plain": [
       "(500,)"
      ]
     },
     "execution_count": 81,
     "metadata": {},
     "output_type": "execute_result"
    }
   ],
   "source": [
    "rhovaliid.shape"
   ]
  },
  {
   "cell_type": "code",
   "execution_count": 83,
   "metadata": {},
   "outputs": [
    {
     "data": {
      "text/plain": [
       "array([0.00000000e+000, 0.00000000e+000, 0.00000000e+000, 0.00000000e+000,\n",
       "       0.00000000e+000, 0.00000000e+000, 0.00000000e+000, 0.00000000e+000,\n",
       "       0.00000000e+000, 0.00000000e+000, 0.00000000e+000, 0.00000000e+000,\n",
       "       0.00000000e+000, 0.00000000e+000, 0.00000000e+000, 0.00000000e+000,\n",
       "       0.00000000e+000, 0.00000000e+000, 0.00000000e+000, 0.00000000e+000,\n",
       "       0.00000000e+000, 0.00000000e+000, 0.00000000e+000, 0.00000000e+000,\n",
       "       0.00000000e+000, 0.00000000e+000, 0.00000000e+000, 0.00000000e+000,\n",
       "       0.00000000e+000, 0.00000000e+000, 0.00000000e+000, 0.00000000e+000,\n",
       "       0.00000000e+000, 0.00000000e+000, 0.00000000e+000, 0.00000000e+000,\n",
       "       0.00000000e+000, 0.00000000e+000, 0.00000000e+000, 0.00000000e+000,\n",
       "       0.00000000e+000, 0.00000000e+000, 0.00000000e+000, 0.00000000e+000,\n",
       "       0.00000000e+000, 0.00000000e+000, 0.00000000e+000, 0.00000000e+000,\n",
       "       0.00000000e+000, 0.00000000e+000, 0.00000000e+000, 0.00000000e+000,\n",
       "       0.00000000e+000, 0.00000000e+000, 1.72725350e-319, 7.21562930e-314,\n",
       "       2.68556294e-308, 8.90419035e-303, 2.62997729e-297, 6.92003857e-292,\n",
       "       1.62205098e-286, 3.38704115e-281, 6.30052854e-276, 1.04408195e-270,\n",
       "       1.54132374e-265, 2.02700779e-260, 2.37476074e-255, 2.47849377e-250,\n",
       "       2.30441130e-245, 1.90869719e-240, 1.40837939e-235, 9.25781727e-231,\n",
       "       5.42131486e-226, 2.82818965e-221, 1.31438053e-216, 5.44180838e-212,\n",
       "       2.00713136e-207, 6.59507426e-203, 1.93052699e-198, 5.03437253e-194,\n",
       "       1.16957785e-189, 2.42062945e-185, 4.46317582e-181, 7.33123849e-177,\n",
       "       1.07282672e-172, 1.39862718e-168, 1.62441057e-164, 1.68078627e-160,\n",
       "       1.54936397e-156, 1.27238983e-152, 9.30924095e-149, 6.06788489e-145,\n",
       "       3.52363642e-141, 1.82296082e-137, 8.40229529e-134, 3.45028424e-130,\n",
       "       1.26226400e-126, 4.11420626e-123, 1.19471615e-119, 3.09092584e-116,\n",
       "       7.12459386e-113, 1.46312668e-109, 2.67705189e-106, 4.36402853e-103,\n",
       "       6.33836653e-100, 8.20218002e-097, 9.45685639e-094, 9.71478951e-091,\n",
       "       8.89186475e-088, 7.25152097e-085, 5.26922017e-082, 3.41152828e-079,\n",
       "       1.96807507e-076, 1.01164779e-073, 4.63358598e-071, 1.89108422e-068,\n",
       "       6.87727111e-066, 2.22863674e-063, 6.43556859e-061, 1.65602202e-058,\n",
       "       3.79738253e-056, 7.75978427e-054, 1.41309236e-051, 2.29327523e-049,\n",
       "       3.31677724e-047, 4.27524867e-045, 4.91136971e-043, 5.02865794e-041,\n",
       "       4.58904956e-039, 3.73274698e-037, 2.70635388e-035, 1.74906977e-033,\n",
       "       1.00765961e-031, 5.17516118e-030, 2.36950719e-028, 9.67250530e-027,\n",
       "       3.52039554e-025, 1.14246411e-023, 3.30614560e-022, 8.53222583e-021,\n",
       "       1.96381082e-019, 4.03156506e-018, 7.38292603e-017, 1.20618308e-015,\n",
       "       1.75825780e-014, 2.28716650e-013, 2.65538709e-012, 2.75201334e-011,\n",
       "       2.54656103e-010, 2.10445196e-009, 1.55353273e-008, 1.02478029e-007,\n",
       "       6.04259520e-007, 3.18623161e-006, 1.50314829e-005, 6.34810768e-005,\n",
       "       2.40158909e-004, 8.14548665e-004, 2.47926957e-003, 6.78007517e-003,\n",
       "       1.66832363e-002, 3.70031340e-002, 7.41434580e-002, 1.34581136e-001,\n",
       "       2.22062150e-001, 3.34522310e-001, 4.62580946e-001, 5.91131131e-001,\n",
       "       7.03872770e-001, 7.88693008e-001, 8.41156221e-001, 8.64571765e-001,\n",
       "       8.67156137e-001, 8.58158141e-001, 8.44780584e-001, 8.30785569e-001,\n",
       "       8.16693492e-001, 8.00974758e-001, 7.81566337e-001, 7.57195792e-001,\n",
       "       7.28192872e-001, 6.96641562e-001, 6.65862251e-001, 6.39354945e-001,\n",
       "       6.19531683e-001, 6.06764626e-001, 5.99265897e-001, 5.93929470e-001,\n",
       "       5.87680268e-001, 5.78568919e-001, 5.66117685e-001, 5.51002768e-001,\n",
       "       5.34507706e-001, 5.18080296e-001, 5.03033406e-001, 4.90289748e-001,\n",
       "       4.80140522e-001, 4.72108558e-001, 4.65040992e-001, 4.57473487e-001,\n",
       "       4.48151052e-001, 4.36466602e-001, 4.22609561e-001, 4.07402886e-001,\n",
       "       3.91975107e-001, 3.77405165e-001, 3.64366937e-001, 3.52808044e-001,\n",
       "       3.41854319e-001, 3.30174512e-001, 3.16760219e-001, 3.01674515e-001,\n",
       "       2.86239138e-001, 2.72510652e-001, 2.62392339e-001, 2.56898983e-001,\n",
       "       2.55877742e-001, 2.58182850e-001, 2.62141795e-001, 2.66114271e-001,\n",
       "       2.68934392e-001, 2.70064722e-001, 2.69445439e-001, 2.67222698e-001,\n",
       "       2.63598919e-001, 2.58880634e-001, 2.53563105e-001, 2.48236859e-001,\n",
       "       2.43297760e-001, 2.38685036e-001, 2.33900389e-001, 2.28336318e-001,\n",
       "       2.21679608e-001, 2.14101320e-001, 2.06134693e-001, 1.98389157e-001,\n",
       "       1.91331830e-001, 1.85241193e-001, 1.80256982e-001, 1.76400822e-001,\n",
       "       1.73543063e-001, 1.71394070e-001, 1.69577408e-001, 1.67742058e-001,\n",
       "       1.65625372e-001, 1.63034550e-001, 1.59793182e-001, 1.55719393e-001,\n",
       "       1.50666827e-001, 1.44617251e-001, 1.37783941e-001, 1.30662589e-001,\n",
       "       1.23963267e-001, 1.18403727e-001, 1.14438239e-001, 1.12070838e-001,\n",
       "       1.10877581e-001, 1.10236366e-001, 1.09628710e-001, 1.08840231e-001,\n",
       "       1.07962148e-001, 1.07215378e-001, 1.06708385e-001, 1.06272669e-001,\n",
       "       1.05487909e-001, 1.03904043e-001, 1.01328666e-001, 9.79808615e-002,\n",
       "       9.43959624e-002, 9.11421109e-002, 8.85302967e-002, 8.64821871e-002,\n",
       "       8.46096896e-002, 8.24458155e-002, 7.96994974e-002, 7.64066731e-002,\n",
       "       7.29156396e-002, 6.97359194e-002, 6.73335586e-002, 6.59524862e-002,\n",
       "       6.55196290e-002, 6.56770301e-002, 6.59481733e-002, 6.59644436e-002,\n",
       "       6.56071751e-002, 6.49567011e-002, 6.40915490e-002, 6.29215121e-002,\n",
       "       6.12198069e-002, 5.88398775e-002, 5.59283236e-002, 5.29460968e-002,\n",
       "       5.04795586e-002, 4.89901568e-002, 4.86643619e-002, 4.94017418e-002,\n",
       "       5.08662465e-002, 5.25332213e-002, 5.37552891e-002, 5.39162556e-002,\n",
       "       5.26708460e-002, 5.01431212e-002, 4.69171126e-002, 4.37722389e-002,\n",
       "       4.13117995e-002, 3.97286832e-002, 3.88453946e-002, 3.83442721e-002,\n",
       "       3.79746831e-002, 3.75987420e-002, 3.71154869e-002, 3.63952954e-002,\n",
       "       3.52964006e-002, 3.37297730e-002, 3.17083669e-002, 2.93598125e-002,\n",
       "       2.69152300e-002, 2.46747150e-002, 2.29352423e-002, 2.18909534e-002,\n",
       "       2.15555263e-002, 2.17576252e-002, 2.22127782e-002, 2.26250126e-002,\n",
       "       2.27657328e-002, 2.25106871e-002, 2.18455557e-002, 2.08500806e-002,\n",
       "       1.96570372e-002, 1.83888277e-002, 1.71027345e-002, 1.57885981e-002,\n",
       "       1.44297060e-002, 1.30814831e-002, 1.19006591e-002, 1.10959528e-002,\n",
       "       1.08320517e-002, 1.11453095e-002, 1.19104362e-002, 1.28660569e-002,\n",
       "       1.36892085e-002, 1.40970172e-002, 1.39379486e-002, 1.32309136e-002,\n",
       "       1.21360083e-002, 1.08802212e-002, 9.67996919e-003, 8.68977779e-003,\n",
       "       7.98551037e-003, 7.57970462e-003, 7.45847139e-003, 7.61501700e-003,\n",
       "       8.04884588e-003, 8.72293692e-003, 9.51396049e-003, 1.02117664e-002,\n",
       "       1.05939928e-002, 1.05383365e-002, 1.00938753e-002, 9.45423521e-003,\n",
       "       8.84581915e-003, 8.40717714e-003, 8.14042724e-003, 7.95965170e-003,\n",
       "       7.78918905e-003, 7.63174975e-003, 7.55536805e-003, 7.61463607e-003,\n",
       "       7.77322235e-003, 7.89212101e-003, 7.79570542e-003, 7.36942223e-003,\n",
       "       6.62490640e-003, 5.69866771e-003, 4.79602581e-003, 4.11477636e-003,\n",
       "       3.77743512e-003, 3.78912041e-003, 4.03539764e-003, 4.33023180e-003,\n",
       "       4.50293776e-003, 4.48325996e-003, 4.33498122e-003, 4.21714039e-003,\n",
       "       4.29846885e-003, 4.67696116e-003, 5.34388989e-003, 6.19647795e-003,\n",
       "       7.07699964e-003, 7.81431281e-003, 8.25832895e-003, 8.30945145e-003,\n",
       "       7.94264606e-003, 7.21618564e-003, 6.25447837e-003, 5.20908714e-003,\n",
       "       4.21832887e-003, 3.38477532e-003, 2.77169953e-003, 2.40454492e-003,\n",
       "       2.26759574e-003, 2.30137461e-003, 2.41301436e-003, 2.50286600e-003,\n",
       "       2.49732975e-003, 2.37321302e-003, 2.16337699e-003, 1.94080795e-003,\n",
       "       1.78646289e-003, 1.75541811e-003, 1.85991861e-003, 2.07825634e-003,\n",
       "       2.37831396e-003, 2.73267934e-003, 3.11341596e-003, 3.47909204e-003,\n",
       "       3.77653557e-003, 3.96158949e-003, 4.01782967e-003, 3.95180953e-003,\n",
       "       3.77020904e-003, 3.46611379e-003, 3.03179567e-003, 2.48547056e-003,\n",
       "       1.88382697e-003, 1.30619924e-003, 8.22394393e-004, 4.67815052e-004,\n",
       "       2.39628784e-004, 1.10291175e-004, 4.56123935e-005, 1.72405790e-005,\n",
       "       7.09866090e-006, 6.70968536e-006, 1.53551860e-005, 3.92750419e-005,\n",
       "       9.16380945e-005, 1.90874355e-004, 3.54219813e-004, 5.85563994e-004,\n",
       "       8.62273672e-004, 1.13105702e-003, 1.32157688e-003, 1.37552636e-003,\n",
       "       1.27530467e-003, 1.05324047e-003, 7.74835789e-004, 5.07762191e-004,\n",
       "       2.96400954e-004, 1.54122976e-004, 7.13877549e-005, 2.94542938e-005,\n",
       "       1.08253527e-005, 3.54408432e-006, 1.03355737e-006, 2.68493442e-007,\n",
       "       6.21299961e-008, 1.28067084e-008, 2.35148529e-009, 3.84605565e-010,\n",
       "       5.60347464e-011, 7.27223340e-012, 8.40711054e-013, 8.65753503e-014,\n",
       "       7.94164204e-015, 6.48925603e-016, 4.72332753e-017, 3.06245534e-018,\n",
       "       1.76872380e-019, 9.09952711e-021, 4.17009721e-022, 1.70232346e-023,\n",
       "       6.19022653e-025, 2.00511622e-026, 5.78550281e-028, 1.48700085e-029,\n",
       "       3.40447288e-031, 6.94315866e-033, 1.26134198e-034, 2.04116054e-036,\n",
       "       2.94232084e-038, 3.77808255e-040, 4.32136955e-042, 4.40291117e-044,\n",
       "       3.99601390e-046, 3.23059568e-048, 2.32651993e-050, 1.49244899e-052,\n",
       "       8.52826656e-055, 4.34100801e-057, 1.96828942e-059, 7.94979411e-062,\n",
       "       2.86016676e-064, 9.16632769e-067, 2.61678447e-069, 6.65440271e-072,\n",
       "       1.50736614e-074, 3.04156417e-077, 5.46693313e-080, 8.75304359e-083])"
      ]
     },
     "execution_count": 83,
     "metadata": {},
     "output_type": "execute_result"
    }
   ],
   "source": [
    "rhovaliid"
   ]
  },
  {
   "cell_type": "code",
   "execution_count": 84,
   "metadata": {},
   "outputs": [],
   "source": [
    "mse = (np.square(rhovaliid - exp_pdf_values)).mean(axis=None) "
   ]
  },
  {
   "cell_type": "code",
   "execution_count": 85,
   "metadata": {},
   "outputs": [
    {
     "data": {
      "text/plain": [
       "0.0013710879417071662"
      ]
     },
     "execution_count": 85,
     "metadata": {},
     "output_type": "execute_result"
    }
   ],
   "source": [
    "mse"
   ]
  },
  {
   "cell_type": "markdown",
   "metadata": {},
   "source": [
    "### Laplace Distribution"
   ]
  },
  {
   "cell_type": "code",
   "execution_count": 63,
   "metadata": {},
   "outputs": [
    {
     "name": "stdout",
     "output_type": "stream",
     "text": [
      "PDF for x = 3.0: 0.024893534183931972\n",
      "[0.18393972 0.13179857 0.0944378  0.06766764 0.04848598 0.03474173\n",
      " 0.02489353 0.017837   0.01278077 0.00915782]\n"
     ]
    },
    {
     "data": {
      "image/png": "[encoded data removed]",
      "text/plain": [
       "<Figure size 640x480 with 1 Axes>"
      ]
     },
     "metadata": {},
     "output_type": "display_data"
    }
   ],
   "source": [
    "# https://www.askpython.com/python/examples/laplace-distribution-python\n",
    "from scipy import stats\n",
    " \n",
    "# Define location (mean) and scale parameters\n",
    "loc = 0\n",
    "scale = 1.0\n",
    " \n",
    "# Create a Laplace distribution object\n",
    "laplace_dist = stats.laplace(loc, scale)\n",
    " \n",
    "# Calculate the PDF for a specific value (x = 3.0)\n",
    "x = 3.0\n",
    "pdf_value = laplace_dist.pdf(x)\n",
    " \n",
    "print(f\"PDF for x = {x}: {pdf_value}\")\n",
    " \n",
    "# Alternatively, calculate the PDF for an array of values\n",
    "x_values = np.linspace(1.0, 4.0, 10)\n",
    "pdf_values = laplace_dist.pdf(x_values)\n",
    "print(pdf_values)\n",
    " \n",
    "# Plot the PDF (using matplotlib)\n",
    "import matplotlib.pyplot as plt\n",
    " \n",
    "plt.plot(x_values, pdf_values)\n",
    "plt.xlabel(\"x\")\n",
    "plt.ylabel(\"PDF(x)\")\n",
    "plt.title(\"Laplace Distribution PDF\")\n",
    "plt.show()"
   ]
  },
  {
   "cell_type": "code",
   "execution_count": 64,
   "metadata": {},
   "outputs": [
    {
     "name": "stdout",
     "output_type": "stream",
     "text": [
      "[9.15781944e-03 9.38071696e-03 9.60903970e-03 9.84291972e-03\n",
      " 1.00824923e-02 1.03278960e-02 1.05792726e-02 1.08367677e-02\n",
      " 1.11005301e-02 1.13707124e-02 1.16474708e-02 1.19309654e-02\n",
      " 1.22213601e-02 1.25188230e-02 1.28235259e-02 1.31356452e-02\n",
      " 1.34553613e-02 1.37828592e-02 1.41183283e-02 1.44619625e-02\n",
      " 1.48139606e-02 1.51745263e-02 1.55438679e-02 1.59221992e-02\n",
      " 1.63097389e-02 1.67067111e-02 1.71133455e-02 1.75298772e-02\n",
      " 1.79565471e-02 1.83936020e-02 1.88412946e-02 1.92998839e-02\n",
      " 1.97696350e-02 2.02508197e-02 2.07437162e-02 2.12486097e-02\n",
      " 2.17657920e-02 2.22955623e-02 2.28382270e-02 2.33940999e-02\n",
      " 2.39635026e-02 2.45467642e-02 2.51442222e-02 2.57562221e-02\n",
      " 2.63831179e-02 2.70252720e-02 2.76830558e-02 2.83568499e-02\n",
      " 2.90470438e-02 2.97540367e-02 3.04782376e-02 3.12200652e-02\n",
      " 3.19799486e-02 3.27583272e-02 3.35556513e-02 3.43723819e-02\n",
      " 3.52089913e-02 3.60659635e-02 3.69437940e-02 3.78429906e-02\n",
      " 3.87640732e-02 3.97075746e-02 4.06740405e-02 4.16640297e-02\n",
      " 4.26781148e-02 4.37168823e-02 4.47809330e-02 4.58708823e-02\n",
      " 4.69873605e-02 4.81310133e-02 4.93025021e-02 5.05025044e-02\n",
      " 5.17317144e-02 5.29908428e-02 5.42806178e-02 5.56017854e-02\n",
      " 5.69551097e-02 5.83413734e-02 5.97613781e-02 6.12159452e-02\n",
      " 6.27059158e-02 6.42321517e-02 6.57955355e-02 6.73969714e-02\n",
      " 6.90373856e-02 7.07177268e-02 7.24389669e-02 7.42021012e-02\n",
      " 7.60081494e-02 7.78581561e-02 7.97531912e-02 8.16943506e-02\n",
      " 8.36827571e-02 8.57195606e-02 8.78059390e-02 8.99430990e-02\n",
      " 9.21322765e-02 9.43747378e-02 9.66717796e-02 9.90247305e-02\n",
      " 1.01434951e-01 1.03903836e-01 1.06432812e-01 1.09023342e-01\n",
      " 1.11676925e-01 1.14395095e-01 1.17179424e-01 1.20031522e-01\n",
      " 1.22953039e-01 1.25945665e-01 1.29011130e-01 1.32151207e-01\n",
      " 1.35367713e-01 1.38662506e-01 1.42037494e-01 1.45494627e-01\n",
      " 1.49035906e-01 1.52663378e-01 1.56379141e-01 1.60185344e-01\n",
      " 1.64084189e-01 1.68077929e-01 1.72168876e-01 1.76359395e-01\n",
      " 1.80651909e-01 1.85048901e-01 1.89552915e-01 1.94166554e-01\n",
      " 1.98892487e-01 2.03733447e-01 2.08692234e-01 2.13771716e-01\n",
      " 2.18974831e-01 2.24304587e-01 2.29764067e-01 2.35356429e-01\n",
      " 2.41084907e-01 2.46952813e-01 2.52963541e-01 2.59120569e-01\n",
      " 2.65427455e-01 2.71887849e-01 2.78505486e-01 2.85284194e-01\n",
      " 2.92227892e-01 2.99340597e-01 3.06626423e-01 3.14089582e-01\n",
      " 3.21734392e-01 3.29565273e-01 3.37586754e-01 3.45803475e-01\n",
      " 3.54220188e-01 3.62841760e-01 3.71673177e-01 3.80719547e-01\n",
      " 3.89986103e-01 3.99478202e-01 4.09201335e-01 4.19161125e-01\n",
      " 4.29363332e-01 4.39813857e-01 4.50518743e-01 4.61484182e-01\n",
      " 4.72716515e-01 4.84222238e-01 4.96008005e-01 4.92047883e-01\n",
      " 4.80356213e-01 4.68942351e-01 4.57799697e-01 4.46921806e-01\n",
      " 4.36302388e-01 4.25935300e-01 4.15814547e-01 4.05934276e-01\n",
      " 3.96288772e-01 3.86872458e-01 3.77679887e-01 3.68705742e-01\n",
      " 3.59944835e-01 3.51392098e-01 3.43042584e-01 3.34891465e-01\n",
      " 3.26934027e-01 3.19165668e-01 3.11581894e-01 3.04178321e-01\n",
      " 2.96950665e-01 2.89894748e-01 2.83006488e-01 2.76281901e-01\n",
      " 2.69717099e-01 2.63308285e-01 2.57051753e-01 2.50943883e-01\n",
      " 2.44981144e-01 2.39160087e-01 2.33477346e-01 2.27929633e-01\n",
      " 2.22513742e-01 2.17226538e-01 2.12064965e-01 2.07026038e-01\n",
      " 2.02106841e-01 1.97304531e-01 1.92616330e-01 1.88039526e-01\n",
      " 1.83571473e-01 1.79209586e-01 1.74951343e-01 1.70794282e-01\n",
      " 1.66735997e-01 1.62774142e-01 1.58906426e-01 1.55130612e-01\n",
      " 1.51444515e-01 1.47846005e-01 1.44333000e-01 1.40903468e-01\n",
      " 1.37555426e-01 1.34286938e-01 1.31096113e-01 1.27981106e-01\n",
      " 1.24940116e-01 1.21971383e-01 1.19073192e-01 1.16243864e-01\n",
      " 1.13481765e-01 1.10785297e-01 1.08152901e-01 1.05583053e-01\n",
      " 1.03074268e-01 1.00625096e-01 9.82341181e-02 9.58999531e-02\n",
      " 9.36212509e-02 9.13966934e-02 8.92249942e-02 8.71048973e-02\n",
      " 8.50351765e-02 8.30146349e-02 8.10421038e-02 7.91164426e-02\n",
      " 7.72365374e-02 7.54013011e-02 7.36096724e-02 7.18606149e-02\n",
      " 7.01531173e-02 6.84861919e-02 6.68588747e-02 6.52702246e-02\n",
      " 6.37193228e-02 6.22052724e-02 6.07271977e-02 5.92842439e-02\n",
      " 5.78755765e-02 5.65003807e-02 5.51578614e-02 5.38472419e-02\n",
      " 5.25677644e-02 5.13186889e-02 5.00992930e-02 4.89088714e-02\n",
      " 4.77467358e-02 4.66122139e-02 4.55046497e-02 4.44234026e-02\n",
      " 4.33678472e-02 4.23373732e-02 4.13313845e-02 4.03492994e-02\n",
      " 3.93905498e-02 3.84545813e-02 3.75408526e-02 3.66488352e-02\n",
      " 3.57780132e-02 3.49278831e-02 3.40979531e-02 3.32877433e-02\n",
      " 3.24967851e-02 3.17246210e-02 3.09708046e-02 3.02348997e-02\n",
      " 2.95164808e-02 2.88151325e-02 2.81304491e-02 2.74620346e-02\n",
      " 2.68095025e-02 2.61724753e-02 2.55505847e-02 2.49434710e-02\n",
      " 2.43507831e-02 2.37721782e-02 2.32073217e-02 2.26558868e-02\n",
      " 2.21175547e-02 2.15920141e-02 2.10789610e-02 2.05780986e-02\n",
      " 2.00891374e-02 1.96117945e-02 1.91457938e-02 1.86908659e-02\n",
      " 1.82467477e-02 1.78131823e-02 1.73899189e-02 1.69767128e-02\n",
      " 1.65733249e-02 1.61795221e-02 1.57950765e-02 1.54197658e-02\n",
      " 1.50533730e-02 1.46956861e-02 1.43464983e-02 1.40056077e-02\n",
      " 1.36728170e-02 1.33479339e-02 1.30307703e-02 1.27211430e-02\n",
      " 1.24188728e-02 1.21237849e-02 1.18357087e-02 1.15544775e-02\n",
      " 1.12799288e-02 1.10119036e-02 1.07502471e-02 1.04948078e-02\n",
      " 1.02454381e-02 1.00019938e-02 9.76433396e-03 9.53232123e-03\n",
      " 9.30582141e-03 9.08470351e-03 8.86883965e-03 8.65810498e-03\n",
      " 8.45237763e-03 8.25153861e-03 8.05547179e-03 7.86406375e-03\n",
      " 7.67720381e-03 7.49478389e-03 7.31669849e-03 7.14284463e-03\n",
      " 6.97312175e-03 6.80743170e-03 6.64567865e-03 6.48776905e-03\n",
      " 6.33361158e-03 6.18311709e-03 6.03619853e-03 5.89277094e-03\n",
      " 5.75275137e-03 5.61605883e-03 5.48261428e-03 5.35234054e-03\n",
      " 5.22516227e-03 5.10100591e-03 4.97979966e-03 4.86147342e-03\n",
      " 4.74595876e-03 4.63318888e-03 4.52309854e-03 4.41562409e-03\n",
      " 4.31070336e-03 4.20827569e-03 4.10828182e-03 4.01066393e-03\n",
      " 3.91536556e-03 3.82233160e-03 3.73150825e-03 3.64284296e-03\n",
      " 3.55628448e-03 3.47178274e-03 3.38928886e-03 3.30875513e-03\n",
      " 3.23013499e-03 3.15338297e-03 3.07845466e-03 3.00530675e-03\n",
      " 2.93389692e-03 2.86418387e-03 2.79612730e-03 2.72968784e-03\n",
      " 2.66482705e-03 2.60150745e-03 2.53969239e-03 2.47934614e-03\n",
      " 2.42043379e-03 2.36292127e-03 2.30677532e-03 2.25196347e-03\n",
      " 2.19845401e-03 2.14621601e-03 2.09521924e-03 2.04543423e-03\n",
      " 1.99683216e-03 1.94938495e-03 1.90306513e-03 1.85784594e-03\n",
      " 1.81370120e-03 1.77060541e-03 1.72853362e-03 1.68746151e-03\n",
      " 1.64736532e-03 1.60822187e-03 1.57000852e-03 1.53270316e-03\n",
      " 1.49628423e-03 1.46073065e-03 1.42602187e-03 1.39213782e-03\n",
      " 1.35905889e-03 1.32676596e-03 1.29524035e-03 1.26446383e-03\n",
      " 1.23441859e-03 1.20508727e-03 1.17645289e-03 1.14849891e-03\n",
      " 1.12120915e-03 1.09456782e-03 1.06855953e-03 1.04316922e-03\n",
      " 1.01838222e-03 9.94184194e-04 9.70561140e-04 9.47499400e-04\n",
      " 9.24985634e-04 9.03006824e-04 8.81550258e-04 8.60603527e-04\n",
      " 8.40154516e-04 8.20191399e-04 8.00702630e-04 7.81676939e-04\n",
      " 7.63103322e-04 7.44971037e-04 7.27269598e-04 7.09988767e-04\n",
      " 6.93118550e-04 6.76649191e-04 6.60571164e-04 6.44875171e-04\n",
      " 6.29552134e-04 6.14593192e-04 5.99989692e-04 5.85733190e-04\n",
      " 5.71815441e-04 5.58228394e-04 5.44964193e-04 5.32015165e-04\n",
      " 5.19373822e-04 5.07032854e-04 4.94985122e-04 4.83223660e-04\n",
      " 4.71741664e-04 4.60532495e-04 4.49589670e-04 4.38906859e-04\n",
      " 4.28477886e-04 4.18296718e-04 4.08357467e-04 3.98654386e-04\n",
      " 3.89181861e-04 3.79934416e-04 3.70906701e-04 3.62093496e-04\n",
      " 3.53489704e-04 3.45090349e-04 3.36890573e-04 3.28885633e-04\n",
      " 3.21070901e-04 3.13441857e-04 3.05994088e-04 2.98723288e-04\n",
      " 2.91625251e-04 2.84695872e-04 2.77931143e-04 2.71327153e-04\n",
      " 2.64880083e-04 2.58586202e-04 2.52441872e-04 2.46443539e-04\n",
      " 2.40587734e-04 2.34871070e-04 2.29290241e-04 2.23842019e-04\n",
      " 2.18523254e-04 2.13330870e-04 2.08261863e-04 2.03313302e-04\n",
      " 1.98482324e-04 1.93766137e-04 1.89162013e-04 1.84667288e-04\n",
      " 1.80279363e-04 1.75995701e-04 1.71813824e-04 1.67731314e-04]\n"
     ]
    }
   ],
   "source": [
    "x_values = np.linspace(-4, 8, 500)\n",
    "pdf_values = laplace_dist.pdf(x_values)\n",
    "print(pdf_values)"
   ]
  },
  {
   "cell_type": "code",
   "execution_count": 65,
   "metadata": {},
   "outputs": [
    {
     "name": "stdout",
     "output_type": "stream",
     "text": [
      "(500,)\n"
     ]
    }
   ],
   "source": [
    "print(pdf_values.shape)"
   ]
  },
  {
   "cell_type": "code",
   "execution_count": 66,
   "metadata": {},
   "outputs": [
    {
     "data": {
      "text/plain": [
       "array([[ 0.42125509],\n",
       "       [ 1.94110217],\n",
       "       [-0.23954822],\n",
       "       ...,\n",
       "       [ 0.22273007],\n",
       "       [ 1.27002998],\n",
       "       [ 0.59394328]])"
      ]
     },
     "execution_count": 66,
     "metadata": {},
     "output_type": "execute_result"
    }
   ],
   "source": [
    "yiid_laplace"
   ]
  },
  {
   "cell_type": "code",
   "execution_count": 67,
   "metadata": {},
   "outputs": [],
   "source": [
    "rhovaliid = kde(kernel, yiid_laplace, 0.1, x_values)"
   ]
  },
  {
   "cell_type": "code",
   "execution_count": 68,
   "metadata": {},
   "outputs": [
    {
     "data": {
      "text/plain": [
       "array([1.37583201e-003, 1.31988171e-003, 1.12790666e-003, 8.58578209e-004,\n",
       "       5.82177094e-004, 3.51640522e-004, 1.89195704e-004, 9.06759626e-005,\n",
       "       3.87116453e-005, 1.47217567e-005, 4.98707837e-006, 1.50487802e-006,\n",
       "       4.04505992e-007, 9.68539123e-008, 2.06575079e-008, 3.92470699e-009,\n",
       "       6.64209528e-010, 1.00131683e-010, 1.34464140e-011, 1.60845899e-012,\n",
       "       1.71388649e-013, 1.62675695e-014, 1.37540893e-015, 1.03588026e-016,\n",
       "       6.94953625e-018, 4.15308332e-019, 2.21082380e-020, 1.04854070e-021,\n",
       "       4.97654623e-023, 1.41474638e-022, 3.17527789e-021, 6.42367029e-020,\n",
       "       1.15760637e-018, 1.85826283e-017, 2.65718579e-016, 3.38458365e-015,\n",
       "       3.84022911e-014, 3.88130318e-013, 3.49435121e-012, 2.80236105e-011,\n",
       "       2.00193593e-010, 1.27392779e-009, 7.22117713e-009, 3.64619370e-008,\n",
       "       1.63998557e-007, 6.57065804e-007, 2.34501841e-006, 7.45507811e-006,\n",
       "       2.11118694e-005, 5.32561459e-005, 1.19668908e-004, 2.39530860e-004,\n",
       "       4.27080928e-004, 6.78308814e-004, 9.59651249e-004, 1.20939626e-003,\n",
       "       1.35767417e-003, 1.35770826e-003, 1.20965191e-003, 9.60824708e-004,\n",
       "       6.82577111e-004, 4.40447501e-004, 2.76680710e-004, 2.12343634e-004,\n",
       "       2.61959273e-004, 4.47404335e-004, 8.01108643e-004, 1.35622687e-003,\n",
       "       2.12823493e-003, 3.09604888e-003, 4.19150685e-003, 5.30470601e-003,\n",
       "       6.30827162e-003, 7.09436227e-003, 7.60757598e-003, 7.85571756e-003,\n",
       "       7.89493649e-003, 7.80436880e-003, 7.66769042e-003, 7.56290281e-003,\n",
       "       7.54989495e-003, 7.65502469e-003, 7.86870445e-003, 8.16832392e-003,\n",
       "       8.55370950e-003, 9.06493592e-003, 9.76488930e-003, 1.06991362e-002,\n",
       "       1.18626298e-002, 1.31930745e-002, 1.45893095e-002, 1.59416254e-002,\n",
       "       1.71634313e-002, 1.82169128e-002, 1.91210515e-002, 1.99293644e-002,\n",
       "       2.06823874e-002, 2.13692976e-002, 2.19418237e-002, 2.23885718e-002,\n",
       "       2.28208706e-002, 2.34967830e-002, 2.47488525e-002, 2.68527841e-002,\n",
       "       2.99153876e-002, 3.38395660e-002, 3.83695171e-002, 4.31793385e-002,\n",
       "       4.79619026e-002, 5.24877864e-002, 5.66220812e-002, 6.03081928e-002,\n",
       "       6.35430490e-002, 6.63619006e-002, 6.88320692e-002, 7.10525950e-002,\n",
       "       7.31692180e-002, 7.54036594e-002, 7.80583603e-002, 8.14501977e-002,\n",
       "       8.57847457e-002, 9.10487275e-002, 9.69913021e-002, 1.03195248e-001,\n",
       "       1.09193400e-001, 1.14603428e-001, 1.19280416e-001, 1.23461866e-001,\n",
       "       1.27828439e-001, 1.33400173e-001, 1.41256848e-001, 1.52163536e-001,\n",
       "       1.66243708e-001, 1.82856494e-001, 2.00790127e-001, 2.18754395e-001,\n",
       "       2.35964776e-001, 2.52486259e-001, 2.69093676e-001, 2.86708219e-001,\n",
       "       3.05775452e-001, 3.25992145e-001, 3.46508453e-001, 3.66372629e-001,\n",
       "       3.84874479e-001, 4.01651584e-001, 4.16687765e-001, 4.30363088e-001,\n",
       "       4.43517302e-001, 4.57346773e-001, 4.73071166e-001, 4.91551724e-001,\n",
       "       5.13120181e-001, 5.37691278e-001, 5.65002774e-001, 5.94800582e-001,\n",
       "       6.26934772e-001, 6.61432623e-001, 6.98565377e-001, 7.38837499e-001,\n",
       "       7.82816563e-001, 8.30758270e-001, 8.82018513e-001, 9.34359716e-001,\n",
       "       9.83505238e-001, 1.02346938e+000, 1.04794813e+000, 1.05236852e+000,\n",
       "       1.03556630e+000, 1.00012048e+000, 9.51198724e-001, 8.94715631e-001,\n",
       "       8.35889745e-001, 7.78728732e-001, 7.26157247e-001, 6.80159739e-001,\n",
       "       6.41626153e-001, 6.10117663e-001, 5.83968691e-001, 5.60882996e-001,\n",
       "       5.38766527e-001, 5.16338678e-001, 4.93218552e-001, 4.69559113e-001,\n",
       "       4.45607291e-001, 4.21553066e-001, 3.97702852e-001, 3.74674805e-001,\n",
       "       3.53297084e-001, 3.34206963e-001, 3.17469295e-001, 3.02541130e-001,\n",
       "       2.88624306e-001, 2.75153639e-001, 2.62096001e-001, 2.49887442e-001,\n",
       "       2.39068801e-001, 2.29852116e-001, 2.21872227e-001, 2.14242140e-001,\n",
       "       2.05839216e-001, 1.95657605e-001, 1.83119009e-001, 1.68315086e-001,\n",
       "       1.52128460e-001, 1.36100577e-001, 1.21963426e-001, 1.10973253e-001,\n",
       "       1.03390547e-001, 9.84249264e-002, 9.46939912e-002, 9.09263600e-002,\n",
       "       8.64974537e-002, 8.15193299e-002, 7.65193827e-002, 7.20062368e-002,\n",
       "       6.82358244e-002, 6.52637684e-002, 6.31163388e-002, 6.18537181e-002,\n",
       "       6.14605951e-002, 6.16982191e-002, 6.20902317e-002, 6.20731888e-002,\n",
       "       6.11886355e-002, 5.91871039e-002, 5.60330439e-002, 5.18845864e-002,\n",
       "       4.70836476e-002, 4.21110839e-002, 3.74648532e-002, 3.35068481e-002,\n",
       "       3.03791184e-002, 2.80380390e-002, 2.63550727e-002, 2.51949521e-002,\n",
       "       2.44334447e-002, 2.39447934e-002, 2.36004626e-002, 2.32827987e-002,\n",
       "       2.28895298e-002, 2.23195991e-002, 2.14612213e-002, 2.02082572e-002,\n",
       "       1.85053649e-002, 1.63940438e-002, 1.40262422e-002, 1.16306701e-002,\n",
       "       9.44371825e-003, 7.63659396e-003, 6.27418723e-003, 5.32554625e-003,\n",
       "       4.71502815e-003, 4.37547404e-003, 4.26443789e-003, 4.33751683e-003,\n",
       "       4.51267790e-003, 4.66830771e-003, 4.68561979e-003, 4.50383591e-003,\n",
       "       4.14475659e-003, 3.69068127e-003, 3.23641975e-003, 2.84839975e-003,\n",
       "       2.54829014e-003, 2.31876512e-003, 2.12277847e-003, 1.92923477e-003,\n",
       "       1.73497345e-003, 1.56865545e-003, 1.46936882e-003, 1.45200639e-003,\n",
       "       1.48551748e-003, 1.50307686e-003, 1.43893253e-003, 1.26594902e-003,\n",
       "       1.00843527e-003, 7.25157168e-004, 4.78933268e-004, 3.14449253e-004,\n",
       "       2.53821094e-004, 3.03345659e-004, 4.58414565e-004, 7.00009126e-004,\n",
       "       9.88607951e-004, 1.26872012e-003, 1.49169978e-003, 1.64788238e-003,\n",
       "       1.78469189e-003, 1.99057989e-003, 2.34748789e-003, 2.87995286e-003,\n",
       "       3.53429749e-003, 4.19989698e-003, 4.75417063e-003, 5.10047134e-003,\n",
       "       5.18251635e-003, 4.98256781e-003, 4.51886590e-003, 3.84679995e-003,\n",
       "       3.05526945e-003, 2.25008412e-003, 1.52759760e-003, 9.50943183e-004,\n",
       "       5.40173449e-004, 2.78783129e-004, 1.30228017e-004, 5.48819774e-005,\n",
       "       2.08091392e-005, 7.08278685e-006, 2.16022570e-006, 5.89554021e-007,\n",
       "       1.43813462e-007, 3.13299542e-008, 6.09150742e-009, 1.05653357e-009,\n",
       "       1.63409170e-010, 2.25312406e-011, 2.76898386e-012, 3.03260676e-013,\n",
       "       2.95953036e-014, 2.57337958e-015, 1.99357236e-016, 1.37590050e-017,\n",
       "       8.45967940e-019, 4.63363140e-020, 2.26090071e-021, 9.82715446e-023,\n",
       "       3.80500998e-024, 1.31238773e-025, 4.03222119e-027, 1.10357155e-028,\n",
       "       2.69047657e-030, 5.84291377e-032, 1.13031767e-033, 1.94778834e-035,\n",
       "       2.98987334e-037, 4.08821086e-039, 4.97946884e-041, 5.40258751e-043,\n",
       "       5.22143086e-045, 4.49516964e-047, 3.44723906e-049, 2.35486180e-051,\n",
       "       1.43294036e-053, 7.76710982e-056, 3.75024284e-058, 1.61297611e-060,\n",
       "       6.17966691e-063, 2.10897182e-065, 6.41128462e-068, 1.73615263e-070,\n",
       "       4.18792901e-073, 8.99868976e-076, 1.72237536e-078, 2.93660061e-081,\n",
       "       4.45995543e-084, 6.03371381e-087, 7.27122273e-090, 7.80546428e-093,\n",
       "       7.46377581e-096, 6.35750898e-099, 4.82374043e-102, 3.26023894e-105,\n",
       "       1.96283358e-108, 1.05265506e-111, 5.02871745e-115, 2.13991704e-118,\n",
       "       8.11157507e-122, 2.73893671e-125, 8.23810558e-129, 2.20719783e-132,\n",
       "       5.26773256e-136, 1.11988835e-139, 2.12077349e-143, 3.57752269e-147,\n",
       "       5.37574993e-151, 7.19555455e-155, 8.57942205e-159, 9.11213922e-163,\n",
       "       8.62087228e-167, 7.26525106e-171, 5.45404344e-175, 3.64716246e-179,\n",
       "       2.17250196e-183, 1.15274646e-187, 5.44848758e-192, 2.29396446e-196,\n",
       "       8.60331761e-201, 2.87417877e-205, 8.55323000e-210, 2.26733177e-214,\n",
       "       5.35387896e-219, 1.12613530e-223, 2.10999365e-228, 3.52160203e-233,\n",
       "       5.23561801e-238, 6.93368618e-243, 8.17954151e-248, 8.59532476e-253,\n",
       "       8.04570623e-258, 6.70864178e-263, 4.98280149e-268, 3.29671283e-273,\n",
       "       1.94293022e-278, 1.02000391e-283, 4.76996314e-289, 1.98699493e-294,\n",
       "       7.37304775e-300, 2.43705811e-305, 7.17551825e-311, 1.88195484e-316,\n",
       "       4.44659081e-322, 0.00000000e+000, 0.00000000e+000, 0.00000000e+000,\n",
       "       0.00000000e+000, 0.00000000e+000, 0.00000000e+000, 0.00000000e+000,\n",
       "       0.00000000e+000, 0.00000000e+000, 0.00000000e+000, 0.00000000e+000,\n",
       "       0.00000000e+000, 0.00000000e+000, 0.00000000e+000, 0.00000000e+000,\n",
       "       0.00000000e+000, 0.00000000e+000, 0.00000000e+000, 0.00000000e+000,\n",
       "       0.00000000e+000, 0.00000000e+000, 0.00000000e+000, 0.00000000e+000,\n",
       "       0.00000000e+000, 0.00000000e+000, 0.00000000e+000, 0.00000000e+000,\n",
       "       0.00000000e+000, 0.00000000e+000, 0.00000000e+000, 0.00000000e+000,\n",
       "       0.00000000e+000, 0.00000000e+000, 0.00000000e+000, 0.00000000e+000,\n",
       "       0.00000000e+000, 0.00000000e+000, 0.00000000e+000, 0.00000000e+000,\n",
       "       0.00000000e+000, 0.00000000e+000, 0.00000000e+000, 0.00000000e+000,\n",
       "       0.00000000e+000, 0.00000000e+000, 0.00000000e+000, 0.00000000e+000,\n",
       "       0.00000000e+000, 0.00000000e+000, 0.00000000e+000, 0.00000000e+000,\n",
       "       0.00000000e+000, 0.00000000e+000, 0.00000000e+000, 0.00000000e+000,\n",
       "       0.00000000e+000, 0.00000000e+000, 0.00000000e+000, 0.00000000e+000,\n",
       "       0.00000000e+000, 0.00000000e+000, 0.00000000e+000, 0.00000000e+000,\n",
       "       0.00000000e+000, 0.00000000e+000, 0.00000000e+000, 0.00000000e+000,\n",
       "       0.00000000e+000, 0.00000000e+000, 0.00000000e+000, 0.00000000e+000,\n",
       "       0.00000000e+000, 0.00000000e+000, 0.00000000e+000, 0.00000000e+000,\n",
       "       0.00000000e+000, 0.00000000e+000, 0.00000000e+000, 0.00000000e+000,\n",
       "       0.00000000e+000, 0.00000000e+000, 0.00000000e+000, 0.00000000e+000,\n",
       "       0.00000000e+000, 0.00000000e+000, 0.00000000e+000, 0.00000000e+000])"
      ]
     },
     "execution_count": 68,
     "metadata": {},
     "output_type": "execute_result"
    }
   ],
   "source": [
    "rhovaliid"
   ]
  },
  {
   "cell_type": "code",
   "execution_count": 69,
   "metadata": {},
   "outputs": [
    {
     "name": "stdout",
     "output_type": "stream",
     "text": [
      "(500,)\n"
     ]
    }
   ],
   "source": [
    "print(rhovaliid.shape)"
   ]
  },
  {
   "cell_type": "code",
   "execution_count": 70,
   "metadata": {},
   "outputs": [
    {
     "data": {
      "text/plain": [
       "array([[-0.41987926, -0.41993521, -0.42012718, ..., -0.42125509,\n",
       "        -0.42125509, -0.42125509],\n",
       "       [-1.93972634, -1.93978229, -1.93997426, ..., -1.94110217,\n",
       "        -1.94110217, -1.94110217],\n",
       "       [ 0.24092406,  0.2408681 ,  0.24067613, ...,  0.23954822,\n",
       "         0.23954822,  0.23954822],\n",
       "       ...,\n",
       "       [-0.22135423, -0.22141018, -0.22160216, ..., -0.22273007,\n",
       "        -0.22273007, -0.22273007],\n",
       "       [-1.26865414, -1.26871009, -1.26890207, ..., -1.27002998,\n",
       "        -1.27002998, -1.27002998],\n",
       "       [-0.59256745, -0.5926234 , -0.59281537, ..., -0.59394328,\n",
       "        -0.59394328, -0.59394328]])"
      ]
     },
     "execution_count": 70,
     "metadata": {},
     "output_type": "execute_result"
    }
   ],
   "source": [
    "rhovaliid-yiid_laplace"
   ]
  },
  {
   "cell_type": "code",
   "execution_count": 86,
   "metadata": {},
   "outputs": [],
   "source": [
    "# another way: using MSE\n",
    "mse = (np.square(rhovaliid - pdf_values)).mean(axis=None) \n",
    "# with omitting the ax parameter (or setting it to ax=None) the average is performed element-wise along the array, returning a scalar value\n",
    "# https://stackoverflow.com/questions/16774849/mean-squared-error-in-numpy"
   ]
  },
  {
   "cell_type": "code",
   "execution_count": 87,
   "metadata": {},
   "outputs": [
    {
     "name": "stdout",
     "output_type": "stream",
     "text": [
      "0.017669768852039407\n"
     ]
    }
   ],
   "source": [
    "print(mse)"
   ]
  },
  {
   "cell_type": "code",
   "execution_count": 88,
   "metadata": {},
   "outputs": [
    {
     "ename": "ValueError",
     "evalue": "invalid callable given",
     "output_type": "error",
     "traceback": [
      "\u001b[1;31m---------------------------------------------------------------------------\u001b[0m",
      "\u001b[1;31mValueError\u001b[0m                                Traceback (most recent call last)",
      "Cell \u001b[1;32mIn[88], line 3\u001b[0m\n\u001b[0;32m      1\u001b[0m \u001b[38;5;66;03m# integration: https://docs.scipy.org/doc/scipy/tutorial/integrate.html\u001b[39;00m\n\u001b[0;32m      2\u001b[0m \u001b[38;5;28;01mimport\u001b[39;00m \u001b[38;5;21;01mscipy\u001b[39;00m\u001b[38;5;21;01m.\u001b[39;00m\u001b[38;5;21;01mintegrate\u001b[39;00m \u001b[38;5;28;01mas\u001b[39;00m \u001b[38;5;21;01mintegrate\u001b[39;00m\n\u001b[1;32m----> 3\u001b[0m result \u001b[38;5;241m=\u001b[39m \u001b[43mintegrate\u001b[49m\u001b[38;5;241;43m.\u001b[39;49m\u001b[43mquad\u001b[49m\u001b[43m(\u001b[49m\u001b[43mmse\u001b[49m\u001b[43m,\u001b[49m\u001b[43m \u001b[49m\u001b[38;5;241;43m-\u001b[39;49m\u001b[43mnp\u001b[49m\u001b[38;5;241;43m.\u001b[39;49m\u001b[43minf\u001b[49m\u001b[43m,\u001b[49m\u001b[43m \u001b[49m\u001b[43mnp\u001b[49m\u001b[38;5;241;43m.\u001b[39;49m\u001b[43minf\u001b[49m\u001b[43m)\u001b[49m\n\u001b[0;32m      4\u001b[0m \u001b[38;5;28mprint\u001b[39m(result)\n",
      "File \u001b[1;32mc:\\Users\\waine\\miniconda3\\miniconda\\envs\\qmcpy\\lib\\site-packages\\scipy\\integrate\\_quadpack_py.py:411\u001b[0m, in \u001b[0;36mquad\u001b[1;34m(func, a, b, args, full_output, epsabs, epsrel, limit, points, weight, wvar, wopts, maxp1, limlst)\u001b[0m\n\u001b[0;32m    408\u001b[0m flip, a, b \u001b[38;5;241m=\u001b[39m b \u001b[38;5;241m<\u001b[39m a, \u001b[38;5;28mmin\u001b[39m(a, b), \u001b[38;5;28mmax\u001b[39m(a, b)\n\u001b[0;32m    410\u001b[0m \u001b[38;5;28;01mif\u001b[39;00m weight \u001b[38;5;129;01mis\u001b[39;00m \u001b[38;5;28;01mNone\u001b[39;00m:\n\u001b[1;32m--> 411\u001b[0m     retval \u001b[38;5;241m=\u001b[39m \u001b[43m_quad\u001b[49m\u001b[43m(\u001b[49m\u001b[43mfunc\u001b[49m\u001b[43m,\u001b[49m\u001b[43m \u001b[49m\u001b[43ma\u001b[49m\u001b[43m,\u001b[49m\u001b[43m \u001b[49m\u001b[43mb\u001b[49m\u001b[43m,\u001b[49m\u001b[43m \u001b[49m\u001b[43margs\u001b[49m\u001b[43m,\u001b[49m\u001b[43m \u001b[49m\u001b[43mfull_output\u001b[49m\u001b[43m,\u001b[49m\u001b[43m \u001b[49m\u001b[43mepsabs\u001b[49m\u001b[43m,\u001b[49m\u001b[43m \u001b[49m\u001b[43mepsrel\u001b[49m\u001b[43m,\u001b[49m\u001b[43m \u001b[49m\u001b[43mlimit\u001b[49m\u001b[43m,\u001b[49m\n\u001b[0;32m    412\u001b[0m \u001b[43m                   \u001b[49m\u001b[43mpoints\u001b[49m\u001b[43m)\u001b[49m\n\u001b[0;32m    413\u001b[0m \u001b[38;5;28;01melse\u001b[39;00m:\n\u001b[0;32m    414\u001b[0m     \u001b[38;5;28;01mif\u001b[39;00m points \u001b[38;5;129;01mis\u001b[39;00m \u001b[38;5;129;01mnot\u001b[39;00m \u001b[38;5;28;01mNone\u001b[39;00m:\n",
      "File \u001b[1;32mc:\\Users\\waine\\miniconda3\\miniconda\\envs\\qmcpy\\lib\\site-packages\\scipy\\integrate\\_quadpack_py.py:525\u001b[0m, in \u001b[0;36m_quad\u001b[1;34m(func, a, b, args, full_output, epsabs, epsrel, limit, points)\u001b[0m\n\u001b[0;32m    523\u001b[0m         \u001b[38;5;28;01mreturn\u001b[39;00m _quadpack\u001b[38;5;241m.\u001b[39m_qagse(func,a,b,args,full_output,epsabs,epsrel,limit)\n\u001b[0;32m    524\u001b[0m     \u001b[38;5;28;01melse\u001b[39;00m:\n\u001b[1;32m--> 525\u001b[0m         \u001b[38;5;28;01mreturn\u001b[39;00m \u001b[43m_quadpack\u001b[49m\u001b[38;5;241;43m.\u001b[39;49m\u001b[43m_qagie\u001b[49m\u001b[43m(\u001b[49m\u001b[43mfunc\u001b[49m\u001b[43m,\u001b[49m\u001b[43mbound\u001b[49m\u001b[43m,\u001b[49m\u001b[43minfbounds\u001b[49m\u001b[43m,\u001b[49m\u001b[43margs\u001b[49m\u001b[43m,\u001b[49m\u001b[43mfull_output\u001b[49m\u001b[43m,\u001b[49m\u001b[43mepsabs\u001b[49m\u001b[43m,\u001b[49m\u001b[43mepsrel\u001b[49m\u001b[43m,\u001b[49m\u001b[43mlimit\u001b[49m\u001b[43m)\u001b[49m\n\u001b[0;32m    526\u001b[0m \u001b[38;5;28;01melse\u001b[39;00m:\n\u001b[0;32m    527\u001b[0m     \u001b[38;5;28;01mif\u001b[39;00m infbounds \u001b[38;5;241m!=\u001b[39m \u001b[38;5;241m0\u001b[39m:\n",
      "\u001b[1;31mValueError\u001b[0m: invalid callable given"
     ]
    }
   ],
   "source": [
    "# integration: https://docs.scipy.org/doc/scipy/tutorial/integrate.html\n",
    "import scipy.integrate as integrate\n",
    "result = integrate.quad(mse, -np.inf, np.inf) # error: integrand has to be a callable object, e.g., a function (floats/numbers aren't callable)\n",
    "print(result)"
   ]
  },
  {
   "cell_type": "code",
   "execution_count": null,
   "metadata": {},
   "outputs": [
    {
     "ename": "ValueError",
     "evalue": "invalid callable given",
     "output_type": "error",
     "traceback": [
      "\u001b[1;31m---------------------------------------------------------------------------\u001b[0m",
      "\u001b[1;31mValueError\u001b[0m                                Traceback (most recent call last)",
      "Cell \u001b[1;32mIn[60], line 1\u001b[0m\n\u001b[1;32m----> 1\u001b[0m result \u001b[38;5;241m=\u001b[39m \u001b[43mintegrate\u001b[49m\u001b[38;5;241;43m.\u001b[39;49m\u001b[43mquad\u001b[49m\u001b[43m(\u001b[49m\u001b[38;5;241;43m1\u001b[39;49m\u001b[43m,\u001b[49m\u001b[43m \u001b[49m\u001b[38;5;241;43m-\u001b[39;49m\u001b[43mnp\u001b[49m\u001b[38;5;241;43m.\u001b[39;49m\u001b[43minf\u001b[49m\u001b[43m,\u001b[49m\u001b[43m \u001b[49m\u001b[43mnp\u001b[49m\u001b[38;5;241;43m.\u001b[39;49m\u001b[43minf\u001b[49m\u001b[43m)\u001b[49m\n\u001b[0;32m      2\u001b[0m \u001b[38;5;28mprint\u001b[39m(result)\n",
      "File \u001b[1;32mc:\\Users\\waine\\miniconda3\\miniconda\\envs\\qmcpy\\lib\\site-packages\\scipy\\integrate\\_quadpack_py.py:411\u001b[0m, in \u001b[0;36mquad\u001b[1;34m(func, a, b, args, full_output, epsabs, epsrel, limit, points, weight, wvar, wopts, maxp1, limlst)\u001b[0m\n\u001b[0;32m    408\u001b[0m flip, a, b \u001b[38;5;241m=\u001b[39m b \u001b[38;5;241m<\u001b[39m a, \u001b[38;5;28mmin\u001b[39m(a, b), \u001b[38;5;28mmax\u001b[39m(a, b)\n\u001b[0;32m    410\u001b[0m \u001b[38;5;28;01mif\u001b[39;00m weight \u001b[38;5;129;01mis\u001b[39;00m \u001b[38;5;28;01mNone\u001b[39;00m:\n\u001b[1;32m--> 411\u001b[0m     retval \u001b[38;5;241m=\u001b[39m \u001b[43m_quad\u001b[49m\u001b[43m(\u001b[49m\u001b[43mfunc\u001b[49m\u001b[43m,\u001b[49m\u001b[43m \u001b[49m\u001b[43ma\u001b[49m\u001b[43m,\u001b[49m\u001b[43m \u001b[49m\u001b[43mb\u001b[49m\u001b[43m,\u001b[49m\u001b[43m \u001b[49m\u001b[43margs\u001b[49m\u001b[43m,\u001b[49m\u001b[43m \u001b[49m\u001b[43mfull_output\u001b[49m\u001b[43m,\u001b[49m\u001b[43m \u001b[49m\u001b[43mepsabs\u001b[49m\u001b[43m,\u001b[49m\u001b[43m \u001b[49m\u001b[43mepsrel\u001b[49m\u001b[43m,\u001b[49m\u001b[43m \u001b[49m\u001b[43mlimit\u001b[49m\u001b[43m,\u001b[49m\n\u001b[0;32m    412\u001b[0m \u001b[43m                   \u001b[49m\u001b[43mpoints\u001b[49m\u001b[43m)\u001b[49m\n\u001b[0;32m    413\u001b[0m \u001b[38;5;28;01melse\u001b[39;00m:\n\u001b[0;32m    414\u001b[0m     \u001b[38;5;28;01mif\u001b[39;00m points \u001b[38;5;129;01mis\u001b[39;00m \u001b[38;5;129;01mnot\u001b[39;00m \u001b[38;5;28;01mNone\u001b[39;00m:\n",
      "File \u001b[1;32mc:\\Users\\waine\\miniconda3\\miniconda\\envs\\qmcpy\\lib\\site-packages\\scipy\\integrate\\_quadpack_py.py:525\u001b[0m, in \u001b[0;36m_quad\u001b[1;34m(func, a, b, args, full_output, epsabs, epsrel, limit, points)\u001b[0m\n\u001b[0;32m    523\u001b[0m         \u001b[38;5;28;01mreturn\u001b[39;00m _quadpack\u001b[38;5;241m.\u001b[39m_qagse(func,a,b,args,full_output,epsabs,epsrel,limit)\n\u001b[0;32m    524\u001b[0m     \u001b[38;5;28;01melse\u001b[39;00m:\n\u001b[1;32m--> 525\u001b[0m         \u001b[38;5;28;01mreturn\u001b[39;00m \u001b[43m_quadpack\u001b[49m\u001b[38;5;241;43m.\u001b[39;49m\u001b[43m_qagie\u001b[49m\u001b[43m(\u001b[49m\u001b[43mfunc\u001b[49m\u001b[43m,\u001b[49m\u001b[43mbound\u001b[49m\u001b[43m,\u001b[49m\u001b[43minfbounds\u001b[49m\u001b[43m,\u001b[49m\u001b[43margs\u001b[49m\u001b[43m,\u001b[49m\u001b[43mfull_output\u001b[49m\u001b[43m,\u001b[49m\u001b[43mepsabs\u001b[49m\u001b[43m,\u001b[49m\u001b[43mepsrel\u001b[49m\u001b[43m,\u001b[49m\u001b[43mlimit\u001b[49m\u001b[43m)\u001b[49m\n\u001b[0;32m    526\u001b[0m \u001b[38;5;28;01melse\u001b[39;00m:\n\u001b[0;32m    527\u001b[0m     \u001b[38;5;28;01mif\u001b[39;00m infbounds \u001b[38;5;241m!=\u001b[39m \u001b[38;5;241m0\u001b[39m:\n",
      "\u001b[1;31mValueError\u001b[0m: invalid callable given"
     ]
    }
   ],
   "source": [
    "result = integrate.quad(1, -np.inf, np.inf)\n",
    "print(result)"
   ]
  }
 ],
 "metadata": {
  "kernelspec": {
   "display_name": "qmcpy",
   "language": "python",
   "name": "python3"
  },
  "language_info": {
   "codemirror_mode": {
    "name": "ipython",
    "version": 3
   },
   "file_extension": ".py",
   "mimetype": "text/x-python",
   "name": "python",
   "nbconvert_exporter": "python",
   "pygments_lexer": "ipython3",
   "version": "3.9.13"
  }
 },
 "nbformat": 4,
 "nbformat_minor": 2
}
