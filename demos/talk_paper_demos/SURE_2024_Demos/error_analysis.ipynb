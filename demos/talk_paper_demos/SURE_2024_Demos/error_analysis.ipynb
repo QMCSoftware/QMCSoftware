{
 "cells": [
  {
   "cell_type": "markdown",
   "metadata": {},
   "source": [
    "# Set Up"
   ]
  },
  {
   "cell_type": "markdown",
   "metadata": {},
   "source": [
    "## Colab Installation\n",
    "\n",
    "Run the following code block if you are using this Jupyter notebook in Google Colab. Otherwise skip to importing the packages."
   ]
  },
  {
   "cell_type": "code",
   "execution_count": null,
   "metadata": {},
   "outputs": [],
   "source": [
    "# Run these statements if you are using Google Colab. Otherwise skip this step.\n",
    "!sudo apt install cm-super dvipng texlive-latex-extra texlive-latex-recommended\n",
    "!sudo apt install cm-super\n",
    "!pip install git+https://github.com/QMCSoftware/QMCSoftware.git@SURE2024"
   ]
  },
  {
   "cell_type": "markdown",
   "metadata": {},
   "source": [
    "## Importing Packages"
   ]
  },
  {
   "cell_type": "code",
   "execution_count": null,
   "metadata": {},
   "outputs": [],
   "source": [
    "import matplotlib.pyplot as plt\n",
    "import math\n",
    "import numpy as np\n",
    "import scipy as sp\n",
    "import qmcpy as qp\n",
    "from scipy import stats\n",
    "from copy import deepcopy\n",
    "import sympy as sy\n",
    "import sympy.stats\n",
    "# figpath = '' #this path sends the figures to the directory that you want\n",
    "# savefigs = True  #save the figures on your disk if True\n",
    "# imgfrmt = 'pdf' #kind of format to save figures as"
   ]
  },
  {
   "cell_type": "markdown",
   "metadata": {},
   "source": [
    "# Definitions of Python Functions\n",
    "\n",
    "The following functions are things that will be repeatedly used in the notebook so that there isn't duplicate code all over the place."
   ]
  },
  {
   "cell_type": "markdown",
   "metadata": {},
   "source": [
    "## Graphing Functions\n",
    "\n",
    "The following functions are to help with graphing."
   ]
  },
  {
   "cell_type": "code",
   "execution_count": null,
   "metadata": {},
   "outputs": [],
   "source": [
    "def make_grid(d=3, nper=2):\n",
    "    \"\"\"this function creates a nper^d x d matrix of grid points\"\"\"\n",
    "    xpts = np.linspace(1/(2*nper), 1.0-1/(2*nper), nper)  # array of coordinate values\n",
    "    xgrid = xpts  # initial grid\n",
    "    n = nper  # initial length of grid\n",
    "    for ii in range(1,d):\n",
    "        xgrid0 = xgrid  # store the old grid\n",
    "        xgrid = np.vstack((xgrid0, xpts[0] * np.ones((1, n))))  # stack the next coordinate\n",
    "        for jj in range(1, nper):\n",
    "            xgrid = np.hstack((xgrid, np.vstack((xgrid0, xpts[jj] * np.ones((1, n))))))\n",
    "        n = n * nper  # update the length of the grid\n",
    "    return xgrid.T  # take the transpose to that coordinates are columns\n",
    "\n",
    "def plot_grid(xgrid, coord_to_plot=[0, 1], savefig=True, figpath=''):\n",
    "    \"\"\"Plots a dot grid.\"\"\"\n",
    "    n = xgrid.shape[0]\n",
    "    d = xgrid.shape[1]\n",
    "    coord_to_plot = np.minimum(coord_to_plot, [d, d]), # ensure that they are no more than d\n",
    "    coord_to_plot = coord_to_plot[0]\n",
    "    coord_to_plot = np.maximum(coord_to_plot, [1, 1]), # ensure that they are no less than 1\n",
    "    coord_to_plot = coord_to_plot[0]\n",
    "    fig, ax = plt.subplots()\n",
    "    ax.plot(xgrid[:,coord_to_plot[0]-1], xgrid[:,coord_to_plot[1]-1], 'b.', markersize = 10, zorder=10, clip_on=False)\n",
    "    ax.set_title(f\"{n:.0f} Grid Points for $d = ${d:.0f}\")\n",
    "    ax.set_xlim([0, 1])\n",
    "    ax.set_ylim([0, 1])\n",
    "    ax.set_xlabel(r'$x_{i%d}$'%(coord_to_plot[0]), fontsize=14)\n",
    "    ax.set_ylabel(r'$x_{i%d}$'%(coord_to_plot[1]), fontsize=14)\n",
    "    ax.set_aspect(1)\n",
    "    if savefigs:\n",
    "        fig.savefig(figpath + f\"{n:.0f}gridpts_d{d:.0f}.\" + imgfrmt, format=imgfrmt)\n"
   ]
  },
  {
   "cell_type": "code",
   "execution_count": null,
   "metadata": {},
   "outputs": [],
   "source": [
    "def graph_kernel(bandwidths, lin_spaces, kernel, ylim_lst=[-0.05, 1.2]):\n",
    "  \"\"\"Graphs a given kernel, with given bandwidths, lin_spaces\n",
    "  bandwidths = a list of bandwidths\n",
    "  lin_spaces = a list of 3 integers: start, finish, and number of points\"\"\"\n",
    "  ypts = np.linspace(lin_spaces[0], lin_spaces[1], lin_spaces[2])\n",
    "  nband = len(bandwidths)\n",
    "  fig, ax = plt.subplots(1, 3, figsize=(5*nband, 5))\n",
    "  for ii in range(nband):\n",
    "      ax[ii].plot(ypts,kernel(ypts/bandwidths[ii]) / bandwidths[ii])\n",
    "      ax[ii].grid(False)\n",
    "      ax[ii].set_ylim(ylim_lst)\n",
    "      ax[ii].set_xlabel(r'$y$', fontsize=20)\n",
    "      ax[ii].set_ylabel(r'$h = {%0.1f}$'%bandwidths[ii], fontsize=20)\n",
    "    #   if (ii == 0):\n",
    "    #       ax[ii].set_ylabel(r'$\\widetilde{k}(y) = \\exp(-(y/h)^2)/(\\sqrt{\\pi}h), \\ h = {%0.1f}$'%bandwidths[ii], fontsize=20)\n",
    "    #   else:\n",
    "    #       ax[ii].set_ylabel(r'$h = {%0.1f}$'%bandwidths[ii], fontsize=20)"
   ]
  },
  {
   "cell_type": "code",
   "execution_count": null,
   "metadata": {},
   "outputs": [],
   "source": [
    "def generate_sobol_iid_graph(bandwidths, lin_spaces, kde, kernel, yiid, ysob, ylim_lst=[-0.05, 1.2]):\n",
    "  \"\"\"Generates a graph using IID and Sobol sample points.\n",
    "  bandwidths = a list of bandwidths\n",
    "  lin_spaces = a list of 3 integers: start, finish, and number of points\n",
    "  kde = name of kde function\n",
    "  kernel = name of kernel function\n",
    "  yiid = set of iid points\n",
    "  ysob = set of LD points generated with sobol sequence\"\"\"\n",
    "  nband = len(bandwidths)\n",
    "  yeval = np.linspace(lin_spaces[0], lin_spaces[1], lin_spaces[2])\n",
    "  for ii in range(nband):\n",
    "      rhovaliid = kde(kernel, yiid, bandwidths[ii], yeval)\n",
    "      rhovalsob = kde(kernel, ysob, bandwidths[ii], yeval)\n",
    "      fig,ax = plt.subplots()\n",
    "      ax.plot(yeval, rhovaliid, label = \"IID\")\n",
    "      ax.plot(yeval, rhovalsob, label = \"Sobol\")\n",
    "      ax.legend()\n",
    "      ax.set_ylim(ylim_lst)\n",
    "      ax.set_title(f\"$h = {bandwidths[ii]:.2f}$\")"
   ]
  },
  {
   "cell_type": "code",
   "execution_count": null,
   "metadata": {},
   "outputs": [],
   "source": [
    "def generate_graphs(bandwidths, lin_spaces, kde, kernel, sample_points, ylim_lst=[-0.05, 1.2]):\n",
    "  \"\"\"\n",
    "  Generate graphs involving a kde, kernel, and sample_points.\n",
    "  sample_points is a list of IID, Sobol, Lattice, DNB2, and Halton points.\n",
    "  \"\"\"\n",
    "  nband = len(bandwidths)\n",
    "  yeval = np.linspace(lin_spaces[0], lin_spaces[1], lin_spaces[2])\n",
    "  rho_list = list()\n",
    "  for ii in range(nband):\n",
    "      rhovaliid = kde(kernel, sample_points[0], bandwidths[ii], yeval)\n",
    "      rhovalsob = kde(kernel, sample_points[1], bandwidths[ii], yeval)\n",
    "      rhovallattice = kde(kernel, sample_points[2], bandwidths[ii], yeval)\n",
    "      rhovaldnetb2 = kde(kernel, sample_points[3], bandwidths[ii], yeval)\n",
    "      rhovalhalton = kde(kernel, sample_points[4], bandwidths[ii], yeval)\n",
    "      fig, ax = plt.subplots()\n",
    "      ax.plot(yeval, rhovaliid, label = \"IID\")\n",
    "      ax.plot(yeval, rhovalsob, label = \"Sobol\")\n",
    "      ax.plot(yeval, rhovallattice, label = \"Lattice\")\n",
    "      ax.plot(yeval, rhovaldnetb2, label = \"Digital Net B2\")\n",
    "      ax.plot(yeval, rhovalhalton, label = \"Halton\")\n",
    "      ax.legend()\n",
    "      ax.set_ylim(ylim_lst)\n",
    "      ax.set_title(f\"$h = {bandwidths[ii]:.2f}$\")"
   ]
  },
  {
   "cell_type": "markdown",
   "metadata": {},
   "source": [
    "## Generate Functions\n",
    "\n",
    "The following functions are used to generate different types of sample points."
   ]
  },
  {
   "cell_type": "code",
   "execution_count": null,
   "metadata": {},
   "outputs": [],
   "source": [
    "def gen_iid_and_sobol(dimen = 3, n = 2**12):\n",
    "  \"\"\"Generate IID and Sobol sample points based on given sample size and dimensions.\"\"\"\n",
    "  coord_wts = 2.0 ** (-np.array(range(0, dimen)))\n",
    "  iidpts = qp.IIDStdUniform(dimen).gen_samples(n)\n",
    "  sobpts = qp.Sobol(dimen).gen_samples(n)\n",
    "  return (iidpts, sobpts)\n",
    "\n",
    "def gen_iid_ld_pts(dimen = 3, n = 2**12):\n",
    "  \"\"\"\n",
    "  Generate IID, Sobol, Lattic, DNB2, and Halton sample points,\n",
    "  based on dimension and smaple size.\n",
    "  \"\"\"\n",
    "  coord_wts = 2.0**(-np.array(range(0, dimen)))\n",
    "  iidpts = qp.IIDStdUniform(dimen).gen_samples(n)\n",
    "  sobpts = qp.Sobol(dimen).gen_samples(n)\n",
    "  latticepts = qp.Lattice(dimen).gen_samples(n)\n",
    "  dnetb2pts = qp.DigitalNetB2(dimen).gen_samples(n)\n",
    "  haltonpts = qp.Halton(dimen).gen_samples(n)\n",
    "  return (iidpts, sobpts, latticepts, dnetb2pts, haltonpts)"
   ]
  },
  {
   "cell_type": "markdown",
   "metadata": {},
   "source": [
    "## Generating Points\n",
    "\n",
    "Generating sequences of IID and LD points, with dimensions 1, 2, 3, and 5."
   ]
  },
  {
   "cell_type": "code",
   "execution_count": null,
   "metadata": {},
   "outputs": [],
   "source": [
    "iidpts1_10, sobpts1_10 = gen_iid_and_sobol(dimen = 1, n = 2**10)\n",
    "iidpts1_11, sobpts1_11 = gen_iid_and_sobol(dimen = 1, n = 2**11)\n",
    "iidpts1_12, sobpts1_12 = gen_iid_and_sobol(dimen = 1, n = 2**12)\n",
    "iidpts1_13, sobpts1_13 = gen_iid_and_sobol(dimen = 1, n = 2**13)\n",
    "iidpts1_14, sobpts1_14 = gen_iid_and_sobol(dimen = 1, n = 2**14)\n",
    "\n",
    "iidpts2_10, sobpts2_10 = gen_iid_and_sobol(dimen = 2, n = 2**10)\n",
    "iidpts2_11, sobpts2_11 = gen_iid_and_sobol(dimen = 2, n = 2**11)\n",
    "iidpts2_12, sobpts2_12 = gen_iid_and_sobol(dimen = 2, n = 2**12)\n",
    "iidpts2_13, sobpts2_13 = gen_iid_and_sobol(dimen = 2, n = 2**13)\n",
    "iidpts2_14, sobpts2_14 = gen_iid_and_sobol(dimen = 2, n = 2**14)\n",
    "\n",
    "iidpts3_10, sobpts3_10 = gen_iid_and_sobol(dimen = 3, n = 2**10)\n",
    "iidpts3_11, sobpts3_11 = gen_iid_and_sobol(dimen = 3, n = 2**11)\n",
    "iidpts3_12, sobpts3_12 = gen_iid_and_sobol(dimen = 3, n = 2**12)\n",
    "iidpts3_13, sobpts3_13 = gen_iid_and_sobol(dimen = 3, n = 2**13)\n",
    "iidpts3_14, sobpts3_14 = gen_iid_and_sobol(dimen = 3, n = 2**14)\n",
    "\n",
    "iidpts5_10, sobpts5_10 = gen_iid_and_sobol(dimen = 5, n = 2**10)\n",
    "iidpts5_11, sobpts5_11 = gen_iid_and_sobol(dimen = 5, n = 2**11)\n",
    "iidpts5_12, sobpts5_12 = gen_iid_and_sobol(dimen = 5, n = 2**12)\n",
    "iidpts5_13, sobpts5_13 = gen_iid_and_sobol(dimen = 5, n = 2**13)\n",
    "iidpts5_14, sobpts5_14 = gen_iid_and_sobol(dimen = 5, n = 2**14)"
   ]
  },
  {
   "cell_type": "code",
   "execution_count": null,
   "metadata": {},
   "outputs": [],
   "source": [
    "# dim = 1, n = 2**12\n",
    "# iidpts1, sobpts1, latticepts1, dnetb2pts1, haltonpts1 = gen_iid_ld_pts(dimen = 1, n = 2**12)\n",
    "# print(\"iid: \", iidpts1)\n",
    "# print(\"sobol: \", sobpts1)\n",
    "# print(\"lattice: \", latticepts1)\n",
    "# print(\"digital net B2: \", dnetb2pts1)\n",
    "# print(\"halton: \", haltonpts1)"
   ]
  },
  {
   "cell_type": "markdown",
   "metadata": {},
   "source": [
    "## Kernels and KDEs\n",
    "\n",
    "The following are definitions of different kernels used in the notebook. Some may be defined later, but these are ones used throughout the notebook or commonly used/known."
   ]
  },
  {
   "cell_type": "markdown",
   "metadata": {},
   "source": [
    "The gaussian kernel defined below represents the following:\n",
    "\n",
    "$$\n",
    "\\frac{e^{-y^2}}{\\sqrt{\\pi}}\n",
    "$$"
   ]
  },
  {
   "cell_type": "code",
   "execution_count": null,
   "metadata": {},
   "outputs": [],
   "source": [
    "def kernel(y):\n",
    "    return np.exp(-y * y) / np.sqrt(np.pi)"
   ]
  },
  {
   "cell_type": "markdown",
   "metadata": {},
   "source": [
    "#### Generate some $y_i=f(x_i)$ points\n",
    "$\n",
    "f(\\mathbf{x}) = 10 \\exp(- w_1x_1 - \\cdots - w_d x_d) \\sin(w_1x_1 + \\cdots +w_d x_d)\n",
    "$"
   ]
  },
  {
   "cell_type": "code",
   "execution_count": null,
   "metadata": {},
   "outputs": [],
   "source": [
    "def testfun1(x, coord_wts = 1): # function f(x) defines the random variable\n",
    "    wtx = np.multiply(x, coord_wts)\n",
    "    y = 10 * np.exp(-wtx.sum(1)) * np.sin(np.pi * wtx.sum(1))\n",
    "    #y = x[:,0] # if x is uniform, then y is uniform\n",
    "    return y"
   ]
  },
  {
   "cell_type": "markdown",
   "metadata": {},
   "source": [
    "The following *Kernel Density Estimator* (KDE)\n",
    "\n",
    "$$\n",
    "\\varrho() = \\frac{k\\left(\\frac{y - Y}{h}\\right)}{h}\n",
    "$$\n",
    "\n",
    "*(Still needs work.)*"
   ]
  },
  {
   "cell_type": "code",
   "execution_count": null,
   "metadata": {},
   "outputs": [],
   "source": [
    "def kde(kernel, ypts, bandwidth, yeval):\n",
    "    neval = len(yeval)\n",
    "    rhoval = np.zeros_like(yeval) #values of density estimator\n",
    "    for ii in range(len(yeval)):\n",
    "        rhoval[ii] = np.mean(kernel((yeval[ii]-ypts) / bandwidth)) / bandwidth\n",
    "    return rhoval"
   ]
  },
  {
   "cell_type": "markdown",
   "metadata": {},
   "source": [
    "# Kernel Density Estimator for Uniform Distribution"
   ]
  },
  {
   "cell_type": "code",
   "execution_count": null,
   "metadata": {},
   "outputs": [],
   "source": [
    "def testfun_unif(x, coord_wts = 1): # function f(x) defines the random variable\n",
    "    wtx = np.multiply(x, coord_wts)\n",
    "    # y = 10*np.exp(-wtx.sum(1))*np.sin(np.pi*wtx.sum(1))\n",
    "    y = x[:,0] # if x is uniform, then y is uniform\n",
    "    return y"
   ]
  },
  {
   "cell_type": "markdown",
   "metadata": {},
   "source": [
    "# Testing Different Kernels \n",
    "(http://dx.doi.org/10.4236/ojapps.2013.31B012)"
   ]
  },
  {
   "cell_type": "markdown",
   "metadata": {},
   "source": [
    "The following Python function definition is the expression:\n",
    "\n",
    "$$\n",
    "y=\\begin{cases}\n",
    "            \\frac{3}{4}(1-y^{2}), & |y| \\leq 1\\\\\n",
    "            0, & Otherwise\n",
    "        \\end{cases}\n",
    "$$"
   ]
  },
  {
   "cell_type": "code",
   "execution_count": null,
   "metadata": {},
   "outputs": [],
   "source": [
    "# Epanechnikov (parabolic)--best performance, highest efficiency according to paper\n",
    "def kernel_epan(y):\n",
    "    return np.heaviside(1-np.absolute(y), 1/2)*(0.75*(1-(y**2)))"
   ]
  },
  {
   "cell_type": "markdown",
   "metadata": {},
   "source": [
    "The following Python function definition is the expression:\n",
    "\n",
    "$$\n",
    "y=\\begin{cases}\n",
    "            \\frac{\\pi}{4}\\cos\\left(\\frac{\\pi}{2} y\\right), & |y| \\leq 1\\\\\n",
    "            0, & Otherwise\n",
    "        \\end{cases}\n",
    "$$"
   ]
  },
  {
   "cell_type": "code",
   "execution_count": null,
   "metadata": {},
   "outputs": [],
   "source": [
    "# cosine--has good performance according to paper?\n",
    "def kernel_cos(y):\n",
    "    return np.heaviside(1-np.absolute(y), 1/2)*(math.pi/4)*np.cos((math.pi/2)*y)"
   ]
  },
  {
   "cell_type": "markdown",
   "metadata": {},
   "source": [
    "The following Python function defines the kernel:\n",
    "\n",
    "$$\n",
    "y=\\begin{cases}\n",
    "            1 - |y|, & |y| \\leq 1\\\\\n",
    "            0, & Otherwise\n",
    "        \\end{cases}\n",
    "$$"
   ]
  },
  {
   "cell_type": "code",
   "execution_count": null,
   "metadata": {},
   "outputs": [],
   "source": [
    "# triangular kernel\n",
    "def kernel_tri(y):\n",
    "    return np.heaviside(1-np.absolute(y), 1/2)*(1 - np.absolute(y))"
   ]
  },
  {
   "cell_type": "markdown",
   "metadata": {},
   "source": [
    "The following Python function defines the kernel:\n",
    "\n",
    "$$\n",
    "y=\\begin{cases}\n",
    "            \\frac{1}{\\pi} (1-\\frac{y^2}{2}) e^-(\\frac{y^2}{2}), & |y| \\leq 1\\\\\n",
    "            0, & Otherwise\n",
    "        \\end{cases}\n",
    "$$"
   ]
  },
  {
   "cell_type": "code",
   "execution_count": null,
   "metadata": {},
   "outputs": [],
   "source": [
    "# laplacian of Gaussian--performed poorly according to paper\n",
    "def kernel_laog(y):\n",
    "    return np.heaviside(1-np.absolute(y), 1/2)*((1/math.pi)*(1-(y**2)/2)*np.exp(-(y**2)/2))"
   ]
  },
  {
   "cell_type": "markdown",
   "metadata": {},
   "source": [
    "## Hermite Kernel\n",
    "\n",
    "The following comes from Dr. Hickernell's KDE experiment notebook.\n"
   ]
  },
  {
   "cell_type": "code",
   "execution_count": null,
   "metadata": {},
   "outputs": [],
   "source": [
    "# Original hermite kernel function from Dr. Hickernell\n",
    "y = sy.symbols('y', real = True)\n",
    "h = sy.symbols('h', positive = True)\n",
    "def sy_hermite_kernel(y = sy.symbols('y', real = True), band_width = sy.symbols('h', positive = True), r = 1, only_coef = False):\n",
    "    '''\n",
    "    band_width = the kernel band width, often denoted h; a smaller bandwidth means a peakier kernel\n",
    "    r = number of terms in our kernel\n",
    "    '''\n",
    "    \n",
    "#    import sympy as sy\n",
    "    wt = sy.exp(-y*y) #normalizing weight for Hermite functions\n",
    "    k = sy.zeros(r,1) #initialize a vector of bases that make up the kernel\n",
    "    intk = sy.zeros(r,r) #initialize a matrix of integrals of the bases with respect to even degree polynomials\n",
    "    for ii in range(r):\n",
    "        k[ii] = sy.hermite(2*ii,y)*wt #form the bases\n",
    "        for jj in range(r):\n",
    "            intk[jj,ii] = sy.integrate(k[ii]*(y**(2*jj)),(y,-sy.oo,sy.oo)) #evaluate the integrals against even degree monomials\n",
    "            # to hardcode the above line:\n",
    "            # r = 0: intk[jj, ii] = (np.exp(-y**2))/((math.pi)**0.5)\n",
    "            # r = 1: intk[jj, ii] = ((3-2*y**2)*np.exp(-y**2))/(2*(math.pi)**0.5)\n",
    "            # r = 2: intk[jj, ii] = ((4*y**4 - 20*y**2 +15)*np.exp(-y**2))/(8*(math.pi)**0.5)\n",
    "    tot_int = sy.Matrix.vstack(sy.ones(1,1),sy.zeros(r-1,1)) #the kernel should integrate to one, \n",
    "        #and the kernel integrated against y, y^2, ..., y^r should be zero\n",
    "#    print(tot_int)\n",
    "    coef = sy.Matrix(list(sy.linsolve((intk,tot_int)))) #solve the system of equations for the coefficients of the bases\n",
    "    if only_coef:\n",
    "        return coef\n",
    "    print(coef)\n",
    "#    ktilde = coef.dot(k)\n",
    "#    integk = sy.integrate(ktilde,(y,-sy.oo,sy.oo))\n",
    "#    print('integk =',integk)\n",
    "    ktilde = coef.dot(k.subs(y,y/band_width)/band_width) #form the isotropic kernel and insert the bandwidth dependency\n",
    "#    integ = sy.integrate(ktilde,(y,-sy.oo,sy.oo))\n",
    "#    print('integ =',integ)\n",
    "#    print(band_width)\n",
    "#    print(ktilde)\n",
    "    return coef.dot(k.subs(y,y/band_width)/band_width)"
   ]
  },
  {
   "cell_type": "code",
   "execution_count": null,
   "metadata": {},
   "outputs": [],
   "source": [
    "# testing original hermite kernel function\n",
    "\n",
    "test_kernel_sy = sy_hermite_kernel(r=1) # r = number terms in kernel\n",
    "print(type(test_kernel_sy))\n",
    "print('kernel =',test_kernel_sy)\n",
    "integ = sy.integrate(test_kernel_sy,(y,-sy.oo,sy.oo))\n",
    "print('integ =',integ) # should be 1\n",
    "test_kernel_sy = sy_hermite_kernel(r=1,only_coef = True)\n",
    "print(test_kernel_sy)\n",
    "test_kernel_sy = sy_hermite_kernel(r=2,only_coef = True)\n",
    "print(test_kernel_sy)\n",
    "test_kernel_sy = sy_hermite_kernel(r=3,only_coef = True)\n",
    "print(test_kernel_sy)"
   ]
  },
  {
   "cell_type": "code",
   "execution_count": null,
   "metadata": {},
   "outputs": [],
   "source": [
    "# hardcoding hermite kernel coefficients\n",
    "\n",
    "def hardcode_hermite_kernel(r):\n",
    "    '''\n",
    "    returns hermite coefficients for r = 0, 1, or 2\n",
    "    band_width = the kernel band width, often denoted h; a smaller bandwidth means a peakier kernel\n",
    "    r = number of terms in our kernel\n",
    "    '''\n",
    "    if r==0:\n",
    "        return sy.Matrix([[1/(math.pi)**0.5]])\n",
    "    elif r==1:\n",
    "        return sy.Matrix([[1/(math.pi)**0.5, -1/(4*(math.pi)**0.5)]])\n",
    "    elif r==2:\n",
    "        return sy.Matrix([[1/(math.pi)**0.5, -1/(4*(math.pi)**0.5), 1/(32*(math.pi)**0.5)]])\n",
    "    else:\n",
    "        raise ValueError(\"Invalid input. r must be 0, 1, or 2.\")\n",
    "    \n",
    "# Coefficients: \n",
    "# r = 0 (corresponds to r = 1 from original function): Matrix([[1/sqrt(pi)]])\n",
    "# r = 1 (corresponds to r = 2 from original function): Matrix([[1/sqrt(pi), -1/(4*sqrt(pi))]])\n",
    "# r = 2 (correpsonds to r = 3 from original function): Matrix([[1/sqrt(pi), -1/(4*sqrt(pi)), 1/(32*sqrt(pi))]])"
   ]
  },
  {
   "cell_type": "code",
   "execution_count": null,
   "metadata": {},
   "outputs": [],
   "source": [
    "# hardcoding hermite kernel coefficients without sympy\n",
    "\n",
    "def hardcode_hermite_kernel_simple(r):\n",
    "    '''\n",
    "    returns hermite coefficients for r = 0, 1, or 2\n",
    "    band_width = the kernel band width, often denoted h; a smaller bandwidth means a peakier kernel\n",
    "    r = number of terms in our kernel\n",
    "    '''\n",
    "    if r==0:\n",
    "        return np.matrix([1/(math.pi)**0.5])\n",
    "    elif r==1:\n",
    "        return np.matrix([[1/(math.pi)**0.5, -1/(4*(math.pi)**0.5)]])\n",
    "    elif r==2:\n",
    "        return np.matrix([[1/(math.pi)**0.5, -1/(4*(math.pi)**0.5), 1/(32*(math.pi)**0.5)]])\n",
    "    else:\n",
    "        raise ValueError(\"Invalid input. r must be 0, 1, or 2.\")\n",
    "    \n",
    "# Coefficients: \n",
    "# r = 0 (corresponds to r = 1 from original function): Matrix([[1/sqrt(pi)]])\n",
    "# r = 1 (corresponds to r = 2 from original function): Matrix([[1/sqrt(pi), -1/(4*sqrt(pi))]])\n",
    "# r = 2 (correpsonds to r = 3 from original function): Matrix([[1/sqrt(pi), -1/(4*sqrt(pi)), 1/(32*sqrt(pi))]])"
   ]
  },
  {
   "cell_type": "code",
   "execution_count": null,
   "metadata": {},
   "outputs": [],
   "source": [
    "# original function: define hermite kernel for r = 1 (corresopnds to r = 0 in the hardcoded case)\n",
    "def hermite_kernel(y, r = 1):\n",
    "    '''\n",
    "    r = number of terms in our kernel\n",
    "    '''\n",
    "    coef = np.array(sy.N(sy_hermite_kernel(r = r, only_coef = True)))\n",
    "    # print(coef)\n",
    "    poly = sp.special.hermite(0)\n",
    "    # print(poly)\n",
    "    k = sp.special.hermite(0)(y)*coef[0] #initialize a vector of kernel values\n",
    "    # print(k)\n",
    "    for ii in range(1,r):\n",
    "        k += sp.special.hermite(2*ii)(y)*coef[ii] #add the additional terms\n",
    "    k*=np.exp(-y*y/2) #normalizing weight for Hermite functions #form the isotropic kernel and insert the bandwidth dependency\n",
    "    return k"
   ]
  },
  {
   "cell_type": "code",
   "execution_count": null,
   "metadata": {},
   "outputs": [],
   "source": [
    "# hardcoded: define hermite kernel for r = 0 (corresponds to r = 1 in the original case)\n",
    "def hardcode_hermite_kernel_weight(y, r = 0):\n",
    "    '''\n",
    "    r = number of terms in our kernel\n",
    "    '''\n",
    "    coef = np.array((hardcode_hermite_kernel(r = r)))\n",
    "    # print(coef)\n",
    "    # poly = sp.special.hermite(0)\n",
    "    # print(poly)\n",
    "    k = sp.special.hermite(0)(y)*coef[0][0] #initialize a vector of kernel values\n",
    "    # print(k)\n",
    "    for ii in range(0,r):\n",
    "        k += sp.special.hermite(2*ii)(y)*coef[0][ii] #add the additional terms\n",
    "    k*=np.exp(-y*y/2) #normalizing weight for Hermite functions #form the isotropic kernel and insert the bandwidth dependency\n",
    "    return k"
   ]
  },
  {
   "cell_type": "code",
   "execution_count": null,
   "metadata": {},
   "outputs": [],
   "source": [
    "# hardcoded without scipy: define hermite kernel for r = 0 (corresponds to r = 1 in the original case)\n",
    "def simple_hardcode_hermite_kernel_weight(y, r = 0):\n",
    "    '''\n",
    "    r = number of terms in our kernel\n",
    "    '''\n",
    "    coef = np.array((hardcode_hermite_kernel(r = r)))\n",
    "    hermite_polys = [sp.poly1d([1.]), sp.poly1d([4.,  0., -2.]), sp.poly1d([ 1.6000000e+01,  0.0000000e+00, -4.8000000e+01, -8.8817842e-16,\n",
    "        1.2000000e+01])]\n",
    "    # print(coef)\n",
    "    # poly = sp.special.hermite(0)\n",
    "    # print(poly)\n",
    "    k = sp.poly1d([1.])(y)*coef[0][0] #initialize a vector of kernel values\n",
    "    # print(k)\n",
    "    for ii in range(0,r):\n",
    "        k += hermite_polys[r](y)*coef[0][ii] #add the additional terms\n",
    "    k*=np.exp(-y*y/2) #normalizing weight for Hermite functions #form the isotropic kernel and insert the bandwidth dependency\n",
    "    return k"
   ]
  },
  {
   "cell_type": "code",
   "execution_count": null,
   "metadata": {},
   "outputs": [],
   "source": [
    "# original: define hermite kernel for r = 2 (corresopnds to r = 1 in the hardcoded case)\n",
    "def hermite_kernel_2(y, r = 2):\n",
    "    '''\n",
    "    r = number of terms in our kernel\n",
    "    '''\n",
    "    coef = np.array(sy.N(sy_hermite_kernel(r = r, only_coef = True)))\n",
    "    # print(coef)\n",
    "    poly = sp.special.hermite(0) # why use the 0th polynomial?\n",
    "    # print(poly)\n",
    "    # for i in range(len(coef[0])):\n",
    "    #     print(coef[0][i])\n",
    "    k = sp.special.hermite(0)(y)*coef[0][0] #initialize a vector of kernel values\n",
    "    # print(k)\n",
    "    for ii in range(1,r):\n",
    "        k += sp.special.hermite(2*ii)(y)*coef[0][ii] #add the additional terms\n",
    "    k*=np.exp(-y*y/2) #normalizing weight for Hermite functions #form the isotropic kernel and insert the bandwidth dependency\n",
    "    return k"
   ]
  },
  {
   "cell_type": "code",
   "execution_count": null,
   "metadata": {},
   "outputs": [],
   "source": [
    "# hardcoded: define hermite kernel for r = 1 (corresponds to r = 2 in the original case)\n",
    "def hardcode_hermite_kernel_weight_1(y, r = 1):\n",
    "    '''\n",
    "    r = number of terms in our kernel\n",
    "    '''\n",
    "    coef = np.array((hardcode_hermite_kernel(r = r)))\n",
    "    # print(coef)\n",
    "    poly = sp.special.hermite(0)\n",
    "    # print(poly)\n",
    "    k = sp.special.hermite(0)(y)*coef[0][0] #initialize a vector of kernel values\n",
    "    # print(k)\n",
    "    for ii in range(0,r):\n",
    "        k += sp.special.hermite(2*ii)(y)*coef[0][ii] #add the additional terms\n",
    "    k*=np.exp(-y*y/2) #normalizing weight for Hermite functions #form the isotropic kernel and insert the bandwidth dependency\n",
    "    return k"
   ]
  },
  {
   "cell_type": "code",
   "execution_count": null,
   "metadata": {},
   "outputs": [],
   "source": [
    "# hardcoded without scipy: define hermite kernel for r = 1 (corresponds to r = 2 in the original case)\n",
    "def simple_hardcode_hermite_kernel_weight_1(y, r = 1):\n",
    "    '''\n",
    "    r = number of terms in our kernel\n",
    "    '''\n",
    "    coef = np.array((hardcode_hermite_kernel(r = r)))\n",
    "    hermite_polys = [sp.poly1d([1.]), sp.poly1d([4.,  0., -2.]), sp.poly1d([ 1.6000000e+01,  0.0000000e+00, -4.8000000e+01, -8.8817842e-16,\n",
    "        1.2000000e+01])]\n",
    "    # print(coef)\n",
    "    # poly = sp.special.hermite(0)\n",
    "    # print(poly)\n",
    "    k = sp.poly1d([1.])(y)*coef[0][0] #initialize a vector of kernel values\n",
    "    # print(k)\n",
    "    for ii in range(0,r):\n",
    "        k += hermite_polys[r](y)*coef[0][ii] #add the additional terms\n",
    "    k*=np.exp(-y*y/2) #normalizing weight for Hermite functions #form the isotropic kernel and insert the bandwidth dependency\n",
    "    return k"
   ]
  },
  {
   "cell_type": "code",
   "execution_count": null,
   "metadata": {},
   "outputs": [],
   "source": [
    "# hardcoded: define hermite kernel for r = 2 (corresponds to r = 3 in the original case)\n",
    "def hardcode_hermite_kernel_weight_2(y, r = 2):\n",
    "    '''\n",
    "    r = number of terms in our kernel\n",
    "    '''\n",
    "    coef = np.array((hardcode_hermite_kernel(r = r)))\n",
    "    # print(coef)\n",
    "    poly = sp.special.hermite(0)\n",
    "    # print(poly)\n",
    "    k = sp.special.hermite(0)(y)*coef[0][0] #initialize a vector of kernel values\n",
    "    # print(k)\n",
    "    for ii in range(0,r):\n",
    "        k += sp.special.hermite(2*ii)(y)*coef[0][ii] #add the additional terms\n",
    "    k*=np.exp(-y*y/2) #normalizing weight for Hermite functions #form the isotropic kernel and insert the bandwidth dependency\n",
    "    return k"
   ]
  },
  {
   "cell_type": "code",
   "execution_count": null,
   "metadata": {},
   "outputs": [],
   "source": [
    "# hardcoded: define hermite kernel for r = 2 (corresponds to r = 3 in the original case)\n",
    "def simple_hardcode_hermite_kernel_weight_2(y, r = 2):\n",
    "    '''\n",
    "    r = number of terms in our kernel\n",
    "    '''\n",
    "    coef = np.array((hardcode_hermite_kernel(r = r)))\n",
    "    hermite_polys = [sp.poly1d([1.]), sp.poly1d([4.,  0., -2.]), sp.poly1d([ 1.6000000e+01,  0.0000000e+00, -4.8000000e+01, -8.8817842e-16,\n",
    "        1.2000000e+01])]\n",
    "    # print(coef)\n",
    "    # poly = sp.special.hermite(0)\n",
    "    # print(poly)\n",
    "    k = sp.poly1d([1.])(y)*coef[0][0]  #initialize a vector of kernel values\n",
    "    # print(k)\n",
    "    for ii in range(0,r):\n",
    "        k += hermite_polys[r](y)*coef[0][ii] #add the additional terms\n",
    "    k*=np.exp(-y*y/2) #normalizing weight for Hermite functions #form the isotropic kernel and insert the bandwidth dependency\n",
    "    return k"
   ]
  },
  {
   "cell_type": "code",
   "execution_count": null,
   "metadata": {},
   "outputs": [],
   "source": [
    "# using simplified np.matrix for coefficients, instead of sympy.matrix\n",
    "def hardcode_hermite_kernel_weight_v2(y, r = 2):\n",
    "    '''\n",
    "    r = number of terms in our kernel\n",
    "    '''\n",
    "    coef = np.array((hardcode_hermite_kernel_simple(r = r)))\n",
    "    # print(coef)\n",
    "    # poly = sp.special.hermite(0)\n",
    "    # print(poly)\n",
    "    k = sp.special.hermite(0)(y) * coef[0][0] #initialize a vector of kernel values\n",
    "    # print(k)\n",
    "    for ii in range(0, r):\n",
    "        k += sp.special.hermite(2*ii)(y) * coef[0][ii] #add the additional terms\n",
    "    k *= np.exp(-y*y/2) #normalizing weight for Hermite functions #form the isotropic kernel and insert the bandwidth dependency\n",
    "    return k"
   ]
  },
  {
   "cell_type": "markdown",
   "metadata": {},
   "source": [
    "## Testing Different Functions f(x)--using Gaussian kernel in all cases."
   ]
  },
  {
   "cell_type": "markdown",
   "metadata": {},
   "source": [
    "### Exponential Distribution: \n",
    "\n",
    "If X has a standard uniform distribution, i.e., $X \\sim U(0, 1)$, then the random variable $Y = -\\lambda^{-1} ln(X)$ has an exponential distribution with rate parameter $\\lambda$."
   ]
  },
  {
   "cell_type": "code",
   "execution_count": null,
   "metadata": {},
   "outputs": [],
   "source": [
    "# exponential, lambda = 1:\n",
    "def testfun_exp(x,coord_wts = 1): # function f(x) defines the random variable\n",
    "    wtx = np.multiply(x,coord_wts)\n",
    "    y = -np.log(wtx)\n",
    "    return y"
   ]
  },
  {
   "cell_type": "markdown",
   "metadata": {},
   "source": [
    "### Laplace Distribution:\n",
    "\n",
    "If X and Y have a standard uniform distribution, i.e., $X, Y \\sim U(0, 1)$, then $\\log{}{\\frac{X}{Y}} \\sim \\text{Laplace}(0, 1)$. "
   ]
  },
  {
   "cell_type": "code",
   "execution_count": null,
   "metadata": {},
   "outputs": [],
   "source": [
    "## laplace: mu = 0, b = 1\n",
    "def testfun_laplace(x1,x2,coord_wts = 1): # function f(x) defines the random variable\n",
    "    wtx1 = np.multiply(x1,coord_wts)\n",
    "    wtx2 = np.multiply(x2,coord_wts)\n",
    "    y = np.log10(wtx1/wtx2)\n",
    "    return y"
   ]
  },
  {
   "cell_type": "markdown",
   "metadata": {},
   "source": [
    "## Error Analysis:"
   ]
  },
  {
   "cell_type": "code",
   "execution_count": null,
   "metadata": {},
   "outputs": [],
   "source": [
    "# import scipy.integrate as integrate"
   ]
  },
  {
   "cell_type": "code",
   "execution_count": null,
   "metadata": {},
   "outputs": [],
   "source": [
    "# def true_func(true_func, x):\n",
    "#     '''\n",
    "#     returns the true value of a function given an input x\n",
    "#     true_func = the function we are trying to estimate (e.g., f(x), exponential PDF, laplace PDF, etc.)\n",
    "#     x = a float\n",
    "#     '''\n",
    "#     return true_func(x)"
   ]
  },
  {
   "cell_type": "code",
   "execution_count": null,
   "metadata": {},
   "outputs": [],
   "source": [
    "# def estimated_pts(kde_func, kernel_func, points, bw, x):\n",
    "#     '''\n",
    "#     returns the estimation of a function at a point x using the specified KDE\n",
    "#     kde_func = the function that builds the KDE\n",
    "#     kernel_func = function that defines the kernel\n",
    "#     points = an array of randomly-generated iid or ld points\n",
    "#     bw = bandwidth (a float)\n",
    "#     x = a float\n",
    "#     '''\n",
    "#     return kde_func(kernel_func, points, bw, x)"
   ]
  },
  {
   "cell_type": "code",
   "execution_count": null,
   "metadata": {},
   "outputs": [],
   "source": [
    "# def squared_difference(true_func, estimate_func, x):\n",
    "#     '''\n",
    "#     returns the squared error between the true value and estimated value at a point x\n",
    "#     true_func = actual function that we are trying to estimate (e.g., f(x), exponential PDF, laplace PDF, etc.)\n",
    "#     estimate_func = function that returns estimation of the function at the point x\n",
    "#     x = a float\n",
    "#     '''\n",
    "#     return (true_func(x) - estimate_func(x))**2"
   ]
  },
  {
   "cell_type": "code",
   "execution_count": null,
   "metadata": {},
   "outputs": [],
   "source": [
    "# def optimal_h(h_space, pts, kde, kernel, true_function):\n",
    "#     '''\n",
    "#     returns optimal bandwidth and lowest value of MISE\n",
    "#     h_space: a set of bandwidths to be tested (e.g., np.linspace(0.001, 3, 100))\n",
    "#     pts: set of randomly generated points (IID or LD)\n",
    "#     kde: kde function\n",
    "#     kernel: function that defines kernel\n",
    "#     true_function: function that we are trying to estimate (e.g., uniform, exponential, etc.)\n",
    "#     '''\n",
    "\n",
    "#     h_optimal = 0\n",
    "#     lowest_mise = np.inf\n",
    "\n",
    "#     for h in h_space:\n",
    "#         def estimated_pts(x):\n",
    "#             return kde(kernel, pts, h, x)\n",
    "#         def squared_difference_pts(x):\n",
    "#             return (true_function(x) - estimated_pts(x))**2\n",
    "#         mise, error = integrate.quad(squared_difference_pts, -4, 8)\n",
    "#         if mise < lowest_mise:\n",
    "#             lowest_mise = mise\n",
    "#             h_optimal = h\n",
    "\n",
    "#     return(lowest_mise, h_optimal)"
   ]
  },
  {
   "cell_type": "code",
   "execution_count": null,
   "metadata": {},
   "outputs": [],
   "source": [
    "import pandas as pd"
   ]
  },
  {
   "cell_type": "code",
   "execution_count": null,
   "metadata": {},
   "outputs": [],
   "source": [
    "def graph_rmse_vs_bandwidth(h_list, rmse_func, n, pts, kernel, kde, xeval, graph_title):\n",
    "    '''\n",
    "    generates a graph of rmse vs. log-scaled bandwidth\n",
    "    \n",
    "    h_list = list of bandwidths to be tested (log-scaled bandwidth on x-axis)\n",
    "    rmse_func = function that computes rmse for a particular bandwidth value\n",
    "    n = number of points\n",
    "    pts = set of points (IID or LD)\n",
    "    kernel = kernel function\n",
    "    kde = kernel density estimator function\n",
    "    xeval = set of points that is range of x-axis (e.g., np.linspace(-4, 8, 500))\n",
    "    graph_title = a string that will become title of graph\n",
    "    '''\n",
    "\n",
    "    rmse_list = []\n",
    "    for i in range(len(h_list)):\n",
    "        rmse_list.append(rmse_func(h_list[i], n, pts, kernel, kde, xeval))\n",
    "\n",
    "    min_index = rmse_list.index(min(rmse_list))\n",
    "    print(\"Minimum rmse = \" \n",
    "        + str(rmse_list[min_index]) \n",
    "        + \"\\nand corresponding bandwidth is \" \n",
    "        + str(h_list[min_index])\n",
    "        + \".\\nLog of optimal bandwidth is \"\n",
    "        + str(np.log(h_list[min_index])))\n",
    "    \n",
    "    fig, ax = plt.subplots()\n",
    "    ax.plot(h_list, rmse_list)\n",
    "    ax.set_title(graph_title)\n",
    "    ax.set_xlabel('Log-Scaled Bandwidth')\n",
    "    ax.set_ylabel('RMSE')\n",
    "    ax.set_xscale('log')"
   ]
  },
  {
   "cell_type": "code",
   "execution_count": null,
   "metadata": {},
   "outputs": [],
   "source": [
    "def weighted_graph_rmse_vs_bandwidth(h_list, rmse_func, n, pts, kernel, kde, xeval, weights, graph_title):\n",
    "    '''\n",
    "    generates a graph of rmse vs. log-scaled bandwidth\n",
    "    \n",
    "    h_list = list of bandwidths to be tested (log-scaled bandwidth on x-axis)\n",
    "    rmse_func = function that computes rmse for a particular bandwidth value\n",
    "    n = number of points\n",
    "    pts = set of points (IID or LD)\n",
    "    kernel = kernel function\n",
    "    kde = kernel density estimator function\n",
    "    xeval = set of points that is range of x-axis (e.g., np.linspace(-4, 8, 500))\n",
    "    weights = list of weights\n",
    "    graph_title = a string that will become title of graph\n",
    "    '''\n",
    "\n",
    "    rmse_list = []\n",
    "    for i in range(len(h_list)):\n",
    "        rmse_list.append(rmse_func(h_list[i], n, pts, kernel, kde, xeval, weights))\n",
    "\n",
    "    min_index = rmse_list.index(min(rmse_list))\n",
    "    print(\"Minimum rmse = \" \n",
    "        + str(rmse_list[min_index]) \n",
    "        + \"\\nand corresponding bandwidth is \" \n",
    "        + str(h_list[min_index])\n",
    "        + \".\\nLog of optimal bandwidth is \"\n",
    "        + str(np.log(h_list[min_index])))\n",
    "    \n",
    "    fig, ax = plt.subplots()\n",
    "    ax.plot(h_list, rmse_list)\n",
    "    ax.set_title(graph_title)\n",
    "    ax.set_xlabel('Log-Scaled Bandwidth')\n",
    "    ax.set_ylabel('RMSE')\n",
    "    ax.set_xscale('log')"
   ]
  },
  {
   "cell_type": "code",
   "execution_count": null,
   "metadata": {},
   "outputs": [],
   "source": [
    "def rmse_heatmap(h_list, n_list_power, rmse_func, pts_list, kernel, kde, xeval, heatmap_title):\n",
    "    '''\n",
    "    generates a heatmap with sample size on the x-axis, bandwidths on the y-axis, and rmse represented by colored boxes\n",
    "\n",
    "    h_list = list of bandwidths (floats) to be tested\n",
    "    n_list_power = list of magnitudes of sample sizes to be tested (integers; sample sizes are 2^n for all n in n_list_power)\n",
    "    rmse_func = function that calculates rmse\n",
    "    pts_list = a list of IID or LD points. each element in the list is a sequence of points with different sample sizes.\n",
    "    kernel = kernel function\n",
    "    kde = kde function\n",
    "    xeval = set of points that is range of x-axis (e.g., np.linspace(-4, 8, 500))\n",
    "    heatmap_title = title of heatmap (string)\n",
    "    '''\n",
    "    \n",
    "    d = {}\n",
    "    h_list_str = [str(h) for h in h_list]\n",
    "\n",
    "    for i in range(len(n_list_power)):\n",
    "        rmse_list = []\n",
    "        for j in range(len(h_list)):\n",
    "            rmse_list.append(rmse_func(h_list[j], 2**(n_list_power[i]), pts_list[i], kernel, kde, xeval))\n",
    "        \n",
    "        d[str(n_list_power[i])] = pd.Series(rmse_list, index = h_list_str)\n",
    "\n",
    "    df = pd.DataFrame(d)\n",
    "    \n",
    "    fig, ax = plt.subplots(figsize=(4, 4))\n",
    "    im = ax.imshow(df)\n",
    "    ax.set_title(heatmap_title, size=10)\n",
    "    fig.tight_layout()\n",
    "\n",
    "    yaxis = df.index.values\n",
    "    xaxis = df.columns.values\n",
    "    # Add axis tick labels\n",
    "    ax.set_xticks(np.arange(len(xaxis)), \n",
    "                labels=xaxis)\n",
    "    ax.set_yticks(np.arange(len(yaxis)), \n",
    "                labels=yaxis)\n",
    "\n",
    "    cbar = ax.figure.colorbar(im, \n",
    "                            ax = ax,\n",
    "                            shrink=0.75)\n",
    "\n",
    "    # Rotate the tick labels to be more legible\n",
    "    plt.setp(ax.get_xticklabels(),\n",
    "            rotation = 45,\n",
    "            ha = \"right\",\n",
    "            rotation_mode = \"anchor\")\n",
    "\n",
    "    plt.xlabel(\"Sample size magnitude (powers of 2)\") \n",
    "    plt.ylabel(\"Bandwidth\") "
   ]
  },
  {
   "cell_type": "code",
   "execution_count": null,
   "metadata": {},
   "outputs": [],
   "source": [
    "def weighted_rmse_heatmap(h_list, n_list_power, rmse_func, pts_list, kernel, kde, xeval, weights, heatmap_title):\n",
    "    '''\n",
    "    generates a heatmap with sample size on the x-axis, bandwidths on the y-axis, and rmse represented by colored boxes\n",
    "\n",
    "    h_list = list of bandwidths (floats) to be tested\n",
    "    n_list_power = list of magnitudes of sample sizes to be tested (integers; sample sizes are 2^n for all n in n_list_power)\n",
    "    rmse_func = function that calculates rmse\n",
    "    pts_list = a list of IID or LD points. each element in the list is a sequence of points with different sample sizes.\n",
    "    kernel = kernel function\n",
    "    kde = kde function\n",
    "    xeval = set of points that is range of x-axis (e.g., np.linspace(-4, 8, 500))\n",
    "    weights = list of weights\n",
    "    heatmap_title = title of heatmap (string)\n",
    "    '''\n",
    "\n",
    "    d = {}\n",
    "    h_list_str = [str(h) for h in h_list]\n",
    "\n",
    "    for i in range(len(n_list_power)):\n",
    "        rmse_list = []\n",
    "        for j in range(len(h_list)):\n",
    "            rmse_list.append(rmse_func(h_list[j], 2**(n_list_power[i]), pts_list[i], kernel, kde, xeval, weights))\n",
    "        \n",
    "        d[str(n_list_power[i])] = pd.Series(rmse_list, index = h_list_str)\n",
    "\n",
    "    df = pd.DataFrame(d)\n",
    "    \n",
    "    fig, ax = plt.subplots(figsize=(4, 4))\n",
    "    im = ax.imshow(df)\n",
    "    ax.set_title(heatmap_title, size=10)\n",
    "    fig.tight_layout()\n",
    "\n",
    "    yaxis = df.index.values\n",
    "    xaxis = df.columns.values\n",
    "    # Add axis tick labels\n",
    "    ax.set_xticks(np.arange(len(xaxis)), \n",
    "                labels=xaxis)\n",
    "    ax.set_yticks(np.arange(len(yaxis)), \n",
    "                labels=yaxis)\n",
    "\n",
    "    cbar = ax.figure.colorbar(im, \n",
    "                            ax = ax,\n",
    "                            shrink=0.75)\n",
    "\n",
    "    # Rotate the tick labels to be more legible\n",
    "    plt.setp(ax.get_xticklabels(),\n",
    "            rotation = 45,\n",
    "            ha = \"right\",\n",
    "            rotation_mode = \"anchor\")\n",
    "\n",
    "    plt.xlabel(\"Sample size magnitude (powers of 2)\") \n",
    "    plt.ylabel(\"Bandwidth\") "
   ]
  },
  {
   "cell_type": "code",
   "execution_count": null,
   "metadata": {},
   "outputs": [],
   "source": [
    "# def graph_optimal_bandwidth_vs_n(h_list, n_list_power, rmse_func, pts_list, kernel, kde, xeval, graph_title):\n",
    "#     '''\n",
    "#     generates a graph with sample size on the x-axis and optimal bandwidth on the y-axis\n",
    "\n",
    "#     h_list = list of bandwidths (floats) to be tested. for each sample size, the bandwidth that corresponds with the lowest rmse will be plotted.\n",
    "#     n_list_power = list of magnitudes of sample sizes to be tested (integers; sample sizes are 2^n for all n in n_list_power)\n",
    "#     rmse_func = function that calculates rmse\n",
    "#     pts_list = a list of IID or LD points. each element in the list is a sequence of points with different sample sizes.\n",
    "#     kernel = kernel function\n",
    "#     kde = kde function\n",
    "#     xeval = set of points that is range of x-axis (e.g., np.linspace(-4, 8, 500))\n",
    "#     graph_title = title of graph (string)\n",
    "#     '''\n",
    "\n",
    "#     optimal_bandwidths_dict = {}\n",
    "#     rmse_values = []\n",
    "\n",
    "#     for i in range(len(n_list_power)):\n",
    "#         rmse_list = []\n",
    "#         for j in range(len(h_list)):\n",
    "#             rmse_list.append(rmse_func(h_list[j], 2**(n_list_power[i]), pts_list[i], kernel, kde, xeval))\n",
    "\n",
    "#         min_index = rmse_list.index(min(rmse_list))\n",
    "#         optimal_bandwidths_dict[str(n_list_power[i])] = h_list[min_index]\n",
    "#         rmse_values.append(rmse_list[min_index])\n",
    "\n",
    "#     fig, ax = plt.subplots()\n",
    "#     ax.plot(list(optimal_bandwidths_dict.keys()), list(optimal_bandwidths_dict.values()))\n",
    "#     ax.set_title(graph_title)\n",
    "#     ax.set_xlabel('Sample size magnitude (powers of 2)')\n",
    "#     ax.set_ylabel('Optimal Bandwidth')\n",
    "#     # ax.set_xscale('log')\n",
    "\n",
    "#     print(\"Sample size magnitudes, optimal bandwidths:\")\n",
    "#     print(optimal_bandwidths_dict)\n",
    "#     print(\"Corresponding RMSE values:\")\n",
    "#     print(rmse_values)"
   ]
  },
  {
   "cell_type": "code",
   "execution_count": null,
   "metadata": {},
   "outputs": [],
   "source": [
    "# def weighted_graph_optimal_bandwidth_vs_n(h_list, n_list_power, rmse_func, pts_list, kernel, kde, xeval, weights, graph_title):\n",
    "#     '''\n",
    "#     generates a graph with sample size on the x-axis and optimal bandwidth on the y-axis\n",
    "\n",
    "#     h_list = list of bandwidths (floats) to be tested. for each sample size, the bandwidth that corresponds with the lowest rmse will be plotted.\n",
    "#     n_list_power = list of magnitudes of sample sizes to be tested (integers; sample sizes are 2^n for all n in n_list_power)\n",
    "#     rmse_func = function that calculates rmse\n",
    "#     pts_list = a list of IID or LD points. each element in the list is a sequence of points with different sample sizes.\n",
    "#     kernel = kernel function\n",
    "#     kde = kde function\n",
    "#     xeval = set of points that is range of x-axis (e.g., np.linspace(-4, 8, 500))\n",
    "#     weights = list of weights\n",
    "#     graph_title = title of graph (string)\n",
    "#     '''\n",
    "\n",
    "#     optimal_bandwidths_dict = {}\n",
    "#     rmse_values = []\n",
    "\n",
    "#     for i in range(len(n_list_power)):\n",
    "#         rmse_list = []\n",
    "#         for j in range(len(h_list)):\n",
    "#             rmse_list.append(rmse_func(h_list[j], 2**(n_list_power[i]), pts_list[i], kernel, kde, xeval, weights))\n",
    "\n",
    "#         min_index = rmse_list.index(min(rmse_list))\n",
    "#         optimal_bandwidths_dict[str(n_list_power[i])] = h_list[min_index]\n",
    "#         rmse_values.append(rmse_list[min_index])\n",
    "\n",
    "#     fig, ax = plt.subplots()\n",
    "#     ax.plot(list(optimal_bandwidths_dict.keys()), list(optimal_bandwidths_dict.values()))\n",
    "#     ax.set_title(graph_title)\n",
    "#     ax.set_xlabel('Sample size magnitude (powers of 2)')\n",
    "#     ax.set_ylabel('Optimal Bandwidth')\n",
    "#     # ax.set_xscale('log')\n",
    "\n",
    "#     print(\"Sample size magnitudes, optimal bandwidths:\")\n",
    "#     print(optimal_bandwidths_dict)\n",
    "#     print(\"Corresponding RMSE values:\")\n",
    "#     print(rmse_values)"
   ]
  },
  {
   "cell_type": "markdown",
   "metadata": {},
   "source": [
    "### Normal distribution"
   ]
  },
  {
   "cell_type": "code",
   "execution_count": null,
   "metadata": {},
   "outputs": [],
   "source": [
    "from scipy.stats import norm \n",
    "import numpy as np\n",
    "\n",
    "def rmse_normal(h, n, pts, kernel, kde, xeval):\n",
    "    '''\n",
    "    returns rmse for a KDE that estimates a normally distributed random variable\n",
    "    \n",
    "    h = bandwidth\n",
    "    n = number of points\n",
    "    pts = set of iid or ld points\n",
    "    kernel = kernel function\n",
    "    xeval = set of points that is range of x-axis (e.g., np.linspace(-4, 8, 500))\n",
    "    kde = kde function\n",
    "    '''\n",
    "\n",
    "    sum_errors = 0\n",
    "\n",
    "    normal = xeval.copy()\n",
    "    \n",
    "    for i in range(len(normal)):\n",
    "       normal[i]=norm.pdf(normal[i], loc=0, scale=1)\n",
    "    \n",
    "    rhoval = kde(kernel, pts, h, xeval)\n",
    "\n",
    "    for i in range(500):\n",
    "        sum_errors += (normal[i] - rhoval[i])**2\n",
    "    \n",
    "    rmse = np.sqrt((1/n)*sum_errors)\n",
    "    return rmse"
   ]
  },
  {
   "cell_type": "code",
   "execution_count": null,
   "metadata": {},
   "outputs": [],
   "source": [
    "#2. transforming points \n",
    "import scipy.stats as stats \n",
    "\n",
    "# use scipy for normal dist.--inverse CDF\n",
    "def testfun_normal(x, coord_wts = 1):  #takign one uniform rv and transofmring into a normal \n",
    "    wtx= np.multiply(x, coord_wts)\n",
    "    # normal_rv = stats.norm.pdf(wtx)\n",
    "    normal_rv = norm.ppf(wtx)\n",
    "    return normal_rv"
   ]
  },
  {
   "cell_type": "code",
   "execution_count": null,
   "metadata": {},
   "outputs": [],
   "source": [
    "yiid1_10_normal=testfun_normal(iidpts1_10)\n",
    "yiid1_11_normal=testfun_normal(iidpts1_11)\n",
    "yiid1_12_normal=testfun_normal(iidpts1_12)\n",
    "yiid1_13_normal=testfun_normal(iidpts1_13)\n",
    "yiid1_14_normal=testfun_normal(iidpts1_14)\n",
    "\n",
    "ysob1_10_normal=testfun_normal(sobpts1_10)\n",
    "ysob1_11_normal=testfun_normal(sobpts1_11)\n",
    "ysob1_12_normal=testfun_normal(sobpts1_12)\n",
    "ysob1_13_normal=testfun_normal(sobpts1_13)\n",
    "ysob1_14_normal=testfun_normal(sobpts1_14)"
   ]
  },
  {
   "cell_type": "code",
   "execution_count": null,
   "metadata": {},
   "outputs": [],
   "source": [
    "xeval = np.linspace(-4, 8, 500)\n",
    "print(rmse_normal(0.1, 2**10, yiid1_10_normal, kernel, kde, xeval))"
   ]
  },
  {
   "cell_type": "code",
   "execution_count": null,
   "metadata": {},
   "outputs": [],
   "source": [
    "# h_list = np.linspace(0.001, 1, 100)\n",
    "h_list = 2**np.linspace(-10, 0, 100)\n",
    "graph_rmse_vs_bandwidth(h_list, rmse_normal, 2**14, ysob1_14_normal, kernel_epan, kde, xeval, \"RMSE vs. bandwidth for Sobol pts: n = 2^12, dim = 1, Epan. kernel\")"
   ]
  },
  {
   "cell_type": "code",
   "execution_count": null,
   "metadata": {},
   "outputs": [],
   "source": [
    "h_list = [0.001, 0.002, 0.004, 0.01, 0.02, 0.04, 0.1, 0.2, 0.4, 1]\n",
    "n_list_power = [10, 11, 12, 13, 14]\n",
    "pts_list = [ysob1_10_normal, ysob1_11_normal, ysob1_12_normal, ysob1_13_normal, ysob1_14_normal]\n",
    "rmse_heatmap(h_list, n_list_power, rmse_normal, pts_list, kernel_epan, kde, xeval, \"RMSE for 1-D Gaussian, Epan. kernel, Sobol points\")"
   ]
  },
  {
   "cell_type": "code",
   "execution_count": null,
   "metadata": {},
   "outputs": [],
   "source": [
    "# graph_optimal_bandwidth_vs_n(h_list, n_list_power, rmse_normal, pts_list, kernel, kde, xeval, \"Optimal h vs. n for 1-D Gaussian, dim = 1, Gaussian kernel, IID points\")"
   ]
  },
  {
   "cell_type": "markdown",
   "metadata": {},
   "source": [
    "### Uniformly distributed random variable"
   ]
  },
  {
   "cell_type": "code",
   "execution_count": null,
   "metadata": {},
   "outputs": [],
   "source": [
    "def rmse_unif(h, n, pts, kernel, kde, xeval):\n",
    "    '''\n",
    "    returns rmse for a KDE that estimates a uniformly distributed random variable\n",
    "    \n",
    "    h = bandwidth\n",
    "    n = number of points\n",
    "    pts = set of iid or ld points\n",
    "    kernel = kernel function\n",
    "    kde = kde function\n",
    "    xeval = set of points that is range of x-axis (e.g., np.linspace(-4, 8, 500))\n",
    "    '''\n",
    "\n",
    "    sum_errors = 0\n",
    "\n",
    "    unif = xeval.copy()\n",
    "\n",
    "    for i in range(len(unif)):\n",
    "        if 0 < unif[i] < 1:\n",
    "            unif[i] = 1\n",
    "        else:\n",
    "            unif[i] = 0\n",
    "    \n",
    "    rhoval = kde(kernel, pts, h, xeval)\n",
    "\n",
    "    for i in range(500):\n",
    "        sum_errors += (unif[i] - rhoval[i])**2\n",
    "    \n",
    "    rmse = np.sqrt((1/n)*sum_errors)\n",
    "    return rmse"
   ]
  },
  {
   "cell_type": "code",
   "execution_count": null,
   "metadata": {},
   "outputs": [],
   "source": [
    "yiid1_10_unif=testfun_unif(iidpts1_10)\n",
    "yiid1_11_unif=testfun_unif(iidpts1_11)\n",
    "yiid1_12_unif=testfun_unif(iidpts1_12)\n",
    "yiid1_13_unif=testfun_unif(iidpts1_13)\n",
    "yiid1_14_unif=testfun_unif(iidpts1_14)\n",
    "\n",
    "ysob1_10_unif=testfun_unif(sobpts1_10)\n",
    "ysob1_11_unif=testfun_unif(sobpts1_11)\n",
    "ysob1_12_unif=testfun_unif(sobpts1_12)\n",
    "ysob1_13_unif=testfun_unif(sobpts1_13)\n",
    "ysob1_14_unif=testfun_unif(sobpts1_14)"
   ]
  },
  {
   "cell_type": "code",
   "execution_count": null,
   "metadata": {},
   "outputs": [],
   "source": [
    "xeval = np.linspace(-4, 8, 500)\n",
    "print(rmse_unif(0.1, 2**12, ysob1_10_unif, kernel, kde, xeval))"
   ]
  },
  {
   "cell_type": "code",
   "execution_count": null,
   "metadata": {},
   "outputs": [],
   "source": [
    "# h_list = np.linspace(0.001, 1, 100)\n",
    "h_list = 2**np.linspace(-10, 0, 100)\n",
    "graph_rmse_vs_bandwidth(h_list, rmse_unif, 2**14, yiid1_14_unif, kernel_epan, kde, xeval, \"RMSE vs. bandwidth for IID pts: 1-D Unif, n = 2^12, Epan. kernel\")"
   ]
  },
  {
   "cell_type": "code",
   "execution_count": null,
   "metadata": {},
   "outputs": [],
   "source": [
    "h_list = [0.001, 0.002, 0.004, 0.01, 0.02, 0.04, 0.1, 0.2, 0.4, 1]\n",
    "n_list_power = [10, 11, 12, 13, 14]\n",
    "pts_list = [yiid1_10_unif, yiid1_11_unif, yiid1_12_unif, yiid1_13_unif, yiid1_14_unif]\n",
    "rmse_heatmap(h_list, n_list_power, rmse_unif, pts_list, kernel_epan, kde, xeval, \"RMSE for 1-D Unif, Epan. kernel, IID points\")"
   ]
  },
  {
   "cell_type": "code",
   "execution_count": null,
   "metadata": {},
   "outputs": [],
   "source": [
    "# graph_optimal_bandwidth_vs_n(h_list, n_list_power, rmse_unif, pts_list, kernel, kde, xeval, \"Optimal h vs. n for 1-D Unif, dim = 1, IID points, Epan. kernel\")"
   ]
  },
  {
   "cell_type": "markdown",
   "metadata": {},
   "source": [
    "### Sum of 2 uniform random variables (triangular)"
   ]
  },
  {
   "cell_type": "code",
   "execution_count": null,
   "metadata": {},
   "outputs": [],
   "source": [
    "def rmse_triangular(h, n, pts, kernel, kde, xeval):\n",
    "    '''\n",
    "    returns rmse for a KDE that estimates a random variable that is the sum of 2 uniform rv's (follows a triangular distribution)\n",
    "    \n",
    "    h = bandwidth\n",
    "    n = number of points\n",
    "    pts = set of iid or ld points\n",
    "    kernel = kernel function\n",
    "    kde = kde function\n",
    "    xeval = set of points that is range of x-axis (e.g., np.linspace(-4, 8, 500))\n",
    "    '''\n",
    "\n",
    "    sum_errors = 0\n",
    "\n",
    "    triangular = xeval.copy()\n",
    "    \n",
    "    for i in range(len(triangular)):\n",
    "        if 0 < triangular[i] < 1:\n",
    "            triangular[i] = triangular[i]\n",
    "        elif 1 <= triangular[i] < 2:\n",
    "            triangular[i] = 2 - triangular[i]\n",
    "        else:\n",
    "            triangular[i] = 0\n",
    "    \n",
    "    rhoval = kde(kernel, pts, h, xeval)\n",
    "\n",
    "    for i in range(500):\n",
    "        sum_errors += (triangular[i] - rhoval[i])**2\n",
    "    \n",
    "    rmse = np.sqrt((1/n)*sum_errors)\n",
    "    return rmse"
   ]
  },
  {
   "cell_type": "code",
   "execution_count": null,
   "metadata": {},
   "outputs": [],
   "source": [
    "def testfun_triangular(x, coord_wts = 1): # takes a 2D sequence of IID or LD points and transforms into triangular (sum of uniforms)\n",
    "    y = np.sum(x*coord_wts, axis = 1)\n",
    "    return y"
   ]
  },
  {
   "cell_type": "code",
   "execution_count": null,
   "metadata": {},
   "outputs": [],
   "source": [
    "# # testing testfun_triangular\n",
    "# x = np.array([[0.2, 0.3], [0.1, 0.2]])\n",
    "# print(testfun_triangular(x))"
   ]
  },
  {
   "cell_type": "code",
   "execution_count": null,
   "metadata": {},
   "outputs": [],
   "source": [
    "# def testfun_triangular(x, coord_wts = 1):  #takign one uniform rv and transforming into triangular \n",
    "#     wtx= np.multiply(x, coord_wts)\n",
    "\n",
    "#     # Parameters for the triangular distribution\n",
    "#     a = 0  # lower limit\n",
    "#     c = 1  # mode\n",
    "#     b = 2  # upper limit\n",
    "\n",
    "#     # Apply the inverse CDF method for the triangular distribution\n",
    "#     def inverse_triangular_cdf(pts, a, c, b):\n",
    "#         F_c = (c - a) / (b - a)\n",
    "#         return np.where(pts < F_c,\n",
    "#                         a + np.sqrt(pts * (b - a) * (c - a)),\n",
    "#                         b - np.sqrt((1 - pts) * (b - a) * (b - c)))\n",
    "\n",
    "#     triangular_rv = inverse_triangular_cdf(wtx, a, c, b)\n",
    "#     return triangular_rv"
   ]
  },
  {
   "cell_type": "code",
   "execution_count": null,
   "metadata": {},
   "outputs": [],
   "source": [
    "yiid2_10_triang=testfun_triangular(iidpts2_10)\n",
    "yiid2_11_triang=testfun_triangular(iidpts2_11)\n",
    "yiid2_12_triang=testfun_triangular(iidpts2_12)\n",
    "yiid2_13_triang=testfun_triangular(iidpts2_13)\n",
    "yiid2_14_triang=testfun_triangular(iidpts2_14)\n",
    "\n",
    "ysob2_10_triang=testfun_triangular(sobpts2_10)\n",
    "ysob2_11_triang=testfun_triangular(sobpts2_11)\n",
    "ysob2_12_triang=testfun_triangular(sobpts2_12)\n",
    "ysob2_13_triang=testfun_triangular(sobpts2_13)\n",
    "ysob2_14_triang=testfun_triangular(sobpts2_14)"
   ]
  },
  {
   "cell_type": "code",
   "execution_count": null,
   "metadata": {},
   "outputs": [],
   "source": [
    "xeval = np.linspace(-4, 8, 500)\n",
    "print(rmse_triangular(0.1, 2**10, yiid2_10_triang, kernel, kde, xeval))"
   ]
  },
  {
   "cell_type": "code",
   "execution_count": null,
   "metadata": {},
   "outputs": [],
   "source": [
    "# h_list = np.linspace(0.001, 1, 100)\n",
    "h_list = 2**np.linspace(-10, 0, 100)\n",
    "graph_rmse_vs_bandwidth(h_list, rmse_triangular, 2**14, yiid2_14_triang, kernel_epan, kde, xeval, \"RMSE vs. bandwidth for sum of 2 unifs: IID points, n = 2^12, Epan. kernel\")"
   ]
  },
  {
   "cell_type": "code",
   "execution_count": null,
   "metadata": {},
   "outputs": [],
   "source": [
    "h_list = [0.001, 0.002, 0.004, 0.01, 0.02, 0.04, 0.1, 0.2, 0.4, 1]\n",
    "n_list_power = [10, 11, 12, 13, 14]\n",
    "pts_list = [yiid2_10_triang, yiid2_11_triang, yiid2_12_triang, yiid2_13_triang, yiid2_14_triang]\n",
    "rmse_heatmap(h_list, n_list_power, rmse_triangular, pts_list, kernel_epan, kde, xeval, \"RMSE for sum of 2 unifs, IID points, Epan. kernel\")"
   ]
  },
  {
   "cell_type": "code",
   "execution_count": null,
   "metadata": {},
   "outputs": [],
   "source": [
    "# graph_optimal_bandwidth_vs_n(h_list, n_list_power, rmse_triangular, pts_list, kernel, kde, xeval, \"Optimal h vs. n for triangular distribution, dim = 1, Sobol points\")"
   ]
  },
  {
   "cell_type": "markdown",
   "metadata": {},
   "source": [
    "### Exponential Distribution"
   ]
  },
  {
   "cell_type": "code",
   "execution_count": null,
   "metadata": {},
   "outputs": [],
   "source": [
    "from scipy.stats import expon"
   ]
  },
  {
   "cell_type": "code",
   "execution_count": null,
   "metadata": {},
   "outputs": [],
   "source": [
    "def rmse_exp(h, n, pts, kernel, kde, xeval):\n",
    "    '''\n",
    "    returns rmse for a KDE that estimates a random variable with an exponential distribution\n",
    "    \n",
    "    h = bandwidth\n",
    "    n = number of points\n",
    "    pts = set of iid or ld points\n",
    "    kernel = kernel function\n",
    "    kde = kde function\n",
    "    xeval = set of points that is range of x-axis (e.g., np.linspace(-4, 8, 500))\n",
    "    '''\n",
    "\n",
    "    sum_errors = 0\n",
    "\n",
    "    exp = xeval.copy()\n",
    "\n",
    "    for i in range(len(exp)):\n",
    "        exp[i] = expon.pdf(exp[i])\n",
    "    \n",
    "    rhoval = kde(kernel, pts, h, xeval)\n",
    "\n",
    "    for i in range(500):\n",
    "        sum_errors += (exp[i] - rhoval[i])**2\n",
    "    \n",
    "    rmse = np.sqrt((1/n)*sum_errors)\n",
    "    return rmse"
   ]
  },
  {
   "cell_type": "code",
   "execution_count": null,
   "metadata": {},
   "outputs": [],
   "source": [
    "yiid1_10_exp=testfun_exp(iidpts1_10)\n",
    "yiid1_11_exp=testfun_exp(iidpts1_11)\n",
    "yiid1_12_exp=testfun_exp(iidpts1_12)\n",
    "yiid1_13_exp=testfun_exp(iidpts1_13)\n",
    "yiid1_14_exp=testfun_exp(iidpts1_14)\n",
    "\n",
    "ysob1_10_exp=testfun_exp(sobpts1_10)\n",
    "ysob1_11_exp=testfun_exp(sobpts1_11)\n",
    "ysob1_12_exp=testfun_exp(sobpts1_12)\n",
    "ysob1_13_exp=testfun_exp(sobpts1_13)\n",
    "ysob1_14_exp=testfun_exp(sobpts1_14)"
   ]
  },
  {
   "cell_type": "code",
   "execution_count": null,
   "metadata": {},
   "outputs": [],
   "source": [
    "xeval = np.linspace(-4, 8, 500)\n",
    "print(rmse_exp(0.1, 2**12, yiid1_10_exp, kernel_epan, kde, xeval))"
   ]
  },
  {
   "cell_type": "code",
   "execution_count": null,
   "metadata": {},
   "outputs": [],
   "source": [
    "# h_list = np.linspace(0.001, 1, 100)\n",
    "h_list = 2**np.linspace(-10, 0, 100)\n",
    "graph_rmse_vs_bandwidth(h_list, rmse_exp, 2**14, yiid1_14_exp, kernel_epan, kde, xeval, \"RMSE vs. bandwidth for 1-D exp, IID points, n = 2^12, Epan. kernel)\")"
   ]
  },
  {
   "cell_type": "code",
   "execution_count": null,
   "metadata": {},
   "outputs": [],
   "source": [
    "h_list = [0.001, 0.002, 0.004, 0.01, 0.02, 0.04, 0.1, 0.2, 0.4, 1]\n",
    "n_list_power = [10, 11, 12, 13, 14]\n",
    "pts_list = [yiid1_10_exp, yiid1_11_exp, yiid1_12_exp, yiid1_13_exp, yiid1_14_exp]\n",
    "rmse_heatmap(h_list, n_list_power, rmse_exp, pts_list, kernel_epan, kde, xeval, \"RMSE for exp. distribution, IID points, Epan. kernel\")"
   ]
  },
  {
   "cell_type": "code",
   "execution_count": null,
   "metadata": {},
   "outputs": [],
   "source": [
    "# graph_optimal_bandwidth_vs_n(h_list, n_list_power, rmse_exp, pts_list, kernel, kde, xeval, \"Optimal h vs. n for exponential distribution, Sobol points\")"
   ]
  },
  {
   "cell_type": "markdown",
   "metadata": {},
   "source": [
    "### Laplace Distribution\n",
    "\n",
    "The inverse CDF of the Laplace distribution with location parameter 𝜇 and scale parameter 𝑏 is given by:\n",
    "$$\n",
    "F^{-1}(x) = \\text{𝜇} - \\text{𝑏} \\cdot \\text{sign}(x-0.5) \\cdot \\text{ln}(1-2|x-0.5|)\n",
    "$$\n",
    "\n",
    "where $x$ is a uniform random variable in the interval $[0,1]$."
   ]
  },
  {
   "cell_type": "code",
   "execution_count": null,
   "metadata": {},
   "outputs": [],
   "source": [
    "def rmse_laplace(h, n, pts, kernel, kde, xeval):\n",
    "    '''\n",
    "    returns rmse for a KDE that estimates a random variable with a laplace distribution\n",
    "\n",
    "    h = bandwidth\n",
    "    n = number of points\n",
    "    pts = set of iid or ld points\n",
    "    kernel = kernel function\n",
    "    kde = kde function\n",
    "    xeval = set of points that is range of x-axis (e.g., np.linspace(-4, 8, 500))\n",
    "    '''\n",
    "\n",
    "    sum_errors = 0\n",
    "\n",
    "    laplace = xeval.copy()\n",
    "    \n",
    "    # Define location (mean) and scale parameters\n",
    "    loc = 0\n",
    "    scale = 1.0\n",
    " \n",
    "    # Create a Laplace distribution object\n",
    "    laplace_dist = stats.laplace(loc, scale)\n",
    "\n",
    "    for i in range(len(laplace)):\n",
    "        laplace[i] = laplace_dist.pdf(laplace[i])\n",
    "    \n",
    "    rhoval = kde(kernel, pts, h, xeval)\n",
    "\n",
    "    for i in range(500):\n",
    "        sum_errors += (laplace[i] - rhoval[i])**2\n",
    "    \n",
    "    rmse = np.sqrt((1/n)*sum_errors)\n",
    "    return rmse"
   ]
  },
  {
   "cell_type": "code",
   "execution_count": null,
   "metadata": {},
   "outputs": [],
   "source": [
    "def testfun_laplace(x, coord_wts = 1):  #takign one uniform rv and transforming into a laplace \n",
    "    wtx= np.multiply(x, coord_wts)\n",
    "\n",
    "    def uniform_to_laplace(u, mu=0, b=1):\n",
    "        return mu - b * np.sign(u - 0.5) * np.log(1 - 2 * np.abs(u - 0.5))\n",
    "\n",
    "    laplace_rv = uniform_to_laplace(wtx, mu=0, b=1)\n",
    "    return laplace_rv"
   ]
  },
  {
   "cell_type": "code",
   "execution_count": null,
   "metadata": {},
   "outputs": [],
   "source": [
    "yiid1_10_laplace=testfun_laplace(iidpts1_10)\n",
    "yiid1_11_laplace=testfun_laplace(iidpts1_11)\n",
    "yiid1_12_laplace=testfun_laplace(iidpts1_12)\n",
    "yiid1_13_laplace=testfun_laplace(iidpts1_13)\n",
    "yiid1_14_laplace=testfun_laplace(iidpts1_14)\n",
    "\n",
    "ysob1_10_laplace=testfun_laplace(sobpts1_10)\n",
    "ysob1_11_laplace=testfun_laplace(sobpts1_11)\n",
    "ysob1_12_laplace=testfun_laplace(sobpts1_12)\n",
    "ysob1_13_laplace=testfun_laplace(sobpts1_13)\n",
    "ysob1_14_laplace=testfun_laplace(sobpts1_14)"
   ]
  },
  {
   "cell_type": "code",
   "execution_count": null,
   "metadata": {},
   "outputs": [],
   "source": [
    "xeval = np.linspace(-4, 8, 500)\n",
    "print(rmse_laplace(0.1, 2**12, yiid1_10_laplace, kernel_epan, kde, xeval))"
   ]
  },
  {
   "cell_type": "code",
   "execution_count": null,
   "metadata": {},
   "outputs": [],
   "source": [
    "# h_list = np.linspace(0.001, 1, 100)\n",
    "h_list = 2**np.linspace(-10, 0, 100)\n",
    "graph_rmse_vs_bandwidth(h_list, rmse_laplace, 2**14, yiid1_14_laplace, kernel_epan, kde, xeval, \"RMSE vs. bandwidth, 1-D Laplace, IID pts, n = 2^12, Epan. kernel)\")"
   ]
  },
  {
   "cell_type": "code",
   "execution_count": null,
   "metadata": {},
   "outputs": [],
   "source": [
    "h_list = [0.001, 0.002, 0.004, 0.01, 0.02, 0.04, 0.1, 0.2, 0.4, 1]\n",
    "n_list_power = [10, 11, 12, 13, 14]\n",
    "pts_list = [yiid1_10_laplace, yiid1_11_laplace, yiid1_12_laplace, yiid1_13_laplace, yiid1_14_laplace]\n",
    "rmse_heatmap(h_list, n_list_power, rmse_laplace, pts_list, kernel_epan, kde, xeval, \"RMSE for 1-D Laplace, IID points, Epan. kernel\")"
   ]
  },
  {
   "cell_type": "code",
   "execution_count": null,
   "metadata": {},
   "outputs": [],
   "source": [
    "# graph_optimal_bandwidth_vs_n(h_list, n_list_power, rmse_laplace, pts_list, kernel, kde, xeval, \"Optimal h vs. n for exponential distribution, dim = 1, Sobol points\")"
   ]
  },
  {
   "cell_type": "markdown",
   "metadata": {},
   "source": [
    "### Weighted sum of normals\n",
    "\n",
    "If $X_{1}, X_{2}, ..., X_{d}$ all follow the standard uniform distribution, $X_{i} \\sim \\text{Unif}(0,1)$, then the random variable \n",
    "$$\n",
    "Y = w_{1} \\cdot \\Phi^{-1}(X_{1}) + w_{2} \\cdot \\Phi^{-1}(X_{2}) + ... + w_{d} \\cdot \\Phi^{-1}(X_{d})\n",
    "$$ \n",
    "follows a normal distribution with expectation $0$ and variance $w_{1}^2 + w_{2}^2 + ... + w_{d}^2$. "
   ]
  },
  {
   "cell_type": "code",
   "execution_count": null,
   "metadata": {},
   "outputs": [],
   "source": [
    "from scipy.stats import norm \n",
    "import numpy as np"
   ]
  },
  {
   "cell_type": "code",
   "execution_count": null,
   "metadata": {},
   "outputs": [],
   "source": [
    "def rmse_sum_normals(h, n, pts, kernel, kde, xeval, weights):\n",
    "    '''\n",
    "    returns rmse for a KDE that estimates a random variable that is the weighted sum of uniformly distributed random variables\n",
    "\n",
    "    h = bandwidth\n",
    "    n = number of points\n",
    "    pts = set of iid or ld points\n",
    "    kernel = kernel function\n",
    "    kde = kde function\n",
    "    xeval = set of points that is range of x-axis (e.g., np.linspace(-4, 8, 500))\n",
    "    weights = a list of numbers that are the weights for the sum of normals\n",
    "    '''\n",
    "\n",
    "    sum_errors = 0\n",
    "\n",
    "    sum_normals = xeval.copy()\n",
    "    \n",
    "    # Define location (mean) and scale (standard deviation) parameters\n",
    "    loc = 0\n",
    "    scale = np.sqrt(sum(w*w for w in weights))\n",
    " \n",
    "    for i in range(len(sum_normals)):\n",
    "       sum_normals[i]=norm.pdf(sum_normals[i], loc, scale)\n",
    "    \n",
    "    rhoval = kde(kernel, pts, h, xeval)\n",
    "\n",
    "    for i in range(500):\n",
    "        sum_errors += (sum_normals[i] - rhoval[i])**2\n",
    "    \n",
    "    rmse = np.sqrt((1/n)*sum_errors)\n",
    "    return rmse"
   ]
  },
  {
   "cell_type": "code",
   "execution_count": null,
   "metadata": {},
   "outputs": [],
   "source": [
    "# def copy_testfun_sum_normals(x, weights):  #takign one uniform rv and transforming into a sum of normals\n",
    "\n",
    "#     y = np.zeros(x.shape[0])\n",
    "\n",
    "#     for dim in range(x.shape[1]):\n",
    "#         normal = weights[dim] * norm.ppf(x[:, dim])\n",
    "#         for i in range(y.shape[0]):\n",
    "#             y[i] += normal[i]\n",
    "\n",
    "#     return y"
   ]
  },
  {
   "cell_type": "code",
   "execution_count": null,
   "metadata": {},
   "outputs": [],
   "source": [
    "def testfun_sum_normals(x, weights):  #takign one uniform rv and transforming into a sum of normals\n",
    "\n",
    "    y = np.sum(norm.ppf(x)*weights, axis = 1)\n",
    "    # y = np.sum(x*weights, axis = 1)  # testing out this function\n",
    "\n",
    "    return y"
   ]
  },
  {
   "cell_type": "code",
   "execution_count": null,
   "metadata": {},
   "outputs": [],
   "source": [
    "## testing out testfun_sum_normals without norm.ppf\n",
    "# x = np.array([[0.2, 0.3, 0.4], [0.1, 0.2, 0.3]])\n",
    "# weights = [1.0, 0.5, 0.25]\n",
    "# print(copy_testfun_sum_normals(x, weights))"
   ]
  },
  {
   "cell_type": "code",
   "execution_count": null,
   "metadata": {},
   "outputs": [],
   "source": [
    "yiid3_10_sum_normals=testfun_sum_normals(iidpts3_10, [1,1,1])\n",
    "yiid3_11_sum_normals=testfun_sum_normals(iidpts3_11, [1,1,1])\n",
    "yiid3_12_sum_normals=testfun_sum_normals(iidpts3_12, [1,1,1])\n",
    "yiid3_13_sum_normals=testfun_sum_normals(iidpts3_13, [1,1,1])\n",
    "yiid3_14_sum_normals=testfun_sum_normals(iidpts3_14, [1,1,1])\n",
    "\n",
    "ysob3_10_sum_normals=testfun_sum_normals(sobpts3_10, [1,1,1])\n",
    "ysob3_11_sum_normals=testfun_sum_normals(sobpts3_11, [1,1,1])\n",
    "ysob3_12_sum_normals=testfun_sum_normals(sobpts3_12, [1,1,1])\n",
    "ysob3_13_sum_normals=testfun_sum_normals(sobpts3_13, [1,1,1])\n",
    "ysob3_14_sum_normals=testfun_sum_normals(sobpts3_14, [1,1,1])\n",
    "\n",
    "yiid5_10_sum_normals=testfun_sum_normals(iidpts5_10, [1,1,1,1,1])\n",
    "yiid5_11_sum_normals=testfun_sum_normals(iidpts5_11, [1,1,1,1,1])\n",
    "yiid5_12_sum_normals=testfun_sum_normals(iidpts5_12, [1,1,1,1,1])\n",
    "yiid5_13_sum_normals=testfun_sum_normals(iidpts5_13, [1,1,1,1,1])\n",
    "yiid5_14_sum_normals=testfun_sum_normals(iidpts5_14, [1,1,1,1,1])\n",
    "\n",
    "ysob5_10_sum_normals=testfun_sum_normals(sobpts5_10, [1,1,1,1,1])\n",
    "ysob5_11_sum_normals=testfun_sum_normals(sobpts5_11, [1,1,1,1,1])\n",
    "ysob5_12_sum_normals=testfun_sum_normals(sobpts5_12, [1,1,1,1,1])\n",
    "ysob5_13_sum_normals=testfun_sum_normals(sobpts5_13, [1,1,1,1,1])\n",
    "ysob5_14_sum_normals=testfun_sum_normals(sobpts5_14, [1,1,1,1,1])"
   ]
  },
  {
   "cell_type": "code",
   "execution_count": null,
   "metadata": {},
   "outputs": [],
   "source": [
    "xeval = np.linspace(-4, 8, 500)\n",
    "weights_3 = [1, 1, 1]\n",
    "weights_5 = [1, 1, 1, 1, 1]\n",
    "print(rmse_sum_normals(0.1, 2**10, yiid3_10_sum_normals, kernel_epan, kde, xeval, weights_3))"
   ]
  },
  {
   "cell_type": "code",
   "execution_count": null,
   "metadata": {},
   "outputs": [],
   "source": [
    "# h_list = np.linspace(0.001, 1, 100)\n",
    "h_list = 2**np.linspace(-10, 0, 100)\n",
    "weighted_graph_rmse_vs_bandwidth(h_list, rmse_sum_normals, 2**12, yiid5_12_sum_normals, kernel_epan, kde, xeval, weights_5, \"RMSE vs. bandwidth for sum of 5 Gaussians, IID points, n = 2^12, Epan. kernel\")"
   ]
  },
  {
   "cell_type": "code",
   "execution_count": null,
   "metadata": {},
   "outputs": [],
   "source": [
    "h_list = [0.001, 0.002, 0.004, 0.01, 0.02, 0.04, 0.1, 0.2, 0.4, 1]\n",
    "n_list_power = [10, 11, 12, 13, 14]\n",
    "pts_list = [yiid5_10_sum_normals, yiid5_11_sum_normals, yiid5_12_sum_normals, yiid5_13_sum_normals, yiid5_14_sum_normals]\n",
    "weighted_rmse_heatmap(h_list, n_list_power, rmse_sum_normals, pts_list, kernel_epan, kde, xeval, weights_5, \"RMSE for sum of 5 Gaussians, IID points, Epan. kernel\")"
   ]
  },
  {
   "cell_type": "code",
   "execution_count": null,
   "metadata": {},
   "outputs": [],
   "source": [
    "# weighted_graph_optimal_bandwidth_vs_n(h_list, n_list_power, rmse_sum_normals, ysob3_sum_normals, kernel, kde, xeval, weights_3, \"Optimal h vs. n for sum of normals, dim = 3, Sobol points\")"
   ]
  },
  {
   "cell_type": "markdown",
   "metadata": {},
   "source": [
    "### Chi-squared (sum of squared Gaussians)\n",
    "A chi-square-distributed random variable with $k$ degrees of freedom is defined as the sum of $k$ squared standard normal random variables:\n",
    "$$\n",
    "X_{1}, ..., X_{k} \\rightarrow Y = \\sum_{i=1}^{k} X_{i}^{2} = \\chi^{2}(k)\n",
    "$$\n",
    "https://statproofbook.github.io/P/chi2-pdf.html"
   ]
  },
  {
   "cell_type": "code",
   "execution_count": null,
   "metadata": {},
   "outputs": [],
   "source": [
    "from scipy.stats import chi2"
   ]
  },
  {
   "cell_type": "code",
   "execution_count": null,
   "metadata": {},
   "outputs": [],
   "source": [
    "def rmse_chi_squared(h, n, pts, kernel, kde, xeval, df):\n",
    "    '''\n",
    "    returns rmse for a KDE that estimates a random variable that is the sum of df squared gaussians, i.e., chi-squared with degrees of freedom = df\n",
    "\n",
    "    h = bandwidth\n",
    "    n = number of points\n",
    "    pts = set of iid or ld points\n",
    "    kernel = kernel function\n",
    "    kde = kde function\n",
    "    xeval = set of points that is range of x-axis (e.g., np.linspace(-4, 8, 500))\n",
    "    df = degrees of freedom (how many squared gaussians you are summing)\n",
    "    '''\n",
    "\n",
    "    sum_errors = 0\n",
    "\n",
    "    chi_squared = xeval.copy()\n",
    " \n",
    "    for i in range(len(chi_squared)):\n",
    "       chi_squared[i] = chi2.pdf(chi_squared[i], df)\n",
    "    \n",
    "    rhoval = kde(kernel, pts, h, xeval)\n",
    "\n",
    "    for i in range(500):\n",
    "        sum_errors += (chi_squared[i] - rhoval[i])**2\n",
    "    \n",
    "    rmse = np.sqrt((1/n)*sum_errors)\n",
    "    return rmse"
   ]
  },
  {
   "cell_type": "code",
   "execution_count": null,
   "metadata": {},
   "outputs": [],
   "source": [
    "def testfun_chi_square(x, df):\n",
    "    y = np.sum((norm.ppf(x))**2, axis = 1)\n",
    "    return y"
   ]
  },
  {
   "cell_type": "code",
   "execution_count": null,
   "metadata": {},
   "outputs": [],
   "source": [
    "yiid1_10_chi_square=testfun_chi_square(iidpts1_10, 1)\n",
    "yiid1_11_chi_square=testfun_chi_square(iidpts1_11, 1)\n",
    "yiid1_12_chi_square=testfun_chi_square(iidpts1_12, 1)\n",
    "yiid1_13_chi_square=testfun_chi_square(iidpts1_13, 1)\n",
    "yiid1_14_chi_square=testfun_chi_square(iidpts1_14, 1)\n",
    "\n",
    "ysob1_10_chi_square=testfun_chi_square(sobpts1_10, 1)\n",
    "ysob1_11_chi_square=testfun_chi_square(sobpts1_11, 1)\n",
    "ysob1_12_chi_square=testfun_chi_square(sobpts1_12, 1)\n",
    "ysob1_13_chi_square=testfun_chi_square(sobpts1_13, 1)\n",
    "ysob1_14_chi_square=testfun_chi_square(sobpts1_14, 1)\n",
    "\n",
    "yiid3_10_chi_square=testfun_chi_square(iidpts3_10, 3)\n",
    "yiid3_11_chi_square=testfun_chi_square(iidpts3_11, 3)\n",
    "yiid3_12_chi_square=testfun_chi_square(iidpts3_12, 3)\n",
    "yiid3_13_chi_square=testfun_chi_square(iidpts3_13, 3)\n",
    "yiid3_14_chi_square=testfun_chi_square(iidpts3_14, 3)\n",
    "\n",
    "ysob3_10_chi_square=testfun_chi_square(sobpts3_10, 3)\n",
    "ysob3_11_chi_square=testfun_chi_square(sobpts3_11, 3)\n",
    "ysob3_12_chi_square=testfun_chi_square(sobpts3_12, 3)\n",
    "ysob3_13_chi_square=testfun_chi_square(sobpts3_13, 3)\n",
    "ysob3_14_chi_square=testfun_chi_square(sobpts3_14, 3)\n",
    "\n",
    "yiid5_10_chi_square=testfun_chi_square(iidpts5_10, 5)\n",
    "yiid5_11_chi_square=testfun_chi_square(iidpts5_11, 5)\n",
    "yiid5_12_chi_square=testfun_chi_square(iidpts5_12, 5)\n",
    "yiid5_13_chi_square=testfun_chi_square(iidpts5_13, 5)\n",
    "yiid5_14_chi_square=testfun_chi_square(iidpts5_14, 5)\n",
    "\n",
    "ysob5_10_chi_square=testfun_chi_square(sobpts5_10, 5)\n",
    "ysob5_11_chi_square=testfun_chi_square(sobpts5_11, 5)\n",
    "ysob5_12_chi_square=testfun_chi_square(sobpts5_12, 5)\n",
    "ysob5_13_chi_square=testfun_chi_square(sobpts5_13, 5)\n",
    "ysob5_14_chi_square=testfun_chi_square(sobpts5_14, 5)"
   ]
  },
  {
   "cell_type": "code",
   "execution_count": null,
   "metadata": {},
   "outputs": [],
   "source": [
    "xeval = np.linspace(-4, 8, 500)\n",
    "print(rmse_chi_squared(0.1, 2**10, yiid3_10_chi_square, kernel, kde, xeval, df=3))"
   ]
  },
  {
   "cell_type": "code",
   "execution_count": null,
   "metadata": {},
   "outputs": [],
   "source": [
    "# h_list = np.linspace(0.001, 1, 100)\n",
    "h_list = 2**np.linspace(-10, 0, 100)\n",
    "weighted_graph_rmse_vs_bandwidth(h_list, rmse_chi_squared, 2**14, ysob5_14_chi_square, kernel_epan, kde, xeval, 5, \"RMSE vs. bandwidth for chi-square, df = 5: Sobol points, n = 2^12, Epan. kernel\")"
   ]
  },
  {
   "cell_type": "code",
   "execution_count": null,
   "metadata": {},
   "outputs": [],
   "source": [
    "h_list = [0.001, 0.002, 0.004, 0.01, 0.02, 0.04, 0.1, 0.2, 0.4, 1]\n",
    "n_list_power = [10, 11, 12, 13, 14]\n",
    "pts_list = [ysob5_10_chi_square, ysob5_11_chi_square, ysob5_12_chi_square, ysob5_13_chi_square, ysob5_14_chi_square]\n",
    "weighted_rmse_heatmap(h_list, n_list_power, rmse_chi_squared, pts_list, kernel_epan, kde, xeval, 5, \"RMSE for chi-square, df = 5, Epan. kernel, Sobol points\")"
   ]
  },
  {
   "cell_type": "markdown",
   "metadata": {},
   "source": [
    "## Using dictionaries for RMSE"
   ]
  },
  {
   "cell_type": "code",
   "execution_count": null,
   "metadata": {},
   "outputs": [],
   "source": [
    "import scipy as sc"
   ]
  },
  {
   "cell_type": "code",
   "execution_count": null,
   "metadata": {},
   "outputs": [],
   "source": [
    "uniform_1 = {\n",
    "    \"f\" : lambda x: x[:,0],  #just take the first coordinate\n",
    "    \"density\" : lambda y,d : np.where((y >= 0) & (y <= 1),1.,0.),\n",
    "    \"y_domain\" : lambda d : np.array([-0.1,1.1]),\n",
    "    \"name\" : lambda d=1 : \"One-Dimensional Uniform\"}\n",
    "sum_d_Gauss = {\n",
    "    \"f\" : lambda x: np.sum(sc.stats.norm.ppf(x),axis = 1),  #sum of d standard Gaussians is a Gaussian with variance \n",
    "    \"density\" : lambda y,d : sc.stats.norm.pdf(y,scale = np.sqrt(d)),\n",
    "     \"y_domain\" : lambda d : np.array([-3*np.sqrt(d),3*np.sqrt(d)]),\n",
    "    \"name\" : lambda d : f\"Sum of {d:.0f} Gaussians\"}\n",
    "print(uniform_1[\"density\"](np.array([0.5,1,1.5]),1))\n",
    "print(sum_d_Gauss[\"density\"](0,2))\n",
    "ex_densities = [uniform_1,sum_d_Gauss]\n",
    "d = 3\n",
    "for ii in range(len(ex_densities)):\n",
    "    fig,ax = plt.subplots()\n",
    "    domain = ex_densities[ii][\"y_domain\"](d)\n",
    "    yplot = np.linspace(domain[0],domain[1],500)\n",
    "    rhoplot = ex_densities[ii][\"density\"](yplot,d)\n",
    "    ax.plot(yplot, rhoplot),\n",
    "    ax.set_title(ex_densities[ii][\"name\"](d))\n",
    "    ax.set_xlabel(\"$y$\")\n",
    "    ax.set_ylabel(\"probability density\")"
   ]
  },
  {
   "cell_type": "code",
   "execution_count": null,
   "metadata": {},
   "outputs": [],
   "source": [
    "rmse = lambda rhoval, pdf, n : np.sqrt((1/n)*(np.sum(np.square(pdf-rhoval))))"
   ]
  },
  {
   "cell_type": "code",
   "execution_count": null,
   "metadata": {},
   "outputs": [],
   "source": [
    "uniform_1 = {\n",
    "    \"f\" : lambda x: x[:,0],  #just take the first coordinate\n",
    "    \"density\" : lambda y,d : np.where((y >= 0) & (y <= 1),1.,0.),\n",
    "    \"y_domain\" : lambda d : np.array([-0.1,1.1]),\n",
    "    \"name\" : lambda d=1 : \"One-Dimensional Uniform\"}"
   ]
  },
  {
   "cell_type": "code",
   "execution_count": null,
   "metadata": {},
   "outputs": [],
   "source": [
    "gaussian_1 = { # standard Gaussian\n",
    "    \"f\" : lambda x: norm.ppf(x), \n",
    "    \"density\" : lambda y,d : norm.pdf(y, loc=0, scale=1),\n",
    "    \"y_domain\" : lambda d : np.array([-3.1,3.1]),\n",
    "    \"name\" : lambda d=1 : \"One-Dimensional Standard Gaussian\"}"
   ]
  },
  {
   "cell_type": "code",
   "execution_count": null,
   "metadata": {},
   "outputs": [],
   "source": [
    "triangular_1 = { # triangular = sum of 2 uniform variables, min = 0, max = 2, mode = 1\n",
    "    \"f\" : lambda x: np.where(x < 0.5,\n",
    "                        0 + np.sqrt(x * (2) * (1)),\n",
    "                        2 - np.sqrt((1 - x) * (2) * (1))), \n",
    "    \"density\" : lambda y,d : np.where((0 < y) & (y < 1), y, \n",
    "                                      np.where((1 <= y) & (y < 2), 2 - y, \n",
    "                                               0)),\n",
    "    \"y_domain\" : lambda d : np.array([-0.1, 2.1]),\n",
    "    \"name\" : lambda d=1 : \"One-Dimensional Sum of 2 Uniforms (Triangular)\"}"
   ]
  },
  {
   "cell_type": "code",
   "execution_count": null,
   "metadata": {},
   "outputs": [],
   "source": [
    "# from scipy.stats import expon\n",
    "\n",
    "exp_1 = { # exponential, lambda = 1\n",
    "    \"f\" : lambda x: -np.log(x), \n",
    "    \"density\" : lambda y,d : expon.pdf(y),\n",
    "    \"y_domain\" : lambda d : np.array([-0.1,4.1]),\n",
    "    \"name\" : lambda d=1 : \"One-Dimensional Exponential (lambda = 1)\"}"
   ]
  },
  {
   "cell_type": "code",
   "execution_count": null,
   "metadata": {},
   "outputs": [],
   "source": [
    "laplace_1 = { # laplace, where mu = 0 and b = 1\n",
    "    \"f\" : lambda x: 0 - 1 * np.sign(x - 0.5) * np.log(1 - 2 * np.abs(x - 0.5)), \n",
    "    \"density\" : lambda y,d : stats.laplace(0, 1).pdf(y),\n",
    "    \"y_domain\" : lambda d : np.array([-4.1,4.1]),\n",
    "    \"name\" : lambda d=1 : \"One-Dimensional Laplace (mu = 0, b = 1)\"}"
   ]
  },
  {
   "cell_type": "code",
   "execution_count": null,
   "metadata": {},
   "outputs": [],
   "source": [
    "densities = [uniform_1, gaussian_1, triangular_1, exp_1, laplace_1]\n",
    "d = 1\n",
    "for ii in range(len(densities)):\n",
    "    fig,ax = plt.subplots()\n",
    "    domain = densities[ii][\"y_domain\"](d)\n",
    "    yplot = np.linspace(domain[0],domain[1],500)\n",
    "    rhoplot = densities[ii][\"density\"](yplot,d)\n",
    "    ax.plot(yplot, rhoplot),\n",
    "    ax.set_title(densities[ii][\"name\"](d))\n",
    "    ax.set_xlabel(\"$y$\")\n",
    "    ax.set_ylabel(\"probability density\")"
   ]
  },
  {
   "cell_type": "code",
   "execution_count": null,
   "metadata": {},
   "outputs": [],
   "source": [
    "weight_sum_d_Gauss = {\n",
    "    \"f\" : lambda x, weights: np.sum(norm.ppf(x)*weights, axis = 1),  #sum of d standard Gaussians with weights \n",
    "    \"density\" : lambda y, weights : sc.stats.norm.pdf(y,scale = np.sqrt(sum(w*w for w in weights))),\n",
    "     \"y_domain\" : lambda weights : np.array([-3*np.sqrt(sum(w*w for w in weights)),3*np.sqrt(sum(w*w for w in weights))]),\n",
    "    \"name\" : lambda d : f\"Weighted Sum of {d:.0f} Gaussians\"}"
   ]
  },
  {
   "cell_type": "code",
   "execution_count": null,
   "metadata": {},
   "outputs": [],
   "source": [
    "weighted_densities = [weight_sum_d_Gauss]\n",
    "d = 3\n",
    "weights_3 = [1,1,1]\n",
    "for ii in range(len(weighted_densities)):\n",
    "    fig,ax = plt.subplots()\n",
    "    domain = weighted_densities[ii][\"y_domain\"](weights_3)\n",
    "    yplot = np.linspace(domain[0],domain[1],500)\n",
    "    rhoplot = weighted_densities[ii][\"density\"](yplot,weights_3)\n",
    "    ax.plot(yplot, rhoplot),\n",
    "    ax.set_title(weighted_densities[ii][\"name\"](d))\n",
    "    ax.set_xlabel(\"$y$\")\n",
    "    ax.set_ylabel(\"probability density\")"
   ]
  },
  {
   "cell_type": "code",
   "execution_count": null,
   "metadata": {},
   "outputs": [],
   "source": [
    "def new_graph_rmse_vs_bandwidth(distn_dict, h_list, n, pts, kernel, kde, xeval, graph_title):\n",
    "    '''\n",
    "    generates a graph of rmse vs. log-scaled bandwidth\n",
    "    \n",
    "    distn_dict = dictionary that defines the distribution we are estimating\n",
    "    h_list = list of bandwidths to be tested (log-scaled bandwidth on x-axis)\n",
    "    n = number of points\n",
    "    pts = set of untransformed points (IID or LD)\n",
    "    kernel = kernel function\n",
    "    kde = kernel density estimator function\n",
    "    xeval = set of points that is range of x-axis (e.g., np.linspace(-4, 8, 500))\n",
    "    graph_title = a string that will become title of graph\n",
    "    '''\n",
    "\n",
    "    rmse_list = []\n",
    "    for h in h_list:\n",
    "        rhoval = kde(kernel, distn_dict['f'](pts), h, xeval)\n",
    "        rmse_list.append(rmse(rhoval, distn_dict['density'](xeval, 1), n))\n",
    "\n",
    "    min_index = rmse_list.index(min(rmse_list))\n",
    "    print(\"Minimum rmse = \" \n",
    "        + str(rmse_list[min_index]) \n",
    "        + \"\\nand corresponding bandwidth is \" \n",
    "        + str(h_list[min_index])\n",
    "        + \".\\nLog of optimal bandwidth is \"\n",
    "        + str(np.log(h_list[min_index])))\n",
    "    \n",
    "    fig, ax = plt.subplots()\n",
    "    ax.plot(h_list, rmse_list)\n",
    "    ax.set_title(graph_title)\n",
    "    ax.set_xlabel('Log-Scaled Bandwidth')\n",
    "    ax.set_ylabel('RMSE')\n",
    "    ax.set_xscale('log')"
   ]
  },
  {
   "cell_type": "code",
   "execution_count": null,
   "metadata": {},
   "outputs": [],
   "source": [
    "def weighted_new_graph_rmse_vs_bandwidth(distn_dict, h_list, n, pts, kernel, kde, xeval, weights, graph_title):\n",
    "    '''\n",
    "    generates a graph of rmse vs. log-scaled bandwidth\n",
    "    \n",
    "    distn_dict = dictionary that defines the distribution we are estimating\n",
    "    h_list = list of bandwidths to be tested (log-scaled bandwidth on x-axis)\n",
    "    n = number of points\n",
    "    pts = set of untransformed points (IID or LD)\n",
    "    kernel = kernel function\n",
    "    kde = kernel density estimator function\n",
    "    xeval = set of points that is range of x-axis (e.g., np.linspace(-4, 8, 500))\n",
    "    weights = list of weights\n",
    "    graph_title = a string that will become title of graph\n",
    "    '''\n",
    "\n",
    "    rmse_list = []\n",
    "    for h in h_list:\n",
    "        rhoval = kde(kernel, distn_dict['f'](pts, weights), h, xeval)\n",
    "        rmse_list.append(rmse(rhoval, distn_dict['density'](xeval, weights), n))\n",
    "\n",
    "    min_index = rmse_list.index(min(rmse_list))\n",
    "    print(\"Minimum rmse = \" \n",
    "        + str(rmse_list[min_index]) \n",
    "        + \"\\nand corresponding bandwidth is \" \n",
    "        + str(h_list[min_index])\n",
    "        + \".\\nLog of optimal bandwidth is \"\n",
    "        + str(np.log(h_list[min_index])))\n",
    "    \n",
    "    fig, ax = plt.subplots()\n",
    "    ax.plot(h_list, rmse_list)\n",
    "    ax.set_title(graph_title)\n",
    "    ax.set_xlabel('Log-Scaled Bandwidth')\n",
    "    ax.set_ylabel('RMSE')\n",
    "    ax.set_xscale('log')"
   ]
  },
  {
   "cell_type": "code",
   "execution_count": null,
   "metadata": {},
   "outputs": [],
   "source": [
    "xeval = np.linspace(-4, 8, 500)\n",
    "h_list = 2**np.linspace(-10, 0, 100)\n",
    "new_graph_rmse_vs_bandwidth(exp_1, h_list, 2**12, iidpts1, kernel, kde, xeval, \"RMSE vs. bandwidth for IID pts: n = 2^12, dim = 1\")"
   ]
  },
  {
   "cell_type": "code",
   "execution_count": null,
   "metadata": {},
   "outputs": [],
   "source": [
    "xeval = np.linspace(-4, 8, 500)\n",
    "h_list = 2**np.linspace(-10, 0, 100)\n",
    "weights_1 = [1]\n",
    "weights_3 = [1,1,1]\n",
    "weighted_new_graph_rmse_vs_bandwidth(weight_sum_d_Gauss, h_list, 2**12, iidpts1, kernel, kde, xeval, weights_1, \"RMSE vs. bandwidth for IID pts: n = 2^12, dim = 1\")"
   ]
  },
  {
   "cell_type": "markdown",
   "metadata": {},
   "source": [
    "## Profiling code"
   ]
  },
  {
   "cell_type": "code",
   "execution_count": null,
   "metadata": {},
   "outputs": [],
   "source": [
    "# import matplotlib.pyplot as plt\n",
    "# import math\n",
    "# import numpy as np\n",
    "# import scipy as sp\n",
    "# import qmcpy as qp\n",
    "# from scipy import stats\n",
    "# from copy import deepcopy\n",
    "# import sympy as sy\n",
    "# import sympy.stats\n",
    "# import pprofile\n",
    "# import sys"
   ]
  },
  {
   "cell_type": "code",
   "execution_count": null,
   "metadata": {},
   "outputs": [],
   "source": [
    "# ## defining functions\n",
    "# # QMC Point Generators\n",
    "# def gen_iid_ld_pts(dimen = 3, n = 2**12):\n",
    "#     \"\"\"\n",
    "#     Generate IID, Sobol, Lattic, DNB2, and Halton sample points,\n",
    "#     based on dimension and smaple size.\n",
    "#     \"\"\"\n",
    "#     coord_wts = 2.0**(-np.array(range(0, dimen)))\n",
    "#     iidpts = qp.IIDStdUniform(dimen).gen_samples(n)\n",
    "#     sobpts = qp.Sobol(dimen).gen_samples(n)\n",
    "#     latticepts = qp.Lattice(dimen).gen_samples(n)\n",
    "#     dnetb2pts = qp.DigitalNetB2(dimen).gen_samples(n)\n",
    "#     haltonpts = qp.Halton(dimen).gen_samples(n)\n",
    "#     return (iidpts, sobpts, latticepts, dnetb2pts, haltonpts)\n",
    "\n",
    "# # Kernels\n",
    "# # hardcoding hermite kernel coefficients\n",
    "# def hardcode_hermite_kernel(r):\n",
    "#     '''\n",
    "#     returns hermite coefficients for r = 0, 1, or 2\n",
    "#     band_width = the kernel band width, often denoted h; a smaller bandwidth means a peakier kernel\n",
    "#     r = number of terms in our kernel\n",
    "#     '''\n",
    "#     if r == 0:\n",
    "#         return sy.Matrix([[1/(math.pi)**0.5]])\n",
    "#     elif r == 1:\n",
    "#         return sy.Matrix([[1/(math.pi)**0.5, -1/(4*(math.pi)**0.5)]])\n",
    "#     elif r == 2:\n",
    "#         return sy.Matrix([[1/(math.pi)**0.5, -1/(4*(math.pi)**0.5), 1/(32*(math.pi)**0.5)]])\n",
    "#     else:\n",
    "#         raise ValueError(\"Invalid input. r must be 0, 1, or 2.\")\n",
    "\n",
    "# # hardcoded: define hermite kernel for r = 0 (corresponds to r = 1 in the original case)\n",
    "# def hardcode_hermite_kernel_weight(y, r = 0):\n",
    "#     '''\n",
    "#     r = number of terms in our kernel\n",
    "#     '''\n",
    "#     coef = np.array((hardcode_hermite_kernel(r = r)))\n",
    "#     # print(coef)\n",
    "#     # poly = sp.special.hermite(0)\n",
    "#     # print(poly)\n",
    "#     k = sp.special.hermite(0)(y) * coef[0][0] #initialize a vector of kernel values\n",
    "#     # print(k)\n",
    "#     for ii in range(0, r):\n",
    "#         k += sp.special.hermite(2*ii)(y) * coef[0][ii] #add the additional terms\n",
    "#     k *= np.exp(-y*y/2) #normalizing weight for Hermite functions #form the isotropic kernel and insert the bandwidth dependency\n",
    "#     return k\n",
    "\n",
    "# # hardcoding hermite kernel coefficients without sympy\n",
    "# def hardcode_hermite_kernel_simple(r):\n",
    "#     '''\n",
    "#     returns hermite coefficients for r = 0, 1, or 2\n",
    "#     band_width = the kernel band width, often denoted h; a smaller bandwidth means a peakier kernel\n",
    "#     r = number of terms in our kernel\n",
    "#     '''\n",
    "#     if r==0:\n",
    "#         return np.matrix([[1/(math.pi)**0.5]])\n",
    "#     elif r==1:\n",
    "#         return np.matrix([[1/(math.pi)**0.5, -1/(4*(math.pi)**0.5)]])\n",
    "#     elif r==2:\n",
    "#         return np.matrix([[1/(math.pi)**0.5, -1/(4*(math.pi)**0.5), 1/(32*(math.pi)**0.5)]])\n",
    "#     else:\n",
    "#         raise ValueError(\"Invalid input. r must be 0, 1, or 2.\")\n",
    "    \n",
    "# # using simplified np.matrix for coefficients, instead of sympy.matrix\n",
    "# def hardcode_hermite_kernel_weight_v2(y, r = 0):\n",
    "#     '''\n",
    "#     r = number of terms in our kernel\n",
    "#     '''\n",
    "#     coef = np.array((hardcode_hermite_kernel_simple(r = r)))\n",
    "#     # print(coef)\n",
    "#     # poly = sp.special.hermite(0)\n",
    "#     # print(poly)\n",
    "#     k = sp.special.hermite(0)(y) * coef[0][0] #initialize a vector of kernel values\n",
    "#     # print(k)\n",
    "#     for ii in range(0, r):\n",
    "#         k += sp.special.hermite(2*ii)(y) * coef[0][ii] #add the additional terms\n",
    "#     k *= np.exp(-y*y/2) #normalizing weight for Hermite functions #form the isotropic kernel and insert the bandwidth dependency\n",
    "#     return k\n",
    "    \n",
    "# # hardcoded without scipy: define hermite kernel for r = 0 (corresponds to r = 1 in the original case)\n",
    "# # for some reason, not returning same values as original kernel\n",
    "# def simple_hardcode_hermite_kernel_weight(y, r = 0):\n",
    "#     '''\n",
    "#     r = number of terms in our kernel\n",
    "#     '''\n",
    "#     coef = np.array((hardcode_hermite_kernel(r = r)))\n",
    "#     hermite_polys = [sp.poly1d([1.]), sp.poly1d([4.,  0., -2.]), sp.poly1d([ 1.6000000e+01,  0.0000000e+00, -4.8000000e+01, -8.8817842e-16,\n",
    "#         1.2000000e+01])]\n",
    "#     # print(coef)\n",
    "#     # poly = sp.special.hermite(0)\n",
    "#     # print(poly)\n",
    "#     k = sp.poly1d([1.])(y)*coef[0][0] #initialize a vector of kernel values\n",
    "#     # print(k)\n",
    "#     for ii in range(0,r):\n",
    "#         k += hermite_polys[r](y)*coef[0][ii] #add the additional terms\n",
    "#     k*=np.exp(-y*y/2) #normalizing weight for Hermite functions #form the isotropic kernel and insert the bandwidth dependency\n",
    "#     return k\n",
    "\n",
    "# # PDFs\n",
    "# # Unamed distribution\n",
    "# def testfun(x):\n",
    "#     return 10 * np.exp(-x) * np.sin(np.pi*x)\n",
    "\n",
    "# # Guassian distribution\n",
    "# def guass_distr(x, coord_wts = 1): # function f(x) defines the random variable\n",
    "#     wtx = np.multiply(x, coord_wts)\n",
    "#     y = 10 * np.exp(-wtx.sum(1)) * np.sin(np.pi * wtx.sum(1))\n",
    "#     #y = x[:,0] # if x is uniform, then y is uniform\n",
    "#     return y\n",
    "\n",
    "# # KDEs\n",
    "# def kde_pt(kernel, ypts, bandwidth, yeval):\n",
    "#     return np.mean(kernel((yeval-ypts) / bandwidth)) / bandwidth\n",
    "\n",
    "# # def estimated_pts(x):\n",
    "# #     return kde_pt(hardcode_hermite_kernel_weight, pts, h, x)\n",
    "\n",
    "# # def squared_difference_pts(x):\n",
    "# #     return (hardcode_hermite_kernel_weight - estimated_pts(x))**2\n",
    "\n",
    "# # Integration operation from SciPy\n",
    "# def integration_test(h, pts, kde, kernel, true_function):\n",
    "#         def estimated_pts(x):\n",
    "#             return kde(kernel, pts, h, x)\n",
    "#         def squared_difference_pts(x):\n",
    "#             return (true_function(x) - estimated_pts(x))**2\n",
    "#         mise, error = sp.integrate.quad(squared_difference_pts, -4, 8) # This seems to be taking the longest. Will investigate.\n",
    "#         return (mise, error)\n",
    "\n",
    "# # All operations\n",
    "# def optimal_h(h_space, pts, kde, kernel, true_function):\n",
    "#     '''\n",
    "#     returns optimal bandwidth and lowest value of MISE\n",
    "#     h_space: a set of bandwidths to be tested (e.g., np.linspace(0.001, 3, 100))\n",
    "#     pts: set of randomly generated points (IID or LD)\n",
    "#     kde: kde function\n",
    "#     kernel: function that defines kernel\n",
    "#     true_function: function that we are trying to estimate (e.g., f(x), laplace, uniform, exponential, etc.)\n",
    "#     '''\n",
    "#     h_optimal = 0\n",
    "#     lowest_mise = np.inf\n",
    "#     for h in h_space:\n",
    "#         def estimated_pts(x):\n",
    "#             return kde(kernel, pts, h, x)\n",
    "#         def squared_difference_pts(x):\n",
    "#             return (true_function(x) - estimated_pts(x))**2\n",
    "#         mise, error = sp.integrate.quad(squared_difference_pts, -4, 8) # TODO: Fix this interval of integration so that it makes sense. Should probably be parameterized as well.\n",
    "#         if mise < lowest_mise:\n",
    "#             lowest_mise = mise\n",
    "#             h_optimal = h\n",
    "\n",
    "#     return(lowest_mise, h_optimal)"
   ]
  },
  {
   "cell_type": "code",
   "execution_count": null,
   "metadata": {},
   "outputs": [],
   "source": [
    "# # Functions to test\n",
    "# # Alternatives to SciPy's integration\n",
    "\n",
    "# iidpts1, sobpts1, latticepts1, dnetb2pts1, haltonpts1 = gen_iid_ld_pts(dimen = 1, n = 2**12)\n",
    "# yiid1 = guass_distr(iidpts1)\n",
    "# test_option = '6'\n",
    "\n",
    "# profiler = pprofile.Profile()\n",
    "# with profiler:\n",
    "#     if test_option in ('optimal_h' ,'0'):\n",
    "#         result = optimal_h(np.linspace(0.001, 2, 2), yiid1, kde_pt, hardcode_hermite_kernel_weight, testfun)\n",
    "#     elif test_option in ('kde_pt', '1'):\n",
    "#         result = kde_pt(hardcode_hermite_kernel_weight, yiid1, 0.5, 2.0)\n",
    "#     # elif test_option == 'hardcode_hermite_kernel_weight':\n",
    "#     #     # result = hardcode_hermite_kernel_weight(y, r)\n",
    "#     elif test_option in ('hardcode_hermite_kernel', '2'):\n",
    "#         r_number = int(2)\n",
    "#         print(hardcode_hermite_kernel(r_number))\n",
    "#     elif test_option in ('hardcode_hermite_kernel', '3'):\n",
    "#         r_number = int(2)\n",
    "#         result = hardcode_hermite_kernel_weight(y=yiid1, r=r_number)\n",
    "#     elif test_option in ('integration_test', '4'):\n",
    "#         mise, error = integration_test(0.1, yiid1, kde_pt, hardcode_hermite_kernel_weight, testfun)\n",
    "#     elif test_option in ('hardcode_hermite_kernel_simple', '5'):\n",
    "#         print(hardcode_hermite_kernel_simple(2)) # testing when r = 2\n",
    "#     elif test_option in ('simple_hardcode_hermite_kernel_weight', '6'):\n",
    "#         print(simple_hardcode_hermite_kernel_weight(y=yiid1, r=2))\n",
    "#     elif test_option in ('hardcode_hermite_kernel_weight_v2', '7'):\n",
    "#         result = hardcode_hermite_kernel_weight_v2(y=yiid1, r=2)\n",
    "#     else:\n",
    "#         raise Exception\n",
    "\n",
    "# profiler.print_stats()"
   ]
  },
  {
   "cell_type": "code",
   "execution_count": null,
   "metadata": {},
   "outputs": [],
   "source": [
    "#testing"
   ]
  }
 ],
 "metadata": {
  "kernelspec": {
   "display_name": "qmcpy",
   "language": "python",
   "name": "python3"
  },
  "language_info": {
   "codemirror_mode": {
    "name": "ipython",
    "version": 3
   },
   "file_extension": ".py",
   "mimetype": "text/x-python",
   "name": "python",
   "nbconvert_exporter": "python",
   "pygments_lexer": "ipython3",
   "version": "3.9.13"
  }
 },
 "nbformat": 4,
 "nbformat_minor": 2
}
