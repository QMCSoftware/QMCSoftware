{
 "cells": [
  {
   "cell_type": "markdown",
   "metadata": {},
   "source": [
    "# Set Up"
   ]
  },
  {
   "cell_type": "markdown",
   "metadata": {},
   "source": [
    "## Colab Installation\n",
    "\n",
    "Run the following code block if you are using this Jupyter notebook in Google Colab. Otherwise skip to importing the packages."
   ]
  },
  {
   "cell_type": "code",
   "execution_count": 2,
   "metadata": {},
   "outputs": [
    {
     "name": "stdout",
     "output_type": "stream",
     "text": [
      "Collecting git+https://github.com/QMCSoftware/QMCSoftware.git@SURE2024\n",
      "  Cloning https://github.com/QMCSoftware/QMCSoftware.git (to revision SURE2024) to c:\\users\\waine\\appdata\\local\\temp\\pip-req-build-n4_vfvra\n",
      "  Resolved https://github.com/QMCSoftware/QMCSoftware.git to commit d19070ff3ee86f69f57218b65808e72ba6741d82\n",
      "  Preparing metadata (setup.py): started\n",
      "  Preparing metadata (setup.py): finished with status 'done'\n",
      "Requirement already satisfied: numpy>=1.17.0 in c:\\users\\waine\\miniconda3\\miniconda\\envs\\qmcpy\\lib\\site-packages (from qmcpy==1.4.5) (1.23.4)\n",
      "Requirement already satisfied: scipy>=1.0.0 in c:\\users\\waine\\miniconda3\\miniconda\\envs\\qmcpy\\lib\\site-packages (from qmcpy==1.4.5) (1.9.3)\n",
      "Building wheels for collected packages: qmcpy\n",
      "  Building wheel for qmcpy (setup.py): started\n",
      "  Building wheel for qmcpy (setup.py): finished with status 'done'\n",
      "  Created wheel for qmcpy: filename=qmcpy-1.4.5-cp39-cp39-win_amd64.whl size=7695007 sha256=75d1045a48fad4d790fc2287e686b47b172df533ef825c27fbaa9090edf99a1f\n",
      "  Stored in directory: C:\\Users\\waine\\AppData\\Local\\Temp\\pip-ephem-wheel-cache-x654y6qu\\wheels\\ae\\92\\8c\\9c3620765e56b81faafbec8c64f5d2d942604061db0c3369a2\n",
      "Successfully built qmcpy\n",
      "Installing collected packages: qmcpy\n",
      "Successfully installed qmcpy-1.4.5\n"
     ]
    },
    {
     "name": "stderr",
     "output_type": "stream",
     "text": [
      "  Running command git clone --filter=blob:none --quiet https://github.com/QMCSoftware/QMCSoftware.git 'C:\\Users\\waine\\AppData\\Local\\Temp\\pip-req-build-n4_vfvra'\n",
      "  Running command git checkout -b SURE2024 --track origin/SURE2024\n",
      "  branch 'SURE2024' set up to track 'origin/SURE2024'.\n",
      "  Switched to a new branch 'SURE2024'\n"
     ]
    }
   ],
   "source": [
    "# Run these statements if you are using Google Colab. Otherwise skip this step.\n",
    "!sudo apt install cm-super dvipng texlive-latex-extra texlive-latex-recommended\n",
    "!sudo apt install cm-super\n",
    "!pip install git+https://github.com/QMCSoftware/QMCSoftware.git@SURE2024"
   ]
  },
  {
   "cell_type": "markdown",
   "metadata": {},
   "source": [
    "## Importing Packages"
   ]
  },
  {
   "cell_type": "code",
   "execution_count": 3,
   "metadata": {},
   "outputs": [],
   "source": [
    "import matplotlib.pyplot as plt\n",
    "import math\n",
    "import numpy as np\n",
    "import scipy as sp\n",
    "import qmcpy as qp\n",
    "from scipy import stats\n",
    "from copy import deepcopy\n",
    "import sympy as sy\n",
    "import sympy.stats\n",
    "# figpath = '' #this path sends the figures to the directory that you want\n",
    "# savefigs = True  #save the figures on your disk if True\n",
    "# imgfrmt = 'pdf' #kind of format to save figures as"
   ]
  },
  {
   "cell_type": "markdown",
   "metadata": {},
   "source": [
    "# Definitions of Python Functions\n",
    "\n",
    "The following functions are things that will be repeatedly used in the notebook so that there isn't duplicate code all over the place."
   ]
  },
  {
   "cell_type": "markdown",
   "metadata": {},
   "source": [
    "## Graphing Functions\n",
    "\n",
    "The following functions are to help with graphing."
   ]
  },
  {
   "cell_type": "code",
   "execution_count": 4,
   "metadata": {},
   "outputs": [],
   "source": [
    "def make_grid(d=3, nper=2):\n",
    "    \"\"\"this function creates a nper^d x d matrix of grid points\"\"\"\n",
    "    xpts = np.linspace(1/(2*nper), 1.0-1/(2*nper), nper)  # array of coordinate values\n",
    "    xgrid = xpts  # initial grid\n",
    "    n = nper  # initial length of grid\n",
    "    for ii in range(1,d):\n",
    "        xgrid0 = xgrid  # store the old grid\n",
    "        xgrid = np.vstack((xgrid0, xpts[0] * np.ones((1, n))))  # stack the next coordinate\n",
    "        for jj in range(1, nper):\n",
    "            xgrid = np.hstack((xgrid, np.vstack((xgrid0, xpts[jj] * np.ones((1, n))))))\n",
    "        n = n * nper  # update the length of the grid\n",
    "    return xgrid.T  # take the transpose to that coordinates are columns\n",
    "\n",
    "def plot_grid(xgrid, coord_to_plot=[0, 1], savefig=True, figpath=''):\n",
    "    \"\"\"Plots a dot grid.\"\"\"\n",
    "    n = xgrid.shape[0]\n",
    "    d = xgrid.shape[1]\n",
    "    coord_to_plot = np.minimum(coord_to_plot, [d, d]), # ensure that they are no more than d\n",
    "    coord_to_plot = coord_to_plot[0]\n",
    "    coord_to_plot = np.maximum(coord_to_plot, [1, 1]), # ensure that they are no less than 1\n",
    "    coord_to_plot = coord_to_plot[0]\n",
    "    fig, ax = plt.subplots()\n",
    "    ax.plot(xgrid[:,coord_to_plot[0]-1], xgrid[:,coord_to_plot[1]-1], 'b.', markersize = 10, zorder=10, clip_on=False)\n",
    "    ax.set_title(f\"{n:.0f} Grid Points for $d = ${d:.0f}\")\n",
    "    ax.set_xlim([0, 1])\n",
    "    ax.set_ylim([0, 1])\n",
    "    ax.set_xlabel(r'$x_{i%d}$'%(coord_to_plot[0]), fontsize=14)\n",
    "    ax.set_ylabel(r'$x_{i%d}$'%(coord_to_plot[1]), fontsize=14)\n",
    "    ax.set_aspect(1)\n",
    "    if savefigs:\n",
    "        fig.savefig(figpath + f\"{n:.0f}gridpts_d{d:.0f}.\" + imgfrmt, format=imgfrmt)\n"
   ]
  },
  {
   "cell_type": "code",
   "execution_count": 5,
   "metadata": {},
   "outputs": [],
   "source": [
    "def graph_kernel(bandwidths, lin_spaces, kernel, ylim_lst=[-0.05, 1.2]):\n",
    "  \"\"\"Graphs a given kernel, with given bandwidths, lin_spaces\n",
    "  bandwidths = a list of bandwidths\n",
    "  lin_spaces = a list of 3 integers: start, finish, and number of points\"\"\"\n",
    "  ypts = np.linspace(lin_spaces[0], lin_spaces[1], lin_spaces[2])\n",
    "  nband = len(bandwidths)\n",
    "  fig, ax = plt.subplots(1, 3, figsize=(5*nband, 5))\n",
    "  for ii in range(nband):\n",
    "      ax[ii].plot(ypts,kernel(ypts/bandwidths[ii]) / bandwidths[ii])\n",
    "      ax[ii].grid(False)\n",
    "      ax[ii].set_ylim(ylim_lst)\n",
    "      ax[ii].set_xlabel(r'$y$', fontsize=20)\n",
    "      ax[ii].set_ylabel(r'$h = {%0.1f}$'%bandwidths[ii], fontsize=20)\n",
    "    #   if (ii == 0):\n",
    "    #       ax[ii].set_ylabel(r'$\\widetilde{k}(y) = \\exp(-(y/h)^2)/(\\sqrt{\\pi}h), \\ h = {%0.1f}$'%bandwidths[ii], fontsize=20)\n",
    "    #   else:\n",
    "    #       ax[ii].set_ylabel(r'$h = {%0.1f}$'%bandwidths[ii], fontsize=20)"
   ]
  },
  {
   "cell_type": "code",
   "execution_count": 6,
   "metadata": {},
   "outputs": [],
   "source": [
    "def generate_sobol_iid_graph(bandwidths, lin_spaces, kde, kernel, yiid, ysob, ylim_lst=[-0.05, 1.2]):\n",
    "  \"\"\"Generates a graph using IID and Sobol sample points.\n",
    "  bandwidths = a list of bandwidths\n",
    "  lin_spaces = a list of 3 integers: start, finish, and number of points\n",
    "  kde = name of kde function\n",
    "  kernel = name of kernel function\n",
    "  yiid = set of iid points\n",
    "  ysob = set of LD points generated with sobol sequence\"\"\"\n",
    "  nband = len(bandwidths)\n",
    "  yeval = np.linspace(lin_spaces[0], lin_spaces[1], lin_spaces[2])\n",
    "  for ii in range(nband):\n",
    "      rhovaliid = kde(kernel, yiid, bandwidths[ii], yeval)\n",
    "      rhovalsob = kde(kernel, ysob, bandwidths[ii], yeval)\n",
    "      fig,ax = plt.subplots()\n",
    "      ax.plot(yeval, rhovaliid, label = \"IID\")\n",
    "      ax.plot(yeval, rhovalsob, label = \"Sobol\")\n",
    "      ax.legend()\n",
    "      ax.set_ylim(ylim_lst)\n",
    "      ax.set_title(f\"$h = {bandwidths[ii]:.2f}$\")"
   ]
  },
  {
   "cell_type": "code",
   "execution_count": 7,
   "metadata": {},
   "outputs": [],
   "source": [
    "def generate_graphs(bandwidths, lin_spaces, kde, kernel, sample_points, ylim_lst=[-0.05, 1.2]):\n",
    "  \"\"\"\n",
    "  Generate graphs involving a kde, kernel, and sample_points.\n",
    "  sample_points is a list of IID, Sobol, Lattice, DNB2, and Halton points.\n",
    "  \"\"\"\n",
    "  nband = len(bandwidths)\n",
    "  yeval = np.linspace(lin_spaces[0], lin_spaces[1], lin_spaces[2])\n",
    "  rho_list = list()\n",
    "  for ii in range(nband):\n",
    "      rhovaliid = kde(kernel, sample_points[0], bandwidths[ii], yeval)\n",
    "      rhovalsob = kde(kernel, sample_points[1], bandwidths[ii], yeval)\n",
    "      rhovallattice = kde(kernel, sample_points[2], bandwidths[ii], yeval)\n",
    "      rhovaldnetb2 = kde(kernel, sample_points[3], bandwidths[ii], yeval)\n",
    "      rhovalhalton = kde(kernel, sample_points[4], bandwidths[ii], yeval)\n",
    "      fig, ax = plt.subplots()\n",
    "      ax.plot(yeval, rhovaliid, label = \"IID\")\n",
    "      ax.plot(yeval, rhovalsob, label = \"Sobol\")\n",
    "      ax.plot(yeval, rhovallattice, label = \"Lattice\")\n",
    "      ax.plot(yeval, rhovaldnetb2, label = \"Digital Net B2\")\n",
    "      ax.plot(yeval, rhovalhalton, label = \"Halton\")\n",
    "      ax.legend()\n",
    "      ax.set_ylim(ylim_lst)\n",
    "      ax.set_title(f\"$h = {bandwidths[ii]:.2f}$\")"
   ]
  },
  {
   "cell_type": "markdown",
   "metadata": {},
   "source": [
    "## Generate Functions\n",
    "\n",
    "The following functions are used to generate different types of sample points."
   ]
  },
  {
   "cell_type": "code",
   "execution_count": 8,
   "metadata": {},
   "outputs": [],
   "source": [
    "def gen_iid_and_sobol(dimen = 3, n = 2**12):\n",
    "  \"\"\"Generate IID and Sobol sample points based on given sample size and dimensions.\"\"\"\n",
    "  coord_wts = 2.0 ** (-np.array(range(0, dimen)))\n",
    "  iidpts = qp.IIDStdUniform(dimen).gen_samples(n)\n",
    "  sobpts = qp.Sobol(dimen).gen_samples(n)\n",
    "  return (iidpts, sobpts)\n",
    "\n",
    "def gen_iid_ld_pts(dimen = 3, n = 2**12):\n",
    "  \"\"\"\n",
    "  Generate IID, Sobol, Lattic, DNB2, and Halton sample points,\n",
    "  based on dimension and smaple size.\n",
    "  \"\"\"\n",
    "  coord_wts = 2.0**(-np.array(range(0, dimen)))\n",
    "  iidpts = qp.IIDStdUniform(dimen).gen_samples(n)\n",
    "  sobpts = qp.Sobol(dimen).gen_samples(n)\n",
    "  latticepts = qp.Lattice(dimen).gen_samples(n)\n",
    "  dnetb2pts = qp.DigitalNetB2(dimen).gen_samples(n)\n",
    "  haltonpts = qp.Halton(dimen).gen_samples(n)\n",
    "  return (iidpts, sobpts, latticepts, dnetb2pts, haltonpts)"
   ]
  },
  {
   "cell_type": "markdown",
   "metadata": {},
   "source": [
    "## Generating Points\n",
    "\n",
    "Generating sequences of IID and LD points, with dimensions 1 and 3."
   ]
  },
  {
   "cell_type": "code",
   "execution_count": 81,
   "metadata": {},
   "outputs": [],
   "source": [
    "# dim = 1, n = 2**12\n",
    "iidpts1, sobpts1, latticepts1, dnetb2pts1, haltonpts1 = gen_iid_ld_pts(dimen = 1, n = 2**12)\n",
    "# print(\"iid: \", iidpts1)\n",
    "# print(\"sobol: \", sobpts1)\n",
    "# print(\"lattice: \", latticepts1)\n",
    "# print(\"digital net B2: \", dnetb2pts1)\n",
    "# print(\"halton: \", haltonpts1)"
   ]
  },
  {
   "cell_type": "code",
   "execution_count": 85,
   "metadata": {},
   "outputs": [
    {
     "data": {
      "text/plain": [
       "(4096, 1)"
      ]
     },
     "execution_count": 85,
     "metadata": {},
     "output_type": "execute_result"
    }
   ],
   "source": [
    "iidpts1.shape"
   ]
  },
  {
   "cell_type": "code",
   "execution_count": 10,
   "metadata": {},
   "outputs": [],
   "source": [
    "# dim = 1, n = 2**10\n",
    "few_iidpts1, few_sobpts1, few_latticepts1, few_dnetb2pts1, few_haltonpts1 = gen_iid_ld_pts(dimen = 1, n = 2**10)\n",
    "# print(\"iid: \", few_iidpts1)\n",
    "# print(\"sobol: \", few_sobpts1)\n",
    "# print(\"lattice: \", few_latticepts1)\n",
    "# print(\"digital net B2: \", few_dnetb2pts1)\n",
    "# print(\"halton: \", few_haltonpts1)"
   ]
  },
  {
   "cell_type": "code",
   "execution_count": 11,
   "metadata": {},
   "outputs": [],
   "source": [
    "# dim = 1, n = 2**14\n",
    "many_iidpts1, many_sobpts1, many_latticepts1, many_dnetb2pts1, many_haltonpts1 = gen_iid_ld_pts(dimen = 1, n = 2**14)\n",
    "# print(\"iid: \", many_iidpts1)\n",
    "# print(\"sobol: \", many_sobpts1)\n",
    "# print(\"lattice: \", many_latticepts1)\n",
    "# print(\"digital net B2: \", many_dnetb2pts1)\n",
    "# print(\"halton: \", many_haltonpts1)"
   ]
  },
  {
   "cell_type": "code",
   "execution_count": 83,
   "metadata": {},
   "outputs": [],
   "source": [
    "# dim = 3, n = 2**12\n",
    "iidpts3, sobpts3, latticepts3, dnetb2pts3, haltonpts3 = gen_iid_ld_pts(dimen = 3, n = 2**12)\n",
    "# print(\"iid: \", iidpts3)\n",
    "# print(\"sobol: \", sobpts3)\n",
    "# print(\"lattice: \", latticepts3)\n",
    "# print(\"digital net B2: \", dnetb2pts3)\n",
    "# print(\"halton: \", haltonpts3)"
   ]
  },
  {
   "cell_type": "code",
   "execution_count": 84,
   "metadata": {},
   "outputs": [
    {
     "data": {
      "text/plain": [
       "array([[0.85474536, 0.33731752, 0.06057647],\n",
       "       [0.24681078, 0.97656196, 0.1746158 ],\n",
       "       [0.27347406, 0.27160039, 0.57890597],\n",
       "       ...,\n",
       "       [0.12411554, 0.90804728, 0.37616507],\n",
       "       [0.97389626, 0.34016586, 0.22382876],\n",
       "       [0.30466901, 0.62602441, 0.34267511]])"
      ]
     },
     "execution_count": 84,
     "metadata": {},
     "output_type": "execute_result"
    }
   ],
   "source": [
    "iidpts3"
   ]
  },
  {
   "cell_type": "code",
   "execution_count": 13,
   "metadata": {},
   "outputs": [],
   "source": [
    "# dim = 3, n = 2**10\n",
    "few_iidpts3, few_sobpts3, few_latticepts3, few_dnetb2pts3, few_haltonpts3 = gen_iid_ld_pts(dimen = 3, n = 2**10)\n",
    "# print(\"iid: \", few_iidpts3)\n",
    "# print(\"sobol: \", few_sobpts3)\n",
    "# print(\"lattice: \", few_latticepts3)\n",
    "# print(\"digital net B2: \", few_dnetb2pts3)\n",
    "# print(\"halton: \", few_haltonpts3)"
   ]
  },
  {
   "cell_type": "code",
   "execution_count": 14,
   "metadata": {},
   "outputs": [],
   "source": [
    "# dim = 3, n = 2**14\n",
    "many_iidpts3, many_sobpts3, many_latticepts3, many_dnetb2pts3, many_haltonpts3 = gen_iid_ld_pts(dimen = 3, n = 2**14)\n",
    "# print(\"iid: \", many_iidpts3)\n",
    "# print(\"sobol: \", many_sobpts3)\n",
    "# print(\"lattice: \", many_latticepts3)\n",
    "# print(\"digital net B2: \", many_dnetb2pts3)\n",
    "# print(\"halton: \", many_haltonpts3)"
   ]
  },
  {
   "cell_type": "markdown",
   "metadata": {},
   "source": [
    "## Kernels and KDEs\n",
    "\n",
    "The following are definitions of different kernels used in the notebook. Some may be defined later, but these are ones used throughout the notebook or commonly used/known."
   ]
  },
  {
   "cell_type": "markdown",
   "metadata": {},
   "source": [
    "The gaussian kernel defined below represents the following:\n",
    "\n",
    "$$\n",
    "\\frac{e^{-y^2}}{\\sqrt{\\pi}}\n",
    "$$"
   ]
  },
  {
   "cell_type": "code",
   "execution_count": 92,
   "metadata": {},
   "outputs": [],
   "source": [
    "def kernel(y):\n",
    "    return np.exp(-y * y) / np.sqrt(np.pi)"
   ]
  },
  {
   "cell_type": "markdown",
   "metadata": {},
   "source": [
    "#### Generate some $y_i=f(x_i)$ points\n",
    "$\n",
    "f(\\mathbf{x}) = 10 \\exp(- w_1x_1 - \\cdots - w_d x_d) \\sin(w_1x_1 + \\cdots +w_d x_d)\n",
    "$"
   ]
  },
  {
   "cell_type": "code",
   "execution_count": 87,
   "metadata": {},
   "outputs": [],
   "source": [
    "def testfun1(x, coord_wts = 1): # function f(x) defines the random variable\n",
    "    wtx = np.multiply(x, coord_wts)\n",
    "    y = 10 * np.exp(-wtx.sum(1)) * np.sin(np.pi * wtx.sum(1))\n",
    "    #y = x[:,0] # if x is uniform, then y is uniform\n",
    "    return y"
   ]
  },
  {
   "cell_type": "code",
   "execution_count": 17,
   "metadata": {},
   "outputs": [],
   "source": [
    "yiid1 = testfun1(iidpts1)\n",
    "ysob1 = testfun1(sobpts1)\n",
    "\n",
    "yiid3 = testfun1(iidpts3)\n",
    "ysob3 = testfun1(sobpts3)"
   ]
  },
  {
   "cell_type": "code",
   "execution_count": 18,
   "metadata": {},
   "outputs": [],
   "source": [
    "many_yiid1 = testfun1(many_iidpts1)\n",
    "many_ysob1 = testfun1(many_sobpts1)\n",
    "\n",
    "many_yiid3 = testfun1(many_iidpts3)\n",
    "many_ysob3 = testfun1(many_sobpts3)"
   ]
  },
  {
   "cell_type": "code",
   "execution_count": 19,
   "metadata": {},
   "outputs": [],
   "source": [
    "few_yiid1 = testfun1(few_iidpts1)\n",
    "few_ysob1 = testfun1(few_sobpts1)\n",
    "\n",
    "few_yiid3 = testfun1(few_iidpts3)\n",
    "few_ysob3 = testfun1(few_sobpts3)"
   ]
  },
  {
   "cell_type": "markdown",
   "metadata": {},
   "source": [
    "The following *Kernel Density Estimator* (KDE)\n",
    "\n",
    "$$\n",
    "\\varrho() = \\frac{k\\left(\\frac{y - Y}{h}\\right)}{h}\n",
    "$$\n",
    "\n",
    "*(Still needs work.)*"
   ]
  },
  {
   "cell_type": "code",
   "execution_count": 93,
   "metadata": {},
   "outputs": [],
   "source": [
    "def kde(kernel, ypts, bandwidth, yeval):\n",
    "    neval = len(yeval)\n",
    "    rhoval = np.zeros_like(yeval) #values of density estimator\n",
    "    for ii in range(len(yeval)):\n",
    "        rhoval[ii] = np.mean(kernel((yeval[ii]-ypts) / bandwidth)) / bandwidth\n",
    "    return rhoval"
   ]
  },
  {
   "cell_type": "code",
   "execution_count": 114,
   "metadata": {},
   "outputs": [],
   "source": [
    "def kde_pt(kernel, ypts, bandwidth, yeval):\n",
    "    # neval = len(yeval)\n",
    "    # rhoval = np.zeros_like(yeval) #values of density estimator\n",
    "    # for ii in range(len(yeval)):\n",
    "    #     rhoval[ii] = np.mean(kernel((yeval[ii]-ypts) / bandwidth)) / bandwidth\n",
    "    return np.mean(kernel((yeval-ypts) / bandwidth)) / bandwidth"
   ]
  },
  {
   "cell_type": "markdown",
   "metadata": {},
   "source": [
    "# Kernel Density Estimator for Uniform Distribution"
   ]
  },
  {
   "cell_type": "code",
   "execution_count": 21,
   "metadata": {},
   "outputs": [],
   "source": [
    "def testfun_unif(x, coord_wts = 1): # function f(x) defines the random variable\n",
    "    wtx = np.multiply(x, coord_wts)\n",
    "    # y = 10*np.exp(-wtx.sum(1))*np.sin(np.pi*wtx.sum(1))\n",
    "    y = x[:,0] # if x is uniform, then y is uniform\n",
    "    return y"
   ]
  },
  {
   "cell_type": "code",
   "execution_count": 22,
   "metadata": {},
   "outputs": [],
   "source": [
    "yiid_unif1 = testfun_unif(iidpts1)\n",
    "ysob_unif1 = testfun_unif(sobpts1)\n",
    "\n",
    "yiid_unif3 = testfun_unif(iidpts3)\n",
    "ysob_unif3 = testfun_unif(sobpts3)"
   ]
  },
  {
   "cell_type": "code",
   "execution_count": 23,
   "metadata": {},
   "outputs": [],
   "source": [
    "many_yiid_unif1 = testfun_unif(many_iidpts1)\n",
    "many_ysob_unif1 = testfun_unif(many_sobpts1)\n",
    "\n",
    "many_yiid_unif3 = testfun_unif(many_iidpts3)\n",
    "many_ysob_unif3 = testfun_unif(many_sobpts3)"
   ]
  },
  {
   "cell_type": "code",
   "execution_count": 24,
   "metadata": {},
   "outputs": [],
   "source": [
    "few_yiid_unif1 = testfun_unif(few_iidpts1)\n",
    "few_ysob_unif1 = testfun_unif(few_sobpts1)\n",
    "\n",
    "few_yiid_unif3 = testfun_unif(few_iidpts3)\n",
    "few_ysob_unif3 = testfun_unif(few_sobpts3)"
   ]
  },
  {
   "cell_type": "markdown",
   "metadata": {},
   "source": [
    "# Testing different LD sequences: Sobol, Lattice, Digital Net B2, and Halton"
   ]
  },
  {
   "cell_type": "code",
   "execution_count": 25,
   "metadata": {},
   "outputs": [],
   "source": [
    "# iidpts1, sobpts1, latticepts1, dnetb2pts1, haltonpts1 = gen_iid_ld_pts()\n",
    "points1 = gen_iid_ld_pts(dimen = 1, n = 2**12) # dim = 1\n",
    "points3 = gen_iid_ld_pts(dimen = 3, n = 2**12) # dim = 3"
   ]
  },
  {
   "cell_type": "code",
   "execution_count": 26,
   "metadata": {},
   "outputs": [],
   "source": [
    "# using original function f(x)\n",
    "\n",
    "lst_points1 = list()\n",
    "lst_points3 = list()\n",
    "\n",
    "for pts in points1:\n",
    "  lst_points1.append(testfun1(pts))\n",
    "\n",
    "for pts in points3:\n",
    "  lst_points3.append(testfun1(pts))"
   ]
  },
  {
   "cell_type": "markdown",
   "metadata": {},
   "source": [
    "# Testing Different Kernels"
   ]
  },
  {
   "cell_type": "markdown",
   "metadata": {},
   "source": [
    "The following Python function definition is the expression:\n",
    "\n",
    "$$\n",
    "y=\\begin{cases}\n",
    "            \\frac{\\pi}{4}\\cos\\left(\\frac{\\pi}{2} y\\right), & |y| \\leq 1\\\\\n",
    "            0, & Otherwise\n",
    "        \\end{cases}\n",
    "$$"
   ]
  },
  {
   "cell_type": "code",
   "execution_count": 27,
   "metadata": {},
   "outputs": [],
   "source": [
    "# cosine--has best performance according to paper?\n",
    "def kernel_cos(y):\n",
    "    return np.heaviside(1-np.absolute(y), 1/2)*(math.pi/4)*np.cos((math.pi/2)*y)"
   ]
  },
  {
   "cell_type": "markdown",
   "metadata": {},
   "source": [
    "The following Python function defines the kernel:\n",
    "\n",
    "$$\n",
    "y=\\begin{cases}\n",
    "            1 - |y|, & |y| \\leq 1\\\\\n",
    "            0, & Otherwise\n",
    "        \\end{cases}\n",
    "$$"
   ]
  },
  {
   "cell_type": "code",
   "execution_count": 28,
   "metadata": {},
   "outputs": [],
   "source": [
    "# triangular kernel\n",
    "def kernel_tri(y):\n",
    "    return np.heaviside(1-np.absolute(y), 1/2)*(1 - np.absolute(y))"
   ]
  },
  {
   "cell_type": "markdown",
   "metadata": {},
   "source": [
    "The following Python function defines the kernel:\n",
    "\n",
    "$$\n",
    "y=\\begin{cases}\n",
    "            \\frac{1}{\\pi} (1-\\frac{y^2}{2}) e^-(\\frac{y^2}{2}), & |y| \\leq 1\\\\\n",
    "            0, & Otherwise\n",
    "        \\end{cases}\n",
    "$$"
   ]
  },
  {
   "cell_type": "code",
   "execution_count": 29,
   "metadata": {},
   "outputs": [],
   "source": [
    "# laplacian of Gaussian--performed poorly according to paper\n",
    "def kernel_laog(y):\n",
    "    return np.heaviside(1-np.absolute(y), 1/2)*((1/math.pi)*(1-(y**2)/2)*np.exp(-(y**2)/2))"
   ]
  },
  {
   "cell_type": "markdown",
   "metadata": {},
   "source": [
    "## Hermite Kernel\n",
    "\n",
    "The following comes from Dr. Hickernell's KDE experiment notebook.\n"
   ]
  },
  {
   "cell_type": "code",
   "execution_count": 30,
   "metadata": {},
   "outputs": [],
   "source": [
    "# Original hermite kernel function from Dr. Hickernell\n",
    "y = sy.symbols('y', real = True)\n",
    "h = sy.symbols('h', positive = True)\n",
    "def sy_hermite_kernel(y = sy.symbols('y', real = True), band_width = sy.symbols('h', positive = True), r = 1, only_coef = False):\n",
    "    '''\n",
    "    band_width = the kernel band width, often denoted h; a smaller bandwidth means a peakier kernel\n",
    "    r = number of terms in our kernel\n",
    "    '''\n",
    "    \n",
    "#    import sympy as sy\n",
    "    wt = sy.exp(-y*y) #normalizing weight for Hermite functions\n",
    "    k = sy.zeros(r,1) #initialize a vector of bases that make up the kernel\n",
    "    intk = sy.zeros(r,r) #initialize a matrix of integrals of the bases with respect to even degree polynomials\n",
    "    for ii in range(r):\n",
    "        k[ii] = sy.hermite(2*ii,y)*wt #form the bases\n",
    "        for jj in range(r):\n",
    "            intk[jj,ii] = sy.integrate(k[ii]*(y**(2*jj)),(y,-sy.oo,sy.oo)) #evaluate the integrals against even degree monomials\n",
    "            # to hardcode the above line:\n",
    "            # r = 0: intk[jj, ii] = (np.exp(-y**2))/((math.pi)**0.5)\n",
    "            # r = 1: intk[jj, ii] = ((3-2*y**2)*np.exp(-y**2))/(2*(math.pi)**0.5)\n",
    "            # r = 2: intk[jj, ii] = ((4*y**4 - 20*y**2 +15)*np.exp(-y**2))/(8*(math.pi)**0.5)\n",
    "    tot_int = sy.Matrix.vstack(sy.ones(1,1),sy.zeros(r-1,1)) #the kernel should integrate to one, \n",
    "        #and the kernel integrated against y, y^2, ..., y^r should be zero\n",
    "#    print(tot_int)\n",
    "    coef = sy.Matrix(list(sy.linsolve((intk,tot_int)))) #solve the system of equations for the coefficients of the bases\n",
    "    if only_coef:\n",
    "        return coef\n",
    "    print(coef)\n",
    "#    ktilde = coef.dot(k)\n",
    "#    integk = sy.integrate(ktilde,(y,-sy.oo,sy.oo))\n",
    "#    print('integk =',integk)\n",
    "    ktilde = coef.dot(k.subs(y,y/band_width)/band_width) #form the isotropic kernel and insert the bandwidth dependency\n",
    "#    integ = sy.integrate(ktilde,(y,-sy.oo,sy.oo))\n",
    "#    print('integ =',integ)\n",
    "#    print(band_width)\n",
    "#    print(ktilde)\n",
    "    return coef.dot(k.subs(y,y/band_width)/band_width)"
   ]
  },
  {
   "cell_type": "code",
   "execution_count": 31,
   "metadata": {},
   "outputs": [
    {
     "name": "stdout",
     "output_type": "stream",
     "text": [
      "Matrix([[1/sqrt(pi)]])\n",
      "<class 'sympy.core.mul.Mul'>\n",
      "kernel = exp(-y**2/h**2)/(sqrt(pi)*h)\n",
      "integ = 1\n",
      "Matrix([[1/sqrt(pi)]])\n",
      "Matrix([[1/sqrt(pi), -1/(4*sqrt(pi))]])\n",
      "Matrix([[1/sqrt(pi), -1/(4*sqrt(pi)), 1/(32*sqrt(pi))]])\n"
     ]
    }
   ],
   "source": [
    "# testing original hermite kernel function\n",
    "\n",
    "test_kernel_sy = sy_hermite_kernel(r=1) # r = number terms in kernel\n",
    "print(type(test_kernel_sy))\n",
    "print('kernel =',test_kernel_sy)\n",
    "integ = sy.integrate(test_kernel_sy,(y,-sy.oo,sy.oo))\n",
    "print('integ =',integ) # should be 1\n",
    "test_kernel_sy = sy_hermite_kernel(r=1,only_coef = True)\n",
    "print(test_kernel_sy)\n",
    "test_kernel_sy = sy_hermite_kernel(r=2,only_coef = True)\n",
    "print(test_kernel_sy)\n",
    "test_kernel_sy = sy_hermite_kernel(r=3,only_coef = True)\n",
    "print(test_kernel_sy)"
   ]
  },
  {
   "cell_type": "code",
   "execution_count": 32,
   "metadata": {},
   "outputs": [],
   "source": [
    "# hardcoding hermite kernel coefficients\n",
    "\n",
    "def hardcode_hermite_kernel(r):\n",
    "    '''\n",
    "    returns hermite coefficients for r = 0, 1, or 2\n",
    "    band_width = the kernel band width, often denoted h; a smaller bandwidth means a peakier kernel\n",
    "    r = number of terms in our kernel\n",
    "    '''\n",
    "    if r==0:\n",
    "        return sy.Matrix([[1/(math.pi)**0.5]])\n",
    "    elif r==1:\n",
    "        return sy.Matrix([[1/(math.pi)**0.5, -1/(4*(math.pi)**0.5)]])\n",
    "    elif r==2:\n",
    "        return sy.Matrix([[1/(math.pi)**0.5, -1/(4*(math.pi)**0.5), 1/(32*(math.pi)**0.5)]])\n",
    "    else:\n",
    "        raise ValueError(\"Invalid input. r must be 0, 1, or 2.\")\n",
    "    \n",
    "# Coefficients: \n",
    "# r = 0 (corresponds to r = 1 from original function): Matrix([[1/sqrt(pi)]])\n",
    "# r = 1 (corresponds to r = 2 from original function): Matrix([[1/sqrt(pi), -1/(4*sqrt(pi))]])\n",
    "# r = 2 (correpsonds to r = 3 from original function): Matrix([[1/sqrt(pi), -1/(4*sqrt(pi)), 1/(32*sqrt(pi))]])"
   ]
  },
  {
   "cell_type": "code",
   "execution_count": 33,
   "metadata": {},
   "outputs": [
    {
     "name": "stdout",
     "output_type": "stream",
     "text": [
      "<class 'sympy.matrices.dense.MutableDenseMatrix'>\n",
      "kernel = Matrix([[0.564189583547756]])\n",
      "Matrix([[0.564189583547756, -0.141047395886939]])\n",
      "Matrix([[0.564189583547756, -0.141047395886939, 0.0176309244858674]])\n"
     ]
    }
   ],
   "source": [
    "# testing hardcoded hermite kernel\n",
    "\n",
    "test_kernel = hardcode_hermite_kernel(r=0) # r = number terms in kernel\n",
    "print(type(test_kernel))\n",
    "print('kernel =',test_kernel)\n",
    "test_kernel = hardcode_hermite_kernel(r=1)\n",
    "print(test_kernel)\n",
    "test_kernel = hardcode_hermite_kernel(r=2)\n",
    "print(test_kernel)"
   ]
  },
  {
   "cell_type": "code",
   "execution_count": 34,
   "metadata": {},
   "outputs": [],
   "source": [
    "# original function: define hermite kernel for r = 1 (corresopnds to r = 0 in the hardcoded case)\n",
    "def hermite_kernel(y, r = 1):\n",
    "    '''\n",
    "    r = number of terms in our kernel\n",
    "    '''\n",
    "    coef = np.array(sy.N(sy_hermite_kernel(r = r, only_coef = True)))\n",
    "    # print(coef)\n",
    "    poly = sp.special.hermite(0)\n",
    "    # print(poly)\n",
    "    k = sp.special.hermite(0)(y)*coef[0] #initialize a vector of kernel values\n",
    "    # print(k)\n",
    "    for ii in range(1,r):\n",
    "        k += sp.special.hermite(2*ii)(y)*coef[ii] #add the additional terms\n",
    "    k*=np.exp(-y*y/2) #normalizing weight for Hermite functions #form the isotropic kernel and insert the bandwidth dependency\n",
    "    return k"
   ]
  },
  {
   "cell_type": "code",
   "execution_count": 35,
   "metadata": {},
   "outputs": [],
   "source": [
    "# hardcoded: define hermite kernel for r = 0 (corresponds to r = 1 in the original case)\n",
    "def hardcode_hermite_kernel_weight(y, r = 0):\n",
    "    '''\n",
    "    r = number of terms in our kernel\n",
    "    '''\n",
    "    coef = np.array((hardcode_hermite_kernel(r = r)))\n",
    "    # print(coef)\n",
    "    poly = sp.special.hermite(0)\n",
    "    # print(poly)\n",
    "    k = sp.special.hermite(0)(y)*coef[0][0] #initialize a vector of kernel values\n",
    "    # print(k)\n",
    "    for ii in range(0,r):\n",
    "        k += sp.special.hermite(2*ii)(y)*coef[0][ii] #add the additional terms\n",
    "    k*=np.exp(-y*y/2) #normalizing weight for Hermite functions #form the isotropic kernel and insert the bandwidth dependency\n",
    "    return k"
   ]
  },
  {
   "cell_type": "code",
   "execution_count": 36,
   "metadata": {},
   "outputs": [],
   "source": [
    "# original: define hermite kernel for r = 2 (corresopnds to r = 1 in the hardcoded case)\n",
    "def hermite_kernel_2(y, r = 2):\n",
    "    '''\n",
    "    r = number of terms in our kernel\n",
    "    '''\n",
    "    coef = np.array(sy.N(sy_hermite_kernel(r = r, only_coef = True)))\n",
    "    # print(coef)\n",
    "    poly = sp.special.hermite(0) # why use the 0th polynomial?\n",
    "    # print(poly)\n",
    "    # for i in range(len(coef[0])):\n",
    "    #     print(coef[0][i])\n",
    "    k = sp.special.hermite(0)(y)*coef[0][0] #initialize a vector of kernel values\n",
    "    # print(k)\n",
    "    for ii in range(1,r):\n",
    "        k += sp.special.hermite(2*ii)(y)*coef[0][ii] #add the additional terms\n",
    "    k*=np.exp(-y*y/2) #normalizing weight for Hermite functions #form the isotropic kernel and insert the bandwidth dependency\n",
    "    return k"
   ]
  },
  {
   "cell_type": "code",
   "execution_count": 37,
   "metadata": {},
   "outputs": [],
   "source": [
    "# hardcoded: define hermite kernel for r = 1 (corresponds to r = 2 in the original case)\n",
    "def hardcode_hermite_kernel_weight_1(y, r = 1):\n",
    "    '''\n",
    "    r = number of terms in our kernel\n",
    "    '''\n",
    "    coef = np.array((hardcode_hermite_kernel(r = r)))\n",
    "    # print(coef)\n",
    "    poly = sp.special.hermite(0)\n",
    "    # print(poly)\n",
    "    k = sp.special.hermite(0)(y)*coef[0][0] #initialize a vector of kernel values\n",
    "    # print(k)\n",
    "    for ii in range(0,r):\n",
    "        k += sp.special.hermite(2*ii)(y)*coef[0][ii] #add the additional terms\n",
    "    k*=np.exp(-y*y/2) #normalizing weight for Hermite functions #form the isotropic kernel and insert the bandwidth dependency\n",
    "    return k"
   ]
  },
  {
   "cell_type": "code",
   "execution_count": 38,
   "metadata": {},
   "outputs": [],
   "source": [
    "# hardcoded: define hermite kernel for r = 2 (corresponds to r = 3 in the original case)\n",
    "def hardcode_hermite_kernel_weight_2(y, r = 2):\n",
    "    '''\n",
    "    r = number of terms in our kernel\n",
    "    '''\n",
    "    coef = np.array((hardcode_hermite_kernel(r = r)))\n",
    "    # print(coef)\n",
    "    poly = sp.special.hermite(0)\n",
    "    # print(poly)\n",
    "    k = sp.special.hermite(0)(y)*coef[0][0] #initialize a vector of kernel values\n",
    "    # print(k)\n",
    "    for ii in range(0,r):\n",
    "        k += sp.special.hermite(2*ii)(y)*coef[0][ii] #add the additional terms\n",
    "    k*=np.exp(-y*y/2) #normalizing weight for Hermite functions #form the isotropic kernel and insert the bandwidth dependency\n",
    "    return k"
   ]
  },
  {
   "cell_type": "code",
   "execution_count": 39,
   "metadata": {},
   "outputs": [
    {
     "name": "stdout",
     "output_type": "stream",
     "text": [
      "y = [-1.   -0.25  0.5   1.25  2.  ]\n",
      "<class 'numpy.ndarray'>\n",
      "<class 'numpy.ndarray'>\n",
      "k = [0.342198280312217 0.546831294919853 0.497895559951388 0.258304813712196\n",
      " 0.0763547570885822]\n"
     ]
    }
   ],
   "source": [
    "# example hermite kernel\n",
    "y = np.linspace(-1,2,5)\n",
    "print('y =',y)\n",
    "print(type(y))\n",
    "k = hermite_kernel(y,r=1)\n",
    "print(type(k))\n",
    "print('k =',k)"
   ]
  },
  {
   "cell_type": "code",
   "execution_count": 40,
   "metadata": {},
   "outputs": [
    {
     "name": "stdout",
     "output_type": "stream",
     "text": [
      "y = [-1.   -0.25  0.5   1.25  2.  ]\n",
      "<class 'numpy.ndarray'>\n",
      "<class 'numpy.ndarray'>\n",
      "k = [0.342198280312217 0.546831294919853 0.497895559951388 0.258304813712196\n",
      " 0.0763547570885822]\n"
     ]
    }
   ],
   "source": [
    "# example hardcoded hermite kernel\n",
    "y = np.linspace(-1,2,5)\n",
    "print('y =',y)\n",
    "print(type(y))\n",
    "k = hardcode_hermite_kernel_weight(y,r=0) # r=0 for hardcoded kernel corresponds to r=1 for original kernel\n",
    "print(type(k))\n",
    "print('k =',k)"
   ]
  },
  {
   "cell_type": "markdown",
   "metadata": {},
   "source": [
    "## Testing Different Functions f(x)--using Gaussian kernel in all cases."
   ]
  },
  {
   "cell_type": "markdown",
   "metadata": {},
   "source": [
    "### Exponential Distribution: \n",
    "\n",
    "If X has a standard uniform distribution, i.e., $X \\sim U(0, 1)$, then the random variable $Y = -\\lambda^{-1} ln(X)$ has an exponential distribution with rate parameter $\\lambda$."
   ]
  },
  {
   "cell_type": "code",
   "execution_count": 88,
   "metadata": {},
   "outputs": [],
   "source": [
    "# exponential, lambda = 1:\n",
    "def testfun_exp(x,coord_wts = 1): # function f(x) defines the random variable\n",
    "    wtx = np.multiply(x,coord_wts)\n",
    "    y = -np.log(wtx)\n",
    "    return y"
   ]
  },
  {
   "cell_type": "code",
   "execution_count": 89,
   "metadata": {},
   "outputs": [],
   "source": [
    "yiid1_exp = testfun_exp(iidpts1)\n",
    "ysob1_exp = testfun_exp(sobpts1)\n",
    "\n",
    "yiid3_exp = testfun_exp(iidpts3)\n",
    "ysob3_exp = testfun_exp(sobpts3)"
   ]
  },
  {
   "cell_type": "code",
   "execution_count": 91,
   "metadata": {},
   "outputs": [
    {
     "data": {
      "text/plain": [
       "(4096, 1)"
      ]
     },
     "execution_count": 91,
     "metadata": {},
     "output_type": "execute_result"
    }
   ],
   "source": [
    "yiid1_exp.shape"
   ]
  },
  {
   "cell_type": "markdown",
   "metadata": {},
   "source": [
    "### Laplace Distribution:\n",
    "\n",
    "If X and Y have a standard uniform distribution, i.e., $X, Y \\sim U(0, 1)$, then $\\log{}{\\frac{X}{Y}} \\sim \\text{Laplace}(0, 1)$. "
   ]
  },
  {
   "cell_type": "code",
   "execution_count": 43,
   "metadata": {},
   "outputs": [],
   "source": [
    "## laplace: mu = 0, b = 1\n",
    "def testfun_laplace(x1,x2,coord_wts = 1): # function f(x) defines the random variable\n",
    "    wtx1 = np.multiply(x1,coord_wts)\n",
    "    wtx2 = np.multiply(x2,coord_wts)\n",
    "    y = np.log10(wtx1/wtx2)\n",
    "    return y"
   ]
  },
  {
   "cell_type": "code",
   "execution_count": 44,
   "metadata": {},
   "outputs": [],
   "source": [
    "# making a second set of iid and sobol points\n",
    "\n",
    "iidpts1_2, sobpts1_2 = gen_iid_and_sobol(dimen = 1, n = 2**12)\n",
    "iidpts3_2, sobpts3_2 = gen_iid_and_sobol(dimen = 3, n = 2**12)"
   ]
  },
  {
   "cell_type": "code",
   "execution_count": 45,
   "metadata": {},
   "outputs": [],
   "source": [
    "yiid_laplace = testfun_laplace(iidpts1, iidpts1_2) \n",
    "ysob_laplace = testfun_laplace(sobpts1, sobpts1_2)\n",
    "\n",
    "yiid_laplace_3 = testfun_laplace(iidpts3, iidpts3_2) \n",
    "ysob_laplace_3 = testfun_laplace(sobpts3, sobpts3_2)"
   ]
  },
  {
   "cell_type": "code",
   "execution_count": 46,
   "metadata": {},
   "outputs": [
    {
     "data": {
      "text/plain": [
       "array([[0.00590773],\n",
       "       [0.6092602 ],\n",
       "       [0.08083411],\n",
       "       ...,\n",
       "       [0.22725054],\n",
       "       [0.88665476],\n",
       "       [0.67020665]])"
      ]
     },
     "execution_count": 46,
     "metadata": {},
     "output_type": "execute_result"
    }
   ],
   "source": [
    "iidpts1_2"
   ]
  },
  {
   "cell_type": "code",
   "execution_count": 47,
   "metadata": {},
   "outputs": [
    {
     "data": {
      "text/plain": [
       "(4096, 1)"
      ]
     },
     "execution_count": 47,
     "metadata": {},
     "output_type": "execute_result"
    }
   ],
   "source": [
    "iidpts1_2.shape"
   ]
  },
  {
   "cell_type": "markdown",
   "metadata": {},
   "source": [
    "## Error Analysis:"
   ]
  },
  {
   "cell_type": "code",
   "execution_count": 162,
   "metadata": {},
   "outputs": [],
   "source": [
    "import scipy.integrate as integrate"
   ]
  },
  {
   "cell_type": "code",
   "execution_count": 183,
   "metadata": {},
   "outputs": [],
   "source": [
    "def true_func(true_func, x):\n",
    "    '''\n",
    "    returns the true value of a function given an input x\n",
    "    true_func = the function we are trying to estimate (e.g., f(x), exponential PDF, laplace PDF, etc.)\n",
    "    x = a float\n",
    "    '''\n",
    "    return true_func(x)"
   ]
  },
  {
   "cell_type": "code",
   "execution_count": 179,
   "metadata": {},
   "outputs": [],
   "source": [
    "def estimated_pts(kde_func, kernel_func, points, bw, x):\n",
    "    '''\n",
    "    returns the estimation of a function at a point x using the specified KDE\n",
    "    kde_func = the function that builds the KDE\n",
    "    kernel_func = function that defines the kernel\n",
    "    points = an array of randomly-generated iid or ld points\n",
    "    bw = bandwidth (a float)\n",
    "    x = a float\n",
    "    '''\n",
    "    return kde_func(kernel_func, points, bw, x)"
   ]
  },
  {
   "cell_type": "code",
   "execution_count": 182,
   "metadata": {},
   "outputs": [],
   "source": [
    "def squared_difference(true_func, estimate_func, x):\n",
    "    '''\n",
    "    returns the squared error between the true value and estimated value at a point x\n",
    "    true_func = actual function that we are trying to estimate (e.g., f(x), exponential PDF, laplace PDF, etc.)\n",
    "    estimate_func = function that returns estimation of the function at the point x\n",
    "    x = a float\n",
    "    '''\n",
    "    return (true_func(x) - estimate_func(x))**2"
   ]
  },
  {
   "cell_type": "markdown",
   "metadata": {},
   "source": [
    "### Original function:\n",
    "$\n",
    "f(\\mathbf{x}) = 10 \\exp(- w_1x_1 - \\cdots - w_d x_d) \\sin(w_1x_1 + \\cdots +w_d x_d)\n",
    "$"
   ]
  },
  {
   "cell_type": "code",
   "execution_count": 152,
   "metadata": {},
   "outputs": [],
   "source": [
    "def testfun(x):\n",
    "    return 10*np.exp(-x)*np.sin(np.pi*x)"
   ]
  },
  {
   "cell_type": "code",
   "execution_count": 153,
   "metadata": {},
   "outputs": [
    {
     "data": {
      "text/plain": [
       "[<matplotlib.lines.Line2D at 0x1fe8ea63f40>]"
      ]
     },
     "execution_count": 153,
     "metadata": {},
     "output_type": "execute_result"
    },
    {
     "data": {
      "image/png": "[encoded data removed]",
      "text/plain": [
       "<Figure size 640x480 with 1 Axes>"
      ]
     },
     "metadata": {},
     "output_type": "display_data"
    }
   ],
   "source": [
    "import matplotlib.pyplot as plt\n",
    "fig, ax = plt.subplots(1, 1)\n",
    "\n",
    "x = np.linspace(-4, 8, 500)\n",
    "ax.plot(x, testfun(x),\n",
    "       'r-', lw=5, alpha=0.6, label='testfun')"
   ]
  },
  {
   "cell_type": "code",
   "execution_count": 159,
   "metadata": {},
   "outputs": [],
   "source": [
    "def true_function(x):\n",
    "    return testfun(x)"
   ]
  },
  {
   "cell_type": "code",
   "execution_count": 160,
   "metadata": {},
   "outputs": [],
   "source": [
    "# bandwidth = 0.1\n",
    "def estimated_pts(x):\n",
    "    return kde_pt(kernel, yiid1, 0.1, x)"
   ]
  },
  {
   "cell_type": "code",
   "execution_count": 161,
   "metadata": {},
   "outputs": [],
   "source": [
    "def squared_difference_pts(x):\n",
    "    return (true_function(x) - estimated_pts(x))**2"
   ]
  },
  {
   "cell_type": "code",
   "execution_count": 163,
   "metadata": {},
   "outputs": [
    {
     "name": "stdout",
     "output_type": "stream",
     "text": [
      "(67667.338048483, 0.0008182261567209715)\n"
     ]
    }
   ],
   "source": [
    "result = integrate.quad(squared_difference_pts, -4, 8)\n",
    "print(result) # returns a tuple: first value is the approximate value of the integral, second value is the error"
   ]
  },
  {
   "cell_type": "code",
   "execution_count": 186,
   "metadata": {},
   "outputs": [
    {
     "ename": "TypeError",
     "evalue": "'numpy.float64' object is not callable",
     "output_type": "error",
     "traceback": [
      "\u001b[1;31m---------------------------------------------------------------------------\u001b[0m",
      "\u001b[1;31mTypeError\u001b[0m                                 Traceback (most recent call last)",
      "Cell \u001b[1;32mIn[186], line 1\u001b[0m\n\u001b[1;32m----> 1\u001b[0m result \u001b[38;5;241m=\u001b[39m integrate\u001b[38;5;241m.\u001b[39mquad(\u001b[43msquared_difference\u001b[49m\u001b[43m(\u001b[49m\u001b[43mtrue_func\u001b[49m\u001b[43m(\u001b[49m\u001b[43mtestfun\u001b[49m\u001b[43m,\u001b[49m\u001b[43m \u001b[49m\u001b[43mx\u001b[49m\u001b[43m)\u001b[49m\u001b[43m,\u001b[49m\u001b[43m \u001b[49m\u001b[43mestimated_pts\u001b[49m\u001b[43m(\u001b[49m\u001b[43mkde_pt\u001b[49m\u001b[43m,\u001b[49m\u001b[43m \u001b[49m\u001b[43mkernel\u001b[49m\u001b[43m,\u001b[49m\u001b[43m \u001b[49m\u001b[43myiid1\u001b[49m\u001b[43m,\u001b[49m\u001b[43m \u001b[49m\u001b[38;5;241;43m0.1\u001b[39;49m\u001b[43m,\u001b[49m\u001b[43m \u001b[49m\u001b[43mx\u001b[49m\u001b[43m)\u001b[49m\u001b[43m,\u001b[49m\u001b[43m \u001b[49m\u001b[43mx\u001b[49m\u001b[43m)\u001b[49m, \u001b[38;5;241m-\u001b[39m\u001b[38;5;241m4\u001b[39m, \u001b[38;5;241m8\u001b[39m)\n\u001b[0;32m      2\u001b[0m \u001b[38;5;28mprint\u001b[39m(result)\n",
      "Cell \u001b[1;32mIn[182], line 8\u001b[0m, in \u001b[0;36msquared_difference\u001b[1;34m(true_func, estimate_func, x)\u001b[0m\n\u001b[0;32m      1\u001b[0m \u001b[38;5;28;01mdef\u001b[39;00m \u001b[38;5;21msquared_difference\u001b[39m(true_func, estimate_func, x):\n\u001b[0;32m      2\u001b[0m \u001b[38;5;250m    \u001b[39m\u001b[38;5;124;03m'''\u001b[39;00m\n\u001b[0;32m      3\u001b[0m \u001b[38;5;124;03m    returns the squared error between the true value and estimated value at a point x\u001b[39;00m\n\u001b[0;32m      4\u001b[0m \u001b[38;5;124;03m    true_func = actual function that we are trying to estimate (e.g., f(x), exponential PDF, laplace PDF, etc.)\u001b[39;00m\n\u001b[0;32m      5\u001b[0m \u001b[38;5;124;03m    estimate_func = function that returns estimation of the function at the point x\u001b[39;00m\n\u001b[0;32m      6\u001b[0m \u001b[38;5;124;03m    x = a float\u001b[39;00m\n\u001b[0;32m      7\u001b[0m \u001b[38;5;124;03m    '''\u001b[39;00m\n\u001b[1;32m----> 8\u001b[0m     \u001b[38;5;28;01mreturn\u001b[39;00m (\u001b[43mtrue_func\u001b[49m\u001b[43m(\u001b[49m\u001b[43mx\u001b[49m\u001b[43m)\u001b[49m \u001b[38;5;241m-\u001b[39m estimate_func(x))\u001b[38;5;241m*\u001b[39m\u001b[38;5;241m*\u001b[39m\u001b[38;5;241m2\u001b[39m\n",
      "\u001b[1;31mTypeError\u001b[0m: 'numpy.float64' object is not callable"
     ]
    }
   ],
   "source": [
    "result = integrate.quad(squared_difference(true_func(testfun, x), estimated_pts(kde_pt, kernel, yiid1, 0.1, x), x), -4, 8)\n",
    "print(result)"
   ]
  },
  {
   "cell_type": "markdown",
   "metadata": {},
   "source": [
    "### Exponential Distribution"
   ]
  },
  {
   "cell_type": "code",
   "execution_count": 96,
   "metadata": {},
   "outputs": [
    {
     "data": {
      "text/plain": [
       "[<matplotlib.lines.Line2D at 0x1fe8e330be0>]"
      ]
     },
     "execution_count": 96,
     "metadata": {},
     "output_type": "execute_result"
    },
    {
     "data": {
      "image/png": "[encoded data removed]",
      "text/plain": [
       "<Figure size 640x480 with 1 Axes>"
      ]
     },
     "metadata": {},
     "output_type": "display_data"
    }
   ],
   "source": [
    "from scipy.stats import expon\n",
    "import matplotlib.pyplot as plt\n",
    "fig, ax = plt.subplots(1, 1)\n",
    "\n",
    "x = np.linspace(-4, 8, 500)\n",
    "ax.plot(x, expon.pdf(x),\n",
    "       'r-', lw=5, alpha=0.6, label='expon pdf')"
   ]
  },
  {
   "cell_type": "code",
   "execution_count": 164,
   "metadata": {},
   "outputs": [],
   "source": [
    "def true_function(x):\n",
    "    return expon.pdf(x)"
   ]
  },
  {
   "cell_type": "code",
   "execution_count": 165,
   "metadata": {},
   "outputs": [],
   "source": [
    "# bandwidth = 0.1\n",
    "def estimated_pts(x):\n",
    "    return kde_pt(kernel, yiid1_exp, 0.1, x)"
   ]
  },
  {
   "cell_type": "code",
   "execution_count": 166,
   "metadata": {},
   "outputs": [],
   "source": [
    "def squared_difference_pts(x):\n",
    "    return (true_function(x) - estimated_pts(x))**2"
   ]
  },
  {
   "cell_type": "code",
   "execution_count": 167,
   "metadata": {},
   "outputs": [
    {
     "name": "stdout",
     "output_type": "stream",
     "text": [
      "(0.01830654664915409, 5.289483073767087e-09)\n"
     ]
    }
   ],
   "source": [
    "result = integrate.quad(squared_difference_pts, -4, 8)\n",
    "print(result)"
   ]
  },
  {
   "cell_type": "markdown",
   "metadata": {},
   "source": [
    "### Laplace Distribution"
   ]
  },
  {
   "cell_type": "code",
   "execution_count": 168,
   "metadata": {},
   "outputs": [
    {
     "name": "stdout",
     "output_type": "stream",
     "text": [
      "PDF for x = 3.0: 0.024893534183931972\n",
      "[0.18393972 0.13179857 0.0944378  0.06766764 0.04848598 0.03474173\n",
      " 0.02489353 0.017837   0.01278077 0.00915782]\n"
     ]
    },
    {
     "data": {
      "image/png": "[encoded data removed]",
      "text/plain": [
       "<Figure size 640x480 with 1 Axes>"
      ]
     },
     "metadata": {},
     "output_type": "display_data"
    }
   ],
   "source": [
    "# https://www.askpython.com/python/examples/laplace-distribution-python\n",
    "from scipy import stats\n",
    " \n",
    "# Define location (mean) and scale parameters\n",
    "loc = 0\n",
    "scale = 1.0\n",
    " \n",
    "# Create a Laplace distribution object\n",
    "laplace_dist = stats.laplace(loc, scale)\n",
    " \n",
    "# Calculate the PDF for a specific value (x = 3.0)\n",
    "x = 3.0\n",
    "pdf_value = laplace_dist.pdf(x)\n",
    " \n",
    "print(f\"PDF for x = {x}: {pdf_value}\")\n",
    " \n",
    "# Alternatively, calculate the PDF for an array of values\n",
    "x_values = np.linspace(1.0, 4.0, 10)\n",
    "pdf_values = laplace_dist.pdf(x_values)\n",
    "print(pdf_values)\n",
    " \n",
    "# Plot the PDF (using matplotlib)\n",
    "import matplotlib.pyplot as plt\n",
    " \n",
    "plt.plot(x_values, pdf_values)\n",
    "plt.xlabel(\"x\")\n",
    "plt.ylabel(\"PDF(x)\")\n",
    "plt.title(\"Laplace Distribution PDF\")\n",
    "plt.show()"
   ]
  },
  {
   "cell_type": "code",
   "execution_count": 170,
   "metadata": {},
   "outputs": [],
   "source": [
    "# making a second set of iid and sobol points\n",
    "\n",
    "iidpts1_2, sobpts1_2 = gen_iid_and_sobol(dimen = 1, n = 2**12)\n",
    "iidpts3_2, sobpts3_2 = gen_iid_and_sobol(dimen = 3, n = 2**12)"
   ]
  },
  {
   "cell_type": "code",
   "execution_count": 171,
   "metadata": {},
   "outputs": [],
   "source": [
    "yiid_laplace = testfun_laplace(iidpts1, iidpts1_2) \n",
    "ysob_laplace = testfun_laplace(sobpts1, sobpts1_2)\n",
    "\n",
    "yiid_laplace_3 = testfun_laplace(iidpts3, iidpts3_2) \n",
    "ysob_laplace_3 = testfun_laplace(sobpts3, sobpts3_2)"
   ]
  },
  {
   "cell_type": "code",
   "execution_count": 169,
   "metadata": {},
   "outputs": [],
   "source": [
    "def true_function(x):\n",
    "    return laplace_dist.pdf(x)"
   ]
  },
  {
   "cell_type": "code",
   "execution_count": 172,
   "metadata": {},
   "outputs": [],
   "source": [
    "# bandwidth = 0.1\n",
    "def estimated_pts(x):\n",
    "    return kde_pt(kernel, yiid_laplace, 0.1, x)"
   ]
  },
  {
   "cell_type": "code",
   "execution_count": 176,
   "metadata": {},
   "outputs": [],
   "source": [
    "def squared_difference_pts(x):\n",
    "    return (true_function(x) - estimated_pts(x))**2"
   ]
  },
  {
   "cell_type": "code",
   "execution_count": 174,
   "metadata": {},
   "outputs": [
    {
     "name": "stdout",
     "output_type": "stream",
     "text": [
      "(0.12359586119122191, 1.164382201768177e-09)\n"
     ]
    }
   ],
   "source": [
    "result = integrate.quad(squared_difference_pts, -4, 8)\n",
    "print(result)"
   ]
  },
  {
   "cell_type": "code",
   "execution_count": 175,
   "metadata": {},
   "outputs": [],
   "source": [
    "# bandwidth = 0.1, testing sobol points\n",
    "def estimated_pts(x):\n",
    "    return kde_pt(kernel, ysob_laplace, 0.1, x)"
   ]
  },
  {
   "cell_type": "code",
   "execution_count": 177,
   "metadata": {},
   "outputs": [
    {
     "name": "stdout",
     "output_type": "stream",
     "text": [
      "(1.442448217799415, 1.869691068634438e-10)\n"
     ]
    }
   ],
   "source": [
    "# sobol pts are much worse than iid pts in this case (also shown by graphs)\n",
    "\n",
    "result = integrate.quad(squared_difference_pts, -4, 8)\n",
    "print(result)"
   ]
  }
 ],
 "metadata": {
  "kernelspec": {
   "display_name": "qmcpy",
   "language": "python",
   "name": "python3"
  },
  "language_info": {
   "codemirror_mode": {
    "name": "ipython",
    "version": 3
   },
   "file_extension": ".py",
   "mimetype": "text/x-python",
   "name": "python",
   "nbconvert_exporter": "python",
   "pygments_lexer": "ipython3",
   "version": "3.9.13"
  }
 },
 "nbformat": 4,
 "nbformat_minor": 2
}
