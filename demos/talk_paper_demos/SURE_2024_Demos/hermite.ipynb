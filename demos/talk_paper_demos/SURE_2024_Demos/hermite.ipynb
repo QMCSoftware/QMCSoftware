{
 "cells": [
  {
   "cell_type": "markdown",
   "metadata": {},
   "source": [
    "## Colab Installation\n",
    "\n",
    "Run the following code block if you are using this Jupyter notebook in Google Colab. Otherwise skip to importing the packages."
   ]
  },
  {
   "cell_type": "code",
   "execution_count": null,
   "metadata": {},
   "outputs": [],
   "source": [
    "# Run these statements if you are using Google Colab. Otherwise skip this step.\n",
    "!sudo apt install cm-super dvipng texlive-latex-extra texlive-latex-recommended\n",
    "!sudo apt install cm-super\n",
    "!pip install git+https://github.com/QMCSoftware/QMCSoftware.git@SURE2024"
   ]
  },
  {
   "cell_type": "markdown",
   "metadata": {},
   "source": [
    "## Importing Packages"
   ]
  },
  {
   "cell_type": "code",
   "execution_count": 1,
   "metadata": {},
   "outputs": [],
   "source": [
    "import matplotlib.pyplot as plt\n",
    "import math\n",
    "import numpy as np\n",
    "import scipy as sp\n",
    "import qmcpy as qp\n",
    "from scipy import stats\n",
    "from copy import deepcopy\n",
    "import sympy as sy\n",
    "import sympy.stats\n",
    "# figpath = '' #this path sends the figures to the directory that you want\n",
    "# savefigs = True  #save the figures on your disk if True\n",
    "# imgfrmt = 'pdf' #kind of format to save figures as"
   ]
  },
  {
   "cell_type": "markdown",
   "metadata": {},
   "source": [
    "# Definitions of Python Functions\n",
    "\n",
    "The following functions are things that will be repeatedly used in the notebook so that there isn't duplicate code all over the place."
   ]
  },
  {
   "cell_type": "markdown",
   "metadata": {},
   "source": [
    "## Graphing Functions\n",
    "\n",
    "The following functions are to help with graphing."
   ]
  },
  {
   "cell_type": "code",
   "execution_count": 2,
   "metadata": {},
   "outputs": [],
   "source": [
    "def make_grid(d=3, nper=2):\n",
    "    \"\"\"this function creates a nper^d x d matrix of grid points\"\"\"\n",
    "    xpts = np.linspace(1/(2*nper), 1.0-1/(2*nper), nper)  # array of coordinate values\n",
    "    xgrid = xpts  # initial grid\n",
    "    n = nper  # initial length of grid\n",
    "    for ii in range(1,d):\n",
    "        xgrid0 = xgrid  # store the old grid\n",
    "        xgrid = np.vstack((xgrid0, xpts[0] * np.ones((1, n))))  # stack the next coordinate\n",
    "        for jj in range(1, nper):\n",
    "            xgrid = np.hstack((xgrid, np.vstack((xgrid0, xpts[jj] * np.ones((1, n))))))\n",
    "        n = n * nper  # update the length of the grid\n",
    "    return xgrid.T  # take the transpose to that coordinates are columns\n",
    "\n",
    "def plot_grid(xgrid, coord_to_plot=[0, 1], savefig=True, figpath=''):\n",
    "    \"\"\"Plots a dot grid.\"\"\"\n",
    "    n = xgrid.shape[0]\n",
    "    d = xgrid.shape[1]\n",
    "    coord_to_plot = np.minimum(coord_to_plot, [d, d]), # ensure that they are no more than d\n",
    "    coord_to_plot = coord_to_plot[0]\n",
    "    coord_to_plot = np.maximum(coord_to_plot, [1, 1]), # ensure that they are no less than 1\n",
    "    coord_to_plot = coord_to_plot[0]\n",
    "    fig, ax = plt.subplots()\n",
    "    ax.plot(xgrid[:,coord_to_plot[0]-1], xgrid[:,coord_to_plot[1]-1], 'b.', markersize = 10, zorder=10, clip_on=False)\n",
    "    ax.set_title(f\"{n:.0f} Grid Points for $d = ${d:.0f}\")\n",
    "    ax.set_xlim([0, 1])\n",
    "    ax.set_ylim([0, 1])\n",
    "    ax.set_xlabel(r'$x_{i%d}$'%(coord_to_plot[0]), fontsize=14)\n",
    "    ax.set_ylabel(r'$x_{i%d}$'%(coord_to_plot[1]), fontsize=14)\n",
    "    ax.set_aspect(1)\n",
    "    if savefigs:\n",
    "        fig.savefig(figpath + f\"{n:.0f}gridpts_d{d:.0f}.\" + imgfrmt, format=imgfrmt)\n"
   ]
  },
  {
   "cell_type": "code",
   "execution_count": 3,
   "metadata": {},
   "outputs": [],
   "source": [
    "def graph_kernel(bandwidths, lin_spaces, kernel, ylim_lst=[-0.05, 1.2]):\n",
    "  \"\"\"Graphs a given kernel, with given bandwidths, lin_spaces\n",
    "  bandwidths = a list of bandwidths\n",
    "  lin_spaces = a list of 3 integers: start, finish, and number of points\"\"\"\n",
    "  ypts = np.linspace(lin_spaces[0], lin_spaces[1], lin_spaces[2])\n",
    "  nband = len(bandwidths)\n",
    "  fig, ax = plt.subplots(1, 3, figsize=(5*nband, 5))\n",
    "  for ii in range(nband):\n",
    "      ax[ii].plot(ypts,kernel(ypts/bandwidths[ii]) / bandwidths[ii])\n",
    "      ax[ii].grid(False)\n",
    "      ax[ii].set_ylim(ylim_lst)\n",
    "      ax[ii].set_xlabel(r'$y$', fontsize=20)\n",
    "      ax[ii].set_ylabel(r'$h = {%0.1f}$'%bandwidths[ii], fontsize=20)\n",
    "    #   if (ii == 0):\n",
    "    #       ax[ii].set_ylabel(r'$\\widetilde{k}(y) = \\exp(-(y/h)^2)/(\\sqrt{\\pi}h), \\ h = {%0.1f}$'%bandwidths[ii], fontsize=20)\n",
    "    #   else:\n",
    "    #       ax[ii].set_ylabel(r'$h = {%0.1f}$'%bandwidths[ii], fontsize=20)"
   ]
  },
  {
   "cell_type": "code",
   "execution_count": 4,
   "metadata": {},
   "outputs": [],
   "source": [
    "def generate_sobol_iid_graph(bandwidths, lin_spaces, kde, kernel, yiid, ysob, ylim_lst=[-0.05, 1.2]):\n",
    "  \"\"\"Generates a graph using IID and Sobol sample points.\n",
    "  bandwidths = a list of bandwidths\n",
    "  lin_spaces = a list of 3 integers: start, finish, and number of points\n",
    "  kde = name of kde function\n",
    "  kernel = name of kernel function\n",
    "  yiid = set of iid points\n",
    "  ysob = set of LD points generated with sobol sequence\"\"\"\n",
    "  nband = len(bandwidths)\n",
    "  yeval = np.linspace(lin_spaces[0], lin_spaces[1], lin_spaces[2])\n",
    "  for ii in range(nband):\n",
    "      rhovaliid = kde(kernel, yiid, bandwidths[ii], yeval)\n",
    "      rhovalsob = kde(kernel, ysob, bandwidths[ii], yeval)\n",
    "      fig,ax = plt.subplots()\n",
    "      ax.plot(yeval, rhovaliid, label = \"IID\")\n",
    "      ax.plot(yeval, rhovalsob, label = \"Sobol\")\n",
    "      ax.legend()\n",
    "      ax.set_ylim(ylim_lst)\n",
    "      ax.set_title(f\"$h = {bandwidths[ii]:.2f}$\")"
   ]
  },
  {
   "cell_type": "code",
   "execution_count": 5,
   "metadata": {},
   "outputs": [],
   "source": [
    "def generate_graphs(bandwidths, lin_spaces, kde, kernel, sample_points, ylim_lst=[-0.05, 1.2]):\n",
    "  \"\"\"\n",
    "  Generate graphs involving a kde, kernel, and sample_points.\n",
    "  sample_points is a list of IID, Sobol, Lattice, DNB2, and Halton points.\n",
    "  \"\"\"\n",
    "  nband = len(bandwidths)\n",
    "  yeval = np.linspace(lin_spaces[0], lin_spaces[1], lin_spaces[2])\n",
    "  rho_list = list()\n",
    "  for ii in range(nband):\n",
    "      rhovaliid = kde(kernel, sample_points[0], bandwidths[ii], yeval)\n",
    "      rhovalsob = kde(kernel, sample_points[1], bandwidths[ii], yeval)\n",
    "      rhovallattice = kde(kernel, sample_points[2], bandwidths[ii], yeval)\n",
    "      rhovaldnetb2 = kde(kernel, sample_points[3], bandwidths[ii], yeval)\n",
    "      rhovalhalton = kde(kernel, sample_points[4], bandwidths[ii], yeval)\n",
    "      fig, ax = plt.subplots()\n",
    "      ax.plot(yeval, rhovaliid, label = \"IID\")\n",
    "      ax.plot(yeval, rhovalsob, label = \"Sobol\")\n",
    "      ax.plot(yeval, rhovallattice, label = \"Lattice\")\n",
    "      ax.plot(yeval, rhovaldnetb2, label = \"Digital Net B2\")\n",
    "      ax.plot(yeval, rhovalhalton, label = \"Halton\")\n",
    "      ax.legend()\n",
    "      ax.set_ylim(ylim_lst)\n",
    "      ax.set_title(f\"$h = {bandwidths[ii]:.2f}$\")"
   ]
  },
  {
   "cell_type": "markdown",
   "metadata": {},
   "source": [
    "## Generate Functions\n",
    "\n",
    "The following functions are used to generate different types of sample points."
   ]
  },
  {
   "cell_type": "code",
   "execution_count": 6,
   "metadata": {},
   "outputs": [],
   "source": [
    "def gen_iid_and_sobol(dimen = 3, n = 2**12):\n",
    "  \"\"\"Generate IID and Sobol sample points based on given sample size and dimensions.\"\"\"\n",
    "  coord_wts = 2.0 ** (-np.array(range(0, dimen)))\n",
    "  iidpts = qp.IIDStdUniform(dimen).gen_samples(n)\n",
    "  sobpts = qp.Sobol(dimen).gen_samples(n)\n",
    "  return (iidpts, sobpts)\n",
    "\n",
    "def gen_iid_ld_pts(dimen = 3, n = 2**12):\n",
    "  \"\"\"\n",
    "  Generate IID, Sobol, Lattic, DNB2, and Halton sample points,\n",
    "  based on dimension and smaple size.\n",
    "  \"\"\"\n",
    "  coord_wts = 2.0**(-np.array(range(0, dimen)))\n",
    "  iidpts = qp.IIDStdUniform(dimen).gen_samples(n)\n",
    "  sobpts = qp.Sobol(dimen).gen_samples(n)\n",
    "  latticepts = qp.Lattice(dimen).gen_samples(n)\n",
    "  dnetb2pts = qp.DigitalNetB2(dimen).gen_samples(n)\n",
    "  haltonpts = qp.Halton(dimen).gen_samples(n)\n",
    "  return (iidpts, sobpts, latticepts, dnetb2pts, haltonpts)"
   ]
  },
  {
   "cell_type": "markdown",
   "metadata": {},
   "source": [
    "## Generating Points\n",
    "\n",
    "Generating sequences of IID and LD points, with dimensions 1 and 3."
   ]
  },
  {
   "cell_type": "code",
   "execution_count": 7,
   "metadata": {},
   "outputs": [],
   "source": [
    "# dim = 1, n = 2**12\n",
    "iidpts1, sobpts1, latticepts1, dnetb2pts1, haltonpts1 = gen_iid_ld_pts(dimen = 1, n = 2**12)\n",
    "# print(\"iid: \", iidpts1)\n",
    "# print(\"sobol: \", sobpts1)\n",
    "# print(\"lattice: \", latticepts1)\n",
    "# print(\"digital net B2: \", dnetb2pts1)\n",
    "# print(\"halton: \", haltonpts1)"
   ]
  },
  {
   "cell_type": "code",
   "execution_count": 8,
   "metadata": {},
   "outputs": [],
   "source": [
    "# dim = 3, n = 2**12\n",
    "iidpts3, sobpts3, latticepts3, dnetb2pts3, haltonpts3 = gen_iid_ld_pts(dimen = 3, n = 2**12)\n",
    "# print(\"iid: \", iidpts3)\n",
    "# print(\"sobol: \", sobpts3)\n",
    "# print(\"lattice: \", latticepts3)\n",
    "# print(\"digital net B2: \", dnetb2pts3)\n",
    "# print(\"halton: \", haltonpts3)"
   ]
  },
  {
   "cell_type": "markdown",
   "metadata": {},
   "source": [
    "## Kernels and KDEs\n",
    "\n",
    "The following are definitions of different kernels used in the notebook. Some may be defined later, but these are ones used throughout the notebook or commonly used/known."
   ]
  },
  {
   "cell_type": "markdown",
   "metadata": {},
   "source": [
    "The gaussian kernel defined below represents the following:\n",
    "\n",
    "$$\n",
    "\\frac{e^{-y^2}}{\\sqrt{\\pi}}\n",
    "$$"
   ]
  },
  {
   "cell_type": "code",
   "execution_count": 15,
   "metadata": {},
   "outputs": [],
   "source": [
    "def kernel(y):\n",
    "    return np.exp(-y * y) / np.sqrt(np.pi)"
   ]
  },
  {
   "cell_type": "markdown",
   "metadata": {},
   "source": [
    "#### Generate some $y_i=f(x_i)$ points\n",
    "$\n",
    "f(\\mathbf{x}) = 10 \\exp(- w_1x_1 - \\cdots - w_d x_d) \\sin(w_1x_1 + \\cdots +w_d x_d)\n",
    "$"
   ]
  },
  {
   "cell_type": "code",
   "execution_count": 9,
   "metadata": {},
   "outputs": [],
   "source": [
    "def testfun1(x, coord_wts = 1): # function f(x) defines the random variable\n",
    "    wtx = np.multiply(x, coord_wts)\n",
    "    y = 10 * np.exp(-wtx.sum(1)) * np.sin(np.pi * wtx.sum(1))\n",
    "    #y = x[:,0] # if x is uniform, then y is uniform\n",
    "    return y"
   ]
  },
  {
   "cell_type": "code",
   "execution_count": 10,
   "metadata": {},
   "outputs": [],
   "source": [
    "yiid1 = testfun1(iidpts1)\n",
    "ysob1 = testfun1(sobpts1)\n",
    "\n",
    "yiid3 = testfun1(iidpts3)\n",
    "ysob3 = testfun1(sobpts3)"
   ]
  },
  {
   "cell_type": "markdown",
   "metadata": {},
   "source": [
    "The following *Kernel Density Estimator* (KDE)\n",
    "\n",
    "$$\n",
    "\\varrho() = \\frac{k\\left(\\frac{y - Y}{h}\\right)}{h}\n",
    "$$\n",
    "\n",
    "*(Still needs work.)*"
   ]
  },
  {
   "cell_type": "code",
   "execution_count": 45,
   "metadata": {},
   "outputs": [],
   "source": [
    "def kde(kernel, ypts, bandwidth, yeval):\n",
    "    neval = len(yeval)\n",
    "    rhoval = np.zeros_like(yeval) #values of density estimator\n",
    "    for ii in range(len(yeval)):\n",
    "        rhoval[ii] = np.mean(kernel((yeval[ii]-ypts) / bandwidth)) / bandwidth\n",
    "    return rhoval"
   ]
  },
  {
   "cell_type": "code",
   "execution_count": 32,
   "metadata": {},
   "outputs": [],
   "source": [
    "kernel_vec = np.vectorize(kernel)"
   ]
  },
  {
   "cell_type": "code",
   "execution_count": 46,
   "metadata": {},
   "outputs": [],
   "source": [
    "def kde_vec(kernel_vec, ypts, bandwidth, yeval):\n",
    "    return np.mean(kernel_vec((yeval-ypts) / bandwidth)) / bandwidth"
   ]
  },
  {
   "cell_type": "code",
   "execution_count": 53,
   "metadata": {},
   "outputs": [
    {
     "name": "stdout",
     "output_type": "stream",
     "text": [
      "(500,)\n",
      "(4096,)\n"
     ]
    }
   ],
   "source": [
    "# yiid1 = ypts (4096 elements)\n",
    "# yeval = np.linspace(-4, 8, 500) (500 elements)\n",
    "yeval=np.linspace(-4, 8, 500)\n",
    "print(yeval.shape)\n",
    "ypts = yiid1\n",
    "print(ypts.shape)"
   ]
  },
  {
   "cell_type": "code",
   "execution_count": 56,
   "metadata": {},
   "outputs": [
    {
     "data": {
      "text/plain": [
       "array([1.54629502, 5.84868202, 1.922304  , ..., 4.96061605, 2.50793404,\n",
       "       2.45864467])"
      ]
     },
     "execution_count": 56,
     "metadata": {},
     "output_type": "execute_result"
    }
   ],
   "source": [
    "ypts"
   ]
  },
  {
   "cell_type": "code",
   "execution_count": 58,
   "metadata": {},
   "outputs": [
    {
     "data": {
      "text/plain": [
       "-4.0"
      ]
     },
     "execution_count": 58,
     "metadata": {},
     "output_type": "execute_result"
    }
   ],
   "source": [
    "yeval[0]"
   ]
  },
  {
   "cell_type": "code",
   "execution_count": 57,
   "metadata": {},
   "outputs": [
    {
     "data": {
      "text/plain": [
       "array([-5.54629502, -9.84868202, -5.922304  , ..., -8.96061605,\n",
       "       -6.50793404, -6.45864467])"
      ]
     },
     "execution_count": 57,
     "metadata": {},
     "output_type": "execute_result"
    }
   ],
   "source": [
    "yeval[0]-ypts"
   ]
  },
  {
   "cell_type": "code",
   "execution_count": 61,
   "metadata": {},
   "outputs": [
    {
     "data": {
      "text/plain": [
       "array([2.46560669e-14, 4.23023047e-43, 3.30458839e-16, ...,\n",
       "       7.59931709e-36, 2.27856619e-19, 4.31743217e-19])"
      ]
     },
     "execution_count": 61,
     "metadata": {},
     "output_type": "execute_result"
    }
   ],
   "source": [
    "kernel_vec((yeval[0] - ypts))"
   ]
  },
  {
   "cell_type": "code",
   "execution_count": 62,
   "metadata": {},
   "outputs": [
    {
     "data": {
      "text/plain": [
       "array([2.46560669e-14, 4.23023047e-43, 3.30458839e-16, ...,\n",
       "       7.59931709e-36, 2.27856619e-19, 4.31743217e-19])"
      ]
     },
     "execution_count": 62,
     "metadata": {},
     "output_type": "execute_result"
    }
   ],
   "source": [
    "kernel(yeval[0]-ypts)"
   ]
  },
  {
   "cell_type": "code",
   "execution_count": 60,
   "metadata": {},
   "outputs": [
    {
     "name": "stdout",
     "output_type": "stream",
     "text": [
      "[0.00000000e+000 0.00000000e+000 0.00000000e+000 0.00000000e+000\n",
      " 0.00000000e+000 0.00000000e+000 0.00000000e+000 0.00000000e+000\n",
      " 0.00000000e+000 0.00000000e+000 0.00000000e+000 0.00000000e+000\n",
      " 0.00000000e+000 0.00000000e+000 0.00000000e+000 0.00000000e+000\n",
      " 0.00000000e+000 0.00000000e+000 0.00000000e+000 0.00000000e+000\n",
      " 0.00000000e+000 0.00000000e+000 0.00000000e+000 0.00000000e+000\n",
      " 0.00000000e+000 0.00000000e+000 0.00000000e+000 0.00000000e+000\n",
      " 0.00000000e+000 0.00000000e+000 0.00000000e+000 0.00000000e+000\n",
      " 0.00000000e+000 0.00000000e+000 0.00000000e+000 0.00000000e+000\n",
      " 0.00000000e+000 0.00000000e+000 0.00000000e+000 0.00000000e+000\n",
      " 0.00000000e+000 0.00000000e+000 0.00000000e+000 0.00000000e+000\n",
      " 0.00000000e+000 0.00000000e+000 0.00000000e+000 0.00000000e+000\n",
      " 0.00000000e+000 0.00000000e+000 0.00000000e+000 0.00000000e+000\n",
      " 0.00000000e+000 0.00000000e+000 7.65801751e-321 3.22688660e-315\n",
      " 1.21345852e-309 4.06494904e-304 1.21303893e-298 3.22466334e-293\n",
      " 7.63632832e-288 1.61092735e-282 3.02732515e-277 5.06797601e-272\n",
      " 7.55793307e-267 1.00407280e-261 1.18828801e-256 1.25277560e-251\n",
      " 1.17657779e-246 9.84384013e-242 7.33678478e-237 4.87130294e-232\n",
      " 2.88126673e-227 1.51817425e-222 7.12624101e-218 2.97989555e-213\n",
      " 1.11005421e-208 3.68375674e-204 1.08903624e-199 2.86813390e-195\n",
      " 6.72919820e-191 1.40648521e-186 2.61888340e-182 4.34417717e-178\n",
      " 6.41963815e-174 8.45135899e-170 9.91189992e-166 1.03562626e-161\n",
      " 9.63976569e-158 7.99371606e-154 5.90542802e-150 3.88665625e-146\n",
      " 2.27889705e-142 1.19041641e-138 5.53988321e-135 2.29684541e-131\n",
      " 8.48387792e-128 2.79184085e-124 8.18507592e-121 2.13792700e-117\n",
      " 4.97511965e-114 1.03147138e-110 1.90526959e-107 3.13547975e-104\n",
      " 4.59729863e-101 6.00558801e-098 6.98981293e-095 7.24829721e-092\n",
      " 6.69684470e-089 5.51279422e-086 4.04337795e-083 2.64235857e-080\n",
      " 1.53857281e-077 7.98228920e-075 3.68998318e-072 1.51989456e-069\n",
      " 5.57826991e-067 1.82426386e-064 5.31597794e-062 1.38035773e-059\n",
      " 3.19388265e-057 6.58523418e-055 1.20991513e-052 1.98096492e-050\n",
      " 2.89030707e-048 3.75806251e-046 4.35456444e-044 4.49670572e-042\n",
      " 4.13830030e-040 3.39419345e-038 2.48112143e-036 1.61646631e-034\n",
      " 9.38649609e-033 4.85814248e-031 2.24119348e-029 9.21603524e-028\n",
      " 3.37814943e-026 1.10382165e-024 3.21529552e-023 8.34954637e-022\n",
      " 1.93305673e-020 3.99013662e-019 7.34372574e-018 1.20519562e-016\n",
      " 1.76376766e-015 2.30198487e-014 2.67966521e-013 2.78241426e-012\n",
      " 2.57739257e-011 2.13020587e-010 1.57116833e-009 1.03437715e-008\n",
      " 6.08005062e-008 3.19192991e-007 1.49727297e-006 6.27890019e-006\n",
      " 2.35559517e-005 7.91296842e-005 2.38288821e-004 6.44245749e-004\n",
      " 1.56691204e-003 3.43722850e-003 6.82344537e-003 1.23112299e-002\n",
      " 2.02976418e-002 3.07806402e-002 4.32601010e-002 5.68152401e-002\n",
      " 7.03177153e-002 8.26740314e-002 9.30192091e-002 1.00852491e-001\n",
      " 1.06124298e-001 1.09244236e-001 1.10963644e-001 1.12144595e-001\n",
      " 1.13507853e-001 1.15465983e-001 1.18081523e-001 1.21116155e-001\n",
      " 1.24120432e-001 1.26543450e-001 1.27861023e-001 1.27704543e-001\n",
      " 1.25954312e-001 1.22779749e-001 1.18648647e-001 1.14330479e-001\n",
      " 1.10862531e-001 1.09392109e-001 1.10839850e-001 1.15460157e-001\n",
      " 1.22509679e-001 1.30252955e-001 1.36399237e-001 1.38850715e-001\n",
      " 1.36470694e-001 1.29541356e-001 1.19699783e-001 1.09369834e-001\n",
      " 1.00935692e-001 9.60095885e-002 9.50745341e-002 9.75766010e-002\n",
      " 1.02318288e-001 1.07893634e-001 1.12972793e-001 1.16430288e-001\n",
      " 1.17453901e-001 1.15734894e-001 1.11661568e-001 1.06310792e-001\n",
      " 1.01114923e-001 9.73249505e-002 9.55747871e-002 9.58003487e-002\n",
      " 9.75144029e-002 1.00191271e-001 1.03469968e-001 1.07065971e-001\n",
      " 1.10536628e-001 1.13169069e-001 1.14157430e-001 1.12992551e-001\n",
      " 1.09797168e-001 1.05354826e-001 1.00789885e-001 9.70954770e-002\n",
      " 9.47959552e-002 9.39154873e-002 9.42045124e-002 9.54135582e-002\n",
      " 9.74064369e-002 1.00058454e-001 1.03068722e-001 1.05884101e-001\n",
      " 1.07833043e-001 1.08393025e-001 1.07419060e-001 1.05208419e-001\n",
      " 1.02394321e-001 9.97371334e-002 9.78876228e-002 9.71866758e-002\n",
      " 9.75733550e-002 9.86594032e-002 9.99504373e-002 1.01092483e-001\n",
      " 1.01995740e-001 1.02776662e-001 1.03593682e-001 1.04520049e-001\n",
      " 1.05550859e-001 1.06720437e-001 1.08200091e-001 1.10239808e-001\n",
      " 1.12937983e-001 1.15995212e-001 1.18681994e-001 1.20130248e-001\n",
      " 1.19818063e-001 1.17952046e-001 1.15496307e-001 1.13806024e-001\n",
      " 1.14041994e-001 1.16649672e-001 1.21149645e-001 1.26333201e-001\n",
      " 1.30755609e-001 1.33276601e-001 1.33401837e-001 1.31324652e-001\n",
      " 1.27740532e-001 1.23581095e-001 1.19768310e-001 1.17015841e-001\n",
      " 1.15690253e-001 1.15770114e-001 1.16925937e-001 1.18676984e-001\n",
      " 1.20538865e-001 1.22111965e-001 1.23127970e-001 1.23487626e-001\n",
      " 1.23278231e-001 1.22725121e-001 1.22063238e-001 1.21386553e-001\n",
      " 1.20572722e-001 1.19347453e-001 1.17466948e-001 1.14912886e-001\n",
      " 1.11973022e-001 1.09149909e-001 1.06957732e-001 1.05734691e-001\n",
      " 1.05557446e-001 1.06248514e-001 1.07423511e-001 1.08564587e-001\n",
      " 1.09154367e-001 1.08879856e-001 1.07830118e-001 1.06554887e-001\n",
      " 1.05893864e-001 1.06612003e-001 1.09000858e-001 1.12648247e-001\n",
      " 1.16513215e-001 1.19305192e-001 1.20018358e-001 1.18379490e-001\n",
      " 1.14984264e-001 1.11039880e-001 1.07841579e-001 1.06260534e-001\n",
      " 1.06503066e-001 1.08223023e-001 1.10855876e-001 1.13938867e-001\n",
      " 1.17239448e-001 1.20670557e-001 1.24110297e-001 1.27283043e-001\n",
      " 1.29793613e-001 1.31293517e-001 1.31672504e-001 1.31153585e-001\n",
      " 1.30224565e-001 1.29433049e-001 1.29157385e-001 1.29488212e-001\n",
      " 1.30284913e-001 1.31347374e-001 1.32562580e-001 1.33918257e-001\n",
      " 1.35395532e-001 1.36856715e-001 1.38046783e-001 1.38729405e-001\n",
      " 1.38860990e-001 1.38663135e-001 1.38522687e-001 1.38779642e-001\n",
      " 1.39548374e-001 1.40679511e-001 1.41845185e-001 1.42648309e-001\n",
      " 1.42697900e-001 1.41688337e-001 1.39535599e-001 1.36530295e-001\n",
      " 1.33379756e-001 1.31041361e-001 1.30382638e-001 1.31832078e-001\n",
      " 1.35210007e-001 1.39826994e-001 1.44773145e-001 1.49217831e-001\n",
      " 1.52580075e-001 1.54564257e-001 1.55138223e-001 1.54489206e-001\n",
      " 1.52921724e-001 1.50696304e-001 1.47927249e-001 1.44685602e-001\n",
      " 1.41285167e-001 1.38502604e-001 1.37455318e-001 1.39113959e-001\n",
      " 1.43744399e-001 1.50660548e-001 1.58453400e-001 1.65545023e-001\n",
      " 1.70743577e-001 1.73527217e-001 1.73982455e-001 1.72534422e-001\n",
      " 1.69704366e-001 1.66041802e-001 1.62173534e-001 1.58785671e-001\n",
      " 1.56442397e-001 1.55354793e-001 1.55316214e-001 1.55905187e-001\n",
      " 1.56835870e-001 1.58213007e-001 1.60518941e-001 1.64351500e-001\n",
      " 1.70087428e-001 1.77662688e-001 1.86557521e-001 1.95949844e-001\n",
      " 2.04932688e-001 2.12693140e-001 2.18604745e-001 2.22264073e-001\n",
      " 2.23548449e-001 2.22729415e-001 2.20568055e-001 2.18252047e-001\n",
      " 2.17096937e-001 2.18094529e-001 2.21527813e-001 2.26878054e-001\n",
      " 2.33108372e-001 2.39196059e-001 2.44634900e-001 2.49648159e-001\n",
      " 2.55035677e-001 2.61786979e-001 2.70678210e-001 2.82014462e-001\n",
      " 2.95578888e-001 3.10784293e-001 3.26977325e-001 3.43784150e-001\n",
      " 3.61344046e-001 3.80329271e-001 4.01793849e-001 4.26989742e-001\n",
      " 4.57170726e-001 4.93113716e-001 5.33980568e-001 5.75622916e-001\n",
      " 6.09398822e-001 6.23158699e-001 6.05240410e-001 5.50115505e-001\n",
      " 4.62384682e-001 3.56158465e-001 2.49727671e-001 1.58615679e-001\n",
      " 9.09327969e-002 4.69281577e-002 2.17578926e-002 9.04917870e-003\n",
      " 3.37209005e-003 1.12482712e-003 3.35621860e-004 8.95232842e-005\n",
      " 2.13370444e-005 4.54227317e-006 8.63396608e-007 1.46496092e-007\n",
      " 2.21829575e-008 2.99712396e-009 3.61250351e-010 3.88388863e-011\n",
      " 3.72413324e-012 3.18445921e-013 2.42804215e-014 1.65063042e-015\n",
      " 1.00042350e-016 5.40541845e-018 2.60351625e-019 1.11777312e-020\n",
      " 4.27748665e-022 1.45897074e-023 4.43517255e-025 1.20161450e-026\n",
      " 2.90132638e-028 6.24298251e-030 1.19712685e-031 2.04564443e-033\n",
      " 3.11495881e-035 4.22666385e-037 5.11043772e-039 5.50586888e-041\n",
      " 5.28559591e-043 4.52122217e-045 3.44592225e-047 2.34011499e-049\n",
      " 1.41594299e-051 7.63354525e-054 3.66668983e-056 1.56922478e-058\n",
      " 5.98349904e-061 2.03273432e-063 6.15258764e-066 1.65914169e-068\n",
      " 3.98615789e-071 8.53233562e-074 1.62712531e-076 2.76446496e-079\n",
      " 4.18442435e-082 5.64277263e-085 6.77921434e-088 7.25594632e-091\n",
      " 6.91886165e-094 5.87758921e-097 4.44821750e-100 2.99911619e-103\n",
      " 1.80143848e-106 9.63968623e-110 4.59538821e-113 1.95162311e-116]\n",
      "(500,)\n"
     ]
    }
   ],
   "source": [
    "rhoval = np.zeros_like(yeval) #values of density estimator\n",
    "for ii in range(len(yeval)):\n",
    "    rhoval[ii] = np.mean(kernel((yeval[ii]-ypts) / 0.1)) / 0.1\n",
    "print(rhoval)\n",
    "print(rhoval.shape)"
   ]
  },
  {
   "cell_type": "code",
   "execution_count": 47,
   "metadata": {},
   "outputs": [
    {
     "ename": "ValueError",
     "evalue": "operands could not be broadcast together with shapes (500,) (4096,) ",
     "output_type": "error",
     "traceback": [
      "\u001b[1;31m---------------------------------------------------------------------------\u001b[0m",
      "\u001b[1;31mValueError\u001b[0m                                Traceback (most recent call last)",
      "Cell \u001b[1;32mIn[47], line 4\u001b[0m\n\u001b[0;32m      2\u001b[0m bw \u001b[38;5;241m=\u001b[39m [\u001b[38;5;241m0.01\u001b[39m, \u001b[38;5;241m0.05\u001b[39m, \u001b[38;5;241m0.1\u001b[39m, \u001b[38;5;241m0.2\u001b[39m, \u001b[38;5;241m0.3\u001b[39m, \u001b[38;5;241m0.5\u001b[39m, \u001b[38;5;241m0.7\u001b[39m, \u001b[38;5;241m1\u001b[39m, \u001b[38;5;241m2\u001b[39m]\n\u001b[0;32m      3\u001b[0m spaces \u001b[38;5;241m=\u001b[39m (\u001b[38;5;241m-\u001b[39m\u001b[38;5;241m4\u001b[39m, \u001b[38;5;241m8\u001b[39m, \u001b[38;5;241m500\u001b[39m)\n\u001b[1;32m----> 4\u001b[0m \u001b[43mgenerate_sobol_iid_graph\u001b[49m\u001b[43m(\u001b[49m\u001b[43mbw\u001b[49m\u001b[43m,\u001b[49m\u001b[43m \u001b[49m\u001b[43mspaces\u001b[49m\u001b[43m,\u001b[49m\u001b[43m \u001b[49m\u001b[43mkde_vec\u001b[49m\u001b[43m,\u001b[49m\u001b[43m \u001b[49m\u001b[43mkernel_vec\u001b[49m\u001b[43m,\u001b[49m\u001b[43m \u001b[49m\u001b[43myiid1\u001b[49m\u001b[43m,\u001b[49m\u001b[43m \u001b[49m\u001b[43mysob1\u001b[49m\u001b[43m)\u001b[49m\n",
      "Cell \u001b[1;32mIn[4], line 12\u001b[0m, in \u001b[0;36mgenerate_sobol_iid_graph\u001b[1;34m(bandwidths, lin_spaces, kde, kernel, yiid, ysob, ylim_lst)\u001b[0m\n\u001b[0;32m     10\u001b[0m yeval \u001b[38;5;241m=\u001b[39m np\u001b[38;5;241m.\u001b[39mlinspace(lin_spaces[\u001b[38;5;241m0\u001b[39m], lin_spaces[\u001b[38;5;241m1\u001b[39m], lin_spaces[\u001b[38;5;241m2\u001b[39m])\n\u001b[0;32m     11\u001b[0m \u001b[38;5;28;01mfor\u001b[39;00m ii \u001b[38;5;129;01min\u001b[39;00m \u001b[38;5;28mrange\u001b[39m(nband):\n\u001b[1;32m---> 12\u001b[0m     rhovaliid \u001b[38;5;241m=\u001b[39m \u001b[43mkde\u001b[49m\u001b[43m(\u001b[49m\u001b[43mkernel\u001b[49m\u001b[43m,\u001b[49m\u001b[43m \u001b[49m\u001b[43myiid\u001b[49m\u001b[43m,\u001b[49m\u001b[43m \u001b[49m\u001b[43mbandwidths\u001b[49m\u001b[43m[\u001b[49m\u001b[43mii\u001b[49m\u001b[43m]\u001b[49m\u001b[43m,\u001b[49m\u001b[43m \u001b[49m\u001b[43myeval\u001b[49m\u001b[43m)\u001b[49m\n\u001b[0;32m     13\u001b[0m     rhovalsob \u001b[38;5;241m=\u001b[39m kde(kernel, ysob, bandwidths[ii], yeval)\n\u001b[0;32m     14\u001b[0m     fig,ax \u001b[38;5;241m=\u001b[39m plt\u001b[38;5;241m.\u001b[39msubplots()\n",
      "Cell \u001b[1;32mIn[46], line 2\u001b[0m, in \u001b[0;36mkde_vec\u001b[1;34m(kernel_vec, ypts, bandwidth, yeval)\u001b[0m\n\u001b[0;32m      1\u001b[0m \u001b[38;5;28;01mdef\u001b[39;00m \u001b[38;5;21mkde_vec\u001b[39m(kernel_vec, ypts, bandwidth, yeval):\n\u001b[1;32m----> 2\u001b[0m     \u001b[38;5;28;01mreturn\u001b[39;00m np\u001b[38;5;241m.\u001b[39mmean(kernel_vec((\u001b[43myeval\u001b[49m\u001b[38;5;241;43m-\u001b[39;49m\u001b[43mypts\u001b[49m) \u001b[38;5;241m/\u001b[39m bandwidth)) \u001b[38;5;241m/\u001b[39m bandwidth\n",
      "\u001b[1;31mValueError\u001b[0m: operands could not be broadcast together with shapes (500,) (4096,) "
     ]
    }
   ],
   "source": [
    "# dim = 1, n = 2**12\n",
    "bw = [0.01, 0.05, 0.1, 0.2, 0.3, 0.5, 0.7, 1, 2]\n",
    "spaces = (-4, 8, 500)\n",
    "generate_sobol_iid_graph(bw, spaces, kde_vec, kernel_vec, yiid1, ysob1)"
   ]
  },
  {
   "cell_type": "markdown",
   "metadata": {},
   "source": [
    "## Hermite Kernel\n",
    "\n",
    "The following comes from Dr. Hickernell's KDE experiment notebook.\n"
   ]
  },
  {
   "cell_type": "code",
   "execution_count": 17,
   "metadata": {},
   "outputs": [],
   "source": [
    "# Original hermite kernel function from Dr. Hickernell\n",
    "y = sy.symbols('y', real = True)\n",
    "h = sy.symbols('h', positive = True)\n",
    "def sy_hermite_kernel(y = sy.symbols('y', real = True), band_width = sy.symbols('h', positive = True), r = 1, only_coef = False):\n",
    "    '''\n",
    "    band_width = the kernel band width, often denoted h; a smaller bandwidth means a peakier kernel\n",
    "    r = number of terms in our kernel\n",
    "    '''\n",
    "    \n",
    "#    import sympy as sy\n",
    "    wt = sy.exp(-y*y) #normalizing weight for Hermite functions\n",
    "    k = sy.zeros(r,1) #initialize a vector of bases that make up the kernel\n",
    "    intk = sy.zeros(r,r) #initialize a matrix of integrals of the bases with respect to even degree polynomials\n",
    "    for ii in range(r):\n",
    "        k[ii] = sy.hermite(2*ii,y)*wt #form the bases\n",
    "        for jj in range(r):\n",
    "            intk[jj,ii] = sy.integrate(k[ii]*(y**(2*jj)),(y,-sy.oo,sy.oo)) #evaluate the integrals against even degree monomials\n",
    "            # to hardcode the above line:\n",
    "            # r = 0: intk[jj, ii] = (np.exp(-y**2))/((math.pi)**0.5)\n",
    "            # r = 1: intk[jj, ii] = ((3-2*y**2)*np.exp(-y**2))/(2*(math.pi)**0.5)\n",
    "            # r = 2: intk[jj, ii] = ((4*y**4 - 20*y**2 +15)*np.exp(-y**2))/(8*(math.pi)**0.5)\n",
    "    tot_int = sy.Matrix.vstack(sy.ones(1,1),sy.zeros(r-1,1)) #the kernel should integrate to one, \n",
    "        #and the kernel integrated against y, y^2, ..., y^r should be zero\n",
    "#    print(tot_int)\n",
    "    coef = sy.Matrix(list(sy.linsolve((intk,tot_int)))) #solve the system of equations for the coefficients of the bases\n",
    "    if only_coef:\n",
    "        return coef\n",
    "    print(coef)\n",
    "#    ktilde = coef.dot(k)\n",
    "#    integk = sy.integrate(ktilde,(y,-sy.oo,sy.oo))\n",
    "#    print('integk =',integk)\n",
    "    ktilde = coef.dot(k.subs(y,y/band_width)/band_width) #form the isotropic kernel and insert the bandwidth dependency\n",
    "#    integ = sy.integrate(ktilde,(y,-sy.oo,sy.oo))\n",
    "#    print('integ =',integ)\n",
    "#    print(band_width)\n",
    "#    print(ktilde)\n",
    "    return coef.dot(k.subs(y,y/band_width)/band_width)"
   ]
  },
  {
   "cell_type": "code",
   "execution_count": 18,
   "metadata": {},
   "outputs": [
    {
     "name": "stdout",
     "output_type": "stream",
     "text": [
      "Matrix([[1/sqrt(pi)]])\n",
      "<class 'sympy.core.mul.Mul'>\n",
      "kernel = exp(-y**2/h**2)/(sqrt(pi)*h)\n",
      "integ = 1\n",
      "Matrix([[1/sqrt(pi)]])\n",
      "Matrix([[1/sqrt(pi), -1/(4*sqrt(pi))]])\n",
      "Matrix([[1/sqrt(pi), -1/(4*sqrt(pi)), 1/(32*sqrt(pi))]])\n"
     ]
    }
   ],
   "source": [
    "# testing original hermite kernel function\n",
    "\n",
    "test_kernel_sy = sy_hermite_kernel(r=1) # r = number terms in kernel\n",
    "print(type(test_kernel_sy))\n",
    "print('kernel =',test_kernel_sy)\n",
    "integ = sy.integrate(test_kernel_sy,(y,-sy.oo,sy.oo))\n",
    "print('integ =',integ) # should be 1\n",
    "test_kernel_sy = sy_hermite_kernel(r=1,only_coef = True)\n",
    "print(test_kernel_sy)\n",
    "test_kernel_sy = sy_hermite_kernel(r=2,only_coef = True)\n",
    "print(test_kernel_sy)\n",
    "test_kernel_sy = sy_hermite_kernel(r=3,only_coef = True)\n",
    "print(test_kernel_sy)"
   ]
  },
  {
   "cell_type": "code",
   "execution_count": 19,
   "metadata": {},
   "outputs": [],
   "source": [
    "# hardcoding hermite kernel coefficients\n",
    "\n",
    "def hardcode_hermite_kernel(r):\n",
    "    '''\n",
    "    returns hermite coefficients for r = 0, 1, or 2\n",
    "    band_width = the kernel band width, often denoted h; a smaller bandwidth means a peakier kernel\n",
    "    r = number of terms in our kernel\n",
    "    '''\n",
    "    if r==0:\n",
    "        return sy.Matrix([[1/(math.pi)**0.5]])\n",
    "    elif r==1:\n",
    "        return sy.Matrix([[1/(math.pi)**0.5, -1/(4*(math.pi)**0.5)]])\n",
    "    elif r==2:\n",
    "        return sy.Matrix([[1/(math.pi)**0.5, -1/(4*(math.pi)**0.5), 1/(32*(math.pi)**0.5)]])\n",
    "    else:\n",
    "        raise ValueError(\"Invalid input. r must be 0, 1, or 2.\")\n",
    "    \n",
    "# Coefficients: \n",
    "# r = 0 (corresponds to r = 1 from original function): Matrix([[1/sqrt(pi)]])\n",
    "# r = 1 (corresponds to r = 2 from original function): Matrix([[1/sqrt(pi), -1/(4*sqrt(pi))]])\n",
    "# r = 2 (correpsonds to r = 3 from original function): Matrix([[1/sqrt(pi), -1/(4*sqrt(pi)), 1/(32*sqrt(pi))]])"
   ]
  },
  {
   "cell_type": "code",
   "execution_count": 20,
   "metadata": {},
   "outputs": [
    {
     "name": "stdout",
     "output_type": "stream",
     "text": [
      "<class 'sympy.matrices.dense.MutableDenseMatrix'>\n",
      "kernel = Matrix([[0.564189583547756]])\n",
      "Matrix([[0.564189583547756, -0.141047395886939]])\n",
      "Matrix([[0.564189583547756, -0.141047395886939, 0.0176309244858674]])\n"
     ]
    }
   ],
   "source": [
    "# testing hardcoded hermite kernel\n",
    "\n",
    "test_kernel = hardcode_hermite_kernel(r=0) # r = number terms in kernel\n",
    "print(type(test_kernel))\n",
    "print('kernel =',test_kernel)\n",
    "test_kernel = hardcode_hermite_kernel(r=1)\n",
    "print(test_kernel)\n",
    "test_kernel = hardcode_hermite_kernel(r=2)\n",
    "print(test_kernel)"
   ]
  },
  {
   "cell_type": "code",
   "execution_count": 21,
   "metadata": {},
   "outputs": [
    {
     "name": "stdout",
     "output_type": "stream",
     "text": [
      "Matrix([[1/sqrt(pi)]])\n",
      "ktilde = \\frac{e^{- y^{2}}}{\\sqrt{\\pi}}\n",
      "Matrix([[1/sqrt(pi), -1/(4*sqrt(pi))]])\n",
      "ktilde = \\frac{\\left(\\frac{3}{2} - y^{2}\\right) e^{- y^{2}}}{\\sqrt{\\pi}}\n",
      "Matrix([[1/sqrt(pi), -1/(4*sqrt(pi)), 1/(32*sqrt(pi))]])\n",
      "ktilde = \\frac{\\left(4 y^{4} - 20 y^{2} + 15\\right) e^{- y^{2}}}{8 \\sqrt{\\pi}}\n"
     ]
    },
    {
     "data": {
      "image/png": "[encoded data removed]",
      "text/plain": [
       "<Figure size 1000x1000 with 9 Axes>"
      ]
     },
     "metadata": {},
     "output_type": "display_data"
    }
   ],
   "source": [
    "# visualizing hermite kernel\n",
    "# Notes: smaller bandwidth = spikier kernel; higher order = more accurate, but KDE might have negative values\n",
    "\n",
    "h = sy.symbols('h', positive = True)\n",
    "y = sy.symbols('y', real = True)\n",
    "rarray = sy.Matrix([sy.Integer(1), sy.Integer(2), sy.Integer(3)])\n",
    "nr = rarray.shape[0]\n",
    "\n",
    "harray = sy.Matrix([sy.Rational(1/2), sy.Rational(1), sy.Rational(4)]) # Rational() returns rational form of value--diff. bandwidths\n",
    "nh = harray.shape[0] # number of bandwidths\n",
    "p = []; # plots\n",
    "for rr in range(nr):\n",
    "    rval = rarray[rr]\n",
    "    ktilde_sy = sy.simplify(sy_hermite_kernel(y,h,rval))\n",
    "    print('ktilde =',sy.latex(ktilde_sy.subs(h,1)))\n",
    "    for hh in range(nh):\n",
    "        hval = harray[hh]\n",
    "        p.append(sy.plot(ktilde_sy.subs(h,hval),ylabel = r'$\\tilde k(y,r='+str(rval)+',h='+str(hval)+')$', show = False))\n",
    "sy.plotting.PlotGrid(nr,nh, *p, size = (10,10));"
   ]
  },
  {
   "cell_type": "code",
   "execution_count": 22,
   "metadata": {},
   "outputs": [],
   "source": [
    "# original function: define hermite kernel for r = 1 (corresopnds to r = 0 in the hardcoded case)\n",
    "def hermite_kernel(y, r = 1):\n",
    "    '''\n",
    "    r = number of terms in our kernel\n",
    "    '''\n",
    "    coef = np.array(sy.N(sy_hermite_kernel(r = r, only_coef = True)))\n",
    "    # print(coef)\n",
    "    poly = sp.special.hermite(0)\n",
    "    # print(poly)\n",
    "    k = sp.special.hermite(0)(y)*coef[0] #initialize a vector of kernel values\n",
    "    # print(k)\n",
    "    for ii in range(1,r):\n",
    "        k += sp.special.hermite(2*ii)(y)*coef[ii] #add the additional terms\n",
    "    k*=np.exp(-y*y/2) #normalizing weight for Hermite functions #form the isotropic kernel and insert the bandwidth dependency\n",
    "    return k"
   ]
  },
  {
   "cell_type": "code",
   "execution_count": 23,
   "metadata": {},
   "outputs": [],
   "source": [
    "# hardcoded: define hermite kernel for r = 0 (corresponds to r = 1 in the original case)\n",
    "def hardcode_hermite_kernel_weight(y, r = 0):\n",
    "    '''\n",
    "    r = number of terms in our kernel\n",
    "    '''\n",
    "    coef = np.array((hardcode_hermite_kernel(r = r)))\n",
    "    # print(coef)\n",
    "    poly = sp.special.hermite(0)\n",
    "    # print(poly)\n",
    "    k = sp.special.hermite(0)(y)*coef[0][0] #initialize a vector of kernel values\n",
    "    # print(k)\n",
    "    for ii in range(0,r):\n",
    "        k += sp.special.hermite(2*ii)(y)*coef[0][ii] #add the additional terms\n",
    "    k*=np.exp(-y*y/2) #normalizing weight for Hermite functions #form the isotropic kernel and insert the bandwidth dependency\n",
    "    return k"
   ]
  },
  {
   "cell_type": "code",
   "execution_count": 24,
   "metadata": {},
   "outputs": [],
   "source": [
    "# original: define hermite kernel for r = 2 (corresopnds to r = 1 in the hardcoded case)\n",
    "def hermite_kernel_2(y, r = 2):\n",
    "    '''\n",
    "    r = number of terms in our kernel\n",
    "    '''\n",
    "    coef = np.array(sy.N(sy_hermite_kernel(r = r, only_coef = True)))\n",
    "    # print(coef)\n",
    "    poly = sp.special.hermite(0) # why use the 0th polynomial?\n",
    "    # print(poly)\n",
    "    # for i in range(len(coef[0])):\n",
    "    #     print(coef[0][i])\n",
    "    k = sp.special.hermite(0)(y)*coef[0][0] #initialize a vector of kernel values\n",
    "    # print(k)\n",
    "    for ii in range(1,r):\n",
    "        k += sp.special.hermite(2*ii)(y)*coef[0][ii] #add the additional terms\n",
    "    k*=np.exp(-y*y/2) #normalizing weight for Hermite functions #form the isotropic kernel and insert the bandwidth dependency\n",
    "    return k"
   ]
  },
  {
   "cell_type": "code",
   "execution_count": 25,
   "metadata": {},
   "outputs": [],
   "source": [
    "# hardcoded: define hermite kernel for r = 1 (corresponds to r = 2 in the original case)\n",
    "def hardcode_hermite_kernel_weight_1(y, r = 1):\n",
    "    '''\n",
    "    r = number of terms in our kernel\n",
    "    '''\n",
    "    coef = np.array((hardcode_hermite_kernel(r = r)))\n",
    "    # print(coef)\n",
    "    poly = sp.special.hermite(0)\n",
    "    # print(poly)\n",
    "    k = sp.special.hermite(0)(y)*coef[0][0] #initialize a vector of kernel values\n",
    "    # print(k)\n",
    "    for ii in range(0,r):\n",
    "        k += sp.special.hermite(2*ii)(y)*coef[0][ii] #add the additional terms\n",
    "    k*=np.exp(-y*y/2) #normalizing weight for Hermite functions #form the isotropic kernel and insert the bandwidth dependency\n",
    "    return k"
   ]
  },
  {
   "cell_type": "code",
   "execution_count": 26,
   "metadata": {},
   "outputs": [],
   "source": [
    "# hardcoded: define hermite kernel for r = 2 (corresponds to r = 3 in the original case)\n",
    "def hardcode_hermite_kernel_weight_2(y, r = 2):\n",
    "    '''\n",
    "    r = number of terms in our kernel\n",
    "    '''\n",
    "    coef = np.array((hardcode_hermite_kernel(r = r)))\n",
    "    # print(coef)\n",
    "    poly = sp.special.hermite(0)\n",
    "    # print(poly)\n",
    "    k = sp.special.hermite(0)(y)*coef[0][0] #initialize a vector of kernel values\n",
    "    # print(k)\n",
    "    for ii in range(0,r):\n",
    "        k += sp.special.hermite(2*ii)(y)*coef[0][ii] #add the additional terms\n",
    "    k*=np.exp(-y*y/2) #normalizing weight for Hermite functions #form the isotropic kernel and insert the bandwidth dependency\n",
    "    return k"
   ]
  },
  {
   "cell_type": "code",
   "execution_count": 27,
   "metadata": {},
   "outputs": [
    {
     "name": "stdout",
     "output_type": "stream",
     "text": [
      "y = [-1.   -0.25  0.5   1.25  2.  ]\n",
      "<class 'numpy.ndarray'>\n",
      "<class 'numpy.ndarray'>\n",
      "k = [0.342198280312217 0.546831294919853 0.497895559951388 0.258304813712196\n",
      " 0.0763547570885822]\n"
     ]
    }
   ],
   "source": [
    "# example hermite kernel\n",
    "y = np.linspace(-1,2,5)\n",
    "print('y =',y)\n",
    "print(type(y))\n",
    "k = hermite_kernel(y,r=1)\n",
    "print(type(k))\n",
    "print('k =',k)"
   ]
  },
  {
   "cell_type": "code",
   "execution_count": 28,
   "metadata": {},
   "outputs": [
    {
     "name": "stdout",
     "output_type": "stream",
     "text": [
      "y = [-1.   -0.25  0.5   1.25  2.  ]\n",
      "<class 'numpy.ndarray'>\n",
      "<class 'numpy.ndarray'>\n",
      "k = [0.342198280312217 0.546831294919853 0.497895559951388 0.258304813712196\n",
      " 0.0763547570885822]\n"
     ]
    }
   ],
   "source": [
    "# example hardcoded hermite kernel\n",
    "y = np.linspace(-1,2,5)\n",
    "print('y =',y)\n",
    "print(type(y))\n",
    "k = hardcode_hermite_kernel_weight(y,r=0) # r=0 for hardcoded kernel corresponds to r=1 for original kernel\n",
    "print(type(k))\n",
    "print('k =',k)"
   ]
  },
  {
   "cell_type": "markdown",
   "metadata": {},
   "source": [
    "### Timing different versions of hermite kernel function"
   ]
  },
  {
   "cell_type": "code",
   "execution_count": 29,
   "metadata": {},
   "outputs": [],
   "source": [
    "import time"
   ]
  },
  {
   "cell_type": "code",
   "execution_count": 30,
   "metadata": {},
   "outputs": [
    {
     "name": "stdout",
     "output_type": "stream",
     "text": [
      "k = [0.342198280312217 0.546831294919853 0.497895559951388 0.258304813712196\n",
      " 0.0763547570885822]\n",
      " Real time: 0.03 seconds\n",
      " CPU time: 0.00 seconds\n"
     ]
    }
   ],
   "source": [
    "# original hermite function\n",
    "t1 = time.perf_counter(), time.process_time()\n",
    "k = hermite_kernel(y,r=1)\n",
    "print('k =',k)\n",
    "t2 = time.perf_counter(), time.process_time()\n",
    "print(f\" Real time: {t2[0] - t1[0]:.2f} seconds\")\n",
    "print(f\" CPU time: {t2[1] - t1[1]:.2f} seconds\")"
   ]
  },
  {
   "cell_type": "code",
   "execution_count": 31,
   "metadata": {},
   "outputs": [
    {
     "name": "stdout",
     "output_type": "stream",
     "text": [
      "k = [0.342198280312217 0.546831294919853 0.497895559951388 0.258304813712196\n",
      " 0.0763547570885822]\n",
      " Real time: 0.00 seconds\n",
      " CPU time: 0.00 seconds\n"
     ]
    }
   ],
   "source": [
    "# hardcoded hermite function--seems to be faster than original, but how come graphing still takes so long?\n",
    "t1 = time.perf_counter(), time.process_time()\n",
    "k = hardcode_hermite_kernel_weight(y,r=0)\n",
    "print('k =',k)\n",
    "t2 = time.perf_counter(), time.process_time()\n",
    "print(f\" Real time: {t2[0] - t1[0]:.2f} seconds\")\n",
    "print(f\" CPU time: {t2[1] - t1[1]:.2f} seconds\")"
   ]
  },
  {
   "cell_type": "code",
   "execution_count": null,
   "metadata": {},
   "outputs": [],
   "source": [
    "import pprofile"
   ]
  },
  {
   "cell_type": "code",
   "execution_count": null,
   "metadata": {},
   "outputs": [],
   "source": [
    "# original hermite kernel function: Total duration: 0.526621s\n",
    "# sy_hermite_kernel and sympy integration are taking the longest (look at output starting in line 113100)\n",
    "profiler = pprofile.Profile()\n",
    "with profiler:\n",
    "    coef = np.array(sy.N(sy_hermite_kernel(r = 1, only_coef = True)))\n",
    "    # print(coef)\n",
    "    poly = sp.special.hermite(0)\n",
    "    # print(poly)\n",
    "    k = sp.special.hermite(0)(y)*coef[0] #initialize a vector of kernel values\n",
    "    # print(k)\n",
    "    for ii in range(1,1):\n",
    "        k += sp.special.hermite(2*ii)(y)*coef[ii] #add the additional terms\n",
    "    k*=np.exp(-y*y/2)\n",
    "    print(k)\n",
    "# profiler.dump_stats(\"profiler_stats.txt\")\n",
    "profiler.print_stats()"
   ]
  },
  {
   "cell_type": "code",
   "execution_count": null,
   "metadata": {},
   "outputs": [],
   "source": [
    "# hardcoded hermite kernel function: Total duration: 0.0159254s (nothing really takes that long)\n",
    "profiler = pprofile.Profile()\n",
    "with profiler:\n",
    "    coef = np.array((hardcode_hermite_kernel(r = 0)))\n",
    "    # print(coef)\n",
    "    poly = sp.special.hermite(0)\n",
    "    # print(poly)\n",
    "    k = sp.special.hermite(0)(y)*coef[0][0] #initialize a vector of kernel values\n",
    "    # print(k)\n",
    "    for ii in range(0,0):\n",
    "        k += sp.special.hermite(2*ii)(y)*coef[0][ii] #add the additional terms\n",
    "    k*=np.exp(-y*y/2) #normalizing weight for Hermite functions #form the isotropic kernel and insert the bandwidth dependency\n",
    "    print(k)\n",
    "# profiler.dump_stats(\"profiler_stats.txt\")\n",
    "profiler.print_stats()"
   ]
  },
  {
   "cell_type": "code",
   "execution_count": null,
   "metadata": {},
   "outputs": [],
   "source": [
    "# original hermite graphs: \n",
    "profiler = pprofile.Profile()\n",
    "with profiler:\n",
    "    # original: dim = 1, r = 1\n",
    "    ## hermite kernel takes much longer--why?\n",
    "    bandwidth = [0.05, 0.1, 0.2]\n",
    "    spaces = (-4, 8, 500)\n",
    "    generate_sobol_iid_graph(bandwidth, spaces, kde, hermite_kernel, yiid1, ysob1)\n",
    "# profiler.dump_stats(\"profiler_stats.txt\")\n",
    "profiler.print_stats()"
   ]
  },
  {
   "cell_type": "code",
   "execution_count": null,
   "metadata": {},
   "outputs": [],
   "source": [
    "# hardcoded hermite graphs:\n",
    "profiler = pprofile.Profile()\n",
    "with profiler:\n",
    "    bandwidth = [0.05, 0.1, 0.2]\n",
    "    spaces = (-4, 8, 500)\n",
    "    generate_sobol_iid_graph(bandwidth, spaces, kde, hardcode_hermite_kernel_weight, yiid1, ysob1)\n",
    "# profiler.dump_stats(\"profiler_stats.txt\")\n",
    "profiler.print_stats()"
   ]
  }
 ],
 "metadata": {
  "kernelspec": {
   "display_name": "qmcpy",
   "language": "python",
   "name": "python3"
  },
  "language_info": {
   "codemirror_mode": {
    "name": "ipython",
    "version": 3
   },
   "file_extension": ".py",
   "mimetype": "text/x-python",
   "name": "python",
   "nbconvert_exporter": "python",
   "pygments_lexer": "ipython3",
   "version": "3.9.13"
  }
 },
 "nbformat": 4,
 "nbformat_minor": 2
}
