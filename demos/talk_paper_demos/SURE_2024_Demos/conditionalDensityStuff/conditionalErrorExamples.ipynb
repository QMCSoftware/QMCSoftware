{
 "cells": [
  {
   "cell_type": "code",
   "execution_count": 87,
   "metadata": {},
   "outputs": [],
   "source": [
    "import matplotlib.pyplot as plt\n",
    "import math\n",
    "import numpy as np\n",
    "import scipy as sp\n",
    "import qmcpy as qp\n",
    "from scipy import stats\n",
    "import sympy as sy\n",
    "import sympy.stats\n",
    "from scipy.stats import norm"
   ]
  },
  {
   "cell_type": "code",
   "execution_count": 96,
   "metadata": {},
   "outputs": [],
   "source": [
    "def theFunc(u):\n",
    "    return 8*u[0]*u[1]*u[2]\n",
    "\n",
    "def truePDF(y):\n",
    "    output = [0] * len(y)\n",
    "    for j in range(len(y)):\n",
    "        if y[j] > 8 or y[j] < 0:\n",
    "            output[j] = 0\n",
    "        else:\n",
    "            output[j] = (1/16) * (np.log(y[j] / 8))**2\n",
    "    return output\n",
    "\n",
    "def conditionalDensity1(y, x2, x3):\n",
    "    test = y / (x2*x3)\n",
    "    for j in range(len(test)):\n",
    "        if test[j] > 1 or test[j] < 0:\n",
    "            test[j]=0\n",
    "    return test / y\n",
    "\n",
    "def conditionalDensity2(y, x1, x3):\n",
    "    test = y / (x1*x3)\n",
    "    for j in range(len(test)):\n",
    "        if test[j] > 2 or test[j] < 0:\n",
    "            test[j] = 0\n",
    "    return test / (2*y)\n",
    "\n",
    "def conditionalDensity3(y, x1, x2):\n",
    "    test = y / (x1*x2)\n",
    "    for j in range(len(test)):\n",
    "        if test[j] > 4 or test[j] < 0:\n",
    "            test[j] = 0\n",
    "    return test / (4*y)\n",
    "\n",
    "def inverseCDF1(y):\n",
    "    return y\n",
    "\n",
    "def inverseCDF2(y):\n",
    "    return 2*y\n",
    "\n",
    "def inverseCDF3(y):\n",
    "    return 4*y\n",
    "\n",
    "def kernelDensityEstimator(y, pointSet, bandwidth): \n",
    "    n = len(pointSet)\n",
    "    def gaussianKernel(z):\n",
    "         return np.exp(-z**2) / math.sqrt(math.pi)\n",
    "    sum = 0\n",
    "    for i in range(n):\n",
    "        sum += (1 / (n*bandwidth)) * gaussianKernel((y - theFunc(pointSet[i])) / bandwidth)\n",
    "    return sum\n",
    "\n",
    "def conditionalEstimator(y, condDensity, realizations1, realizations2):\n",
    "    if len(realizations1) != len(realizations2):\n",
    "        raise Exception(\"realizations are of different size\")\n",
    "    else:\n",
    "        output = 0\n",
    "        n = len(realizations1)\n",
    "        for j in range(n):\n",
    "            output += condDensity(y, realizations1[j], realizations2[j]) / n\n",
    "        return output\n",
    "    \n"
   ]
  },
  {
   "cell_type": "code",
   "execution_count": 94,
   "metadata": {},
   "outputs": [],
   "source": [
    "start, end = 0.01, 8\n",
    "nError = 100\n",
    "\n",
    "\n",
    "def getErrorofThreeVariables(pointSetType, n, method, bandwidth):\n",
    "    errorPoints = np.linspace(start, end, nError)\n",
    "\n",
    "    if n <= 0:\n",
    "        raise Exception(\"n must be a positive integer\")\n",
    "    \n",
    "    if pointSetType == \"MC\":\n",
    "        pointSet = qp.IIDStdUniform(3).gen_samples(n)\n",
    "    elif pointSetType == \"Sobol\":\n",
    "        pointSet = qp.Sobol(3).gen_samples(n)\n",
    "    else:\n",
    "        raise Exception(\"Currently supported pointSetTypes are MC and Sobol\")\n",
    "    \n",
    "    if method == \"KDE\":\n",
    "        evaluatedPoints = kernelDensityEstimator(errorPoints, pointSet, bandwidth)\n",
    "    elif method == \"hiding1\" or method == \"hiding2\" or method == \"hiding3\":\n",
    "        realizations1 = inverseCDF1(pointSet[:, 0])\n",
    "        realizations2 = inverseCDF2(pointSet[:, 1])\n",
    "        realizations3 = inverseCDF3(pointSet[:, 2])\n",
    "        if method == \"hiding1\":\n",
    "            evaluatedPoints = conditionalEstimator(errorPoints, conditionalDensity1, realizations2, realizations3)\n",
    "        if method == \"hiding2\":\n",
    "            evaluatedPoints = conditionalEstimator(errorPoints, conditionalDensity2, realizations1, realizations3)\n",
    "        if method == \"hiding3\":\n",
    "            evaluatedPoints = conditionalEstimator(errorPoints, conditionalDensity3, realizations1, realizations2)\n",
    "    else:\n",
    "        raise Exception(\"Valid methods are KDE or hiding#\")\n",
    "    \n",
    "    estimatedError = ((end - start) / nError) * np.sum((evaluatedPoints - truePDF(errorPoints))**2)\n",
    "    return estimatedError\n",
    "\n",
    "def averageErrorLog(pointSetType, n, method, averageAcross, bandwidth):\n",
    "    sum = 0\n",
    "    for i in range(averageAcross):\n",
    "        sum += (1 / averageAcross) * getErrorofThreeVariables(pointSetType, n, method, bandwidth)\n",
    "    return -np.log10(sum)"
   ]
  },
  {
   "cell_type": "code",
   "execution_count": 97,
   "metadata": {},
   "outputs": [
    {
     "data": {
      "image/png": "[encoded data removed]",
      "text/plain": [
       "<Figure size 640x480 with 1 Axes>"
      ]
     },
     "metadata": {},
     "output_type": "display_data"
    }
   ],
   "source": [
    "n = 2**16\n",
    "nEval = 100\n",
    "evalPoints = np.linspace(0.01, 8, nEval)\n",
    "fig, ax = plt.subplots()\n",
    "\n",
    "sobolPoints = qp.Sobol(3).gen_samples(n)\n",
    "realizations1 = inverseCDF1(sobolPoints[:, 0])\n",
    "realizations2 = inverseCDF2(sobolPoints[:, 1])\n",
    "realizations3 = inverseCDF3(sobolPoints[:, 2])\n",
    "\n",
    "truePoints = truePDF(evalPoints)\n",
    "\n",
    "hiding1Points = conditionalEstimator(evalPoints, conditionalDensity1, realizations2, realizations3)\n",
    "hiding2Points = conditionalEstimator(evalPoints, conditionalDensity2, realizations1, realizations3)\n",
    "hiding3Points = conditionalEstimator(evalPoints, conditionalDensity3, realizations1, realizations2)\n",
    "\n",
    "const = 0.0602758320635\n",
    "bandwidth = const * n**(-1/5)\n",
    "KDEPoints = kernelDensityEstimator(evalPoints, sobolPoints, bandwidth)\n",
    "\n",
    "\n",
    "ax.plot(evalPoints, hiding1Points, label = \"hiding 1\")\n",
    "ax.plot(evalPoints, hiding2Points, label = \"hiding 2\")\n",
    "ax.plot(evalPoints, hiding3Points, label = \"hiding 3\")\n",
    "ax.plot(evalPoints, KDEPoints, label = \"KDE\")\n",
    "ax.plot(evalPoints, truePoints, label = \"truePDF\")\n",
    "legend = ax.legend()"
   ]
  },
  {
   "cell_type": "code",
   "execution_count": 98,
   "metadata": {},
   "outputs": [
    {
     "name": "stdout",
     "output_type": "stream",
     "text": [
      "10 hiding1 2.89531575025803\n",
      "12 hiding1 3.8876161268064777\n",
      "14 hiding1 4.774803485960834\n",
      "16 hiding1 5.68766394058581\n",
      "10 hiding2 2.851589873389273\n",
      "12 hiding2 3.7312138641836325\n",
      "14 hiding2 4.654745832018776\n"
     ]
    },
    {
     "ename": "KeyboardInterrupt",
     "evalue": "",
     "output_type": "error",
     "traceback": [
      "\u001b[1;31m---------------------------------------------------------------------------\u001b[0m",
      "\u001b[1;31mKeyboardInterrupt\u001b[0m                         Traceback (most recent call last)",
      "Cell \u001b[1;32mIn[98], line 6\u001b[0m\n\u001b[0;32m      4\u001b[0m n \u001b[38;5;241m=\u001b[39m \u001b[38;5;241m2\u001b[39m\u001b[38;5;241m*\u001b[39m\u001b[38;5;241m*\u001b[39mexp\n\u001b[0;32m      5\u001b[0m bandwidth \u001b[38;5;241m=\u001b[39m const \u001b[38;5;241m*\u001b[39m n\u001b[38;5;241m*\u001b[39m\u001b[38;5;241m*\u001b[39m(\u001b[38;5;241m-\u001b[39m\u001b[38;5;241m1\u001b[39m\u001b[38;5;241m/\u001b[39m\u001b[38;5;241m5\u001b[39m)\n\u001b[1;32m----> 6\u001b[0m \u001b[38;5;28mprint\u001b[39m(exp, method, \u001b[43maverageErrorLog\u001b[49m\u001b[43m(\u001b[49m\u001b[38;5;124;43m\"\u001b[39;49m\u001b[38;5;124;43mSobol\u001b[39;49m\u001b[38;5;124;43m\"\u001b[39;49m\u001b[43m,\u001b[49m\u001b[43m \u001b[49m\u001b[43mn\u001b[49m\u001b[43m,\u001b[49m\u001b[43m \u001b[49m\u001b[43mmethod\u001b[49m\u001b[43m,\u001b[49m\u001b[43m \u001b[49m\u001b[38;5;241;43m10\u001b[39;49m\u001b[43m,\u001b[49m\u001b[43m \u001b[49m\u001b[43mbandwidth\u001b[49m\u001b[43m)\u001b[49m)\n",
      "Cell \u001b[1;32mIn[94], line 40\u001b[0m, in \u001b[0;36maverageErrorLog\u001b[1;34m(pointSetType, n, method, averageAcross, bandwidth)\u001b[0m\n\u001b[0;32m     38\u001b[0m \u001b[38;5;28msum\u001b[39m \u001b[38;5;241m=\u001b[39m \u001b[38;5;241m0\u001b[39m\n\u001b[0;32m     39\u001b[0m \u001b[38;5;28;01mfor\u001b[39;00m i \u001b[38;5;129;01min\u001b[39;00m \u001b[38;5;28mrange\u001b[39m(averageAcross):\n\u001b[1;32m---> 40\u001b[0m     \u001b[38;5;28msum\u001b[39m \u001b[38;5;241m+\u001b[39m\u001b[38;5;241m=\u001b[39m (\u001b[38;5;241m1\u001b[39m \u001b[38;5;241m/\u001b[39m averageAcross) \u001b[38;5;241m*\u001b[39m \u001b[43mgetErrorofThreeVariables\u001b[49m\u001b[43m(\u001b[49m\u001b[43mpointSetType\u001b[49m\u001b[43m,\u001b[49m\u001b[43m \u001b[49m\u001b[43mn\u001b[49m\u001b[43m,\u001b[49m\u001b[43m \u001b[49m\u001b[43mmethod\u001b[49m\u001b[43m,\u001b[49m\u001b[43m \u001b[49m\u001b[43mbandwidth\u001b[49m\u001b[43m)\u001b[49m\n\u001b[0;32m     41\u001b[0m \u001b[38;5;28;01mreturn\u001b[39;00m \u001b[38;5;241m-\u001b[39mnp\u001b[38;5;241m.\u001b[39mlog10(\u001b[38;5;28msum\u001b[39m)\n",
      "Cell \u001b[1;32mIn[94], line 28\u001b[0m, in \u001b[0;36mgetErrorofThreeVariables\u001b[1;34m(pointSetType, n, method, bandwidth)\u001b[0m\n\u001b[0;32m     26\u001b[0m     evaluatedPoints \u001b[38;5;241m=\u001b[39m conditionalEstimator(errorPoints, conditionalDensity1, realizations2, realizations3)\n\u001b[0;32m     27\u001b[0m \u001b[38;5;28;01mif\u001b[39;00m method \u001b[38;5;241m==\u001b[39m \u001b[38;5;124m\"\u001b[39m\u001b[38;5;124mhiding2\u001b[39m\u001b[38;5;124m\"\u001b[39m:\n\u001b[1;32m---> 28\u001b[0m     evaluatedPoints \u001b[38;5;241m=\u001b[39m \u001b[43mconditionalEstimator\u001b[49m\u001b[43m(\u001b[49m\u001b[43merrorPoints\u001b[49m\u001b[43m,\u001b[49m\u001b[43m \u001b[49m\u001b[43mconditionalDensity2\u001b[49m\u001b[43m,\u001b[49m\u001b[43m \u001b[49m\u001b[43mrealizations1\u001b[49m\u001b[43m,\u001b[49m\u001b[43m \u001b[49m\u001b[43mrealizations3\u001b[49m\u001b[43m)\u001b[49m\n\u001b[0;32m     29\u001b[0m \u001b[38;5;28;01mif\u001b[39;00m method \u001b[38;5;241m==\u001b[39m \u001b[38;5;124m\"\u001b[39m\u001b[38;5;124mhiding3\u001b[39m\u001b[38;5;124m\"\u001b[39m:\n\u001b[0;32m     30\u001b[0m     evaluatedPoints \u001b[38;5;241m=\u001b[39m conditionalEstimator(errorPoints, conditionalDensity3, realizations1, realizations2)\n",
      "Cell \u001b[1;32mIn[96], line 59\u001b[0m, in \u001b[0;36mconditionalEstimator\u001b[1;34m(y, condDensity, realizations1, realizations2)\u001b[0m\n\u001b[0;32m     57\u001b[0m n \u001b[38;5;241m=\u001b[39m \u001b[38;5;28mlen\u001b[39m(realizations1)\n\u001b[0;32m     58\u001b[0m \u001b[38;5;28;01mfor\u001b[39;00m j \u001b[38;5;129;01min\u001b[39;00m \u001b[38;5;28mrange\u001b[39m(n):\n\u001b[1;32m---> 59\u001b[0m     output \u001b[38;5;241m+\u001b[39m\u001b[38;5;241m=\u001b[39m \u001b[43mcondDensity\u001b[49m\u001b[43m(\u001b[49m\u001b[43my\u001b[49m\u001b[43m,\u001b[49m\u001b[43m \u001b[49m\u001b[43mrealizations1\u001b[49m\u001b[43m[\u001b[49m\u001b[43mj\u001b[49m\u001b[43m]\u001b[49m\u001b[43m,\u001b[49m\u001b[43m \u001b[49m\u001b[43mrealizations2\u001b[49m\u001b[43m[\u001b[49m\u001b[43mj\u001b[49m\u001b[43m]\u001b[49m\u001b[43m)\u001b[49m \u001b[38;5;241m/\u001b[39m n\n\u001b[0;32m     60\u001b[0m \u001b[38;5;28;01mreturn\u001b[39;00m output\n",
      "Cell \u001b[1;32mIn[96], line 24\u001b[0m, in \u001b[0;36mconditionalDensity2\u001b[1;34m(y, x1, x3)\u001b[0m\n\u001b[0;32m     22\u001b[0m \u001b[38;5;28;01mfor\u001b[39;00m j \u001b[38;5;129;01min\u001b[39;00m \u001b[38;5;28mrange\u001b[39m(\u001b[38;5;28mlen\u001b[39m(test)):\n\u001b[0;32m     23\u001b[0m     \u001b[38;5;28;01mif\u001b[39;00m test[j] \u001b[38;5;241m>\u001b[39m \u001b[38;5;241m2\u001b[39m \u001b[38;5;129;01mor\u001b[39;00m test[j] \u001b[38;5;241m<\u001b[39m \u001b[38;5;241m0\u001b[39m:\n\u001b[1;32m---> 24\u001b[0m         test[j] \u001b[38;5;241m=\u001b[39m \u001b[38;5;241m0\u001b[39m\n\u001b[0;32m     25\u001b[0m \u001b[38;5;28;01mreturn\u001b[39;00m test \u001b[38;5;241m/\u001b[39m (\u001b[38;5;241m2\u001b[39m\u001b[38;5;241m*\u001b[39my)\n",
      "\u001b[1;31mKeyboardInterrupt\u001b[0m: "
     ]
    }
   ],
   "source": [
    "const = 0.0602758320635\n",
    "for method in [\"hiding1\", \"hiding2\", \"hiding3\", \"KDE\"]:\n",
    "    for exp in range(10, 17, 2):\n",
    "        n = 2**exp\n",
    "        bandwidth = const * n**(-1/5)\n",
    "        print(exp, method, averageErrorLog(\"Sobol\", n, method, 10, bandwidth))"
   ]
  }
 ],
 "metadata": {
  "kernelspec": {
   "display_name": "base",
   "language": "python",
   "name": "python3"
  },
  "language_info": {
   "codemirror_mode": {
    "name": "ipython",
    "version": 3
   },
   "file_extension": ".py",
   "mimetype": "text/x-python",
   "name": "python",
   "nbconvert_exporter": "python",
   "pygments_lexer": "ipython3",
   "version": "3.12.3"
  }
 },
 "nbformat": 4,
 "nbformat_minor": 2
}
