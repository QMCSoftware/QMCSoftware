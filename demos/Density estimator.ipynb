{
 "cells": [
  {
   "cell_type": "code",
   "execution_count": 8,
   "id": "d4183e32",
   "metadata": {},
   "outputs": [],
   "source": [
    "from qmcpy import *\n",
    "import numpy as np\n",
    "from pandas import *\n",
    "import scipy as sc\n",
    "from sympy import *"
   ]
  },
  {
   "cell_type": "code",
   "execution_count": 9,
   "id": "e41a77dd",
   "metadata": {},
   "outputs": [],
   "source": [
    "class Estimator:\n",
    "    def __init__(self, sigma=1, mean=0, n=256, h=0.0001,a=0,b=10,m=100):\n",
    "        self.sampler=Sobol(1).gen_samples(n)\n",
    "        self.sigma=sigma\n",
    "        self.mean=mean\n",
    "        self.n=n\n",
    "        self.h=h\n",
    "        self.m=int(m)\n",
    "        self.k=np.random.normal(self.mean, self.sigma, self.m)\n",
    "        self.intervals=(b-a)/self.m\n",
    "        self.a=a\n",
    "        self.b=b\n",
    "        #self.observations=np.random.uniform(self.a,self.b,3*self.m)\n",
    "        self.observations=np.random.normal(0, 1, 3*self.m)\n",
    "        #simulation of observations, other distributions (Gaussian, Bernoulli..) could be applied\n",
    "        \n",
    "    def density_estimation(self):\n",
    "        f=zeros(self.m,1)\n",
    "        for i in range (self.m):\n",
    "            for p in range (self.n):\n",
    "                #f[i]+=(1/self.n)*(1/self.h)*self.k[i]*((self.intervals*i-self.sampler[p])/self.h)\n",
    "                #we take the intervals as observations the resulting vector f is the estimation of the distribution\n",
    "                f[i]+=(1/self.n)*(1/self.h)*self.k[i]*((self.observations[3*i]-self.sampler[p])/self.h)\n",
    "        return f        \n",
    "    def _h(self,es):\n",
    "        mu0,error0=sc.integrate.quad(self.mu0,-inf,inf)\n",
    "        mu2,error2=sc.integrate.quad(self.mu2,-inf,inf)\n",
    "        #f=self.density_estimation()\n",
    "        f2=np.diff(es,2)\n",
    "        r,error=sc.integrate.quad(f2,self.a,self.b)\n",
    "        h_opt=mu0/((mu2**2)*r*self.n)\n",
    "        return h_opt\n",
    "        \n",
    "    def mu0(self,k):\n",
    "        return k**2\n",
    "        \n",
    "    def mu2(self,k):\n",
    "        return k**3\n",
    "           \n",
    "    def mise(self):\n",
    "        #c=sc.integrate.quad(self.mu0,-inf,inf)\n",
    "        #mu2,error2=sc.integrate.quad(self.mu2,-inf,inf)\n",
    "        c=np.inf\n",
    "        mu2=np.inf\n",
    "        est=self.density_estimation()\n",
    "        f2=np.diff(est,2)\n",
    "        x = np.linspace(0, self.m, self.m)\n",
    "        idx=np.where((x >= self.a) & (x <= self.b))\n",
    "        x_lim = x[idx]\n",
    "        y_lim = np.transpose(f2[idx])\n",
    "        y_lim.ravel()\n",
    "        r=np.trapz(y_lim, x_lim)\n",
    "        #find a different method to integrate\n",
    "        b=mu2*r/4\n",
    "        mise=c/(self.h*self.n)+b*self.h**4\n",
    "        return mise"
   ]
  },
  {
   "cell_type": "code",
   "execution_count": 12,
   "id": "941f5388",
   "metadata": {},
   "outputs": [],
   "source": [
    "est=Estimator(h=0.01,m=100)\n",
    "f=est.density_estimation()\n",
    "mise=est.mise()\n",
    "mean=np.mean(f)\n",
    "print(mise)\n",
    "print(f)\n",
    "print(mean)"
   ]
  },
  {
   "cell_type": "code",
   "execution_count": null,
   "id": "6c35e285",
   "metadata": {},
   "outputs": [],
   "source": []
  }
 ],
 "metadata": {
  "kernelspec": {
   "display_name": "Python 3 (ipykernel)",
   "language": "python",
   "name": "python3"
  },
  "language_info": {
   "codemirror_mode": {
    "name": "ipython",
    "version": 3
   },
   "file_extension": ".py",
   "mimetype": "text/x-python",
   "name": "python",
   "nbconvert_exporter": "python",
   "pygments_lexer": "ipython3",
   "version": "3.11.3"
  }
 },
 "nbformat": 4,
 "nbformat_minor": 5
}
