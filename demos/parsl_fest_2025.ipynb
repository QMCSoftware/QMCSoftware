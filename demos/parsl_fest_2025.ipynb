{
 "cells": [
  {
   "cell_type": "markdown",
   "id": "84e0c193",
   "metadata": {},
   "source": [
    "\n",
    "# Parsl Fest 2025: Parallel Notebook Testing in QMCPy with Parsl\n",
    "\n",
    "\n",
    "Joshua Herman and Sou-Cheng Choi, QMCPy Developers\n",
    "\n",
    "Aug 28 -- 29, 2025"
   ]
  },
  {
   "cell_type": "markdown",
   "id": "30944157",
   "metadata": {},
   "source": [
    "**Requirements**:\n",
    "\n",
    "* QMCPy: `pip install qmcpy==1.6.1.2`\n",
    "* LaTeX: `sudo apt update && sudo apt install -y texlive-full`\n",
    "* testbook : `pip install testbook==0.4.2`\n",
    "* Parsl: `pip install parsl==2025.7.28`"
   ]
  },
  {
   "cell_type": "code",
   "execution_count": 1,
   "id": "95bc5ed3",
   "metadata": {},
   "outputs": [],
   "source": [
    "import qmcpy\n",
    "import sys\n",
    "import os\n",
    "import time"
   ]
  },
  {
   "cell_type": "code",
   "execution_count": 2,
   "id": "66742e0b",
   "metadata": {},
   "outputs": [
    {
     "name": "stdout",
     "output_type": "stream",
     "text": [
      "\n",
      "Notebook tests\n",
      "cd test/booktests/ && \\\n",
      "PYTHONWARNINGS=\"ignore::UserWarning,ignore::DeprecationWarning,ignore::FutureWarning,ignore::ImportWarning\" \\\n",
      "python -W ignore -m coverage run --append --source=../../qmcpy/ -m unittest discover -s . -p \"*.py\" -v 1>/dev/null && \\\n",
      "rm -fr *.eps *.jpg *.pdf *.part && \\\n",
      "cd ../..\n",
      "test_argonne_talk_2023_figures_notebook (tb_Argonne_2023_Talk_Figures.NotebookTests) ... skipped 'Runtime error'\n",
      "test_mcqmc2022_article_figures_notebook (tb_MCQMC2022_Article_Figures.NotebookTests) ... skipped 'Runtime error'\n",
      "test_mc_vs_qmc_notebook (tb_MC_vs_QMC.NotebookTests) ... ok\n",
      "test_pricing_asian_options_notebook (tb_PricingAsianOptions.NotebookTests) ... ok\n",
      "test_purdue_talk_figures_notebook (tb_Purdue_Talk_Figures.NotebookTests) ... skipped 'Runtime error'\n",
      "test_asian_option_mlqmc_notebook (tb_asian_option_mlqmc.NotebookTests) ... ok\n",
      "test_control_variates_notebook (tb_control_variates.NotebookTests) ... ok\n",
      "test_dakota_genz_notebook (tb_dakota_genz.NotebookTests) ... ok\n",
      "test_digital_net_b2_notebook (tb_digital_net_b2.NotebookTests) ... ok\n",
      "test_elliptic_pde_notebook (tb_elliptic_pde.NotebookTests) ... ok\n",
      "test_gaussian_diagnostics_demo_notebook (tb_gaussian_diagnostics_demo.NotebookTests) ... skipped 'Run time error'\n",
      "test_importance_sampling_notebook (tb_importance_sampling.NotebookTests) ... ok\n",
      "test_integration_examples_notebook (tb_integration_examples.NotebookTests) ... ok\n",
      "test_iris_notebook (tb_iris.NotebookTests) ... ok\n",
      "test_lattice_random_generator_notebook (tb_lattice_random_generator.NotebookTests) ... skipped 'Assertion error with prime numbers'\n",
      "test_ld_randomizations_and_higher_order_nets_notebook (tb_ld_randomizations_and_higher_order_nets.NotebookTests) ... ok\n",
      "test_lebesgue_integration_notebook (tb_lebesgue_integration.NotebookTests) ... ok\n",
      "test_linear_scrambled_halton_notebook (tb_linear_scrambled_halton.NotebookTests) ... ok\n",
      "test_nei_demo_notebook (tb_nei_demo.NotebookTests) ... ok\n",
      "test_plot_proj_function_notebook (tb_plot_proj_function.NotebookTests) ... ok\n",
      "test_prob_failure_gp_ci_notebook (tb_prob_failure_gp_ci.NotebookTests) ... skipped 'Requires external server'\n",
      "test_pydata_chi_2023_notebook (tb_pydata_chi_2023.NotebookTests) ... skipped 'Runtime error'\n",
      "test_qei_demo_blog_notebook (tb_qei_demo_for_blog.NotebookTests) ... ok\n",
      "test_qmcpy_intro_notebook (tb_qmcpy_intro.NotebookTests) ... ok\n",
      "test_quasirandom_generators_notebook (tb_quasirandom_generators.NotebookTests) ... ok\n",
      "test_quickstart_notebook (tb_quickstart.NotebookTests) ... ok\n",
      "test_ray_tracing_notebook (tb_ray_tracing.NotebookTests) ... ok\n",
      "test_sample_scatter_plots_notebook (tb_sample_scatter_plots.NotebookTests) ... ok\n",
      "test_saving_qmc_state_notebook (tb_saving_qmc_state.NotebookTests) ... ok\n",
      "test_some_true_measures_notebook (tb_some_true_measures.NotebookTests) ... skipped 'Runtime error'\n",
      "test_umbridge_notebook (tb_umbridge.NotebookTests) ... skipped 'Requires external server'\n",
      "test_vectorized_qmc_notebook (tb_vectorized_qmc.NotebookTests) ... skipped 'Runtime error'\n",
      "test_vectorized_qmc_bayes_notebook (tb_vectorized_qmc_bayes.NotebookTests) ... ok\n",
      "\n",
      "----------------------------------------------------------------------\n",
      "Ran 33 tests in 1686.005s\n",
      "\n",
      "OK (skipped=10)\n"
     ]
    }
   ],
   "source": [
    "start_time = time.time()\n",
    "!(cd .. && make booktests)\n",
    "sequential_time = time.time() - start_time"
   ]
  },
  {
   "cell_type": "markdown",
   "id": "e8a6a69d",
   "metadata": {},
   "source": [
    "## 2. Parsl\n",
    "\n",
    "1. Install and Configure Parsl\n",
    "2. Run the tests in Parallel with Parsl"
   ]
  },
  {
   "cell_type": "markdown",
   "id": "e72771f3",
   "metadata": {},
   "source": [
    "### 2.1 Install and Configure Parsl"
   ]
  },
  {
   "cell_type": "code",
   "execution_count": 3,
   "id": "9d6331b0",
   "metadata": {},
   "outputs": [
    {
     "name": "stdout",
     "output_type": "stream",
     "text": [
      "Parsl already configured\n"
     ]
    }
   ],
   "source": [
    "import parsl as pl\n",
    "from parsl.configs.htex_local import config\n",
    "\n",
    "config.max_workers = 8  \n",
    "if not pl.config:\n",
    "    pl.load(config)\n",
    "    print(\"Parsl loaded with memory limits\")\n",
    "else:\n",
    "    print(\"Parsl already configured\")"
   ]
  },
  {
   "cell_type": "markdown",
   "id": "fff719f3",
   "metadata": {},
   "source": [
    "### 2.2 Create a Parsl Test Runner"
   ]
  },
  {
   "cell_type": "code",
   "execution_count": 4,
   "id": "e0e2d512",
   "metadata": {},
   "outputs": [],
   "source": [
    "# Ensure the path to the booktests directory is included\n",
    "sys.path.append(os.path.join(os.getcwd(), '..', 'test', 'booktests'))"
   ]
  },
  {
   "cell_type": "code",
   "execution_count": 5,
   "id": "ff1a2dff",
   "metadata": {},
   "outputs": [
    {
     "name": "stdout",
     "output_type": "stream",
     "text": [
      "Functions:\n",
      "- bash_app\n",
      "- execute_parallel_tests\n",
      "- generate_summary_report\n",
      "- main\n",
      "\n",
      "==================================================\n",
      "Help for execute_parallel_tests:\n",
      "Help on function execute_parallel_tests in module parsl_test_runner:\n",
      "\n",
      "execute_parallel_tests()\n",
      "    Execute all testbook tests in parallel using Parsl\n",
      "\n"
     ]
    }
   ],
   "source": [
    "import parsl_test_runner\n",
    "import inspect\n",
    "\n",
    "# See only functions\n",
    "print(\"Functions:\")\n",
    "functions = inspect.getmembers(parsl_test_runner, inspect.isfunction)\n",
    "for name, func in functions:\n",
    "    print(f\"- {name}\")\n",
    "\n",
    "print(\"\\n\" + \"=\"*50)\n",
    "\n",
    "# Get help on specific function\n",
    "print(\"Help for execute_parallel_tests:\")\n",
    "help(parsl_test_runner.execute_parallel_tests)"
   ]
  },
  {
   "cell_type": "markdown",
   "id": "ee868e9a",
   "metadata": {},
   "source": [
    "### 2.3 Run the Notebook in Parallel with Parsl"
   ]
  },
  {
   "cell_type": "code",
   "execution_count": 6,
   "id": "5be1d1d0",
   "metadata": {},
   "outputs": [
    {
     "name": "stdout",
     "output_type": "stream",
     "text": [
      "\n",
      "Booktests\n",
      "cd test/booktests/ && \\\n",
      "PYTHONWARNINGS=\"ignore::UserWarning,ignore::DeprecationWarning,ignore::FutureWarning,ignore::ImportWarning\" \\\n",
      "python parsl_test_runner.py  1>/dev/null && \\\n",
      "rm -fr *.eps *.jpg *.pdf *.part && rm -fr logs && rm -fr runinfo && \\\n",
      "cd ../.. \n"
     ]
    }
   ],
   "source": [
    "start_time2 = time.time()\n",
    "!(cd .. && make booktests-parallel)\n",
    "parallel_time = time.time() - start_time2"
   ]
  },
  {
   "cell_type": "code",
   "execution_count": 7,
   "id": "159a3e8f",
   "metadata": {},
   "outputs": [
    {
     "name": "stdout",
     "output_type": "stream",
     "text": [
      "Sequential time:  1689.76 seconds\n",
      "Parallel time:    781.21 seconds\n",
      "Speedup by Parsl: 2.16\n"
     ]
    }
   ],
   "source": [
    "speedup = sequential_time / parallel_time\n",
    "print(f\"Sequential time:  {sequential_time:.2f} seconds\")\n",
    "print(f\"Parallel time:    {parallel_time:.2f} seconds\")\n",
    "print(f\"Speedup by Parsl: {speedup:.2f}\")"
   ]
  },
  {
   "cell_type": "code",
   "execution_count": 8,
   "id": "9348cdd8",
   "metadata": {},
   "outputs": [
    {
     "name": "stdout",
     "output_type": "stream",
     "text": [
      "Linux codespaces-e74c2d 6.8.0-1030-azure #35~22.04.1-Ubuntu SMP Mon May 26 18:08:30 UTC 2025 x86_64 x86_64 x86_64 GNU/Linux\n",
      "16\n",
      "62.80 GB\n"
     ]
    }
   ],
   "source": [
    "!uname -a\n",
    "!nproc --all\n",
    "!awk '/MemTotal/ {printf \"%.2f GB\\n\", $2/1024/1024}' /proc/meminfo"
   ]
  }
 ],
 "metadata": {
  "kernelspec": {
   "display_name": "qmcpy",
   "language": "python",
   "name": "python3"
  },
  "language_info": {
   "codemirror_mode": {
    "name": "ipython",
    "version": 3
   },
   "file_extension": ".py",
   "mimetype": "text/x-python",
   "name": "python",
   "nbconvert_exporter": "python",
   "pygments_lexer": "ipython3",
   "version": "3.9.13"
  }
 },
 "nbformat": 4,
 "nbformat_minor": 5
}
