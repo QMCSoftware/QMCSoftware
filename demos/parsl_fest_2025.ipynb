{
 "cells": [
  {
   "cell_type": "markdown",
   "id": "84e0c193",
   "metadata": {},
   "source": [
    "\n",
    "# Parsl Fest 2025: Parallel Notebook Testing in QMCPy with Parsl\n",
    "\n",
    "\n",
    "Joshua Herman and Sou-Cheng Choi, QMCPy Developers\n",
    "\n",
    "Aug 28 -- 29, 2025"
   ]
  },
  {
   "cell_type": "code",
   "execution_count": 11,
   "id": "95bc5ed3",
   "metadata": {},
   "outputs": [
    {
     "data": {
      "text/plain": [
       "'/Users/terrya/Documents/ProgramData/QMCSoftware/demos'"
      ]
     },
     "execution_count": 11,
     "metadata": {},
     "output_type": "execute_result"
    }
   ],
   "source": [
    "import qmcpy as qp\n",
    "import sys\n",
    "import os\n",
    "\n",
    "os.getcwd()\n",
    "sys.path.append(os.path.join(os.getcwd(), '..', 'test', 'booktests'))\n"
   ]
  },
  {
   "cell_type": "code",
   "execution_count": 2,
   "id": "66742e0b",
   "metadata": {},
   "outputs": [
    {
     "name": "stdout",
     "output_type": "stream",
     "text": [
      "\n",
      "Booktests\n",
      "cd test/booktests/ && \\\n",
      "\tPYTHONWARNINGS=\"ignore::UserWarning,ignore::DeprecationWarning,ignore::FutureWarning,ignore::ImportWarning\" \\\n",
      "\tpython -m coverage run --append --source=. -m unittest discover -s . -p \"tb_*.py\" && \\\n",
      "\tsleep 5 && \\\n",
      "\trm -f *.eps *.jpg *.pdf *.part && \\\n",
      "\tcd ../..\n",
      "ssssss.ss.ss.sss.s..ss..s..s..sss\n",
      "----------------------------------------------------------------------\n",
      "Ran 33 tests in 149.909s\n",
      "\n",
      "OK (skipped=21)\n"
     ]
    }
   ],
   "source": [
    "!(cd .. && make booktests)"
   ]
  },
  {
   "cell_type": "markdown",
   "id": "cda365be",
   "metadata": {},
   "source": []
  },
  {
   "cell_type": "markdown",
   "id": "e8a6a69d",
   "metadata": {},
   "source": [
    "## 2. Parsl\n",
    "\n",
    "1. Install and Configure Parsl\n",
    "2. Run the Notebook in Parallel with Parsl"
   ]
  },
  {
   "cell_type": "markdown",
   "id": "e72771f3",
   "metadata": {},
   "source": [
    "### 2.1 Install and Configure Parsl"
   ]
  },
  {
   "cell_type": "code",
   "execution_count": 26,
   "id": "9d6331b0",
   "metadata": {},
   "outputs": [],
   "source": [
    "#!pip install parsl\n",
    "import parsl as pl\n",
    "from parsl.configs.htex_local import config\n",
    "\n",
    "if not pl.config:\n",
    "    pl.load(config)"
   ]
  },
  {
   "cell_type": "markdown",
   "id": "fff719f3",
   "metadata": {},
   "source": [
    "2.2 Create a Parsl Test Runner"
   ]
  },
  {
   "cell_type": "code",
   "execution_count": 27,
   "id": "b0c0387f",
   "metadata": {},
   "outputs": [
    {
     "ename": "AttributeError",
     "evalue": "module 'parsl_test_runner' has no attribute 'function_name'",
     "output_type": "error",
     "traceback": [
      "\u001b[0;31m---------------------------------------------------------------------------\u001b[0m",
      "\u001b[0;31mAttributeError\u001b[0m                            Traceback (most recent call last)",
      "Cell \u001b[0;32mIn[27], line 1\u001b[0m\n\u001b[0;32m----> 1\u001b[0m \u001b[43mparsl_test_runner\u001b[49m\u001b[38;5;241;43m.\u001b[39;49m\u001b[43mfunction_name\u001b[49m\u001b[38;5;241m.\u001b[39m\u001b[38;5;18m__doc__\u001b[39m\n",
      "\u001b[0;31mAttributeError\u001b[0m: module 'parsl_test_runner' has no attribute 'function_name'"
     ]
    }
   ],
   "source": [
    "parsl_test_runner.function_name.__doc__"
   ]
  },
  {
   "cell_type": "code",
   "execution_count": null,
   "id": "ff1a2dff",
   "metadata": {},
   "outputs": [
    {
     "name": "stdout",
     "output_type": "stream",
     "text": [
      "Available functions and attributes:\n",
      "['Path', 'bash_app', 'execute_parallel_tests', 'generate_summary_report', 'glob', 'main', 'os', 'parsl', 'run_single_test']\n",
      "\n",
      "==================================================\n",
      "Functions only:\n",
      "- bash_app\n",
      "- execute_parallel_tests\n",
      "- generate_summary_report\n",
      "- main\n",
      "\n",
      "==================================================\n",
      "Help for run_single_test:\n",
      "Help on BashApp in module parsl.app.bash object:\n",
      "\n",
      "run_single_test = class BashApp(parsl.app.app.AppBase)\n",
      " |  run_single_test(func, data_flow_kernel=None, cache=False, executors='all', ignore_for_cache=None)\n",
      " |  \n",
      " |  Method resolution order:\n",
      " |      BashApp\n",
      " |      parsl.app.app.AppBase\n",
      " |      builtins.object\n",
      " |  \n",
      " |  Methods defined here:\n",
      " |  \n",
      " |  __call__(self, *args, **kwargs)\n",
      " |      Handle the call to a Bash app.\n",
      " |      \n",
      " |      Args:\n",
      " |           - Arbitrary\n",
      " |      \n",
      " |      Kwargs:\n",
      " |           - Arbitrary\n",
      " |      \n",
      " |      Returns:\n",
      " |                 App_fut\n",
      " |  \n",
      " |  __init__(self, func, data_flow_kernel=None, cache=False, executors='all', ignore_for_cache=None)\n",
      " |      Construct the App object.\n",
      " |      \n",
      " |      Args:\n",
      " |           - func (function): Takes the function to be made into an App\n",
      " |      \n",
      " |      Kwargs:\n",
      " |           - data_flow_kernel (DataFlowKernel): The :class:`~parsl.dataflow.dflow.DataFlowKernel` responsible for\n",
      " |             managing this app. This can be omitted only\n",
      " |             after calling :meth:`parsl.dataflow.dflow.DataFlowKernelLoader.load`.\n",
      " |           - executors (str|list) : Labels of the executors that this app can execute over. Default is 'all'.\n",
      " |           - cache (Bool) : Enable caching of this app ?\n",
      " |           - ignore_for_cache (sequence|None): Names of arguments which will be ignored by the caching mechanism.\n",
      " |      \n",
      " |      Returns:\n",
      " |           - App object.\n",
      " |  \n",
      " |  ----------------------------------------------------------------------\n",
      " |  Data and other attributes defined here:\n",
      " |  \n",
      " |  __abstractmethods__ = frozenset()\n",
      " |  \n",
      " |  ----------------------------------------------------------------------\n",
      " |  Data descriptors inherited from parsl.app.app.AppBase:\n",
      " |  \n",
      " |  __dict__\n",
      " |      dictionary for instance variables (if defined)\n",
      " |  \n",
      " |  __weakref__\n",
      " |      list of weak references to the object (if defined)\n",
      "\n"
     ]
    }
   ],
   "source": [
    "import parsl_test_runner\n",
    "import inspect\n",
    "\n",
    "# Method 1: See all available functions and attributes\n",
    "print(\"Available functions and attributes:\")\n",
    "print([name for name in dir(parsl_test_runner) if not name.startswith('_')])\n",
    "\n",
    "print(\"\\n\" + \"=\"*50)\n",
    "\n",
    "# Method 2: See only functions\n",
    "print(\"Functions only:\")\n",
    "functions = inspect.getmembers(parsl_test_runner, inspect.isfunction)\n",
    "for name, func in functions:\n",
    "    print(f\"- {name}\")\n",
    "\n",
    "print(\"\\n\" + \"=\"*50)\n",
    "\n",
    "# Method 3: Get help on specific function\n",
    "print(\"Help for run_single_test:\")\n",
    "help(parsl_test_runner.run_single_test)"
   ]
  },
  {
   "cell_type": "code",
   "execution_count": null,
   "id": "bab4b3e3",
   "metadata": {},
   "outputs": [
    {
     "name": "stdout",
     "output_type": "stream",
     "text": [
      "Help on function main in module parsl_test_runner:\n",
      "\n",
      "main()\n",
      "    Main function to run parallel tests\n",
      "\n"
     ]
    }
   ],
   "source": [
    "help(parsl_test_runner.main)"
   ]
  },
  {
   "cell_type": "code",
   "execution_count": null,
   "id": "d30a6273",
   "metadata": {},
   "outputs": [
    {
     "name": "stdout",
     "output_type": "stream",
     "text": [
      "Help on function execute_parallel_tests in module parsl_test_runner:\n",
      "\n",
      "execute_parallel_tests()\n",
      "    Execute all testbook tests in parallel using Parsl\n",
      "\n"
     ]
    }
   ],
   "source": [
    "help(parsl_test_runner.execute_parallel_tests)"
   ]
  },
  {
   "cell_type": "markdown",
   "id": "0911d7a1",
   "metadata": {},
   "source": [
    "help(parsl_test_runner.generate_summary_report)"
   ]
  },
  {
   "cell_type": "markdown",
   "id": "ee868e9a",
   "metadata": {},
   "source": [
    "### 2.3 Run the Notebook in Parallel with Parsl"
   ]
  },
  {
   "cell_type": "code",
   "execution_count": 4,
   "id": "5be1d1d0",
   "metadata": {},
   "outputs": [
    {
     "name": "stdout",
     "output_type": "stream",
     "text": [
      "\n",
      "Booktests\n",
      "cd test/booktests/ && \\\n",
      "\tPYTHONWARNINGS=\"ignore::UserWarning,ignore::DeprecationWarning,ignore::FutureWarning,ignore::ImportWarning\" \\\n",
      "\tpython parsl_test_runner.py \n",
      "Parsl configuration loaded successfully.\n",
      "Found 33 test modules to execute in parallel...\n",
      "All tests submitted to Parsl executor...\n",
      "[1/33] tb_elliptic_pde: PASSED\n",
      "[2/33] tb_vectorized_qmc: PASSED\n",
      "[3/33] tb_plot_proj_function: PASSED\n",
      "[4/33] tb_saving_qmc_state: PASSED\n",
      "[5/33] tb_asian_option_mlqmc: PASSED\n",
      "[6/33] tb_Purdue_Talk_Figures: PASSED\n",
      "[7/33] tb_sample_scatter_plots: PASSED\n",
      "[8/33] tb_gaussian_diagnostics_demo: PASSED\n",
      "[9/33] tb_qmcpy_intro: PASSED\n",
      "[10/33] tb_qei_demo_for_blog: PASSED\n",
      "[11/33] tb_digital_net_b2: PASSED\n",
      "[12/33] tb_MC_vs_QMC: PASSED\n",
      "[13/33] tb_lebesgue_integration: PASSED\n",
      "[14/33] tb_integration_examples: PASSED\n",
      "[15/33] tb_importance_sampling: PASSED\n",
      "[16/33] tb_pydata_chi_2023: PASSED\n",
      "[17/33] tb_nei_demo: PASSED\n",
      "[18/33] tb_iris: PASSED\n",
      "[19/33] tb_quickstart: PASSED\n",
      "[20/33] tb_vectorized_qmc_bayes: PASSED\n",
      "[21/33] tb_ray_tracing: PASSED\n",
      "[22/33] tb_some_true_measures: PASSED\n",
      "[23/33] tb_Argonne_2023_Talk_Figures: PASSED\n",
      "[24/33] tb_linear_scrambled_halton: PASSED\n",
      "[25/33] tb_umbridge: PASSED\n",
      "[26/33] tb_lattice_random_generator: PASSED\n",
      "[27/33] tb_quasirandom_generators: PASSED\n",
      "[28/33] tb_control_variates: PASSED\n",
      "[29/33] tb_MCQMC2022_Article_Figures: PASSED\n",
      "[30/33] tb_dakota_genz: PASSED\n",
      "[31/33] tb_PricingAsianOptions: PASSED\n",
      "[32/33] tb_prob_failure_gp_ci: PASSED\n",
      "[33/33] tb_ld_randomizations_and_higher_order_nets: PASSED\n",
      "\n",
      "==================================================\n",
      "PARALLEL TEST EXECUTION SUMMARY\n",
      "==================================================\n",
      "Total tests: 33\n",
      "Passed: 33\n",
      "Failed: 0\n",
      "Success rate: 100.0%\n",
      "sleep 5 && \\\n",
      "\trm -f *.eps *.jpg *.pdf *.part && rm -fr logs && rm -fr runinfo \\\n",
      "\tcd ../..\n",
      "rm: \".\" and \"..\" may not be removed\n",
      "make: *** [booktests-parallel] Error 1\n"
     ]
    }
   ],
   "source": [
    "!(cd .. && make booktests-parallel)"
   ]
  }
 ],
 "metadata": {
  "kernelspec": {
   "display_name": "qmcpy",
   "language": "python",
   "name": "python3"
  },
  "language_info": {
   "codemirror_mode": {
    "name": "ipython",
    "version": 3
   },
   "file_extension": ".py",
   "mimetype": "text/x-python",
   "name": "python",
   "nbconvert_exporter": "python",
   "pygments_lexer": "ipython3",
   "version": "3.9.13"
  }
 },
 "nbformat": 4,
 "nbformat_minor": 5
}
