{
 "cells": [
  {
   "cell_type": "markdown",
   "id": "84e0c193",
   "metadata": {},
   "source": [
    "\n",
    "# Parsl Fest 2025: Parallel Notebook Testing in QMCPy with Parsl\n",
    "\n",
    "\n",
    "Joshua Herman and Sou-Cheng Choi, QMCPy Developers\n",
    "\n",
    "Aug 28 -- 29, 2025"
   ]
  },
  {
   "cell_type": "code",
   "execution_count": 1,
   "id": "95bc5ed3",
   "metadata": {},
   "outputs": [
    {
     "data": {
      "text/plain": [
       "'/Users/terrya/Documents/ProgramData/QMCSoftware/demos'"
      ]
     },
     "execution_count": 1,
     "metadata": {},
     "output_type": "execute_result"
    }
   ],
   "source": [
    "import qmcpy as qp\n",
    "import sys\n",
    "import os\n",
    "\n",
    "os.getcwd()\n",
    "sys.path.append(os.path.join(os.getcwd(), '..', 'test', 'booktests'))\n"
   ]
  },
  {
   "cell_type": "code",
   "execution_count": null,
   "id": "66742e0b",
   "metadata": {},
   "outputs": [
    {
     "name": "stdout",
     "output_type": "stream",
     "text": [
      "\n",
      "Booktests\n",
      "cd test/booktests/ && \\\n",
      "\tPYTHONWARNINGS=\"ignore::UserWarning,ignore::DeprecationWarning,ignore::FutureWarning,ignore::ImportWarning\" \\\n",
      "\tpython -m coverage run --append --source=. -m unittest discover -s . -p \"tb_*.py\" && \\\n",
      "\tsleep 5 && \\\n",
      "\trm -f *.eps *.jpg *.pdf *.part && \\\n",
      "\tcd ../..\n",
      "ssssssssssss.ss.ss"
     ]
    }
   ],
   "source": [
    "!(cd .. && make booktests)"
   ]
  },
  {
   "cell_type": "markdown",
   "id": "cda365be",
   "metadata": {},
   "source": []
  },
  {
   "cell_type": "markdown",
   "id": "e8a6a69d",
   "metadata": {},
   "source": [
    "## 2. Parsl\n",
    "\n",
    "1. Install and Configure Parsl\n",
    "2. Run the Notebook in Parallel with Parsl"
   ]
  },
  {
   "cell_type": "markdown",
   "id": "e72771f3",
   "metadata": {},
   "source": [
    "### 2.1 Install and Configure Parsl"
   ]
  },
  {
   "cell_type": "code",
   "execution_count": null,
   "id": "9d6331b0",
   "metadata": {},
   "outputs": [],
   "source": [
    "#!pip install parsl\n",
    "import parsl as pl\n",
    "from parsl.configs.htex_local import config\n",
    "\n",
    "if not pl.config:\n",
    "    pl.load(config)"
   ]
  },
  {
   "cell_type": "markdown",
   "id": "fff719f3",
   "metadata": {},
   "source": [
    "2.2 Create a Parsl Test Runner"
   ]
  },
  {
   "cell_type": "code",
   "execution_count": null,
   "id": "ff1a2dff",
   "metadata": {},
   "outputs": [],
   "source": [
    "import parsl_test_runner\n",
    "import inspect\n",
    "\n",
    "# See only functions\n",
    "print(\"Functions:\")\n",
    "functions = inspect.getmembers(parsl_test_runner, inspect.isfunction)\n",
    "for name, func in functions:\n",
    "    print(f\"- {name}\")\n",
    "\n",
    "print(\"\\n\" + \"=\"*50)\n",
    "\n",
    "# Get help on specific function\n",
    "print(\"Help for run_single_test:\")\n",
    "help(parsl_test_runner.run_single_test)"
   ]
  },
  {
   "cell_type": "markdown",
   "id": "ee868e9a",
   "metadata": {},
   "source": [
    "### 2.3 Run the Notebook in Parallel with Parsl"
   ]
  },
  {
   "cell_type": "code",
   "execution_count": null,
   "id": "5be1d1d0",
   "metadata": {},
   "outputs": [],
   "source": [
    "!(cd .. && make booktests-parallel)"
   ]
  }
 ],
 "metadata": {
  "kernelspec": {
   "display_name": "qmcpy",
   "language": "python",
   "name": "python3"
  },
  "language_info": {
   "codemirror_mode": {
    "name": "ipython",
    "version": 3
   },
   "file_extension": ".py",
   "mimetype": "text/x-python",
   "name": "python",
   "nbconvert_exporter": "python",
   "pygments_lexer": "ipython3",
   "version": "3.9.13"
  }
 },
 "nbformat": 4,
 "nbformat_minor": 5
}
