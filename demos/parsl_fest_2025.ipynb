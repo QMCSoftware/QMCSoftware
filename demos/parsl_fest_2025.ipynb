{
 "cells": [
  {
   "cell_type": "markdown",
   "id": "84e0c193",
   "metadata": {},
   "source": [
    "\n",
    "# Parsl Fest 2025: Parallel Notebook Testing in QMCPy with Parsl\n",
    "\n",
    "\n",
    "Joshua Herman and Sou-Cheng Choi, QMCPy Developers\n",
    "\n",
    "Aug 28 -- 29, 2025"
   ]
  },
  {
   "cell_type": "markdown",
   "id": "30944157",
   "metadata": {},
   "source": [
    "**Requirements**:\n",
    "\n",
    "* QMCPy: `pip install qmcpy==1.6.1.2`\n",
    "* LaTeX: `sudo apt update && sudo apt install -y texlive-full`\n",
    "* testbook : `pip install testbook==0.4.2`\n",
    "* Parsl: `pip install parsl==2025.7.28`"
   ]
  },
  {
   "cell_type": "code",
   "execution_count": 1,
   "id": "95bc5ed3",
   "metadata": {},
   "outputs": [],
   "source": [
    "import qmcpy\n",
    "import sys\n",
    "import os\n",
    "import time"
   ]
  },
  {
   "cell_type": "code",
   "execution_count": null,
   "id": "66742e0b",
   "metadata": {},
   "outputs": [
    {
     "name": "stdout",
     "output_type": "stream",
     "text": [
      "\n",
      "Notebook tests\n",
      "cd test/booktests/ && \\\n",
      "\tPYTHONWARNINGS=\"ignore::UserWarning,ignore::DeprecationWarning,ignore::FutureWarning,ignore::ImportWarning\" \\\n",
      "\tpython -W ignore -m coverage run --append --source=../../qmcpy/ -m unittest discover -s . -p \"*.py\" -v 1>/dev/null && \\\n",
      "\trm -fr *.eps *.jpg *.pdf *.part *txt && \\\n",
      "\tcd ../..\n",
      "test_argonne_talk_2023_figures_notebook (tb_Argonne_2023_Talk_Figures.NotebookTests) ... skipped 'Runtime error'\n",
      "test_mcqmc2022_article_figures_notebook (tb_MCQMC2022_Article_Figures.NotebookTests) ... skipped 'Runtime error'\n",
      "test_mc_vs_qmc_notebook (tb_MC_vs_QMC.NotebookTests) ... ok\n",
      "test_pricing_asian_options_notebook (tb_PricingAsianOptions.NotebookTests) ... ok\n",
      "test_purdue_talk_figures_notebook (tb_Purdue_Talk_Figures.NotebookTests) ... skipped 'Runtime error'\n",
      "test_asian_option_mlqmc_notebook (tb_asian_option_mlqmc.NotebookTests) ... "
     ]
    }
   ],
   "source": [
    "start_time = time.time()\n",
    "!(cd .. && make booktests)\n",
    "sequential_time = time.time() - start_time"
   ]
  },
  {
   "cell_type": "markdown",
   "id": "e8a6a69d",
   "metadata": {},
   "source": [
    "## 2. Parsl\n",
    "\n",
    "1. Install and Configure Parsl\n",
    "2. Run the tests in Parallel with Parsl"
   ]
  },
  {
   "cell_type": "markdown",
   "id": "e72771f3",
   "metadata": {},
   "source": [
    "### 2.1 Install and Configure Parsl"
   ]
  },
  {
   "cell_type": "code",
   "execution_count": null,
   "id": "9d6331b0",
   "metadata": {},
   "outputs": [],
   "source": [
    "import parsl as pl\n",
    "from parsl.configs.htex_local import config\n",
    "\n",
    "config.max_workers = 8  \n",
    "if not pl.config:\n",
    "    pl.load(config)\n",
    "    print(\"Parsl loaded with memory limits\")\n",
    "else:\n",
    "    print(\"Parsl already configured\")"
   ]
  },
  {
   "cell_type": "markdown",
   "id": "fff719f3",
   "metadata": {},
   "source": [
    "### 2.2 Create a Parsl Test Runner"
   ]
  },
  {
   "cell_type": "code",
   "execution_count": null,
   "id": "e0e2d512",
   "metadata": {},
   "outputs": [],
   "source": [
    "# Ensure the path to the booktests directory is included\n",
    "sys.path.append(os.path.join(os.getcwd(), '..', 'test', 'booktests'))"
   ]
  },
  {
   "cell_type": "code",
   "execution_count": null,
   "id": "ff1a2dff",
   "metadata": {},
   "outputs": [],
   "source": [
    "import parsl_test_runner\n",
    "import inspect\n",
    "\n",
    "# See only functions\n",
    "print(\"Functions:\")\n",
    "functions = inspect.getmembers(parsl_test_runner, inspect.isfunction)\n",
    "for name, func in functions:\n",
    "    print(f\"- {name}\")\n",
    "\n",
    "print(\"\\n\" + \"=\"*50)\n",
    "\n",
    "# Get help on specific function\n",
    "print(\"Help for execute_parallel_tests:\")\n",
    "help(parsl_test_runner.execute_parallel_tests)"
   ]
  },
  {
   "cell_type": "markdown",
   "id": "ee868e9a",
   "metadata": {},
   "source": [
    "### 2.3 Run the Notebook in Parallel with Parsl"
   ]
  },
  {
   "cell_type": "code",
   "execution_count": null,
   "id": "5be1d1d0",
   "metadata": {},
   "outputs": [],
   "source": [
    "start_time2 = time.time()\n",
    "!(cd .. && make booktests-parallel)\n",
    "parallel_time = time.time() - start_time2"
   ]
  },
  {
   "cell_type": "code",
   "execution_count": null,
   "id": "159a3e8f",
   "metadata": {},
   "outputs": [],
   "source": [
    "speedup = sequential_time / parallel_time\n",
    "print(f\"Sequential time:  {sequential_time:.2f} seconds\")\n",
    "print(f\"Parallel time:    {parallel_time:.2f} seconds\")\n",
    "print(f\"Speedup by Parsl: {speedup:.2f}\")"
   ]
  },
  {
   "cell_type": "code",
   "execution_count": null,
   "id": "9348cdd8",
   "metadata": {},
   "outputs": [],
   "source": [
    "!uname -a\n",
    "!nproc --all\n",
    "!awk '/MemTotal/ {printf \"%.2f GB\\n\", $2/1024/1024}' /proc/meminfo"
   ]
  }
 ],
 "metadata": {
  "kernelspec": {
   "display_name": "qmcpy",
   "language": "python",
   "name": "python3"
  },
  "language_info": {
   "codemirror_mode": {
    "name": "ipython",
    "version": 3
   },
   "file_extension": ".py",
   "mimetype": "text/x-python",
   "name": "python",
   "nbconvert_exporter": "python",
   "pygments_lexer": "ipython3",
   "version": "3.9.13"
  }
 },
 "nbformat": 4,
 "nbformat_minor": 5
}
