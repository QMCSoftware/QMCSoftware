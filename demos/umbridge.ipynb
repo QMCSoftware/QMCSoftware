{
 "cells": [
  {
   "attachments": {},
   "cell_type": "markdown",
   "id": "9b09667a",
   "metadata": {},
   "source": [
    "# UM-Bridge with QMCPy\n",
    "\n",
    "Using QMCPy to evaluate the [UM-Bridge Cantilever Beam Function](https://um-bridge-benchmarks.readthedocs.io/en/docs/forward-benchmarks/muq-beam-propagation.html) and approximate the expectation with respect to a uniform random variable. "
   ]
  },
  {
   "attachments": {},
   "cell_type": "markdown",
   "id": "b0e7ef4d",
   "metadata": {},
   "source": [
    "## Imports"
   ]
  },
  {
   "cell_type": "code",
   "execution_count": 1,
   "id": "16a1dbd2",
   "metadata": {},
   "outputs": [],
   "source": [
    "import umbridge\n",
    "import qmcpy as qp"
   ]
  },
  {
   "attachments": {},
   "cell_type": "markdown",
   "id": "5c6b10d3",
   "metadata": {},
   "source": [
    "## Start Docker Container\n",
    "\n",
    "See the [UM-Bridge Documentation](https://um-bridge-benchmarks.readthedocs.io/en/docs/index.html) for image options. "
   ]
  },
  {
   "cell_type": "code",
   "execution_count": 2,
   "id": "65ea4b9e",
   "metadata": {},
   "outputs": [
    {
     "name": "stdout",
     "output_type": "stream",
     "text": [
      "57a43d7926cf9838fd7273725b2415a5e6c1fe5d131fc5012a8bfbad4f531c0a\n"
     ]
    }
   ],
   "source": [
    "!docker run --name muqbp -d -it -p 4243:4243 linusseelinger/benchmark-muq-beam-propagation:latest"
   ]
  },
  {
   "attachments": {},
   "cell_type": "markdown",
   "id": "49ae9a2e",
   "metadata": {},
   "source": [
    "## Problem Setup"
   ]
  },
  {
   "attachments": {},
   "cell_type": "markdown",
   "id": "f2f49293",
   "metadata": {},
   "source": [
    "Initialize a QMCPy sampler and distribution."
   ]
  },
  {
   "cell_type": "code",
   "execution_count": 3,
   "id": "a90b8ab5",
   "metadata": {},
   "outputs": [],
   "source": [
    "sampler = qp.DigitalNetB2(dimension=3,seed=7) # DISCRETE DISTRIBUTION\n",
    "distribution = qp.Uniform(sampler,lower_bound=1,upper_bound=1.05) # TRUE MEASURE"
   ]
  },
  {
   "attachments": {},
   "cell_type": "markdown",
   "id": "12525f56",
   "metadata": {},
   "source": [
    "Initialize a UM-Bridge model and wrap it into a QMCPy compatible Integrand"
   ]
  },
  {
   "cell_type": "code",
   "execution_count": 4,
   "id": "2b35f5f4",
   "metadata": {},
   "outputs": [],
   "source": [
    "model = umbridge.HTTPModel('http://localhost:4243','forward')\n",
    "umbridge_config = {\"d\": sampler.d}\n",
    "integrand = qp.UMBridgeWrapper(distribution,model,umbridge_config,parallel=False) # INTEGRAND"
   ]
  },
  {
   "attachments": {},
   "cell_type": "markdown",
   "id": "ca82b29b",
   "metadata": {},
   "source": [
    "## Model Evaluation"
   ]
  },
  {
   "cell_type": "code",
   "execution_count": 5,
   "id": "9b5e06c5",
   "metadata": {},
   "outputs": [
    {
     "name": "stdout",
     "output_type": "stream",
     "text": [
      "(16, 31)\n",
      "<class 'numpy.ndarray'>\n",
      "float64\n"
     ]
    }
   ],
   "source": [
    "x = sampler(16) # same as sampler.gen_samples(16)\n",
    "y = integrand.f(x)\n",
    "print(y.shape)\n",
    "print(type(y))\n",
    "print(y.dtype)"
   ]
  },
  {
   "attachments": {},
   "cell_type": "markdown",
   "id": "eee7c1a0",
   "metadata": {},
   "source": [
    "## Automatically Approximate the Expectation"
   ]
  },
  {
   "cell_type": "code",
   "execution_count": 6,
   "id": "5de294a4",
   "metadata": {},
   "outputs": [
    {
     "name": "stdout",
     "output_type": "stream",
     "text": [
      "LDTransformData (AccumulateData Object)\n",
      "    solution        [  0.      3.855  14.69  ... 898.921 935.383 971.884]\n",
      "    comb_bound_low  [  0.      3.854  14.688 ... 898.901 935.363 971.863]\n",
      "    comb_bound_high [  0.      3.855  14.691 ... 898.941 935.404 971.906]\n",
      "    comb_flags      [ True  True  True ...  True  True  True]\n",
      "    n_total         2^(11)\n",
      "    n               [1024. 1024. 1024. ... 2048. 2048. 2048.]\n",
      "    time_integrate  25.311\n",
      "CubQMCNetG (StoppingCriterion Object)\n",
      "    abs_tol         0.025\n",
      "    rel_tol         0\n",
      "    n_init          2^(10)\n",
      "    n_max           2^(35)\n",
      "UMBridgeWrapper (Integrand Object)\n",
      "Uniform (TrueMeasure Object)\n",
      "    lower_bound     1\n",
      "    upper_bound     1.050\n",
      "DigitalNetB2 (DiscreteDistribution Object)\n",
      "    d               3\n",
      "    dvec            [0 1 2]\n",
      "    randomize       LMS_DS\n",
      "    graycode        0\n",
      "    entropy         7\n",
      "    spawn_key       ()\n"
     ]
    }
   ],
   "source": [
    "qmc_stop_crit = qp.CubQMCNetG(integrand,abs_tol=2.5e-2) # QMC STOPPING CRITERION\n",
    "solution,data = qmc_stop_crit.integrate()\n",
    "print(data)"
   ]
  },
  {
   "cell_type": "code",
   "execution_count": 7,
   "id": "8f3a5e78",
   "metadata": {},
   "outputs": [
    {
     "data": {
      "image/png": "[encoded data removed]",
      "text/plain": [
       "<Figure size 600x300 with 1 Axes>"
      ]
     },
     "metadata": {},
     "output_type": "display_data"
    }
   ],
   "source": [
    "from matplotlib import pyplot\n",
    "pyplot.style.use('../qmcpy/qmcpy.mplstyle')\n",
    "fig,ax = pyplot.subplots(figsize=(6,3))\n",
    "ax.plot(solution,'-o')\n",
    "ax.set_xlim([0,len(solution)-1]); ax.set_xlabel(r'$x$')\n",
    "ax.set_ylim([1000,-10]);  ax.set_ylabel(r'$u(x)$');"
   ]
  },
  {
   "attachments": {},
   "cell_type": "markdown",
   "id": "80a0b560",
   "metadata": {},
   "source": [
    "## Parallel Evaluation"
   ]
  },
  {
   "attachments": {},
   "cell_type": "markdown",
   "id": "041ce829",
   "metadata": {},
   "source": [
    "QMCPy can automatically multi-threaded requests to the model by setting `parallel=p` where `p` is the number of processors used by [multiprocessing.pool.ThreadPool](https://docs.python.org/3/library/multiprocessing.html#multiprocessing.pool.ThreadPool). Setting `parallel=True` is equivalent to setting `paralle=os.cpu_count()`."
   ]
  },
  {
   "cell_type": "code",
   "execution_count": 8,
   "id": "ec0b7fce",
   "metadata": {},
   "outputs": [
    {
     "name": "stdout",
     "output_type": "stream",
     "text": [
      "Available CPUs: 12\n"
     ]
    }
   ],
   "source": [
    "import os\n",
    "print('Available CPUs: %d'%os.cpu_count())"
   ]
  },
  {
   "cell_type": "code",
   "execution_count": 9,
   "id": "355a7dbf",
   "metadata": {},
   "outputs": [
    {
     "data": {
      "text/plain": [
       "LDTransformData (AccumulateData Object)\n",
       "    solution        [  0.      3.855  14.69  ... 898.921 935.383 971.884]\n",
       "    comb_bound_low  [  0.      3.854  14.688 ... 898.901 935.363 971.863]\n",
       "    comb_bound_high [  0.      3.855  14.691 ... 898.941 935.404 971.906]\n",
       "    comb_flags      [ True  True  True ...  True  True  True]\n",
       "    n_total         2^(11)\n",
       "    n               [1024. 1024. 1024. ... 2048. 2048. 2048.]\n",
       "    time_integrate  14.785\n",
       "CubQMCNetG (StoppingCriterion Object)\n",
       "    abs_tol         0.025\n",
       "    rel_tol         0\n",
       "    n_init          2^(10)\n",
       "    n_max           2^(35)\n",
       "UMBridgeWrapper (Integrand Object)\n",
       "Uniform (TrueMeasure Object)\n",
       "    lower_bound     1\n",
       "    upper_bound     1.050\n",
       "DigitalNetB2 (DiscreteDistribution Object)\n",
       "    d               3\n",
       "    dvec            [0 1 2]\n",
       "    randomize       LMS_DS\n",
       "    graycode        0\n",
       "    entropy         7\n",
       "    spawn_key       ()"
      ]
     },
     "execution_count": 9,
     "metadata": {},
     "output_type": "execute_result"
    }
   ],
   "source": [
    "integrand = qp.UMBridgeWrapper(distribution,model,umbridge_config,parallel=8)\n",
    "solution,data = qp.CubQMCNetG(integrand,abs_tol=2.5e-2).integrate()\n",
    "data"
   ]
  },
  {
   "attachments": {},
   "cell_type": "markdown",
   "id": "d9154d0f",
   "metadata": {},
   "source": [
    "## Shut Down Docker Image"
   ]
  },
  {
   "cell_type": "code",
   "execution_count": 10,
   "id": "3ff8373a",
   "metadata": {},
   "outputs": [
    {
     "name": "stdout",
     "output_type": "stream",
     "text": [
      "muqbp\n"
     ]
    }
   ],
   "source": [
    "!docker rm -f muqbp"
   ]
  },
  {
   "attachments": {},
   "cell_type": "markdown",
   "id": "142e61cb",
   "metadata": {},
   "source": []
  }
 ],
 "metadata": {
  "kernelspec": {
   "display_name": "Python 3 (ipykernel)",
   "language": "python",
   "name": "python3"
  },
  "language_info": {
   "codemirror_mode": {
    "name": "ipython",
    "version": 3
   },
   "file_extension": ".py",
   "mimetype": "text/x-python",
   "name": "python",
   "nbconvert_exporter": "python",
   "pygments_lexer": "ipython3",
   "version": "3.9.13"
  }
 },
 "nbformat": 4,
 "nbformat_minor": 5
}
