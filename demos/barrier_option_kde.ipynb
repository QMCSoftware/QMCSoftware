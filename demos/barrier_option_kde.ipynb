{
 "cells": [
  {
   "cell_type": "markdown",
   "metadata": {},
   "source": [
    "# Kernel Density Estimation(KDE) for Barrier Option Payoff"
   ]
  },
  {
   "cell_type": "code",
   "execution_count": null,
   "metadata": {},
   "outputs": [],
   "source": [
    "import qmcpy as qp\n",
    "abs_tol=1e-3\n",
    "barrier_option = qp.BarrierOption(qp.Sobol(12,seed=7))\n",
    "kde, a, b, approx_solution, data = qp.CubQMCSobolG(barrier_option, abs_tol).density_estimation()\n",
    "print(\"Asian Option value: %.5f (to within %1.e) with %.f paths\"% (approx_solution, abs_tol, data.n_total))"
   ]
  }
 ],
 "metadata": {
  "kernelspec": {
   "display_name": "qmcpy",
   "language": "python",
   "name": "python3"
  },
  "language_info": {
   "codemirror_mode": {
    "name": "ipython",
    "version": 3
   },
   "file_extension": ".py",
   "mimetype": "text/x-python",
   "name": "python",
   "nbconvert_exporter": "python",
   "pygments_lexer": "ipython3",
   "version": "3.9.13"
  }
 },
 "nbformat": 4,
 "nbformat_minor": 2
}
