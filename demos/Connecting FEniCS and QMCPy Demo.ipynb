{
 "cells": [
  {
   "cell_type": "markdown",
   "id": "ce00d9b4",
   "metadata": {},
   "source": [
    "# Connecting FEniCS and QMCPy Demo"
   ]
  },
  {
   "cell_type": "code",
   "execution_count": 1,
   "id": "bba48b2e",
   "metadata": {},
   "outputs": [],
   "source": [
    "from dolfin import *\n",
    "import time\n",
    "import numpy as np\n",
    "import math\n",
    "set_log_active(False)"
   ]
  },
  {
   "cell_type": "markdown",
   "id": "c982463a",
   "metadata": {},
   "source": [
    "Defining a mesh as well as degree count for a later function"
   ]
  },
  {
   "cell_type": "code",
   "execution_count": 2,
   "id": "ac5218f8",
   "metadata": {},
   "outputs": [],
   "source": [
    "deg = 6\n",
    "n = 10\n",
    "mesh = UnitIntervalMesh(n)"
   ]
  },
  {
   "cell_type": "markdown",
   "id": "46e1438d",
   "metadata": {},
   "source": [
    "Defining boundary conditions needed for FEM solving"
   ]
  },
  {
   "cell_type": "code",
   "execution_count": 3,
   "id": "648bc009",
   "metadata": {},
   "outputs": [],
   "source": [
    "def my_boundary(x): #0 or 1\n",
    "    return x[0] < DOLFIN_EPS or x[0] > 1.0 - DOLFIN_EPS"
   ]
  },
  {
   "cell_type": "code",
   "execution_count": 4,
   "id": "3859f178",
   "metadata": {},
   "outputs": [],
   "source": [
    "V = FunctionSpace(mesh, \"CG\", 1)\n",
    "u0 = Constant(0)\n",
    "bc = DirichletBC(V, u0, my_boundary)"
   ]
  },
  {
   "cell_type": "markdown",
   "id": "9a9821ca",
   "metadata": {},
   "source": [
    "The trial function is the function that gets turned into the function we're looking for when we do FEM. The test function is an additional function that gets used when turning our equation into variational form"
   ]
  },
  {
   "cell_type": "code",
   "execution_count": 5,
   "id": "ea76f3e8",
   "metadata": {},
   "outputs": [],
   "source": [
    "u = TrialFunction(V)\n",
    "v = TestFunction(V)"
   ]
  },
  {
   "cell_type": "markdown",
   "id": "31754e1a",
   "metadata": {},
   "source": [
    "This is where we define the sum of Chebyshev polynomials. We begin with an array of coeffecients (which we replace with QMCPy-supplied random values later). "
   ]
  },
  {
   "cell_type": "code",
   "execution_count": 6,
   "id": "e2c67398",
   "metadata": {},
   "outputs": [],
   "source": [
    "coeffs = Constant((1,) * deg)"
   ]
  },
  {
   "cell_type": "markdown",
   "id": "22c24e6a",
   "metadata": {},
   "source": [
    "Then we have an array of Chebyshev polynomials here "
   ]
  },
  {
   "cell_type": "code",
   "execution_count": 7,
   "id": "7c6c9dac",
   "metadata": {},
   "outputs": [],
   "source": [
    "expr_array = [0] * deg\n",
    "for i in range(deg):\n",
    "    expr_array[i] = Expression(\"cos(n*acos( (2*x[0])-1 ))\", n=i, degree=1)"
   ]
  },
  {
   "cell_type": "markdown",
   "id": "a1fb2fb5",
   "metadata": {},
   "source": [
    "Here is where we combine the two. We multiply each element in the array of Chebychev polynomials with an element of the array of coefficient objects, multiplied also by a dampening factor depending on the index of the element. We also take the entire sum and further dampen it by the beta value and add 1 to ensure that the final value is well above zero, to prevent any unusual behavior. "
   ]
  },
  {
   "cell_type": "code",
   "execution_count": 8,
   "id": "ef10aca7",
   "metadata": {},
   "outputs": [],
   "source": [
    "a3 = 0\n",
    "beta = 0.1\n",
    "for i in range(deg):\n",
    "    a3 += coeffs[i]*expr_array[i]*(1/((i+1)**2))\n",
    "a3 = 1+(beta*a3)"
   ]
  },
  {
   "cell_type": "markdown",
   "id": "b72ceae2",
   "metadata": {},
   "source": [
    "We now write out the variational form of the equation we're trying to solve. The final equation will be a4 == L"
   ]
  },
  {
   "cell_type": "code",
   "execution_count": 9,
   "id": "f3294a1b",
   "metadata": {},
   "outputs": [],
   "source": [
    "a4 = (a3*inner(grad(u), grad(v)))*dx"
   ]
  },
  {
   "cell_type": "code",
   "execution_count": 10,
   "id": "ad5685eb",
   "metadata": {},
   "outputs": [],
   "source": [
    "f = Expression(\"sin(pi*x[0])\", degree=1)"
   ]
  },
  {
   "cell_type": "code",
   "execution_count": 11,
   "id": "642ae25e",
   "metadata": {},
   "outputs": [],
   "source": [
    "L = f*v*dx"
   ]
  },
  {
   "cell_type": "code",
   "execution_count": 12,
   "id": "08b9b0c0",
   "metadata": {},
   "outputs": [],
   "source": [
    "u = Function(V)"
   ]
  },
  {
   "cell_type": "code",
   "execution_count": 13,
   "id": "391fb5a8",
   "metadata": {},
   "outputs": [
    {
     "data": {
      "text/plain": [
       "Coefficient(FunctionSpace(None, VectorElement(FiniteElement('Real', None, 0), dim=6)), 7)"
      ]
     },
     "execution_count": 13,
     "metadata": {},
     "output_type": "execute_result"
    }
   ],
   "source": [
    "coeffs"
   ]
  },
  {
   "cell_type": "code",
   "execution_count": 14,
   "id": "7570e1b0",
   "metadata": {},
   "outputs": [],
   "source": [
    "solve(a4 == L, u, bc)"
   ]
  },
  {
   "cell_type": "markdown",
   "id": "2ceea9be",
   "metadata": {},
   "source": [
    "If the above cell worked without error, then that means it found a solution u(x) and we can extract both a value of u at a point of interest or a graph of all of u"
   ]
  },
  {
   "cell_type": "code",
   "execution_count": 15,
   "id": "11bf4b41",
   "metadata": {},
   "outputs": [
    {
     "data": {
      "text/plain": [
       "0.09150650356987186"
      ]
     },
     "execution_count": 15,
     "metadata": {},
     "output_type": "execute_result"
    }
   ],
   "source": [
    "u(0.5)"
   ]
  },
  {
   "cell_type": "code",
   "execution_count": 16,
   "id": "d963f8a1",
   "metadata": {
    "scrolled": true
   },
   "outputs": [
    {
     "data": {
      "text/plain": [
       "[<matplotlib.lines.Line2D at 0x7f292fe75810>]"
      ]
     },
     "execution_count": 16,
     "metadata": {},
     "output_type": "execute_result"
    },
    {
     "data": {
      "image/png": "[encoded data removed]",
      "text/plain": [
       "<Figure size 432x288 with 1 Axes>"
      ]
     },
     "metadata": {
      "needs_background": "light"
     },
     "output_type": "display_data"
    }
   ],
   "source": [
    "plot(u)"
   ]
  },
  {
   "cell_type": "markdown",
   "id": "97f21574",
   "metadata": {},
   "source": [
    "Now we use QMCPy to supply random samples of a distribution of our choice to replace the coefficients we defined in the coefficient array above. We used both iid sample and sobol samples to compare how long it takes for using the 2 methods"
   ]
  },
  {
   "cell_type": "code",
   "execution_count": 17,
   "id": "89033df3",
   "metadata": {},
   "outputs": [],
   "source": [
    "import random\n",
    "import qmcpy as qp"
   ]
  },
  {
   "cell_type": "code",
   "execution_count": 40,
   "id": "648040ec",
   "metadata": {},
   "outputs": [],
   "source": [
    "num_samples = 2**5"
   ]
  },
  {
   "cell_type": "code",
   "execution_count": 41,
   "id": "63276919",
   "metadata": {},
   "outputs": [],
   "source": [
    "iid = qp.Uniform(qp.IIDStdUniform(dimension=deg, seed=None), lower_bound=-1, upper_bound=1)\n",
    "iid_samples = iid.gen_samples(num_samples) #Get samples of uniformly distributed random values"
   ]
  },
  {
   "cell_type": "code",
   "execution_count": 42,
   "id": "36eec8e2",
   "metadata": {},
   "outputs": [],
   "source": [
    "ld = qp.Uniform(qp.Sobol(dimension=deg), lower_bound=-1, upper_bound=1)\n",
    "ld_samples = ld.gen_samples(num_samples)"
   ]
  },
  {
   "cell_type": "code",
   "execution_count": 21,
   "id": "f2ffea98",
   "metadata": {},
   "outputs": [
    {
     "data": {
      "text/plain": [
       "6"
      ]
     },
     "execution_count": 21,
     "metadata": {},
     "output_type": "execute_result"
    }
   ],
   "source": [
    "len(ld_samples[0])"
   ]
  },
  {
   "cell_type": "markdown",
   "id": "497de380",
   "metadata": {},
   "source": [
    "This function does the same as what we did before importing qmcpy, but all in one function which we can call later on"
   ]
  },
  {
   "cell_type": "code",
   "execution_count": 22,
   "id": "c47afd00",
   "metadata": {},
   "outputs": [],
   "source": [
    "def solve_poisson(samples):\n",
    "    ret = [0] * len(samples)\n",
    "    \n",
    "    n = 10\n",
    "    mesh = UnitIntervalMesh(n)\n",
    "    def my_boundary(x): #0 or 1\n",
    "        return x[0] < DOLFIN_EPS or x[0] > 1.0 - DOLFIN_EPS\n",
    "    V = FunctionSpace(mesh, \"CG\", 1)\n",
    "    u0 = Constant(0)\n",
    "    bc = DirichletBC(V, u0, my_boundary)\n",
    "    u = TrialFunction(V)\n",
    "    v = TestFunction(V)\n",
    "    #f = Expression(\"sin(pi*x[0])\", degree=1) \n",
    "    #f = Expression(\"x[0]-0.5\", degree=1) \n",
    "    f = Expression(\"sin(pi*x[0])\", degree=1) \n",
    "    L = f*v*dx\n",
    "    \n",
    "    deg = len(samples[0])\n",
    "    expr_array = [0] * deg\n",
    "    coeffs = Constant((1,) * deg)\n",
    "    for i in range(deg):\n",
    "        expr_array[i] = Expression(\"cos(n*acos( (2*x[0])-1 ))\", n=i, degree=1)\n",
    "    a3 = 0\n",
    "    beta = 0.8\n",
    "    for i in range(deg):\n",
    "        a3 += coeffs[i]*expr_array[i]*(1/((i+1)**2))\n",
    "    a3 = (Constant(1.0)+(beta*a3))\n",
    "    a4 = (a3*inner(grad(u), grad(v)))*dx\n",
    "    \n",
    "    u = Function(V)\n",
    "    for i in range(len(samples)):\n",
    "        coeffs.assign(Constant(samples[i]))\n",
    "        solve(a4==L, u, bc)\n",
    "        ret[i] = u(0.25)\n",
    "    return np.array(ret)"
   ]
  },
  {
   "cell_type": "code",
   "execution_count": 32,
   "id": "d4209840",
   "metadata": {},
   "outputs": [],
   "source": [
    "def solve_poisson_and_graph(samples):\n",
    "    ret = [0] * len(samples)\n",
    "    \n",
    "    n = 10\n",
    "    mesh = UnitIntervalMesh(n)\n",
    "    def my_boundary(x): #0 or 1\n",
    "        return x[0] < DOLFIN_EPS or x[0] > 1.0 - DOLFIN_EPS\n",
    "    V = FunctionSpace(mesh, \"CG\", 1)\n",
    "    u0 = Constant(0)\n",
    "    bc = DirichletBC(V, u0, my_boundary)\n",
    "    u = TrialFunction(V)\n",
    "    v = TestFunction(V)\n",
    "    #f = Expression(\"sin(pi*x[0])\", degree=1) \n",
    "    #f = Expression(\"x[0]-0.5\", degree=1) \n",
    "    f = Expression(\"sin(pi*x[0])\", degree=1)\n",
    "    L = f*v*dx\n",
    "    \n",
    "    deg = len(samples[0])\n",
    "    expr_array = [0] * deg\n",
    "    coeffs = Constant((1,) * deg)\n",
    "    for i in range(deg):\n",
    "        expr_array[i] = Expression(\"cos(n*acos( (2*x[0])-1 ))\", n=i, degree=1)\n",
    "    a3 = 0\n",
    "    beta = 0.8\n",
    "    for i in range(deg):\n",
    "        a3 += coeffs[i]*expr_array[i]*(1/((i+1)**2))\n",
    "    a3 = (Constant(1.0)+(beta*a3))\n",
    "    a4 = (a3*inner(grad(u), grad(v)))*dx\n",
    "    \n",
    "    u = Function(V)\n",
    "    for i in range(len(samples)):\n",
    "        coeffs.assign(Constant(samples[i]))\n",
    "        solve(a4==L, u, bc)\n",
    "        plot(u)\n",
    "        ret[i] = u(0.25)\n",
    "    return np.array(ret)"
   ]
  },
  {
   "cell_type": "markdown",
   "id": "a733016f",
   "metadata": {},
   "source": [
    "Testing the above function, and finding the average of the values in it. We also use a copy of the function that graphs our solutions so we see the various instances of the DE with random coefficients.  "
   ]
  },
  {
   "cell_type": "code",
   "execution_count": 43,
   "id": "921b204f",
   "metadata": {},
   "outputs": [
    {
     "data": {
      "image/png": "[encoded data removed]",
      "text/plain": [
       "<Figure size 432x288 with 1 Axes>"
      ]
     },
     "metadata": {
      "needs_background": "light"
     },
     "output_type": "display_data"
    }
   ],
   "source": [
    "uvec = solve_poisson_and_graph(ld_samples)"
   ]
  },
  {
   "cell_type": "code",
   "execution_count": 44,
   "id": "2444e99f",
   "metadata": {
    "scrolled": true
   },
   "outputs": [
    {
     "data": {
      "text/plain": [
       "0.09983170210988283"
      ]
     },
     "execution_count": 44,
     "metadata": {},
     "output_type": "execute_result"
    }
   ],
   "source": [
    "sum(uvec)/len(uvec)"
   ]
  },
  {
   "cell_type": "markdown",
   "id": "e908d3f0",
   "metadata": {},
   "source": [
    "Here we time the usage of stopping critereon to determine the number of sample points (as opposed to before when we manually picked the number of points). Notice how much faster sobol points converge to an answer than iid ones. "
   ]
  },
  {
   "cell_type": "code",
   "execution_count": 45,
   "id": "fceb7183",
   "metadata": {
    "scrolled": false
   },
   "outputs": [
    {
     "name": "stdout",
     "output_type": "stream",
     "text": [
      "LDTransformData (AccumulateData Object)\n",
      "    solution        -1.083\n",
      "    indv_error      0.007\n",
      "    ci_low          -1.090\n",
      "    ci_high         -1.076\n",
      "    ci_comb_low     -1.090\n",
      "    ci_comb_high    -1.076\n",
      "    flags_comb      0\n",
      "    flags_indv      0\n",
      "    n_total         2^(10)\n",
      "    n               2^(10)\n",
      "    time_integrate  0.811\n",
      "CubQMCSobolG (StoppingCriterion Object)\n",
      "    abs_tol         0.010\n",
      "    rel_tol         0\n",
      "    n_init          2^(10)\n",
      "    n_max           2^(35)\n",
      "CustomFun (Integrand Object)\n",
      "Uniform (TrueMeasure Object)\n",
      "    lower_bound     -1\n",
      "    upper_bound     1\n",
      "Sobol (DiscreteDistribution Object)\n",
      "    d               6\n",
      "    dvec            [0 1 2 3 4 5]\n",
      "    randomize       LMS_DS\n",
      "    graycode        0\n",
      "    entropy         263830695067951237984691440566527060058\n",
      "    spawn_key       ()\n",
      "CPU times: user 867 ms, sys: 66.3 ms, total: 933 ms\n",
      "Wall time: 812 ms\n"
     ]
    }
   ],
   "source": [
    "%%time\n",
    "f = qp.CustomFun(ld, g=solve_poisson)\n",
    "stop = qp.CubQMCSobolG(f, abs_tol = 1e-2)\n",
    "solution, data = stop.integrate()\n",
    "print(data)"
   ]
  },
  {
   "cell_type": "code",
   "execution_count": 46,
   "id": "0866e9e3",
   "metadata": {
    "scrolled": false
   },
   "outputs": [
    {
     "name": "stdout",
     "output_type": "stream",
     "text": [
      "MeanVarData (AccumulateData Object)\n",
      "    solution        -1.069\n",
      "    error_bound     0.043\n",
      "    n_total         97065\n",
      "    n               96041\n",
      "    levels          1\n",
      "    time_integrate  69.599\n",
      "CubMCCLT (StoppingCriterion Object)\n",
      "    abs_tol         0.010\n",
      "    rel_tol         0\n",
      "    n_init          2^(10)\n",
      "    n_max           10000000000\n",
      "    inflate         1.200\n",
      "    alpha           0.010\n",
      "CustomFun (Integrand Object)\n",
      "Uniform (TrueMeasure Object)\n",
      "    lower_bound     -1\n",
      "    upper_bound     1\n",
      "IIDStdUniform (DiscreteDistribution Object)\n",
      "    d               6\n",
      "    entropy         200506425314647758813315011312518588572\n",
      "    spawn_key       ()\n",
      "CPU times: user 1min 8s, sys: 2.31 s, total: 1min 11s\n",
      "Wall time: 1min 9s\n"
     ]
    }
   ],
   "source": [
    "%%time\n",
    "f = qp.CustomFun(iid, g=solve_poisson)\n",
    "stop = qp.CubMCCLT(f, abs_tol = 1e-2)\n",
    "solution, data = stop.integrate()\n",
    "print(data)"
   ]
  },
  {
   "cell_type": "markdown",
   "id": "ba5e30f6",
   "metadata": {},
   "source": [
    "Here we plot the difference in timing between IID and Sobol points. Notice how much more time IID points take to find the same answer compared to sobol points as error tolerance decreases"
   ]
  },
  {
   "cell_type": "code",
   "execution_count": 47,
   "id": "6e063b58",
   "metadata": {},
   "outputs": [],
   "source": [
    "xaxislist = [1e-1, 5e-2, 2e-2, 1e-2, 5e-3, 2e-3, 1e-3]"
   ]
  },
  {
   "cell_type": "code",
   "execution_count": 48,
   "id": "3b4cbb11",
   "metadata": {},
   "outputs": [],
   "source": [
    "def time_solve(useSobol, input_abs_tol):\n",
    "    if(useSobol):\n",
    "        f = qp.CustomFun(ld, g=solve_poisson)\n",
    "        stop = qp.CubQMCSobolG(f, abs_tol = input_abs_tol, n_init=2**8)\n",
    "        solution, data = stop.integrate()\n",
    "        #print(data)\n",
    "    else:\n",
    "        f = qp.CustomFun(iid, g=solve_poisson)\n",
    "        stop = qp.CubMCCLT(f, abs_tol = input_abs_tol)\n",
    "        solution, data = stop.integrate()\n",
    "        #print(data)\n",
    "    return data.time_integrate"
   ]
  },
  {
   "cell_type": "code",
   "execution_count": 49,
   "id": "de545d3c",
   "metadata": {},
   "outputs": [
    {
     "name": "stdout",
     "output_type": "stream",
     "text": [
      "done for:  0.1\n",
      "done for:  0.05\n",
      "done for:  0.02\n",
      "done for:  0.01\n",
      "done for:  0.005\n",
      "done for:  0.002\n",
      "done for:  0.001\n"
     ]
    }
   ],
   "source": [
    "sobols = []\n",
    "for i in xaxislist:\n",
    "    sobols.append(time_solve(True, i))\n",
    "    print(\"done for: \", i)"
   ]
  },
  {
   "cell_type": "markdown",
   "id": "e130886f",
   "metadata": {},
   "source": [
    "Warning: this code cell will take several hours to run"
   ]
  },
  {
   "cell_type": "code",
   "execution_count": 50,
   "id": "010f3f4b",
   "metadata": {},
   "outputs": [
    {
     "name": "stdout",
     "output_type": "stream",
     "text": [
      "done for:  0.1\n",
      "done for:  0.05\n",
      "done for:  0.02\n",
      "done for:  0.01\n",
      "done for:  0.005\n",
      "done for:  0.002\n",
      "done for:  0.001\n"
     ]
    }
   ],
   "source": [
    "iids = []\n",
    "for i in xaxislist:\n",
    "    iids.append(time_solve(False, i))\n",
    "    print(\"done for: \", i)"
   ]
  },
  {
   "cell_type": "code",
   "execution_count": 51,
   "id": "1a67ea4b",
   "metadata": {},
   "outputs": [],
   "source": [
    "import matplotlib.pyplot as plt"
   ]
  },
  {
   "cell_type": "code",
   "execution_count": 54,
   "id": "87377375",
   "metadata": {},
   "outputs": [
    {
     "data": {
      "image/png": "[encoded data removed]",
      "text/plain": [
       "<Figure size 432x288 with 1 Axes>"
      ]
     },
     "metadata": {
      "needs_background": "light"
     },
     "output_type": "display_data"
    }
   ],
   "source": [
    "#plt.plot(xaxislist, sobols, 'ro')\n",
    "plt.loglog(xaxislist, iids, 'bo', label='IID Points', markersize=12)\n",
    "plt.loglog(xaxislist, sobols, 'ro', label='Sobol Points', markersize=12)\n",
    "plt.axis([5e-4, 2e-1, 1e-1, 2e4])\n",
    "plt.xlabel('Error Tolerance ε')\n",
    "plt.ylabel('Computation Time (seconds)')\n",
    "plt.title('Comparison of IID and Sobol Points')\n",
    "plt.legend()\n",
    "plt.show()"
   ]
  },
  {
   "cell_type": "code",
   "execution_count": null,
   "id": "24c1a287",
   "metadata": {},
   "outputs": [],
   "source": []
  }
 ],
 "metadata": {
  "kernelspec": {
   "display_name": "Python 3 (ipykernel)",
   "language": "python",
   "name": "python3"
  },
  "language_info": {
   "codemirror_mode": {
    "name": "ipython",
    "version": 3
   },
   "file_extension": ".py",
   "mimetype": "text/x-python",
   "name": "python",
   "nbconvert_exporter": "python",
   "pygments_lexer": "ipython3",
   "version": "3.10.4"
  }
 },
 "nbformat": 4,
 "nbformat_minor": 5
}
