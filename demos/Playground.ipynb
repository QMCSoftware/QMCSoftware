{
 "cells": [
  {
   "cell_type": "markdown",
   "id": "2f1c9ca5-24c6-4e01-bb12-ca1987193cba",
   "metadata": {
    "execution": {
     "iopub.execute_input": "2025-07-09T14:45:24.949953Z",
     "iopub.status.busy": "2025-07-09T14:45:24.949370Z",
     "iopub.status.idle": "2025-07-09T14:45:24.957701Z",
     "shell.execute_reply": "2025-07-09T14:45:24.956587Z",
     "shell.execute_reply.started": "2025-07-09T14:45:24.949914Z"
    }
   },
   "source": [
    "# Playground looking at variations on lattices\n",
    "### Fred J. Hickernell\n",
    "\n",
    "This demo makes use of our QMCPy software package.  See [qmcpy.org](www.qmcpy.org) for more details.\n",
    "\n",
    "### Some LaTeX macros (hidden in math mode)\n",
    "$\n",
    "\\newcommand{\\vh}{\\boldsymbol{h}}\n",
    "\\newcommand{\\vt}{\\boldsymbol{t}}\n",
    "\\newcommand{\\vx}{\\boldsymbol{x}}\n",
    "\\newcommand{\\vX}{\\boldsymbol{X}}\n",
    "\\newcommand{\\cf}{\\mathcal{F}}\n",
    "\\newcommand{\\cu}{\\mathcal{U}}\n",
    "\\newcommand{\\dif}{\\mathrm{d}}\n",
    "\\newcommand{\\Ex}{\\mathbb{E}}\n",
    "\\DeclareMathOperator{\\disc}{disc}\n",
    "\\newcommand{\\norm}[2][{}]{{\\left \\lVert #2 \\right \\rVert}_{#1}}\n",
    "$"
   ]
  },
  {
   "cell_type": "markdown",
   "id": "495b0803-818c-405b-95a4-96e268cee5cb",
   "metadata": {},
   "source": [
    "#### If are running this notebook in on colab, replace False in the next cell by True"
   ]
  },
  {
   "cell_type": "code",
   "execution_count": 1,
   "id": "6656d916-bbf8-42bf-9aed-15118b394ae4",
   "metadata": {
    "execution": {
     "iopub.execute_input": "2025-07-09T14:52:47.377137Z",
     "iopub.status.busy": "2025-07-09T14:52:47.376599Z",
     "iopub.status.idle": "2025-07-09T14:52:47.383074Z",
     "shell.execute_reply": "2025-07-09T14:52:47.382250Z",
     "shell.execute_reply.started": "2025-07-09T14:52:47.377105Z"
    }
   },
   "outputs": [],
   "source": [
    "if False:  #Running on colab?\n",
    "    !sudo apt install cm-super dvipng texlive-latex-extra texlive-latex-recommended\n",
    "    !sudo apt install cm-super\n",
    "    !pip install git+https://github.com/QMCSoftware/QMCSoftware.git@MCQMC2024"
   ]
  },
  {
   "cell_type": "markdown",
   "id": "3cffa937-a383-42bd-86ac-c246e93ffc1a",
   "metadata": {},
   "source": [
    "### Import needed packages"
   ]
  },
  {
   "cell_type": "code",
   "execution_count": 2,
   "id": "793d7beb-c82f-433b-befc-e50d98377af3",
   "metadata": {
    "execution": {
     "iopub.execute_input": "2025-07-09T14:52:48.183290Z",
     "iopub.status.busy": "2025-07-09T14:52:48.182708Z",
     "iopub.status.idle": "2025-07-09T14:52:50.940536Z",
     "shell.execute_reply": "2025-07-09T14:52:50.940227Z",
     "shell.execute_reply.started": "2025-07-09T14:52:48.183248Z"
    }
   },
   "outputs": [],
   "source": [
    "import matplotlib.pyplot as plt\n",
    "import matplotlib.patches as patches\n",
    "from matplotlib import cm\n",
    "import math\n",
    "import numpy as np\n",
    "import scipy as sp\n",
    "import qmcpy as qp\n",
    "import sympy as sy\n",
    "#from scipy import stats\n",
    "#from copy import deepcopy\n",
    "import time\n",
    "import timeit\n",
    "import pickle\n",
    "\n",
    "#These are parameters needed for figures\n",
    "figpath = 'Caltech2025MarchFigures/' #this path sends the figures to the directory that you want\n",
    "savefigs = True  #save the figures on your disk if True\n",
    "imgfrmt = 'pdf' #kind of format to save figures as\n",
    "long_compute = False #redo the long computations\n",
    "font_family = \"serif\"\n",
    "plt.rcParams.update({\n",
    "    \"font.family\" : font_family,\n",
    "    \"text.usetex\" : True,  \n",
    "    \"mathtext.fontset\" : \"dejavuserif\",\n",
    "    \"axes.labelsize\" : 18,\n",
    "    \"axes.titlesize\" : 18,\n",
    "    \"xtick.labelsize\" : 14,\n",
    "    \"ytick.labelsize\" : 14\n",
    "})"
   ]
  },
  {
   "cell_type": "code",
   "execution_count": 3,
   "id": "8c8d628a-6d3d-4264-97bf-ac5ec87eb81b",
   "metadata": {
    "execution": {
     "iopub.execute_input": "2025-07-09T14:52:50.941390Z",
     "iopub.status.busy": "2025-07-09T14:52:50.941236Z",
     "iopub.status.idle": "2025-07-09T14:52:50.945330Z",
     "shell.execute_reply": "2025-07-09T14:52:50.945054Z",
     "shell.execute_reply.started": "2025-07-09T14:52:50.941380Z"
    }
   },
   "outputs": [],
   "source": [
    "import matplotlib.colors as mcolors\n",
    "\n",
    "def lighten_color(color, factor=1.5):\n",
    "    \"\"\"Lightens the given color by blending it with white. \n",
    "    Factor > 1 makes it lighter, factor < 1 makes it darker.\"\"\"\n",
    "    rgb = mcolors.to_rgb(color)  # Convert color to RGB tuple\n",
    "    lighter_rgb = tuple(min(1, c + (1 - c) * (factor - 1)) for c in rgb)  # Blend with white\n",
    "    return lighter_rgb\n",
    "\n",
    "# for plotting, here are our different symbols and their colors\n",
    "# because plots may be printed in black and white we want different colors to have different marker shapes \n",
    "color_cycle = plt.rcParams['axes.prop_cycle'].by_key()['color']  #get the color cycle\n",
    "[py_blue, py_orange, py_green, py_red, py_purple, py_brown, py_pink, py_gray, py_yellow, py_cyan] = color_cycle[0:10]\n",
    "blue_symbol = {\"color\" : py_blue,\n",
    "               \"marker\" : \".\",\n",
    "               \"markersize\" : 15,\n",
    "               \"linestyle\" : \"\"\n",
    "               }\n",
    "orange_symbol = {\"color\" : py_orange,\n",
    "               \"marker\" : \"d\",\n",
    "               \"markersize\" : 12,\n",
    "               \"linestyle\" : \"\"\n",
    "               }\n",
    "green_symbol = {\"color\" : py_green,\n",
    "               \"marker\" : \"s\",\n",
    "               \"markersize\" : 10,\n",
    "               \"linestyle\" : \"\"\n",
    "               }\n",
    "red_symbol = {\"color\" : py_red,\n",
    "               \"marker\" : \"^\",\n",
    "               \"markersize\" : 10,\n",
    "               \"linestyle\" : \"\"\n",
    "               }\n",
    "purple_symbol = {\"color\" : py_purple,\n",
    "               \"marker\" : \"v\",\n",
    "               \"markersize\" : 10,\n",
    "               \"linestyle\" : \"\"\n",
    "               }\n",
    "brown_symbol = {\"color\" : py_brown,\n",
    "               \"marker\" : \">\",\n",
    "               \"markersize\" : 10,\n",
    "               \"linestyle\" : \"\"\n",
    "               }\n",
    "pink_symbol = {\"color\" : py_pink,\n",
    "               \"marker\" : \"<\",\n",
    "               \"markersize\" : 10,\n",
    "               \"linestyle\" : \"\"\n",
    "               }\n",
    "symbol_args=[blue_symbol,orange_symbol,green_symbol,red_symbol,purple_symbol,brown_symbol,pink_symbol]\n",
    "\n",
    "#lighter or darker versions of colors\n",
    "lighter_py_blue = lighten_color(py_blue, factor=1.5)\n"
   ]
  },
  {
   "cell_type": "code",
   "execution_count": 4,
   "id": "bdc6b1a5-ea3b-4951-988f-331a88467adf",
   "metadata": {
    "execution": {
     "iopub.execute_input": "2025-07-09T14:52:50.945939Z",
     "iopub.status.busy": "2025-07-09T14:52:50.945753Z",
     "iopub.status.idle": "2025-07-09T14:52:50.952331Z",
     "shell.execute_reply": "2025-07-09T14:52:50.952070Z",
     "shell.execute_reply.started": "2025-07-09T14:52:50.945915Z"
    }
   },
   "outputs": [
    {
     "name": "stdout",
     "output_type": "stream",
     "text": [
      "[ 1 11]\n"
     ]
    },
    {
     "name": "stderr",
     "output_type": "stream",
     "text": [
      "/Users/fredhickernell/SoftwareRepositories/QMCSoftware/qmcpy/discrete_distribution/lattice/lattice.py:257\n",
      "\tParameterWarning: Non-randomized lattice sequence includes the origin\n"
     ]
    }
   ],
   "source": [
    "d = 2\n",
    "n = 64\n",
    "shift = np.random.rand(d)\n",
    "shift = np.zeros(d)\n",
    "lat = qp.Lattice(d,randomize=False)\n",
    "latpts = lat.gen_samples(n)\n",
    "genvec = (latpts[int(n/2),:]*n).astype(int)\n",
    "print(genvec)\n",
    "latpts = np.mod(latpts + shift,1)"
   ]
  },
  {
   "cell_type": "code",
   "execution_count": 7,
   "id": "96cc8ba5-43b5-4b7a-a23a-69f01e0a5a1b",
   "metadata": {
    "execution": {
     "iopub.execute_input": "2025-07-09T14:55:39.033548Z",
     "iopub.status.busy": "2025-07-09T14:55:39.032965Z",
     "iopub.status.idle": "2025-07-09T14:55:39.041695Z",
     "shell.execute_reply": "2025-07-09T14:55:39.041418Z",
     "shell.execute_reply.started": "2025-07-09T14:55:39.033503Z"
    }
   },
   "outputs": [
    {
     "name": "stdout",
     "output_type": "stream",
     "text": [
      "[[0.80937383]\n",
      " [0.30053217]\n",
      " [0.51273441]\n",
      " [0.00241296]\n",
      " [0.92722762]\n",
      " [0.43167834]\n",
      " [0.62962756]\n",
      " [0.13653511]\n",
      " [0.82528458]\n",
      " [0.31484097]]\n"
     ]
    }
   ],
   "source": [
    "vdc = qp.Sobol(1) #scrambled van der Corput\n",
    "vdcpts = vdc.gen_samples(n)\n",
    "print(vdcpts[:10])\n",
    "weird_lattice = (vdcpts*genvec + shift) % 1\n",
    "# print(weird_lattice)"
   ]
  },
  {
   "cell_type": "code",
   "execution_count": 6,
   "id": "22c03b11-1b52-4cea-83f5-67d05386dbcd",
   "metadata": {
    "execution": {
     "iopub.execute_input": "2025-07-09T14:54:12.369595Z",
     "iopub.status.busy": "2025-07-09T14:54:12.368946Z",
     "iopub.status.idle": "2025-07-09T14:54:12.696181Z",
     "shell.execute_reply": "2025-07-09T14:54:12.695821Z",
     "shell.execute_reply.started": "2025-07-09T14:54:12.369527Z"
    }
   },
   "outputs": [
    {
     "data": {
      "text/plain": [
       "[<matplotlib.lines.Line2D at 0x3414336d0>,\n",
       " <matplotlib.lines.Line2D at 0x341440790>]"
      ]
     },
     "execution_count": 6,
     "metadata": {},
     "output_type": "execute_result"
    },
    {
     "data": {
      "image/png": "[encoded data removed]",
      "text/plain": [
       "<Figure size 640x480 with 1 Axes>"
      ]
     },
     "metadata": {},
     "output_type": "display_data"
    }
   ],
   "source": [
    "plt.plot(latpts[:,0],latpts[:,1],'.',weird_lattice[:,0],weird_lattice[:,1],'.')"
   ]
  },
  {
   "cell_type": "code",
   "execution_count": null,
   "id": "389cf4bd-bfd3-4736-a2f9-484d45b4ff8a",
   "metadata": {},
   "outputs": [],
   "source": []
  }
 ],
 "metadata": {
  "kernelspec": {
   "display_name": "Python 3 (ipykernel)",
   "language": "python",
   "name": "python3"
  },
  "language_info": {
   "codemirror_mode": {
    "name": "ipython",
    "version": 3
   },
   "file_extension": ".py",
   "mimetype": "text/x-python",
   "name": "python",
   "nbconvert_exporter": "python",
   "pygments_lexer": "ipython3",
   "version": "3.9.13"
  }
 },
 "nbformat": 4,
 "nbformat_minor": 5
}
