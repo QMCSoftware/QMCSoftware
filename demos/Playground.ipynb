{
 "cells": [
  {
   "cell_type": "markdown",
   "id": "2f1c9ca5-24c6-4e01-bb12-ca1987193cba",
   "metadata": {
    "execution": {
     "iopub.execute_input": "2025-07-09T14:45:24.949953Z",
     "iopub.status.busy": "2025-07-09T14:45:24.949370Z",
     "iopub.status.idle": "2025-07-09T14:45:24.957701Z",
     "shell.execute_reply": "2025-07-09T14:45:24.956587Z",
     "shell.execute_reply.started": "2025-07-09T14:45:24.949914Z"
    }
   },
   "source": [
    "# Playground looking at variations on lattices\n",
    "### Fred J. Hickernell\n",
    "\n",
    "This demo makes use of our QMCPy software package.  See [qmcpy.org](www.qmcpy.org) for more details.\n",
    "\n",
    "### Some LaTeX macros (hidden in math mode)\n",
    "$\n",
    "\\newcommand{\\vh}{\\boldsymbol{h}}\n",
    "\\newcommand{\\vt}{\\boldsymbol{t}}\n",
    "\\newcommand{\\vx}{\\boldsymbol{x}}\n",
    "\\newcommand{\\vX}{\\boldsymbol{X}}\n",
    "\\newcommand{\\cf}{\\mathcal{F}}\n",
    "\\newcommand{\\cu}{\\mathcal{U}}\n",
    "\\newcommand{\\dif}{\\mathrm{d}}\n",
    "\\newcommand{\\Ex}{\\mathbb{E}}\n",
    "\\DeclareMathOperator{\\disc}{disc}\n",
    "\\newcommand{\\norm}[2][{}]{{\\left \\lVert #2 \\right \\rVert}_{#1}}\n",
    "$"
   ]
  },
  {
   "cell_type": "markdown",
   "id": "495b0803-818c-405b-95a4-96e268cee5cb",
   "metadata": {},
   "source": [
    "#### If are running this notebook in on colab, replace False in the next cell by True"
   ]
  },
  {
   "cell_type": "code",
   "execution_count": 56,
   "id": "6656d916-bbf8-42bf-9aed-15118b394ae4",
   "metadata": {
    "execution": {
     "iopub.execute_input": "2025-07-09T14:45:44.259053Z",
     "iopub.status.busy": "2025-07-09T14:45:44.258354Z",
     "iopub.status.idle": "2025-07-09T14:45:44.264735Z",
     "shell.execute_reply": "2025-07-09T14:45:44.263767Z",
     "shell.execute_reply.started": "2025-07-09T14:45:44.259024Z"
    }
   },
   "outputs": [],
   "source": [
    "if False:  #Running on colab?\n",
    "    !sudo apt install cm-super dvipng texlive-latex-extra texlive-latex-recommended\n",
    "    !sudo apt install cm-super\n",
    "    !pip install git+https://github.com/QMCSoftware/QMCSoftware.git@MCQMC2024"
   ]
  },
  {
   "cell_type": "markdown",
   "id": "3cffa937-a383-42bd-86ac-c246e93ffc1a",
   "metadata": {},
   "source": [
    "### Import needed packages"
   ]
  },
  {
   "cell_type": "code",
   "execution_count": 57,
   "id": "793d7beb-c82f-433b-befc-e50d98377af3",
   "metadata": {
    "execution": {
     "iopub.execute_input": "2025-07-09T14:45:44.266982Z",
     "iopub.status.busy": "2025-07-09T14:45:44.266647Z",
     "iopub.status.idle": "2025-07-09T14:45:44.273523Z",
     "shell.execute_reply": "2025-07-09T14:45:44.272562Z",
     "shell.execute_reply.started": "2025-07-09T14:45:44.266955Z"
    }
   },
   "outputs": [],
   "source": [
    "import matplotlib.pyplot as plt\n",
    "import matplotlib.patches as patches\n",
    "from matplotlib import cm\n",
    "import math\n",
    "import numpy as np\n",
    "import scipy as sp\n",
    "import qmcpy as qp\n",
    "import sympy as sy\n",
    "#from scipy import stats\n",
    "#from copy import deepcopy\n",
    "import time\n",
    "import timeit\n",
    "import pickle\n",
    "\n",
    "#These are parameters needed for figures\n",
    "figpath = 'Caltech2025MarchFigures/' #this path sends the figures to the directory that you want\n",
    "savefigs = True  #save the figures on your disk if True\n",
    "imgfrmt = 'pdf' #kind of format to save figures as\n",
    "long_compute = False #redo the long computations\n",
    "font_family = \"serif\"\n",
    "plt.rcParams.update({\n",
    "    \"font.family\" : font_family,\n",
    "    \"text.usetex\" : True,  \n",
    "    \"mathtext.fontset\" : \"dejavuserif\",\n",
    "    \"axes.labelsize\" : 18,\n",
    "    \"axes.titlesize\" : 18,\n",
    "    \"xtick.labelsize\" : 14,\n",
    "    \"ytick.labelsize\" : 14\n",
    "})"
   ]
  },
  {
   "cell_type": "code",
   "execution_count": 58,
   "id": "8c8d628a-6d3d-4264-97bf-ac5ec87eb81b",
   "metadata": {
    "execution": {
     "iopub.execute_input": "2025-07-09T14:45:44.274954Z",
     "iopub.status.busy": "2025-07-09T14:45:44.274521Z",
     "iopub.status.idle": "2025-07-09T14:45:44.284322Z",
     "shell.execute_reply": "2025-07-09T14:45:44.283264Z",
     "shell.execute_reply.started": "2025-07-09T14:45:44.274925Z"
    }
   },
   "outputs": [],
   "source": [
    "import matplotlib.colors as mcolors\n",
    "\n",
    "def lighten_color(color, factor=1.5):\n",
    "    \"\"\"Lightens the given color by blending it with white. \n",
    "    Factor > 1 makes it lighter, factor < 1 makes it darker.\"\"\"\n",
    "    rgb = mcolors.to_rgb(color)  # Convert color to RGB tuple\n",
    "    lighter_rgb = tuple(min(1, c + (1 - c) * (factor - 1)) for c in rgb)  # Blend with white\n",
    "    return lighter_rgb\n",
    "\n",
    "# for plotting, here are our different symbols and their colors\n",
    "# because plots may be printed in black and white we want different colors to have different marker shapes \n",
    "color_cycle = plt.rcParams['axes.prop_cycle'].by_key()['color']  #get the color cycle\n",
    "[py_blue, py_orange, py_green, py_red, py_purple, py_brown, py_pink, py_gray, py_yellow, py_cyan] = color_cycle[0:10]\n",
    "blue_symbol = {\"color\" : py_blue,\n",
    "               \"marker\" : \".\",\n",
    "               \"markersize\" : 15,\n",
    "               \"linestyle\" : \"\"\n",
    "               }\n",
    "orange_symbol = {\"color\" : py_orange,\n",
    "               \"marker\" : \"d\",\n",
    "               \"markersize\" : 12,\n",
    "               \"linestyle\" : \"\"\n",
    "               }\n",
    "green_symbol = {\"color\" : py_green,\n",
    "               \"marker\" : \"s\",\n",
    "               \"markersize\" : 10,\n",
    "               \"linestyle\" : \"\"\n",
    "               }\n",
    "red_symbol = {\"color\" : py_red,\n",
    "               \"marker\" : \"^\",\n",
    "               \"markersize\" : 10,\n",
    "               \"linestyle\" : \"\"\n",
    "               }\n",
    "purple_symbol = {\"color\" : py_purple,\n",
    "               \"marker\" : \"v\",\n",
    "               \"markersize\" : 10,\n",
    "               \"linestyle\" : \"\"\n",
    "               }\n",
    "brown_symbol = {\"color\" : py_brown,\n",
    "               \"marker\" : \">\",\n",
    "               \"markersize\" : 10,\n",
    "               \"linestyle\" : \"\"\n",
    "               }\n",
    "pink_symbol = {\"color\" : py_pink,\n",
    "               \"marker\" : \"<\",\n",
    "               \"markersize\" : 10,\n",
    "               \"linestyle\" : \"\"\n",
    "               }\n",
    "symbol_args=[blue_symbol,orange_symbol,green_symbol,red_symbol,purple_symbol,brown_symbol,pink_symbol]\n",
    "\n",
    "#lighter or darker versions of colors\n",
    "lighter_py_blue = lighten_color(py_blue, factor=1.5)\n"
   ]
  },
  {
   "cell_type": "code",
   "execution_count": 59,
   "id": "bdc6b1a5-ea3b-4951-988f-331a88467adf",
   "metadata": {
    "execution": {
     "iopub.execute_input": "2025-07-09T14:45:44.286724Z",
     "iopub.status.busy": "2025-07-09T14:45:44.286410Z",
     "iopub.status.idle": "2025-07-09T14:45:44.297308Z",
     "shell.execute_reply": "2025-07-09T14:45:44.296443Z",
     "shell.execute_reply.started": "2025-07-09T14:45:44.286698Z"
    }
   },
   "outputs": [
    {
     "name": "stdout",
     "output_type": "stream",
     "text": [
      "[ 1 11]\n"
     ]
    }
   ],
   "source": [
    "d = 2\n",
    "n = 64\n",
    "shift = np.random.rand(d)\n",
    "shift = np.zeros(d)\n",
    "lat = qp.Lattice(d,randomize=False)\n",
    "latpts = lat.gen_samples(n)\n",
    "genvec = (latpts[int(n/2),:]*n).astype(int)\n",
    "print(genvec)\n",
    "latpts = np.mod(latpts + shift,1)"
   ]
  },
  {
   "cell_type": "code",
   "execution_count": 60,
   "id": "96cc8ba5-43b5-4b7a-a23a-69f01e0a5a1b",
   "metadata": {
    "execution": {
     "iopub.execute_input": "2025-07-09T14:45:44.298626Z",
     "iopub.status.busy": "2025-07-09T14:45:44.298231Z",
     "iopub.status.idle": "2025-07-09T14:45:44.318093Z",
     "shell.execute_reply": "2025-07-09T14:45:44.317417Z",
     "shell.execute_reply.started": "2025-07-09T14:45:44.298596Z"
    }
   },
   "outputs": [],
   "source": [
    "vdc = qp.Sobol(1)\n",
    "vdcpts = vdc.gen_samples(n)\n",
    "weird_lattice = np.mod(vdcpts*genvec + shift,1)\n",
    "# print(weird_lattice)"
   ]
  },
  {
   "cell_type": "code",
   "execution_count": 61,
   "id": "22c03b11-1b52-4cea-83f5-67d05386dbcd",
   "metadata": {
    "execution": {
     "iopub.execute_input": "2025-07-09T14:45:44.319670Z",
     "iopub.status.busy": "2025-07-09T14:45:44.319326Z",
     "iopub.status.idle": "2025-07-09T14:45:44.457187Z",
     "shell.execute_reply": "2025-07-09T14:45:44.456341Z",
     "shell.execute_reply.started": "2025-07-09T14:45:44.319644Z"
    }
   },
   "outputs": [
    {
     "data": {
      "text/plain": [
       "[<matplotlib.lines.Line2D at 0x14adaf0d0>,\n",
       " <matplotlib.lines.Line2D at 0x14adaf1c0>]"
      ]
     },
     "execution_count": 61,
     "metadata": {},
     "output_type": "execute_result"
    },
    {
     "data": {
      "image/png": "[encoded data removed]",
      "text/plain": [
       "<Figure size 640x480 with 1 Axes>"
      ]
     },
     "metadata": {},
     "output_type": "display_data"
    }
   ],
   "source": [
    "plt.plot(latpts[:,0],latpts[:,1],'.',weird_lattice[:,0],weird_lattice[:,1],'.')"
   ]
  }
 ],
 "metadata": {
  "kernelspec": {
   "display_name": "Python 3 (ipykernel)",
   "language": "python",
   "name": "python3"
  },
  "language_info": {
   "codemirror_mode": {
    "name": "ipython",
    "version": 3
   },
   "file_extension": ".py",
   "mimetype": "text/x-python",
   "name": "python",
   "nbconvert_exporter": "python",
   "pygments_lexer": "ipython3",
   "version": "3.9.13"
  }
 },
 "nbformat": 4,
 "nbformat_minor": 5
}
