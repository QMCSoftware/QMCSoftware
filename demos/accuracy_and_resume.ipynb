{
 "cells": [
  {
   "cell_type": "markdown",
   "id": "a2eefbe5",
   "metadata": {},
   "source": [
    "# How Much Accuracy Do You Need?\n",
    "\n",
    "Sou-Cheng Choi\n",
    "\n",
    "Jun 10, 2025\n",
    "\n",
    "\n",
    "\n",
    "\n",
    "## Art Owen's Reflections on Lyness and the Accuracy Question\n",
    "\n",
    "This notebook explores a fascinating discussion about the accuracy requirements for numerical integration, particularly in the context of automatic quadrature routines. It's based on a conversation between Art Owen and Fred, highlighting the challenges of translating scientific needs into quantifiable accuracy targets.\n",
    "\n",
    "The central theme revolves around how a scientist determines the desired accuracy of a numerical integration result.  Let's examine three common responses:\n",
    "\n",
    "**Case A: The \"Plenty of Time\" Response**\n",
    "\n",
    "*   **Response:** \"I would like 8-figure accuracy. I have quite enough computer time available for this.\"\n",
    "*   **Explanation:** This is a relatively rare response. It indicates a situation where the scientist is primarily concerned with the *result* itself, rather than the computational cost.  It's suitable for small problems where the time spent on achieving high accuracy isn't a significant constraint.  Automatic quadrature routines are designed to handle such scenarios.\n",
    "\n",
    "**Case B: The \"Time-Constrained\" Response**\n",
    "\n",
    "*   **Response:** \"I need at least 4-figure accuracy. But I don’t want to use more than 2 seconds CPU time. If this can’t be done, I shall abandon this problem. If it can be done, I should prefer 6- or 7-figure accuracy. But if the marginal cost for more figures is really small let’s go to 12 figures.\"\n",
    "*   **Explanation:** This is a much more typical response. It reflects a realistic situation where the scientist is operating under time and resource constraints. They need a solution, but they also have a limited amount of CPU time.  Automatic quadrature routines with restart facilities (which are becoming more common) can be useful here, allowing the routine to refine its solution if it initially falls short of the desired accuracy.  The \"marginal cost\" refers to the additional time and effort required to increase the number of digits of accuracy.\n",
    "\n",
    "**Case C: The \"I Don't Know\" Response**\n",
    "\n",
    "*   **Response:** \"I really don’t know. Let me explain...\"\n",
    "*   **Explanation:** This is the most common response, and it highlights the fundamental challenge. The scientist may not have a clear understanding of the required accuracy, perhaps because the problem is complex, the underlying physics is poorly understood, or the desired application doesn't demand extremely high precision.  This is where the numerical analyst's role becomes crucial – to guide the scientist in understanding the implications of accuracy for their specific problem.\n",
    "\n",
    "\n",
    " "
   ]
  },
  {
   "cell_type": "markdown",
   "id": "f0412d13",
   "metadata": {},
   "source": [
    "## The Problem\n",
    "Automatic quadrature routines (like those in QMCPy) require the user to specify a target accuracy. But in practice, scientists often don't know what accuracy they need, or their needs may change as they see results or as computational budgets shift.\n",
    "\n",
    "## The Solution: Resumable Integration in QMCPy\n",
    "With the new `resume` feature in QMCPy, you can start an integration with a loose tolerance, inspect the results, and then _resume_ the computation with a tighter tolerance—without starting over. This enables a flexible, iterative, and cost-effective approach to scientific computing.\n",
    "\n",
    "### How it Works\n",
    "- **Start with a loose tolerance**: Get a quick, rough answer.\n",
    "- **Save the computation state**: The integration data can be saved to disk.\n",
    "- **Resume with a tighter tolerance**: Continue from where you left off, using all previous samples.\n",
    "- **Repeat as needed**: You can keep tightening the tolerance, or even pause and resume across sessions or machines.\n",
    "\n",
    "This is especially useful for Case B and Case C scientists: you can explore, adapt, and only pay for more accuracy if you need it."
   ]
  },
  {
   "cell_type": "markdown",
   "id": "13289d64",
   "metadata": {},
   "source": [
    "## Example: Resumable QMC Integration in Practice\n",
    "\n",
    "Let's see how this works in code. We will use a Genz oscillatory integrand and QMCPy's `CubQMCLatticeG` routine."
   ]
  },
  {
   "cell_type": "code",
   "execution_count": 1,
   "id": "da88901b",
   "metadata": {},
   "outputs": [],
   "source": [
    "from qmcpy import CubQMCLatticeG, Genz, Gaussian, Lattice\n",
    "from qmcpy.accumulate_data._accumulate_data import AccumulateData\n",
    "import numpy as np\n",
    "import time\n",
    "\n",
    "# Define integrand and measure\n",
    "dimension = 10\n",
    "discrete_distrib = Lattice(dimension=dimension)\n",
    "true_measure = Gaussian(discrete_distrib, mean=0, covariance=1)\n",
    "integrand = Genz(discrete_distrib, kind_func='oscillatory', kind_coeff=1)"
   ]
  },
  {
   "cell_type": "markdown",
   "id": "52d57105",
   "metadata": {},
   "source": [
    "### Step 1: Quick Estimate (Loose Tolerance)\n",
    "Suppose you want a quick answer, so you set a loose tolerance."
   ]
  },
  {
   "cell_type": "code",
   "execution_count": 2,
   "id": "6a1e6526",
   "metadata": {},
   "outputs": [
    {
     "name": "stdout",
     "output_type": "stream",
     "text": [
      "Loose tolerance solution: -0.5613, time: 0.004 s\n"
     ]
    }
   ],
   "source": [
    "abs_tol = 1e-3\n",
    "rel_tol = 0\n",
    "solver = CubQMCLatticeG(integrand, abs_tol=abs_tol, rel_tol=rel_tol)\n",
    "start = time.time()\n",
    "solution1, data1 = solver.integrate()\n",
    "elapsed1 = time.time() - start\n",
    "print(f'Loose tolerance solution: {solution1[0]:.4f}, time: {elapsed1:.3f} s')"
   ]
  },
  {
   "cell_type": "markdown",
   "id": "334b832e",
   "metadata": {},
   "source": [
    "### Step 2: Save the State\n",
    "You can save the integration state to disk for later resumption."
   ]
  },
  {
   "cell_type": "code",
   "execution_count": 3,
   "id": "f6d70ea1",
   "metadata": {},
   "outputs": [
    {
     "name": "stdout",
     "output_type": "stream",
     "text": [
      "Saved integration state to (save_path)\n"
     ]
    }
   ],
   "source": [
    "save_path = '/Users/terrya/Documents/ProgramData/QMCSoftware/demo_resume_data.pkl'\n",
    "data1.save(save_path)\n",
    "print('Saved integration state to (save_path)')"
   ]
  },
  {
   "cell_type": "markdown",
   "id": "933dbd5a",
   "metadata": {},
   "source": [
    "### Step 3: Resume with Tighter Tolerance\n",
    "Now suppose you want more accuracy. You can resume from the saved state, using all previous samples."
   ]
  },
  {
   "cell_type": "code",
   "execution_count": 4,
   "id": "58221b82",
   "metadata": {},
   "outputs": [
    {
     "name": "stdout",
     "output_type": "stream",
     "text": [
      "Resumed with tighter tolerance solution: -0.5612362, time: 0.653 s\n"
     ]
    }
   ],
   "source": [
    "loaded_data = AccumulateData.load(save_path)\n",
    "abs_tol = 1e-6\n",
    "solver.set_tolerance(abs_tol=abs_tol)\n",
    "start = time.time()\n",
    "solution2, data2 = solver.integrate(resume=loaded_data)\n",
    "elapsed2 = time.time() - start\n",
    "print(f'Resumed with tighter tolerance solution: {solution2[0]:.7f}, time: {elapsed2:.3f} s')"
   ]
  },
  {
   "cell_type": "markdown",
   "id": "9517e844",
   "metadata": {},
   "source": [
    "### Step 4: Compare to Starting from Scratch\n",
    "For reference, let's see how long it takes to get the same accuracy if we start from scratch."
   ]
  },
  {
   "cell_type": "code",
   "execution_count": 5,
   "id": "f3db5aef",
   "metadata": {},
   "outputs": [
    {
     "name": "stdout",
     "output_type": "stream",
     "text": [
      "Start from scratch solution: -0.5612362, time: 0.626 s\n"
     ]
    }
   ],
   "source": [
    "solver2 = CubQMCLatticeG(integrand, abs_tol=abs_tol, rel_tol=rel_tol)\n",
    "start = time.time()\n",
    "solution3, data3 = solver2.integrate()\n",
    "elapsed3 = time.time() - start\n",
    "print(f'Start from scratch solution: {solution3[0]:.7f}, time: {elapsed3:.3f} s')"
   ]
  },
  {
   "cell_type": "markdown",
   "id": "5c0ff889",
   "metadata": {},
   "source": [
    "## Conclusion\n",
    "- With the resume feature, you can adaptively decide how much accuracy you need, and only pay for more if you want it.\n",
    "- You can pause, checkpoint, and resume long computations.\n",
    "- This is a practical answer to Lyness's Case B and Case C: you don't have to know your accuracy in advance!\n",
    "\n",
    "Try it yourself: change the tolerances, or resume from a saved file in a new session."
   ]
  }
 ],
 "metadata": {
  "kernelspec": {
   "display_name": "qmcpy",
   "language": "python",
   "name": "python3"
  },
  "language_info": {
   "codemirror_mode": {
    "name": "ipython",
    "version": 3
   },
   "file_extension": ".py",
   "mimetype": "text/x-python",
   "name": "python",
   "nbconvert_exporter": "python",
   "pygments_lexer": "ipython3",
   "version": "3.9.13"
  }
 },
 "nbformat": 4,
 "nbformat_minor": 5
}
