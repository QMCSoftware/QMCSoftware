{
 "cells": [
  {
   "cell_type": "code",
   "execution_count": 2,
   "id": "d04ebfc2-6344-4f9d-93b7-5c2fc6dfdb71",
   "metadata": {},
   "outputs": [],
   "source": [
    "from qmcpy import *\n",
    "import numpy as np\n",
    "from scipy.linalg import solve_triangular, cho_solve, cho_factor\n",
    "from scipy.stats import norm\n",
    "import matplotlib.pyplot as pyplot\n",
    "%matplotlib inline\n",
    "\n",
    "lw = 3"
   ]
  },
  {
   "cell_type": "code",
   "execution_count": 3,
   "id": "2851d057-6fed-4741-b77a-4a66e95e911b",
   "metadata": {},
   "outputs": [
    {
     "name": "stdout",
     "output_type": "stream",
     "text": [
      "MeanVarData (AccumulateData Object)\n",
      "    solution        1.562\n",
      "    error_bound     0.541\n",
      "    n_total         76\n",
      "    n               60\n",
      "    levels          1\n",
      "    time_integrate  0.004\n",
      "CubMCCLT (StoppingCriterion Object)\n",
      "    abs_tol         0.300\n",
      "    rel_tol         0\n",
      "    n_init          2^(4)\n",
      "    n_max           10000000000\n",
      "    inflate         1.200\n",
      "    alpha           0.010\n",
      "Keister (Integrand Object)\n",
      "Gaussian (TrueMeasure Object)\n",
      "    mean            0\n",
      "    covariance      2^(-1)\n",
      "    decomp_type     PCA\n",
      "IIDStdUniform (DiscreteDistribution Object)\n",
      "    d               2^(1)\n",
      "    entropy         7\n",
      "    spawn_key       ()\n"
     ]
    }
   ],
   "source": [
    "abs_tol = .3\n",
    "integrand = Keister(IIDStdUniform(dimension=2, seed=7))\n",
    "solution,data = CubMCCLT(integrand,abs_tol=abs_tol,rel_tol=0,n_init=16, n_max=1e10).integrate()\n",
    "print(data)"
   ]
  },
  {
   "cell_type": "markdown",
   "id": "d3092db5-9257-4eb2-a585-f2409e728385",
   "metadata": {},
   "source": [
    "    >>> k = Keister(Lattice(2, order='linear', seed=123456789))\n",
    "    >>> sc = CubBayesLatticeG(k,abs_tol=.05)\n",
    "    >>> solution,data = sc.integrate()\n",
    "    >>> data\n",
    "    LDTransformBayesData (AccumulateData Object)\n",
    "        solution        1.808\n",
    "        comb_bound_low  1.808\n",
    "        comb_bound_high 1.809\n",
    "        comb_flags      1\n",
    "        n_total         2^(8)\n",
    "        n               2^(8)\n",
    "        time_integrate  ...\n",
    "    CubBayesLatticeG (StoppingCriterion Object)\n",
    "        abs_tol         0.050\n",
    "        rel_tol         0\n",
    "        n_init          2^(8)\n",
    "        n_max           2^(22)\n",
    "        order           2^(1)\n",
    "    Keister (Integrand Object)\n",
    "    Gaussian (TrueMeasure Object)\n",
    "        mean            0\n",
    "        covariance      2^(-1)\n",
    "        decomp_type     PCA\n",
    "    Lattice (DiscreteDistribution Object)\n",
    "        d               2^(1)\n",
    "        dvec            [0 1]\n",
    "        randomize       1\n",
    "        order           linear\n",
    "        gen_vec         [     1 182667]\n",
    "        entropy         123456789\n"
   ]
  },
  {
   "cell_type": "code",
   "execution_count": 4,
   "id": "d4410e02-3ac8-45c2-a6c8-f4e394e37681",
   "metadata": {},
   "outputs": [],
   "source": [
    "k = Keister(Lattice(2, order='linear', seed=123456789))\n",
    "sc = CubBayesLatticeG(k,abs_tol=.05)\n",
    "solution,data = sc.integrate()\n"
   ]
  },
  {
   "cell_type": "code",
   "execution_count": 5,
   "id": "028d9d73-e8a3-4e18-a259-fc4b2e027082",
   "metadata": {},
   "outputs": [
    {
     "data": {
      "text/plain": [
       "['EPS',\n",
       " '__class__',\n",
       " '__delattr__',\n",
       " '__dict__',\n",
       " '__dir__',\n",
       " '__doc__',\n",
       " '__eq__',\n",
       " '__format__',\n",
       " '__ge__',\n",
       " '__getattribute__',\n",
       " '__gt__',\n",
       " '__hash__',\n",
       " '__init__',\n",
       " '__init_subclass__',\n",
       " '__le__',\n",
       " '__lt__',\n",
       " '__module__',\n",
       " '__ne__',\n",
       " '__new__',\n",
       " '__reduce__',\n",
       " '__reduce_ex__',\n",
       " '__repr__',\n",
       " '__setattr__',\n",
       " '__sizeof__',\n",
       " '__str__',\n",
       " '__subclasshook__',\n",
       " '__weakref__',\n",
       " '_dimension_at_level',\n",
       " '_g',\n",
       " '_g2',\n",
       " '_spawn',\n",
       " 'bound_fun',\n",
       " 'd',\n",
       " 'd_comb',\n",
       " 'd_indv',\n",
       " 'dependency',\n",
       " 'discrete_distrib',\n",
       " 'exact_integ',\n",
       " 'f',\n",
       " 'g',\n",
       " 'leveltype',\n",
       " 'max_level',\n",
       " 'parallel',\n",
       " 'parameters',\n",
       " 'sampler',\n",
       " 'spawn',\n",
       " 'threadpool',\n",
       " 'true_measure']"
      ]
     },
     "execution_count": 5,
     "metadata": {},
     "output_type": "execute_result"
    }
   ],
   "source": [
    "dir(k)"
   ]
  },
  {
   "cell_type": "code",
   "execution_count": null,
   "id": "49db15cd-1d47-420a-9439-8b9b129b4488",
   "metadata": {},
   "outputs": [],
   "source": []
  }
 ],
 "metadata": {
  "kernelspec": {
   "display_name": "Python 3 (ipykernel)",
   "language": "python",
   "name": "python3"
  },
  "language_info": {
   "codemirror_mode": {
    "name": "ipython",
    "version": 3
   },
   "file_extension": ".py",
   "mimetype": "text/x-python",
   "name": "python",
   "nbconvert_exporter": "python",
   "pygments_lexer": "ipython3",
   "version": "3.9.13"
  }
 },
 "nbformat": 4,
 "nbformat_minor": 5
}
