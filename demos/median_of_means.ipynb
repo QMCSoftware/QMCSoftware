{
 "cells": [
  {
   "cell_type": "markdown",
   "metadata": {},
   "source": [
    "# Median of Means Stopping Criteria"
   ]
  },
  {
   "cell_type": "code",
   "execution_count": 2,
   "metadata": {},
   "outputs": [],
   "source": [
    "import qmcpy as qp\n",
    "import numpy as np\n",
    "import matplotlib.pyplot as plt\n"
   ]
  },
  {
   "cell_type": "markdown",
   "metadata": {},
   "source": [
    "Integrals to test:\n",
    "Keister\n",
    "Box integral\n",
    "Linear Function\n",
    "Baysesian Logistic Regression\n",
    "Genz Function \n",
    "Ishigami Function\n",
    "Multimodal 2d\n",
    "Asian Options\n",
    "Other custom functions"
   ]
  },
  {
   "cell_type": "code",
   "execution_count": null,
   "metadata": {},
   "outputs": [],
   "source": [
    "#mean of means vs. median of means\n",
    "\n",
    "def test_momsc(dimension=2,num_samples_min=6,num_samples_max=18,m_max=10,number_trails=25,random_seed=11,integral_type=\"Keister\",discrete_type=\"DigitalNetB2\"):\n",
    "    #parameters\n",
    "\n",
    "    d = dimension\n",
    "    N_min = num_samples_min \n",
    "    N_max = num_samples_max\n",
    "    N_list = 2**np.arange(N_min,N_max)\n",
    "    r = random_seed \n",
    "    num_trials = number_trails\n",
    "\n",
    "    #errors\n",
    "\n",
    "    error_median = np.zeros(N_max - N_min) \n",
    "    error_mean = np.zeros(N_max - N_min) \n",
    "    error_mean_onegen = np.zeros(N_max - N_min) \n",
    "    for i in range(num_trials):\n",
    "        #lists\n",
    "        y_median = []\n",
    "        y_mean = []\n",
    "        y_mean_one_gen = []\n",
    "        #integral objects\n",
    "        list_of_integrated_objects_random = []\n",
    "        list_of_integrated_objects_default = []\n",
    "        y_randomized_list = []\n",
    "        y_default_list = []\n",
    "        for k in range(r):\n",
    "            #select discrete distribution type\n",
    "            discrete = getattr(qp,discrete_type)\n",
    "            distribution = discrete(d,random_seed,m_max)\n",
    "\n",
    "            #select integrand, randomized distribution\n",
    "            integral = getattr(qp,integral_type)\n",
    "            integrand = integral(distribution)\n",
    "            list_of_integrated_objects_random.append(integrand)\n",
    "            x = integrand.discrete_distrib.gen_samples(N_list.max())\n",
    "            y = integrand.f(x)\n",
    "            y_randomized_list.append(y)\n",
    "\n",
    "            #select integrand, vanilla distribution\n",
    "            integrand = integral(discrete(d))\n",
    "            list_of_integrated_objects_default.append(integrand)\n",
    "            x = integrand.discrete_distrib.gen_samples(N_list.max())\n",
    "            y = integrand.f(x)    \n",
    "            y_default_list.append(y) \n",
    "                \n",
    "        for N in N_list:\n",
    "\n",
    "            y_median.append(np.median([np.mean(y[:N]) for y in y_randomized_list]))\n",
    "            y_mean_one_gen.append(np.mean([np.mean(y[:N]) for y in y_default_list]))\n",
    "            y_mean.append(np.mean([np.mean(y[:N]) for y in y_randomized_list]))\n",
    "\n",
    "        answer = integrand.exact_integ(d)\n",
    "        error_median += abs(answer-y_median)\n",
    "        error_mean += abs(answer-y_mean)\n",
    "        error_mean_onegen += abs(answer-y_mean_one_gen)\n",
    "\n",
    "    #error calculation\n",
    "\n",
    "    error_median /= num_trials\n",
    "    error_mean /= num_trials\n",
    "    error_mean_onegen /= num_trials\n",
    "\n",
    "    #plotting\n",
    "\n",
    "    plt.loglog(N_list,error_median,label = \"median of means\")\n",
    "    plt.loglog(N_list,error_mean,label = \"mean of means\")\n",
    "    plt.loglog(N_list,error_mean_onegen,label = \"mean of random shifts\")\n",
    "    plt.xlabel(\"sample size\")\n",
    "    plt.ylabel(\"error\")\n",
    "    plt.title(\"Comparison of Digital Net Generators\")\n",
    "    plt.legend()\n",
    "    plt.savefig(\"./meanvsmedian.png\")\n"
   ]
  }
 ],
 "metadata": {
  "kernelspec": {
   "display_name": "qmcpy",
   "language": "python",
   "name": "python3"
  },
  "language_info": {
   "codemirror_mode": {
    "name": "ipython",
    "version": 3
   },
   "file_extension": ".py",
   "mimetype": "text/x-python",
   "name": "python",
   "nbconvert_exporter": "python",
   "pygments_lexer": "ipython3",
   "version": "3.9.13"
  }
 },
 "nbformat": 4,
 "nbformat_minor": 2
}
