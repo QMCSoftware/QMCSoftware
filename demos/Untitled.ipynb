{
 "cells": [
  {
   "cell_type": "code",
   "execution_count": 2,
   "id": "06f1ded7-7f93-4f4b-934a-1844f0fbce68",
   "metadata": {},
   "outputs": [
    {
     "name": "stdout",
     "output_type": "stream",
     "text": [
      "okay\n"
     ]
    }
   ],
   "source": [
    "import qmcpy as qp\n",
    "import numpy as np\n",
    "import random\n",
    "import math\n",
    "import time\n",
    "import matplotlib.pyplot as plt\n",
    "import scipy\n",
    "from scipy.optimize import curve_fit\n",
    "print('okay')"
   ]
  },
  {
   "cell_type": "markdown",
   "id": "4ac50056-0e64-4649-b05b-ca446e88c78a",
   "metadata": {},
   "source": [
    "We want to examine Kronecker sequences in $[0,1]^d$ for Quasi-Monte Carlo integration. Kronecker sequences can be defined as\n",
    "$$\n",
    "\\{ x_i = ( i \\boldsymbol{\\alpha} + \\boldsymbol{\\Delta} ) \\bmod \\boldsymbol{1}~ | ~ i = 0, 1, 2, ... \\},\n",
    "$$\n",
    "where $\\boldsymbol{\\alpha}, \\boldsymbol{\\Delta} \\in [0,1)^d$. Below, we are comparing different sequences with the Kronecker sequences. By using Halton, Lattice, Digital Net base 2, and iid sequences, I wanted to see how they behave versus Kronecker sequences. We see that Kronecker sequence is a lot like Lattice sequence. The difference between both sequences is that Lattice sequence has to have a $2^m$ for $m \\in \\mathbb{N}$ number of samples, while Kronecker can have $n \\in \\mathbb{N}$ number of samples. Matter of fact, if we choose $\\boldsymbol{\\alpha}$ as $\\boldsymbol{h} \\phi_b(i)$, where $\\phi_b$ is the van der Corput sequence in base $b$, this would give us Lattice sequence, at which can be written as\n",
    "$$\n",
    "\\{ x_i = (\\boldsymbol{h} \\phi_b(i) + \\boldsymbol{\\Delta}) \\bmod \\boldsymbol{1}~ | ~ i = 0, 1, 2, ...\\},\n",
    "$$\n",
    "where $\\boldsymbol{h}$ is the chosen $d$-dimensional integer integer vector, $\\phi_b(i) = i_0 b^{-1} + i_1 b^{-2} + i_2 b^{-3} + ...$, and $\\boldsymbol{\\Delta} \\in [0,1)^d$ is the shift for the Lattice sequence. Notice, closely related they are compared to other sequences like iid,\n",
    "$$\n",
    "\\{ x_i = [\\phi_{b_1}(i), \\phi_{b_2}(i), \\phi_{b_3}(i), ..., \\phi_{b_d}(i)]~|~i = 0, 1, 2, ... \\},\n",
    "$$\n",
    "where for $b_1, b_2, b_3, ..., b_d$ are all distinct prime numbers in increasing order. And Digital Net 2 sequences can also be defined as\n",
    "\n",
    "#Also Digital Net 2 Sequences"
   ]
  },
  {
   "cell_type": "code",
   "execution_count": 3,
   "id": "259d493d-0969-41ae-a418-c6eec59d8d90",
   "metadata": {},
   "outputs": [
    {
     "ename": "TypeError",
     "evalue": "__init__() missing 3 required positional arguments: 'seed', 'd_limit', and 'n_limit'",
     "output_type": "error",
     "traceback": [
      "\u001b[1;31m---------------------------------------------------------------------------\u001b[0m",
      "\u001b[1;31mTypeError\u001b[0m                                 Traceback (most recent call last)",
      "Cell \u001b[1;32mIn[3], line 1\u001b[0m\n\u001b[1;32m----> 1\u001b[0m kronecker \u001b[38;5;241m=\u001b[39m \u001b[43mqp\u001b[49m\u001b[38;5;241;43m.\u001b[39;49m\u001b[43mKronecker\u001b[49m\u001b[43m(\u001b[49m\u001b[38;5;241;43m2\u001b[39;49m\u001b[43m)\u001b[49m\n",
      "File \u001b[1;32m~\\OneDrive\\Desktop\\QMCSoftware\\qmcpy\\discrete_distribution\\kronecker.py:40\u001b[0m, in \u001b[0;36mKronecker.__init__\u001b[1;34m(self, dimension, alpha, delta, replications, randomize, seed, m_max, d_max)\u001b[0m\n\u001b[0;32m     37\u001b[0m     \u001b[38;5;28;01melse\u001b[39;00m:\n\u001b[0;32m     38\u001b[0m         \u001b[38;5;28mself\u001b[39m\u001b[38;5;241m.\u001b[39malpha \u001b[38;5;241m=\u001b[39m alpha\n\u001b[1;32m---> 40\u001b[0m \u001b[38;5;28;43msuper\u001b[39;49m\u001b[43m(\u001b[49m\u001b[43mKronecker\u001b[49m\u001b[43m,\u001b[49m\u001b[38;5;28;43mself\u001b[39;49m\u001b[43m)\u001b[49m\u001b[38;5;241;43m.\u001b[39;49m\u001b[38;5;21;43m__init__\u001b[39;49m\u001b[43m(\u001b[49m\u001b[43mdimension\u001b[49m\u001b[43m,\u001b[49m\u001b[43mseed\u001b[49m\u001b[43m)\u001b[49m\n\u001b[0;32m     42\u001b[0m \u001b[38;5;28;01mif\u001b[39;00m \u001b[38;5;28mself\u001b[39m\u001b[38;5;241m.\u001b[39mrandomize:\n\u001b[0;32m     43\u001b[0m     \u001b[38;5;28mself\u001b[39m\u001b[38;5;241m.\u001b[39mdelta \u001b[38;5;241m=\u001b[39m random\u001b[38;5;241m.\u001b[39mrand(\u001b[38;5;28mself\u001b[39m\u001b[38;5;241m.\u001b[39mreplications, \u001b[38;5;28mself\u001b[39m\u001b[38;5;241m.\u001b[39mdimension)\n",
      "\u001b[1;31mTypeError\u001b[0m: __init__() missing 3 required positional arguments: 'seed', 'd_limit', and 'n_limit'"
     ]
    }
   ],
   "source": [
    "kronecker = qp.Kronecker(2)"
   ]
  },
  {
   "cell_type": "code",
   "execution_count": null,
   "id": "785b3c07-4f5e-49df-8da1-174776870089",
   "metadata": {},
   "outputs": [],
   "source": [
    "kronecker = qp.Kronecker(2)\n",
    "K = kronecker.gen_samples(512)\n",
    "    \"halton = qp.Halton(2)\\n\",\n",
    "    \"H = halton.gen_samples(512)\\n\",\n",
    "    \"\\n\",\n",
    "    \"lattice = qp.Lattice(2)\\n\",\n",
    "    \"L = lattice.gen_samples(512)\\n\",\n",
    "    \"\\n\",\n",
    "    \"dnb2 = qp.DigitalNetB2(2)\\n\",\n",
    "    \"d2 = dnb2.gen_samples(512)\\n\",\n",
    "    \"\\n\",\n",
    "    \"dd = qp.IIDStdUniform(2)\\n\",\n",
    "    \"iid = dd.gen_samples(512)\\n\",\n",
    "    \"\\n\",\n",
    "    \"# Create a line plot\\n\",\n",
    "    \"plt.scatter(K[:,0], K[:,1], color='blue', linestyle='dotted')\\n\",\n",
    "    \"plt.title('Kronecker')\\n\",\n",
    "    \"plt.xlabel('X-axis')\\n\",\n",
    "    \"plt.ylabel('Y-axis')\\n\",\n",
    "    \"plt.axis((0, 1, 0, 1))\\n\",\n",
    "    \"plt.grid(True)\\n\",\n",
    "    \"plt.show()\\n\",\n",
    "    \"\\n\",\n",
    "    \"plt.scatter(H[:,0], H[:, 1], color='red', linestyle='dotted')\\n\",\n",
    "    \"plt.title('Halton')\\n\",\n",
    "    \"plt.xlabel('X-axis')\\n\",\n",
    "    \"plt.ylabel('Y-axis')\\n\",\n",
    "    \"plt.axis((0, 1, 0, 1))\\n\",\n",
    "    \"plt.grid(True)\\n\",\n",
    "    \"plt.show()\\n\",\n",
    "    \"\\n\",\n",
    "    \"plt.scatter(L[:,0], L[:, 1], color='red', linestyle='dotted')\\n\",\n",
    "    \"plt.title('Lattice')\\n\",\n",
    "    \"plt.xlabel('X-axis')\\n\",\n",
    "    \"plt.ylabel('Y-axis')\\n\",\n",
    "    \"plt.axis((0, 1, 0, 1))\\n\",\n",
    "    \"plt.grid(True)\\n\",\n",
    "    \"plt.show()\\n\",\n",
    "    \"\\n\",\n",
    "    \"plt.scatter(d2[:,0], d2[:, 1], color='red', linestyle='dotted')\\n\",\n",
    "    \"plt.title('Digital Net base 2')\\n\",\n",
    "    \"plt.xlabel('X-axis')\\n\",\n",
    "    \"plt.ylabel('Y-axis')\\n\",\n",
    "    \"plt.axis((0, 1, 0, 1))\\n\",\n",
    "    \"plt.grid(True)\\n\",\n",
    "    \"plt.show()\\n\",\n",
    "    \"\\n\",\n",
    "    \"plt.scatter(iid[:,0], iid[:, 1], color='red', linestyle='dotted')\\n\",\n",
    "    \"plt.title('IID Standard Uniform')\\n\",\n",
    "    \"plt.xlabel('X-axis')\\n\",\n",
    "    \"plt.ylabel('Y-axis')\\n\",\n",
    "    \"plt.axis((0, 1, 0, 1))\\n\",\n",
    "    \"plt.grid(True)\\n\",\n",
    "    \"plt.show()\""
   ]
  }
 ],
 "metadata": {
  "kernelspec": {
   "display_name": "Python 3 (ipykernel)",
   "language": "python",
   "name": "python3"
  },
  "language_info": {
   "codemirror_mode": {
    "name": "ipython",
    "version": 3
   },
   "file_extension": ".py",
   "mimetype": "text/x-python",
   "name": "python",
   "nbconvert_exporter": "python",
   "pygments_lexer": "ipython3",
   "version": "3.9.5"
  }
 },
 "nbformat": 4,
 "nbformat_minor": 5
}
