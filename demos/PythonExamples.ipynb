{
 "cells": [
  {
   "cell_type": "markdown",
   "id": "7a717079",
   "metadata": {},
   "source": [
    "# Documenting Python Ways\n",
    "\n",
    "## Import Needed Packages"
   ]
  },
  {
   "cell_type": "code",
   "execution_count": 9,
   "id": "11c714ba",
   "metadata": {},
   "outputs": [],
   "source": [
    "import matplotlib.pyplot as plt\n",
    "import numpy as np\n",
    "import qmcpy as qp"
   ]
  },
  {
   "cell_type": "markdown",
   "id": "9cc36f17-0f5a-472b-9922-3a133af97960",
   "metadata": {},
   "source": [
    "## Printing"
   ]
  },
  {
   "cell_type": "code",
   "execution_count": 10,
   "id": "abaefc02-097c-4657-96a2-429648f1102d",
   "metadata": {},
   "outputs": [
    {
     "name": "stdout",
     "output_type": "stream",
     "text": [
      "Hello worldGoodbye world\n"
     ]
    }
   ],
   "source": [
    "print('Hello world',end = '', flush = True)  #controling line feeds\n",
    "print('Goodbye world')"
   ]
  },
  {
   "cell_type": "code",
   "execution_count": 18,
   "id": "5966537b-afad-404e-be5e-f180b038696d",
   "metadata": {},
   "outputs": [
    {
     "name": "stdout",
     "output_type": "stream",
     "text": [
      "The value of the variable a is 1\n"
     ]
    }
   ],
   "source": [
    "a = 1\n",
    "print (\"The value of the variable a is\",a)  #labeling the output"
   ]
  },
  {
   "cell_type": "code",
   "execution_count": null,
   "id": "f502c21a-33b7-462d-a161-77134c1f5c04",
   "metadata": {},
   "outputs": [],
   "source": [
    "#fstrings"
   ]
  },
  {
   "cell_type": "markdown",
   "id": "507e23fa-9f59-44c8-9435-68f0ef0f87a7",
   "metadata": {},
   "source": [
    "## Variables and arrays"
   ]
  },
  {
   "cell_type": "markdown",
   "id": "b162103b-15e7-4180-a313-983a61c2f113",
   "metadata": {},
   "source": [
    "### Initializing"
   ]
  },
  {
   "cell_type": "code",
   "execution_count": 12,
   "id": "5d7f8d60",
   "metadata": {},
   "outputs": [
    {
     "name": "stdout",
     "output_type": "stream",
     "text": [
      "x = [False False  True False False]\n"
     ]
    }
   ],
   "source": [
    "x = np.zeros(5,dtype=bool)  #initialize an array with Boolean entries\n",
    "x[2]=True\n",
    "print(\"x =\",x)"
   ]
  },
  {
   "cell_type": "code",
   "execution_count": 13,
   "id": "dabca22b-8676-4311-9c83-daf4fcfb2a24",
   "metadata": {},
   "outputs": [],
   "source": [
    "#add hstack and vstack"
   ]
  },
  {
   "cell_type": "code",
   "execution_count": 14,
   "id": "0c26c145",
   "metadata": {},
   "outputs": [
    {
     "name": "stdout",
     "output_type": "stream",
     "text": [
      "y = [[ 0 29]\n",
      " [ 1 31]\n",
      " [ 2 33]\n",
      " [ 3 35]\n",
      " [ 4 37]\n",
      " [ 5 39]\n",
      " [ 6 41]\n",
      " [ 7 43]\n",
      " [ 8 45]]\n"
     ]
    }
   ],
   "source": [
    "y = np.array([range(9),range(29,47,2)]).T  #initialize two dimensional array using the range command\n",
    "print('y =',y)"
   ]
  },
  {
   "cell_type": "markdown",
   "id": "7dac4a6f-e8aa-46f6-8ee8-aa445eb3f201",
   "metadata": {},
   "source": [
    "### Accessing subarrays"
   ]
  },
  {
   "cell_type": "code",
   "execution_count": 15,
   "id": "36decc7c",
   "metadata": {},
   "outputs": [
    {
     "name": "stdout",
     "output_type": "stream",
     "text": [
      "z = [[ 0 29]\n",
      " [ 1 31]\n",
      " [ 2 33]\n",
      " [ 3 35]] \n",
      "w = [[29]\n",
      " [31]\n",
      " [33]\n",
      " [35]\n",
      " [37]\n",
      " [39]\n",
      " [41]\n",
      " [43]\n",
      " [45]]\n"
     ]
    }
   ],
   "source": [
    "z = y[(y[:,0] <= 3),:]  #choose only those rows that meet a certain criterion\n",
    "w = y[:,(y.sum(0) > 100)]  #or choose only those columns that meet a certain criterion, note that \"sum\" is a method\n",
    "print('z =',z,'\\nw =',w)  #\\n means new line"
   ]
  },
  {
   "cell_type": "markdown",
   "id": "879ed2d2-bd22-4fc3-b842-977946709d55",
   "metadata": {},
   "source": [
    "### Methods (functions) for arrays"
   ]
  },
  {
   "cell_type": "code",
   "execution_count": 16,
   "id": "47ee73c5-6c17-4401-9ad6-4cb868241811",
   "metadata": {},
   "outputs": [
    {
     "name": "stdout",
     "output_type": "stream",
     "text": [
      "mean and standard deviation are \n",
      " [ 4. 37.] [2.73861279 5.47722558]\n"
     ]
    }
   ],
   "source": [
    "mean = y.mean(0)\n",
    "std = y.std(0,ddof=1)  #unbiased standard deviation\n",
    "# also, min, max, argmin, argmax, \n",
    "print('mean and standard deviation are \\n',mean,std)"
   ]
  },
  {
   "cell_type": "markdown",
   "id": "cf140c93",
   "metadata": {},
   "source": [
    "## Plotting"
   ]
  },
  {
   "cell_type": "code",
   "execution_count": null,
   "id": "97e6f85f-a310-4e3c-8dd5-a01380f75621",
   "metadata": {},
   "outputs": [],
   "source": []
  },
  {
   "cell_type": "code",
   "execution_count": null,
   "id": "c769ae4c-eabc-4edb-9a20-3963201c1d9a",
   "metadata": {},
   "outputs": [],
   "source": []
  }
 ],
 "metadata": {
  "kernelspec": {
   "display_name": "Python 3 (ipykernel)",
   "language": "python",
   "name": "python3"
  },
  "language_info": {
   "codemirror_mode": {
    "name": "ipython",
    "version": 3
   },
   "file_extension": ".py",
   "mimetype": "text/x-python",
   "name": "python",
   "nbconvert_exporter": "python",
   "pygments_lexer": "ipython3",
   "version": "3.9.13"
  }
 },
 "nbformat": 4,
 "nbformat_minor": 5
}
