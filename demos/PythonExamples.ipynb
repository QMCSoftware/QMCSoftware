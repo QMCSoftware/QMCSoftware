{
 "cells": [
  {
   "cell_type": "markdown",
   "id": "7a717079",
   "metadata": {},
   "source": [
    "# Documenting Python Ways\n",
    "\n",
    "## Import Needed Packages"
   ]
  },
  {
   "cell_type": "code",
   "execution_count": 2,
   "id": "11c714ba",
   "metadata": {},
   "outputs": [],
   "source": [
    "import matplotlib.pyplot as plt\n",
    "import numpy as np\n",
    "import qmcpy as qp"
   ]
  },
  {
   "cell_type": "markdown",
   "id": "b162103b-15e7-4180-a313-983a61c2f113",
   "metadata": {},
   "source": [
    "## Initializing variables and arrays"
   ]
  },
  {
   "cell_type": "code",
   "execution_count": 12,
   "id": "5d7f8d60",
   "metadata": {},
   "outputs": [
    {
     "name": "stdout",
     "output_type": "stream",
     "text": [
      "x = [False False  True False False]\n"
     ]
    }
   ],
   "source": [
    "x = np.zeros(5,dtype=bool)  #initialize an array with Boolean entries\n",
    "x[2]=True\n",
    "print(\"x =\",x)"
   ]
  },
  {
   "cell_type": "code",
   "execution_count": 13,
   "id": "0c26c145",
   "metadata": {},
   "outputs": [
    {
     "name": "stdout",
     "output_type": "stream",
     "text": [
      "y =  [[ 0 29]\n",
      " [ 1 31]\n",
      " [ 2 33]\n",
      " [ 3 35]\n",
      " [ 4 37]\n",
      " [ 5 39]\n",
      " [ 6 41]\n",
      " [ 7 43]\n",
      " [ 8 45]]\n"
     ]
    }
   ],
   "source": [
    "y = np.array([range(9),range(29,47,2)]).T  #initialize two dimensional array using the range command\n",
    "print('y = ',y)"
   ]
  },
  {
   "cell_type": "code",
   "execution_count": 20,
   "id": "36decc7c",
   "metadata": {},
   "outputs": [
    {
     "name": "stdout",
     "output_type": "stream",
     "text": [
      "[[0 0]\n",
      " [1 2]\n",
      " [2 4]\n",
      " [3 6]]\n"
     ]
    }
   ],
   "source": [
    "z = y[(y[:,0] <=3),:]\n",
    "print(z)"
   ]
  },
  {
   "cell_type": "code",
   "execution_count": 22,
   "id": "8ece7d49",
   "metadata": {},
   "outputs": [
    {
     "name": "stdout",
     "output_type": "stream",
     "text": [
      "[ True  True  True  True False False False]\n"
     ]
    }
   ],
   "source": [
    "z =y[:,0] <=3\n",
    "print(z)"
   ]
  },
  {
   "cell_type": "code",
   "execution_count": null,
   "id": "82bd497d",
   "metadata": {},
   "outputs": [],
   "source": [
    "w = "
   ]
  }
 ],
 "metadata": {
  "kernelspec": {
   "display_name": "Python 3 (ipykernel)",
   "language": "python",
   "name": "python3"
  },
  "language_info": {
   "codemirror_mode": {
    "name": "ipython",
    "version": 3
   },
   "file_extension": ".py",
   "mimetype": "text/x-python",
   "name": "python",
   "nbconvert_exporter": "python",
   "pygments_lexer": "ipython3",
   "version": "3.9.13"
  }
 },
 "nbformat": 4,
 "nbformat_minor": 5
}
