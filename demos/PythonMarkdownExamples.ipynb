{
 "cells": [
  {
   "cell_type": "markdown",
   "id": "7a717079",
   "metadata": {},
   "source": [
    "# Documenting Python and Markdown Ways by Example\n",
    "\n",
    "## Import Needed Packages"
   ]
  },
  {
   "cell_type": "code",
   "execution_count": 2,
   "id": "11c714ba",
   "metadata": {},
   "outputs": [],
   "source": [
    "import matplotlib.pyplot as plt\n",
    "import warnings  #to suppress warnings when needed\n",
    "warnings.filterwarnings('ignore')  #suppress all warnings\n",
    "import numpy as np\n",
    "import qmcpy as qp\n",
    "from simple_colors import *\n",
    "import sympy as sy"
   ]
  },
  {
   "cell_type": "markdown",
   "id": "a36a0dd9-bd0f-47d1-8c78-de2601cdaadb",
   "metadata": {},
   "source": [
    "### Some LaTeX macros (hidden in math mode)\n",
    "$\n",
    "\\newcommand{\\vt}{\\boldsymbol{t}}\n",
    "\\newcommand{\\vx}{\\boldsymbol{x}}\n",
    "\\newcommand{\\vX}{\\boldsymbol{X}}\n",
    "\\newcommand{\\cf}{\\mathcal{F}}\n",
    "\\newcommand{\\cu}{\\mathcal{U}}\n",
    "\\newcommand{\\dif}{\\mathrm{d}}\n",
    "\\newcommand{\\Ex}{\\mathbb{E}}\n",
    "\\DeclareMathOperator{\\disc}{disc}\n",
    "\\newcommand{\\norm}[2][{}]{{\\left \\lVert #2 \\right \\rVert}_{#1}}\n",
    "$"
   ]
  },
  {
   "cell_type": "markdown",
   "id": "9cc36f17-0f5a-472b-9922-3a133af97960",
   "metadata": {},
   "source": [
    "## Printing"
   ]
  },
  {
   "cell_type": "code",
   "execution_count": 2,
   "id": "5966537b-afad-404e-be5e-f180b038696d",
   "metadata": {},
   "outputs": [
    {
     "name": "stdout",
     "output_type": "stream",
     "text": [
      "The variable a is 3.141592653589793 or \u001b[4;1;3;32mapproximately\u001b[0m the value 3.1416\n",
      "The variable pi is approximately 3.1416 but not 2.71828183e+00\n"
     ]
    }
   ],
   "source": [
    "pi = np.pi\n",
    "print(\"The variable a is\",pi,f\"or\",green('approximately', ['underlined', 'bold', 'italic']),f\"the value {pi:.4f}\")  \n",
    "    #labeling the output and using f-strings and colors\n",
    "print(\"The variable pi is approximately %.4f but not %.8e\"%(pi,np.e))  "
   ]
  },
  {
   "cell_type": "code",
   "execution_count": 3,
   "id": "abaefc02-097c-4657-96a2-429648f1102d",
   "metadata": {},
   "outputs": [
    {
     "name": "stdout",
     "output_type": "stream",
     "text": [
      "Hello worldGoodbye world\n"
     ]
    }
   ],
   "source": [
    "print('Hello world',end = '', flush = True)  #controling line feeds\n",
    "print('Goodbye world')"
   ]
  },
  {
   "cell_type": "markdown",
   "id": "507e23fa-9f59-44c8-9435-68f0ef0f87a7",
   "metadata": {},
   "source": [
    "## Variables and arrays"
   ]
  },
  {
   "cell_type": "markdown",
   "id": "b162103b-15e7-4180-a313-983a61c2f113",
   "metadata": {},
   "source": [
    "### Initializing"
   ]
  },
  {
   "cell_type": "code",
   "execution_count": 4,
   "id": "5d7f8d60",
   "metadata": {},
   "outputs": [
    {
     "name": "stdout",
     "output_type": "stream",
     "text": [
      "x = [False False  True False False]\n"
     ]
    }
   ],
   "source": [
    "x = np.zeros(5,dtype=bool)  #initialize an array with Boolean entries\n",
    "x[2]=True\n",
    "print(\"x =\",x)"
   ]
  },
  {
   "cell_type": "markdown",
   "id": "3a172a26-a9de-4a69-971d-98f0e74b8995",
   "metadata": {},
   "source": [
    "### Plus equals (+=)"
   ]
  },
  {
   "cell_type": "code",
   "execution_count": 8,
   "id": "ecffd4f6-95de-44a5-8cc3-96cd0125d9f1",
   "metadata": {},
   "outputs": [
    {
     "name": "stdout",
     "output_type": "stream",
     "text": [
      "y = [0. 1. 2. 3. 4. 5. 6. 7. 8.]\n",
      "y = [1. 2. 3. 4. 5. 6. 7. 8. 9.]\n",
      "y = [-2.  0.  2.  4.  6.  8. 10. 12. 14.]\n",
      "y = [-0.    0.    2.25  6.75 13.5  22.5  33.75 47.25 63.  ]\n"
     ]
    }
   ],
   "source": [
    "y = np.array(range(9), dtype=float)\n",
    "print('y =',y)\n",
    "y += 1\n",
    "print('y =',y)\n",
    "y += np.array(range(-3,6))\n",
    "print('y =',y)\n",
    "y *= np.array(np.linspace(0,4.5,9))\n",
    "print('y =',y)"
   ]
  },
  {
   "cell_type": "markdown",
   "id": "420f5dc5-21f5-47ad-9d93-7118aec40c6b",
   "metadata": {},
   "source": [
    "### Stacking or concatenating\n",
    "See [this link](https://stackoverflow.com/questions/33356442/when-should-i-use-hstack-vstack-vs-append-vs-concatenate-vs-column-stack) for more concatenating options"
   ]
  },
  {
   "cell_type": "code",
   "execution_count": 6,
   "id": "0c26c145",
   "metadata": {},
   "outputs": [
    {
     "name": "stdout",
     "output_type": "stream",
     "text": [
      "y = [[ 0 29]\n",
      " [ 1 31]\n",
      " [ 2 33]\n",
      " [ 3 35]\n",
      " [ 4 37]\n",
      " [ 5 39]\n",
      " [ 6 41]\n",
      " [ 7 43]\n",
      " [ 8 45]]\n",
      "y1 =  [[ 0 29]\n",
      " [ 1 31]\n",
      " [ 2 33]\n",
      " [ 3 35]\n",
      " [ 4 37]\n",
      " [ 5 39]\n",
      " [ 6 41]\n",
      " [ 7 43]\n",
      " [ 8 45]\n",
      " [ 0 29]\n",
      " [ 1 31]\n",
      " [ 2 33]]\n",
      "y2 =  [[ 0 29 29]\n",
      " [ 1 31 31]\n",
      " [ 2 33 33]\n",
      " [ 3 35 35]\n",
      " [ 4 37 37]\n",
      " [ 5 39 39]\n",
      " [ 6 41 41]\n",
      " [ 7 43 43]\n",
      " [ 8 45 45]]\n",
      "y3 =  [[ 0 29 29]\n",
      " [ 1 31 31]\n",
      " [ 2 33 33]\n",
      " [ 3 35 35]\n",
      " [ 4 37 37]\n",
      " [ 5 39 39]\n",
      " [ 6 41 41]\n",
      " [ 7 43 43]\n",
      " [ 8 45 45]]\n"
     ]
    }
   ],
   "source": [
    "y = np.array([range(9),range(29,47,2)]).T  #initialize two dimensional array using the range command\n",
    "print('y =',y)\n",
    "y1 = np.vstack((y,y[:3])) #copying top three rows to the bottom by vstack\n",
    "print('y1 = ',y1)\n",
    "y2 = np.hstack((y,y[:,1,None])) #copying second column to the right by hstack\n",
    "print('y2 = ',y2)\n",
    "y3 = np.column_stack((y,y[:,1])) #copying second column to the right by columnstack, same as y2\n",
    "print('y3 = ',y3)"
   ]
  },
  {
   "cell_type": "markdown",
   "id": "7dac4a6f-e8aa-46f6-8ee8-aa445eb3f201",
   "metadata": {},
   "source": [
    "### Accessing subarrays"
   ]
  },
  {
   "cell_type": "code",
   "execution_count": 7,
   "id": "45945dea-6d07-4d6a-b6ef-6f2f6b7b9419",
   "metadata": {},
   "outputs": [
    {
     "name": "stdout",
     "output_type": "stream",
     "text": [
      "u =  [[ 6 41]\n",
      " [ 7 43]\n",
      " [ 8 45]]\n"
     ]
    }
   ],
   "source": [
    "u = y[-3:,]  #last three rows\n",
    "print('u = ',u)"
   ]
  },
  {
   "cell_type": "code",
   "execution_count": 8,
   "id": "36decc7c",
   "metadata": {},
   "outputs": [
    {
     "name": "stdout",
     "output_type": "stream",
     "text": [
      "z = [[ 0 29]\n",
      " [ 1 31]\n",
      " [ 2 33]\n",
      " [ 3 35]] \n",
      "w = [[29]\n",
      " [31]\n",
      " [33]\n",
      " [35]\n",
      " [37]\n",
      " [39]\n",
      " [41]\n",
      " [43]\n",
      " [45]]\n"
     ]
    }
   ],
   "source": [
    "z = y[(y[:,0] <= 3),:]  #choose only those rows that meet a certain criterion\n",
    "w = y[:,(y.sum(0) > 100)]  #or choose only those columns that meet a certain criterion, note that \"sum\" is a method\n",
    "print('z =',z,'\\nw =',w)  #\\n means new line"
   ]
  },
  {
   "cell_type": "markdown",
   "id": "879ed2d2-bd22-4fc3-b842-977946709d55",
   "metadata": {},
   "source": [
    "### Methods (functions) for arrays\n",
    "\n",
    "For more see [this link](https://numpy.org/doc/stable/reference/generated/numpy.ndarray.html)"
   ]
  },
  {
   "cell_type": "code",
   "execution_count": 9,
   "id": "47ee73c5-6c17-4401-9ad6-4cb868241811",
   "metadata": {},
   "outputs": [
    {
     "name": "stdout",
     "output_type": "stream",
     "text": [
      "column and row minima are \n",
      " [ 4. 37.] [14.5 16.  17.5 19.  20.5 22.  23.5 25.  26.5]\n",
      "mean and standard deviation are \n",
      " [ 4. 37.] [2.73861279 5.47722558]\n",
      "sum of means is 41.0 and their product is 148.0\n"
     ]
    }
   ],
   "source": [
    "column_min = y.mean(0)\n",
    "row_min = y.mean(1)\n",
    "print('column and row minima are \\n',column_min,row_min)\n",
    "mean = y.mean(0)\n",
    "std = y.std(0,ddof=1)  #unbiased standard deviation\n",
    "# also, min, max, argmin, argmax, \n",
    "print('mean and standard deviation are \\n',mean,std)\n",
    "sumofmeans = y.mean(0).sum()\n",
    "prodofmeans = y.mean(0).prod()\n",
    "print('sum of means is', sumofmeans, 'and their product is', prodofmeans)"
   ]
  },
  {
   "cell_type": "markdown",
   "id": "cf140c93",
   "metadata": {},
   "source": [
    "## Plotting"
   ]
  },
  {
   "cell_type": "code",
   "execution_count": 10,
   "id": "97e6f85f-a310-4e3c-8dd5-a01380f75621",
   "metadata": {},
   "outputs": [],
   "source": [
    "n = 64\n",
    "d = 3\n",
    "xpts = qp.Sobol(d, randomize = False).gen_samples(n)  #unscrambled Sobol points, suppressed warning that is not randomized"
   ]
  },
  {
   "cell_type": "markdown",
   "id": "f97d02b9-9b11-4e44-814f-7a3d86400e5e",
   "metadata": {},
   "source": [
    "### 1-Dimensional Plot"
   ]
  },
  {
   "cell_type": "code",
   "execution_count": 11,
   "id": "0bccd36a-be0d-43f0-beec-00e957710182",
   "metadata": {},
   "outputs": [
    {
     "data": {
      "image/png": "[encoded data removed]",
      "text/plain": [
       "<Figure size 640x480 with 1 Axes>"
      ]
     },
     "metadata": {},
     "output_type": "display_data"
    }
   ],
   "source": [
    "fig, ax = plt.subplots()\n",
    "ax.plot(xpts[:,0], np.zeros_like(xpts[:,0]), 'b.', markersize = 10, zorder=10, clip_on=False)  #just the first coordinate\n",
    "ax.set_ylim([0, 3e-2])\n",
    "ax.set_title(f\"{n:.0f} Equally Spaced Points\")\n",
    "ax.set_xlabel(\"$x_i$\")\n",
    "ax.set_aspect(1)\n",
    "ax.axes.get_yaxis().set_visible(False)  #turn off the tics on the vertical axis\n",
    "ax.spines[['top','right','left']].set_visible(False)  #turn off the bounding box on the top and sides"
   ]
  },
  {
   "cell_type": "markdown",
   "id": "58c629d6-4043-4dd7-af6c-5f7ec45c7f39",
   "metadata": {},
   "source": [
    "### 2-Dimensional Plot"
   ]
  },
  {
   "cell_type": "markdown",
   "id": "baf75f28-5232-4363-bfff-7bbd083a4516",
   "metadata": {},
   "source": [
    "### 2-D Plot with Different Scales\n",
    "[See this url for details](https://matplotlib.org/stable/gallery/subplots_axes_and_figures/two_scales.html)"
   ]
  },
  {
   "cell_type": "markdown",
   "id": "3e53a6aa-09cc-460f-a8bf-9afc0bcabdf7",
   "metadata": {},
   "source": [
    "## Symbolic Computation"
   ]
  },
  {
   "cell_type": "code",
   "execution_count": 12,
   "id": "30a4b55f-24f4-4220-9f84-c288f7eac1bb",
   "metadata": {},
   "outputs": [
    {
     "name": "stdout",
     "output_type": "stream",
     "text": [
      "y =  (x + 1)**2\n",
      "a =  2*x + 2\n"
     ]
    }
   ],
   "source": [
    "x, y, z = sy.symbols('x y z')\n",
    "y = (x + 1)**2\n",
    "print('y = ',y)\n",
    "a = sy.diff(y,x)\n",
    "print('a = ',a)"
   ]
  },
  {
   "cell_type": "markdown",
   "id": "46341105-28ea-4d05-b888-72e68c751d74",
   "metadata": {},
   "source": [
    "### Example from discrepancy"
   ]
  },
  {
   "cell_type": "code",
   "execution_count": 13,
   "id": "a9a68242-5330-4bfc-b9ed-cb73281e9e73",
   "metadata": {},
   "outputs": [
    {
     "name": "stdout",
     "output_type": "stream",
     "text": [
      "-x*Min(1, x) + Min(1, x)**2/2 + 3/2\n",
      "4/3\n"
     ]
    }
   ],
   "source": [
    "x, t = sy.symbols('x t',positive =  True)\n",
    "K = 2 - sy.Max(x,t) #kernel for the L2 star discrepancy\n",
    "intK = sy.simplify(sy.integrate(K,(t,0,1))) #integral of the kernel with respect to one variable\n",
    "print(intK)\n",
    "intintK = sy.simplify(sy.integrate(intK,(x,0,1))) #integral of the kernel with respect to both variables\n",
    "print(intintK)"
   ]
  },
  {
   "cell_type": "markdown",
   "id": "bf6823e4-d878-41d9-a130-ecba068e435b",
   "metadata": {},
   "source": [
    "## Making Colab Notebooks"
   ]
  },
  {
   "cell_type": "markdown",
   "id": "f6d4037f-dc9c-42a0-bb9e-c10c6e5b7111",
   "metadata": {},
   "source": [
    "## Images \n",
    "See [this link](https://medium.com/@yogeshkd/four-ways-to-embed-images-in-your-jupyter-notebook-powered-blog-2d28f6d1b6e6) for more information"
   ]
  },
  {
   "cell_type": "code",
   "execution_count": null,
   "id": "1077dbad-33b2-4237-bbad-c3c039d1821b",
   "metadata": {},
   "outputs": [],
   "source": []
  }
 ],
 "metadata": {
  "kernelspec": {
   "display_name": "Python 3 (ipykernel)",
   "language": "python",
   "name": "python3"
  },
  "language_info": {
   "codemirror_mode": {
    "name": "ipython",
    "version": 3
   },
   "file_extension": ".py",
   "mimetype": "text/x-python",
   "name": "python",
   "nbconvert_exporter": "python",
   "pygments_lexer": "ipython3",
   "version": "3.9.13"
  }
 },
 "nbformat": 4,
 "nbformat_minor": 5
}
