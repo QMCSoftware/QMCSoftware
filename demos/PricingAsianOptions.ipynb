{
 "cells": [
  {
   "cell_type": "markdown",
   "metadata": {},
   "source": [
    "## Pricing Asian Style Options\n",
    "In this cript we show how to use classes in *QMCPy* for Monte Carlo option pricing of options with Asian style payoffs and European exercise.\n",
    " \n",
    "- The payoff depends on the whole asset price path, not only on the terminal asset price.\n",
    "- The option is only exercised at expiry, unlike American options, which can be exercised at any time before expiry.\n"
   ]
  },
  {
   "cell_type": "code",
   "execution_count": 1,
   "metadata": {},
   "outputs": [
    {
     "name": "stderr",
     "output_type": "stream",
     "text": [
      "/Users/yding/opt/anaconda3/envs/qmcpy/lib/python3.9/site-packages/scipy/__init__.py:155\n",
      "\tUserWarning: A NumPy version >=1.18.5 and <1.26.0 is required for this version of SciPy (detected version 1.26.4\n"
     ]
    }
   ],
   "source": [
    "# Import necessary packages\n",
    "import qmcpy as qp\n",
    "import numpy as np\n",
    "from scipy import stats\n",
    "import matplotlib.pyplot as plt\n",
    "import time"
   ]
  },
  {
   "cell_type": "markdown",
   "metadata": {},
   "source": [
    "### European Options"
   ]
  },
  {
   "cell_type": "code",
   "execution_count": 3,
   "metadata": {},
   "outputs": [],
   "source": [
    "initPrice = 120 # initial stock price\n",
    "interest = 0.02 # risk-free interest rate\n",
    "vol = 0.5 # volatility\n",
    "callput = 'call' # call options\n",
    "strike = 130 # strike price\n",
    "tfinal = 1/4 # mature time\n",
    "d = 12 # number of observations\n",
    "absTol = 0.05 # absolute tolerance of a nickel\n",
    "relTol = 0 # zero relative tolerance\n",
    "sampleSize = 10**6 # number of smaple size\n"
   ]
  },
  {
   "cell_type": "code",
   "execution_count": 4,
   "metadata": {},
   "outputs": [
    {
     "name": "stdout",
     "output_type": "stream",
     "text": [
      "The exact price of this European Call Option is  8.2779\n",
      "After generate  1000000 iid points, the price of estimation of the fair price is 8.2741\n"
     ]
    }
   ],
   "source": [
    "EuroCall = qp.EuropeanOption(qp.IIDStdUniform(dimension=d,seed=7), volatility= vol,start_price= initPrice,\n",
    "                       strike_price=strike, interest_rate = interest,t_final=1/4,call_put=callput)\n",
    "x = EuroCall.discrete_distrib.gen_samples(sampleSize)\n",
    "y = EuroCall.f(x)\n",
    "print(\"The exact price of this European Call Option is \",f\"{EuroCall.get_exact_value():.4f}\")\n",
    "print(\"After generate \", sampleSize,\"iid points, the price of estimation of the fair price is\",f\"{y.mean():.4f}\")"
   ]
  },
  {
   "cell_type": "markdown",
   "metadata": {},
   "source": [
    "### Arithmetic Mean Options\n",
    "The payoff of the arithmetic mean option depends on the average of the\n",
    "stock price, not the final stock price.  Here are the discounted payoffs:\n",
    "\n",
    "$$\\begin{array}{rcc}\n",
    " & \\textbf{call} & \\textbf{put} \\\\ \\hline\n",
    "\\textbf{payoff} & \n",
    "\\displaystyle \\max\\biggl(\\frac 1d \\sum_{j=1}^d S(jT/d) - K,0 \\biggr)\\mathsf{e}^{-rT} & \n",
    "\\displaystyle \\max\\biggl(K - \\frac 1d \\sum_{j=1}^d S(jT/d),0 \\biggr)\\mathsf{e}^{-rT} \n",
    "\\end{array}\n",
    "$$"
   ]
  },
  {
   "cell_type": "code",
   "execution_count": 5,
   "metadata": {},
   "outputs": [
    {
     "name": "stdout",
     "output_type": "stream",
     "text": [
      "After generate  1000000 iid points, the price of this Arithmetic Mean Call Option is 3.3857\n"
     ]
    }
   ],
   "source": [
    "meanType = 'arithmetic'\n",
    "ArithMeanCall = qp.AsianOption(qp.IIDStdUniform(dimension=d,seed=7), volatility= vol,start_price= initPrice, strike_price=strike, interest_rate = interest,t_final=1/4,call_put=callput,mean_type=meanType)\n",
    "x = ArithMeanCall.discrete_distrib.gen_samples(sampleSize)\n",
    "y = ArithMeanCall.f(x)\n",
    "print(\"After generate \", sampleSize,\"iid points, the price of this Arithmetic Mean Call Option is\",f\"{y.mean():.4f}\")"
   ]
  },
  {
   "cell_type": "markdown",
   "metadata": {},
   "source": [
    "The price of the Asian arithmetic mean call option is smaller than the price of the European call option.  \n",
    "\n",
    "We may also price the Asian arithmetic mean put option as follows:"
   ]
  },
  {
   "cell_type": "code",
   "execution_count": 6,
   "metadata": {},
   "outputs": [
    {
     "name": "stdout",
     "output_type": "stream",
     "text": [
      "After generate  1000000 iid points, the price of this Arithmetic Mean Put Option is  13.0448\n"
     ]
    }
   ],
   "source": [
    "ArithMeanPut = ArithMeanCall\n",
    "ArithMeanPut.call_put = 'put'\n",
    "x = ArithMeanPut.discrete_distrib.gen_samples(sampleSize)\n",
    "y = ArithMeanPut.f(x)\n",
    "print(\"After generate \", sampleSize,\"iid points, the price of this Arithmetic Mean Put Option is \",f\"{y.mean():.4f}\")"
   ]
  },
  {
   "cell_type": "markdown",
   "metadata": {},
   "source": [
    "Note that the price is greater.  This is because one strike price is\n",
    "above the initial price, making the expected payoff greater.\n",
    "\n",
    "In the limit of continuous monitoring $d \\to \\infty$, the payoff is \n",
    "\n",
    "$$\n",
    "\\begin{array}{rcc}\n",
    "& \\textbf{call} & \\textbf{put} \\\\ \\hline\n",
    "\\textbf{payoff} & \n",
    "\\displaystyle \\max\\biggl(\\frac 1T \\int_{0}^T S(t) \\, {\\rm d} t - K,0 \\biggr)\\mathsf{e}^{-rT} & \n",
    "\\displaystyle \\max\\biggl(K - \\frac 1T \\int_{0}^T S(t) \\, {\\rm d} t,0 \\biggr)\\mathsf{e}^{-rT} \n",
    "\\end{array} \n",
    "$$\n",
    "\n",
    "Such an option can be approximated by taking smaller time steps:"
   ]
  },
  {
   "cell_type": "code",
   "execution_count": 7,
   "metadata": {},
   "outputs": [
    {
     "name": "stdout",
     "output_type": "stream",
     "text": [
      "After generate  1000000 iid points, the price of this Arithmetic Mean Call Option is 3.3948\n"
     ]
    }
   ],
   "source": [
    "d = 62 # Daily Monitoring\n",
    "ArithMeanCall.sampler = qp.IIDStdUniform(dimension=d,seed=7)\n",
    "ArithMeanCall.call_put = 'call'\n",
    "x = ArithMeanCall.discrete_distrib.gen_samples(sampleSize)\n",
    "y = ArithMeanCall.f(x)\n",
    "print(\"After generate \", sampleSize,\"iid points, the price of this Arithmetic Mean Call Option is\",f\"{y.mean():.4f}\")"
   ]
  },
  {
   "cell_type": "markdown",
   "metadata": {},
   "source": [
    "The price is a bit lower, and the time is longer because more time steps are needed, which means more random variables are needed."
   ]
  },
  {
   "cell_type": "markdown",
   "metadata": {},
   "source": [
    "### Geometric Mean Options\n",
    "One can also base the payoff on a geometric mean rather than an arithmetic mean.  Such options have a closed form solution.  \n",
    "\n",
    "The price of\n",
    "a geometric mean \n",
    "$\n",
    "\\begin{Bmatrix} \n",
    "\\text{call} \\\\ \n",
    "\\text{put}\n",
    "\\end{Bmatrix}$\n",
    "option is \n",
    "$\\begin{Bmatrix} \\le \\\\\n",
    "\\ge \\end{Bmatrix}$\n",
    "the\n",
    "price of an arithmetic mean $\\begin{Bmatrix} \\text{call} \\\\\\text{put} \\end{Bmatrix}$ option because a geometric mean is smaller\n",
    "than an arithmetic mean."
   ]
  },
  {
   "cell_type": "code",
   "execution_count": 8,
   "metadata": {},
   "outputs": [
    {
     "name": "stdout",
     "output_type": "stream",
     "text": [
      "After generate  1000000 iid points, the price of this Geometric Mean Put Option is  13.4415\n"
     ]
    }
   ],
   "source": [
    "GeoMeanPut = ArithMeanCall\n",
    "d = 12 #Weekly Monitoring for three months\n",
    "GeoMeanPut.sampler = qp.IIDStdUniform(dimension=d,seed=7) \n",
    "GeoMeanPut.mean_type = 'geometric'\n",
    "GeoMeanPut.call_put = 'put'\n",
    "x = GeoMeanPut.discrete_distrib.gen_samples(sampleSize)\n",
    "y = GeoMeanPut.f(x)\n",
    "print(\"After generate \", sampleSize,\"iid points, the price of this Geometric Mean Put Option is \",f\"{y.mean():.4f}\")"
   ]
  },
  {
   "cell_type": "code",
   "execution_count": 9,
   "metadata": {},
   "outputs": [
    {
     "name": "stdout",
     "output_type": "stream",
     "text": [
      "After generate  1000000 iid points, the price of this Geometric Mean Call Option is  3.1267\n"
     ]
    }
   ],
   "source": [
    "GeoMeanCall = GeoMeanPut\n",
    "GeoMeanPut.call_put = 'call'\n",
    "x = GeoMeanCall.discrete_distrib.gen_samples(sampleSize)\n",
    "y = GeoMeanCall.f(x)\n",
    "print(\"After generate \", sampleSize,\"iid points, the price of this Geometric Mean Call Option is \",f\"{y.mean():.4f}\")"
   ]
  },
  {
   "cell_type": "markdown",
   "metadata": {},
   "source": [
    "### Barrier Option\n",
    "In barrier options the payoff only occurs if the asset price crosses or\n",
    "fails to cross a barrier, $b$\n",
    "\n",
    "$$\n",
    "\\begin{array}{rcc}\n",
    " & \\textbf{up} (S(0) < b) & \\textbf{down} (S(0) > b) \\\\ \\hline\n",
    " \\textbf{in} & \\text{active if } S(t) \\ge b & \\text{active if } S(t) \\le\n",
    " b \\\\\n",
    " \\textbf{out} & \\text{inactive if } S(t) \\ge b & \\text{inactive if } S(t) \\le\n",
    " b \n",
    " \\end{array}\n",
    "$$\n",
    "\n",
    "For the barrier option with a European call type payoff, this corresponds to \n",
    "\n",
    "$$\n",
    " \\begin{array}{rcc}\n",
    " \\textbf{payoff} & \\textbf{up} (S(0) < b) & \\textbf{down} (S(0) > b) \\\\ \\hline\n",
    " \\textbf{in} & \n",
    " 1_{[b,\\infty)}(\\max_{0 \\le t \\le T} S(t)) \\max(S(T)-K,0)\\mathsf{e}^{-rT} & \n",
    " 1_{[0,b]}(\\min_{0 \\le t \\le T} S(t)) \\max(S(T)-K,0)\\mathsf{e}^{-rT} \\\\\n",
    " \\textbf{out} & 1_{[0,b)}(\\max_{0 \\le t \\le T} S(t)) \\max(S(T)-K,0)\\mathsf{e}^{-rT} & \n",
    " 1_{[b,\\infty)}(\\min_{0 \\le t \\le T} S(t)) \\max(S(T)-K,0)\\mathsf{e}^{-rT}\n",
    " \\end{array}\n",
    "$$"
   ]
  },
  {
   "cell_type": "code",
   "execution_count": 11,
   "metadata": {},
   "outputs": [
    {
     "name": "stdout",
     "output_type": "stream",
     "text": [
      "After generate  1000000 iid points, the price of this Barrier UpIn Call Option is  7.4060\n"
     ]
    }
   ],
   "source": [
    "barrier = 150\n",
    "inOutType = 'in'\n",
    "BarrierUpInCall = qp.BarrierOption(qp.IIDStdUniform(dimension=d,seed=7), volatility= vol,start_price= initPrice,\n",
    "                       strike_price=strike, barrier_price=barrier,interest_rate = interest,t_final=1/4,call_put='call',in_out = 'in')\n",
    "x = BarrierUpInCall.discrete_distrib.gen_samples(sampleSize)\n",
    "y = BarrierUpInCall.f(x)\n",
    "print(\"After generate \", sampleSize,\"iid points, the price of this Barrier UpIn Call Option is \",f\"{y.mean():.4f}\")"
   ]
  },
  {
   "cell_type": "markdown",
   "metadata": {},
   "source": [
    "Note that this price is less than the European call option because the asset price must cross the barrier for the option to become active."
   ]
  },
  {
   "cell_type": "markdown",
   "metadata": {},
   "source": [
    "### Lookback Options\n",
    "Lookback options do not use a strike price but use the minimum or maximum asset price as their strike.  The discounted payoffs are\n",
    "\n",
    "$$\n",
    "\\begin{array}{rcc}\n",
    "& \\textbf{call} & \\textbf{put} \\\\ \\hline\n",
    " \\textbf{payoff} & \n",
    " \\displaystyle \\Bigl(S(T) - \\min_{0 \\le t \\le T} S(t),0 \\Bigr)\\mathsf{e}^{-rT} & \n",
    " \\displaystyle \\Bigl(\\max_{0 \\le t \\le T} S(t) - S(T),0 \\Bigr)\\mathsf{e}^{-rT} \n",
    " \\end{array}\n",
    "$$\n",
    "\n",
    "where the values of $t$ considered for the minimum or maximum are either discrete, $0, T/d, \\dots, T$, or continuous.  Note that we would\n",
    "expect the prices of these options to be greater than their out of the money European counterparts."
   ]
  },
  {
   "cell_type": "code",
   "execution_count": 10,
   "metadata": {},
   "outputs": [],
   "source": [
    "#LookCall = qp.LookBackOption(qp.IIDStdUniform(dimension=d,seed=7), volatility= volatility,start_price= initPrice,\n",
    "#                             interest_rate = interest,t_final=1/4,call_put='call',in_out = 'in')\n",
    "#x = LookCall.discrete_distrib.gen_samples(sampleSize)\n",
    "LookCall = qp.LookBackOption(volatility= vol,start_price= initPrice,\n",
    "                             interest_rate = interest,t_final=1/4,call_put='call')\n",
    "x = LookCall.discrete_distrib.gen_samples(2**12)\n",
    "y = LookCall.f(x)\n",
    "print(\"After generate \", sampleSize,\"iid points, the price of this Lookback Call Option is \",f\"{y.mean():.4f}\")"
   ]
  }
 ],
 "metadata": {
  "kernelspec": {
   "display_name": "qmcpy",
   "language": "python",
   "name": "python3"
  },
  "language_info": {
   "codemirror_mode": {
    "name": "ipython",
    "version": 3
   },
   "file_extension": ".py",
   "mimetype": "text/x-python",
   "name": "python",
   "nbconvert_exporter": "python",
   "pygments_lexer": "ipython3",
   "version": "3.9.13"
  }
 },
 "nbformat": 4,
 "nbformat_minor": 2
}
