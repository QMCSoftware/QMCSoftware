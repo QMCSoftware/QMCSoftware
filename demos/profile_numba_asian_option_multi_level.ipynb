{
 "cells": [
  {
   "cell_type": "markdown",
   "id": "e700ab90",
   "metadata": {},
   "source": [
    "The purpose of this notebook is to demonstrate how to apply Numba and make a small change in QMCPy codebase, achieving a signifcant reduction of run time for the example of pricing an Asian call option with multi-level Monte Carlo method in QMCPy. The main change we have made is to replace line 122 in _integrand.py with the following:"
   ]
  },
  {
   "cell_type": "raw",
   "id": "352fd278",
   "metadata": {},
   "source": [
    "    from numba import jit\n",
    "  \n",
    "    @jit\n",
    "    def f(y, wp):\n",
    "        for i in range(n): y[i] = y[i]*wp[i]\n",
    "            return y\n",
    "        \n",
    "        "
   ]
  },
  {
   "cell_type": "markdown",
   "id": "b0ef0d37",
   "metadata": {},
   "source": [
    "Author: Sou-Cheng Choi and Josh Herman\n",
    "\n",
    "Date upodated: Mar 27, 2022\n",
    "\n",
    "Date created: Mar 27, 2022"
   ]
  },
  {
   "cell_type": "code",
   "execution_count": 1,
   "id": "2314f012",
   "metadata": {},
   "outputs": [],
   "source": [
    "import os\n",
    "import cProfile"
   ]
  },
  {
   "cell_type": "raw",
   "id": "96dbdd08",
   "metadata": {},
   "source": [
    "cwd = os. getcwd()\n",
    "cwd"
   ]
  },
  {
   "cell_type": "code",
   "execution_count": 2,
   "id": "08a29a14",
   "metadata": {
    "scrolled": true
   },
   "outputs": [],
   "source": [
    "from qmcpy import *"
   ]
  },
  {
   "cell_type": "code",
   "execution_count": 3,
   "id": "8c924ce9",
   "metadata": {},
   "outputs": [],
   "source": [
    "from workouts.integration_examples.asian_option_multi_level import asian_option_multi_level"
   ]
  },
  {
   "cell_type": "markdown",
   "id": "a9246021",
   "metadata": {},
   "source": [
    "## Using time or timeit magic"
   ]
  },
  {
   "cell_type": "markdown",
   "id": "93a8b16a",
   "metadata": {},
   "source": [
    "`%timeit`: line magic \n",
    "\n",
    "`%%timeit`: cell magic \n",
    "\n",
    "`%time`: line magic "
   ]
  },
  {
   "cell_type": "code",
   "execution_count": 4,
   "id": "d6e10511",
   "metadata": {},
   "outputs": [
    {
     "name": "stdout",
     "output_type": "stream",
     "text": [
      "\n",
      "~~~~~~~~~~~~~~~~~~~~~~~~~~~~~~~~~~~~~~~~~~~~~~~~~~~~~~~~~~~~~~~~~~~~~~~~~~~~~~~~~~~~~~~~~~~~~~~~~~~~\n",
      "\n",
      "MeanVarData (AccumulateData Object)\n",
      "    solution        5.840\n",
      "    error_bound     0.010\n",
      "    n_total         6822642\n",
      "    n               [5349996. 1217163.  252411.]\n",
      "    levels          3\n",
      "    time_integrate  7.015\n",
      "CubMCCLT (StoppingCriterion Object)\n",
      "    abs_tol         0.010\n",
      "    rel_tol         0\n",
      "    n_init          2^(10)\n",
      "    n_max           10000000000\n",
      "    inflate         1.200\n",
      "    alpha           0.010\n",
      "AsianOption (Integrand Object)\n",
      "    volatility      2^(-1)\n",
      "    call_put        call\n",
      "    start_price     30\n",
      "    strike_price    25\n",
      "    interest_rate   0.010\n",
      "    mean_type       geometric\n",
      "    multilevel_dims [ 4 16 64]\n",
      "BrownianMotion (TrueMeasure Object)\n",
      "    time_vec        1\n",
      "    drift           0\n",
      "    mean            0\n",
      "    covariance      1\n",
      "    decomp_type     PCA\n",
      "IIDStdUniform (DiscreteDistribution Object)\n",
      "    d               1\n",
      "    entropy         7\n",
      "    spawn_key       ()\n",
      "~~~~~~~~~~~~~~~~~~~~~~~~~~~~~~~~~~~~~~~~~~~~~~~~~~~~~~~~~~~~~~~~~~~~~~~~~~~~~~~~~~~~~~~~~~~~~~~~~~~~\n",
      "\n",
      "\n",
      "~~~~~~~~~~~~~~~~~~~~~~~~~~~~~~~~~~~~~~~~~~~~~~~~~~~~~~~~~~~~~~~~~~~~~~~~~~~~~~~~~~~~~~~~~~~~~~~~~~~~\n",
      "\n",
      "MeanVarData (AccumulateData Object)\n",
      "    solution        5.840\n",
      "    error_bound     0.010\n",
      "    n_total         6641528\n",
      "    n               [5578562.  874967.  184927.]\n",
      "    levels          3\n",
      "    time_integrate  5.754\n",
      "CubMCCLT (StoppingCriterion Object)\n",
      "    abs_tol         0.010\n",
      "    rel_tol         0\n",
      "    n_init          2^(10)\n",
      "    n_max           10000000000\n",
      "    inflate         1.200\n",
      "    alpha           0.010\n",
      "AsianOption (Integrand Object)\n",
      "    volatility      2^(-1)\n",
      "    call_put        call\n",
      "    start_price     30\n",
      "    strike_price    25\n",
      "    interest_rate   0.010\n",
      "    mean_type       geometric\n",
      "    multilevel_dims [ 4 16 64]\n",
      "BrownianMotion (TrueMeasure Object)\n",
      "    time_vec        1\n",
      "    drift           0\n",
      "    mean            0\n",
      "    covariance      1\n",
      "    decomp_type     PCA\n",
      "IIDStdUniform (DiscreteDistribution Object)\n",
      "    d               1\n",
      "    entropy         7\n",
      "    spawn_key       ()\n",
      "~~~~~~~~~~~~~~~~~~~~~~~~~~~~~~~~~~~~~~~~~~~~~~~~~~~~~~~~~~~~~~~~~~~~~~~~~~~~~~~~~~~~~~~~~~~~~~~~~~~~\n",
      "\n",
      "\n",
      "~~~~~~~~~~~~~~~~~~~~~~~~~~~~~~~~~~~~~~~~~~~~~~~~~~~~~~~~~~~~~~~~~~~~~~~~~~~~~~~~~~~~~~~~~~~~~~~~~~~~\n",
      "\n",
      "MeanVarData (AccumulateData Object)\n",
      "    solution        5.841\n",
      "    error_bound     0.010\n",
      "    n_total         6652944\n",
      "    n               [5544669.  916816.  188387.]\n",
      "    levels          3\n",
      "    time_integrate  5.689\n",
      "CubMCCLT (StoppingCriterion Object)\n",
      "    abs_tol         0.010\n",
      "    rel_tol         0\n",
      "    n_init          2^(10)\n",
      "    n_max           10000000000\n",
      "    inflate         1.200\n",
      "    alpha           0.010\n",
      "AsianOption (Integrand Object)\n",
      "    volatility      2^(-1)\n",
      "    call_put        call\n",
      "    start_price     30\n",
      "    strike_price    25\n",
      "    interest_rate   0.010\n",
      "    mean_type       geometric\n",
      "    multilevel_dims [ 4 16 64]\n",
      "BrownianMotion (TrueMeasure Object)\n",
      "    time_vec        1\n",
      "    drift           0\n",
      "    mean            0\n",
      "    covariance      1\n",
      "    decomp_type     PCA\n",
      "IIDStdUniform (DiscreteDistribution Object)\n",
      "    d               1\n",
      "    entropy         7\n",
      "    spawn_key       ()\n",
      "~~~~~~~~~~~~~~~~~~~~~~~~~~~~~~~~~~~~~~~~~~~~~~~~~~~~~~~~~~~~~~~~~~~~~~~~~~~~~~~~~~~~~~~~~~~~~~~~~~~~\n",
      "\n",
      "\n",
      "~~~~~~~~~~~~~~~~~~~~~~~~~~~~~~~~~~~~~~~~~~~~~~~~~~~~~~~~~~~~~~~~~~~~~~~~~~~~~~~~~~~~~~~~~~~~~~~~~~~~\n",
      "\n",
      "MeanVarData (AccumulateData Object)\n",
      "    solution        5.840\n",
      "    error_bound     0.010\n",
      "    n_total         6640562\n",
      "    n               [5580954.  870673.  185863.]\n",
      "    levels          3\n",
      "    time_integrate  5.976\n",
      "CubMCCLT (StoppingCriterion Object)\n",
      "    abs_tol         0.010\n",
      "    rel_tol         0\n",
      "    n_init          2^(10)\n",
      "    n_max           10000000000\n",
      "    inflate         1.200\n",
      "    alpha           0.010\n",
      "AsianOption (Integrand Object)\n",
      "    volatility      2^(-1)\n",
      "    call_put        call\n",
      "    start_price     30\n",
      "    strike_price    25\n",
      "    interest_rate   0.010\n",
      "    mean_type       geometric\n",
      "    multilevel_dims [ 4 16 64]\n",
      "BrownianMotion (TrueMeasure Object)\n",
      "    time_vec        1\n",
      "    drift           0\n",
      "    mean            0\n",
      "    covariance      1\n",
      "    decomp_type     PCA\n",
      "IIDStdUniform (DiscreteDistribution Object)\n",
      "    d               1\n",
      "    entropy         7\n",
      "    spawn_key       ()\n",
      "~~~~~~~~~~~~~~~~~~~~~~~~~~~~~~~~~~~~~~~~~~~~~~~~~~~~~~~~~~~~~~~~~~~~~~~~~~~~~~~~~~~~~~~~~~~~~~~~~~~~\n",
      "\n",
      "\n",
      "~~~~~~~~~~~~~~~~~~~~~~~~~~~~~~~~~~~~~~~~~~~~~~~~~~~~~~~~~~~~~~~~~~~~~~~~~~~~~~~~~~~~~~~~~~~~~~~~~~~~\n",
      "\n",
      "MeanVarData (AccumulateData Object)\n",
      "    solution        5.840\n",
      "    error_bound     0.010\n",
      "    n_total         6642584\n",
      "    n               [5573972.  879400.  186140.]\n",
      "    levels          3\n",
      "    time_integrate  5.441\n",
      "CubMCCLT (StoppingCriterion Object)\n",
      "    abs_tol         0.010\n",
      "    rel_tol         0\n",
      "    n_init          2^(10)\n",
      "    n_max           10000000000\n",
      "    inflate         1.200\n",
      "    alpha           0.010\n",
      "AsianOption (Integrand Object)\n",
      "    volatility      2^(-1)\n",
      "    call_put        call\n",
      "    start_price     30\n",
      "    strike_price    25\n",
      "    interest_rate   0.010\n",
      "    mean_type       geometric\n",
      "    multilevel_dims [ 4 16 64]\n",
      "BrownianMotion (TrueMeasure Object)\n",
      "    time_vec        1\n",
      "    drift           0\n",
      "    mean            0\n",
      "    covariance      1\n",
      "    decomp_type     PCA\n",
      "IIDStdUniform (DiscreteDistribution Object)\n",
      "    d               1\n",
      "    entropy         7\n",
      "    spawn_key       ()\n",
      "~~~~~~~~~~~~~~~~~~~~~~~~~~~~~~~~~~~~~~~~~~~~~~~~~~~~~~~~~~~~~~~~~~~~~~~~~~~~~~~~~~~~~~~~~~~~~~~~~~~~\n",
      "\n",
      "\n",
      "~~~~~~~~~~~~~~~~~~~~~~~~~~~~~~~~~~~~~~~~~~~~~~~~~~~~~~~~~~~~~~~~~~~~~~~~~~~~~~~~~~~~~~~~~~~~~~~~~~~~\n",
      "\n",
      "MeanVarData (AccumulateData Object)\n",
      "    solution        5.840\n",
      "    error_bound     0.010\n",
      "    n_total         6644170\n",
      "    n               [5577230.  885168.  178700.]\n",
      "    levels          3\n",
      "    time_integrate  5.490\n",
      "CubMCCLT (StoppingCriterion Object)\n",
      "    abs_tol         0.010\n",
      "    rel_tol         0\n",
      "    n_init          2^(10)\n",
      "    n_max           10000000000\n",
      "    inflate         1.200\n",
      "    alpha           0.010\n",
      "AsianOption (Integrand Object)\n",
      "    volatility      2^(-1)\n",
      "    call_put        call\n",
      "    start_price     30\n",
      "    strike_price    25\n",
      "    interest_rate   0.010\n",
      "    mean_type       geometric\n",
      "    multilevel_dims [ 4 16 64]\n",
      "BrownianMotion (TrueMeasure Object)\n",
      "    time_vec        1\n",
      "    drift           0\n",
      "    mean            0\n",
      "    covariance      1\n",
      "    decomp_type     PCA\n",
      "IIDStdUniform (DiscreteDistribution Object)\n",
      "    d               1\n",
      "    entropy         7\n",
      "    spawn_key       ()\n",
      "~~~~~~~~~~~~~~~~~~~~~~~~~~~~~~~~~~~~~~~~~~~~~~~~~~~~~~~~~~~~~~~~~~~~~~~~~~~~~~~~~~~~~~~~~~~~~~~~~~~~\n",
      "\n",
      "\n",
      "~~~~~~~~~~~~~~~~~~~~~~~~~~~~~~~~~~~~~~~~~~~~~~~~~~~~~~~~~~~~~~~~~~~~~~~~~~~~~~~~~~~~~~~~~~~~~~~~~~~~\n",
      "\n",
      "MeanVarData (AccumulateData Object)\n",
      "    solution        5.840\n",
      "    error_bound     0.010\n",
      "    n_total         6644784\n",
      "    n               [5568022.  888304.  185386.]\n",
      "    levels          3\n",
      "    time_integrate  5.546\n",
      "CubMCCLT (StoppingCriterion Object)\n",
      "    abs_tol         0.010\n",
      "    rel_tol         0\n",
      "    n_init          2^(10)\n",
      "    n_max           10000000000\n",
      "    inflate         1.200\n",
      "    alpha           0.010\n",
      "AsianOption (Integrand Object)\n",
      "    volatility      2^(-1)\n",
      "    call_put        call\n",
      "    start_price     30\n",
      "    strike_price    25\n",
      "    interest_rate   0.010\n",
      "    mean_type       geometric\n",
      "    multilevel_dims [ 4 16 64]\n",
      "BrownianMotion (TrueMeasure Object)\n",
      "    time_vec        1\n",
      "    drift           0\n",
      "    mean            0\n",
      "    covariance      1\n",
      "    decomp_type     PCA\n",
      "IIDStdUniform (DiscreteDistribution Object)\n",
      "    d               1\n",
      "    entropy         7\n",
      "    spawn_key       ()\n",
      "~~~~~~~~~~~~~~~~~~~~~~~~~~~~~~~~~~~~~~~~~~~~~~~~~~~~~~~~~~~~~~~~~~~~~~~~~~~~~~~~~~~~~~~~~~~~~~~~~~~~\n",
      "\n",
      "\n",
      "~~~~~~~~~~~~~~~~~~~~~~~~~~~~~~~~~~~~~~~~~~~~~~~~~~~~~~~~~~~~~~~~~~~~~~~~~~~~~~~~~~~~~~~~~~~~~~~~~~~~\n",
      "\n",
      "MeanVarData (AccumulateData Object)\n",
      "    solution        5.841\n",
      "    error_bound     0.010\n",
      "    n_total         6637684\n",
      "    n               [5600959.  855444.  178209.]\n",
      "    levels          3\n",
      "    time_integrate  5.892\n",
      "CubMCCLT (StoppingCriterion Object)\n",
      "    abs_tol         0.010\n",
      "    rel_tol         0\n",
      "    n_init          2^(10)\n",
      "    n_max           10000000000\n",
      "    inflate         1.200\n",
      "    alpha           0.010\n",
      "AsianOption (Integrand Object)\n",
      "    volatility      2^(-1)\n",
      "    call_put        call\n",
      "    start_price     30\n",
      "    strike_price    25\n",
      "    interest_rate   0.010\n",
      "    mean_type       geometric\n",
      "    multilevel_dims [ 4 16 64]\n",
      "BrownianMotion (TrueMeasure Object)\n",
      "    time_vec        1\n",
      "    drift           0\n",
      "    mean            0\n",
      "    covariance      1\n",
      "    decomp_type     PCA\n",
      "IIDStdUniform (DiscreteDistribution Object)\n",
      "    d               1\n",
      "    entropy         7\n",
      "    spawn_key       ()\n",
      "~~~~~~~~~~~~~~~~~~~~~~~~~~~~~~~~~~~~~~~~~~~~~~~~~~~~~~~~~~~~~~~~~~~~~~~~~~~~~~~~~~~~~~~~~~~~~~~~~~~~\n",
      "\n",
      "5.69 s ± 188 ms per loop (mean ± std. dev. of 7 runs, 1 loop each)\n"
     ]
    }
   ],
   "source": [
    "%timeit asian_option_multi_level(abs_tol=.01)"
   ]
  },
  {
   "cell_type": "code",
   "execution_count": 5,
   "id": "9e370320",
   "metadata": {},
   "outputs": [
    {
     "name": "stdout",
     "output_type": "stream",
     "text": [
      "\n",
      "~~~~~~~~~~~~~~~~~~~~~~~~~~~~~~~~~~~~~~~~~~~~~~~~~~~~~~~~~~~~~~~~~~~~~~~~~~~~~~~~~~~~~~~~~~~~~~~~~~~~\n",
      "\n",
      "MeanVarData (AccumulateData Object)\n",
      "    solution        5.840\n",
      "    error_bound     0.010\n",
      "    n_total         6645408\n",
      "    n               [5564705.  890573.  187058.]\n",
      "    levels          3\n",
      "    time_integrate  5.609\n",
      "CubMCCLT (StoppingCriterion Object)\n",
      "    abs_tol         0.010\n",
      "    rel_tol         0\n",
      "    n_init          2^(10)\n",
      "    n_max           10000000000\n",
      "    inflate         1.200\n",
      "    alpha           0.010\n",
      "AsianOption (Integrand Object)\n",
      "    volatility      2^(-1)\n",
      "    call_put        call\n",
      "    start_price     30\n",
      "    strike_price    25\n",
      "    interest_rate   0.010\n",
      "    mean_type       geometric\n",
      "    multilevel_dims [ 4 16 64]\n",
      "BrownianMotion (TrueMeasure Object)\n",
      "    time_vec        1\n",
      "    drift           0\n",
      "    mean            0\n",
      "    covariance      1\n",
      "    decomp_type     PCA\n",
      "IIDStdUniform (DiscreteDistribution Object)\n",
      "    d               1\n",
      "    entropy         7\n",
      "    spawn_key       ()\n",
      "~~~~~~~~~~~~~~~~~~~~~~~~~~~~~~~~~~~~~~~~~~~~~~~~~~~~~~~~~~~~~~~~~~~~~~~~~~~~~~~~~~~~~~~~~~~~~~~~~~~~\n",
      "\n",
      "CPU times: user 19.5 s, sys: 1.71 s, total: 21.2 s\n",
      "Wall time: 5.62 s\n"
     ]
    }
   ],
   "source": [
    "%time asian_option_multi_level(abs_tol=.01)"
   ]
  },
  {
   "cell_type": "markdown",
   "id": "181d6420",
   "metadata": {},
   "source": [
    "## Using cprofile"
   ]
  },
  {
   "cell_type": "markdown",
   "id": "0d15bc98",
   "metadata": {},
   "source": [
    "The following prints long outputs:"
   ]
  },
  {
   "cell_type": "raw",
   "id": "89fb93b7",
   "metadata": {},
   "source": [
    "!python -m cProfile ../workouts/integration_examples/asian_option_multi_level.py"
   ]
  },
  {
   "cell_type": "markdown",
   "id": "363b7b20",
   "metadata": {},
   "source": [
    "The following command with -o captures cProfile output in a .prof file, but does not require the decorator `@profile` to be added in codebase."
   ]
  },
  {
   "cell_type": "code",
   "execution_count": 6,
   "id": "561c8281",
   "metadata": {
    "scrolled": true
   },
   "outputs": [
    {
     "name": "stdout",
     "output_type": "stream",
     "text": [
      "\n",
      "~~~~~~~~~~~~~~~~~~~~~~~~~~~~~~~~~~~~~~~~~~~~~~~~~~~~~~~~~~~~~~~~~~~~~~~~~~~~~~~~~~~~~~~~~~~~~~~~~~~~\n",
      "\n",
      "MeanVarData (AccumulateData Object)\n",
      "    solution        5.841\n",
      "    error_bound     0.010\n",
      "    n_total         6847926\n",
      "    n               [5335692. 1254388.  254774.]\n",
      "    levels          3\n",
      "    time_integrate  7.461\n",
      "CubMCCLT (StoppingCriterion Object)\n",
      "    abs_tol         0.010\n",
      "    rel_tol         0\n",
      "    n_init          2^(10)\n",
      "    n_max           10000000000\n",
      "    inflate         1.200\n",
      "    alpha           0.010\n",
      "AsianOption (Integrand Object)\n",
      "    volatility      2^(-1)\n",
      "    call_put        call\n",
      "    start_price     30\n",
      "    strike_price    25\n",
      "    interest_rate   0.010\n",
      "    mean_type       geometric\n",
      "    multilevel_dims [ 4 16 64]\n",
      "BrownianMotion (TrueMeasure Object)\n",
      "    time_vec        1\n",
      "    drift           0\n",
      "    mean            0\n",
      "    covariance      1\n",
      "    decomp_type     PCA\n",
      "IIDStdUniform (DiscreteDistribution Object)\n",
      "    d               1\n",
      "    entropy         7\n",
      "    spawn_key       ()\n",
      "~~~~~~~~~~~~~~~~~~~~~~~~~~~~~~~~~~~~~~~~~~~~~~~~~~~~~~~~~~~~~~~~~~~~~~~~~~~~~~~~~~~~~~~~~~~~~~~~~~~~\n",
      "\n",
      "\u001b[0m"
     ]
    }
   ],
   "source": [
    "!python -m cProfile -o ../profile/asian_option_multi_level.prof  ../workouts/integration_examples/asian_option_multi_level.py "
   ]
  },
  {
   "cell_type": "markdown",
   "id": "e64b816e",
   "metadata": {},
   "source": [
    "BTW, we have added to `makefile` a target `profile` for profiling all QMCPy workouts and tests."
   ]
  },
  {
   "cell_type": "markdown",
   "id": "9fda5522",
   "metadata": {},
   "source": [
    "The following is a magic command that gives same outputs in a pop-up window."
   ]
  },
  {
   "cell_type": "raw",
   "id": "a4dfda0b",
   "metadata": {},
   "source": [
    "%prun asian_option_multi_level(abs_tol=.01)"
   ]
  },
  {
   "cell_type": "markdown",
   "id": "ea4c8272",
   "metadata": {},
   "source": [
    "## Snakeviz (https://jiffyclub.github.io/snakeviz/)"
   ]
  },
  {
   "cell_type": "raw",
   "id": "2a2a95b9",
   "metadata": {},
   "source": [
    "pip install snakeviz"
   ]
  },
  {
   "cell_type": "markdown",
   "id": "18fcf041",
   "metadata": {},
   "source": [
    "The following generates an HTML page in a new browser tab and it is very readable:\n",
    "http://127.0.0.1:8080/snakeviz/%2FUsers%2Fterrya%2FDocuments%2FProgramData%2FQMCSoftware%2Fworkouts%2Fintegration_examples%2Fout%2Fasian_option_multi_level.prof"
   ]
  },
  {
   "cell_type": "markdown",
   "id": "b0e9bd25",
   "metadata": {},
   "source": [
    "To exit the following command, press stop button."
   ]
  },
  {
   "cell_type": "raw",
   "id": "46396774",
   "metadata": {},
   "source": [
    "!snakeviz ../profile/asian_option_multi_level.prof "
   ]
  },
  {
   "cell_type": "markdown",
   "id": "c6dfe479",
   "metadata": {},
   "source": [
    "A screenshot:"
   ]
  },
  {
   "cell_type": "code",
   "execution_count": 7,
   "id": "5ac8724a",
   "metadata": {},
   "outputs": [
    {
     "data": {
      "text/html": [
       "<img src=\"../profile/snakeviz_profile_jit_aoml.jpg\" width=\"1000\" height=\"1000\"/>"
      ],
      "text/plain": [
       "<IPython.core.display.Image object>"
      ]
     },
     "execution_count": 7,
     "metadata": {},
     "output_type": "execute_result"
    }
   ],
   "source": [
    "from IPython.display import Image\n",
    "Image(url= \"../profile/snakeviz_profile_jit_aoml.jpg\", width=1000, height=1000)"
   ]
  },
  {
   "cell_type": "markdown",
   "id": "ee324d5a",
   "metadata": {},
   "source": [
    "An alternative to use snakeviz with outputs captured in the Notebook:"
   ]
  },
  {
   "cell_type": "code",
   "execution_count": 8,
   "id": "b445d545",
   "metadata": {},
   "outputs": [],
   "source": [
    "%load_ext snakeviz"
   ]
  },
  {
   "cell_type": "code",
   "execution_count": 9,
   "id": "59650773",
   "metadata": {
    "scrolled": true
   },
   "outputs": [
    {
     "name": "stdout",
     "output_type": "stream",
     "text": [
      "\n",
      "~~~~~~~~~~~~~~~~~~~~~~~~~~~~~~~~~~~~~~~~~~~~~~~~~~~~~~~~~~~~~~~~~~~~~~~~~~~~~~~~~~~~~~~~~~~~~~~~~~~~\n",
      "\n",
      "MeanVarData (AccumulateData Object)\n",
      "    solution        5.841\n",
      "    error_bound     0.010\n",
      "    n_total         6638769\n",
      "    n               [5589698.  862287.  183712.]\n",
      "    levels          3\n",
      "    time_integrate  6.772\n",
      "CubMCCLT (StoppingCriterion Object)\n",
      "    abs_tol         0.010\n",
      "    rel_tol         0\n",
      "    n_init          2^(10)\n",
      "    n_max           10000000000\n",
      "    inflate         1.200\n",
      "    alpha           0.010\n",
      "AsianOption (Integrand Object)\n",
      "    volatility      2^(-1)\n",
      "    call_put        call\n",
      "    start_price     30\n",
      "    strike_price    25\n",
      "    interest_rate   0.010\n",
      "    mean_type       geometric\n",
      "    multilevel_dims [ 4 16 64]\n",
      "BrownianMotion (TrueMeasure Object)\n",
      "    time_vec        1\n",
      "    drift           0\n",
      "    mean            0\n",
      "    covariance      1\n",
      "    decomp_type     PCA\n",
      "IIDStdUniform (DiscreteDistribution Object)\n",
      "    d               1\n",
      "    entropy         7\n",
      "    spawn_key       ()\n",
      "~~~~~~~~~~~~~~~~~~~~~~~~~~~~~~~~~~~~~~~~~~~~~~~~~~~~~~~~~~~~~~~~~~~~~~~~~~~~~~~~~~~~~~~~~~~~~~~~~~~~\n",
      "\n",
      " \n",
      "*** Profile stats marshalled to file '/var/folders/l3/wz4prc5d4kv118mgp30jj3_m0000gn/T/tmpv0db70u7'. \n",
      "Embedding SnakeViz in this document...\n"
     ]
    },
    {
     "data": {
      "text/html": [
       "\n",
       "<iframe id='snakeviz-c3b926cc-ae16-11ec-87cf-acde48001122' frameborder=0 seamless width='100%' height='1000'></iframe>\n",
       "<script>document.getElementById(\"snakeviz-c3b926cc-ae16-11ec-87cf-acde48001122\").setAttribute(\"src\", \"http://\" + document.location.hostname + \":8080/snakeviz/%2Fvar%2Ffolders%2Fl3%2Fwz4prc5d4kv118mgp30jj3_m0000gn%2FT%2Ftmpv0db70u7\")</script>\n"
      ],
      "text/plain": [
       "<IPython.core.display.HTML object>"
      ]
     },
     "metadata": {},
     "output_type": "display_data"
    },
    {
     "name": "stderr",
     "output_type": "stream",
     "text": [
      "Exception ignored in: <function Popen.__del__ at 0x7f95800211e0>\n",
      "Traceback (most recent call last):\n",
      "  File \"/Users/terrya/opt/anaconda3/envs/qmcpy/lib/python3.7/subprocess.py\", line 839, in __del__\n",
      "    ResourceWarning, source=self)\n",
      "ResourceWarning: subprocess 7255 is still running\n",
      "Exception ignored in: <_io.FileIO name=71 mode='rb' closefd=True>\n",
      "ResourceWarning: unclosed file <_io.TextIOWrapper name=71 encoding='UTF-8'>\n"
     ]
    }
   ],
   "source": [
    "%%snakeviz\n",
    "asian_option_multi_level(abs_tol=.01)"
   ]
  },
  {
   "cell_type": "markdown",
   "id": "11da0b0e",
   "metadata": {},
   "source": [
    "## Tuna\n",
    "\n",
    "An alternative to Snakeviz for visualizing cprofile outputs"
   ]
  },
  {
   "cell_type": "raw",
   "id": "708460cf",
   "metadata": {},
   "source": [
    "!pip install tuna"
   ]
  },
  {
   "cell_type": "code",
   "execution_count": 10,
   "id": "aa57f32a",
   "metadata": {},
   "outputs": [],
   "source": [
    "import tuna"
   ]
  },
  {
   "cell_type": "markdown",
   "id": "8f14a377",
   "metadata": {},
   "source": [
    "The following gives a visual report in a separate tab and user need to \"stop\" the execution before any more notebook cells will be executed:"
   ]
  },
  {
   "cell_type": "raw",
   "id": "34e483f8",
   "metadata": {
    "scrolled": true
   },
   "source": [
    "!tuna ../profile/asian_option_multi_level.prof"
   ]
  },
  {
   "cell_type": "markdown",
   "id": "523390c1",
   "metadata": {},
   "source": [
    "A screenshot:"
   ]
  },
  {
   "cell_type": "code",
   "execution_count": 11,
   "id": "6ccb7d47",
   "metadata": {},
   "outputs": [
    {
     "data": {
      "text/html": [
       "<img src=\"../profile/tuna_profile_jit_aoml.jpg\" width=\"1000\" height=\"1000\"/>"
      ],
      "text/plain": [
       "<IPython.core.display.Image object>"
      ]
     },
     "execution_count": 11,
     "metadata": {},
     "output_type": "execute_result"
    }
   ],
   "source": [
    "from IPython.display import Image\n",
    "Image(url= \"../profile/tuna_profile_jit_aoml.jpg\", width=1000, height=1000)"
   ]
  },
  {
   "cell_type": "markdown",
   "id": "42f66bc1",
   "metadata": {},
   "source": [
    "We prefer magic command instead, but `%tuna` gave blank output."
   ]
  },
  {
   "cell_type": "raw",
   "id": "326321cc",
   "metadata": {},
   "source": [
    "%load_ext tuna "
   ]
  },
  {
   "cell_type": "raw",
   "id": "b89a6e43",
   "metadata": {},
   "source": [
    "%tuna asian_option_multi_level(abs_tol=.01)"
   ]
  },
  {
   "cell_type": "markdown",
   "id": "d019b360",
   "metadata": {},
   "source": [
    "## Line-by-line profiling of time"
   ]
  },
  {
   "cell_type": "markdown",
   "id": "66493536",
   "metadata": {},
   "source": [
    "First install `line_profiler` 3.4.0 (`https://github.com/rkern/line_profiler`) "
   ]
  },
  {
   "cell_type": "markdown",
   "id": "10254edc",
   "metadata": {},
   "source": [
    "Need to first put `@profile` before each function that we want to do line or memory profiling."
   ]
  },
  {
   "cell_type": "raw",
   "id": "513f3de3",
   "metadata": {},
   "source": [
    "!pip install line_profiler\n",
    "!pip install -U memory_profiler"
   ]
  },
  {
   "cell_type": "markdown",
   "id": "07fa2cdc",
   "metadata": {},
   "source": [
    "The following two commands would need `@decorator` written to codebase."
   ]
  },
  {
   "cell_type": "raw",
   "id": "ae223bd1",
   "metadata": {},
   "source": [
    "!kernprof -l -v ../workouts/integration_examples/asian_option_multi_level.py"
   ]
  },
  {
   "cell_type": "raw",
   "id": "48cf8439",
   "metadata": {},
   "source": [
    "!python -m line_profiler asian_option_multi_level.py.lprof"
   ]
  },
  {
   "cell_type": "markdown",
   "id": "d5b2bb8d",
   "metadata": {},
   "source": [
    "We prefer giving the function name to be profiled to `%lprun`:"
   ]
  },
  {
   "cell_type": "code",
   "execution_count": 12,
   "id": "3de202c8",
   "metadata": {},
   "outputs": [],
   "source": [
    "%load_ext line_profiler"
   ]
  },
  {
   "cell_type": "raw",
   "id": "73fdb4e0",
   "metadata": {
    "scrolled": true
   },
   "source": [
    "%lprun -f asian_option_multi_level asian_option_multi_level(abs_tol=.01)"
   ]
  },
  {
   "cell_type": "raw",
   "id": "5a582c1a",
   "metadata": {},
   "source": [
    "%lprun -f CubMCCLT.integrate asian_option_multi_level(abs_tol=.01)"
   ]
  },
  {
   "cell_type": "raw",
   "id": "1c2178bc",
   "metadata": {
    "scrolled": true
   },
   "source": [
    "%lprun -f accumulate_data.mean_var_data.MeanVarData.update_data asian_option_multi_level(abs_tol=.01) "
   ]
  },
  {
   "cell_type": "raw",
   "id": "437b194b",
   "metadata": {},
   "source": [
    "%lprun -f Integrand.f asian_option_multi_level(abs_tol=.01) "
   ]
  },
  {
   "cell_type": "markdown",
   "id": "0adf9881",
   "metadata": {},
   "source": [
    "A way to profile multiple functions in a single command is as follows. "
   ]
  },
  {
   "cell_type": "code",
   "execution_count": 13,
   "id": "b37ef1e8",
   "metadata": {},
   "outputs": [
    {
     "name": "stdout",
     "output_type": "stream",
     "text": [
      "\n",
      "~~~~~~~~~~~~~~~~~~~~~~~~~~~~~~~~~~~~~~~~~~~~~~~~~~~~~~~~~~~~~~~~~~~~~~~~~~~~~~~~~~~~~~~~~~~~~~~~~~~~\n",
      "\n",
      "MeanVarData (AccumulateData Object)\n",
      "    solution        5.841\n",
      "    error_bound     0.010\n",
      "    n_total         6637063\n",
      "    n               [5595366.  853629.  184996.]\n",
      "    levels          3\n",
      "    time_integrate  7.414\n",
      "CubMCCLT (StoppingCriterion Object)\n",
      "    abs_tol         0.010\n",
      "    rel_tol         0\n",
      "    n_init          2^(10)\n",
      "    n_max           10000000000\n",
      "    inflate         1.200\n",
      "    alpha           0.010\n",
      "AsianOption (Integrand Object)\n",
      "    volatility      2^(-1)\n",
      "    call_put        call\n",
      "    start_price     30\n",
      "    strike_price    25\n",
      "    interest_rate   0.010\n",
      "    mean_type       geometric\n",
      "    multilevel_dims [ 4 16 64]\n",
      "BrownianMotion (TrueMeasure Object)\n",
      "    time_vec        1\n",
      "    drift           0\n",
      "    mean            0\n",
      "    covariance      1\n",
      "    decomp_type     PCA\n",
      "IIDStdUniform (DiscreteDistribution Object)\n",
      "    d               1\n",
      "    entropy         7\n",
      "    spawn_key       ()\n",
      "~~~~~~~~~~~~~~~~~~~~~~~~~~~~~~~~~~~~~~~~~~~~~~~~~~~~~~~~~~~~~~~~~~~~~~~~~~~~~~~~~~~~~~~~~~~~~~~~~~~~\n",
      "\n"
     ]
    }
   ],
   "source": [
    "%lprun -f asian_option_multi_level -f CubMCCLT.integrate -f accumulate_data.mean_var_data.MeanVarData.update_data  -f Integrand.f asian_option_multi_level(abs_tol=.01) "
   ]
  },
  {
   "cell_type": "raw",
   "id": "fdf06749",
   "metadata": {},
   "source": [
    "Timer unit: 1e-06 s\n",
    "\n",
    "Total time: 7.07041 s\n",
    "File: /Users/terrya/Documents/ProgramData/QMCSoftware/qmcpy/accumulate_data/mean_var_data.py\n",
    "Function: update_data at line 63\n",
    "\n",
    "Line #      Hits         Time  Per Hit   % Time  Line Contents\n",
    "==============================================================\n",
    "    63                                               def update_data(self):\n",
    "    64         8         10.0      1.2      0.0          for l in range(self.levels):\n",
    "    65         6          6.0      1.0      0.0              t_start = time() # time the integrand values\n",
    "    66         6          8.0      1.3      0.0              integrand_l = self.level_integrands[l]\n",
    "    67         6         15.0      2.5      0.0              n  = int(int(self.n[l]))\n",
    "    68         6     226096.0  37682.7      3.2              samples = integrand_l.discrete_distrib.gen_samples(n)\n",
    "    69         6    6820728.0 1136788.0     96.5              y = integrand_l.f(samples).squeeze()\n",
    "    70         6         15.0      2.5      0.0              if self.ncv>0:\n",
    "    71                                                           # using control variates\n",
    "    72                                                           cvdata = zeros((n,self.ncv),dtype=float)\n",
    "    73                                                           for i in range(self.ncv):\n",
    "    74                                                               cvdata[:,i] = self.cv[i].f(samples).squeeze()\n",
    "    75                                                           cvmuhats = cvdata.mean(0)\n",
    "    76                                                           if not hasattr(self,'beta_hat'):\n",
    "    77                                                               # approximate control varite coefficient\n",
    "    78                                                               x4beta = cvdata-cvmuhats[None,:]\n",
    "    79                                                               y4beta = y-y.mean()\n",
    "    80                                                               self.beta_hat = linalg.lstsq(x4beta,y4beta,rcond=None)[0].reshape((-1,1))\n",
    "    81                                                           cvterm = self.beta_hat.T@(cvdata-self.cv_mu.T).T\n",
    "    82                                                           y = y-cvterm.squeeze() # use control variates and apprixmated coefficient to \n",
    "    83         6        163.0     27.2      0.0              self.t_eval[l] = max( (time()-t_start)/self.n[l], self.EPS) \n",
    "    84         6      20136.0   3356.0      0.3              self.sighat[l] = y.std() # compute the sample standard deviation\n",
    "    85         6       3201.0    533.5      0.0              self.muhat[l] = y.mean() # compute the sample mean\n",
    "    86         6         16.0      2.7      0.0              self.n_total += self.n[l] # add to total samples\n",
    "    87         2         13.0      6.5      0.0          self.solution = self.muhat.sum() # tentative solution\n",
    "\n",
    "Total time: 6.79677 s\n",
    "File: /Users/terrya/Documents/ProgramData/QMCSoftware/qmcpy/integrand/_integrand.py\n",
    "Function: f at line 58\n",
    "\n",
    "Line #      Hits         Time  Per Hit   % Time  Line Contents\n",
    "==============================================================\n",
    "    58                                               def f(self, x, periodization_transform='NONE', compute_flags=None, *args, **kwargs):\n",
    "    59                                                   \"\"\"\n",
    "    60                                                   Evaluate transformed integrand based on true measures and discrete distribution\n",
    "    61                                           \n",
    "    62                                                   Args:\n",
    "    63                                                       x (ndarray): n x d array of samples from a discrete distribution\n",
    "    64                                                       periodization_transform (str): periodization transform\n",
    "    65                                                       compute_flags (ndarray): TODO\n",
    "    66                                                       *args: other ordered args to g\n",
    "    67                                                       **kwargs (dict): other keyword args to g\n",
    "    68                                           \n",
    "    69                                                   Return:\n",
    "    70                                                       ndarray: length n vector of function evaluations\n",
    "    71                                                   \"\"\"\n",
    "    72         6         14.0      2.3      0.0          periodization_transform = 'NONE' if periodization_transform is None else periodization_transform.upper()\n",
    "    73         6        209.0     34.8      0.0          compute_flags = tile(1,self.dprime) if compute_flags is None else atleast_1d(compute_flags)\n",
    "    74         6          8.0      1.3      0.0          n,d = x.shape\n",
    "    75                                                   # parameter checks\n",
    "    76         6         12.0      2.0      0.0          if self.discrete_distrib.mimics != 'StdUniform' and periodization_transform!='NONE':\n",
    "    77                                                       raise ParameterError('''\n",
    "    78                                                           Applying a periodization transform currently requires a discrete distribution \n",
    "    79                                                           that mimics a standard uniform measure.''')\n",
    "    80                                                   # periodization transform\n",
    "    81         6          6.0      1.0      0.0          if periodization_transform == 'NONE':\n",
    "    82         6          5.0      0.8      0.0              xp = x\n",
    "    83         6      17708.0   2951.3      0.3              wp = ones(n,dtype=float)\n",
    "    84                                                   elif periodization_transform == 'BAKER': # Baker's transform\n",
    "    85                                                       xp = 1 - 2 * abs(x - 1 / 2)\n",
    "    86                                                       wp = ones(n,dtype=float)\n",
    "    87                                                   elif periodization_transform == 'C0': # C^0 transform\n",
    "    88                                                       xp = 3 * x ** 2 - 2 * x ** 3\n",
    "    89                                                       wp = prod(6 * x * (1 - x), 1)\n",
    "    90                                                   elif periodization_transform == 'C1': # C^1 transform\n",
    "    91                                                       xp = x ** 3 * (10 - 15 * x + 6 * x ** 2)\n",
    "    92                                                       wp = prod(30 * x ** 2 * (1 - x) ** 2, 1)\n",
    "    93                                                   elif periodization_transform == 'C1SIN': # Sidi C^1 transform\n",
    "    94                                                       xp = x - sin(2 * pi * x) / (2 * pi)\n",
    "    95                                                       wp = prod(2 * sin(pi * x) ** 2, 1)\n",
    "    96                                                   elif periodization_transform == 'C2SIN': # Sidi C^2 transform\n",
    "    97                                                       xp = (8 - 9 * cos(pi * x) + cos(3 * pi * x)) / 16 # psi3\n",
    "    98                                                       wp = prod( (9 * sin(pi * x) * pi - sin(3 * pi * x) * 3 * pi) / 16 , 1) # psi3_1\n",
    "    99                                                   elif periodization_transform == 'C3SIN': # Sidi C^3 transform\n",
    "   100                                                       xp = (12 * pi * x - 8 * sin(2 * pi * x) + sin(4 * pi * x)) / (12 * pi) # psi4\n",
    "   101                                                       wp = prod( (12 * pi - 8 * cos(2 * pi * x) * 2 * pi + sin(4 * pi * x) * 4 * pi) / (12 * pi), 1) # psi4_1\n",
    "   102                                                   else:\n",
    "   103                                                       raise ParameterError(\"The %s periodization transform is not implemented\"%periodization_transform)\n",
    "   104         6         27.0      4.5      0.0          wp = wp.reshape(n)\n",
    "   105         6          8.0      1.3      0.0          if periodization_transform in ['C1','C1SIN','C2SIN','C3SIN']:\n",
    "   106                                                       xp[xp<=0] = self.EPS\n",
    "   107                                                       xp[xp>=1] = 1-self.EPS\n",
    "   108                                                   # function evaluation with chain rule\n",
    "   109         6         23.0      3.8      0.0          y = empty((n,)+self.dprime,dtype=float)\n",
    "   110         6         17.0      2.8      0.0          if self.true_measure == self.true_measure.transform:\n",
    "   111                                                       # jacobian*weight/pdf will cancel so f(x) = g(\\Psi(x))\n",
    "   112         6    2697050.0 449508.3     39.7              xtf = self.true_measure._transform(xp) # get transformed samples, equivalent to self.true_measure._transform_r(x)\n",
    "   113         6    1506591.0 251098.5     22.2              y[:] = self._g(xtf,compute_flags,*args,**kwargs)\n",
    "   114                                                   else: # using importance sampling --> need to compute pdf, jacobian(s), and weight explicitly\n",
    "   115                                                       pdf = self.discrete_distrib.pdf(xp).reshape(n) # pdf of samples\n",
    "   116                                                       xtf,jacobians = self.true_measure.transform._jacobian_transform_r(xp) # compute recursive transform+jacobian\n",
    "   117                                                       jacobians = jacobians.reshape(n)\n",
    "   118                                                       weight = self.true_measure._weight(xtf).reshape(n) # weight based on the true measure\n",
    "   119                                                       gvals = self._g(xtf,compute_flags,*args,**kwargs)\n",
    "   120                                                       for i in range(n): y[i] = gvals[i]*weight[i]/pdf[i]*jacobians[i]\n",
    "   121                                                   # account for periodization weight\n",
    "   122         6       2080.0    346.7      0.0          @jit\n",
    "   123                                                   def f(y, wp):\n",
    "   124                                                       for i in range(n): y[i] = y[i]*wp[i]\n",
    "   125                                                       return y\n",
    "   126                                           \n",
    "   127         6    2573002.0 428833.7     37.9          y = f(y, wp)\n",
    "   128                                           \n",
    "   129         6         10.0      1.7      0.0          return y\n",
    "\n",
    "Total time: 7.08633 s\n",
    "File: /Users/terrya/Documents/ProgramData/QMCSoftware/qmcpy/stopping_criterion/cub_mc_clt.py\n",
    "Function: integrate at line 103\n",
    "\n",
    "Line #      Hits         Time  Per Hit   % Time  Line Contents\n",
    "==============================================================\n",
    "   103                                               def integrate(self):\n",
    "   104                                                   \"\"\" See abstract method. \"\"\"\n",
    "   105                                                   # Construct AccumulateData Object to House Integration data\n",
    "   106         1          1.0      1.0      0.0          self.data = MeanVarData(self, self.integrand, self.true_measure, self.discrete_distrib, \n",
    "   107         1       9911.0   9911.0      0.1              self.n_init, self.cv, self.cv_mu)  # house integration data\n",
    "   108         1          3.0      3.0      0.0          t_start = time()\n",
    "   109                                                   # Pilot Sample\n",
    "   110         1     919716.0 919716.0     13.0          self.data.update_data()\n",
    "   111                                                   # use cost of function values to decide how to allocate\n",
    "   112         1          4.0      4.0      0.0          temp_a = self.data.t_eval ** 0.5\n",
    "   113         1          5.0      5.0      0.0          temp_b = (temp_a * self.data.sighat).sum()\n",
    "   114                                                   # samples for computation of the mean\n",
    "   115                                                   # n_mu_temp := n such that confidence intervals width and conficence will be satisfied\n",
    "   116         1          5.0      5.0      0.0          tol_up = max(self.abs_tol, abs(self.data.solution) * self.rel_tol)\n",
    "   117         1        220.0    220.0      0.0          z_star = -norm.ppf(self.alpha / 2.)\n",
    "   118         1          7.0      7.0      0.0          n_mu_temp = ceil(temp_b * (self.data.sighat / temp_a) * \\\n",
    "   119         1          6.0      6.0      0.0                              (z_star * self.inflate / tol_up)**2)\n",
    "   120                                                   # n_mu := n_mu_temp adjusted for previous n\n",
    "   121         1          2.0      2.0      0.0          self.data.n_mu = maximum(self.data.n, n_mu_temp)\n",
    "   122         1          7.0      7.0      0.0          self.data.n += self.data.n_mu.astype(int)\n",
    "   123         1          8.0      8.0      0.0          if self.data.n_total + self.data.n.sum() > self.n_max:\n",
    "   124                                                       # cannot generate this many new samples\n",
    "   125                                                       warning_s = \"\"\"\n",
    "   126                                                       Alread generated %d samples.\n",
    "   127                                                       Trying to generate %d new samples, which would exceed n_max = %d.\n",
    "   128                                                       The number of new samples will be decrease proportionally for each integrand.\n",
    "   129                                                       Note that error tolerances may no longer be satisfied\"\"\" \\\n",
    "   130                                                       % (int(self.data.n_total), int(self.data.n.sum()), int(self.n_max))\n",
    "   131                                                       warnings.warn(warning_s, MaxSamplesWarning)\n",
    "   132                                                       # decrease n proportionally for each integrand\n",
    "   133                                                       n_decease = self.data.n_total + self.data.n.sum() - self.n_max\n",
    "   134                                                       dec_prop = n_decease / self.data.n.sum()\n",
    "   135                                                       self.data.n = floor(self.data.n - self.data.n * dec_prop)\n",
    "   136                                                   # Final Sample\n",
    "   137         1    6156399.0 6156399.0     86.9          self.data.update_data()\n",
    "   138                                                   # CLT confidence interval\n",
    "   139         1         16.0     16.0      0.0          sigma_up = (self.data.sighat ** 2 / self.data.n_mu).sum(0) ** 0.5\n",
    "   140         1          3.0      3.0      0.0          self.data.error_bound = z_star * self.inflate * sigma_up\n",
    "   141         1         17.0     17.0      0.0          self.data.confid_int = self.data.solution + self.data.error_bound * array([-1, 1])\n",
    "   142         1          2.0      2.0      0.0          self.data.time_integrate = time() - t_start\n",
    "   143         1          1.0      1.0      0.0          return self.data.solution, self.data\n",
    "\n",
    "Total time: 7.08879 s\n",
    "File: /Users/terrya/Documents/ProgramData/QMCSoftware/workouts/integration_examples/asian_option_multi_level.py\n",
    "Function: asian_option_multi_level at line 10\n",
    "\n",
    "Line #      Hits         Time  Per Hit   % Time  Line Contents\n",
    "==============================================================\n",
    "    10                                           def asian_option_multi_level(\n",
    "    11                                               volatility = .5,\n",
    "    12                                               start_price = 30,\n",
    "    13                                               strike_price = 25,\n",
    "    14                                               interest_rate = .01,\n",
    "    15                                               mean_type = 'geometric',\n",
    "    16                                               abs_tol = .5):\n",
    "    17                                               \n",
    "    18         1        292.0    292.0      0.0      print(bar)\n",
    "    19                                           \n",
    "    20                                               # CubMCCLT\n",
    "    21         1          2.0      2.0      0.0      integrand = AsianOption(\n",
    "    22         1        189.0    189.0      0.0          sampler = IIDStdUniform(seed=7),\n",
    "    23         1          1.0      1.0      0.0          volatility = volatility,\n",
    "    24         1          1.0      1.0      0.0          start_price = start_price,\n",
    "    25         1          1.0      1.0      0.0          strike_price = strike_price,\n",
    "    26         1          0.0      0.0      0.0          interest_rate = interest_rate,\n",
    "    27         1          0.0      0.0      0.0          mean_type = mean_type,\n",
    "    28         1        654.0    654.0      0.0          multilevel_dims = [4,16,64])\n",
    "    29         1    7086377.0 7086377.0    100.0      solution,data = CubMCCLT(integrand, abs_tol=abs_tol).integrate()\n",
    "    30         1       1276.0   1276.0      0.0      print('%s%s'%(data,bar))"
   ]
  },
  {
   "cell_type": "markdown",
   "id": "0eb128ab",
   "metadata": {},
   "source": [
    "## Using memory_profiler"
   ]
  },
  {
   "cell_type": "markdown",
   "id": "db9296d8",
   "metadata": {},
   "source": [
    "Install `memory_profiler` 0.60.0 from `https://pypi.org/project/memory-profiler/`"
   ]
  },
  {
   "cell_type": "code",
   "execution_count": 14,
   "id": "bd47c953",
   "metadata": {},
   "outputs": [],
   "source": [
    "%load_ext memory_profiler"
   ]
  },
  {
   "cell_type": "markdown",
   "id": "eac521b0",
   "metadata": {},
   "source": [
    "`%memit`: line magic similar to `%timeit`\n",
    "`%%memit`: cell magic like `%%timeit`"
   ]
  },
  {
   "cell_type": "code",
   "execution_count": 15,
   "id": "1c860dad",
   "metadata": {},
   "outputs": [
    {
     "name": "stdout",
     "output_type": "stream",
     "text": [
      "\n",
      "~~~~~~~~~~~~~~~~~~~~~~~~~~~~~~~~~~~~~~~~~~~~~~~~~~~~~~~~~~~~~~~~~~~~~~~~~~~~~~~~~~~~~~~~~~~~~~~~~~~~\n",
      "\n",
      "MeanVarData (AccumulateData Object)\n",
      "    solution        5.841\n",
      "    error_bound     0.010\n",
      "    n_total         6652328\n",
      "    n               [5545333.  914642.  189281.]\n",
      "    levels          3\n",
      "    time_integrate  10.121\n",
      "CubMCCLT (StoppingCriterion Object)\n",
      "    abs_tol         0.010\n",
      "    rel_tol         0\n",
      "    n_init          2^(10)\n",
      "    n_max           10000000000\n",
      "    inflate         1.200\n",
      "    alpha           0.010\n",
      "AsianOption (Integrand Object)\n",
      "    volatility      2^(-1)\n",
      "    call_put        call\n",
      "    start_price     30\n",
      "    strike_price    25\n",
      "    interest_rate   0.010\n",
      "    mean_type       geometric\n",
      "    multilevel_dims [ 4 16 64]\n",
      "BrownianMotion (TrueMeasure Object)\n",
      "    time_vec        1\n",
      "    drift           0\n",
      "    mean            0\n",
      "    covariance      1\n",
      "    decomp_type     PCA\n",
      "IIDStdUniform (DiscreteDistribution Object)\n",
      "    d               1\n",
      "    entropy         7\n",
      "    spawn_key       ()\n",
      "~~~~~~~~~~~~~~~~~~~~~~~~~~~~~~~~~~~~~~~~~~~~~~~~~~~~~~~~~~~~~~~~~~~~~~~~~~~~~~~~~~~~~~~~~~~~~~~~~~~~\n",
      "\n",
      "peak memory: 6988.76 MiB, increment: 1.13 MiB\n"
     ]
    }
   ],
   "source": [
    "%memit asian_option_multi_level(abs_tol=.01)"
   ]
  },
  {
   "cell_type": "markdown",
   "id": "faa0ef04",
   "metadata": {},
   "source": [
    "Note that MiB is megibytes. See, for example, `https://www.majordifferences.com/2018/03/differences-between-megabyte-and.html`."
   ]
  },
  {
   "cell_type": "raw",
   "id": "58f7a328",
   "metadata": {},
   "source": [
    "%mprun -f asian_option_multi_level asian_option_multi_level(abs_tol=.01)"
   ]
  },
  {
   "cell_type": "markdown",
   "id": "cf557b05",
   "metadata": {},
   "source": [
    "The following needs @profile in the function to be profiled"
   ]
  },
  {
   "cell_type": "raw",
   "id": "54644901",
   "metadata": {},
   "source": [
    "!python -m memory_profiler ../workouts/integration_examples/asian_option_multi_level.py -o ../workouts/integration_examples/asian_option_multi_level.py.mprof"
   ]
  },
  {
   "cell_type": "markdown",
   "id": "ce67c0c8",
   "metadata": {},
   "source": [
    "The following tries to save output"
   ]
  },
  {
   "cell_type": "raw",
   "id": "3423fac9",
   "metadata": {},
   "source": [
    "from memory_profiler import LogFile\n",
    "import sys\n",
    "sys.stdout = LogFile('memory_profile_log', reportIncrementFlag=False)\n",
    "%mprun -f asian_option_multi_level asian_option_multi_level(abs_tol=.01)"
   ]
  },
  {
   "cell_type": "raw",
   "id": "8b61bf51",
   "metadata": {},
   "source": [
    "%mprun -f CubMCCLT.integrate asian_option_multi_level(abs_tol=.01) "
   ]
  },
  {
   "cell_type": "raw",
   "id": "0ac02368",
   "metadata": {},
   "source": [
    "%mprun -f accumulate_data.mean_var_data.MeanVarData.update_data asian_option_multi_level(abs_tol=.01) "
   ]
  },
  {
   "cell_type": "markdown",
   "id": "a13f1d4f",
   "metadata": {},
   "source": [
    "We can chain multiple functions to perform memory profiling:"
   ]
  },
  {
   "cell_type": "code",
   "execution_count": 16,
   "id": "3f0ccdb0",
   "metadata": {},
   "outputs": [
    {
     "name": "stdout",
     "output_type": "stream",
     "text": [
      "\n",
      "~~~~~~~~~~~~~~~~~~~~~~~~~~~~~~~~~~~~~~~~~~~~~~~~~~~~~~~~~~~~~~~~~~~~~~~~~~~~~~~~~~~~~~~~~~~~~~~~~~~~\n",
      "\n",
      "MeanVarData (AccumulateData Object)\n",
      "    solution        5.841\n",
      "    error_bound     0.010\n",
      "    n_total         6630049\n",
      "    n               [5677237.  763677.  186063.]\n",
      "    levels          3\n",
      "    time_integrate  9.562\n",
      "CubMCCLT (StoppingCriterion Object)\n",
      "    abs_tol         0.010\n",
      "    rel_tol         0\n",
      "    n_init          2^(10)\n",
      "    n_max           10000000000\n",
      "    inflate         1.200\n",
      "    alpha           0.010\n",
      "AsianOption (Integrand Object)\n",
      "    volatility      2^(-1)\n",
      "    call_put        call\n",
      "    start_price     30\n",
      "    strike_price    25\n",
      "    interest_rate   0.010\n",
      "    mean_type       geometric\n",
      "    multilevel_dims [ 4 16 64]\n",
      "BrownianMotion (TrueMeasure Object)\n",
      "    time_vec        1\n",
      "    drift           0\n",
      "    mean            0\n",
      "    covariance      1\n",
      "    decomp_type     PCA\n",
      "IIDStdUniform (DiscreteDistribution Object)\n",
      "    d               1\n",
      "    entropy         7\n",
      "    spawn_key       ()\n",
      "~~~~~~~~~~~~~~~~~~~~~~~~~~~~~~~~~~~~~~~~~~~~~~~~~~~~~~~~~~~~~~~~~~~~~~~~~~~~~~~~~~~~~~~~~~~~~~~~~~~~\n",
      "\n",
      "\n"
     ]
    }
   ],
   "source": [
    "%mprun -f asian_option_multi_level -f CubMCCLT.integrate -f accumulate_data.mean_var_data.MeanVarData.update_data -f Integrand.f asian_option_multi_level(abs_tol=.01) "
   ]
  },
  {
   "cell_type": "raw",
   "id": "729953b3",
   "metadata": {},
   "source": [
    "Filename: /Users/terrya/Documents/ProgramData/QMCSoftware/workouts/integration_examples/asian_option_multi_level.py\n",
    "\n",
    "Line #    Mem usage    Increment  Occurrences   Line Contents\n",
    "=============================================================\n",
    "    10   4025.0 MiB   4025.0 MiB           1   def asian_option_multi_level(\n",
    "    11                                             volatility = .5,\n",
    "    12                                             start_price = 30,\n",
    "    13                                             strike_price = 25,\n",
    "    14                                             interest_rate = .01,\n",
    "    15                                             mean_type = 'geometric',\n",
    "    16                                             abs_tol = .5):\n",
    "    17                                             \n",
    "    18   4025.0 MiB      0.0 MiB           1       print(bar)\n",
    "    19                                         \n",
    "    20                                             # CubMCCLT\n",
    "    21   4025.0 MiB      0.0 MiB           1       integrand = AsianOption(\n",
    "    22   4025.0 MiB      0.0 MiB           1           sampler = IIDStdUniform(seed=7),\n",
    "    23   4025.0 MiB      0.0 MiB           1           volatility = volatility,\n",
    "    24   4025.0 MiB      0.0 MiB           1           start_price = start_price,\n",
    "    25   4025.0 MiB      0.0 MiB           1           strike_price = strike_price,\n",
    "    26   4025.0 MiB      0.0 MiB           1           interest_rate = interest_rate,\n",
    "    27   4025.0 MiB      0.0 MiB           1           mean_type = mean_type,\n",
    "    28   4025.0 MiB      0.0 MiB           1           multilevel_dims = [4,16,64])\n",
    "    29   5284.5 MiB   5284.5 MiB           1       solution,data = CubMCCLT(integrand, abs_tol=abs_tol).integrate()\n",
    "    30   5284.5 MiB      0.0 MiB           1       print('%s%s'%(data,bar))\n",
    "\n",
    "\n",
    "Filename: /Users/terrya/Documents/ProgramData/QMCSoftware/qmcpy/stopping_criterion/cub_mc_clt.py\n",
    "\n",
    "Line #    Mem usage    Increment  Occurrences   Line Contents\n",
    "=============================================================\n",
    "   103   4025.0 MiB   4025.0 MiB           1       def integrate(self):\n",
    "   104                                                 \"\"\" See abstract method. \"\"\"\n",
    "   105                                                 # Construct AccumulateData Object to House Integration data\n",
    "   106   4025.0 MiB      0.0 MiB           1           self.data = MeanVarData(self, self.integrand, self.true_measure, self.discrete_distrib, \n",
    "   107   4025.0 MiB      0.0 MiB           1               self.n_init, self.cv, self.cv_mu)  # house integration data\n",
    "   108   4025.0 MiB      0.0 MiB           1           t_start = time()\n",
    "   109                                                 # Pilot Sample\n",
    "   110   4026.2 MiB   4026.2 MiB           1           self.data.update_data()\n",
    "   111                                                 # use cost of function values to decide how to allocate\n",
    "   112   4026.2 MiB      0.0 MiB           1           temp_a = self.data.t_eval ** 0.5\n",
    "   113   4026.2 MiB      0.0 MiB           1           temp_b = (temp_a * self.data.sighat).sum()\n",
    "   114                                                 # samples for computation of the mean\n",
    "   115                                                 # n_mu_temp := n such that confidence intervals width and conficence will be satisfied\n",
    "   116   4026.2 MiB      0.0 MiB           1           tol_up = max(self.abs_tol, abs(self.data.solution) * self.rel_tol)\n",
    "   117   4026.2 MiB      0.0 MiB           1           z_star = -norm.ppf(self.alpha / 2.)\n",
    "   118   4026.2 MiB      0.0 MiB           1           n_mu_temp = ceil(temp_b * (self.data.sighat / temp_a) * \\\n",
    "   119   4026.2 MiB      0.0 MiB           1                               (z_star * self.inflate / tol_up)**2)\n",
    "   120                                                 # n_mu := n_mu_temp adjusted for previous n\n",
    "   121   4026.2 MiB      0.0 MiB           1           self.data.n_mu = maximum(self.data.n, n_mu_temp)\n",
    "   122   4026.2 MiB      0.0 MiB           1           self.data.n += self.data.n_mu.astype(int)\n",
    "   123   4026.2 MiB      0.0 MiB           1           if self.data.n_total + self.data.n.sum() > self.n_max:\n",
    "   124                                                     # cannot generate this many new samples\n",
    "   125                                                     warning_s = \"\"\"\n",
    "   126                                                     Alread generated %d samples.\n",
    "   127                                                     Trying to generate %d new samples, which would exceed n_max = %d.\n",
    "   128                                                     The number of new samples will be decrease proportionally for each integrand.\n",
    "   129                                                     Note that error tolerances may no longer be satisfied\"\"\" \\\n",
    "   130                                                     % (int(self.data.n_total), int(self.data.n.sum()), int(self.n_max))\n",
    "   131                                                     warnings.warn(warning_s, MaxSamplesWarning)\n",
    "   132                                                     # decrease n proportionally for each integrand\n",
    "   133                                                     n_decease = self.data.n_total + self.data.n.sum() - self.n_max\n",
    "   134                                                     dec_prop = n_decease / self.data.n.sum()\n",
    "   135                                                     self.data.n = floor(self.data.n - self.data.n * dec_prop)\n",
    "   136                                                 # Final Sample\n",
    "   137   5284.5 MiB   5284.5 MiB           1           self.data.update_data()\n",
    "   138                                                 # CLT confidence interval\n",
    "   139   5284.5 MiB      0.0 MiB           1           sigma_up = (self.data.sighat ** 2 / self.data.n_mu).sum(0) ** 0.5\n",
    "   140   5284.5 MiB      0.0 MiB           1           self.data.error_bound = z_star * self.inflate * sigma_up\n",
    "   141   5284.5 MiB      0.0 MiB           1           self.data.confid_int = self.data.solution + self.data.error_bound * array([-1, 1])\n",
    "   142   5284.5 MiB      0.0 MiB           1           self.data.time_integrate = time() - t_start\n",
    "   143   5284.5 MiB      0.0 MiB           1           return self.data.solution, self.data\n",
    "\n",
    "\n",
    "Filename: /Users/terrya/Documents/ProgramData/QMCSoftware/qmcpy/accumulate_data/mean_var_data.py\n",
    "\n",
    "Line #    Mem usage    Increment  Occurrences   Line Contents\n",
    "=============================================================\n",
    "    63   4026.2 MiB   8051.2 MiB           2       def update_data(self):\n",
    "    64   5284.5 MiB      0.0 MiB           8           for l in range(self.levels):\n",
    "    65   5262.9 MiB      0.0 MiB           6               t_start = time() # time the integrand values\n",
    "    66   5262.9 MiB      0.0 MiB           6               integrand_l = self.level_integrands[l]\n",
    "    67   5262.9 MiB      0.0 MiB           6               n  = int(int(self.n[l]))\n",
    "    68   5262.9 MiB    173.6 MiB           6               samples = integrand_l.discrete_distrib.gen_samples(n)\n",
    "    69   5284.5 MiB  27873.8 MiB           6               y = integrand_l.f(samples).squeeze()\n",
    "    70   5284.5 MiB      0.0 MiB           6               if self.ncv>0:\n",
    "    71                                                         # using control variates\n",
    "    72                                                         cvdata = zeros((n,self.ncv),dtype=float)\n",
    "    73                                                         for i in range(self.ncv):\n",
    "    74                                                             cvdata[:,i] = self.cv[i].f(samples).squeeze()\n",
    "    75                                                         cvmuhats = cvdata.mean(0)\n",
    "    76                                                         if not hasattr(self,'beta_hat'):\n",
    "    77                                                             # approximate control varite coefficient\n",
    "    78                                                             x4beta = cvdata-cvmuhats[None,:]\n",
    "    79                                                             y4beta = y-y.mean()\n",
    "    80                                                             self.beta_hat = linalg.lstsq(x4beta,y4beta,rcond=None)[0].reshape((-1,1))\n",
    "    81                                                         cvterm = self.beta_hat.T@(cvdata-self.cv_mu.T).T\n",
    "    82                                                         y = y-cvterm.squeeze() # use control variates and apprixmated coefficient to \n",
    "    83   5284.5 MiB      0.0 MiB           6               self.t_eval[l] = max( (time()-t_start)/self.n[l], self.EPS) \n",
    "    84   5284.5 MiB      0.0 MiB           6               self.sighat[l] = y.std() # compute the sample standard deviation\n",
    "    85   5284.5 MiB      0.0 MiB           6               self.muhat[l] = y.mean() # compute the sample mean\n",
    "    86   5284.5 MiB      0.0 MiB           6               self.n_total += self.n[l] # add to total samples\n",
    "    87   5284.5 MiB      0.0 MiB           2           self.solution = self.muhat.sum() # tentative solution\n",
    "\n",
    "\n",
    "Filename: /Users/terrya/Documents/ProgramData/QMCSoftware/qmcpy/integrand/_integrand.py\n",
    "\n",
    "Line #    Mem usage    Increment  Occurrences   Line Contents\n",
    "=============================================================\n",
    "    58   5262.9 MiB  26788.0 MiB           6       def f(self, x, periodization_transform='NONE', compute_flags=None, *args, **kwargs):\n",
    "    59                                                 \"\"\"\n",
    "    60                                                 Evaluate transformed integrand based on true measures and discrete distribution\n",
    "    61                                         \n",
    "    62                                                 Args:\n",
    "    63                                                     x (ndarray): n x d array of samples from a discrete distribution\n",
    "    64                                                     periodization_transform (str): periodization transform\n",
    "    65                                                     compute_flags (ndarray): TODO\n",
    "    66                                                     *args: other ordered args to g\n",
    "    67                                                     **kwargs (dict): other keyword args to g\n",
    "    68                                         \n",
    "    69                                                 Return:\n",
    "    70                                                     ndarray: length n vector of function evaluations\n",
    "    71                                                 \"\"\"\n",
    "    72   5262.9 MiB      0.0 MiB           6           periodization_transform = 'NONE' if periodization_transform is None else periodization_transform.upper()\n",
    "    73   5262.9 MiB      0.0 MiB           6           compute_flags = tile(1,self.dprime) if compute_flags is None else atleast_1d(compute_flags)\n",
    "    74   5262.9 MiB      0.0 MiB           6           n,d = x.shape\n",
    "    75                                                 # parameter checks\n",
    "    76   5262.9 MiB      0.0 MiB           6           if self.discrete_distrib.mimics != 'StdUniform' and periodization_transform!='NONE':\n",
    "    77                                                     raise ParameterError('''\n",
    "    78                                                         Applying a periodization transform currently requires a discrete distribution \n",
    "    79                                                         that mimics a standard uniform measure.''')\n",
    "    80                                                 # periodization transform\n",
    "    81   5262.9 MiB      0.0 MiB           6           if periodization_transform == 'NONE':\n",
    "    82   5262.9 MiB      0.0 MiB           6               xp = x\n",
    "    83   5262.9 MiB      0.0 MiB           6               wp = ones(n,dtype=float)\n",
    "    84                                                 elif periodization_transform == 'BAKER': # Baker's transform\n",
    "    85                                                     xp = 1 - 2 * abs(x - 1 / 2)\n",
    "    86                                                     wp = ones(n,dtype=float)\n",
    "    87                                                 elif periodization_transform == 'C0': # C^0 transform\n",
    "    88                                                     xp = 3 * x ** 2 - 2 * x ** 3\n",
    "    89                                                     wp = prod(6 * x * (1 - x), 1)\n",
    "    90                                                 elif periodization_transform == 'C1': # C^1 transform\n",
    "    91                                                     xp = x ** 3 * (10 - 15 * x + 6 * x ** 2)\n",
    "    92                                                     wp = prod(30 * x ** 2 * (1 - x) ** 2, 1)\n",
    "    93                                                 elif periodization_transform == 'C1SIN': # Sidi C^1 transform\n",
    "    94                                                     xp = x - sin(2 * pi * x) / (2 * pi)\n",
    "    95                                                     wp = prod(2 * sin(pi * x) ** 2, 1)\n",
    "    96                                                 elif periodization_transform == 'C2SIN': # Sidi C^2 transform\n",
    "    97                                                     xp = (8 - 9 * cos(pi * x) + cos(3 * pi * x)) / 16 # psi3\n",
    "    98                                                     wp = prod( (9 * sin(pi * x) * pi - sin(3 * pi * x) * 3 * pi) / 16 , 1) # psi3_1\n",
    "    99                                                 elif periodization_transform == 'C3SIN': # Sidi C^3 transform\n",
    "   100                                                     xp = (12 * pi * x - 8 * sin(2 * pi * x) + sin(4 * pi * x)) / (12 * pi) # psi4\n",
    "   101                                                     wp = prod( (12 * pi - 8 * cos(2 * pi * x) * 2 * pi + sin(4 * pi * x) * 4 * pi) / (12 * pi), 1) # psi4_1\n",
    "   102                                                 else:\n",
    "   103                                                     raise ParameterError(\"The %s periodization transform is not implemented\"%periodization_transform)\n",
    "   104   5262.9 MiB      0.0 MiB           6           wp = wp.reshape(n)\n",
    "   105   5262.9 MiB      0.0 MiB           6           if periodization_transform in ['C1','C1SIN','C2SIN','C3SIN']:\n",
    "   106                                                     xp[xp<=0] = self.EPS\n",
    "   107                                                     xp[xp>=1] = 1-self.EPS\n",
    "   108                                                 # function evaluation with chain rule\n",
    "   109   5262.9 MiB      0.0 MiB           6           y = empty((n,)+self.dprime,dtype=float)\n",
    "   110   5262.9 MiB      0.0 MiB           6           if self.true_measure == self.true_measure.transform:\n",
    "   111                                                     # jacobian*weight/pdf will cancel so f(x) = g(\\Psi(x))\n",
    "   112   5262.9 MiB   1062.4 MiB           6               xtf = self.true_measure._transform(xp) # get transformed samples, equivalent to self.true_measure._transform_r(x)\n",
    "   113   5284.3 MiB     21.9 MiB           6               y[:] = self._g(xtf,compute_flags,*args,**kwargs)\n",
    "   114                                                 else: # using importance sampling --> need to compute pdf, jacobian(s), and weight explicitly\n",
    "   115                                                     pdf = self.discrete_distrib.pdf(xp).reshape(n) # pdf of samples\n",
    "   116                                                     xtf,jacobians = self.true_measure.transform._jacobian_transform_r(xp) # compute recursive transform+jacobian\n",
    "   117                                                     jacobians = jacobians.reshape(n)\n",
    "   118                                                     weight = self.true_measure._weight(xtf).reshape(n) # weight based on the true measure\n",
    "   119                                                     gvals = self._g(xtf,compute_flags,*args,**kwargs)\n",
    "   120                                                     for i in range(n): y[i] = gvals[i]*weight[i]/pdf[i]*jacobians[i]\n",
    "   121                                                 # account for periodization weight\n",
    "   122   5284.3 MiB      0.0 MiB           6           @jit\n",
    "   123                                                 def f(y, wp):\n",
    "   124                                                     for i in range(n): y[i] = y[i]*wp[i]\n",
    "   125                                                     return y\n",
    "   126                                         \n",
    "   127   5284.5 MiB      1.6 MiB           6           y = f(y, wp)\n",
    "   128                                         \n",
    "   129   5284.5 MiB      0.0 MiB           6           return y                              return y"
   ]
  }
 ],
 "metadata": {
  "kernelspec": {
   "display_name": "qmcpy",
   "language": "python",
   "name": "qmcpy"
  },
  "language_info": {
   "codemirror_mode": {
    "name": "ipython",
    "version": 3
   },
   "file_extension": ".py",
   "mimetype": "text/x-python",
   "name": "python",
   "nbconvert_exporter": "python",
   "pygments_lexer": "ipython3",
   "version": "3.7.0"
  }
 },
 "nbformat": 4,
 "nbformat_minor": 5
}
