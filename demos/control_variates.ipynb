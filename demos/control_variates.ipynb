{
 "cells": [
  {
   "cell_type": "markdown",
   "metadata": {
    "id": "wyIC-fSKUcL7"
   },
   "source": [
    "# Control Variates in QMCPy\n",
    "\n",
    "This notebook demonstrates QMCPy's current support for control variates. "
   ]
  },
  {
   "cell_type": "markdown",
   "metadata": {},
   "source": [
    "[![Open In Colab](https://colab.research.google.com/assets/colab-badge.svg)](https://colab.research.google.com/github/QMCSoftware/QMCSoftware/blob/develop/demos/control_variates.ipynb)"
   ]
  },
  {
   "cell_type": "markdown",
   "metadata": {
    "id": "v_CDThSJUpUz"
   },
   "source": [
    "## Setup"
   ]
  },
  {
   "cell_type": "code",
   "execution_count": 1,
   "metadata": {
    "id": "vxpOFASNPuHw"
   },
   "outputs": [],
   "source": [
    "from qmcpy import *\n",
    "from numpy import *\n",
    "from qmcpy import *\n",
    "from numpy import *"
   ]
  },
  {
   "cell_type": "code",
   "execution_count": 2,
   "metadata": {
    "id": "cf7vhLKZgK6Z"
   },
   "outputs": [],
   "source": [
    "from matplotlib import pyplot\n",
    "%matplotlib inline\n",
    "size = 20\n",
    "pyplot.rc('font', size=size)          # controls default text sizes\n",
    "pyplot.rc('axes', titlesize=size)     # fontsize of the axes title\n",
    "pyplot.rc('axes', labelsize=size)     # fontsize of the x and y labels\n",
    "pyplot.rc('xtick', labelsize=size)    # fontsize of the tick labels\n",
    "pyplot.rc('ytick', labelsize=size)    # fontsize of the tick labels\n",
    "pyplot.rc('legend', fontsize=size)    # legend fontsize\n",
    "pyplot.rc('figure', titlesize=size)   # fontsize of the figure title"
   ]
  },
  {
   "cell_type": "code",
   "execution_count": 3,
   "metadata": {
    "id": "gP5vClqmCuE4"
   },
   "outputs": [],
   "source": [
    "def compare(problem,discrete_distrib,stopping_crit,abs_tol):\n",
    "  g1,cvs,cvmus = problem(discrete_distrib)\n",
    "  sc1 = stopping_crit(g1,abs_tol=abs_tol)\n",
    "  name = type(sc1).__name__\n",
    "  print('Stopping Criterion: %-15s absolute tolerance: %-5.1e'%(name,abs_tol))\n",
    "  sol,data = sc1.integrate()\n",
    "  print('\\tW CV:  Solution %-10.2f time %-10.2f samples %.1e'%(sol,data.time_integrate,data.n_total))\n",
    "  sc1 = stopping_crit(g1,abs_tol=abs_tol,control_variates=cvs,control_variate_means=cvmus)\n",
    "  solcv,datacv = sc1.integrate()\n",
    "  print('\\tWO CV: Solution %-10.2f time %-10.2f samples %.1e'%(solcv,datacv.time_integrate,datacv.n_total))\n",
    "  print('\\tControl variates took %.1f%% the time and %.1f%% the samples\\n'%\\\n",
    "        (100*datacv.time_integrate/data.time_integrate,100*datacv.n_total/data.n_total))"
   ]
  },
  {
   "cell_type": "markdown",
   "metadata": {
    "id": "x-wXHvDxvHAI"
   },
   "source": [
    "## Problem 1: Polynomial Function\n",
    "\n",
    "We will integrate \n",
    "$$g(t) = 10t_1-5t_2^2+2t_3^3$$\n",
    "with true measure $\\mathcal{U}[0,2]^3$ and control variates\n",
    "$$\\hat{g}_1(t) = t_1$$\n",
    "and \n",
    "$$\\hat{g}_2(t) = t_2^2$$\n",
    "using the same true measure."
   ]
  },
  {
   "cell_type": "code",
   "execution_count": 4,
   "metadata": {
    "colab": {
     "base_uri": "https://localhost:8080/"
    },
    "id": "Z6iwKN8dvHVS",
    "outputId": "7264eefb-20ed-4e23-cb87-e996d89fd843"
   },
   "outputs": [
    {
     "name": "stdout",
     "output_type": "stream",
     "text": [
      "Stopping Criterion: CubMCCLT        absolute tolerance: 1.0e-02\n",
      "\tW CV:  Solution 5.33       time 1.11       samples 6.7e+06\n",
      "\tWO CV: Solution 5.34       time 0.12       samples 4.8e+05\n",
      "\tControl variates took 10.5% the time and 7.1% the samples\n",
      "\n",
      "Stopping Criterion: CubMCCLT        absolute tolerance: 1.0e-02\n",
      "\tW CV:  Solution 5.33       time 0.98       samples 6.7e+06\n",
      "\tWO CV: Solution 5.34       time 0.09       samples 4.8e+05\n",
      "\tControl variates took 9.1% the time and 7.1% the samples\n",
      "\n",
      "Stopping Criterion: CubQMCNetG      absolute tolerance: 1.0e-08\n",
      "\tW CV:  Solution 5.33       time 0.12       samples 2.6e+05\n",
      "\tWO CV: Solution 5.33       time 0.04       samples 6.6e+04\n",
      "\tControl variates took 33.4% the time and 25.0% the samples\n",
      "\n"
     ]
    }
   ],
   "source": [
    "# parameters\n",
    "def poly_problem(discrete_distrib):\n",
    "  g1 = CustomFun(Uniform(discrete_distrib,0,2),lambda t: 10*t[...,0]-5*t[...,1]**2+t[...,2]**3)\n",
    "  cv1 = CustomFun(Uniform(discrete_distrib,0,2),lambda t: t[...,0])\n",
    "  cv2 = CustomFun(Uniform(discrete_distrib,0,2),lambda t: t[...,1]**2)\n",
    "  return g1,[cv1,cv2],[1,4/3]\n",
    "compare(poly_problem,IIDStdUniform(3,seed=7),CubMCCLT,abs_tol=1e-2)\n",
    "compare(poly_problem,IIDStdUniform(3,seed=7),CubMCCLT,abs_tol=1e-2)\n",
    "compare(poly_problem,Sobol(3,seed=7),CubQMCSobolG,abs_tol=1e-8)"
   ]
  },
  {
   "cell_type": "markdown",
   "metadata": {
    "id": "YCC364nrUxcY"
   },
   "source": [
    "## Problem 2: Keister Function\n",
    "\n",
    "This problem will integrate the Keister function while using control variates\n",
    "$$g_1(x) = \\sin(\\pi x)$$\n",
    "and \n",
    "$$g_2(x) = -3(x-1/2)^2+1.$$\n",
    "The following code does this problem in one-dimension for visualization purposes, but control variates are compatible with any dimension."
   ]
  },
  {
   "cell_type": "code",
   "execution_count": 5,
   "metadata": {
    "colab": {
     "base_uri": "https://localhost:8080/"
    },
    "id": "c0oAxLqrFWHk",
    "outputId": "5f007bde-14cc-41ff-a880-990dc7e97ecf"
   },
   "outputs": [
    {
     "name": "stdout",
     "output_type": "stream",
     "text": [
      "Stopping Criterion: CubMCCLT        absolute tolerance: 5.0e-04\n",
      "\tW CV:  Solution 1.38       time 1.11       samples 9.5e+06\n",
      "\tWO CV: Solution 1.38       time 0.10       samples 3.4e+05\n",
      "\tControl variates took 9.1% the time and 3.5% the samples\n",
      "\n",
      "Stopping Criterion: CubMCCLT        absolute tolerance: 4.0e-04\n",
      "\tW CV:  Solution 1.38       time 1.71       samples 1.5e+07\n",
      "\tWO CV: Solution 1.38       time 0.17       samples 6.8e+05\n",
      "\tControl variates took 10.2% the time and 4.6% the samples\n",
      "\n",
      "Stopping Criterion: CubQMCNetG      absolute tolerance: 1.0e-07\n",
      "\tW CV:  Solution 1.38       time 0.31       samples 1.0e+06\n",
      "\tWO CV: Solution 1.38       time 0.41       samples 1.0e+06\n",
      "\tControl variates took 133.0% the time and 100.0% the samples\n",
      "\n"
     ]
    }
   ],
   "source": [
    "def keister_problem(discrete_distrib):\n",
    "  k = Keister(discrete_distrib)\n",
    "  cv1 = CustomFun(Uniform(discrete_distrib),lambda x: sin(pi*x).sum(-1))\n",
    "  cv2 = CustomFun(Uniform(discrete_distrib),lambda x: (-3*(x-.5)**2+1).sum(-1))\n",
    "  return k,[cv1,cv2],[2/pi,3/4]\n",
    "compare(keister_problem,IIDStdUniform(1,seed=7),CubMCCLT,abs_tol=5e-4)\n",
    "compare(keister_problem,IIDStdUniform(1,seed=7),CubMCCLT,abs_tol=4e-4)\n",
    "compare(keister_problem,Sobol(1,seed=7),CubQMCSobolG,abs_tol=1e-7)"
   ]
  },
  {
   "cell_type": "markdown",
   "metadata": {
    "id": "8j9OEXmmWSPe"
   },
   "source": [
    "## Problem 3: Option Pricing\n",
    "\n",
    "We will use a European Call Option as a control variate for pricing the Asian Call Option using various stopping criterion, as done for problem 1"
   ]
  },
  {
   "cell_type": "code",
   "execution_count": 7,
   "metadata": {
    "colab": {
     "base_uri": "https://localhost:8080/"
    },
    "id": "vSojYYnMGEQY",
    "outputId": "f3d8a4d0-bb7f-4a95-ff3e-6bb64c8c9b49"
   },
   "outputs": [
    {
     "name": "stdout",
     "output_type": "stream",
     "text": [
      "Stopping Criterion: CubMCCLT        absolute tolerance: 5.0e-02\n",
      "\tW CV:  Solution 9.55       time 1.66       samples 3.1e+06\n",
      "\tWO CV: Solution 9.54       time 0.81       samples 7.9e+05\n",
      "\tControl variates took 49.0% the time and 25.6% the samples\n",
      "\n",
      "Stopping Criterion: CubMCCLT        absolute tolerance: 5.0e-02\n",
      "\tW CV:  Solution 9.55       time 1.44       samples 3.1e+06\n",
      "\tWO CV: Solution 9.54       time 0.66       samples 7.9e+05\n",
      "\tControl variates took 45.7% the time and 25.6% the samples\n",
      "\n",
      "Stopping Criterion: CubQMCNetG      absolute tolerance: 1.0e-03\n",
      "\tW CV:  Solution 9.55       time 0.40       samples 5.2e+05\n",
      "\tWO CV: Solution 9.55       time 0.53       samples 5.2e+05\n",
      "\tControl variates took 132.0% the time and 100.0% the samples\n",
      "\n"
     ]
    }
   ],
   "source": [
    "call_put = 'call'\n",
    "start_price = 100\n",
    "strike_price = 125\n",
    "volatility = .75\n",
    "interest_rate = .01 # 1% interest\n",
    "t_final = 1 # 1 year\n",
    "def option_problem(discrete_distrib):\n",
    "  eurocv = FinancialOption(\n",
    "    discrete_distrib,\n",
    "    option=\"EUROPEAN\",\n",
    "    volatility=volatility,\n",
    "    start_price=start_price,\n",
    "    strike_price=strike_price,\n",
    "    interest_rate=interest_rate,\n",
    "    t_final=t_final,\n",
    "    call_put=call_put)\n",
    "  aco = FinancialOption(\n",
    "    discrete_distrib,\n",
    "    option=\"ASIAN\",\n",
    "    volatility=volatility,\n",
    "    start_price=start_price,\n",
    "    strike_price=strike_price,\n",
    "    interest_rate=interest_rate,\n",
    "    t_final=t_final,\n",
    "    call_put=call_put)\n",
    "  mu_eurocv = eurocv.get_exact_value()\n",
    "  return aco,[eurocv],[mu_eurocv]\n",
    "compare(option_problem,IIDStdUniform(4,seed=7),CubMCCLT,abs_tol=5e-2)\n",
    "compare(option_problem,IIDStdUniform(4,seed=7),CubMCCLT,abs_tol=5e-2)\n",
    "compare(option_problem,Sobol(4,seed=7),CubQMCSobolG,abs_tol=1e-3)"
   ]
  },
  {
   "cell_type": "code",
   "execution_count": null,
   "metadata": {},
   "outputs": [],
   "source": []
  }
 ],
 "metadata": {
  "colab": {
   "collapsed_sections": [],
   "name": "control_variates",
   "provenance": [],
   "toc_visible": true
  },
  "kernelspec": {
   "display_name": "qmcpy",
   "language": "python",
   "name": "python3"
  },
  "language_info": {
   "codemirror_mode": {
    "name": "ipython",
    "version": 3
   },
   "file_extension": ".py",
   "mimetype": "text/x-python",
   "name": "python",
   "nbconvert_exporter": "python",
   "pygments_lexer": "ipython3",
   "version": "3.9.13"
  }
 },
 "nbformat": 4,
 "nbformat_minor": 1
}
