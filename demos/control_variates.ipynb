{
  "cells": [
    {
      "cell_type": "markdown",
      "metadata": {
        "id": "wyIC-fSKUcL7"
      },
      "source": [
        "# Control Variates in QMCPy\n",
        "\n",
        "This notebook demonstrates QMCPy's current support for control variates."
      ]
    },
    {
      "cell_type": "markdown",
      "metadata": {
        "id": "eQ9IGVNtngCI"
      },
      "source": [
        "[![Open In Colab](https://colab.research.google.com/assets/colab-badge.svg)](https://colab.research.google.com/github/QMCSoftware/QMCSoftware/blob/develop/demos/control_variates.ipynb)"
      ]
    },
    {
      "cell_type": "markdown",
      "metadata": {
        "id": "v_CDThSJUpUz"
      },
      "source": [
        "## Setup"
      ]
    },
    {
      "cell_type": "code",
      "source": [
        "# @title Install qmcpy\n",
        "\n",
        "\n",
        "# Code to execute when the cell is run:\n",
        "import importlib.util\n",
        "import subprocess\n",
        "import sys\n",
        "\n",
        "def install_package(package_name):\n",
        "    if importlib.util.find_spec(package_name) is None:\n",
        "        print(f\"Installing {package_name}...\")\n",
        "        subprocess.check_call([sys.executable, \"-m\", \"pip\", \"install\", package_name])\n",
        "    else:\n",
        "        print(f\"{package_name} is already installed.\")\n",
        "\n",
        "# Example usage for specific packages\n",
        "install_package(\"qmcpy\")"
      ],
      "metadata": {
        "cellView": "form",
        "id": "EDuUhO_pnjlU"
      },
      "execution_count": null,
      "outputs": []
    },
    {
      "cell_type": "code",
      "execution_count": 5,
      "metadata": {
        "id": "vxpOFASNPuHw"
      },
      "outputs": [],
      "source": [
        "from qmcpy import *\n",
        "from numpy import *\n",
        "from qmcpy import *\n",
        "from numpy import *"
      ]
    },
    {
      "cell_type": "code",
      "execution_count": 6,
      "metadata": {
        "id": "cf7vhLKZgK6Z"
      },
      "outputs": [],
      "source": [
        "from matplotlib import pyplot\n",
        "%matplotlib inline\n",
        "size = 20\n",
        "pyplot.rc('font', size=size)          # controls default text sizes\n",
        "pyplot.rc('axes', titlesize=size)     # fontsize of the axes title\n",
        "pyplot.rc('axes', labelsize=size)     # fontsize of the x and y labels\n",
        "pyplot.rc('xtick', labelsize=size)    # fontsize of the tick labels\n",
        "pyplot.rc('ytick', labelsize=size)    # fontsize of the tick labels\n",
        "pyplot.rc('legend', fontsize=size)    # legend fontsize\n",
        "pyplot.rc('figure', titlesize=size)   # fontsize of the figure title"
      ]
    },
    {
      "cell_type": "code",
      "execution_count": 7,
      "metadata": {
        "id": "gP5vClqmCuE4"
      },
      "outputs": [],
      "source": [
        "def compare(problem,discrete_distrib,stopping_crit,abs_tol):\n",
        "  g1,cvs,cvmus = problem(discrete_distrib)\n",
        "  sc1 = stopping_crit(g1,abs_tol=abs_tol)\n",
        "  name = type(sc1).__name__\n",
        "  print('Stopping Criterion: %-15s absolute tolerance: %-5.1e'%(name,abs_tol))\n",
        "  sol,data = sc1.integrate()\n",
        "  print('\\tW CV:  Solution %-10.2f time %-10.2f samples %.1e'%(sol,data.time_integrate,data.n_total))\n",
        "  sc1 = stopping_crit(g1,abs_tol=abs_tol,control_variates=cvs,control_variate_means=cvmus)\n",
        "  solcv,datacv = sc1.integrate()\n",
        "  print('\\tWO CV: Solution %-10.2f time %-10.2f samples %.1e'%(solcv,datacv.time_integrate,datacv.n_total))\n",
        "  print('\\tControl variates took %.1f%% the time and %.1f%% the samples\\n'%\\\n",
        "        (100*datacv.time_integrate/data.time_integrate,100*datacv.n_total/data.n_total))"
      ]
    },
    {
      "cell_type": "markdown",
      "metadata": {
        "id": "x-wXHvDxvHAI"
      },
      "source": [
        "## Problem 1: Polynomial Function\n",
        "\n",
        "We will integrate\n",
        "$$g(t) = 10t_1-5t_2^2+2t_3^3$$\n",
        "with true measure $\\mathcal{U}[0,2]^3$ and control variates\n",
        "$$\\hat{g}_1(t) = t_1$$\n",
        "and\n",
        "$$\\hat{g}_2(t) = t_2^2$$\n",
        "using the same true measure."
      ]
    },
    {
      "cell_type": "code",
      "execution_count": null,
      "metadata": {
        "id": "Z6iwKN8dvHVS"
      },
      "outputs": [],
      "source": [
        "# parameters\n",
        "def poly_problem(discrete_distrib):\n",
        "  g1 = CustomFun(Uniform(discrete_distrib,0,2),lambda t: 10*t[:,0]-5*t[:,1]**2+t[:,2]**3)\n",
        "  cv1 = CustomFun(Uniform(discrete_distrib,0,2),lambda t: t[:,0])\n",
        "  cv2 = CustomFun(Uniform(discrete_distrib,0,2),lambda t: t[:,1]**2)\n",
        "  return g1,[cv1,cv2],[1,4/3]\n",
        "compare(poly_problem,IIDStdUniform(3,seed=7),CubMCCLT,abs_tol=1e-2)\n",
        "compare(poly_problem,IIDStdUniform(3,seed=7),CubMCCLT,abs_tol=1e-2)\n",
        "compare(poly_problem,Sobol(3,seed=7),CubQMCSobolG,abs_tol=1e-8)"
      ]
    },
    {
      "cell_type": "markdown",
      "metadata": {
        "id": "YCC364nrUxcY"
      },
      "source": [
        "## Problem 2: Keister Function\n",
        "\n",
        "This problem will integrate the Keister function while using control variates\n",
        "$$g_1(x) = \\sin(\\pi x)$$\n",
        "and\n",
        "$$g_2(x) = -3(x-1/2)^2+1.$$\n",
        "The following code does this problem in one-dimension for visualization purposes, but control variates are compatible with any dimension."
      ]
    },
    {
      "cell_type": "code",
      "execution_count": null,
      "metadata": {
        "id": "c0oAxLqrFWHk"
      },
      "outputs": [],
      "source": [
        "def keister_problem(discrete_distrib):\n",
        "  k = Keister(discrete_distrib)\n",
        "  cv1 = CustomFun(Uniform(discrete_distrib),lambda x: sin(pi*x).sum(1))\n",
        "  cv2 = CustomFun(Uniform(discrete_distrib),lambda x: (-3*(x-.5)**2+1).sum(1))\n",
        "  return k,[cv1,cv2],[2/pi,3/4]\n",
        "compare(keister_problem,IIDStdUniform(1,seed=7),CubMCCLT,abs_tol=5e-4)\n",
        "compare(keister_problem,IIDStdUniform(1,seed=7),CubMCCLT,abs_tol=4e-4)\n",
        "compare(keister_problem,Sobol(1,seed=7),CubQMCSobolG,abs_tol=1e-7)"
      ]
    },
    {
      "cell_type": "markdown",
      "metadata": {
        "id": "8j9OEXmmWSPe"
      },
      "source": [
        "## Problem 3: Option Pricing\n",
        "\n",
        "We will use a European Call Option as a control variate for pricing the Asian Call Option using various stopping criterion, as done for problem 1"
      ]
    },
    {
      "cell_type": "code",
      "execution_count": null,
      "metadata": {
        "id": "vSojYYnMGEQY"
      },
      "outputs": [],
      "source": [
        "call_put = 'call'\n",
        "start_price = 100\n",
        "strike_price = 125\n",
        "volatility = .75\n",
        "interest_rate = .01 # 1% interest\n",
        "t_final = 1 # 1 year\n",
        "def option_problem(discrete_distrib):\n",
        "  eurocv = EuropeanOption(discrete_distrib,volatility,start_price,strike_price,interest_rate,t_final,call_put)\n",
        "  aco = AsianOption(discrete_distrib,volatility,start_price,strike_price,interest_rate,t_final,call_put)\n",
        "  mu_eurocv = eurocv.get_exact_value()\n",
        "  return aco,[eurocv],[mu_eurocv]\n",
        "compare(option_problem,IIDStdUniform(4,seed=7),CubMCCLT,abs_tol=5e-2)\n",
        "compare(option_problem,IIDStdUniform(4,seed=7),CubMCCLT,abs_tol=5e-2)\n",
        "compare(option_problem,Sobol(4,seed=7),CubQMCSobolG,abs_tol=1e-3)"
      ]
    },
    {
      "cell_type": "code",
      "execution_count": 10,
      "metadata": {
        "id": "QnKiLgHyngCL"
      },
      "outputs": [],
      "source": []
    }
  ],
  "metadata": {
    "colab": {
      "name": "control_variates",
      "provenance": [],
      "toc_visible": true
    },
    "kernelspec": {
      "display_name": "Python 3 (ipykernel)",
      "language": "python",
      "name": "python3"
    },
    "language_info": {
      "codemirror_mode": {
        "name": "ipython",
        "version": 3
      },
      "file_extension": ".py",
      "mimetype": "text/x-python",
      "name": "python",
      "nbconvert_exporter": "python",
      "pygments_lexer": "ipython3",
      "version": "3.9.13"
    }
  },
  "nbformat": 4,
  "nbformat_minor": 0
}