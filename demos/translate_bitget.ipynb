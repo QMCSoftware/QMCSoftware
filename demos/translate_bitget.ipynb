{
 "cells": [
  {
   "cell_type": "markdown",
   "id": "0db90478",
   "metadata": {},
   "source": [
    "The purpose of this notebook is to implement MATLAB's bitget function in Python."
   ]
  },
  {
   "cell_type": "code",
   "execution_count": 1,
   "id": "1ce5007c",
   "metadata": {},
   "outputs": [],
   "source": [
    "def bin_len_max(A):\n",
    "    if type(A) in [np.uint8, np.int8]:\n",
    "        len_max = 8 \n",
    "    elif type(A) in [np.uint16, np.int16]:\n",
    "        len_max = 16\n",
    "    elif type(A) in [np.uint32, np.int32]:\n",
    "        len_max = 32\n",
    "    elif type(A) in [np.uint64, np.int64]:\n",
    "        len_max = 64  \n",
    "    else:\n",
    "        raise ValueError(\"Unknown type of A, {type(A)}\")\n",
    "    return len_max\n",
    "\n",
    "def is_signed(A):\n",
    "    if type(A) in [np.uint8, np.uint16, np.uint32, np.uint64]:\n",
    "        return False\n",
    "    elif type(A) in [int, np.int8, np.int16, np.int32, np.int64]:\n",
    "        return True\n",
    "    else:\n",
    "        raise ValueError(\"Unknown type of A, {type(A)}\")"
   ]
  },
  {
   "cell_type": "code",
   "execution_count": 2,
   "id": "7ac4cd14",
   "metadata": {},
   "outputs": [],
   "source": [
    "import numpy as np\n",
    "\n",
    "def bitget(A, BIT):\n",
    "    if type(BIT) == list:\n",
    "        return [bitget(A, b) for b in BIT]\n",
    "    \n",
    "    if type(BIT) == int:\n",
    "        if type(A) in [int, np.uint8, np.int8]:\n",
    "            l = bin_len_max(A)\n",
    "            if BIT > 0 and BIT <= len(bin(A)[2:]):\n",
    "                return (A >> (BIT-1)) & 1\n",
    "            elif BIT < l:\n",
    "                return 0\n",
    "            elif BIT == l:\n",
    "                return 0 if is_signed(A) else 1\n",
    "            else:\n",
    "                raise ValueError(\"BIT must be between 1 and the number of bits in the integer class of A.\")        \n",
    "    \n",
    "    elif type(A) == list:\n",
    "        print(\"Contact QMCPy team for implementation of this case.\") \n",
    "    else:\n",
    "        raise TypeError(\"A must be an integer or a list of integers.\")"
   ]
  },
  {
   "cell_type": "code",
   "execution_count": 3,
   "id": "ba2367fd",
   "metadata": {},
   "outputs": [
    {
     "name": "stdout",
     "output_type": "stream",
     "text": [
      "bit 1: 1\n",
      "bit 2: 1\n",
      "bit 3: 1\n",
      "bit 4: 1\n",
      "bit 5: 1\n",
      "bit 6: 1\n",
      "bit 7: 1\n",
      "bit 8: 1\n"
     ]
    }
   ],
   "source": [
    "a = np.uint8(255)\n",
    "\n",
    "for i in range(1,9):\n",
    "    print(f\"bit {i}: {bitget(a, i)}\")"
   ]
  },
  {
   "cell_type": "code",
   "execution_count": 4,
   "id": "fab05e70",
   "metadata": {},
   "outputs": [
    {
     "name": "stdout",
     "output_type": "stream",
     "text": [
      "[8, 7, 6, 5, 4, 3, 2, 1]\n",
      "[0, 1, 1, 1, 1, 1, 1, 1]\n"
     ]
    }
   ],
   "source": [
    "a1 = np.int8(127)\n",
    "\n",
    "bit = list(range(8, 0, -1))\n",
    "print(bit)\n",
    "print(bitget(a1, bit))"
   ]
  },
  {
   "cell_type": "code",
   "execution_count": 5,
   "id": "f8a7a786",
   "metadata": {},
   "outputs": [
    {
     "data": {
      "text/plain": [
       "'0b1111111'"
      ]
     },
     "execution_count": 5,
     "metadata": {},
     "output_type": "execute_result"
    }
   ],
   "source": [
    "bin(a1)"
   ]
  },
  {
   "cell_type": "code",
   "execution_count": 6,
   "id": "19b429c2",
   "metadata": {},
   "outputs": [
    {
     "name": "stdout",
     "output_type": "stream",
     "text": [
      "[1, 1, 1, 1, 1, 1, 1, 1]\n"
     ]
    }
   ],
   "source": [
    "a2 = np.uint8(127)\n",
    "\n",
    "print(bitget(a2, bit))"
   ]
  },
  {
   "cell_type": "code",
   "execution_count": 7,
   "id": "3c1cdf60",
   "metadata": {},
   "outputs": [
    {
     "data": {
      "text/plain": [
       "'0b1111111'"
      ]
     },
     "execution_count": 7,
     "metadata": {},
     "output_type": "execute_result"
    }
   ],
   "source": [
    "bin(a2)"
   ]
  }
 ],
 "metadata": {
  "kernelspec": {
   "display_name": "qmcpy",
   "language": "python",
   "name": "qmcpy"
  },
  "language_info": {
   "codemirror_mode": {
    "name": "ipython",
    "version": 3
   },
   "file_extension": ".py",
   "mimetype": "text/x-python",
   "name": "python",
   "nbconvert_exporter": "python",
   "pygments_lexer": "ipython3",
   "version": "3.9.13"
  }
 },
 "nbformat": 4,
 "nbformat_minor": 5
}
