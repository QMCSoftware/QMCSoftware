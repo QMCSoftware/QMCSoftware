{
 "cells": [
  {
   "cell_type": "code",
   "execution_count": 1,
   "id": "36e19b99-09ad-448e-baed-575e3b8a3b81",
   "metadata": {},
   "outputs": [
    {
     "ename": "SyntaxError",
     "evalue": "invalid syntax (1885169875.py, line 1)",
     "output_type": "error",
     "traceback": [
      "\u001b[0;36m  Cell \u001b[0;32mIn[1], line 1\u001b[0;36m\u001b[0m\n\u001b[0;31m    def\u001b[0m\n\u001b[0m        ^\u001b[0m\n\u001b[0;31mSyntaxError\u001b[0m\u001b[0;31m:\u001b[0m invalid syntax\n"
     ]
    }
   ],
   "source": [
    "def AdaptiveStoppingMean(Y,eps,delta,K,p=2,q=4):\n",
    "\n",
    "    k = int(2*np.ceil(ck*np.log(1/k)) + 1) # repetitions for median\n",
    "\n",
    "    # stage one: moment estimate\n",
    "    m1 = np.ceil(c1*K^(p*q/(q-p))\n",
    "    sample1 = Y(k,m1)\n",
    "    means1 = np.sum(sample1,axis=1)\n",
    "    p1 = min(2,q/2)\n",
    "    momentEst = np.median((np.sum(abs(sample1-means1)**p1,axis=1)/m1)**(1/p1))\n",
    "\n",
    "    m2 = momentEst**"
   ]
  },
  {
   "cell_type": "code",
   "execution_count": null,
   "id": "0e987f19-68d7-4b06-8438-3507cfe49c59",
   "metadata": {},
   "outputs": [],
   "source": [
    "kunsch@mathc.rwth-aachen.de"
   ]
  }
 ],
 "metadata": {
  "kernelspec": {
   "display_name": "Python 3 (ipykernel)",
   "language": "python",
   "name": "python3"
  },
  "language_info": {
   "codemirror_mode": {
    "name": "ipython",
    "version": 3
   },
   "file_extension": ".py",
   "mimetype": "text/x-python",
   "name": "python",
   "nbconvert_exporter": "python",
   "pygments_lexer": "ipython3",
   "version": "3.9.13"
  }
 },
 "nbformat": 4,
 "nbformat_minor": 5
}
