{
 "cells": [
  {
   "attachments": {},
   "cell_type": "markdown",
   "id": "b2b373ff",
   "metadata": {},
   "source": [
    "## Genz Function in Dakota and QMCPy \n",
    "\n",
    "A QMCPy implementation and comparison of [Dakota's Genz function](https://dakota.sandia.gov/sites/default/files/docs/6.17.0-release/user-html/usingdakota/examples/additionalexamples.html?highlight=genz#genz-functions)"
   ]
  },
  {
   "cell_type": "code",
   "execution_count": 1,
   "id": "3bc4fbb7",
   "metadata": {},
   "outputs": [
    {
     "name": "stdout",
     "output_type": "stream",
     "text": [
      "qmcpy matplotlib style applied.\n"
     ]
    }
   ],
   "source": [
    "from numpy import *\n",
    "from qmcpy import *\n",
    "import pandas as pd\n",
    "from matplotlib import pyplot\n",
    "import tempfile\n",
    "import os\n",
    "import subprocess\n",
    "import numpy as np\n",
    "qmc_apply_style()\n",
    "%matplotlib inline"
   ]
  },
  {
   "cell_type": "code",
   "execution_count": 2,
   "id": "d1867a8e",
   "metadata": {},
   "outputs": [
    {
     "data": {
      "text/plain": [
       "array([  1,   2,   4,   8,  16,  32,  64, 128])"
      ]
     },
     "execution_count": 2,
     "metadata": {},
     "output_type": "execute_result"
    }
   ],
   "source": [
    "kinds_func = ['oscillatory','corner-peak']\n",
    "kinds_coeff = [1,2,3]\n",
    "ds = 2**arange(8)\n",
    "ns = 2**arange(7,19)\n",
    "ds"
   ]
  },
  {
   "cell_type": "code",
   "execution_count": 3,
   "id": "119bffb6",
   "metadata": {},
   "outputs": [
    {
     "name": "stdout",
     "output_type": "stream",
     "text": [
      "logging: oscillatory.1, oscillatory.2, oscillatory.3, corner-peak.1, corner-peak.2, corner-peak.3, \n"
     ]
    },
    {
     "data": {
      "text/html": [
       "<div>\n",
       "<style scoped>\n",
       "    .dataframe tbody tr th:only-of-type {\n",
       "        vertical-align: middle;\n",
       "    }\n",
       "\n",
       "    .dataframe tbody tr th {\n",
       "        vertical-align: top;\n",
       "    }\n",
       "\n",
       "    .dataframe thead th {\n",
       "        text-align: right;\n",
       "    }\n",
       "</style>\n",
       "<table border=\"1\" class=\"dataframe\">\n",
       "  <thead>\n",
       "    <tr style=\"text-align: right;\">\n",
       "      <th></th>\n",
       "      <th>oscillatory.1</th>\n",
       "      <th>oscillatory.2</th>\n",
       "      <th>oscillatory.3</th>\n",
       "      <th>corner-peak.1</th>\n",
       "      <th>corner-peak.2</th>\n",
       "      <th>corner-peak.3</th>\n",
       "    </tr>\n",
       "    <tr>\n",
       "      <th>d</th>\n",
       "      <th></th>\n",
       "      <th></th>\n",
       "      <th></th>\n",
       "      <th></th>\n",
       "      <th></th>\n",
       "      <th></th>\n",
       "    </tr>\n",
       "  </thead>\n",
       "  <tbody>\n",
       "    <tr>\n",
       "      <th>1</th>\n",
       "      <td>-0.217229</td>\n",
       "      <td>-0.217229</td>\n",
       "      <td>-0.217229</td>\n",
       "      <td>8.000000e-01</td>\n",
       "      <td>0.800000</td>\n",
       "      <td>0.800000</td>\n",
       "    </tr>\n",
       "    <tr>\n",
       "      <th>2</th>\n",
       "      <td>-0.350528</td>\n",
       "      <td>-0.379658</td>\n",
       "      <td>-0.217290</td>\n",
       "      <td>7.133127e-01</td>\n",
       "      <td>0.712088</td>\n",
       "      <td>0.719996</td>\n",
       "    </tr>\n",
       "    <tr>\n",
       "      <th>4</th>\n",
       "      <td>-0.472868</td>\n",
       "      <td>-0.472147</td>\n",
       "      <td>-0.223335</td>\n",
       "      <td>5.663464e-01</td>\n",
       "      <td>0.566334</td>\n",
       "      <td>0.589674</td>\n",
       "    </tr>\n",
       "    <tr>\n",
       "      <th>8</th>\n",
       "      <td>-0.545580</td>\n",
       "      <td>-0.526053</td>\n",
       "      <td>-0.276837</td>\n",
       "      <td>3.573127e-01</td>\n",
       "      <td>0.360014</td>\n",
       "      <td>0.402641</td>\n",
       "    </tr>\n",
       "    <tr>\n",
       "      <th>16</th>\n",
       "      <td>-0.585497</td>\n",
       "      <td>-0.558159</td>\n",
       "      <td>-0.390467</td>\n",
       "      <td>1.423258e-01</td>\n",
       "      <td>0.147353</td>\n",
       "      <td>0.185776</td>\n",
       "    </tr>\n",
       "    <tr>\n",
       "      <th>32</th>\n",
       "      <td>-0.606470</td>\n",
       "      <td>-0.577987</td>\n",
       "      <td>-0.492894</td>\n",
       "      <td>2.259072e-02</td>\n",
       "      <td>0.025678</td>\n",
       "      <td>0.038375</td>\n",
       "    </tr>\n",
       "    <tr>\n",
       "      <th>64</th>\n",
       "      <td>-0.617228</td>\n",
       "      <td>-0.590764</td>\n",
       "      <td>-0.556348</td>\n",
       "      <td>5.692751e-04</td>\n",
       "      <td>0.000879</td>\n",
       "      <td>0.001606</td>\n",
       "    </tr>\n",
       "    <tr>\n",
       "      <th>128</th>\n",
       "      <td>-0.622677</td>\n",
       "      <td>-0.599348</td>\n",
       "      <td>-0.591170</td>\n",
       "      <td>3.614889e-07</td>\n",
       "      <td>0.000001</td>\n",
       "      <td>0.000003</td>\n",
       "    </tr>\n",
       "  </tbody>\n",
       "</table>\n",
       "</div>"
      ],
      "text/plain": [
       "     oscillatory.1  oscillatory.2  oscillatory.3  corner-peak.1  \\\n",
       "d                                                                 \n",
       "1        -0.217229      -0.217229      -0.217229   8.000000e-01   \n",
       "2        -0.350528      -0.379658      -0.217290   7.133127e-01   \n",
       "4        -0.472868      -0.472147      -0.223335   5.663464e-01   \n",
       "8        -0.545580      -0.526053      -0.276837   3.573127e-01   \n",
       "16       -0.585497      -0.558159      -0.390467   1.423258e-01   \n",
       "32       -0.606470      -0.577987      -0.492894   2.259072e-02   \n",
       "64       -0.617228      -0.590764      -0.556348   5.692751e-04   \n",
       "128      -0.622677      -0.599348      -0.591170   3.614889e-07   \n",
       "\n",
       "     corner-peak.2  corner-peak.3  \n",
       "d                                  \n",
       "1         0.800000       0.800000  \n",
       "2         0.712088       0.719996  \n",
       "4         0.566334       0.589674  \n",
       "8         0.360014       0.402641  \n",
       "16        0.147353       0.185776  \n",
       "32        0.025678       0.038375  \n",
       "64        0.000879       0.001606  \n",
       "128       0.000001       0.000003  "
      ]
     },
     "execution_count": 3,
     "metadata": {},
     "output_type": "execute_result"
    }
   ],
   "source": [
    "ref_sols = {}\n",
    "print('logging: ',end='',flush=True)\n",
    "x_full = DigitalNetB2(ds.max(),seed=7).gen_samples(2**22)\n",
    "for kind_func in kinds_func:\n",
    "    for kind_coeff in kinds_coeff:\n",
    "        tag = '%s.%d'%(kind_func,kind_coeff)\n",
    "        print('%s, '%tag,end='',flush=True)\n",
    "        mu_hats = zeros(len(ds),dtype=float)\n",
    "        for j,d in enumerate(ds):\n",
    "            genz = Genz(IIDStdUniform(d),kind_func=kind_func,kind_coeff=kind_coeff)\n",
    "            y = genz.f(x_full[:,:d])\n",
    "            mu_hats[j] = y.mean()\n",
    "        ref_sols[tag] = mu_hats\n",
    "print()\n",
    "ref_sols = pd.DataFrame(ref_sols)\n",
    "ref_sols['d'] = ds\n",
    "ref_sols.set_index('d',inplace=True)\n",
    "ref_sols"
   ]
  },
  {
   "cell_type": "code",
   "execution_count": 4,
   "id": "125a91a0",
   "metadata": {},
   "outputs": [
    {
     "ename": "FileNotFoundError",
     "evalue": "x_full_dakota.txt not found.",
     "output_type": "error",
     "traceback": [
      "\u001b[0;31m---------------------------------------------------------------------------\u001b[0m",
      "\u001b[0;31mFileNotFoundError\u001b[0m                         Traceback (most recent call last)",
      "Cell \u001b[0;32mIn[4], line 32\u001b[0m\n\u001b[1;32m      1\u001b[0m \u001b[38;5;66;03m# with tempfile.TemporaryDirectory() as tmp:\u001b[39;00m\n\u001b[1;32m      2\u001b[0m \u001b[38;5;66;03m#     with open(os.path.join(tmp, \"dakota.in\"), \"w\") as io:\u001b[39;00m\n\u001b[1;32m      3\u001b[0m \u001b[38;5;66;03m#         io.write(f\"environment\\\u001b[39;00m\n\u001b[0;32m   (...)\u001b[0m\n\u001b[1;32m     30\u001b[0m \u001b[38;5;66;03m#                 x_full_dakota.append([float(lines[n + 1 + j].split()[0]) for j in range(ds.max())])\u001b[39;00m\n\u001b[1;32m     31\u001b[0m \u001b[38;5;66;03m#         x_full_dakota = np.vstack(x_full_dakota)\u001b[39;00m\n\u001b[0;32m---> 32\u001b[0m x_full_dakota \u001b[38;5;241m=\u001b[39m \u001b[43mnp\u001b[49m\u001b[38;5;241;43m.\u001b[39;49m\u001b[43mloadtxt\u001b[49m\u001b[43m(\u001b[49m\u001b[38;5;124;43m\"\u001b[39;49m\u001b[38;5;124;43mx_full_dakota.txt\u001b[39;49m\u001b[38;5;124;43m\"\u001b[39;49m\u001b[43m)\u001b[49m\n",
      "File \u001b[0;32m~/anaconda3/envs/qmcpy/lib/python3.9/site-packages/numpy/lib/npyio.py:1318\u001b[0m, in \u001b[0;36mloadtxt\u001b[0;34m(fname, dtype, comments, delimiter, converters, skiprows, usecols, unpack, ndmin, encoding, max_rows, quotechar, like)\u001b[0m\n\u001b[1;32m   1315\u001b[0m \u001b[38;5;28;01mif\u001b[39;00m \u001b[38;5;28misinstance\u001b[39m(delimiter, \u001b[38;5;28mbytes\u001b[39m):\n\u001b[1;32m   1316\u001b[0m     delimiter \u001b[38;5;241m=\u001b[39m delimiter\u001b[38;5;241m.\u001b[39mdecode(\u001b[38;5;124m'\u001b[39m\u001b[38;5;124mlatin1\u001b[39m\u001b[38;5;124m'\u001b[39m)\n\u001b[0;32m-> 1318\u001b[0m arr \u001b[38;5;241m=\u001b[39m \u001b[43m_read\u001b[49m\u001b[43m(\u001b[49m\u001b[43mfname\u001b[49m\u001b[43m,\u001b[49m\u001b[43m \u001b[49m\u001b[43mdtype\u001b[49m\u001b[38;5;241;43m=\u001b[39;49m\u001b[43mdtype\u001b[49m\u001b[43m,\u001b[49m\u001b[43m \u001b[49m\u001b[43mcomment\u001b[49m\u001b[38;5;241;43m=\u001b[39;49m\u001b[43mcomment\u001b[49m\u001b[43m,\u001b[49m\u001b[43m \u001b[49m\u001b[43mdelimiter\u001b[49m\u001b[38;5;241;43m=\u001b[39;49m\u001b[43mdelimiter\u001b[49m\u001b[43m,\u001b[49m\n\u001b[1;32m   1319\u001b[0m \u001b[43m            \u001b[49m\u001b[43mconverters\u001b[49m\u001b[38;5;241;43m=\u001b[39;49m\u001b[43mconverters\u001b[49m\u001b[43m,\u001b[49m\u001b[43m \u001b[49m\u001b[43mskiplines\u001b[49m\u001b[38;5;241;43m=\u001b[39;49m\u001b[43mskiprows\u001b[49m\u001b[43m,\u001b[49m\u001b[43m \u001b[49m\u001b[43musecols\u001b[49m\u001b[38;5;241;43m=\u001b[39;49m\u001b[43musecols\u001b[49m\u001b[43m,\u001b[49m\n\u001b[1;32m   1320\u001b[0m \u001b[43m            \u001b[49m\u001b[43munpack\u001b[49m\u001b[38;5;241;43m=\u001b[39;49m\u001b[43munpack\u001b[49m\u001b[43m,\u001b[49m\u001b[43m \u001b[49m\u001b[43mndmin\u001b[49m\u001b[38;5;241;43m=\u001b[39;49m\u001b[43mndmin\u001b[49m\u001b[43m,\u001b[49m\u001b[43m \u001b[49m\u001b[43mencoding\u001b[49m\u001b[38;5;241;43m=\u001b[39;49m\u001b[43mencoding\u001b[49m\u001b[43m,\u001b[49m\n\u001b[1;32m   1321\u001b[0m \u001b[43m            \u001b[49m\u001b[43mmax_rows\u001b[49m\u001b[38;5;241;43m=\u001b[39;49m\u001b[43mmax_rows\u001b[49m\u001b[43m,\u001b[49m\u001b[43m \u001b[49m\u001b[43mquote\u001b[49m\u001b[38;5;241;43m=\u001b[39;49m\u001b[43mquotechar\u001b[49m\u001b[43m)\u001b[49m\n\u001b[1;32m   1323\u001b[0m \u001b[38;5;28;01mreturn\u001b[39;00m arr\n",
      "File \u001b[0;32m~/anaconda3/envs/qmcpy/lib/python3.9/site-packages/numpy/lib/npyio.py:955\u001b[0m, in \u001b[0;36m_read\u001b[0;34m(fname, delimiter, comment, quote, imaginary_unit, usecols, skiplines, max_rows, converters, ndmin, unpack, dtype, encoding)\u001b[0m\n\u001b[1;32m    953\u001b[0m     fname \u001b[38;5;241m=\u001b[39m os\u001b[38;5;241m.\u001b[39mfspath(fname)\n\u001b[1;32m    954\u001b[0m \u001b[38;5;28;01mif\u001b[39;00m \u001b[38;5;28misinstance\u001b[39m(fname, \u001b[38;5;28mstr\u001b[39m):\n\u001b[0;32m--> 955\u001b[0m     fh \u001b[38;5;241m=\u001b[39m \u001b[43mnp\u001b[49m\u001b[38;5;241;43m.\u001b[39;49m\u001b[43mlib\u001b[49m\u001b[38;5;241;43m.\u001b[39;49m\u001b[43m_datasource\u001b[49m\u001b[38;5;241;43m.\u001b[39;49m\u001b[43mopen\u001b[49m\u001b[43m(\u001b[49m\u001b[43mfname\u001b[49m\u001b[43m,\u001b[49m\u001b[43m \u001b[49m\u001b[38;5;124;43m'\u001b[39;49m\u001b[38;5;124;43mrt\u001b[39;49m\u001b[38;5;124;43m'\u001b[39;49m\u001b[43m,\u001b[49m\u001b[43m \u001b[49m\u001b[43mencoding\u001b[49m\u001b[38;5;241;43m=\u001b[39;49m\u001b[43mencoding\u001b[49m\u001b[43m)\u001b[49m\n\u001b[1;32m    956\u001b[0m     \u001b[38;5;28;01mif\u001b[39;00m encoding \u001b[38;5;129;01mis\u001b[39;00m \u001b[38;5;28;01mNone\u001b[39;00m:\n\u001b[1;32m    957\u001b[0m         encoding \u001b[38;5;241m=\u001b[39m \u001b[38;5;28mgetattr\u001b[39m(fh, \u001b[38;5;124m'\u001b[39m\u001b[38;5;124mencoding\u001b[39m\u001b[38;5;124m'\u001b[39m, \u001b[38;5;124m'\u001b[39m\u001b[38;5;124mlatin1\u001b[39m\u001b[38;5;124m'\u001b[39m)\n",
      "File \u001b[0;32m~/anaconda3/envs/qmcpy/lib/python3.9/site-packages/numpy/lib/_datasource.py:193\u001b[0m, in \u001b[0;36mopen\u001b[0;34m(path, mode, destpath, encoding, newline)\u001b[0m\n\u001b[1;32m    156\u001b[0m \u001b[38;5;250m\u001b[39m\u001b[38;5;124;03m\"\"\"\u001b[39;00m\n\u001b[1;32m    157\u001b[0m \u001b[38;5;124;03mOpen `path` with `mode` and return the file object.\u001b[39;00m\n\u001b[1;32m    158\u001b[0m \n\u001b[0;32m   (...)\u001b[0m\n\u001b[1;32m    189\u001b[0m \n\u001b[1;32m    190\u001b[0m \u001b[38;5;124;03m\"\"\"\u001b[39;00m\n\u001b[1;32m    192\u001b[0m ds \u001b[38;5;241m=\u001b[39m DataSource(destpath)\n\u001b[0;32m--> 193\u001b[0m \u001b[38;5;28;01mreturn\u001b[39;00m \u001b[43mds\u001b[49m\u001b[38;5;241;43m.\u001b[39;49m\u001b[43mopen\u001b[49m\u001b[43m(\u001b[49m\u001b[43mpath\u001b[49m\u001b[43m,\u001b[49m\u001b[43m \u001b[49m\u001b[43mmode\u001b[49m\u001b[43m,\u001b[49m\u001b[43m \u001b[49m\u001b[43mencoding\u001b[49m\u001b[38;5;241;43m=\u001b[39;49m\u001b[43mencoding\u001b[49m\u001b[43m,\u001b[49m\u001b[43m \u001b[49m\u001b[43mnewline\u001b[49m\u001b[38;5;241;43m=\u001b[39;49m\u001b[43mnewline\u001b[49m\u001b[43m)\u001b[49m\n",
      "File \u001b[0;32m~/anaconda3/envs/qmcpy/lib/python3.9/site-packages/numpy/lib/_datasource.py:533\u001b[0m, in \u001b[0;36mDataSource.open\u001b[0;34m(self, path, mode, encoding, newline)\u001b[0m\n\u001b[1;32m    530\u001b[0m     \u001b[38;5;28;01mreturn\u001b[39;00m _file_openers[ext](found, mode\u001b[38;5;241m=\u001b[39mmode,\n\u001b[1;32m    531\u001b[0m                               encoding\u001b[38;5;241m=\u001b[39mencoding, newline\u001b[38;5;241m=\u001b[39mnewline)\n\u001b[1;32m    532\u001b[0m \u001b[38;5;28;01melse\u001b[39;00m:\n\u001b[0;32m--> 533\u001b[0m     \u001b[38;5;28;01mraise\u001b[39;00m \u001b[38;5;167;01mFileNotFoundError\u001b[39;00m(\u001b[38;5;124mf\u001b[39m\u001b[38;5;124m\"\u001b[39m\u001b[38;5;132;01m{\u001b[39;00mpath\u001b[38;5;132;01m}\u001b[39;00m\u001b[38;5;124m not found.\u001b[39m\u001b[38;5;124m\"\u001b[39m)\n",
      "\u001b[0;31mFileNotFoundError\u001b[0m: x_full_dakota.txt not found."
     ]
    }
   ],
   "source": [
    "# with tempfile.TemporaryDirectory() as tmp:\n",
    "#     with open(os.path.join(tmp, \"dakota.in\"), \"w\") as io:\n",
    "#         io.write(f\"environment\\\n",
    "#             \\ttabular_data\\n\\\n",
    "#             method\\\n",
    "#             \\tfsu_quasi_mc halton\\\n",
    "#             \\t\\tsamples = {ns.max()}\\\n",
    "#             \\toutput silent\\n\\\n",
    "#             variables\\\n",
    "#             \\tcontinuous_design = {ds.max()}\\\n",
    "#             \\tlower_bounds = {' '.join(['0.0' for _ in range(ds.max())])}\\\n",
    "#             \\tupper_bounds = {' '.join(['1.0' for _ in range(ds.max())])}\\n\\\n",
    "#             interface\\\n",
    "#             \\tfork\\\n",
    "#             \\t\\tanalysis_driver = 'dummy'\\\n",
    "#             \\tbatch\\\n",
    "#             \\twork_directory named 'work'\\n\\\n",
    "#             responses\\\n",
    "#             \\tobjective_functions = 1\\\n",
    "#             \\tno_gradients\\\n",
    "#             \\tno_hessians\"\n",
    "#         )\n",
    "#     subprocess.run([\"dakota\", \"dakota.in\"], cwd=tmp, stdout=subprocess.DEVNULL, stderr=subprocess.DEVNULL)\n",
    "#     file = os.listdir(os.path.join(tmp, \"work\"))[0]\n",
    "#     with open(os.path.join(tmp, \"work\", file), \"r\") as io:\n",
    "#         lines = io.readlines()\n",
    "#         x_full_dakota = []\n",
    "#         for n, line in enumerate(lines):\n",
    "#             if f\"{ds.max()} variables\" in line:\n",
    "#                 x_full_dakota.append([float(lines[n + 1 + j].split()[0]) for j in range(ds.max())])\n",
    "#         x_full_dakota = np.vstack(x_full_dakota)\n",
    "x_full_dakota = np.loadtxt(\"x_full_dakota.txt\")"
   ]
  },
  {
   "cell_type": "code",
   "execution_count": null,
   "id": "39f95904",
   "metadata": {},
   "outputs": [],
   "source": [
    "n_max,d_max = ns.max(),ds.max()\n",
    "pts = {\n",
    "    'IID Standard Uniform': IIDStdUniform(d_max).gen_samples(n_max),\n",
    "    'Lattice (random shift)': Lattice(d_max).gen_samples(n_max),\n",
    "    'Digital Net (random scramble + shift)': DigitalNetB2(d_max).gen_samples(n_max),\n",
    "    'Halton (not random, not general)': Halton(d_max,randomize=False,generalize=False).gen_samples(n_max,warn=False),\n",
    "    'Halton (not random, general)': Halton(d_max,randomize=False,generalize=True).gen_samples(n_max,warn=False),\n",
    "    'Halton (random, not general)': Halton(d_max,randomize=True,generalize=False).gen_samples(n_max),\n",
    "    'Halton (random, general)': Halton(d_max,randomize=True,generalize=True).gen_samples(n_max),\n",
    "    'Halton (Dakota)': x_full_dakota[:n_max,:d_max]\n",
    "}"
   ]
  },
  {
   "cell_type": "code",
   "execution_count": null,
   "id": "f7af3060",
   "metadata": {},
   "outputs": [],
   "source": [
    "nrows = len(ds)\n",
    "ncols = len(kinds_func)*len(kinds_coeff)\n",
    "print('logging')\n",
    "fig,ax = pyplot.subplots(nrows=nrows,ncols=ncols,figsize=(ncols*5,nrows*5),sharey=True,sharex=True)\n",
    "ax = ax.reshape(nrows,ncols)\n",
    "colors = pyplot.rcParams['axes.prop_cycle'].by_key()['color'] + [\"indigo\"]\n",
    "for v,(name,x_full) in enumerate(pts.items()):\n",
    "    print('%20s d: '%name,end='',flush=True)\n",
    "    for j,d in enumerate(ds):\n",
    "        print('%d, '%d,end='',flush=True)\n",
    "        for i1,kind_func in enumerate(kinds_func):\n",
    "            for i2,kind_coeff in enumerate(kinds_coeff):\n",
    "                i = len(kinds_coeff)*i1+i2\n",
    "                tag = '%s.%d'%(kind_func,kind_coeff)\n",
    "                genz = Genz(IIDStdUniform(d),kind_func=kind_func,kind_coeff=kind_coeff)\n",
    "                y_full = genz.f(x_full[:,:d])\n",
    "                mu_hats = array([y_full[:n].mean() for n in ns],dtype=float)\n",
    "                error = abs(mu_hats-ref_sols.loc[d,tag])\n",
    "                ax[j,i].plot(ns,error,label=name, color=colors[v])\n",
    "                if v==(len(pts)-1): ax[j,i].legend(loc='lower left')\n",
    "                if v>0: continue\n",
    "                ax[j,i].set_xscale('log',base=2)\n",
    "                ax[j,i].set_yscale('log',base=10)\n",
    "                if i==0: ax[j,i].set_ylabel(r'$d=%d$\\\\$\\varepsilon = \\lvert \\mu - \\hat{\\mu} \\rvert$'%d)\n",
    "                if j==0: ax[j,i].set_title(tag)\n",
    "                if j==(len(ds)-1): \n",
    "                    ax[j,i].set_xlabel(r'$n$')\n",
    "                    ax[j,i].set_xticks(ns)\n",
    "                    ax[j,i].set_xlim([ns.min(),ns.max()])\n",
    "    print()"
   ]
  },
  {
   "cell_type": "code",
   "execution_count": null,
   "id": "561f445b-5656-4b9f-814f-4df8824198bc",
   "metadata": {},
   "outputs": [],
   "source": []
  }
 ],
 "metadata": {
  "kernelspec": {
   "display_name": "Python 3 (ipykernel)",
   "language": "python",
   "name": "python3"
  },
  "language_info": {
   "codemirror_mode": {
    "name": "ipython",
    "version": 3
   },
   "file_extension": ".py",
   "mimetype": "text/x-python",
   "name": "python",
   "nbconvert_exporter": "python",
   "pygments_lexer": "ipython3",
   "version": "3.9.13"
  },
  "vscode": {
   "interpreter": {
    "hash": "b83705b65f13e55ab722dc752e0ce792ccb2a5be1fd763cc61e2ca11cad95274"
   }
  }
 },
 "nbformat": 4,
 "nbformat_minor": 5
}
