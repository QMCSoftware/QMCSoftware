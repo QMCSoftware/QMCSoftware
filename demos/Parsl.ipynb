{
 "cells": [
  {
   "cell_type": "code",
   "execution_count": 11,
   "metadata": {},
   "outputs": [
    {
     "ename": "ValueError",
     "evalue": "cannot find context for 'fork'",
     "output_type": "error",
     "traceback": [
      "\u001b[1;31m---------------------------------------------------------------------------\u001b[0m",
      "\u001b[1;31mValueError\u001b[0m                                Traceback (most recent call last)",
      "\u001b[1;32mc:\\Users\\Baron\\Documents\\QMCpy\\QMCSoftware\\demos\\Parsl.ipynb Cell 1\u001b[0m line \u001b[0;36m7\n\u001b[0;32m      <a href='vscode-notebook-cell:/c%3A/Users/Baron/Documents/QMCpy/QMCSoftware/demos/Parsl.ipynb#W0sZmlsZQ%3D%3D?line=4'>5</a>\u001b[0m \u001b[39mimport\u001b[39;00m \u001b[39mcProfile\u001b[39;00m\n\u001b[0;32m      <a href='vscode-notebook-cell:/c%3A/Users/Baron/Documents/QMCpy/QMCSoftware/demos/Parsl.ipynb#W0sZmlsZQ%3D%3D?line=5'>6</a>\u001b[0m \u001b[39mimport\u001b[39;00m \u001b[39mpstats\u001b[39;00m\n\u001b[1;32m----> <a href='vscode-notebook-cell:/c%3A/Users/Baron/Documents/QMCpy/QMCSoftware/demos/Parsl.ipynb#W0sZmlsZQ%3D%3D?line=6'>7</a>\u001b[0m \u001b[39mfrom\u001b[39;00m \u001b[39mparsl\u001b[39;00m \u001b[39mimport\u001b[39;00m python_app\n",
      "File \u001b[1;32mc:\\Users\\Baron\\miniconda3\\envs\\qmcpy\\lib\\site-packages\\parsl\\__init__.py:22\u001b[0m\n\u001b[0;32m     19\u001b[0m \u001b[39mimport\u001b[39;00m \u001b[39mplatform\u001b[39;00m\n\u001b[0;32m     21\u001b[0m \u001b[39mfrom\u001b[39;00m \u001b[39mparsl\u001b[39;00m\u001b[39m.\u001b[39;00m\u001b[39mversion\u001b[39;00m \u001b[39mimport\u001b[39;00m VERSION\n\u001b[1;32m---> 22\u001b[0m \u001b[39mfrom\u001b[39;00m \u001b[39mparsl\u001b[39;00m\u001b[39m.\u001b[39;00m\u001b[39mapp\u001b[39;00m\u001b[39m.\u001b[39;00m\u001b[39mapp\u001b[39;00m \u001b[39mimport\u001b[39;00m bash_app, join_app, python_app\n\u001b[0;32m     23\u001b[0m \u001b[39mfrom\u001b[39;00m \u001b[39mparsl\u001b[39;00m\u001b[39m.\u001b[39;00m\u001b[39mconfig\u001b[39;00m \u001b[39mimport\u001b[39;00m Config\n\u001b[0;32m     24\u001b[0m \u001b[39mfrom\u001b[39;00m \u001b[39mparsl\u001b[39;00m\u001b[39m.\u001b[39;00m\u001b[39mexecutors\u001b[39;00m \u001b[39mimport\u001b[39;00m ThreadPoolExecutor\n",
      "File \u001b[1;32mc:\\Users\\Baron\\miniconda3\\envs\\qmcpy\\lib\\site-packages\\parsl\\app\\app.py:12\u001b[0m\n\u001b[0;32m      9\u001b[0m \u001b[39mfrom\u001b[39;00m \u001b[39mtyping\u001b[39;00m \u001b[39mimport\u001b[39;00m List, Optional, Union\n\u001b[0;32m     10\u001b[0m \u001b[39mfrom\u001b[39;00m \u001b[39mtyping_extensions\u001b[39;00m \u001b[39mimport\u001b[39;00m Literal\n\u001b[1;32m---> 12\u001b[0m \u001b[39mfrom\u001b[39;00m \u001b[39mparsl\u001b[39;00m\u001b[39m.\u001b[39;00m\u001b[39mdataflow\u001b[39;00m\u001b[39m.\u001b[39;00m\u001b[39mdflow\u001b[39;00m \u001b[39mimport\u001b[39;00m DataFlowKernel\n\u001b[0;32m     14\u001b[0m logger \u001b[39m=\u001b[39m logging\u001b[39m.\u001b[39mgetLogger(\u001b[39m__name__\u001b[39m)\n\u001b[0;32m     17\u001b[0m \u001b[39mclass\u001b[39;00m \u001b[39mAppBase\u001b[39;00m(metaclass\u001b[39m=\u001b[39mABCMeta):\n",
      "File \u001b[1;32mc:\\Users\\Baron\\miniconda3\\envs\\qmcpy\\lib\\site-packages\\parsl\\dataflow\\dflow.py:26\u001b[0m\n\u001b[0;32m     24\u001b[0m \u001b[39mfrom\u001b[39;00m \u001b[39mparsl\u001b[39;00m\u001b[39m.\u001b[39;00m\u001b[39mapp\u001b[39;00m\u001b[39m.\u001b[39;00m\u001b[39mfutures\u001b[39;00m \u001b[39mimport\u001b[39;00m DataFuture\n\u001b[0;32m     25\u001b[0m \u001b[39mfrom\u001b[39;00m \u001b[39mparsl\u001b[39;00m\u001b[39m.\u001b[39;00m\u001b[39mchannels\u001b[39;00m \u001b[39mimport\u001b[39;00m Channel\n\u001b[1;32m---> 26\u001b[0m \u001b[39mfrom\u001b[39;00m \u001b[39mparsl\u001b[39;00m\u001b[39m.\u001b[39;00m\u001b[39mconfig\u001b[39;00m \u001b[39mimport\u001b[39;00m Config\n\u001b[0;32m     27\u001b[0m \u001b[39mfrom\u001b[39;00m \u001b[39mparsl\u001b[39;00m\u001b[39m.\u001b[39;00m\u001b[39mdata_provider\u001b[39;00m\u001b[39m.\u001b[39;00m\u001b[39mdata_manager\u001b[39;00m \u001b[39mimport\u001b[39;00m DataManager\n\u001b[0;32m     28\u001b[0m \u001b[39mfrom\u001b[39;00m \u001b[39mparsl\u001b[39;00m\u001b[39m.\u001b[39;00m\u001b[39mdata_provider\u001b[39;00m\u001b[39m.\u001b[39;00m\u001b[39mfiles\u001b[39;00m \u001b[39mimport\u001b[39;00m File\n",
      "File \u001b[1;32mc:\\Users\\Baron\\miniconda3\\envs\\qmcpy\\lib\\site-packages\\parsl\\config.py:12\u001b[0m\n\u001b[0;32m     10\u001b[0m \u001b[39mfrom\u001b[39;00m \u001b[39mparsl\u001b[39;00m\u001b[39m.\u001b[39;00m\u001b[39merrors\u001b[39;00m \u001b[39mimport\u001b[39;00m ConfigurationError\n\u001b[0;32m     11\u001b[0m \u001b[39mfrom\u001b[39;00m \u001b[39mparsl\u001b[39;00m\u001b[39m.\u001b[39;00m\u001b[39mdataflow\u001b[39;00m\u001b[39m.\u001b[39;00m\u001b[39mtaskrecord\u001b[39;00m \u001b[39mimport\u001b[39;00m TaskRecord\n\u001b[1;32m---> 12\u001b[0m \u001b[39mfrom\u001b[39;00m \u001b[39mparsl\u001b[39;00m\u001b[39m.\u001b[39;00m\u001b[39mmonitoring\u001b[39;00m \u001b[39mimport\u001b[39;00m MonitoringHub\n\u001b[0;32m     14\u001b[0m logger \u001b[39m=\u001b[39m logging\u001b[39m.\u001b[39mgetLogger(\u001b[39m__name__\u001b[39m)\n\u001b[0;32m     17\u001b[0m \u001b[39mclass\u001b[39;00m \u001b[39mConfig\u001b[39;00m(RepresentationMixin):\n",
      "File \u001b[1;32mc:\\Users\\Baron\\miniconda3\\envs\\qmcpy\\lib\\site-packages\\parsl\\monitoring\\__init__.py:1\u001b[0m\n\u001b[1;32m----> 1\u001b[0m \u001b[39mfrom\u001b[39;00m \u001b[39mparsl\u001b[39;00m\u001b[39m.\u001b[39;00m\u001b[39mmonitoring\u001b[39;00m\u001b[39m.\u001b[39;00m\u001b[39mmonitoring\u001b[39;00m \u001b[39mimport\u001b[39;00m MonitoringHub\n\u001b[0;32m      3\u001b[0m __all__ \u001b[39m=\u001b[39m [\u001b[39m'\u001b[39m\u001b[39mMonitoringHub\u001b[39m\u001b[39m'\u001b[39m]\n",
      "File \u001b[1;32mc:\\Users\\Baron\\miniconda3\\envs\\qmcpy\\lib\\site-packages\\parsl\\monitoring\\monitoring.py:11\u001b[0m\n\u001b[0;32m      7\u001b[0m \u001b[39mimport\u001b[39;00m \u001b[39mzmq\u001b[39;00m\n\u001b[0;32m      9\u001b[0m \u001b[39mimport\u001b[39;00m \u001b[39mqueue\u001b[39;00m\n\u001b[1;32m---> 11\u001b[0m \u001b[39mimport\u001b[39;00m \u001b[39mparsl\u001b[39;00m\u001b[39m.\u001b[39;00m\u001b[39mmonitoring\u001b[39;00m\u001b[39m.\u001b[39;00m\u001b[39mremote\u001b[39;00m\n\u001b[0;32m     13\u001b[0m \u001b[39mfrom\u001b[39;00m \u001b[39mparsl\u001b[39;00m\u001b[39m.\u001b[39;00m\u001b[39mmultiprocessing\u001b[39;00m \u001b[39mimport\u001b[39;00m ForkProcess, SizedQueue\n\u001b[0;32m     14\u001b[0m \u001b[39mfrom\u001b[39;00m \u001b[39mmultiprocessing\u001b[39;00m \u001b[39mimport\u001b[39;00m Process, Queue\n",
      "File \u001b[1;32mc:\\Users\\Baron\\miniconda3\\envs\\qmcpy\\lib\\site-packages\\parsl\\monitoring\\remote.py:7\u001b[0m\n\u001b[0;32m      4\u001b[0m \u001b[39mimport\u001b[39;00m \u001b[39mdatetime\u001b[39;00m\n\u001b[0;32m      5\u001b[0m \u001b[39mfrom\u001b[39;00m \u001b[39mfunctools\u001b[39;00m \u001b[39mimport\u001b[39;00m wraps\n\u001b[1;32m----> 7\u001b[0m \u001b[39mfrom\u001b[39;00m \u001b[39mparsl\u001b[39;00m\u001b[39m.\u001b[39;00m\u001b[39mmultiprocessing\u001b[39;00m \u001b[39mimport\u001b[39;00m ForkProcess\n\u001b[0;32m      8\u001b[0m \u001b[39mfrom\u001b[39;00m \u001b[39mmultiprocessing\u001b[39;00m \u001b[39mimport\u001b[39;00m Event\n\u001b[0;32m      9\u001b[0m \u001b[39mfrom\u001b[39;00m \u001b[39mparsl\u001b[39;00m\u001b[39m.\u001b[39;00m\u001b[39mprocess_loggers\u001b[39;00m \u001b[39mimport\u001b[39;00m wrap_with_logs\n",
      "File \u001b[1;32mc:\\Users\\Baron\\miniconda3\\envs\\qmcpy\\lib\\site-packages\\parsl\\multiprocessing.py:15\u001b[0m\n\u001b[0;32m     11\u001b[0m logger \u001b[39m=\u001b[39m logging\u001b[39m.\u001b[39mgetLogger(\u001b[39m__name__\u001b[39m)\n\u001b[0;32m     13\u001b[0m \u001b[39m# maybe ForkProcess should be: Callable[..., Process] so as to make\u001b[39;00m\n\u001b[0;32m     14\u001b[0m \u001b[39m# it clear that it returns a Process always to the type checker?\u001b[39;00m\n\u001b[1;32m---> 15\u001b[0m ForkProcess: Type \u001b[39m=\u001b[39m multiprocessing\u001b[39m.\u001b[39;49mget_context(\u001b[39m'\u001b[39;49m\u001b[39mfork\u001b[39;49m\u001b[39m'\u001b[39;49m)\u001b[39m.\u001b[39mProcess\n\u001b[0;32m     16\u001b[0m SpawnProcess: Type \u001b[39m=\u001b[39m multiprocessing\u001b[39m.\u001b[39mget_context(\u001b[39m'\u001b[39m\u001b[39mspawn\u001b[39m\u001b[39m'\u001b[39m)\u001b[39m.\u001b[39mProcess\n\u001b[0;32m     19\u001b[0m \u001b[39mclass\u001b[39;00m \u001b[39mMacSafeQueue\u001b[39;00m(multiprocessing\u001b[39m.\u001b[39mqueues\u001b[39m.\u001b[39mQueue):\n",
      "File \u001b[1;32mc:\\Users\\Baron\\miniconda3\\envs\\qmcpy\\lib\\multiprocessing\\context.py:239\u001b[0m, in \u001b[0;36mDefaultContext.get_context\u001b[1;34m(self, method)\u001b[0m\n\u001b[0;32m    237\u001b[0m     \u001b[39mreturn\u001b[39;00m \u001b[39mself\u001b[39m\u001b[39m.\u001b[39m_actual_context\n\u001b[0;32m    238\u001b[0m \u001b[39melse\u001b[39;00m:\n\u001b[1;32m--> 239\u001b[0m     \u001b[39mreturn\u001b[39;00m \u001b[39msuper\u001b[39;49m()\u001b[39m.\u001b[39;49mget_context(method)\n",
      "File \u001b[1;32mc:\\Users\\Baron\\miniconda3\\envs\\qmcpy\\lib\\multiprocessing\\context.py:193\u001b[0m, in \u001b[0;36mBaseContext.get_context\u001b[1;34m(self, method)\u001b[0m\n\u001b[0;32m    191\u001b[0m     ctx \u001b[39m=\u001b[39m _concrete_contexts[method]\n\u001b[0;32m    192\u001b[0m \u001b[39mexcept\u001b[39;00m \u001b[39mKeyError\u001b[39;00m:\n\u001b[1;32m--> 193\u001b[0m     \u001b[39mraise\u001b[39;00m \u001b[39mValueError\u001b[39;00m(\u001b[39m'\u001b[39m\u001b[39mcannot find context for \u001b[39m\u001b[39m%r\u001b[39;00m\u001b[39m'\u001b[39m \u001b[39m%\u001b[39m method) \u001b[39mfrom\u001b[39;00m \u001b[39mNone\u001b[39m\n\u001b[0;32m    194\u001b[0m ctx\u001b[39m.\u001b[39m_check_available()\n\u001b[0;32m    195\u001b[0m \u001b[39mreturn\u001b[39;00m ctx\n",
      "\u001b[1;31mValueError\u001b[0m: cannot find context for 'fork'"
     ]
    }
   ],
   "source": [
    "import qmcpy as qp\n",
    "import numpy as np\n",
    "import pandas as pd\n",
    "import matplotlib.pyplot as plt\n",
    "import cProfile\n",
    "import pstats\n",
    "from parsl import python_app"
   ]
  },
  {
   "cell_type": "code",
   "execution_count": null,
   "metadata": {},
   "outputs": [],
   "source": [
    "def natural_thread(n, num_ports, seed=None):\n",
    "    l = qp.Lattice(dimension=n, seed=seed,order=\"natural\" ,is_parallel=True)\n",
    "    points = l.gen_samples(num_ports) \n",
    "    return points\n",
    "\n",
    "def mps_thread(n, num_ports, seed=None):\n",
    "    l = qp.Lattice(dimension=n, seed=seed,order=\"mps\" ,is_parallel=True)\n",
    "    points = l.gen_samples(num_ports) \n",
    "    return points\n",
    "def linear_thread(n, num_ports, seed=None):\n",
    "    l = qp.Lattice(dimension=n, seed=seed,order=\"linear\" ,is_parallel=True)\n",
    "    points = l.gen_samples(num_ports) \n",
    "    return points\n",
    "\n",
    "def natural(n, num_ports, seed=None):\n",
    "    l = qp.Lattice(dimension=n, seed=seed,order=\"natural\" ,is_parallel=False)\n",
    "    points = l.gen_samples(num_ports) \n",
    "    return points\n",
    "def mps(n, num_ports, seed=None):\n",
    "    l = qp.Lattice(dimension=n, seed=seed,order=\"mps\" ,is_parallel=False)\n",
    "    points = l.gen_samples(num_ports) \n",
    "    return points\n",
    "def linear(n, num_ports, seed=None):\n",
    "    l = qp.Lattice(dimension=n, seed=seed,order=\"linear\" ,is_parallel=False)\n",
    "    points = l.gen_samples(num_ports) \n",
    "    return points"
   ]
  },
  {
   "cell_type": "code",
   "execution_count": null,
   "metadata": {},
   "outputs": [],
   "source": []
  }
 ],
 "metadata": {
  "kernelspec": {
   "display_name": "qmcpy",
   "language": "python",
   "name": "python3"
  },
  "language_info": {
   "codemirror_mode": {
    "name": "ipython",
    "version": 3
   },
   "file_extension": ".py",
   "mimetype": "text/x-python",
   "name": "python",
   "nbconvert_exporter": "python",
   "pygments_lexer": "ipython3",
   "version": "3.9.13"
  }
 },
 "nbformat": 4,
 "nbformat_minor": 2
}
