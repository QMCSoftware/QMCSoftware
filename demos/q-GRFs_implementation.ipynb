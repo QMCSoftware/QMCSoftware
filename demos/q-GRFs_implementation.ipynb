{
 "cells": [
  {
   "cell_type": "markdown",
   "metadata": {},
   "source": [
    "Notebook to reproduce key results of 'quasi-Monte Carlo graph random features' paper (https://arxiv.org/abs/2305.12470). Using a new QMC scheme that anticorrelates the lengths of random walks on a graph, we can improve the convergence of MC estimators of graph kernels."
   ]
  },
  {
   "cell_type": "code",
   "execution_count": 1,
   "metadata": {},
   "outputs": [],
   "source": [
    "# rf_construction\n",
    "#!/usr/bin/env python3\n",
    "# -*- coding: utf-8 -*-\n",
    "\"\"\"\n",
    "Created on Thu Apr 27 13:53:39 2023\n",
    "\n",
    "@author: ir337\n",
    "\"\"\"\n",
    "import numpy as np\n",
    "import random as rnd\n",
    "import time\n",
    "from numpy import array, zeros, diag, diagflat, dot\n",
    "from math import sqrt\n",
    "import pprint\n",
    "import scipy\n",
    "import scipy.linalg\n",
    "\n",
    "def create_rf_vector(adj_lists, weight_lists, base_vertex,\n",
    "                     p_halt, nb_random_walks):\n",
    "  \"create RF vector when we're using iid coupling\"\n",
    "  nb_vertices = len(adj_lists)\n",
    "  rf_vector = np.zeros(nb_vertices)   #initialise container for RF vector\n",
    "  for _ in range(nb_random_walks):  \n",
    "    load = 1.0    #initialise load\n",
    "    current_vertex = base_vertex    #set walker vertex to starting vertex\n",
    "    rf_vector[current_vertex] += load   \n",
    "    if adj_lists[current_vertex] == []:\n",
    "      return rf_vector\n",
    "    while (rnd.uniform(0,1) > p_halt):   #draw termination random variables, see if terminates     \n",
    "        rnd_index = int(rnd.uniform(0,1) * len(adj_lists[current_vertex]))   #choose a neighbouring vertex at random\n",
    "        multiplier = len(adj_lists[current_vertex])    #get degree of current vertex\n",
    "        load *= weight_lists[current_vertex][rnd_index]   #update load\n",
    "        load *= multiplier / (1.0 - p_halt)\n",
    "        current_vertex = adj_lists[current_vertex][rnd_index]   #update vertex\n",
    "        rf_vector[current_vertex] += load   #update RF vector\n",
    "  rf_vector /= nb_random_walks    #normalise by no. random walks\n",
    "  return rf_vector\n",
    "\n",
    "\n",
    "def create_antithetic_rf_vector(adj_lists, weight_lists, base_vertex,\n",
    "                     p_halt, nb_random_walks):\n",
    "  \"creates RF vector when we're using antithetic termination\"\n",
    "  nb_vertices = len(adj_lists) \n",
    "  rf_vector = np.zeros(nb_vertices)\n",
    "  if nb_random_walks%2 != 0:\n",
    "      raise Exception('Need an even number of walks for antithetic coupling')  #check that possible to pair up walkers\n",
    "  for _ in range(int(nb_random_walks/2)):\n",
    "    term_indicator1 = 0   #initialise two termination indicators\n",
    "    term_indicator2 = 0\n",
    "    load1 = 1.0   #and two loads\n",
    "    load2 = 1.0\n",
    "    current_vertex1 = base_vertex   #and two vertex holder variables\n",
    "    current_vertex2 = base_vertex\n",
    "    rf_vector[current_vertex1] += load1\n",
    "    rf_vector[current_vertex2] += load2\n",
    "    if adj_lists[current_vertex1] == []:\n",
    "      return rf_vector\n",
    "    while term_indicator1 == 0 or term_indicator2 == 0:\n",
    "        rand_draw1 = rnd.uniform(0,1)\n",
    "        rand_draw2 = np.mod(rand_draw1+0.5,1)   #second termination RV is offset from first by 1/2 modulo 1 (see Eq. 11)\n",
    "       \n",
    "        if term_indicator1 ==0:\n",
    "            term_indicator1 = rand_draw1 < p_halt\n",
    "        if term_indicator2 == 0:\n",
    "            term_indicator2 = rand_draw2 < p_halt\n",
    "           \n",
    "        if term_indicator1 ==0:     #do updates to load, vertex position and RF vector for first walker\n",
    "            rnd_index1 = int(rnd.uniform(0,1) * len(adj_lists[current_vertex1]))\n",
    "            multiplier1 = len(adj_lists[current_vertex1])\n",
    "            load1 *= weight_lists[current_vertex1][rnd_index1]\n",
    "            load1 *= multiplier1 / (1.0 - p_halt)\n",
    "            current_vertex1 = adj_lists[current_vertex1][rnd_index1]\n",
    "            rf_vector[current_vertex1] += load1\n",
    "           \n",
    "        if term_indicator2 ==0:   #likewise for second walker\n",
    "            rnd_index2 = int(rnd.uniform(0,1) * len(adj_lists[current_vertex2]))\n",
    "            multiplier2 = len(adj_lists[current_vertex2])\n",
    "            load2 *= weight_lists[current_vertex2][rnd_index2]\n",
    "            load2 *= multiplier2 / (1.0 - p_halt)\n",
    "            current_vertex2 = adj_lists[current_vertex2][rnd_index2]\n",
    "            rf_vector[current_vertex2] += load2\n",
    "       \n",
    "  rf_vector /= nb_random_walks    #normalise by no. walkers\n",
    "  return rf_vector\n",
    "\n",
    "def create_lr_fact_of_squared_inv_id_min_w(adj_lists, weight_lists,\n",
    "                                           p_halt,\n",
    "                                           nb_random_walks,term_coupling = None):\n",
    "  \"create lr factorisation of matrix using specified coupling. Estimating (1 - U)^{-2}\"  \n",
    "  rf_vectors = []\n",
    "  for vertex in range(len(adj_lists)):\n",
    "    if term_coupling == None:   #if no coupling specified, use i.i.d. walkers\n",
    "        rf_vector = create_rf_vector(adj_lists, weight_lists,\n",
    "                                 vertex, p_halt, nb_random_walks)\n",
    "    \n",
    "    elif term_coupling == 'antithetic':   #else use antithetic termination\n",
    "        rf_vector = create_antithetic_rf_vector(adj_lists, weight_lists,\n",
    "                                 vertex, p_halt, nb_random_walks)\n",
    "      \n",
    "    else:\n",
    "       raise Exception('Coupling scheme not recognised. Either set to None or \\'antithetic\\'')\n",
    "\n",
    "    rf_vectors.append(rf_vector)\n",
    "\n",
    "  A_matrix = np.array(rf_vectors)   #convert stacked random feature vectors to a matrix\n",
    "  B_matrix = np.transpose(A_matrix)   #return this matrix and its transpose\n",
    "  \n",
    "  return A_matrix, B_matrix"
   ]
  },
  {
   "cell_type": "code",
   "execution_count": 2,
   "metadata": {},
   "outputs": [],
   "source": [
    "# utils\n",
    "\n",
    "#!/usr/bin/env python3\n",
    "# -*- coding: utf-8 -*-\n",
    "\"\"\"\n",
    "Created on Thu Apr 27 11:24:18 2023\n",
    "\n",
    "@author: ir337\n",
    "\"\"\"\n",
    "\n",
    "import numpy as np\n",
    "import random as rnd\n",
    "import time\n",
    "from numpy import array, zeros, diag, diagflat, dot\n",
    "from math import sqrt\n",
    "import pprint\n",
    "import scipy\n",
    "import scipy.linalg\n",
    "\n",
    "\n",
    "\n",
    "def get_laplacian_matrix(W):\n",
    "    \"to get the (normalised?) graph Laplacian from adj matrix\"\n",
    "    nb_vertices = len(W)\n",
    "    L = 0.5 * np.eye(nb_vertices) # np.eye returns a 2-D array with ones on the diagonal and zeros elsewhere, nb_vertices = # rows and # cols\n",
    "    degrees = np.sum(W,axis=1) # degree matrix\n",
    "    for i in range(nb_vertices):\n",
    "        for j in range(i):\n",
    "            L[i,j] = - W[i,j]/np.sqrt(degrees[i] * degrees[j]) \n",
    "    L += L.T # transpose\n",
    "    return L\n",
    "\n",
    "def get_unnormalised_laplacian_matrix(W):\n",
    "    \"to get the graph Laplacian from adj matrix\"\n",
    "    nb_vertices = len(W)\n",
    "    degrees = np.sum(W,axis=1)\n",
    "    return np.diag(degrees) - W\n",
    "   \n",
    "def get_exact_evaluation(A):\n",
    "    \"to calculate th exact form of the matrix\"\n",
    "    nb_vertices = len(A)\n",
    "    M = np.eye(nb_vertices) - A\n",
    "    M2 = np.matmul(M,M)\n",
    "    M2I = np.linalg.inv(M2)   \n",
    "    return M2I\n",
    "\n",
    "def adj_matrix_to_lists(A):\n",
    "  \"takes a matrix and returns lists of neighbours and edge weights\"\n",
    "  adj_lists = []\n",
    "  weight_lists = []\n",
    "\n",
    "  for i in range(len(A)):\n",
    "    neighbors = []\n",
    "    weights = []\n",
    "    for j in range(len(A[i])):\n",
    "      if A[i][j] != 0.0:\n",
    "        neighbors.append(j)\n",
    "        weights.append(A[i][j])\n",
    "    adj_lists.append(neighbors)\n",
    "    weight_lists.append(weights)\n",
    "    \n",
    "  return adj_lists, weight_lists\n",
    "\n",
    "def compute_fro(first_matrix, second_matrix, relative=True):\n",
    "  \"calculates the Frobenius norm\"  \n",
    "  diff_norm = np.linalg.norm(first_matrix - second_matrix)\n",
    "  if not relative:\n",
    "    return diff_norm * diff_norm\n",
    "  else:\n",
    "    return diff_norm / np.linalg.norm(first_matrix)\n"
   ]
  },
  {
   "cell_type": "code",
   "execution_count": 12,
   "metadata": {},
   "outputs": [],
   "source": [
    "from scipy.sparse.csgraph import shortest_path\n",
    "from scipy.special import kv, gamma\n",
    "\n",
    "def matern_kernel(adjacency_matrix, nu=1.5, length_scale=1.0):\n",
    "    # Compute the Matérn kernel\n",
    "    # nu = smoothness parameter\n",
    "    # length_scale = length scale parameter\n",
    "    r = shortest_path(adjacency_matrix, method='D')\n",
    "    factor = (2 ** (1.0 - nu)) / gamma(nu)\n",
    "    scaled_r = (np.sqrt(2 * nu) * r) / length_scale\n",
    "    matern = factor * (scaled_r ** nu) * kv(nu, scaled_r)\n",
    "    matern[r == 0] = 1  # Handle the case where r is 0 (i.e., diagonal elements)\n",
    "    return matern"
   ]
  },
  {
   "cell_type": "code",
   "execution_count": 3,
   "metadata": {},
   "outputs": [],
   "source": [
    "import numpy as np\n",
    "import random as rnd\n",
    "import time\n",
    "import matplotlib\n",
    "from matplotlib import pyplot as plt\n",
    "from numpy import array, zeros, diag, diagflat, dot\n",
    "from math import sqrt\n",
    "import pprint\n",
    "import scipy\n",
    "import scipy.linalg\n",
    "import os\n",
    "from tqdm import tqdm\n",
    "# from utils import *\n",
    "# from rf_construction import *\n",
    "import pickle"
   ]
  },
  {
   "cell_type": "code",
   "execution_count": 4,
   "metadata": {},
   "outputs": [],
   "source": [
    "# os.chdir('/homes/ir337/Documents/antithetic_termination_final')\n",
    "os.chdir('C:/Summer programs/summer 2024/illinois tech SURE REU/research/applications in graph theory/code')"
   ]
  },
  {
   "cell_type": "code",
   "execution_count": 5,
   "metadata": {},
   "outputs": [],
   "source": [
    "#Parameters\n",
    "nb_rnd_walks_list = [2,4,8]     #number of walkers to use to estimate kernel\n",
    "nb_repeats = 100        #number of repeats to get standard deviations\n",
    "p_halt = 0.5         #probability of a walker halting at a particular timestep\n",
    "sigma = 0.1   #regulariser"
   ]
  },
  {
   "cell_type": "code",
   "execution_count": 6,
   "metadata": {},
   "outputs": [],
   "source": [
    "#load adjacency matrix arrays for the graphs to be considered\n",
    "with open('adjacency_matrices.pkl','rb') as f:\n",
    "    As = pickle.load(f)"
   ]
  },
  {
   "cell_type": "code",
   "execution_count": 13,
   "metadata": {},
   "outputs": [
    {
     "name": "stderr",
     "output_type": "stream",
     "text": [
      "C:\\Users\\waine\\AppData\\Local\\Temp\\ipykernel_21216\\3641155174.py:11: RuntimeWarning: invalid value encountered in multiply\n",
      "  matern = factor * (scaled_r ** nu) * kv(nu, scaled_r)\n"
     ]
    },
    {
     "name": "stdout",
     "output_type": "stream",
     "text": [
      "Doing graph 1 of 8\n",
      "Number of random walks is:  2\n"
     ]
    },
    {
     "name": "stderr",
     "output_type": "stream",
     "text": [
      "100%|██████████| 100/100 [00:00<00:00, 3021.11it/s]\n"
     ]
    },
    {
     "name": "stdout",
     "output_type": "stream",
     "text": [
      "Number of random walks is:  4\n"
     ]
    },
    {
     "name": "stderr",
     "output_type": "stream",
     "text": [
      "100%|██████████| 100/100 [00:00<00:00, 3031.73it/s]\n"
     ]
    },
    {
     "name": "stdout",
     "output_type": "stream",
     "text": [
      "Number of random walks is:  8\n"
     ]
    },
    {
     "name": "stderr",
     "output_type": "stream",
     "text": [
      "100%|██████████| 100/100 [00:00<00:00, 2096.41it/s]\n"
     ]
    },
    {
     "name": "stdout",
     "output_type": "stream",
     "text": [
      "Number of random walks is:  2\n"
     ]
    },
    {
     "name": "stderr",
     "output_type": "stream",
     "text": [
      "100%|██████████| 100/100 [00:00<00:00, 1998.76it/s]\n"
     ]
    },
    {
     "name": "stdout",
     "output_type": "stream",
     "text": [
      "Number of random walks is:  4\n"
     ]
    },
    {
     "name": "stderr",
     "output_type": "stream",
     "text": [
      "100%|██████████| 100/100 [00:00<00:00, 1004.76it/s]\n"
     ]
    },
    {
     "name": "stdout",
     "output_type": "stream",
     "text": [
      "Number of random walks is:  8\n"
     ]
    },
    {
     "name": "stderr",
     "output_type": "stream",
     "text": [
      "100%|██████████| 100/100 [00:00<00:00, 536.71it/s]\n"
     ]
    },
    {
     "name": "stdout",
     "output_type": "stream",
     "text": [
      "\n",
      "Doing graph 2 of 8\n",
      "Number of random walks is:  2\n"
     ]
    },
    {
     "name": "stderr",
     "output_type": "stream",
     "text": [
      "100%|██████████| 100/100 [00:00<00:00, 642.13it/s]\n"
     ]
    },
    {
     "name": "stdout",
     "output_type": "stream",
     "text": [
      "Number of random walks is:  4\n"
     ]
    },
    {
     "name": "stderr",
     "output_type": "stream",
     "text": [
      "100%|██████████| 100/100 [00:00<00:00, 448.08it/s]\n"
     ]
    },
    {
     "name": "stdout",
     "output_type": "stream",
     "text": [
      "Number of random walks is:  8\n"
     ]
    },
    {
     "name": "stderr",
     "output_type": "stream",
     "text": [
      "100%|██████████| 100/100 [00:00<00:00, 283.37it/s]\n"
     ]
    },
    {
     "name": "stdout",
     "output_type": "stream",
     "text": [
      "Number of random walks is:  2\n"
     ]
    },
    {
     "name": "stderr",
     "output_type": "stream",
     "text": [
      "100%|██████████| 100/100 [00:00<00:00, 292.18it/s]\n"
     ]
    },
    {
     "name": "stdout",
     "output_type": "stream",
     "text": [
      "Number of random walks is:  4\n"
     ]
    },
    {
     "name": "stderr",
     "output_type": "stream",
     "text": [
      "100%|██████████| 100/100 [00:00<00:00, 187.52it/s]\n"
     ]
    },
    {
     "name": "stdout",
     "output_type": "stream",
     "text": [
      "Number of random walks is:  8\n"
     ]
    },
    {
     "name": "stderr",
     "output_type": "stream",
     "text": [
      "100%|██████████| 100/100 [00:00<00:00, 105.39it/s]\n"
     ]
    },
    {
     "name": "stdout",
     "output_type": "stream",
     "text": [
      "\n",
      "Doing graph 3 of 8\n",
      "Number of random walks is:  2\n"
     ]
    },
    {
     "name": "stderr",
     "output_type": "stream",
     "text": [
      "100%|██████████| 100/100 [00:00<00:00, 241.02it/s]\n"
     ]
    },
    {
     "name": "stdout",
     "output_type": "stream",
     "text": [
      "Number of random walks is:  4\n"
     ]
    },
    {
     "name": "stderr",
     "output_type": "stream",
     "text": [
      "100%|██████████| 100/100 [00:00<00:00, 189.59it/s]\n"
     ]
    },
    {
     "name": "stdout",
     "output_type": "stream",
     "text": [
      "Number of random walks is:  8\n"
     ]
    },
    {
     "name": "stderr",
     "output_type": "stream",
     "text": [
      "100%|██████████| 100/100 [00:00<00:00, 141.60it/s]\n"
     ]
    },
    {
     "name": "stdout",
     "output_type": "stream",
     "text": [
      "Number of random walks is:  2\n"
     ]
    },
    {
     "name": "stderr",
     "output_type": "stream",
     "text": [
      "100%|██████████| 100/100 [00:00<00:00, 141.94it/s]\n"
     ]
    },
    {
     "name": "stdout",
     "output_type": "stream",
     "text": [
      "Number of random walks is:  4\n"
     ]
    },
    {
     "name": "stderr",
     "output_type": "stream",
     "text": [
      "100%|██████████| 100/100 [00:01<00:00, 89.76it/s]\n"
     ]
    },
    {
     "name": "stdout",
     "output_type": "stream",
     "text": [
      "Number of random walks is:  8\n"
     ]
    },
    {
     "name": "stderr",
     "output_type": "stream",
     "text": [
      "100%|██████████| 100/100 [00:01<00:00, 64.23it/s]\n"
     ]
    },
    {
     "name": "stdout",
     "output_type": "stream",
     "text": [
      "\n",
      "Doing graph 4 of 8\n",
      "Number of random walks is:  2\n"
     ]
    },
    {
     "name": "stderr",
     "output_type": "stream",
     "text": [
      "100%|██████████| 100/100 [00:00<00:00, 612.79it/s]\n"
     ]
    },
    {
     "name": "stdout",
     "output_type": "stream",
     "text": [
      "Number of random walks is:  4\n"
     ]
    },
    {
     "name": "stderr",
     "output_type": "stream",
     "text": [
      "100%|██████████| 100/100 [00:00<00:00, 416.67it/s]\n"
     ]
    },
    {
     "name": "stdout",
     "output_type": "stream",
     "text": [
      "Number of random walks is:  8\n"
     ]
    },
    {
     "name": "stderr",
     "output_type": "stream",
     "text": [
      "100%|██████████| 100/100 [00:00<00:00, 263.69it/s]\n"
     ]
    },
    {
     "name": "stdout",
     "output_type": "stream",
     "text": [
      "Number of random walks is:  2\n"
     ]
    },
    {
     "name": "stderr",
     "output_type": "stream",
     "text": [
      "100%|██████████| 100/100 [00:00<00:00, 286.09it/s]\n"
     ]
    },
    {
     "name": "stdout",
     "output_type": "stream",
     "text": [
      "Number of random walks is:  4\n"
     ]
    },
    {
     "name": "stderr",
     "output_type": "stream",
     "text": [
      "100%|██████████| 100/100 [00:00<00:00, 173.97it/s]\n"
     ]
    },
    {
     "name": "stdout",
     "output_type": "stream",
     "text": [
      "Number of random walks is:  8\n"
     ]
    },
    {
     "name": "stderr",
     "output_type": "stream",
     "text": [
      "100%|██████████| 100/100 [00:00<00:00, 112.30it/s]\n"
     ]
    },
    {
     "name": "stdout",
     "output_type": "stream",
     "text": [
      "\n",
      "Doing graph 5 of 8\n",
      "Number of random walks is:  2\n"
     ]
    },
    {
     "name": "stderr",
     "output_type": "stream",
     "text": [
      "100%|██████████| 100/100 [00:00<00:00, 3332.99it/s]\n"
     ]
    },
    {
     "name": "stdout",
     "output_type": "stream",
     "text": [
      "Number of random walks is:  4\n"
     ]
    },
    {
     "name": "stderr",
     "output_type": "stream",
     "text": [
      "100%|██████████| 100/100 [00:00<00:00, 2125.57it/s]\n"
     ]
    },
    {
     "name": "stdout",
     "output_type": "stream",
     "text": [
      "Number of random walks is:  8\n"
     ]
    },
    {
     "name": "stderr",
     "output_type": "stream",
     "text": [
      "100%|██████████| 100/100 [00:00<00:00, 749.55it/s]\n"
     ]
    },
    {
     "name": "stdout",
     "output_type": "stream",
     "text": [
      "Number of random walks is:  2\n"
     ]
    },
    {
     "name": "stderr",
     "output_type": "stream",
     "text": [
      "100%|██████████| 100/100 [00:00<00:00, 1334.57it/s]\n"
     ]
    },
    {
     "name": "stdout",
     "output_type": "stream",
     "text": [
      "Number of random walks is:  4\n"
     ]
    },
    {
     "name": "stderr",
     "output_type": "stream",
     "text": [
      "100%|██████████| 100/100 [00:00<00:00, 650.24it/s]\n"
     ]
    },
    {
     "name": "stdout",
     "output_type": "stream",
     "text": [
      "Number of random walks is:  8\n"
     ]
    },
    {
     "name": "stderr",
     "output_type": "stream",
     "text": [
      "100%|██████████| 100/100 [00:00<00:00, 336.60it/s]\n"
     ]
    },
    {
     "name": "stdout",
     "output_type": "stream",
     "text": [
      "\n",
      "Doing graph 6 of 8\n",
      "Number of random walks is:  2\n"
     ]
    },
    {
     "name": "stderr",
     "output_type": "stream",
     "text": [
      "100%|██████████| 100/100 [00:00<00:00, 2040.31it/s]\n"
     ]
    },
    {
     "name": "stdout",
     "output_type": "stream",
     "text": [
      "Number of random walks is:  4\n"
     ]
    },
    {
     "name": "stderr",
     "output_type": "stream",
     "text": [
      "100%|██████████| 100/100 [00:00<00:00, 1378.04it/s]\n"
     ]
    },
    {
     "name": "stdout",
     "output_type": "stream",
     "text": [
      "Number of random walks is:  8\n"
     ]
    },
    {
     "name": "stderr",
     "output_type": "stream",
     "text": [
      "100%|██████████| 100/100 [00:00<00:00, 531.11it/s]\n"
     ]
    },
    {
     "name": "stdout",
     "output_type": "stream",
     "text": [
      "Number of random walks is:  2\n"
     ]
    },
    {
     "name": "stderr",
     "output_type": "stream",
     "text": [
      "100%|██████████| 100/100 [00:00<00:00, 570.96it/s]\n"
     ]
    },
    {
     "name": "stdout",
     "output_type": "stream",
     "text": [
      "Number of random walks is:  4\n"
     ]
    },
    {
     "name": "stderr",
     "output_type": "stream",
     "text": [
      "100%|██████████| 100/100 [00:00<00:00, 344.39it/s]\n"
     ]
    },
    {
     "name": "stdout",
     "output_type": "stream",
     "text": [
      "Number of random walks is:  8\n"
     ]
    },
    {
     "name": "stderr",
     "output_type": "stream",
     "text": [
      "100%|██████████| 100/100 [00:00<00:00, 185.89it/s]\n"
     ]
    },
    {
     "name": "stdout",
     "output_type": "stream",
     "text": [
      "\n",
      "Doing graph 7 of 8\n",
      "Number of random walks is:  2\n"
     ]
    },
    {
     "name": "stderr",
     "output_type": "stream",
     "text": [
      "100%|██████████| 100/100 [00:00<00:00, 303.22it/s]\n"
     ]
    },
    {
     "name": "stdout",
     "output_type": "stream",
     "text": [
      "Number of random walks is:  4\n"
     ]
    },
    {
     "name": "stderr",
     "output_type": "stream",
     "text": [
      "100%|██████████| 100/100 [00:00<00:00, 193.06it/s]\n"
     ]
    },
    {
     "name": "stdout",
     "output_type": "stream",
     "text": [
      "Number of random walks is:  8\n"
     ]
    },
    {
     "name": "stderr",
     "output_type": "stream",
     "text": [
      "100%|██████████| 100/100 [00:00<00:00, 128.04it/s]\n"
     ]
    },
    {
     "name": "stdout",
     "output_type": "stream",
     "text": [
      "Number of random walks is:  2\n"
     ]
    },
    {
     "name": "stderr",
     "output_type": "stream",
     "text": [
      "100%|██████████| 100/100 [00:00<00:00, 139.83it/s]\n"
     ]
    },
    {
     "name": "stdout",
     "output_type": "stream",
     "text": [
      "Number of random walks is:  4\n"
     ]
    },
    {
     "name": "stderr",
     "output_type": "stream",
     "text": [
      "100%|██████████| 100/100 [00:01<00:00, 90.57it/s]\n"
     ]
    },
    {
     "name": "stdout",
     "output_type": "stream",
     "text": [
      "Number of random walks is:  8\n"
     ]
    },
    {
     "name": "stderr",
     "output_type": "stream",
     "text": [
      "100%|██████████| 100/100 [00:01<00:00, 50.53it/s]\n"
     ]
    },
    {
     "name": "stdout",
     "output_type": "stream",
     "text": [
      "\n",
      "Doing graph 8 of 8\n",
      "Number of random walks is:  2\n"
     ]
    },
    {
     "name": "stderr",
     "output_type": "stream",
     "text": [
      "100%|██████████| 100/100 [00:07<00:00, 13.43it/s]\n"
     ]
    },
    {
     "name": "stdout",
     "output_type": "stream",
     "text": [
      "Number of random walks is:  4\n"
     ]
    },
    {
     "name": "stderr",
     "output_type": "stream",
     "text": [
      "100%|██████████| 100/100 [00:07<00:00, 12.59it/s]\n"
     ]
    },
    {
     "name": "stdout",
     "output_type": "stream",
     "text": [
      "Number of random walks is:  8\n"
     ]
    },
    {
     "name": "stderr",
     "output_type": "stream",
     "text": [
      "100%|██████████| 100/100 [00:09<00:00, 10.93it/s]\n"
     ]
    },
    {
     "name": "stdout",
     "output_type": "stream",
     "text": [
      "Number of random walks is:  2\n"
     ]
    },
    {
     "name": "stderr",
     "output_type": "stream",
     "text": [
      "100%|██████████| 100/100 [00:08<00:00, 11.16it/s]\n"
     ]
    },
    {
     "name": "stdout",
     "output_type": "stream",
     "text": [
      "Number of random walks is:  4\n"
     ]
    },
    {
     "name": "stderr",
     "output_type": "stream",
     "text": [
      "100%|██████████| 100/100 [00:13<00:00,  7.58it/s]\n"
     ]
    },
    {
     "name": "stdout",
     "output_type": "stream",
     "text": [
      "Number of random walks is:  8\n"
     ]
    },
    {
     "name": "stderr",
     "output_type": "stream",
     "text": [
      "100%|██████████| 100/100 [00:43<00:00,  2.32it/s]"
     ]
    },
    {
     "name": "stdout",
     "output_type": "stream",
     "text": [
      "\n"
     ]
    },
    {
     "name": "stderr",
     "output_type": "stream",
     "text": [
      "\n"
     ]
    }
   ],
   "source": [
    "## using matern_kernel function\n",
    "\n",
    "all_graphs_means = [] #holders for the mean approximation error and corresponding standard deviation\n",
    "all_graphs_stds = []\n",
    "\n",
    "\n",
    "for graph_id,A in enumerate(As):\n",
    "    print('Doing graph %s of %s'%(graph_id+1, len(As)))\n",
    "    \n",
    "    nb_vertices = len(A)    #size of the graph\n",
    "    L_tilde = matern_kernel(A)  #see Eq. 24\n",
    "    U = - sigma**2 / (1+sigma**2) * (L_tilde - np.eye(len(A)))  #see Eq. 26\n",
    "    M = np.eye(nb_vertices) + sigma**2 * L_tilde\n",
    "    groundtruth_matrix = np.linalg.inv(M @ M)  #see Eq. 25\n",
    "\n",
    "    adj_lists, weight_lists = adj_matrix_to_lists(U)  #get lists of neighbours and weights for each edge\n",
    "\n",
    "    mean_fro_superlist = []  #to hold all the mean Frob norm errors  \n",
    "    std_fro_superlist = []  #to hold their respctive standard devs\n",
    "\n",
    "    \n",
    "    #iid walkers\n",
    "    mean_fro_list = []\n",
    "    std_fro_list = []\n",
    "    for index in range(len(nb_rnd_walks_list)):\n",
    "      print(\"Number of random walks is: \", nb_rnd_walks_list[index])\n",
    "      nb_random_walks = nb_rnd_walks_list[index]\n",
    "      mean_fro = 0\n",
    "      sum_squares = 0\n",
    "      for _ in tqdm(range(nb_repeats)):\n",
    "        A_matrix, B_matrix = create_lr_fact_of_squared_inv_id_min_w(adj_lists,weight_lists,\n",
    "                                                              p_halt,\n",
    "                                                              nb_random_walks,term_coupling = None)  #create low rank factorisation\n",
    "        approximate_matrix = np.matmul(A_matrix, B_matrix) / ((1 + sigma**2)**2)  #compute product of random features to approximate Gram matrix\n",
    "        current_fro = compute_fro(groundtruth_matrix, approximate_matrix,\n",
    "                                  relative=True)    #compute the relative Frob norm between the true and approximated Gram matrices\n",
    "        mean_fro += current_fro\n",
    "        sum_squares += current_fro * current_fro\n",
    "      mean_fro /= nb_repeats\n",
    "      std_fro = np.sqrt(sum_squares / nb_repeats - mean_fro * mean_fro)\n",
    "      mean_fro_list.append(mean_fro)\n",
    "      std_fro_list.append(std_fro)\n",
    "    mean_fro_superlist.append(mean_fro_list)\n",
    "    std_fro_superlist.append(std_fro_list)\n",
    "\n",
    "    #antithetic termination -- repeat the above with our new QMC scheme\n",
    "    mean_fro_list = []\n",
    "    std_fro_list = []\n",
    "    for index in range(len(nb_rnd_walks_list)):\n",
    "      print(\"Number of random walks is: \", nb_rnd_walks_list[index])\n",
    "      nb_random_walks = nb_rnd_walks_list[index]\n",
    "      mean_fro = 0\n",
    "      sum_squares = 0\n",
    "      for _ in tqdm(range(nb_repeats)):\n",
    "        A_matrix, B_matrix = create_lr_fact_of_squared_inv_id_min_w(adj_lists,weight_lists,\n",
    "                                                              p_halt,\n",
    "                                                              nb_random_walks,term_coupling='antithetic')\n",
    "        approximate_matrix = np.matmul(A_matrix, B_matrix) / ((1 + sigma**2)**2)\n",
    "        current_fro = compute_fro(groundtruth_matrix, approximate_matrix,\n",
    "                                  relative=True)\n",
    "        mean_fro += current_fro\n",
    "        sum_squares += current_fro * current_fro\n",
    "      mean_fro /= nb_repeats\n",
    "      std_fro = np.sqrt(sum_squares / nb_repeats - mean_fro * mean_fro)\n",
    "      mean_fro_list.append(mean_fro)\n",
    "      std_fro_list.append(std_fro)\n",
    "    mean_fro_superlist.append(mean_fro_list)\n",
    "    std_fro_superlist.append(std_fro_list)\n",
    "\n",
    "    all_graphs_means.append(mean_fro_superlist)\n",
    "    all_graphs_stds.append(std_fro_superlist)\n",
    "    print('')"
   ]
  },
  {
   "cell_type": "code",
   "execution_count": 14,
   "metadata": {},
   "outputs": [
    {
     "data": {
      "image/png": "[encoded data removed]",
      "text/plain": [
       "<Figure size 1000x400 with 8 Axes>"
      ]
     },
     "metadata": {},
     "output_type": "display_data"
    }
   ],
   "source": [
    "#Doing all the plots\n",
    "\n",
    "colors = ['red','green']\n",
    "markers=['.','x']\n",
    "labels = ['GRFs (i.i.d.)', 'q-GRFs (anti.)']\n",
    "plt.rcParams.update({'font.size': 7})\n",
    "\n",
    "fig, ((ax1, ax2, ax3, ax4),(ax5, ax6, ax7, ax8)) = plt.subplots(2,4, figsize=(10,4))\n",
    "\n",
    "titles = ['ER ($N=20$, $p=0.2$)' ,'ER ($N=100$, $p=0.04$)', 'Binary tree ($N=127$)', 'Ladder ($N=100$)','Karate ($N=34$)','Dolphins ($N=62$)','Football ($N=115$)','Eurosis ($N=1272$)' ]\n",
    "for graph_id in range(8):\n",
    "    this_graph_means = all_graphs_means[graph_id]\n",
    "    this_graph_stds = all_graphs_stds[graph_id]\n",
    "\n",
    "    plt.subplot(2,4,graph_id+1)\n",
    "    \n",
    "    for ind in range(2):\n",
    "      meanst = np.array(this_graph_means[ind])\n",
    "      sdt = np.asarray(this_graph_stds[ind]) / np.sqrt(nb_repeats)\n",
    "      plt.yscale('log')\n",
    "\n",
    "      \n",
    "      plt.plot(nb_rnd_walks_list, meanst, color = colors[ind], marker = markers[ind], label = labels[ind])\n",
    "      plt.fill_between(nb_rnd_walks_list, meanst-sdt, meanst+sdt, color = colors[ind],alpha=0.1)\n",
    "\n",
    "      if graph_id == 0:\n",
    "         plt.legend()\n",
    "\n",
    "    plt.title(titles[graph_id],pad=2)\n",
    "    plt.grid()\n",
    "    plt.ylabel('Frob. norm error')\n",
    "    plt.xlabel('No. random walks')\n",
    "\n",
    "plt.tight_layout()"
   ]
  },
  {
   "cell_type": "code",
   "execution_count": 9,
   "metadata": {},
   "outputs": [
    {
     "name": "stdout",
     "output_type": "stream",
     "text": [
      "Doing graph 1 of 8\n",
      "Number of random walks is:  2\n"
     ]
    },
    {
     "name": "stderr",
     "output_type": "stream",
     "text": [
      "100%|██████████| 100/100 [00:00<00:00, 4010.08it/s]\n"
     ]
    },
    {
     "name": "stdout",
     "output_type": "stream",
     "text": [
      "Number of random walks is:  4\n"
     ]
    },
    {
     "name": "stderr",
     "output_type": "stream",
     "text": [
      "100%|██████████| 100/100 [00:00<00:00, 3462.48it/s]\n"
     ]
    },
    {
     "name": "stdout",
     "output_type": "stream",
     "text": [
      "Number of random walks is:  8\n"
     ]
    },
    {
     "name": "stderr",
     "output_type": "stream",
     "text": [
      "100%|██████████| 100/100 [00:00<00:00, 1918.57it/s]\n"
     ]
    },
    {
     "name": "stdout",
     "output_type": "stream",
     "text": [
      "Number of random walks is:  2\n"
     ]
    },
    {
     "name": "stderr",
     "output_type": "stream",
     "text": [
      "100%|██████████| 100/100 [00:00<00:00, 1636.80it/s]\n"
     ]
    },
    {
     "name": "stdout",
     "output_type": "stream",
     "text": [
      "Number of random walks is:  4\n"
     ]
    },
    {
     "name": "stderr",
     "output_type": "stream",
     "text": [
      "100%|██████████| 100/100 [00:00<00:00, 987.68it/s]\n"
     ]
    },
    {
     "name": "stdout",
     "output_type": "stream",
     "text": [
      "Number of random walks is:  8\n"
     ]
    },
    {
     "name": "stderr",
     "output_type": "stream",
     "text": [
      "100%|██████████| 100/100 [00:00<00:00, 603.79it/s]\n"
     ]
    },
    {
     "name": "stdout",
     "output_type": "stream",
     "text": [
      "\n",
      "Doing graph 2 of 8\n",
      "Number of random walks is:  2\n"
     ]
    },
    {
     "name": "stderr",
     "output_type": "stream",
     "text": [
      "100%|██████████| 100/100 [00:00<00:00, 688.94it/s]\n"
     ]
    },
    {
     "name": "stdout",
     "output_type": "stream",
     "text": [
      "Number of random walks is:  4\n"
     ]
    },
    {
     "name": "stderr",
     "output_type": "stream",
     "text": [
      "100%|██████████| 100/100 [00:00<00:00, 496.41it/s]\n"
     ]
    },
    {
     "name": "stdout",
     "output_type": "stream",
     "text": [
      "Number of random walks is:  8\n"
     ]
    },
    {
     "name": "stderr",
     "output_type": "stream",
     "text": [
      "100%|██████████| 100/100 [00:00<00:00, 324.74it/s]\n"
     ]
    },
    {
     "name": "stdout",
     "output_type": "stream",
     "text": [
      "Number of random walks is:  2\n"
     ]
    },
    {
     "name": "stderr",
     "output_type": "stream",
     "text": [
      "100%|██████████| 100/100 [00:00<00:00, 307.13it/s]\n"
     ]
    },
    {
     "name": "stdout",
     "output_type": "stream",
     "text": [
      "Number of random walks is:  4\n"
     ]
    },
    {
     "name": "stderr",
     "output_type": "stream",
     "text": [
      "100%|██████████| 100/100 [00:00<00:00, 196.00it/s]\n"
     ]
    },
    {
     "name": "stdout",
     "output_type": "stream",
     "text": [
      "Number of random walks is:  8\n"
     ]
    },
    {
     "name": "stderr",
     "output_type": "stream",
     "text": [
      "100%|██████████| 100/100 [00:00<00:00, 102.92it/s]\n"
     ]
    },
    {
     "name": "stdout",
     "output_type": "stream",
     "text": [
      "\n",
      "Doing graph 3 of 8\n",
      "Number of random walks is:  2\n"
     ]
    },
    {
     "name": "stderr",
     "output_type": "stream",
     "text": [
      "100%|██████████| 100/100 [00:00<00:00, 309.67it/s]\n"
     ]
    },
    {
     "name": "stdout",
     "output_type": "stream",
     "text": [
      "Number of random walks is:  4\n"
     ]
    },
    {
     "name": "stderr",
     "output_type": "stream",
     "text": [
      "100%|██████████| 100/100 [00:00<00:00, 207.99it/s]\n"
     ]
    },
    {
     "name": "stdout",
     "output_type": "stream",
     "text": [
      "Number of random walks is:  8\n"
     ]
    },
    {
     "name": "stderr",
     "output_type": "stream",
     "text": [
      "100%|██████████| 100/100 [00:00<00:00, 181.35it/s]\n"
     ]
    },
    {
     "name": "stdout",
     "output_type": "stream",
     "text": [
      "Number of random walks is:  2\n"
     ]
    },
    {
     "name": "stderr",
     "output_type": "stream",
     "text": [
      "100%|██████████| 100/100 [00:00<00:00, 160.05it/s]\n"
     ]
    },
    {
     "name": "stdout",
     "output_type": "stream",
     "text": [
      "Number of random walks is:  4\n"
     ]
    },
    {
     "name": "stderr",
     "output_type": "stream",
     "text": [
      "100%|██████████| 100/100 [00:00<00:00, 126.40it/s]\n"
     ]
    },
    {
     "name": "stdout",
     "output_type": "stream",
     "text": [
      "Number of random walks is:  8\n"
     ]
    },
    {
     "name": "stderr",
     "output_type": "stream",
     "text": [
      "100%|██████████| 100/100 [00:01<00:00, 70.59it/s]\n"
     ]
    },
    {
     "name": "stdout",
     "output_type": "stream",
     "text": [
      "\n",
      "Doing graph 4 of 8\n",
      "Number of random walks is:  2\n"
     ]
    },
    {
     "name": "stderr",
     "output_type": "stream",
     "text": [
      "100%|██████████| 100/100 [00:00<00:00, 630.78it/s]\n"
     ]
    },
    {
     "name": "stdout",
     "output_type": "stream",
     "text": [
      "Number of random walks is:  4\n"
     ]
    },
    {
     "name": "stderr",
     "output_type": "stream",
     "text": [
      "100%|██████████| 100/100 [00:00<00:00, 456.40it/s]\n"
     ]
    },
    {
     "name": "stdout",
     "output_type": "stream",
     "text": [
      "Number of random walks is:  8\n"
     ]
    },
    {
     "name": "stderr",
     "output_type": "stream",
     "text": [
      "100%|██████████| 100/100 [00:00<00:00, 272.10it/s]\n"
     ]
    },
    {
     "name": "stdout",
     "output_type": "stream",
     "text": [
      "Number of random walks is:  2\n"
     ]
    },
    {
     "name": "stderr",
     "output_type": "stream",
     "text": [
      "100%|██████████| 100/100 [00:00<00:00, 272.64it/s]\n"
     ]
    },
    {
     "name": "stdout",
     "output_type": "stream",
     "text": [
      "Number of random walks is:  4\n"
     ]
    },
    {
     "name": "stderr",
     "output_type": "stream",
     "text": [
      "100%|██████████| 100/100 [00:00<00:00, 168.65it/s]\n"
     ]
    },
    {
     "name": "stdout",
     "output_type": "stream",
     "text": [
      "Number of random walks is:  8\n"
     ]
    },
    {
     "name": "stderr",
     "output_type": "stream",
     "text": [
      "100%|██████████| 100/100 [00:01<00:00, 98.75it/s]\n"
     ]
    },
    {
     "name": "stdout",
     "output_type": "stream",
     "text": [
      "\n",
      "Doing graph 5 of 8\n",
      "Number of random walks is:  2\n"
     ]
    },
    {
     "name": "stderr",
     "output_type": "stream",
     "text": [
      "100%|██████████| 100/100 [00:00<00:00, 3543.38it/s]\n"
     ]
    },
    {
     "name": "stdout",
     "output_type": "stream",
     "text": [
      "Number of random walks is:  4\n"
     ]
    },
    {
     "name": "stderr",
     "output_type": "stream",
     "text": [
      "100%|██████████| 100/100 [00:00<00:00, 1917.84it/s]\n"
     ]
    },
    {
     "name": "stdout",
     "output_type": "stream",
     "text": [
      "Number of random walks is:  8\n"
     ]
    },
    {
     "name": "stderr",
     "output_type": "stream",
     "text": [
      "100%|██████████| 100/100 [00:00<00:00, 997.72it/s]\n"
     ]
    },
    {
     "name": "stdout",
     "output_type": "stream",
     "text": [
      "Number of random walks is:  2\n"
     ]
    },
    {
     "name": "stderr",
     "output_type": "stream",
     "text": [
      "100%|██████████| 100/100 [00:00<00:00, 1113.67it/s]\n"
     ]
    },
    {
     "name": "stdout",
     "output_type": "stream",
     "text": [
      "Number of random walks is:  4\n"
     ]
    },
    {
     "name": "stderr",
     "output_type": "stream",
     "text": [
      "100%|██████████| 100/100 [00:00<00:00, 543.11it/s]\n"
     ]
    },
    {
     "name": "stdout",
     "output_type": "stream",
     "text": [
      "Number of random walks is:  8\n"
     ]
    },
    {
     "name": "stderr",
     "output_type": "stream",
     "text": [
      "100%|██████████| 100/100 [00:00<00:00, 309.65it/s]\n"
     ]
    },
    {
     "name": "stdout",
     "output_type": "stream",
     "text": [
      "\n",
      "Doing graph 6 of 8\n",
      "Number of random walks is:  2\n"
     ]
    },
    {
     "name": "stderr",
     "output_type": "stream",
     "text": [
      "100%|██████████| 100/100 [00:00<00:00, 2147.36it/s]\n"
     ]
    },
    {
     "name": "stdout",
     "output_type": "stream",
     "text": [
      "Number of random walks is:  4\n"
     ]
    },
    {
     "name": "stderr",
     "output_type": "stream",
     "text": [
      "100%|██████████| 100/100 [00:00<00:00, 1166.12it/s]\n"
     ]
    },
    {
     "name": "stdout",
     "output_type": "stream",
     "text": [
      "Number of random walks is:  8\n"
     ]
    },
    {
     "name": "stderr",
     "output_type": "stream",
     "text": [
      "100%|██████████| 100/100 [00:00<00:00, 631.31it/s]\n"
     ]
    },
    {
     "name": "stdout",
     "output_type": "stream",
     "text": [
      "Number of random walks is:  2\n"
     ]
    },
    {
     "name": "stderr",
     "output_type": "stream",
     "text": [
      "100%|██████████| 100/100 [00:00<00:00, 637.79it/s]\n"
     ]
    },
    {
     "name": "stdout",
     "output_type": "stream",
     "text": [
      "Number of random walks is:  4\n"
     ]
    },
    {
     "name": "stderr",
     "output_type": "stream",
     "text": [
      "100%|██████████| 100/100 [00:00<00:00, 332.83it/s]\n"
     ]
    },
    {
     "name": "stdout",
     "output_type": "stream",
     "text": [
      "Number of random walks is:  8\n"
     ]
    },
    {
     "name": "stderr",
     "output_type": "stream",
     "text": [
      "100%|██████████| 100/100 [00:00<00:00, 178.86it/s]\n"
     ]
    },
    {
     "name": "stdout",
     "output_type": "stream",
     "text": [
      "\n",
      "Doing graph 7 of 8\n",
      "Number of random walks is:  2\n"
     ]
    },
    {
     "name": "stderr",
     "output_type": "stream",
     "text": [
      "100%|██████████| 100/100 [00:00<00:00, 410.66it/s]\n"
     ]
    },
    {
     "name": "stdout",
     "output_type": "stream",
     "text": [
      "Number of random walks is:  4\n"
     ]
    },
    {
     "name": "stderr",
     "output_type": "stream",
     "text": [
      "100%|██████████| 100/100 [00:00<00:00, 298.56it/s]\n"
     ]
    },
    {
     "name": "stdout",
     "output_type": "stream",
     "text": [
      "Number of random walks is:  8\n"
     ]
    },
    {
     "name": "stderr",
     "output_type": "stream",
     "text": [
      "100%|██████████| 100/100 [00:00<00:00, 223.44it/s]\n"
     ]
    },
    {
     "name": "stdout",
     "output_type": "stream",
     "text": [
      "Number of random walks is:  2\n"
     ]
    },
    {
     "name": "stderr",
     "output_type": "stream",
     "text": [
      "100%|██████████| 100/100 [00:00<00:00, 185.13it/s]\n"
     ]
    },
    {
     "name": "stdout",
     "output_type": "stream",
     "text": [
      "Number of random walks is:  4\n"
     ]
    },
    {
     "name": "stderr",
     "output_type": "stream",
     "text": [
      "100%|██████████| 100/100 [00:00<00:00, 113.61it/s]\n"
     ]
    },
    {
     "name": "stdout",
     "output_type": "stream",
     "text": [
      "Number of random walks is:  8\n"
     ]
    },
    {
     "name": "stderr",
     "output_type": "stream",
     "text": [
      "100%|██████████| 100/100 [00:01<00:00, 74.66it/s]\n"
     ]
    },
    {
     "name": "stdout",
     "output_type": "stream",
     "text": [
      "\n",
      "Doing graph 8 of 8\n",
      "Number of random walks is:  2\n"
     ]
    },
    {
     "name": "stderr",
     "output_type": "stream",
     "text": [
      "100%|██████████| 100/100 [00:07<00:00, 13.39it/s]\n"
     ]
    },
    {
     "name": "stdout",
     "output_type": "stream",
     "text": [
      "Number of random walks is:  4\n"
     ]
    },
    {
     "name": "stderr",
     "output_type": "stream",
     "text": [
      "100%|██████████| 100/100 [00:07<00:00, 12.73it/s]\n"
     ]
    },
    {
     "name": "stdout",
     "output_type": "stream",
     "text": [
      "Number of random walks is:  8\n"
     ]
    },
    {
     "name": "stderr",
     "output_type": "stream",
     "text": [
      "100%|██████████| 100/100 [00:08<00:00, 11.29it/s]\n"
     ]
    },
    {
     "name": "stdout",
     "output_type": "stream",
     "text": [
      "Number of random walks is:  2\n"
     ]
    },
    {
     "name": "stderr",
     "output_type": "stream",
     "text": [
      "100%|██████████| 100/100 [00:09<00:00, 10.34it/s]\n"
     ]
    },
    {
     "name": "stdout",
     "output_type": "stream",
     "text": [
      "Number of random walks is:  4\n"
     ]
    },
    {
     "name": "stderr",
     "output_type": "stream",
     "text": [
      "100%|██████████| 100/100 [00:12<00:00,  7.96it/s]\n"
     ]
    },
    {
     "name": "stdout",
     "output_type": "stream",
     "text": [
      "Number of random walks is:  8\n"
     ]
    },
    {
     "name": "stderr",
     "output_type": "stream",
     "text": [
      "100%|██████████| 100/100 [00:34<00:00,  2.92it/s]"
     ]
    },
    {
     "name": "stdout",
     "output_type": "stream",
     "text": [
      "\n"
     ]
    },
    {
     "name": "stderr",
     "output_type": "stream",
     "text": [
      "\n"
     ]
    }
   ],
   "source": [
    "## using get_unnormalised_laplacian_matrix function\n",
    "\n",
    "all_graphs_means = [] #holders for the mean approximation error and corresponding standard deviation\n",
    "all_graphs_stds = []\n",
    "\n",
    "\n",
    "for graph_id,A in enumerate(As):\n",
    "    print('Doing graph %s of %s'%(graph_id+1, len(As)))\n",
    "    \n",
    "    nb_vertices = len(A)    #size of the graph\n",
    "    L_tilde = get_unnormalised_laplacian_matrix(A)  #see Eq. 24\n",
    "    U = - sigma**2 / (1+sigma**2) * (L_tilde - np.eye(len(A)))  #see Eq. 26\n",
    "    M = np.eye(nb_vertices) + sigma**2 * L_tilde\n",
    "    groundtruth_matrix = np.linalg.inv(M @ M)  #see Eq. 25\n",
    "\n",
    "    adj_lists, weight_lists = adj_matrix_to_lists(U)  #get lists of neighbours and weights for each edge\n",
    "\n",
    "    mean_fro_superlist = []  #to hold all the mean Frob norm errors  \n",
    "    std_fro_superlist = []  #to hold their respctive standard devs\n",
    "\n",
    "    \n",
    "    #iid walkers\n",
    "    mean_fro_list = []\n",
    "    std_fro_list = []\n",
    "    for index in range(len(nb_rnd_walks_list)):\n",
    "      print(\"Number of random walks is: \", nb_rnd_walks_list[index])\n",
    "      nb_random_walks = nb_rnd_walks_list[index]\n",
    "      mean_fro = 0\n",
    "      sum_squares = 0\n",
    "      for _ in tqdm(range(nb_repeats)):\n",
    "        A_matrix, B_matrix = create_lr_fact_of_squared_inv_id_min_w(adj_lists,weight_lists,\n",
    "                                                              p_halt,\n",
    "                                                              nb_random_walks,term_coupling = None)  #create low rank factorisation\n",
    "        approximate_matrix = np.matmul(A_matrix, B_matrix) / ((1 + sigma**2)**2)  #compute product of random features to approximate Gram matrix\n",
    "        current_fro = compute_fro(groundtruth_matrix, approximate_matrix,\n",
    "                                  relative=True)    #compute the relative Frob norm between the true and approximated Gram matrices\n",
    "        mean_fro += current_fro\n",
    "        sum_squares += current_fro * current_fro\n",
    "      mean_fro /= nb_repeats\n",
    "      std_fro = np.sqrt(sum_squares / nb_repeats - mean_fro * mean_fro)\n",
    "      mean_fro_list.append(mean_fro)\n",
    "      std_fro_list.append(std_fro)\n",
    "    mean_fro_superlist.append(mean_fro_list)\n",
    "    std_fro_superlist.append(std_fro_list)\n",
    "\n",
    "    #antithetic termination -- repeat the above with our new QMC scheme\n",
    "    mean_fro_list = []\n",
    "    std_fro_list = []\n",
    "    for index in range(len(nb_rnd_walks_list)):\n",
    "      print(\"Number of random walks is: \", nb_rnd_walks_list[index])\n",
    "      nb_random_walks = nb_rnd_walks_list[index]\n",
    "      mean_fro = 0\n",
    "      sum_squares = 0\n",
    "      for _ in tqdm(range(nb_repeats)):\n",
    "        A_matrix, B_matrix = create_lr_fact_of_squared_inv_id_min_w(adj_lists,weight_lists,\n",
    "                                                              p_halt,\n",
    "                                                              nb_random_walks,term_coupling='antithetic')\n",
    "        approximate_matrix = np.matmul(A_matrix, B_matrix) / ((1 + sigma**2)**2)\n",
    "        current_fro = compute_fro(groundtruth_matrix, approximate_matrix,\n",
    "                                  relative=True)\n",
    "        mean_fro += current_fro\n",
    "        sum_squares += current_fro * current_fro\n",
    "      mean_fro /= nb_repeats\n",
    "      std_fro = np.sqrt(sum_squares / nb_repeats - mean_fro * mean_fro)\n",
    "      mean_fro_list.append(mean_fro)\n",
    "      std_fro_list.append(std_fro)\n",
    "    mean_fro_superlist.append(mean_fro_list)\n",
    "    std_fro_superlist.append(std_fro_list)\n",
    "\n",
    "    all_graphs_means.append(mean_fro_superlist)\n",
    "    all_graphs_stds.append(std_fro_superlist)\n",
    "    print('')"
   ]
  },
  {
   "cell_type": "code",
   "execution_count": 10,
   "metadata": {},
   "outputs": [
    {
     "data": {
      "image/png": "[encoded data removed]",
      "text/plain": [
       "<Figure size 1000x400 with 8 Axes>"
      ]
     },
     "metadata": {},
     "output_type": "display_data"
    }
   ],
   "source": [
    "#Doing all the plots\n",
    "\n",
    "colors = ['red','green']\n",
    "markers=['.','x']\n",
    "labels = ['GRFs (i.i.d.)', 'q-GRFs (anti.)']\n",
    "plt.rcParams.update({'font.size': 7})\n",
    "\n",
    "fig, ((ax1, ax2, ax3, ax4),(ax5, ax6, ax7, ax8)) = plt.subplots(2,4, figsize=(10,4))\n",
    "\n",
    "titles = ['ER ($N=20$, $p=0.2$)' ,'ER ($N=100$, $p=0.04$)', 'Binary tree ($N=127$)', 'Ladder ($N=100$)','Karate ($N=34$)','Dolphins ($N=62$)','Football ($N=115$)','Eurosis ($N=1272$)' ]\n",
    "for graph_id in range(8):\n",
    "    this_graph_means = all_graphs_means[graph_id]\n",
    "    this_graph_stds = all_graphs_stds[graph_id]\n",
    "\n",
    "    plt.subplot(2,4,graph_id+1)\n",
    "    \n",
    "    for ind in range(2):\n",
    "      meanst = np.array(this_graph_means[ind])\n",
    "      sdt = np.asarray(this_graph_stds[ind]) / np.sqrt(nb_repeats)\n",
    "      plt.yscale('log')\n",
    "\n",
    "      \n",
    "      plt.plot(nb_rnd_walks_list, meanst, color = colors[ind], marker = markers[ind], label = labels[ind])\n",
    "      plt.fill_between(nb_rnd_walks_list, meanst-sdt, meanst+sdt, color = colors[ind],alpha=0.1)\n",
    "\n",
    "      if graph_id == 0:\n",
    "         plt.legend()\n",
    "\n",
    "    plt.title(titles[graph_id],pad=2)\n",
    "    plt.grid()\n",
    "    plt.ylabel('Frob. norm error')\n",
    "    plt.xlabel('No. random walks')\n",
    "\n",
    "plt.tight_layout()"
   ]
  },
  {
   "cell_type": "code",
   "execution_count": 7,
   "metadata": {},
   "outputs": [
    {
     "name": "stdout",
     "output_type": "stream",
     "text": [
      "Doing graph 1 of 8\n",
      "Number of random walks is:  2\n"
     ]
    },
    {
     "name": "stderr",
     "output_type": "stream",
     "text": [
      "100%|██████████| 100/100 [00:00<00:00, 5813.88it/s]\n"
     ]
    },
    {
     "name": "stdout",
     "output_type": "stream",
     "text": [
      "Number of random walks is:  4\n"
     ]
    },
    {
     "name": "stderr",
     "output_type": "stream",
     "text": [
      "100%|██████████| 100/100 [00:00<00:00, 5929.60it/s]\n"
     ]
    },
    {
     "name": "stdout",
     "output_type": "stream",
     "text": [
      "Number of random walks is:  8\n"
     ]
    },
    {
     "name": "stderr",
     "output_type": "stream",
     "text": [
      "100%|██████████| 100/100 [00:00<00:00, 2013.35it/s]\n"
     ]
    },
    {
     "name": "stdout",
     "output_type": "stream",
     "text": [
      "Number of random walks is:  2\n"
     ]
    },
    {
     "name": "stderr",
     "output_type": "stream",
     "text": [
      "100%|██████████| 100/100 [00:00<00:00, 3010.64it/s]\n"
     ]
    },
    {
     "name": "stdout",
     "output_type": "stream",
     "text": [
      "Number of random walks is:  4\n"
     ]
    },
    {
     "name": "stderr",
     "output_type": "stream",
     "text": [
      "100%|██████████| 100/100 [00:00<00:00, 1472.26it/s]\n"
     ]
    },
    {
     "name": "stdout",
     "output_type": "stream",
     "text": [
      "Number of random walks is:  8\n"
     ]
    },
    {
     "name": "stderr",
     "output_type": "stream",
     "text": [
      "100%|██████████| 100/100 [00:00<00:00, 858.89it/s]\n"
     ]
    },
    {
     "name": "stdout",
     "output_type": "stream",
     "text": [
      "\n",
      "Doing graph 2 of 8\n",
      "Number of random walks is:  2\n"
     ]
    },
    {
     "name": "stderr",
     "output_type": "stream",
     "text": [
      "100%|██████████| 100/100 [00:00<00:00, 628.03it/s]\n"
     ]
    },
    {
     "name": "stdout",
     "output_type": "stream",
     "text": [
      "Number of random walks is:  4\n"
     ]
    },
    {
     "name": "stderr",
     "output_type": "stream",
     "text": [
      "100%|██████████| 100/100 [00:00<00:00, 523.81it/s]\n"
     ]
    },
    {
     "name": "stdout",
     "output_type": "stream",
     "text": [
      "Number of random walks is:  8\n"
     ]
    },
    {
     "name": "stderr",
     "output_type": "stream",
     "text": [
      "100%|██████████| 100/100 [00:00<00:00, 377.07it/s]\n"
     ]
    },
    {
     "name": "stdout",
     "output_type": "stream",
     "text": [
      "Number of random walks is:  2\n"
     ]
    },
    {
     "name": "stderr",
     "output_type": "stream",
     "text": [
      "100%|██████████| 100/100 [00:00<00:00, 381.23it/s]\n"
     ]
    },
    {
     "name": "stdout",
     "output_type": "stream",
     "text": [
      "Number of random walks is:  4\n"
     ]
    },
    {
     "name": "stderr",
     "output_type": "stream",
     "text": [
      "100%|██████████| 100/100 [00:00<00:00, 227.83it/s]\n"
     ]
    },
    {
     "name": "stdout",
     "output_type": "stream",
     "text": [
      "Number of random walks is:  8\n"
     ]
    },
    {
     "name": "stderr",
     "output_type": "stream",
     "text": [
      "100%|██████████| 100/100 [00:00<00:00, 133.59it/s]\n"
     ]
    },
    {
     "name": "stdout",
     "output_type": "stream",
     "text": [
      "\n",
      "Doing graph 3 of 8\n",
      "Number of random walks is:  2\n"
     ]
    },
    {
     "name": "stderr",
     "output_type": "stream",
     "text": [
      "100%|██████████| 100/100 [00:00<00:00, 546.94it/s]\n"
     ]
    },
    {
     "name": "stdout",
     "output_type": "stream",
     "text": [
      "Number of random walks is:  4\n"
     ]
    },
    {
     "name": "stderr",
     "output_type": "stream",
     "text": [
      "100%|██████████| 100/100 [00:00<00:00, 344.89it/s]\n"
     ]
    },
    {
     "name": "stdout",
     "output_type": "stream",
     "text": [
      "Number of random walks is:  8\n"
     ]
    },
    {
     "name": "stderr",
     "output_type": "stream",
     "text": [
      "100%|██████████| 100/100 [00:00<00:00, 203.48it/s]\n"
     ]
    },
    {
     "name": "stdout",
     "output_type": "stream",
     "text": [
      "Number of random walks is:  2\n"
     ]
    },
    {
     "name": "stderr",
     "output_type": "stream",
     "text": [
      "100%|██████████| 100/100 [00:00<00:00, 182.98it/s]\n"
     ]
    },
    {
     "name": "stdout",
     "output_type": "stream",
     "text": [
      "Number of random walks is:  4\n"
     ]
    },
    {
     "name": "stderr",
     "output_type": "stream",
     "text": [
      "100%|██████████| 100/100 [00:00<00:00, 127.80it/s]\n"
     ]
    },
    {
     "name": "stdout",
     "output_type": "stream",
     "text": [
      "Number of random walks is:  8\n"
     ]
    },
    {
     "name": "stderr",
     "output_type": "stream",
     "text": [
      "100%|██████████| 100/100 [00:01<00:00, 81.06it/s]\n"
     ]
    },
    {
     "name": "stdout",
     "output_type": "stream",
     "text": [
      "\n",
      "Doing graph 4 of 8\n",
      "Number of random walks is:  2\n"
     ]
    },
    {
     "name": "stderr",
     "output_type": "stream",
     "text": [
      "100%|██████████| 100/100 [00:00<00:00, 774.46it/s]\n"
     ]
    },
    {
     "name": "stdout",
     "output_type": "stream",
     "text": [
      "Number of random walks is:  4\n"
     ]
    },
    {
     "name": "stderr",
     "output_type": "stream",
     "text": [
      "100%|██████████| 100/100 [00:00<00:00, 515.00it/s]\n"
     ]
    },
    {
     "name": "stdout",
     "output_type": "stream",
     "text": [
      "Number of random walks is:  8\n"
     ]
    },
    {
     "name": "stderr",
     "output_type": "stream",
     "text": [
      "100%|██████████| 100/100 [00:00<00:00, 347.19it/s]\n"
     ]
    },
    {
     "name": "stdout",
     "output_type": "stream",
     "text": [
      "Number of random walks is:  2\n"
     ]
    },
    {
     "name": "stderr",
     "output_type": "stream",
     "text": [
      "100%|██████████| 100/100 [00:00<00:00, 351.65it/s]\n"
     ]
    },
    {
     "name": "stdout",
     "output_type": "stream",
     "text": [
      "Number of random walks is:  4\n"
     ]
    },
    {
     "name": "stderr",
     "output_type": "stream",
     "text": [
      "100%|██████████| 100/100 [00:00<00:00, 217.47it/s]\n"
     ]
    },
    {
     "name": "stdout",
     "output_type": "stream",
     "text": [
      "Number of random walks is:  8\n"
     ]
    },
    {
     "name": "stderr",
     "output_type": "stream",
     "text": [
      "100%|██████████| 100/100 [00:00<00:00, 131.47it/s]\n"
     ]
    },
    {
     "name": "stdout",
     "output_type": "stream",
     "text": [
      "\n",
      "Doing graph 5 of 8\n",
      "Number of random walks is:  2\n"
     ]
    },
    {
     "name": "stderr",
     "output_type": "stream",
     "text": [
      "100%|██████████| 100/100 [00:00<00:00, 6385.48it/s]\n"
     ]
    },
    {
     "name": "stdout",
     "output_type": "stream",
     "text": [
      "Number of random walks is:  4\n"
     ]
    },
    {
     "name": "stderr",
     "output_type": "stream",
     "text": [
      "100%|██████████| 100/100 [00:00<00:00, 3035.08it/s]\n"
     ]
    },
    {
     "name": "stdout",
     "output_type": "stream",
     "text": [
      "Number of random walks is:  8\n"
     ]
    },
    {
     "name": "stderr",
     "output_type": "stream",
     "text": [
      "100%|██████████| 100/100 [00:00<00:00, 1553.42it/s]\n"
     ]
    },
    {
     "name": "stdout",
     "output_type": "stream",
     "text": [
      "Number of random walks is:  2\n"
     ]
    },
    {
     "name": "stderr",
     "output_type": "stream",
     "text": [
      "100%|██████████| 100/100 [00:00<00:00, 1290.84it/s]\n"
     ]
    },
    {
     "name": "stdout",
     "output_type": "stream",
     "text": [
      "Number of random walks is:  4\n"
     ]
    },
    {
     "name": "stderr",
     "output_type": "stream",
     "text": [
      "100%|██████████| 100/100 [00:00<00:00, 1141.28it/s]\n"
     ]
    },
    {
     "name": "stdout",
     "output_type": "stream",
     "text": [
      "Number of random walks is:  8\n"
     ]
    },
    {
     "name": "stderr",
     "output_type": "stream",
     "text": [
      "100%|██████████| 100/100 [00:00<00:00, 513.02it/s]\n"
     ]
    },
    {
     "name": "stdout",
     "output_type": "stream",
     "text": [
      "\n",
      "Doing graph 6 of 8\n",
      "Number of random walks is:  2\n"
     ]
    },
    {
     "name": "stderr",
     "output_type": "stream",
     "text": [
      "100%|██████████| 100/100 [00:00<00:00, 2532.30it/s]\n"
     ]
    },
    {
     "name": "stdout",
     "output_type": "stream",
     "text": [
      "Number of random walks is:  4\n"
     ]
    },
    {
     "name": "stderr",
     "output_type": "stream",
     "text": [
      "100%|██████████| 100/100 [00:00<00:00, 2021.14it/s]\n"
     ]
    },
    {
     "name": "stdout",
     "output_type": "stream",
     "text": [
      "Number of random walks is:  8\n"
     ]
    },
    {
     "name": "stderr",
     "output_type": "stream",
     "text": [
      "100%|██████████| 100/100 [00:00<00:00, 991.98it/s]\n"
     ]
    },
    {
     "name": "stdout",
     "output_type": "stream",
     "text": [
      "Number of random walks is:  2\n"
     ]
    },
    {
     "name": "stderr",
     "output_type": "stream",
     "text": [
      "100%|██████████| 100/100 [00:00<00:00, 995.16it/s]\n"
     ]
    },
    {
     "name": "stdout",
     "output_type": "stream",
     "text": [
      "Number of random walks is:  4\n"
     ]
    },
    {
     "name": "stderr",
     "output_type": "stream",
     "text": [
      "100%|██████████| 100/100 [00:00<00:00, 575.92it/s]\n"
     ]
    },
    {
     "name": "stdout",
     "output_type": "stream",
     "text": [
      "Number of random walks is:  8\n"
     ]
    },
    {
     "name": "stderr",
     "output_type": "stream",
     "text": [
      "100%|██████████| 100/100 [00:00<00:00, 313.71it/s]\n"
     ]
    },
    {
     "name": "stdout",
     "output_type": "stream",
     "text": [
      "\n",
      "Doing graph 7 of 8\n",
      "Number of random walks is:  2\n"
     ]
    },
    {
     "name": "stderr",
     "output_type": "stream",
     "text": [
      "100%|██████████| 100/100 [00:00<00:00, 284.56it/s]\n"
     ]
    },
    {
     "name": "stdout",
     "output_type": "stream",
     "text": [
      "Number of random walks is:  4\n"
     ]
    },
    {
     "name": "stderr",
     "output_type": "stream",
     "text": [
      "100%|██████████| 100/100 [00:00<00:00, 123.82it/s]\n"
     ]
    },
    {
     "name": "stdout",
     "output_type": "stream",
     "text": [
      "Number of random walks is:  8\n"
     ]
    },
    {
     "name": "stderr",
     "output_type": "stream",
     "text": [
      "100%|██████████| 100/100 [00:01<00:00, 92.33it/s]\n"
     ]
    },
    {
     "name": "stdout",
     "output_type": "stream",
     "text": [
      "Number of random walks is:  2\n"
     ]
    },
    {
     "name": "stderr",
     "output_type": "stream",
     "text": [
      "100%|██████████| 100/100 [00:01<00:00, 89.38it/s]\n"
     ]
    },
    {
     "name": "stdout",
     "output_type": "stream",
     "text": [
      "Number of random walks is:  4\n"
     ]
    },
    {
     "name": "stderr",
     "output_type": "stream",
     "text": [
      "100%|██████████| 100/100 [00:02<00:00, 49.82it/s]\n"
     ]
    },
    {
     "name": "stdout",
     "output_type": "stream",
     "text": [
      "Number of random walks is:  8\n"
     ]
    },
    {
     "name": "stderr",
     "output_type": "stream",
     "text": [
      "100%|██████████| 100/100 [00:02<00:00, 33.46it/s]\n"
     ]
    },
    {
     "name": "stdout",
     "output_type": "stream",
     "text": [
      "\n",
      "Doing graph 8 of 8\n",
      "Number of random walks is:  2\n"
     ]
    },
    {
     "name": "stderr",
     "output_type": "stream",
     "text": [
      "100%|██████████| 100/100 [00:13<00:00,  7.35it/s]\n"
     ]
    },
    {
     "name": "stdout",
     "output_type": "stream",
     "text": [
      "Number of random walks is:  4\n"
     ]
    },
    {
     "name": "stderr",
     "output_type": "stream",
     "text": [
      "100%|██████████| 100/100 [00:15<00:00,  6.63it/s]\n"
     ]
    },
    {
     "name": "stdout",
     "output_type": "stream",
     "text": [
      "Number of random walks is:  8\n"
     ]
    },
    {
     "name": "stderr",
     "output_type": "stream",
     "text": [
      "100%|██████████| 100/100 [00:17<00:00,  5.84it/s]\n"
     ]
    },
    {
     "name": "stdout",
     "output_type": "stream",
     "text": [
      "Number of random walks is:  2\n"
     ]
    },
    {
     "name": "stderr",
     "output_type": "stream",
     "text": [
      "100%|██████████| 100/100 [00:17<00:00,  5.72it/s]\n"
     ]
    },
    {
     "name": "stdout",
     "output_type": "stream",
     "text": [
      "Number of random walks is:  4\n"
     ]
    },
    {
     "name": "stderr",
     "output_type": "stream",
     "text": [
      "100%|██████████| 100/100 [00:21<00:00,  4.62it/s]\n"
     ]
    },
    {
     "name": "stdout",
     "output_type": "stream",
     "text": [
      "Number of random walks is:  8\n"
     ]
    },
    {
     "name": "stderr",
     "output_type": "stream",
     "text": [
      "100%|██████████| 100/100 [00:31<00:00,  3.14it/s]"
     ]
    },
    {
     "name": "stdout",
     "output_type": "stream",
     "text": [
      "\n"
     ]
    },
    {
     "name": "stderr",
     "output_type": "stream",
     "text": [
      "\n"
     ]
    }
   ],
   "source": [
    "## using get_laplacian_matrix function\n",
    "\n",
    "all_graphs_means = [] #holders for the mean approximation error and corresponding standard deviation\n",
    "all_graphs_stds = []\n",
    "\n",
    "\n",
    "for graph_id,A in enumerate(As):\n",
    "    print('Doing graph %s of %s'%(graph_id+1, len(As)))\n",
    "    \n",
    "    nb_vertices = len(A)    #size of the graph\n",
    "    L_tilde = get_laplacian_matrix(A)  #see Eq. 24\n",
    "    U = - sigma**2 / (1+sigma**2) * (L_tilde - np.eye(len(A)))  #see Eq. 26\n",
    "    M = np.eye(nb_vertices) + sigma**2 * L_tilde\n",
    "    groundtruth_matrix = np.linalg.inv(M @ M)  #see Eq. 25\n",
    "\n",
    "    adj_lists, weight_lists = adj_matrix_to_lists(U)  #get lists of neighbours and weights for each edge\n",
    "\n",
    "    mean_fro_superlist = []  #to hold all the mean Frob norm errors  \n",
    "    std_fro_superlist = []  #to hold their respctive standard devs\n",
    "\n",
    "    \n",
    "    #iid walkers\n",
    "    mean_fro_list = []\n",
    "    std_fro_list = []\n",
    "    for index in range(len(nb_rnd_walks_list)):\n",
    "      print(\"Number of random walks is: \", nb_rnd_walks_list[index])\n",
    "      nb_random_walks = nb_rnd_walks_list[index]\n",
    "      mean_fro = 0\n",
    "      sum_squares = 0\n",
    "      for _ in tqdm(range(nb_repeats)):\n",
    "        A_matrix, B_matrix = create_lr_fact_of_squared_inv_id_min_w(adj_lists,weight_lists,\n",
    "                                                              p_halt,\n",
    "                                                              nb_random_walks,term_coupling = None)  #create low rank factorisation\n",
    "        approximate_matrix = np.matmul(A_matrix, B_matrix) / ((1 + sigma**2)**2)  #compute product of random features to approximate Gram matrix\n",
    "        current_fro = compute_fro(groundtruth_matrix, approximate_matrix,\n",
    "                                  relative=True)    #compute the relative Frob norm between the true and approximated Gram matrices\n",
    "        mean_fro += current_fro\n",
    "        sum_squares += current_fro * current_fro\n",
    "      mean_fro /= nb_repeats\n",
    "      std_fro = np.sqrt(sum_squares / nb_repeats - mean_fro * mean_fro)\n",
    "      mean_fro_list.append(mean_fro)\n",
    "      std_fro_list.append(std_fro)\n",
    "    mean_fro_superlist.append(mean_fro_list)\n",
    "    std_fro_superlist.append(std_fro_list)\n",
    "\n",
    "    #antithetic termination -- repeat the above with our new QMC scheme\n",
    "    mean_fro_list = []\n",
    "    std_fro_list = []\n",
    "    for index in range(len(nb_rnd_walks_list)):\n",
    "      print(\"Number of random walks is: \", nb_rnd_walks_list[index])\n",
    "      nb_random_walks = nb_rnd_walks_list[index]\n",
    "      mean_fro = 0\n",
    "      sum_squares = 0\n",
    "      for _ in tqdm(range(nb_repeats)):\n",
    "        A_matrix, B_matrix = create_lr_fact_of_squared_inv_id_min_w(adj_lists,weight_lists,\n",
    "                                                              p_halt,\n",
    "                                                              nb_random_walks,term_coupling='antithetic')\n",
    "        approximate_matrix = np.matmul(A_matrix, B_matrix) / ((1 + sigma**2)**2)\n",
    "        current_fro = compute_fro(groundtruth_matrix, approximate_matrix,\n",
    "                                  relative=True)\n",
    "        mean_fro += current_fro\n",
    "        sum_squares += current_fro * current_fro\n",
    "      mean_fro /= nb_repeats\n",
    "      std_fro = np.sqrt(sum_squares / nb_repeats - mean_fro * mean_fro)\n",
    "      mean_fro_list.append(mean_fro)\n",
    "      std_fro_list.append(std_fro)\n",
    "    mean_fro_superlist.append(mean_fro_list)\n",
    "    std_fro_superlist.append(std_fro_list)\n",
    "\n",
    "    all_graphs_means.append(mean_fro_superlist)\n",
    "    all_graphs_stds.append(std_fro_superlist)\n",
    "    print('')\n",
    "\n"
   ]
  },
  {
   "cell_type": "code",
   "execution_count": 8,
   "metadata": {},
   "outputs": [
    {
     "data": {
      "image/png": "[encoded data removed]",
      "text/plain": [
       "<Figure size 1000x400 with 8 Axes>"
      ]
     },
     "metadata": {},
     "output_type": "display_data"
    }
   ],
   "source": [
    "#Doing all the plots\n",
    "\n",
    "colors = ['red','green']\n",
    "markers=['.','x']\n",
    "labels = ['GRFs (i.i.d.)', 'q-GRFs (anti.)']\n",
    "plt.rcParams.update({'font.size': 7})\n",
    "\n",
    "fig, ((ax1, ax2, ax3, ax4),(ax5, ax6, ax7, ax8)) = plt.subplots(2,4, figsize=(10,4))\n",
    "\n",
    "titles = ['ER ($N=20$, $p=0.2$)' ,'ER ($N=100$, $p=0.04$)', 'Binary tree ($N=127$)', 'Ladder ($N=100$)','Karate ($N=34$)','Dolphins ($N=62$)','Football ($N=115$)','Eurosis ($N=1272$)' ]\n",
    "for graph_id in range(8):\n",
    "    this_graph_means = all_graphs_means[graph_id]\n",
    "    this_graph_stds = all_graphs_stds[graph_id]\n",
    "\n",
    "    plt.subplot(2,4,graph_id+1)\n",
    "    \n",
    "    for ind in range(2):\n",
    "      meanst = np.array(this_graph_means[ind])\n",
    "      sdt = np.asarray(this_graph_stds[ind]) / np.sqrt(nb_repeats)\n",
    "      plt.yscale('log')\n",
    "\n",
    "      \n",
    "      plt.plot(nb_rnd_walks_list, meanst, color = colors[ind], marker = markers[ind], label = labels[ind])\n",
    "      plt.fill_between(nb_rnd_walks_list, meanst-sdt, meanst+sdt, color = colors[ind],alpha=0.1)\n",
    "\n",
    "      if graph_id == 0:\n",
    "         plt.legend()\n",
    "\n",
    "    plt.title(titles[graph_id],pad=2)\n",
    "    plt.grid()\n",
    "    plt.ylabel('Frob. norm error')\n",
    "    plt.xlabel('No. random walks')\n",
    "\n",
    "plt.tight_layout()"
   ]
  }
 ],
 "metadata": {
  "kernelspec": {
   "display_name": "env1",
   "language": "python",
   "name": "python3"
  },
  "language_info": {
   "codemirror_mode": {
    "name": "ipython",
    "version": 3
   },
   "file_extension": ".py",
   "mimetype": "text/x-python",
   "name": "python",
   "nbconvert_exporter": "python",
   "pygments_lexer": "ipython3",
   "version": "3.9.13"
  }
 },
 "nbformat": 4,
 "nbformat_minor": 2
}
