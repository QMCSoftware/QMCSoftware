{
 "cells": [
  {
   "cell_type": "code",
   "execution_count": 1,
   "id": "55152548-9a96-4e72-a91e-fa3fc13130a0",
   "metadata": {},
   "outputs": [],
   "source": [
    "import qmcpy as qp\n",
    "import numpy as np\n",
    "import scipy.stats\n",
    "from tabulate import tabulate\n",
    "#import pandas as pd\n",
    "import time"
   ]
  },
  {
   "cell_type": "markdown",
   "id": "e3706ef7-fca3-47aa-8121-2de67e95b606",
   "metadata": {},
   "source": [
    "Example 1"
   ]
  },
  {
   "cell_type": "code",
   "execution_count": 7,
   "id": "7dc1859b-bdf2-4872-a57e-0d632fdc28a7",
   "metadata": {},
   "outputs": [
    {
     "name": "stdout",
     "output_type": "stream",
     "text": [
      "QMCPy's discrepancy squared\n",
      "+----+----------+----------+\n",
      "|    | P_1      | P_2      |\n",
      "+----+----------+----------+\n",
      "| CD | 0.032779 | 0.032586 |\n",
      "+----+----------+----------+\n",
      "| WD | 0.100852 | 0.101738 |\n",
      "+----+----------+----------+\n",
      " \n",
      "Scipy's discrepancy\n",
      "+----+----------+----------+\n",
      "|    | P_1      | P_2      |\n",
      "+----+----------+----------+\n",
      "| CD | 0.032779 | 0.032586 |\n",
      "+----+----------+----------+\n",
      "| WD | 0.100852 | 0.101738 |\n",
      "+----+----------+----------+\n"
     ]
    }
   ],
   "source": [
    "P_1 = np.array([[1, 1, 1, 1, 1, 1, 1, 1, 2, 2, 2, 2, 2, 2, 2, 2, 3, 3, 3, 3, 3, 3, 3, 3],\n",
    "               [1, 1, 2, 2, 2, 3, 3, 3, 1, 1, 1, 2, 2, 2, 3, 3, 1, 1, 1, 2, 2, 3, 3, 3],\n",
    "               [1, 3, 1, 2, 3, 1, 2, 3, 1, 2, 3, 1, 2, 3, 1, 2, 1, 2, 3, 2, 3, 1, 2, 3]]).T / 3 -(1/6)\n",
    "\n",
    "                \n",
    "P_2 = np.array([[1, 1, 1, 1, 1, 1, 1, 1, 2, 2, 2, 2 ,2, 2, 2, 2, 3, 3, 3, 3, 3, 3, 3, 3],\n",
    "               [1, 1, 1, 2, 2, 3, 3, 3, 1, 1, 2, 2, 2, 2, 3, 3, 1, 1, 1, 2, 2, 3, 3, 3],\n",
    "               [1, 2, 3, 1, 3, 1, 2, 3, 1, 3, 2, 2, 2, 2, 1, 3, 1, 2, 3, 1, 3, 1, 2, 3]]).T / 3 - (1/6)\n",
    "\n",
    "Discrepancies = ['CD', 'WD']\n",
    "P = [P_1, P_2]\n",
    "\n",
    "mydata = [[' ', 'P_1', 'P_2']]\n",
    "\n",
    "QMC = mydata\n",
    "Sci = mydata\n",
    "\n",
    "for i in range(2):\n",
    "    QMCPy = [Discrepancies[i]]\n",
    "    Scipy = [Discrepancies[i]]\n",
    "    for j in range(2):\n",
    "        QMCPy = QMCPy + [round(qp.discrepancy(Discrepancies[i], P[j])**2,6)]\n",
    "        Scipy = Scipy + [round(scipy.stats.qmc.discrepancy(P[j], method = Discrepancies[i]),6)]\n",
    "    QMC = QMC + [QMCPy]\n",
    "    Sci = Sci + [Scipy]\n",
    "print(\"QMCPy's calculated discrepancy squared\")\n",
    "print(tabulate(QMC, tablefmt=\"grid\"))\n",
    "print(' ')\n",
    "print(\"Scipy's calculated discrepancy\")\n",
    "print(tabulate(Sci, tablefmt=\"grid\"))"
   ]
  },
  {
   "cell_type": "code",
   "execution_count": 10,
   "id": "4503b2cd-ae36-49f8-96c7-2d86a439acff",
   "metadata": {},
   "outputs": [
    {
     "name": "stdout",
     "output_type": "stream",
     "text": [
      "QMCPy's calculated discrepancy\n",
      "+-----+----------+----------+----------+----------+\n",
      "| No. | P_1^*    | P_2^*    | P_3^*    | P_4^*    |\n",
      "+-----+----------+----------+----------+----------+\n",
      "| WD  | 0.111417 | 0.111722 | 0.111417 | 0.111722 |\n",
      "+-----+----------+----------+----------+----------+\n",
      "| CD  | 0.088582 | 0.076314 | 0.078619 | 0.076314 |\n",
      "+-----+----------+----------+----------+----------+\n",
      "| MD  | 0.107926 | 0.104505 | 0.105979 | 0.104505 |\n",
      "+-----+----------+----------+----------+----------+\n",
      " \n",
      "Scipy's calculated square rooted discrepancy\n",
      "+-----+----------+----------+----------+----------+\n",
      "| No. | P_1^*    | P_2^*    | P_3^*    | P_4^*    |\n",
      "+-----+----------+----------+----------+----------+\n",
      "| WD  | 0.111417 | 0.111722 | 0.111417 | 0.111722 |\n",
      "+-----+----------+----------+----------+----------+\n",
      "| CD  | 0.088582 | 0.076314 | 0.078619 | 0.076314 |\n",
      "+-----+----------+----------+----------+----------+\n",
      "| MD  | 0.107926 | 0.104505 | 0.105979 | 0.104505 |\n",
      "+-----+----------+----------+----------+----------+\n",
      " \n",
      "Scipy's calculated discrepancy\n",
      "+-----+----------+----------+----------+----------+\n",
      "| No. | P_1^*    | P_2^*    | P_3^*    | P_4^*    |\n",
      "+-----+----------+----------+----------+----------+\n",
      "| WD  | 0.012414 | 0.012482 | 0.012414 | 0.012482 |\n",
      "+-----+----------+----------+----------+----------+\n",
      "| CD  | 0.007847 | 0.005824 | 0.006181 | 0.005824 |\n",
      "+-----+----------+----------+----------+----------+\n",
      "| MD  | 0.011648 | 0.010921 | 0.011232 | 0.010921 |\n",
      "+-----+----------+----------+----------+----------+\n"
     ]
    }
   ],
   "source": [
    "P1_star = np.array([[1/7, 4/7], [2/7, 1/7], [3/7, 5/7], [4/7, 2/7], [5/7, 6/7], [6/7, 3/7], [1, 1]]) - (1/14)\n",
    "P2_star = np.array([[1/7, 5/7], [2/7, 2/7], [3/7, 1], [4/7, 4/7], [5/7, 1/7], [6/7, 6/7], [1, 3/7]]) - (1/14)\n",
    "P3_star = np.array([[1/7, 6/7], [2/7, 1/7], [3/7, 3/7], [4/7, 5/7], [5/7, 1], [6/7, 2/7], [1, 4/7]]) - (1/14)\n",
    "P4_star = np.array([[1/7, 3/7], [2/7, 6/7], [3/7, 1/7], [4/7, 4/7], [5/7, 1], [6/7, 2/7], [1, 5/7]]) - (1/14)\n",
    "Discrepancies = ['WD', 'CD', 'MD']\n",
    "P = [P1_star, P2_star, P3_star, P4_star]\n",
    "\n",
    "mydata = [['No.', 'P_1^*', 'P_2^*', 'P_3^*', 'P_4^*']]\n",
    "\n",
    "QMC = mydata\n",
    "Sci = mydata\n",
    "Sci_sqrt = mydata\n",
    "\n",
    "for i in range(3):\n",
    "    QMCPy = [Discrepancies[i]]\n",
    "    Scipy = [Discrepancies[i]]\n",
    "    Scipy_sqrt = [Discrepancies[i]]\n",
    "    for j in range(4):\n",
    "        QMCPy = QMCPy + [round(qp.discrepancy(Discrepancies[i], P[j]),6)]\n",
    "        Scipy = Scipy + [round(scipy.stats.qmc.discrepancy(P[j], method = Discrepancies[i]),6)]\n",
    "        Scipy_sqrt = Scipy_sqrt + [round(np.sqrt(scipy.stats.qmc.discrepancy(P[j], method = Discrepancies[i])),6)]\n",
    "    QMC = QMC + [QMCPy]\n",
    "    Sci = Sci + [Scipy]\n",
    "    Sci_sqrt = Sci_sqrt + [Scipy_sqrt]\n",
    "print(\"QMCPy's calculated discrepancy\")\n",
    "print(tabulate(QMC, tablefmt=\"grid\"))\n",
    "print(' ')\n",
    "print(\"Scipy's calculated square rooted discrepancy\")\n",
    "print(tabulate(Sci_sqrt, tablefmt=\"grid\"))\n",
    "print(' ')\n",
    "print(\"Scipy's calculated discrepancy\")\n",
    "print(tabulate(Sci, tablefmt=\"grid\"))"
   ]
  },
  {
   "cell_type": "code",
   "execution_count": null,
   "id": "1835d0bf-39f1-41c5-b183-5ed9542ca409",
   "metadata": {},
   "outputs": [],
   "source": []
  }
 ],
 "metadata": {
  "kernelspec": {
   "display_name": "Python 3 (ipykernel)",
   "language": "python",
   "name": "python3"
  },
  "language_info": {
   "codemirror_mode": {
    "name": "ipython",
    "version": 3
   },
   "file_extension": ".py",
   "mimetype": "text/x-python",
   "name": "python",
   "nbconvert_exporter": "python",
   "pygments_lexer": "ipython3",
   "version": "3.9.13"
  }
 },
 "nbformat": 4,
 "nbformat_minor": 5
}
