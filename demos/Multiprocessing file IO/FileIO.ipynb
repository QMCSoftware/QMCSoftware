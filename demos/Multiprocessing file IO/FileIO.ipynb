{
 "cells": [
  {
   "cell_type": "markdown",
   "metadata": {},
   "source": [
    "**File Management Functions for Appending, Viewing, Clearing, and Removing Last Object**\n",
    "\n",
    "Description: This code snippet provides a set of functions for managing files in Python. The `add_to_file` function appends data to the end of a specified file, `view_file` loads and returns all objects stored in the file, `clear_file` empties the content of the file, and `remove_last_object` removes the last object appended to the file while preserving the rest. These functions are useful for handling data persistence and file management within a Jupyter notebook or any Python environment."
   ]
  },
  {
   "cell_type": "code",
   "execution_count": 6,
   "metadata": {},
   "outputs": [],
   "source": [
    "\n",
    "import pickle\n",
    "import pandas as pd\n",
    "file_name = \"points.pkl\"\n",
    "#Appends the last result to the end of the file. \n",
    "def add_to_file(data, file_path):\n",
    "    with open(file_path, 'ab') as file:\n",
    "        pickle.dump(data, file)\n",
    "\n",
    "def view_file(file_path):\n",
    "    loaded_objects = []\n",
    "    with open(file_path, 'rb') as file:\n",
    "        while True:\n",
    "            try:\n",
    "                # Load and append the deserialized object to the list\n",
    "                obj = pickle.load(file)\n",
    "                loaded_objects.append(obj)\n",
    "            except EOFError:\n",
    "                # Reached the end of the file (EOFError is raised when no more data is available)\n",
    "                break\n",
    "    return loaded_objects\n",
    "    \n",
    "def clear_file(file_path):\n",
    "    with open(file_path, 'wb') as file:\n",
    "        file.truncate(0)\n",
    "\n",
    "def remove_last_object(file_name):\n",
    "    objects = view_file(file_name)\n",
    "    objects.pop()\n",
    "    clear_file(file_name)\n",
    "    for i in objects:\n",
    "        add_to_file(i,file_name)\n",
    "\n"
   ]
  },
  {
   "cell_type": "markdown",
   "metadata": {},
   "source": [
    "This code below is not meant to be ran because nothing more should be added to the file. So that is why it is commented out, it is to illustrate that within the file manipulation that you need to organize the data."
   ]
  },
  {
   "cell_type": "code",
   "execution_count": 7,
   "metadata": {},
   "outputs": [],
   "source": [
    "%%capture\n",
    "\"\"\"\n",
    "dimension_speed_up = dimension_frame[[\"mps speed-up\", \"linear speed-up\", \"natural speed-up\"]]\n",
    "\n",
    "point_speed_up = points_frame[[\"mps speed-up\", \"linear speed-up\", \"natural speed-up\"]]\n",
    "\n",
    "x = [cores, dimension_speed_up, point_speed_up]\n",
    "\n",
    "add_to_file(x,file_name)\n",
    "\"\"\""
   ]
  },
  {
   "cell_type": "markdown",
   "metadata": {},
   "source": [
    "This puts the contents of the file into a variable named file_data"
   ]
  },
  {
   "cell_type": "code",
   "execution_count": 8,
   "metadata": {},
   "outputs": [],
   "source": [
    "\n",
    "file_data = view_file(file_name)"
   ]
  },
  {
   "cell_type": "markdown",
   "metadata": {},
   "source": [
    "This code processes `file_data` to calculate the percentage contribution of each core's speed-up values to the total sum. It uses list comprehension to extract data, computes the total sum, and calculates the percentage for each core, replacing `None` with \"Automatic\" for core names. This analyzes core contributions based on speed-up data."
   ]
  },
  {
   "cell_type": "code",
   "execution_count": 9,
   "metadata": {},
   "outputs": [],
   "source": [
    "\n",
    "\n",
    "vals = []\n",
    "for i in file_data: \n",
    "    speed_up_frame = i[1]\n",
    "    core_number = i[0]\n",
    "    x = sum(speed_up_frame[\"mps speed-up\"].tolist()) + sum(speed_up_frame[\"natural speed-up\"].tolist()) + sum(speed_up_frame[\"linear speed-up\"].tolist()) \n",
    "    vals.append((core_number, x))\n",
    "\n",
    "\n",
    "\n",
    "sum_left_element = lambda lst: sum(item[1] for item in lst if item[0] is not None)\n",
    "total = sum_left_element(vals)\n",
    "\n",
    "average_val = []\n",
    "for c,time in vals:\n",
    "    percentage = round(time/total, 3)\n",
    "    if c is None:\n",
    "        c = \"Automatic\"\n",
    "    average_val.append((c, percentage))\n",
    "\n",
    "\n",
    "\n"
   ]
  }
 ],
 "metadata": {
  "kernelspec": {
   "display_name": "QMCSoftware",
   "language": "python",
   "name": "python3"
  },
  "language_info": {
   "codemirror_mode": {
    "name": "ipython",
    "version": 3
   },
   "file_extension": ".py",
   "mimetype": "text/x-python",
   "name": "python",
   "nbconvert_exporter": "python",
   "pygments_lexer": "ipython3",
   "version": "3.9.13"
  }
 },
 "nbformat": 4,
 "nbformat_minor": 2
}
