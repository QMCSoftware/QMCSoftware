{
 "cells": [
  {
   "cell_type": "markdown",
   "metadata": {
    "colab_type": "text",
    "id": "EbOXiuCQVs46"
   },
   "source": [
    "# Brownian Bridge Demo"
   ]
  },
  {
   "cell_type": "code",
   "execution_count": 1,
   "metadata": {},
   "outputs": [],
   "source": [
    "import numpy as np\n",
    "import qmcpy as qp"
   ]
  },
  {
   "cell_type": "code",
   "execution_count": 2,
   "metadata": {},
   "outputs": [
    {
     "ename": "AttributeError",
     "evalue": "type object 'super' has no attribute '_transform'",
     "output_type": "error",
     "traceback": [
      "\u001b[0;31m---------------------------------------------------------------------------\u001b[0m",
      "\u001b[0;31mAttributeError\u001b[0m                            Traceback (most recent call last)",
      "Cell \u001b[0;32mIn[2], line 1\u001b[0m\n\u001b[0;32m----> 1\u001b[0m x \u001b[38;5;241m=\u001b[39m \u001b[43mqp\u001b[49m\u001b[38;5;241;43m.\u001b[39;49m\u001b[43mBrownianMotion\u001b[49m\u001b[43m(\u001b[49m\u001b[43mqp\u001b[49m\u001b[38;5;241;43m.\u001b[39;49m\u001b[43mDigitalNetB2\u001b[49m\u001b[43m(\u001b[49m\u001b[38;5;241;43m3\u001b[39;49m\u001b[43m)\u001b[49m\u001b[43m)\u001b[49m\u001b[38;5;241;43m.\u001b[39;49m\u001b[43mgen_samples\u001b[49m\u001b[43m(\u001b[49m\u001b[38;5;241;43m4\u001b[39;49m\u001b[43m)\u001b[49m\n\u001b[1;32m      2\u001b[0m \u001b[38;5;28mprint\u001b[39m(x)\n",
      "File \u001b[0;32m~/SoftwareRepositories/QMCSoftware/qmcpy/true_measure/abstract_true_measure.py:66\u001b[0m, in \u001b[0;36mAbstractTrueMeasure.gen_samples\u001b[0;34m(self, n, n_min, n_max, return_weights, warn)\u001b[0m\n\u001b[1;32m     64\u001b[0m x \u001b[38;5;241m=\u001b[39m \u001b[38;5;28mself\u001b[39m\u001b[38;5;241m.\u001b[39mdiscrete_distrib(n\u001b[38;5;241m=\u001b[39mn,n_min\u001b[38;5;241m=\u001b[39mn_min,n_max\u001b[38;5;241m=\u001b[39mn_max,warn\u001b[38;5;241m=\u001b[39mwarn)\n\u001b[1;32m     65\u001b[0m \u001b[38;5;28;01massert\u001b[39;00m \u001b[38;5;28misinstance\u001b[39m(return_weights,\u001b[38;5;28mbool\u001b[39m)\n\u001b[0;32m---> 66\u001b[0m \u001b[38;5;28;01mreturn\u001b[39;00m \u001b[38;5;28;43mself\u001b[39;49m\u001b[38;5;241;43m.\u001b[39;49m\u001b[43m_jacobian_transform_r\u001b[49m\u001b[43m(\u001b[49m\u001b[43mx\u001b[49m\u001b[38;5;241;43m=\u001b[39;49m\u001b[43mx\u001b[49m\u001b[43m,\u001b[49m\u001b[43mreturn_weights\u001b[49m\u001b[38;5;241;43m=\u001b[39;49m\u001b[43mreturn_weights\u001b[49m\u001b[43m)\u001b[49m\n",
      "File \u001b[0;32m~/SoftwareRepositories/QMCSoftware/qmcpy/true_measure/abstract_true_measure.py:77\u001b[0m, in \u001b[0;36mAbstractTrueMeasure._jacobian_transform_r\u001b[0;34m(self, x, return_weights)\u001b[0m\n\u001b[1;32m     75\u001b[0m         jac \u001b[38;5;241m=\u001b[39m \u001b[38;5;241m1\u001b[39m\u001b[38;5;241m/\u001b[39m\u001b[38;5;28mself\u001b[39m\u001b[38;5;241m.\u001b[39m_weight(t)\n\u001b[1;32m     76\u001b[0m     \u001b[38;5;28;01melse\u001b[39;00m:\n\u001b[0;32m---> 77\u001b[0m         t \u001b[38;5;241m=\u001b[39m \u001b[38;5;28;43mself\u001b[39;49m\u001b[38;5;241;43m.\u001b[39;49m\u001b[43m_transform\u001b[49m\u001b[43m(\u001b[49m\u001b[43mx\u001b[49m\u001b[43m)\u001b[49m\n\u001b[1;32m     78\u001b[0m \u001b[38;5;28;01melse\u001b[39;00m: \u001b[38;5;66;03m# is transform \\Psi_j for j>0\u001b[39;00m\n\u001b[1;32m     79\u001b[0m     \u001b[38;5;28;01mif\u001b[39;00m return_weights:\n",
      "File \u001b[0;32m~/SoftwareRepositories/QMCSoftware/qmcpy/true_measure/brownian_motion.py:99\u001b[0m, in \u001b[0;36mBrownianMotion._transform\u001b[0;34m(self, x)\u001b[0m\n\u001b[1;32m     97\u001b[0m     path \u001b[38;5;241m=\u001b[39m \u001b[38;5;28mself\u001b[39m\u001b[38;5;241m.\u001b[39mcreatePath_Bridge(z)\n\u001b[1;32m     98\u001b[0m \u001b[38;5;28;01melse\u001b[39;00m: \n\u001b[0;32m---> 99\u001b[0m     path \u001b[38;5;241m=\u001b[39m \u001b[38;5;28;43msuper\u001b[39;49m\u001b[38;5;241;43m.\u001b[39;49m\u001b[43m_transform\u001b[49m(x)\n\u001b[1;32m    100\u001b[0m \u001b[38;5;28;01mreturn\u001b[39;00m path\n",
      "\u001b[0;31mAttributeError\u001b[0m: type object 'super' has no attribute '_transform'"
     ]
    }
   ],
   "source": [
    "x = qp.BrownianMotion(qp.DigitalNetB2(3)).gen_samples(4)\n",
    "print(x)"
   ]
  },
  {
   "cell_type": "code",
   "execution_count": null,
   "metadata": {},
   "outputs": [
    {
     "name": "stdout",
     "output_type": "stream",
     "text": [
      "[[ 0.88327282  1.15449934  0.85655168]\n",
      " [-0.27156816 -1.04270013 -0.73687188]\n",
      " [-0.27437183 -0.0793467   0.51818884]\n",
      " ...\n",
      " [-1.09954062 -1.13146892 -1.82776102]\n",
      " [-0.27210368  0.31331612  0.75463122]\n",
      " [ 0.56661789 -0.46862537  0.12303735]]\n"
     ]
    }
   ],
   "source": [
    "n = 2**10\n",
    "sob = qp.Sobol(dimension=3)\n",
    "brown_sob_PCA = qp.BrownianMotion(sob,decomp_type='PCA')\n",
    "xbsp = brown_sob_PCA.gen_samples(n)\n",
    "print(xbsp)"
   ]
  },
  {
   "cell_type": "code",
   "execution_count": null,
   "metadata": {},
   "outputs": [
    {
     "name": "stdout",
     "output_type": "stream",
     "text": [
      "[ 1.53331369e-05  7.40620140e-05 -5.63374976e-05]\n",
      "[0.33305733 0.66504598 0.9974356 ]\n"
     ]
    }
   ],
   "source": [
    "mean_xbsp = np.mean(xbsp,axis=0)\n",
    "var_xbsp = np.var(xbsp,axis=0)\n",
    "print(mean_xbsp)\n",
    "print(var_xbsp)"
   ]
  }
 ],
 "metadata": {
  "colab": {
   "collapsed_sections": [],
   "name": "Quickstart.ipynb",
   "provenance": [],
   "toc_visible": true
  },
  "kernelspec": {
   "display_name": "qmcpy",
   "language": "python",
   "name": "python3"
  },
  "language_info": {
   "codemirror_mode": {
    "name": "ipython",
    "version": 3
   },
   "file_extension": ".py",
   "mimetype": "text/x-python",
   "name": "python",
   "nbconvert_exporter": "python",
   "pygments_lexer": "ipython3",
   "version": "3.9.13"
  }
 },
 "nbformat": 4,
 "nbformat_minor": 1
}
