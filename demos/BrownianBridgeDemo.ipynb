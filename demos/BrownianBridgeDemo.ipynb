{
 "cells": [
  {
   "cell_type": "markdown",
   "metadata": {
    "colab_type": "text",
    "id": "EbOXiuCQVs46"
   },
   "source": [
    "# Brownian Bridge Demo"
   ]
  },
  {
   "cell_type": "code",
   "execution_count": 1,
   "metadata": {},
   "outputs": [],
   "source": [
    "import numpy as np\n",
    "import qmcpy as qp"
   ]
  },
  {
   "cell_type": "code",
   "execution_count": 4,
   "metadata": {},
   "outputs": [
    {
     "name": "stdout",
     "output_type": "stream",
     "text": [
      "[[-0.00402083 -0.395481    0.80068742]\n",
      " [-0.26000562  0.03562909 -1.12191135]\n",
      " [ 0.68190517  0.98988106  0.87294418]\n",
      " [-0.00354023 -0.0697883  -0.02541126]]\n"
     ]
    }
   ],
   "source": [
    "x = qp.BrownianMotion(qp.DigitalNetB2(3)).gen_samples(4)\n",
    "print(x)"
   ]
  },
  {
   "cell_type": "code",
   "execution_count": 7,
   "metadata": {},
   "outputs": [
    {
     "name": "stdout",
     "output_type": "stream",
     "text": [
      "[[-1.06047487 -1.67099    -1.24512934]\n",
      " [ 0.46907417  0.92529584  0.58120814]\n",
      " [ 0.34996842  0.42366852 -0.61960079]\n",
      " ...\n",
      " [ 1.24534078  1.13402305  1.66091405]\n",
      " [ 0.27285006 -0.26742576 -1.08719898]\n",
      " [-0.13857775 -0.02288358  0.14966825]]\n"
     ]
    }
   ],
   "source": [
    "n = 2**10\n",
    "sob = qp.Sobol(dimension=3)\n",
    "brown_sob_PCA = qp.BrownianMotion(sob,decomp_type='PCA')\n",
    "xbsp = brown_sob_PCA.gen_samples(n)\n",
    "print(xbsp)"
   ]
  },
  {
   "cell_type": "code",
   "execution_count": 11,
   "metadata": {},
   "outputs": [
    {
     "name": "stdout",
     "output_type": "stream",
     "text": [
      "[-0.00039488 -0.00078369 -0.00106133]\n",
      "[0.33261376 0.66590853 1.00067375]\n"
     ]
    }
   ],
   "source": [
    "mean_xbsp = np.mean(xbsp,axis=0)\n",
    "var_xbsp = np.var(xbsp,axis=0)\n",
    "print(mean_xbsp)\n",
    "print(var_xbsp)"
   ]
  }
 ],
 "metadata": {
  "colab": {
   "collapsed_sections": [],
   "name": "Quickstart.ipynb",
   "provenance": [],
   "toc_visible": true
  },
  "kernelspec": {
   "display_name": "qmcpy",
   "language": "python",
   "name": "python3"
  },
  "language_info": {
   "codemirror_mode": {
    "name": "ipython",
    "version": 3
   },
   "file_extension": ".py",
   "mimetype": "text/x-python",
   "name": "python",
   "nbconvert_exporter": "python",
   "pygments_lexer": "ipython3",
   "version": "3.9.13"
  }
 },
 "nbformat": 4,
 "nbformat_minor": 1
}
