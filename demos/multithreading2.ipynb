{
 "cells": [
  {
   "cell_type": "code",
   "execution_count": 4,
   "metadata": {},
   "outputs": [],
   "source": [
    "import qmcpy as qp\n",
    "import numpy as np\n",
    "import pandas as pd\n",
    "import time\n",
    "import matplotlib.pyplot as plt\n",
    "import cProfile\n",
    "import pstats"
   ]
  },
  {
   "cell_type": "code",
   "execution_count": 5,
   "metadata": {},
   "outputs": [],
   "source": [
    "def natural_thread(n, num_ports, seed=None):\n",
    "    l = qp.Lattice(dimension=n, seed=seed,order=\"natural\" ,is_parallel=True)\n",
    "    points = l.gen_samples(num_ports) \n",
    "    return points\n",
    "def natural(n, num_ports, seed=None):\n",
    "    l = qp.Lattice(dimension=n, seed=seed,order=\"natural\" ,is_parallel=False)\n",
    "    points = l.gen_samples(num_ports) \n",
    "    return points\n"
   ]
  },
  {
   "cell_type": "code",
   "execution_count": 9,
   "metadata": {},
   "outputs": [
    {
     "name": "stdout",
     "output_type": "stream",
     "text": [
      "        natural  natural thread\n",
      "index                          \n",
      "50     0.035683        0.033400\n",
      "100    0.063313        0.048836\n",
      "200    0.098791        0.073900\n",
      "400    0.144441        0.122563\n",
      "800    0.264514        0.222332\n",
      "1600   0.499347        0.387467\n"
     ]
    }
   ],
   "source": [
    "n = 10\n",
    "d_list = [50, 100, 200, 400, 800, 1600]\n",
    "data = {'index':d_list}\n",
    "frame = pd.DataFrame(data)\n",
    "frame = frame.set_index('index')\n",
    "names = set()\n",
    "trials = 3\n",
    "\n",
    "run_list = [(natural, \"natural\"),(natural_thread,\"natural thread\")]\n",
    "\n",
    "\n",
    "\n",
    "for method,method_name in run_list:\n",
    "\n",
    "    name = method_name.split(\" \")\n",
    "\n",
    "    names.add(name[0])\n",
    "\n",
    "    times = []\n",
    "    \n",
    "    for d in d_list:\n",
    "        profiler = cProfile.Profile()\n",
    "        profiler.enable()\n",
    "        for _ in range(trials):\n",
    "            method(d, 2 ** n)\n",
    "        profiler.disable()\n",
    "        \n",
    "        stats = pstats.Stats(profiler)\n",
    "            \n",
    "        process_time = stats.total_tt\n",
    "\n",
    "        times.append(process_time)\n",
    "        \n",
    "    frame[method_name] = times  \n",
    "stats.sort_stats('cumulative')\n",
    "\n",
    "names = list(names)     \n",
    " \n",
    "print(frame) \n",
    "\n"
   ]
  },
  {
   "cell_type": "code",
   "execution_count": null,
   "metadata": {},
   "outputs": [],
   "source": []
  }
 ],
 "metadata": {
  "kernelspec": {
   "display_name": "venv",
   "language": "python",
   "name": "python3"
  },
  "language_info": {
   "codemirror_mode": {
    "name": "ipython",
    "version": 3
   },
   "file_extension": ".py",
   "mimetype": "text/x-python",
   "name": "python",
   "nbconvert_exporter": "python",
   "pygments_lexer": "ipython3",
   "version": "3.9.13"
  },
  "orig_nbformat": 4
 },
 "nbformat": 4,
 "nbformat_minor": 2
}
