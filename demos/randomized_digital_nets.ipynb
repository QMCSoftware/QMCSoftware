{
 "cells": [
  {
   "attachments": {},
   "cell_type": "markdown",
   "metadata": {},
   "source": [
    "# Randomized Digital Nets Demo"
   ]
  },
  {
   "cell_type": "code",
   "execution_count": 5,
   "metadata": {},
   "outputs": [],
   "source": [
    "\n",
    "import qmcpy as qp\n",
    "import numpy as np\n",
    "import matplotlib.pyplot as plt\n",
    "import time"
   ]
  },
  {
   "cell_type": "raw",
   "metadata": {},
   "source": [
    "Here are some parameters to reproduce the randomness"
   ]
  },
  {
   "cell_type": "code",
   "execution_count": 6,
   "metadata": {},
   "outputs": [],
   "source": [
    "seed = 5\n",
    "genseed = 31"
   ]
  },
  {
   "attachments": {},
   "cell_type": "markdown",
   "metadata": {},
   "source": [
    "### Getting started"
   ]
  },
  {
   "attachments": {},
   "cell_type": "markdown",
   "metadata": {},
   "source": [
    "Here is an unshifted, unscrambled net"
   ]
  },
  {
   "cell_type": "code",
   "execution_count": 7,
   "metadata": {},
   "outputs": [
    {
     "name": "stdout",
     "output_type": "stream",
     "text": [
      "DigitalNetB2 (DiscreteDistribution Object)\n",
      "    d               5\n",
      "    dvec            [0 1 2 3 4]\n",
      "    randomize       0\n",
      "    graycode        0\n",
      "    entropy         31204607090921179217648694258242535668\n",
      "    spawn_key       ()\n",
      "[[0.    0.    0.    0.    0.   ]\n",
      " [0.5   0.5   0.5   0.5   0.5  ]\n",
      " [0.25  0.75  0.75  0.75  0.25 ]\n",
      " [0.75  0.25  0.25  0.25  0.75 ]\n",
      " [0.125 0.625 0.375 0.125 0.125]\n",
      " [0.625 0.125 0.875 0.625 0.625]\n",
      " [0.375 0.375 0.625 0.875 0.375]\n",
      " [0.875 0.875 0.125 0.375 0.875]]\n"
     ]
    }
   ],
   "source": [
    "dnet = qp.DigitalNetB2(randomize=False,dimension = 5)\n",
    "print(dnet)\n",
    "x = dnet.gen_samples(8,warn=False)\n",
    "print(x)"
   ]
  },
  {
   "attachments": {},
   "cell_type": "markdown",
   "metadata": {},
   "source": [
    "Here is an unscrambled net with a digital shift"
   ]
  },
  {
   "cell_type": "code",
   "execution_count": 8,
   "metadata": {},
   "outputs": [
    {
     "name": "stdout",
     "output_type": "stream",
     "text": [
      "DigitalNetB2 (DiscreteDistribution Object)\n",
      "    d               5\n",
      "    dvec            [0 1 2 3 4]\n",
      "    randomize       DS\n",
      "    graycode        0\n",
      "    entropy         263749777184471526450582516180956415387\n",
      "    spawn_key       ()\n",
      "[[0.96224229 0.48487091 0.50275264 0.73297005 0.85473654]\n",
      " [0.46224229 0.98487091 0.00275264 0.23297005 0.35473654]\n",
      " [0.71224229 0.73487091 0.25275264 0.48297005 0.60473654]\n",
      " [0.21224229 0.23487091 0.75275264 0.98297005 0.10473654]\n",
      " [0.83724229 0.85987091 0.87775264 0.60797005 0.97973654]\n",
      " [0.33724229 0.35987091 0.37775264 0.10797005 0.47973654]\n",
      " [0.58724229 0.10987091 0.12775264 0.35797005 0.72973654]\n",
      " [0.08724229 0.60987091 0.62775264 0.85797005 0.22973654]]\n",
      "32\n"
     ]
    }
   ],
   "source": [
    "dnet = qp.DigitalNetB2(randomize='DS',dimension = 5)\n",
    "print(dnet)\n",
    "x = dnet.gen_samples(8,warn=False)\n",
    "print(x)\n",
    "print(dnet.m_max)"
   ]
  },
  {
   "attachments": {},
   "cell_type": "markdown",
   "metadata": {},
   "source": [
    "Here is a digital net with totally random generator matrices and no digital shift"
   ]
  },
  {
   "cell_type": "code",
   "execution_count": 9,
   "metadata": {},
   "outputs": [
    {
     "name": "stdout",
     "output_type": "stream",
     "text": [
      "DigitalNetB2 (DiscreteDistribution Object)\n",
      "    d               5\n",
      "    dvec            [0 1 2 3 4]\n",
      "    randomize       0\n",
      "    graycode        0\n",
      "    entropy         5\n",
      "    spawn_key       ()\n",
      "[[0.    0.    0.    0.    0.   ]\n",
      " [0.5   0.5   0.5   0.5   0.5  ]\n",
      " [0.25  0.25  0.25  0.25  0.75 ]\n",
      " [0.75  0.75  0.75  0.75  0.25 ]\n",
      " [0.625 0.375 0.125 0.375 0.625]\n",
      " [0.125 0.875 0.625 0.875 0.125]\n",
      " [0.875 0.125 0.375 0.125 0.375]\n",
      " [0.375 0.625 0.875 0.625 0.875]]\n"
     ]
    }
   ],
   "source": [
    "dnet = qp.DigitalNetB2(generating_matrices=genseed,seed=seed,dimension = 5,randomize=False)\n",
    "print(dnet)\n",
    "x = dnet.gen_samples(8,warn=False)\n",
    "print(x)"
   ]
  },
  {
   "attachments": {},
   "cell_type": "markdown",
   "metadata": {},
   "source": [
    "Here is a digital net with totally random generator matrices and a digital shift"
   ]
  },
  {
   "cell_type": "code",
   "execution_count": 10,
   "metadata": {},
   "outputs": [
    {
     "name": "stdout",
     "output_type": "stream",
     "text": [
      "DigitalNetB2 (DiscreteDistribution Object)\n",
      "    d               2^(1)\n",
      "    dvec            [0 1]\n",
      "    randomize       0\n",
      "    graycode        0\n",
      "    entropy         5\n",
      "    spawn_key       ()\n",
      "[[0.    0.   ]\n",
      " [0.5   0.5  ]\n",
      " [0.25  0.25 ]\n",
      " [0.75  0.75 ]\n",
      " [0.625 0.375]\n",
      " [0.125 0.875]\n",
      " [0.875 0.125]\n",
      " [0.375 0.625]]\n"
     ]
    }
   ],
   "source": [
    "dnet = qp.DigitalNetB2(generating_matrices=4, seed=seed,dimension = 2,randomize=False)\n",
    "print(dnet)\n",
    "x = dnet.gen_samples(8,warn=False)\n",
    "print(x)"
   ]
  },
  {
   "cell_type": "code",
   "execution_count": 11,
   "metadata": {},
   "outputs": [
    {
     "name": "stdout",
     "output_type": "stream",
     "text": [
      "[[ 8  4 10  5]\n",
      " [ 8  4  6  7]]\n"
     ]
    }
   ],
   "source": [
    "print(dnet.z_og)"
   ]
  },
  {
   "cell_type": "code",
   "execution_count": 12,
   "metadata": {},
   "outputs": [
    {
     "data": {
      "text/plain": [
       "array([[0.40903903, 0.52081583, 0.34458808, 0.0379708 , 0.63803439],\n",
       "       [0.78181288, 0.35844894, 0.55126612, 0.99863014, 0.27763404],\n",
       "       [0.24451157, 0.22277571, 0.93884728, 0.54375734, 0.78881561],\n",
       "       [0.6173461 , 0.90455178, 0.14626132, 0.48898147, 0.17838952],\n",
       "       [0.30872313, 0.41829054, 0.03693177, 0.23779469, 0.53426219],\n",
       "       [0.93594844, 0.70902195, 0.86080111, 0.79294307, 0.42383329],\n",
       "       [0.09825122, 0.84092602, 0.62931795, 0.74383204, 0.88471231],\n",
       "       [0.72541561, 0.03835378, 0.45391566, 0.28304357, 0.02431869]])"
      ]
     },
     "execution_count": 12,
     "metadata": {},
     "output_type": "execute_result"
    }
   ],
   "source": [
    "dnetcomp = qp.DigitalNetB2(dimension=5,seed=seed)\n",
    "dnetcomp.gen_samples(8)"
   ]
  },
  {
   "attachments": {},
   "cell_type": "markdown",
   "metadata": {},
   "source": [
    "### Comparison between randomized digital net and default digital net "
   ]
  },
  {
   "cell_type": "code",
   "execution_count": 13,
   "metadata": {},
   "outputs": [],
   "source": [
    "dnet2 = qp.DigitalNetB2(dimension = 2, generating_matrices= genseed, seed = seed)\n",
    "dnetcomp2 = qp.DigitalNetB2(dimension = 2, seed = seed)\n",
    "\n",
    "Randomized = dnet2.gen_samples(64)\n",
    "Default = dnetcomp2.gen_samples(64)"
   ]
  },
  {
   "cell_type": "code",
   "execution_count": 14,
   "metadata": {},
   "outputs": [
    {
     "data": {
      "image/png": "[encoded data removed]",
      "text/plain": [
       "<Figure size 640x480 with 1 Axes>"
      ]
     },
     "metadata": {},
     "output_type": "display_data"
    }
   ],
   "source": [
    "plt.plot(Randomized[:,0],Randomized[:,1],'ro',Default[:,0],Default[:,1],'b+')\n",
    "plt.xlabel(\"x-coordinate of generated points\")\n",
    "plt.ylabel(\"y-coordinate of generated points\")\n",
    "plt.title(\"Comparison between randomized digital net (red) and default digital net (blue)\")\n",
    "plt.show()"
   ]
  },
  {
   "cell_type": "code",
   "execution_count": 15,
   "metadata": {},
   "outputs": [
    {
     "data": {
      "image/png": "[encoded data removed]",
      "text/plain": [
       "<Figure size 640x480 with 1 Axes>"
      ]
     },
     "metadata": {},
     "output_type": "display_data"
    },
    {
     "data": {
      "image/png": "[encoded data removed]",
      "text/plain": [
       "<Figure size 640x480 with 1 Axes>"
      ]
     },
     "metadata": {},
     "output_type": "display_data"
    }
   ],
   "source": [
    "plt.plot(Randomized[:,0],Randomized[:,1],'ro')\n",
    "plt.xlabel(\"x-coordinate of generated points\")\n",
    "plt.ylabel(\"y-coordinate of generated points\")\n",
    "plt.show()\n",
    "plt.plot(Default[:,0],Default[:,1],'b+')\n",
    "plt.xlabel(\"x-coordinate of generated points\")\n",
    "plt.ylabel(\"y-coordinate of generated points\")\n",
    "plt.show()"
   ]
  },
  {
   "attachments": {},
   "cell_type": "markdown",
   "metadata": {},
   "source": [
    "### Bitwize representation of generating matrices"
   ]
  },
  {
   "cell_type": "code",
   "execution_count": 16,
   "metadata": {},
   "outputs": [
    {
     "name": "stdout",
     "output_type": "stream",
     "text": [
      "s (scrambling_matrix)\n",
      "\n",
      "\ts[dvec[0]]\n",
      "\t\t1 0 0 \n",
      "\t\t1 1 0 \n",
      "\t\t0 0 1 \n",
      "\t\t0 0 0 \n",
      "\t\t1 0 0 \n",
      "\t\t0 0 1 \n",
      "\t\t0 1 0 \n",
      "\t\t0 0 0 \n",
      "\t\t1 0 1 \n",
      "\t\t0 0 1 \n",
      "\t\t1 0 1 \n",
      "\t\t1 1 0 \n",
      "\t\t0 0 0 \n",
      "\t\t0 0 1 \n",
      "\t\t1 0 1 \n",
      "\t\t0 0 1 \n",
      "\t\t0 0 1 \n",
      "\t\t0 0 0 \n",
      "\t\t1 0 0 \n",
      "\t\t1 1 0 \n",
      "\t\t0 0 0 \n",
      "\t\t1 1 1 \n",
      "\t\t0 0 1 \n",
      "\t\t1 1 1 \n",
      "\t\t0 0 1 \n",
      "\t\t1 0 0 \n",
      "\t\t0 0 1 \n",
      "\t\t1 0 0 \n",
      "\t\t1 1 0 \n",
      "\t\t0 1 0 \n",
      "\t\t1 1 0 \n",
      "\t\t0 1 1 \n",
      "\t\t1 0 0 \n",
      "\t\t0 1 0 \n",
      "\t\t0 0 0 \n",
      "\t\t0 1 1 \n",
      "\t\t1 0 1 \n",
      "\t\t0 0 0 \n",
      "\t\t1 1 0 \n",
      "\t\t0 0 0 \n",
      "\t\t1 1 0 \n",
      "\t\t1 1 1 \n",
      "\t\t1 1 0 \n",
      "\t\t0 0 1 \n",
      "\t\t1 0 0 \n",
      "\t\t0 0 1 \n",
      "\t\t0 0 0 \n",
      "\t\t0 0 0 \n",
      "\t\t0 0 1 \n",
      "\t\t1 0 0 \n",
      "\t\t1 0 0 \n",
      "\t\t0 0 1 \n",
      "\t\t1 0 0 \n",
      "\t\t0 0 1 \n",
      "\t\t0 1 0 \n",
      "\t\t0 1 1 \n",
      "\t\t0 1 0 \n",
      "\t\t1 0 1 \n",
      "\t\t1 1 1 \n",
      "\t\t1 0 0 \n",
      "\t\t1 0 0 \n",
      "\t\t0 1 0 \n",
      "\t\t1 0 0 \n",
      "\t\t0 1 1 \n",
      "\t\t\n",
      "\ts[dvec[1]]\n",
      "\t\t1 0 0 \n",
      "\t\t0 1 0 \n",
      "\t\t0 0 1 \n",
      "\t\t0 1 0 \n",
      "\t\t0 0 0 \n",
      "\t\t0 0 1 \n",
      "\t\t1 1 0 \n",
      "\t\t1 0 1 \n",
      "\t\t1 1 0 \n",
      "\t\t1 0 0 \n",
      "\t\t1 0 1 \n",
      "\t\t0 1 1 \n",
      "\t\t0 1 1 \n",
      "\t\t0 0 1 \n",
      "\t\t1 0 0 \n",
      "\t\t1 0 0 \n",
      "\t\t1 1 1 \n",
      "\t\t0 0 0 \n",
      "\t\t0 1 1 \n",
      "\t\t0 1 0 \n",
      "\t\t0 0 1 \n",
      "\t\t1 0 1 \n",
      "\t\t1 0 1 \n",
      "\t\t1 1 0 \n",
      "\t\t1 1 1 \n",
      "\t\t0 0 0 \n",
      "\t\t0 0 0 \n",
      "\t\t0 1 1 \n",
      "\t\t0 0 0 \n",
      "\t\t1 1 1 \n",
      "\t\t1 1 1 \n",
      "\t\t1 1 1 \n",
      "\t\t1 1 0 \n",
      "\t\t0 1 1 \n",
      "\t\t1 1 1 \n",
      "\t\t0 0 0 \n",
      "\t\t0 0 0 \n",
      "\t\t0 1 0 \n",
      "\t\t0 1 0 \n",
      "\t\t0 1 1 \n",
      "\t\t1 1 0 \n",
      "\t\t0 0 1 \n",
      "\t\t0 0 0 \n",
      "\t\t0 0 0 \n",
      "\t\t1 1 1 \n",
      "\t\t0 0 0 \n",
      "\t\t0 0 1 \n",
      "\t\t0 0 0 \n",
      "\t\t0 1 0 \n",
      "\t\t0 1 0 \n",
      "\t\t1 0 1 \n",
      "\t\t0 1 0 \n",
      "\t\t0 1 0 \n",
      "\t\t0 1 0 \n",
      "\t\t1 1 1 \n",
      "\t\t0 0 1 \n",
      "\t\t0 1 1 \n",
      "\t\t1 0 1 \n",
      "\t\t1 1 0 \n",
      "\t\t1 0 1 \n",
      "\t\t0 1 1 \n",
      "\t\t1 0 1 \n",
      "\t\t0 0 1 \n",
      "\t\t1 1 0 \n",
      "\t\t\n",
      "\n",
      "z\n",
      "\n",
      "\tz_og[dvec[0]] = [4 2 1]\n",
      "\t\t1 0 0 \n",
      "\t\t0 1 0 \n",
      "\t\t0 0 1 \n",
      "\t\t\n",
      "\tz_og[dvec[1]] = [4 6 5]\n",
      "\t\t1 1 1 \n",
      "\t\t0 1 0 \n",
      "\t\t0 0 1 \n",
      "\t\t\n",
      "\n",
      "znew\n",
      "\tz[dvec[0]] = [14461680016433899642  4760327961689719717  2659243230953248097]\n",
      "\t\t1 0 0 \n",
      "\t\t1 1 0 \n",
      "\t\t0 0 1 \n",
      "\t\t0 0 0 \n",
      "\t\t1 0 0 \n",
      "\t\t0 0 1 \n",
      "\t\t0 1 0 \n",
      "\t\t0 0 0 \n",
      "\t\t1 0 1 \n",
      "\t\t0 0 1 \n",
      "\t\t1 0 1 \n",
      "\t\t1 1 0 \n",
      "\t\t0 0 0 \n",
      "\t\t0 0 1 \n",
      "\t\t1 0 1 \n",
      "\t\t0 0 1 \n",
      "\t\t0 0 1 \n",
      "\t\t0 0 0 \n",
      "\t\t1 0 0 \n",
      "\t\t1 1 0 \n",
      "\t\t0 0 0 \n",
      "\t\t1 1 1 \n",
      "\t\t0 0 1 \n",
      "\t\t1 1 1 \n",
      "\t\t0 0 1 \n",
      "\t\t1 0 0 \n",
      "\t\t0 0 1 \n",
      "\t\t1 0 0 \n",
      "\t\t1 "
     ]
    },
    {
     "name": "stderr",
     "output_type": "stream",
     "text": [
      "/Users/zhangbocheng/QMCSoftware/qmcpy/discrete_distribution/digital_net_b2/digital_net_b2.py:314\n",
      "\tParameterWarning: Non-randomized DigitalNetB2 sequence includes the origin\n"
     ]
    },
    {
     "name": "stdout",
     "output_type": "stream",
     "text": [
      "1 0 \n",
      "\t\t0 1 0 \n",
      "\t\t1 1 0 \n",
      "\t\t0 1 1 \n",
      "\t\t1 0 0 \n",
      "\t\t0 1 0 \n",
      "\t\t0 0 0 \n",
      "\t\t0 1 1 \n",
      "\t\t1 0 1 \n",
      "\t\t0 0 0 \n",
      "\t\t1 1 0 \n",
      "\t\t0 0 0 \n",
      "\t\t1 1 0 \n",
      "\t\t1 1 1 \n",
      "\t\t1 1 0 \n",
      "\t\t0 0 1 \n",
      "\t\t1 0 0 \n",
      "\t\t0 0 1 \n",
      "\t\t0 0 0 \n",
      "\t\t0 0 0 \n",
      "\t\t0 0 1 \n",
      "\t\t1 0 0 \n",
      "\t\t1 0 0 \n",
      "\t\t0 0 1 \n",
      "\t\t1 0 0 \n",
      "\t\t0 0 1 \n",
      "\t\t0 1 0 \n",
      "\t\t0 1 1 \n",
      "\t\t0 1 0 \n",
      "\t\t1 0 1 \n",
      "\t\t1 1 1 \n",
      "\t\t1 0 0 \n",
      "\t\t1 0 0 \n",
      "\t\t0 1 0 \n",
      "\t\t1 0 0 \n",
      "\t\t0 1 1 \n",
      "\t\t\n",
      "\tz[dvec[1]] = [ 9503588655265489525 15094718019600973020 12024374682049446315]\n",
      "\t\t1 1 1 \n",
      "\t\t0 1 0 \n",
      "\t\t0 0 1 \n",
      "\t\t0 1 0 \n",
      "\t\t0 0 0 \n",
      "\t\t0 0 1 \n",
      "\t\t1 0 1 \n",
      "\t\t1 1 0 \n",
      "\t\t1 0 1 \n",
      "\t\t1 1 1 \n",
      "\t\t1 1 0 \n",
      "\t\t0 1 1 \n",
      "\t\t0 1 1 \n",
      "\t\t0 0 1 \n",
      "\t\t1 1 1 \n",
      "\t\t1 1 1 \n",
      "\t\t1 0 0 \n",
      "\t\t0 0 0 \n",
      "\t\t0 1 1 \n",
      "\t\t0 1 0 \n",
      "\t\t0 0 1 \n",
      "\t\t1 1 0 \n",
      "\t\t1 1 0 \n",
      "\t\t1 0 1 \n",
      "\t\t1 0 0 \n",
      "\t\t0 0 0 \n",
      "\t\t0 0 0 \n",
      "\t\t0 1 1 \n",
      "\t\t0 0 0 \n",
      "\t\t1 0 0 \n",
      "\t\t1 0 0 \n",
      "\t\t1 0 0 \n",
      "\t\t1 0 1 \n",
      "\t\t0 1 1 \n",
      "\t\t1 0 0 \n",
      "\t\t0 0 0 \n",
      "\t\t0 0 0 \n",
      "\t\t0 1 0 \n",
      "\t\t0 1 0 \n",
      "\t\t0 1 1 \n",
      "\t\t1 0 1 \n",
      "\t\t0 0 1 \n",
      "\t\t0 0 0 \n",
      "\t\t0 0 0 \n",
      "\t\t1 0 0 \n",
      "\t\t0 0 0 \n",
      "\t\t0 0 1 \n",
      "\t\t0 0 0 \n",
      "\t\t0 1 0 \n",
      "\t\t0 1 0 \n",
      "\t\t1 1 0 \n",
      "\t\t0 1 0 \n",
      "\t\t0 1 0 \n",
      "\t\t0 1 0 \n",
      "\t\t1 0 0 \n",
      "\t\t0 0 1 \n",
      "\t\t0 1 1 \n",
      "\t\t1 1 0 \n",
      "\t\t1 0 1 \n",
      "\t\t1 1 0 \n",
      "\t\t0 1 1 \n",
      "\t\t1 1 0 \n",
      "\t\t0 0 1 \n",
      "\t\t1 0 1 \n",
      "\t\t\n",
      "x\n",
      "\t0.000  0.000  \n",
      "\t0.784  0.515  \n",
      "\t0.542  0.323  \n",
      "\t0.258  0.818  \n",
      "\t0.402  0.467  \n",
      "\t0.681  0.954  \n",
      "\t0.923  0.145  \n",
      "\t0.144  0.652  \n",
      "\t\n"
     ]
    }
   ],
   "source": [
    "from qmcpy.discrete_distribution.digital_net_b2 import DigitalNetB2\n",
    "from numpy import *\n",
    "small_sobol = array([[4,2,1],[4,6,5]],dtype=uint64)\n",
    "small_sobol_file = 'small_sobol.2.3.3.msb.npy'\n",
    "big_sobol_file = 'sobol_mat.21201.32.32.lsb.npy'\n",
    "save(small_sobol_file,small_sobol)\n",
    "dnet = DigitalNetB2(\n",
    "    dimension = [0,1],\n",
    "    randomize = 'LMS', # LMS_NO_SHIFT\n",
    "    graycode = True,\n",
    "    seed = 7,\n",
    "    generating_matrices = small_sobol_file,\n",
    "    t_lms = 64,\n",
    "    _verbose = True)\n",
    "# dnet = DigitalNetB2(\n",
    "#     seed=123,\n",
    "#     generating_matrices=675234567,\n",
    "#     dimension= 2\n",
    "# )\n",
    "x = dnet.gen_samples(\n",
    "    n_min = 0,\n",
    "    n_max = 2**3,\n",
    "    warn = True,\n",
    "    return_unrandomized = False)\n",
    "print(\"\\n\\nz\")\n",
    "for j in range(dnet.d):\n",
    "    dim = dnet.dvec[j]\n",
    "    print('\\n\\tz_og[dvec[%d]] = %s\\n\\t\\t'%(j,dnet.z_og[j]),end='',flush=True)\n",
    "    for t in range(dnet.t_max):\n",
    "        mask = array(1<<(dnet.t_max-t-1), dtype=uint64)\n",
    "        for m in range(dnet.m_max):\n",
    "            bit = (mask & dnet.z_og[dim,m])>0\n",
    "            print(\"%-2d\"%bit,end='',flush=True)\n",
    "        print(\"\\n\\t\\t\",end='',flush=True)\n",
    "print(\"\\n\\nznew\",end='',flush=True)\n",
    "for j in range(dnet.d):\n",
    "    print('\\n\\tz[dvec[%d]] = %s\\n\\t\\t'%(j,dnet.z[j]),end='',flush=True)\n",
    "    for t in range(dnet.t_lms):\n",
    "        mask = array(1<<(dnet.t_lms-t-1), dtype=uint64)\n",
    "        for m in range(dnet.m_max):\n",
    "            bit = (mask & dnet.z[j,m])>0\n",
    "            print(\"%-2d\"%bit,end='',flush=True)\n",
    "        print(\"\\n\\t\\t\",end='',flush=True)\n",
    "print(\"\\nx\\n\\t\",end='',flush=True)\n",
    "for i in range(len(x)):\n",
    "    for j in range(dnet.d):\n",
    "        print(\"%-7.3f\"%x[i,j],end='',flush=True)\n",
    "    print(\"\\n\\t\",end='',flush=True)\n",
    "print()\n",
    "import os; os.remove(small_sobol_file)"
   ]
  },
  {
   "attachments": {},
   "cell_type": "markdown",
   "metadata": {},
   "source": [
    "## Integration"
   ]
  },
  {
   "attachments": {},
   "cell_type": "markdown",
   "metadata": {},
   "source": [
    "### Sample Integration  "
   ]
  },
  {
   "cell_type": "code",
   "execution_count": 17,
   "metadata": {},
   "outputs": [
    {
     "name": "stdout",
     "output_type": "stream",
     "text": [
      "31\n"
     ]
    }
   ],
   "source": [
    "d = 2\n",
    "tol = 1e-3\n",
    "dnet = qp.DigitalNetB2(dimension = d, generating_matrices= genseed)\n",
    "print(dnet.m_max)\n",
    "gaussian_net = qp.Gaussian(dnet,mean = 0, covariance=1/2)\n",
    "dnetcomp = qp.DigitalNetB2(d)\n",
    "gaussian_net_comp = qp.Gaussian(dnetcomp,mean = 0,covariance = 1/2)\n"
   ]
  },
  {
   "cell_type": "code",
   "execution_count": 18,
   "metadata": {},
   "outputs": [
    {
     "name": "stdout",
     "output_type": "stream",
     "text": [
      "Integration data from a randomized digital net\n",
      "LDTransformData (AccumulateData Object)\n",
      "    solution        1.808\n",
      "    comb_bound_low  1.808\n",
      "    comb_bound_high 1.809\n",
      "    comb_flags      1\n",
      "    n_total         2^(13)\n",
      "    n               2^(13)\n",
      "    time_integrate  0.067\n",
      "CubQMCNetG (StoppingCriterion Object)\n",
      "    abs_tol         0.001\n",
      "    rel_tol         0\n",
      "    n_init          2^(10)\n",
      "    n_max           2^(35)\n",
      "Keister (Integrand Object)\n",
      "Gaussian (TrueMeasure Object)\n",
      "    mean            0\n",
      "    covariance      2^(-1)\n",
      "    decomp_type     PCA\n",
      "    transform       Gaussian (TrueMeasure Object)\n",
      "                       mean            0\n",
      "                       covariance      2^(-1)\n",
      "                       decomp_type     PCA\n",
      "DigitalNetB2 (DiscreteDistribution Object)\n",
      "    d               2^(1)\n",
      "    dvec            [0 1]\n",
      "    randomize       1\n",
      "    graycode        0\n",
      "    entropy         50550323800893771202203649086357040485\n",
      "    spawn_key       ()\n",
      "\n",
      "Integration data from the default digital net\n",
      "LDTransformData (AccumulateData Object)\n",
      "    solution        1.808\n",
      "    comb_bound_low  1.808\n",
      "    comb_bound_high 1.809\n",
      "    comb_flags      1\n",
      "    n_total         2^(13)\n",
      "    n               2^(13)\n",
      "    time_integrate  0.062\n",
      "CubQMCNetG (StoppingCriterion Object)\n",
      "    abs_tol         0.001\n",
      "    rel_tol         0\n",
      "    n_init          2^(10)\n",
      "    n_max           2^(35)\n",
      "Keister (Integrand Object)\n",
      "Gaussian (TrueMeasure Object)\n",
      "    mean            0\n",
      "    covariance      2^(-1)\n",
      "    decomp_type     PCA\n",
      "    transform       Gaussian (TrueMeasure Object)\n",
      "                       mean            0\n",
      "                       covariance      2^(-1)\n",
      "                       decomp_type     PCA\n",
      "DigitalNetB2 (DiscreteDistribution Object)\n",
      "    d               2^(1)\n",
      "    dvec            [0 1]\n",
      "    randomize       1\n",
      "    graycode        0\n",
      "    entropy         34266863334518284412274627128589447249\n",
      "    spawn_key       ()\n"
     ]
    }
   ],
   "source": [
    "solution_random,data_random = qp.CubQMCNetG(qp.Keister(gaussian_net),abs_tol = tol).integrate()\n",
    "solution_default,data_default = qp.CubQMCNetG(qp.Keister(gaussian_net_comp),abs_tol= tol).integrate()\n",
    "print(\"Integration data from a randomized digital net\")\n",
    "print(data_random)\n",
    "print(\"\\nIntegration data from the default digital net\")\n",
    "print(data_default)\n"
   ]
  },
  {
   "cell_type": "code",
   "execution_count": 19,
   "metadata": {},
   "outputs": [
    {
     "name": "stdout",
     "output_type": "stream",
     "text": [
      "Difference between randomized digital net results and exact answer 0\n",
      "Difference between default digital net results and exact answer 0\n"
     ]
    }
   ],
   "source": [
    "answer = qp.Keister(dnet).exact_integ(2)\n",
    "print(f\"Difference between randomized digital net results and exact answer {0}\".format(abs(answer-solution_random)))\n",
    "print(f\"Difference between default digital net results and exact answer {0}\".format(abs(answer-solution_default)))"
   ]
  },
  {
   "attachments": {},
   "cell_type": "markdown",
   "metadata": {},
   "source": [
    "### Error comparison between mean of means and median of means"
   ]
  },
  {
   "cell_type": "code",
   "execution_count": 20,
   "metadata": {},
   "outputs": [
    {
     "name": "stdout",
     "output_type": "stream",
     "text": [
      "0\n",
      "1\n",
      "2\n",
      "3\n",
      "4\n",
      "5\n",
      "6\n",
      "7\n",
      "8\n",
      "9\n",
      "10\n",
      "11\n",
      "12\n",
      "13\n",
      "14\n",
      "15\n",
      "16\n",
      "17\n",
      "18\n",
      "19\n",
      "20\n",
      "21\n",
      "22\n",
      "23\n",
      "24\n"
     ]
    },
    {
     "data": {
      "image/png": "[encoded data removed]",
      "text/plain": [
       "<Figure size 640x480 with 1 Axes>"
      ]
     },
     "metadata": {},
     "output_type": "display_data"
    }
   ],
   "source": [
    "#mean of means vs. median of means\n",
    "\n",
    "d = 2\n",
    "N_min = 6\n",
    "N_max = 18\n",
    "N_list = 2**np.arange(N_min,N_max)\n",
    "r = 11\n",
    "num_trials = 25\n",
    "\n",
    "\n",
    "error_median = np.zeros(N_max - N_min) \n",
    "error_mean = np.zeros(N_max - N_min) \n",
    "error_mean_onegen = np.zeros(N_max - N_min) \n",
    "for i in range(num_trials):\n",
    "    y_median = []\n",
    "    y_mean = []\n",
    "    y_mean_one_gen = []\n",
    "    print(i)\n",
    "    list_of_keister_objects_random = []\n",
    "    list_of_keister_objects_default = []\n",
    "    y_randomized_list = []\n",
    "    y_default_list = []\n",
    "    for k in range(r):\n",
    "        dnet = qp.DigitalNetB2(generating_matrices = genseed,dimension=d)\n",
    "        keister = qp.Keister(dnet)\n",
    "        list_of_keister_objects_random.append(keister)\n",
    "        x = keister.discrete_distrib.gen_samples(N_list.max())\n",
    "        y = keister.f(x)\n",
    "        y_randomized_list.append(y)\n",
    "        keister = qp.Keister(qp.DigitalNetB2(d))\n",
    "        list_of_keister_objects_default.append(keister)\n",
    "        x = keister.discrete_distrib.gen_samples(N_list.max())\n",
    "        y = keister.f(x)    \n",
    "        y_default_list.append(y) \n",
    "            \n",
    "    for N in N_list:\n",
    "\n",
    "        y_median.append(np.median([np.mean(y[:N]) for y in y_randomized_list]))\n",
    "        y_mean_one_gen.append(np.mean([np.mean(y[:N]) for y in y_default_list]))\n",
    "        y_mean.append(np.mean([np.mean(y[:N]) for y in y_randomized_list]))\n",
    "\n",
    "    answer = keister.exact_integ(d)\n",
    "    error_median += abs(answer-y_median)\n",
    "    error_mean += abs(answer-y_mean)\n",
    "    error_mean_onegen += abs(answer-y_mean_one_gen)\n",
    "\n",
    "error_median /= num_trials\n",
    "error_mean /= num_trials\n",
    "error_mean_onegen /= num_trials\n",
    "\n",
    "plt.loglog(N_list,error_median,label = \"median of means\")\n",
    "plt.loglog(N_list,error_mean,label = \"mean of means\")\n",
    "plt.loglog(N_list,error_mean_onegen,label = \"mean of random shifts\")\n",
    "plt.xlabel(\"sample size\")\n",
    "plt.ylabel(\"error\")\n",
    "plt.title(\"Comparison of lattice generators\")\n",
    "plt.legend()\n",
    "plt.savefig(\"./meanvsmedian.png\")\n",
    "\n"
   ]
  },
  {
   "attachments": {},
   "cell_type": "markdown",
   "metadata": {},
   "source": [
    "## Exploration"
   ]
  },
  {
   "cell_type": "code",
   "execution_count": 21,
   "metadata": {},
   "outputs": [],
   "source": [
    "import numpy as np\n",
    "\n",
    "t1 =5 \n",
    "t_max = 16\n",
    "\n",
    "u = np.random.randint(low=0, high=1<<t1, size=1, dtype='uint64')\n",
    "u <<= (t_max-t1)"
   ]
  },
  {
   "cell_type": "code",
   "execution_count": 22,
   "metadata": {},
   "outputs": [
    {
     "data": {
      "text/plain": [
       "array([24576], dtype=uint64)"
      ]
     },
     "execution_count": 22,
     "metadata": {},
     "output_type": "execute_result"
    }
   ],
   "source": [
    "u"
   ]
  },
  {
   "cell_type": "code",
   "execution_count": 23,
   "metadata": {},
   "outputs": [
    {
     "data": {
      "text/plain": [
       "'0b1101000000000000'"
      ]
     },
     "execution_count": 23,
     "metadata": {},
     "output_type": "execute_result"
    }
   ],
   "source": [
    "bin(53248)"
   ]
  },
  {
   "cell_type": "code",
   "execution_count": null,
   "metadata": {},
   "outputs": [],
   "source": []
  }
 ],
 "metadata": {
  "kernelspec": {
   "display_name": "Python 3 (ipykernel)",
   "language": "python",
   "name": "python3"
  },
  "language_info": {
   "codemirror_mode": {
    "name": "ipython",
    "version": 3
   },
   "file_extension": ".py",
   "mimetype": "text/x-python",
   "name": "python",
   "nbconvert_exporter": "python",
   "pygments_lexer": "ipython3",
   "version": "3.9.13"
  }
 },
 "nbformat": 4,
 "nbformat_minor": 4
}
