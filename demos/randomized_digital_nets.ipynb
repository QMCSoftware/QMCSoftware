{
 "cells": [
  {
   "attachments": {},
   "cell_type": "markdown",
   "metadata": {},
   "source": [
    "# Randomized Digital Nets Demo"
   ]
  },
  {
   "cell_type": "code",
   "execution_count": 1,
   "metadata": {},
   "outputs": [],
   "source": [
    "\n",
    "import qmcpy as qp\n",
    "import numpy as np\n",
    "import matplotlib.pyplot as plt\n",
    "import time"
   ]
  },
  {
   "cell_type": "raw",
   "metadata": {},
   "source": [
    "Here are some parameters to reproduce the randomness"
   ]
  },
  {
   "cell_type": "code",
   "execution_count": 2,
   "metadata": {},
   "outputs": [],
   "source": [
    "seed = 5\n",
    "genseed = 1234568"
   ]
  },
  {
   "attachments": {},
   "cell_type": "markdown",
   "metadata": {},
   "source": [
    "### Getting started"
   ]
  },
  {
   "attachments": {},
   "cell_type": "markdown",
   "metadata": {},
   "source": [
    "Here is an unshifted, unscrambled net"
   ]
  },
  {
   "cell_type": "code",
   "execution_count": 3,
   "metadata": {},
   "outputs": [
    {
     "name": "stdout",
     "output_type": "stream",
     "text": [
      "DigitalNetB2 (DiscreteDistribution Object)\n",
      "    d               5\n",
      "    dvec            [0 1 2 3 4]\n",
      "    randomize       0\n",
      "    graycode        0\n",
      "    entropy         129631274736245415304383935233602856024\n",
      "    spawn_key       ()\n",
      "[[0.    0.    0.    0.    0.   ]\n",
      " [0.5   0.5   0.5   0.5   0.5  ]\n",
      " [0.25  0.75  0.75  0.75  0.25 ]\n",
      " [0.75  0.25  0.25  0.25  0.75 ]\n",
      " [0.125 0.625 0.375 0.125 0.125]\n",
      " [0.625 0.125 0.875 0.625 0.625]\n",
      " [0.375 0.375 0.625 0.875 0.375]\n",
      " [0.875 0.875 0.125 0.375 0.875]]\n"
     ]
    }
   ],
   "source": [
    "dnet = qp.DigitalNetB2(randomize=False,dimension = 5)\n",
    "print(dnet)\n",
    "x = dnet.gen_samples(8,warn=False)\n",
    "print(x)"
   ]
  },
  {
   "attachments": {},
   "cell_type": "markdown",
   "metadata": {},
   "source": [
    "Here is an unscrambled net with a digital shift"
   ]
  },
  {
   "cell_type": "code",
   "execution_count": 4,
   "metadata": {},
   "outputs": [
    {
     "name": "stdout",
     "output_type": "stream",
     "text": [
      "DigitalNetB2 (DiscreteDistribution Object)\n",
      "    d               5\n",
      "    dvec            [0 1 2 3 4]\n",
      "    randomize       DS\n",
      "    graycode        0\n",
      "    entropy         188416310994346559452077292888261028959\n",
      "    spawn_key       ()\n",
      "[[0.32017314 0.43449706 0.16756982 0.88430993 0.12036882]\n",
      " [0.82017314 0.93449706 0.66756982 0.38430993 0.62036882]\n",
      " [0.07017314 0.68449706 0.91756982 0.13430993 0.37036882]\n",
      " [0.57017314 0.18449706 0.41756982 0.63430993 0.87036882]\n",
      " [0.44517314 0.80949706 0.29256982 0.75930993 0.24536882]\n",
      " [0.94517314 0.30949706 0.79256982 0.25930993 0.74536882]\n",
      " [0.19517314 0.05949706 0.54256982 0.00930993 0.49536882]\n",
      " [0.69517314 0.55949706 0.04256982 0.50930993 0.99536882]]\n",
      "32\n"
     ]
    }
   ],
   "source": [
    "dnet = qp.DigitalNetB2(randomize='DS',dimension = 5)\n",
    "print(dnet)\n",
    "x = dnet.gen_samples(8,warn=False)\n",
    "print(x)\n",
    "print(dnet.m_max)"
   ]
  },
  {
   "attachments": {},
   "cell_type": "markdown",
   "metadata": {},
   "source": [
    "Here is a digital net with totally random generator matrices and no digital shift"
   ]
  },
  {
   "cell_type": "code",
   "execution_count": 5,
   "metadata": {},
   "outputs": [
    {
     "name": "stdout",
     "output_type": "stream",
     "text": [
      "DigitalNetB2 (DiscreteDistribution Object)\n",
      "    d               5\n",
      "    dvec            [0 1 2 3 4]\n",
      "    randomize       0\n",
      "    graycode        0\n",
      "    entropy         5\n",
      "    spawn_key       ()\n",
      "[[0.       0.       0.       0.       0.      ]\n",
      " [0.1875   0.40625  0.09375  0.78125  0.375   ]\n",
      " [0.828125 0.859375 0.625    0.875    0.703125]\n",
      " [0.890625 0.703125 0.71875  0.15625  0.828125]\n",
      " [0.78125  0.046875 0.953125 0.953125 0.4375  ]\n",
      " [0.96875  0.390625 0.921875 0.234375 0.0625  ]\n",
      " [0.109375 0.8125   0.328125 0.078125 0.765625]\n",
      " [0.171875 0.71875  0.296875 0.859375 0.640625]]\n"
     ]
    }
   ],
   "source": [
    "dnet = qp.DigitalNetB2(generating_matrices=genseed,seed=seed,dimension = 5,randomize=False)\n",
    "print(dnet)\n",
    "x = dnet.gen_samples(8,warn=False)\n",
    "print(x)"
   ]
  },
  {
   "attachments": {},
   "cell_type": "markdown",
   "metadata": {},
   "source": [
    "Here is a digital net with totally random generator matrices and a digital shift"
   ]
  },
  {
   "cell_type": "code",
   "execution_count": 6,
   "metadata": {},
   "outputs": [
    {
     "name": "stdout",
     "output_type": "stream",
     "text": [
      "DigitalNetB2 (DiscreteDistribution Object)\n",
      "    d               5\n",
      "    dvec            [0 1 2 3 4]\n",
      "    randomize       DS\n",
      "    graycode        0\n",
      "    entropy         5\n",
      "    spawn_key       ()\n",
      "[[0.54361632 0.28284881 0.03484717 0.72945266 0.54469248]\n",
      " [0.73111632 0.12659881 0.06609717 0.44820266 0.91969248]\n",
      " [0.37174132 0.57972381 0.65984717 0.35445266 0.24781748]\n",
      " [0.43424132 0.98597381 0.69109717 0.57320266 0.37281748]\n",
      " [0.26236632 0.26722381 0.98797217 0.30757766 0.98219248]\n",
      " [0.44986632 0.17347381 0.89422217 0.52632766 0.60719248]\n",
      " [0.59049132 0.59534881 0.36297217 0.68257766 0.31031748]\n",
      " [0.65299132 0.93909881 0.26922217 0.40132766 0.18531748]]\n"
     ]
    }
   ],
   "source": [
    "dnet = qp.DigitalNetB2(generating_matrices= genseed,seed=seed,dimension = 5,randomize='DS')\n",
    "print(dnet)\n",
    "x = dnet.gen_samples(8,warn=False)\n",
    "print(x)"
   ]
  },
  {
   "cell_type": "code",
   "execution_count": 7,
   "metadata": {},
   "outputs": [
    {
     "data": {
      "text/plain": [
       "array([[0.40903903, 0.52081583, 0.34458808, 0.0379708 , 0.63803439],\n",
       "       [0.78181288, 0.35844894, 0.55126612, 0.99863014, 0.27763404],\n",
       "       [0.24451157, 0.22277571, 0.93884728, 0.54375734, 0.78881561],\n",
       "       [0.6173461 , 0.90455178, 0.14626132, 0.48898147, 0.17838952],\n",
       "       [0.30872313, 0.41829054, 0.03693177, 0.23779469, 0.53426219],\n",
       "       [0.93594844, 0.70902195, 0.86080111, 0.79294307, 0.42383329],\n",
       "       [0.09825122, 0.84092602, 0.62931795, 0.74383204, 0.88471231],\n",
       "       [0.72541561, 0.03835378, 0.45391566, 0.28304357, 0.02431869]])"
      ]
     },
     "execution_count": 7,
     "metadata": {},
     "output_type": "execute_result"
    }
   ],
   "source": [
    "dnetcomp = qp.DigitalNetB2(dimension=5,seed=seed)\n",
    "dnetcomp.gen_samples(8)"
   ]
  },
  {
   "attachments": {},
   "cell_type": "markdown",
   "metadata": {},
   "source": [
    "### Comparison between randomized digital net and default digital net "
   ]
  },
  {
   "cell_type": "code",
   "execution_count": 8,
   "metadata": {},
   "outputs": [],
   "source": [
    "dnet2 = qp.DigitalNetB2(dimension = 2, generating_matrices= genseed, seed = seed)\n",
    "dnetcomp2 = qp.DigitalNetB2(dimension = 2, seed = seed)\n",
    "\n",
    "Randomized = dnet2.gen_samples(64)\n",
    "Default = dnetcomp2.gen_samples(64)"
   ]
  },
  {
   "cell_type": "code",
   "execution_count": 9,
   "metadata": {},
   "outputs": [
    {
     "data": {
      "image/png": "[encoded data removed]",
      "text/plain": [
       "<Figure size 640x480 with 1 Axes>"
      ]
     },
     "metadata": {},
     "output_type": "display_data"
    }
   ],
   "source": [
    "plt.plot(Randomized[:,0],Randomized[:,1],'ro',Default[:,0],Default[:,1],'b+')\n",
    "plt.xlabel(\"x-coordinate of generated points\")\n",
    "plt.ylabel(\"y-coordinate of generated points\")\n",
    "plt.title(\"Comparison between randomized digital net (red) and default digital net (blue)\")\n",
    "plt.show()"
   ]
  },
  {
   "cell_type": "code",
   "execution_count": 10,
   "metadata": {},
   "outputs": [
    {
     "data": {
      "image/png": "[encoded data removed]",
      "text/plain": [
       "<Figure size 640x480 with 1 Axes>"
      ]
     },
     "metadata": {},
     "output_type": "display_data"
    },
    {
     "data": {
      "image/png": "[encoded data removed]",
      "text/plain": [
       "<Figure size 640x480 with 1 Axes>"
      ]
     },
     "metadata": {},
     "output_type": "display_data"
    }
   ],
   "source": [
    "plt.plot(Randomized[:,0],Randomized[:,1],'ro')\n",
    "plt.xlabel(\"x-coordinate of generated points\")\n",
    "plt.ylabel(\"y-coordinate of generated points\")\n",
    "plt.show()\n",
    "plt.plot(Default[:,0],Default[:,1],'b+')\n",
    "plt.xlabel(\"x-coordinate of generated points\")\n",
    "plt.ylabel(\"y-coordinate of generated points\")\n",
    "plt.show()"
   ]
  },
  {
   "attachments": {},
   "cell_type": "markdown",
   "metadata": {},
   "source": [
    "### Bitwize representation of generating matrices"
   ]
  },
  {
   "cell_type": "code",
   "execution_count": null,
   "metadata": {},
   "outputs": [
    {
     "name": "stdout",
     "output_type": "stream",
     "text": [
      "s (scrambling_matrix)\n",
      "\n",
      "\ts[dvec[0]]\n",
      "\t\t1 0 0 0 0 0 0 0 0 0 0 0 0 0 0 0 0 0 0 0 0 0 0 0 0 0 0 0 0 0 0 0 \n",
      "\t\t1 1 0 0 0 0 0 0 0 0 0 0 0 0 0 0 0 0 0 0 0 0 0 0 0 0 0 0 0 0 0 0 \n",
      "\t\t0 0 1 0 0 0 0 0 0 0 0 0 0 0 0 0 0 0 0 0 0 0 0 0 0 0 0 0 0 0 0 0 \n",
      "\t\t0 0 0 1 0 0 0 0 0 0 0 0 0 0 0 0 0 0 0 0 0 0 0 0 0 0 0 0 0 0 0 0 \n",
      "\t\t1 0 0 1 1 0 0 0 0 0 0 0 0 0 0 0 0 0 0 0 0 0 0 0 0 0 0 0 0 0 0 0 \n",
      "\t\t0 0 1 1 1 1 0 0 0 0 0 0 0 0 0 0 0 0 0 0 0 0 0 0 0 0 0 0 0 0 0 0 \n",
      "\t\t0 1 0 1 1 1 1 0 0 0 0 0 0 0 0 0 0 0 0 0 0 0 0 0 0 0 0 0 0 0 0 0 \n",
      "\t\t0 0 0 0 0 1 0 1 0 0 0 0 0 0 0 0 0 0 0 0 0 0 0 0 0 0 0 0 0 0 0 0 \n",
      "\t\t1 0 1 0 0 1 1 0 1 0 0 0 0 0 0 0 0 0 0 0 0 0 0 0 0 0 0 0 0 0 0 0 \n",
      "\t\t0 0 1 1 0 1 1 0 1 1 0 0 0 0 0 0 0 0 0 0 0 0 0 0 0 0 0 0 0 0 0 0 \n",
      "\t\t1 0 1 1 0 0 1 0 0 1 1 0 0 0 0 0 0 0 0 0 0 0 0 0 0 0 0 0 0 0 0 0 \n",
      "\t\t1 1 0 0 1 1 0 0 1 1 0 1 0 0 0 0 0 0 0 0 0 0 0 0 0 0 0 0 0 0 0 0 \n",
      "\t\t0 0 0 1 1 0 1 1 0 0 1 0 1 0 0 0 0 0 0 0 0 0 0 0 0 0 0 0 0 0 0 0 \n",
      "\t\t0 0 1 1 0 0 0 1 0 1 1 0 1 1 0 0 0 0 0 0 0 0 0 0 0 0 0 0 0 0 0 0 \n",
      "\t\t1 0 1 0 0 0 0 1 0 1 0 1 1 0 1 0 0 0 0 0 0 0 0 0 0 0 0 0 0 0 0 0 \n",
      "\t\t0 0 1 1 0 0 0 0 1 0 0 1 0 0 1 1 0 0 0 0 0 0 0 0 0 0 0 0 0 0 0 0 \n",
      "\t\t0 0 1 0 0 0 1 0 1 1 1 0 0 1 0 0 1 0 0 0 0 0 0 0 0 0 0 0 0 0 0 0 \n",
      "\t\t0 0 0 0 0 1 1 1 1 1 0 0 0 0 0 1 0 1 0 0 0 0 0 0 0 0 0 0 0 0 0 0 \n",
      "\t\t1 0 0 1 1 0 0 0 1 1 0 0 1 0 1 0 0 1 1 0 0 0 0 0 0 0 0 0 0 0 0 0 \n",
      "\t\t1 1 0 1 0 1 0 1 0 1 1 1 1 1 1 0 1 1 1 1 0 0 0 0 0 0 0 0 0 0 0 0 \n",
      "\t\t0 0 0 0 1 1 1 0 1 1 0 0 0 0 0 0 1 0 0 0 1 0 0 0 0 0 0 0 0 0 0 0 \n",
      "\t\t1 1 1 1 0 0 0 1 0 0 1 1 0 0 0 0 1 0 0 0 1 1 0 0 0 0 0 0 0 0 0 0 \n",
      "\t\t0 0 1 1 0 0 1 1 1 1 1 0 1 1 1 1 1 1 1 0 1 1 1 0 0 0 0 0 0 0 0 0 \n",
      "\t\t1 1 1 1 0 1 0 0 1 1 0 1 1 0 0 1 1 1 1 1 1 0 1 1 0 0 0 0 0 0 0 0 \n",
      "\t\t0 0 1 1 1 0 1 0 1 0 1 0 0 1 1 0 0 0 0 1 0 1 1 0 1 0 0 0 0 0 0 0 \n",
      "\t\t1 0 0 0 1 0 1 0 1 0 1 1 1 0 0 1 1 1 1 0 1 0 0 1 1 1 0 0 0 0 0 0 \n",
      "\t\t0 0 1 0 0 0 1 0 1 1 1 1 1 1 0 1 0 1 0 1 1 0 0 1 0 1 1 0 0 0 0 0 \n",
      "\t\t1 0 0 0 0 0 0 1 1 0 0 1 1 0 0 1 0 0 0 0 1 1 1 1 1 0 0 1 0 0 0 0 \n",
      "\t\t1 1 0 0 0 0 0 0 1 0 0 1 0 0 0 0 1 0 0 1 1 1 0 0 0 1 0 1 1 0 0 0 \n",
      "\t\t0 1 0 1 0 1 1 1 1 0 1 1 0 1 1 1 0 0 1 1 1 0 0 1 0 1 1 0 0 1 0 0 \n",
      "\t\t1 1 0 1 1 0 0 0 0 1 0 1 0 0 1 1 0 0 0 1 0 0 1 1 1 0 1 0 1 0 1 0 \n",
      "\t\t0 1 1 1 0 0 0 1 1 1 0 0 0 0 0 0 0 0 1 1 1 0 0 0 1 0 1 0 0 1 1 1 \n",
      "\t\t1 0 0 1 0 0 0 0 0 0 0 0 1 1 0 0 0 1 1 1 0 1 0 1 0 0 0 1 0 0 0 1 \n",
      "\t\t0 1 0 1 1 0 1 0 0 0 1 1 0 0 0 0 0 0 0 0 1 0 0 0 1 1 0 0 1 0 1 1 \n",
      "\t\t0 0 0 0 1 1 0 0 0 1 0 1 1 0 1 1 0 1 0 1 0 0 1 1 0 1 1 1 0 0 1 0 \n",
      "\t\t0 1 1 0 1 1 0 1 0 1 0 1 1 0 0 1 1 1 0 0 1 1 1 0 0 1 0 1 0 0 0 1 \n",
      "\t\t1 0 1 1 0 1 1 0 1 0 0 0 1 1 0 0 1 1 0 1 0 1 1 1 0 0 1 0 0 0 0 1 \n",
      "\t\t0 0 0 1 0 1 0 1 1 1 0 1 0 0 0 1 0 0 0 1 0 1 1 0 0 1 1 1 0 0 0 1 \n",
      "\t\t1 1 0 0 1 1 1 1 0 1 0 1 0 0 0 1 0 1 1 0 0 1 0 0 0 0 1 0 1 1 1 1 \n",
      "\t\t0 0 0 0 0 0 0 1 1 0 0 1 1 1 0 0 0 0 1 1 1 1 0 1 0 0 1 0 1 0 1 1 \n",
      "\t\t1 1 0 1 1 0 1 0 1 0 0 1 0 1 0 1 0 0 0 0 1 0 1 1 1 0 0 0 1 1 0 0 \n",
      "\t\t1 1 1 1 0 1 1 1 1 1 1 0 1 0 1 1 0 1 1 1 1 0 1 1 0 1 0 0 1 1 1 1 \n",
      "\t\t1 1 0 0 1 1 1 0 0 0 0 0 0 1 0 0 0 0 1 0 1 1 1 1 0 1 0 0 0 1 0 1 \n",
      "\t\t0 0 1 1 0 1 0 1 0 0 1 1 1 1 1 0 1 1 0 1 1 1 1 1 1 0 0 0 1 0 1 0 \n",
      "\t\t1 0 0 1 1 1 0 1 1 1 1 1 1 0 1 1 0 1 1 1 0 0 1 1 1 0 1 0 1 0 1 0 \n",
      "\t\t0 0 1 1 0 0 1 0 1 1 1 1 0 1 0 0 0 1 0 0 1 0 0 1 0 0 0 1 1 0 0 1 \n",
      "\t\t0 0 0 1 1 1 1 1 1 0 1 1 1 0 0 1 0 1 0 0 0 1 1 1 1 0 1 0 1 1 1 0 \n",
      "\t\t0 0 0 0 1 0 0 1 1 0 1 0 0 1 0 1 0 1 0 0 1 0 0 0 0 1 1 0 0 1 1 1 \n",
      "\t\t0 0 1 0 1 0 1 1 0 0 0 0 1 0 0 0 0 1 0 0 0 0 1 0 1 0 0 1 0 0 0 0 \n",
      "\t\t1 0 0 0 0 0 1 1 1 1 1 1 1 0 1 0 1 0 1 1 1 1 1 1 0 0 0 0 1 1 1 1 \n",
      "\t\t1 0 0 1 0 1 0 1 0 1 1 0 1 1 1 0 0 1 0 1 1 1 0 0 1 1 0 0 0 1 1 0 \n",
      "\t\t0 0 1 1 0 0 1 0 1 1 1 1 0 0 0 1 0 1 0 1 1 1 0 1 0 0 0 0 1 1 1 0 \n",
      "\t\t1 0 0 1 1 0 0 1 1 1 0 0 1 1 0 1 1 0 0 0 0 0 0 1 0 1 0 1 1 1 1 0 \n",
      "\t\t0 0 1 1 1 1 0 0 0 1 1 1 1 0 1 1 0 1 1 1 0 1 0 1 1 0 1 0 1 1 1 1 \n",
      "\t\t0 1 0 1 1 0 1 1 0 0 0 0 0 1 1 0 0 0 0 1 0 1 1 1 0 0 0 1 1 1 0 0 \n",
      "\t\t0 1 1 0 1 0 0 0 0 0 0 1 1 0 0 0 1 1 0 1 1 1 1 0 0 0 1 1 0 1 0 1 \n",
      "\t\t0 1 0 1 0 0 1 1 1 0 1 0 1 1 0 0 1 1 0 1 1 0 0 1 0 0 0 1 1 0 0 1 \n",
      "\t\t1 0 1 0 1 0 1 1 0 0 1 1 1 1 0 0 0 0 0 0 1 1 0 1 0 0 1 1 1 0 0 0 \n",
      "\t\t1 1 1 1 0 0 1 1 1 1 1 0 1 0 0 1 1 0 0 1 1 1 0 0 1 1 1 0 0 1 0 1 \n",
      "\t\t1 0 0 1 0 1 1 1 1 1 1 1 1 1 0 1 0 1 1 1 1 0 1 1 0 1 0 1 1 0 1 1 \n",
      "\t\t1 0 0 0 1 0 0 1 1 1 0 1 1 0 0 0 0 1 1 1 0 1 1 0 1 1 0 0 1 1 0 1 \n",
      "\t\t0 1 0 0 1 1 0 0 1 0 0 1 1 0 1 1 1 0 0 1 1 1 0 1 1 0 1 1 1 0 0 1 \n",
      "\t\t1 0 0 1 0 0 0 1 1 1 0 0 0 1 0 0 0 1 1 1 1 1 0 1 0 0 1 0 1 1 1 0 \n",
      "\t\t0 1 1 0 0 1 1 1 0 0 0 1 1 1 0 1 0 1 0 0 0 0 0 0 1 0 0 0 0 1 0 0 \n",
      "\t\t\n",
      "\ts[dvec[1]]\n",
      "\t\t1 0 0 0 0 0 0 0 0 0 0 0 0 0 0 0 0 0 0 0 0 0 0 0 0 0 0 0 0 0 0 0 \n",
      "\t\t0 1 0 0 0 0 0 0 0 0 0 0 0 0 0 0 0 0 0 0 0 0 0 0 0 0 0 0 0 0 0 0 \n",
      "\t\t0 0 1 0 0 0 0 0 0 0 0 0 0 0 0 0 0 0 0 0 0 0 0 0 0 0 0 0 0 0 0 0 \n",
      "\t\t0 1 0 1 0 0 0 0 0 0 0 0 0 0 0 0 0 0 0 0 0 0 0 0 0 0 0 0 0 0 0 0 \n",
      "\t\t0 0 0 1 1 0 0 0 0 0 0 0 0 0 0 0 0 0 0 0 0 0 0 0 0 0 0 0 0 0 0 0 \n",
      "\t\t0 0 1 0 0 1 0 0 0 0 0 0 0 0 0 0 0 0 0 0 0 0 0 0 0 0 0 0 0 0 0 0 \n",
      "\t\t1 1 0 1 1 1 1 0 0 0 0 0 0 0 0 0 0 0 0 0 0 0 0 0 0 0 0 0 0 0 0 0 \n",
      "\t\t1 0 1 0 0 0 0 1 0 0 0 0 0 0 0 0 0 0 0 0 0 0 0 0 0 0 0 0 0 0 0 0 \n",
      "\t\t1 1 0 1 0 1 0 1 1 0 0 0 0 0 0 0 0 0 0 0 0 0 0 0 0 0 0 0 0 0 0 0 \n",
      "\t\t1 0 0 0 0 0 1 1 1 1 0 0 0 0 0 0 0 0 0 0 0 0 0 0 0 0 0 0 0 0 0 0 \n",
      "\t\t1 0 1 1 0 1 1 0 0 0 1 0 0 0 0 0 0 0 0 0 0 0 0 0 0 0 0 0 0 0 0 0 \n",
      "\t\t0 1 1 1 1 0 1 1 0 1 0 1 0 0 0 0 0 0 0 0 0 0 0 0 0 0 0 0 0 0 0 0 \n",
      "\t\t0 1 1 1 0 1 0 0 1 0 0 0 1 0 0 0 0 0 0 0 0 0 0 0 0 0 0 0 0 0 0 0 \n",
      "\t\t0 0 1 0 0 0 1 1 1 0 1 0 0 1 0 0 0 0 0 0 0 0 0 0 0 0 0 0 0 0 0 0 \n",
      "\t\t1 0 0 0 0 0 1 0 1 0 0 1 1 0 1 0 0 0 0 0 0 0 0 0 0 0 0 0 0 0 0 0 \n",
      "\t\t1 0 0 1 0 1 1 1 0 0 1 1 0 0 1 1 0 0 0 0 0 0 0 0 0 0 0 0 0 0 0 0 \n",
      "\t\t1 1 1 0 1 0 0 1 0 1 0 0 1 1 0 1 1 0 0 0 0 0 0 0 0 0 0 0 0 0 0 0 \n",
      "\t\t0 0 0 0 1 0 0 0 0 1 0 1 0 0 0 0 0 1 0 0 0 0 0 0 0 0 0 0 0 0 0 0 \n",
      "\t\t0 1 1 0 1 0 0 0 0 1 1 0 0 1 1 0 1 1 1 0 0 0 0 0 0 0 0 0 0 0 0 0 \n",
      "\t\t0 1 0 0 1 0 0 1 1 0 1 1 0 0 1 1 0 0 1 1 0 0 0 0 0 0 0 0 0 0 0 0 \n",
      "\t\t0 0 1 0 1 0 0 1 1 1 1 0 1 1 1 1 0 1 1 0 1 0 0 0 0 0 0 0 0 0 0 0 \n",
      "\t\t1 0 1 1 1 0 0 1 1 0 0 0 0 1 1 1 1 1 1 0 0 1 0 0 0 0 0 0 0 0 0 0 \n",
      "\t\t1 0 1 0 0 0 0 0 1 1 1 1 0 1 0 1 0 0 0 0 0 0 1 0 0 0 0 0 0 0 0 0 \n",
      "\t\t1 1 0 0 0 1 1 0 1 1 1 1 1 0 1 1 0 0 1 0 1 1 1 1 0 0 0 0 0 0 0 0 \n",
      "\t\t1 1 1 0 0 1 1 0 0 1 0 1 1 0 0 1 1 1 1 0 1 0 0 0 1 0 0 0 0 0 0 0 \n",
      "\t\t0 0 0 0 1 0 1 1 1 1 1 0 1 0 1 0 0 0 0 1 1 0 0 1 0 1 0 0 0 0 0 0 \n",
      "\t\t0 0 0 0 1 1 0 1 0 0 1 0 0 1 1 1 0 1 0 1 1 1 0 0 1 1 1 0 0 0 0 0 \n",
      "\t\t0 1 1 1 0 1 1 0 0 0 0 0 1 0 1 1 1 0 1 1 0 1 0 1 1 0 0 1 0 0 0 0 \n",
      "\t\t0 0 0 0 1 1 1 1 1 1 1 0 0 1 0 0 0 0 0 0 0 1 0 1 1 1 1 0 1 0 0 0 \n",
      "\t\t1 1 1 0 0 0 0 0 1 1 1 1 0 1 0 0 0 1 1 0 0 0 0 1 1 1 0 1 0 1 0 0 \n",
      "\t\t1 1 1 1 1 1 0 0 0 0 0 1 0 0 0 0 0 1 1 1 0 0 0 0 1 0 1 0 0 1 1 0 \n",
      "\t\t1 1 1 1 0 0 1 0 0 0 1 0 0 0 0 0 1 1 0 1 0 0 1 1 1 0 0 1 0 1 1 1 \n",
      "\t\t1 1 0 1 1 1 1 0 0 1 1 1 1 0 1 1 1 0 0 0 0 1 0 0 1 1 0 0 1 1 1 0 \n",
      "\t\t0 1 1 1 1 1 0 1 0 0 1 1 0 0 0 1 0 1 0 0 1 1 0 1 1 0 1 1 1 1 0 1 \n",
      "\t\t1 1 1 0 1 0 1 1 0 1 1 0 1 1 1 1 1 1 0 1 1 1 0 1 1 0 0 0 1 0 0 0 \n",
      "\t\t0 0 0 1 0 0 1 1 1 1 1 1 1 1 0 0 0 1 1 0 1 1 0 0 1 0 1 1 0 1 0 0 \n",
      "\t\t0 0 0 1 0 1 1 1 1 0 1 0 0 0 1 1 0 0 1 1 1 1 0 0 0 0 0 1 0 0 0 0 \n",
      "\t\t0 1 0 0 1 1 1 0 1 1 1 0 1 0 0 1 0 1 1 1 1 0 1 1 1 1 0 0 1 1 0 1 \n",
      "\t\t0 1 0 1 0 0 0 0 1 1 0 1 1 0 1 1 0 0 1 0 0 0 1 1 0 1 0 1 1 0 0 1 \n",
      "\t\t0 1 1 1 1 0 1 0 1 1 0 0 0 0 0 0 0 0 1 0 0 0 0 1 1 0 0 1 1 1 1 0 \n",
      "\t\t1 1 0 1 1 0 0 1 1 1 0 0 0 1 1 1 1 0 0 1 0 1 0 0 1 1 1 1 1 0 1 1 \n",
      "\t\t0 0 1 0 0 1 1 1 1 0 0 0 0 0 0 0 1 0 0 0 0 0 1 1 1 0 1 1 1 0 1 1 \n",
      "\t\t0 0 0 0 0 0 0 1 1 0 0 1 1 1 0 1 1 0 1 0 0 0 1 1 0 0 0 0 1 1 0 0 \n",
      "\t\t0 0 0 1 0 0 1 0 0 1 0 1 0 0 0 1 1 0 0 0 0 0 0 1 1 1 0 1 0 1 1 1 \n",
      "\t\t1 1 1 0 0 1 0 0 0 0 1 0 1 1 0 1 1 0 0 1 0 1 1 0 0 1 1 1 0 1 0 1 \n",
      "\t\t0 0 0 1 0 0 1 1 1 1 1 0 1 1 0 1 0 1 1 0 0 1 0 0 1 0 0 0 0 1 1 1 \n",
      "\t\t0 0 1 1 0 1 1 0 1 1 0 1 0 0 1 0 0 0 1 0 1 0 0 1 0 1 1 1 1 1 1 0 \n",
      "\t\t0 0 0 0 1 1 1 0 0 1 0 1 1 1 1 1 1 0 1 0 1 1 1 0 1 1 0 1 1 1 0 0 \n",
      "\t\t0 1 0 0 1 1 0 0 0 1 0 1 1 1 0 0 1 1 1 0 1 1 1 0 0 1 0 0 1 1 1 0 \n",
      "\t\t0 1 0 1 0 0 1 0 1 0 1 0 0 0 1 1 0 0 0 1 1 1 1 1 0 0 0 1 1 0 0 1 \n",
      "\t\t1 0 1 1 1 0 0 0 0 0 0 0 0 0 1 1 0 0 1 0 0 1 0 1 0 0 0 0 1 0 1 1 \n",
      "\t\t0 1 0 1 1 1 1 0 0 1 1 0 1 0 0 0 0 1 1 1 1 1 1 1 0 1 0 0 0 0 1 1 \n",
      "\t\t0 1 0 1 0 0 1 1 0 0 0 1 0 1 0 0 0 1 1 0 0 0 1 1 0 1 1 1 0 1 1 0 \n",
      "\t\t0 1 0 0 1 1 1 1 1 0 1 0 0 1 0 1 0 0 1 0 0 1 1 0 0 0 1 0 1 1 0 0 \n",
      "\t\t1 1 1 0 1 0 0 1 0 1 1 0 0 1 0 1 1 0 1 1 1 0 1 0 1 0 1 0 0 0 0 1 \n",
      "\t\t0 0 1 1 0 0 0 0 0 1 0 0 1 0 0 0 1 0 1 0 0 0 0 0 0 0 1 0 0 0 1 0 \n",
      "\t\t0 1 1 1 0 0 0 0 1 1 1 1 0 1 1 1 1 0 0 1 0 1 0 0 1 1 0 0 1 1 1 0 \n",
      "\t\t1 0 1 0 1 1 0 1 1 1 0 0 1 1 1 0 1 0 0 0 0 0 0 1 0 1 0 0 0 1 1 1 \n",
      "\t\t1 1 0 0 0 0 0 1 0 0 0 1 0 0 1 1 0 1 0 1 0 0 0 0 1 1 1 0 1 1 0 0 \n",
      "\t\t1 0 1 1 0 0 0 1 0 1 1 0 0 0 0 1 1 0 1 0 1 0 1 1 0 0 1 0 1 0 1 0 \n",
      "\t\t0 1 1 0 1 0 1 1 1 0 1 1 1 0 1 1 0 0 0 0 0 0 1 1 1 1 1 1 0 1 0 1 \n",
      "\t\t1 0 1 1 0 0 0 1 1 1 1 1 0 1 1 1 0 0 1 1 1 1 0 0 0 1 1 0 0 0 0 1 \n",
      "\t\t0 0 1 1 0 0 1 1 1 0 1 0 0 1 1 1 0 1 0 1 0 0 1 1 0 0 0 1 1 1 1 1 \n",
      "\t\t1 1 0 1 1 0 0 0 0 0 1 0 0 0 1 1 1 1 0 1 0 0 1 0 1 1 0 1 0 0 0 1 \n",
      "\t\t\n",
      "\n",
      "z\n",
      "\n",
      "\tz_og[dvec[0]] = [2147483648 1073741824  536870912  268435456  134217728   67108864\n",
      "   33554432   16777216    8388608    4194304    2097152    1048576\n",
      "     524288     262144     131072      65536      32768      16384\n",
      "       8192       4096       2048       1024        512        256\n",
      "        128         64         32         16          8          4\n",
      "          2          1]\n",
      "\t\t1 0 0 0 0 0 0 0 0 0 0 0 0 0 0 0 0 0 0 0 0 0 0 0 0 0 0 0 0 0 0 0 \n",
      "\t\t0 1 0 0 0 0 0 0 0 0 0 0 0 0 0 0 0 0 0 0 0 0 0 0 0 0 0 0 0 0 0 0 \n",
      "\t\t0 0 1 0 0 0 0 0 0 0 0 0 0 0 0 0 0 0 0 0 0 0 0 0 0 0 0 0 0 0 0 0 \n",
      "\t\t0 0 0 1 0 0 0 0 0 0 0 0 0 0 0 0 0 0 0 0 0 0 0 0 0 0 0 0 0 0 0 0 \n",
      "\t\t0 0 0 0 1 0 0 0 0 0 0 0 0 0 0 0 0 0 0 0 0 0 0 0 0 0 0 0 0 0 0 0 \n",
      "\t\t0 0 0 0 0 1 0 0 0 0 0 0 0 0 0 0 0 0 0 0 0 0 0 0 0 0 0 0 0 0 0 0 \n",
      "\t\t0 0 0 0 0 0 1 0 0 0 0 0 0 0 0 0 0 0 0 0 0 0 0 0 0 0 0 0 0 0 0 0 \n",
      "\t\t0 0 0 0 0 0 0 1 0 0 0 0 0 0 0 0 0 0 0 0 0 0 0 0 0 0 0 0 0 0 0 0 \n",
      "\t\t0 0 0 0 0 0 0 0 1 0 0 0 0 0 0 0 0 0 0 0 0 0 0 0 0 0 0 0 0 0 0 0 \n",
      "\t\t0 0 0 0 0 0 0 0 0 1 0 0 0 0 0 0 0 0 0 0 0 0 0 0 0 0 0 0 0 0 0 0 \n",
      "\t\t0 0 0 0 0 0 0 0 0 0 1 0 0 0 0 0 0 0 0 0 0 0 0 0 0 0 0 0 0 0 0 0 \n",
      "\t\t0 0 0 0 0 0 0 0 0 0 0 1 0 0 0 0 0 0 0 0 0 0 0 0 "
     ]
    },
    {
     "name": "stderr",
     "output_type": "stream",
     "text": [
      "/Users/zhangbocheng/QMCSoftware/qmcpy/discrete_distribution/digital_net_b2/digital_net_b2.py:307\n",
      "\tParameterWarning: Non-randomized DigitalNetB2 sequence includes the origin\n"
     ]
    },
    {
     "name": "stdout",
     "output_type": "stream",
     "text": [
      "0 0 0 0 0 0 0 0 \n",
      "\t\t0 0 0 0 0 0 0 0 0 0 0 0 1 0 0 0 0 0 0 0 0 0 0 0 0 0 0 0 0 0 0 0 \n",
      "\t\t0 0 0 0 0 0 0 0 0 0 0 0 0 1 0 0 0 0 0 0 0 0 0 0 0 0 0 0 0 0 0 0 \n",
      "\t\t0 0 0 0 0 0 0 0 0 0 0 0 0 0 1 0 0 0 0 0 0 0 0 0 0 0 0 0 0 0 0 0 \n",
      "\t\t0 0 0 0 0 0 0 0 0 0 0 0 0 0 0 1 0 0 0 0 0 0 0 0 0 0 0 0 0 0 0 0 \n",
      "\t\t0 0 0 0 0 0 0 0 0 0 0 0 0 0 0 0 1 0 0 0 0 0 0 0 0 0 0 0 0 0 0 0 \n",
      "\t\t0 0 0 0 0 0 0 0 0 0 0 0 0 0 0 0 0 1 0 0 0 0 0 0 0 0 0 0 0 0 0 0 \n",
      "\t\t0 0 0 0 0 0 0 0 0 0 0 0 0 0 0 0 0 0 1 0 0 0 0 0 0 0 0 0 0 0 0 0 \n",
      "\t\t0 0 0 0 0 0 0 0 0 0 0 0 0 0 0 0 0 0 0 1 0 0 0 0 0 0 0 0 0 0 0 0 \n",
      "\t\t0 0 0 0 0 0 0 0 0 0 0 0 0 0 0 0 0 0 0 0 1 0 0 0 0 0 0 0 0 0 0 0 \n",
      "\t\t0 0 0 0 0 0 0 0 0 0 0 0 0 0 0 0 0 0 0 0 0 1 0 0 0 0 0 0 0 0 0 0 \n",
      "\t\t0 0 0 0 0 0 0 0 0 0 0 0 0 0 0 0 0 0 0 0 0 0 1 0 0 0 0 0 0 0 0 0 \n",
      "\t\t0 0 0 0 0 0 0 0 0 0 0 0 0 0 0 0 0 0 0 0 0 0 0 1 0 0 0 0 0 0 0 0 \n",
      "\t\t0 0 0 0 0 0 0 0 0 0 0 0 0 0 0 0 0 0 0 0 0 0 0 0 1 0 0 0 0 0 0 0 \n",
      "\t\t0 0 0 0 0 0 0 0 0 0 0 0 0 0 0 0 0 0 0 0 0 0 0 0 0 1 0 0 0 0 0 0 \n",
      "\t\t0 0 0 0 0 0 0 0 0 0 0 0 0 0 0 0 0 0 0 0 0 0 0 0 0 0 1 0 0 0 0 0 \n",
      "\t\t0 0 0 0 0 0 0 0 0 0 0 0 0 0 0 0 0 0 0 0 0 0 0 0 0 0 0 1 0 0 0 0 \n",
      "\t\t0 0 0 0 0 0 0 0 0 0 0 0 0 0 0 0 0 0 0 0 0 0 0 0 0 0 0 0 1 0 0 0 \n",
      "\t\t0 0 0 0 0 0 0 0 0 0 0 0 0 0 0 0 0 0 0 0 0 0 0 0 0 0 0 0 0 1 0 0 \n",
      "\t\t0 0 0 0 0 0 0 0 0 0 0 0 0 0 0 0 0 0 0 0 0 0 0 0 0 0 0 0 0 0 1 0 \n",
      "\t\t0 0 0 0 0 0 0 0 0 0 0 0 0 0 0 0 0 0 0 0 0 0 0 0 0 0 0 0 0 0 0 1 \n",
      "\t\t\n",
      "\tz_og[dvec[1]] = [2147483648 3221225472 2684354560 4026531840 2281701376 3422552064\n",
      " 2852126720 4278190080 2155872256 3233808384 2694840320 4042260480\n",
      " 2290614272 3435921408 2863267840 4294901760 2147516416 3221274624\n",
      " 2684395520 4026593280 2281736192 3422604288 2852170240 4278255360\n",
      " 2155905152 3233857728 2694881440 4042322160 2290649224 3435973836\n",
      " 2863311530 4294967295]\n",
      "\t\t1 1 1 1 1 1 1 1 1 1 1 1 1 1 1 1 1 1 1 1 1 1 1 1 1 1 1 1 1 1 1 1 \n",
      "\t\t0 1 0 1 0 1 0 1 0 1 0 1 0 1 0 1 0 1 0 1 0 1 0 1 0 1 0 1 0 1 0 1 \n",
      "\t\t0 0 1 1 0 0 1 1 0 0 1 1 0 0 1 1 0 0 1 1 0 0 1 1 0 0 1 1 0 0 1 1 \n",
      "\t\t0 0 0 1 0 0 0 1 0 0 0 1 0 0 0 1 0 0 0 1 0 0 0 1 0 0 0 1 0 0 0 1 \n",
      "\t\t0 0 0 0 1 1 1 1 0 0 0 0 1 1 1 1 0 0 0 0 1 1 1 1 0 0 0 0 1 1 1 1 \n",
      "\t\t0 0 0 0 0 1 0 1 0 0 0 0 0 1 0 1 0 0 0 0 0 1 0 1 0 0 0 0 0 1 0 1 \n",
      "\t\t0 0 0 0 0 0 1 1 0 0 0 0 0 0 1 1 0 0 0 0 0 0 1 1 0 0 0 0 0 0 1 1 \n",
      "\t\t0 0 0 0 0 0 0 1 0 0 0 0 0 0 0 1 0 0 0 0 0 0 0 1 0 0 0 0 0 0 0 1 \n",
      "\t\t0 0 0 0 0 0 0 0 1 1 1 1 1 1 1 1 0 0 0 0 0 0 0 0 1 1 1 1 1 1 1 1 \n",
      "\t\t0 0 0 0 0 0 0 0 0 1 0 1 0 1 0 1 0 0 0 0 0 0 0 0 0 1 0 1 0 1 0 1 \n",
      "\t\t0 0 0 0 0 0 0 0 0 0 1 1 0 0 1 1 0 0 0 0 0 0 0 0 0 0 1 1 0 0 1 1 \n",
      "\t\t0 0 0 0 0 0 0 0 0 0 0 1 0 0 0 1 0 0 0 0 0 0 0 0 0 0 0 1 0 0 0 1 \n",
      "\t\t0 0 0 0 0 0 0 0 0 0 0 0 1 1 1 1 0 0 0 0 0 0 0 0 0 0 0 0 1 1 1 1 \n",
      "\t\t0 0 0 0 0 0 0 0 0 0 0 0 0 1 0 1 0 0 0 0 0 0 0 0 0 0 0 0 0 1 0 1 \n",
      "\t\t0 0 0 0 0 0 0 0 0 0 0 0 0 0 1 1 0 0 0 0 0 0 0 0 0 0 0 0 0 0 1 1 \n",
      "\t\t0 0 0 0 0 0 0 0 0 0 0 0 0 0 0 1 0 0 0 0 0 0 0 0 0 0 0 0 0 0 0 1 \n",
      "\t\t0 0 0 0 0 0 0 0 0 0 0 0 0 0 0 0 1 1 1 1 1 1 1 1 1 1 1 1 1 1 1 1 \n",
      "\t\t0 0 0 0 0 0 0 0 0 0 0 0 0 0 0 0 0 1 0 1 0 1 0 1 0 1 0 1 0 1 0 1 \n",
      "\t\t0 0 0 0 0 0 0 0 0 0 0 0 0 0 0 0 0 0 1 1 0 0 1 1 0 0 1 1 0 0 1 1 \n",
      "\t\t0 0 0 0 0 0 0 0 0 0 0 0 0 0 0 0 0 0 0 1 0 0 0 1 0 0 0 1 0 0 0 1 \n",
      "\t\t0 0 0 0 0 0 0 0 0 0 0 0 0 0 0 0 0 0 0 0 1 1 1 1 0 0 0 0 1 1 1 1 \n",
      "\t\t0 0 0 0 0 0 0 0 0 0 0 0 0 0 0 0 0 0 0 0 0 1 0 1 0 0 0 0 0 1 0 1 \n",
      "\t\t0 0 0 0 0 0 0 0 0 0 0 0 0 0 0 0 0 0 0 0 0 0 1 1 0 0 0 0 0 0 1 1 \n",
      "\t\t0 0 0 0 0 0 0 0 0 0 0 0 0 0 0 0 0 0 0 0 0 0 0 1 0 0 0 0 0 0 0 1 \n",
      "\t\t0 0 0 0 0 0 0 0 0 0 0 0 0 0 0 0 0 0 0 0 0 0 0 0 1 1 1 1 1 1 1 1 \n",
      "\t\t0 0 0 0 0 0 0 0 0 0 0 0 0 0 0 0 0 0 0 0 0 0 0 0 0 1 0 1 0 1 0 1 \n",
      "\t\t0 0 0 0 0 0 0 0 0 0 0 0 0 0 0 0 0 0 0 0 0 0 0 0 0 0 1 1 0 0 1 1 \n",
      "\t\t0 0 0 0 0 0 0 0 0 0 0 0 0 0 0 0 0 0 0 0 0 0 0 0 0 0 0 1 0 0 0 1 \n",
      "\t\t0 0 0 0 0 0 0 0 0 0 0 0 0 0 0 0 0 0 0 0 0 0 0 0 0 0 0 0 1 1 1 1 \n",
      "\t\t0 0 0 0 0 0 0 0 0 0 0 0 0 0 0 0 0 0 0 0 0 0 0 0 0 0 0 0 0 1 0 1 \n",
      "\t\t0 0 0 0 0 0 0 0 0 0 0 0 0 0 0 0 0 0 0 0 0 0 0 0 0 0 0 0 0 0 1 1 \n",
      "\t\t0 0 0 0 0 0 0 0 0 0 0 0 0 0 0 0 0 0 0 0 0 0 0 0 0 0 0 0 0 0 0 1 \n",
      "\t\t\n",
      "\n",
      "znew\n",
      "\tz[dvec[0]] = [14461680016433899642  4760327961689719717  2659243230953248097\n",
      "  2192469649996529330  1015606531584659276   563047828184245269\n",
      "   209640464530723569    76092892298078971    59087742223472830\n",
      "    33490175905266746    12550806051976432     5371657474430301\n",
      "     3997208913047037     1287135289486035      899976579802628\n",
      "      355649981193269      175131990182308      126859280889243\n",
      "       56373650408474       19446225205182       17030920368630\n",
      "        7252575680366        3926623175448        1609169788630\n",
      "         907321975853         465808992312         168292975974\n",
      "         106099411924          44088319710          21523300139\n",
      "          14551841810           8042923452]\n",
      "\t\t1 0 0 0 0 0 0 0 0 0 0 0 0 0 0 0 0 0 0 0 0 0 0 0 0 0 0 0 0 0 0 0 \n",
      "\t\t1 1 0 0 0 0 0 0 0 0 0 0 0 0 0 0 0 0 0 0 0 0 0 0 0 0 0 0 0 0 0 0 \n",
      "\t\t0 0 1 0 0 0 0 0 0 0 0 0 0 0 0 0 0 0 0 0 0 0 0 0 0 0 0 0 0 0 0 0 \n",
      "\t\t0 0 0 1 0 0 0 0 0 0 0 0 0 0 0 0 0 0 0 0 0 0 0 0 0 0 0 0 0 0 0 0 \n",
      "\t\t1 0 0 1 1 0 0 0 0 0 0 0 0 0 0 0 0 0 0 0 0 0 0 0 0 0 0 0 0 0 0 0 \n",
      "\t\t0 0 1 1 1 1 0 0 0 0 0 0 0 0 0 0 0 0 0 0 0 0 0 0 0 0 0 0 0 0 0 0 \n",
      "\t\t0 1 0 1 1 1 1 0 0 0 0 0 0 0 0 0 0 0 0 0 0 0 0 0 0 0 0 0 0 0 0 0 \n",
      "\t\t0 0 0 0 0 1 0 1 0 0 0 0 0 0 0 0 0 0 0 0 0 0 0 0 0 0 0 0 0 0 0 0 \n",
      "\t\t1 0 1 0 0 1 1 0 1 0 0 0 0 0 0 0 0 0 0 0 0 0 0 0 0 0 0 0 0 0 0 0 \n",
      "\t\t0 0 1 1 0 1 1 0 1 1 0 0 0 0 0 0 0 0 0 0 0 0 0 0 0 0 0 0 0 0 0 0 \n",
      "\t\t1 0 1 1 0 0 1 0 0 1 1 0 0 0 0 0 0 0 0 0 0 0 0 0 0 0 0 0 0 0 0 0 \n",
      "\t\t1 1 0 0 1 1 0 0 1 1 0 1 0 0 0 0 0 0 0 0 0 0 0 0 0 0 0 0 0 0 0 0 \n",
      "\t\t0 0 0 1 1 0 1 1 0 0 1 0 1 0 0 0 0 0 0 0 0 0 0 0 0 0 0 0 0 0 0 0 \n",
      "\t\t0 0 1 1 0 0 0 1 0 1 1 0 1 1 0 0 0 0 0 0 0 0 0 0 0 0 0 0 0 0 0 0 \n",
      "\t\t1 0 1 0 0 0 0 1 0 1 0 1 1 0 1 0 0 0 0 0 0 0 0 0 0 0 0 0 0 0 0 0 \n",
      "\t\t0 0 1 1 0 0 0 0 1 0 0 1 0 0 1 1 0 0 0 0 0 0 0 0 0 0 0 0 0 0 0 0 \n",
      "\t\t0 0 1 0 0 0 1 0 1 1 1 0 0 1 0 0 1 0 0 0 0 0 0 0 0 0 0 0 0 0 0 0 \n",
      "\t\t0 0 0 0 0 1 1 1 1 1 0 0 0 0 0 1 0 1 0 0 0 0 0 0 0 0 0 0 0 0 0 0 \n",
      "\t\t1 0 0 1 1 0 0 0 1 1 0 0 1 0 1 0 0 1 1 0 0 0 0 0 0 0 0 0 0 0 0 0 \n",
      "\t\t1 1 0 1 0 1 0 1 0 1 1 1 1 1 1 0 1 1 1 1 0 0 0 0 0 0 0 0 0 0 0 0 \n",
      "\t\t0 0 0 0 1 1 1 0 1 1 0 0 0 0 0 0 1 0 0 0 1 0 0 0 0 0 0 0 0 0 0 0 \n",
      "\t\t1 1 1 1 0 0 0 1 0 0 1 1 0 0 0 0 1 0 0 0 1 1 0 0 0 0 0 0 0 0 0 0 \n",
      "\t\t0 0 1 1 0 0 1 1 1 1 1 0 1 1 1 1 1 1 1 0 1 1 1 0 0 0 0 0 0 0 0 0 \n",
      "\t\t1 1 1 1 0 1 0 0 1 1 0 1 1 0 0 1 1 1 1 1 1 0 1 1 0 0 0 0 0 0 0 0 \n",
      "\t\t0 0 1 1 1 0 1 0 1 0 1 0 0 1 1 0 0 0 0 1 0 1 1 0 1 0 0 0 0 0 0 0 \n",
      "\t\t1 0 0 0 1 0 1 0 1 0 1 1 1 0 0 1 1 1 1 0 1 0 0 1 1 1 0 0 0 0 0 0 \n",
      "\t\t0 0 1 0 0 0 1 0 1 1 1 1 1 1 0 1 0 1 0 1 1 0 0 1 0 1 1 0 0 0 0 0 \n",
      "\t\t1 0 0 0 0 0 0 1 1 0 0 1 1 0 0 1 0 0 0 0 1 1 1 1 1 0 0 1 0 0 0 0 \n",
      "\t\t1 1 0 0 0 0 0 0 1 0 0 1 0 0 0 0 1 0 0 1 1 1 0 0 0 1 0 1 1 0 0 0 \n",
      "\t\t0 1 0 1 0 1 1 1 1 0 1 1 0 1 1 1 0 0 1 1 1 0 0 1 0 1 1 0 0 1 0 0 \n",
      "\t\t1 1 0 1 1 0 0 0 0 1 0 1 0 0 1 1 0 0 0 1 0 0 1 1 1 0 1 0 1 0 1 0 \n",
      "\t\t0 1 1 1 0 0 0 1 1 1 0 0 0 0 0 0 0 0 1 1 1 0 0 0 1 0 1 0 0 1 1 1 \n",
      "\t\t1 0 0 1 0 0 0 0 0 0 0 0 1 1 0 0 0 1 1 1 0 1 0 1 0 0 0 1 0 0 0 1 \n",
      "\t\t0 1 0 1 1 0 1 0 0 0 1 1 0 0 0 0 0 0 0 0 1 0 0 0 1 1 0 0 1 0 1 1 \n",
      "\t\t0 0 0 0 1 1 0 0 0 1 0 1 1 0 1 1 0 1 0 1 0 0 1 1 0 1 1 1 0 0 1 0 \n",
      "\t\t0 1 1 0 1 1 0 1 0 1 0 1 1 0 0 1 1 1 0 0 1 1 1 0 0 1 0 1 0 0 0 1 \n",
      "\t\t1 0 1 1 0 1 1 0 1 0 0 0 1 1 0 0 1 1 0 1 0 1 1 1 0 0 1 0 0 0 0 1 \n",
      "\t\t0 0 0 1 0 1 0 1 1 1 0 1 0 0 0 1 0 0 0 1 0 1 1 0 0 1 1 1 0 0 0 1 \n",
      "\t\t1 1 0 0 1 1 1 1 0 1 0 1 0 0 0 1 0 1 1 0 0 1 0 0 0 0 1 0 1 1 1 1 \n",
      "\t\t0 0 0 0 0 0 0 1 1 0 0 1 1 1 0 0 0 0 1 1 1 1 0 1 0 0 1 0 1 0 1 1 \n",
      "\t\t1 1 0 1 1 0 1 0 1 0 0 1 0 1 0 1 0 0 0 0 1 0 1 1 1 0 0 0 1 1 0 0 \n",
      "\t\t1 1 1 1 0 1 1 1 1 1 1 0 1 0 1 1 0 1 1 1 1 0 1 1 0 1 0 0 1 1 1 1 \n",
      "\t\t1 1 0 0 1 1 1 0 0 0 0 0 0 1 0 0 0 0 1 0 1 1 1 1 0 1 0 0 0 1 0 1 \n",
      "\t\t0 0 1 1 0 1 0 1 0 0 1 1 1 1 1 0 1 1 0 1 1 1 1 1 1 0 0 0 1 0 1 0 \n",
      "\t\t1 0 0 1 1 1 0 1 1 1 1 1 1 0 1 1 0 1 1 1 0 0 1 1 1 0 1 0 1 0 1 0 \n",
      "\t\t0 0 1 1 0 0 1 0 1 1 1 1 0 1 0 0 0 1 0 0 1 0 0 1 0 0 0 1 1 0 0 1 \n",
      "\t\t0 0 0 1 1 1 1 1 1 0 1 1 1 0 0 1 0 1 0 0 0 1 1 1 1 0 1 0 1 1 1 0 \n",
      "\t\t0 0 0 0 1 0 0 1 1 0 1 0 0 1 0 1 0 1 0 0 1 0 0 0 0 1 1 0 0 1 1 1 \n",
      "\t\t0 0 1 0 1 0 1 1 0 0 0 0 1 0 0 0 0 1 0 0 0 0 1 0 1 0 0 1 0 0 0 0 \n",
      "\t\t1 0 0 0 0 0 1 1 1 1 1 1 1 0 1 0 1 0 1 1 1 1 1 1 0 0 0 0 1 1 1 1 \n",
      "\t\t1 0 0 1 0 1 0 1 0 1 1 0 1 1 1 0 0 1 0 1 1 1 0 0 1 1 0 0 0 1 1 0 \n",
      "\t\t0 0 1 1 0 0 1 0 1 1 1 1 0 0 0 1 0 1 0 1 1 1 0 1 0 0 0 0 1 1 1 0 \n",
      "\t\t1 0 0 1 1 0 0 1 1 1 0 0 1 1 0 1 1 0 0 0 0 0 0 1 0 1 0 1 1 1 1 0 \n",
      "\t\t0 0 1 1 1 1 0 0 0 1 1 1 1 0 1 1 0 1 1 1 0 1 0 1 1 0 1 0 1 1 1 1 \n",
      "\t\t0 1 0 1 1 0 1 1 0 0 0 0 0 1 1 0 0 0 0 1 0 1 1 1 0 0 0 1 1 1 0 0 \n",
      "\t\t0 1 1 0 1 0 0 0 0 0 0 1 1 0 0 0 1 1 0 1 1 1 1 0 0 0 1 1 0 1 0 1 \n",
      "\t\t0 1 0 1 0 0 1 1 1 0 1 0 1 1 0 0 1 1 0 1 1 0 0 1 0 0 0 1 1 0 0 1 \n",
      "\t\t1 0 1 0 1 0 1 1 0 0 1 1 1 1 0 0 0 0 0 0 1 1 0 1 0 0 1 1 1 0 0 0 \n",
      "\t\t1 1 1 1 0 0 1 1 1 1 1 0 1 0 0 1 1 0 0 1 1 1 0 0 1 1 1 0 0 1 0 1 \n",
      "\t\t1 0 0 1 0 1 1 1 1 1 1 1 1 1 0 1 0 1 1 1 1 0 1 1 0 1 0 1 1 0 1 1 \n",
      "\t\t1 0 0 0 1 0 0 1 1 1 0 1 1 0 0 0 0 1 1 1 0 1 1 0 1 1 0 0 1 1 0 1 \n",
      "\t\t0 1 0 0 1 1 0 0 1 0 0 1 1 0 1 1 1 0 0 1 1 1 0 1 1 0 1 1 1 0 0 1 \n",
      "\t\t1 0 0 1 0 0 0 1 1 1 0 0 0 1 0 0 0 1 1 1 1 1 0 1 0 0 1 0 1 1 1 0 \n",
      "\t\t0 1 1 0 0 1 1 1 0 0 0 1 1 1 0 1 0 1 0 0 0 0 0 0 1 0 0 0 0 1 0 0 \n",
      "\t\t\n",
      "\tz[dvec[1]] = [ 9503588655265489525 15094718019600973020 12024374682049446315\n",
      " 17221374188839544469  9940425061532537916 15979558455216889557\n",
      " 12590046557427264488 16277694557693794024  9452379193778005691\n",
      " 15124708851341929414 11976211813762601978 17173915326313836476\n",
      "  9887632580474454458 15947836427282880065 12563429025039517726\n",
      " 16231507017399125535  9503478216085578148 15094938017707452206\n",
      " 12024523145049029998 17221335371406528724  9940524770622948857\n",
      " 15979351119159223223 12589891121546582818 16277442413077897336\n",
      "  9452278151095969731 15124506422441847408 11976360737840374442\n",
      " 17174166845656106126  9887442662209812068 15948051734289111359\n",
      " 12563590893674588193 16231270014741368377]\n",
      "\t\t1 1 1 1 1 1 1 1 1 1 1 1 1 1 1 1 1 1 1 1 1 1 1 1 1 1 1 1 1 1 1 1 \n",
      "\t\t0 1 0 1 0 1 0 1 0 1 0 1 0 1 0 1 0 1 0 1 0 1 0 1 0 1 0 1 0 1 0 1 \n",
      "\t\t0 0 1 1 0 0 1 1 0 0 1 1 0 0 1 1 0 0 1 1 0 0 1 1 0 0 1 1 0 0 1 1 \n",
      "\t\t0 1 0 0 0 1 0 0 0 1 0 0 0 1 0 0 0 1 0 0 0 1 0 0 0 1 0 0 0 1 0 0 \n",
      "\t\t0 0 0 1 1 1 1 0 0 0 0 1 1 1 1 0 0 0 0 1 1 1 1 0 0 0 0 1 1 1 1 0 \n",
      "\t\t0 0 1 1 0 1 1 0 0 0 1 1 0 1 1 0 0 0 1 1 0 1 1 0 0 0 1 1 0 1 1 0 \n",
      "\t\t1 0 1 1 0 0 1 0 1 0 1 1 0 0 1 0 1 0 1 1 0 0 1 0 1 0 1 1 0 0 1 0 \n",
      "\t\t1 1 0 0 1 1 0 1 1 1 0 0 1 1 0 1 1 1 0 0 1 1 0 1 1 1 0 0 1 1 0 1 \n",
      "\t\t1 0 1 1 1 1 1 1 0 1 0 0 0 0 0 0 1 0 1 1 1 1 1 1 0 1 0 0 0 0 0 0 \n",
      "\t\t1 1 1 1 1 1 0 1 0 1 0 1 0 1 1 1 1 1 1 1 1 1 0 1 0 1 0 1 0 1 1 1 \n",
      "\t\t1 1 0 1 1 0 1 1 1 1 1 0 1 0 0 0 1 1 0 1 1 0 1 1 1 1 1 0 1 0 0 0 \n",
      "\t\t0 1 1 1 1 0 1 0 0 0 1 1 1 1 1 0 0 1 1 1 1 0 1 0 0 0 1 1 1 1 1 0 \n",
      "\t\t0 1 1 1 0 0 1 0 1 0 0 0 0 0 1 0 0 1 1 1 0 0 1 0 1 0 0 0 0 0 1 0 \n",
      "\t\t0 0 1 1 0 0 0 1 1 1 1 1 1 0 0 0 0 0 1 1 0 0 0 1 1 1 1 1 1 0 0 0 \n",
      "\t\t1 1 1 1 1 1 0 0 0 0 0 1 1 1 1 0 1 1 1 1 1 1 0 0 0 0 0 1 1 1 1 0 \n",
      "\t\t1 1 1 0 1 0 0 1 1 1 0 0 1 0 0 1 1 1 1 0 1 0 0 1 1 1 0 0 1 0 0 1 \n",
      "\t\t1 0 0 1 0 1 1 1 1 1 0 0 1 0 0 1 0 1 1 0 1 0 0 0 0 0 1 1 0 1 1 0 \n",
      "\t\t0 0 0 0 1 1 1 1 0 1 0 0 1 0 1 1 0 1 0 1 1 0 1 0 0 0 0 1 1 1 1 0 \n",
      "\t\t0 1 1 0 1 0 0 1 0 0 0 0 1 0 0 1 1 1 1 1 0 0 0 0 1 0 0 1 0 0 0 0 \n",
      "\t\t0 1 0 1 1 0 1 1 1 0 0 0 0 1 0 0 0 1 1 1 1 0 0 1 1 0 1 0 0 1 1 0 \n",
      "\t\t0 0 1 1 1 1 0 1 1 0 1 0 1 1 0 0 0 1 0 1 0 1 0 0 1 1 0 0 0 1 0 1 \n",
      "\t\t1 1 0 1 0 0 1 1 0 0 1 0 1 0 1 1 0 1 0 0 1 1 1 1 1 0 1 1 0 1 1 1 \n",
      "\t\t1 1 0 0 1 1 0 0 0 1 0 0 0 0 0 0 1 1 0 0 1 1 1 1 0 1 0 0 0 0 1 1 \n",
      "\t\t1 0 1 0 1 1 0 0 0 0 1 0 1 0 0 1 1 0 0 1 0 1 1 1 0 0 0 1 0 0 1 0 \n",
      "\t\t1 0 0 1 1 1 1 1 1 1 0 1 0 1 0 1 0 0 0 0 1 0 0 1 1 0 1 1 1 1 0 0 \n",
      "\t\t0 0 0 0 1 1 0 1 1 0 0 1 1 0 0 0 0 0 0 1 0 0 1 0 1 1 0 1 0 0 1 0 \n",
      "\t\t0 0 0 0 1 0 1 1 0 0 1 1 1 1 1 1 0 1 0 0 0 1 0 1 1 1 1 0 1 0 0 0 \n",
      "\t\t0 1 1 1 0 0 0 1 0 1 1 1 1 1 0 0 1 0 1 0 1 0 0 0 0 1 0 0 1 0 1 1 \n",
      "\t\t0 0 0 0 1 0 0 0 1 0 0 1 0 1 0 0 0 0 0 0 1 1 0 0 0 0 0 0 0 1 1 0 \n",
      "\t\t1 0 0 1 1 0 0 1 0 0 0 1 0 1 0 0 1 1 1 1 1 1 1 0 1 1 0 0 1 1 0 1 \n",
      "\t\t1 0 0 0 0 0 1 0 1 0 0 1 0 0 1 1 1 1 1 1 0 1 0 1 0 0 1 0 1 1 1 0 \n",
      "\t\t1 0 0 0 1 0 1 1 1 0 1 1 1 0 0 0 0 0 1 1 0 0 1 0 1 1 1 0 1 0 0 0 \n",
      "\t\t1 0 1 1 0 0 1 0 1 1 0 0 1 0 0 0 0 1 0 0 1 0 0 0 1 0 0 1 0 0 0 1 \n",
      "\t\t0 1 1 1 1 1 0 0 0 1 0 1 1 1 1 1 0 0 1 0 0 0 1 0 1 1 0 1 0 1 1 1 \n",
      "\t\t1 0 0 1 0 1 0 0 1 1 1 1 1 0 1 0 0 0 1 0 0 1 0 0 1 0 1 1 1 0 1 0 \n",
      "\t\t0 0 0 1 0 0 1 1 1 0 0 1 0 0 0 1 0 1 1 1 1 1 1 1 0 0 1 0 0 1 0 1 \n",
      "\t\t0 0 0 1 0 1 1 0 1 1 0 1 1 0 0 0 0 0 1 1 1 1 1 0 1 1 1 0 0 0 0 1 \n",
      "\t\t0 1 0 1 1 1 0 0 1 1 0 0 1 0 1 1 0 0 1 0 0 1 1 0 0 0 0 1 0 0 0 0 \n",
      "\t\t0 1 0 0 0 1 0 0 1 1 1 1 0 0 1 0 0 1 1 1 0 1 0 1 1 0 0 0 1 0 0 1 \n",
      "\t\t0 1 1 1 1 0 1 1 1 1 0 1 0 0 0 1 0 1 0 0 1 0 0 1 0 0 0 0 0 1 0 0 \n",
      "\t\t1 0 1 1 0 1 0 1 0 0 0 1 1 0 0 0 0 1 0 1 1 1 1 0 0 1 1 1 0 1 1 0 \n",
      "\t\t0 0 1 1 0 1 0 0 1 1 0 0 1 0 1 1 1 1 0 0 1 0 0 1 1 1 1 0 0 1 1 0 \n",
      "\t\t0 0 0 0 0 0 0 1 1 1 1 0 0 1 0 0 1 1 0 0 1 1 1 1 0 0 1 0 0 0 0 0 \n",
      "\t\t0 0 0 1 0 0 1 0 0 1 0 1 0 1 1 1 1 1 1 0 1 1 0 0 0 0 0 1 0 1 0 1 \n",
      "\t\t1 0 0 1 1 1 0 0 1 0 1 0 0 1 0 0 0 1 1 1 0 1 0 0 0 0 1 1 1 1 1 1 \n",
      "\t\t0 0 0 1 0 0 1 1 1 0 0 0 0 0 0 1 0 1 1 1 0 0 0 0 0 0 0 1 1 0 1 0 \n",
      "\t\t0 0 1 0 0 1 0 0 1 0 0 1 1 1 0 0 0 0 0 1 1 0 0 1 1 1 0 1 1 1 1 1 \n",
      "\t\t0 0 0 0 1 0 0 1 0 1 0 0 0 1 0 1 1 1 0 0 1 1 0 0 0 0 1 1 0 0 0 1 \n",
      "\t\t0 1 0 1 1 1 1 1 0 0 0 1 0 0 0 1 1 1 0 0 1 1 1 1 1 1 0 1 1 1 0 1 \n",
      "\t\t0 1 0 0 0 1 1 1 1 0 0 0 1 0 0 1 0 1 0 1 1 1 1 0 1 0 0 0 1 1 1 1 \n",
      "\t\t1 1 0 1 0 0 1 0 1 1 0 1 0 0 0 0 1 1 1 0 0 1 0 1 1 1 1 0 1 0 1 0 \n",
      "\t\t0 1 0 0 1 1 0 1 0 0 1 0 0 1 0 0 0 0 1 1 0 0 1 0 0 0 0 0 1 1 0 0 \n",
      "\t\t0 1 0 0 0 1 1 0 0 1 0 1 0 0 1 0 0 0 1 0 0 0 1 0 0 1 0 0 0 1 1 1 \n",
      "\t\t0 1 0 1 1 1 0 1 1 0 0 1 0 1 0 1 0 1 1 0 1 0 0 0 1 0 0 1 1 0 0 1 \n",
      "\t\t1 0 0 1 0 1 1 1 1 1 1 1 0 1 0 1 0 1 0 0 0 1 1 0 1 1 1 0 1 0 0 1 \n",
      "\t\t0 0 1 0 0 0 1 0 0 1 1 1 1 0 0 0 1 1 1 0 1 1 1 0 1 0 0 0 0 1 0 0 \n",
      "\t\t0 1 1 1 0 1 1 1 1 1 1 1 1 0 0 0 1 0 0 1 1 1 0 0 1 0 1 1 0 0 0 0 \n",
      "\t\t1 1 0 0 0 1 1 1 0 1 1 0 0 1 0 0 0 0 1 1 1 0 0 1 1 1 0 0 1 0 0 0 \n",
      "\t\t1 0 1 0 1 0 1 1 1 0 1 1 1 0 0 0 1 1 1 0 1 1 1 1 0 1 1 0 1 1 1 1 \n",
      "\t\t1 1 0 1 1 1 0 0 1 0 1 1 1 0 1 1 0 0 0 1 1 1 0 1 0 1 0 0 0 1 0 1 \n",
      "\t\t0 1 1 0 1 0 1 1 1 0 1 1 1 0 1 1 0 1 1 0 1 0 0 1 0 0 1 1 0 1 0 1 \n",
      "\t\t1 1 0 1 1 1 0 0 0 1 0 1 0 0 1 1 1 1 1 1 0 1 0 0 0 0 0 1 1 1 0 0 \n",
      "\t\t0 0 1 0 0 0 0 0 1 1 1 0 1 0 1 1 0 1 1 0 0 1 1 0 1 0 1 1 0 1 0 0 \n",
      "\t\t1 0 1 1 0 1 0 0 1 0 0 0 0 1 0 1 0 0 0 0 1 1 0 0 1 0 0 0 0 1 1 1 \n",
      "\t\t\n",
      "x\n",
      "\t0.000  0.000  \n",
      "\t0.784  0.515  \n",
      "\t0.542  0.323  \n",
      "\t0.258  0.818  \n",
      "\t0.402  0.467  \n",
      "\t0.681  0.954  \n",
      "\t0.923  0.145  \n",
      "\t0.144  0.652  \n",
      "\t\n"
     ]
    }
   ],
   "source": [
    "from qmcpy.discrete_distribution.digital_net_b2 import DigitalNetB2\n",
    "from numpy import *\n",
    "small_sobol = array([[4,2,1],[4,6,5]],dtype=uint64)\n",
    "small_sobol_file = 'small_sobol.2.3.3.msb.npy'\n",
    "big_sobol_file = 'sobol_mat.21201.32.32.lsb.npy'\n",
    "save(small_sobol_file,small_sobol)\n",
    "dnet = DigitalNetB2(\n",
    "    dimension = [0,1],\n",
    "    randomize = 'LMS', # LMS_NO_SHIFT\n",
    "    graycode = True,\n",
    "    seed = 7,\n",
    "    generating_matrices = small_sobol_file,\n",
    "    t_lms = 64,\n",
    "    _verbose = True)\n",
    "# dnet = DigitalNetB2(\n",
    "#     seed=123,\n",
    "#     generating_matrices=675234567,\n",
    "#     dimension= 2\n",
    "# )\n",
    "x = dnet.gen_samples(\n",
    "    n_min = 0,\n",
    "    n_max = 2**3,\n",
    "    warn = True,\n",
    "    return_unrandomized = False)\n",
    "print(\"\\n\\nz\")\n",
    "for j in range(dnet.d):\n",
    "    dim = dnet.dvec[j]\n",
    "    print('\\n\\tz_og[dvec[%d]] = %s\\n\\t\\t'%(j,dnet.z_og[j]),end='',flush=True)\n",
    "    for t in range(dnet.t_max):\n",
    "        mask = array(1<<(dnet.t_max-t-1), dtype=uint64)\n",
    "        for m in range(dnet.m_max):\n",
    "            bit = (mask & dnet.z_og[dim,m])>0\n",
    "            print(\"%-2d\"%bit,end='',flush=True)\n",
    "        print(\"\\n\\t\\t\",end='',flush=True)\n",
    "print(\"\\n\\nznew\",end='',flush=True)\n",
    "for j in range(dnet.d):\n",
    "    print('\\n\\tz[dvec[%d]] = %s\\n\\t\\t'%(j,dnet.z[j]),end='',flush=True)\n",
    "    for t in range(dnet.t_lms):\n",
    "        mask = array(1<<(dnet.t_lms-t-1), dtype=uint64)\n",
    "        for m in range(dnet.m_max):\n",
    "            bit = (mask & dnet.z[j,m])>0\n",
    "            print(\"%-2d\"%bit,end='',flush=True)\n",
    "        print(\"\\n\\t\\t\",end='',flush=True)\n",
    "print(\"\\nx\\n\\t\",end='',flush=True)\n",
    "for i in range(len(x)):\n",
    "    for j in range(dnet.d):\n",
    "        print(\"%-7.3f\"%x[i,j],end='',flush=True)\n",
    "    print(\"\\n\\t\",end='',flush=True)\n",
    "print()\n",
    "import os; os.remove(small_sobol_file)"
   ]
  },
  {
   "attachments": {},
   "cell_type": "markdown",
   "metadata": {},
   "source": [
    "## Integration"
   ]
  },
  {
   "attachments": {},
   "cell_type": "markdown",
   "metadata": {},
   "source": [
    "### Sample Integration  "
   ]
  },
  {
   "cell_type": "code",
   "execution_count": 11,
   "metadata": {},
   "outputs": [
    {
     "name": "stdout",
     "output_type": "stream",
     "text": [
      "20\n"
     ]
    }
   ],
   "source": [
    "d = 2\n",
    "tol = 1e-3\n",
    "dnet = qp.DigitalNetB2(dimension = d, generating_matrices= genseed)\n",
    "print(dnet.m_max)\n",
    "gaussian_net = qp.Gaussian(dnet,mean = 0, covariance=1/2)\n",
    "dnetcomp = qp.DigitalNetB2(d)\n",
    "gaussian_net_comp = qp.Gaussian(dnetcomp,mean = 0,covariance = 1/2)\n"
   ]
  },
  {
   "cell_type": "code",
   "execution_count": 12,
   "metadata": {},
   "outputs": [
    {
     "name": "stdout",
     "output_type": "stream",
     "text": [
      "Integration data from a randomized digital net\n",
      "LDTransformData (AccumulateData Object)\n",
      "    solution        1.820\n",
      "    comb_bound_low  1.820\n",
      "    comb_bound_high 1.821\n",
      "    comb_flags      1\n",
      "    n_total         2^(12)\n",
      "    n               2^(12)\n",
      "    time_integrate  0.023\n",
      "CubQMCNetG (StoppingCriterion Object)\n",
      "    abs_tol         0.001\n",
      "    rel_tol         0\n",
      "    n_init          2^(10)\n",
      "    n_max           2^(35)\n",
      "Keister (Integrand Object)\n",
      "Gaussian (TrueMeasure Object)\n",
      "    mean            0\n",
      "    covariance      2^(-1)\n",
      "    decomp_type     PCA\n",
      "    transform       Gaussian (TrueMeasure Object)\n",
      "                       mean            0\n",
      "                       covariance      2^(-1)\n",
      "                       decomp_type     PCA\n",
      "DigitalNetB2 (DiscreteDistribution Object)\n",
      "    d               2^(1)\n",
      "    dvec            [0 1]\n",
      "    randomize       1\n",
      "    graycode        0\n",
      "    entropy         15742654432924664150616644726150028085\n",
      "    spawn_key       ()\n",
      "\n",
      "Integration data from the default digital net\n",
      "LDTransformData (AccumulateData Object)\n",
      "    solution        1.808\n",
      "    comb_bound_low  1.807\n",
      "    comb_bound_high 1.809\n",
      "    comb_flags      1\n",
      "    n_total         2^(12)\n",
      "    n               2^(12)\n",
      "    time_integrate  0.021\n",
      "CubQMCNetG (StoppingCriterion Object)\n",
      "    abs_tol         0.001\n",
      "    rel_tol         0\n",
      "    n_init          2^(10)\n",
      "    n_max           2^(35)\n",
      "Keister (Integrand Object)\n",
      "Gaussian (TrueMeasure Object)\n",
      "    mean            0\n",
      "    covariance      2^(-1)\n",
      "    decomp_type     PCA\n",
      "    transform       Gaussian (TrueMeasure Object)\n",
      "                       mean            0\n",
      "                       covariance      2^(-1)\n",
      "                       decomp_type     PCA\n",
      "DigitalNetB2 (DiscreteDistribution Object)\n",
      "    d               2^(1)\n",
      "    dvec            [0 1]\n",
      "    randomize       1\n",
      "    graycode        0\n",
      "    entropy         238873450872552850313555111705922660783\n",
      "    spawn_key       ()\n"
     ]
    }
   ],
   "source": [
    "solution_random,data_random = qp.CubQMCNetG(qp.Keister(gaussian_net),abs_tol = tol).integrate()\n",
    "solution_default,data_default = qp.CubQMCNetG(qp.Keister(gaussian_net_comp),abs_tol= tol).integrate()\n",
    "print(\"Integration data from a randomized digital net\")\n",
    "print(data_random)\n",
    "print(\"\\nIntegration data from the default digital net\")\n",
    "print(data_default)\n"
   ]
  },
  {
   "cell_type": "code",
   "execution_count": 13,
   "metadata": {},
   "outputs": [
    {
     "name": "stdout",
     "output_type": "stream",
     "text": [
      "Difference between randomized digital net results and exact answer 0\n",
      "Difference between default digital net results and exact answer 0\n"
     ]
    }
   ],
   "source": [
    "answer = qp.Keister(dnet).exact_integ(2)\n",
    "print(f\"Difference between randomized digital net results and exact answer {0}\".format(abs(answer-solution_random)))\n",
    "print(f\"Difference between default digital net results and exact answer {0}\".format(abs(answer-solution_default)))"
   ]
  },
  {
   "attachments": {},
   "cell_type": "markdown",
   "metadata": {},
   "source": [
    "### Error comparison between mean of means and median of means"
   ]
  },
  {
   "cell_type": "code",
   "execution_count": 14,
   "metadata": {},
   "outputs": [
    {
     "name": "stdout",
     "output_type": "stream",
     "text": [
      "0\n",
      "1\n",
      "2\n",
      "3\n",
      "4\n",
      "5\n",
      "6\n",
      "7\n",
      "8\n",
      "9\n",
      "10\n",
      "11\n",
      "12\n",
      "13\n",
      "14\n",
      "15\n",
      "16\n",
      "17\n",
      "18\n",
      "19\n",
      "20\n",
      "21\n",
      "22\n",
      "23\n",
      "24\n"
     ]
    },
    {
     "data": {
      "image/png": "[encoded data removed]",
      "text/plain": [
       "<Figure size 640x480 with 1 Axes>"
      ]
     },
     "metadata": {},
     "output_type": "display_data"
    }
   ],
   "source": [
    "#mean of means vs. median of means\n",
    "\n",
    "d = 2\n",
    "N_min = 6\n",
    "N_max = 18\n",
    "N_list = 2**np.arange(N_min,N_max)\n",
    "r = 11\n",
    "num_trials = 25\n",
    "\n",
    "\n",
    "error_median = np.zeros(N_max - N_min) \n",
    "error_mean = np.zeros(N_max - N_min) \n",
    "error_mean_onegen = np.zeros(N_max - N_min) \n",
    "for i in range(num_trials):\n",
    "    y_median = []\n",
    "    y_mean = []\n",
    "    y_mean_one_gen = []\n",
    "    print(i)\n",
    "    list_of_keister_objects_random = []\n",
    "    list_of_keister_objects_default = []\n",
    "    y_randomized_list = []\n",
    "    y_default_list = []\n",
    "    for k in range(r):\n",
    "        dnet = qp.DigitalNetB2(generating_matrices = genseed,dimension=d)\n",
    "        keister = qp.Keister(dnet)\n",
    "        list_of_keister_objects_random.append(keister)\n",
    "        x = keister.discrete_distrib.gen_samples(N_list.max())\n",
    "        y = keister.f(x)\n",
    "        y_randomized_list.append(y)\n",
    "        keister = qp.Keister(qp.DigitalNetB2(d))\n",
    "        list_of_keister_objects_default.append(keister)\n",
    "        x = keister.discrete_distrib.gen_samples(N_list.max())\n",
    "        y = keister.f(x)    \n",
    "        y_default_list.append(y) \n",
    "            \n",
    "    for N in N_list:\n",
    "\n",
    "        y_median.append(np.median([np.mean(y[:N]) for y in y_randomized_list]))\n",
    "        y_mean_one_gen.append(np.mean([np.mean(y[:N]) for y in y_default_list]))\n",
    "        y_mean.append(np.mean([np.mean(y[:N]) for y in y_randomized_list]))\n",
    "\n",
    "    answer = keister.exact_integ(d)\n",
    "    error_median += abs(answer-y_median)\n",
    "    error_mean += abs(answer-y_mean)\n",
    "    error_mean_onegen += abs(answer-y_mean_one_gen)\n",
    "\n",
    "error_median /= num_trials\n",
    "error_mean /= num_trials\n",
    "error_mean_onegen /= num_trials\n",
    "\n",
    "plt.loglog(N_list,error_median,label = \"median of means\")\n",
    "plt.loglog(N_list,error_mean,label = \"mean of means\")\n",
    "plt.loglog(N_list,error_mean_onegen,label = \"mean of random shifts\")\n",
    "plt.xlabel(\"sample size\")\n",
    "plt.ylabel(\"error\")\n",
    "plt.title(\"Comparison of lattice generators\")\n",
    "plt.legend()\n",
    "plt.savefig(\"./meanvsmedian.png\")\n",
    "\n"
   ]
  },
  {
   "attachments": {},
   "cell_type": "markdown",
   "metadata": {},
   "source": [
    "## Exploration"
   ]
  },
  {
   "cell_type": "code",
   "execution_count": 19,
   "metadata": {},
   "outputs": [],
   "source": [
    "import numpy as np\n",
    "\n",
    "t1 =5 \n",
    "t_max = 16\n",
    "\n",
    "u = np.random.randint(low=0, high=1<<t1, size=1, dtype='uint64')\n",
    "u <<= (t_max-t1)"
   ]
  },
  {
   "cell_type": "code",
   "execution_count": 23,
   "metadata": {},
   "outputs": [
    {
     "data": {
      "text/plain": [
       "array([53248], dtype=uint64)"
      ]
     },
     "execution_count": 23,
     "metadata": {},
     "output_type": "execute_result"
    }
   ],
   "source": [
    "u"
   ]
  },
  {
   "cell_type": "code",
   "execution_count": 25,
   "metadata": {},
   "outputs": [
    {
     "data": {
      "text/plain": [
       "'0b1101000000000000'"
      ]
     },
     "execution_count": 25,
     "metadata": {},
     "output_type": "execute_result"
    }
   ],
   "source": [
    "bin(53248)"
   ]
  },
  {
   "cell_type": "code",
   "execution_count": null,
   "metadata": {},
   "outputs": [],
   "source": []
  }
 ],
 "metadata": {
  "kernelspec": {
   "display_name": "Python 3 (ipykernel)",
   "language": "python",
   "name": "python3"
  },
  "language_info": {
   "codemirror_mode": {
    "name": "ipython",
    "version": 3
   },
   "file_extension": ".py",
   "mimetype": "text/x-python",
   "name": "python",
   "nbconvert_exporter": "python",
   "pygments_lexer": "ipython3",
   "version": "3.9.13"
  }
 },
 "nbformat": 4,
 "nbformat_minor": 4
}
