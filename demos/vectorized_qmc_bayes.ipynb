{
 "cells": [
  {
   "cell_type": "markdown",
   "id": "ce064a42",
   "metadata": {},
   "source": [
    "# Vectorized QMC "
   ]
  },
  {
   "cell_type": "code",
   "execution_count": 1,
   "id": "484d4c41",
   "metadata": {},
   "outputs": [],
   "source": [
    "import qmcpy as qp\n",
    "import numpy as np"
   ]
  },
  {
   "cell_type": "code",
   "execution_count": 2,
   "id": "9bf10463",
   "metadata": {},
   "outputs": [],
   "source": [
    "from matplotlib import pyplot\n",
    "pyplot.style.use('../qmcpy.mplstyle')\n",
    "%matplotlib inline\n",
    "root = '../_ags/vec_qmc_out/'"
   ]
  },
  {
   "cell_type": "code",
   "execution_count": 3,
   "id": "79fb0ad0",
   "metadata": {},
   "outputs": [
    {
     "name": "stdout",
     "output_type": "stream",
     "text": [
      "Requirement already satisfied: scikit-learn in c:\\tools\\miniconda3\\envs\\qmcpy\\lib\\site-packages (1.1.3)\n",
      "Requirement already satisfied: threadpoolctl>=2.0.0 in c:\\tools\\miniconda3\\envs\\qmcpy\\lib\\site-packages (from scikit-learn) (3.1.0)\n",
      "Requirement already satisfied: scipy>=1.3.2 in c:\\tools\\miniconda3\\envs\\qmcpy\\lib\\site-packages (from scikit-learn) (1.9.3)\n",
      "Requirement already satisfied: numpy>=1.17.3 in c:\\tools\\miniconda3\\envs\\qmcpy\\lib\\site-packages (from scikit-learn) (1.23.4)\n",
      "Requirement already satisfied: joblib>=1.0.0 in c:\\tools\\miniconda3\\envs\\qmcpy\\lib\\site-packages (from scikit-learn) (1.2.0)\n"
     ]
    }
   ],
   "source": [
    "import os\n",
    "os.makedirs(root, exist_ok=True)\n",
    "\n",
    "!pip install scikit-learn"
   ]
  },
  {
   "cell_type": "markdown",
   "id": "728a1c89",
   "metadata": {},
   "source": [
    "## LD Sequence"
   ]
  },
  {
   "cell_type": "code",
   "execution_count": 4,
   "id": "fabaf64c",
   "metadata": {
    "scrolled": false
   },
   "outputs": [
    {
     "data": {
      "image/png": "[encoded data removed]",
      "text/plain": [
       "<Figure size 800x400 with 3 Axes>"
      ]
     },
     "metadata": {},
     "output_type": "display_data"
    }
   ],
   "source": [
    "n = 2**6\n",
    "s = 10\n",
    "fig,ax = pyplot.subplots(figsize=(8,4),nrows=1,ncols=3)\n",
    "for i,(dd,name) in enumerate(zip(\n",
    "    [qp.IIDStdUniform(2,seed=7),qp.DigitalNetB2(2,seed=7),qp.Lattice(2,seed=7)],\n",
    "    ['IID','Randomized Digital Net (LD)','Randomized Lattice (LD)'])):\n",
    "    pts = dd.gen_samples(n)\n",
    "    ax[i].scatter(pts[0:n//4,0],pts[0:n//4,1],color='k',marker='s',s=s)\n",
    "    ax[i].scatter(pts[n//4:n//2,0],pts[n//4:n//2,1],color='k',marker='o',s=s)\n",
    "    ax[i].scatter(pts[n//2:n,0],pts[n//2:n,1],color='k',marker='^',s=s)\n",
    "    ax[i].set_aspect(1)\n",
    "    ax[i].set_xlabel(r'$x_{1}$')\n",
    "    ax[i].set_ylabel(r'$x_{2}$')\n",
    "    ax[i].set_xlim([0,1])\n",
    "    ax[i].set_ylim([0,1])\n",
    "    ax[i].set_xticks([0,.25,.5,.75,1])\n",
    "    ax[i].set_xticklabels([r'$0$',r'$1/4$',r'$1/2$',r'$3/4$',r'$1$'])\n",
    "    ax[i].set_yticks([0,.25,.5,.75,1])\n",
    "    ax[i].set_yticklabels([r'$0$',r'$1/4$',r'$1/2$',r'$3/4$',r'$1$'])\n",
    "    ax[i].set_title(name)\n",
    "if root: fig.savefig(root+'ld_seqs.pdf',transparent=True)"
   ]
  },
  {
   "cell_type": "markdown",
   "id": "1aa7b935",
   "metadata": {},
   "source": [
    "## Simple Example"
   ]
  },
  {
   "cell_type": "code",
   "execution_count": 5,
   "id": "df5b8a1b",
   "metadata": {},
   "outputs": [
    {
     "name": "stdout",
     "output_type": "stream",
     "text": [
      "[2.42575885e+00 3.74999973e+04]\n"
     ]
    }
   ],
   "source": [
    "def cantilever_beam_function(T,compute_flags): # T is (n x 3)\n",
    "    Y = np.zeros((len(T),2),dtype=float) # (n x 2)\n",
    "    l,w,t = 100,4,2\n",
    "    T1,T2,T3 = T[:,0],T[:,1],T[:,2] # Python is indexed from 0\n",
    "    if compute_flags[0]: # compute D. x^2 is \"x**2\" in Python\n",
    "        Y[:,0] = 4*l**3/(T1*w*t)*np.sqrt(T2**2/t**4+T3**2/w**4)\n",
    "    if compute_flags[1]: # compute S\n",
    "        Y[:,1] = 600*(T2/(w*t**2)+T3/(w**2*t))\n",
    "    return Y\n",
    "true_measure = qp.Gaussian(\n",
    "    sampler = qp.DigitalNetB2(dimension=3,seed=7),\n",
    "    mean = [2.9e7,500,1000],\n",
    "    covariance = np.diag([(1.45e6)**2,(100)**2,(100)**2]))\n",
    "integrand = qp.CustomFun(true_measure,\n",
    "    g = cantilever_beam_function,\n",
    "    dimension_indv = 2)\n",
    "qmc_stop_crit = qp.CubBayesNetG(integrand,\n",
    "    abs_tol = 1e-3,\n",
    "    rel_tol = 1e-6)\n",
    "solution,data = qmc_stop_crit.integrate()\n",
    "print(solution)\n",
    "# [2.42575885e+00 3.74999973e+04]"
   ]
  },
  {
   "cell_type": "markdown",
   "id": "4573dad8",
   "metadata": {},
   "source": [
    "## BO QEI\n",
    "\n",
    "See the [QEI Demo in QMCPy](https://qmcpy.readthedocs.io/en/latest/demo_rst/qei-demo-for-blog.html) or the [BoTorch Acquision documentation](https://botorch.org/docs/acquisition) for details on Bayesian Optimization using q-Expected Improvement."
   ]
  },
  {
   "cell_type": "code",
   "execution_count": 6,
   "id": "4a88842d",
   "metadata": {},
   "outputs": [
    {
     "name": "stderr",
     "output_type": "stream",
     "text": [
      "d:\\git-repos\\qmcsoftware\\qmcpy\\accumulate_data\\ld_transform_bayes_data.py:222\n",
      "\tRuntimeWarning: divide by zero encountered in log\n",
      "C:\\tools\\miniconda3\\envs\\qmcpy\\lib\\site-packages\\scipy\\optimize\\_optimize.py:2131\n",
      "\tRuntimeWarning: invalid value encountered in double_scalars\n",
      "C:\\tools\\miniconda3\\envs\\qmcpy\\lib\\site-packages\\scipy\\optimize\\_optimize.py:2132\n",
      "\tRuntimeWarning: invalid value encountered in double_scalars\n"
     ]
    },
    {
     "name": "stdout",
     "output_type": "stream",
     "text": [
      "LDTransformBayesData (AccumulateData Object)\n",
      "    solution        [[0.059 0.079 0.071 ... 0.059 0.059 0.066]\n",
      "                    [0.079 0.064 0.067 ... 0.064 0.064 0.07 ]\n",
      "                    [0.072 0.067 0.032 ... 0.032 0.032 0.038]\n",
      "                    ...\n",
      "                    [0.059 0.064 0.032 ... 0.    0.    0.006]\n",
      "                    [0.06  0.064 0.032 ... 0.    0.    0.006]\n",
      "                    [0.064 0.069 0.037 ... 0.006 0.006 0.006]]\n",
      "    comb_bound_low  [[ 5.659e-02  7.572e-02  6.764e-02 ...  5.647e-02  5.647e-02  6.252e-02]\n",
      "                    [ 7.553e-02  6.151e-02  6.433e-02 ...  6.149e-02  6.173e-02  6.691e-02]\n",
      "                    [ 6.814e-02  6.443e-02  3.076e-02 ...  3.086e-02  3.086e-02  3.616e-02]\n",
      "                    ...\n",
      "                    [ 5.659e-02  6.151e-02  3.071e-02 ... -2.220e-16  4.341e-05  4.142e-03]\n",
      "                    [ 5.700e-02  6.146e-02  3.077e-02 ...  5.235e-05 -2.220e-16  3.939e-03]\n",
      "                    [ 6.112e-02  6.595e-02  3.503e-02 ...  4.030e-03  3.668e-03  4.628e-03]]\n",
      "    comb_bound_high [[6.189e-02 8.222e-02 7.467e-02 ... 6.187e-02 6.187e-02 6.957e-02]\n",
      "                    [8.184e-02 6.586e-02 6.933e-02 ... 6.592e-02 6.669e-02 7.316e-02]\n",
      "                    [7.496e-02 6.935e-02 3.321e-02 ... 3.366e-02 3.366e-02 4.075e-02]\n",
      "                    ...\n",
      "                    [6.189e-02 6.586e-02 3.306e-02 ... 2.220e-16 5.695e-04 8.593e-03]\n",
      "                    [6.238e-02 6.563e-02 3.312e-02 ... 6.869e-04 2.220e-16 8.591e-03]\n",
      "                    [6.781e-02 7.199e-02 3.988e-02 ... 8.594e-03 8.541e-03 8.267e-03]]\n",
      "    comb_flags      [[ True  True  True ...  True  True  True]\n",
      "                    [ True  True  True ...  True  True  True]\n",
      "                    [ True  True  True ...  True  True  True]\n",
      "                    ...\n",
      "                    [ True  True  True ...  True  True  True]\n",
      "                    [ True  True  True ...  True  True  True]\n",
      "                    [ True  True  True ...  True  True  True]]\n",
      "    n_total         2^(8)\n",
      "    n               [[256. 256. 256. ... 256. 256. 256.]\n",
      "                    [256. 256. 256. ... 256. 256. 256.]\n",
      "                    [256. 256. 256. ... 256. 256. 256.]\n",
      "                    ...\n",
      "                    [256. 256. 256. ... 256. 256. 256.]\n",
      "                    [256. 256. 256. ... 256. 256. 256.]\n",
      "                    [256. 256. 256. ... 256. 256. 256.]]\n",
      "    time_integrate  4.786\n",
      "CubBayesNetG (StoppingCriterion Object)\n",
      "    abs_tol         0.025\n",
      "    rel_tol         0\n",
      "    n_init          2^(8)\n",
      "    n_max           2^(22)\n",
      "CustomFun (Integrand Object)\n",
      "Uniform (TrueMeasure Object)\n",
      "    lower_bound     0\n",
      "    upper_bound     1\n",
      "DigitalNetB2 (DiscreteDistribution Object)\n",
      "    d               2^(1)\n",
      "    dvec            [0 1]\n",
      "    randomize       LMS_DS\n",
      "    graycode        0\n",
      "    entropy         7\n",
      "    spawn_key       ()\n"
     ]
    }
   ],
   "source": [
    "import scipy\n",
    "from sklearn.gaussian_process import GaussianProcessRegressor,kernels\n",
    "\n",
    "f = lambda x: np.cos(10*x)*np.exp(.2*x)+np.exp(-5*(x-.4)**2)\n",
    "xplt = np.linspace(0,1,100)\n",
    "yplt = f(xplt)\n",
    "x = np.array([.1, .2, .4, .7, .9])\n",
    "y = f(x)\n",
    "ymax = y.max()\n",
    "\n",
    "gp = GaussianProcessRegressor(kernel=kernels.RBF(length_scale=1.0,length_scale_bounds=(1e-2, 1e2)),\n",
    "    n_restarts_optimizer = 16).fit(x[:,None],y)\n",
    "yhatplt,stdhatplt = gp.predict(xplt[:,None],return_std=True)\n",
    "\n",
    "tpax = 32\n",
    "x0mesh,x1mesh = np.meshgrid(np.linspace(0,1,tpax),np.linspace(0,1,tpax))\n",
    "post_mus = np.zeros((tpax,tpax,2),dtype=float)\n",
    "post_sqrtcovs = np.zeros((tpax,tpax,2,2),dtype=float)\n",
    "for j0 in range(tpax):\n",
    "    for j1 in range(tpax):\n",
    "        candidate = np.array([[x0mesh[j0,j1]],[x1mesh[j0,j1]]])\n",
    "        post_mus[j0,j1],post_cov = gp.predict(candidate,return_cov=True)\n",
    "        evals,evecs = scipy.linalg.eig(post_cov)\n",
    "        post_sqrtcovs[j0,j1] = np.sqrt(np.maximum(evals.real,0))*evecs\n",
    "\n",
    "def qei_acq_vec(x,compute_flags):\n",
    "    xgauss = scipy.stats.norm.ppf(x)\n",
    "    n = len(x)\n",
    "    qei_vals = np.zeros((n,tpax,tpax),dtype=float)\n",
    "    for j0 in range(tpax):\n",
    "        for j1 in range(tpax):\n",
    "            if compute_flags[j0,j1]==False: continue\n",
    "            sqrt_cov = post_sqrtcovs[j0,j1]\n",
    "            mu_post = post_mus[j0,j1]\n",
    "            for i in range(len(x)):\n",
    "                yij = sqrt_cov@xgauss[i]+mu_post\n",
    "                qei_vals[i,j0,j1] = max((yij-ymax).max(),0)\n",
    "    return qei_vals\n",
    "\n",
    "qei_acq_vec_qmcpy = qp.CustomFun(\n",
    "    true_measure = qp.Uniform(qp.DigitalNetB2(2,seed=7)),\n",
    "    g = qei_acq_vec,\n",
    "    dimension_indv = (tpax,tpax),\n",
    "    parallel=False)\n",
    "qei_vals,qei_data = qp.CubBayesNetG(qei_acq_vec_qmcpy,abs_tol=.025,rel_tol=0).integrate() # .0005\n",
    "print(qei_data)\n",
    "\n",
    "a = np.unravel_index(np.argmax(qei_vals,axis=None),qei_vals.shape)\n",
    "xnext = np.array([x0mesh[a[0],a[1]],x1mesh[a[0],a[1]]])\n",
    "fnext = f(xnext)"
   ]
  },
  {
   "cell_type": "code",
   "execution_count": 7,
   "id": "a5938bf4",
   "metadata": {
    "scrolled": false
   },
   "outputs": [
    {
     "data": {
      "image/png": "[encoded data removed]",
      "text/plain": [
       "<Figure size 1000x400 with 3 Axes>"
      ]
     },
     "metadata": {},
     "output_type": "display_data"
    }
   ],
   "source": [
    "from matplotlib import cm\n",
    "fig,ax = pyplot.subplots(nrows=1,ncols=2,figsize=(10,4))\n",
    "ax[0].scatter(x,y,color='k',label='Query Points')\n",
    "ax[0].plot(xplt,yplt,color='k',linestyle='--',label='True function',linewidth=1)\n",
    "ax[0].plot(xplt,yhatplt,color='k',label='GP Mean',linewidth=1)\n",
    "ax[0].fill_between(xplt,yhatplt-1.96*stdhatplt,yhatplt+1.96*stdhatplt,color='k',alpha=.25,label='95% CI')\n",
    "ax[0].scatter(xnext,fnext,color='k',marker='*',s=200,zorder=10)\n",
    "ax[0].set_xlim([0,1])\n",
    "ax[0].set_xticks([0,1])\n",
    "ax[0].set_xlabel(r'$x$')\n",
    "ax[0].set_ylabel(r'$y$')\n",
    "fig.legend(labels=['data','true function','posterior mean',r'95\\% CI','next points by QEI'],loc='lower center',bbox_to_anchor=(.5,-.05),ncol=5)\n",
    "contour = ax[1].contourf(x0mesh,x1mesh,qei_vals,cmap=cm.Greys_r)\n",
    "ax[1].scatter([xnext[0]],[xnext[1]],color='k',marker='*',s=200)\n",
    "fig.colorbar(contour,ax=None,shrink=1,aspect=5)\n",
    "ax[1].scatter(x0mesh.flatten(),x1mesh.flatten(),color='w',s=1)\n",
    "ax[1].set_xlim([0,1])\n",
    "ax[1].set_xticks([0,1])\n",
    "ax[1].set_ylim([0,1])\n",
    "ax[1].set_yticks([0,1])\n",
    "ax[1].set_xlabel(r'$x_1$')\n",
    "ax[1].set_ylabel(r'$x_2$')\n",
    "if root: fig.savefig(root+'gp.pdf',transparent=True)"
   ]
  },
  {
   "cell_type": "markdown",
   "id": "537cf7f0",
   "metadata": {},
   "source": [
    "## Bayesian Logistic Regression"
   ]
  },
  {
   "cell_type": "code",
   "execution_count": 8,
   "id": "2c109b39",
   "metadata": {
    "scrolled": false
   },
   "outputs": [],
   "source": [
    "import pandas as pd\n",
    "from sklearn.model_selection import train_test_split\n",
    "df = pd.read_csv('https://archive.ics.uci.edu/ml/machine-learning-databases/haberman/haberman.data',header=None)\n",
    "df.columns = ['Age','1900 Year','Axillary Nodes','Survival Status']\n",
    "df.loc[df['Survival Status']==2,'Survival Status'] = 0\n",
    "x,y = df[['Age','1900 Year','Axillary Nodes']],df['Survival Status']\n",
    "xt,xv,yt,yv = train_test_split(x,y,test_size=.33,random_state=7)"
   ]
  },
  {
   "cell_type": "code",
   "execution_count": 9,
   "id": "c7372124",
   "metadata": {},
   "outputs": [
    {
     "name": "stdout",
     "output_type": "stream",
     "text": [
      "   Age  1900 Year  Axillary Nodes  Survival Status\n",
      "0   30         64               1                1\n",
      "1   30         62               3                1\n",
      "2   30         65               0                1\n",
      "3   31         59               2                1\n",
      "4   31         65               4                1 \n",
      "\n",
      "              Age   1900 Year  Axillary Nodes\n",
      "count  306.000000  306.000000      306.000000\n",
      "mean    52.457516   62.852941        4.026144\n",
      "std     10.803452    3.249405        7.189654\n",
      "min     30.000000   58.000000        0.000000\n",
      "25%     44.000000   60.000000        0.000000\n",
      "50%     52.000000   63.000000        1.000000\n",
      "75%     60.750000   65.750000        4.000000\n",
      "max     83.000000   69.000000       52.000000 \n",
      "\n",
      "count     306\n",
      "unique      2\n",
      "top         1\n",
      "freq      225\n",
      "Name: Survival Status, dtype: object\n",
      "\n",
      "train samples: 205 test samples: 101\n",
      "\n",
      "train positives 151   train negatives: 54\n",
      " test positives 74    test negatives: 27\n"
     ]
    },
    {
     "data": {
      "text/html": [
       "<div>\n",
       "<style scoped>\n",
       "    .dataframe tbody tr th:only-of-type {\n",
       "        vertical-align: middle;\n",
       "    }\n",
       "\n",
       "    .dataframe tbody tr th {\n",
       "        vertical-align: top;\n",
       "    }\n",
       "\n",
       "    .dataframe thead th {\n",
       "        text-align: right;\n",
       "    }\n",
       "</style>\n",
       "<table border=\"1\" class=\"dataframe\">\n",
       "  <thead>\n",
       "    <tr style=\"text-align: right;\">\n",
       "      <th></th>\n",
       "      <th>Age</th>\n",
       "      <th>1900 Year</th>\n",
       "      <th>Axillary Nodes</th>\n",
       "    </tr>\n",
       "  </thead>\n",
       "  <tbody>\n",
       "    <tr>\n",
       "      <th>46</th>\n",
       "      <td>41</td>\n",
       "      <td>58</td>\n",
       "      <td>0</td>\n",
       "    </tr>\n",
       "    <tr>\n",
       "      <th>199</th>\n",
       "      <td>57</td>\n",
       "      <td>64</td>\n",
       "      <td>1</td>\n",
       "    </tr>\n",
       "    <tr>\n",
       "      <th>115</th>\n",
       "      <td>49</td>\n",
       "      <td>64</td>\n",
       "      <td>10</td>\n",
       "    </tr>\n",
       "    <tr>\n",
       "      <th>128</th>\n",
       "      <td>50</td>\n",
       "      <td>61</td>\n",
       "      <td>0</td>\n",
       "    </tr>\n",
       "    <tr>\n",
       "      <th>249</th>\n",
       "      <td>63</td>\n",
       "      <td>63</td>\n",
       "      <td>0</td>\n",
       "    </tr>\n",
       "  </tbody>\n",
       "</table>\n",
       "</div>"
      ],
      "text/plain": [
       "     Age  1900 Year  Axillary Nodes\n",
       "46    41         58               0\n",
       "199   57         64               1\n",
       "115   49         64              10\n",
       "128   50         61               0\n",
       "249   63         63               0"
      ]
     },
     "execution_count": 9,
     "metadata": {},
     "output_type": "execute_result"
    }
   ],
   "source": [
    "print(df.head(),'\\n')\n",
    "print(df[['Age','1900 Year','Axillary Nodes']].describe(),'\\n')\n",
    "print(df['Survival Status'].astype(str).describe())\n",
    "print('\\ntrain samples: %d test samples: %d\\n'%(len(xt),len(xv)))\n",
    "print('train positives %d   train negatives: %d'%(np.sum(yt==1),np.sum(yt==0)))\n",
    "print(' test positives %d    test negatives: %d'%(np.sum(yv==1),np.sum(yv==0)))\n",
    "xt.head()"
   ]
  },
  {
   "cell_type": "code",
   "execution_count": 10,
   "id": "2cc71af8",
   "metadata": {},
   "outputs": [
    {
     "ename": "RuntimeWarning",
     "evalue": "divide by zero encountered in log",
     "output_type": "error",
     "traceback": [
      "\u001b[1;31m---------------------------------------------------------------------------\u001b[0m",
      "\u001b[1;31mRuntimeWarning\u001b[0m                            Traceback (most recent call last)",
      "Cell \u001b[1;32mIn[10], line 12\u001b[0m\n\u001b[0;32m      1\u001b[0m blr \u001b[38;5;241m=\u001b[39m qp\u001b[38;5;241m.\u001b[39mBayesianLRCoeffs(\n\u001b[0;32m      2\u001b[0m     sampler \u001b[38;5;241m=\u001b[39m qp\u001b[38;5;241m.\u001b[39mDigitalNetB2(\u001b[38;5;241m4\u001b[39m,seed\u001b[38;5;241m=\u001b[39m\u001b[38;5;241m7\u001b[39m),\n\u001b[0;32m      3\u001b[0m     feature_array \u001b[38;5;241m=\u001b[39m xt, \u001b[38;5;66;03m# np.ndarray of shape (n,d-1)\u001b[39;00m\n\u001b[0;32m      4\u001b[0m     response_vector \u001b[38;5;241m=\u001b[39m yt, \u001b[38;5;66;03m# np.ndarray of shape (n,)\u001b[39;00m\n\u001b[0;32m      5\u001b[0m     prior_mean \u001b[38;5;241m=\u001b[39m \u001b[38;5;241m0\u001b[39m, \u001b[38;5;66;03m# normal prior mean = (0,0,...,0)\u001b[39;00m\n\u001b[0;32m      6\u001b[0m     prior_covariance \u001b[38;5;241m=\u001b[39m \u001b[38;5;241m5\u001b[39m) \u001b[38;5;66;03m# normal prior covariance = 5I\u001b[39;00m\n\u001b[0;32m      7\u001b[0m qmc_sc \u001b[38;5;241m=\u001b[39m qp\u001b[38;5;241m.\u001b[39mCubBayesNetG(blr,\n\u001b[0;32m      8\u001b[0m     abs_tol \u001b[38;5;241m=\u001b[39m \u001b[38;5;241m.05\u001b[39m,\n\u001b[0;32m      9\u001b[0m     rel_tol \u001b[38;5;241m=\u001b[39m \u001b[38;5;241m.5\u001b[39m,\n\u001b[0;32m     10\u001b[0m     error_fun \u001b[38;5;241m=\u001b[39m \u001b[38;5;28;01mlambda\u001b[39;00m s,abs_tols,rel_tols:\n\u001b[0;32m     11\u001b[0m         np\u001b[38;5;241m.\u001b[39mminimum(abs_tols,np\u001b[38;5;241m.\u001b[39mabs(s)\u001b[38;5;241m*\u001b[39mrel_tols))\n\u001b[1;32m---> 12\u001b[0m blr_coefs,blr_data \u001b[38;5;241m=\u001b[39m \u001b[43mqmc_sc\u001b[49m\u001b[38;5;241;43m.\u001b[39;49m\u001b[43mintegrate\u001b[49m\u001b[43m(\u001b[49m\u001b[43m)\u001b[49m\n\u001b[0;32m     13\u001b[0m \u001b[38;5;28mprint\u001b[39m(blr_data)\n\u001b[0;32m     14\u001b[0m \u001b[38;5;66;03m# LDTransformData (AccumulateData Object)\u001b[39;00m\n\u001b[0;32m     15\u001b[0m \u001b[38;5;66;03m#     solution        [-0.004  0.13  -0.157  0.008]\u001b[39;00m\n\u001b[0;32m     16\u001b[0m \u001b[38;5;66;03m#     comb_bound_low  [-0.006  0.092 -0.205  0.007]\u001b[39;00m\n\u001b[1;32m   (...)\u001b[0m\n\u001b[0;32m     21\u001b[0m \u001b[38;5;66;03m#                     [  1024.   1024. 262144.   2048.]]\u001b[39;00m\n\u001b[0;32m     22\u001b[0m \u001b[38;5;66;03m#     time_integrate  2.229\u001b[39;00m\n",
      "File \u001b[1;32md:\\git-repos\\qmcsoftware\\qmcpy\\stopping_criterion\\_cub_bayes_ld_g.py:108\u001b[0m, in \u001b[0;36m_CubBayesLDG.integrate\u001b[1;34m(self)\u001b[0m\n\u001b[0;32m    105\u001b[0m     y_val \u001b[38;5;241m=\u001b[39m ycvnext[slice_yj]\n\u001b[0;32m    107\u001b[0m \u001b[38;5;66;03m# Update function values\u001b[39;00m\n\u001b[1;32m--> 108\u001b[0m success, muhat, r_order, err_bd, _ \u001b[38;5;241m=\u001b[39m \u001b[38;5;28;43mself\u001b[39;49m\u001b[38;5;241;43m.\u001b[39;49m\u001b[43mdatum\u001b[49m\u001b[43m[\u001b[49m\u001b[43mj\u001b[49m\u001b[43m]\u001b[49m\u001b[38;5;241;43m.\u001b[39;49m\u001b[43mupdate_data\u001b[49m\u001b[43m(\u001b[49m\u001b[43my_val_new\u001b[49m\u001b[38;5;241;43m=\u001b[39;49m\u001b[43my_val\u001b[49m\u001b[43m,\u001b[49m\u001b[43m \u001b[49m\u001b[43mxnew\u001b[49m\u001b[38;5;241;43m=\u001b[39;49m\u001b[43mxnext\u001b[49m\u001b[43m,\u001b[49m\u001b[43m \u001b[49m\u001b[43mxunnew\u001b[49m\u001b[38;5;241;43m=\u001b[39;49m\u001b[43mxnext_un\u001b[49m\u001b[43m)\u001b[49m\n\u001b[0;32m    110\u001b[0m bounds \u001b[38;5;241m=\u001b[39m muhat \u001b[38;5;241m+\u001b[39m np\u001b[38;5;241m.\u001b[39marray([\u001b[38;5;241m-\u001b[39m\u001b[38;5;241m1\u001b[39m, \u001b[38;5;241m1\u001b[39m]) \u001b[38;5;241m*\u001b[39m err_bd\n\u001b[0;32m    111\u001b[0m stop_flag[j], \u001b[38;5;28mself\u001b[39m\u001b[38;5;241m.\u001b[39mdata\u001b[38;5;241m.\u001b[39msolution_indv[j], \u001b[38;5;28mself\u001b[39m\u001b[38;5;241m.\u001b[39mdata\u001b[38;5;241m.\u001b[39mindv_bound_low[j], \u001b[38;5;28mself\u001b[39m\u001b[38;5;241m.\u001b[39mdata\u001b[38;5;241m.\u001b[39mindv_bound_high[j] \u001b[38;5;241m=\u001b[39m \\\n\u001b[0;32m    112\u001b[0m     success, muhat, bounds[\u001b[38;5;241m0\u001b[39m], bounds[\u001b[38;5;241m1\u001b[39m]\n",
      "File \u001b[1;32md:\\git-repos\\qmcsoftware\\qmcpy\\accumulate_data\\ld_transform_bayes_data.py:105\u001b[0m, in \u001b[0;36mLDTransformBayesData.update_data\u001b[1;34m(self, y_val_new, xnew, xunnew)\u001b[0m\n\u001b[0;32m     99\u001b[0m \u001b[38;5;28;01melse\u001b[39;00m:\n\u001b[0;32m    100\u001b[0m     warnings\u001b[38;5;241m.\u001b[39mwarn(\u001b[38;5;124m'''\u001b[39m\n\u001b[0;32m    101\u001b[0m \u001b[38;5;124m        Already used maximum allowed sample size \u001b[39m\u001b[38;5;132;01m%d\u001b[39;00m\u001b[38;5;124m.\u001b[39m\n\u001b[0;32m    102\u001b[0m \u001b[38;5;124m        Note that error tolerances may no longer be satisfied.\u001b[39m\u001b[38;5;124m'''\u001b[39m \u001b[38;5;241m%\u001b[39m (\u001b[38;5;241m2\u001b[39m \u001b[38;5;241m*\u001b[39m\u001b[38;5;241m*\u001b[39m \u001b[38;5;28mself\u001b[39m\u001b[38;5;241m.\u001b[39mm_max),\n\u001b[0;32m    103\u001b[0m                   MaxSamplesWarning)\n\u001b[1;32m--> 105\u001b[0m \u001b[38;5;28;01mreturn\u001b[39;00m \u001b[38;5;28;43mself\u001b[39;49m\u001b[38;5;241;43m.\u001b[39;49m\u001b[43m_stopping_criterion\u001b[49m\u001b[43m(\u001b[49m\u001b[38;5;28;43mself\u001b[39;49m\u001b[38;5;241;43m.\u001b[39;49m\u001b[43mxun_\u001b[49m\u001b[43m,\u001b[49m\u001b[43m \u001b[49m\u001b[38;5;28;43mself\u001b[39;49m\u001b[38;5;241;43m.\u001b[39;49m\u001b[43mftilde_\u001b[49m\u001b[43m,\u001b[49m\u001b[43m \u001b[49m\u001b[38;5;28;43mself\u001b[39;49m\u001b[38;5;241;43m.\u001b[39;49m\u001b[43mm\u001b[49m\u001b[43m)\u001b[49m\n",
      "File \u001b[1;32md:\\git-repos\\qmcsoftware\\qmcpy\\accumulate_data\\ld_transform_bayes_data.py:117\u001b[0m, in \u001b[0;36mLDTransformBayesData._stopping_criterion\u001b[1;34m(self, xpts, ftilde, m)\u001b[0m\n\u001b[0;32m    115\u001b[0m \u001b[38;5;66;03m# search for optimal shape parameter\u001b[39;00m\n\u001b[0;32m    116\u001b[0m \u001b[38;5;28;01mif\u001b[39;00m \u001b[38;5;28mself\u001b[39m\u001b[38;5;241m.\u001b[39mstopping_crit\u001b[38;5;241m.\u001b[39mone_theta \u001b[38;5;241m==\u001b[39m \u001b[38;5;28;01mTrue\u001b[39;00m:\n\u001b[1;32m--> 117\u001b[0m     lna_MLE \u001b[38;5;241m=\u001b[39m \u001b[43mfminbnd\u001b[49m\u001b[43m(\u001b[49m\u001b[38;5;28;43;01mlambda\u001b[39;49;00m\u001b[43m \u001b[49m\u001b[43mlna\u001b[49m\u001b[43m:\u001b[49m\u001b[43m \u001b[49m\u001b[38;5;28;43mself\u001b[39;49m\u001b[38;5;241;43m.\u001b[39;49m\u001b[43mobjective_function\u001b[49m\u001b[43m(\u001b[49m\u001b[43mexp\u001b[49m\u001b[43m(\u001b[49m\u001b[43mlna\u001b[49m\u001b[43m)\u001b[49m\u001b[43m,\u001b[49m\u001b[43m \u001b[49m\u001b[43mxpts\u001b[49m\u001b[43m,\u001b[49m\u001b[43m \u001b[49m\u001b[43mftilde\u001b[49m\u001b[43m)\u001b[49m\u001b[43m[\u001b[49m\u001b[38;5;241;43m0\u001b[39;49m\u001b[43m]\u001b[49m\u001b[43m,\u001b[49m\n\u001b[0;32m    118\u001b[0m \u001b[43m                      \u001b[49m\u001b[43mx1\u001b[49m\u001b[38;5;241;43m=\u001b[39;49m\u001b[43mlna_range\u001b[49m\u001b[43m[\u001b[49m\u001b[38;5;241;43m0\u001b[39;49m\u001b[43m]\u001b[49m\u001b[43m,\u001b[49m\u001b[43m \u001b[49m\u001b[43mx2\u001b[49m\u001b[38;5;241;43m=\u001b[39;49m\u001b[43mlna_range\u001b[49m\u001b[43m[\u001b[49m\u001b[38;5;241;43m1\u001b[39;49m\u001b[43m]\u001b[49m\u001b[43m,\u001b[49m\u001b[43m \u001b[49m\u001b[43mxtol\u001b[49m\u001b[38;5;241;43m=\u001b[39;49m\u001b[38;5;241;43m1e-2\u001b[39;49m\u001b[43m,\u001b[49m\u001b[43m \u001b[49m\u001b[43mdisp\u001b[49m\u001b[38;5;241;43m=\u001b[39;49m\u001b[38;5;241;43m0\u001b[39;49m\u001b[43m)\u001b[49m\n\u001b[0;32m    120\u001b[0m     aMLE \u001b[38;5;241m=\u001b[39m exp(lna_MLE)\n\u001b[0;32m    121\u001b[0m     _, vec_lambda, vec_lambda_ring, RKHS_norm \u001b[38;5;241m=\u001b[39m \u001b[38;5;28mself\u001b[39m\u001b[38;5;241m.\u001b[39mobjective_function(aMLE, xpts, ftilde)\n",
      "File \u001b[1;32mC:\\tools\\miniconda3\\envs\\qmcpy\\lib\\site-packages\\scipy\\optimize\\_optimize.py:2062\u001b[0m, in \u001b[0;36mfminbound\u001b[1;34m(func, x1, x2, args, xtol, maxfun, full_output, disp)\u001b[0m\n\u001b[0;32m   1993\u001b[0m \u001b[38;5;124;03m\"\"\"Bounded minimization for scalar functions.\u001b[39;00m\n\u001b[0;32m   1994\u001b[0m \n\u001b[0;32m   1995\u001b[0m \u001b[38;5;124;03mParameters\u001b[39;00m\n\u001b[1;32m   (...)\u001b[0m\n\u001b[0;32m   2056\u001b[0m \u001b[38;5;124;03m1.0000059608609866\u001b[39;00m\n\u001b[0;32m   2057\u001b[0m \u001b[38;5;124;03m\"\"\"\u001b[39;00m\n\u001b[0;32m   2058\u001b[0m options \u001b[38;5;241m=\u001b[39m {\u001b[38;5;124m'\u001b[39m\u001b[38;5;124mxatol\u001b[39m\u001b[38;5;124m'\u001b[39m: xtol,\n\u001b[0;32m   2059\u001b[0m            \u001b[38;5;124m'\u001b[39m\u001b[38;5;124mmaxiter\u001b[39m\u001b[38;5;124m'\u001b[39m: maxfun,\n\u001b[0;32m   2060\u001b[0m            \u001b[38;5;124m'\u001b[39m\u001b[38;5;124mdisp\u001b[39m\u001b[38;5;124m'\u001b[39m: disp}\n\u001b[1;32m-> 2062\u001b[0m res \u001b[38;5;241m=\u001b[39m _minimize_scalar_bounded(func, (x1, x2), args, \u001b[38;5;241m*\u001b[39m\u001b[38;5;241m*\u001b[39moptions)\n\u001b[0;32m   2063\u001b[0m \u001b[38;5;28;01mif\u001b[39;00m full_output:\n\u001b[0;32m   2064\u001b[0m     \u001b[38;5;28;01mreturn\u001b[39;00m res[\u001b[38;5;124m'\u001b[39m\u001b[38;5;124mx\u001b[39m\u001b[38;5;124m'\u001b[39m], res[\u001b[38;5;124m'\u001b[39m\u001b[38;5;124mfun\u001b[39m\u001b[38;5;124m'\u001b[39m], res[\u001b[38;5;124m'\u001b[39m\u001b[38;5;124mstatus\u001b[39m\u001b[38;5;124m'\u001b[39m], res[\u001b[38;5;124m'\u001b[39m\u001b[38;5;124mnfev\u001b[39m\u001b[38;5;124m'\u001b[39m]\n",
      "File \u001b[1;32mC:\\tools\\miniconda3\\envs\\qmcpy\\lib\\site-packages\\scipy\\optimize\\_optimize.py:2111\u001b[0m, in \u001b[0;36m_minimize_scalar_bounded\u001b[1;34m(func, bounds, args, xatol, maxiter, disp, **unknown_options)\u001b[0m\n\u001b[0;32m   2109\u001b[0m rat \u001b[38;5;241m=\u001b[39m e \u001b[38;5;241m=\u001b[39m \u001b[38;5;241m0.0\u001b[39m\n\u001b[0;32m   2110\u001b[0m x \u001b[38;5;241m=\u001b[39m xf\n\u001b[1;32m-> 2111\u001b[0m fx \u001b[38;5;241m=\u001b[39m \u001b[43mfunc\u001b[49m\u001b[43m(\u001b[49m\u001b[43mx\u001b[49m\u001b[43m,\u001b[49m\u001b[43m \u001b[49m\u001b[38;5;241;43m*\u001b[39;49m\u001b[43margs\u001b[49m\u001b[43m)\u001b[49m\n\u001b[0;32m   2112\u001b[0m num \u001b[38;5;241m=\u001b[39m \u001b[38;5;241m1\u001b[39m\n\u001b[0;32m   2113\u001b[0m fmin_data \u001b[38;5;241m=\u001b[39m (\u001b[38;5;241m1\u001b[39m, xf, fx)\n",
      "File \u001b[1;32md:\\git-repos\\qmcsoftware\\qmcpy\\accumulate_data\\ld_transform_bayes_data.py:117\u001b[0m, in \u001b[0;36mLDTransformBayesData._stopping_criterion.<locals>.<lambda>\u001b[1;34m(lna)\u001b[0m\n\u001b[0;32m    115\u001b[0m \u001b[38;5;66;03m# search for optimal shape parameter\u001b[39;00m\n\u001b[0;32m    116\u001b[0m \u001b[38;5;28;01mif\u001b[39;00m \u001b[38;5;28mself\u001b[39m\u001b[38;5;241m.\u001b[39mstopping_crit\u001b[38;5;241m.\u001b[39mone_theta \u001b[38;5;241m==\u001b[39m \u001b[38;5;28;01mTrue\u001b[39;00m:\n\u001b[1;32m--> 117\u001b[0m     lna_MLE \u001b[38;5;241m=\u001b[39m fminbnd(\u001b[38;5;28;01mlambda\u001b[39;00m lna: \u001b[38;5;28;43mself\u001b[39;49m\u001b[38;5;241;43m.\u001b[39;49m\u001b[43mobjective_function\u001b[49m\u001b[43m(\u001b[49m\u001b[43mexp\u001b[49m\u001b[43m(\u001b[49m\u001b[43mlna\u001b[49m\u001b[43m)\u001b[49m\u001b[43m,\u001b[49m\u001b[43m \u001b[49m\u001b[43mxpts\u001b[49m\u001b[43m,\u001b[49m\u001b[43m \u001b[49m\u001b[43mftilde\u001b[49m\u001b[43m)\u001b[49m[\u001b[38;5;241m0\u001b[39m],\n\u001b[0;32m    118\u001b[0m                       x1\u001b[38;5;241m=\u001b[39mlna_range[\u001b[38;5;241m0\u001b[39m], x2\u001b[38;5;241m=\u001b[39mlna_range[\u001b[38;5;241m1\u001b[39m], xtol\u001b[38;5;241m=\u001b[39m\u001b[38;5;241m1e-2\u001b[39m, disp\u001b[38;5;241m=\u001b[39m\u001b[38;5;241m0\u001b[39m)\n\u001b[0;32m    120\u001b[0m     aMLE \u001b[38;5;241m=\u001b[39m exp(lna_MLE)\n\u001b[0;32m    121\u001b[0m     _, vec_lambda, vec_lambda_ring, RKHS_norm \u001b[38;5;241m=\u001b[39m \u001b[38;5;28mself\u001b[39m\u001b[38;5;241m.\u001b[39mobjective_function(aMLE, xpts, ftilde)\n",
      "File \u001b[1;32md:\\git-repos\\qmcsoftware\\qmcpy\\accumulate_data\\ld_transform_bayes_data.py:222\u001b[0m, in \u001b[0;36mLDTransformBayesData.objective_function\u001b[1;34m(self, theta, xun, ftilde)\u001b[0m\n\u001b[0;32m    220\u001b[0m     \u001b[38;5;66;03m# ignore all zero eigenvalues\u001b[39;00m\n\u001b[0;32m    221\u001b[0m     loss1 \u001b[38;5;241m=\u001b[39m \u001b[38;5;28msum\u001b[39m(log(\u001b[38;5;28mabs\u001b[39m(lambda_factor \u001b[38;5;241m*\u001b[39m vec_lambda[vec_lambda \u001b[38;5;241m>\u001b[39m fudge])))\n\u001b[1;32m--> 222\u001b[0m     loss2 \u001b[38;5;241m=\u001b[39m n \u001b[38;5;241m*\u001b[39m \u001b[43mlog\u001b[49m\u001b[43m(\u001b[49m\u001b[43mtemp_1\u001b[49m\u001b[43m)\u001b[49m\n\u001b[0;32m    223\u001b[0m     loss \u001b[38;5;241m=\u001b[39m loss1 \u001b[38;5;241m+\u001b[39m loss2\n\u001b[0;32m    225\u001b[0m \u001b[38;5;28;01mif\u001b[39;00m \u001b[38;5;28mself\u001b[39m\u001b[38;5;241m.\u001b[39mdebug_enable:\n",
      "\u001b[1;31mRuntimeWarning\u001b[0m: divide by zero encountered in log"
     ]
    }
   ],
   "source": [
    "blr = qp.BayesianLRCoeffs(\n",
    "    sampler = qp.DigitalNetB2(4,seed=7),\n",
    "    feature_array = xt, # np.ndarray of shape (n,d-1)\n",
    "    response_vector = yt, # np.ndarray of shape (n,)\n",
    "    prior_mean = 0, # normal prior mean = (0,0,...,0)\n",
    "    prior_covariance = 5) # normal prior covariance = 5I\n",
    "qmc_sc = qp.CubBayesNetG(blr,\n",
    "    abs_tol = .05,\n",
    "    rel_tol = .5,\n",
    "    error_fun = lambda s,abs_tols,rel_tols:\n",
    "        np.minimum(abs_tols,np.abs(s)*rel_tols))\n",
    "blr_coefs,blr_data = qmc_sc.integrate()\n",
    "print(blr_data)\n",
    "# LDTransformData (AccumulateData Object)\n",
    "#     solution        [-0.004  0.13  -0.157  0.008]\n",
    "#     comb_bound_low  [-0.006  0.092 -0.205  0.007]\n",
    "#     comb_bound_high [-0.003  0.172 -0.109  0.012]\n",
    "#     comb_flags      [ True  True  True  True]\n",
    "#     n_total         2^(18)\n",
    "#     n               [[  1024.   1024. 262144.   2048.]\n",
    "#                     [  1024.   1024. 262144.   2048.]]\n",
    "#     time_integrate  2.229"
   ]
  },
  {
   "cell_type": "code",
   "execution_count": 11,
   "id": "9aeee8bf",
   "metadata": {},
   "outputs": [
    {
     "ename": "NameError",
     "evalue": "name 'blr_coefs' is not defined",
     "output_type": "error",
     "traceback": [
      "\u001b[1;31m---------------------------------------------------------------------------\u001b[0m",
      "\u001b[1;31mNameError\u001b[0m                                 Traceback (most recent call last)",
      "Cell \u001b[1;32mIn[11], line 19\u001b[0m\n\u001b[0;32m     16\u001b[0m     results\u001b[38;5;241m.\u001b[39mloc[i] \u001b[38;5;241m=\u001b[39m [\u001b[38;5;124mr\u001b[39m\u001b[38;5;124m'\u001b[39m\u001b[38;5;124mElastic-Net \u001b[39m\u001b[38;5;124m\\\u001b[39m\u001b[38;5;124mlambda=\u001b[39m\u001b[38;5;132;01m%.1f\u001b[39;00m\u001b[38;5;124m'\u001b[39m\u001b[38;5;241m%\u001b[39ml1_ratio]\u001b[38;5;241m+\u001b[39mlr\u001b[38;5;241m.\u001b[39mcoef_\u001b[38;5;241m.\u001b[39msqueeze()\u001b[38;5;241m.\u001b[39mtolist()\u001b[38;5;241m+\u001b[39m[lr\u001b[38;5;241m.\u001b[39mintercept_\u001b[38;5;241m.\u001b[39mitem()]\u001b[38;5;241m+\u001b[39mmetrics(yv,lr\u001b[38;5;241m.\u001b[39mpredict(xv))\n\u001b[0;32m     18\u001b[0m blr_predict \u001b[38;5;241m=\u001b[39m \u001b[38;5;28;01mlambda\u001b[39;00m x: \u001b[38;5;241m1\u001b[39m\u001b[38;5;241m/\u001b[39m(\u001b[38;5;241m1\u001b[39m\u001b[38;5;241m+\u001b[39mnp\u001b[38;5;241m.\u001b[39mexp(\u001b[38;5;241m-\u001b[39mnp\u001b[38;5;241m.\u001b[39marray(x)\u001b[38;5;129m@blr_coefs\u001b[39m[:\u001b[38;5;241m-\u001b[39m\u001b[38;5;241m1\u001b[39m]\u001b[38;5;241m-\u001b[39mblr_coefs[\u001b[38;5;241m-\u001b[39m\u001b[38;5;241m1\u001b[39m]))\u001b[38;5;241m>\u001b[39m\u001b[38;5;241m=\u001b[39m\u001b[38;5;241m.5\u001b[39m\n\u001b[1;32m---> 19\u001b[0m blr_train_accuracy \u001b[38;5;241m=\u001b[39m np\u001b[38;5;241m.\u001b[39mmean(\u001b[43mblr_predict\u001b[49m\u001b[43m(\u001b[49m\u001b[43mxt\u001b[49m\u001b[43m)\u001b[49m\u001b[38;5;241m==\u001b[39myt)\n\u001b[0;32m     20\u001b[0m blr_test_accuracy \u001b[38;5;241m=\u001b[39m np\u001b[38;5;241m.\u001b[39mmean(blr_predict(xv)\u001b[38;5;241m==\u001b[39myv)\n\u001b[0;32m     21\u001b[0m results\u001b[38;5;241m.\u001b[39mloc[\u001b[38;5;28mlen\u001b[39m(results)] \u001b[38;5;241m=\u001b[39m [\u001b[38;5;124m'\u001b[39m\u001b[38;5;124mBayesian\u001b[39m\u001b[38;5;124m'\u001b[39m]\u001b[38;5;241m+\u001b[39mblr_coefs\u001b[38;5;241m.\u001b[39msqueeze()\u001b[38;5;241m.\u001b[39mtolist()\u001b[38;5;241m+\u001b[39mmetrics(yv,blr_predict(xv))\n",
      "Cell \u001b[1;32mIn[11], line 18\u001b[0m, in \u001b[0;36m<lambda>\u001b[1;34m(x)\u001b[0m\n\u001b[0;32m     15\u001b[0m     lr \u001b[38;5;241m=\u001b[39m LogisticRegression(random_state\u001b[38;5;241m=\u001b[39m\u001b[38;5;241m7\u001b[39m,penalty\u001b[38;5;241m=\u001b[39m\u001b[38;5;124m\"\u001b[39m\u001b[38;5;124melasticnet\u001b[39m\u001b[38;5;124m\"\u001b[39m,solver\u001b[38;5;241m=\u001b[39m\u001b[38;5;124m'\u001b[39m\u001b[38;5;124msaga\u001b[39m\u001b[38;5;124m'\u001b[39m,l1_ratio\u001b[38;5;241m=\u001b[39ml1_ratio)\u001b[38;5;241m.\u001b[39mfit(xt,yt)\n\u001b[0;32m     16\u001b[0m     results\u001b[38;5;241m.\u001b[39mloc[i] \u001b[38;5;241m=\u001b[39m [\u001b[38;5;124mr\u001b[39m\u001b[38;5;124m'\u001b[39m\u001b[38;5;124mElastic-Net \u001b[39m\u001b[38;5;124m\\\u001b[39m\u001b[38;5;124mlambda=\u001b[39m\u001b[38;5;132;01m%.1f\u001b[39;00m\u001b[38;5;124m'\u001b[39m\u001b[38;5;241m%\u001b[39ml1_ratio]\u001b[38;5;241m+\u001b[39mlr\u001b[38;5;241m.\u001b[39mcoef_\u001b[38;5;241m.\u001b[39msqueeze()\u001b[38;5;241m.\u001b[39mtolist()\u001b[38;5;241m+\u001b[39m[lr\u001b[38;5;241m.\u001b[39mintercept_\u001b[38;5;241m.\u001b[39mitem()]\u001b[38;5;241m+\u001b[39mmetrics(yv,lr\u001b[38;5;241m.\u001b[39mpredict(xv))\n\u001b[1;32m---> 18\u001b[0m blr_predict \u001b[38;5;241m=\u001b[39m \u001b[38;5;28;01mlambda\u001b[39;00m x: \u001b[38;5;241m1\u001b[39m\u001b[38;5;241m/\u001b[39m(\u001b[38;5;241m1\u001b[39m\u001b[38;5;241m+\u001b[39mnp\u001b[38;5;241m.\u001b[39mexp(\u001b[38;5;241m-\u001b[39mnp\u001b[38;5;241m.\u001b[39marray(x)\u001b[38;5;129m@blr_coefs\u001b[39m[:\u001b[38;5;241m-\u001b[39m\u001b[38;5;241m1\u001b[39m]\u001b[38;5;241m-\u001b[39mblr_coefs[\u001b[38;5;241m-\u001b[39m\u001b[38;5;241m1\u001b[39m]))\u001b[38;5;241m>\u001b[39m\u001b[38;5;241m=\u001b[39m\u001b[38;5;241m.5\u001b[39m\n\u001b[0;32m     19\u001b[0m blr_train_accuracy \u001b[38;5;241m=\u001b[39m np\u001b[38;5;241m.\u001b[39mmean(blr_predict(xt)\u001b[38;5;241m==\u001b[39myt)\n\u001b[0;32m     20\u001b[0m blr_test_accuracy \u001b[38;5;241m=\u001b[39m np\u001b[38;5;241m.\u001b[39mmean(blr_predict(xv)\u001b[38;5;241m==\u001b[39myv)\n",
      "\u001b[1;31mNameError\u001b[0m: name 'blr_coefs' is not defined"
     ]
    }
   ],
   "source": [
    "from sklearn.linear_model import LogisticRegression\n",
    "def metrics(y,yhat):\n",
    "    y,yhat = np.array(y),np.array(yhat)\n",
    "    tp = np.sum((y==1)*(yhat==1))\n",
    "    tn = np.sum((y==0)*(yhat==0))\n",
    "    fp = np.sum((y==0)*(yhat==1))\n",
    "    fn = np.sum((y==1)*(yhat==0))\n",
    "    accuracy = (tp+tn)/(len(y))\n",
    "    precision = tp/(tp+fp)\n",
    "    recall = tp/(tp+fn)\n",
    "    return [accuracy,precision,recall]\n",
    "\n",
    "results = pd.DataFrame({name:[] for name in ['method','Age','1900 Year','Axillary Nodes','Intercept','Accuracy','Precision','Recall']})\n",
    "for i,l1_ratio in enumerate([0,.5,1]):\n",
    "    lr = LogisticRegression(random_state=7,penalty=\"elasticnet\",solver='saga',l1_ratio=l1_ratio).fit(xt,yt)\n",
    "    results.loc[i] = [r'Elastic-Net \\lambda=%.1f'%l1_ratio]+lr.coef_.squeeze().tolist()+[lr.intercept_.item()]+metrics(yv,lr.predict(xv))\n",
    "\n",
    "blr_predict = lambda x: 1/(1+np.exp(-np.array(x)@blr_coefs[:-1]-blr_coefs[-1]))>=.5\n",
    "blr_train_accuracy = np.mean(blr_predict(xt)==yt)\n",
    "blr_test_accuracy = np.mean(blr_predict(xv)==yv)\n",
    "results.loc[len(results)] = ['Bayesian']+blr_coefs.squeeze().tolist()+metrics(yv,blr_predict(xv))\n",
    "\n",
    "import warnings\n",
    "warnings.simplefilter('ignore',FutureWarning)\n",
    "results.set_index('method',inplace=True)\n",
    "print(results.head())\n",
    "#root: results.to_latex(root+'lr_table.tex',formatters={'%s'%tt:lambda v:'%.1f'%(100*v) for tt in ['accuracy','precision','recall']},float_format=\"%.2e\")"
   ]
  },
  {
   "cell_type": "markdown",
   "id": "d1002afa",
   "metadata": {},
   "source": [
    "## Sensitivity Indices"
   ]
  },
  {
   "cell_type": "markdown",
   "id": "0c871796",
   "metadata": {},
   "source": [
    "### Ishigami Function"
   ]
  },
  {
   "cell_type": "code",
   "execution_count": 12,
   "id": "d8e52264",
   "metadata": {},
   "outputs": [
    {
     "name": "stdout",
     "output_type": "stream",
     "text": [
      "LDTransformBayesData (AccumulateData Object)\n",
      "    solution        [[0.317 0.445 0.027 0.761 0.56  0.444]\n",
      "                    [0.563 0.438 0.254 0.973 0.558 0.685]]\n",
      "    comb_bound_low  [[0.29  0.398 0.    0.714 0.523 0.407]\n",
      "                    [0.526 0.404 0.212 0.947 0.528 0.648]]\n",
      "    comb_bound_high [[0.345 0.492 0.055 0.808 0.597 0.481]\n",
      "                    [0.6   0.472 0.296 1.    0.588 0.722]]\n",
      "    comb_flags      [[ True  True  True  True  True  True]\n",
      "                    [ True  True  True  True  True  True]]\n",
      "    n_total         2^(11)\n",
      "    n               [[[2048. 1024. 1024. 2048. 2048. 2048.]\n",
      "                     [2048. 1024. 1024. 2048. 2048. 2048.]\n",
      "                     [2048. 1024. 1024. 2048. 2048. 2048.]]\n",
      "                   \n",
      "                    [[2048. 1024.  512. 2048. 2048. 2048.]\n",
      "                     [2048. 1024.  512. 2048. 2048. 2048.]\n",
      "                     [2048. 1024.  512. 2048. 2048. 2048.]]]\n",
      "    time_integrate  1.670\n",
      "CubBayesNetG (StoppingCriterion Object)\n",
      "    abs_tol         0.050\n",
      "    rel_tol         0\n",
      "    n_init          2^(8)\n",
      "    n_max           2^(22)\n",
      "SensitivityIndices (Integrand Object)\n",
      "    indices         [[0], [1], [2], [0, 1], [0, 2], [1, 2]]\n",
      "    n_multiplier    6\n",
      "Uniform (TrueMeasure Object)\n",
      "    lower_bound     -3.142\n",
      "    upper_bound     3.142\n",
      "DigitalNetB2 (DiscreteDistribution Object)\n",
      "    d               6\n",
      "    dvec            [0 1 2 3 4 5]\n",
      "    randomize       LMS_DS\n",
      "    graycode        0\n",
      "    entropy         7\n",
      "    spawn_key       (0,)\n",
      "\n",
      "Approx took 1.7 sec and n = 2^(11)\n",
      "\t si_closed: [0.31722253 0.44506938 0.0273244  0.76087937 0.55981713 0.44420515]\n",
      "\t si_total: [0.56290907 0.43784863 0.25397723 0.97329123 0.55830656 0.68479275]\n",
      "\t ci_comb_low_closed: [0.28990739 0.39777074 0.         0.71378418 0.52252396 0.40694415]\n",
      "\t ci_comb_high_closed: [0.34453767 0.49236803 0.0546488  0.80797455 0.59711031 0.48146614]\n",
      "\t ci_comb_low_total: [0.52579416 0.4039169  0.21233444 0.94658246 0.52841671 0.64777255]\n",
      "\t ci_comb_high_total: [0.60002398 0.47178035 0.29562002 1.         0.58819641 0.72181294]\n"
     ]
    }
   ],
   "source": [
    "a,b = 7,0.1\n",
    "dnb2 = qp.DigitalNetB2(3,seed=7)\n",
    "ishigami = qp.Ishigami(dnb2,a,b)\n",
    "idxs =[[0], [1], [2], [0,1], [0,2], [1,2]]\n",
    "ishigami_si = qp.SensitivityIndices(ishigami,idxs)\n",
    "qmc_algo = qp.CubBayesNetG(ishigami_si,abs_tol=.05)\n",
    "solution,data = qmc_algo.integrate()\n",
    "print(data)\n",
    "si_closed = solution[0].squeeze()\n",
    "si_total = solution[1].squeeze()\n",
    "ci_comb_low_closed = data.comb_bound_low[0].squeeze()\n",
    "ci_comb_high_closed = data.comb_bound_high[0].squeeze()\n",
    "ci_comb_low_total = data.comb_bound_low[1].squeeze()\n",
    "ci_comb_high_total = data.comb_bound_high[1].squeeze()\n",
    "print(\"\\nApprox took %.1f sec and n = 2^(%d)\"%\n",
    "    (data.time_integrate,np.log2(data.n_total)))\n",
    "print('\\t si_closed:',si_closed)\n",
    "print('\\t si_total:',si_total)\n",
    "print('\\t ci_comb_low_closed:',ci_comb_low_closed)\n",
    "print('\\t ci_comb_high_closed:',ci_comb_high_closed)\n",
    "print('\\t ci_comb_low_total:',ci_comb_low_total)\n",
    "print('\\t ci_comb_high_total:',ci_comb_high_total)\n",
    "\n",
    "true_indices = qp.Ishigami._exact_sensitivity_indices(idxs,a,b)\n",
    "si_closed_true = true_indices[0]\n",
    "si_total_true = true_indices[1]"
   ]
  },
  {
   "cell_type": "code",
   "execution_count": null,
   "id": "b2232e67",
   "metadata": {},
   "outputs": [],
   "source": [
    "fig,ax = pyplot.subplots(figsize=(8,4))\n",
    "ax.grid(False)\n",
    "for spine in ['top','left','right','bottom']: ax.spines[spine].set_visible(False)\n",
    "width = .75\n",
    "ax.errorbar(fmt='none',color='k',\n",
    "    x = 1-si_total_true,\n",
    "    y = np.arange(len(si_closed)),\n",
    "    xerr = 0,\n",
    "    yerr = width/2,\n",
    "    alpha = 1)\n",
    "bar_closed = ax.barh(np.arange(len(si_closed)),np.flip(si_closed),width,label='Closed SI',color='w',edgecolor='k',alpha=.75,linestyle='--')\n",
    "ax.errorbar(fmt='none',color='k',\n",
    "    x = si_closed,\n",
    "    y = np.flip(np.arange(len(si_closed)))+width/4,\n",
    "    xerr = np.vstack((si_closed-ci_comb_low_closed,ci_comb_high_closed-si_closed)),\n",
    "    yerr = 0,\n",
    "    #elinewidth = 5,\n",
    "    alpha = .75)\n",
    "bar_total = ax.barh(np.arange(len(si_closed)),si_total,width,label='Total SI',color='w',alpha=.25,edgecolor='k',left=1-si_total,zorder=10,linestyle='-.')\n",
    "ax.errorbar(fmt='none',color='k',\n",
    "    x = 1-si_total,\n",
    "    y = np.arange(len(si_closed))-width/4,\n",
    "    xerr = np.vstack((si_total-ci_comb_low_total,ci_comb_high_total-si_total)),\n",
    "    yerr = 0,\n",
    "    #elinewidth = 5,\n",
    "    alpha = .25)\n",
    "closed_labels = [r'$\\underline{s}_{\\{%s\\}} = %.2f$'%(','.join([str(i+1) for i in idx]),c) for idx,c in zip(idxs[::-1],np.flip(si_closed))]\n",
    "closed_labels[3] = ''\n",
    "total_labels = [r'$\\overline{s}_{\\{%s\\}} = %.2f$'%(','.join([str(i+1) for i in idx]),t) for idx,t in zip(idxs,si_total)]\n",
    "ax.bar_label(bar_closed,label_type='center',labels=closed_labels)\n",
    "ax.bar_label(bar_total,label_type='center',labels=total_labels)\n",
    "ax.set_xlim([-.001,1.001])\n",
    "ax.axvline(x=0,ymin=0,ymax=len(si_closed),color='k',alpha=.25)\n",
    "ax.axvline(x=1,ymin=0,ymax=len(si_closed),color='k',alpha=.25)\n",
    "ax.set_yticklabels([])\n",
    "if root: fig.savefig(root+'ishigami.pdf',transparent=True)"
   ]
  },
  {
   "cell_type": "code",
   "execution_count": null,
   "id": "8185b3d3",
   "metadata": {},
   "outputs": [],
   "source": [
    "fig,ax = pyplot.subplots(nrows=1,ncols=3,figsize=(8,3))\n",
    "x_1d = np.linspace(0,1,num=128)\n",
    "x_1d_mat = np.tile(x_1d,(3,1)).T\n",
    "y_1d = qp.Ishigami._exact_fu_functions(x_1d_mat,indices=[[0],[1],[2]],a=a,b=b)\n",
    "for i in range(2):\n",
    "    ax[i].plot(x_1d,y_1d[:,i],color='k')\n",
    "    ax[i].set_xlim([0,1])\n",
    "    ax[i].set_xticks([0,1])\n",
    "    ax[i].set_xlabel(r'$x_{%d}$'%(i+1))\n",
    "    ax[i].set_title(r'$f_{\\{%d\\}} \\in [%.1f,%.1f]$'%(i+1,y_1d[:,i].min(),y_1d[:,i].max()))\n",
    "x_mesh,y_mesh = np.meshgrid(x_1d,x_1d)\n",
    "xquery = np.zeros((x_mesh.size,3))\n",
    "for i,idx in enumerate([[1,2]]): # [[0,1],[0,2],[1,2]]\n",
    "    xquery[:,idx[0]] = x_mesh.flatten()\n",
    "    xquery[:,idx[1]] = y_mesh.flatten()\n",
    "    zquery = qp.Ishigami._exact_fu_functions(xquery,indices=[idx],a=a,b=b)\n",
    "    z_mesh = zquery.reshape(x_mesh.shape)\n",
    "    ax[2+i].contourf(x_mesh,y_mesh,z_mesh,cmap=cm.Greys_r)\n",
    "    ax[2+i].set_xlabel(r'$x_{%d}$'%(idx[0]+1))\n",
    "    ax[2+i].set_ylabel(r'$x_{%d}$'%(idx[1]+1))\n",
    "    ax[2+i].set_title(r'$f_{\\{%d,%d\\}} \\in [%.1f,%.1f]$'%(tuple([i+1 for i in idx])+(z_mesh.min(),z_mesh.max())))\n",
    "    ax[2+i].set_xlim([0,1])\n",
    "    ax[2+i].set_ylim([0,1])\n",
    "    ax[2+i].set_xticks([0,1])\n",
    "    ax[2+i].set_yticks([0,1])\n",
    "if root: fig.savefig(root+'ishigami_fu.pdf')"
   ]
  },
  {
   "cell_type": "markdown",
   "id": "8fc6f6c7",
   "metadata": {},
   "source": [
    "### Neural Network"
   ]
  },
  {
   "cell_type": "code",
   "execution_count": null,
   "id": "841067ac",
   "metadata": {
    "scrolled": false
   },
   "outputs": [],
   "source": [
    "from sklearn.datasets import load_iris\n",
    "from sklearn.model_selection import train_test_split\n",
    "from sklearn.neural_network import MLPClassifier\n",
    "data = load_iris()\n",
    "feature_names = data[\"feature_names\"]\n",
    "feature_names = [fn.replace('sepal ','S')\\\n",
    "    .replace('length ','L')\\\n",
    "    .replace('petal ','P')\\\n",
    "    .replace('width ','W')\\\n",
    "    .replace('(cm)','') for fn in feature_names]\n",
    "target_names = data[\"target_names\"]\n",
    "xt,xv,yt,yv = train_test_split(data[\"data\"],data[\"target\"],\n",
    "    test_size = 1/3,\n",
    "    random_state = 7)"
   ]
  },
  {
   "cell_type": "code",
   "execution_count": null,
   "id": "8e7846bf",
   "metadata": {
    "scrolled": false
   },
   "outputs": [],
   "source": [
    "mlpc = MLPClassifier(random_state=7,max_iter=1024).fit(xt,yt)\n",
    "yhat = mlpc.predict(xv)\n",
    "print(\"accuracy: %.1f%%\"%(100*(yv==yhat).mean()))\n",
    "# accuracy: 98.0%\n",
    "sampler = qp.DigitalNetB2(4,seed=7)\n",
    "true_measure =  qp.Uniform(sampler,\n",
    "    lower_bound = xt.min(0),\n",
    "    upper_bound = xt.max(0))\n",
    "fun = qp.CustomFun(\n",
    "    true_measure = true_measure,\n",
    "    g = lambda x,compute_flags: mlpc.predict_proba(x),\n",
    "    dimension_indv = 3)\n",
    "si_fun = qp.SensitivityIndices(fun,indices=\"all\")\n",
    "qmc_algo = qp.CubBayesNetG(si_fun,abs_tol=.005)\n",
    "nn_sis,nn_sis_data = qmc_algo.integrate()"
   ]
  },
  {
   "cell_type": "code",
   "execution_count": null,
   "id": "e48c89bb",
   "metadata": {},
   "outputs": [],
   "source": [
    "#print(nn_sis_data.flags_indv.shape)\n",
    "#print(nn_sis_data.flags_comb.shape)\n",
    "print('samples: 2^(%d)'%np.log2(nn_sis_data.n_total))\n",
    "print('time: %.1e'%nn_sis_data.time_integrate)\n",
    "print('indices:',nn_sis_data.integrand.indices)\n",
    "\n",
    "import pandas as pd\n",
    "\n",
    "df_closed = pd.DataFrame(nn_sis[0],columns=target_names,index=[str(idx) for idx in nn_sis_data.integrand.indices])\n",
    "print('\\nClosed Indices')\n",
    "print(df_closed)\n",
    "df_total = pd.DataFrame(nn_sis[1],columns=target_names,index=[str(idx) for idx in nn_sis_data.integrand.indices])\n",
    "print('\\nTotal Indices')\n",
    "print(df_total)\n",
    "df_closed_singletons = df_closed.T.iloc[:,:4]\n",
    "df_closed_singletons['sum singletons'] = df_closed_singletons[['[%d]'%i for i in range(4)]].sum(1)\n",
    "df_closed_singletons.columns = data['feature_names']+['sum']\n",
    "df_closed_singletons = df_closed_singletons*100\n",
    "\n",
    "import warnings\n",
    "warnings.simplefilter('ignore',FutureWarning)\n",
    "#if root: df_closed_singletons.to_latex(root+'si_singletons_closed.tex',float_format='%.1f%%')"
   ]
  },
  {
   "cell_type": "code",
   "execution_count": null,
   "id": "eeb7b84b",
   "metadata": {},
   "outputs": [],
   "source": [
    "nindices = len(nn_sis_data.integrand.indices)\n",
    "fig,ax = pyplot.subplots(figsize=(9,5))\n",
    "ticks = np.arange(nindices)\n",
    "width = .25\n",
    "for i,(alpha,species) in enumerate(zip([.25,.5,.75],data['target_names'])):\n",
    "    cvals = df_closed[species].to_numpy()\n",
    "    tvals = df_total[species].to_numpy()\n",
    "    ticks_i = ticks+i*width\n",
    "    ax.bar(ticks_i,cvals,width=width,align='edge',color='k',alpha=alpha,label=species)\n",
    "    #ax.bar(ticks_i,np.flip(tvals),width=width,align='edge',bottom=1-np.flip(tvals),color=color,alpha=.1)\n",
    "ax.set_xlim([0,13+3*width])\n",
    "ax.set_xticks(ticks+1.5*width)\n",
    "\n",
    "# closed_labels = [r'$\\underline{s}_{\\{%s\\}}$'%(','.join([r'\\text{%s}'%feature_names[i] for i in idx])) for idx in nn_sis_data.integrand.indices]\n",
    "closed_labels = ['\\n'.join([feature_names[i] for i in idx]) for idx in nn_sis_data.integrand.indices]\n",
    "ax.set_xticklabels(closed_labels,rotation=0)\n",
    "ax.set_ylim([0,1]); ax.set_yticks([0,1])\n",
    "ax.grid(False)\n",
    "for spine in ['top','right','bottom']: ax.spines[spine].set_visible(False)\n",
    "ax.legend(frameon=False,loc='lower center',bbox_to_anchor=(.5,-.2),ncol=3);\n",
    "if root: fig.savefig(root+'nn_si.pdf')"
   ]
  },
  {
   "cell_type": "code",
   "execution_count": null,
   "id": "10ebad77",
   "metadata": {},
   "outputs": [],
   "source": []
  }
 ],
 "metadata": {
  "kernelspec": {
   "display_name": "Python 3 (ipykernel)",
   "language": "python",
   "name": "python3"
  },
  "language_info": {
   "codemirror_mode": {
    "name": "ipython",
    "version": 3
   },
   "file_extension": ".py",
   "mimetype": "text/x-python",
   "name": "python",
   "nbconvert_exporter": "python",
   "pygments_lexer": "ipython3",
   "version": "3.9.13"
  }
 },
 "nbformat": 4,
 "nbformat_minor": 5
}
