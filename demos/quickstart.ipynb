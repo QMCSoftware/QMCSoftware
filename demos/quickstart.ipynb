{
 "cells": [
  {
   "cell_type": "markdown",
   "metadata": {},
   "source": [
    "# QMCPy Quickstart"
   ]
  },
  {
   "cell_type": "code",
   "execution_count": 1,
   "metadata": {},
   "outputs": [],
   "source": [
    "from qmcpy import *\n",
    "import numpy as np"
   ]
  },
  {
   "cell_type": "markdown",
   "metadata": {},
   "source": [
    "Suppose we are interested in calculating \n",
    "$$\\mathbb{E}[keister(x)] = \\mathbb{E}[\\pi^{d/2} \\cos(||x_j||_2)] \\text{ for } x \\sim \\mathcal{N}(0,\\frac{1}{2})^d$$"
   ]
  },
  {
   "cell_type": "code",
   "execution_count": 2,
   "metadata": {},
   "outputs": [],
   "source": [
    "dimension = 2\n",
    "true_value = 1.808186429263620\n",
    "abs_tol = 1e-4\n",
    "def keister(x): # Also implemented in qmcpy/integrands/keister.py\n",
    "    # QMCPy will pass in a numpy ndarray, x, with shape n x d\n",
    "    #    n samples\n",
    "    #    d dimensions\n",
    "    d = x.shape[1]\n",
    "    norm_x = np.sqrt((x**2).sum(1)) # equivalent to np.linalg.norm(x,2,axis=1)\n",
    "    k = np.pi**(d/2)*np.cos(norm_x)\n",
    "    return k # k.shape should be n or nx1"
   ]
  },
  {
   "cell_type": "markdown",
   "metadata": {},
   "source": [
    "## Step 1: Discete Distribution which generates samples"
   ]
  },
  {
   "cell_type": "code",
   "execution_count": 3,
   "metadata": {},
   "outputs": [],
   "source": [
    "discrete_distribution = Lattice(dimension)"
   ]
  },
  {
   "cell_type": "markdown",
   "metadata": {},
   "source": [
    "## Step 2: True Measure which transforms the Integrand to accept the Discrete Distribution"
   ]
  },
  {
   "cell_type": "code",
   "execution_count": 4,
   "metadata": {},
   "outputs": [],
   "source": [
    "true_measure = Gaussian(discrete_distribution, mean=0, covariance=1/2)"
   ]
  },
  {
   "cell_type": "markdown",
   "metadata": {},
   "source": [
    "## Step 3: Integrand where samples should mimic the True Measure"
   ]
  },
  {
   "cell_type": "code",
   "execution_count": 5,
   "metadata": {},
   "outputs": [],
   "source": [
    "integrand = QuickConstruct(true_measure, custom_fun=keister)\n",
    "# or integrand = Keister(true_measure) using QMCPy Keister class"
   ]
  },
  {
   "cell_type": "markdown",
   "metadata": {},
   "source": [
    "## Step 4: Stopping Criterion that controls integration process"
   ]
  },
  {
   "cell_type": "code",
   "execution_count": 6,
   "metadata": {},
   "outputs": [],
   "source": [
    "stopping_criterion = CubLattice_g(integrand, abs_tol)"
   ]
  },
  {
   "cell_type": "markdown",
   "metadata": {},
   "source": [
    "## Step 5: Integrate"
   ]
  },
  {
   "cell_type": "code",
   "execution_count": 7,
   "metadata": {
    "scrolled": true
   },
   "outputs": [
    {
     "name": "stdout",
     "output_type": "stream",
     "text": [
      "Solution: 1.8082         \n",
      "QuickConstruct (Integrand Object)\n",
      "Lattice (DiscreteDistribution Object)\n",
      "\tdimension       2\n",
      "\tscramble        1\n",
      "\tseed            None\n",
      "\tbackend         gail\n",
      "\tmimics          StdUniform\n",
      "Gaussian (TrueMeasure Object)\n",
      "\tdistrib_name    Lattice\n",
      "\tmean            0\n",
      "\tcovariance      0.5000\n",
      "CubLattice_g (StoppingCriterion Object)\n",
      "\tabs_tol         0.0001\n",
      "\trel_tol         0\n",
      "\tn_init          1024\n",
      "\tn_max           34359738368\n",
      "CubatureData (AccumulateData Object)\n",
      "\tn_total         65536\n",
      "\tsolution        1.8082\n",
      "\tr_lag           4\n",
      "\ttime_integrate  0.0747\n",
      "\n",
      "Within absolute tolerance: True\n"
     ]
    }
   ],
   "source": [
    "solution,data = stopping_criterion.integrate()\n",
    "print(data)\n",
    "print('Within absolute tolerance:',abs(solution-true_value) < abs_tol)"
   ]
  },
  {
   "cell_type": "markdown",
   "metadata": {},
   "source": [
    "## Condensed Problem"
   ]
  },
  {
   "cell_type": "code",
   "execution_count": 8,
   "metadata": {},
   "outputs": [
    {
     "name": "stdout",
     "output_type": "stream",
     "text": [
      "Solution: 1.8082         \n",
      "QuickConstruct (Integrand Object)\n",
      "Lattice (DiscreteDistribution Object)\n",
      "\tdimension       2\n",
      "\tscramble        1\n",
      "\tseed            None\n",
      "\tbackend         gail\n",
      "\tmimics          StdUniform\n",
      "Gaussian (TrueMeasure Object)\n",
      "\tdistrib_name    Lattice\n",
      "\tmean            0\n",
      "\tcovariance      0.5000\n",
      "CubLattice_g (StoppingCriterion Object)\n",
      "\tabs_tol         0.0001\n",
      "\trel_tol         0\n",
      "\tn_init          1024\n",
      "\tn_max           34359738368\n",
      "CubatureData (AccumulateData Object)\n",
      "\tn_total         65536\n",
      "\tsolution        1.8082\n",
      "\tr_lag           4\n",
      "\ttime_integrate  0.0816\n",
      "\n",
      "Within absolute tolerance: True\n"
     ]
    }
   ],
   "source": [
    "# solution,data =  StoppingCriterion(Integrand(TrueMeasure(DiscreteDistribution(dimension)))).integrate()\n",
    "solution,data = CubLattice_g( # stopping criterion\n",
    "                    QuickConstruct( # integrand: QuickConstruct takes a function handle as its 2nd input\n",
    "                        Gaussian( # true measure\n",
    "                            Lattice(dimension), # discrete distribution\n",
    "                            covariance=1/2), # gaussian true measure attribute\n",
    "                        keister), # function handle\n",
    "                    abs_tol\n",
    "                ).integrate()\n",
    "print(data)\n",
    "print('Within absolute tolerance:',abs(solution-true_value) < abs_tol)"
   ]
  },
  {
   "cell_type": "markdown",
   "metadata": {},
   "source": [
    "### Note\n",
    "The problem above is not meant to be comprehensive, but to be a quick intro to using QMCPy for your integration problem. There are many other implementations of the DiscreteDistribution, TrueMeasure, Integrand, and StoppingCriterion abstract classes. See the other demos, workouts, class implementation, or documentation for further examples, parameters, and use-cases. "
   ]
  },
  {
   "cell_type": "code",
   "execution_count": null,
   "metadata": {},
   "outputs": [],
   "source": []
  }
 ],
 "metadata": {
  "kernelspec": {
   "display_name": "Python 3.6.9 64-bit ('qmcpy': virtualenv)",
   "language": "python",
   "name": "python36964bitqmcpyvirtualenva69299a9250a47659ef4c86409326de3"
  },
  "language_info": {
   "codemirror_mode": {
    "name": "ipython",
    "version": 3
   },
   "file_extension": ".py",
   "mimetype": "text/x-python",
   "name": "python",
   "nbconvert_exporter": "python",
   "pygments_lexer": "ipython3",
   "version": "3.6.9"
  }
 },
 "nbformat": 4,
 "nbformat_minor": 2
}
