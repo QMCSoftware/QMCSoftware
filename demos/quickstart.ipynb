{
 "cells": [
  {
   "cell_type": "markdown",
   "metadata": {
    "colab_type": "text",
    "id": "EbOXiuCQVs46"
   },
   "source": [
    "# A QMCPy Quick Start\n",
    "\n",
    "In this tutorial, we introduce QMCPy [1]  by an example. QMCPy can be installed with **pip install qmcpy** or cloned from the  [QMCSoftware GitHub repository](https://github.com/QMCSoftware/QMCSoftware)."
   ]
  },
  {
   "cell_type": "markdown",
   "metadata": {},
   "source": [
    "[![Open In Colab](https://colab.research.google.com/assets/colab-badge.svg)](https://colab.research.google.com/github/QMCSoftware/QMCSoftware/blob/develop/demos/quickstart.ipynb)"
   ]
  },
  {
   "cell_type": "markdown",
   "metadata": {
    "colab_type": "text",
    "id": "iaAiqS7ccQ2v"
   },
   "source": [
    "Consider the problem of integrating the Keister function [2] with respect to a $d$-dimensional Gaussian measure: \n",
    "\n",
    "$$f(\\boldsymbol{x}) = \\pi^{d/2} \\cos(||\\boldsymbol{x}||), \\qquad \\boldsymbol{x} \\in \\mathbb{R}^d, \\qquad \\boldsymbol{X} \\sim \\mathcal{N}(\\boldsymbol{0}_d,\\mathsf{I}_d/2),  \n",
    "\\\\ \\mu  =  \\mathbb{E}[f(\\boldsymbol{X})] := \\int_{\\mathbb{R}^d} f(\\boldsymbol{x}) \\, \\pi^{-d/2} \\exp( - ||\\boldsymbol{x}||^2) \\,  \\rm d \\boldsymbol{x} \n",
    "\\\\     =  \\int_{[0,1]^d} \\pi^{d/2}  \\cos\\left(\\sqrt{ \\frac 12 \\sum_{j=1}^d\\Phi^{-1}(x_j)}\\right)  \\, \\rm d \\boldsymbol{x},$$ where $||\\boldsymbol{x}||$ is the Euclidean norm, $\\mathsf{I}_d$ is the $d$-dimensional identity matrix, and \n",
    "$\\Phi$ denotes the standard normal cumulative distribution function. When $d=2$, $\\mu \\approx 1.80819$.\n",
    "\n",
    "The Keister function is implemented below with help from NumPy [3] in the following code snippet:"
   ]
  },
  {
   "cell_type": "code",
   "execution_count": 4,
   "metadata": {
    "colab": {},
    "colab_type": "code",
    "id": "Y8FUgw9PVaMt"
   },
   "outputs": [],
   "source": [
    "import numpy as np\n",
    "def keister(x):\n",
    "    \"\"\"\n",
    "    x: nxd numpy ndarray\n",
    "       n samples\n",
    "       d dimensions\n",
    "\n",
    "    returns n-vector of the Keister function\n",
    "    evaluated at the n input samples\n",
    "    \"\"\"\n",
    "    d = x.shape[-1]\n",
    "    norm_x = np.sqrt((x**2).sum(-1))\n",
    "    k = np.pi**(d/2) * np.cos(norm_x)\n",
    "    return k # size n vector"
   ]
  },
  {
   "cell_type": "markdown",
   "metadata": {
    "colab_type": "text",
    "id": "fJlEK4UYcUiz"
   },
   "source": [
    "In addition to our Keister integrand and Gaussian true measure, we must select a discrete distribution, and a stopping criterion [4]. The stopping criterion determines the number of points at which to evaluate the integrand in order for the mean approximation to be accurate within a user-specified error tolerance, $\\varepsilon$. The discrete distribution determines the sites at which the integrand is evaluated.\n",
    "\n",
    "For this Keister example, we select the lattice sequence as the discrete distribution and corresponding cubature-based stopping criterion [5]. The discrete distribution, true measure, integrand, and stopping criterion are then constructed within the QMCPy framework below. "
   ]
  },
  {
   "cell_type": "code",
   "execution_count": 5,
   "metadata": {
    "colab": {},
    "colab_type": "code",
    "id": "_w1FeeDRcbok"
   },
   "outputs": [],
   "source": [
    "import qmcpy\n",
    "d = 2\n",
    "discrete_distrib = qmcpy.Lattice(dimension = d)\n",
    "true_measure = qmcpy.Gaussian(discrete_distrib, mean = 0, covariance = 1/2)\n",
    "integrand = qmcpy.CustomFun(true_measure,keister)\n",
    "stopping_criterion = qmcpy.CubQMCLatticeG(integrand = integrand, abs_tol = 1e-3)"
   ]
  },
  {
   "cell_type": "markdown",
   "metadata": {
    "colab_type": "text",
    "id": "h09IBoHscjaY"
   },
   "source": [
    "Calling *integrate* on the *stopping_criterion* instance returns the numerical solution and a data object. Printing the data object will provide a neat summary of the integration problem. For details of the output fields, refer to the online, searchable QMCPy Documentation at [https://qmcpy.readthedocs.io/](https://qmcpy.readthedocs.io/en/latest/algorithms.html#module-qmcpy.integrand.keister)."
   ]
  },
  {
   "cell_type": "code",
   "execution_count": 6,
   "metadata": {
    "colab": {
     "base_uri": "https://localhost:8080/",
     "height": 403
    },
    "colab_type": "code",
    "id": "bvo8WUAociQk",
    "outputId": "f9a9d670-3718-4d65-d60a-6280ce267949"
   },
   "outputs": [
    {
     "name": "stdout",
     "output_type": "stream",
     "text": [
      "Data (Data)\n",
      "    solution        1.808\n",
      "    comb_bound_low  1.808\n",
      "    comb_bound_high 1.809\n",
      "    comb_bound_diff 0.001\n",
      "    comb_flags      1\n",
      "    n_total         2^(13)\n",
      "    n               2^(13)\n",
      "    time_integrate  0.013\n",
      "CubQMCLatticeG (AbstractStoppingCriterion)\n",
      "    abs_tol         0.001\n",
      "    rel_tol         0\n",
      "    n_init          2^(10)\n",
      "    n_limit         2^(30)\n",
      "CustomFun (AbstractIntegrand)\n",
      "Gaussian (AbstractTrueMeasure)\n",
      "    mean            0\n",
      "    covariance      2^(-1)\n",
      "    decomp_type     PCA\n",
      "Lattice (AbstractLDDiscreteDistribution)\n",
      "    d               2^(1)\n",
      "    replications    1\n",
      "    randomize       SHIFT\n",
      "    gen_vec_source  kuo.lattice-33002-1024-1048576.9125.txt\n",
      "    order           NATURAL\n",
      "    n_limit         2^(20)\n",
      "    entropy         331737392988868539347762820736945757498\n"
     ]
    }
   ],
   "source": [
    "solution, data = stopping_criterion.integrate()\n",
    "print(data)"
   ]
  },
  {
   "cell_type": "markdown",
   "metadata": {
    "colab_type": "text",
    "id": "jDkrhe11XFSU"
   },
   "source": [
    "This guide is not meant to be exhaustive but rather a quick introduction to the QMCPy framework and syntax. In an upcoming blog, we will take a closer look at low-discrepancy sequences such as the lattice sequence from the above example.\n",
    "\n",
    "## References\n",
    "\n",
    "1. Choi,  S.-C.  T.,  Hickernell,  F.,  McCourt,  M., Rathinavel J., &  Sorokin,  A. QMCPy:  A quasi-Monte  Carlo  Python  Library. https://qmcsoftware.github.io/QMCSoftware/. 2020.\n",
    "2.    Keister, B. D. Multidimensional Quadrature Algorithms. Computers in Physics 10, 119–122 (1996).\n",
    "3.    Oliphant,  T., Guide  to  NumPy https://ecs.wgtn.ac.nz/foswiki/pub/Support/ManualPagesAndDocumentation/numpybook.pdf (Trelgol Publishing USA, 2006).\n",
    "4.    Hickernell, F., Choi, S.-C. T., Jiang, L. & Jimenez Rugama, L. A. in WileyStatsRef-Statistics Reference Online (eds Davidian, M.et al.) (John Wiley & Sons Ltd., 2018).\n",
    "5.    Jimenez Rugama, L. A. & Hickernell, F. Adaptive  Multidimensional  Integration  Based  on  Rank-1  Lattices in Monte  Carlo  and  Quasi-Monte  Carlo Methods: MCQMC, Leuven, Belgium, April 2014 (eds Cools, R. & Nuyens, D.) 163.arXiv:1411.1966 (Springer-Verlag, Berlin, 2016), 407–422."
   ]
  }
 ],
 "metadata": {
  "colab": {
   "collapsed_sections": [],
   "name": "Quickstart.ipynb",
   "provenance": [],
   "toc_visible": true
  },
  "kernelspec": {
   "display_name": "qmcpy",
   "language": "python",
   "name": "python3"
  },
  "language_info": {
   "codemirror_mode": {
    "name": "ipython",
    "version": 3
   },
   "file_extension": ".py",
   "mimetype": "text/x-python",
   "name": "python",
   "nbconvert_exporter": "python",
   "pygments_lexer": "ipython3",
   "version": "3.9.13"
  }
 },
 "nbformat": 4,
 "nbformat_minor": 1
}
