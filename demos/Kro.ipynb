{
 "cells": [
  {
   "cell_type": "code",
   "execution_count": 1,
   "id": "3d090b6b-ac3c-498c-8a9e-1f5474d3d051",
   "metadata": {},
   "outputs": [
    {
     "ename": "ModuleNotFoundError",
     "evalue": "No module named 'sympy'",
     "output_type": "error",
     "traceback": [
      "\u001b[1;31m---------------------------------------------------------------------------\u001b[0m",
      "\u001b[1;31mModuleNotFoundError\u001b[0m                       Traceback (most recent call last)",
      "Cell \u001b[1;32mIn[1], line 1\u001b[0m\n\u001b[1;32m----> 1\u001b[0m \u001b[38;5;28;01mimport\u001b[39;00m \u001b[38;5;21;01mqmcpy\u001b[39;00m \u001b[38;5;28;01mas\u001b[39;00m \u001b[38;5;21;01mqp\u001b[39;00m\n\u001b[0;32m      2\u001b[0m \u001b[38;5;28;01mimport\u001b[39;00m \u001b[38;5;21;01mnumpy\u001b[39;00m \u001b[38;5;28;01mas\u001b[39;00m \u001b[38;5;21;01mnp\u001b[39;00m\n\u001b[0;32m      3\u001b[0m \u001b[38;5;28;01mimport\u001b[39;00m \u001b[38;5;21;01mrandom\u001b[39;00m\n",
      "File \u001b[1;32m~\\OneDrive\\Desktop\\QMCSoftware\\qmcpy\\__init__.py:1\u001b[0m\n\u001b[1;32m----> 1\u001b[0m \u001b[38;5;28;01mfrom\u001b[39;00m \u001b[38;5;21;01m.\u001b[39;00m\u001b[38;5;21;01mdiscrete_distribution\u001b[39;00m \u001b[38;5;28;01mimport\u001b[39;00m \u001b[38;5;241m*\u001b[39m\n\u001b[0;32m      2\u001b[0m \u001b[38;5;28;01mfrom\u001b[39;00m \u001b[38;5;21;01m.\u001b[39;00m\u001b[38;5;21;01mtrue_measure\u001b[39;00m \u001b[38;5;28;01mimport\u001b[39;00m \u001b[38;5;241m*\u001b[39m\n\u001b[0;32m      3\u001b[0m \u001b[38;5;28;01mfrom\u001b[39;00m \u001b[38;5;21;01m.\u001b[39;00m\u001b[38;5;21;01mintegrand\u001b[39;00m \u001b[38;5;28;01mimport\u001b[39;00m \u001b[38;5;241m*\u001b[39m\n",
      "File \u001b[1;32m~\\OneDrive\\Desktop\\QMCSoftware\\qmcpy\\discrete_distribution\\__init__.py:6\u001b[0m\n\u001b[0;32m      4\u001b[0m \u001b[38;5;28;01mfrom\u001b[39;00m \u001b[38;5;21;01m.\u001b[39;00m\u001b[38;5;21;01mdigital_net_b2\u001b[39;00m \u001b[38;5;28;01mimport\u001b[39;00m DigitalNetB2\n\u001b[0;32m      5\u001b[0m \u001b[38;5;28;01mfrom\u001b[39;00m \u001b[38;5;21;01m.\u001b[39;00m\u001b[38;5;21;01mhalton\u001b[39;00m \u001b[38;5;28;01mimport\u001b[39;00m Halton\n\u001b[1;32m----> 6\u001b[0m \u001b[38;5;28;01mfrom\u001b[39;00m \u001b[38;5;21;01m.\u001b[39;00m\u001b[38;5;21;01mkronecker\u001b[39;00m \u001b[38;5;28;01mimport\u001b[39;00m Kronecker\n",
      "File \u001b[1;32m~\\OneDrive\\Desktop\\QMCSoftware\\qmcpy\\discrete_distribution\\kronecker.py:3\u001b[0m\n\u001b[0;32m      1\u001b[0m \u001b[38;5;28;01mfrom\u001b[39;00m \u001b[38;5;21;01m.\u001b[39;00m\u001b[38;5;21;01mabstract_discrete_distribution\u001b[39;00m \u001b[38;5;28;01mimport\u001b[39;00m AbstractIIDDiscreteDistribution\n\u001b[0;32m      2\u001b[0m \u001b[38;5;28;01mfrom\u001b[39;00m \u001b[38;5;21;01mnumpy\u001b[39;00m \u001b[38;5;28;01mimport\u001b[39;00m \u001b[38;5;241m*\u001b[39m\n\u001b[1;32m----> 3\u001b[0m \u001b[38;5;28;01mfrom\u001b[39;00m \u001b[38;5;21;01msympy\u001b[39;00m \u001b[38;5;28;01mimport\u001b[39;00m nextprime\n\u001b[0;32m      4\u001b[0m \u001b[38;5;28;01mimport\u001b[39;00m \u001b[38;5;21;01mtime\u001b[39;00m\n\u001b[0;32m      6\u001b[0m PRIMES \u001b[38;5;241m=\u001b[39m array([\u001b[38;5;241m2\u001b[39m,   \u001b[38;5;241m3\u001b[39m,   \u001b[38;5;241m5\u001b[39m,   \u001b[38;5;241m7\u001b[39m,  \u001b[38;5;241m11\u001b[39m,  \u001b[38;5;241m13\u001b[39m,  \u001b[38;5;241m17\u001b[39m,  \u001b[38;5;241m19\u001b[39m,  \u001b[38;5;241m23\u001b[39m,  \u001b[38;5;241m29\u001b[39m,  \u001b[38;5;241m31\u001b[39m,  \u001b[38;5;241m37\u001b[39m,  \u001b[38;5;241m41\u001b[39m, \n\u001b[0;32m      7\u001b[0m                 \u001b[38;5;241m43\u001b[39m,  \u001b[38;5;241m47\u001b[39m,  \u001b[38;5;241m53\u001b[39m,  \u001b[38;5;241m59\u001b[39m,  \u001b[38;5;241m61\u001b[39m,  \u001b[38;5;241m67\u001b[39m,  \u001b[38;5;241m71\u001b[39m,  \u001b[38;5;241m73\u001b[39m,  \u001b[38;5;241m79\u001b[39m,  \u001b[38;5;241m83\u001b[39m,  \u001b[38;5;241m89\u001b[39m,  \u001b[38;5;241m97\u001b[39m, \u001b[38;5;241m101\u001b[39m,\n\u001b[0;32m      8\u001b[0m                 \u001b[38;5;241m103\u001b[39m, \u001b[38;5;241m107\u001b[39m, \u001b[38;5;241m109\u001b[39m, \u001b[38;5;241m113\u001b[39m, \u001b[38;5;241m127\u001b[39m, \u001b[38;5;241m131\u001b[39m, \u001b[38;5;241m137\u001b[39m, \u001b[38;5;241m139\u001b[39m, \u001b[38;5;241m149\u001b[39m, \u001b[38;5;241m151\u001b[39m, \u001b[38;5;241m157\u001b[39m, \u001b[38;5;241m163\u001b[39m, \u001b[38;5;241m167\u001b[39m,\n\u001b[1;32m   (...)\u001b[0m\n\u001b[0;32m     12\u001b[0m                 \u001b[38;5;241m401\u001b[39m, \u001b[38;5;241m409\u001b[39m, \u001b[38;5;241m419\u001b[39m, \u001b[38;5;241m421\u001b[39m, \u001b[38;5;241m431\u001b[39m, \u001b[38;5;241m433\u001b[39m, \u001b[38;5;241m439\u001b[39m, \u001b[38;5;241m443\u001b[39m, \u001b[38;5;241m449\u001b[39m, \u001b[38;5;241m457\u001b[39m, \u001b[38;5;241m461\u001b[39m, \u001b[38;5;241m463\u001b[39m, \u001b[38;5;241m467\u001b[39m,\n\u001b[0;32m     13\u001b[0m                 \u001b[38;5;241m479\u001b[39m, \u001b[38;5;241m487\u001b[39m, \u001b[38;5;241m491\u001b[39m, \u001b[38;5;241m499\u001b[39m, \u001b[38;5;241m503\u001b[39m, \u001b[38;5;241m509\u001b[39m, \u001b[38;5;241m521\u001b[39m, \u001b[38;5;241m523\u001b[39m, \u001b[38;5;241m541\u001b[39m])\n",
      "\u001b[1;31mModuleNotFoundError\u001b[0m: No module named 'sympy'"
     ]
    }
   ],
   "source": [
    "import qmcpy as qp\n",
    "import numpy as np\n",
    "import random\n",
    "import math\n",
    "import time\n",
    "import matplotlib.pyplot as plt\n",
    "import scipy\n",
    "\n",
    "print('okay')"
   ]
  },
  {
   "cell_type": "code",
   "execution_count": null,
   "id": "2e12ed78-1da8-4215-8073-1958159d5b5d",
   "metadata": {},
   "outputs": [],
   "source": []
  }
 ],
 "metadata": {
  "kernelspec": {
   "display_name": "Python 3 (ipykernel)",
   "language": "python",
   "name": "python3"
  },
  "language_info": {
   "codemirror_mode": {
    "name": "ipython",
    "version": 3
   },
   "file_extension": ".py",
   "mimetype": "text/x-python",
   "name": "python",
   "nbconvert_exporter": "python",
   "pygments_lexer": "ipython3",
   "version": "3.9.5"
  }
 },
 "nbformat": 4,
 "nbformat_minor": 5
}
