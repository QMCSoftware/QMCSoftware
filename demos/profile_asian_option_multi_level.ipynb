{
 "cells": [
  {
   "cell_type": "markdown",
   "id": "e700ab90",
   "metadata": {},
   "source": [
    "The purpose of this notebook is to showcase some of the most popular profiling tools for Python code and apply it to the example for pricing an Asian call option with multi-level Monte Carlo method in QMCPy."
   ]
  },
  {
   "cell_type": "markdown",
   "id": "b0ef0d37",
   "metadata": {},
   "source": [
    "Author: Sou-Cheng Choi and Josh Herman\n",
    "\n",
    "Date upodated: Mar 27, 2022\n",
    "\n",
    "Date created: Mar 12, 2022"
   ]
  },
  {
   "cell_type": "code",
   "execution_count": 1,
   "id": "2314f012",
   "metadata": {},
   "outputs": [],
   "source": [
    "import os\n",
    "import cProfile"
   ]
  },
  {
   "cell_type": "raw",
   "id": "96dbdd08",
   "metadata": {},
   "source": [
    "cwd = os. getcwd()\n",
    "cwd"
   ]
  },
  {
   "cell_type": "code",
   "execution_count": 2,
   "id": "08a29a14",
   "metadata": {
    "scrolled": true
   },
   "outputs": [],
   "source": [
    "from qmcpy import *"
   ]
  },
  {
   "cell_type": "code",
   "execution_count": 3,
   "id": "8c924ce9",
   "metadata": {},
   "outputs": [],
   "source": [
    "from workouts.integration_examples.asian_option_multi_level import asian_option_multi_level"
   ]
  },
  {
   "cell_type": "markdown",
   "id": "a9246021",
   "metadata": {},
   "source": [
    "## Using time or timeit magic"
   ]
  },
  {
   "cell_type": "markdown",
   "id": "93a8b16a",
   "metadata": {},
   "source": [
    "`%timeit`: line magic \n",
    "\n",
    "`%%timeit`: cell magic \n",
    "\n",
    "`%time`: line magic "
   ]
  },
  {
   "cell_type": "code",
   "execution_count": 4,
   "id": "d6e10511",
   "metadata": {},
   "outputs": [
    {
     "name": "stdout",
     "output_type": "stream",
     "text": [
      "\n",
      "~~~~~~~~~~~~~~~~~~~~~~~~~~~~~~~~~~~~~~~~~~~~~~~~~~~~~~~~~~~~~~~~~~~~~~~~~~~~~~~~~~~~~~~~~~~~~~~~~~~~\n",
      "\n",
      "MeanVarData (AccumulateData Object)\n",
      "    solution        5.841\n",
      "    error_bound     0.010\n",
      "    n_total         6704757\n",
      "    n               [5898014.  693796.  109875.]\n",
      "    levels          3\n",
      "    time_integrate  12.831\n",
      "CubMCCLT (StoppingCriterion Object)\n",
      "    abs_tol         0.010\n",
      "    rel_tol         0\n",
      "    n_init          2^(10)\n",
      "    n_max           10000000000\n",
      "    inflate         1.200\n",
      "    alpha           0.010\n",
      "AsianOption (Integrand Object)\n",
      "    volatility      2^(-1)\n",
      "    call_put        call\n",
      "    start_price     30\n",
      "    strike_price    25\n",
      "    interest_rate   0.010\n",
      "    mean_type       geometric\n",
      "    multilevel_dims [ 4 16 64]\n",
      "BrownianMotion (TrueMeasure Object)\n",
      "    time_vec        1\n",
      "    drift           0\n",
      "    mean            0\n",
      "    covariance      1\n",
      "    decomp_type     PCA\n",
      "IIDStdUniform (DiscreteDistribution Object)\n",
      "    d               1\n",
      "    entropy         7\n",
      "    spawn_key       ()\n",
      "~~~~~~~~~~~~~~~~~~~~~~~~~~~~~~~~~~~~~~~~~~~~~~~~~~~~~~~~~~~~~~~~~~~~~~~~~~~~~~~~~~~~~~~~~~~~~~~~~~~~\n",
      "\n",
      "\n",
      "~~~~~~~~~~~~~~~~~~~~~~~~~~~~~~~~~~~~~~~~~~~~~~~~~~~~~~~~~~~~~~~~~~~~~~~~~~~~~~~~~~~~~~~~~~~~~~~~~~~~\n",
      "\n",
      "MeanVarData (AccumulateData Object)\n",
      "    solution        5.841\n",
      "    error_bound     0.010\n",
      "    n_total         6678756\n",
      "    n               [5840013.  715593.  120078.]\n",
      "    levels          3\n",
      "    time_integrate  12.128\n",
      "CubMCCLT (StoppingCriterion Object)\n",
      "    abs_tol         0.010\n",
      "    rel_tol         0\n",
      "    n_init          2^(10)\n",
      "    n_max           10000000000\n",
      "    inflate         1.200\n",
      "    alpha           0.010\n",
      "AsianOption (Integrand Object)\n",
      "    volatility      2^(-1)\n",
      "    call_put        call\n",
      "    start_price     30\n",
      "    strike_price    25\n",
      "    interest_rate   0.010\n",
      "    mean_type       geometric\n",
      "    multilevel_dims [ 4 16 64]\n",
      "BrownianMotion (TrueMeasure Object)\n",
      "    time_vec        1\n",
      "    drift           0\n",
      "    mean            0\n",
      "    covariance      1\n",
      "    decomp_type     PCA\n",
      "IIDStdUniform (DiscreteDistribution Object)\n",
      "    d               1\n",
      "    entropy         7\n",
      "    spawn_key       ()\n",
      "~~~~~~~~~~~~~~~~~~~~~~~~~~~~~~~~~~~~~~~~~~~~~~~~~~~~~~~~~~~~~~~~~~~~~~~~~~~~~~~~~~~~~~~~~~~~~~~~~~~~\n",
      "\n",
      "\n",
      "~~~~~~~~~~~~~~~~~~~~~~~~~~~~~~~~~~~~~~~~~~~~~~~~~~~~~~~~~~~~~~~~~~~~~~~~~~~~~~~~~~~~~~~~~~~~~~~~~~~~\n",
      "\n",
      "MeanVarData (AccumulateData Object)\n",
      "    solution        5.841\n",
      "    error_bound     0.010\n",
      "    n_total         6674579\n",
      "    n               [5832104.  716835.  122568.]\n",
      "    levels          3\n",
      "    time_integrate  12.114\n",
      "CubMCCLT (StoppingCriterion Object)\n",
      "    abs_tol         0.010\n",
      "    rel_tol         0\n",
      "    n_init          2^(10)\n",
      "    n_max           10000000000\n",
      "    inflate         1.200\n",
      "    alpha           0.010\n",
      "AsianOption (Integrand Object)\n",
      "    volatility      2^(-1)\n",
      "    call_put        call\n",
      "    start_price     30\n",
      "    strike_price    25\n",
      "    interest_rate   0.010\n",
      "    mean_type       geometric\n",
      "    multilevel_dims [ 4 16 64]\n",
      "BrownianMotion (TrueMeasure Object)\n",
      "    time_vec        1\n",
      "    drift           0\n",
      "    mean            0\n",
      "    covariance      1\n",
      "    decomp_type     PCA\n",
      "IIDStdUniform (DiscreteDistribution Object)\n",
      "    d               1\n",
      "    entropy         7\n",
      "    spawn_key       ()\n",
      "~~~~~~~~~~~~~~~~~~~~~~~~~~~~~~~~~~~~~~~~~~~~~~~~~~~~~~~~~~~~~~~~~~~~~~~~~~~~~~~~~~~~~~~~~~~~~~~~~~~~\n",
      "\n",
      "\n",
      "~~~~~~~~~~~~~~~~~~~~~~~~~~~~~~~~~~~~~~~~~~~~~~~~~~~~~~~~~~~~~~~~~~~~~~~~~~~~~~~~~~~~~~~~~~~~~~~~~~~~\n",
      "\n",
      "MeanVarData (AccumulateData Object)\n",
      "    solution        5.841\n",
      "    error_bound     0.010\n",
      "    n_total         6705577\n",
      "    n               [5895612.  698088.  108805.]\n",
      "    levels          3\n",
      "    time_integrate  11.912\n",
      "CubMCCLT (StoppingCriterion Object)\n",
      "    abs_tol         0.010\n",
      "    rel_tol         0\n",
      "    n_init          2^(10)\n",
      "    n_max           10000000000\n",
      "    inflate         1.200\n",
      "    alpha           0.010\n",
      "AsianOption (Integrand Object)\n",
      "    volatility      2^(-1)\n",
      "    call_put        call\n",
      "    start_price     30\n",
      "    strike_price    25\n",
      "    interest_rate   0.010\n",
      "    mean_type       geometric\n",
      "    multilevel_dims [ 4 16 64]\n",
      "BrownianMotion (TrueMeasure Object)\n",
      "    time_vec        1\n",
      "    drift           0\n",
      "    mean            0\n",
      "    covariance      1\n",
      "    decomp_type     PCA\n",
      "IIDStdUniform (DiscreteDistribution Object)\n",
      "    d               1\n",
      "    entropy         7\n",
      "    spawn_key       ()\n",
      "~~~~~~~~~~~~~~~~~~~~~~~~~~~~~~~~~~~~~~~~~~~~~~~~~~~~~~~~~~~~~~~~~~~~~~~~~~~~~~~~~~~~~~~~~~~~~~~~~~~~\n",
      "\n",
      "\n",
      "~~~~~~~~~~~~~~~~~~~~~~~~~~~~~~~~~~~~~~~~~~~~~~~~~~~~~~~~~~~~~~~~~~~~~~~~~~~~~~~~~~~~~~~~~~~~~~~~~~~~\n",
      "\n",
      "MeanVarData (AccumulateData Object)\n",
      "    solution        5.841\n",
      "    error_bound     0.010\n",
      "    n_total         6677593\n",
      "    n               [5832841.  721844.  119836.]\n",
      "    levels          3\n",
      "    time_integrate  12.258\n",
      "CubMCCLT (StoppingCriterion Object)\n",
      "    abs_tol         0.010\n",
      "    rel_tol         0\n",
      "    n_init          2^(10)\n",
      "    n_max           10000000000\n",
      "    inflate         1.200\n",
      "    alpha           0.010\n",
      "AsianOption (Integrand Object)\n",
      "    volatility      2^(-1)\n",
      "    call_put        call\n",
      "    start_price     30\n",
      "    strike_price    25\n",
      "    interest_rate   0.010\n",
      "    mean_type       geometric\n",
      "    multilevel_dims [ 4 16 64]\n",
      "BrownianMotion (TrueMeasure Object)\n",
      "    time_vec        1\n",
      "    drift           0\n",
      "    mean            0\n",
      "    covariance      1\n",
      "    decomp_type     PCA\n",
      "IIDStdUniform (DiscreteDistribution Object)\n",
      "    d               1\n",
      "    entropy         7\n",
      "    spawn_key       ()\n",
      "~~~~~~~~~~~~~~~~~~~~~~~~~~~~~~~~~~~~~~~~~~~~~~~~~~~~~~~~~~~~~~~~~~~~~~~~~~~~~~~~~~~~~~~~~~~~~~~~~~~~\n",
      "\n",
      "\n",
      "~~~~~~~~~~~~~~~~~~~~~~~~~~~~~~~~~~~~~~~~~~~~~~~~~~~~~~~~~~~~~~~~~~~~~~~~~~~~~~~~~~~~~~~~~~~~~~~~~~~~\n",
      "\n",
      "MeanVarData (AccumulateData Object)\n",
      "    solution        5.841\n",
      "    error_bound     0.010\n",
      "    n_total         6679374\n",
      "    n               [5815658.  744482.  116162.]\n",
      "    levels          3\n",
      "    time_integrate  12.371\n",
      "CubMCCLT (StoppingCriterion Object)\n",
      "    abs_tol         0.010\n",
      "    rel_tol         0\n",
      "    n_init          2^(10)\n",
      "    n_max           10000000000\n",
      "    inflate         1.200\n",
      "    alpha           0.010\n",
      "AsianOption (Integrand Object)\n",
      "    volatility      2^(-1)\n",
      "    call_put        call\n",
      "    start_price     30\n",
      "    strike_price    25\n",
      "    interest_rate   0.010\n",
      "    mean_type       geometric\n",
      "    multilevel_dims [ 4 16 64]\n",
      "BrownianMotion (TrueMeasure Object)\n",
      "    time_vec        1\n",
      "    drift           0\n",
      "    mean            0\n",
      "    covariance      1\n",
      "    decomp_type     PCA\n",
      "IIDStdUniform (DiscreteDistribution Object)\n",
      "    d               1\n",
      "    entropy         7\n",
      "    spawn_key       ()\n",
      "~~~~~~~~~~~~~~~~~~~~~~~~~~~~~~~~~~~~~~~~~~~~~~~~~~~~~~~~~~~~~~~~~~~~~~~~~~~~~~~~~~~~~~~~~~~~~~~~~~~~\n",
      "\n",
      "\n",
      "~~~~~~~~~~~~~~~~~~~~~~~~~~~~~~~~~~~~~~~~~~~~~~~~~~~~~~~~~~~~~~~~~~~~~~~~~~~~~~~~~~~~~~~~~~~~~~~~~~~~\n",
      "\n",
      "MeanVarData (AccumulateData Object)\n",
      "    solution        5.842\n",
      "    error_bound     0.010\n",
      "    n_total         6686127\n",
      "    n               [5841480.  727355.  114220.]\n",
      "    levels          3\n",
      "    time_integrate  12.207\n",
      "CubMCCLT (StoppingCriterion Object)\n",
      "    abs_tol         0.010\n",
      "    rel_tol         0\n",
      "    n_init          2^(10)\n",
      "    n_max           10000000000\n",
      "    inflate         1.200\n",
      "    alpha           0.010\n",
      "AsianOption (Integrand Object)\n",
      "    volatility      2^(-1)\n",
      "    call_put        call\n",
      "    start_price     30\n",
      "    strike_price    25\n",
      "    interest_rate   0.010\n",
      "    mean_type       geometric\n",
      "    multilevel_dims [ 4 16 64]\n",
      "BrownianMotion (TrueMeasure Object)\n",
      "    time_vec        1\n",
      "    drift           0\n",
      "    mean            0\n",
      "    covariance      1\n",
      "    decomp_type     PCA\n",
      "IIDStdUniform (DiscreteDistribution Object)\n",
      "    d               1\n",
      "    entropy         7\n",
      "    spawn_key       ()\n",
      "~~~~~~~~~~~~~~~~~~~~~~~~~~~~~~~~~~~~~~~~~~~~~~~~~~~~~~~~~~~~~~~~~~~~~~~~~~~~~~~~~~~~~~~~~~~~~~~~~~~~\n",
      "\n",
      "\n",
      "~~~~~~~~~~~~~~~~~~~~~~~~~~~~~~~~~~~~~~~~~~~~~~~~~~~~~~~~~~~~~~~~~~~~~~~~~~~~~~~~~~~~~~~~~~~~~~~~~~~~\n",
      "\n",
      "MeanVarData (AccumulateData Object)\n",
      "    solution        5.842\n",
      "    error_bound     0.010\n",
      "    n_total         6697898\n",
      "    n               [5866646.  718750.  109430.]\n",
      "    levels          3\n",
      "    time_integrate  12.973\n",
      "CubMCCLT (StoppingCriterion Object)\n",
      "    abs_tol         0.010\n",
      "    rel_tol         0\n",
      "    n_init          2^(10)\n",
      "    n_max           10000000000\n",
      "    inflate         1.200\n",
      "    alpha           0.010\n",
      "AsianOption (Integrand Object)\n",
      "    volatility      2^(-1)\n",
      "    call_put        call\n",
      "    start_price     30\n",
      "    strike_price    25\n",
      "    interest_rate   0.010\n",
      "    mean_type       geometric\n",
      "    multilevel_dims [ 4 16 64]\n",
      "BrownianMotion (TrueMeasure Object)\n",
      "    time_vec        1\n",
      "    drift           0\n",
      "    mean            0\n",
      "    covariance      1\n",
      "    decomp_type     PCA\n",
      "IIDStdUniform (DiscreteDistribution Object)\n",
      "    d               1\n",
      "    entropy         7\n",
      "    spawn_key       ()\n",
      "~~~~~~~~~~~~~~~~~~~~~~~~~~~~~~~~~~~~~~~~~~~~~~~~~~~~~~~~~~~~~~~~~~~~~~~~~~~~~~~~~~~~~~~~~~~~~~~~~~~~\n",
      "\n",
      "12.3 s ± 315 ms per loop (mean ± std. dev. of 7 runs, 1 loop each)\n"
     ]
    }
   ],
   "source": [
    "%timeit asian_option_multi_level(abs_tol=.01)"
   ]
  },
  {
   "cell_type": "code",
   "execution_count": 5,
   "id": "9e370320",
   "metadata": {},
   "outputs": [
    {
     "name": "stdout",
     "output_type": "stream",
     "text": [
      "\n",
      "~~~~~~~~~~~~~~~~~~~~~~~~~~~~~~~~~~~~~~~~~~~~~~~~~~~~~~~~~~~~~~~~~~~~~~~~~~~~~~~~~~~~~~~~~~~~~~~~~~~~\n",
      "\n",
      "MeanVarData (AccumulateData Object)\n",
      "    solution        5.842\n",
      "    error_bound     0.010\n",
      "    n_total         6702414\n",
      "    n               [5907601.  677556.  114185.]\n",
      "    levels          3\n",
      "    time_integrate  13.054\n",
      "CubMCCLT (StoppingCriterion Object)\n",
      "    abs_tol         0.010\n",
      "    rel_tol         0\n",
      "    n_init          2^(10)\n",
      "    n_max           10000000000\n",
      "    inflate         1.200\n",
      "    alpha           0.010\n",
      "AsianOption (Integrand Object)\n",
      "    volatility      2^(-1)\n",
      "    call_put        call\n",
      "    start_price     30\n",
      "    strike_price    25\n",
      "    interest_rate   0.010\n",
      "    mean_type       geometric\n",
      "    multilevel_dims [ 4 16 64]\n",
      "BrownianMotion (TrueMeasure Object)\n",
      "    time_vec        1\n",
      "    drift           0\n",
      "    mean            0\n",
      "    covariance      1\n",
      "    decomp_type     PCA\n",
      "IIDStdUniform (DiscreteDistribution Object)\n",
      "    d               1\n",
      "    entropy         7\n",
      "    spawn_key       ()\n",
      "~~~~~~~~~~~~~~~~~~~~~~~~~~~~~~~~~~~~~~~~~~~~~~~~~~~~~~~~~~~~~~~~~~~~~~~~~~~~~~~~~~~~~~~~~~~~~~~~~~~~\n",
      "\n",
      "CPU times: user 24.6 s, sys: 1.85 s, total: 26.4 s\n",
      "Wall time: 13.1 s\n"
     ]
    }
   ],
   "source": [
    "%time asian_option_multi_level(abs_tol=.01)"
   ]
  },
  {
   "cell_type": "markdown",
   "id": "181d6420",
   "metadata": {},
   "source": [
    "## Using cprofile"
   ]
  },
  {
   "cell_type": "markdown",
   "id": "0d15bc98",
   "metadata": {},
   "source": [
    "The following prints long outputs:"
   ]
  },
  {
   "cell_type": "raw",
   "id": "89fb93b7",
   "metadata": {},
   "source": [
    "!python -m cProfile ../workouts/integration_examples/asian_option_multi_level.py"
   ]
  },
  {
   "cell_type": "markdown",
   "id": "363b7b20",
   "metadata": {},
   "source": [
    "The following command with -o captures cProfile output in a .prof file, but does not require the decorator `@profile` to be added in codebase."
   ]
  },
  {
   "cell_type": "code",
   "execution_count": 6,
   "id": "561c8281",
   "metadata": {
    "scrolled": true
   },
   "outputs": [
    {
     "name": "stdout",
     "output_type": "stream",
     "text": [
      "\n",
      "~~~~~~~~~~~~~~~~~~~~~~~~~~~~~~~~~~~~~~~~~~~~~~~~~~~~~~~~~~~~~~~~~~~~~~~~~~~~~~~~~~~~~~~~~~~~~~~~~~~~\n",
      "\n",
      "MeanVarData (AccumulateData Object)\n",
      "    solution        5.842\n",
      "    error_bound     0.010\n",
      "    n_total         6689022\n",
      "    n               [5849907.  722785.  113258.]\n",
      "    levels          3\n",
      "    time_integrate  14.632\n",
      "CubMCCLT (StoppingCriterion Object)\n",
      "    abs_tol         0.010\n",
      "    rel_tol         0\n",
      "    n_init          2^(10)\n",
      "    n_max           10000000000\n",
      "    inflate         1.200\n",
      "    alpha           0.010\n",
      "AsianOption (Integrand Object)\n",
      "    volatility      2^(-1)\n",
      "    call_put        call\n",
      "    start_price     30\n",
      "    strike_price    25\n",
      "    interest_rate   0.010\n",
      "    mean_type       geometric\n",
      "    multilevel_dims [ 4 16 64]\n",
      "BrownianMotion (TrueMeasure Object)\n",
      "    time_vec        1\n",
      "    drift           0\n",
      "    mean            0\n",
      "    covariance      1\n",
      "    decomp_type     PCA\n",
      "IIDStdUniform (DiscreteDistribution Object)\n",
      "    d               1\n",
      "    entropy         7\n",
      "    spawn_key       ()\n",
      "~~~~~~~~~~~~~~~~~~~~~~~~~~~~~~~~~~~~~~~~~~~~~~~~~~~~~~~~~~~~~~~~~~~~~~~~~~~~~~~~~~~~~~~~~~~~~~~~~~~~\n",
      "\n"
     ]
    }
   ],
   "source": [
    "!python -m cProfile -o ../workouts/integration_examples/out/asian_option_multi_level.prof  ../workouts/integration_examples/asian_option_multi_level.py "
   ]
  },
  {
   "cell_type": "markdown",
   "id": "e64b816e",
   "metadata": {},
   "source": [
    "BTW, we have added to `makefile` a target `profile` for profiling all QMCPy workouts and tests."
   ]
  },
  {
   "cell_type": "markdown",
   "id": "9fda5522",
   "metadata": {},
   "source": [
    "The following is a magic command that gives same outputs in a pop-up window."
   ]
  },
  {
   "cell_type": "raw",
   "id": "a4dfda0b",
   "metadata": {},
   "source": [
    "%prun asian_option_multi_level(abs_tol=.01)"
   ]
  },
  {
   "cell_type": "markdown",
   "id": "ea4c8272",
   "metadata": {},
   "source": [
    "## Snakeviz (https://jiffyclub.github.io/snakeviz/)"
   ]
  },
  {
   "cell_type": "raw",
   "id": "2a2a95b9",
   "metadata": {},
   "source": [
    "pip install snakeviz"
   ]
  },
  {
   "cell_type": "markdown",
   "id": "18fcf041",
   "metadata": {},
   "source": [
    "The following generates an HTML page in a new browser tab and it is very readable:\n",
    "http://127.0.0.1:8080/snakeviz/%2FUsers%2Fterrya%2FDocuments%2FProgramData%2FQMCSoftware%2Fworkouts%2Fintegration_examples%2Fout%2Fasian_option_multi_level.prof"
   ]
  },
  {
   "cell_type": "markdown",
   "id": "b0e9bd25",
   "metadata": {},
   "source": [
    "To exit the following command, press stop button."
   ]
  },
  {
   "cell_type": "raw",
   "id": "2252054d",
   "metadata": {},
   "source": [
    "!snakeviz ../workouts/integration_examples/out/asian_option_multi_level.prof "
   ]
  },
  {
   "cell_type": "markdown",
   "id": "c6dfe479",
   "metadata": {},
   "source": [
    "A screenshot:"
   ]
  },
  {
   "cell_type": "code",
   "execution_count": 25,
   "id": "5ac8724a",
   "metadata": {},
   "outputs": [
    {
     "data": {
      "text/html": [
       "<img src=\"../profile/snakeviz_profile_aoml.jpg\" width=\"1000\" height=\"1000\"/>"
      ],
      "text/plain": [
       "<IPython.core.display.Image object>"
      ]
     },
     "execution_count": 25,
     "metadata": {},
     "output_type": "execute_result"
    }
   ],
   "source": [
    "from IPython.display import Image\n",
    "Image(url= \"../profile/snakeviz_profile_aoml.jpg\", width=1000, height=1000)"
   ]
  },
  {
   "cell_type": "markdown",
   "id": "ee324d5a",
   "metadata": {},
   "source": [
    "An alternative to use snakeviz with outputs captured in the Notebook:"
   ]
  },
  {
   "cell_type": "code",
   "execution_count": 8,
   "id": "b445d545",
   "metadata": {},
   "outputs": [],
   "source": [
    "%load_ext snakeviz"
   ]
  },
  {
   "cell_type": "code",
   "execution_count": 9,
   "id": "59650773",
   "metadata": {
    "scrolled": true
   },
   "outputs": [
    {
     "name": "stdout",
     "output_type": "stream",
     "text": [
      "\n",
      "~~~~~~~~~~~~~~~~~~~~~~~~~~~~~~~~~~~~~~~~~~~~~~~~~~~~~~~~~~~~~~~~~~~~~~~~~~~~~~~~~~~~~~~~~~~~~~~~~~~~\n",
      "\n",
      "MeanVarData (AccumulateData Object)\n",
      "    solution        5.842\n",
      "    error_bound     0.010\n",
      "    n_total         6733876\n",
      "    n               [5886378.  750698.   93728.]\n",
      "    levels          3\n",
      "    time_integrate  13.567\n",
      "CubMCCLT (StoppingCriterion Object)\n",
      "    abs_tol         0.010\n",
      "    rel_tol         0\n",
      "    n_init          2^(10)\n",
      "    n_max           10000000000\n",
      "    inflate         1.200\n",
      "    alpha           0.010\n",
      "AsianOption (Integrand Object)\n",
      "    volatility      2^(-1)\n",
      "    call_put        call\n",
      "    start_price     30\n",
      "    strike_price    25\n",
      "    interest_rate   0.010\n",
      "    mean_type       geometric\n",
      "    multilevel_dims [ 4 16 64]\n",
      "BrownianMotion (TrueMeasure Object)\n",
      "    time_vec        1\n",
      "    drift           0\n",
      "    mean            0\n",
      "    covariance      1\n",
      "    decomp_type     PCA\n",
      "IIDStdUniform (DiscreteDistribution Object)\n",
      "    d               1\n",
      "    entropy         7\n",
      "    spawn_key       ()\n",
      "~~~~~~~~~~~~~~~~~~~~~~~~~~~~~~~~~~~~~~~~~~~~~~~~~~~~~~~~~~~~~~~~~~~~~~~~~~~~~~~~~~~~~~~~~~~~~~~~~~~~\n",
      "\n",
      " \n",
      "*** Profile stats marshalled to file '/var/folders/l3/wz4prc5d4kv118mgp30jj3_m0000gn/T/tmp6t2cne3_'. \n",
      "Embedding SnakeViz in this document...\n"
     ]
    },
    {
     "data": {
      "text/html": [
       "\n",
       "<iframe id='snakeviz-8b0b220c-adf4-11ec-9d10-acde48001122' frameborder=0 seamless width='100%' height='1000'></iframe>\n",
       "<script>document.getElementById(\"snakeviz-8b0b220c-adf4-11ec-9d10-acde48001122\").setAttribute(\"src\", \"http://\" + document.location.hostname + \":8080/snakeviz/%2Fvar%2Ffolders%2Fl3%2Fwz4prc5d4kv118mgp30jj3_m0000gn%2FT%2Ftmp6t2cne3_\")</script>\n"
      ],
      "text/plain": [
       "<IPython.core.display.HTML object>"
      ]
     },
     "metadata": {},
     "output_type": "display_data"
    },
    {
     "name": "stderr",
     "output_type": "stream",
     "text": [
      "Exception ignored in: <function Popen.__del__ at 0x7fed300b11e0>\n",
      "Traceback (most recent call last):\n",
      "  File \"/Users/terrya/opt/anaconda3/envs/qmcpy/lib/python3.7/subprocess.py\", line 839, in __del__\n",
      "    ResourceWarning, source=self)\n",
      "ResourceWarning: subprocess 2019 is still running\n",
      "Exception ignored in: <_io.FileIO name=75 mode='rb' closefd=True>\n",
      "ResourceWarning: unclosed file <_io.TextIOWrapper name=75 encoding='UTF-8'>\n"
     ]
    }
   ],
   "source": [
    "%%snakeviz\n",
    "asian_option_multi_level(abs_tol=.01)"
   ]
  },
  {
   "cell_type": "markdown",
   "id": "11da0b0e",
   "metadata": {},
   "source": [
    "## Tuna\n",
    "\n",
    "An alternative to Snakeviz for visualizing cprofile outputs"
   ]
  },
  {
   "cell_type": "raw",
   "id": "708460cf",
   "metadata": {},
   "source": [
    "!pip install tuna"
   ]
  },
  {
   "cell_type": "code",
   "execution_count": 10,
   "id": "aa57f32a",
   "metadata": {},
   "outputs": [],
   "source": [
    "import tuna"
   ]
  },
  {
   "cell_type": "markdown",
   "id": "8f14a377",
   "metadata": {},
   "source": [
    "The following gives a visual report in a separate tab and user need to \"stop\" the execution before any more notebook cells will be executed:"
   ]
  },
  {
   "cell_type": "raw",
   "id": "8c7ad158",
   "metadata": {
    "scrolled": true
   },
   "source": [
    "!tuna ../workouts/integration_examples/out/asian_option_multi_level.prof"
   ]
  },
  {
   "cell_type": "markdown",
   "id": "523390c1",
   "metadata": {},
   "source": [
    "A screenshot:"
   ]
  },
  {
   "cell_type": "code",
   "execution_count": 11,
   "id": "6ccb7d47",
   "metadata": {},
   "outputs": [
    {
     "data": {
      "text/html": [
       "<img src=\"../profile/tuna_profile_aoml.jpg\" width=\"1000\" height=\"1000\"/>"
      ],
      "text/plain": [
       "<IPython.core.display.Image object>"
      ]
     },
     "execution_count": 11,
     "metadata": {},
     "output_type": "execute_result"
    }
   ],
   "source": [
    "from IPython.display import Image\n",
    "Image(url= \"../profile/tuna_profile_aoml.jpg\", width=1000, height=1000)"
   ]
  },
  {
   "cell_type": "markdown",
   "id": "42f66bc1",
   "metadata": {},
   "source": [
    "We prefer magic command instead, but `%tuna` gave blank output."
   ]
  },
  {
   "cell_type": "raw",
   "id": "326321cc",
   "metadata": {},
   "source": [
    "%load_ext tuna "
   ]
  },
  {
   "cell_type": "raw",
   "id": "b89a6e43",
   "metadata": {},
   "source": [
    "%tuna asian_option_multi_level(abs_tol=.01)"
   ]
  },
  {
   "cell_type": "markdown",
   "id": "d019b360",
   "metadata": {},
   "source": [
    "## Line-by-line profiling of time"
   ]
  },
  {
   "cell_type": "markdown",
   "id": "66493536",
   "metadata": {},
   "source": [
    "First install `line_profiler` 3.4.0 (`https://github.com/rkern/line_profiler`) "
   ]
  },
  {
   "cell_type": "markdown",
   "id": "10254edc",
   "metadata": {},
   "source": [
    "Need to first put `@profile` before each function that we want to do line or memory profiling."
   ]
  },
  {
   "cell_type": "raw",
   "id": "513f3de3",
   "metadata": {},
   "source": [
    "!pip install line_profiler\n",
    "!pip install -U memory_profiler"
   ]
  },
  {
   "cell_type": "markdown",
   "id": "07fa2cdc",
   "metadata": {},
   "source": [
    "The following two commands would need `@decorator` written to codebase."
   ]
  },
  {
   "cell_type": "raw",
   "id": "ae223bd1",
   "metadata": {},
   "source": [
    "!kernprof -l -v ../workouts/integration_examples/asian_option_multi_level.py"
   ]
  },
  {
   "cell_type": "raw",
   "id": "48cf8439",
   "metadata": {},
   "source": [
    "!python -m line_profiler asian_option_multi_level.py.lprof"
   ]
  },
  {
   "cell_type": "markdown",
   "id": "d5b2bb8d",
   "metadata": {},
   "source": [
    "We prefer giving the function name to be profiled to `%lprun`:"
   ]
  },
  {
   "cell_type": "code",
   "execution_count": 12,
   "id": "3de202c8",
   "metadata": {},
   "outputs": [],
   "source": [
    "%load_ext line_profiler"
   ]
  },
  {
   "cell_type": "code",
   "execution_count": 13,
   "id": "891e03cd",
   "metadata": {
    "scrolled": true
   },
   "outputs": [
    {
     "name": "stdout",
     "output_type": "stream",
     "text": [
      "\n",
      "~~~~~~~~~~~~~~~~~~~~~~~~~~~~~~~~~~~~~~~~~~~~~~~~~~~~~~~~~~~~~~~~~~~~~~~~~~~~~~~~~~~~~~~~~~~~~~~~~~~~\n",
      "\n",
      "MeanVarData (AccumulateData Object)\n",
      "    solution        5.841\n",
      "    error_bound     0.010\n",
      "    n_total         6711667\n",
      "    n               [5852665.  755096.  100834.]\n",
      "    levels          3\n",
      "    time_integrate  16.893\n",
      "CubMCCLT (StoppingCriterion Object)\n",
      "    abs_tol         0.010\n",
      "    rel_tol         0\n",
      "    n_init          2^(10)\n",
      "    n_max           10000000000\n",
      "    inflate         1.200\n",
      "    alpha           0.010\n",
      "AsianOption (Integrand Object)\n",
      "    volatility      2^(-1)\n",
      "    call_put        call\n",
      "    start_price     30\n",
      "    strike_price    25\n",
      "    interest_rate   0.010\n",
      "    mean_type       geometric\n",
      "    multilevel_dims [ 4 16 64]\n",
      "BrownianMotion (TrueMeasure Object)\n",
      "    time_vec        1\n",
      "    drift           0\n",
      "    mean            0\n",
      "    covariance      1\n",
      "    decomp_type     PCA\n",
      "IIDStdUniform (DiscreteDistribution Object)\n",
      "    d               1\n",
      "    entropy         7\n",
      "    spawn_key       ()\n",
      "~~~~~~~~~~~~~~~~~~~~~~~~~~~~~~~~~~~~~~~~~~~~~~~~~~~~~~~~~~~~~~~~~~~~~~~~~~~~~~~~~~~~~~~~~~~~~~~~~~~~\n",
      "\n"
     ]
    }
   ],
   "source": [
    "%lprun -f asian_option_multi_level asian_option_multi_level(abs_tol=.01)"
   ]
  },
  {
   "cell_type": "markdown",
   "id": "15cc1976",
   "metadata": {},
   "source": [
    "After running the above, a pop-up with the following outputs will apear in the browser."
   ]
  },
  {
   "cell_type": "raw",
   "id": "bdb9021c",
   "metadata": {},
   "source": [
    "Timer unit: 1e-06 s\n",
    "\n",
    "Total time: 21.5611 s\n",
    "File: /Users/terrya/Documents/ProgramData/QMCSoftware/workouts/integration_examples/asian_option_multi_level.py\n",
    "Function: asian_option_multi_level at line 10\n",
    "\n",
    "Line #      Hits         Time  Per Hit   % Time  Line Contents\n",
    "==============================================================\n",
    "    10                                           def asian_option_multi_level(\n",
    "    11                                               volatility = .5,\n",
    "    12                                               start_price = 30,\n",
    "    13                                               strike_price = 25,\n",
    "    14                                               interest_rate = .01,\n",
    "    15                                               mean_type = 'geometric',\n",
    "    16                                               abs_tol = .5):\n",
    "    17                                               \n",
    "    18         1        309.0    309.0      0.0      print(bar)\n",
    "    19                                           \n",
    "    20                                               # CubMCCLT\n",
    "    21         1          1.0      1.0      0.0      integrand = AsianOption(\n",
    "    22         1        431.0    431.0      0.0          sampler = IIDStdUniform(seed=7),\n",
    "    23         1          1.0      1.0      0.0          volatility = volatility,\n",
    "    24         1          1.0      1.0      0.0          start_price = start_price,\n",
    "    25         1          1.0      1.0      0.0          strike_price = strike_price,\n",
    "    26         1          0.0      0.0      0.0          interest_rate = interest_rate,\n",
    "    27         1          0.0      0.0      0.0          mean_type = mean_type,\n",
    "    28         1        978.0    978.0      0.0          multilevel_dims = [4,16,64])\n",
    "    29         1   21557841.0 21557841.0    100.0      solution,data = CubMCCLT(integrand, abs_tol=abs_tol).integrate()\n",
    "    30         1       1542.0   1542.0      0.0      print('%s%s'%(data,bar))"
   ]
  },
  {
   "cell_type": "markdown",
   "id": "af50d2c0",
   "metadata": {},
   "source": [
    "The above shows that `CubMCCLT(integrand, abs_tol=abs_tol).integrate()` took most of the time. We can profile the function by the following:"
   ]
  },
  {
   "cell_type": "code",
   "execution_count": 14,
   "id": "7a8f5935",
   "metadata": {},
   "outputs": [
    {
     "name": "stdout",
     "output_type": "stream",
     "text": [
      "\n",
      "~~~~~~~~~~~~~~~~~~~~~~~~~~~~~~~~~~~~~~~~~~~~~~~~~~~~~~~~~~~~~~~~~~~~~~~~~~~~~~~~~~~~~~~~~~~~~~~~~~~~\n",
      "\n",
      "MeanVarData (AccumulateData Object)\n",
      "    solution        5.841\n",
      "    error_bound     0.010\n",
      "    n_total         6679677\n",
      "    n               [5839702.  717729.  119174.]\n",
      "    levels          3\n",
      "    time_integrate  16.059\n",
      "CubMCCLT (StoppingCriterion Object)\n",
      "    abs_tol         0.010\n",
      "    rel_tol         0\n",
      "    n_init          2^(10)\n",
      "    n_max           10000000000\n",
      "    inflate         1.200\n",
      "    alpha           0.010\n",
      "AsianOption (Integrand Object)\n",
      "    volatility      2^(-1)\n",
      "    call_put        call\n",
      "    start_price     30\n",
      "    strike_price    25\n",
      "    interest_rate   0.010\n",
      "    mean_type       geometric\n",
      "    multilevel_dims [ 4 16 64]\n",
      "BrownianMotion (TrueMeasure Object)\n",
      "    time_vec        1\n",
      "    drift           0\n",
      "    mean            0\n",
      "    covariance      1\n",
      "    decomp_type     PCA\n",
      "IIDStdUniform (DiscreteDistribution Object)\n",
      "    d               1\n",
      "    entropy         7\n",
      "    spawn_key       ()\n",
      "~~~~~~~~~~~~~~~~~~~~~~~~~~~~~~~~~~~~~~~~~~~~~~~~~~~~~~~~~~~~~~~~~~~~~~~~~~~~~~~~~~~~~~~~~~~~~~~~~~~~\n",
      "\n"
     ]
    }
   ],
   "source": [
    "%lprun -f CubMCCLT.integrate asian_option_multi_level(abs_tol=.01)"
   ]
  },
  {
   "cell_type": "markdown",
   "id": "2d837e75",
   "metadata": {},
   "source": [
    "We saw the following pop-up results in one execution:"
   ]
  },
  {
   "cell_type": "raw",
   "id": "b948b704",
   "metadata": {},
   "source": [
    "Timer unit: 1e-06 s\n",
    "\n",
    "Total time: 15.3553 s\n",
    "File: /Users/terrya/Documents/ProgramData/QMCSoftware/qmcpy/stopping_criterion/cub_mc_clt.py\n",
    "Function: integrate at line 104\n",
    "\n",
    "Line #      Hits         Time  Per Hit   % Time  Line Contents\n",
    "==============================================================\n",
    "   104                                               def integrate(self):\n",
    "   105                                                   \"\"\" See abstract method. \"\"\"\n",
    "   106                                                   # Construct AccumulateData Object to House Integration data\n",
    "   107         1          2.0      2.0      0.0          self.data = MeanVarData(self, self.integrand, self.true_measure, self.discrete_distrib,\n",
    "   108         1      10903.0  10903.0      0.1              self.n_init, self.cv, self.cv_mu)  # house integration data\n",
    "   109         1          3.0      3.0      0.0          t_start = time()\n",
    "   110                                                   # Pilot Sample\n",
    "   111         1      24312.0  24312.0      0.2          self.data.update_data()\n",
    "   112                                                   # use cost of function values to decide how to allocate\n",
    "   113         1          6.0      6.0      0.0          temp_a = self.data.t_eval ** 0.5\n",
    "   114         1          9.0      9.0      0.0          temp_b = (temp_a * self.data.sighat).sum()\n",
    "   115                                                   # samples for computation of the mean\n",
    "   116                                                   # n_mu_temp := n such that confidence intervals width and conficence will be satisfied\n",
    "   117         1          4.0      4.0      0.0          tol_up = max(self.abs_tol, abs(self.data.solution) * self.rel_tol)\n",
    "   118         1        265.0    265.0      0.0          z_star = -norm.ppf(self.alpha / 2.)\n",
    "   119         1          8.0      8.0      0.0          n_mu_temp = ceil(temp_b * (self.data.sighat / temp_a) * \\\n",
    "   120         1          8.0      8.0      0.0                              (z_star * self.inflate / tol_up)**2)\n",
    "   121                                                   # n_mu := n_mu_temp adjusted for previous n\n",
    "   122         1          3.0      3.0      0.0          self.data.n_mu = maximum(self.data.n, n_mu_temp)\n",
    "   123         1          8.0      8.0      0.0          self.data.n += self.data.n_mu.astype(int)\n",
    "   124         1          9.0      9.0      0.0          if self.data.n_total + self.data.n.sum() > self.n_max:\n",
    "   125                                                       # cannot generate this many new samples\n",
    "   126                                                       warning_s = \"\"\"\n",
    "   127                                                       Alread generated %d samples.\n",
    "   128                                                       Trying to generate %d new samples, which would exceed n_max = %d.\n",
    "   129                                                       The number of new samples will be decrease proportionally for each integrand.\n",
    "   130                                                       Note that error tolerances may no longer be satisfied\"\"\" \\\n",
    "   131                                                       % (int(self.data.n_total), int(self.data.n.sum()), int(self.n_max))\n",
    "   132                                                       warnings.warn(warning_s, MaxSamplesWarning)\n",
    "   133                                                       # decrease n proportionally for each integrand\n",
    "   134                                                       n_decease = self.data.n_total + self.data.n.sum() - self.n_max\n",
    "   135                                                       dec_prop = n_decease / self.data.n.sum()\n",
    "   136                                                       self.data.n = floor(self.data.n - self.data.n * dec_prop)\n",
    "   137                                                   # Final Sample\n",
    "   138         1   15319691.0 15319691.0     99.8          self.data.update_data()\n",
    "   139                                                   # CLT confidence interval\n",
    "   140         1         14.0     14.0      0.0          sigma_up = (self.data.sighat ** 2 / self.data.n_mu).sum(0) ** 0.5\n",
    "   141         1          1.0      1.0      0.0          self.data.error_bound = z_star * self.inflate * sigma_up\n",
    "   142         1         14.0     14.0      0.0          self.data.confid_int = self.data.solution + self.data.error_bound * array([-1, 1])\n",
    "   143         1          1.0      1.0      0.0          self.data.time_integrate = time() - t_start\n",
    "   144         1          1.0      1.0      0.0          return self.data.solution, self.data"
   ]
  },
  {
   "cell_type": "markdown",
   "id": "201a8e96",
   "metadata": {},
   "source": [
    "`data.update_data()` takes up 99.8% of the time. So line profile it now:"
   ]
  },
  {
   "cell_type": "code",
   "execution_count": 15,
   "id": "f68b9816",
   "metadata": {
    "scrolled": true
   },
   "outputs": [
    {
     "name": "stdout",
     "output_type": "stream",
     "text": [
      "\n",
      "~~~~~~~~~~~~~~~~~~~~~~~~~~~~~~~~~~~~~~~~~~~~~~~~~~~~~~~~~~~~~~~~~~~~~~~~~~~~~~~~~~~~~~~~~~~~~~~~~~~~\n",
      "\n",
      "MeanVarData (AccumulateData Object)\n",
      "    solution        5.841\n",
      "    error_bound     0.010\n",
      "    n_total         6683887\n",
      "    n               [5857769.  704096.  118950.]\n",
      "    levels          3\n",
      "    time_integrate  16.321\n",
      "CubMCCLT (StoppingCriterion Object)\n",
      "    abs_tol         0.010\n",
      "    rel_tol         0\n",
      "    n_init          2^(10)\n",
      "    n_max           10000000000\n",
      "    inflate         1.200\n",
      "    alpha           0.010\n",
      "AsianOption (Integrand Object)\n",
      "    volatility      2^(-1)\n",
      "    call_put        call\n",
      "    start_price     30\n",
      "    strike_price    25\n",
      "    interest_rate   0.010\n",
      "    mean_type       geometric\n",
      "    multilevel_dims [ 4 16 64]\n",
      "BrownianMotion (TrueMeasure Object)\n",
      "    time_vec        1\n",
      "    drift           0\n",
      "    mean            0\n",
      "    covariance      1\n",
      "    decomp_type     PCA\n",
      "IIDStdUniform (DiscreteDistribution Object)\n",
      "    d               1\n",
      "    entropy         7\n",
      "    spawn_key       ()\n",
      "~~~~~~~~~~~~~~~~~~~~~~~~~~~~~~~~~~~~~~~~~~~~~~~~~~~~~~~~~~~~~~~~~~~~~~~~~~~~~~~~~~~~~~~~~~~~~~~~~~~~\n",
      "\n"
     ]
    }
   ],
   "source": [
    "%lprun -f accumulate_data.mean_var_data.MeanVarData.update_data asian_option_multi_level(abs_tol=.01) "
   ]
  },
  {
   "cell_type": "markdown",
   "id": "710ecbf1",
   "metadata": {},
   "source": [
    "An instance of output is as follows:"
   ]
  },
  {
   "cell_type": "raw",
   "id": "953e76c8",
   "metadata": {},
   "source": [
    "Timer unit: 1e-06 s\n",
    "\n",
    "Total time: 22.568 s\n",
    "File: /Users/terrya/Documents/ProgramData/QMCSoftware/qmcpy/accumulate_data/mean_var_data.py\n",
    "Function: update_data at line 63\n",
    "\n",
    "Line #      Hits         Time  Per Hit   % Time  Line Contents\n",
    "==============================================================\n",
    "    63                                               def update_data(self):\n",
    "    64         8         14.0      1.8      0.0          for l in range(self.levels):\n",
    "    65         6         11.0      1.8      0.0              t_start = time() # time the integrand values\n",
    "    66         6         10.0      1.7      0.0              integrand_l = self.level_integrands[l]\n",
    "    67         6         18.0      3.0      0.0              n  = int(int(self.n[l]))\n",
    "    68         6     289749.0  48291.5      1.3              samples = integrand_l.discrete_distrib.gen_samples(n)\n",
    "    69         6   22249474.0 3708245.7     98.6              y = integrand_l.f(samples).squeeze()\n",
    "    70         6         25.0      4.2      0.0              if self.ncv>0:\n",
    "    71                                                           # using control variates\n",
    "    72                                                           cvdata = zeros((n,self.ncv),dtype=float)\n",
    "    73                                                           for i in range(self.ncv):\n",
    "    74                                                               cvdata[:,i] = self.cv[i].f(samples).squeeze()\n",
    "    75                                                           cvmuhats = cvdata.mean(0)\n",
    "    76                                                           if not hasattr(self,'beta_hat'):\n",
    "    77                                                               # approximate control varite coefficient\n",
    "    78                                                               x4beta = cvdata-cvmuhats[None,:]\n",
    "    79                                                               y4beta = y-y.mean()\n",
    "    80                                                               self.beta_hat = linalg.lstsq(x4beta,y4beta,rcond=None)[0].reshape((-1,1))\n",
    "    81                                                           cvterm = self.beta_hat.T@(cvdata-self.cv_mu.T).T\n",
    "    82                                                           y = y-cvterm.squeeze() # use control variates and apprixmated coefficient to \n",
    "    83         6        133.0     22.2      0.0              self.t_eval[l] = max( (time()-t_start)/self.n[l], self.EPS) \n",
    "    84         6      24593.0   4098.8      0.1              self.sighat[l] = y.std() # compute the sample standard deviation\n",
    "    85         6       3938.0    656.3      0.0              self.muhat[l] = y.mean() # compute the sample mean\n",
    "    86         6         20.0      3.3      0.0              self.n_total += self.n[l] # add to total samples\n",
    "    87         2         15.0      7.5      0.0          self.solution = self.muhat.sum() # tentative solution"
   ]
  },
  {
   "cell_type": "code",
   "execution_count": 16,
   "id": "d741a5cd",
   "metadata": {},
   "outputs": [
    {
     "name": "stdout",
     "output_type": "stream",
     "text": [
      "\n",
      "~~~~~~~~~~~~~~~~~~~~~~~~~~~~~~~~~~~~~~~~~~~~~~~~~~~~~~~~~~~~~~~~~~~~~~~~~~~~~~~~~~~~~~~~~~~~~~~~~~~~\n",
      "\n",
      "MeanVarData (AccumulateData Object)\n",
      "    solution        5.841\n",
      "    error_bound     0.010\n",
      "    n_total         6649059\n",
      "    n               [5749399.  758214.  138374.]\n",
      "    levels          3\n",
      "    time_integrate  22.749\n",
      "CubMCCLT (StoppingCriterion Object)\n",
      "    abs_tol         0.010\n",
      "    rel_tol         0\n",
      "    n_init          2^(10)\n",
      "    n_max           10000000000\n",
      "    inflate         1.200\n",
      "    alpha           0.010\n",
      "AsianOption (Integrand Object)\n",
      "    volatility      2^(-1)\n",
      "    call_put        call\n",
      "    start_price     30\n",
      "    strike_price    25\n",
      "    interest_rate   0.010\n",
      "    mean_type       geometric\n",
      "    multilevel_dims [ 4 16 64]\n",
      "BrownianMotion (TrueMeasure Object)\n",
      "    time_vec        1\n",
      "    drift           0\n",
      "    mean            0\n",
      "    covariance      1\n",
      "    decomp_type     PCA\n",
      "IIDStdUniform (DiscreteDistribution Object)\n",
      "    d               1\n",
      "    entropy         7\n",
      "    spawn_key       ()\n",
      "~~~~~~~~~~~~~~~~~~~~~~~~~~~~~~~~~~~~~~~~~~~~~~~~~~~~~~~~~~~~~~~~~~~~~~~~~~~~~~~~~~~~~~~~~~~~~~~~~~~~\n",
      "\n"
     ]
    }
   ],
   "source": [
    "%lprun -f Integrand.f asian_option_multi_level(abs_tol=.01) "
   ]
  },
  {
   "cell_type": "markdown",
   "id": "817e9e02",
   "metadata": {},
   "source": [
    "The output points us to speed up the line 122 in `_integrand.py`: `for i in range(n): y[i] = y[i]*wp[i]`"
   ]
  },
  {
   "cell_type": "raw",
   "id": "20ddf695",
   "metadata": {},
   "source": [
    "Timer unit: 1e-06 s\n",
    "\n",
    "Total time: 25.7127 s\n",
    "File: /Users/terrya/Documents/ProgramData/QMCSoftware/qmcpy/integrand/_integrand.py\n",
    "Function: f at line 58\n",
    "\n",
    "Line #      Hits         Time  Per Hit   % Time  Line Contents\n",
    "==============================================================\n",
    "    58                                               def f(self, x, periodization_transform='NONE', compute_flags=None, *args, **kwargs):\n",
    "    59                                                   \"\"\"\n",
    "    60                                                   Evaluate transformed integrand based on true measures and discrete distribution\n",
    "    61                                           \n",
    "    62                                                   Args:\n",
    "    63                                                       x (ndarray): n x d array of samples from a discrete distribution\n",
    "    64                                                       periodization_transform (str): periodization transform\n",
    "    65                                                       compute_flags (ndarray): TODO\n",
    "    66                                                       *args: other ordered args to g\n",
    "    67                                                       **kwargs (dict): other keyword args to g\n",
    "    68                                           \n",
    "    69                                                   Return:\n",
    "    70                                                       ndarray: length n vector of function evaluations\n",
    "    71                                                   \"\"\"\n",
    "    72         6         26.0      4.3      0.0          periodization_transform = 'NONE' if periodization_transform is None else periodization_transform.upper()\n",
    "    73         6        236.0     39.3      0.0          compute_flags = tile(1,self.dprime) if compute_flags is None else atleast_1d(compute_flags)\n",
    "    74         6         12.0      2.0      0.0          n,d = x.shape\n",
    "    75                                                   # parameter checks\n",
    "    76         6         10.0      1.7      0.0          if self.discrete_distrib.mimics != 'StdUniform' and periodization_transform!='NONE':\n",
    "    77                                                       raise ParameterError('''\n",
    "    78                                                           Applying a periodization transform currently requires a discrete distribution \n",
    "    79                                                           that mimics a standard uniform measure.''')\n",
    "    80                                                   # periodization transform\n",
    "    81         6          8.0      1.3      0.0          if periodization_transform == 'NONE':\n",
    "    82         6          6.0      1.0      0.0              xp = x\n",
    "    83         6       7165.0   1194.2      0.0              wp = ones(n,dtype=float)\n",
    "    84                                                   elif periodization_transform == 'BAKER': # Baker's transform\n",
    "    85                                                       xp = 1 - 2 * abs(x - 1 / 2)\n",
    "    86                                                       wp = ones(n,dtype=float)\n",
    "    87                                                   elif periodization_transform == 'C0': # C^0 transform\n",
    "    88                                                       xp = 3 * x ** 2 - 2 * x ** 3\n",
    "    89                                                       wp = prod(6 * x * (1 - x), 1)\n",
    "    90                                                   elif periodization_transform == 'C1': # C^1 transform\n",
    "    91                                                       xp = x ** 3 * (10 - 15 * x + 6 * x ** 2)\n",
    "    92                                                       wp = prod(30 * x ** 2 * (1 - x) ** 2, 1)\n",
    "    93                                                   elif periodization_transform == 'C1SIN': # Sidi C^1 transform\n",
    "    94                                                       xp = x - sin(2 * pi * x) / (2 * pi)\n",
    "    95                                                       wp = prod(2 * sin(pi * x) ** 2, 1)\n",
    "    96                                                   elif periodization_transform == 'C2SIN': # Sidi C^2 transform\n",
    "    97                                                       xp = (8 - 9 * cos(pi * x) + cos(3 * pi * x)) / 16 # psi3\n",
    "    98                                                       wp = prod( (9 * sin(pi * x) * pi - sin(3 * pi * x) * 3 * pi) / 16 , 1) # psi3_1\n",
    "    99                                                   elif periodization_transform == 'C3SIN': # Sidi C^3 transform\n",
    "   100                                                       xp = (12 * pi * x - 8 * sin(2 * pi * x) + sin(4 * pi * x)) / (12 * pi) # psi4\n",
    "   101                                                       wp = prod( (12 * pi - 8 * cos(2 * pi * x) * 2 * pi + sin(4 * pi * x) * 4 * pi) / (12 * pi), 1) # psi4_1\n",
    "   102                                                   else:\n",
    "   103                                                       raise ParameterError(\"The %s periodization transform is not implemented\"%periodization_transform)\n",
    "   104         6         29.0      4.8      0.0          wp = wp.reshape(n)\n",
    "   105         6         10.0      1.7      0.0          if periodization_transform in ['C1','C1SIN','C2SIN','C3SIN']:\n",
    "   106                                                       xp[xp<=0] = self.EPS\n",
    "   107                                                       xp[xp>=1] = 1-self.EPS\n",
    "   108                                                   # function evaluation with chain rule\n",
    "   109         6         31.0      5.2      0.0          y = empty((n,)+self.dprime,dtype=float)\n",
    "   110         6         11.0      1.8      0.0          if self.true_measure == self.true_measure.transform:\n",
    "   111                                                       # jacobian*weight/pdf will cancel so f(x) = g(\\Psi(x))\n",
    "   112         6    2640541.0 440090.2     10.3              xtf = self.true_measure._transform(xp) # get transformed samples, equivalent to self.true_measure._transform_r(x)\n",
    "   113         6    1544180.0 257363.3      6.0              y[:] = self._g(xtf,compute_flags,*args,**kwargs)\n",
    "   114                                                   else: # using importance sampling --> need to compute pdf, jacobian(s), and weight explicitly\n",
    "   115                                                       pdf = self.discrete_distrib.pdf(xp).reshape(n) # pdf of samples\n",
    "   116                                                       xtf,jacobians = self.true_measure.transform._jacobian_transform_r(xp) # compute recursive transform+jacobian\n",
    "   117                                                       jacobians = jacobians.reshape(n)\n",
    "   118                                                       weight = self.true_measure._weight(xtf).reshape(n) # weight based on the true measure\n",
    "   119                                                       gvals = self._g(xtf,compute_flags,*args,**kwargs)\n",
    "   120                                                       for i in range(n): y[i] = gvals[i]*weight[i]/pdf[i]*jacobians[i]\n",
    "   121                                                   # account for periodization weight\n",
    "   122   6652852   21520424.0      3.2     83.7          for i in range(n): y[i] = y[i]*wp[i]\n",
    "   123         6          7.0      1.2      0.0          return y"
   ]
  },
  {
   "cell_type": "markdown",
   "id": "0adf9881",
   "metadata": {},
   "source": [
    "A way to profile multiple functions in a single command is as follows:"
   ]
  },
  {
   "cell_type": "code",
   "execution_count": 17,
   "id": "5ca5a1cf",
   "metadata": {},
   "outputs": [
    {
     "name": "stdout",
     "output_type": "stream",
     "text": [
      "\n",
      "~~~~~~~~~~~~~~~~~~~~~~~~~~~~~~~~~~~~~~~~~~~~~~~~~~~~~~~~~~~~~~~~~~~~~~~~~~~~~~~~~~~~~~~~~~~~~~~~~~~~\n",
      "\n",
      "MeanVarData (AccumulateData Object)\n",
      "    solution        5.841\n",
      "    error_bound     0.010\n",
      "    n_total         6662378\n",
      "    n               [5812026.  714970.  132310.]\n",
      "    levels          3\n",
      "    time_integrate  22.711\n",
      "CubMCCLT (StoppingCriterion Object)\n",
      "    abs_tol         0.010\n",
      "    rel_tol         0\n",
      "    n_init          2^(10)\n",
      "    n_max           10000000000\n",
      "    inflate         1.200\n",
      "    alpha           0.010\n",
      "AsianOption (Integrand Object)\n",
      "    volatility      2^(-1)\n",
      "    call_put        call\n",
      "    start_price     30\n",
      "    strike_price    25\n",
      "    interest_rate   0.010\n",
      "    mean_type       geometric\n",
      "    multilevel_dims [ 4 16 64]\n",
      "BrownianMotion (TrueMeasure Object)\n",
      "    time_vec        1\n",
      "    drift           0\n",
      "    mean            0\n",
      "    covariance      1\n",
      "    decomp_type     PCA\n",
      "IIDStdUniform (DiscreteDistribution Object)\n",
      "    d               1\n",
      "    entropy         7\n",
      "    spawn_key       ()\n",
      "~~~~~~~~~~~~~~~~~~~~~~~~~~~~~~~~~~~~~~~~~~~~~~~~~~~~~~~~~~~~~~~~~~~~~~~~~~~~~~~~~~~~~~~~~~~~~~~~~~~~\n",
      "\n"
     ]
    }
   ],
   "source": [
    "%lprun -f asian_option_multi_level -f CubMCCLT.integrate -f accumulate_data.mean_var_data.MeanVarData.update_data  -f Integrand.f asian_option_multi_level(abs_tol=.01) "
   ]
  },
  {
   "cell_type": "markdown",
   "id": "0eb128ab",
   "metadata": {},
   "source": [
    "## Using memory_profiler"
   ]
  },
  {
   "cell_type": "markdown",
   "id": "db9296d8",
   "metadata": {},
   "source": [
    "Install `memory_profiler` 0.60.0 from `https://pypi.org/project/memory-profiler/`"
   ]
  },
  {
   "cell_type": "code",
   "execution_count": 18,
   "id": "bd47c953",
   "metadata": {},
   "outputs": [],
   "source": [
    "%load_ext memory_profiler"
   ]
  },
  {
   "cell_type": "markdown",
   "id": "eac521b0",
   "metadata": {},
   "source": [
    "`%memit`: line magic similar to `%timeit`\n",
    "`%%memit`: cell magic like `%%timeit`"
   ]
  },
  {
   "cell_type": "code",
   "execution_count": 19,
   "id": "1c860dad",
   "metadata": {},
   "outputs": [
    {
     "name": "stdout",
     "output_type": "stream",
     "text": [
      "\n",
      "~~~~~~~~~~~~~~~~~~~~~~~~~~~~~~~~~~~~~~~~~~~~~~~~~~~~~~~~~~~~~~~~~~~~~~~~~~~~~~~~~~~~~~~~~~~~~~~~~~~~\n",
      "\n",
      "MeanVarData (AccumulateData Object)\n",
      "    solution        5.841\n",
      "    error_bound     0.010\n",
      "    n_total         6719331\n",
      "    n               [5924079.  687458.  104722.]\n",
      "    levels          3\n",
      "    time_integrate  15.742\n",
      "CubMCCLT (StoppingCriterion Object)\n",
      "    abs_tol         0.010\n",
      "    rel_tol         0\n",
      "    n_init          2^(10)\n",
      "    n_max           10000000000\n",
      "    inflate         1.200\n",
      "    alpha           0.010\n",
      "AsianOption (Integrand Object)\n",
      "    volatility      2^(-1)\n",
      "    call_put        call\n",
      "    start_price     30\n",
      "    strike_price    25\n",
      "    interest_rate   0.010\n",
      "    mean_type       geometric\n",
      "    multilevel_dims [ 4 16 64]\n",
      "BrownianMotion (TrueMeasure Object)\n",
      "    time_vec        1\n",
      "    drift           0\n",
      "    mean            0\n",
      "    covariance      1\n",
      "    decomp_type     PCA\n",
      "IIDStdUniform (DiscreteDistribution Object)\n",
      "    d               1\n",
      "    entropy         7\n",
      "    spawn_key       ()\n",
      "~~~~~~~~~~~~~~~~~~~~~~~~~~~~~~~~~~~~~~~~~~~~~~~~~~~~~~~~~~~~~~~~~~~~~~~~~~~~~~~~~~~~~~~~~~~~~~~~~~~~\n",
      "\n",
      "peak memory: 8446.80 MiB, increment: 1110.80 MiB\n"
     ]
    }
   ],
   "source": [
    "%memit asian_option_multi_level(abs_tol=.01)"
   ]
  },
  {
   "cell_type": "markdown",
   "id": "faa0ef04",
   "metadata": {},
   "source": [
    "Note that MiB is megibytes. See, for example, `https://www.majordifferences.com/2018/03/differences-between-megabyte-and.html`."
   ]
  },
  {
   "cell_type": "code",
   "execution_count": 20,
   "id": "5112665e",
   "metadata": {},
   "outputs": [
    {
     "name": "stdout",
     "output_type": "stream",
     "text": [
      "\n",
      "~~~~~~~~~~~~~~~~~~~~~~~~~~~~~~~~~~~~~~~~~~~~~~~~~~~~~~~~~~~~~~~~~~~~~~~~~~~~~~~~~~~~~~~~~~~~~~~~~~~~\n",
      "\n",
      "MeanVarData (AccumulateData Object)\n",
      "    solution        5.841\n",
      "    error_bound     0.010\n",
      "    n_total         6654086\n",
      "    n               [5795777.  714377.  140860.]\n",
      "    levels          3\n",
      "    time_integrate  26.859\n",
      "CubMCCLT (StoppingCriterion Object)\n",
      "    abs_tol         0.010\n",
      "    rel_tol         0\n",
      "    n_init          2^(10)\n",
      "    n_max           10000000000\n",
      "    inflate         1.200\n",
      "    alpha           0.010\n",
      "AsianOption (Integrand Object)\n",
      "    volatility      2^(-1)\n",
      "    call_put        call\n",
      "    start_price     30\n",
      "    strike_price    25\n",
      "    interest_rate   0.010\n",
      "    mean_type       geometric\n",
      "    multilevel_dims [ 4 16 64]\n",
      "BrownianMotion (TrueMeasure Object)\n",
      "    time_vec        1\n",
      "    drift           0\n",
      "    mean            0\n",
      "    covariance      1\n",
      "    decomp_type     PCA\n",
      "IIDStdUniform (DiscreteDistribution Object)\n",
      "    d               1\n",
      "    entropy         7\n",
      "    spawn_key       ()\n",
      "~~~~~~~~~~~~~~~~~~~~~~~~~~~~~~~~~~~~~~~~~~~~~~~~~~~~~~~~~~~~~~~~~~~~~~~~~~~~~~~~~~~~~~~~~~~~~~~~~~~~\n",
      "\n",
      "\n"
     ]
    }
   ],
   "source": [
    "%mprun -f asian_option_multi_level asian_option_multi_level(abs_tol=.01)"
   ]
  },
  {
   "cell_type": "markdown",
   "id": "e6e49b88",
   "metadata": {},
   "source": [
    "After running the above memory profiler, we get a pop up again:"
   ]
  },
  {
   "cell_type": "raw",
   "id": "df4264c7",
   "metadata": {},
   "source": [
    "Filename: ../workouts/integration_examples/asian_option_multi_level.py\n",
    "\n",
    "Line #    Mem usage    Increment  Occurrences   Line Contents\n",
    "=============================================================\n",
    "    11   5957.0 MiB   5957.0 MiB           1   def asian_option_multi_level(\n",
    "    12                                             volatility = .5,\n",
    "    13                                             start_price = 30,\n",
    "    14                                             strike_price = 25,\n",
    "    15                                             interest_rate = .01,\n",
    "    16                                             mean_type = 'geometric',\n",
    "    17                                             abs_tol = .5):\n",
    "    18                                         \n",
    "    19   5957.0 MiB      0.0 MiB           1       print(bar)\n",
    "    20                                         \n",
    "    21                                             # CubMCCLT\n",
    "    22   5957.0 MiB      0.0 MiB           1       integrand = AsianOption(\n",
    "    23   5957.0 MiB      0.0 MiB           1           sampler = IIDStdUniform(seed=7),\n",
    "    24   5957.0 MiB      0.0 MiB           1           volatility = volatility,\n",
    "    25   5957.0 MiB      0.0 MiB           1           start_price = start_price,\n",
    "    26   5957.0 MiB      0.0 MiB           1           strike_price = strike_price,\n",
    "    27   5957.0 MiB      0.0 MiB           1           interest_rate = interest_rate,\n",
    "    28   5957.0 MiB      0.0 MiB           1           mean_type = mean_type,\n",
    "    29   5957.0 MiB      0.0 MiB           1           multilevel_dims = [4,16,64])\n",
    "    30   6004.4 MiB     47.5 MiB           1       solution,data = CubMCCLT(integrand, abs_tol=abs_tol).integrate()\n",
    "    31   6004.4 MiB      0.0 MiB           1       print('%s%s'%(data,bar))"
   ]
  },
  {
   "cell_type": "markdown",
   "id": "cf557b05",
   "metadata": {},
   "source": [
    "The following needs @profile in the function to be profiled"
   ]
  },
  {
   "cell_type": "raw",
   "id": "54644901",
   "metadata": {},
   "source": [
    "!python -m memory_profiler ../workouts/integration_examples/asian_option_multi_level.py -o ../workouts/integration_examples/asian_option_multi_level.py.mprof"
   ]
  },
  {
   "cell_type": "markdown",
   "id": "ce67c0c8",
   "metadata": {},
   "source": [
    "The following tries to save output"
   ]
  },
  {
   "cell_type": "code",
   "execution_count": 21,
   "id": "70eea1f4",
   "metadata": {},
   "outputs": [],
   "source": [
    "from memory_profiler import LogFile\n",
    "import sys\n",
    "sys.stdout = LogFile('memory_profile_log', reportIncrementFlag=False)\n",
    "%mprun -f asian_option_multi_level asian_option_multi_level(abs_tol=.01)"
   ]
  },
  {
   "cell_type": "code",
   "execution_count": 22,
   "id": "611b5114",
   "metadata": {},
   "outputs": [],
   "source": [
    "%mprun -f CubMCCLT.integrate asian_option_multi_level(abs_tol=.01) "
   ]
  },
  {
   "cell_type": "raw",
   "id": "6e56e04a",
   "metadata": {},
   "source": [
    "Filename: /Users/terrya/Documents/ProgramData/QMCSoftware/qmcpy/stopping_criterion/cub_mc_clt.py\n",
    "\n",
    "Line #    Mem usage    Increment  Occurrences   Line Contents\n",
    "=============================================================\n",
    "   104   3643.1 MiB   3643.1 MiB           1       def integrate(self):\n",
    "   105                                                 \"\"\" See abstract method. \"\"\"\n",
    "   106                                                 # Construct AccumulateData Object to House Integration data\n",
    "   107   3643.1 MiB      0.0 MiB           1           self.data = MeanVarData(self, self.integrand, self.true_measure, self.discrete_distrib,\n",
    "   108   3643.2 MiB      0.1 MiB           1               self.n_init, self.cv, self.cv_mu)  # house integration data\n",
    "   109   3643.2 MiB      0.0 MiB           1           t_start = time()\n",
    "   110                                                 # Pilot Sample\n",
    "   111   3643.4 MiB      0.2 MiB           1           self.data.update_data()\n",
    "   112                                                 # use cost of function values to decide how to allocate\n",
    "   113   3643.4 MiB      0.0 MiB           1           temp_a = self.data.t_eval ** 0.5\n",
    "   114   3643.4 MiB      0.0 MiB           1           temp_b = (temp_a * self.data.sighat).sum()\n",
    "   115                                                 # samples for computation of the mean\n",
    "   116                                                 # n_mu_temp := n such that confidence intervals width and conficence will be satisfied\n",
    "   117   3643.4 MiB      0.0 MiB           1           tol_up = max(self.abs_tol, abs(self.data.solution) * self.rel_tol)\n",
    "   118   3643.4 MiB      0.0 MiB           1           z_star = -norm.ppf(self.alpha / 2.)\n",
    "   119   3643.4 MiB      0.0 MiB           1           n_mu_temp = ceil(temp_b * (self.data.sighat / temp_a) * \\\n",
    "   120   3643.4 MiB      0.0 MiB           1                               (z_star * self.inflate / tol_up)**2)\n",
    "   121                                                 # n_mu := n_mu_temp adjusted for previous n\n",
    "   122   3643.4 MiB      0.0 MiB           1           self.data.n_mu = maximum(self.data.n, n_mu_temp)\n",
    "   123   3643.4 MiB      0.0 MiB           1           self.data.n += self.data.n_mu.astype(int)\n",
    "   124   3643.4 MiB      0.0 MiB           1           if self.data.n_total + self.data.n.sum() > self.n_max:\n",
    "   125                                                     # cannot generate this many new samples\n",
    "   126                                                     warning_s = \"\"\"\n",
    "   127                                                     Alread generated %d samples.\n",
    "   128                                                     Trying to generate %d new samples, which would exceed n_max = %d.\n",
    "   129                                                     The number of new samples will be decrease proportionally for each integrand.\n",
    "   130                                                     Note that error tolerances may no longer be satisfied\"\"\" \\\n",
    "   131                                                     % (int(self.data.n_total), int(self.data.n.sum()), int(self.n_max))\n",
    "   132                                                     warnings.warn(warning_s, MaxSamplesWarning)\n",
    "   133                                                     # decrease n proportionally for each integrand\n",
    "   134                                                     n_decease = self.data.n_total + self.data.n.sum() - self.n_max\n",
    "   135                                                     dec_prop = n_decease / self.data.n.sum()\n",
    "   136                                                     self.data.n = floor(self.data.n - self.data.n * dec_prop)\n",
    "   137                                                 # Final Sample\n",
    "   138   3976.5 MiB    333.1 MiB           1           self.data.update_data()\n",
    "   139                                                 # CLT confidence interval\n",
    "   140   3976.5 MiB      0.0 MiB           1           sigma_up = (self.data.sighat ** 2 / self.data.n_mu).sum(0) ** 0.5\n",
    "   141   3976.5 MiB      0.0 MiB           1           self.data.error_bound = z_star * self.inflate * sigma_up\n",
    "   142   3976.5 MiB      0.0 MiB           1           self.data.confid_int = self.data.solution + self.data.error_bound * array([-1, 1])\n",
    "   143   3976.5 MiB      0.0 MiB           1           self.data.time_integrate = time() - t_start\n",
    "   144   3976.5 MiB      0.0 MiB           1           return self.data.solution, self.data"
   ]
  },
  {
   "cell_type": "code",
   "execution_count": 23,
   "id": "74b2f9e8",
   "metadata": {},
   "outputs": [],
   "source": [
    "%mprun -f accumulate_data.mean_var_data.MeanVarData.update_data asian_option_multi_level(abs_tol=.01) "
   ]
  },
  {
   "cell_type": "raw",
   "id": "69888ef4",
   "metadata": {},
   "source": [
    "Filename: /Users/terrya/Documents/ProgramData/QMCSoftware/qmcpy/accumulate_data/mean_var_data.py\n",
    "\n",
    "Line #    Mem usage    Increment  Occurrences   Line Contents\n",
    "=============================================================\n",
    "    63   7585.3 MiB   7585.2 MiB           2       def update_data(self):\n",
    "    64   7680.9 MiB      0.0 MiB           8           for l in range(self.levels):\n",
    "    65   7605.0 MiB      0.0 MiB           6               t_start = time() # time the integrand values\n",
    "    66   7605.0 MiB      0.0 MiB           6               integrand_l = self.level_integrands[l]\n",
    "    67   7605.0 MiB      0.0 MiB           6               n  = int(int(self.n[l]))\n",
    "    68   7605.0 MiB      0.0 MiB           6               samples = integrand_l.discrete_distrib.gen_samples(n)\n",
    "    69   7680.9 MiB     95.7 MiB           6               y = integrand_l.f(samples).squeeze()\n",
    "    70   7680.9 MiB      0.0 MiB           6               if self.ncv>0:\n",
    "    71                                                         # using control variates\n",
    "    72                                                         cvdata = zeros((n,self.ncv),dtype=float)\n",
    "    73                                                         for i in range(self.ncv):\n",
    "    74                                                             cvdata[:,i] = self.cv[i].f(samples).squeeze()\n",
    "    75                                                         cvmuhats = cvdata.mean(0)\n",
    "    76                                                         if not hasattr(self,'beta_hat'):\n",
    "    77                                                             # approximate control varite coefficient\n",
    "    78                                                             x4beta = cvdata-cvmuhats[None,:]\n",
    "    79                                                             y4beta = y-y.mean()\n",
    "    80                                                             self.beta_hat = linalg.lstsq(x4beta,y4beta,rcond=None)[0].reshape((-1,1))\n",
    "    81                                                         cvterm = self.beta_hat.T@(cvdata-self.cv_mu.T).T\n",
    "    82                                                         y = y-cvterm.squeeze() # use control variates and apprixmated coefficient to \n",
    "    83   7680.9 MiB      0.0 MiB           6               self.t_eval[l] = max( (time()-t_start)/self.n[l], self.EPS) \n",
    "    84   7680.9 MiB      0.0 MiB           6               self.sighat[l] = y.std() # compute the sample standard deviation\n",
    "    85   7680.9 MiB      0.0 MiB           6               self.muhat[l] = y.mean() # compute the sample mean\n",
    "    86   7680.9 MiB      0.0 MiB           6               self.n_total += self.n[l] # add to total samples\n",
    "    87   7680.9 MiB      0.0 MiB           2           self.solution = self.muhat.sum() # tentative solution"
   ]
  },
  {
   "cell_type": "markdown",
   "id": "a13f1d4f",
   "metadata": {},
   "source": [
    "We can chain multiple functions to perform memory profiling:"
   ]
  },
  {
   "cell_type": "code",
   "execution_count": 24,
   "id": "3f0ccdb0",
   "metadata": {},
   "outputs": [],
   "source": [
    "%mprun -f asian_option_multi_level -f CubMCCLT.integrate -f accumulate_data.mean_var_data.MeanVarData.update_data -f Integrand.f asian_option_multi_level(abs_tol=.01) "
   ]
  },
  {
   "cell_type": "raw",
   "id": "729953b3",
   "metadata": {},
   "source": [
    "Filename: /Users/terrya/Documents/ProgramData/QMCSoftware/workouts/integration_examples/asian_option_multi_level.py\n",
    "\n",
    "Line #    Mem usage    Increment  Occurrences   Line Contents\n",
    "=============================================================\n",
    "    10   7695.9 MiB   7695.9 MiB           1   def asian_option_multi_level(\n",
    "    11                                             volatility = .5,\n",
    "    12                                             start_price = 30,\n",
    "    13                                             strike_price = 25,\n",
    "    14                                             interest_rate = .01,\n",
    "    15                                             mean_type = 'geometric',\n",
    "    16                                             abs_tol = .5):\n",
    "    17                                             \n",
    "    18   7695.9 MiB      0.0 MiB           1       print(bar)\n",
    "    19                                         \n",
    "    20                                             # CubMCCLT\n",
    "    21   7695.9 MiB      0.0 MiB           1       integrand = AsianOption(\n",
    "    22   7695.9 MiB      0.0 MiB           1           sampler = IIDStdUniform(seed=7),\n",
    "    23   7695.9 MiB      0.0 MiB           1           volatility = volatility,\n",
    "    24   7695.9 MiB      0.0 MiB           1           start_price = start_price,\n",
    "    25   7695.9 MiB      0.0 MiB           1           strike_price = strike_price,\n",
    "    26   7695.9 MiB      0.0 MiB           1           interest_rate = interest_rate,\n",
    "    27   7695.9 MiB      0.0 MiB           1           mean_type = mean_type,\n",
    "    28   7695.9 MiB      0.0 MiB           1           multilevel_dims = [4,16,64])\n",
    "    29   7754.8 MiB   7754.8 MiB           1       solution,data = CubMCCLT(integrand, abs_tol=abs_tol).integrate()\n",
    "    30   7754.8 MiB      0.0 MiB           1       print('%s%s'%(data,bar))\n",
    "\n",
    "\n",
    "Filename: /Users/terrya/Documents/ProgramData/QMCSoftware/qmcpy/stopping_criterion/cub_mc_clt.py\n",
    "\n",
    "Line #    Mem usage    Increment  Occurrences   Line Contents\n",
    "=============================================================\n",
    "   103   7695.9 MiB   7695.9 MiB           1       def integrate(self):\n",
    "   104                                                 \"\"\" See abstract method. \"\"\"\n",
    "   105                                                 # Construct AccumulateData Object to House Integration data\n",
    "   106   7695.9 MiB      0.0 MiB           1           self.data = MeanVarData(self, self.integrand, self.true_measure, self.discrete_distrib, \n",
    "   107   7696.0 MiB      0.1 MiB           1               self.n_init, self.cv, self.cv_mu)  # house integration data\n",
    "   108   7696.0 MiB      0.0 MiB           1           t_start = time()\n",
    "   109                                                 # Pilot Sample\n",
    "   110   7696.0 MiB   7696.0 MiB           1           self.data.update_data()\n",
    "   111                                                 # use cost of function values to decide how to allocate\n",
    "   112   7696.0 MiB      0.0 MiB           1           temp_a = self.data.t_eval ** 0.5\n",
    "   113   7696.0 MiB      0.0 MiB           1           temp_b = (temp_a * self.data.sighat).sum()\n",
    "   114                                                 # samples for computation of the mean\n",
    "   115                                                 # n_mu_temp := n such that confidence intervals width and conficence will be satisfied\n",
    "   116   7696.0 MiB      0.0 MiB           1           tol_up = max(self.abs_tol, abs(self.data.solution) * self.rel_tol)\n",
    "   117   7696.0 MiB      0.0 MiB           1           z_star = -norm.ppf(self.alpha / 2.)\n",
    "   118   7696.0 MiB      0.0 MiB           1           n_mu_temp = ceil(temp_b * (self.data.sighat / temp_a) * \\\n",
    "   119   7696.0 MiB      0.0 MiB           1                               (z_star * self.inflate / tol_up)**2)\n",
    "   120                                                 # n_mu := n_mu_temp adjusted for previous n\n",
    "   121   7696.0 MiB      0.0 MiB           1           self.data.n_mu = maximum(self.data.n, n_mu_temp)\n",
    "   122   7696.0 MiB      0.0 MiB           1           self.data.n += self.data.n_mu.astype(int)\n",
    "   123   7696.0 MiB      0.0 MiB           1           if self.data.n_total + self.data.n.sum() > self.n_max:\n",
    "   124                                                     # cannot generate this many new samples\n",
    "   125                                                     warning_s = \"\"\"\n",
    "   126                                                     Alread generated %d samples.\n",
    "   127                                                     Trying to generate %d new samples, which would exceed n_max = %d.\n",
    "   128                                                     The number of new samples will be decrease proportionally for each integrand.\n",
    "   129                                                     Note that error tolerances may no longer be satisfied\"\"\" \\\n",
    "   130                                                     % (int(self.data.n_total), int(self.data.n.sum()), int(self.n_max))\n",
    "   131                                                     warnings.warn(warning_s, MaxSamplesWarning)\n",
    "   132                                                     # decrease n proportionally for each integrand\n",
    "   133                                                     n_decease = self.data.n_total + self.data.n.sum() - self.n_max\n",
    "   134                                                     dec_prop = n_decease / self.data.n.sum()\n",
    "   135                                                     self.data.n = floor(self.data.n - self.data.n * dec_prop)\n",
    "   136                                                 # Final Sample\n",
    "   137   7754.8 MiB   7754.8 MiB           1           self.data.update_data()\n",
    "   138                                                 # CLT confidence interval\n",
    "   139   7754.8 MiB      0.0 MiB           1           sigma_up = (self.data.sighat ** 2 / self.data.n_mu).sum(0) ** 0.5\n",
    "   140   7754.8 MiB      0.0 MiB           1           self.data.error_bound = z_star * self.inflate * sigma_up\n",
    "   141   7754.8 MiB      0.0 MiB           1           self.data.confid_int = self.data.solution + self.data.error_bound * array([-1, 1])\n",
    "   142   7754.8 MiB      0.0 MiB           1           self.data.time_integrate = time() - t_start\n",
    "   143   7754.8 MiB      0.0 MiB           1           return self.data.solution, self.data\n",
    "\n",
    "\n",
    "Filename: /Users/terrya/Documents/ProgramData/QMCSoftware/qmcpy/accumulate_data/mean_var_data.py\n",
    "\n",
    "Line #    Mem usage    Increment  Occurrences   Line Contents\n",
    "=============================================================\n",
    "    63   7696.0 MiB  15392.0 MiB           2       def update_data(self):\n",
    "    64   7754.8 MiB      0.0 MiB           8           for l in range(self.levels):\n",
    "    65   7725.6 MiB      0.0 MiB           6               t_start = time() # time the integrand values\n",
    "    66   7725.6 MiB      0.0 MiB           6               integrand_l = self.level_integrands[l]\n",
    "    67   7725.6 MiB      0.0 MiB           6               n  = int(int(self.n[l]))\n",
    "    68   7725.6 MiB      0.0 MiB           6               samples = integrand_l.discrete_distrib.gen_samples(n)\n",
    "    69   7754.8 MiB  46271.4 MiB           6               y = integrand_l.f(samples).squeeze()\n",
    "    70   7754.8 MiB      0.0 MiB           6               if self.ncv>0:\n",
    "    71                                                         # using control variates\n",
    "    72                                                         cvdata = zeros((n,self.ncv),dtype=float)\n",
    "    73                                                         for i in range(self.ncv):\n",
    "    74                                                             cvdata[:,i] = self.cv[i].f(samples).squeeze()\n",
    "    75                                                         cvmuhats = cvdata.mean(0)\n",
    "    76                                                         if not hasattr(self,'beta_hat'):\n",
    "    77                                                             # approximate control varite coefficient\n",
    "    78                                                             x4beta = cvdata-cvmuhats[None,:]\n",
    "    79                                                             y4beta = y-y.mean()\n",
    "    80                                                             self.beta_hat = linalg.lstsq(x4beta,y4beta,rcond=None)[0].reshape((-1,1))\n",
    "    81                                                         cvterm = self.beta_hat.T@(cvdata-self.cv_mu.T).T\n",
    "    82                                                         y = y-cvterm.squeeze() # use control variates and apprixmated coefficient to \n",
    "    83   7754.8 MiB      0.0 MiB           6               self.t_eval[l] = max( (time()-t_start)/self.n[l], self.EPS) \n",
    "    84   7754.8 MiB      0.0 MiB           6               self.sighat[l] = y.std() # compute the sample standard deviation\n",
    "    85   7754.8 MiB      0.0 MiB           6               self.muhat[l] = y.mean() # compute the sample mean\n",
    "    86   7754.8 MiB      0.0 MiB           6               self.n_total += self.n[l] # add to total samples\n",
    "    87   7754.8 MiB      0.0 MiB           2           self.solution = self.muhat.sum() # tentative solution\n",
    "\n",
    "\n",
    "Filename: /Users/terrya/Documents/ProgramData/QMCSoftware/qmcpy/integrand/_integrand.py\n",
    "\n",
    "Line #    Mem usage    Increment  Occurrences   Line Contents\n",
    "=============================================================\n",
    "    58   7725.6 MiB  46212.6 MiB           6       def f(self, x, periodization_transform='NONE', compute_flags=None, *args, **kwargs):\n",
    "    59                                                 \"\"\"\n",
    "    60                                                 Evaluate transformed integrand based on true measures and discrete distribution\n",
    "    61                                         \n",
    "    62                                                 Args:\n",
    "    63                                                     x (ndarray): n x d array of samples from a discrete distribution\n",
    "    64                                                     periodization_transform (str): periodization transform\n",
    "    65                                                     compute_flags (ndarray): TODO\n",
    "    66                                                     *args: other ordered args to g\n",
    "    67                                                     **kwargs (dict): other keyword args to g\n",
    "    68                                         \n",
    "    69                                                 Return:\n",
    "    70                                                     ndarray: length n vector of function evaluations\n",
    "    71                                                 \"\"\"\n",
    "    72   7725.6 MiB      0.0 MiB           6           periodization_transform = 'NONE' if periodization_transform is None else periodization_transform.upper()\n",
    "    73   7725.6 MiB      0.0 MiB           6           compute_flags = tile(1,self.dprime) if compute_flags is None else atleast_1d(compute_flags)\n",
    "    74   7725.6 MiB      0.0 MiB           6           n,d = x.shape\n",
    "    75                                                 # parameter checks\n",
    "    76   7725.6 MiB      0.0 MiB           6           if self.discrete_distrib.mimics != 'StdUniform' and periodization_transform!='NONE':\n",
    "    77                                                     raise ParameterError('''\n",
    "    78                                                         Applying a periodization transform currently requires a discrete distribution \n",
    "    79                                                         that mimics a standard uniform measure.''')\n",
    "    80                                                 # periodization transform\n",
    "    81   7725.6 MiB      0.0 MiB           6           if periodization_transform == 'NONE':\n",
    "    82   7725.6 MiB      0.0 MiB           6               xp = x\n",
    "    83   7725.6 MiB      0.0 MiB           6               wp = ones(n,dtype=float)\n",
    "    84                                                 elif periodization_transform == 'BAKER': # Baker's transform\n",
    "    85                                                     xp = 1 - 2 * abs(x - 1 / 2)\n",
    "    86                                                     wp = ones(n,dtype=float)\n",
    "    87                                                 elif periodization_transform == 'C0': # C^0 transform\n",
    "    88                                                     xp = 3 * x ** 2 - 2 * x ** 3\n",
    "    89                                                     wp = prod(6 * x * (1 - x), 1)\n",
    "    90                                                 elif periodization_transform == 'C1': # C^1 transform\n",
    "    91                                                     xp = x ** 3 * (10 - 15 * x + 6 * x ** 2)\n",
    "    92                                                     wp = prod(30 * x ** 2 * (1 - x) ** 2, 1)\n",
    "    93                                                 elif periodization_transform == 'C1SIN': # Sidi C^1 transform\n",
    "    94                                                     xp = x - sin(2 * pi * x) / (2 * pi)\n",
    "    95                                                     wp = prod(2 * sin(pi * x) ** 2, 1)\n",
    "    96                                                 elif periodization_transform == 'C2SIN': # Sidi C^2 transform\n",
    "    97                                                     xp = (8 - 9 * cos(pi * x) + cos(3 * pi * x)) / 16 # psi3\n",
    "    98                                                     wp = prod( (9 * sin(pi * x) * pi - sin(3 * pi * x) * 3 * pi) / 16 , 1) # psi3_1\n",
    "    99                                                 elif periodization_transform == 'C3SIN': # Sidi C^3 transform\n",
    "   100                                                     xp = (12 * pi * x - 8 * sin(2 * pi * x) + sin(4 * pi * x)) / (12 * pi) # psi4\n",
    "   101                                                     wp = prod( (12 * pi - 8 * cos(2 * pi * x) * 2 * pi + sin(4 * pi * x) * 4 * pi) / (12 * pi), 1) # psi4_1\n",
    "   102                                                 else:\n",
    "   103                                                     raise ParameterError(\"The %s periodization transform is not implemented\"%periodization_transform)\n",
    "   104   7725.6 MiB      0.0 MiB           6           wp = wp.reshape(n)\n",
    "   105   7725.6 MiB      0.0 MiB           6           if periodization_transform in ['C1','C1SIN','C2SIN','C3SIN']:\n",
    "   106                                                     xp[xp<=0] = self.EPS\n",
    "   107                                                     xp[xp>=1] = 1-self.EPS\n",
    "   108                                                 # function evaluation with chain rule\n",
    "   109   7725.6 MiB      0.0 MiB           6           y = empty((n,)+self.dprime,dtype=float)\n",
    "   110   7725.6 MiB      0.0 MiB           6           y = empty((n,)+self.dprime,dtype=float)\n",
    "   111                                                 if self.true_measure == self.true_measure.transform:\n",
    "   112   7754.0 MiB     58.0 MiB           6               # jacobian*weight/pdf will cancel so f(x) = g(\\Psi(x))\n",
    "   113   7754.8 MiB      0.8 MiB           6               xtf = self.true_measure._transform(xp) # get transformed samples, equivalent to self.true_measure._transform_r(x)\n",
    "   114                                                     y[:] = self._g(xtf,compute_flags,*args,**kwargs)\n",
    "   115                                                 else: # using importance sampling --> need to compute pdf, jacobian(s), and weight explicitly\n",
    "   116                                                     pdf = self.discrete_distrib.pdf(xp).reshape(n) # pdf of samples\n",
    "   117                                                     xtf,jacobians = self.true_measure.transform._jacobian_transform_r(xp) # compute recursive transform+jacobian\n",
    "   118                                                     jacobians = jacobians.reshape(n)\n",
    "   119                                                     weight = self.true_measure._weight(xtf).reshape(n) # weight based on the true measure\n",
    "   120                                                     gvals = self._g(xtf,compute_flags,*args,**kwargs)\n",
    "   121                                                     for i in range(n): y[i] = gvals[i]*weight[i]/pdf[i]*jacobians[i]\n",
    "   122   7754.8 MiB      0.0 MiB     6631626           # account for periodization weight\n",
    "   123   7754.8 MiB      0.0 MiB           6           for i in range(n): y[i] = y[i]*wp[i]\n",
    "   124                                                 return y"
   ]
  },
  {
   "cell_type": "markdown",
   "id": "09ca36f9",
   "metadata": {},
   "source": [
    "Side note: to plot memory usage against time, run the following in a command window with QMCPy's virtual environment activated."
   ]
  },
  {
   "cell_type": "raw",
   "id": "14434f02",
   "metadata": {},
   "source": [
    "mprof run ../workouts/integration_examples/asian_option_multi_level.py\n",
    "mprof plot \n",
    "mprof plot --flame"
   ]
  }
 ],
 "metadata": {
  "kernelspec": {
   "display_name": "qmcpy",
   "language": "python",
   "name": "qmcpy"
  },
  "language_info": {
   "codemirror_mode": {
    "name": "ipython",
    "version": 3
   },
   "file_extension": ".py",
   "mimetype": "text/x-python",
   "name": "python",
   "nbconvert_exporter": "python",
   "pygments_lexer": "ipython3",
   "version": "3.7.0"
  }
 },
 "nbformat": 4,
 "nbformat_minor": 5
}
