{
 "cells": [
  {
   "cell_type": "markdown",
   "id": "97187ac7",
   "metadata": {},
   "source": [
    "### Fenics Demo"
   ]
  },
  {
   "cell_type": "code",
   "execution_count": 1,
   "id": "d4b704fb",
   "metadata": {},
   "outputs": [],
   "source": [
    "from dolfin import *\n",
    "import matplotlib.pyplot as plt"
   ]
  },
  {
   "cell_type": "markdown",
   "id": "a5d83d43",
   "metadata": {},
   "source": [
    "Define our mesh and our boundary"
   ]
  },
  {
   "cell_type": "code",
   "execution_count": 2,
   "id": "252dd582",
   "metadata": {},
   "outputs": [],
   "source": [
    "n = 50\n",
    "mesh = UnitIntervalMesh(n)\n",
    "def my_boundary(x): #0 or 1\n",
    "    return x[0] < DOLFIN_EPS or x[0] > 1.0 - DOLFIN_EPS"
   ]
  },
  {
   "cell_type": "markdown",
   "id": "7d75ce72",
   "metadata": {},
   "source": [
    "Define the function space. The arguments refer to the type of finite element function. \"CG\" and 1 mean piecewise linear polynomials"
   ]
  },
  {
   "cell_type": "code",
   "execution_count": 3,
   "id": "f63db1c5",
   "metadata": {},
   "outputs": [],
   "source": [
    "V = FunctionSpace(mesh, \"CG\", 1)"
   ]
  },
  {
   "cell_type": "code",
   "execution_count": 4,
   "id": "6a3b8bb4",
   "metadata": {},
   "outputs": [],
   "source": [
    "#Here we define the boundary condition based on the boundary and the value at the boundary\n",
    "u0 = Constant(0)\n",
    "bc = DirichletBC(V, u0, my_boundary)"
   ]
  },
  {
   "cell_type": "markdown",
   "id": "a8272dc8",
   "metadata": {},
   "source": [
    "Part of the finite element method entails manipulating some function u to match the conditions we specify (the differential equation and the boundary condition). \n",
    "Wrtiting in variational form entails using some test funtion v, which we also define here."
   ]
  },
  {
   "cell_type": "code",
   "execution_count": 5,
   "id": "34e7fd98",
   "metadata": {},
   "outputs": [],
   "source": [
    "u = TrialFunction(V)\n",
    "v = TestFunction(V)"
   ]
  },
  {
   "cell_type": "markdown",
   "id": "23c63bd0",
   "metadata": {},
   "source": [
    "We define f here as well as the constant a(x) (which we name c here). \n",
    "Then we write the variational form and have FEniCS solve it"
   ]
  },
  {
   "cell_type": "code",
   "execution_count": 6,
   "id": "7b5e612a",
   "metadata": {},
   "outputs": [
    {
     "name": "stdout",
     "output_type": "stream",
     "text": [
      "Solving linear variational problem.\n"
     ]
    }
   ],
   "source": [
    "f = Expression(\"sin(pi*x[0])\", degree=1)\n",
    "c = Expression(\"1\", degree=1)\n",
    "a = (c*inner(grad(u), grad(v)))*dx\n",
    "L = f*v*dx\n",
    "u = Function(V)\n",
    "solve(a == L, u, bc)"
   ]
  },
  {
   "cell_type": "code",
   "execution_count": 7,
   "id": "e69b6cf2",
   "metadata": {},
   "outputs": [
    {
     "data": {
      "image/png": "[encoded data removed]",
      "text/plain": [
       "<Figure size 432x288 with 1 Axes>"
      ]
     },
     "metadata": {
      "needs_background": "light"
     },
     "output_type": "display_data"
    }
   ],
   "source": [
    "#We can plot the function u\n",
    "plot(u)\n",
    "plt.show()"
   ]
  },
  {
   "cell_type": "code",
   "execution_count": 8,
   "id": "b2f71946",
   "metadata": {},
   "outputs": [
    {
     "data": {
      "text/plain": [
       "0.1012878568897707"
      ]
     },
     "execution_count": 8,
     "metadata": {},
     "output_type": "execute_result"
    }
   ],
   "source": [
    "#Or get u at a specific value\n",
    "u(0.5)"
   ]
  },
  {
   "cell_type": "markdown",
   "id": "59443738",
   "metadata": {},
   "source": [
    "### Solving the Toy Problem"
   ]
  },
  {
   "cell_type": "code",
   "execution_count": 9,
   "id": "75b26c0f",
   "metadata": {},
   "outputs": [],
   "source": [
    "from dolfin import *\n",
    "import matplotlib.pyplot as plt\n",
    "import numpy as np"
   ]
  },
  {
   "cell_type": "code",
   "execution_count": 10,
   "id": "00a9e57e",
   "metadata": {},
   "outputs": [],
   "source": [
    "set_log_active(False)"
   ]
  },
  {
   "cell_type": "markdown",
   "id": "e759ff24",
   "metadata": {},
   "source": [
    "Here we define a function that has Fenics solve our equation given the functionspace, boundary conditions, f(x), the value to compute at, and what the constant a(x) is (we use c for this value)\n",
    "\n",
    "We want to plug in random values of c when we approximate the expected value when a(x) is a random variable"
   ]
  },
  {
   "cell_type": "code",
   "execution_count": 11,
   "id": "f979ab96",
   "metadata": {},
   "outputs": [],
   "source": [
    "def u_at(boundary, V, u0, f, val_at, c):\n",
    "    bc = DirichletBC(V, u0, boundary)\n",
    "    u = TrialFunction(V)\n",
    "    v = TestFunction(V)\n",
    "    a = (c*inner(grad(u), grad(v)))*dx\n",
    "    L = f*v*dx\n",
    "    u = Function(V)\n",
    "    solve(a == L, u, bc)\n",
    "    return(u(val_at))"
   ]
  },
  {
   "cell_type": "code",
   "execution_count": 12,
   "id": "aba0ab0c",
   "metadata": {},
   "outputs": [],
   "source": [
    "def my_boundary(x): #0 or 1\n",
    "    return x[0] < DOLFIN_EPS or x[0] > 1.0 - DOLFIN_EPS"
   ]
  },
  {
   "cell_type": "code",
   "execution_count": 13,
   "id": "4abff223",
   "metadata": {},
   "outputs": [],
   "source": [
    "n = 50\n",
    "mesh = UnitIntervalMesh(n)\n",
    "V = FunctionSpace(mesh, \"CG\", 1)\n",
    "u0 = Constant(0)\n",
    "f = Expression(\"sin(pi*x[0])\", degree=1)\n",
    "c2 = Expression(\"x[0]\", degree=1)\n",
    "c3 = Expression(\"1\", degree=1)\n",
    "bc = DirichletBC(V, u0, my_boundary)\n",
    "v = TestFunction(V)\n",
    "L = f*v*dx"
   ]
  },
  {
   "cell_type": "code",
   "execution_count": 14,
   "id": "9fcbda4d",
   "metadata": {},
   "outputs": [
    {
     "name": "stdout",
     "output_type": "stream",
     "text": [
      "CPU times: user 16.8 ms, sys: 2.25 ms, total: 19.1 ms\n",
      "Wall time: 3.82 ms\n"
     ]
    },
    {
     "data": {
      "text/plain": [
       "0.06880748308327743"
      ]
     },
     "execution_count": 14,
     "metadata": {},
     "output_type": "execute_result"
    }
   ],
   "source": [
    "%%time\n",
    "u_at(my_boundary, V, u0, f, 0.6, 1.4)"
   ]
  },
  {
   "cell_type": "code",
   "execution_count": 15,
   "id": "31639f64",
   "metadata": {},
   "outputs": [],
   "source": [
    "import qmcpy as qp"
   ]
  },
  {
   "cell_type": "code",
   "execution_count": 16,
   "id": "7b840f71",
   "metadata": {},
   "outputs": [],
   "source": [
    "n = 10\n",
    "mesh = UnitIntervalMesh(n)\n",
    "V = FunctionSpace(mesh, \"CG\", 1)\n",
    "u0 = Constant(0)\n",
    "f = Expression(\"sin(pi*x[0])\", degree=1)\n",
    "def my_boundary(x): #0 or 1\n",
    "    return x[0] < DOLFIN_EPS or x[0] > 1.0 - DOLFIN_EPS"
   ]
  },
  {
   "cell_type": "code",
   "execution_count": 17,
   "id": "37aa1562",
   "metadata": {},
   "outputs": [
    {
     "name": "stdout",
     "output_type": "stream",
     "text": [
      "CPU times: user 75.6 ms, sys: 105 ms, total: 181 ms\n",
      "Wall time: 19.4 s\n"
     ]
    }
   ],
   "source": [
    "%%time\n",
    "iid = qp.Uniform(qp.IIDStdUniform(dimension=1, seed=None), lower_bound=1, upper_bound=2)\n",
    "iid_samples = iid.gen_samples(10) #Get samples of uniformly distributed random values\n",
    "u_samples = [0] * len(iid_samples) #Initialize an array to store values of u(0.5)\n",
    "for i, x in enumerate(iid_samples):\n",
    "    c = Expression(str(x[0]), degree=1) #Generate the expression for what we want to do\n",
    "    u_samples[i] = u_at(my_boundary, V, u0, f, 0.5, c)"
   ]
  },
  {
   "cell_type": "code",
   "execution_count": 18,
   "id": "93cb8337",
   "metadata": {},
   "outputs": [
    {
     "data": {
      "text/plain": [
       "Coefficient(FunctionSpace(Mesh(VectorElement(FiniteElement('Lagrange', interval, 1), dim=1), 0), FiniteElement('Lagrange', interval, 1)), 9)"
      ]
     },
     "execution_count": 18,
     "metadata": {},
     "output_type": "execute_result"
    }
   ],
   "source": [
    "u"
   ]
  },
  {
   "cell_type": "markdown",
   "id": "8d1f8ead",
   "metadata": {},
   "source": [
    "When we average all of our results, we get a value fairly close to the true value "
   ]
  },
  {
   "cell_type": "code",
   "execution_count": 19,
   "id": "0416f5ff",
   "metadata": {
    "scrolled": true
   },
   "outputs": [
    {
     "data": {
      "text/plain": [
       "0.0718769754773697"
      ]
     },
     "execution_count": 19,
     "metadata": {},
     "output_type": "execute_result"
    }
   ],
   "source": [
    "estimated_value = sum(u_samples)/len(u_samples)\n",
    "estimated_value "
   ]
  },
  {
   "cell_type": "code",
   "execution_count": 20,
   "id": "979b6b7b",
   "metadata": {},
   "outputs": [
    {
     "data": {
      "text/plain": [
       "0.023443986218579342"
      ]
     },
     "execution_count": 20,
     "metadata": {},
     "output_type": "execute_result"
    }
   ],
   "source": [
    "true_value = (np.log(2))/(np.pi**2)\n",
    "error = abs(estimated_value - true_value)/true_value\n",
    "error"
   ]
  },
  {
   "cell_type": "code",
   "execution_count": null,
   "id": "077ac7d4",
   "metadata": {},
   "outputs": [],
   "source": []
  }
 ],
 "metadata": {
  "kernelspec": {
   "display_name": "Python 3 (ipykernel)",
   "language": "python",
   "name": "python3"
  },
  "language_info": {
   "codemirror_mode": {
    "name": "ipython",
    "version": 3
   },
   "file_extension": ".py",
   "mimetype": "text/x-python",
   "name": "python",
   "nbconvert_exporter": "python",
   "pygments_lexer": "ipython3",
   "version": "3.9.13"
  }
 },
 "nbformat": 4,
 "nbformat_minor": 5
}
