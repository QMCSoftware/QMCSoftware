{
 "cells": [
  {
   "cell_type": "code",
   "execution_count": 1,
   "id": "5dbe7f5b-7873-428c-824f-7fe5618e4d89",
   "metadata": {},
   "outputs": [
    {
     "name": "stdout",
     "output_type": "stream",
     "text": [
      "okay\n"
     ]
    }
   ],
   "source": [
    "import qmcpy as qp\n",
    "import numpy as np\n",
    "import math\n",
    "import time\n",
    "\n",
    "print('okay')"
   ]
  },
  {
   "cell_type": "code",
   "execution_count": 2,
   "id": "0737512d-b72a-4b4a-a56d-e670d91069d9",
   "metadata": {},
   "outputs": [
    {
     "name": "stdout",
     "output_type": "stream",
     "text": [
      "[0.41450828 0.36400742]\n",
      "[0.78589229 0.12412424]\n",
      "[[0.20040057 0.48813166]\n",
      " [0.61490885 0.85213907]\n",
      " [0.02941712 0.21614649]\n",
      " [0.4439254  0.58015391]\n",
      " [0.85843368 0.94416132]\n",
      " [0.27294196 0.30816874]\n",
      " [0.68745023 0.67217616]\n",
      " [0.10195851 0.03618357]\n",
      " [0.51646679 0.40019099]\n",
      " [0.93097506 0.76419841]]\n"
     ]
    }
   ],
   "source": [
    "n=10\n",
    "d=2\n",
    "i = np.arange(1, n+1).reshape((n, 1))\n",
    "alpha = np.random.rand(d)\n",
    "delta = np.random.rand(d)\n",
    "print(alpha)\n",
    "print(delta)\n",
    "print(((i*alpha) + delta)%1)"
   ]
  },
  {
   "cell_type": "code",
   "execution_count": 3,
   "id": "2b5a6838-87c8-4ed7-8009-140a60c0550c",
   "metadata": {},
   "outputs": [
    {
     "ename": "AttributeError",
     "evalue": "module 'qmcpy' has no attribute 'kronecker'",
     "output_type": "error",
     "traceback": [
      "\u001b[1;31m---------------------------------------------------------------------------\u001b[0m",
      "\u001b[1;31mAttributeError\u001b[0m                            Traceback (most recent call last)",
      "Cell \u001b[1;32mIn[3], line 1\u001b[0m\n\u001b[1;32m----> 1\u001b[0m \u001b[38;5;28mprint\u001b[39m(\u001b[43mqp\u001b[49m\u001b[38;5;241;43m.\u001b[39;49m\u001b[43mkronecker\u001b[49m(\u001b[38;5;241m10\u001b[39m, \u001b[38;5;241m2\u001b[39m))\n",
      "\u001b[1;31mAttributeError\u001b[0m: module 'qmcpy' has no attribute 'kronecker'"
     ]
    }
   ],
   "source": [
    "print(qp.kronecker(10, 2))"
   ]
  },
  {
   "cell_type": "code",
   "execution_count": null,
   "id": "bbe66690-98a1-45be-9433-0647fdd94489",
   "metadata": {},
   "outputs": [],
   "source": []
  }
 ],
 "metadata": {
  "kernelspec": {
   "display_name": "Python 3 (ipykernel)",
   "language": "python",
   "name": "python3"
  },
  "language_info": {
   "codemirror_mode": {
    "name": "ipython",
    "version": 3
   },
   "file_extension": ".py",
   "mimetype": "text/x-python",
   "name": "python",
   "nbconvert_exporter": "python",
   "pygments_lexer": "ipython3",
   "version": "3.9.13"
  }
 },
 "nbformat": 4,
 "nbformat_minor": 5
}
