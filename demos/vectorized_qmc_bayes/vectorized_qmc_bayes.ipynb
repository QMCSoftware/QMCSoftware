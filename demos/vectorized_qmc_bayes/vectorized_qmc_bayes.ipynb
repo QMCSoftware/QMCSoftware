{
 "cells": [
  {
   "cell_type": "markdown",
   "id": "ce064a42",
   "metadata": {
    "id": "ce064a42"
   },
   "source": [
    "# Vectorized QMC (Bayesian)"
   ]
  },
  {
   "cell_type": "markdown",
   "id": "a306d01c-390a-4bb3-a2aa-b79f4c800d95",
   "metadata": {},
   "source": [
    "[![Open In Colab](https://colab.research.google.com/assets/colab-badge.svg)](https://colab.research.google.com/github/QMCSoftware/QMCSoftware/blob/develop/demos/vectorized_qmc_bayes.ipynb)"
   ]
  },
  {
   "cell_type": "code",
   "execution_count": 1,
   "id": "7cb5370c-b821-45a0-b0ea-5fa311690954",
   "metadata": {
    "colab": {
     "base_uri": "https://localhost:8080/"
    },
    "id": "7cb5370c-b821-45a0-b0ea-5fa311690954",
    "outputId": "5ea1d4d8-ca71-4a97-b57c-3c82c8326871"
   },
   "outputs": [],
   "source": [
    "%%capture\n",
    "# @title Execute this cell to install dependancies\n",
    "try:\n",
    "  import google.colab\n",
    "  import os\n",
    "  !pip install -q qmcpy >> /dev/null\n",
    "  !apt-get update && apt-get install -y --no-install-recommends texlive-latex-base texlive-fonts-recommended texlive-latex-extra cm-super dvipng\n",
    "except:\n",
    "  pass\n",
    "\n",
    "import matplotlib.pyplot as plt\n",
    "\n",
    "plt.rcParams.update({\n",
    "\"text.usetex\": True,\n",
    "\"font.family\": \"serif\",\n",
    "\"text.latex.preamble\": r\"\\usepackage{amsmath}\\usepackage{amssymb}\\newcommand{\\bx}{\\boldsymbol{x}}\"\n",
    "})\n",
    "!pip install scikit-learn\n"
   ]
  },
  {
   "cell_type": "code",
   "execution_count": 2,
   "id": "484d4c41",
   "metadata": {
    "id": "484d4c41"
   },
   "outputs": [],
   "source": [
    "import qmcpy as qp\n",
    "import numpy as np"
   ]
  },
  {
   "cell_type": "code",
   "execution_count": 7,
   "id": "9bf10463",
   "metadata": {
    "id": "9bf10463"
   },
   "outputs": [],
   "source": [
    "from matplotlib import pyplot\n",
    "%matplotlib inline\n",
    "root = None#'.'"
   ]
  },
  {
   "cell_type": "markdown",
   "id": "728a1c89",
   "metadata": {
    "id": "728a1c89"
   },
   "source": [
    "## LD Sequence"
   ]
  },
  {
   "cell_type": "code",
   "execution_count": 8,
   "id": "fabaf64c",
   "metadata": {
    "colab": {
     "base_uri": "https://localhost:8080/",
     "height": 282
    },
    "id": "fabaf64c",
    "outputId": "aaafa04a-c108-41cd-ddc7-abf2bb3ef382"
   },
   "outputs": [
    {
     "data": {
      "image/png": "[encoded data removed]",
      "text/plain": [
       "<Figure size 800x400 with 3 Axes>"
      ]
     },
     "metadata": {},
     "output_type": "display_data"
    }
   ],
   "source": [
    "n = 2**6\n",
    "s = 10\n",
    "fig,ax = pyplot.subplots(figsize=(8,4),nrows=1,ncols=3)\n",
    "for i,(dd,name) in enumerate(zip(\n",
    "    [qp.IIDStdUniform(2,seed=7),qp.DigitalNetB2(2,seed=7),qp.Lattice(2,seed=7)],\n",
    "    ['IID','Randomized Digital Net (LD)','Randomized Lattice (LD)'])):\n",
    "    pts = dd.gen_samples(n)\n",
    "    ax[i].scatter(pts[0:n//4,0],pts[0:n//4,1],color='k',marker='s',s=s)\n",
    "    ax[i].scatter(pts[n//4:n//2,0],pts[n//4:n//2,1],color='k',marker='o',s=s)\n",
    "    ax[i].scatter(pts[n//2:n,0],pts[n//2:n,1],color='k',marker='^',s=s)\n",
    "    ax[i].set_aspect(1)\n",
    "    ax[i].set_xlabel(r'$x_{1}$')\n",
    "    ax[i].set_ylabel(r'$x_{2}$')\n",
    "    ax[i].set_xlim([0,1])\n",
    "    ax[i].set_ylim([0,1])\n",
    "    ax[i].set_xticks([0,.25,.5,.75,1])\n",
    "    ax[i].set_xticklabels([r'$0$',r'$1/4$',r'$1/2$',r'$3/4$',r'$1$'])\n",
    "    ax[i].set_yticks([0,.25,.5,.75,1])\n",
    "    ax[i].set_yticklabels([r'$0$',r'$1/4$',r'$1/2$',r'$3/4$',r'$1$'])\n",
    "    ax[i].set_title(name)\n",
    "if root: fig.savefig(root+'ld_seqs.pdf',transparent=True)"
   ]
  },
  {
   "cell_type": "markdown",
   "id": "1aa7b935",
   "metadata": {
    "id": "1aa7b935"
   },
   "source": [
    "## Simple Example"
   ]
  },
  {
   "cell_type": "code",
   "execution_count": 11,
   "id": "df5b8a1b",
   "metadata": {
    "colab": {
     "base_uri": "https://localhost:8080/"
    },
    "id": "df5b8a1b",
    "outputId": "1dad261b-489a-4842-fbcd-733e7ef9726b"
   },
   "outputs": [
    {
     "name": "stdout",
     "output_type": "stream",
     "text": [
      "[2.42553968e+00 3.75000056e+04]\n",
      "Data (Data)\n",
      "    solution        [2.426e+00 3.750e+04]\n",
      "    comb_bound_low  [2.425e+00 3.750e+04]\n",
      "    comb_bound_high [2.426e+00 3.750e+04]\n",
      "    comb_bound_diff [0.001 0.028]\n",
      "    comb_flags      [ True  True]\n",
      "    n_total         2^(17)\n",
      "    n               [  1024 131072]\n",
      "    time_integrate  1.515\n",
      "CubQMCBayesNetG (AbstractStoppingCriterion)\n",
      "    abs_tol         0.001\n",
      "    rel_tol         1.00e-06\n",
      "    n_init          2^(8)\n",
      "    n_limit         2^(22)\n",
      "    order           1\n",
      "CustomFun (AbstractIntegrand)\n",
      "Gaussian (AbstractTrueMeasure)\n",
      "    mean            [2.9e+07 5.0e+02 1.0e+03]\n",
      "    covariance      [[2.102e+12 0.000e+00 0.000e+00]\n",
      "                     [0.000e+00 1.000e+04 0.000e+00]\n",
      "                     [0.000e+00 0.000e+00 1.000e+04]]\n",
      "    decomp_type     PCA\n",
      "DigitalNetB2 (AbstractLDDiscreteDistribution)\n",
      "    d               3\n",
      "    replications    1\n",
      "    randomize       LMS_DS\n",
      "    gen_mats_source joe_kuo.6.21201.txt\n",
      "    order           NATURAL\n",
      "    t               63\n",
      "    alpha           1\n",
      "    n_limit         2^(32)\n",
      "    entropy         7\n"
     ]
    }
   ],
   "source": [
    "def cantilever_beam_function(T,compute_flags): # T is (n x 3)\n",
    "    Y = np.zeros((2,len(T)),dtype=float) # (n x 2)\n",
    "    l,w,t = 100,4,2\n",
    "    T1,T2,T3 = T[:,0],T[:,1],T[:,2] # Python is indexed from 0\n",
    "    if compute_flags[0]: # compute D. x^2 is \"x**2\" in Python\n",
    "        Y[0] = 4*l**3/(T1*w*t)*np.sqrt(T2**2/t**4+T3**2/w**4)\n",
    "    if compute_flags[1]: # compute S\n",
    "        Y[1] = 600*(T2/(w*t**2)+T3/(w**2*t))\n",
    "    return Y\n",
    "true_measure = qp.Gaussian(\n",
    "    sampler = qp.DigitalNetB2(dimension=3,seed=7),\n",
    "    mean = [2.9e7,500,1000],\n",
    "    covariance = np.diag([(1.45e6)**2,(100)**2,(100)**2]))\n",
    "integrand = qp.CustomFun(true_measure,\n",
    "    g = cantilever_beam_function,\n",
    "    dimension_indv = 2)\n",
    "qmc_stop_crit = qp.CubBayesNetG(integrand,\n",
    "    abs_tol = 1e-3,\n",
    "    rel_tol = 1e-6)\n",
    "solution,data = qmc_stop_crit.integrate()\n",
    "print(solution)\n",
    "# [2.42575885e+00 3.74999973e+04]\n",
    "print(data)"
   ]
  },
  {
   "cell_type": "markdown",
   "id": "4573dad8",
   "metadata": {
    "id": "4573dad8"
   },
   "source": [
    "## BO QEI\n",
    "\n",
    "See the [QEI Demo in QMCPy](https://qmcpy.readthedocs.io/en/latest/demo_rst/qei-demo-for-blog.html) or the [BoTorch Acquisition documentation](https://botorch.org/docs/acquisition) for details on Bayesian Optimization using q-Expected Improvement."
   ]
  },
  {
   "cell_type": "code",
   "execution_count": 12,
   "id": "4a88842d",
   "metadata": {
    "colab": {
     "base_uri": "https://localhost:8080/"
    },
    "id": "4a88842d",
    "outputId": "86708907-34e1-43df-8b3e-2ea2e362a539"
   },
   "outputs": [
    {
     "name": "stdout",
     "output_type": "stream",
     "text": [
      "Data (Data)\n",
      "    solution        [[0.058 0.081 0.074 ... 0.062 0.062 0.068]\n",
      "                     [0.078 0.063 0.069 ... 0.066 0.066 0.072]\n",
      "                     [0.072 0.066 0.032 ... 0.033 0.033 0.039]\n",
      "                     ...\n",
      "                     [0.058 0.063 0.032 ... 0.    0.    0.006]\n",
      "                     [0.061 0.065 0.034 ... 0.003 0.    0.006]\n",
      "                     [0.067 0.072 0.041 ... 0.01  0.01  0.006]]\n",
      "    comb_bound_low  [[0.056 0.077 0.07  ... 0.058 0.058 0.064]\n",
      "                     [0.076 0.061 0.065 ... 0.063 0.063 0.069]\n",
      "                     [0.069 0.064 0.031 ... 0.032 0.032 0.037]\n",
      "                     ...\n",
      "                     [0.056 0.061 0.031 ... 0.    0.    0.005]\n",
      "                     [0.058 0.063 0.032 ... 0.001 0.    0.005]\n",
      "                     [0.064 0.069 0.038 ... 0.006 0.006 0.004]]\n",
      "    comb_bound_high [[0.061 0.086 0.078 ... 0.066 0.066 0.073]\n",
      "                     [0.081 0.065 0.072 ... 0.069 0.07  0.076]\n",
      "                     [0.074 0.068 0.033 ... 0.035 0.035 0.042]\n",
      "                     ...\n",
      "                     [0.061 0.065 0.032 ... 0.    0.    0.008]\n",
      "                     [0.064 0.067 0.036 ... 0.005 0.    0.008]\n",
      "                     [0.071 0.075 0.044 ... 0.014 0.014 0.007]]\n",
      "    comb_bound_diff [[0.004 0.008 0.009 ... 0.008 0.008 0.008]\n",
      "                     [0.005 0.003 0.007 ... 0.006 0.006 0.007]\n",
      "                     [0.005 0.004 0.002 ... 0.004 0.004 0.005]\n",
      "                     ...\n",
      "                     [0.004 0.003 0.002 ... 0.    0.    0.003]\n",
      "                     [0.006 0.004 0.003 ... 0.004 0.    0.003]\n",
      "                     [0.007 0.007 0.007 ... 0.008 0.008 0.003]]\n",
      "    comb_flags      [[ True  True  True ...  True  True  True]\n",
      "                     [ True  True  True ...  True  True  True]\n",
      "                     [ True  True  True ...  True  True  True]\n",
      "                     ...\n",
      "                     [ True  True  True ...  True  True  True]\n",
      "                     [ True  True  True ...  True  True  True]\n",
      "                     [ True  True  True ...  True  True  True]]\n",
      "    n_total         2^(8)\n",
      "    n               [[256 256 256 ... 256 256 256]\n",
      "                     [256 256 256 ... 256 256 256]\n",
      "                     [256 256 256 ... 256 256 256]\n",
      "                     ...\n",
      "                     [256 256 256 ... 256 256 256]\n",
      "                     [256 256 256 ... 256 256 256]\n",
      "                     [256 256 256 ... 256 256 256]]\n",
      "    time_integrate  5.308\n",
      "CubQMCBayesNetG (AbstractStoppingCriterion)\n",
      "    abs_tol         0.025\n",
      "    rel_tol         0\n",
      "    n_init          2^(8)\n",
      "    n_limit         2^(22)\n",
      "    order           1\n",
      "CustomFun (AbstractIntegrand)\n",
      "Uniform (AbstractTrueMeasure)\n",
      "    lower_bound     0\n",
      "    upper_bound     1\n",
      "DigitalNetB2 (AbstractLDDiscreteDistribution)\n",
      "    d               2^(1)\n",
      "    replications    1\n",
      "    randomize       LMS_DS\n",
      "    gen_mats_source joe_kuo.6.21201.txt\n",
      "    order           NATURAL\n",
      "    t               63\n",
      "    alpha           1\n",
      "    n_limit         2^(32)\n",
      "    entropy         7\n"
     ]
    }
   ],
   "source": [
    "import scipy\n",
    "from sklearn.gaussian_process import GaussianProcessRegressor,kernels\n",
    "\n",
    "f = lambda x: np.cos(10*x)*np.exp(.2*x)+np.exp(-5*(x-.4)**2)\n",
    "xplt = np.linspace(0,1,100)\n",
    "yplt = f(xplt)\n",
    "x = np.array([.1, .2, .4, .7, .9])\n",
    "y = f(x)\n",
    "ymax = y.max()\n",
    "\n",
    "gp = GaussianProcessRegressor(kernel=kernels.RBF(length_scale=1.0,length_scale_bounds=(1e-2, 1e2)),\n",
    "    n_restarts_optimizer = 16).fit(x[:,None],y)\n",
    "yhatplt,stdhatplt = gp.predict(xplt[:,None],return_std=True)\n",
    "\n",
    "tpax = 32\n",
    "x0mesh,x1mesh = np.meshgrid(np.linspace(0,1,tpax),np.linspace(0,1,tpax))\n",
    "post_mus = np.zeros((tpax,tpax,2),dtype=float)\n",
    "post_sqrtcovs = np.zeros((tpax,tpax,2,2),dtype=float)\n",
    "for j0 in range(tpax):\n",
    "    for j1 in range(tpax):\n",
    "        candidate = np.array([[x0mesh[j0,j1]],[x1mesh[j0,j1]]])\n",
    "        post_mus[j0,j1],post_cov = gp.predict(candidate,return_cov=True)\n",
    "        evals,evecs = scipy.linalg.eig(post_cov)\n",
    "        post_sqrtcovs[j0,j1] = np.sqrt(np.maximum(evals.real,0))*evecs\n",
    "\n",
    "def qei_acq_vec(x,compute_flags):\n",
    "    xgauss = scipy.stats.norm.ppf(x)\n",
    "    n = len(x)\n",
    "    qei_vals = np.zeros((tpax,tpax,n),dtype=float)\n",
    "    for j0 in range(tpax):\n",
    "        for j1 in range(tpax):\n",
    "            if compute_flags[j0,j1]==False: continue\n",
    "            sqrt_cov = post_sqrtcovs[j0,j1]\n",
    "            mu_post = post_mus[j0,j1]\n",
    "            for i in range(len(x)):\n",
    "                yij = sqrt_cov@xgauss[i]+mu_post\n",
    "                qei_vals[j0,j1,i] = max((yij-ymax).max(),0)\n",
    "    return qei_vals\n",
    "\n",
    "qei_acq_vec_qmcpy = qp.CustomFun(\n",
    "    true_measure = qp.Uniform(qp.DigitalNetB2(2,seed=7)),\n",
    "    g = qei_acq_vec,\n",
    "    dimension_indv = (tpax,tpax),\n",
    "    parallel=False)\n",
    "qei_vals,qei_data = qp.CubBayesNetG(qei_acq_vec_qmcpy,abs_tol=.025,rel_tol=0).integrate() # .0005\n",
    "print(qei_data)\n",
    "\n",
    "a = np.unravel_index(np.argmax(qei_vals,axis=None),qei_vals.shape)\n",
    "xnext = np.array([x0mesh[a[0],a[1]],x1mesh[a[0],a[1]]])\n",
    "fnext = f(xnext)"
   ]
  },
  {
   "cell_type": "code",
   "execution_count": 14,
   "id": "a5938bf4",
   "metadata": {
    "colab": {
     "base_uri": "https://localhost:8080/",
     "height": 406
    },
    "id": "a5938bf4",
    "outputId": "678c1561-9a70-4477-a581-e5770bb5ed9e"
   },
   "outputs": [
    {
     "data": {
      "image/png": "[encoded data removed]",
      "text/plain": [
       "<Figure size 1000x400 with 3 Axes>"
      ]
     },
     "metadata": {},
     "output_type": "display_data"
    }
   ],
   "source": [
    "from matplotlib import cm\n",
    "fig,ax = pyplot.subplots(nrows=1,ncols=2,figsize=(10,4))\n",
    "ax[0].scatter(x,y,color='k',label='Query Points')\n",
    "ax[0].plot(xplt,yplt,color='k',linestyle='--',label='True function',linewidth=1)\n",
    "ax[0].plot(xplt,yhatplt,color='k',label='GP Mean',linewidth=1)\n",
    "ax[0].fill_between(xplt,yhatplt-1.96*stdhatplt,yhatplt+1.96*stdhatplt,color='k',alpha=.25,label='95% CI')\n",
    "ax[0].scatter(xnext,fnext,color='k',marker='*',s=200,zorder=10)\n",
    "ax[0].set_xlim([0,1])\n",
    "ax[0].set_xticks([0,1])\n",
    "ax[0].set_xlabel(r'$x$')\n",
    "ax[0].set_ylabel(r'$y$')\n",
    "fig.legend(labels=['data','true function','posterior mean',r'95\\% CI','next points by QEI'],loc='lower center',bbox_to_anchor=(.5,-.05),ncol=5)\n",
    "contour = ax[1].contourf(x0mesh,x1mesh,qei_vals,cmap=cm.Greys_r)\n",
    "ax[1].scatter([xnext[0]],[xnext[1]],color='k',marker='*',s=200)\n",
    "fig.colorbar(contour,ax=None,shrink=1,aspect=5)\n",
    "ax[1].scatter(x0mesh.flatten(),x1mesh.flatten(),color='w',s=1)\n",
    "ax[1].set_xlim([0,1])\n",
    "ax[1].set_xticks([0,1])\n",
    "ax[1].set_ylim([0,1])\n",
    "ax[1].set_yticks([0,1])\n",
    "ax[1].set_xlabel(r'$x_1$')\n",
    "ax[1].set_ylabel(r'$x_2$')\n",
    "if root: fig.savefig(root+'gp.pdf',transparent=True)"
   ]
  },
  {
   "cell_type": "markdown",
   "id": "537cf7f0",
   "metadata": {
    "id": "537cf7f0"
   },
   "source": [
    "## Bayesian Logistic Regression"
   ]
  },
  {
   "cell_type": "code",
   "execution_count": 15,
   "id": "2c109b39",
   "metadata": {
    "id": "2c109b39"
   },
   "outputs": [],
   "source": [
    "import pandas as pd\n",
    "from sklearn.model_selection import train_test_split\n",
    "df = pd.read_csv('https://archive.ics.uci.edu/ml/machine-learning-databases/haberman/haberman.data',header=None)\n",
    "df.columns = ['Age','1900 Year','Axillary Nodes','Survival Status']\n",
    "df.loc[df['Survival Status']==2,'Survival Status'] = 0\n",
    "x,y = df[['Age','1900 Year','Axillary Nodes']],df['Survival Status']\n",
    "xt,xv,yt,yv = train_test_split(x,y,test_size=.33,random_state=7)"
   ]
  },
  {
   "cell_type": "code",
   "execution_count": 16,
   "id": "c7372124",
   "metadata": {
    "colab": {
     "base_uri": "https://localhost:8080/",
     "height": 674
    },
    "id": "c7372124",
    "outputId": "594c6f8a-e543-4c74-9ea7-5208ae8e060e"
   },
   "outputs": [
    {
     "name": "stdout",
     "output_type": "stream",
     "text": [
      "   Age  1900 Year  Axillary Nodes  Survival Status\n",
      "0   30         64               1                1\n",
      "1   30         62               3                1\n",
      "2   30         65               0                1\n",
      "3   31         59               2                1\n",
      "4   31         65               4                1 \n",
      "\n",
      "              Age   1900 Year  Axillary Nodes\n",
      "count  306.000000  306.000000      306.000000\n",
      "mean    52.457516   62.852941        4.026144\n",
      "std     10.803452    3.249405        7.189654\n",
      "min     30.000000   58.000000        0.000000\n",
      "25%     44.000000   60.000000        0.000000\n",
      "50%     52.000000   63.000000        1.000000\n",
      "75%     60.750000   65.750000        4.000000\n",
      "max     83.000000   69.000000       52.000000 \n",
      "\n",
      "count     306\n",
      "unique      2\n",
      "top         1\n",
      "freq      225\n",
      "Name: Survival Status, dtype: object\n",
      "\n",
      "train samples: 205 test samples: 101\n",
      "\n",
      "train positives 151   train negatives: 54\n",
      " test positives 74    test negatives: 27\n"
     ]
    },
    {
     "data": {
      "text/html": [
       "<div>\n",
       "<style scoped>\n",
       "    .dataframe tbody tr th:only-of-type {\n",
       "        vertical-align: middle;\n",
       "    }\n",
       "\n",
       "    .dataframe tbody tr th {\n",
       "        vertical-align: top;\n",
       "    }\n",
       "\n",
       "    .dataframe thead th {\n",
       "        text-align: right;\n",
       "    }\n",
       "</style>\n",
       "<table border=\"1\" class=\"dataframe\">\n",
       "  <thead>\n",
       "    <tr style=\"text-align: right;\">\n",
       "      <th></th>\n",
       "      <th>Age</th>\n",
       "      <th>1900 Year</th>\n",
       "      <th>Axillary Nodes</th>\n",
       "    </tr>\n",
       "  </thead>\n",
       "  <tbody>\n",
       "    <tr>\n",
       "      <th>46</th>\n",
       "      <td>41</td>\n",
       "      <td>58</td>\n",
       "      <td>0</td>\n",
       "    </tr>\n",
       "    <tr>\n",
       "      <th>199</th>\n",
       "      <td>57</td>\n",
       "      <td>64</td>\n",
       "      <td>1</td>\n",
       "    </tr>\n",
       "    <tr>\n",
       "      <th>115</th>\n",
       "      <td>49</td>\n",
       "      <td>64</td>\n",
       "      <td>10</td>\n",
       "    </tr>\n",
       "    <tr>\n",
       "      <th>128</th>\n",
       "      <td>50</td>\n",
       "      <td>61</td>\n",
       "      <td>0</td>\n",
       "    </tr>\n",
       "    <tr>\n",
       "      <th>249</th>\n",
       "      <td>63</td>\n",
       "      <td>63</td>\n",
       "      <td>0</td>\n",
       "    </tr>\n",
       "  </tbody>\n",
       "</table>\n",
       "</div>"
      ],
      "text/plain": [
       "     Age  1900 Year  Axillary Nodes\n",
       "46    41         58               0\n",
       "199   57         64               1\n",
       "115   49         64              10\n",
       "128   50         61               0\n",
       "249   63         63               0"
      ]
     },
     "execution_count": 16,
     "metadata": {},
     "output_type": "execute_result"
    }
   ],
   "source": [
    "print(df.head(),'\\n')\n",
    "print(df[['Age','1900 Year','Axillary Nodes']].describe(),'\\n')\n",
    "print(df['Survival Status'].astype(str).describe())\n",
    "print('\\ntrain samples: %d test samples: %d\\n'%(len(xt),len(xv)))\n",
    "print('train positives %d   train negatives: %d'%(np.sum(yt==1),np.sum(yt==0)))\n",
    "print(' test positives %d    test negatives: %d'%(np.sum(yv==1),np.sum(yv==0)))\n",
    "xt.head()"
   ]
  },
  {
   "cell_type": "code",
   "execution_count": 17,
   "id": "2cc71af8",
   "metadata": {
    "id": "2cc71af8"
   },
   "outputs": [
    {
     "name": "stdout",
     "output_type": "stream",
     "text": [
      "Data (Data)\n",
      "    solution        [ 0.262 -0.043 -0.226 -1.203]\n",
      "    comb_bound_low  [ 0.185 -0.067 -0.306 -1.656]\n",
      "    comb_bound_high [ 0.347 -0.035 -0.163 -0.75 ]\n",
      "    comb_bound_diff [0.162 0.031 0.143 0.906]\n",
      "    comb_flags      [ True  True  True False]\n",
      "    n_total         2^(18)\n",
      "    n               [[  1024   1024   1024 262144]\n",
      "                     [  1024   1024   1024 262144]]\n",
      "    time_integrate  3.175\n",
      "CubQMCNetG (AbstractStoppingCriterion)\n",
      "    abs_tol         0.100\n",
      "    rel_tol         2^(-1)\n",
      "    n_init          2^(10)\n",
      "    n_limit         2^(18)\n",
      "BayesianLRCoeffs (AbstractIntegrand)\n",
      "Gaussian (AbstractTrueMeasure)\n",
      "    mean            0\n",
      "    covariance      5\n",
      "    decomp_type     PCA\n",
      "DigitalNetB2 (AbstractLDDiscreteDistribution)\n",
      "    d               2^(2)\n",
      "    replications    1\n",
      "    randomize       LMS_DS\n",
      "    gen_mats_source joe_kuo.6.21201.txt\n",
      "    order           NATURAL\n",
      "    t               63\n",
      "    alpha           1\n",
      "    n_limit         2^(32)\n",
      "    entropy         1\n"
     ]
    },
    {
     "name": "stderr",
     "output_type": "stream",
     "text": [
      "/Users/alegresor/Desktop/QMCSoftware/qmcpy/stopping_criterion/abstract_cub_qmc_ld_g.py:215: MaxSamplesWarning: \n",
      "                Already generated 262144 samples.\n",
      "                Trying to generate 262144 new samples would exceeds n_limit = 262144.\n",
      "                No more samples will be generated.\n",
      "                Note that error tolerances may not be satisfied. \n",
      "  warnings.warn(warning_s, MaxSamplesWarning)\n"
     ]
    }
   ],
   "source": [
    "blr = qp.BayesianLRCoeffs(\n",
    "    sampler = qp.DigitalNetB2(4,seed=1),\n",
    "    feature_array = xt, # np.ndarray of shape (n,d-1)\n",
    "    response_vector = yt, # np.ndarray of shape (n,)\n",
    "    prior_mean = 0, # normal prior mean = (0,0,...,0)\n",
    "    prior_covariance = 5)\n",
    "qmc_sc = qp.CubQMCNetG(blr,\n",
    "    abs_tol = .1,\n",
    "    rel_tol = .5,\n",
    "    error_fun = \"BOTH\",\n",
    "    n_limit=2**18)\n",
    "blr_coefs,blr_data = qmc_sc.integrate()\n",
    "print(blr_data)\n",
    "\n",
    "# LDTransformData (AccumulateData Object)\n",
    "#     solution        [-0.004  0.13  -0.157  0.008]\n",
    "#     comb_bound_low  [-0.006  0.092 -0.205  0.007]\n",
    "#     comb_bound_high [-0.003  0.172 -0.109  0.012]\n",
    "#     comb_flags      [ True  True  True  True]\n",
    "#     n_total         2^(18)\n",
    "#     n               [[  1024.   1024. 262144.   2048.]\n",
    "#                     [  1024.   1024. 262144.   2048.]]\n",
    "#     time_integrate  2.229"
   ]
  },
  {
   "cell_type": "code",
   "execution_count": 18,
   "id": "9aeee8bf",
   "metadata": {
    "id": "9aeee8bf"
   },
   "outputs": [
    {
     "name": "stdout",
     "output_type": "stream",
     "text": [
      "                              Age  1900 Year  Axillary Nodes  Intercept  \\\n",
      "method                                                                    \n",
      "Elastic-Net \\lambda=0.0 -0.012279   0.034401       -0.115153   0.001990   \n",
      "Elastic-Net \\lambda=0.5 -0.012041   0.034170       -0.114770   0.002025   \n",
      "Elastic-Net \\lambda=1.0 -0.011803   0.033940       -0.114387   0.002061   \n",
      "Bayesian                 0.262086  -0.043253       -0.225631  -1.202777   \n",
      "\n",
      "                         Accuracy  Precision    Recall  \n",
      "method                                                  \n",
      "Elastic-Net \\lambda=0.0  0.742574   0.766667  0.932432  \n",
      "Elastic-Net \\lambda=0.5  0.742574   0.766667  0.932432  \n",
      "Elastic-Net \\lambda=1.0  0.742574   0.766667  0.932432  \n",
      "Bayesian                 0.732673   0.737374  0.986486  \n"
     ]
    }
   ],
   "source": [
    "from sklearn.linear_model import LogisticRegression\n",
    "def metrics(y,yhat):\n",
    "    y,yhat = np.array(y),np.array(yhat)\n",
    "    tp = np.sum((y==1)*(yhat==1))\n",
    "    tn = np.sum((y==0)*(yhat==0))\n",
    "    fp = np.sum((y==0)*(yhat==1))\n",
    "    fn = np.sum((y==1)*(yhat==0))\n",
    "    accuracy = (tp+tn)/(len(y))\n",
    "    precision = tp/(tp+fp)\n",
    "    recall = tp/(tp+fn)\n",
    "    return [accuracy,precision,recall]\n",
    "\n",
    "results = pd.DataFrame({name:[] for name in ['method','Age','1900 Year','Axillary Nodes','Intercept','Accuracy','Precision','Recall']})\n",
    "for i,l1_ratio in enumerate([0,.5,1]):\n",
    "    lr = LogisticRegression(random_state=7,penalty=\"elasticnet\",solver='saga',l1_ratio=l1_ratio).fit(xt,yt)\n",
    "    results.loc[i] = [r'Elastic-Net \\lambda=%.1f'%l1_ratio]+lr.coef_.squeeze().tolist()+[lr.intercept_.item()]+metrics(yv,lr.predict(xv))\n",
    "\n",
    "blr_predict = lambda x: 1/(1+np.exp(-np.array(x)@blr_coefs[:-1]-blr_coefs[-1]))>=.5\n",
    "blr_train_accuracy = np.mean(blr_predict(xt)==yt)\n",
    "blr_test_accuracy = np.mean(blr_predict(xv)==yv)\n",
    "results.loc[len(results)] = ['Bayesian']+blr_coefs.squeeze().tolist()+metrics(yv,blr_predict(xv))\n",
    "\n",
    "import warnings\n",
    "warnings.simplefilter('ignore',FutureWarning)\n",
    "results.set_index('method',inplace=True)\n",
    "print(results.head())\n",
    "#root: results.to_latex(root+'lr_table.tex',formatters={'%s'%tt:lambda v:'%.1f'%(100*v) for tt in ['accuracy','precision','recall']},float_format=\"%.2e\")"
   ]
  },
  {
   "cell_type": "markdown",
   "id": "d1002afa",
   "metadata": {
    "id": "d1002afa"
   },
   "source": [
    "## Sensitivity Indices"
   ]
  },
  {
   "cell_type": "markdown",
   "id": "0c871796",
   "metadata": {
    "id": "0c871796"
   },
   "source": [
    "### Ishigami Function"
   ]
  },
  {
   "cell_type": "code",
   "execution_count": 19,
   "id": "d8e52264",
   "metadata": {
    "colab": {
     "base_uri": "https://localhost:8080/"
    },
    "id": "d8e52264",
    "outputId": "30fc029b-8d62-4bd4-9c3e-2b14db6bf463"
   },
   "outputs": [
    {
     "name": "stdout",
     "output_type": "stream",
     "text": [
      "Data (Data)\n",
      "    solution        [[0.272 0.451 0.03  0.756 0.561 0.481]\n",
      "                     [0.584 0.406 0.224 0.981 0.505 0.696]]\n",
      "    comb_bound_low  [[0.227 0.404 0.011 0.726 0.518 0.447]\n",
      "                     [0.544 0.369 0.204 0.961 0.461 0.658]]\n",
      "    comb_bound_high [[0.317 0.499 0.049 0.786 0.604 0.515]\n",
      "                     [0.624 0.442 0.244 1.    0.549 0.733]]\n",
      "    comb_bound_diff [[0.09  0.095 0.038 0.061 0.086 0.068]\n",
      "                     [0.08  0.074 0.04  0.039 0.088 0.076]]\n",
      "    comb_flags      [[ True  True  True  True  True  True]\n",
      "                     [ True  True  True  True  True  True]]\n",
      "    n_total         2^(10)\n",
      "    n               [[[ 256  256  256 1024  512  512]\n",
      "                      [ 256  256  256 1024  512  512]\n",
      "                      [ 256  256  256 1024  512  512]]\n",
      "                    \n",
      "                     [[ 512  256  256  512  256  512]\n",
      "                      [ 512  256  256  512  256  512]\n",
      "                      [ 512  256  256  512  256  512]]]\n",
      "    time_integrate  0.292\n",
      "CubQMCBayesNetG (AbstractStoppingCriterion)\n",
      "    abs_tol         0.050\n",
      "    rel_tol         0\n",
      "    n_init          2^(8)\n",
      "    n_limit         2^(22)\n",
      "    order           1\n",
      "SensitivityIndices (AbstractIntegrand)\n",
      "    indices         [[ True False False]\n",
      "                     [False  True False]\n",
      "                     [False False  True]\n",
      "                     [ True  True False]\n",
      "                     [ True False  True]\n",
      "                     [False  True  True]]\n",
      "Uniform (AbstractTrueMeasure)\n",
      "    lower_bound     -3.142\n",
      "    upper_bound     3.142\n",
      "DigitalNetB2 (AbstractLDDiscreteDistribution)\n",
      "    d               3\n",
      "    replications    1\n",
      "    randomize       LMS_DS\n",
      "    gen_mats_source joe_kuo.6.21201.txt\n",
      "    order           NATURAL\n",
      "    t               63\n",
      "    alpha           1\n",
      "    n_limit         2^(32)\n",
      "    entropy         7\n",
      "\n",
      "Approx took 0.3 sec and n = 2^(10)\n",
      "\t si_closed: [0.27216675 0.45135598 0.03039673 0.7559953  0.56084862 0.48106082]\n",
      "\t si_total: [0.58380168 0.40555062 0.22413097 0.98050963 0.50473157 0.69561275]\n",
      "\t ci_comb_low_closed: [0.22703312 0.40380263 0.01145781 0.72574291 0.51804596 0.44706404]\n",
      "\t ci_comb_high_closed: [0.31730037 0.49890933 0.04933565 0.78624769 0.60365128 0.51505759]\n",
      "\t ci_comb_low_total: [0.54382805 0.36861946 0.20422796 0.96101926 0.46083634 0.65783325]\n",
      "\t ci_comb_high_total: [0.62377531 0.44248178 0.24403398 1.         0.5486268  0.73339225]\n"
     ]
    }
   ],
   "source": [
    "a,b = 7,0.1\n",
    "dnb2 = qp.DigitalNetB2(3,seed=7)\n",
    "ishigami = qp.Ishigami(dnb2,a,b)\n",
    "idxs = np.array([\n",
    "    [True,False,False],\n",
    "    [False,True,False],\n",
    "    [False,False,True],\n",
    "    [True,True,False],\n",
    "    [True,False,True],\n",
    "    [False,True,True]],dtype=bool)\n",
    "ishigami_si = qp.SensitivityIndices(ishigami,idxs)\n",
    "qmc_algo = qp.CubBayesNetG(ishigami_si,abs_tol=.05)\n",
    "solution,data = qmc_algo.integrate()\n",
    "print(data)\n",
    "si_closed = solution[0].squeeze()\n",
    "si_total = solution[1].squeeze()\n",
    "ci_comb_low_closed = data.comb_bound_low[0].squeeze()\n",
    "ci_comb_high_closed = data.comb_bound_high[0].squeeze()\n",
    "ci_comb_low_total = data.comb_bound_low[1].squeeze()\n",
    "ci_comb_high_total = data.comb_bound_high[1].squeeze()\n",
    "print(\"\\nApprox took %.1f sec and n = 2^(%d)\"%\n",
    "    (data.time_integrate,np.log2(data.n_total)))\n",
    "print('\\t si_closed:',si_closed)\n",
    "print('\\t si_total:',si_total)\n",
    "print('\\t ci_comb_low_closed:',ci_comb_low_closed)\n",
    "print('\\t ci_comb_high_closed:',ci_comb_high_closed)\n",
    "print('\\t ci_comb_low_total:',ci_comb_low_total)\n",
    "print('\\t ci_comb_high_total:',ci_comb_high_total)\n",
    "\n",
    "true_indices = qp.Ishigami._exact_sensitivity_indices(idxs,a,b)\n",
    "si_closed_true = true_indices[0]\n",
    "si_total_true = true_indices[1]"
   ]
  },
  {
   "cell_type": "code",
   "execution_count": 21,
   "id": "b2232e67",
   "metadata": {
    "colab": {
     "base_uri": "https://localhost:8080/",
     "height": 368
    },
    "id": "b2232e67",
    "outputId": "3fe76c0c-8ee8-4ca4-8c02-ce8cf08cb0ae"
   },
   "outputs": [
    {
     "data": {
      "image/png": "[encoded data removed]",
      "text/plain": [
       "<Figure size 800x400 with 1 Axes>"
      ]
     },
     "metadata": {},
     "output_type": "display_data"
    }
   ],
   "source": [
    "fig,ax = pyplot.subplots(figsize=(8,4))\n",
    "ax.grid(False)\n",
    "for spine in ['top','left','right','bottom']: ax.spines[spine].set_visible(False)\n",
    "width = .75\n",
    "ax.errorbar(fmt='none',color='k',\n",
    "    x = 1-si_total_true,\n",
    "    y = np.arange(len(si_closed)),\n",
    "    xerr = 0,\n",
    "    yerr = width/2,\n",
    "    alpha = 1)\n",
    "bar_closed = ax.barh(np.arange(len(si_closed)),np.flip(si_closed),width,label='Closed SI',color='w',edgecolor='k',alpha=.75,linestyle='--')\n",
    "ax.errorbar(fmt='none',color='k',\n",
    "    x = si_closed,\n",
    "    y = np.flip(np.arange(len(si_closed)))+width/4,\n",
    "    xerr = np.vstack((si_closed-ci_comb_low_closed,ci_comb_high_closed-si_closed)),\n",
    "    yerr = 0,\n",
    "    #elinewidth = 5,\n",
    "    alpha = .75)\n",
    "bar_total = ax.barh(np.arange(len(si_closed)),si_total,width,label='Total SI',color='w',alpha=.25,edgecolor='k',left=1-si_total,zorder=10,linestyle='-.')\n",
    "ax.errorbar(fmt='none',color='k',\n",
    "    x = 1-si_total,\n",
    "    y = np.arange(len(si_closed))-width/4,\n",
    "    xerr = np.vstack((si_total-ci_comb_low_total,ci_comb_high_total-si_total)),\n",
    "    yerr = 0,\n",
    "    #elinewidth = 5,\n",
    "    alpha = .25)\n",
    "closed_labels = [r'$\\underline{s}_{\\{%s\\}} = %.2f$'%(','.join([str(i+1) for i in idx]),c) for idx,c in zip(idxs[::-1],np.flip(si_closed))]\n",
    "closed_labels[3] = ''\n",
    "total_labels = [r'$\\overline{s}_{\\{%s\\}} = %.2f$'%(','.join([str(i+1) for i in idx]),t) for idx,t in zip(idxs,si_total)]\n",
    "ax.bar_label(bar_closed,label_type='center',labels=closed_labels)\n",
    "ax.bar_label(bar_total,label_type='center',labels=total_labels)\n",
    "ax.set_xlim([-.001,1.001])\n",
    "ax.axvline(x=0,ymin=0,ymax=len(si_closed),color='k',alpha=.25)\n",
    "ax.axvline(x=1,ymin=0,ymax=len(si_closed),color='k',alpha=.25)\n",
    "ax.set_yticklabels([])\n",
    "if root: fig.savefig(root+'ishigami.pdf',transparent=True)"
   ]
  },
  {
   "cell_type": "code",
   "execution_count": 22,
   "id": "8185b3d3",
   "metadata": {
    "colab": {
     "base_uri": "https://localhost:8080/",
     "height": 328
    },
    "id": "8185b3d3",
    "outputId": "cf1146f1-7448-40be-a0b7-b5c92d8b1e64"
   },
   "outputs": [
    {
     "data": {
      "image/png": "[encoded data removed]",
      "text/plain": [
       "<Figure size 800x300 with 3 Axes>"
      ]
     },
     "metadata": {},
     "output_type": "display_data"
    }
   ],
   "source": [
    "fig,ax = pyplot.subplots(nrows=1,ncols=3,figsize=(8,3))\n",
    "x_1d = np.linspace(0,1,num=128)\n",
    "x_1d_mat = np.tile(x_1d,(3,1)).T\n",
    "y_1d = qp.Ishigami._exact_fu_functions(x_1d_mat,indices=[[0],[1],[2]],a=a,b=b)\n",
    "for i in range(2):\n",
    "    ax[i].plot(x_1d,y_1d[:,i],color='k')\n",
    "    ax[i].set_xlim([0,1])\n",
    "    ax[i].set_xticks([0,1])\n",
    "    ax[i].set_xlabel(r'$x_{%d}$'%(i+1))\n",
    "    ax[i].set_title(r'$f_{\\{%d\\}} \\in [%.1f,%.1f]$'%(i+1,y_1d[:,i].min(),y_1d[:,i].max()))\n",
    "x_mesh,y_mesh = np.meshgrid(x_1d,x_1d)\n",
    "xquery = np.zeros((x_mesh.size,3))\n",
    "for i,idx in enumerate([[1,2]]): # [[0,1],[0,2],[1,2]]\n",
    "    xquery[:,idx[0]] = x_mesh.flatten()\n",
    "    xquery[:,idx[1]] = y_mesh.flatten()\n",
    "    zquery = qp.Ishigami._exact_fu_functions(xquery,indices=[idx],a=a,b=b)\n",
    "    z_mesh = zquery.reshape(x_mesh.shape)\n",
    "    ax[2+i].contourf(x_mesh,y_mesh,z_mesh,cmap=cm.Greys_r)\n",
    "    ax[2+i].set_xlabel(r'$x_{%d}$'%(idx[0]+1))\n",
    "    ax[2+i].set_ylabel(r'$x_{%d}$'%(idx[1]+1))\n",
    "    ax[2+i].set_title(r'$f_{\\{%d,%d\\}} \\in [%.1f,%.1f]$'%(tuple([i+1 for i in idx])+(z_mesh.min(),z_mesh.max())))\n",
    "    ax[2+i].set_xlim([0,1])\n",
    "    ax[2+i].set_ylim([0,1])\n",
    "    ax[2+i].set_xticks([0,1])\n",
    "    ax[2+i].set_yticks([0,1])\n",
    "if root: fig.savefig(root+'ishigami_fu.pdf')"
   ]
  },
  {
   "cell_type": "markdown",
   "id": "8fc6f6c7",
   "metadata": {
    "id": "8fc6f6c7"
   },
   "source": [
    "### Neural Network"
   ]
  },
  {
   "cell_type": "code",
   "execution_count": 23,
   "id": "841067ac",
   "metadata": {
    "id": "841067ac"
   },
   "outputs": [],
   "source": [
    "from sklearn.datasets import load_iris\n",
    "from sklearn.model_selection import train_test_split\n",
    "from sklearn.neural_network import MLPClassifier\n",
    "data = load_iris()\n",
    "feature_names = data[\"feature_names\"]\n",
    "feature_names = [fn.replace('sepal ','S')\\\n",
    "    .replace('length ','L')\\\n",
    "    .replace('petal ','P')\\\n",
    "    .replace('width ','W')\\\n",
    "    .replace('(cm)','') for fn in feature_names]\n",
    "target_names = data[\"target_names\"]\n",
    "xt,xv,yt,yv = train_test_split(data[\"data\"],data[\"target\"],\n",
    "    test_size = 1/3,\n",
    "    random_state = 7)"
   ]
  },
  {
   "cell_type": "code",
   "execution_count": 25,
   "id": "8e7846bf",
   "metadata": {
    "colab": {
     "base_uri": "https://localhost:8080/"
    },
    "id": "8e7846bf",
    "outputId": "a93026ad-7210-4938-89f5-98abbcac99a9"
   },
   "outputs": [
    {
     "name": "stdout",
     "output_type": "stream",
     "text": [
      "accuracy: 98.0%\n"
     ]
    }
   ],
   "source": [
    "mlpc = MLPClassifier(random_state=7,max_iter=1024).fit(xt,yt)\n",
    "yhat = mlpc.predict(xv)\n",
    "print(\"accuracy: %.1f%%\"%(100*(yv==yhat).mean()))\n",
    "# accuracy: 98.0%\n",
    "sampler = qp.DigitalNetB2(4,seed=7)\n",
    "true_measure =  qp.Uniform(sampler,\n",
    "    lower_bound = xt.min(0),\n",
    "    upper_bound = xt.max(0))\n",
    "fun = qp.CustomFun(\n",
    "    true_measure = true_measure,\n",
    "    g = lambda x: mlpc.predict_proba(x).T,\n",
    "    dimension_indv = 3)\n",
    "si_fun = qp.SensitivityIndices(fun,indices=\"all\")\n",
    "qmc_algo = qp.CubBayesNetG(si_fun,abs_tol=.005)\n",
    "nn_sis,nn_sis_data = qmc_algo.integrate()"
   ]
  },
  {
   "cell_type": "code",
   "execution_count": 26,
   "id": "e48c89bb",
   "metadata": {
    "colab": {
     "base_uri": "https://localhost:8080/"
    },
    "id": "e48c89bb",
    "outputId": "2dfc1e75-f2dd-452a-e3e2-90661081bb74"
   },
   "outputs": [
    {
     "name": "stdout",
     "output_type": "stream",
     "text": [
      "samples: 2^(14)\n",
      "time: 4.5e+01\n",
      "indices:\n",
      "[[ True False False False]\n",
      " [False  True False False]\n",
      " [False False  True False]\n",
      " [False False False  True]\n",
      " [ True  True False False]\n",
      " [ True False  True False]\n",
      " [ True False False  True]\n",
      " [False  True  True False]\n",
      " [False  True False  True]\n",
      " [False False  True  True]\n",
      " [ True  True  True False]\n",
      " [ True  True False  True]\n",
      " [ True False  True  True]\n",
      " [False  True  True  True]]\n",
      "\n",
      "Closed Indices\n",
      "           setosa  versicolor  virginica\n",
      "[0]      0.007424    0.066607   0.099046\n",
      "[1]      0.054465    0.002571   0.002252\n",
      "[2]      0.712709    0.326649   0.498656\n",
      "[3]      0.047694    0.017899   0.116317\n",
      "[0 1]    0.054934    0.084423   0.097292\n",
      "[0 2]    0.714202    0.460625   0.641442\n",
      "[0 3]    0.047812    0.088780   0.205556\n",
      "[1 2]    0.840862    0.433312   0.514035\n",
      "[1 3]    0.102551    0.032345   0.128446\n",
      "[2 3]    0.822403    0.583336   0.705183\n",
      "[0 1 2]  0.843053    0.570898   0.660995\n",
      "[0 1 3]  0.108803    0.103398   0.216627\n",
      "[0 2 3]  0.824346    0.814563   0.946842\n",
      "[1 2 3]  0.995488    0.739790   0.726773\n",
      "\n",
      "Total Indices\n"
     ]
    },
    {
     "data": {
      "text/html": [
       "<div>\n",
       "<style scoped>\n",
       "    .dataframe tbody tr th:only-of-type {\n",
       "        vertical-align: middle;\n",
       "    }\n",
       "\n",
       "    .dataframe tbody tr th {\n",
       "        vertical-align: top;\n",
       "    }\n",
       "\n",
       "    .dataframe thead th {\n",
       "        text-align: right;\n",
       "    }\n",
       "</style>\n",
       "<table border=\"1\" class=\"dataframe\">\n",
       "  <thead>\n",
       "    <tr style=\"text-align: right;\">\n",
       "      <th></th>\n",
       "      <th>sepal length (cm)</th>\n",
       "      <th>sepal width (cm)</th>\n",
       "      <th>petal length (cm)</th>\n",
       "      <th>petal width (cm)</th>\n",
       "      <th>sum</th>\n",
       "    </tr>\n",
       "  </thead>\n",
       "  <tbody>\n",
       "    <tr>\n",
       "      <th>setosa</th>\n",
       "      <td>0.742441</td>\n",
       "      <td>5.446506</td>\n",
       "      <td>71.270924</td>\n",
       "      <td>4.769447</td>\n",
       "      <td>82.229319</td>\n",
       "    </tr>\n",
       "    <tr>\n",
       "      <th>versicolor</th>\n",
       "      <td>6.660730</td>\n",
       "      <td>0.257095</td>\n",
       "      <td>32.664932</td>\n",
       "      <td>1.789914</td>\n",
       "      <td>41.372671</td>\n",
       "    </tr>\n",
       "    <tr>\n",
       "      <th>virginica</th>\n",
       "      <td>9.904627</td>\n",
       "      <td>0.225186</td>\n",
       "      <td>49.865641</td>\n",
       "      <td>11.631687</td>\n",
       "      <td>71.627140</td>\n",
       "    </tr>\n",
       "  </tbody>\n",
       "</table>\n",
       "</div>"
      ],
      "text/plain": [
       "            sepal length (cm)  sepal width (cm)  petal length (cm)  \\\n",
       "setosa               0.742441          5.446506          71.270924   \n",
       "versicolor           6.660730          0.257095          32.664932   \n",
       "virginica            9.904627          0.225186          49.865641   \n",
       "\n",
       "            petal width (cm)        sum  \n",
       "setosa              4.769447  82.229319  \n",
       "versicolor          1.789914  41.372671  \n",
       "virginica          11.631687  71.627140  "
      ]
     },
     "execution_count": 26,
     "metadata": {},
     "output_type": "execute_result"
    }
   ],
   "source": [
    "#print(nn_sis_data.flags_indv.shape)\n",
    "#print(nn_sis_data.flags_comb.shape)\n",
    "print('samples: 2^(%d)'%np.log2(nn_sis_data.n_total))\n",
    "print('time: %.1e'%nn_sis_data.time_integrate)\n",
    "print('indices:\\n%s'%nn_sis_data.integrand.indices)\n",
    "\n",
    "import pandas as pd\n",
    "\n",
    "df_closed = pd.DataFrame(nn_sis[0],columns=target_names,index=[str(np.where(idx)[0]) for idx in nn_sis_data.integrand.indices])\n",
    "print('\\nClosed Indices')\n",
    "print(df_closed)\n",
    "df_total = pd.DataFrame(nn_sis[1],columns=target_names,index=[str(np.where(idx)[0]) for idx in nn_sis_data.integrand.indices])\n",
    "print('\\nTotal Indices')\n",
    "df_closed_singletons = df_closed.loc[['[%d]'%i for i in range(4)]].T\n",
    "df_closed_singletons['sum singletons'] = df_closed_singletons[['[%d]'%i for i in range(4)]].sum(1)\n",
    "df_closed_singletons.columns = data['feature_names']+['sum']\n",
    "df_closed_singletons = df_closed_singletons*100\n",
    "df_closed_singletons"
   ]
  },
  {
   "cell_type": "code",
   "execution_count": 27,
   "id": "eeb7b84b",
   "metadata": {
    "colab": {
     "base_uri": "https://localhost:8080/",
     "height": 496
    },
    "id": "eeb7b84b",
    "outputId": "5ff2f22e-1787-46bb-f435-da41886b5833"
   },
   "outputs": [
    {
     "data": {
      "image/png": "[encoded data removed]",
      "text/plain": [
       "<Figure size 900x500 with 1 Axes>"
      ]
     },
     "metadata": {},
     "output_type": "display_data"
    }
   ],
   "source": [
    "nindices = len(nn_sis_data.integrand.indices)\n",
    "fig,ax = pyplot.subplots(figsize=(9,5))\n",
    "ticks = np.arange(nindices)\n",
    "width = .25\n",
    "for i,(alpha,species) in enumerate(zip([.25,.5,.75],data['target_names'])):\n",
    "    cvals = df_closed[species].to_numpy()\n",
    "    tvals = df_total[species].to_numpy()\n",
    "    ticks_i = ticks+i*width\n",
    "    ax.bar(ticks_i,cvals,width=width,align='edge',color='k',alpha=alpha,label=species)\n",
    "    #ax.bar(ticks_i,np.flip(tvals),width=width,align='edge',bottom=1-np.flip(tvals),color=color,alpha=.1)\n",
    "ax.set_xlim([0,13+3*width])\n",
    "ax.set_xticks(ticks+1.5*width)\n",
    "\n",
    "# closed_labels = [r'$\\underline{s}_{\\{%s\\}}$'%(','.join([r'\\text{%s}'%feature_names[i] for i in idx])) for idx in nn_sis_data.integrand.indices]\n",
    "closed_labels = ['\\n'.join([feature_names[i] for i in np.where(idx)[0]]) for idx in nn_sis_data.integrand.indices]\n",
    "ax.set_xticklabels(closed_labels,rotation=0)\n",
    "ax.set_ylim([0,1]); ax.set_yticks([0,1])\n",
    "ax.grid(False)\n",
    "for spine in ['top','right','bottom']: ax.spines[spine].set_visible(False)\n",
    "ax.legend(frameon=False,loc='lower center',bbox_to_anchor=(.5,-.2),ncol=3);\n",
    "fig.tight_layout()\n",
    "if root: fig.savefig(root+'nn_si.pdf')"
   ]
  },
  {
   "cell_type": "code",
   "execution_count": null,
   "id": "d398fe7c",
   "metadata": {},
   "outputs": [],
   "source": []
  }
 ],
 "metadata": {
  "colab": {
   "provenance": []
  },
  "kernelspec": {
   "display_name": "qmcpy",
   "language": "python",
   "name": "python3"
  },
  "language_info": {
   "codemirror_mode": {
    "name": "ipython",
    "version": 3
   },
   "file_extension": ".py",
   "mimetype": "text/x-python",
   "name": "python",
   "nbconvert_exporter": "python",
   "pygments_lexer": "ipython3",
   "version": "3.9.13"
  }
 },
 "nbformat": 4,
 "nbformat_minor": 5
}
