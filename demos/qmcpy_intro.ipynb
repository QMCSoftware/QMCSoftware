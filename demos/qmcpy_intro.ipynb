{
 "cells": [
  {
   "cell_type": "markdown",
   "metadata": {},
   "source": [
    "# Welcome to QMCPy\n",
    "## Importing QMCPy"
   ]
  },
  {
   "cell_type": "markdown",
   "metadata": {},
   "source": [
    "[![Open In Colab](https://colab.research.google.com/assets/colab-badge.svg)](https://colab.research.google.com/github/QMCSoftware/QMCSoftware/blob/develop/demos/qmcpy_intro.ipynb)"
   ]
  },
  {
   "cell_type": "markdown",
   "metadata": {},
   "source": [
    "Here we show three different ways to import QMCPy in a Python environment. First, we can import the package `qmcpy` under the alias `qp`."
   ]
  },
  {
   "cell_type": "code",
   "execution_count": 1,
   "metadata": {},
   "outputs": [
    {
     "name": "stdout",
     "output_type": "stream",
     "text": [
      "qmcpy 1.3\n"
     ]
    }
   ],
   "source": [
    "import qmcpy as qp\n",
    "print(qp.name, qp.__version__)"
   ]
  },
  {
   "cell_type": "markdown",
   "metadata": {},
   "source": [
    "Alternatively, we can import individual objects from 'qmcpy' as shown below."
   ]
  },
  {
   "cell_type": "code",
   "execution_count": 2,
   "metadata": {},
   "outputs": [],
   "source": [
    "from qmcpy.integrand import *\n",
    "from qmcpy.true_measure import *\n",
    "from qmcpy.discrete_distribution import *\n",
    "from qmcpy.stopping_criterion import *"
   ]
  },
  {
   "cell_type": "markdown",
   "metadata": {},
   "source": [
    "Lastly, we can import all objects from the package using an asterisk."
   ]
  },
  {
   "cell_type": "code",
   "execution_count": 3,
   "metadata": {},
   "outputs": [],
   "source": [
    "from qmcpy import *"
   ]
  },
  {
   "cell_type": "markdown",
   "metadata": {},
   "source": [
    "## Important Notes\n",
    "\n",
    "### IID vs LDS\n",
    "Low discrepancy (LD) sequences such as lattice and Sobol' are not independent like IID (independent identically distributed) points.\n",
    "\n",
    "The code below generates 4 Sobol samples of 2 dimensions."
   ]
  },
  {
   "cell_type": "code",
   "execution_count": 4,
   "metadata": {},
   "outputs": [
    {
     "data": {
      "text/plain": [
       "array([[0.04386058, 0.58727432],\n",
       "       [0.54386058, 0.08727432],\n",
       "       [0.29386058, 0.33727432],\n",
       "       [0.79386058, 0.83727432]])"
      ]
     },
     "execution_count": 4,
     "metadata": {},
     "output_type": "execute_result"
    }
   ],
   "source": [
    "distribution = Lattice(dimension=2, randomize=True, seed=7)\n",
    "distribution.gen_samples(n_min=0,n_max=4)"
   ]
  },
  {
   "cell_type": "markdown",
   "metadata": {},
   "source": [
    "### Multi-Dimensional Inputs\n",
    "\n",
    "Suppose we want to create an integrand in QMCPy for evaluating the following integral: \n",
    "$$\\int_{[0,1]^d} \\|x\\|_2^{\\|x\\|_2^{1/2}} dx,$$ where $[0,1]^d$ the unit hypercube is in $\\mathbb{R}^d$.\n",
    "The integrand is defined everywhere except at $x=0$ and hence the definite integral is also defined.\n",
    "    \n",
    "    \n",
    "The key in defining a Python function of an integrand in the QMCPy framework is that not only  it should be able to take one point $x \\in \\mathbb{R}^d$ and return a real value, but also that it would be able to take a set of $n$ sampling points as rows in a Numpy array of size $n \\times d$ and return an array with $n$ values evaluated at each sampling point. The following examples illustrate this point."
   ]
  },
  {
   "cell_type": "code",
   "execution_count": 5,
   "metadata": {},
   "outputs": [],
   "source": [
    "from numpy.linalg import norm as norm\n",
    "from numpy import sqrt, array"
   ]
  },
  {
   "cell_type": "markdown",
   "metadata": {},
   "source": [
    "Our first attempt is to create the integrand as a Python function as follows:"
   ]
  },
  {
   "cell_type": "code",
   "execution_count": 6,
   "metadata": {},
   "outputs": [],
   "source": [
    "def f(x): return norm(x) ** sqrt(norm(x))"
   ]
  },
  {
   "cell_type": "markdown",
   "metadata": {},
   "source": [
    "It looks reasonable except that maybe the Numpy function norm is executed twice. It's okay for now. Let us quickly test if the function behaves as expected at a point value:\n",
    "\n"
   ]
  },
  {
   "cell_type": "code",
   "execution_count": 7,
   "metadata": {},
   "outputs": [
    {
     "data": {
      "text/plain": [
       "0.6309573444801932"
      ]
     },
     "execution_count": 7,
     "metadata": {},
     "output_type": "execute_result"
    }
   ],
   "source": [
    "x = 0.01\n",
    "f(x)"
   ]
  },
  {
   "cell_type": "markdown",
   "metadata": {},
   "source": [
    "What about an array that represents $n=3$ sampling points in a two-dimensional domain, i.e., $d=2$? "
   ]
  },
  {
   "cell_type": "code",
   "execution_count": 8,
   "metadata": {},
   "outputs": [
    {
     "data": {
      "text/plain": [
       "1.001650000560437"
      ]
     },
     "execution_count": 8,
     "metadata": {},
     "output_type": "execute_result"
    }
   ],
   "source": [
    "x = array([[1., 0.], \n",
    "           [0., 0.01],\n",
    "           [0.04, 0.04]])\n",
    "f(x)"
   ]
  },
  {
   "cell_type": "markdown",
   "metadata": {},
   "source": [
    "Now, the function should have returned $n=3$ real values that corresponds to each of the sampling points. Let's debug our Python function."
   ]
  },
  {
   "cell_type": "code",
   "execution_count": 9,
   "metadata": {},
   "outputs": [
    {
     "data": {
      "text/plain": [
       "1.0016486409914407"
      ]
     },
     "execution_count": 9,
     "metadata": {},
     "output_type": "execute_result"
    }
   ],
   "source": [
    "norm(x)"
   ]
  },
  {
   "cell_type": "markdown",
   "metadata": {},
   "source": [
    "Numpy's `norm(x)` is a matrix norm, but we want it to be vector 2-norm that acts on each row of `x`. To that end, let's add an axis argument to the function:"
   ]
  },
  {
   "cell_type": "code",
   "execution_count": 10,
   "metadata": {},
   "outputs": [
    {
     "data": {
      "text/plain": [
       "array([1.        , 0.01      , 0.05656854])"
      ]
     },
     "execution_count": 10,
     "metadata": {},
     "output_type": "execute_result"
    }
   ],
   "source": [
    "norm(x, axis = 1)"
   ]
  },
  {
   "cell_type": "markdown",
   "metadata": {},
   "source": [
    "Now it's working! Let's make sure that the `sqrt` function is acting on each element of the vector norm results:"
   ]
  },
  {
   "cell_type": "code",
   "execution_count": 11,
   "metadata": {},
   "outputs": [
    {
     "data": {
      "text/plain": [
       "array([1.        , 0.1       , 0.23784142])"
      ]
     },
     "execution_count": 11,
     "metadata": {},
     "output_type": "execute_result"
    }
   ],
   "source": [
    "sqrt(norm(x, axis = 1))"
   ]
  },
  {
   "cell_type": "markdown",
   "metadata": {},
   "source": [
    "It is. Putting everything together, we have:"
   ]
  },
  {
   "cell_type": "code",
   "execution_count": 12,
   "metadata": {},
   "outputs": [
    {
     "data": {
      "text/plain": [
       "array([1.        , 0.63095734, 0.50502242])"
      ]
     },
     "execution_count": 12,
     "metadata": {},
     "output_type": "execute_result"
    }
   ],
   "source": [
    "norm(x, axis = 1) ** sqrt(norm(x, axis = 1))"
   ]
  },
  {
   "cell_type": "markdown",
   "metadata": {},
   "source": [
    "We have got our proper function definition now."
   ]
  },
  {
   "cell_type": "code",
   "execution_count": 13,
   "metadata": {},
   "outputs": [],
   "source": [
    "def myfunc(x):\n",
    "    x_norms = norm(x, axis = 1)\n",
    "    return x_norms ** sqrt(x_norms)"
   ]
  },
  {
   "cell_type": "markdown",
   "metadata": {},
   "source": [
    "We can now create an `integrand` instance with our `QuickConstruct` class in QMCPy and then invoke QMCPy's `integrate` function:"
   ]
  },
  {
   "cell_type": "code",
   "execution_count": 14,
   "metadata": {},
   "outputs": [
    {
     "name": "stdout",
     "output_type": "stream",
     "text": [
      "MeanVarData (AccumulateData Object)\n",
      "    solution        0.659\n",
      "    error_bound     0.010\n",
      "    n_total         4400\n",
      "    n               3376\n",
      "    levels          1\n",
      "    time_integrate  0.001\n",
      "CubMCCLT (StoppingCriterion Object)\n",
      "    abs_tol         0.010\n",
      "    rel_tol         0\n",
      "    n_init          2^(10)\n",
      "    n_max           10000000000\n",
      "    inflate         1.200\n",
      "    alpha           0.010\n",
      "CustomFun (Integrand Object)\n",
      "Uniform (TrueMeasure Object)\n",
      "    lower_bound     0\n",
      "    upper_bound     1\n",
      "IIDStdUniform (DiscreteDistribution Object)\n",
      "    d               1\n",
      "    entropy         7\n",
      "    spawn_key       ()\n"
     ]
    }
   ],
   "source": [
    "dim = 1\n",
    "abs_tol = .01\n",
    "integrand = CustomFun(\n",
    "    true_measure = Uniform(IIDStdUniform(dimension=dim, seed=7)),\n",
    "    g=myfunc)\n",
    "solution,data = CubMCCLT(integrand,abs_tol=abs_tol,rel_tol=0).integrate()\n",
    "print(data)"
   ]
  },
  {
   "cell_type": "markdown",
   "metadata": {},
   "source": [
    "For our integral, we know the true value. Let's check if QMCPy's solution is accurate enough:"
   ]
  },
  {
   "cell_type": "code",
   "execution_count": 15,
   "metadata": {},
   "outputs": [],
   "source": [
    "true_sol = 0.658582  # In WolframAlpha: Integral[x**Sqrt[x], {x,0,1}]\n",
    "abs_tol = data.stopping_crit.abs_tol\n",
    "qmcpy_error = abs(true_sol - solution)\n",
    "if qmcpy_error > abs_tol: raise Exception(\"Error not within bounds\")"
   ]
  },
  {
   "cell_type": "markdown",
   "metadata": {},
   "source": [
    "It's good. Shall we test the function with $d=2$ by simply changing the input parameter value of dimension for QuickConstruct?"
   ]
  },
  {
   "cell_type": "code",
   "execution_count": 16,
   "metadata": {},
   "outputs": [
    {
     "name": "stdout",
     "output_type": "stream",
     "text": [
      "MeanVarData (AccumulateData Object)\n",
      "    solution        0.831\n",
      "    error_bound     0.010\n",
      "    n_total         6659\n",
      "    n               5635\n",
      "    levels          1\n",
      "    time_integrate  0.002\n",
      "CubMCCLT (StoppingCriterion Object)\n",
      "    abs_tol         0.010\n",
      "    rel_tol         0\n",
      "    n_init          2^(10)\n",
      "    n_max           10000000000\n",
      "    inflate         1.200\n",
      "    alpha           0.010\n",
      "CustomFun (Integrand Object)\n",
      "Uniform (TrueMeasure Object)\n",
      "    lower_bound     0\n",
      "    upper_bound     1\n",
      "IIDStdUniform (DiscreteDistribution Object)\n",
      "    d               2^(1)\n",
      "    entropy         7\n",
      "    spawn_key       ()\n"
     ]
    }
   ],
   "source": [
    "dim = 2\n",
    "integrand = CustomFun(\n",
    "    true_measure = Uniform(IIDStdUniform(dimension=dim, seed=7)),\n",
    "    g = myfunc)\n",
    "solution2,data2 = CubMCCLT(integrand,abs_tol=abs_tol,rel_tol=0).integrate()\n",
    "print(data2)"
   ]
  },
  {
   "cell_type": "markdown",
   "metadata": {},
   "source": [
    "Once again, we could test for the accuracy of QMCPy with respect to the true value:"
   ]
  },
  {
   "cell_type": "code",
   "execution_count": 17,
   "metadata": {},
   "outputs": [],
   "source": [
    "true_sol2 = 0.827606  # In WolframAlpha: Integral[Sqrt[x**2+y**2])**Sqrt[Sqrt[x**2+y**2]], {x,0,1}, {y,0,1}]\n",
    "abs_tol2 = data2.stopping_crit.abs_tol\n",
    "qmcpy_error2 = abs(true_sol2 - solution2)\n",
    "if qmcpy_error2 > abs_tol2: raise Exception(\"Error not within bounds\")"
   ]
  },
  {
   "cell_type": "code",
   "execution_count": null,
   "metadata": {},
   "outputs": [],
   "source": []
  }
 ],
 "metadata": {
  "kernelspec": {
   "display_name": "Python 3 (ipykernel)",
   "language": "python",
   "name": "python3"
  },
  "language_info": {
   "codemirror_mode": {
    "name": "ipython",
    "version": 3
   },
   "file_extension": ".py",
   "mimetype": "text/x-python",
   "name": "python",
   "nbconvert_exporter": "python",
   "pygments_lexer": "ipython3",
   "version": "3.9.13"
  }
 },
 "nbformat": 4,
 "nbformat_minor": 1
}
