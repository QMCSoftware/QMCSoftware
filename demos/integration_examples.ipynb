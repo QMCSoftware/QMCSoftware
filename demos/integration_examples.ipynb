{
 "cells": [
  {
   "cell_type": "markdown",
   "metadata": {},
   "source": [
    "# Integration Examples using QMCPy package"
   ]
  },
  {
   "cell_type": "markdown",
   "metadata": {},
   "source": [
    "[![Open In Colab](https://colab.research.google.com/assets/colab-badge.svg)](https://colab.research.google.com/github/QMCSoftware/QMCSoftware/blob/develop/demos/integration_examples.ipynb)"
   ]
  },
  {
   "cell_type": "markdown",
   "metadata": {},
   "source": [
    "In this demo, we show how to use `qmcpy` for performing numerical multiple integration of two built-in integrands, namely, the Keister function and the Asian call option payoff. To start, we import the `qmcpy` module and the function `arrange()` from `numpy` for generating evenly spaced discrete vectors in the examples."
   ]
  },
  {
   "cell_type": "code",
   "execution_count": 1,
   "metadata": {},
   "outputs": [],
   "source": [
    "from qmcpy import *\n",
    "from numpy import arange"
   ]
  },
  {
   "cell_type": "markdown",
   "metadata": {},
   "source": [
    "## Keister Example\n",
    "\n",
    "We recall briefly the mathematical definitions of the Keister function, the Gaussian measure, and the Sobol distribution:\n",
    "\n",
    "* Keister integrand: $y_j = \\pi^{d/2} \\cos(||x_j||_2)$\n",
    "    \n",
    "* Gaussian true measure: $\\mathcal{N}(0,\\frac{1}{2})$\n",
    "    \n",
    "* Sobol discrete distribution: $x_j \\overset{LD}{\\sim} \\mathcal{U}(0,1)$"
   ]
  },
  {
   "cell_type": "code",
   "execution_count": 2,
   "metadata": {},
   "outputs": [
    {
     "name": "stdout",
     "output_type": "stream",
     "text": [
      "LDTransformData (AccumulateData Object)\n",
      "    solution        2.170\n",
      "    comb_bound_low  2.159\n",
      "    comb_bound_high 2.181\n",
      "    comb_flags      1\n",
      "    n_total         2^(10)\n",
      "    n               2^(10)\n",
      "    time_integrate  0.002\n",
      "CubQMCSobolG (StoppingCriterion Object)\n",
      "    abs_tol         0.050\n",
      "    rel_tol         0\n",
      "    n_init          2^(10)\n",
      "    n_max           2^(35)\n",
      "Keister (Integrand Object)\n",
      "Gaussian (TrueMeasure Object)\n",
      "    mean            0\n",
      "    covariance      2^(-1)\n",
      "    decomp_type     PCA\n",
      "Sobol (DiscreteDistribution Object)\n",
      "    d               3\n",
      "    dvec            [0 1 2]\n",
      "    randomize       LMS_DS\n",
      "    graycode        0\n",
      "    entropy         7\n",
      "    spawn_key       ()\n"
     ]
    }
   ],
   "source": [
    "integrand = Keister(Sobol(dimension=3,seed=7))\n",
    "solution,data = CubQMCSobolG(integrand,abs_tol=.05).integrate()\n",
    "print(data)"
   ]
  },
  {
   "cell_type": "markdown",
   "metadata": {},
   "source": [
    "## Arithmetic-Mean Asian Put Option: Single Level \n",
    "\n",
    "In this example, we want to estimate the payoff of an European Asian put option that matures at time $T$. The key mathematical entities are defined as follows:\n",
    "\n",
    "* Stock price at time $t_j := jT/d$ for $j=1,\\dots,d$ is a function of its initial price $S(0)$, interest rate $r$, and volatility $\\sigma$: $S(t_j) = S(0)e^{\\left(r-\\frac{\\sigma^2}{2}\\right)t_j + \\sigma\\mathcal{B}(t_j)}$\n",
    "\n",
    "* Discounted put option payoff is defined as the difference of a fixed strike price $K$ and the arithmetic average of the underlying stock prices at $d$ discrete time intervals in $[0,T]$: $\\max \\left(K-\\frac{1}{d}\\sum_{j=1}^{d} S(t_j), 0 \\right) e^{-rT}$\n",
    "\n",
    "* Brownian motion true measure: $\\mathcal{B}(t_j) = \\mathcal{B}(t_{j-1}) + Z_j\\sqrt{t_j-t_{j-1}} \\;$ for $\\;Z_j \\sim \\mathcal{N}(0,1)$\n",
    "\n",
    "* Lattice discrete distribution: $\\:\\: x_j  \\overset{LD}{\\sim}    \\mathcal{U}(0,1)$"
   ]
  },
  {
   "cell_type": "code",
   "execution_count": 3,
   "metadata": {},
   "outputs": [
    {
     "name": "stdout",
     "output_type": "stream",
     "text": [
      "MeanVarData (AccumulateData Object)\n",
      "    solution        6.257\n",
      "    error_bound     0.025\n",
      "    n_total         889904\n",
      "    n               888880\n",
      "    levels          1\n",
      "    time_integrate  1.303\n",
      "CubMCCLT (StoppingCriterion Object)\n",
      "    abs_tol         0.025\n",
      "    rel_tol         0\n",
      "    n_init          2^(10)\n",
      "    n_max           10000000000\n",
      "    inflate         1.200\n",
      "    alpha           0.010\n",
      "AsianOption (Integrand Object)\n",
      "    volatility      2^(-1)\n",
      "    call_put        call\n",
      "    start_price     30\n",
      "    strike_price    25\n",
      "    interest_rate   0.010\n",
      "    mean_type       arithmetic\n",
      "    dim_frac        0\n",
      "BrownianMotion (TrueMeasure Object)\n",
      "    time_vec        [0.062 0.125 0.188 ... 0.875 0.938 1.   ]\n",
      "    drift           0\n",
      "    mean            [0. 0. 0. ... 0. 0. 0.]\n",
      "    covariance      [[0.062 0.062 0.062 ... 0.062 0.062 0.062]\n",
      "                    [0.062 0.125 0.125 ... 0.125 0.125 0.125]\n",
      "                    [0.062 0.125 0.188 ... 0.188 0.188 0.188]\n",
      "                    ...\n",
      "                    [0.062 0.125 0.188 ... 0.875 0.875 0.875]\n",
      "                    [0.062 0.125 0.188 ... 0.875 0.938 0.938]\n",
      "                    [0.062 0.125 0.188 ... 0.875 0.938 1.   ]]\n",
      "    decomp_type     PCA\n",
      "IIDStdUniform (DiscreteDistribution Object)\n",
      "    d               2^(4)\n",
      "    entropy         7\n",
      "    spawn_key       ()\n"
     ]
    }
   ],
   "source": [
    "integrand = AsianOption(\n",
    "    sampler = IIDStdUniform(dimension=16, seed=7),\n",
    "    volatility = 0.5,\n",
    "    start_price = 30,\n",
    "    strike_price = 25,\n",
    "    interest_rate = 0.01,\n",
    "    mean_type = 'arithmetic')\n",
    "solution,data = CubMCCLT(integrand, abs_tol=.025).integrate()\n",
    "print(data)"
   ]
  },
  {
   "cell_type": "markdown",
   "metadata": {},
   "source": [
    "## Arithmetic-Mean Asian Put Option: Multi-Level\n",
    "\n",
    "This example is similar to the last one except that we use a multi-level method for estimation of the option price.  The main idea can be summarized as follows:\n",
    "\n",
    "$Y_0 = 0$\n",
    "\n",
    "$Y_1 = \\text{ Asian option monitored at } t = [\\frac{1}{4}, \\frac{1}{2}, \\frac{3}{4}, 1]$\n",
    "\n",
    "$Y_2 = \\text{ Asian option monitored at } t= [\\frac{1}{16}, \\frac{1}{8}, ... , 1]$\n",
    "\n",
    "$Y_3 = \\text{ Asian option monitored at } t= [\\frac{1}{64}, \\frac{1}{32}, ... , 1]$\n",
    "\n",
    "$Z_1 = \\mathbb{E}[Y_1-Y_0] + \\mathbb{E}[Y_2-Y_1] + \\mathbb{E}[Y_3-Y_2] = \\mathbb{E}[Y_3]$"
   ]
  },
  {
   "cell_type": "code",
   "execution_count": 4,
   "metadata": {},
   "outputs": [
    {
     "name": "stdout",
     "output_type": "stream",
     "text": [
      "MeanVarData (AccumulateData Object)\n",
      "    solution        6.264\n",
      "    error_bound     0.025\n",
      "    n_total         1938085\n",
      "    n               [1875751.   31235.   28027.]\n",
      "    levels          3\n",
      "    time_integrate  0.879\n",
      "CubMCCLT (StoppingCriterion Object)\n",
      "    abs_tol         0.025\n",
      "    rel_tol         0\n",
      "    n_init          2^(10)\n",
      "    n_max           10000000000\n",
      "    inflate         1.200\n",
      "    alpha           0.010\n",
      "AsianOption (Integrand Object)\n",
      "    volatility      2^(-1)\n",
      "    call_put        call\n",
      "    start_price     30\n",
      "    strike_price    25\n",
      "    interest_rate   0.010\n",
      "    mean_type       arithmetic\n",
      "    multilevel_dims [ 4  8 16]\n",
      "BrownianMotion (TrueMeasure Object)\n",
      "    time_vec        1\n",
      "    drift           0\n",
      "    mean            0\n",
      "    covariance      1\n",
      "    decomp_type     PCA\n",
      "IIDStdUniform (DiscreteDistribution Object)\n",
      "    d               1\n",
      "    entropy         7\n",
      "    spawn_key       ()\n"
     ]
    }
   ],
   "source": [
    "integrand = AsianOption(\n",
    "        sampler = IIDStdUniform(seed=7),\n",
    "        volatility = 0.5,\n",
    "        start_price = 30,\n",
    "        strike_price = 25,\n",
    "        interest_rate = 0.01,\n",
    "        mean_type = 'arithmetic',\n",
    "        multilevel_dims = [4,8,16])\n",
    "solution,data = CubMCCLT(integrand, abs_tol=.025).integrate()\n",
    "print(data)"
   ]
  },
  {
   "cell_type": "markdown",
   "metadata": {},
   "source": [
    "## Keister Example using Bayesian Cubature\n",
    "\n",
    "This example repeats the Keister using cubBayesLatticeG and cubBayesNetG stopping criterion:\n",
    "\n",
    "* Keister integrand: $y_j = \\pi^{d/2} \\cos(||x_j||_2)$\n",
    "    \n",
    "* Gaussian true measure: $\\mathcal{N}(0,\\frac{1}{2})$\n",
    "    \n",
    "* Lattice discrete distribution: $x_j \\overset{LD}{\\sim} \\mathcal{U}(0,1)$"
   ]
  },
  {
   "cell_type": "code",
   "execution_count": 5,
   "metadata": {},
   "outputs": [
    {
     "name": "stdout",
     "output_type": "stream",
     "text": [
      "LDTransformBayesData (AccumulateData Object)\n",
      "    solution        2.168\n",
      "    comb_bound_low  2.167\n",
      "    comb_bound_high 2.169\n",
      "    comb_flags      1\n",
      "    n_total         2^(12)\n",
      "    n               2^(12)\n",
      "    time_integrate  0.044\n",
      "CubBayesLatticeG (StoppingCriterion Object)\n",
      "    abs_tol         0.001\n",
      "    rel_tol         0\n",
      "    n_init          2^(8)\n",
      "    n_max           2^(22)\n",
      "    order           2^(1)\n",
      "Keister (Integrand Object)\n",
      "Gaussian (TrueMeasure Object)\n",
      "    mean            0\n",
      "    covariance      2^(-1)\n",
      "    decomp_type     PCA\n",
      "Lattice (DiscreteDistribution Object)\n",
      "    d               3\n",
      "    dvec            [0 1 2]\n",
      "    randomize       1\n",
      "    order           linear\n",
      "    entropy         3753329144840891771259587860963110322\n",
      "    spawn_key       ()\n"
     ]
    }
   ],
   "source": [
    "dimension=3\n",
    "abs_tol=.001\n",
    "integrand = Keister(Lattice(dimension=dimension, order='linear'))\n",
    "solution,data = CubBayesLatticeG(integrand,abs_tol=abs_tol).integrate()\n",
    "print(data)"
   ]
  },
  {
   "cell_type": "code",
   "execution_count": 6,
   "metadata": {},
   "outputs": [
    {
     "name": "stdout",
     "output_type": "stream",
     "text": [
      "LDTransformBayesData (AccumulateData Object)\n",
      "    solution        2.168\n",
      "    comb_bound_low  2.167\n",
      "    comb_bound_high 2.169\n",
      "    comb_flags      1\n",
      "    n_total         2^(13)\n",
      "    n               2^(13)\n",
      "    time_integrate  0.051\n",
      "CubBayesNetG (StoppingCriterion Object)\n",
      "    abs_tol         0.001\n",
      "    rel_tol         0\n",
      "    n_init          2^(8)\n",
      "    n_max           2^(22)\n",
      "Keister (Integrand Object)\n",
      "Gaussian (TrueMeasure Object)\n",
      "    mean            0\n",
      "    covariance      2^(-1)\n",
      "    decomp_type     PCA\n",
      "Sobol (DiscreteDistribution Object)\n",
      "    d               3\n",
      "    dvec            [0 1 2]\n",
      "    randomize       LMS_DS\n",
      "    graycode        0\n",
      "    entropy         221722953892730177222557457450863582068\n",
      "    spawn_key       ()\n"
     ]
    }
   ],
   "source": [
    "dimension=3\n",
    "abs_tol=.001\n",
    "integrand = Keister(Sobol(dimension=dimension, graycode=False))\n",
    "solution,data = CubBayesNetG(integrand,abs_tol=abs_tol).integrate()\n",
    "print(data)"
   ]
  },
  {
   "cell_type": "code",
   "execution_count": null,
   "metadata": {},
   "outputs": [],
   "source": []
  }
 ],
 "metadata": {
  "kernelspec": {
   "display_name": "Python 3 (ipykernel)",
   "language": "python",
   "name": "python3"
  },
  "language_info": {
   "codemirror_mode": {
    "name": "ipython",
    "version": 3
   },
   "file_extension": ".py",
   "mimetype": "text/x-python",
   "name": "python",
   "nbconvert_exporter": "python",
   "pygments_lexer": "ipython3",
   "version": "3.9.13"
  }
 },
 "nbformat": 4,
 "nbformat_minor": 1
}
