{
 "cells": [
  {
   "cell_type": "markdown",
   "metadata": {},
   "source": [
    "# Integration Examples using QMCPy package"
   ]
  },
  {
   "cell_type": "markdown",
   "metadata": {},
   "source": [
    "In this demo, we show how to use `qmcpy` for performing numerical multiple integration of two built-in integrands, namely, the Keister function and the Asian put option payoff. To start, we import the `qmcpy` module and the function `arrange()` from `numpy` for generating evenly spaced discrete vectors in the examples."
   ]
  },
  {
   "cell_type": "code",
   "execution_count": 1,
   "metadata": {},
   "outputs": [],
   "source": [
    "from qmcpy import *\n",
    "from numpy import arange"
   ]
  },
  {
   "cell_type": "markdown",
   "metadata": {},
   "source": [
    "## Keister Example\n",
    "\n",
    "We recall briefly the mathematical definitions of the Keister function, the Gaussian measure, and the Sobol distribution:\n",
    "\n",
    "* Keister integrand: $y_j = \\pi^{d/2} \\cos(||x_j||_2)$\n",
    "    \n",
    "* Gaussian true measure: $\\mathcal{N}(0,\\frac{1}{2})$\n",
    "    \n",
    "* Sobol discrete distribution: $x_j \\overset{lds}{\\sim} \\mathcal{U}(0,1)$"
   ]
  },
  {
   "cell_type": "markdown",
   "metadata": {},
   "source": [
    "The following code snippet integrates a three-dimensional Keister function numerically by creating instances of `qmcpy`'s built-in classes, `Keister`, `Gaussian`, `Sobol` and `CLTRep`, as inputs to the function `integrate()`. "
   ]
  },
  {
   "cell_type": "code",
   "execution_count": 2,
   "metadata": {},
   "outputs": [
    {
     "name": "stdout",
     "output_type": "stream",
     "text": [
      "Solution: 2.1677         \n",
      "Keister (Integrand Object)\n",
      "Sobol (DiscreteDistribution Object)\n",
      "\tdimension       3\n",
      "\tscramble        1\n",
      "\tseed            1092\n",
      "\tbackend         qrng\n",
      "\tmimics          StdUniform\n",
      "Gaussian (TrueMeasure Object)\n",
      "\tdistrib_name    Sobol\n",
      "\tmean            0\n",
      "\tcovariance      0.5000\n",
      "CLTRep (StoppingCriterion Object)\n",
      "\tinflate         1.2000\n",
      "\talpha           0.0100\n",
      "\tabs_tol         0.0500\n",
      "\trel_tol         0\n",
      "\tn_init          256\n",
      "\tn_max           1073741824\n",
      "MeanVarDataRep (AccumulateData Object)\n",
      "\treplications    16\n",
      "\tsolution        2.1677\n",
      "\tsighat          0.0090\n",
      "\tn_total         4096\n",
      "\tconfid_int      [ 2.161  2.175]\n",
      "\ttime_integrate  0.0093\n",
      "\n"
     ]
    }
   ],
   "source": [
    "dim = 3\n",
    "distribution = Sobol(dimension=dim, scramble=True, seed=7, backend='QRNG')\n",
    "measure = Gaussian(distribution, covariance=1/2)\n",
    "integrand = Keister(measure)\n",
    "solution,data = CLTRep(integrand,abs_tol=.05).integrate()\n",
    "print(data)"
   ]
  },
  {
   "cell_type": "markdown",
   "metadata": {},
   "source": [
    "## Arithmetic-Mean Asian Put Option: Single Level \n",
    "\n",
    "In this example, we want to estimate the payoff of an European Asian put option that matures at time $T$. The key mathematical entities are defined as follows:\n",
    "\n",
    "* Stock price at time $t_j := jT/d$ for $j=1,\\dots,d$ is a function of its initial price $S(0)$, interest rate $r$, and volatility $\\sigma$: $S(t_j) = S(0)e^{\\left(r-\\frac{\\sigma^2}{2}\\right)t_j + \\sigma\\mathcal{B}(t_j)}$\n",
    "\n",
    "* Discounted put option payoff is defined as the difference of a fixed strike price $K$ and the arithmetic average of the underlying stock prices at $d$ discrete time intervals in $[0,T]$: $max \\left(K-\\frac{1}{d}\\sum_{j=1}^{d} S(t_j), 0 \\right) e^{-rT}$\n",
    "\n",
    "* Brownian motion true measure: $\\mathcal{B}(t_j) = B(t_{j-1}) + Z_j\\sqrt{t_j-t_{j-1}} \\;$ for $\\;Z_j \\sim \\mathcal{N}(0,1)$\n",
    "\n",
    "* Lattice discrete distribution: $\\:\\: x_j  \\overset{lds}{\\sim}    \\mathcal{U}(0,1)$"
   ]
  },
  {
   "cell_type": "code",
   "execution_count": 3,
   "metadata": {},
   "outputs": [
    {
     "name": "stdout",
     "output_type": "stream",
     "text": [
      "Solution: 6.2549         \n",
      "AsianCall (Integrand Object)\n",
      "\tvolatility      0.5000\n",
      "\tstart_price     30\n",
      "\tstrike_price    25\n",
      "\tinterest_rate   0.0100\n",
      "\tmean_type       arithmetic\n",
      "\tdimensions      64\n",
      "\tdim_fracs       0\n",
      "Lattice (DiscreteDistribution Object)\n",
      "\tdimension       64\n",
      "\tscramble        1\n",
      "\tseed            1092\n",
      "\tbackend         gail\n",
      "\tmimics          StdUniform\n",
      "BrownianMotion (TrueMeasure Object)\n",
      "\tdistrib_name    Lattice\n",
      "\ttime_vector     [ 0.016  0.031  0.047 ...  0.969  0.984  1.000]\n",
      "\tmean_shift_is   0\n",
      "CLTRep (StoppingCriterion Object)\n",
      "\tinflate         1.2000\n",
      "\talpha           0.0100\n",
      "\tabs_tol         0.0500\n",
      "\trel_tol         0\n",
      "\tn_init          256\n",
      "\tn_max           1073741824\n",
      "MeanVarDataRep (AccumulateData Object)\n",
      "\treplications    16\n",
      "\tsolution        6.2549\n",
      "\tsighat          0.0416\n",
      "\tn_total         16384\n",
      "\tconfid_int      [ 6.223  6.287]\n",
      "\ttime_integrate  0.1752\n",
      "\n"
     ]
    }
   ],
   "source": [
    "distribution = Lattice(dimension=64, scramble=True, seed=7, backend='GAIL')\n",
    "measure = BrownianMotion(distribution)\n",
    "integrand = AsianCall(\n",
    "    measure = measure,\n",
    "    volatility = 0.5,\n",
    "    start_price = 30,\n",
    "    strike_price = 25,\n",
    "    interest_rate = 0.01,\n",
    "    mean_type = 'arithmetic')\n",
    "solution,data = CLTRep(integrand, abs_tol=.05).integrate()\n",
    "print(data)"
   ]
  },
  {
   "cell_type": "markdown",
   "metadata": {},
   "source": [
    "## Arithmetic-Mean Asian Put Option: Multi-Level\n",
    "\n",
    "This example is similar to the last one except that we use Gile's multi-level method for estimation of the option price.  The main idea can be summarized as follows:\n",
    "\n",
    "$Y_0 = 0$\n",
    "\n",
    "$Y_1 = \\text{ Asian option monitored at } t = [\\frac{1}{4}, \\frac{1}{2}, \\frac{3}{4}, 1]$\n",
    "\n",
    "$Y_2 = \\text{ Asian option monitored at } t= [\\frac{1}{16}, \\frac{1}{8}, ... , 1]$\n",
    "\n",
    "$Y_3 = \\text{ Asian option monitored at } t= [\\frac{1}{64}, \\frac{1}{32}, ... , 1]$\n",
    "\n",
    "$Z_1 = \\mathbb{E}[Y_1-Y_0] + \\mathbb{E}[Y_2-Y_1] + \\mathbb{E}[Y_3-Y_2] = \\mathbb{E}[Y_3]$"
   ]
  },
  {
   "cell_type": "markdown",
   "metadata": {},
   "source": [
    "The total run time for this example is about one-third of that for the last example."
   ]
  },
  {
   "cell_type": "code",
   "execution_count": 4,
   "metadata": {},
   "outputs": [
    {
     "name": "stdout",
     "output_type": "stream",
     "text": [
      "Solution: 6.2494         \n",
      "AsianCall (Integrand Object)\n",
      "\tvolatility      0.5000\n",
      "\tstart_price     30\n",
      "\tstrike_price    25\n",
      "\tinterest_rate   0.0100\n",
      "\tmean_type       arithmetic\n",
      "\tdimensions      [ 4 16 64]\n",
      "\tdim_fracs       [ 0.000  4.000  4.000]\n",
      "IIDStdGaussian (DiscreteDistribution Object)\n",
      "\tdimension       64\n",
      "\tseed            7\n",
      "\tmimics          StdGaussian\n",
      "BrownianMotion (TrueMeasure Object)\n",
      "\tdistrib_name    IIDStdGaussian\n",
      "\ttime_vector     [ 0.016  0.031  0.047 ...  0.969  0.984  1.000]\n",
      "\tmean_shift_is   0\n",
      "CLT (StoppingCriterion Object)\n",
      "\tinflate         1.2000\n",
      "\talpha           0.0100\n",
      "\tabs_tol         0.0500\n",
      "\trel_tol         0\n",
      "\tn_init          1024\n",
      "\tn_max           10000000000\n",
      "MeanVarData (AccumulateData Object)\n",
      "\tlevels          3\n",
      "\tsolution        6.2494\n",
      "\tn               [330782  25499   3177]\n",
      "\tn_total         362530\n",
      "\tconfid_int      [ 6.200  6.298]\n",
      "\ttime_integrate  0.1456\n",
      "\n"
     ]
    }
   ],
   "source": [
    "distribution = IIDStdGaussian(seed=7)\n",
    "measure = BrownianMotion(distribution)\n",
    "integrand = AsianCall(measure,\n",
    "        volatility = 0.5,\n",
    "        start_price = 30,\n",
    "        strike_price = 25,\n",
    "        interest_rate = 0.01,\n",
    "        mean_type = 'arithmetic',\n",
    "        multi_level_dimensions = [4,16,64])\n",
    "solution,data = CLT(integrand, abs_tol=.05).integrate()\n",
    "print(data)"
   ]
  },
  {
   "cell_type": "code",
   "execution_count": null,
   "metadata": {},
   "outputs": [],
   "source": []
  }
 ],
 "metadata": {
  "kernelspec": {
   "display_name": "Python 3.6.9 64-bit ('qmcpy': virtualenv)",
   "language": "python",
   "name": "python36964bitqmcpyvirtualenva83e6d2f1717432999066fecf731c68c"
  },
  "language_info": {
   "codemirror_mode": {
    "name": "ipython",
    "version": 3
   },
   "file_extension": ".py",
   "mimetype": "text/x-python",
   "name": "python",
   "nbconvert_exporter": "python",
   "pygments_lexer": "ipython3",
   "version": "3.6.9"
  }
 },
 "nbformat": 4,
 "nbformat_minor": 1
}
