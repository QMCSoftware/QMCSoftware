{
 "cells": [
  {
   "cell_type": "code",
   "execution_count": 1,
   "id": "b798005a",
   "metadata": {},
   "outputs": [],
   "source": [
    "from qmcpy import *\n",
    "import numpy as np\n",
    "import pandas as pd\n",
    "import math as math\n",
    "pd.options.display.float_format = '{:.2e}'.format\n",
    "from matplotlib import pyplot as plt\n",
    "import matplotlib\n",
    "%matplotlib inline\n",
    "from scipy.stats import norm\n",
    "from qmcpy.discrete_distribution._discrete_distribution import LD\n",
    "from qmcpy.accumulate_data import MLQMCData\n",
    "from qmcpy.integrand import  MLCallOptions\n",
    "import time as t\n",
    "from qmcpy.integrand import Integrand\n",
    "from qmcpy.discrete_distribution import DigitalNetB2\n",
    "from qmcpy.true_measure import Gaussian\n",
    "from qmcpy.util import ParameterError, MaxSamplesWarning, ParameterError, MaxLevelsWarning\n",
    "import warnings\n",
    "import array\n",
    "from numpy.linalg import lstsq\n",
    "from qmcpy.accumulate_data import AccumulateData"
   ]
  },
  {
   "cell_type": "code",
   "execution_count": 3,
   "id": "d18471fd",
   "metadata": {},
   "outputs": [
    {
     "data": {
      "text/plain": [
       "1.7788556123958916"
      ]
     },
     "execution_count": 3,
     "metadata": {},
     "output_type": "execute_result"
    }
   ],
   "source": [
    "level_dims = [2,4,8]\n",
    "ac2_multilevel = AsianOption(DigitalNetB2(seed=7),multilevel_dims=level_dims)\n",
    "levels_to_spawn = np.arange(ac2_multilevel.max_level+1)\n",
    "ac2_single_levels = ac2_multilevel.spawn(levels_to_spawn)\n",
    "yml = 0\n",
    "for ac2_single_level in ac2_single_levels:\n",
    "    x = ac2_single_level.discrete_distrib.gen_samples(2**12)\n",
    "    level_est = ac2_single_level.f(x).mean()\n",
    "    yml += level_est\n",
    "yml"
   ]
  },
  {
   "cell_type": "code",
   "execution_count": null,
   "id": "84c359e3",
   "metadata": {},
   "outputs": [],
   "source": [
    "class FMLAsianOption(Integrand):\n",
    "\n",
    "    def __init__(self, sampler, volatility=.2, option='asian', start_price=100.,\n",
    "        strike_price=100., interest_rate=.05, t_final=1., _level=0, \n",
    "                 call_put='call', mean_type='arithmetic', multilevel_dims=[4,16,64]):\n",
    "        \n",
    "        self.ac2_multilevel = AsianOption(sampler, multilevel_dims=multilevel_dims, volatility=volatility, option=option, start_price=start_price,\n",
    "        strike_price=strike_price, interest_rate=interest_rate, t_final=t_final, _level=_level, \n",
    "                 call_put=call_put, mean_type=mean_type)\n",
    "        \n",
    "        super(FMLAsianOption,self).__init__(dimension_indv=len(multilevel_dims),dimension_comb=1,parallel=False)\n",
    "    \n",
    "    def g(self, t, *args):\n",
    "        y=np.zeros((len(t), self.t_indv))\n",
    "        for k in range (self.d_indv):\n",
    "            d=self.ac2_multilevel[k].true_measure.d\n",
    "            y[:,k]=self.ac2_multilevel[k].g(t[:,])\n",
    "            \n",
    "            "
   ]
  }
 ],
 "metadata": {
  "kernelspec": {
   "display_name": "Python 3 (ipykernel)",
   "language": "python",
   "name": "python3"
  },
  "language_info": {
   "codemirror_mode": {
    "name": "ipython",
    "version": 3
   },
   "file_extension": ".py",
   "mimetype": "text/x-python",
   "name": "python",
   "nbconvert_exporter": "python",
   "pygments_lexer": "ipython3",
   "version": "3.11.3"
  }
 },
 "nbformat": 4,
 "nbformat_minor": 5
}
