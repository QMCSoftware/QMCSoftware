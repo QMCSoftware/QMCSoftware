{
  "cells": [
    {
      "cell_type": "markdown",
      "id": "ce064a42",
      "metadata": {
        "id": "ce064a42"
      },
      "source": [
        "# Vectorized QMC"
      ]
    },
    {
      "cell_type": "markdown",
      "id": "6df4c2a4-92ec-437e-80a1-28a82ea6544b",
      "metadata": {
        "id": "6df4c2a4-92ec-437e-80a1-28a82ea6544b"
      },
      "source": [
        "[![Open In Colab](https://colab.research.google.com/assets/colab-badge.svg)](https://colab.research.google.com/github/QMCSoftware/QMCSoftware/blob/develop/demos/vectorized_qmc.ipynb)"
      ]
    },
    {
      "cell_type": "code",
      "execution_count": 1,
      "id": "P32_5cVWUmzj",
      "metadata": {
        "id": "P32_5cVWUmzj"
      },
      "outputs": [],
      "source": [
        "%%capture\n",
        "# @title Execute this cell to install dependancies\n",
        "try:\n",
        "  import google.colab\n",
        "  import os\n",
        "  !pip install -q qmcpy >> /dev/null\n",
        "  !apt-get update && apt-get install -y --no-install-recommends texlive-latex-base texlive-fonts-recommended texlive-latex-extra cm-super dvipng\n",
        "except:\n",
        "  pass\n",
        "\n",
        "import matplotlib.pyplot as plt\n",
        "\n",
        "plt.rcParams.update({\n",
        "\"text.usetex\": True,\n",
        "\"font.family\": \"serif\",\n",
        "\"text.latex.preamble\": r\"\\usepackage{amsmath}\\usepackage{amssymb}\\newcommand{\\bx}{\\boldsymbol{x}}\"\n",
        "})\n",
        "!pip install scikit-learn"
      ]
    },
    {
      "cell_type": "code",
      "execution_count": 2,
      "id": "484d4c41",
      "metadata": {
        "id": "484d4c41"
      },
      "outputs": [],
      "source": [
        "import qmcpy as qp\n",
        "import numpy as np"
      ]
    },
    {
      "cell_type": "code",
      "execution_count": 3,
      "id": "9bf10463",
      "metadata": {
        "id": "9bf10463"
      },
      "outputs": [],
      "source": [
        "from matplotlib import pyplot\n",
        "%matplotlib inline\n",
        "root = '.'"
      ]
    },
    {
      "cell_type": "markdown",
      "id": "728a1c89",
      "metadata": {
        "id": "728a1c89"
      },
      "source": [
        "## LD Sequence"
      ]
    },
    {
      "cell_type": "code",
      "execution_count": 4,
      "id": "fabaf64c",
      "metadata": {
        "colab": {
          "base_uri": "https://localhost:8080/",
          "height": 282
        },
        "id": "fabaf64c",
        "outputId": "7e9be5a7-30ff-450c-9ac8-026e191931e7"
      },
      "outputs": [
        {
          "output_type": "display_data",
          "data": {
            "text/plain": [
              "<Figure size 800x400 with 3 Axes>"
            ],
            "image/png": "[encoded data removed]"
          },
          "metadata": {}
        }
      ],
      "source": [
        "n = 2**6\n",
        "s = 10\n",
        "fig,ax = pyplot.subplots(figsize=(8,4),nrows=1,ncols=3)\n",
        "for i,(dd,name) in enumerate(zip(\n",
        "    [qp.IIDStdUniform(2,seed=7),qp.DigitalNetB2(2,seed=7),qp.Lattice(2,seed=7)],\n",
        "    ['IID','Randomized Digital Net (LD)','Randomized Lattice (LD)'])):\n",
        "    pts = dd.gen_samples(n)\n",
        "    ax[i].scatter(pts[0:n//4,0],pts[0:n//4,1],color='k',marker='s',s=s)\n",
        "    ax[i].scatter(pts[n//4:n//2,0],pts[n//4:n//2,1],color='k',marker='o',s=s)\n",
        "    ax[i].scatter(pts[n//2:n,0],pts[n//2:n,1],color='k',marker='^',s=s)\n",
        "    ax[i].set_aspect(1)\n",
        "    ax[i].set_xlabel(r'$x_{1}$')\n",
        "    ax[i].set_ylabel(r'$x_{2}$')\n",
        "    ax[i].set_xlim([0,1])\n",
        "    ax[i].set_ylim([0,1])\n",
        "    ax[i].set_xticks([0,.25,.5,.75,1])\n",
        "    ax[i].set_xticklabels([r'$0$',r'$1/4$',r'$1/2$',r'$3/4$',r'$1$'])\n",
        "    ax[i].set_yticks([0,.25,.5,.75,1])\n",
        "    ax[i].set_yticklabels([r'$0$',r'$1/4$',r'$1/2$',r'$3/4$',r'$1$'])\n",
        "    ax[i].set_title(name)\n",
        "if root: fig.savefig(root+'ld_seqs.pdf',transparent=True)"
      ]
    },
    {
      "cell_type": "markdown",
      "id": "1aa7b935",
      "metadata": {
        "id": "1aa7b935"
      },
      "source": [
        "## Simple Example"
      ]
    },
    {
      "cell_type": "code",
      "execution_count": 5,
      "id": "df5b8a1b",
      "metadata": {
        "colab": {
          "base_uri": "https://localhost:8080/"
        },
        "id": "df5b8a1b",
        "outputId": "d3c9d8f7-777b-4058-f62d-2c6bbf4f196f"
      },
      "outputs": [
        {
          "output_type": "stream",
          "name": "stdout",
          "text": [
            "[2.42575885e+00 3.74999973e+04]\n"
          ]
        }
      ],
      "source": [
        "def cantilever_beam_function(T,compute_flags): # T is (n x 3)\n",
        "    Y = np.zeros((len(T),2),dtype=float) # (n x 2)\n",
        "    l,w,t = 100,4,2\n",
        "    T1,T2,T3 = T[:,0],T[:,1],T[:,2] # Python is indexed from 0\n",
        "    if compute_flags[0]: # compute D. x^2 is \"x**2\" in Python\n",
        "        Y[:,0] = 4*l**3/(T1*w*t)*np.sqrt(T2**2/t**4+T3**2/w**4)\n",
        "    if compute_flags[1]: # compute S\n",
        "        Y[:,1] = 600*(T2/(w*t**2)+T3/(w**2*t))\n",
        "    return Y\n",
        "true_measure = qp.Gaussian(\n",
        "    sampler = qp.DigitalNetB2(dimension=3,seed=7),\n",
        "    mean = [2.9e7,500,1000],\n",
        "    covariance = np.diag([(1.45e6)**2,(100)**2,(100)**2]))\n",
        "integrand = qp.CustomFun(true_measure,\n",
        "    g = cantilever_beam_function,\n",
        "    dimension_indv = 2)\n",
        "qmc_stop_crit = qp.CubQMCNetG(integrand,\n",
        "    abs_tol = 1e-3,\n",
        "    rel_tol = 1e-6)\n",
        "solution,data = qmc_stop_crit.integrate()\n",
        "print(solution)\n",
        "# [2.42575885e+00 3.74999973e+04]"
      ]
    },
    {
      "cell_type": "markdown",
      "id": "4573dad8",
      "metadata": {
        "id": "4573dad8"
      },
      "source": [
        "## BO QEI\n",
        "\n",
        "See the [QEI Demo in QMCPy](https://qmcpy.readthedocs.io/en/latest/demo_rst/qei-demo-for-blog.html) or the [BoTorch Acquisition documentation](https://botorch.org/docs/acquisition) for details on Bayesian Optimization using q-Expected Improvement."
      ]
    },
    {
      "cell_type": "code",
      "execution_count": 6,
      "id": "4a88842d",
      "metadata": {
        "colab": {
          "base_uri": "https://localhost:8080/"
        },
        "id": "4a88842d",
        "outputId": "459b6cb4-8359-4f7d-ec7b-a342675a32b4"
      },
      "outputs": [
        {
          "output_type": "stream",
          "name": "stdout",
          "text": [
            "LDTransformData (AccumulateData Object)\n",
            "    solution        [[0.06  0.079 0.072 ... 0.06  0.06  0.067]\n",
            "                    [0.079 0.064 0.067 ... 0.064 0.065 0.071]\n",
            "                    [0.072 0.067 0.032 ... 0.032 0.033 0.039]\n",
            "                    ...\n",
            "                    [0.06  0.064 0.032 ... 0.    0.001 0.007]\n",
            "                    [0.06  0.065 0.033 ... 0.    0.001 0.007]\n",
            "                    [0.066 0.07  0.039 ... 0.007 0.007 0.007]]\n",
            "    comb_bound_low  [[0.059 0.078 0.071 ... 0.058 0.059 0.065]\n",
            "                    [0.078 0.063 0.066 ... 0.063 0.064 0.07 ]\n",
            "                    [0.071 0.066 0.032 ... 0.032 0.032 0.038]\n",
            "                    ...\n",
            "                    [0.059 0.063 0.032 ... 0.    0.001 0.006]\n",
            "                    [0.059 0.064 0.032 ... 0.    0.    0.006]\n",
            "                    [0.065 0.069 0.038 ... 0.006 0.006 0.006]]\n",
            "    comb_bound_high [[0.061 0.08  0.073 ... 0.061 0.061 0.068]\n",
            "                    [0.08  0.065 0.068 ... 0.065 0.066 0.072]\n",
            "                    [0.073 0.068 0.033 ... 0.033 0.033 0.04 ]\n",
            "                    ...\n",
            "                    [0.061 0.065 0.033 ... 0.    0.001 0.008]\n",
            "                    [0.061 0.065 0.033 ... 0.001 0.001 0.008]\n",
            "                    [0.067 0.072 0.04  ... 0.008 0.008 0.008]]\n",
            "    comb_flags      [[ True  True  True ...  True  True  True]\n",
            "                    [ True  True  True ...  True  True  True]\n",
            "                    [ True  True  True ...  True  True  True]\n",
            "                    ...\n",
            "                    [ True  True  True ...  True  True  True]\n",
            "                    [ True  True  True ...  True  True  True]\n",
            "                    [ True  True  True ...  True  True  True]]\n",
            "    n_total         2^(10)\n",
            "    n               [[1024. 1024. 1024. ... 1024. 1024. 1024.]\n",
            "                    [1024. 1024. 1024. ... 1024. 1024. 1024.]\n",
            "                    [1024. 1024. 1024. ... 1024. 1024. 1024.]\n",
            "                    ...\n",
            "                    [1024. 1024. 1024. ... 1024. 1024. 1024.]\n",
            "                    [1024. 1024. 1024. ... 1024. 1024. 1024.]\n",
            "                    [1024. 1024. 1024. ... 1024. 1024. 1024.]]\n",
            "    time_integrate  20.806\n",
            "CubQMCNetG (StoppingCriterion Object)\n",
            "    abs_tol         0.025\n",
            "    rel_tol         0\n",
            "    n_init          2^(10)\n",
            "    n_max           2^(35)\n",
            "CustomFun (Integrand Object)\n",
            "Uniform (TrueMeasure Object)\n",
            "    lower_bound     0\n",
            "    upper_bound     1\n",
            "DigitalNetB2 (DiscreteDistribution Object)\n",
            "    d               2^(1)\n",
            "    dvec            [0 1]\n",
            "    randomize       LMS_DS\n",
            "    graycode        0\n",
            "    entropy         7\n",
            "    spawn_key       ()\n"
          ]
        }
      ],
      "source": [
        "import scipy\n",
        "from sklearn.gaussian_process import GaussianProcessRegressor,kernels\n",
        "\n",
        "f = lambda x: np.cos(10*x)*np.exp(.2*x)+np.exp(-5*(x-.4)**2)\n",
        "xplt = np.linspace(0,1,100)\n",
        "yplt = f(xplt)\n",
        "x = np.array([.1, .2, .4, .7, .9])\n",
        "y = f(x)\n",
        "ymax = y.max()\n",
        "\n",
        "gp = GaussianProcessRegressor(kernel=kernels.RBF(length_scale=1.0,length_scale_bounds=(1e-2, 1e2)),\n",
        "    n_restarts_optimizer = 16).fit(x[:,None],y)\n",
        "yhatplt,stdhatplt = gp.predict(xplt[:,None],return_std=True)\n",
        "\n",
        "tpax = 32\n",
        "x0mesh,x1mesh = np.meshgrid(np.linspace(0,1,tpax),np.linspace(0,1,tpax))\n",
        "post_mus = np.zeros((tpax,tpax,2),dtype=float)\n",
        "post_sqrtcovs = np.zeros((tpax,tpax,2,2),dtype=float)\n",
        "for j0 in range(tpax):\n",
        "    for j1 in range(tpax):\n",
        "        candidate = np.array([[x0mesh[j0,j1]],[x1mesh[j0,j1]]])\n",
        "        post_mus[j0,j1],post_cov = gp.predict(candidate,return_cov=True)\n",
        "        evals,evecs = scipy.linalg.eig(post_cov)\n",
        "        post_sqrtcovs[j0,j1] = np.sqrt(np.maximum(evals.real,0))*evecs\n",
        "\n",
        "def qei_acq_vec(x,compute_flags):\n",
        "    xgauss = scipy.stats.norm.ppf(x)\n",
        "    n = len(x)\n",
        "    qei_vals = np.zeros((n,tpax,tpax),dtype=float)\n",
        "    for j0 in range(tpax):\n",
        "        for j1 in range(tpax):\n",
        "            if compute_flags[j0,j1]==False: continue\n",
        "            sqrt_cov = post_sqrtcovs[j0,j1]\n",
        "            mu_post = post_mus[j0,j1]\n",
        "            for i in range(len(x)):\n",
        "                yij = sqrt_cov@xgauss[i]+mu_post\n",
        "                qei_vals[i,j0,j1] = max((yij-ymax).max(),0)\n",
        "    return qei_vals\n",
        "\n",
        "qei_acq_vec_qmcpy = qp.CustomFun(\n",
        "    true_measure = qp.Uniform(qp.DigitalNetB2(2,seed=7)),\n",
        "    g = qei_acq_vec,\n",
        "    dimension_indv = (tpax,tpax),\n",
        "    parallel=False)\n",
        "qei_vals,qei_data = qp.CubQMCNetG(qei_acq_vec_qmcpy,abs_tol=.025,rel_tol=0).integrate() # .0005\n",
        "print(qei_data)\n",
        "\n",
        "a = np.unravel_index(np.argmax(qei_vals,axis=None),qei_vals.shape)\n",
        "xnext = np.array([x0mesh[a[0],a[1]],x1mesh[a[0],a[1]]])\n",
        "fnext = f(xnext)"
      ]
    },
    {
      "cell_type": "code",
      "execution_count": 7,
      "id": "a5938bf4",
      "metadata": {
        "colab": {
          "base_uri": "https://localhost:8080/",
          "height": 338
        },
        "id": "a5938bf4",
        "outputId": "8c6b732e-0bdd-4b84-f0fa-588ca01e68c4"
      },
      "outputs": [
        {
          "output_type": "display_data",
          "data": {
            "text/plain": [
              "<Figure size 800x325 with 3 Axes>"
            ],
            "image/png": "[encoded data removed]"
          },
          "metadata": {}
        }
      ],
      "source": [
        "from matplotlib import cm\n",
        "fig,ax = pyplot.subplots(nrows=1,ncols=2,figsize=(8,3.25))\n",
        "ax[0].scatter(x,y,color='k',label='Query Points')\n",
        "ax[0].plot(xplt,yplt,color='k',linestyle='--',label='True function',linewidth=1)\n",
        "ax[0].plot(xplt,yhatplt,color='k',label='GP Mean',linewidth=1)\n",
        "ax[0].fill_between(xplt,yhatplt-1.96*stdhatplt,yhatplt+1.96*stdhatplt,color='k',alpha=.25,label='95% CI')\n",
        "ax[0].scatter(xnext,fnext,color='k',marker='*',s=200,zorder=10)\n",
        "ax[0].set_xlim([0,1])\n",
        "ax[0].set_xticks([0,1])\n",
        "ax[0].set_xlabel(r'$x$')\n",
        "ax[0].set_ylabel(r'$y$')\n",
        "fig.legend(labels=['data','true function','posterior mean',r'95\\% CI','next points by qEI'],loc='lower center',bbox_to_anchor=(.5,-.05),ncol=5)\n",
        "contour = ax[1].contourf(x0mesh,x1mesh,qei_vals,cmap=cm.Greys_r)\n",
        "ax[1].scatter([xnext[0]],[xnext[1]],color='k',marker='*',s=200)\n",
        "fig.colorbar(contour,ax=None,shrink=1,aspect=5)\n",
        "ax[1].scatter(x0mesh.flatten(),x1mesh.flatten(),color='w',s=1)\n",
        "ax[1].set_xlim([0,1])\n",
        "ax[1].set_xticks([0,1])\n",
        "ax[1].set_ylim([0,1])\n",
        "ax[1].set_yticks([0,1])\n",
        "ax[1].set_xlabel(r'$x_1$')\n",
        "ax[1].set_ylabel(r'$x_2$')\n",
        "if root: fig.savefig(root+'gp.pdf',transparent=True)"
      ]
    },
    {
      "cell_type": "markdown",
      "id": "537cf7f0",
      "metadata": {
        "id": "537cf7f0"
      },
      "source": [
        "## Bayesian Logistic Regression"
      ]
    },
    {
      "cell_type": "code",
      "execution_count": 8,
      "id": "2c109b39",
      "metadata": {
        "id": "2c109b39"
      },
      "outputs": [],
      "source": [
        "import pandas as pd\n",
        "from sklearn.model_selection import train_test_split\n",
        "df = pd.read_csv('https://archive.ics.uci.edu/ml/machine-learning-databases/haberman/haberman.data',header=None)\n",
        "df.columns = ['Age','1900 Year','Axillary Nodes','Survival Status']\n",
        "df.loc[df['Survival Status']==2,'Survival Status'] = 0\n",
        "x,y = df[['Age','1900 Year','Axillary Nodes']],df['Survival Status']\n",
        "xt,xv,yt,yv = train_test_split(x,y,test_size=.33,random_state=7)"
      ]
    },
    {
      "cell_type": "code",
      "execution_count": 9,
      "id": "c7372124",
      "metadata": {
        "colab": {
          "base_uri": "https://localhost:8080/",
          "height": 674
        },
        "id": "c7372124",
        "outputId": "4c68a0e4-75b0-4e1c-a811-fd9aabe79d82"
      },
      "outputs": [
        {
          "output_type": "stream",
          "name": "stdout",
          "text": [
            "   Age  1900 Year  Axillary Nodes  Survival Status\n",
            "0   30         64               1                1\n",
            "1   30         62               3                1\n",
            "2   30         65               0                1\n",
            "3   31         59               2                1\n",
            "4   31         65               4                1 \n",
            "\n",
            "              Age   1900 Year  Axillary Nodes\n",
            "count  306.000000  306.000000      306.000000\n",
            "mean    52.457516   62.852941        4.026144\n",
            "std     10.803452    3.249405        7.189654\n",
            "min     30.000000   58.000000        0.000000\n",
            "25%     44.000000   60.000000        0.000000\n",
            "50%     52.000000   63.000000        1.000000\n",
            "75%     60.750000   65.750000        4.000000\n",
            "max     83.000000   69.000000       52.000000 \n",
            "\n",
            "count     306\n",
            "unique      2\n",
            "top         1\n",
            "freq      225\n",
            "Name: Survival Status, dtype: object\n",
            "\n",
            "train samples: 205 test samples: 101\n",
            "\n",
            "train positives 151   train negatives: 54\n",
            " test positives 74    test negatives: 27\n"
          ]
        },
        {
          "output_type": "execute_result",
          "data": {
            "text/plain": [
              "     Age  1900 Year  Axillary Nodes\n",
              "46    41         58               0\n",
              "199   57         64               1\n",
              "115   49         64              10\n",
              "128   50         61               0\n",
              "249   63         63               0"
            ],
            "text/html": [
              "\n",
              "  <div id=\"df-f08a59d5-b6d1-4ea1-953e-7fac547d2389\" class=\"colab-df-container\">\n",
              "    <div>\n",
              "<style scoped>\n",
              "    .dataframe tbody tr th:only-of-type {\n",
              "        vertical-align: middle;\n",
              "    }\n",
              "\n",
              "    .dataframe tbody tr th {\n",
              "        vertical-align: top;\n",
              "    }\n",
              "\n",
              "    .dataframe thead th {\n",
              "        text-align: right;\n",
              "    }\n",
              "</style>\n",
              "<table border=\"1\" class=\"dataframe\">\n",
              "  <thead>\n",
              "    <tr style=\"text-align: right;\">\n",
              "      <th></th>\n",
              "      <th>Age</th>\n",
              "      <th>1900 Year</th>\n",
              "      <th>Axillary Nodes</th>\n",
              "    </tr>\n",
              "  </thead>\n",
              "  <tbody>\n",
              "    <tr>\n",
              "      <th>46</th>\n",
              "      <td>41</td>\n",
              "      <td>58</td>\n",
              "      <td>0</td>\n",
              "    </tr>\n",
              "    <tr>\n",
              "      <th>199</th>\n",
              "      <td>57</td>\n",
              "      <td>64</td>\n",
              "      <td>1</td>\n",
              "    </tr>\n",
              "    <tr>\n",
              "      <th>115</th>\n",
              "      <td>49</td>\n",
              "      <td>64</td>\n",
              "      <td>10</td>\n",
              "    </tr>\n",
              "    <tr>\n",
              "      <th>128</th>\n",
              "      <td>50</td>\n",
              "      <td>61</td>\n",
              "      <td>0</td>\n",
              "    </tr>\n",
              "    <tr>\n",
              "      <th>249</th>\n",
              "      <td>63</td>\n",
              "      <td>63</td>\n",
              "      <td>0</td>\n",
              "    </tr>\n",
              "  </tbody>\n",
              "</table>\n",
              "</div>\n",
              "    <div class=\"colab-df-buttons\">\n",
              "\n",
              "  <div class=\"colab-df-container\">\n",
              "    <button class=\"colab-df-convert\" onclick=\"convertToInteractive('df-f08a59d5-b6d1-4ea1-953e-7fac547d2389')\"\n",
              "            title=\"Convert this dataframe to an interactive table.\"\n",
              "            style=\"display:none;\">\n",
              "\n",
              "  <svg xmlns=\"http://www.w3.org/2000/svg\" height=\"24px\" viewBox=\"0 -960 960 960\">\n",
              "    <path d=\"M120-120v-720h720v720H120Zm60-500h600v-160H180v160Zm220 220h160v-160H400v160Zm0 220h160v-160H400v160ZM180-400h160v-160H180v160Zm440 0h160v-160H620v160ZM180-180h160v-160H180v160Zm440 0h160v-160H620v160Z\"/>\n",
              "  </svg>\n",
              "    </button>\n",
              "\n",
              "  <style>\n",
              "    .colab-df-container {\n",
              "      display:flex;\n",
              "      gap: 12px;\n",
              "    }\n",
              "\n",
              "    .colab-df-convert {\n",
              "      background-color: #E8F0FE;\n",
              "      border: none;\n",
              "      border-radius: 50%;\n",
              "      cursor: pointer;\n",
              "      display: none;\n",
              "      fill: #1967D2;\n",
              "      height: 32px;\n",
              "      padding: 0 0 0 0;\n",
              "      width: 32px;\n",
              "    }\n",
              "\n",
              "    .colab-df-convert:hover {\n",
              "      background-color: #E2EBFA;\n",
              "      box-shadow: 0px 1px 2px rgba(60, 64, 67, 0.3), 0px 1px 3px 1px rgba(60, 64, 67, 0.15);\n",
              "      fill: #174EA6;\n",
              "    }\n",
              "\n",
              "    .colab-df-buttons div {\n",
              "      margin-bottom: 4px;\n",
              "    }\n",
              "\n",
              "    [theme=dark] .colab-df-convert {\n",
              "      background-color: #3B4455;\n",
              "      fill: #D2E3FC;\n",
              "    }\n",
              "\n",
              "    [theme=dark] .colab-df-convert:hover {\n",
              "      background-color: #434B5C;\n",
              "      box-shadow: 0px 1px 3px 1px rgba(0, 0, 0, 0.15);\n",
              "      filter: drop-shadow(0px 1px 2px rgba(0, 0, 0, 0.3));\n",
              "      fill: #FFFFFF;\n",
              "    }\n",
              "  </style>\n",
              "\n",
              "    <script>\n",
              "      const buttonEl =\n",
              "        document.querySelector('#df-f08a59d5-b6d1-4ea1-953e-7fac547d2389 button.colab-df-convert');\n",
              "      buttonEl.style.display =\n",
              "        google.colab.kernel.accessAllowed ? 'block' : 'none';\n",
              "\n",
              "      async function convertToInteractive(key) {\n",
              "        const element = document.querySelector('#df-f08a59d5-b6d1-4ea1-953e-7fac547d2389');\n",
              "        const dataTable =\n",
              "          await google.colab.kernel.invokeFunction('convertToInteractive',\n",
              "                                                    [key], {});\n",
              "        if (!dataTable) return;\n",
              "\n",
              "        const docLinkHtml = 'Like what you see? Visit the ' +\n",
              "          '<a target=\"_blank\" href=https://colab.research.google.com/notebooks/data_table.ipynb>data table notebook</a>'\n",
              "          + ' to learn more about interactive tables.';\n",
              "        element.innerHTML = '';\n",
              "        dataTable['output_type'] = 'display_data';\n",
              "        await google.colab.output.renderOutput(dataTable, element);\n",
              "        const docLink = document.createElement('div');\n",
              "        docLink.innerHTML = docLinkHtml;\n",
              "        element.appendChild(docLink);\n",
              "      }\n",
              "    </script>\n",
              "  </div>\n",
              "\n",
              "\n",
              "<div id=\"df-d1e3a0ec-acbc-4aaa-9132-487ce7b134a1\">\n",
              "  <button class=\"colab-df-quickchart\" onclick=\"quickchart('df-d1e3a0ec-acbc-4aaa-9132-487ce7b134a1')\"\n",
              "            title=\"Suggest charts\"\n",
              "            style=\"display:none;\">\n",
              "\n",
              "<svg xmlns=\"http://www.w3.org/2000/svg\" height=\"24px\"viewBox=\"0 0 24 24\"\n",
              "     width=\"24px\">\n",
              "    <g>\n",
              "        <path d=\"M19 3H5c-1.1 0-2 .9-2 2v14c0 1.1.9 2 2 2h14c1.1 0 2-.9 2-2V5c0-1.1-.9-2-2-2zM9 17H7v-7h2v7zm4 0h-2V7h2v10zm4 0h-2v-4h2v4z\"/>\n",
              "    </g>\n",
              "</svg>\n",
              "  </button>\n",
              "\n",
              "<style>\n",
              "  .colab-df-quickchart {\n",
              "      --bg-color: #E8F0FE;\n",
              "      --fill-color: #1967D2;\n",
              "      --hover-bg-color: #E2EBFA;\n",
              "      --hover-fill-color: #174EA6;\n",
              "      --disabled-fill-color: #AAA;\n",
              "      --disabled-bg-color: #DDD;\n",
              "  }\n",
              "\n",
              "  [theme=dark] .colab-df-quickchart {\n",
              "      --bg-color: #3B4455;\n",
              "      --fill-color: #D2E3FC;\n",
              "      --hover-bg-color: #434B5C;\n",
              "      --hover-fill-color: #FFFFFF;\n",
              "      --disabled-bg-color: #3B4455;\n",
              "      --disabled-fill-color: #666;\n",
              "  }\n",
              "\n",
              "  .colab-df-quickchart {\n",
              "    background-color: var(--bg-color);\n",
              "    border: none;\n",
              "    border-radius: 50%;\n",
              "    cursor: pointer;\n",
              "    display: none;\n",
              "    fill: var(--fill-color);\n",
              "    height: 32px;\n",
              "    padding: 0;\n",
              "    width: 32px;\n",
              "  }\n",
              "\n",
              "  .colab-df-quickchart:hover {\n",
              "    background-color: var(--hover-bg-color);\n",
              "    box-shadow: 0 1px 2px rgba(60, 64, 67, 0.3), 0 1px 3px 1px rgba(60, 64, 67, 0.15);\n",
              "    fill: var(--button-hover-fill-color);\n",
              "  }\n",
              "\n",
              "  .colab-df-quickchart-complete:disabled,\n",
              "  .colab-df-quickchart-complete:disabled:hover {\n",
              "    background-color: var(--disabled-bg-color);\n",
              "    fill: var(--disabled-fill-color);\n",
              "    box-shadow: none;\n",
              "  }\n",
              "\n",
              "  .colab-df-spinner {\n",
              "    border: 2px solid var(--fill-color);\n",
              "    border-color: transparent;\n",
              "    border-bottom-color: var(--fill-color);\n",
              "    animation:\n",
              "      spin 1s steps(1) infinite;\n",
              "  }\n",
              "\n",
              "  @keyframes spin {\n",
              "    0% {\n",
              "      border-color: transparent;\n",
              "      border-bottom-color: var(--fill-color);\n",
              "      border-left-color: var(--fill-color);\n",
              "    }\n",
              "    20% {\n",
              "      border-color: transparent;\n",
              "      border-left-color: var(--fill-color);\n",
              "      border-top-color: var(--fill-color);\n",
              "    }\n",
              "    30% {\n",
              "      border-color: transparent;\n",
              "      border-left-color: var(--fill-color);\n",
              "      border-top-color: var(--fill-color);\n",
              "      border-right-color: var(--fill-color);\n",
              "    }\n",
              "    40% {\n",
              "      border-color: transparent;\n",
              "      border-right-color: var(--fill-color);\n",
              "      border-top-color: var(--fill-color);\n",
              "    }\n",
              "    60% {\n",
              "      border-color: transparent;\n",
              "      border-right-color: var(--fill-color);\n",
              "    }\n",
              "    80% {\n",
              "      border-color: transparent;\n",
              "      border-right-color: var(--fill-color);\n",
              "      border-bottom-color: var(--fill-color);\n",
              "    }\n",
              "    90% {\n",
              "      border-color: transparent;\n",
              "      border-bottom-color: var(--fill-color);\n",
              "    }\n",
              "  }\n",
              "</style>\n",
              "\n",
              "  <script>\n",
              "    async function quickchart(key) {\n",
              "      const quickchartButtonEl =\n",
              "        document.querySelector('#' + key + ' button');\n",
              "      quickchartButtonEl.disabled = true;  // To prevent multiple clicks.\n",
              "      quickchartButtonEl.classList.add('colab-df-spinner');\n",
              "      try {\n",
              "        const charts = await google.colab.kernel.invokeFunction(\n",
              "            'suggestCharts', [key], {});\n",
              "      } catch (error) {\n",
              "        console.error('Error during call to suggestCharts:', error);\n",
              "      }\n",
              "      quickchartButtonEl.classList.remove('colab-df-spinner');\n",
              "      quickchartButtonEl.classList.add('colab-df-quickchart-complete');\n",
              "    }\n",
              "    (() => {\n",
              "      let quickchartButtonEl =\n",
              "        document.querySelector('#df-d1e3a0ec-acbc-4aaa-9132-487ce7b134a1 button');\n",
              "      quickchartButtonEl.style.display =\n",
              "        google.colab.kernel.accessAllowed ? 'block' : 'none';\n",
              "    })();\n",
              "  </script>\n",
              "</div>\n",
              "\n",
              "    </div>\n",
              "  </div>\n"
            ],
            "application/vnd.google.colaboratory.intrinsic+json": {
              "type": "dataframe",
              "variable_name": "xt",
              "summary": "{\n  \"name\": \"xt\",\n  \"rows\": 205,\n  \"fields\": [\n    {\n      \"column\": \"Age\",\n      \"properties\": {\n        \"dtype\": \"number\",\n        \"std\": 10,\n        \"min\": 30,\n        \"max\": 83,\n        \"num_unique_values\": 46,\n        \"samples\": [\n          56,\n          54,\n          61\n        ],\n        \"semantic_type\": \"\",\n        \"description\": \"\"\n      }\n    },\n    {\n      \"column\": \"1900 Year\",\n      \"properties\": {\n        \"dtype\": \"number\",\n        \"std\": 3,\n        \"min\": 58,\n        \"max\": 69,\n        \"num_unique_values\": 12,\n        \"samples\": [\n          69,\n          66,\n          58\n        ],\n        \"semantic_type\": \"\",\n        \"description\": \"\"\n      }\n    },\n    {\n      \"column\": \"Axillary Nodes\",\n      \"properties\": {\n        \"dtype\": \"number\",\n        \"std\": 6,\n        \"min\": 0,\n        \"max\": 35,\n        \"num_unique_values\": 26,\n        \"samples\": [\n          4,\n          14,\n          0\n        ],\n        \"semantic_type\": \"\",\n        \"description\": \"\"\n      }\n    }\n  ]\n}"
            }
          },
          "metadata": {},
          "execution_count": 9
        }
      ],
      "source": [
        "print(df.head(),'\\n')\n",
        "print(df[['Age','1900 Year','Axillary Nodes']].describe(),'\\n')\n",
        "print(df['Survival Status'].astype(str).describe())\n",
        "print('\\ntrain samples: %d test samples: %d\\n'%(len(xt),len(xv)))\n",
        "print('train positives %d   train negatives: %d'%(np.sum(yt==1),np.sum(yt==0)))\n",
        "print(' test positives %d    test negatives: %d'%(np.sum(yv==1),np.sum(yv==0)))\n",
        "xt.head()"
      ]
    },
    {
      "cell_type": "code",
      "execution_count": 10,
      "id": "2cc71af8",
      "metadata": {
        "colab": {
          "base_uri": "https://localhost:8080/"
        },
        "id": "2cc71af8",
        "outputId": "0ac54a5d-0388-4019-ec8b-5ceadd6e5b3d"
      },
      "outputs": [
        {
          "output_type": "stream",
          "name": "stdout",
          "text": [
            "LDTransformData (AccumulateData Object)\n",
            "    solution        [-0.004  0.13  -0.157  0.008]\n",
            "    comb_bound_low  [-0.006  0.092 -0.205  0.007]\n",
            "    comb_bound_high [-0.003  0.172 -0.109  0.012]\n",
            "    comb_flags      [ True  True  True  True]\n",
            "    n_total         2^(18)\n",
            "    n               [[  1024.   1024. 262144.   2048.]\n",
            "                    [  1024.   1024. 262144.   2048.]]\n",
            "    time_integrate  2.880\n",
            "CubQMCNetG (StoppingCriterion Object)\n",
            "    abs_tol         0.050\n",
            "    rel_tol         2^(-1)\n",
            "    n_init          2^(10)\n",
            "    n_max           2^(35)\n",
            "BayesianLRCoeffs (Integrand Object)\n",
            "Gaussian (TrueMeasure Object)\n",
            "    mean            0\n",
            "    covariance      5\n",
            "    decomp_type     PCA\n",
            "DigitalNetB2 (DiscreteDistribution Object)\n",
            "    d               2^(2)\n",
            "    dvec            [0 1 2 3]\n",
            "    randomize       LMS_DS\n",
            "    graycode        0\n",
            "    entropy         7\n",
            "    spawn_key       ()\n"
          ]
        }
      ],
      "source": [
        "blr = qp.BayesianLRCoeffs(\n",
        "    sampler = qp.DigitalNetB2(4,seed=7),\n",
        "    feature_array = xt, # np.ndarray of shape (n,d-1)\n",
        "    response_vector = yt, # np.ndarray of shape (n,)\n",
        "    prior_mean = 0, # normal prior mean = (0,0,...,0)\n",
        "    prior_covariance = 5) # normal prior covariance = 5I\n",
        "qmc_sc = qp.CubQMCNetG(blr,\n",
        "    abs_tol = .05,\n",
        "    rel_tol = .5,\n",
        "    error_fun = lambda s,abs_tols,rel_tols:\n",
        "        np.minimum(abs_tols,np.abs(s)*rel_tols))\n",
        "blr_coefs,blr_data = qmc_sc.integrate()\n",
        "print(blr_data)\n",
        "# LDTransformData (AccumulateData Object)\n",
        "#     solution        [-0.004  0.13  -0.157  0.008]\n",
        "#     comb_bound_low  [-0.006  0.092 -0.205  0.007]\n",
        "#     comb_bound_high [-0.003  0.172 -0.109  0.012]\n",
        "#     comb_flags      [ True  True  True  True]\n",
        "#     n_total         2^(18)\n",
        "#     n               [[  1024.   1024. 262144.   2048.]\n",
        "#                     [  1024.   1024. 262144.   2048.]]\n",
        "#     time_integrate  2.229"
      ]
    },
    {
      "cell_type": "code",
      "execution_count": 11,
      "id": "9aeee8bf",
      "metadata": {
        "colab": {
          "base_uri": "https://localhost:8080/"
        },
        "id": "9aeee8bf",
        "outputId": "39038d66-18c1-46f0-a3b8-66760f67e6a2"
      },
      "outputs": [
        {
          "output_type": "stream",
          "name": "stdout",
          "text": [
            "                              Age  1900 Year  Axillary Nodes  Intercept  \\\n",
            "method                                                                    \n",
            "Elastic-Net \\lambda=0.0 -0.012279   0.034401       -0.115153   0.001990   \n",
            "Elastic-Net \\lambda=0.5 -0.012041   0.034170       -0.114770   0.002025   \n",
            "Elastic-Net \\lambda=1.0 -0.011803   0.033940       -0.114387   0.002061   \n",
            "Bayesian                -0.004138   0.129921       -0.156901   0.008034   \n",
            "\n",
            "                         Accuracy  Precision    Recall  \n",
            "method                                                  \n",
            "Elastic-Net \\lambda=0.0  0.742574   0.766667  0.932432  \n",
            "Elastic-Net \\lambda=0.5  0.742574   0.766667  0.932432  \n",
            "Elastic-Net \\lambda=1.0  0.742574   0.766667  0.932432  \n",
            "Bayesian                 0.742574   0.740000  1.000000  \n"
          ]
        }
      ],
      "source": [
        "from sklearn.linear_model import LogisticRegression\n",
        "def metrics(y,yhat):\n",
        "    y,yhat = np.array(y),np.array(yhat)\n",
        "    tp = np.sum((y==1)*(yhat==1))\n",
        "    tn = np.sum((y==0)*(yhat==0))\n",
        "    fp = np.sum((y==0)*(yhat==1))\n",
        "    fn = np.sum((y==1)*(yhat==0))\n",
        "    accuracy = (tp+tn)/(len(y))\n",
        "    precision = tp/(tp+fp)\n",
        "    recall = tp/(tp+fn)\n",
        "    return [accuracy,precision,recall]\n",
        "\n",
        "results = pd.DataFrame({name:[] for name in ['method','Age','1900 Year','Axillary Nodes','Intercept','Accuracy','Precision','Recall']})\n",
        "for i,l1_ratio in enumerate([0,.5,1]):\n",
        "    lr = LogisticRegression(random_state=7,penalty=\"elasticnet\",solver='saga',l1_ratio=l1_ratio).fit(xt,yt)\n",
        "    results.loc[i] = [r'Elastic-Net \\lambda=%.1f'%l1_ratio]+lr.coef_.squeeze().tolist()+[lr.intercept_.item()]+metrics(yv,lr.predict(xv))\n",
        "\n",
        "blr_predict = lambda x: 1/(1+np.exp(-np.array(x)@blr_coefs[:-1]-blr_coefs[-1]))>=.5\n",
        "blr_train_accuracy = np.mean(blr_predict(xt)==yt)\n",
        "blr_test_accuracy = np.mean(blr_predict(xv)==yv)\n",
        "results.loc[len(results)] = ['Bayesian']+blr_coefs.squeeze().tolist()+metrics(yv,blr_predict(xv))\n",
        "\n",
        "import warnings\n",
        "warnings.simplefilter('ignore',FutureWarning)\n",
        "results.set_index('method',inplace=True)\n",
        "print(results.head())\n",
        "#root: results.to_latex(root+'lr_table.tex',formatters={'%s'%tt:lambda v:'%.1f'%(100*v) for tt in ['accuracy','precision','recall']},float_format=\"%.2e\")"
      ]
    },
    {
      "cell_type": "markdown",
      "id": "d1002afa",
      "metadata": {
        "id": "d1002afa"
      },
      "source": [
        "## Sensitivity Indices"
      ]
    },
    {
      "cell_type": "markdown",
      "id": "0c871796",
      "metadata": {
        "id": "0c871796"
      },
      "source": [
        "### Ishigami Function"
      ]
    },
    {
      "cell_type": "code",
      "execution_count": 12,
      "id": "d8e52264",
      "metadata": {
        "colab": {
          "base_uri": "https://localhost:8080/"
        },
        "id": "d8e52264",
        "outputId": "39fcb474-2947-4ef2-a37c-e8bf7cfc53ca"
      },
      "outputs": [
        {
          "output_type": "stream",
          "name": "stdout",
          "text": [
            "LDTransformData (AccumulateData Object)\n",
            "    solution        [[0.31  0.442 0.    0.752 0.57  0.422]\n",
            "                    [0.555 0.436 0.239 0.976 0.563 0.673]]\n",
            "    comb_bound_low  [[0.289 0.424 0.    0.717 0.542 0.397]\n",
            "                    [0.527 0.426 0.228 0.952 0.54  0.651]]\n",
            "    comb_bound_high [[0.33  0.461 0.    0.787 0.598 0.447]\n",
            "                    [0.583 0.446 0.249 1.    0.585 0.695]]\n",
            "    comb_flags      [[ True  True  True  True  True  True]\n",
            "                    [ True  True  True  True  True  True]]\n",
            "    n_total         2^(10)\n",
            "    n               [[[1024. 1024. 1024. 1024. 1024. 1024.]\n",
            "                     [1024. 1024. 1024. 1024. 1024. 1024.]\n",
            "                     [1024. 1024. 1024. 1024. 1024. 1024.]]\n",
            "                   \n",
            "                    [[1024. 1024. 1024. 1024. 1024. 1024.]\n",
            "                     [1024. 1024. 1024. 1024. 1024. 1024.]\n",
            "                     [1024. 1024. 1024. 1024. 1024. 1024.]]]\n",
            "    time_integrate  0.158\n",
            "CubQMCNetG (StoppingCriterion Object)\n",
            "    abs_tol         0.050\n",
            "    rel_tol         0\n",
            "    n_init          2^(10)\n",
            "    n_max           2^(35)\n",
            "SensitivityIndices (Integrand Object)\n",
            "    indices         [[0], [1], [2], [0, 1], [0, 2], [1, 2]]\n",
            "    n_multiplier    6\n",
            "Uniform (TrueMeasure Object)\n",
            "    lower_bound     -3.142\n",
            "    upper_bound     3.142\n",
            "DigitalNetB2 (DiscreteDistribution Object)\n",
            "    d               6\n",
            "    dvec            [0 1 2 3 4 5]\n",
            "    randomize       LMS_DS\n",
            "    graycode        0\n",
            "    entropy         7\n",
            "    spawn_key       (0,)\n",
            "\n",
            "Approx took 0.2 sec and n = 2^(10)\n",
            "\t si_closed: [0.30971745 0.4423662  0.         0.75200486 0.56984213 0.42224468]\n",
            "\t si_total: [0.55503279 0.43583295 0.23855184 0.97582279 0.56253104 0.67338673]\n",
            "\t ci_comb_low_closed: [0.28915713 0.42422349 0.         0.71701308 0.54177848 0.3974432 ]\n",
            "\t ci_comb_high_closed: [0.33027778 0.46050891 0.         0.78699664 0.59790578 0.44704617]\n",
            "\t ci_comb_low_total: [0.5274417  0.42560848 0.22838115 0.95164558 0.54006293 0.65149999]\n",
            "\t ci_comb_high_total: [0.58262388 0.44605742 0.24872253 1.         0.58499915 0.69527348]\n"
          ]
        }
      ],
      "source": [
        "a,b = 7,0.1\n",
        "dnb2 = qp.DigitalNetB2(3,seed=7)\n",
        "ishigami = qp.Ishigami(dnb2,a,b)\n",
        "idxs =[[0], [1], [2], [0,1], [0,2], [1,2]]\n",
        "ishigami_si = qp.SensitivityIndices(ishigami,idxs)\n",
        "qmc_algo = qp.CubQMCNetG(ishigami_si,abs_tol=.05)\n",
        "solution,data = qmc_algo.integrate()\n",
        "print(data)\n",
        "si_closed = solution[0].squeeze()\n",
        "si_total = solution[1].squeeze()\n",
        "ci_comb_low_closed = data.comb_bound_low[0].squeeze()\n",
        "ci_comb_high_closed = data.comb_bound_high[0].squeeze()\n",
        "ci_comb_low_total = data.comb_bound_low[1].squeeze()\n",
        "ci_comb_high_total = data.comb_bound_high[1].squeeze()\n",
        "print(\"\\nApprox took %.1f sec and n = 2^(%d)\"%\n",
        "    (data.time_integrate,np.log2(data.n_total)))\n",
        "print('\\t si_closed:',si_closed)\n",
        "print('\\t si_total:',si_total)\n",
        "print('\\t ci_comb_low_closed:',ci_comb_low_closed)\n",
        "print('\\t ci_comb_high_closed:',ci_comb_high_closed)\n",
        "print('\\t ci_comb_low_total:',ci_comb_low_total)\n",
        "print('\\t ci_comb_high_total:',ci_comb_high_total)\n",
        "\n",
        "true_indices = qp.Ishigami._exact_sensitivity_indices(idxs,a,b)\n",
        "si_closed_true = true_indices[0]\n",
        "si_total_true = true_indices[1]"
      ]
    },
    {
      "cell_type": "code",
      "execution_count": 13,
      "id": "b2232e67",
      "metadata": {
        "colab": {
          "base_uri": "https://localhost:8080/",
          "height": 290
        },
        "id": "b2232e67",
        "outputId": "5894fb17-0b0d-4f0f-bb6e-0fb517068325"
      },
      "outputs": [
        {
          "output_type": "display_data",
          "data": {
            "text/plain": [
              "<Figure size 600x300 with 1 Axes>"
            ],
            "image/png": "[encoded data removed]"
          },
          "metadata": {}
        }
      ],
      "source": [
        "fig,ax = pyplot.subplots(figsize=(6,3))\n",
        "ax.grid(False)\n",
        "for spine in ['top','left','right','bottom']: ax.spines[spine].set_visible(False)\n",
        "width = .75\n",
        "ax.errorbar(fmt='none',color='k',\n",
        "    x = 1-si_total_true,\n",
        "    y = np.arange(len(si_closed)),\n",
        "    xerr = 0,\n",
        "    yerr = width/2,\n",
        "    alpha = 1)\n",
        "bar_closed = ax.barh(np.arange(len(si_closed)),np.flip(si_closed),width,label='Closed SI',color='w',edgecolor='k',alpha=.75,linestyle='--')\n",
        "ax.errorbar(fmt='none',color='k',\n",
        "    x = si_closed,\n",
        "    y = np.flip(np.arange(len(si_closed)))+width/4,\n",
        "    xerr = np.vstack((si_closed-ci_comb_low_closed,ci_comb_high_closed-si_closed)),\n",
        "    yerr = 0,\n",
        "    #elinewidth = 5,\n",
        "    alpha = .75)\n",
        "bar_total = ax.barh(np.arange(len(si_closed)),si_total,width,label='Total SI',color='w',alpha=.25,edgecolor='k',left=1-si_total,zorder=10,linestyle='-.')\n",
        "ax.errorbar(fmt='none',color='k',\n",
        "    x = 1-si_total,\n",
        "    y = np.arange(len(si_closed))-width/4,\n",
        "    xerr = np.vstack((si_total-ci_comb_low_total,ci_comb_high_total-si_total)),\n",
        "    yerr = 0,\n",
        "    #elinewidth = 5,\n",
        "    alpha = .25)\n",
        "closed_labels = [r'$\\underline{s}_{\\{%s\\}} = %.2f$'%(','.join([str(i+1) for i in idx]),c) for idx,c in zip(idxs[::-1],np.flip(si_closed))]\n",
        "closed_labels[3] = ''\n",
        "total_labels = [r'$\\overline{s}_{\\{%s\\}} = %.2f$'%(','.join([str(i+1) for i in idx]),t) for idx,t in zip(idxs,si_total)]\n",
        "ax.bar_label(bar_closed,label_type='center',labels=closed_labels)\n",
        "ax.bar_label(bar_total,label_type='center',labels=total_labels)\n",
        "ax.set_xlim([-.001,1.001])\n",
        "ax.axvline(x=0,ymin=0,ymax=len(si_closed),color='k',alpha=.25)\n",
        "ax.axvline(x=1,ymin=0,ymax=len(si_closed),color='k',alpha=.25)\n",
        "ax.set_yticklabels([])\n",
        "if root: fig.savefig(root+'ishigami.pdf',transparent=True)"
      ]
    },
    {
      "cell_type": "code",
      "execution_count": 14,
      "id": "8185b3d3",
      "metadata": {
        "colab": {
          "base_uri": "https://localhost:8080/",
          "height": 328
        },
        "id": "8185b3d3",
        "outputId": "980c763e-6e91-4c1b-efa7-223a5a655a3f"
      },
      "outputs": [
        {
          "output_type": "display_data",
          "data": {
            "text/plain": [
              "<Figure size 800x300 with 3 Axes>"
            ],
            "image/png": "[encoded data removed]"
          },
          "metadata": {}
        }
      ],
      "source": [
        "fig,ax = pyplot.subplots(nrows=1,ncols=3,figsize=(8,3))\n",
        "x_1d = np.linspace(0,1,num=128)\n",
        "x_1d_mat = np.tile(x_1d,(3,1)).T\n",
        "y_1d = qp.Ishigami._exact_fu_functions(x_1d_mat,indices=[[0],[1],[2]],a=a,b=b)\n",
        "for i in range(2):\n",
        "    ax[i].plot(x_1d,y_1d[:,i],color='k')\n",
        "    ax[i].set_xlim([0,1])\n",
        "    ax[i].set_xticks([0,1])\n",
        "    ax[i].set_xlabel(r'$x_{%d}$'%(i+1))\n",
        "    ax[i].set_title(r'$f_{\\{%d\\}} \\in [%.1f,%.1f]$'%(i+1,y_1d[:,i].min(),y_1d[:,i].max()))\n",
        "x_mesh,y_mesh = np.meshgrid(x_1d,x_1d)\n",
        "xquery = np.zeros((x_mesh.size,3))\n",
        "for i,idx in enumerate([[1,2]]): # [[0,1],[0,2],[1,2]]\n",
        "    xquery[:,idx[0]] = x_mesh.flatten()\n",
        "    xquery[:,idx[1]] = y_mesh.flatten()\n",
        "    zquery = qp.Ishigami._exact_fu_functions(xquery,indices=[idx],a=a,b=b)\n",
        "    z_mesh = zquery.reshape(x_mesh.shape)\n",
        "    ax[2+i].contourf(x_mesh,y_mesh,z_mesh,cmap=cm.Greys_r)\n",
        "    ax[2+i].set_xlabel(r'$x_{%d}$'%(idx[0]+1))\n",
        "    ax[2+i].set_ylabel(r'$x_{%d}$'%(idx[1]+1))\n",
        "    ax[2+i].set_title(r'$f_{\\{%d,%d\\}} \\in [%.1f,%.1f]$'%(tuple([i+1 for i in idx])+(z_mesh.min(),z_mesh.max())))\n",
        "    ax[2+i].set_xlim([0,1])\n",
        "    ax[2+i].set_ylim([0,1])\n",
        "    ax[2+i].set_xticks([0,1])\n",
        "    ax[2+i].set_yticks([0,1])\n",
        "if root: fig.savefig(root+'ishigami_fu.pdf')"
      ]
    },
    {
      "cell_type": "markdown",
      "id": "8fc6f6c7",
      "metadata": {
        "id": "8fc6f6c7"
      },
      "source": [
        "### Neural Network"
      ]
    },
    {
      "cell_type": "code",
      "execution_count": 15,
      "id": "841067ac",
      "metadata": {
        "id": "841067ac"
      },
      "outputs": [],
      "source": [
        "from sklearn.datasets import load_iris\n",
        "from sklearn.model_selection import train_test_split\n",
        "from sklearn.neural_network import MLPClassifier\n",
        "data = load_iris()\n",
        "feature_names = data[\"feature_names\"]\n",
        "feature_names = [fn.replace('sepal ','S')\\\n",
        "    .replace('length ','L')\\\n",
        "    .replace('petal ','P')\\\n",
        "    .replace('width ','W')\\\n",
        "    .replace('(cm)','') for fn in feature_names]\n",
        "target_names = data[\"target_names\"]\n",
        "xt,xv,yt,yv = train_test_split(data[\"data\"],data[\"target\"],\n",
        "    test_size = 1/3,\n",
        "    random_state = 7)"
      ]
    },
    {
      "cell_type": "code",
      "execution_count": 16,
      "id": "8e7846bf",
      "metadata": {
        "colab": {
          "base_uri": "https://localhost:8080/"
        },
        "id": "8e7846bf",
        "outputId": "ea998dbe-1065-4dce-a973-d8db81b8a0fd"
      },
      "outputs": [
        {
          "output_type": "stream",
          "name": "stdout",
          "text": [
            "accuracy: 98.0%\n"
          ]
        }
      ],
      "source": [
        "mlpc = MLPClassifier(random_state=7,max_iter=1024).fit(xt,yt)\n",
        "yhat = mlpc.predict(xv)\n",
        "print(\"accuracy: %.1f%%\"%(100*(yv==yhat).mean()))\n",
        "# accuracy: 98.0%\n",
        "sampler = qp.DigitalNetB2(4,seed=7)\n",
        "true_measure =  qp.Uniform(sampler,\n",
        "    lower_bound = xt.min(0),\n",
        "    upper_bound = xt.max(0))\n",
        "fun = qp.CustomFun(\n",
        "    true_measure = true_measure,\n",
        "    g = lambda x,compute_flags: mlpc.predict_proba(x),\n",
        "    dimension_indv = 3)\n",
        "si_fun = qp.SensitivityIndices(fun,indices=\"all\")\n",
        "qmc_algo = qp.CubQMCNetG(si_fun,abs_tol=.005)\n",
        "nn_sis,nn_sis_data = qmc_algo.integrate()"
      ]
    },
    {
      "cell_type": "code",
      "execution_count": 17,
      "id": "e48c89bb",
      "metadata": {
        "colab": {
          "base_uri": "https://localhost:8080/"
        },
        "id": "e48c89bb",
        "outputId": "f902bd87-3257-4672-a5d6-b1ab9b4e857d"
      },
      "outputs": [
        {
          "output_type": "stream",
          "name": "stdout",
          "text": [
            "samples: 2^(15)\n",
            "time: 2.9e+00\n",
            "indices: [[0], [1], [2], [3], [0, 1], [0, 2], [0, 3], [1, 2], [1, 3], [2, 3], [0, 1, 2], [0, 1, 3], [0, 2, 3], [1, 2, 3]]\n",
            "\n",
            "Closed Indices\n",
            "             setosa  versicolor  virginica\n",
            "[0]        0.001504    0.071122   0.081736\n",
            "[1]        0.058743    0.022073   0.010373\n",
            "[2]        0.713777    0.328313   0.500059\n",
            "[3]        0.046053    0.021077   0.120233\n",
            "[0, 1]     0.059178    0.091764   0.098233\n",
            "[0, 2]     0.715117    0.460138   0.642551\n",
            "[0, 3]     0.046859    0.092322   0.207724\n",
            "[1, 2]     0.843241    0.434629   0.520469\n",
            "[1, 3]     0.108872    0.039572   0.127844\n",
            "[2, 3]     0.823394    0.582389   0.705354\n",
            "[0, 1, 2]  0.845359    0.570022   0.661100\n",
            "[0, 1, 3]  0.108503    0.106081   0.218971\n",
            "[0, 2, 3]  0.825389    0.814286   0.948331\n",
            "[1, 2, 3]  0.996483    0.738213   0.729940\n",
            "\n",
            "Total Indices\n",
            "             setosa  versicolor  virginica\n",
            "[0]        0.003199    0.259762   0.265085\n",
            "[1]        0.172391    0.183159   0.045582\n",
            "[2]        0.889677    0.896874   0.780377\n",
            "[3]        0.157794    0.433342   0.340092\n",
            "[0, 1]     0.174905    0.414246   0.289565\n",
            "[0, 2]     0.890477    0.966238   0.871992\n",
            "[0, 3]     0.159744    0.566187   0.478082\n",
            "[1, 2]     0.949190    0.907994   0.790445\n",
            "[1, 3]     0.283542    0.540486   0.355714\n",
            "[2, 3]     0.941651    0.919005   0.902203\n",
            "[0, 1, 2]  0.949431    0.980367   0.880283\n",
            "[0, 1, 3]  0.284118    0.674406   0.497364\n",
            "[0, 2, 3]  0.942185    0.986186   0.989555\n",
            "[1, 2, 3]  0.996057    0.933342   0.913711\n"
          ]
        }
      ],
      "source": [
        "#print(nn_sis_data.flags_indv.shape)\n",
        "#print(nn_sis_data.flags_comb.shape)\n",
        "print('samples: 2^(%d)'%np.log2(nn_sis_data.n_total))\n",
        "print('time: %.1e'%nn_sis_data.time_integrate)\n",
        "print('indices:',nn_sis_data.integrand.indices)\n",
        "\n",
        "import pandas as pd\n",
        "\n",
        "df_closed = pd.DataFrame(nn_sis[0],columns=target_names,index=[str(idx) for idx in nn_sis_data.integrand.indices])\n",
        "print('\\nClosed Indices')\n",
        "print(df_closed)\n",
        "df_total = pd.DataFrame(nn_sis[1],columns=target_names,index=[str(idx) for idx in nn_sis_data.integrand.indices])\n",
        "print('\\nTotal Indices')\n",
        "print(df_total)\n",
        "df_closed_singletons = df_closed.T.iloc[:,:4]\n",
        "df_closed_singletons['sum singletons'] = df_closed_singletons[['[%d]'%i for i in range(4)]].sum(1)\n",
        "df_closed_singletons.columns = data['feature_names']+['sum']\n",
        "df_closed_singletons = df_closed_singletons*100\n",
        "\n",
        "import warnings\n",
        "warnings.simplefilter('ignore',FutureWarning)\n",
        "#if root: df_closed_singletons.to_latex(root+'si_singletons_closed.tex',float_format='%.1f%%')"
      ]
    },
    {
      "cell_type": "code",
      "execution_count": 18,
      "id": "eeb7b84b",
      "metadata": {
        "colab": {
          "base_uri": "https://localhost:8080/",
          "height": 396
        },
        "id": "eeb7b84b",
        "outputId": "3eb279b8-567a-4ac9-8b5f-e48ae70704ab"
      },
      "outputs": [
        {
          "output_type": "display_data",
          "data": {
            "text/plain": [
              "<Figure size 600x350 with 1 Axes>"
            ],
            "image/png": "[encoded data removed]"
          },
          "metadata": {}
        }
      ],
      "source": [
        "nindices = len(nn_sis_data.integrand.indices)\n",
        "fig,ax = pyplot.subplots(figsize=(6,3.5))\n",
        "ticks = np.arange(nindices)\n",
        "width = .25\n",
        "for i,(alpha,species) in enumerate(zip([.25,.5,.75],data['target_names'])):\n",
        "    cvals = df_closed[species].to_numpy()\n",
        "    tvals = df_total[species].to_numpy()\n",
        "    ticks_i = ticks+i*width\n",
        "    ax.bar(ticks_i,cvals,width=width,align='edge',color='k',alpha=alpha,label=species)\n",
        "    #ax.bar(ticks_i,np.flip(tvals),width=width,align='edge',bottom=1-np.flip(tvals),color=color,alpha=.1)\n",
        "ax.set_xlim([0,13+3*width])\n",
        "ax.set_xticks(ticks+1.5*width)\n",
        "\n",
        "# closed_labels = [r'$\\underline{s}_{\\{%s\\}}$'%(','.join([r'\\text{%s}'%feature_names[i] for i in idx])) for idx in nn_sis_data.integrand.indices]\n",
        "closed_labels = ['\\n'.join([feature_names[i] for i in idx]) for idx in nn_sis_data.integrand.indices]\n",
        "ax.set_xticklabels(closed_labels,rotation=0)\n",
        "ax.set_ylim([0,1]); ax.set_yticks([0,1])\n",
        "ax.grid(False)\n",
        "for spine in ['top','right','bottom']: ax.spines[spine].set_visible(False)\n",
        "ax.legend(frameon=False,loc='upper center',bbox_to_anchor=(.5,-.2),ncol=3);\n",
        "if root: fig.savefig(root+'nn_si.pdf')"
      ]
    }
  ],
  "metadata": {
    "colab": {
      "provenance": []
    },
    "kernelspec": {
      "display_name": "Python 3 (ipykernel)",
      "language": "python",
      "name": "python3"
    },
    "language_info": {
      "codemirror_mode": {
        "name": "ipython",
        "version": 3
      },
      "file_extension": ".py",
      "mimetype": "text/x-python",
      "name": "python",
      "nbconvert_exporter": "python",
      "pygments_lexer": "ipython3",
      "version": "3.9.13"
    }
  },
  "nbformat": 4,
  "nbformat_minor": 5
}
