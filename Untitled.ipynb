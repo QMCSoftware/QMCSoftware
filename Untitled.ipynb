{
 "cells": [
  {
   "cell_type": "code",
   "execution_count": 1,
   "id": "c551b760-1a56-4505-93b9-8b7b24d2e0c5",
   "metadata": {},
   "outputs": [],
   "source": [
    "import numpy as np\n",
    "import qmcpy as qp"
   ]
  },
  {
   "cell_type": "code",
   "execution_count": 2,
   "id": "426b93f9-72ef-411d-b925-5274279994bb",
   "metadata": {},
   "outputs": [
    {
     "name": "stdout",
     "output_type": "stream",
     "text": [
      "[[1 2]\n",
      " [3 4]]\n"
     ]
    }
   ],
   "source": [
    "d = np.array([[1, 2], [3, 4]])\n",
    "print(d)"
   ]
  },
  {
   "cell_type": "code",
   "execution_count": 3,
   "id": "6c6d1999-9992-4b32-903b-25d50ccd3027",
   "metadata": {},
   "outputs": [
    {
     "name": "stdout",
     "output_type": "stream",
     "text": [
      "[[6.74291965e-01 2.14041581e-01]\n",
      " [1.00584173e-01 5.83794900e-01]\n",
      " [9.70531804e-01 9.22624163e-01]\n",
      " [3.02082192e-01 3.10697566e-01]\n",
      " [5.06123313e-01 6.39256754e-01]\n",
      " [2.05822688e-01 4.68034297e-04]\n",
      " [8.33922173e-01 4.74062066e-01]\n",
      " [3.76379727e-01 8.55054459e-01]\n",
      " [7.36396721e-01 8.11317150e-01]\n",
      " [3.76888099e-02 4.22035449e-01]\n",
      " [9.07941733e-01 8.31307229e-02]\n",
      " [3.64492001e-01 7.14614327e-01]\n",
      " [5.68532410e-01 3.54969167e-01]\n",
      " [1.43231428e-01 9.74239027e-01]\n",
      " [7.71026091e-01 5.00567878e-01]\n",
      " [4.38483287e-01 1.39126755e-01]]\n"
     ]
    }
   ],
   "source": [
    "x = qp.Sobol(2).gen_samples(16)\n",
    "print(x)"
   ]
  },
  {
   "cell_type": "code",
   "execution_count": 4,
   "id": "733599ff-2245-455c-9f3d-c437541e13e1",
   "metadata": {},
   "outputs": [
    {
     "ename": "AttributeError",
     "evalue": "module 'qmcpy' has no attribute 'discrepancy'",
     "output_type": "error",
     "traceback": [
      "\u001b[1;31m---------------------------------------------------------------------------\u001b[0m",
      "\u001b[1;31mAttributeError\u001b[0m                            Traceback (most recent call last)",
      "Cell \u001b[1;32mIn[4], line 1\u001b[0m\n\u001b[1;32m----> 1\u001b[0m disc \u001b[38;5;241m=\u001b[39m \u001b[43mqp\u001b[49m\u001b[38;5;241;43m.\u001b[39;49m\u001b[43mdiscrepancy\u001b[49m(x)\n\u001b[0;32m      2\u001b[0m \u001b[38;5;28mprint\u001b[39m(disc)\n",
      "\u001b[1;31mAttributeError\u001b[0m: module 'qmcpy' has no attribute 'discrepancy'"
     ]
    }
   ],
   "source": [
    "disc = qp.discrepancy(x)\n",
    "print(disc)"
   ]
  },
  {
   "cell_type": "code",
   "execution_count": null,
   "id": "80e3b0be-510a-42f0-9e91-2969cfa8bb4f",
   "metadata": {},
   "outputs": [],
   "source": []
  }
 ],
 "metadata": {
  "kernelspec": {
   "display_name": "Python 3 (ipykernel)",
   "language": "python",
   "name": "python3"
  },
  "language_info": {
   "codemirror_mode": {
    "name": "ipython",
    "version": 3
   },
   "file_extension": ".py",
   "mimetype": "text/x-python",
   "name": "python",
   "nbconvert_exporter": "python",
   "pygments_lexer": "ipython3",
   "version": "3.9.5"
  }
 },
 "nbformat": 4,
 "nbformat_minor": 5
}
