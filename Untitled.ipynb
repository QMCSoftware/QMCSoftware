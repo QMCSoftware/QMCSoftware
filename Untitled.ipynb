{
 "cells": [
  {
   "cell_type": "code",
   "execution_count": 1,
   "id": "33264f62-eb9a-4be7-b302-cd03ba5ebdcc",
   "metadata": {},
   "outputs": [
    {
     "name": "stdout",
     "output_type": "stream",
     "text": [
      "qmcpy matplotlib style applied.\n"
     ]
    }
   ],
   "source": [
    "from numpy import *\n",
    "from qmcpy import *\n",
    "import pandas as pd\n",
    "from matplotlib import pyplot\n",
    "import tempfile\n",
    "import os\n",
    "import subprocess\n",
    "import numpy as np\n",
    "qmc_apply_style()\n",
    "%matplotlib inline"
   ]
  },
  {
   "cell_type": "code",
   "execution_count": null,
   "id": "9ee2e370-7960-498d-8384-c3ce2e1a2181",
   "metadata": {},
   "outputs": [],
   "source": []
  }
 ],
 "metadata": {
  "kernelspec": {
   "display_name": "Python 3 (ipykernel)",
   "language": "python",
   "name": "python3"
  },
  "language_info": {
   "codemirror_mode": {
    "name": "ipython",
    "version": 3
   },
   "file_extension": ".py",
   "mimetype": "text/x-python",
   "name": "python",
   "nbconvert_exporter": "python",
   "pygments_lexer": "ipython3",
   "version": "3.9.13"
  }
 },
 "nbformat": 4,
 "nbformat_minor": 5
}
