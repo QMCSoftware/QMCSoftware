{
 "cells": [
  {
   "cell_type": "code",
   "execution_count": 3,
   "metadata": {},
   "outputs": [
    {
     "name": "stdout",
     "output_type": "stream",
     "text": [
      "0.1\n",
      "qmcpy\n"
     ]
    }
   ],
   "source": [
    "import qmcpy \n",
    "print(qmcpy.__version__)\n",
    "print(qmcpy.name)"
   ]
  },
  {
   "cell_type": "code",
   "execution_count": 4,
   "metadata": {},
   "outputs": [],
   "source": [
    "from qmcpy import integrate\n",
    "from qmcpy._util import summarize\n",
    "from qmcpy.integrand import Keister\n",
    "from qmcpy.discrete_distribution import Sobol\n",
    "from qmcpy.true_measure import Gaussian\n",
    "from qmcpy.stopping_criterion import CLTRep"
   ]
  },
  {
   "cell_type": "code",
   "execution_count": 5,
   "metadata": {},
   "outputs": [
    {
     "name": "stdout",
     "output_type": "stream",
     "text": [
      "Solution: 2.1684         \n",
      "~~~~~~~~~~~~~~~~~~~~~~~~~~~~~~~~~~~~~~~~~~~~~~~~~~\n",
      "Keister (Integrand Object)\n",
      "Sobol (Discrete Distribution Object)\n",
      "Gaussian (True Distribution Object)\n",
      "                dimension: 3 \n",
      "CLTRep (StoppingCriterion Object)\n",
      "                  abs_tol: 0.0100         \n",
      "                  rel_tol: 0.0000         \n",
      "                    n_max: 100000000\n",
      "                  inflate: 1.2000         \n",
      "                    alpha: 0.0100        \n",
      "MeanVarDataRep (Data Object)\n",
      "                        n: [1024]         \n",
      "                  n_total: 1024           \n",
      "               time_total: 0.0201         \n",
      "               confid_int: [2.1682135 2.1685147]\n",
      "\n"
     ]
    }
   ],
   "source": [
    "integrand = Keister()\n",
    "dim = 3\n",
    "true_measure = Gaussian(dimension=dim, variance=1/2)\n",
    "discrete_distrib = Sobol()\n",
    "stop = CLTRep(discrete_distrib, true_measure, abs_tol=.01)\n",
    "sol, data = integrate(integrand, true_measure, discrete_distrib, stop)\n",
    "data.summarize()"
   ]
  },
  {
   "cell_type": "markdown",
   "metadata": {},
   "source": [
    "# Efficient Import"
   ]
  },
  {
   "cell_type": "code",
   "execution_count": 6,
   "metadata": {},
   "outputs": [
    {
     "name": "stdout",
     "output_type": "stream",
     "text": [
      "0.1\n"
     ]
    }
   ],
   "source": [
    "import qmcpy as qp\n",
    "print(qp.__version__)"
   ]
  },
  {
   "cell_type": "code",
   "execution_count": 7,
   "metadata": {},
   "outputs": [
    {
     "name": "stdout",
     "output_type": "stream",
     "text": [
      "Solution: 2.1683         \n",
      "~~~~~~~~~~~~~~~~~~~~~~~~~~~~~~~~~~~~~~~~~~~~~~~~~~\n",
      "Keister (Integrand Object)\n",
      "Sobol (Discrete Distribution Object)\n",
      "Gaussian (True Distribution Object)\n",
      "                dimension: 3 \n",
      "CLTRep (StoppingCriterion Object)\n",
      "                  abs_tol: 0.0100         \n",
      "                  rel_tol: 0.0000         \n",
      "                    n_max: 100000000\n",
      "                  inflate: 1.2000         \n",
      "                    alpha: 0.0100        \n",
      "MeanVarDataRep (Data Object)\n",
      "                        n: [1024]         \n",
      "                  n_total: 1024           \n",
      "               time_total: 0.0195         \n",
      "               confid_int: [2.16821581 2.16847794]\n",
      "\n"
     ]
    }
   ],
   "source": [
    "integrand = qp.Keister()\n",
    "dim = 3\n",
    "true_measure = qp.Gaussian(dimension=dim, variance=1/2)\n",
    "discrete_distrib = qp.Sobol()\n",
    "stop = qp.CLTRep(discrete_distrib, true_measure, abs_tol=.01)\n",
    "sol, data = qp.integrate(integrand, true_measure, discrete_distrib, stop)\n",
    "data.summarize()"
   ]
  },
  {
   "cell_type": "markdown",
   "metadata": {},
   "source": [
    "# Efficient Import 2"
   ]
  },
  {
   "cell_type": "code",
   "execution_count": 8,
   "metadata": {},
   "outputs": [],
   "source": [
    "from qmcpy import *"
   ]
  },
  {
   "cell_type": "code",
   "execution_count": 9,
   "metadata": {},
   "outputs": [
    {
     "name": "stdout",
     "output_type": "stream",
     "text": [
      "Solution: 2.1688         \n",
      "~~~~~~~~~~~~~~~~~~~~~~~~~~~~~~~~~~~~~~~~~~~~~~~~~~\n",
      "Keister (Integrand Object)\n",
      "Sobol (Discrete Distribution Object)\n",
      "Gaussian (True Distribution Object)\n",
      "                dimension: 3 \n",
      "CLTRep (StoppingCriterion Object)\n",
      "                  abs_tol: 0.0100         \n",
      "                  rel_tol: 0.0000         \n",
      "                    n_max: 100000000\n",
      "                  inflate: 1.2000         \n",
      "                    alpha: 0.0100        \n",
      "MeanVarDataRep (Data Object)\n",
      "                        n: [1024]         \n",
      "                  n_total: 1024           \n",
      "               time_total: 0.0194         \n",
      "               confid_int: [2.16866214 2.16896863]\n",
      "\n"
     ]
    }
   ],
   "source": [
    "integrand = Keister()\n",
    "dim = 3\n",
    "true_measure = Gaussian(dimension=dim, variance=1/2)\n",
    "discrete_distrib = Sobol()\n",
    "stop = CLTRep(discrete_distrib, true_measure, abs_tol=.01)\n",
    "sol, data = integrate(integrand, true_measure, discrete_distrib, stop)\n",
    "data.summarize()"
   ]
  }
 ],
 "metadata": {
  "kernelspec": {
   "display_name": "pyqmc",
   "language": "python",
   "name": "pyqmc"
  },
  "language_info": {
   "codemirror_mode": {
    "name": "ipython",
    "version": 3
   },
   "file_extension": ".py",
   "mimetype": "text/x-python",
   "name": "python",
   "nbconvert_exporter": "python",
   "pygments_lexer": "ipython3",
   "version": "3.7.4"
  }
 },
 "nbformat": 4,
 "nbformat_minor": 1
}
