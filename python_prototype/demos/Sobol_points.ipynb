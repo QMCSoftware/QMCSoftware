{
 "cells": [
  {
   "cell_type": "markdown",
   "metadata": {},
   "source": [
    "QMCPy's Sobol generator is based on Magic Point Shop (MPS)'s. In this demo, we are going to illustrate the relative speed of these two generators.  We  start with importing Python libraries."
   ]
  },
  {
   "cell_type": "code",
   "execution_count": 1,
   "metadata": {},
   "outputs": [],
   "source": [
    "import matplotlib.pyplot as plt\n",
    "import numpy.testing as npt\n",
    "from numpy import zeros"
   ]
  },
  {
   "cell_type": "markdown",
   "metadata": {},
   "source": [
    "Next, we import QMCPy modules and also two functions gen_mps_sobol_points and gen_qmcpy_sobol_points that would return same Sobol points without scrambling from MPS and QMCPy respectively."
   ]
  },
  {
   "cell_type": "code",
   "execution_count": 2,
   "metadata": {},
   "outputs": [],
   "source": [
    "from qmcpy import * \n",
    "from workouts.wo_sequences import gen_mps_sobol_points, gen_qmcpy_sobol_points"
   ]
  },
  {
   "cell_type": "markdown",
   "metadata": {},
   "source": [
    "For easy reference, we include the definitions of the generating functions here:"
   ]
  },
  {
   "cell_type": "code",
   "execution_count": 3,
   "metadata": {},
   "outputs": [
    {
     "name": "stdout",
     "output_type": "stream",
     "text": [
      "def gen_mps_sobol_points(n, d, Cs = \"./qmcpy/third_party/magic_point_shop/sobol_Cs.col\"):\n",
      "    t0 = time()\n",
      "    m = math.log(n, 2)\n",
      "    sobol_rng = digitalseq_b2g(Cs=Cs, m=m, s=d)\n",
      "    x = zeros((n, d), dtype=int64)\n",
      "    for i in range(n):\n",
      "        next(sobol_rng)\n",
      "        x[i, :] = sobol_rng.cur\n",
      "    t1 = time() - t0\n",
      "    print('\\nMPS Sobol Time: %.3f' % t1)\n",
      "    return x, t1\n",
      "\n",
      "def gen_qmcpy_sobol_points(n, d):\n",
      "    t0 = time()\n",
      "    sobol = Sobol()\n",
      "    x = sobol.gen_dd_samples(replications=1, n_samples=n, dimensions=d,\n",
      "                             returnDeepCopy=returnDeepCopy, scramble=False)\n",
      "    t1 = time() - t0\n",
      "    print('\\nQMCPy Sobol Time: %.3f' % t1)\n",
      "    return x, t1\n",
      "\n"
     ]
    }
   ],
   "source": [
    "import inspect\n",
    "print(inspect.getsource(gen_mps_sobol_points))\n",
    "print(inspect.getsource(gen_qmcpy_sobol_points))"
   ]
  },
  {
   "cell_type": "markdown",
   "metadata": {},
   "source": [
    "Let's say we want to generate $n=2^m$ sampling points for an integration domain with dimension $d$:"
   ]
  },
  {
   "cell_type": "code",
   "execution_count": 4,
   "metadata": {},
   "outputs": [],
   "source": [
    "m = 5\n",
    "n = 2 ** m\n",
    "d = 4"
   ]
  },
  {
   "cell_type": "markdown",
   "metadata": {},
   "source": [
    "We can simply invoke the MPS and QMCPy Sobol generating functions as follows:"
   ]
  },
  {
   "cell_type": "code",
   "execution_count": 5,
   "metadata": {},
   "outputs": [
    {
     "name": "stdout",
     "output_type": "stream",
     "text": [
      "\n",
      "MPS Sobol Time: 0.824\n",
      "[[         0          0          0          0]\n",
      " [2147483648 2147483648 2147483648 2147483648]\n",
      " [3221225472 1073741824 1073741824 1073741824]\n",
      " ...\n",
      " [3355443200 3355443200 2818572288 3087007744]\n",
      " [2281701376  134217728 1744830464 2013265920]\n",
      " [ 134217728 2281701376 3892314112 4160749568]]\n"
     ]
    }
   ],
   "source": [
    "Cs = \"../qmcpy/third_party/magic_point_shop/sobol_Cs.col\"\n",
    "mps_sobol_sample, _ = gen_mps_sobol_points(n, d, Cs)\n",
    "print(mps_sobol_sample)"
   ]
  },
  {
   "cell_type": "code",
   "execution_count": 6,
   "metadata": {},
   "outputs": [
    {
     "name": "stdout",
     "output_type": "stream",
     "text": [
      "\n",
      "QMCPy Sobol Time: 0.008\n",
      "[[         0          0          0          0]\n",
      " [2147483648 2147483648 2147483648 2147483648]\n",
      " [3221225472 1073741824 1073741824 1073741824]\n",
      " ...\n",
      " [3355443200 3355443200 2818572288 3087007744]\n",
      " [2281701376  134217728 1744830464 2013265920]\n",
      " [ 134217728 2281701376 3892314112 4160749568]]\n"
     ]
    }
   ],
   "source": [
    "qmcpy_sobol_sample, _ = gen_qmcpy_sobol_points(n, d)\n",
    "print(qmcpy_sobol_sample)"
   ]
  },
  {
   "cell_type": "markdown",
   "metadata": {},
   "source": [
    "To ensure the two arrays of sampling points are the same, we could use the following testing utility. If it does not throw an eerror, it means they are equal."
   ]
  },
  {
   "cell_type": "code",
   "execution_count": 7,
   "metadata": {},
   "outputs": [],
   "source": [
    "npt.assert_array_equal(mps_sobol_sample, qmcpy_sobol_sample) "
   ]
  },
  {
   "cell_type": "markdown",
   "metadata": {},
   "source": [
    "To see the relative speed of the two libraries for generating Sobol points as we increase number of sampling points, we could use the following code to collect the time statistics:"
   ]
  },
  {
   "cell_type": "code",
   "execution_count": 8,
   "metadata": {},
   "outputs": [],
   "source": [
    "from IPython.utils import io\n",
    "with io.capture_output() as captured: # to suppress output of this notebook cell\n",
    "    d = 4\n",
    "    m_values = list(range(1,22,2))\n",
    "    sampling_points = [2**m for m in m_values]\n",
    "    mps_time = [0 for m in m_values]\n",
    "    qmcpy_time = [0 for m in m_values]\n",
    "    for i in range(len(m_values)):\n",
    "        m = m_values[i]\n",
    "        n = sampling_points[i]\n",
    "        mps_sobol_sample, mps_time[i] = gen_mps_sobol_points(n, d, Cs)\n",
    "        qmcpy_sobol_sample, qmcpy_time[i] = gen_qmcpy_sobol_points(n, d)\n",
    "        npt.assert_array_equal(mps_sobol_sample, qmcpy_sobol_sample) "
   ]
  },
  {
   "cell_type": "markdown",
   "metadata": {},
   "source": [
    "Lastly, we compute the speedup factors and plot a log-log graph below."
   ]
  },
  {
   "cell_type": "code",
   "execution_count": 9,
   "metadata": {},
   "outputs": [
    {
     "data": {
      "image/png": "[encoded data removed]",
      "text/plain": [
       "<Figure size 432x288 with 1 Axes>"
      ]
     },
     "metadata": {
      "needs_background": "light"
     },
     "output_type": "display_data"
    }
   ],
   "source": [
    "speedup = [t1 / t2 for t1, t2 in zip(mps_time, qmcpy_time)]\n",
    "plt.loglog(sampling_points, speedup)\n",
    "plt.title(\"Speed up of QMCPy's to MPS' Sobol generators %.1f -- %.1f\" % (min(speedup), max(speedup)))\n",
    "plt.xlabel(\"Number of sampling points\")\n",
    "plt.ylabel(\"Speed up factors\")\n",
    "plt.savefig('../outputs/comparison_tests/mps_vs_qmcpy_sobol.png', dpi=200)"
   ]
  }
 ],
 "metadata": {
  "kernelspec": {
   "display_name": "pyqmc",
   "language": "python",
   "name": "pyqmc"
  },
  "language_info": {
   "codemirror_mode": {
    "name": "ipython",
    "version": 3
   },
   "file_extension": ".py",
   "mimetype": "text/x-python",
   "name": "python",
   "nbconvert_exporter": "python",
   "pygments_lexer": "ipython3",
   "version": "3.7.4"
  }
 },
 "nbformat": 4,
 "nbformat_minor": 2
}
