{
 "cells": [
  {
   "cell_type": "markdown",
   "metadata": {},
   "source": [
    "# QMCPy for Lebesgue Integration\n",
    "This notebook will give examples of how to use QMCPy for integration problems that not are defined in terms of a standard measure. i.e. Uniform or Gaussian. "
   ]
  },
  {
   "cell_type": "code",
   "execution_count": 1,
   "metadata": {},
   "outputs": [],
   "source": [
    "from qmcpy import *\n",
    "from numpy import *"
   ]
  },
  {
   "cell_type": "markdown",
   "metadata": {},
   "source": [
    "## Sample Problem 1\n",
    "\n",
    "$y  = \\int_{[0,2]} x^2 dx, \\:\\: \\mbox{Lebesgue Measure}$\n",
    "\n",
    "$\\phantom{y} = 2\\int_{[0,2]} \\frac{x^2}{2} dx, \\:\\: \\mbox{Uniform Measure}$"
   ]
  },
  {
   "cell_type": "code",
   "execution_count": 2,
   "metadata": {},
   "outputs": [],
   "source": [
    "abs_tol = .01\n",
    "dim = 1\n",
    "a = array([[0]])\n",
    "b = array([[2]])\n",
    "true_value = 8/3"
   ]
  },
  {
   "cell_type": "code",
   "execution_count": 3,
   "metadata": {},
   "outputs": [
    {
     "name": "stdout",
     "output_type": "stream",
     "text": [
      "y = 2.670\n",
      "Within tolerance: True\n"
     ]
    }
   ],
   "source": [
    "# Lebesgue Measure\n",
    "integrand = QuickConstruct(dim, custom_fun = lambda x: x**2)\n",
    "discrete_distrib = IIDStdUniform()\n",
    "true_measure = Lebesgue(dim, lower_bound=a, upper_bound=b)\n",
    "stopping_criterion = CLT(discrete_distrib, true_measure, abs_tol=abs_tol)\n",
    "sol1, data1 = integrate(integrand, true_measure, discrete_distrib, stopping_criterion)\n",
    "print('y = %.3f'%sol1)\n",
    "print('Within tolerance:',abs((sol1-true_value))<abs_tol)"
   ]
  },
  {
   "cell_type": "code",
   "execution_count": 4,
   "metadata": {},
   "outputs": [
    {
     "name": "stdout",
     "output_type": "stream",
     "text": [
      "y = 2.671\n",
      "Within tolerance: True\n"
     ]
    }
   ],
   "source": [
    "# Uniform Measure\n",
    "integrand = QuickConstruct(dim, custom_fun = lambda x: 2*(x**2))\n",
    "discrete_distrib = IIDStdUniform()\n",
    "true_measure = Uniform(dim, lower_bound=a, upper_bound=b)\n",
    "stopping_criterion = CLT(discrete_distrib, true_measure, abs_tol=abs_tol)\n",
    "sol2, data2 = integrate(integrand, true_measure, discrete_distrib, stopping_criterion)\n",
    "print('y = %.3f'%sol2)\n",
    "print('Within tolerance:',abs((sol2-true_value))<abs_tol)"
   ]
  },
  {
   "cell_type": "markdown",
   "metadata": {},
   "source": [
    "## Sample Problem 2\n",
    "\n",
    "$y = \\int_{[a,b]^d} ||x||_2^2 dx, \\:\\: \\mbox{Lebesgue Measure}$\n",
    "\n",
    "$\\phantom{y} = \\Pi_{i=1}^d (b_i-a_i)\\int_{[a,b]^d} ||x||_2^2 \\; [ \\Pi_{i=1}^d (b_i-a_i)]^{-1} dx, \\:\\: \\mbox{Uniform Measure}$"
   ]
  },
  {
   "cell_type": "code",
   "execution_count": 5,
   "metadata": {},
   "outputs": [
    {
     "name": "stdout",
     "output_type": "stream",
     "text": [
      "Answer = 23.33333\n"
     ]
    }
   ],
   "source": [
    "abs_tol = .001\n",
    "dim = [2]\n",
    "a = array([[1,2]])\n",
    "b = array([[2,4]])\n",
    "true_value = ((a[0,0]**3-b[0,0]**3)*(a[0,1]-b[0,1])+(a[0,0]-b[0,0])*(a[0,1]**3-b[0,1]**3))/3\n",
    "print('Answer = %.5f'%true_value)"
   ]
  },
  {
   "cell_type": "code",
   "execution_count": 6,
   "metadata": {},
   "outputs": [
    {
     "name": "stdout",
     "output_type": "stream",
     "text": [
      "y = 23.33327\n",
      "Within tolerance: True\n"
     ]
    }
   ],
   "source": [
    "# Lebesgue Measure\n",
    "integrand = QuickConstruct(dim, custom_fun = lambda x: (x**2).sum(1))\n",
    "discrete_distrib = Sobol()\n",
    "true_measure = Lebesgue(dim, lower_bound=a, upper_bound=b)\n",
    "stopping_criterion = CLTRep(discrete_distrib, true_measure, abs_tol=abs_tol)\n",
    "sol1, data1 = integrate(integrand, true_measure, discrete_distrib, stopping_criterion)\n",
    "print('y = %.5f'%sol1)\n",
    "print('Within tolerance:',abs((sol1-true_value))<abs_tol)"
   ]
  },
  {
   "cell_type": "code",
   "execution_count": 7,
   "metadata": {},
   "outputs": [
    {
     "name": "stdout",
     "output_type": "stream",
     "text": [
      "y = 23.33336\n",
      "Within tolerance: True\n"
     ]
    }
   ],
   "source": [
    "# Uniform Measure\n",
    "integrand = QuickConstruct(dim, custom_fun = lambda x: (b-a).prod()*(x**2).sum(1))\n",
    "discrete_distrib = Sobol()\n",
    "true_measure = Uniform(dim, lower_bound=a, upper_bound=b)\n",
    "stopping_criterion = CLTRep(discrete_distrib, true_measure, abs_tol=abs_tol)\n",
    "sol2, data2 = integrate(integrand, true_measure, discrete_distrib, stopping_criterion)\n",
    "print('y = %.5f'%sol2)\n",
    "print('Within tolerance:',abs((sol1-true_value))<abs_tol)"
   ]
  },
  {
   "cell_type": "markdown",
   "metadata": {},
   "source": [
    "## Sample Problem 3\n",
    "Integral that cannot be done in terms of any standard mathematical functions [(WOLFRAM)](https://reference.wolfram.com/language/tutorial/IntegralsThatCanAndCannotBeDone.html)<br>\n",
    "$$y = \\int_{[a,b]} \\frac{\\sin{x}}{\\log{x}} dx, \\:\\: \\mbox{Lebesgue Measure}$$\n",
    "\n",
    "Mathematica Code: `Integrate[Sin[x]/Log[x], {x,a,b}]`\n"
   ]
  },
  {
   "cell_type": "code",
   "execution_count": 8,
   "metadata": {},
   "outputs": [],
   "source": [
    "abs_tol = .0001\n",
    "dim = [1]\n",
    "a = array([[3]])\n",
    "b = array([[5]])\n",
    "true_value = -0.87961 "
   ]
  },
  {
   "cell_type": "code",
   "execution_count": 9,
   "metadata": {},
   "outputs": [
    {
     "name": "stdout",
     "output_type": "stream",
     "text": [
      "y = -0.880\n",
      "Within tolerance: True\n"
     ]
    }
   ],
   "source": [
    "# Lebesgue Measure\n",
    "integrand = QuickConstruct(dim, custom_fun = lambda x: sin(x)/log(x))\n",
    "discrete_distrib = Lattice()\n",
    "true_measure = Lebesgue(dim, lower_bound=a, upper_bound=b)\n",
    "stopping_criterion = CLTRep(discrete_distrib, true_measure, abs_tol=abs_tol)\n",
    "sol, data1 = integrate(integrand, true_measure, discrete_distrib, stopping_criterion)\n",
    "print('y = %.3f'%sol)\n",
    "print('Within tolerance:',abs((sol-true_value))<abs_tol)"
   ]
  }
 ],
 "metadata": {
  "kernelspec": {
   "display_name": "Python 3",
   "language": "python",
   "name": "python3"
  },
  "language_info": {
   "codemirror_mode": {
    "name": "ipython",
    "version": 3
   },
   "file_extension": ".py",
   "mimetype": "text/x-python",
   "name": "python",
   "nbconvert_exporter": "python",
   "pygments_lexer": "ipython3",
   "version": "3.6.8"
  }
 },
 "nbformat": 4,
 "nbformat_minor": 2
}
