{
 "cells": [
  {
   "cell_type": "markdown",
   "metadata": {},
   "source": [
    "Suppose we want to create the an integrand in QMCPy for evaluating the following integral: \n",
    "    $$ \\int_{[0,1]^d} \\|x\\|_2^{\\|x\\|_2^{1/2}} dx,$$\n",
    "where $[0,1]^d$ is the unit hypercube in $\\mathbb{R}^d$. The integrand is defined everywhere except at $x=0$ and hence the definite integal is also defined.\n",
    "    \n",
    "    \n",
    "The key in defining a Python function of an integrand in the QMCPy framework is that not only  it should be able to take one point $x \\in \\mathbb{R}^d$ and return a real value, but also that it would be able to take a set of $n$ sampling points as rows in a Numpy array of size $n \\times d$ and return an array with $n$ values evaluated at each sampling point. The following examples illustrate this point."
   ]
  },
  {
   "cell_type": "code",
   "execution_count": 1,
   "metadata": {},
   "outputs": [],
   "source": [
    "from qmcpy import *\n",
    "from numpy.linalg import norm as norm\n",
    "from numpy import sqrt, array"
   ]
  },
  {
   "cell_type": "markdown",
   "metadata": {},
   "source": [
    "Our first attempt maybe to create the integrand as a Python function as follows:"
   ]
  },
  {
   "cell_type": "code",
   "execution_count": 2,
   "metadata": {},
   "outputs": [],
   "source": [
    "def f(x): return norm(x) ** sqrt(norm(x))"
   ]
  },
  {
   "cell_type": "markdown",
   "metadata": {},
   "source": [
    "It looks reasonable except that maybe the Numpy function norm is executed twice. It's okay for now. Let us quickly test if the function behaves as expected at a point value:"
   ]
  },
  {
   "cell_type": "code",
   "execution_count": 3,
   "metadata": {},
   "outputs": [
    {
     "data": {
      "text/plain": [
       "0.6309573444801932"
      ]
     },
     "execution_count": 3,
     "metadata": {},
     "output_type": "execute_result"
    }
   ],
   "source": [
    "x = 0.01\n",
    "f(x)"
   ]
  },
  {
   "cell_type": "markdown",
   "metadata": {},
   "source": [
    "What about an array that represents $n=3$ sampling points in a two-dimensional domain, i.e., $d=2$? "
   ]
  },
  {
   "cell_type": "code",
   "execution_count": 4,
   "metadata": {},
   "outputs": [],
   "source": [
    "x = array([[1, 0], \n",
    "           [0, 0.01],\n",
    "           [0.04, 0.04]])"
   ]
  },
  {
   "cell_type": "code",
   "execution_count": 5,
   "metadata": {},
   "outputs": [
    {
     "data": {
      "text/plain": [
       "1.001650000560437"
      ]
     },
     "execution_count": 5,
     "metadata": {},
     "output_type": "execute_result"
    }
   ],
   "source": [
    "f(x)"
   ]
  },
  {
   "cell_type": "markdown",
   "metadata": {},
   "source": [
    "Now, the function should have returned $n=3$ real values that correponding to each of the sampling points. Let's debug our Python function."
   ]
  },
  {
   "cell_type": "code",
   "execution_count": 6,
   "metadata": {
    "scrolled": true
   },
   "outputs": [
    {
     "data": {
      "text/plain": [
       "1.0016486409914407"
      ]
     },
     "execution_count": 6,
     "metadata": {},
     "output_type": "execute_result"
    }
   ],
   "source": [
    "norm(x)"
   ]
  },
  {
   "cell_type": "markdown",
   "metadata": {},
   "source": [
    "Numpy's norm(x) is obviously a matrix norm, but we want it to be vector 2-norm that acts on each row of x. To that end, let's add an axis argument to the function:"
   ]
  },
  {
   "cell_type": "code",
   "execution_count": 7,
   "metadata": {},
   "outputs": [
    {
     "data": {
      "text/plain": [
       "array([1.        , 0.01      , 0.05656854])"
      ]
     },
     "execution_count": 7,
     "metadata": {},
     "output_type": "execute_result"
    }
   ],
   "source": [
    "norm(x, axis = 1)"
   ]
  },
  {
   "cell_type": "markdown",
   "metadata": {},
   "source": [
    "Now it's working! Let's make sure that the sqrt function is acting on each element of the vector norm results:"
   ]
  },
  {
   "cell_type": "code",
   "execution_count": 8,
   "metadata": {},
   "outputs": [
    {
     "data": {
      "text/plain": [
       "array([1.        , 0.1       , 0.23784142])"
      ]
     },
     "execution_count": 8,
     "metadata": {},
     "output_type": "execute_result"
    }
   ],
   "source": [
    "sqrt(norm(x, axis = 1))"
   ]
  },
  {
   "cell_type": "markdown",
   "metadata": {},
   "source": [
    "It is. Putting everything together, we have:"
   ]
  },
  {
   "cell_type": "code",
   "execution_count": 9,
   "metadata": {
    "scrolled": true
   },
   "outputs": [
    {
     "data": {
      "text/plain": [
       "array([1.        , 0.63095734, 0.50502242])"
      ]
     },
     "execution_count": 9,
     "metadata": {},
     "output_type": "execute_result"
    }
   ],
   "source": [
    "norm(x, axis = 1) ** sqrt(norm(x, axis = 1))"
   ]
  },
  {
   "cell_type": "markdown",
   "metadata": {},
   "source": [
    "We have got our proper function definition now."
   ]
  },
  {
   "cell_type": "code",
   "execution_count": 10,
   "metadata": {},
   "outputs": [],
   "source": [
    "def f(x): x_norms = norm(x, axis = 1); return x_norms ** sqrt(x_norms)"
   ]
  },
  {
   "cell_type": "markdown",
   "metadata": {},
   "source": [
    "We can now create an integrand instance with our QuickConstruct class in QMCPy and then invoke QMCPy's integrate function:"
   ]
  },
  {
   "cell_type": "code",
   "execution_count": 11,
   "metadata": {
    "scrolled": true
   },
   "outputs": [
    {
     "name": "stdout",
     "output_type": "stream",
     "text": [
      "Solution: 0.6563         \n",
      "~~~~~~~~~~~~~~~~~~~~~~~~~~~~~~~~~~~~~~~~~~~~~~~~~~\n",
      "QuickConstruct (Integrand Object)\n",
      "                dimension: 1\n",
      "               custom_fun: def f(x): x_norms = norm(x, axis = 1); return x_norms ** sqrt(x_norms)\n",
      "IIDStdUniform (Discrete Distribution Object)\n",
      "Uniform (True Distribution Object)\n",
      "                dimension: 1 \n",
      "CLT (StoppingCriterion Object)\n",
      "                  abs_tol: 0.0100         \n",
      "                  rel_tol: 0.0000         \n",
      "                    n_max: 100000000\n",
      "                  inflate: 1.2000         \n",
      "                    alpha: 0.0100        \n",
      "MeanVarData (Data Object)\n",
      "                        n: [3230.]        \n",
      "                  n_total: 4254           \n",
      "               time_total: 0.0015         \n",
      "               confid_int: [0.64617159 0.66637741]\n",
      "\n"
     ]
    }
   ],
   "source": [
    "integrand = QuickConstruct(custom_fun=f, dimension=1)\n",
    "sol, data = integrate(integrand)\n",
    "data.summarize()"
   ]
  },
  {
   "cell_type": "markdown",
   "metadata": {},
   "source": [
    "For our integral, we know the true value. Let's check if QMCPy's solution is accurate enough:"
   ]
  },
  {
   "cell_type": "code",
   "execution_count": 12,
   "metadata": {},
   "outputs": [
    {
     "name": "stdout",
     "output_type": "stream",
     "text": [
      "True\n"
     ]
    }
   ],
   "source": [
    "true_sol = 0.658582  # In WolframAlpha: Integral[x**Sqrt[x], {x,0,1}]\n",
    "abs_tol = data.stopping_criterion.abs_tol\n",
    "qmcpy_error = abs(true_sol - sol)\n",
    "print(qmcpy_error < abs_tol)"
   ]
  },
  {
   "cell_type": "markdown",
   "metadata": {},
   "source": [
    "It's good. Shall we test the function with $d=2$ by simply changing the input parameter value of dimension for QuickConstruct?"
   ]
  },
  {
   "cell_type": "code",
   "execution_count": 13,
   "metadata": {
    "scrolled": true
   },
   "outputs": [
    {
     "name": "stdout",
     "output_type": "stream",
     "text": [
      "Solution: 0.8328         \n",
      "~~~~~~~~~~~~~~~~~~~~~~~~~~~~~~~~~~~~~~~~~~~~~~~~~~\n",
      "QuickConstruct (Integrand Object)\n",
      "                dimension: 2\n",
      "               custom_fun: def f(x): x_norms = norm(x, axis = 1); return x_norms ** sqrt(x_norms)\n",
      "IIDStdUniform (Discrete Distribution Object)\n",
      "Uniform (True Distribution Object)\n",
      "                dimension: 2 \n",
      "CLT (StoppingCriterion Object)\n",
      "                  abs_tol: 0.0100         \n",
      "                  rel_tol: 0.0000         \n",
      "                    n_max: 100000000\n",
      "                  inflate: 1.2000         \n",
      "                    alpha: 0.0100        \n",
      "MeanVarData (Data Object)\n",
      "                        n: [5719.]        \n",
      "                  n_total: 6743           \n",
      "               time_total: 0.0016         \n",
      "               confid_int: [0.82286733 0.8426921 ]\n",
      "\n"
     ]
    }
   ],
   "source": [
    "integrand2 = QuickConstruct(custom_fun=f, dimension=2)\n",
    "sol2, data2 = integrate(integrand2)\n",
    "data2.summarize()"
   ]
  },
  {
   "cell_type": "markdown",
   "metadata": {},
   "source": [
    "Once again, we could test for accuracy of QMCPy with respect to the true value:"
   ]
  },
  {
   "cell_type": "code",
   "execution_count": 14,
   "metadata": {},
   "outputs": [
    {
     "name": "stdout",
     "output_type": "stream",
     "text": [
      "True\n"
     ]
    }
   ],
   "source": [
    "true_sol2 = 0.827606  # In WolframAlpha: Integral[Sqrt[x**2+y**2])**Sqrt[Sqrt[x**2+y**2]], {x,0,1}, {y,0,1}]\n",
    "abs_tol2 = data2.stopping_criterion.abs_tol\n",
    "qmcpy_error2 = abs(true_sol2 - sol2)\n",
    "print(qmcpy_error2 < abs_tol2)"
   ]
  }
 ],
 "metadata": {
  "kernelspec": {
   "display_name": "pyqmc",
   "language": "python",
   "name": "pyqmc"
  },
  "language_info": {
   "codemirror_mode": {
    "name": "ipython",
    "version": 3
   },
   "file_extension": ".py",
   "mimetype": "text/x-python",
   "name": "python",
   "nbconvert_exporter": "python",
   "pygments_lexer": "ipython3",
   "version": "3.7.4"
  }
 },
 "nbformat": 4,
 "nbformat_minor": 1
}
