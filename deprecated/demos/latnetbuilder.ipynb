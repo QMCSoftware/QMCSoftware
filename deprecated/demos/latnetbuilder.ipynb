{
 "cells": [
  {
   "cell_type": "markdown",
   "metadata": {},
   "source": [
    "# LatNetBuilder\n",
    "\n",
    "This demo shows how to use generating vectors and matrices from [latnetbuilder](https://github.com/umontreal-simul/latnetbuilder) in QMCPy."
   ]
  },
  {
   "cell_type": "code",
   "execution_count": 1,
   "metadata": {},
   "outputs": [],
   "source": [
    "import latnetbuilder\n",
    "from qmcpy import Lattice, DigitalNetB2\n",
    "from qmcpy.util import latnetbuilder_linker\n",
    "import numpy\n",
    "numpy.set_printoptions(threshold=2**10)\n",
    "import os"
   ]
  },
  {
   "cell_type": "code",
   "execution_count": 2,
   "metadata": {},
   "outputs": [],
   "source": [
    "# make directory to store generating vectors + matricies from latnetbuilder\n",
    "try:\n",
    "    os.mkdir('./lnb')\n",
    "    os.mkdir('./lnb/lnb_qmcpy_linked')\n",
    "except: pass"
   ]
  },
  {
   "cell_type": "markdown",
   "metadata": {},
   "source": [
    "## Ordinary Lattice"
   ]
  },
  {
   "cell_type": "code",
   "execution_count": 3,
   "metadata": {},
   "outputs": [
    {
     "name": "stdout",
     "output_type": "stream",
     "text": [
      "Result:\n",
      "Number of points: 8\n",
      "Generating Vector: [1, 3, 1, 1, 1]\n",
      "Merit value: 178.882 \n",
      "CPU Time: 0.000537489 seconds\n"
     ]
    }
   ],
   "source": [
    "# use latnetbuilder to find an ordinary lattice generating vector \n",
    "search = latnetbuilder.SearchLattice()\n",
    "search.modulus = '2^3'\n",
    "search.construction = 'ordinary'\n",
    "search.dimension = 5\n",
    "search.exploration_method = 'fast-CBC'\n",
    "search.figure_of_merit = 'CU:P2'\n",
    "search.weights = ['product:1']\n",
    "search.execute(output_folder='./lnb/lnb_ordinary_lattice')"
   ]
  },
  {
   "cell_type": "code",
   "execution_count": 4,
   "metadata": {},
   "outputs": [
    {
     "data": {
      "text/plain": [
       "array([[0.   , 0.   , 0.   , 0.   , 0.   ],\n",
       "       [0.125, 0.375, 0.125, 0.125, 0.125],\n",
       "       [0.25 , 0.75 , 0.25 , 0.25 , 0.25 ],\n",
       "       [0.375, 0.125, 0.375, 0.375, 0.375],\n",
       "       [0.5  , 0.5  , 0.5  , 0.5  , 0.5  ],\n",
       "       [0.625, 0.875, 0.625, 0.625, 0.625],\n",
       "       [0.75 , 0.25 , 0.75 , 0.75 , 0.75 ],\n",
       "       [0.875, 0.625, 0.875, 0.875, 0.875]])"
      ]
     },
     "execution_count": 4,
     "metadata": {},
     "output_type": "execute_result"
    }
   ],
   "source": [
    "# get points using latnetbuilder\n",
    "x_lnb = search.points()\n",
    "x_lnb"
   ]
  },
  {
   "cell_type": "code",
   "execution_count": 5,
   "metadata": {},
   "outputs": [
    {
     "data": {
      "text/plain": [
       "'./lnb/lnb_qmcpy_linked/lnb_ordinary_lattice.5.3.npy'"
      ]
     },
     "execution_count": 5,
     "metadata": {},
     "output_type": "execute_result"
    }
   ],
   "source": [
    "# store generating vector in QMCPy format\n",
    "lnb_ol_p = latnetbuilder_linker(\n",
    "    lnb_dir = './lnb/lnb_ordinary_lattice',\n",
    "    out_dir = './lnb/lnb_qmcpy_linked',\n",
    "    fout_prefix = 'lnb_ordinary_lattice')\n",
    "lnb_ol_p # path to generating vector compatible with QMCPy"
   ]
  },
  {
   "cell_type": "code",
   "execution_count": 6,
   "metadata": {},
   "outputs": [
    {
     "data": {
      "text/plain": [
       "array([[0.   , 0.   , 0.   , 0.   , 0.   ],\n",
       "       [0.125, 0.375, 0.125, 0.125, 0.125],\n",
       "       [0.25 , 0.75 , 0.25 , 0.25 , 0.25 ],\n",
       "       [0.375, 0.125, 0.375, 0.375, 0.375],\n",
       "       [0.5  , 0.5  , 0.5  , 0.5  , 0.5  ],\n",
       "       [0.625, 0.875, 0.625, 0.625, 0.625],\n",
       "       [0.75 , 0.25 , 0.75 , 0.75 , 0.75 ],\n",
       "       [0.875, 0.625, 0.875, 0.875, 0.875]])"
      ]
     },
     "execution_count": 6,
     "metadata": {},
     "output_type": "execute_result"
    }
   ],
   "source": [
    "# use the custom generating vector in QMCPy\n",
    "lnb_lattice = Lattice(\n",
    "    dimension = 5,\n",
    "    randomize = False,\n",
    "    order = 'linear',\n",
    "    generating_vector = lnb_ol_p) # plug in the path\n",
    "x_qmcpy = lnb_lattice.gen_samples(\n",
    "    n_min = 0,\n",
    "    n_max = 8, \n",
    "    warn = False)\n",
    "x_qmcpy"
   ]
  },
  {
   "cell_type": "code",
   "execution_count": 7,
   "metadata": {},
   "outputs": [],
   "source": [
    "# make sure the two matricies match\n",
    "if not (x_lnb==x_qmcpy).all():\n",
    "    raise Exception(\"Ordinary Lattice from latnetbuilder does not match QMCPy\")"
   ]
  },
  {
   "cell_type": "markdown",
   "metadata": {},
   "source": [
    "## Polynomial Lattice"
   ]
  },
  {
   "cell_type": "code",
   "execution_count": 8,
   "metadata": {},
   "outputs": [
    {
     "name": "stdout",
     "output_type": "stream",
     "text": [
      "Result:\n",
      "Number of points: 8\n",
      "Modulus: [1, 1, 0, 1]\n",
      "Generating Vector: [[1], [0, 0, 1], [0, 1], [1], [1]]\n",
      "Merit value: 29.375 \n",
      "CPU Time: 0.000964637 seconds\n"
     ]
    }
   ],
   "source": [
    "search = latnetbuilder.SearchLattice()\n",
    "search.modulus = '2^3'\n",
    "search.construction = 'polynomial'\n",
    "search.dimension = 5\n",
    "search.exploration_method = 'fast-CBC'\n",
    "search.figure_of_merit = 'CU:P2'\n",
    "search.weights = ['product:1']\n",
    "search.execute(output_folder='./lnb/lnb_polynomial_lattice')"
   ]
  },
  {
   "cell_type": "code",
   "execution_count": 9,
   "metadata": {},
   "outputs": [
    {
     "data": {
      "text/plain": [
       "array([[0.   , 0.   , 0.   , 0.   , 0.   ],\n",
       "       [0.125, 0.625, 0.25 , 0.125, 0.125],\n",
       "       [0.25 , 0.375, 0.625, 0.25 , 0.25 ],\n",
       "       [0.375, 0.75 , 0.875, 0.375, 0.375],\n",
       "       [0.625, 0.875, 0.375, 0.625, 0.625],\n",
       "       [0.5  , 0.25 , 0.125, 0.5  , 0.5  ],\n",
       "       [0.875, 0.5  , 0.75 , 0.875, 0.875],\n",
       "       [0.75 , 0.125, 0.5  , 0.75 , 0.75 ]])"
      ]
     },
     "execution_count": 9,
     "metadata": {},
     "output_type": "execute_result"
    }
   ],
   "source": [
    "x_lnb = search.points()\n",
    "x_lnb"
   ]
  },
  {
   "cell_type": "code",
   "execution_count": 10,
   "metadata": {},
   "outputs": [
    {
     "data": {
      "text/plain": [
       "'./lnb/lnb_qmcpy_linked/lnb_polynomial_lattice.5.3.3.msb.npy'"
      ]
     },
     "execution_count": 10,
     "metadata": {},
     "output_type": "execute_result"
    }
   ],
   "source": [
    "lnb_pl_p = latnetbuilder_linker(\n",
    "    lnb_dir = './lnb/lnb_polynomial_lattice',\n",
    "    out_dir = './lnb/lnb_qmcpy_linked',\n",
    "    fout_prefix = 'lnb_polynomial_lattice')\n",
    "lnb_pl_p"
   ]
  },
  {
   "cell_type": "code",
   "execution_count": 11,
   "metadata": {},
   "outputs": [
    {
     "data": {
      "text/plain": [
       "array([[0.   , 0.   , 0.   , 0.   , 0.   ],\n",
       "       [0.125, 0.625, 0.25 , 0.125, 0.125],\n",
       "       [0.25 , 0.375, 0.625, 0.25 , 0.25 ],\n",
       "       [0.375, 0.75 , 0.875, 0.375, 0.375],\n",
       "       [0.625, 0.875, 0.375, 0.625, 0.625],\n",
       "       [0.5  , 0.25 , 0.125, 0.5  , 0.5  ],\n",
       "       [0.875, 0.5  , 0.75 , 0.875, 0.875],\n",
       "       [0.75 , 0.125, 0.5  , 0.75 , 0.75 ]])"
      ]
     },
     "execution_count": 11,
     "metadata": {},
     "output_type": "execute_result"
    }
   ],
   "source": [
    "# note that we use QMCPy's DigitalNetB2 object rather than Lattice \n",
    "# this is because polynomial lattices are constructed like digital nets\n",
    "lnb_pl = DigitalNetB2(\n",
    "    dimension = 5,\n",
    "    randomize = False,\n",
    "    graycode = False,\n",
    "    generating_matrices = lnb_pl_p)\n",
    "x_qmcpy = lnb_pl.gen_samples(\n",
    "    n_min = 0,\n",
    "    n_max = 8,\n",
    "    warn = False)\n",
    "x_qmcpy"
   ]
  },
  {
   "cell_type": "code",
   "execution_count": 12,
   "metadata": {},
   "outputs": [],
   "source": [
    "if not (x_lnb==x_qmcpy).all():\n",
    "    raise Exception(\"Ordinary Lattice from latnetbuilder does not match QMCPy\")"
   ]
  },
  {
   "cell_type": "markdown",
   "metadata": {},
   "source": [
    "## Sobol'"
   ]
  },
  {
   "cell_type": "code",
   "execution_count": 13,
   "metadata": {},
   "outputs": [
    {
     "name": "stdout",
     "output_type": "stream",
     "text": [
      "Result:\n",
      "Number of points: 8\n",
      "Direction numbers: [[0], [1], [1, 1], [1, 1, 1], [1, 1, 1]]\n",
      "Merit value: 29.375 \n",
      "CPU Time: 0.00065803 seconds\n"
     ]
    }
   ],
   "source": [
    "search = latnetbuilder.SearchNet()\n",
    "search.modulus = '2^3'\n",
    "search.construction = 'sobol'\n",
    "search.dimension = 5\n",
    "search.exploration_method = 'full-CBC'\n",
    "search.figure_of_merit = 'CU:P2'\n",
    "search.weights = ['product:1']\n",
    "search.execute(output_folder='./lnb/lnb_sobol')"
   ]
  },
  {
   "cell_type": "code",
   "execution_count": 14,
   "metadata": {},
   "outputs": [
    {
     "data": {
      "text/plain": [
       "array([[0.   , 0.   , 0.   , 0.   , 0.   ],\n",
       "       [0.5  , 0.5  , 0.5  , 0.5  , 0.5  ],\n",
       "       [0.25 , 0.75 , 0.25 , 0.25 , 0.25 ],\n",
       "       [0.75 , 0.25 , 0.75 , 0.75 , 0.75 ],\n",
       "       [0.125, 0.625, 0.875, 0.125, 0.125],\n",
       "       [0.625, 0.125, 0.375, 0.625, 0.625],\n",
       "       [0.375, 0.375, 0.625, 0.375, 0.375],\n",
       "       [0.875, 0.875, 0.125, 0.875, 0.875]])"
      ]
     },
     "execution_count": 14,
     "metadata": {},
     "output_type": "execute_result"
    }
   ],
   "source": [
    "x_lnb = search.points()\n",
    "x_lnb"
   ]
  },
  {
   "cell_type": "code",
   "execution_count": 15,
   "metadata": {},
   "outputs": [
    {
     "data": {
      "text/plain": [
       "'./lnb/lnb_qmcpy_linked/lnb_sobol.5.3.3.msb.npy'"
      ]
     },
     "execution_count": 15,
     "metadata": {},
     "output_type": "execute_result"
    }
   ],
   "source": [
    "lnb_s_p = latnetbuilder_linker(\n",
    "    lnb_dir = './lnb/lnb_sobol',\n",
    "    out_dir = './lnb/lnb_qmcpy_linked',\n",
    "    fout_prefix = 'lnb_sobol')\n",
    "lnb_s_p"
   ]
  },
  {
   "cell_type": "code",
   "execution_count": 16,
   "metadata": {},
   "outputs": [
    {
     "data": {
      "text/plain": [
       "array([[0.   , 0.   , 0.   , 0.   , 0.   ],\n",
       "       [0.5  , 0.5  , 0.5  , 0.5  , 0.5  ],\n",
       "       [0.25 , 0.75 , 0.25 , 0.25 , 0.25 ],\n",
       "       [0.75 , 0.25 , 0.75 , 0.75 , 0.75 ],\n",
       "       [0.125, 0.625, 0.875, 0.125, 0.125],\n",
       "       [0.625, 0.125, 0.375, 0.625, 0.625],\n",
       "       [0.375, 0.375, 0.625, 0.375, 0.375],\n",
       "       [0.875, 0.875, 0.125, 0.875, 0.875]])"
      ]
     },
     "execution_count": 16,
     "metadata": {},
     "output_type": "execute_result"
    }
   ],
   "source": [
    "lnb_sobol = DigitalNetB2(\n",
    "    dimension = 5,\n",
    "    randomize = False,\n",
    "    graycode = False,\n",
    "    generating_matrices = lnb_s_p)\n",
    "x_qmcpy = lnb_sobol.gen_samples(\n",
    "    n_min = 0,\n",
    "    n_max = 8,\n",
    "    warn = False)\n",
    "x_qmcpy"
   ]
  },
  {
   "cell_type": "code",
   "execution_count": 17,
   "metadata": {},
   "outputs": [],
   "source": [
    "if not (x_lnb==x_qmcpy).all():\n",
    "    raise Exception(\"Ordinary Lattice from latnetbuilder does not match QMCPy\")"
   ]
  },
  {
   "cell_type": "markdown",
   "metadata": {},
   "source": [
    "## Output Directories"
   ]
  },
  {
   "cell_type": "code",
   "execution_count": 18,
   "metadata": {},
   "outputs": [
    {
     "data": {
      "text/plain": [
       "['lnb_sobol.5.3.3.msb.npy',\n",
       " 'lnb_ordinary_lattice.5.3.npy',\n",
       " 'lnb_polynomial_lattice.5.3.3.msb.npy']"
      ]
     },
     "execution_count": 18,
     "metadata": {},
     "output_type": "execute_result"
    }
   ],
   "source": [
    "# list output vectors / matricies\n",
    "os.listdir('./lnb/lnb_qmcpy_linked')"
   ]
  },
  {
   "cell_type": "code",
   "execution_count": 19,
   "metadata": {},
   "outputs": [],
   "source": [
    "# delete lnb dir\n",
    "import shutil\n",
    "shutil.rmtree('./lnb')"
   ]
  },
  {
   "cell_type": "code",
   "execution_count": null,
   "metadata": {},
   "outputs": [],
   "source": []
  }
 ],
 "metadata": {
  "kernelspec": {
   "display_name": "Python 3",
   "language": "python",
   "name": "python3"
  },
  "language_info": {
   "codemirror_mode": {
    "name": "ipython",
    "version": 3
   },
   "file_extension": ".py",
   "mimetype": "text/x-python",
   "name": "python",
   "nbconvert_exporter": "python",
   "pygments_lexer": "ipython3",
   "version": "3.7.0"
  }
 },
 "nbformat": 4,
 "nbformat_minor": 4
}
